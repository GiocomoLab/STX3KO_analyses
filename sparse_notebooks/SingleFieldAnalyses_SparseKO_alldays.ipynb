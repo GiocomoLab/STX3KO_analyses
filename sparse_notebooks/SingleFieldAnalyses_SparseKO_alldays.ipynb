{
 "cells": [
  {
   "cell_type": "code",
   "execution_count": 1,
   "id": "7bb9343d-e5a9-4876-ac26-b08f4b8a7bd1",
   "metadata": {},
   "outputs": [],
   "source": [
    "import os\n",
    "import joblib\n",
    "import pickle\n",
    "\n",
    "import numpy as np\n",
    "import scipy as sp\n",
    "from matplotlib import pyplot as plt\n",
    "from matplotlib import gridspec\n",
    "\n",
    "import pandas as pd\n",
    "from pingouin import mixed_anova, anova, pairwise_tukey, pairwise_tests\n",
    "import pingouin as pg\n",
    "from statsmodels.regression.mixed_linear_model import MixedLM\n",
    "import statsmodels.formula.api as smf\n",
    "\n",
    "import TwoPUtils as tpu\n",
    "import STX3KO_analyses as stx\n",
    "from STX3KO_analyses import utilities_ES as u\n",
    "\n",
    "\n",
    "\n",
    "plt.rcParams['pdf.fonttype']=42\n",
    "%matplotlib inline\n",
    "\n",
    "%load_ext autoreload\n",
    "%autoreload 2"
   ]
  },
  {
   "cell_type": "code",
   "execution_count": null,
   "id": "3522e251-73bf-46d3-809f-f7b3bb75f254",
   "metadata": {},
   "outputs": [],
   "source": []
  },
  {
   "cell_type": "code",
   "execution_count": 2,
   "id": "d8abc4f6-ec9d-4c01-a416-92517de5a5df",
   "metadata": {},
   "outputs": [],
   "source": [
    "# load session\n",
    "sparse_sessions = stx.ymaze_sess_deets.SparseKO_sessions\n",
    "mouse = 'SparseKO_13'\n",
    "d = sparse_sessions[mouse][6]\n",
    "date, scene, session, scan = d['date'], d['scene'], d['session'], d['scan']\n",
    "\n",
    "\n",
    "\n",
    "pkldir = os.path.join('C://Users/esay/data/Stx3/YMazeSessPkls/', mouse,  date, f'{scene}_{session}.pkl')\n",
    "sess = stx.session.YMazeSession.from_file(pkldir, verbose=False)\n"
   ]
  },
  {
   "cell_type": "code",
   "execution_count": 11,
   "id": "baec9e5c-1e31-4cbb-859a-f28401b4b08f",
   "metadata": {},
   "outputs": [
    {
     "data": {
      "text/plain": [
       "1"
      ]
     },
     "execution_count": 11,
     "metadata": {},
     "output_type": "execute_result"
    }
   ],
   "source": [
    "sess.novel_arm\n"
   ]
  },
  {
   "cell_type": "code",
   "execution_count": 3,
   "id": "651f72c7-4cf5-4749-b6df-912808fef64b",
   "metadata": {},
   "outputs": [
    {
     "name": "stdout",
     "output_type": "stream",
     "text": [
      "[-1. -1. -1. -1. -1. -1. -1. -1. -1. -1. -1. -1. -1. -1. -1. -1. -1. -1.\n",
      " -1. -1. -1. -1. -1. -1. -1. -1. -1. -1. -1. -1. -1. -1. -1. -1. -1. -1.\n",
      " -1. -1. -1. -1. -1. -1. -1. -1. -1. -1. -1. -1. -1. -1. -1. -1. -1. -1.\n",
      " -1. -1. -1. -1. -1. -1. -1. -1. -1. -1. -1. -1. -1. -1. -1. -1. -1. -1.\n",
      " -1. -1. -1. -1. -1. -1. -1. -1. -1. -1. -1. -1. -1. -1. -1. -1. -1. -1.\n",
      " -1. -1. -1. -1. -1. -1. -1. -1. -1. -1. -1.  1. -1. -1. -1.  1.  1. -1.\n",
      "  1. -1.  1. -1.  1.  1.  1.  1.  1.  1. -1.  1.  1. -1. -1.  1. -1. -1.\n",
      " -1. -1.  1.  1. -1. -1.  1.  1.  1.  1. -1. -1. -1. -1.] [ True  True  True  True  True  True  True  True  True  True  True  True\n",
      "  True  True  True  True  True  True  True  True  True  True  True  True\n",
      "  True  True  True  True  True  True  True  True  True  True  True  True\n",
      "  True  True  True  True  True  True  True  True  True  True  True  True\n",
      "  True  True  True  True  True  True  True  True  True  True  True  True\n",
      "  True  True  True  True  True  True  True  True  True  True  True  True\n",
      "  True  True  True  True  True  True  True  True  True  True  True  True\n",
      "  True  True  True  True  True  True  True  True  True  True  True  True\n",
      "  True  True  True  True  True False  True  True  True False False  True\n",
      " False  True False  True False False False False False False  True False\n",
      " False  True  True False  True  True  True  True False False  True  True\n",
      " False False False False  True  True  True  True]\n"
     ]
    }
   ],
   "source": [
    "trial_masks = {'channel_0_left': None,\n",
    "               'channel_0_right': None,\n",
    "               'channel_1_left': None,\n",
    "               'channel_1_right': None}\n",
    "# channel_0_mask = sess.trial_info['block_number']%2==0\n",
    "left_mask = sess.trial_info['LR']==-1\n",
    "print(sess.trial_info['LR'],left_mask)\n",
    "\n",
    "\n",
    "# trial_masks['channel_0_left'] = channel_0_mask*left_mask\n",
    "# trial_masks['channel_0_right'] = channel_0_mask*(~left_mask)\n",
    "# trial_masks['channel_1_left'] = (~channel_0_mask)*left_mask\n",
    "# trial_masks['channel_1_right'] = (~channel_0_mask)*(~left_mask)\n",
    "\n",
    "trial_masks['channel_0_left'] = left_mask\n",
    "trial_masks['channel_0_right'] = (~left_mask)\n",
    "trial_masks['channel_1_left'] = left_mask\n",
    "trial_masks['channel_1_right'] = (~left_mask)"
   ]
  },
  {
   "cell_type": "code",
   "execution_count": 4,
   "id": "23245d03-bf4d-4865-b92d-4a1483d7dc43",
   "metadata": {},
   "outputs": [
    {
     "data": {
      "text/plain": [
       "array([ True,  True,  True,  True, False, False, False, False, False,\n",
       "        True, False,  True, False,  True,  True,  True, False, False,\n",
       "       False, False,  True, False,  True,  True, False,  True,  True,\n",
       "       False, False,  True, False, False,  True,  True,  True, False,\n",
       "       False,  True,  True, False, False, False, False, False,  True,\n",
       "       False, False, False,  True,  True, False,  True, False, False,\n",
       "       False,  True,  True,  True,  True,  True,  True,  True, False,\n",
       "        True, False,  True,  True,  True,  True,  True,  True,  True,\n",
       "       False,  True, False, False, False, False, False, False,  True,\n",
       "       False,  True,  True, False, False,  True, False,  True, False,\n",
       "       False, False, False, False, False, False, False, False, False,\n",
       "       False, False,  True,  True, False, False, False, False,  True,\n",
       "       False, False,  True,  True,  True,  True, False, False, False,\n",
       "       False,  True, False, False, False])"
      ]
     },
     "execution_count": 4,
     "metadata": {},
     "output_type": "execute_result"
    }
   ],
   "source": [
    "sess.place_cell_info['channel_1_F_dff']['right']['masks']"
   ]
  },
  {
   "cell_type": "code",
   "execution_count": 28,
   "id": "c2db0447-7630-432c-83ff-765e31074132",
   "metadata": {},
   "outputs": [],
   "source": [
    "# pc mask\n",
    "\n",
    "chan0_mask_pf_left = sess.place_cell_info['channel_0_F_dff']['left']['masks']\n",
    "chan0_mask_pf_right = sess.place_cell_info['channel_0_F_dff']['right']['masks']\n",
    "chan1_mask_pf_left = sess.place_cell_info['channel_1_F_dff']['left']['masks']\n",
    "chan1_mask_pf_right = sess.place_cell_info['channel_1_F_dff']['right']['masks']\n",
    "\n",
    "chan1_mask = chan1_mask_pf_left | chan1_mask_pf_right\n",
    "chan0_mask = chan0_mask_pf_left | chan0_mask_pf_right\n",
    "\n",
    "F = sess.timeseries['channel_1_spks']\n",
    "F_chan1_mask = F[chan1_mask] \n",
    "\n",
    "F = sess.timeseries['channel_0_spks']\n",
    "F_chan0_mask = F[chan0_mask]"
   ]
  },
  {
   "cell_type": "code",
   "execution_count": 4,
   "id": "15c83f77-b34b-4f34-9ac9-10c92648fb14",
   "metadata": {},
   "outputs": [],
   "source": [
    "def run_shuffle(F, trial_starts, teleports, t, rng):\n",
    "    \n",
    "    F_shuff = np.zeros_like(F)\n",
    "    \n",
    "    for trial, (start, stop) in enumerate(zip(trial_starts, teleports)):\n",
    "        _F = 1*F[:,start:stop]    \n",
    "        _F = np.roll(_F,rng.integers(0,stop-start),axis=-1)\n",
    "        F_shuff[:,start:stop] = 1*_F\n",
    "        \n",
    "    tmat = tpu.spatial_analyses.trial_matrix(F_shuff.T,t, trial_starts,\n",
    "                                            teleports, min_pos=13, max_pos=43, bin_size=1, mat_only=True)\n",
    "    \n",
    "    return np.nanmean(tmat,axis=0)\n",
    "\n",
    "\n"
   ]
  },
  {
   "cell_type": "code",
   "execution_count": 30,
   "id": "103b9fe3-cd41-458b-b89c-46050693fa78",
   "metadata": {},
   "outputs": [],
   "source": [
    "# shuffle pc only \n",
    "\n",
    "rng = np.random.default_rng()\n",
    "\n",
    "shuff_thresh = {'channel_0_left': None,\n",
    "               'channel_0_right': None,\n",
    "               'channel_1_left': None,\n",
    "               'channel_1_right': None}\n",
    "\n",
    "\n",
    "F = F_chan0_mask\n",
    "starts, stops = sess.trial_start_inds[trial_masks['channel_0_left']], sess.teleport_inds[trial_masks['channel_0_left']]\n",
    "shuff_trial_mat = np.array(joblib.Parallel(n_jobs=-1)(joblib.delayed(run_shuffle)(F, starts, stops, sess.vr_data['t'], rng) for i in range(1000)))\n",
    "shuff_thresh['channel_0_left'] = np.nanpercentile(shuff_trial_mat[:, :, :], 99, axis=0)\n",
    "\n",
    "F = F_chan0_mask\n",
    "starts, stops = sess.trial_start_inds[trial_masks['channel_0_right']], sess.teleport_inds[trial_masks['channel_0_right']]\n",
    "shuff_trial_mat = np.array(joblib.Parallel(n_jobs=-1)(joblib.delayed(run_shuffle)(F, starts, stops, sess.vr_data['t'], rng) for i in range(1000)))\n",
    "shuff_thresh['channel_0_right'] = np.nanpercentile(shuff_trial_mat[:, :, :], 99, axis=0)\n",
    "\n",
    "\n",
    "F = F_chan1_mask\n",
    "starts, stops = sess.trial_start_inds[trial_masks['channel_1_left']], sess.teleport_inds[trial_masks['channel_1_left']]\n",
    "shuff_trial_mat = np.array(joblib.Parallel(n_jobs=-1)(joblib.delayed(run_shuffle)(F, starts, stops, sess.vr_data['t'], rng) for i in range(1000)))\n",
    "shuff_thresh['channel_1_left'] = np.nanpercentile(shuff_trial_mat[:, :, :], 99, axis=0)\n",
    "\n",
    "F = F_chan1_mask\n",
    "starts, stops = sess.trial_start_inds[trial_masks['channel_1_right']], sess.teleport_inds[trial_masks['channel_1_right']]\n",
    "shuff_trial_mat = np.array(joblib.Parallel(n_jobs=-1)(joblib.delayed(run_shuffle)(F, starts, stops, sess.vr_data['t'], rng) for i in range(1000)))\n",
    "shuff_thresh['channel_1_right'] = np.nanpercentile(shuff_trial_mat[:, :, :], 99, axis=0)\n"
   ]
  },
  {
   "cell_type": "code",
   "execution_count": 6,
   "id": "a7609b69-3857-4f71-baa8-6e110f775499",
   "metadata": {},
   "outputs": [
    {
     "data": {
      "text/plain": [
       "dict_keys(['channel_0_F', 'channel_0_Fneu', 'channel_1_F', 'channel_1_Fneu', 'channel_0_F_dff', 'channel_0_spks', 'channel_1_F_dff', 'channel_1_spks', 'licks', 'speed', 'channel_0_F_dff_speed_filt', 'channel_1_F_dff_speed_filt'])"
      ]
     },
     "execution_count": 6,
     "metadata": {},
     "output_type": "execute_result"
    }
   ],
   "source": [
    "sess.timeseries.keys()"
   ]
  },
  {
   "cell_type": "code",
   "execution_count": 5,
   "id": "b7db57ce-4952-4ddf-8b94-a26997cba84f",
   "metadata": {},
   "outputs": [
    {
     "name": "stdout",
     "output_type": "stream",
     "text": [
      "(1000, 30, 252)\n",
      "(1000, 30, 252)\n",
      "(1000, 30, 76)\n",
      "(1000, 30, 76)\n"
     ]
    }
   ],
   "source": [
    "# all cells\n",
    "\n",
    "rng = np.random.default_rng()\n",
    "nperms = 1000\n",
    "\n",
    "shuff_thresh = {'channel_0_left': None,\n",
    "               'channel_0_right': None,\n",
    "               'channel_1_left': None,\n",
    "               'channel_1_right': None}\n",
    "\n",
    "F = sess.timeseries['channel_0_F_dff_speed_filt']\n",
    "starts, stops = sess.trial_start_inds[trial_masks['channel_0_left']], sess.teleport_inds[trial_masks['channel_0_left']]\n",
    "shuff_trial_mat = np.array(joblib.Parallel(n_jobs=-1)(joblib.delayed(run_shuffle)(F, starts, stops, sess.vr_data['t'], rng) for i in range(nperms)))\n",
    "print(shuff_trial_mat.shape)\n",
    "shuff_thresh['channel_0_left'] = np.nanpercentile(shuff_trial_mat[:, :, :], 95, axis=0)\n",
    "\n",
    "F = sess.timeseries['channel_0_F_dff_speed_filt']\n",
    "starts, stops = sess.trial_start_inds[trial_masks['channel_0_right']], sess.teleport_inds[trial_masks['channel_0_right']]\n",
    "shuff_trial_mat = np.array(joblib.Parallel(n_jobs=-1)(joblib.delayed(run_shuffle)(F, starts, stops, sess.vr_data['t'], rng) for i in range(nperms)))\n",
    "print(shuff_trial_mat.shape)\n",
    "shuff_thresh['channel_0_right'] = np.nanpercentile(shuff_trial_mat[:, :, :], 95, axis=0)\n",
    "\n",
    "\n",
    "F = sess.timeseries['channel_1_F_dff_speed_filt']\n",
    "starts, stops = sess.trial_start_inds[trial_masks['channel_1_left']], sess.teleport_inds[trial_masks['channel_1_left']]\n",
    "shuff_trial_mat = np.array(joblib.Parallel(n_jobs=-1)(joblib.delayed(run_shuffle)(F, starts, stops, sess.vr_data['t'], rng) for i in range(nperms)))\n",
    "print(shuff_trial_mat.shape)\n",
    "shuff_thresh['channel_1_left'] = np.nanpercentile(shuff_trial_mat[:, :, :], 95, axis=0)\n",
    "\n",
    "F = sess.timeseries['channel_1_F_dff_speed_filt']\n",
    "starts, stops = sess.trial_start_inds[trial_masks['channel_1_right']], sess.teleport_inds[trial_masks['channel_1_right']]\n",
    "shuff_trial_mat = np.array(joblib.Parallel(n_jobs=-1)(joblib.delayed(run_shuffle)(F, starts, stops, sess.vr_data['t'], rng) for i in range(nperms)))\n",
    "print(shuff_trial_mat.shape)\n",
    "shuff_thresh['channel_1_right'] = np.nanpercentile(shuff_trial_mat[:, :, :], 95, axis=0)\n"
   ]
  },
  {
   "cell_type": "code",
   "execution_count": 22,
   "id": "42bd4996-8299-489a-8474-7925c8ee3000",
   "metadata": {},
   "outputs": [
    {
     "data": {
      "text/plain": [
       "array([ True,  True,  True,  True,  True,  True,  True,  True,  True,\n",
       "        True,  True,  True,  True,  True,  True,  True, False,  True,\n",
       "        True,  True,  True,  True,  True,  True,  True,  True,  True,\n",
       "        True,  True,  True, False,  True,  True,  True,  True,  True,\n",
       "       False,  True,  True,  True, False,  True,  True,  True, False,\n",
       "        True,  True,  True,  True,  True,  True,  True,  True, False,\n",
       "        True,  True, False,  True, False,  True,  True,  True,  True,\n",
       "        True,  True,  True,  True,  True,  True,  True,  True,  True,\n",
       "       False,  True,  True,  True,  True, False,  True,  True,  True,\n",
       "        True,  True, False, False,  True,  True,  True,  True, False,\n",
       "       False,  True,  True, False,  True,  True, False,  True,  True,\n",
       "        True,  True,  True, False,  True,  True,  True,  True, False,\n",
       "        True,  True, False,  True,  True,  True, False,  True,  True,\n",
       "        True,  True, False, False,  True,  True,  True,  True,  True,\n",
       "        True,  True, False, False,  True,  True,  True, False, False,\n",
       "        True, False,  True])"
      ]
     },
     "execution_count": 22,
     "metadata": {},
     "output_type": "execute_result"
    }
   ],
   "source": [
    "chan1_mask_pf_left"
   ]
  },
  {
   "cell_type": "code",
   "execution_count": 31,
   "id": "48415fc3-a0ef-4a68-bf20-df41ee9ba600",
   "metadata": {},
   "outputs": [],
   "source": [
    "# pc only \n",
    "\n",
    "trial_means = {'channel_0_left': np.nanmean(sess.trial_matrices['channel_0_spks'][trial_masks['channel_0_left'], : , :][...,chan0_mask_pf_left]),\n",
    "               'channel_0_right': np.nanmean(sess.trial_matrices['channel_0_spks'][trial_masks['channel_0_right'], : , :][...,chan0_mask_pf_right]),\n",
    "               'channel_1_left': np.nanmean(sess.trial_matrices['channel_1_spks'][trial_masks['channel_1_left'], : , :][...,chan1_mask_pf_left]),\n",
    "               'channel_1_right': np.nanmean(sess.trial_matrices['channel_1_spks'][trial_masks['channel_1_right'], : , :][...,chan1_mask_pf_right]),\n",
    "              }"
   ]
  },
  {
   "cell_type": "code",
   "execution_count": 6,
   "id": "bf4246c2-21bb-48d8-830f-ee2f02a9d0eb",
   "metadata": {},
   "outputs": [],
   "source": [
    "# all cells\n",
    "\n",
    "trial_means = {'channel_0_left': np.nanmean(sess.trial_matrices['channel_0_F_dff_speed_filt'][trial_masks['channel_0_left'], : , :],axis=0),\n",
    "               'channel_0_right': np.nanmean(sess.trial_matrices['channel_0_F_dff_speed_filt'][trial_masks['channel_0_right'], : , :], axis=0),\n",
    "               'channel_1_left': np.nanmean(sess.trial_matrices['channel_1_F_dff_speed_filt'][trial_masks['channel_1_left'], : , :],axis=0),\n",
    "               'channel_1_right': np.nanmean(sess.trial_matrices['channel_1_F_dff_speed_filt'][trial_masks['channel_1_right'], : , :],axis=0),\n",
    "              }"
   ]
  },
  {
   "cell_type": "code",
   "execution_count": 7,
   "id": "684caac6-1d28-4869-9cfe-76ac0ab6b854",
   "metadata": {},
   "outputs": [
    {
     "data": {
      "text/plain": [
       "{'channel_0_left': array([[0.60494842, 0.81437263, 0.53549011, ..., 0.07836618, 0.02625004,\n",
       "         0.0522942 ],\n",
       "        [0.5510834 , 0.96736348, 0.49191568, ..., 0.09530121, 0.02281395,\n",
       "         0.04639385],\n",
       "        [0.47221947, 1.12003655, 0.41626562, ..., 0.10706213, 0.02034406,\n",
       "         0.04089239],\n",
       "        ...,\n",
       "        [0.06371107, 0.06284305, 0.04129375, ..., 0.01878888, 0.03725394,\n",
       "         0.05075006],\n",
       "        [0.06262451, 0.05911469, 0.05079397, ..., 0.0166877 , 0.03786591,\n",
       "         0.04845347],\n",
       "        [0.06308342, 0.06273303, 0.06989887, ..., 0.01579397, 0.03378483,\n",
       "         0.04117502]]),\n",
       " 'channel_0_right': array([[0.09613743, 0.11102765, 0.77631802, ..., 0.03696192, 0.02950982,\n",
       "         0.04221187],\n",
       "        [0.08508038, 0.10964143, 0.74883524, ..., 0.04281896, 0.02892543,\n",
       "         0.03900607],\n",
       "        [0.07538555, 0.10784506, 0.67986407, ..., 0.05017234, 0.0289109 ,\n",
       "         0.03746552],\n",
       "        ...,\n",
       "        [0.07685621, 0.07227346, 0.04803877, ..., 0.0218651 , 0.0265144 ,\n",
       "         0.04206243],\n",
       "        [0.0698058 , 0.08033435, 0.05494796, ..., 0.03874982, 0.02120772,\n",
       "         0.04675866],\n",
       "        [0.06275108, 0.07858663, 0.06463561, ..., 0.03163585, 0.02630544,\n",
       "         0.04867406]]),\n",
       " 'channel_1_left': array([[0.11284925, 0.12626021, 0.12189069, ..., 0.11426862, 0.12824823,\n",
       "         0.20189234],\n",
       "        [0.09459151, 0.09898428, 0.08868711, ..., 0.09462556, 0.09222195,\n",
       "         0.13652714],\n",
       "        [0.07732556, 0.07475393, 0.06285109, ..., 0.07313186, 0.06783371,\n",
       "         0.08198083],\n",
       "        ...,\n",
       "        [0.15910146, 0.34731273, 0.25705768, ..., 0.07808601, 0.11994654,\n",
       "         0.13281628],\n",
       "        [0.147591  , 0.32611543, 0.24320099, ..., 0.09005114, 0.1348405 ,\n",
       "         0.16088701],\n",
       "        [0.12816523, 0.32264547, 0.19856399, ..., 0.08916017, 0.15371574,\n",
       "         0.19093332]]),\n",
       " 'channel_1_right': array([[0.24252758, 0.17319682, 0.13641099, ..., 0.07535843, 0.15643858,\n",
       "         0.18020006],\n",
       "        [0.21049302, 0.12753849, 0.09794674, ..., 0.06255042, 0.1344051 ,\n",
       "         0.11629004],\n",
       "        [0.17056596, 0.08809034, 0.06990801, ..., 0.05885173, 0.0971196 ,\n",
       "         0.06116794],\n",
       "        ...,\n",
       "        [0.15742466, 0.96181102, 0.14243279, ..., 0.14200173, 0.13947048,\n",
       "         0.22418392],\n",
       "        [0.14559944, 0.77639681, 0.13371827, ..., 0.1221804 , 0.14496601,\n",
       "         0.21034033],\n",
       "        [0.12360837, 0.71313766, 0.11180002, ..., 0.12974615, 0.19118221,\n",
       "         0.21649907]])}"
      ]
     },
     "execution_count": 7,
     "metadata": {},
     "output_type": "execute_result"
    }
   ],
   "source": [
    "trial_means"
   ]
  },
  {
   "cell_type": "code",
   "execution_count": 36,
   "id": "7b0d5b6d-a8a0-47ed-b4e5-fa86cb4232ba",
   "metadata": {},
   "outputs": [],
   "source": [
    "shuff_results = {}\n",
    "shuff_results[mouse] = {}\n",
    "shuff_results[mouse][0] = shuff_thresh"
   ]
  },
  {
   "cell_type": "code",
   "execution_count": 11,
   "id": "7e2695b6-832f-4768-96fe-797e783de906",
   "metadata": {},
   "outputs": [
    {
     "data": {
      "text/plain": [
       "(30, 282)"
      ]
     },
     "execution_count": 11,
     "metadata": {},
     "output_type": "execute_result"
    }
   ],
   "source": [
    "trial_means['channel_0_left'].shape\n"
   ]
  },
  {
   "cell_type": "code",
   "execution_count": 33,
   "id": "b497dc47-ff88-4f1d-a1eb-22ef782213e4",
   "metadata": {},
   "outputs": [
    {
     "data": {
      "text/plain": [
       "{'channel_0_left': array([[0.00193668, 0.00585594, 0.00073183, ..., 0.00261801, 0.00338083,\n",
       "         0.00159886],\n",
       "        [0.00184028, 0.01048519, 0.00080811, ..., 0.00304635, 0.00417597,\n",
       "         0.00200416],\n",
       "        [0.00187166, 0.00834746, 0.00074361, ..., 0.00255053, 0.00360011,\n",
       "         0.0019171 ],\n",
       "        ...,\n",
       "        [0.00200739, 0.01190332, 0.00404539, ..., 0.00230541, 0.00281012,\n",
       "         0.00173137],\n",
       "        [0.00197567, 0.0091917 , 0.00195185, ..., 0.00217645, 0.00354099,\n",
       "         0.00157387],\n",
       "        [0.00210958, 0.00087232, 0.00282074, ..., 0.00279267, 0.00440266,\n",
       "         0.00281128]]),\n",
       " 'channel_0_right': array([[0.00255496, 0.00168852, 0.00108001, ..., 0.00220831, 0.00301067,\n",
       "         0.00324426],\n",
       "        [0.00171884, 0.00173861, 0.00163314, ..., 0.001918  , 0.00292296,\n",
       "         0.00249369],\n",
       "        [0.00119541, 0.00267419, 0.00150684, ..., 0.00164487, 0.00308475,\n",
       "         0.00245374],\n",
       "        ...,\n",
       "        [0.00211096, 0.00198457, 0.00079554, ..., 0.00306562, 0.00119597,\n",
       "         0.00574548],\n",
       "        [0.00219623, 0.001718  , 0.0010127 , ..., 0.0027883 , 0.00262505,\n",
       "         0.00200883],\n",
       "        [0.00236965, 0.00149364, 0.00074013, ..., 0.00208999, 0.00276832,\n",
       "         0.00264896]]),\n",
       " 'channel_1_left': array([[0.01166177, 0.02617913, 0.01992134, ..., 0.00446912, 0.0157802 ,\n",
       "         0.01151837],\n",
       "        [0.01245272, 0.02759203, 0.01855743, ..., 0.00585728, 0.0159795 ,\n",
       "         0.00894286],\n",
       "        [0.010563  , 0.02904707, 0.02030484, ..., 0.00672266, 0.01512507,\n",
       "         0.01037053],\n",
       "        ...,\n",
       "        [0.00873148, 0.02913641, 0.02128385, ..., 0.00370261, 0.01342531,\n",
       "         0.00730097],\n",
       "        [0.00988895, 0.02939866, 0.02319314, ..., 0.00406447, 0.01337084,\n",
       "         0.00709339],\n",
       "        [0.01520823, 0.03547048, 0.0105693 , ..., 0.00421828, 0.01896477,\n",
       "         0.01249449]]),\n",
       " 'channel_1_right': array([[0.01192026, 0.05303116, 0.00497225, ..., 0.00713304, 0.0516231 ,\n",
       "         0.00909975],\n",
       "        [0.00936452, 0.05092822, 0.00519765, ..., 0.00797863, 0.04183751,\n",
       "         0.01115173],\n",
       "        [0.00590992, 0.05159904, 0.00581144, ..., 0.00772707, 0.04482599,\n",
       "         0.00890123],\n",
       "        ...,\n",
       "        [0.00395422, 0.044297  , 0.00643313, ..., 0.00590499, 0.05912968,\n",
       "         0.00811596],\n",
       "        [0.00826031, 0.04927812, 0.00257698, ..., 0.00499605, 0.06422035,\n",
       "         0.0086988 ],\n",
       "        [0.01184583, 0.05769176, 0.00393924, ..., 0.00445188, 0.1139021 ,\n",
       "         0.00565616]])}"
      ]
     },
     "execution_count": 33,
     "metadata": {},
     "output_type": "execute_result"
    }
   ],
   "source": [
    "shuff_thresh"
   ]
  },
  {
   "cell_type": "code",
   "execution_count": 39,
   "id": "881030bc-4aed-4622-8c2e-500879f0c8e6",
   "metadata": {},
   "outputs": [],
   "source": [
    "def make_masks(sess):\n",
    "    trial_masks = {'channel_0_left': None,\n",
    "               'channel_0_right': None,\n",
    "               'channel_1_left': None,\n",
    "               'channel_1_right': None}\n",
    "\n",
    "    left_mask = sess.trial_info['LR']==-1\n",
    "    print(sess.trial_info['LR'],left_mask)\n",
    "    \n",
    "    trial_masks['channel_0_left'] = left_mask\n",
    "    trial_masks['channel_0_right'] = (~left_mask)\n",
    "    trial_masks['channel_1_left'] = left_mask\n",
    "    trial_masks['channel_1_right'] = (~left_mask)\n",
    "\n",
    "\n",
    "    chan0_mask_pf_left = sess.place_cell_info['channel_0_F_dff']['left']['masks']\n",
    "    chan0_mask_pf_right = sess.place_cell_info['channel_0_F_dff']['right']['masks']\n",
    "    chan1_mask_pf_left = sess.place_cell_info['channel_1_F_dff']['left']['masks']\n",
    "    chan1_mask_pf_right = sess.place_cell_info['channel_1_F_dff']['right']['masks']\n",
    "    \n",
    "    chan1_mask = chan1_mask_pf_left | chan1_mask_pf_right\n",
    "    chan0_mask = chan0_mask_pf_left | chan0_mask_pf_right\n",
    "    \n",
    "    F = sess.timeseries['channel_1_spks']\n",
    "    F_chan1_mask = F[chan1_mask] \n",
    "    \n",
    "    F = sess.timeseries['channel_0_spks']\n",
    "    F_chan0_mask = F[chan0_mask]\n",
    "\n",
    "    return trial_masks, F_chan1_mask, F_chan1_mask"
   ]
  },
  {
   "cell_type": "code",
   "execution_count": 39,
   "id": "d67c60c1-48d1-4fdb-b764-56e4f638e6a4",
   "metadata": {},
   "outputs": [
    {
     "data": {
      "text/plain": [
       "dict_keys(['channel_0_F_dff', 'bin_edges', 'bin_centers', 'channel_0_spks', 'channel_1_F_dff', 'channel_1_spks', 'licks', 'speed', 'channel_0_F_dff_speed_filt', 'channel_1_F_dff_speed_filt'])"
      ]
     },
     "execution_count": 39,
     "metadata": {},
     "output_type": "execute_result"
    }
   ],
   "source": [
    "sess.trial_matrices.keys()"
   ]
  },
  {
   "cell_type": "code",
   "execution_count": 40,
   "id": "e239a4bf-44e9-4ed0-894c-d7fe0aa82ab1",
   "metadata": {},
   "outputs": [],
   "source": [
    "trial_means = {}\n",
    "trial_means[mouse] = {}"
   ]
  },
  {
   "cell_type": "code",
   "execution_count": 41,
   "id": "0a731068-2fa4-47ca-800e-50c02687bb9e",
   "metadata": {},
   "outputs": [],
   "source": [
    "trial_means[mouse][0]= {'channel_0_nov_mean': np.nanmean(sess.trial_matrices['channel_0_F_dff_speed_filt'][trial_masks['channel_0_left'], : , :],axis=0),\n",
    "               'channel_0_fam_mean': np.nanmean(sess.trial_matrices['channel_0_F_dff_speed_filt'][trial_masks['channel_0_right'], : , :], axis=0),\n",
    "               'channel_1_nov_mean': np.nanmean(sess.trial_matrices['channel_1_F_dff_speed_filt'][trial_masks['channel_1_left'], : , :],axis=0),\n",
    "               'channel_1_fam_mean': np.nanmean(sess.trial_matrices['channel_1_F_dff_speed_filt'][trial_masks['channel_1_right'], : , :],axis=0),\n",
    "              }"
   ]
  },
  {
   "cell_type": "code",
   "execution_count": 14,
   "id": "91bb8648-6909-4331-80be-0366fc289dad",
   "metadata": {},
   "outputs": [],
   "source": [
    "sparse_mice = stx.ymaze_sess_deets.sparse_mice\n",
    "sparse_mice[3:4]\n",
    "shuff_results = {}\n",
    "trial_means = {}"
   ]
  },
  {
   "cell_type": "code",
   "execution_count": 18,
   "id": "dea01caa-4bad-49b1-b52d-8a47d183c207",
   "metadata": {},
   "outputs": [
    {
     "name": "stdout",
     "output_type": "stream",
     "text": [
      "SparseKO_13\n",
      "{'date': '24_05_2025', 'scene': 'YMaze_LNovel', 'session': 4, 'scan': 27, 'novel_arm': 1, 'exp_day': 1}\n",
      "[-1. -1. -1. -1. -1. -1. -1. -1. -1. -1. -1. -1. -1. -1. -1. -1. -1. -1.\n",
      " -1. -1. -1. -1. -1. -1. -1. -1. -1. -1. -1. -1. -1. -1. -1. -1. -1. -1.\n",
      " -1. -1. -1. -1. -1. -1. -1. -1. -1. -1. -1. -1. -1. -1. -1. -1. -1. -1.\n",
      " -1. -1. -1. -1. -1. -1. -1. -1. -1. -1. -1. -1. -1. -1. -1. -1. -1. -1.\n",
      " -1. -1. -1. -1. -1. -1. -1. -1. -1. -1. -1. -1. -1. -1. -1. -1. -1. -1.\n",
      " -1. -1. -1. -1. -1. -1. -1. -1. -1. -1. -1. -1.  1.  1.  1. -1. -1.  1.\n",
      " -1. -1. -1. -1.  1. -1.  1. -1. -1.  1. -1.  1. -1. -1. -1. -1. -1.  1.\n",
      "  1.  1.  1. -1. -1.  1.  1.  1.  1. -1.  1.  1. -1.  1.] [ True  True  True  True  True  True  True  True  True  True  True  True\n",
      "  True  True  True  True  True  True  True  True  True  True  True  True\n",
      "  True  True  True  True  True  True  True  True  True  True  True  True\n",
      "  True  True  True  True  True  True  True  True  True  True  True  True\n",
      "  True  True  True  True  True  True  True  True  True  True  True  True\n",
      "  True  True  True  True  True  True  True  True  True  True  True  True\n",
      "  True  True  True  True  True  True  True  True  True  True  True  True\n",
      "  True  True  True  True  True  True  True  True  True  True  True  True\n",
      "  True  True  True  True  True  True False False False  True  True False\n",
      "  True  True  True  True False  True False  True  True False  True False\n",
      "  True  True  True  True  True False False False False  True  True False\n",
      " False False False  True False False  True False]\n",
      "{'date': '25_05_2025', 'scene': 'YMaze_LNovel', 'session': 2, 'scan': 8, 'novel_arm': 1, 'exp_day': 2}\n",
      "[-1. -1. -1. -1. -1. -1. -1. -1. -1. -1. -1. -1. -1. -1. -1. -1. -1. -1.\n",
      " -1. -1. -1. -1. -1. -1. -1. -1. -1. -1. -1. -1. -1. -1. -1. -1. -1. -1.\n",
      " -1. -1. -1. -1. -1. -1. -1. -1. -1. -1. -1. -1. -1. -1. -1. -1. -1. -1.\n",
      " -1. -1. -1. -1. -1. -1. -1. -1. -1. -1. -1. -1. -1. -1. -1. -1. -1. -1.\n",
      " -1. -1. -1. -1. -1. -1. -1. -1. -1. -1. -1. -1. -1. -1. -1. -1. -1. -1.\n",
      " -1. -1. -1. -1. -1. -1. -1. -1. -1. -1. -1.  1.  1.  1. -1. -1.  1. -1.\n",
      "  1.  1.  1. -1.  1. -1. -1. -1.  1. -1.  1. -1. -1.  1.  1. -1. -1.  1.\n",
      "  1. -1. -1. -1. -1. -1. -1. -1.  1.  1. -1. -1.  1.  1.] [ True  True  True  True  True  True  True  True  True  True  True  True\n",
      "  True  True  True  True  True  True  True  True  True  True  True  True\n",
      "  True  True  True  True  True  True  True  True  True  True  True  True\n",
      "  True  True  True  True  True  True  True  True  True  True  True  True\n",
      "  True  True  True  True  True  True  True  True  True  True  True  True\n",
      "  True  True  True  True  True  True  True  True  True  True  True  True\n",
      "  True  True  True  True  True  True  True  True  True  True  True  True\n",
      "  True  True  True  True  True  True  True  True  True  True  True  True\n",
      "  True  True  True  True  True False False False  True  True False  True\n",
      " False False False  True False  True  True  True False  True False  True\n",
      "  True False False  True  True False False  True  True  True  True  True\n",
      "  True  True False False  True  True False False]\n"
     ]
    }
   ],
   "source": [
    "\n",
    "\n",
    "# sess = stx.session.YMazeSession.from_file(pkldir, verbose=False)\n",
    "for mouse in sparse_mice[3:4]:\n",
    "    print(mouse)\n",
    "    shuff_results[mouse] = {}\n",
    "    trial_means[mouse] = {}\n",
    "    for day in range(4,6):\n",
    "        shuff_results[mouse][day] = {}\n",
    "        trial_means[mouse][day] = {}\n",
    "\n",
    "        sess = u.load_single_day(mouse, day)\n",
    "        trial_masks, F_chan1_mask, F_chan1_mask = make_masks(sess)\n",
    "\n",
    "\n",
    "        rng = np.random.default_rng()\n",
    "\n",
    "        shuff_thresh = {'channel_0_left': None,\n",
    "                       'channel_0_right': None,\n",
    "                       'channel_1_left': None,\n",
    "                       'channel_1_right': None}\n",
    "        \n",
    "        F = F_chan0_mask\n",
    "        starts, stops = sess.trial_start_inds[trial_masks['channel_0_left']], sess.teleport_inds[trial_masks['channel_0_left']]\n",
    "        shuff_trial_mat = np.array(joblib.Parallel(n_jobs=-1)(joblib.delayed(run_shuffle)(F, starts, stops, sess.vr_data['t'], rng) for i in range(1000)))\n",
    "        shuff_thresh['channel_0_left'] = np.nanpercentile(shuff_trial_mat[:, :, :], 99, axis=0)\n",
    "        \n",
    "        F = F_chan0_mask\n",
    "        starts, stops = sess.trial_start_inds[trial_masks['channel_0_right']], sess.teleport_inds[trial_masks['channel_0_right']]\n",
    "        shuff_trial_mat = np.array(joblib.Parallel(n_jobs=-1)(joblib.delayed(run_shuffle)(F, starts, stops, sess.vr_data['t'], rng) for i in range(1000)))\n",
    "        shuff_thresh['channel_0_right'] = np.nanpercentile(shuff_trial_mat[:, :, :], 99, axis=0)\n",
    "        \n",
    "        \n",
    "        F = F_chan1_mask\n",
    "        starts, stops = sess.trial_start_inds[trial_masks['channel_1_left']], sess.teleport_inds[trial_masks['channel_1_left']]\n",
    "        shuff_trial_mat = np.array(joblib.Parallel(n_jobs=-1)(joblib.delayed(run_shuffle)(F, starts, stops, sess.vr_data['t'], rng) for i in range(1000)))\n",
    "        shuff_thresh['channel_1_left'] = np.nanpercentile(shuff_trial_mat[:, :, :], 99, axis=0)\n",
    "        \n",
    "        F = F_chan1_mask\n",
    "        starts, stops = sess.trial_start_inds[trial_masks['channel_1_right']], sess.teleport_inds[trial_masks['channel_1_right']]\n",
    "        shuff_trial_mat = np.array(joblib.Parallel(n_jobs=-1)(joblib.delayed(run_shuffle)(F, starts, stops, sess.vr_data['t'], rng) for i in range(1000)))\n",
    "        shuff_thresh['channel_1_right'] = np.nanpercentile(shuff_trial_mat[:, :, :], 99, axis=0)\n",
    "\n",
    "        shuff_results[mouse][day] = shuff_thresh # save to shuff_results\n",
    "\n",
    "        if sess.novel_arm == -1:\n",
    "            trial_means[mouse][day]= {'channel_0_nov_mean': np.nanmean(sess.trial_matrices['channel_0_F_dff_speed_filt'][trial_masks['channel_0_left'], : , :],axis=0),\n",
    "               'channel_0_fam_mean': np.nanmean(sess.trial_matrices['channel_0_F_dff_speed_filt'][trial_masks['channel_0_right'], : , :], axis=0),\n",
    "               'channel_1_nov_mean': np.nanmean(sess.trial_matrices['channel_1_F_dff_speed_filt'][trial_masks['channel_1_left'], : , :],axis=0),\n",
    "               'channel_1_fam_mean': np.nanmean(sess.trial_matrices['channel_1_F_dff_speed_filt'][trial_masks['channel_1_right'], : , :],axis=0),\n",
    "              }\n",
    "        elif sess.novel_arm == 1:\n",
    "            trial_means[mouse][day] = {'channel_0_fam_mean': np.nanmean(sess.trial_matrices['channel_0_F_dff_speed_filt'][trial_masks['channel_0_left'], : , :],axis=0),\n",
    "               'channel_0_nov_mean': np.nanmean(sess.trial_matrices['channel_0_F_dff_speed_filt'][trial_masks['channel_0_right'], : , :], axis=0),\n",
    "               'channel_1_fam_mean': np.nanmean(sess.trial_matrices['channel_1_F_dff_speed_filt'][trial_masks['channel_1_left'], : , :],axis=0),\n",
    "               'channel_1_nov_mean': np.nanmean(sess.trial_matrices['channel_1_F_dff_speed_filt'][trial_masks['channel_1_right'], : , :],axis=0),\n",
    "              }\n"
   ]
  },
  {
   "cell_type": "code",
   "execution_count": 19,
   "id": "b36f73bb-b347-4880-b4a6-9500812b367a",
   "metadata": {
    "scrolled": true
   },
   "outputs": [
    {
     "data": {
      "text/plain": [
       "dict_keys(['SparseKO_13'])"
      ]
     },
     "execution_count": 19,
     "metadata": {},
     "output_type": "execute_result"
    }
   ],
   "source": [
    "shuff_results.keys()"
   ]
  },
  {
   "cell_type": "code",
   "execution_count": 70,
   "id": "2777ff68-7e46-459e-9f6d-739dc6c27e6b",
   "metadata": {},
   "outputs": [],
   "source": [
    "import pickle \n",
    "with open('C://Users/esay/data/Stx3/YMazeSessPkls/place_field_shuff_results.pkl','wb') as file:\n",
    "        pickle.dump(shuff_results,file)"
   ]
  },
  {
   "cell_type": "code",
   "execution_count": 8,
   "id": "5ecad41e-fe4e-4d89-92c8-223227d32aac",
   "metadata": {},
   "outputs": [
    {
     "name": "stdout",
     "output_type": "stream",
     "text": [
      "channel_0_left (30, 252)\n",
      "channel_0_right (30, 252)\n",
      "channel_1_left (30, 76)\n",
      "channel_1_right (30, 76)\n"
     ]
    }
   ],
   "source": [
    "field_info = {'channel_0_left': [],\n",
    "               'channel_0_right': [],\n",
    "               'channel_1_left': [],\n",
    "               'channel_1_right': []}\n",
    "\n",
    "for k, thresh in shuff_thresh.items():\n",
    "    print(k, thresh.shape)\n",
    "    sig_bins = trial_means[k]>thresh\n",
    "\n",
    "    # eliminate fields that start at first bin of track or end at last bin of track\n",
    "    \n",
    "\n",
    "    ledges = np.argwhere(sig_bins[1:,:]>sig_bins[:-1,:])\n",
    "    \n",
    "    for _ledge in ledges:\n",
    "\n",
    "        rem_trial = sig_bins[_ledge[0]:,_ledge[1]]\n",
    "        _redge = np.argwhere(rem_trial[1:]<rem_trial[:-1])\n",
    "        # print(_redge.size)\n",
    "        if (_redge.shape[0]>0) and (_redge[0][0]>2) and (_redge[0][0]<15) and (_ledge[0]>0) and ((_redge[0][0]+_ledge[0])<29):\n",
    "        # if (_redge.shape[0]>0):\n",
    "        # if (_redge.shape[0]>0):\n",
    "            field_info[k].append([_ledge[1], _ledge[0], _redge[0][0]])\n",
    "        \n",
    "\n",
    "            # fig, ax = plt.subplots()\n",
    "            # ax.plot(trial_means[k][:,_ledge[1]\n",
    "            # if 'channel_0' in k:\n",
    "            #     ax.imshow(sess.trial_matrices['channel_0_F_dff'][trial_masks[k],:, _ledge[1]])\n",
    "            #     ax.plot(_ledge[0]*np.ones([2,]), [0, trial_masks[k].sum()], color='red')\n",
    "            #     ax.plot((_ledge[0]+_redge[0][0])*np.ones([2,]), [0, trial_masks[k].sum()], color='red')\n",
    "            # else:\n",
    "            #     ax.imshow(sess.trial_matrices['channel_1_F_dff'][trial_masks[k],:, _ledge[1]])\n",
    "            #     ax.plot(_ledge[0]*np.ones([2,]), [0, trial_masks[k].sum()], color='red')\n",
    "            #     ax.plot((_ledge[0]+_redge[0][0])*np.ones([2,]), [0, trial_masks[k].sum()], color='red')\n",
    "            # print(trial_means[k].shape)\n",
    "        # ax.imshow(trial_means[k][:,_ledge[1]])\n",
    "\n",
    "for k,v in field_info.items():\n",
    "    field_info[k]=np.array(v)"
   ]
  },
  {
   "cell_type": "code",
   "execution_count": 9,
   "id": "081af379-1945-4ff3-ab45-57dc2c897b7f",
   "metadata": {},
   "outputs": [
    {
     "data": {
      "text/plain": [
       "(array([0.79310345, 0.20689655, 0.        , 0.        ]),\n",
       " array([1., 2., 3., 4., 5.]),\n",
       " <BarContainer object of 4 artists>)"
      ]
     },
     "execution_count": 9,
     "metadata": {},
     "output_type": "execute_result"
    },
    {
     "data": {
      "image/png": "[encoded data removed]",
      "text/plain": [
       "<Figure size 640x480 with 4 Axes>"
      ]
     },
     "metadata": {},
     "output_type": "display_data"
    }
   ],
   "source": [
    "fig, ax = plt.subplots(2,2)\n",
    "\n",
    "width_bins = np.arange(2,15)\n",
    "field_bins = np.arange(1,6)\n",
    "##\n",
    "fi = field_info['channel_0_left']\n",
    "ax[0,0].hist(fi[:,2], bins=width_bins, color='red', alpha=.4, density=True)\n",
    "\n",
    "cell_list = np.unique(fi[:,0])\n",
    "nfields = np.array([np.count_nonzero(fi[:,0]==cell) for cell in cell_list])\n",
    "ax[1,0].hist(nfields, bins=field_bins, color='red', alpha=.4, density=True)\n",
    "\n",
    "##\n",
    "fi = field_info['channel_1_left']\n",
    "ax[0,0].hist(fi[:,2], bins=width_bins, color='black', alpha=.4, density=True)\n",
    "\n",
    "cell_list = np.unique(fi[:,0])\n",
    "nfields = np.array([np.count_nonzero(fi[:,0]==cell) for cell in cell_list])\n",
    "ax[1,0].hist(nfields, bins=field_bins, color='black', alpha=.4, density=True)\n",
    "\n",
    "##\n",
    "fi = field_info['channel_0_right']\n",
    "ax[0,1].hist(fi[:,2], bins=width_bins, color='red', alpha=.4, density=True)\n",
    "\n",
    "cell_list = np.unique(fi[:,0])\n",
    "nfields = np.array([np.count_nonzero(fi[:,0]==cell) for cell in cell_list])\n",
    "ax[1,1].hist(nfields, bins=field_bins, color='red', alpha=.4, density=True)\n",
    "\n",
    "\n",
    "##\n",
    "fi = field_info['channel_1_right']\n",
    "ax[0,1].hist(fi[:,2], bins=width_bins, color='black', alpha=.4, density=True)\n",
    "\n",
    "cell_list = np.unique(fi[:,0])\n",
    "nfields = np.array([np.count_nonzero(fi[:,0]==cell) for cell in cell_list])\n",
    "ax[1,1].hist(nfields, bins=field_bins, color='black', alpha=.4, density=True)\n",
    "\n",
    "\n",
    "    "
   ]
  },
  {
   "cell_type": "code",
   "execution_count": 43,
   "id": "451b8f7f-6310-4ec8-92ae-078472060a60",
   "metadata": {},
   "outputs": [
    {
     "data": {
      "text/plain": [
       "(152, 3)"
      ]
     },
     "execution_count": 43,
     "metadata": {},
     "output_type": "execute_result"
    }
   ],
   "source": [
    "field_info['channel_0_left'].shape\n",
    "\n"
   ]
  },
  {
   "cell_type": "code",
   "execution_count": null,
   "id": "49fb3a24-9b6f-4dac-a933-6ca083018ae7",
   "metadata": {},
   "outputs": [],
   "source": []
  }
 ],
 "metadata": {
  "kernelspec": {
   "display_name": "Python 3 (ipykernel)",
   "language": "python",
   "name": "python3"
  },
  "language_info": {
   "codemirror_mode": {
    "name": "ipython",
    "version": 3
   },
   "file_extension": ".py",
   "mimetype": "text/x-python",
   "name": "python",
   "nbconvert_exporter": "python",
   "pygments_lexer": "ipython3",
   "version": "3.10.14"
  }
 },
 "nbformat": 4,
 "nbformat_minor": 5
}
