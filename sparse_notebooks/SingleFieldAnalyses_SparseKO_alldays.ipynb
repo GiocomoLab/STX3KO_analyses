{
 "cells": [
  {
   "cell_type": "code",
   "execution_count": 32,
   "id": "7bb9343d-e5a9-4876-ac26-b08f4b8a7bd1",
   "metadata": {},
   "outputs": [
    {
     "name": "stdout",
     "output_type": "stream",
     "text": [
      "The autoreload extension is already loaded. To reload it, use:\n",
      "  %reload_ext autoreload\n"
     ]
    }
   ],
   "source": [
    "import os\n",
    "import joblib\n",
    "import pickle\n",
    "\n",
    "import numpy as np\n",
    "import scipy as sp\n",
    "from matplotlib import pyplot as plt\n",
    "from matplotlib import gridspec\n",
    "\n",
    "import pandas as pd\n",
    "from pingouin import mixed_anova, anova, pairwise_tukey, pairwise_tests\n",
    "import pingouin as pg\n",
    "from statsmodels.regression.mixed_linear_model import MixedLM\n",
    "import statsmodels.formula.api as smf\n",
    "\n",
    "import TwoPUtils as tpu\n",
    "import STX3KO_analyses as stx\n",
    "from STX3KO_analyses import utilities_ES as u\n",
    "\n",
    "\n",
    "\n",
    "plt.rcParams['pdf.fonttype']=42\n",
    "%matplotlib inline\n",
    "\n",
    "%load_ext autoreload\n",
    "%autoreload 2"
   ]
  },
  {
   "cell_type": "code",
   "execution_count": null,
   "id": "3522e251-73bf-46d3-809f-f7b3bb75f254",
   "metadata": {},
   "outputs": [],
   "source": []
  },
  {
   "cell_type": "code",
   "execution_count": 50,
   "id": "d8abc4f6-ec9d-4c01-a416-92517de5a5df",
   "metadata": {},
   "outputs": [],
   "source": [
    "# load session\n",
    "sparse_sessions = stx.ymaze_sess_deets.SparseKO_sessions\n",
    "mouse = 'SparseKO_02'\n",
    "d = sparse_sessions[mouse][-2]\n",
    "date, scene, session, scan = d['date'], d['scene'], d['session'], d['scan']\n",
    "\n",
    "\n",
    "\n",
    "pkldir = os.path.join('C://Users/esay/data/Stx3/YMazeSessPkls/', mouse,  date, f'{scene}_{session}.pkl')\n",
    "sess = stx.session.YMazeSession.from_file(pkldir, verbose=False)\n"
   ]
  },
  {
   "cell_type": "code",
   "execution_count": 51,
   "id": "651f72c7-4cf5-4749-b6df-912808fef64b",
   "metadata": {},
   "outputs": [
    {
     "name": "stdout",
     "output_type": "stream",
     "text": [
      "[-1. -1. -1.  1. -1.  1. -1. -1. -1. -1. -1.  1.  1.  1.  1. -1. -1.  1.\n",
      " -1. -1.  1. -1. -1.  1.  1.  1.  1.  1. -1.  1. -1.  1.  1.  1.  1.  1.\n",
      " -1. -1.  1. -1. -1.  1. -1.  1.  1. -1. -1. -1. -1.  1.  1.  1. -1.  1.\n",
      " -1.  1. -1. -1. -1. -1. -1. -1.  1. -1. -1.  1. -1.  1.  1.  1. -1.  1.\n",
      "  1. -1.  1. -1. -1. -1.  1. -1.  1. -1. -1. -1.  1.  1.  1.  1. -1.  1.\n",
      "  1. -1. -1. -1.  1. -1. -1. -1. -1.  1.  1.  1. -1.  1. -1.] [ True  True  True False  True False  True  True  True  True  True False\n",
      " False False False  True  True False  True  True False  True  True False\n",
      " False False False False  True False  True False False False False False\n",
      "  True  True False  True  True False  True False False  True  True  True\n",
      "  True False False False  True False  True False  True  True  True  True\n",
      "  True  True False  True  True False  True False False False  True False\n",
      " False  True False  True  True  True False  True False  True  True  True\n",
      " False False False False  True False False  True  True  True False  True\n",
      "  True  True  True False False False  True False  True]\n"
     ]
    }
   ],
   "source": [
    "trial_masks = {'channel_0_left': None,\n",
    "               'channel_0_right': None,\n",
    "               'channel_1_left': None,\n",
    "               'channel_1_right': None}\n",
    "# channel_0_mask = sess.trial_info['block_number']%2==0\n",
    "left_mask = sess.trial_info['LR']==-1\n",
    "print(sess.trial_info['LR'],left_mask)\n",
    "\n",
    "\n",
    "# trial_masks['channel_0_left'] = channel_0_mask*left_mask\n",
    "# trial_masks['channel_0_right'] = channel_0_mask*(~left_mask)\n",
    "# trial_masks['channel_1_left'] = (~channel_0_mask)*left_mask\n",
    "# trial_masks['channel_1_right'] = (~channel_0_mask)*(~left_mask)\n",
    "\n",
    "trial_masks['channel_0_left'] = left_mask\n",
    "trial_masks['channel_0_right'] = (~left_mask)\n",
    "trial_masks['channel_1_left'] = left_mask\n",
    "trial_masks['channel_1_right'] = (~left_mask)"
   ]
  },
  {
   "cell_type": "code",
   "execution_count": 52,
   "id": "c2db0447-7630-432c-83ff-765e31074132",
   "metadata": {},
   "outputs": [],
   "source": [
    "# pc mask\n",
    "\n",
    "chan0_mask_pf_left = sess.place_cell_info['channel_0_F_dff']['left']['masks']\n",
    "chan0_mask_pf_right = sess.place_cell_info['channel_0_F_dff']['right']['masks']\n",
    "chan1_mask_pf_left = sess.place_cell_info['channel_1_F_dff']['left']['masks']\n",
    "chan1_mask_pf_right = sess.place_cell_info['channel_1_F_dff']['right']['masks']\n",
    "\n",
    "chan1_mask = chan1_mask_pf_left | chan1_mask_pf_right\n",
    "chan0_mask = chan0_mask_pf_left | chan0_mask_pf_right\n",
    "\n",
    "F = sess.timeseries['channel_1_spks']\n",
    "F_chan1_mask = F[chan1_mask] \n",
    "\n",
    "F = sess.timeseries['channel_0_spks']\n",
    "F_chan0_mask = F[chan0_mask]"
   ]
  },
  {
   "cell_type": "code",
   "execution_count": 9,
   "id": "15c83f77-b34b-4f34-9ac9-10c92648fb14",
   "metadata": {},
   "outputs": [],
   "source": [
    "def run_shuffle(F, trial_starts, teleports, t, rng):\n",
    "    \n",
    "    F_shuff = np.zeros_like(F)\n",
    "    \n",
    "    for trial, (start, stop) in enumerate(zip(trial_starts, teleports)):\n",
    "        _F = 1*F[:,start:stop]    \n",
    "        _F = np.roll(_F,rng.integers(0,stop-start),axis=-1)\n",
    "        F_shuff[:,start:stop] = 1*_F\n",
    "        \n",
    "    tmat = tpu.spatial_analyses.trial_matrix(F_shuff.T,t, trial_starts,\n",
    "                                            teleports, min_pos=13, max_pos=43, bin_size=1, mat_only=True)\n",
    "    \n",
    "    return np.nanmean(tmat,axis=0)\n",
    "\n",
    "\n"
   ]
  },
  {
   "cell_type": "code",
   "execution_count": 53,
   "id": "103b9fe3-cd41-458b-b89c-46050693fa78",
   "metadata": {},
   "outputs": [],
   "source": [
    "# shuffle pc only \n",
    "\n",
    "rng = np.random.default_rng()\n",
    "\n",
    "shuff_thresh = {'channel_0_left': None,\n",
    "               'channel_0_right': None,\n",
    "               'channel_1_left': None,\n",
    "               'channel_1_right': None}\n",
    "\n",
    "\n",
    "F = F_chan0_mask\n",
    "starts, stops = sess.trial_start_inds[trial_masks['channel_0_left']], sess.teleport_inds[trial_masks['channel_0_left']]\n",
    "shuff_trial_mat = np.array(joblib.Parallel(n_jobs=-1)(joblib.delayed(run_shuffle)(F, starts, stops, sess.vr_data['t'], rng) for i in range(1000)))\n",
    "shuff_thresh['channel_0_left'] = np.nanpercentile(shuff_trial_mat[:, :, :], 99, axis=0)\n",
    "\n",
    "F = F_chan0_mask\n",
    "starts, stops = sess.trial_start_inds[trial_masks['channel_0_right']], sess.teleport_inds[trial_masks['channel_0_right']]\n",
    "shuff_trial_mat = np.array(joblib.Parallel(n_jobs=-1)(joblib.delayed(run_shuffle)(F, starts, stops, sess.vr_data['t'], rng) for i in range(1000)))\n",
    "shuff_thresh['channel_0_right'] = np.nanpercentile(shuff_trial_mat[:, :, :], 99, axis=0)\n",
    "\n",
    "\n",
    "F = F_chan1_mask\n",
    "starts, stops = sess.trial_start_inds[trial_masks['channel_1_left']], sess.teleport_inds[trial_masks['channel_1_left']]\n",
    "shuff_trial_mat = np.array(joblib.Parallel(n_jobs=-1)(joblib.delayed(run_shuffle)(F, starts, stops, sess.vr_data['t'], rng) for i in range(1000)))\n",
    "shuff_thresh['channel_1_left'] = np.nanpercentile(shuff_trial_mat[:, :, :], 99, axis=0)\n",
    "\n",
    "F = F_chan1_mask\n",
    "starts, stops = sess.trial_start_inds[trial_masks['channel_1_right']], sess.teleport_inds[trial_masks['channel_1_right']]\n",
    "shuff_trial_mat = np.array(joblib.Parallel(n_jobs=-1)(joblib.delayed(run_shuffle)(F, starts, stops, sess.vr_data['t'], rng) for i in range(1000)))\n",
    "shuff_thresh['channel_1_right'] = np.nanpercentile(shuff_trial_mat[:, :, :], 99, axis=0)\n"
   ]
  },
  {
   "cell_type": "code",
   "execution_count": 5,
   "id": "b7db57ce-4952-4ddf-8b94-a26997cba84f",
   "metadata": {},
   "outputs": [
    {
     "name": "stdout",
     "output_type": "stream",
     "text": [
      "(1000, 30, 331)\n",
      "(1000, 30, 331)\n",
      "(1000, 30, 234)\n",
      "(1000, 30, 234)\n"
     ]
    }
   ],
   "source": [
    "# all cells\n",
    "\n",
    "rng = np.random.default_rng()\n",
    "nperms = 1000\n",
    "\n",
    "shuff_thresh = {'channel_0_left': None,\n",
    "               'channel_0_right': None,\n",
    "               'channel_1_left': None,\n",
    "               'channel_1_right': None}\n",
    "\n",
    "F = sess.timeseries['channel_0_F_dff_speed_filt']\n",
    "starts, stops = sess.trial_start_inds[trial_masks['channel_0_left']], sess.teleport_inds[trial_masks['channel_0_left']]\n",
    "shuff_trial_mat = np.array(joblib.Parallel(n_jobs=-1)(joblib.delayed(run_shuffle)(F, starts, stops, sess.vr_data['t'], rng) for i in range(nperms)))\n",
    "print(shuff_trial_mat.shape)\n",
    "shuff_thresh['channel_0_left'] = np.nanpercentile(shuff_trial_mat[:, :, :], 95, axis=0)\n",
    "\n",
    "F = sess.timeseries['channel_0_F_dff_speed_filt']\n",
    "starts, stops = sess.trial_start_inds[trial_masks['channel_0_right']], sess.teleport_inds[trial_masks['channel_0_right']]\n",
    "shuff_trial_mat = np.array(joblib.Parallel(n_jobs=-1)(joblib.delayed(run_shuffle)(F, starts, stops, sess.vr_data['t'], rng) for i in range(nperms)))\n",
    "print(shuff_trial_mat.shape)\n",
    "shuff_thresh['channel_0_right'] = np.nanpercentile(shuff_trial_mat[:, :, :], 95, axis=0)\n",
    "\n",
    "\n",
    "F = sess.timeseries['channel_1_F_dff_speed_filt']\n",
    "starts, stops = sess.trial_start_inds[trial_masks['channel_1_left']], sess.teleport_inds[trial_masks['channel_1_left']]\n",
    "shuff_trial_mat = np.array(joblib.Parallel(n_jobs=-1)(joblib.delayed(run_shuffle)(F, starts, stops, sess.vr_data['t'], rng) for i in range(nperms)))\n",
    "print(shuff_trial_mat.shape)\n",
    "shuff_thresh['channel_1_left'] = np.nanpercentile(shuff_trial_mat[:, :, :], 95, axis=0)\n",
    "\n",
    "F = sess.timeseries['channel_1_F_dff_speed_filt']\n",
    "starts, stops = sess.trial_start_inds[trial_masks['channel_1_right']], sess.teleport_inds[trial_masks['channel_1_right']]\n",
    "shuff_trial_mat = np.array(joblib.Parallel(n_jobs=-1)(joblib.delayed(run_shuffle)(F, starts, stops, sess.vr_data['t'], rng) for i in range(nperms)))\n",
    "print(shuff_trial_mat.shape)\n",
    "shuff_thresh['channel_1_right'] = np.nanpercentile(shuff_trial_mat[:, :, :], 95, axis=0)\n",
    "\n",
    "\n"
   ]
  },
  {
   "cell_type": "code",
   "execution_count": 35,
   "id": "48415fc3-a0ef-4a68-bf20-df41ee9ba600",
   "metadata": {},
   "outputs": [
    {
     "ename": "IndexError",
     "evalue": "boolean index did not match indexed array along dimension 2; dimension is 270 but corresponding boolean dimension is 318",
     "output_type": "error",
     "traceback": [
      "\u001b[1;31m---------------------------------------------------------------------------\u001b[0m",
      "\u001b[1;31mIndexError\u001b[0m                                Traceback (most recent call last)",
      "Cell \u001b[1;32mIn[35], line 3\u001b[0m\n\u001b[0;32m      1\u001b[0m \u001b[38;5;66;03m# pc only \u001b[39;00m\n\u001b[1;32m----> 3\u001b[0m trial_means \u001b[38;5;241m=\u001b[39m {\u001b[38;5;124m'\u001b[39m\u001b[38;5;124mchannel_0_left\u001b[39m\u001b[38;5;124m'\u001b[39m: np\u001b[38;5;241m.\u001b[39mnanmean(\u001b[43msess\u001b[49m\u001b[38;5;241;43m.\u001b[39;49m\u001b[43mtrial_matrices\u001b[49m\u001b[43m[\u001b[49m\u001b[38;5;124;43m'\u001b[39;49m\u001b[38;5;124;43mchannel_0_spks\u001b[39;49m\u001b[38;5;124;43m'\u001b[39;49m\u001b[43m]\u001b[49m\u001b[43m[\u001b[49m\u001b[43mtrial_masks\u001b[49m\u001b[43m[\u001b[49m\u001b[38;5;124;43m'\u001b[39;49m\u001b[38;5;124;43mchannel_0_left\u001b[39;49m\u001b[38;5;124;43m'\u001b[39;49m\u001b[43m]\u001b[49m\u001b[43m,\u001b[49m\u001b[43m \u001b[49m\u001b[43m:\u001b[49m\u001b[43m \u001b[49m\u001b[43m,\u001b[49m\u001b[43m \u001b[49m\u001b[43m:\u001b[49m\u001b[43m]\u001b[49m\u001b[43m[\u001b[49m\u001b[38;5;241;43m.\u001b[39;49m\u001b[38;5;241;43m.\u001b[39;49m\u001b[38;5;241;43m.\u001b[39;49m\u001b[43m,\u001b[49m\u001b[43mchan0_mask_pf_left\u001b[49m\u001b[43m]\u001b[49m),\n\u001b[0;32m      4\u001b[0m                \u001b[38;5;124m'\u001b[39m\u001b[38;5;124mchannel_0_right\u001b[39m\u001b[38;5;124m'\u001b[39m: np\u001b[38;5;241m.\u001b[39mnanmean(sess\u001b[38;5;241m.\u001b[39mtrial_matrices[\u001b[38;5;124m'\u001b[39m\u001b[38;5;124mchannel_0_spks\u001b[39m\u001b[38;5;124m'\u001b[39m][trial_masks[\u001b[38;5;124m'\u001b[39m\u001b[38;5;124mchannel_0_right\u001b[39m\u001b[38;5;124m'\u001b[39m], : , :][\u001b[38;5;241m.\u001b[39m\u001b[38;5;241m.\u001b[39m\u001b[38;5;241m.\u001b[39m,chan0_mask_pf_right]),\n\u001b[0;32m      5\u001b[0m                \u001b[38;5;124m'\u001b[39m\u001b[38;5;124mchannel_1_left\u001b[39m\u001b[38;5;124m'\u001b[39m: np\u001b[38;5;241m.\u001b[39mnanmean(sess\u001b[38;5;241m.\u001b[39mtrial_matrices[\u001b[38;5;124m'\u001b[39m\u001b[38;5;124mchannel_1_spks\u001b[39m\u001b[38;5;124m'\u001b[39m][trial_masks[\u001b[38;5;124m'\u001b[39m\u001b[38;5;124mchannel_1_left\u001b[39m\u001b[38;5;124m'\u001b[39m], : , :][\u001b[38;5;241m.\u001b[39m\u001b[38;5;241m.\u001b[39m\u001b[38;5;241m.\u001b[39m,chan1_mask_pf_left]),\n\u001b[0;32m      6\u001b[0m                \u001b[38;5;124m'\u001b[39m\u001b[38;5;124mchannel_1_right\u001b[39m\u001b[38;5;124m'\u001b[39m: np\u001b[38;5;241m.\u001b[39mnanmean(sess\u001b[38;5;241m.\u001b[39mtrial_matrices[\u001b[38;5;124m'\u001b[39m\u001b[38;5;124mchannel_1_spks\u001b[39m\u001b[38;5;124m'\u001b[39m][trial_masks[\u001b[38;5;124m'\u001b[39m\u001b[38;5;124mchannel_1_right\u001b[39m\u001b[38;5;124m'\u001b[39m], : , :][\u001b[38;5;241m.\u001b[39m\u001b[38;5;241m.\u001b[39m\u001b[38;5;241m.\u001b[39m,chan1_mask_pf_right]),\n\u001b[0;32m      7\u001b[0m               }\n",
      "\u001b[1;31mIndexError\u001b[0m: boolean index did not match indexed array along dimension 2; dimension is 270 but corresponding boolean dimension is 318"
     ]
    }
   ],
   "source": [
    "# pc only \n",
    "\n",
    "trial_means = {'channel_0_left': np.nanmean(sess.trial_matrices['channel_0_spks'][trial_masks['channel_0_left'], : , :][...,chan0_mask_pf_left]),\n",
    "               'channel_0_right': np.nanmean(sess.trial_matrices['channel_0_spks'][trial_masks['channel_0_right'], : , :][...,chan0_mask_pf_right]),\n",
    "               'channel_1_left': np.nanmean(sess.trial_matrices['channel_1_spks'][trial_masks['channel_1_left'], : , :][...,chan1_mask_pf_left]),\n",
    "               'channel_1_right': np.nanmean(sess.trial_matrices['channel_1_spks'][trial_masks['channel_1_right'], : , :][...,chan1_mask_pf_right]),\n",
    "              }"
   ]
  },
  {
   "cell_type": "code",
   "execution_count": 36,
   "id": "bf4246c2-21bb-48d8-830f-ee2f02a9d0eb",
   "metadata": {},
   "outputs": [],
   "source": [
    "# all cells\n",
    "\n",
    "trial_means = {'channel_0_left': np.nanmean(sess.trial_matrices['channel_0_F_dff_speed_filt'][trial_masks['channel_0_left'], : , :],axis=0),\n",
    "               'channel_0_right': np.nanmean(sess.trial_matrices['channel_0_F_dff_speed_filt'][trial_masks['channel_0_right'], : , :], axis=0),\n",
    "               'channel_1_left': np.nanmean(sess.trial_matrices['channel_1_F_dff_speed_filt'][trial_masks['channel_1_left'], : , :],axis=0),\n",
    "               'channel_1_right': np.nanmean(sess.trial_matrices['channel_1_F_dff_speed_filt'][trial_masks['channel_1_right'], : , :],axis=0),\n",
    "              }"
   ]
  },
  {
   "cell_type": "code",
   "execution_count": 54,
   "id": "21981daf-2469-447a-888a-ee5954475f11",
   "metadata": {},
   "outputs": [],
   "source": [
    "\n",
    "shuff_results[mouse][5] = shuff_thresh"
   ]
  },
  {
   "cell_type": "code",
   "execution_count": 25,
   "id": "7b0d5b6d-a8a0-47ed-b4e5-fa86cb4232ba",
   "metadata": {},
   "outputs": [
    {
     "data": {
      "text/plain": [
       "-1"
      ]
     },
     "execution_count": 25,
     "metadata": {},
     "output_type": "execute_result"
    }
   ],
   "source": [
    "sess.novel_arm"
   ]
  },
  {
   "cell_type": "code",
   "execution_count": 28,
   "id": "8f4016f6-6907-46d0-8cbb-a64bf82aeb2c",
   "metadata": {},
   "outputs": [
    {
     "ename": "KeyError",
     "evalue": "1",
     "output_type": "error",
     "traceback": [
      "\u001b[1;31m---------------------------------------------------------------------------\u001b[0m",
      "\u001b[1;31mKeyError\u001b[0m                                  Traceback (most recent call last)",
      "Cell \u001b[1;32mIn[28], line 1\u001b[0m\n\u001b[1;32m----> 1\u001b[0m \u001b[43mshuff_results\u001b[49m\u001b[43m[\u001b[49m\u001b[38;5;241;43m1\u001b[39;49m\u001b[43m]\u001b[49m\n",
      "\u001b[1;31mKeyError\u001b[0m: 1"
     ]
    }
   ],
   "source": [
    "shuff_results[1]"
   ]
  },
  {
   "cell_type": "code",
   "execution_count": 29,
   "id": "881030bc-4aed-4622-8c2e-500879f0c8e6",
   "metadata": {},
   "outputs": [],
   "source": [
    "def make_masks(sess):\n",
    "    trial_masks = {'channel_0_left': None,\n",
    "               'channel_0_right': None,\n",
    "               'channel_1_left': None,\n",
    "               'channel_1_right': None}\n",
    "\n",
    "    left_mask = sess.trial_info['LR']==-1\n",
    "    print(sess.trial_info['LR'],left_mask)\n",
    "    \n",
    "    trial_masks['channel_0_left'] = left_mask\n",
    "    trial_masks['channel_0_right'] = (~left_mask)\n",
    "    trial_masks['channel_1_left'] = left_mask\n",
    "    trial_masks['channel_1_right'] = (~left_mask)\n",
    "\n",
    "\n",
    "    chan0_mask_pf_left = sess.place_cell_info['channel_0_F_dff']['left']['masks']\n",
    "    chan0_mask_pf_right = sess.place_cell_info['channel_0_F_dff']['right']['masks']\n",
    "    chan1_mask_pf_left = sess.place_cell_info['channel_1_F_dff']['left']['masks']\n",
    "    chan1_mask_pf_right = sess.place_cell_info['channel_1_F_dff']['right']['masks']\n",
    "    \n",
    "    chan1_mask = chan1_mask_pf_left | chan1_mask_pf_right\n",
    "    chan0_mask = chan0_mask_pf_left | chan0_mask_pf_right\n",
    "    \n",
    "    F = sess.timeseries['channel_1_spks']\n",
    "    F_chan1_mask = F[chan1_mask] \n",
    "    \n",
    "    F = sess.timeseries['channel_0_spks']\n",
    "    F_chan0_mask = F[chan0_mask]\n",
    "\n",
    "    return trial_masks, F_chan1_mask, F_chan1_mask"
   ]
  },
  {
   "cell_type": "code",
   "execution_count": 56,
   "id": "d67c60c1-48d1-4fdb-b764-56e4f638e6a4",
   "metadata": {},
   "outputs": [
    {
     "data": {
      "text/plain": [
       "dict_keys(['channel_0_F_dff', 'bin_edges', 'bin_centers', 'channel_0_spks', 'channel_1_F_dff', 'channel_1_spks', 'licks', 'speed', 'channel_0_F_dff_speed_filt', 'channel_1_F_dff_speed_filt'])"
      ]
     },
     "execution_count": 56,
     "metadata": {},
     "output_type": "execute_result"
    }
   ],
   "source": [
    "sess.trial_matrices.keys()"
   ]
  },
  {
   "cell_type": "code",
   "execution_count": 57,
   "id": "0a731068-2fa4-47ca-800e-50c02687bb9e",
   "metadata": {},
   "outputs": [],
   "source": [
    "trial_means[mouse][5]= {'channel_0_nov_mean': np.nanmean(sess.trial_matrices['channel_0_F_dff_speed_filt'][trial_masks['channel_0_left'], : , :],axis=0),\n",
    "               'channel_0_fam_mean': np.nanmean(sess.trial_matrices['channel_0_F_dff_speed_filt'][trial_masks['channel_0_right'], : , :], axis=0),\n",
    "               'channel_1_nov_mean': np.nanmean(sess.trial_matrices['channel_1_F_dff_speed_filt'][trial_masks['channel_1_left'], : , :],axis=0),\n",
    "               'channel_1_fam_mean': np.nanmean(sess.trial_matrices['channel_1_F_dff_speed_filt'][trial_masks['channel_1_right'], : , :],axis=0),\n",
    "              }"
   ]
  },
  {
   "cell_type": "code",
   "execution_count": 49,
   "id": "dea01caa-4bad-49b1-b52d-8a47d183c207",
   "metadata": {},
   "outputs": [
    {
     "name": "stdout",
     "output_type": "stream",
     "text": [
      "SparseKO_03\n",
      "{'date': '16_11_2024', 'scene': 'YMaze_LNovel', 'session': 1, 'scan': 17, 'novel_arm': 1, 'exp_day': 1}\n",
      "[-1. -1. -1. -1. -1. -1. -1. -1. -1. -1. -1. -1. -1. -1. -1. -1. -1. -1.\n",
      " -1. -1. -1. -1. -1. -1. -1. -1. -1. -1. -1. -1. -1. -1. -1. -1. -1. -1.\n",
      " -1. -1. -1. -1. -1. -1. -1. -1. -1. -1. -1. -1. -1. -1. -1. -1. -1. -1.\n",
      " -1. -1. -1. -1. -1. -1. -1. -1. -1. -1. -1. -1. -1. -1. -1. -1. -1. -1.\n",
      " -1. -1. -1. -1. -1. -1. -1. -1. -1. -1. -1. -1. -1. -1. -1. -1. -1. -1.\n",
      " -1. -1. -1. -1. -1. -1. -1. -1. -1. -1. -1.  1.  1. -1.  1. -1. -1.  1.\n",
      " -1.  1. -1.  1. -1.  1. -1.  1.  1. -1.  1.  1. -1. -1.  1. -1. -1.  1.\n",
      "  1.  1.  1.  1. -1. -1. -1. -1.  1.  1. -1.  1. -1. -1.] [ True  True  True  True  True  True  True  True  True  True  True  True\n",
      "  True  True  True  True  True  True  True  True  True  True  True  True\n",
      "  True  True  True  True  True  True  True  True  True  True  True  True\n",
      "  True  True  True  True  True  True  True  True  True  True  True  True\n",
      "  True  True  True  True  True  True  True  True  True  True  True  True\n",
      "  True  True  True  True  True  True  True  True  True  True  True  True\n",
      "  True  True  True  True  True  True  True  True  True  True  True  True\n",
      "  True  True  True  True  True  True  True  True  True  True  True  True\n",
      "  True  True  True  True  True False False  True False  True  True False\n",
      "  True False  True False  True False  True False False  True False False\n",
      "  True  True False  True  True False False False False False  True  True\n",
      "  True  True False False  True False  True  True]\n",
      "{'date': '17_11_2024', 'scene': 'YMaze_LNovel', 'session': 1, 'scan': 2, 'novel_arm': 1, 'exp_day': 2}\n",
      "[-1. -1. -1. -1. -1. -1. -1. -1. -1. -1. -1. -1. -1. -1. -1. -1. -1. -1.\n",
      " -1. -1. -1. -1. -1. -1. -1. -1. -1. -1. -1. -1. -1. -1. -1. -1. -1. -1.\n",
      " -1. -1. -1. -1. -1. -1. -1. -1. -1. -1. -1. -1. -1. -1. -1. -1. -1. -1.\n",
      " -1. -1. -1. -1. -1. -1. -1. -1. -1. -1. -1. -1. -1. -1. -1. -1. -1. -1.\n",
      " -1. -1. -1. -1. -1. -1. -1. -1. -1. -1. -1. -1. -1. -1. -1. -1. -1. -1.\n",
      " -1. -1. -1. -1. -1. -1. -1. -1. -1. -1. -1. -1.  1. -1. -1.  1.  1. -1.\n",
      "  1. -1. -1. -1.  1.  1. -1.  1. -1. -1.  1. -1. -1.  1.  1. -1.  1. -1.\n",
      " -1. -1.  1. -1.  1.  1. -1.  1. -1.  1. -1.  1.  1. -1.] [ True  True  True  True  True  True  True  True  True  True  True  True\n",
      "  True  True  True  True  True  True  True  True  True  True  True  True\n",
      "  True  True  True  True  True  True  True  True  True  True  True  True\n",
      "  True  True  True  True  True  True  True  True  True  True  True  True\n",
      "  True  True  True  True  True  True  True  True  True  True  True  True\n",
      "  True  True  True  True  True  True  True  True  True  True  True  True\n",
      "  True  True  True  True  True  True  True  True  True  True  True  True\n",
      "  True  True  True  True  True  True  True  True  True  True  True  True\n",
      "  True  True  True  True  True  True False  True  True False False  True\n",
      " False  True  True  True False False  True False  True  True False  True\n",
      "  True False False  True False  True  True  True False  True False False\n",
      "  True False  True False  True False False  True]\n",
      "{'date': '18_11_2024', 'scene': 'YMaze_LNovel', 'session': 2, 'scan': 6, 'novel_arm': 1, 'exp_day': 3}\n",
      "[-1. -1. -1. -1. -1. -1. -1. -1. -1. -1. -1. -1. -1. -1. -1. -1. -1. -1.\n",
      " -1. -1. -1. -1. -1. -1. -1. -1. -1. -1. -1. -1. -1. -1. -1. -1. -1. -1.\n",
      " -1. -1. -1. -1. -1. -1. -1. -1. -1. -1. -1. -1. -1. -1. -1. -1. -1. -1.\n",
      " -1. -1. -1. -1. -1. -1. -1. -1. -1. -1. -1. -1. -1. -1. -1. -1. -1. -1.\n",
      " -1. -1. -1. -1. -1. -1. -1. -1. -1. -1. -1. -1. -1. -1. -1. -1. -1. -1.\n",
      " -1. -1. -1. -1. -1. -1. -1. -1. -1. -1. -1. -1. -1.  1. -1. -1.  1.  1.\n",
      "  1.  1. -1.  1.  1.  1.  1.  1. -1. -1. -1.  1. -1. -1.  1. -1. -1.  1.\n",
      " -1.  1. -1.  1.  1. -1.  1.  1. -1. -1. -1. -1. -1. -1.] [ True  True  True  True  True  True  True  True  True  True  True  True\n",
      "  True  True  True  True  True  True  True  True  True  True  True  True\n",
      "  True  True  True  True  True  True  True  True  True  True  True  True\n",
      "  True  True  True  True  True  True  True  True  True  True  True  True\n",
      "  True  True  True  True  True  True  True  True  True  True  True  True\n",
      "  True  True  True  True  True  True  True  True  True  True  True  True\n",
      "  True  True  True  True  True  True  True  True  True  True  True  True\n",
      "  True  True  True  True  True  True  True  True  True  True  True  True\n",
      "  True  True  True  True  True  True  True False  True  True False False\n",
      " False False  True False False False False False  True  True  True False\n",
      "  True  True False  True  True False  True False  True False False  True\n",
      " False False  True  True  True  True  True  True]\n",
      "{'date': '19_11_2024', 'scene': 'YMaze_LNovel', 'session': 4, 'scan': 7, 'novel_arm': 1, 'exp_day': 4}\n",
      "[-1. -1. -1. -1. -1. -1. -1. -1. -1. -1. -1. -1. -1. -1. -1. -1. -1. -1.\n",
      " -1. -1. -1. -1. -1. -1. -1. -1. -1. -1. -1. -1. -1. -1. -1. -1. -1. -1.\n",
      " -1. -1. -1. -1. -1. -1. -1. -1. -1. -1. -1. -1. -1. -1. -1. -1. -1. -1.\n",
      " -1. -1. -1. -1. -1. -1. -1. -1. -1. -1. -1. -1. -1. -1. -1. -1. -1. -1.\n",
      " -1. -1. -1. -1. -1. -1. -1. -1. -1. -1. -1. -1. -1. -1. -1. -1. -1. -1.\n",
      " -1. -1. -1. -1. -1. -1. -1. -1. -1. -1. -1. -1. -1. -1.  1. -1.  1. -1.\n",
      "  1. -1.  1. -1. -1. -1.  1.  1.  1. -1. -1.  1.  1.  1. -1. -1. -1.  1.\n",
      "  1. -1. -1.  1.  1. -1. -1.  1. -1.  1.  1.  1.  1.  1.] [ True  True  True  True  True  True  True  True  True  True  True  True\n",
      "  True  True  True  True  True  True  True  True  True  True  True  True\n",
      "  True  True  True  True  True  True  True  True  True  True  True  True\n",
      "  True  True  True  True  True  True  True  True  True  True  True  True\n",
      "  True  True  True  True  True  True  True  True  True  True  True  True\n",
      "  True  True  True  True  True  True  True  True  True  True  True  True\n",
      "  True  True  True  True  True  True  True  True  True  True  True  True\n",
      "  True  True  True  True  True  True  True  True  True  True  True  True\n",
      "  True  True  True  True  True  True  True  True False  True False  True\n",
      " False  True False  True  True  True False False False  True  True False\n",
      " False False  True  True  True False False  True  True False False  True\n",
      "  True False  True False False False False False]\n",
      "{'date': '20_11_2024', 'scene': 'YMaze_LNovel', 'session': 1, 'scan': 16, 'novel_arm': 1, 'exp_day': 5}\n",
      "[-1. -1. -1. -1. -1. -1. -1. -1. -1. -1. -1. -1. -1. -1. -1. -1. -1. -1.\n",
      " -1. -1. -1. -1. -1. -1. -1. -1. -1. -1. -1. -1. -1. -1. -1. -1. -1. -1.\n",
      " -1. -1. -1. -1. -1. -1. -1. -1. -1. -1. -1. -1. -1. -1. -1. -1. -1. -1.\n",
      " -1. -1. -1. -1. -1. -1. -1. -1. -1. -1. -1. -1. -1. -1. -1. -1. -1. -1.\n",
      " -1. -1. -1. -1. -1. -1. -1. -1. -1. -1. -1. -1. -1. -1. -1. -1. -1. -1.\n",
      " -1. -1. -1. -1. -1. -1. -1. -1. -1. -1. -1. -1. -1. -1.  1.  1. -1.  1.\n",
      " -1.  1.  1. -1.  1. -1.  1. -1.  1. -1. -1. -1. -1.  1.  1. -1.  1. -1.\n",
      "  1. -1.  1.  1. -1. -1.  1. -1.  1. -1. -1.  1.  1.  1.] [ True  True  True  True  True  True  True  True  True  True  True  True\n",
      "  True  True  True  True  True  True  True  True  True  True  True  True\n",
      "  True  True  True  True  True  True  True  True  True  True  True  True\n",
      "  True  True  True  True  True  True  True  True  True  True  True  True\n",
      "  True  True  True  True  True  True  True  True  True  True  True  True\n",
      "  True  True  True  True  True  True  True  True  True  True  True  True\n",
      "  True  True  True  True  True  True  True  True  True  True  True  True\n",
      "  True  True  True  True  True  True  True  True  True  True  True  True\n",
      "  True  True  True  True  True  True  True  True False False  True False\n",
      "  True False False  True False  True False  True False  True  True  True\n",
      "  True False False  True False  True False  True False False  True  True\n",
      " False  True False  True  True False False False]\n",
      "{'date': '21_11_2024', 'scene': 'YMaze_LNovel', 'session': 1, 'scan': 12, 'novel_arm': 1, 'exp_day': 6}\n",
      "[ 1. -1.  1. -1. -1.  1.  1. -1.  1.  1.  1.  1. -1. -1.  1.  1. -1.  1.\n",
      "  1. -1. -1.  1.  1. -1. -1.  1. -1.  1.  1. -1. -1. -1. -1. -1. -1.  1.\n",
      "  1.  1.  1. -1.  1. -1. -1.  1.  1. -1.  1. -1.  1. -1. -1.  1.  1. -1.\n",
      " -1. -1. -1.  1. -1. -1. -1. -1. -1.  1.  1.  1. -1.  1.  1.  1.  1.  1.\n",
      " -1.  1. -1.  1. -1.  1. -1. -1.  1. -1.  1.  1.  1.  1.  1.  1. -1.  1.\n",
      "  1. -1.  1.  1.  1. -1. -1. -1. -1.  1. -1. -1. -1.  1. -1. -1. -1. -1.\n",
      "  1.  1. -1.  1.  1.  1. -1.  1.  1. -1. -1.  1. -1. -1.  1.  1. -1.  1.\n",
      "  1. -1. -1.  1.  1.  1.  1.  1.  1. -1.  1. -1. -1. -1.] [False  True False  True  True False False  True False False False False\n",
      "  True  True False False  True False False  True  True False False  True\n",
      "  True False  True False False  True  True  True  True  True  True False\n",
      " False False False  True False  True  True False False  True False  True\n",
      " False  True  True False False  True  True  True  True False  True  True\n",
      "  True  True  True False False False  True False False False False False\n",
      "  True False  True False  True False  True  True False  True False False\n",
      " False False False False  True False False  True False False False  True\n",
      "  True  True  True False  True  True  True False  True  True  True  True\n",
      " False False  True False False False  True False False  True  True False\n",
      "  True  True False False  True False False  True  True False False False\n",
      " False False False  True False  True  True  True]\n"
     ]
    }
   ],
   "source": [
    "sparse_mice = stx.ymaze_sess_deets.sparse_mice\n",
    "\n",
    "# sess = stx.session.YMazeSession.from_file(pkldir, verbose=False)\n",
    "for mouse in sparse_mice[2:3]:\n",
    "    print(mouse)\n",
    "    shuff_results[mouse] = {}\n",
    "    trial_means[mouse] = {}\n",
    "    for day in range(6):\n",
    "        shuff_results[mouse][day] = {}\n",
    "        trial_means[mouse][day] = {}\n",
    "\n",
    "        sess = u.load_single_day(mouse, day)\n",
    "        trial_masks, F_chan1_mask, F_chan1_mask = make_masks(sess)\n",
    "\n",
    "\n",
    "        rng = np.random.default_rng()\n",
    "\n",
    "        shuff_thresh = {'channel_0_left': None,\n",
    "                       'channel_0_right': None,\n",
    "                       'channel_1_left': None,\n",
    "                       'channel_1_right': None}\n",
    "        \n",
    "        F = F_chan0_mask\n",
    "        starts, stops = sess.trial_start_inds[trial_masks['channel_0_left']], sess.teleport_inds[trial_masks['channel_0_left']]\n",
    "        shuff_trial_mat = np.array(joblib.Parallel(n_jobs=-1)(joblib.delayed(run_shuffle)(F, starts, stops, sess.vr_data['t'], rng) for i in range(1000)))\n",
    "        shuff_thresh['channel_0_left'] = np.nanpercentile(shuff_trial_mat[:, :, :], 99, axis=0)\n",
    "        \n",
    "        F = F_chan0_mask\n",
    "        starts, stops = sess.trial_start_inds[trial_masks['channel_0_right']], sess.teleport_inds[trial_masks['channel_0_right']]\n",
    "        shuff_trial_mat = np.array(joblib.Parallel(n_jobs=-1)(joblib.delayed(run_shuffle)(F, starts, stops, sess.vr_data['t'], rng) for i in range(1000)))\n",
    "        shuff_thresh['channel_0_right'] = np.nanpercentile(shuff_trial_mat[:, :, :], 99, axis=0)\n",
    "        \n",
    "        \n",
    "        F = F_chan1_mask\n",
    "        starts, stops = sess.trial_start_inds[trial_masks['channel_1_left']], sess.teleport_inds[trial_masks['channel_1_left']]\n",
    "        shuff_trial_mat = np.array(joblib.Parallel(n_jobs=-1)(joblib.delayed(run_shuffle)(F, starts, stops, sess.vr_data['t'], rng) for i in range(1000)))\n",
    "        shuff_thresh['channel_1_left'] = np.nanpercentile(shuff_trial_mat[:, :, :], 99, axis=0)\n",
    "        \n",
    "        F = F_chan1_mask\n",
    "        starts, stops = sess.trial_start_inds[trial_masks['channel_1_right']], sess.teleport_inds[trial_masks['channel_1_right']]\n",
    "        shuff_trial_mat = np.array(joblib.Parallel(n_jobs=-1)(joblib.delayed(run_shuffle)(F, starts, stops, sess.vr_data['t'], rng) for i in range(1000)))\n",
    "        shuff_thresh['channel_1_right'] = np.nanpercentile(shuff_trial_mat[:, :, :], 99, axis=0)\n",
    "\n",
    "        shuff_results[mouse][day] = shuff_thresh # save to shuff_results\n",
    "\n",
    "        if sess.novel_arm == -1:\n",
    "            trial_means[mouse][day]= {'channel_0_nov_mean': np.nanmean(sess.trial_matrices['channel_0_F_dff_speed_filt'][trial_masks['channel_0_left'], : , :],axis=0),\n",
    "               'channel_0_fam_mean': np.nanmean(sess.trial_matrices['channel_0_F_dff_speed_filt'][trial_masks['channel_0_right'], : , :], axis=0),\n",
    "               'channel_1_nov_mean': np.nanmean(sess.trial_matrices['channel_1_F_dff_speed_filt'][trial_masks['channel_1_left'], : , :],axis=0),\n",
    "               'channel_1_fam_mean': np.nanmean(sess.trial_matrices['channel_1_F_dff_speed_filt'][trial_masks['channel_1_right'], : , :],axis=0),\n",
    "              }\n",
    "        elif sess.novel_arm == 1:\n",
    "            trial_means[mouse][day] = {'channel_0_fam_mean': np.nanmean(sess.trial_matrices['channel_0_F_dff_speed_filt'][trial_masks['channel_0_left'], : , :],axis=0),\n",
    "               'channel_0_nov_mean': np.nanmean(sess.trial_matrices['channel_0_F_dff_speed_filt'][trial_masks['channel_0_right'], : , :], axis=0),\n",
    "               'channel_1_fam_mean': np.nanmean(sess.trial_matrices['channel_1_F_dff_speed_filt'][trial_masks['channel_1_left'], : , :],axis=0),\n",
    "               'channel_1_nov_mean': np.nanmean(sess.trial_matrices['channel_1_F_dff_speed_filt'][trial_masks['channel_1_right'], : , :],axis=0),\n",
    "              }\n"
   ]
  },
  {
   "cell_type": "code",
   "execution_count": 62,
   "id": "b36f73bb-b347-4880-b4a6-9500812b367a",
   "metadata": {
    "scrolled": true
   },
   "outputs": [
    {
     "data": {
      "text/plain": [
       "dict_keys(['SparseKO_02', 'SparseKO_05', 'SparseKO_03'])"
      ]
     },
     "execution_count": 62,
     "metadata": {},
     "output_type": "execute_result"
    }
   ],
   "source": [
    "shuff_results.keys()"
   ]
  },
  {
   "cell_type": "code",
   "execution_count": 70,
   "id": "2777ff68-7e46-459e-9f6d-739dc6c27e6b",
   "metadata": {},
   "outputs": [],
   "source": [
    "import pickle \n",
    "with open('C://Users/esay/data/Stx3/YMazeSessPkls/place_field_shuff_results.pkl','wb') as file:\n",
    "        pickle.dump(shuff_results,file)"
   ]
  },
  {
   "cell_type": "code",
   "execution_count": 9,
   "id": "5ecad41e-fe4e-4d89-92c8-223227d32aac",
   "metadata": {},
   "outputs": [
    {
     "name": "stdout",
     "output_type": "stream",
     "text": [
      "channel_0_left (30, 296)\n",
      "channel_0_right (30, 296)\n",
      "channel_1_left (30, 201)\n",
      "channel_1_right (30, 201)\n"
     ]
    }
   ],
   "source": [
    "field_info = {'channel_0_left': [],\n",
    "               'channel_0_right': [],\n",
    "               'channel_1_left': [],\n",
    "               'channel_1_right': []}\n",
    "\n",
    "for k, thresh in shuff_thresh.items():\n",
    "    print(k, thresh.shape)\n",
    "    sig_bins = trial_means[k]>thresh\n",
    "\n",
    "    # eliminate fields that start at first bin of track or end at last bin of track\n",
    "    \n",
    "\n",
    "    ledges = np.argwhere(sig_bins[1:,:]>sig_bins[:-1,:])\n",
    "    \n",
    "    for _ledge in ledges:\n",
    "\n",
    "        rem_trial = sig_bins[_ledge[0]:,_ledge[1]]\n",
    "        _redge = np.argwhere(rem_trial[1:]<rem_trial[:-1])\n",
    "        # print(_redge.size)\n",
    "        if (_redge.shape[0]>0) and (_redge[0][0]>2) and (_redge[0][0]<15) and (_ledge[0]>0) and ((_redge[0][0]+_ledge[0])<29):\n",
    "        # if (_redge.shape[0]>0):\n",
    "        # if (_redge.shape[0]>0):\n",
    "            field_info[k].append([_ledge[1], _ledge[0], _redge[0][0]])\n",
    "        \n",
    "\n",
    "            # fig, ax = plt.subplots()\n",
    "            # ax.plot(trial_means[k][:,_ledge[1]\n",
    "            # if 'channel_0' in k:\n",
    "            #     ax.imshow(sess.trial_matrices['channel_0_F_dff'][trial_masks[k],:, _ledge[1]])\n",
    "            #     ax.plot(_ledge[0]*np.ones([2,]), [0, trial_masks[k].sum()], color='red')\n",
    "            #     ax.plot((_ledge[0]+_redge[0][0])*np.ones([2,]), [0, trial_masks[k].sum()], color='red')\n",
    "            # else:\n",
    "            #     ax.imshow(sess.trial_matrices['channel_1_F_dff'][trial_masks[k],:, _ledge[1]])\n",
    "            #     ax.plot(_ledge[0]*np.ones([2,]), [0, trial_masks[k].sum()], color='red')\n",
    "            #     ax.plot((_ledge[0]+_redge[0][0])*np.ones([2,]), [0, trial_masks[k].sum()], color='red')\n",
    "            # print(trial_means[k].shape)\n",
    "        # ax.imshow(trial_means[k][:,_ledge[1]])\n",
    "\n",
    "for k,v in field_info.items():\n",
    "    field_info[k]=np.array(v)"
   ]
  },
  {
   "cell_type": "code",
   "execution_count": 10,
   "id": "081af379-1945-4ff3-ab45-57dc2c897b7f",
   "metadata": {},
   "outputs": [
    {
     "data": {
      "text/plain": [
       "(array([0.55223881, 0.32835821, 0.11940299, 0.        ]),\n",
       " array([1., 2., 3., 4., 5.]),\n",
       " <BarContainer object of 4 artists>)"
      ]
     },
     "execution_count": 10,
     "metadata": {},
     "output_type": "execute_result"
    },
    {
     "data": {
      "image/png": "[encoded data removed]",
      "text/plain": [
       "<Figure size 640x480 with 4 Axes>"
      ]
     },
     "metadata": {},
     "output_type": "display_data"
    }
   ],
   "source": [
    "fig, ax = plt.subplots(2,2)\n",
    "\n",
    "width_bins = np.arange(2,15)\n",
    "field_bins = np.arange(1,6)\n",
    "##\n",
    "fi = field_info['channel_0_left']\n",
    "ax[0,0].hist(fi[:,2], bins=width_bins, color='red', alpha=.4, density=True)\n",
    "\n",
    "cell_list = np.unique(fi[:,0])\n",
    "nfields = np.array([np.count_nonzero(fi[:,0]==cell) for cell in cell_list])\n",
    "ax[1,0].hist(nfields, bins=field_bins, color='red', alpha=.4, density=True)\n",
    "\n",
    "##\n",
    "fi = field_info['channel_1_left']\n",
    "ax[0,0].hist(fi[:,2], bins=width_bins, color='black', alpha=.4, density=True)\n",
    "\n",
    "cell_list = np.unique(fi[:,0])\n",
    "nfields = np.array([np.count_nonzero(fi[:,0]==cell) for cell in cell_list])\n",
    "ax[1,0].hist(nfields, bins=field_bins, color='black', alpha=.4, density=True)\n",
    "\n",
    "##\n",
    "fi = field_info['channel_0_right']\n",
    "ax[0,1].hist(fi[:,2], bins=width_bins, color='red', alpha=.4, density=True)\n",
    "\n",
    "cell_list = np.unique(fi[:,0])\n",
    "nfields = np.array([np.count_nonzero(fi[:,0]==cell) for cell in cell_list])\n",
    "ax[1,1].hist(nfields, bins=field_bins, color='red', alpha=.4, density=True)\n",
    "\n",
    "\n",
    "##\n",
    "fi = field_info['channel_1_right']\n",
    "ax[0,1].hist(fi[:,2], bins=width_bins, color='black', alpha=.4, density=True)\n",
    "\n",
    "cell_list = np.unique(fi[:,0])\n",
    "nfields = np.array([np.count_nonzero(fi[:,0]==cell) for cell in cell_list])\n",
    "ax[1,1].hist(nfields, bins=field_bins, color='black', alpha=.4, density=True)\n",
    "\n",
    "\n",
    "    "
   ]
  },
  {
   "cell_type": "code",
   "execution_count": null,
   "id": "451b8f7f-6310-4ec8-92ae-078472060a60",
   "metadata": {},
   "outputs": [],
   "source": [
    "\n",
    "\n",
    "\n"
   ]
  },
  {
   "cell_type": "code",
   "execution_count": null,
   "id": "49fb3a24-9b6f-4dac-a933-6ca083018ae7",
   "metadata": {},
   "outputs": [],
   "source": []
  }
 ],
 "metadata": {
  "kernelspec": {
   "display_name": "Python 3 (ipykernel)",
   "language": "python",
   "name": "python3"
  },
  "language_info": {
   "codemirror_mode": {
    "name": "ipython",
    "version": 3
   },
   "file_extension": ".py",
   "mimetype": "text/x-python",
   "name": "python",
   "nbconvert_exporter": "python",
   "pygments_lexer": "ipython3",
   "version": "3.10.14"
  }
 },
 "nbformat": 4,
 "nbformat_minor": 5
}
