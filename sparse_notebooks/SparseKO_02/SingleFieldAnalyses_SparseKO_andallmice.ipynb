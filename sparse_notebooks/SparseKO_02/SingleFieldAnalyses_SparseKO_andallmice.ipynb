{
 "cells": [
  {
   "cell_type": "code",
   "execution_count": 1,
   "id": "7bb9343d-e5a9-4876-ac26-b08f4b8a7bd1",
   "metadata": {},
   "outputs": [],
   "source": [
    "import os\n",
    "import joblib\n",
    "import pickle\n",
    "\n",
    "import numpy as np\n",
    "import scipy as sp\n",
    "from matplotlib import pyplot as plt\n",
    "from matplotlib import gridspec\n",
    "\n",
    "import pandas as pd\n",
    "from pingouin import mixed_anova, anova, pairwise_tukey, pairwise_tests\n",
    "import pingouin as pg\n",
    "from statsmodels.regression.mixed_linear_model import MixedLM\n",
    "import statsmodels.formula.api as smf\n",
    "\n",
    "import TwoPUtils as tpu\n",
    "import STX3KO_analyses as stx\n",
    "from STX3KO_analyses import utilities_ES as u\n",
    "\n",
    "\n",
    "\n",
    "plt.rcParams['pdf.fonttype']=42\n",
    "%matplotlib inline\n",
    "\n",
    "%load_ext autoreload\n",
    "%autoreload 2"
   ]
  },
  {
   "cell_type": "code",
   "execution_count": null,
   "id": "3522e251-73bf-46d3-809f-f7b3bb75f254",
   "metadata": {},
   "outputs": [],
   "source": []
  },
  {
   "cell_type": "code",
   "execution_count": 74,
   "id": "d8abc4f6-ec9d-4c01-a416-92517de5a5df",
   "metadata": {},
   "outputs": [],
   "source": [
    "# load session\n",
    "sparse_sessions = stx.ymaze_sess_deets.SparseKO_sessions\n",
    "mouse = 'SparseKO_02'\n",
    "d = sparse_sessions[mouse][4]\n",
    "date, scene, session, scan = d['date'], d['scene'], d['session'], d['scan']\n",
    "\n",
    "\n",
    "\n",
    "pkldir = os.path.join('C://Users/esay/data/Stx3/YMazeSessPkls/', mouse,  date, f'{scene}_{session}.pkl')\n",
    "sess = stx.session.YMazeSession.from_file(pkldir, verbose=False)\n"
   ]
  },
  {
   "cell_type": "code",
   "execution_count": 75,
   "id": "651f72c7-4cf5-4749-b6df-912808fef64b",
   "metadata": {},
   "outputs": [
    {
     "name": "stdout",
     "output_type": "stream",
     "text": [
      "[ 1.  1.  1.  1.  1.  1.  1.  1.  1.  1.  1.  1.  1.  1.  1.  1.  1.  1.\n",
      "  1.  1.  1.  1.  1.  1.  1.  1.  1.  1.  1.  1.  1.  1.  1.  1.  1.  1.\n",
      "  1.  1.  1.  1.  1.  1.  1.  1.  1.  1.  1.  1.  1.  1.  1.  1.  1.  1.\n",
      "  1.  1.  1.  1.  1.  1.  1.  1.  1.  1.  1.  1.  1.  1.  1.  1.  1.  1.\n",
      "  1.  1.  1.  1.  1.  1.  1.  1.  1. -1.  1.  1.  1. -1.  1.  1. -1.  1.\n",
      "  1.  1.  1. -1.  1. -1. -1. -1. -1. -1. -1.  1. -1.  1. -1.  1.  1. -1.\n",
      " -1.] [False False False False False False False False False False False False\n",
      " False False False False False False False False False False False False\n",
      " False False False False False False False False False False False False\n",
      " False False False False False False False False False False False False\n",
      " False False False False False False False False False False False False\n",
      " False False False False False False False False False False False False\n",
      " False False False False False False False False False  True False False\n",
      " False  True False False  True False False False False  True False  True\n",
      "  True  True  True  True  True False  True False  True False False  True\n",
      "  True]\n"
     ]
    }
   ],
   "source": [
    "trial_masks = {'channel_0_left': None,\n",
    "               'channel_0_right': None,\n",
    "               'channel_1_left': None,\n",
    "               'channel_1_right': None}\n",
    "# channel_0_mask = sess.trial_info['block_number']%2==0\n",
    "left_mask = sess.trial_info['LR']==-1\n",
    "print(sess.trial_info['LR'],left_mask)\n",
    "\n",
    "\n",
    "# trial_masks['channel_0_left'] = channel_0_mask*left_mask\n",
    "# trial_masks['channel_0_right'] = channel_0_mask*(~left_mask)\n",
    "# trial_masks['channel_1_left'] = (~channel_0_mask)*left_mask\n",
    "# trial_masks['channel_1_right'] = (~channel_0_mask)*(~left_mask)\n",
    "\n",
    "trial_masks['channel_0_left'] = left_mask\n",
    "trial_masks['channel_0_right'] = (~left_mask)\n",
    "trial_masks['channel_1_left'] = left_mask\n",
    "trial_masks['channel_1_right'] = (~left_mask)"
   ]
  },
  {
   "cell_type": "code",
   "execution_count": 52,
   "id": "c2db0447-7630-432c-83ff-765e31074132",
   "metadata": {},
   "outputs": [],
   "source": [
    "# pc mask\n",
    "\n",
    "chan0_mask_pf_left = sess.place_cell_info['channel_0_F_dff']['left']['masks']\n",
    "chan0_mask_pf_right = sess.place_cell_info['channel_0_F_dff']['right']['masks']\n",
    "chan1_mask_pf_left = sess.place_cell_info['channel_1_F_dff']['left']['masks']\n",
    "chan1_mask_pf_right = sess.place_cell_info['channel_1_F_dff']['right']['masks']\n",
    "\n",
    "chan1_mask = chan1_mask_pf_left | chan1_mask_pf_right\n",
    "chan0_mask = chan0_mask_pf_left | chan0_mask_pf_right\n",
    "\n",
    "F = sess.timeseries['channel_1_spks']\n",
    "F_chan1_mask = F[chan1_mask] \n",
    "\n",
    "F = sess.timeseries['channel_0_spks']\n",
    "F_chan0_mask = F[chan0_mask]"
   ]
  },
  {
   "cell_type": "code",
   "execution_count": 8,
   "id": "15c83f77-b34b-4f34-9ac9-10c92648fb14",
   "metadata": {},
   "outputs": [],
   "source": [
    "def run_shuffle(F, trial_starts, teleports, t, rng):\n",
    "    \n",
    "    F_shuff = np.zeros_like(F)\n",
    "    \n",
    "    for trial, (start, stop) in enumerate(zip(trial_starts, teleports)):\n",
    "        _F = 1*F[:,start:stop]    \n",
    "        _F = np.roll(_F,rng.integers(0,stop-start),axis=-1)\n",
    "        F_shuff[:,start:stop] = 1*_F\n",
    "        \n",
    "    tmat = tpu.spatial_analyses.trial_matrix(F_shuff.T,t, trial_starts,\n",
    "                                            teleports, min_pos=13, max_pos=43, bin_size=1, mat_only=True)\n",
    "    \n",
    "    return np.nanmean(tmat,axis=0)\n",
    "\n",
    "\n"
   ]
  },
  {
   "cell_type": "code",
   "execution_count": 53,
   "id": "103b9fe3-cd41-458b-b89c-46050693fa78",
   "metadata": {},
   "outputs": [],
   "source": [
    "# shuffle pc only \n",
    "\n",
    "rng = np.random.default_rng()\n",
    "\n",
    "shuff_thresh = {'channel_0_left': None,\n",
    "               'channel_0_right': None,\n",
    "               'channel_1_left': None,\n",
    "               'channel_1_right': None}\n",
    "\n",
    "\n",
    "F = F_chan0_mask\n",
    "starts, stops = sess.trial_start_inds[trial_masks['channel_0_left']], sess.teleport_inds[trial_masks['channel_0_left']]\n",
    "shuff_trial_mat = np.array(joblib.Parallel(n_jobs=-1)(joblib.delayed(run_shuffle)(F, starts, stops, sess.vr_data['t'], rng) for i in range(1000)))\n",
    "shuff_thresh['channel_0_left'] = np.nanpercentile(shuff_trial_mat[:, :, :], 99, axis=0)\n",
    "\n",
    "F = F_chan0_mask\n",
    "starts, stops = sess.trial_start_inds[trial_masks['channel_0_right']], sess.teleport_inds[trial_masks['channel_0_right']]\n",
    "shuff_trial_mat = np.array(joblib.Parallel(n_jobs=-1)(joblib.delayed(run_shuffle)(F, starts, stops, sess.vr_data['t'], rng) for i in range(1000)))\n",
    "shuff_thresh['channel_0_right'] = np.nanpercentile(shuff_trial_mat[:, :, :], 99, axis=0)\n",
    "\n",
    "\n",
    "F = F_chan1_mask\n",
    "starts, stops = sess.trial_start_inds[trial_masks['channel_1_left']], sess.teleport_inds[trial_masks['channel_1_left']]\n",
    "shuff_trial_mat = np.array(joblib.Parallel(n_jobs=-1)(joblib.delayed(run_shuffle)(F, starts, stops, sess.vr_data['t'], rng) for i in range(1000)))\n",
    "shuff_thresh['channel_1_left'] = np.nanpercentile(shuff_trial_mat[:, :, :], 99, axis=0)\n",
    "\n",
    "F = F_chan1_mask\n",
    "starts, stops = sess.trial_start_inds[trial_masks['channel_1_right']], sess.teleport_inds[trial_masks['channel_1_right']]\n",
    "shuff_trial_mat = np.array(joblib.Parallel(n_jobs=-1)(joblib.delayed(run_shuffle)(F, starts, stops, sess.vr_data['t'], rng) for i in range(1000)))\n",
    "shuff_thresh['channel_1_right'] = np.nanpercentile(shuff_trial_mat[:, :, :], 99, axis=0)\n"
   ]
  },
  {
   "cell_type": "code",
   "execution_count": 5,
   "id": "b7db57ce-4952-4ddf-8b94-a26997cba84f",
   "metadata": {},
   "outputs": [
    {
     "name": "stdout",
     "output_type": "stream",
     "text": [
      "(1000, 30, 331)\n",
      "(1000, 30, 331)\n",
      "(1000, 30, 234)\n",
      "(1000, 30, 234)\n"
     ]
    }
   ],
   "source": [
    "# all cells\n",
    "\n",
    "rng = np.random.default_rng()\n",
    "nperms = 1000\n",
    "\n",
    "shuff_thresh = {'channel_0_left': None,\n",
    "               'channel_0_right': None,\n",
    "               'channel_1_left': None,\n",
    "               'channel_1_right': None}\n",
    "\n",
    "F = sess.timeseries['channel_0_F_dff_speed_filt']\n",
    "starts, stops = sess.trial_start_inds[trial_masks['channel_0_left']], sess.teleport_inds[trial_masks['channel_0_left']]\n",
    "shuff_trial_mat = np.array(joblib.Parallel(n_jobs=-1)(joblib.delayed(run_shuffle)(F, starts, stops, sess.vr_data['t'], rng) for i in range(nperms)))\n",
    "print(shuff_trial_mat.shape)\n",
    "shuff_thresh['channel_0_left'] = np.nanpercentile(shuff_trial_mat[:, :, :], 95, axis=0)\n",
    "\n",
    "F = sess.timeseries['channel_0_F_dff_speed_filt']\n",
    "starts, stops = sess.trial_start_inds[trial_masks['channel_0_right']], sess.teleport_inds[trial_masks['channel_0_right']]\n",
    "shuff_trial_mat = np.array(joblib.Parallel(n_jobs=-1)(joblib.delayed(run_shuffle)(F, starts, stops, sess.vr_data['t'], rng) for i in range(nperms)))\n",
    "print(shuff_trial_mat.shape)\n",
    "shuff_thresh['channel_0_right'] = np.nanpercentile(shuff_trial_mat[:, :, :], 95, axis=0)\n",
    "\n",
    "\n",
    "F = sess.timeseries['channel_1_F_dff_speed_filt']\n",
    "starts, stops = sess.trial_start_inds[trial_masks['channel_1_left']], sess.teleport_inds[trial_masks['channel_1_left']]\n",
    "shuff_trial_mat = np.array(joblib.Parallel(n_jobs=-1)(joblib.delayed(run_shuffle)(F, starts, stops, sess.vr_data['t'], rng) for i in range(nperms)))\n",
    "print(shuff_trial_mat.shape)\n",
    "shuff_thresh['channel_1_left'] = np.nanpercentile(shuff_trial_mat[:, :, :], 95, axis=0)\n",
    "\n",
    "F = sess.timeseries['channel_1_F_dff_speed_filt']\n",
    "starts, stops = sess.trial_start_inds[trial_masks['channel_1_right']], sess.teleport_inds[trial_masks['channel_1_right']]\n",
    "shuff_trial_mat = np.array(joblib.Parallel(n_jobs=-1)(joblib.delayed(run_shuffle)(F, starts, stops, sess.vr_data['t'], rng) for i in range(nperms)))\n",
    "print(shuff_trial_mat.shape)\n",
    "shuff_thresh['channel_1_right'] = np.nanpercentile(shuff_trial_mat[:, :, :], 95, axis=0)\n",
    "\n",
    "\n"
   ]
  },
  {
   "cell_type": "code",
   "execution_count": 35,
   "id": "48415fc3-a0ef-4a68-bf20-df41ee9ba600",
   "metadata": {},
   "outputs": [
    {
     "ename": "IndexError",
     "evalue": "boolean index did not match indexed array along dimension 2; dimension is 270 but corresponding boolean dimension is 318",
     "output_type": "error",
     "traceback": [
      "\u001b[1;31m---------------------------------------------------------------------------\u001b[0m",
      "\u001b[1;31mIndexError\u001b[0m                                Traceback (most recent call last)",
      "Cell \u001b[1;32mIn[35], line 3\u001b[0m\n\u001b[0;32m      1\u001b[0m \u001b[38;5;66;03m# pc only \u001b[39;00m\n\u001b[1;32m----> 3\u001b[0m trial_means \u001b[38;5;241m=\u001b[39m {\u001b[38;5;124m'\u001b[39m\u001b[38;5;124mchannel_0_left\u001b[39m\u001b[38;5;124m'\u001b[39m: np\u001b[38;5;241m.\u001b[39mnanmean(\u001b[43msess\u001b[49m\u001b[38;5;241;43m.\u001b[39;49m\u001b[43mtrial_matrices\u001b[49m\u001b[43m[\u001b[49m\u001b[38;5;124;43m'\u001b[39;49m\u001b[38;5;124;43mchannel_0_spks\u001b[39;49m\u001b[38;5;124;43m'\u001b[39;49m\u001b[43m]\u001b[49m\u001b[43m[\u001b[49m\u001b[43mtrial_masks\u001b[49m\u001b[43m[\u001b[49m\u001b[38;5;124;43m'\u001b[39;49m\u001b[38;5;124;43mchannel_0_left\u001b[39;49m\u001b[38;5;124;43m'\u001b[39;49m\u001b[43m]\u001b[49m\u001b[43m,\u001b[49m\u001b[43m \u001b[49m\u001b[43m:\u001b[49m\u001b[43m \u001b[49m\u001b[43m,\u001b[49m\u001b[43m \u001b[49m\u001b[43m:\u001b[49m\u001b[43m]\u001b[49m\u001b[43m[\u001b[49m\u001b[38;5;241;43m.\u001b[39;49m\u001b[38;5;241;43m.\u001b[39;49m\u001b[38;5;241;43m.\u001b[39;49m\u001b[43m,\u001b[49m\u001b[43mchan0_mask_pf_left\u001b[49m\u001b[43m]\u001b[49m),\n\u001b[0;32m      4\u001b[0m                \u001b[38;5;124m'\u001b[39m\u001b[38;5;124mchannel_0_right\u001b[39m\u001b[38;5;124m'\u001b[39m: np\u001b[38;5;241m.\u001b[39mnanmean(sess\u001b[38;5;241m.\u001b[39mtrial_matrices[\u001b[38;5;124m'\u001b[39m\u001b[38;5;124mchannel_0_spks\u001b[39m\u001b[38;5;124m'\u001b[39m][trial_masks[\u001b[38;5;124m'\u001b[39m\u001b[38;5;124mchannel_0_right\u001b[39m\u001b[38;5;124m'\u001b[39m], : , :][\u001b[38;5;241m.\u001b[39m\u001b[38;5;241m.\u001b[39m\u001b[38;5;241m.\u001b[39m,chan0_mask_pf_right]),\n\u001b[0;32m      5\u001b[0m                \u001b[38;5;124m'\u001b[39m\u001b[38;5;124mchannel_1_left\u001b[39m\u001b[38;5;124m'\u001b[39m: np\u001b[38;5;241m.\u001b[39mnanmean(sess\u001b[38;5;241m.\u001b[39mtrial_matrices[\u001b[38;5;124m'\u001b[39m\u001b[38;5;124mchannel_1_spks\u001b[39m\u001b[38;5;124m'\u001b[39m][trial_masks[\u001b[38;5;124m'\u001b[39m\u001b[38;5;124mchannel_1_left\u001b[39m\u001b[38;5;124m'\u001b[39m], : , :][\u001b[38;5;241m.\u001b[39m\u001b[38;5;241m.\u001b[39m\u001b[38;5;241m.\u001b[39m,chan1_mask_pf_left]),\n\u001b[0;32m      6\u001b[0m                \u001b[38;5;124m'\u001b[39m\u001b[38;5;124mchannel_1_right\u001b[39m\u001b[38;5;124m'\u001b[39m: np\u001b[38;5;241m.\u001b[39mnanmean(sess\u001b[38;5;241m.\u001b[39mtrial_matrices[\u001b[38;5;124m'\u001b[39m\u001b[38;5;124mchannel_1_spks\u001b[39m\u001b[38;5;124m'\u001b[39m][trial_masks[\u001b[38;5;124m'\u001b[39m\u001b[38;5;124mchannel_1_right\u001b[39m\u001b[38;5;124m'\u001b[39m], : , :][\u001b[38;5;241m.\u001b[39m\u001b[38;5;241m.\u001b[39m\u001b[38;5;241m.\u001b[39m,chan1_mask_pf_right]),\n\u001b[0;32m      7\u001b[0m               }\n",
      "\u001b[1;31mIndexError\u001b[0m: boolean index did not match indexed array along dimension 2; dimension is 270 but corresponding boolean dimension is 318"
     ]
    }
   ],
   "source": [
    "# pc only \n",
    "\n",
    "trial_means = {'channel_0_left': np.nanmean(sess.trial_matrices['channel_0_spks'][trial_masks['channel_0_left'], : , :][...,chan0_mask_pf_left]),\n",
    "               'channel_0_right': np.nanmean(sess.trial_matrices['channel_0_spks'][trial_masks['channel_0_right'], : , :][...,chan0_mask_pf_right]),\n",
    "               'channel_1_left': np.nanmean(sess.trial_matrices['channel_1_spks'][trial_masks['channel_1_left'], : , :][...,chan1_mask_pf_left]),\n",
    "               'channel_1_right': np.nanmean(sess.trial_matrices['channel_1_spks'][trial_masks['channel_1_right'], : , :][...,chan1_mask_pf_right]),\n",
    "              }"
   ]
  },
  {
   "cell_type": "code",
   "execution_count": 36,
   "id": "bf4246c2-21bb-48d8-830f-ee2f02a9d0eb",
   "metadata": {},
   "outputs": [],
   "source": [
    "# all cells\n",
    "\n",
    "trial_means = {'channel_0_left': np.nanmean(sess.trial_matrices['channel_0_F_dff_speed_filt'][trial_masks['channel_0_left'], : , :],axis=0),\n",
    "               'channel_0_right': np.nanmean(sess.trial_matrices['channel_0_F_dff_speed_filt'][trial_masks['channel_0_right'], : , :], axis=0),\n",
    "               'channel_1_left': np.nanmean(sess.trial_matrices['channel_1_F_dff_speed_filt'][trial_masks['channel_1_left'], : , :],axis=0),\n",
    "               'channel_1_right': np.nanmean(sess.trial_matrices['channel_1_F_dff_speed_filt'][trial_masks['channel_1_right'], : , :],axis=0),\n",
    "              }"
   ]
  },
  {
   "cell_type": "code",
   "execution_count": 54,
   "id": "21981daf-2469-447a-888a-ee5954475f11",
   "metadata": {},
   "outputs": [],
   "source": [
    "\n",
    "shuff_results[mouse][5] = shuff_thresh"
   ]
  },
  {
   "cell_type": "code",
   "execution_count": 25,
   "id": "7b0d5b6d-a8a0-47ed-b4e5-fa86cb4232ba",
   "metadata": {},
   "outputs": [
    {
     "data": {
      "text/plain": [
       "-1"
      ]
     },
     "execution_count": 25,
     "metadata": {},
     "output_type": "execute_result"
    }
   ],
   "source": [
    "sess.novel_arm"
   ]
  },
  {
   "cell_type": "code",
   "execution_count": 28,
   "id": "8f4016f6-6907-46d0-8cbb-a64bf82aeb2c",
   "metadata": {},
   "outputs": [
    {
     "ename": "KeyError",
     "evalue": "1",
     "output_type": "error",
     "traceback": [
      "\u001b[1;31m---------------------------------------------------------------------------\u001b[0m",
      "\u001b[1;31mKeyError\u001b[0m                                  Traceback (most recent call last)",
      "Cell \u001b[1;32mIn[28], line 1\u001b[0m\n\u001b[1;32m----> 1\u001b[0m \u001b[43mshuff_results\u001b[49m\u001b[43m[\u001b[49m\u001b[38;5;241;43m1\u001b[39;49m\u001b[43m]\u001b[49m\n",
      "\u001b[1;31mKeyError\u001b[0m: 1"
     ]
    }
   ],
   "source": [
    "shuff_results[1]"
   ]
  },
  {
   "cell_type": "code",
   "execution_count": 16,
   "id": "50ed1d51-1324-4a17-b4af-9ac85f55bb08",
   "metadata": {},
   "outputs": [
    {
     "data": {
      "text/plain": [
       "array([ 1.,  1.,  1.,  1.,  1.,  1.,  1.,  1.,  1.,  1.,  1.,  1.,  1.,\n",
       "        1.,  1.,  1.,  1.,  1.,  1.,  1.,  1.,  1.,  1.,  1.,  1.,  1.,\n",
       "        1.,  1.,  1.,  1.,  1.,  1.,  1.,  1.,  1.,  1.,  1.,  1.,  1.,\n",
       "        1.,  1.,  1.,  1.,  1.,  1.,  1.,  1.,  1.,  1.,  1.,  1.,  1.,\n",
       "        1.,  1.,  1.,  1.,  1.,  1.,  1.,  1.,  1.,  1.,  1.,  1.,  1.,\n",
       "        1.,  1.,  1.,  1.,  1.,  1.,  1.,  1.,  1.,  1.,  1.,  1.,  1.,\n",
       "        1.,  1.,  1.,  1.,  1.,  1.,  1.,  1.,  1.,  1.,  1.,  1.,  1.,\n",
       "        1.,  1.,  1.,  1.,  1.,  1.,  1.,  1.,  1.,  1.,  1.,  1.,  1.,\n",
       "       -1.,  1.,  1., -1., -1.,  1., -1.,  1., -1.,  1.,  1., -1., -1.,\n",
       "       -1., -1., -1.,  1., -1.,  1., -1., -1.,  1.,  1.,  1., -1.,  1.,\n",
       "        1., -1.,  1., -1.,  1.,  1., -1.,  1., -1., -1.])"
      ]
     },
     "execution_count": 16,
     "metadata": {},
     "output_type": "execute_result"
    }
   ],
   "source": [
    "sess.trial_info['LR']"
   ]
  },
  {
   "cell_type": "code",
   "execution_count": 158,
   "id": "881030bc-4aed-4622-8c2e-500879f0c8e6",
   "metadata": {},
   "outputs": [],
   "source": [
    "# def make_masks(sess):\n",
    "#     trial_masks = {'channel_0_left': None,\n",
    "#                'channel_0_right': None,\n",
    "#                'channel_1_left': None,\n",
    "#                'channel_1_right': None}\n",
    "\n",
    "#     left_mask = sess.trial_info['LR']==-1\n",
    "#     # print(sess.trial_info['LR'],left_mask)\n",
    "    \n",
    "#     trial_masks['channel_0_left'] = left_mask\n",
    "#     trial_masks['channel_0_right'] = (~left_mask)\n",
    "#     trial_masks['channel_1_left'] = left_mask\n",
    "#     trial_masks['channel_1_right'] = (~left_mask)\n",
    "\n",
    "\n",
    "#     chan0_mask_pf_left = sess.place_cell_info['channel_0_F_dff']['left']['masks']\n",
    "#     chan0_mask_pf_right = sess.place_cell_info['channel_0_F_dff']['right']['masks']\n",
    "#     chan1_mask_pf_left = sess.place_cell_info['channel_1_F_dff']['left']['masks']\n",
    "#     chan1_mask_pf_right = sess.place_cell_info['channel_1_F_dff']['right']['masks']\n",
    "    \n",
    "#     chan1_mask = chan1_mask_pf_left | chan1_mask_pf_right\n",
    "#     chan0_mask = chan0_mask_pf_left | chan0_mask_pf_right\n",
    "    \n",
    "#     F1 = sess.timeseries['channel_1_spks']\n",
    "#     F_chan1_mask = F1[chan1_mask] \n",
    "    \n",
    "#     F0 = sess.timeseries['channel_0_spks']\n",
    "#     F_chan0_mask = F0[chan0_mask]\n",
    "\n",
    "#     return trial_masks"
   ]
  },
  {
   "cell_type": "code",
   "execution_count": 165,
   "id": "07f834e1-395b-479d-8949-309a3a712f41",
   "metadata": {},
   "outputs": [],
   "source": [
    "def make_masks(sess):\n",
    "    trial_masks = {'channel_0_left': None,\n",
    "               'channel_0_right': None,\n",
    "               'channel_1_left': None,\n",
    "               'channel_1_right': None}\n",
    "    left_mask = sess.trial_info['LR']==-1\n",
    "    \n",
    "    trial_masks['channel_0_left'] = left_mask\n",
    "    trial_masks['channel_0_right'] = ~left_mask\n",
    "    trial_masks['channel_1_left'] = left_mask\n",
    "    trial_masks['channel_1_right'] = ~left_mask\n",
    "\n",
    "    return trial_masks"
   ]
  },
  {
   "cell_type": "code",
   "execution_count": 124,
   "id": "32061048-4fb5-46e1-85c3-f87c86f9aed7",
   "metadata": {},
   "outputs": [
    {
     "data": {
      "text/plain": [
       "(270,)"
      ]
     },
     "execution_count": 124,
     "metadata": {},
     "output_type": "execute_result"
    }
   ],
   "source": [
    "np.where(chan0_mask)[0].shape\n",
    "chan0_mask.shape"
   ]
  },
  {
   "cell_type": "code",
   "execution_count": 28,
   "id": "0a731068-2fa4-47ca-800e-50c02687bb9e",
   "metadata": {},
   "outputs": [],
   "source": [
    "# trial_means['SparseKO_02'][4]= {'channel_0_nov_mean': np.nanmean(sess.trial_matrices['channel_0_F_dff_speed_filt'][trial_masks['channel_0_left'], : , :],axis=0),\n",
    "#                'channel_0_fam_mean': np.nanmean(sess.trial_matrices['channel_0_F_dff_speed_filt'][trial_masks['channel_0_right'], : , :], axis=0),\n",
    "#                'channel_1_nov_mean': np.nanmean(sess.trial_matrices['channel_1_F_dff_speed_filt'][trial_masks['channel_1_left'], : , :],axis=0),\n",
    "#                'channel_1_fam_mean': np.nanmean(sess.trial_matrices['channel_1_F_dff_speed_filt'][trial_masks['channel_1_right'], : , :],axis=0),\n",
    "#               }\n",
    "for day in range(6):\n",
    "    trial_means['SparseKO_03'][day]= {'channel_0_left': np.nanmean(sess.trial_matrices['channel_0_F_dff'][trial_masks['channel_0_left'], : , :][...,chan0_mask_pf_left]),\n",
    "               'channel_0_right': np.nanmean(sess.trial_matrices['channel_0_F_dff'][trial_masks['channel_0_right'], : , :][...,chan0_mask_pf_right]),\n",
    "               'channel_1_left': np.nanmean(sess.trial_matrices['channel_1_F_dff'][trial_masks['channel_1_left'], : , :][...,chan1_mask_pf_left]),\n",
    "               'channel_1_right': np.nanmean(sess.trial_matrices['channel_1_F_dff'][trial_masks['channel_1_right'], : , :][...,chan1_mask_pf_right]),\n",
    "              }"
   ]
  },
  {
   "cell_type": "code",
   "execution_count": 166,
   "id": "a948cb21-fe57-488d-ab6c-8497d9189788",
   "metadata": {},
   "outputs": [],
   "source": [
    "def get_field_info(shuff_thresh, trial_means):\n",
    "    field_info = {'channel_0_left': [],\n",
    "               'channel_0_right': [],\n",
    "               'channel_1_left': [],\n",
    "               'channel_1_right': []}\n",
    "\n",
    "    for k, thresh in shuff_thresh.items():\n",
    "        \n",
    "        sig_bins = trial_means[k]>thresh\n",
    "    \n",
    "        # eliminate fields that start at first bin of track or end at last bin of track\n",
    "        \n",
    "    \n",
    "        ledges = np.argwhere(sig_bins[1:,:]>sig_bins[:-1,:])\n",
    "        \n",
    "        for _ledge in ledges:\n",
    "    \n",
    "            rem_trial = sig_bins[_ledge[0]:,_ledge[1]]\n",
    "            _redge = np.argwhere(rem_trial[1:]<rem_trial[:-1])\n",
    "            # print(_redge.size)\n",
    "            if (_redge.shape[0]>0) and (_redge[0][0]>2) and (_redge[0][0]<15) and (_ledge[0]>0):\n",
    "                field_info[k].append([_ledge[1], _ledge[0], _redge[0][0]])\n",
    "    \n",
    "    \n",
    "    for k,v in field_info.items():\n",
    "        field_info[k]=np.array(v)\n",
    "\n",
    "    return field_info"
   ]
  },
  {
   "cell_type": "code",
   "execution_count": 183,
   "id": "8ee3f859-af0c-4bc3-993a-6959e4ac19e5",
   "metadata": {},
   "outputs": [
    {
     "data": {
      "text/plain": [
       "('SparseKO_02', 'SparseKO_03')"
      ]
     },
     "execution_count": 183,
     "metadata": {},
     "output_type": "execute_result"
    }
   ],
   "source": [
    "sparse_mice[1:3]"
   ]
  },
  {
   "cell_type": "code",
   "execution_count": 186,
   "id": "dea01caa-4bad-49b1-b52d-8a47d183c207",
   "metadata": {},
   "outputs": [
    {
     "name": "stdout",
     "output_type": "stream",
     "text": [
      "SparseKO_02\n",
      "{'date': '16_11_2024', 'scene': 'YMaze_LNovel', 'session': 4, 'scan': 14, 'novel_arm': -1, 'exp_day': 1}\n",
      "{'date': '17_11_2024', 'scene': 'YMaze_LNovel', 'session': 1, 'scan': 25, 'novel_arm': -1, 'exp_day': 2}\n",
      "{'date': '18_11_2024', 'scene': 'YMaze_LNovel', 'session': 1, 'scan': 18, 'novel_arm': -1, 'exp_day': 3}\n",
      "{'date': '19_11_2024', 'scene': 'YMaze_LNovel', 'session': 1, 'scan': 4, 'novel_arm': -1, 'exp_day': 4}\n",
      "{'date': '20_11_2024', 'scene': 'YMaze_LNovel', 'session': 1, 'scan': 12, 'novel_arm': -1, 'exp_day': 5}\n",
      "{'date': '21_11_2024', 'scene': 'YMaze_LNovel', 'session': 2, 'scan': 8, 'novel_arm': -1, 'exp_day': 6}\n"
     ]
    }
   ],
   "source": [
    "sparse_mice = stx.ymaze_sess_deets.sparse_mice\n",
    "# shuff_results = {}\n",
    "# trial_means = {}\n",
    "# field_info = {}\n",
    "\n",
    "for mouse in sparse_mice[1:2]:\n",
    "    print(mouse)\n",
    "    # shuff_results[mouse] = {}\n",
    "    trial_means[mouse] = {}\n",
    "    field_info[mouse] = {}\n",
    "    for day in range(6):\n",
    "\n",
    "        # set up output dicts\n",
    "        # shuff_results[mouse][day] = {}\n",
    "        trial_means[mouse][day] = {}\n",
    "        field_info[mouse][day] = {}\n",
    "\n",
    "        # load sess file\n",
    "        sess = u.load_single_day(mouse, day)\n",
    "\n",
    "        # make LR masks\n",
    "        trial_masks = make_masks(sess)\n",
    "\n",
    "\n",
    "        # rng = np.random.default_rng()\n",
    "\n",
    "        # shuff_thresh = {'channel_0_left': None,\n",
    "        #                'channel_0_right': None,\n",
    "        #                'channel_1_left': None,\n",
    "        #                'channel_1_right': None}\n",
    "        \n",
    "        # F1 = F_chan0_mask\n",
    "        # starts, stops = sess.trial_start_inds[trial_masks['channel_0_left']], sess.teleport_inds[trial_masks['channel_0_left']]\n",
    "        # shuff_trial_mat = np.array(joblib.Parallel(n_jobs=-1)(joblib.delayed(run_shuffle)(F1, starts, stops, sess.vr_data['t'], rng) for i in range(1000)))\n",
    "        # shuff_thresh['channel_0_left'] = np.nanpercentile(shuff_trial_mat[:, :, :], 99, axis=0)\n",
    "        \n",
    "        # F2 = F_chan0_mask\n",
    "        # starts, stops = sess.trial_start_inds[trial_masks['channel_0_right']], sess.teleport_inds[trial_masks['channel_0_right']]\n",
    "        # shuff_trial_mat = np.array(joblib.Parallel(n_jobs=-1)(joblib.delayed(run_shuffle)(F2, starts, stops, sess.vr_data['t'], rng) for i in range(1000)))\n",
    "        # shuff_thresh['channel_0_right'] = np.nanpercentile(shuff_trial_mat[:, :, :], 99, axis=0)\n",
    "        \n",
    "        \n",
    "        # F3 = F_chan1_mask\n",
    "        # starts, stops = sess.trial_start_inds[trial_masks['channel_1_left']], sess.teleport_inds[trial_masks['channel_1_left']]\n",
    "        # shuff_trial_mat = np.array(joblib.Parallel(n_jobs=-1)(joblib.delayed(run_shuffle)(F3, starts, stops, sess.vr_data['t'], rng) for i in range(1000)))\n",
    "        # shuff_thresh['channel_1_left'] = np.nanpercentile(shuff_trial_mat[:, :, :], 99, axis=0)\n",
    "        \n",
    "        # F4 = F_chan1_mask\n",
    "        # starts, stops = sess.trial_start_inds[trial_masks['channel_1_right']], sess.teleport_inds[trial_masks['channel_1_right']]\n",
    "        # shuff_trial_mat = np.array(joblib.Parallel(n_jobs=-1)(joblib.delayed(run_shuffle)(F4, starts, stops, sess.vr_data['t'], rng) for i in range(1000)))\n",
    "        # shuff_thresh['channel_1_right'] = np.nanpercentile(shuff_trial_mat[:, :, :], 99, axis=0)\n",
    "\n",
    "\n",
    "        # run shuffle \n",
    "        rng = np.random.default_rng()\n",
    "\n",
    "        shuff_thresh = {'channel_0_left': None,\n",
    "                       'channel_0_right': None,\n",
    "                       'channel_1_left': None,\n",
    "                       'channel_1_right': None}\n",
    "        \n",
    "        F1 = sess.timeseries['channel_0_spks']\n",
    "        starts, stops = sess.trial_start_inds[trial_masks['channel_0_left']], sess.teleport_inds[trial_masks['channel_0_left']]\n",
    "        shuff_trial_mat = np.array(joblib.Parallel(n_jobs=-1)(joblib.delayed(run_shuffle)(F1, starts, stops, sess.vr_data['t'], rng) for i in range(1000)))\n",
    "        shuff_thresh['channel_0_left'] = np.nanpercentile(shuff_trial_mat[:, :, :], 99, axis=0)\n",
    "        \n",
    "        F2 = sess.timeseries['channel_0_spks']\n",
    "        starts, stops = sess.trial_start_inds[trial_masks['channel_0_right']], sess.teleport_inds[trial_masks['channel_0_right']]\n",
    "        shuff_trial_mat = np.array(joblib.Parallel(n_jobs=-1)(joblib.delayed(run_shuffle)(F2, starts, stops, sess.vr_data['t'], rng) for i in range(1000)))\n",
    "        shuff_thresh['channel_0_right'] = np.nanpercentile(shuff_trial_mat[:, :, :], 99, axis=0)\n",
    "        \n",
    "        \n",
    "        F3 = sess.timeseries['channel_1_spks']\n",
    "        starts, stops = sess.trial_start_inds[trial_masks['channel_1_left']], sess.teleport_inds[trial_masks['channel_1_left']]\n",
    "        shuff_trial_mat = np.array(joblib.Parallel(n_jobs=-1)(joblib.delayed(run_shuffle)(F3, starts, stops, sess.vr_data['t'], rng) for i in range(1000)))\n",
    "        shuff_thresh['channel_1_left'] = np.nanpercentile(shuff_trial_mat[:, :, :], 99, axis=0)\n",
    "        \n",
    "        F4 = sess.timeseries['channel_1_spks']\n",
    "        starts, stops = sess.trial_start_inds[trial_masks['channel_1_right']], sess.teleport_inds[trial_masks['channel_1_right']]\n",
    "        shuff_trial_mat = np.array(joblib.Parallel(n_jobs=-1)(joblib.delayed(run_shuffle)(F4, starts, stops, sess.vr_data['t'], rng) for i in range(1000)))\n",
    "        shuff_thresh['channel_1_right'] = np.nanpercentile(shuff_trial_mat[:, :, :], 99, axis=0)\n",
    "        \n",
    "        \n",
    "        # caluculate trial means\n",
    "        temp_trial_means= {'channel_0_left': np.nanmean(sess.trial_matrices['channel_0_spks'][trial_masks['channel_0_left'], : , :],axis=0),\n",
    "               'channel_0_right': np.nanmean(sess.trial_matrices['channel_0_spks'][trial_masks['channel_0_right'], : , :],axis=0),\n",
    "               'channel_1_left': np.nanmean(sess.trial_matrices['channel_1_spks'][trial_masks['channel_1_left'], : , :],axis=0),\n",
    "               'channel_1_right': np.nanmean(sess.trial_matrices['channel_1_spks'][trial_masks['channel_1_right'], : , :],axis=0),\n",
    "              }\n",
    "        \n",
    "        \n",
    "        shuff_thresh = shuff_results[mouse][day]\n",
    "        temp_field_info = get_field_info(shuff_thresh, temp_trial_means)\n",
    "\n",
    "        # shuff_results[mouse][day] = shuff_thresh # save to shuff_results\n",
    "        trial_means[mouse][day] = temp_trial_means # save to trial_means\n",
    "        field_info[mouse][day] = temp_field_info #save to field info\n",
    "        \n"
   ]
  },
  {
   "cell_type": "code",
   "execution_count": 203,
   "id": "2777ff68-7e46-459e-9f6d-739dc6c27e6b",
   "metadata": {},
   "outputs": [],
   "source": [
    "import pickle \n",
    "with open('C://Users/esay/data/Stx3/YMazeSessPkls/place_field_shuff_results.pkl','wb') as file:\n",
    "        pickle.dump(shuff_results,file)"
   ]
  },
  {
   "cell_type": "code",
   "execution_count": 204,
   "id": "d0f7b427-9d9d-4226-be81-a0894dcbf1ef",
   "metadata": {},
   "outputs": [],
   "source": [
    "with open('C://Users/esay/data/Stx3/YMazeSessPkls/place_field_trial_means.pkl','wb') as file:\n",
    "        pickle.dump(trial_means,file)"
   ]
  },
  {
   "cell_type": "code",
   "execution_count": 205,
   "id": "55742767-6b9c-46c0-8c35-f832f54e4518",
   "metadata": {},
   "outputs": [],
   "source": [
    "with open('C://Users/esay/data/Stx3/YMazeSessPkls/field_info.pkl','wb') as file:\n",
    "        pickle.dump(field_info,file)"
   ]
  },
  {
   "cell_type": "code",
   "execution_count": 193,
   "id": "c70d05b3-a0ca-4226-bdfa-5b6ad873e78a",
   "metadata": {},
   "outputs": [
    {
     "data": {
      "text/plain": [
       "dict_keys(['channel_0_left', 'channel_0_right', 'channel_1_left', 'channel_1_right'])"
      ]
     },
     "execution_count": 193,
     "metadata": {},
     "output_type": "execute_result"
    }
   ],
   "source": [
    "field_info['SparseKO_05'][1].keys()"
   ]
  },
  {
   "cell_type": "code",
   "execution_count": 189,
   "id": "460636ef-40f6-4ee2-93b1-8b5adfd93494",
   "metadata": {},
   "outputs": [
    {
     "data": {
      "text/plain": [
       "(30, 18)"
      ]
     },
     "execution_count": 189,
     "metadata": {},
     "output_type": "execute_result"
    }
   ],
   "source": [
    "shuff_results['SparseKO_03'][5]['channel_1_right'].shape"
   ]
  },
  {
   "cell_type": "code",
   "execution_count": 190,
   "id": "718c5ac0-04cc-4f2f-8c0d-58e6a1cb5f9b",
   "metadata": {
    "scrolled": true
   },
   "outputs": [
    {
     "data": {
      "text/plain": [
       "(30, 18)"
      ]
     },
     "execution_count": 190,
     "metadata": {},
     "output_type": "execute_result"
    }
   ],
   "source": [
    "trial_means['SparseKO_03'][5]['channel_1_right'].shape"
   ]
  },
  {
   "cell_type": "code",
   "execution_count": 200,
   "id": "99c66642-31a7-4040-9bba-5c0cdfae4ac2",
   "metadata": {},
   "outputs": [
    {
     "data": {
      "text/plain": [
       "dict_keys(['channel_0_left', 'channel_0_right', 'channel_1_left', 'channel_1_right'])"
      ]
     },
     "execution_count": 200,
     "metadata": {},
     "output_type": "execute_result"
    }
   ],
   "source": [
    "field_info[mouse][day].keys()"
   ]
  },
  {
   "cell_type": "code",
   "execution_count": 213,
   "id": "5ecad41e-fe4e-4d89-92c8-223227d32aac",
   "metadata": {
    "scrolled": true
   },
   "outputs": [],
   "source": [
    "df = {'mouse': [],\n",
    "      'cond':[],\n",
    "      'ttype':[],\n",
    "      'day':[],\n",
    "      'field_width':[],\n",
    "      'n_fields':[]}\n",
    "\n",
    "for mouse in sparse_mice:\n",
    "    for day in range(6):\n",
    "        for key in field_info[mouse][day].keys():\n",
    "            df['mouse'].append(mouse)\n",
    "            df['day'].append(day)\n",
    "\n",
    "            if 'channel_0' in key:\n",
    "                df['cond'].append('cre') # seperate channel0 from left and right\n",
    "            elif 'channel_1' in key:\n",
    "                df['cond'].append('ctrl')\n",
    "\n",
    "            if mouse == \"SparseKO_02\" or \"SparseKO_05\":\n",
    "                if 'left' in key:\n",
    "                    df['ttype'].append('nov')\n",
    "                elif 'right' in key:\n",
    "                    df['ttype'].append('fam')\n",
    "            elif mouse == \"SparseKO_03\":\n",
    "                if 'left' in key:\n",
    "                    df['ttype'].append('fam')\n",
    "                elif 'right' in key:\n",
    "                    df['ttype'].append('nov')\n",
    "\n",
    "            f_info = np.array(field_info[mouse][day][key])\n",
    "\n",
    "            if f_info.size > 0:\n",
    "                df['field_width'].append(f_info[:,2].mean())\n",
    "                cell_list = np.unique(f_info[:,0])\n",
    "                df['n_fields'].append(np.array([np.count_nonzero(f_info[:,0]==cell) for cell in cell_list]).mean())\n",
    "            else:\n",
    "                df['field_width'].append(np.nan)\n",
    "                df['n_fields'].append(0)\n",
    "\n",
    "            \n",
    "df = pd.DataFrame(df)\n"
   ]
  },
  {
   "cell_type": "code",
   "execution_count": 214,
   "id": "114b8418-e514-4a9b-a7f5-9e03d938eddc",
   "metadata": {},
   "outputs": [
    {
     "data": {
      "text/html": [
       "<div>\n",
       "<style scoped>\n",
       "    .dataframe tbody tr th:only-of-type {\n",
       "        vertical-align: middle;\n",
       "    }\n",
       "\n",
       "    .dataframe tbody tr th {\n",
       "        vertical-align: top;\n",
       "    }\n",
       "\n",
       "    .dataframe thead th {\n",
       "        text-align: right;\n",
       "    }\n",
       "</style>\n",
       "<table border=\"1\" class=\"dataframe\">\n",
       "  <thead>\n",
       "    <tr style=\"text-align: right;\">\n",
       "      <th></th>\n",
       "      <th>mouse</th>\n",
       "      <th>cond</th>\n",
       "      <th>ttype</th>\n",
       "      <th>day</th>\n",
       "      <th>field_width</th>\n",
       "      <th>n_fields</th>\n",
       "    </tr>\n",
       "  </thead>\n",
       "  <tbody>\n",
       "    <tr>\n",
       "      <th>0</th>\n",
       "      <td>SparseKO_05</td>\n",
       "      <td>cre</td>\n",
       "      <td>nov</td>\n",
       "      <td>0</td>\n",
       "      <td>5.111437</td>\n",
       "      <td>1.397541</td>\n",
       "    </tr>\n",
       "    <tr>\n",
       "      <th>1</th>\n",
       "      <td>SparseKO_05</td>\n",
       "      <td>cre</td>\n",
       "      <td>fam</td>\n",
       "      <td>0</td>\n",
       "      <td>5.158537</td>\n",
       "      <td>1.281250</td>\n",
       "    </tr>\n",
       "    <tr>\n",
       "      <th>2</th>\n",
       "      <td>SparseKO_05</td>\n",
       "      <td>ctrl</td>\n",
       "      <td>nov</td>\n",
       "      <td>0</td>\n",
       "      <td>4.837500</td>\n",
       "      <td>1.176471</td>\n",
       "    </tr>\n",
       "    <tr>\n",
       "      <th>3</th>\n",
       "      <td>SparseKO_05</td>\n",
       "      <td>ctrl</td>\n",
       "      <td>fam</td>\n",
       "      <td>0</td>\n",
       "      <td>6.000000</td>\n",
       "      <td>1.176471</td>\n",
       "    </tr>\n",
       "    <tr>\n",
       "      <th>4</th>\n",
       "      <td>SparseKO_05</td>\n",
       "      <td>cre</td>\n",
       "      <td>nov</td>\n",
       "      <td>1</td>\n",
       "      <td>4.868914</td>\n",
       "      <td>1.271429</td>\n",
       "    </tr>\n",
       "    <tr>\n",
       "      <th>...</th>\n",
       "      <td>...</td>\n",
       "      <td>...</td>\n",
       "      <td>...</td>\n",
       "      <td>...</td>\n",
       "      <td>...</td>\n",
       "      <td>...</td>\n",
       "    </tr>\n",
       "    <tr>\n",
       "      <th>67</th>\n",
       "      <td>SparseKO_03</td>\n",
       "      <td>ctrl</td>\n",
       "      <td>fam</td>\n",
       "      <td>4</td>\n",
       "      <td>5.166667</td>\n",
       "      <td>1.200000</td>\n",
       "    </tr>\n",
       "    <tr>\n",
       "      <th>68</th>\n",
       "      <td>SparseKO_03</td>\n",
       "      <td>cre</td>\n",
       "      <td>nov</td>\n",
       "      <td>5</td>\n",
       "      <td>4.822222</td>\n",
       "      <td>1.168831</td>\n",
       "    </tr>\n",
       "    <tr>\n",
       "      <th>69</th>\n",
       "      <td>SparseKO_03</td>\n",
       "      <td>cre</td>\n",
       "      <td>fam</td>\n",
       "      <td>5</td>\n",
       "      <td>5.029412</td>\n",
       "      <td>1.416667</td>\n",
       "    </tr>\n",
       "    <tr>\n",
       "      <th>70</th>\n",
       "      <td>SparseKO_03</td>\n",
       "      <td>ctrl</td>\n",
       "      <td>nov</td>\n",
       "      <td>5</td>\n",
       "      <td>5.411765</td>\n",
       "      <td>1.307692</td>\n",
       "    </tr>\n",
       "    <tr>\n",
       "      <th>71</th>\n",
       "      <td>SparseKO_03</td>\n",
       "      <td>ctrl</td>\n",
       "      <td>fam</td>\n",
       "      <td>5</td>\n",
       "      <td>5.750000</td>\n",
       "      <td>1.230769</td>\n",
       "    </tr>\n",
       "  </tbody>\n",
       "</table>\n",
       "<p>72 rows × 6 columns</p>\n",
       "</div>"
      ],
      "text/plain": [
       "          mouse  cond ttype  day  field_width  n_fields\n",
       "0   SparseKO_05   cre   nov    0     5.111437  1.397541\n",
       "1   SparseKO_05   cre   fam    0     5.158537  1.281250\n",
       "2   SparseKO_05  ctrl   nov    0     4.837500  1.176471\n",
       "3   SparseKO_05  ctrl   fam    0     6.000000  1.176471\n",
       "4   SparseKO_05   cre   nov    1     4.868914  1.271429\n",
       "..          ...   ...   ...  ...          ...       ...\n",
       "67  SparseKO_03  ctrl   fam    4     5.166667  1.200000\n",
       "68  SparseKO_03   cre   nov    5     4.822222  1.168831\n",
       "69  SparseKO_03   cre   fam    5     5.029412  1.416667\n",
       "70  SparseKO_03  ctrl   nov    5     5.411765  1.307692\n",
       "71  SparseKO_03  ctrl   fam    5     5.750000  1.230769\n",
       "\n",
       "[72 rows x 6 columns]"
      ]
     },
     "execution_count": 214,
     "metadata": {},
     "output_type": "execute_result"
    }
   ],
   "source": [
    "df"
   ]
  },
  {
   "cell_type": "code",
   "execution_count": 216,
   "id": "5eed63aa-4e61-45f2-9f62-f4c6afaacfb0",
   "metadata": {},
   "outputs": [
    {
     "data": {
      "image/png": "[encoded data removed]",
      "text/plain": [
       "<Figure size 1500x500 with 2 Axes>"
      ]
     },
     "metadata": {},
     "output_type": "display_data"
    }
   ],
   "source": [
    "lw = 5\n",
    "s = 10\n",
    "fig, ax = plt.subplots(1,2, figsize=[15,5], sharey=True)\n",
    "\n",
    "# population plots\n",
    "for day in range(6):\n",
    "    \n",
    "    mask = (df['cond']=='ctrl') & (df['day']==day) & (df['ttype']=='fam')\n",
    "    fw = 10.*df['field_width'].loc[mask]._values\n",
    "    ax[0].scatter(5*day -1 + np.linspace(-0.05, 0.05, num=fw.shape[0]), fw, color='black', s=s)\n",
    "    ax[0].plot(5*day -1 + np.array([-0.2, .2]), fw.mean()*np.ones([2,]), color='black', linewidth=lw,alpha = .3)\n",
    "    \n",
    "    mask = (df['cond']=='ctrl') & (df['day']==day) & (df['ttype']=='nov')\n",
    "    fw = 10.*df['field_width'].loc[mask]._values\n",
    "    ax[1].scatter(5*day -1 + np.linspace(-0.05, 0.05, num=fw.shape[0]), fw, color='black', s=s, alpha = 1)\n",
    "    ax[1].plot(5*day -1 + np.array([-0.2, .2]), fw.mean()*np.ones([2,]), color='black', linewidth=lw,alpha = .3)\n",
    "    \n",
    "    mask = (df['cond']=='cre') & (df['day']==day) & (df['ttype']=='fam')\n",
    "    fw = 10.*df['field_width'].loc[mask]._values\n",
    "    ax[0].scatter(5*day +1 + np.linspace(-0.05, 0.05, num=fw.shape[0]), fw, color='red', s=s)\n",
    "    ax[0].plot(5*day + 1 + np.array([-0.2, .2]), fw.mean()*np.ones([2,]), color='red', linewidth=lw,alpha = .3)\n",
    "    \n",
    "    mask = (df['cond']=='cre') & (df['day']==day) & (df['ttype']=='nov')\n",
    "    fw = 10.*df['field_width'].loc[mask]._values\n",
    "    ax[1].scatter(5*day +1 + np.linspace(-0.05, 0.05, num=fw.shape[0]), fw, color='red', s=s, alpha=1)\n",
    "    ax[1].plot(5*day + 1 + np.array([-0.2, .2]), fw.mean()*np.ones([2,]), color='red', linewidth=lw,alpha = .3)\n",
    "    \n",
    "\n",
    "ax[0].set_title('Familiar')\n",
    "ax[1].set_title('Novel')\n",
    "    \n",
    "for a in range(2):\n",
    "\n",
    "    ax[a].set_xticks(np.arange(0,6*5,5))\n",
    "    ax[a].set_xticklabels([x for x in range(1,7)])\n",
    "\n",
    "    ax[a].spines['top'].set_visible(False)\n",
    "    ax[a].spines['right'].set_visible(False)\n",
    "\n",
    "    ax[a].set_ylabel('Field Width')\n",
    "    ax[a].set_xlabel('Day')\n",
    "\n",
    "figdir = \"C://Users/esay/data/Stx3/fig_scratch/behavior\"\n",
    "fig.savefig(os.path.join(figdir, \"field_width_across_mouse_summary.pdf\"))"
   ]
  },
  {
   "cell_type": "code",
   "execution_count": 223,
   "id": "e659a53b-a4c2-4d5d-a3ce-4e965388a5db",
   "metadata": {},
   "outputs": [
    {
     "data": {
      "image/png": "[encoded data removed]",
      "text/plain": [
       "<Figure size 1500x500 with 2 Axes>"
      ]
     },
     "metadata": {},
     "output_type": "display_data"
    }
   ],
   "source": [
    "lw = 5\n",
    "s = 10\n",
    "fig, ax = plt.subplots(1, 2, figsize=[15, 5], sharey=True)\n",
    "# Iterate through days\n",
    "for day in range(6):\n",
    "    # Plot ctrl fam (black) and cre fam (red) in Familiar\n",
    "    mask_ctrl_fam = (df['cond'] == 'ctrl') & (df['day'] == day) & (df['ttype'] == 'fam')\n",
    "    mask_cre_fam = (df['cond'] == 'cre') & (df['day'] == day) & (df['ttype'] == 'fam')\n",
    "    # Extract mouse names and field widths\n",
    "    ctrl_fam = df.loc[mask_ctrl_fam, ['mouse', 'field_width']].reset_index(drop=True)\n",
    "    cre_fam = df.loc[mask_cre_fam, ['mouse', 'field_width']].reset_index(drop=True)\n",
    "    # Plot black and red dots\n",
    "    ax[0].scatter(5*day - 1 + np.linspace(-0.05, 0.05, num=len(ctrl_fam)), 10*ctrl_fam['field_width'], color='black', s=s)\n",
    "    ax[0].scatter(5*day + 1 + np.linspace(-0.05, 0.05, num=len(cre_fam)), 10*cre_fam['field_width'], color='red', s=s)\n",
    "    # Draw lines between matching mouse names\n",
    "    for mouse in ctrl_fam['mouse']:\n",
    "        if mouse in cre_fam['mouse'].values:\n",
    "            y1 = 10 * ctrl_fam.loc[ctrl_fam['mouse'] == mouse, 'field_width'].values[0]\n",
    "            y2 = 10 * cre_fam.loc[cre_fam['mouse'] == mouse, 'field_width'].values[0]\n",
    "            ax[0].plot([5*day - 1, 5*day + 1], [y1, y2], color='gray', linestyle='-', linewidth=1, alpha=0.7)\n",
    "    # Plot ctrl nov (black) and cre nov (red) in Novel\n",
    "    mask_ctrl_nov = (df['cond'] == 'ctrl') & (df['day'] == day) & (df['ttype'] == 'nov')\n",
    "    mask_cre_nov = (df['cond'] == 'cre') & (df['day'] == day) & (df['ttype'] == 'nov')\n",
    "    ctrl_nov = df.loc[mask_ctrl_nov, ['mouse', 'field_width']].reset_index(drop=True)\n",
    "    cre_nov = df.loc[mask_cre_nov, ['mouse', 'field_width']].reset_index(drop=True)\n",
    "    ax[1].scatter(5*day - 1 + np.linspace(-0.05, 0.05, num=len(ctrl_nov)), 10*ctrl_nov['field_width'], color='black', s=s)\n",
    "    ax[1].scatter(5*day + 1 + np.linspace(-0.05, 0.05, num=len(cre_nov)), 10*cre_nov['field_width'], color='red', s=s)\n",
    "    # Draw lines between matching mouse names\n",
    "    for mouse in ctrl_nov['mouse']:\n",
    "        if mouse in cre_nov['mouse'].values:\n",
    "            y1 = 10 * ctrl_nov.loc[ctrl_nov['mouse'] == mouse, 'field_width'].values[0]\n",
    "            y2 = 10 * cre_nov.loc[cre_nov['mouse'] == mouse, 'field_width'].values[0]\n",
    "            ax[1].plot([5*day - 1, 5*day + 1], [y1, y2], color='gray', linestyle='-', linewidth=1, alpha=0.7)\n",
    "# Set titles and labels\n",
    "ax[0].set_title('Familiar')\n",
    "ax[1].set_title('Novel')\n",
    "for a in range(2):\n",
    "    ax[a].set_xticks(np.arange(0, 6*5, 5))\n",
    "    ax[a].set_xticklabels([x for x in range(1, 7)])\n",
    "    ax[a].spines['top'].set_visible(False)\n",
    "    ax[a].spines['right'].set_visible(False)\n",
    "    ax[a].set_ylabel('Field Width')\n",
    "    ax[a].set_xlabel('Day')\n",
    "# Save figure\n",
    "figdir = \"C://Users/esay/data/Stx3/fig_scratch/behavior\"\n",
    "fig.savefig(os.path.join(figdir, \"field_width_across_mouse_summary_with_lines.pdf\"))\n",
    "plt.show()"
   ]
  },
  {
   "cell_type": "code",
   "execution_count": 222,
   "id": "6102a6e5-ae6d-44b0-a6fe-11c72d63cf9a",
   "metadata": {},
   "outputs": [
    {
     "data": {
      "text/plain": [
       "Text(0.5, 0, 'Day')"
      ]
     },
     "execution_count": 222,
     "metadata": {},
     "output_type": "execute_result"
    },
    {
     "data": {
      "image/png": "[encoded data removed]",
      "text/plain": [
       "<Figure size 700x500 with 1 Axes>"
      ]
     },
     "metadata": {},
     "output_type": "display_data"
    }
   ],
   "source": [
    "fig, ax = plt.subplots(figsize=[7,5], sharey=True)\n",
    "\n",
    "lw = 5\n",
    "s = 10\n",
    "for day in range(6):\n",
    "    \n",
    "    mask = (df['cond']=='ctrl') & (df['day']==day) #& (df['fam/nov']=='fam')\n",
    "    for mouse in sparse_mice:\n",
    "        _mask = mask & (df['mouse']==mouse)\n",
    "        _df = df[_mask]\n",
    "        lr = [_df['field_width'].loc[_df['ttype']=='fam']._values, _df['field_width'].loc[_df['ttype']=='nov']._values]\n",
    "        \n",
    "        ax.plot(5*day + np.array([-1,-.3]), lr, color='black', alpha = .3)\n",
    "        # ax[0].scatter(5*day + np.array([-1,-.3]), lr, color='black', alpha = .3)\n",
    "        ax.scatter(5*day - 1,lr[0], color='black', alpha = 1, marker='o')\n",
    "        ax.scatter(5*day - .3, lr[1], color='black', alpha = 1, marker='x')\n",
    "        \n",
    "    mask = (df['cond']=='cre') & (df['day']==day) #& (df['fam/nov']=='fam')\n",
    "    for mouse in sparse_mice:\n",
    "        _mask = mask & (df['mouse']==mouse)\n",
    "        _df = df[_mask]\n",
    "        lr = [_df['field_width'].loc[_df['ttype']=='fam']._values, _df['field_width'].loc[_df['ttype']=='nov']._values]\n",
    "        \n",
    "        ax.plot(5*day + np.array([.3,1]), lr, color='red', alpha = .3)\n",
    "        ax.scatter(5*day + .3,lr[0], color='red', alpha = 1, marker='o')\n",
    "        ax.scatter(5*day + 1, lr[1], color='red', alpha = 1, marker='x')\n",
    "\n",
    "# ax.plot([-2.3, 27.3], [0, 0], 'k--', zorder= -1, alpha=.5)\n",
    "\n",
    "    \n",
    "ax.set_title('Familiar v Nov')\n",
    "\n",
    "ax.set_xticks(np.arange(0,6*5,5))\n",
    "ax.set_xticklabels([x for x in range(1,7)])\n",
    "\n",
    "ax.spines['top'].set_visible(False)\n",
    "ax.spines['right'].set_visible(False)\n",
    "\n",
    "ax.set_ylabel('Field Width')\n",
    "ax.set_xlabel('Day')"
   ]
  },
  {
   "cell_type": "code",
   "execution_count": 217,
   "id": "77976f02-6314-426e-bcd3-a9904ddfbe2d",
   "metadata": {},
   "outputs": [
    {
     "data": {
      "image/png": "[encoded data removed]",
      "text/plain": [
       "<Figure size 1500x500 with 2 Axes>"
      ]
     },
     "metadata": {},
     "output_type": "display_data"
    }
   ],
   "source": [
    "fig, ax = plt.subplots(1,2, figsize=[15,5], sharey=True)\n",
    "\n",
    "# population plots\n",
    "for day in range(6):\n",
    "    \n",
    "    mask = (df['cond']=='ctrl') & (df['day']==day) & (df['ttype']=='fam')\n",
    "    nf = df['n_fields'].loc[mask]._values\n",
    "    ax[0].scatter(5*day -1 + np.linspace(-0.05, 0.05, num=nf.shape[0]), nf, color='black', s=s)\n",
    "    ax[0].plot(5*day -1 + np.array([-0.2, .2]), nf.mean()*np.ones([2,]), color='black', linewidth=lw,alpha = .3)\n",
    "    \n",
    "    mask = (df['cond']=='ctrl') & (df['day']==day) & (df['ttype']=='nov')\n",
    "    nf = df['n_fields'].loc[mask]._values\n",
    "    ax[1].scatter(5*day -1 + np.linspace(-0.05, 0.05, num=nf.shape[0]), nf, color='black', s=s, alpha = 1)\n",
    "    ax[1].plot(5*day -1 + np.array([-0.2, .2]), nf.mean()*np.ones([2,]), color='black', linewidth=lw,alpha = .3)\n",
    "    \n",
    "    mask = (df['cond']=='cre') & (df['day']==day) & (df['ttype']=='fam')\n",
    "    nf = df['n_fields'].loc[mask]._values\n",
    "    ax[0].scatter(5*day +1 + np.linspace(-0.05, 0.05, num=nf.shape[0]), nf, color='red', s=s)\n",
    "    ax[0].plot(5*day + 1 + np.array([-0.2, .2]), nf.mean()*np.ones([2,]), color='red', linewidth=lw,alpha = .3)\n",
    "    \n",
    "    mask = (df['cond']=='cre') & (df['day']==day) & (df['ttype']=='nov')\n",
    "    nf = df['n_fields'].loc[mask]._values\n",
    "    ax[1].scatter(5*day +1 + np.linspace(-0.05, 0.05, num=nf.shape[0]), nf, color='red', s=s, alpha=1)\n",
    "    ax[1].plot(5*day + 1 + np.array([-0.2, .2]), nf.mean()*np.ones([2,]), color='red', linewidth=lw,alpha = .3)\n",
    "    \n",
    "\n",
    "ax[0].set_title('Familiar')\n",
    "ax[1].set_title('Novel')\n",
    "    \n",
    "for a in range(2):\n",
    "\n",
    "    ax[a].set_xticks(np.arange(0,6*5,5))\n",
    "    ax[a].set_xticklabels([x for x in range(1,7)])\n",
    "\n",
    "    ax[a].spines['top'].set_visible(False)\n",
    "    ax[a].spines['right'].set_visible(False)\n",
    "\n",
    "    ax[a].set_ylabel('# of Fields')\n",
    "    ax[a].set_xlabel('Day')\n",
    "fig.savefig(os.path.join(figdir, \"num_fields_across_mouse_summary.pdf\"))\n"
   ]
  },
  {
   "cell_type": "code",
   "execution_count": 98,
   "id": "ed12e6cc-1552-4267-acd8-4428a9ec7686",
   "metadata": {},
   "outputs": [],
   "source": [
    "for mouse, days in trial_means.items():\n",
    "    for day, metrics in days.items():\n",
    "        for key in list(metrics.keys()):\n",
    "            if \"nov_mean\" in key:\n",
    "                metrics[key.replace(\"nov_mean\",\"left\")] = metrics.pop(key)\n",
    "            elif \"fam_mean\" in key:\n",
    "                metrics[key.replace(\"fam_mean\",\"right\")] = metrics.pop(key)"
   ]
  },
  {
   "cell_type": "code",
   "execution_count": 10,
   "id": "081af379-1945-4ff3-ab45-57dc2c897b7f",
   "metadata": {},
   "outputs": [
    {
     "data": {
      "text/plain": [
       "(array([0.55223881, 0.32835821, 0.11940299, 0.        ]),\n",
       " array([1., 2., 3., 4., 5.]),\n",
       " <BarContainer object of 4 artists>)"
      ]
     },
     "execution_count": 10,
     "metadata": {},
     "output_type": "execute_result"
    },
    {
     "data": {
      "image/png": "[encoded data removed]",
      "text/plain": [
       "<Figure size 640x480 with 4 Axes>"
      ]
     },
     "metadata": {},
     "output_type": "display_data"
    }
   ],
   "source": [
    "fig, ax = plt.subplots(2,2)\n",
    "\n",
    "width_bins = np.arange(2,15)\n",
    "field_bins = np.arange(1,6)\n",
    "##\n",
    "fi = field_info['channel_0_left']\n",
    "ax[0,0].hist(fi[:,2], bins=width_bins, color='red', alpha=.4, density=True)\n",
    "\n",
    "cell_list = np.unique(fi[:,0])\n",
    "nfields = np.array([np.count_nonzero(fi[:,0]==cell) for cell in cell_list])\n",
    "ax[1,0].hist(nfields, bins=field_bins, color='red', alpha=.4, density=True)\n",
    "\n",
    "##\n",
    "fi = field_info['channel_1_left']\n",
    "ax[0,0].hist(fi[:,2], bins=width_bins, color='black', alpha=.4, density=True)\n",
    "\n",
    "cell_list = np.unique(fi[:,0])\n",
    "nfields = np.array([np.count_nonzero(fi[:,0]==cell) for cell in cell_list])\n",
    "ax[1,0].hist(nfields, bins=field_bins, color='black', alpha=.4, density=True)\n",
    "\n",
    "##\n",
    "fi = field_info['channel_0_right']\n",
    "ax[0,1].hist(fi[:,2], bins=width_bins, color='red', alpha=.4, density=True)\n",
    "\n",
    "cell_list = np.unique(fi[:,0])\n",
    "nfields = np.array([np.count_nonzero(fi[:,0]==cell) for cell in cell_list])\n",
    "ax[1,1].hist(nfields, bins=field_bins, color='red', alpha=.4, density=True)\n",
    "\n",
    "\n",
    "##\n",
    "fi = field_info['channel_1_right']\n",
    "ax[0,1].hist(fi[:,2], bins=width_bins, color='black', alpha=.4, density=True)\n",
    "\n",
    "cell_list = np.unique(fi[:,0])\n",
    "nfields = np.array([np.count_nonzero(fi[:,0]==cell) for cell in cell_list])\n",
    "ax[1,1].hist(nfields, bins=field_bins, color='black', alpha=.4, density=True)\n",
    "\n",
    "\n",
    "    "
   ]
  },
  {
   "cell_type": "code",
   "execution_count": null,
   "id": "451b8f7f-6310-4ec8-92ae-078472060a60",
   "metadata": {},
   "outputs": [],
   "source": [
    "\n",
    "\n",
    "\n"
   ]
  },
  {
   "cell_type": "code",
   "execution_count": null,
   "id": "49fb3a24-9b6f-4dac-a933-6ca083018ae7",
   "metadata": {},
   "outputs": [],
   "source": []
  }
 ],
 "metadata": {
  "kernelspec": {
   "display_name": "Python 3 (ipykernel)",
   "language": "python",
   "name": "python3"
  },
  "language_info": {
   "codemirror_mode": {
    "name": "ipython",
    "version": 3
   },
   "file_extension": ".py",
   "mimetype": "text/x-python",
   "name": "python",
   "nbconvert_exporter": "python",
   "pygments_lexer": "ipython3",
   "version": "3.10.14"
  }
 },
 "nbformat": 4,
 "nbformat_minor": 5
}
