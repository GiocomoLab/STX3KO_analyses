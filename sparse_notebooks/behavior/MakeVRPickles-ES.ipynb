{
 "cells": [
  {
   "cell_type": "code",
   "execution_count": 1,
   "id": "backed-sigma",
   "metadata": {},
   "outputs": [],
   "source": [
    "import os\n",
    "import dill\n",
    "\n",
    "import numpy as np\n",
    "from matplotlib import pyplot as plt\n",
    "\n",
    "import TwoPUtils\n",
    "import STX3KO_analyses as stx\n",
    "\n",
    "from STX3KO_analyses import utilities_ES as u\n",
    "\n",
    "%matplotlib inline\n",
    "\n",
    "%load_ext autoreload\n",
    "%autoreload 2"
   ]
  },
  {
   "cell_type": "code",
   "execution_count": 2,
   "id": "improved-qualification",
   "metadata": {},
   "outputs": [],
   "source": [
    "def update_sess_dict(mouse, f, KO = True):\n",
    "    scan_str = \"%s_%03d_%03d\" % (f['scene'],f['session'],f['scan'])\n",
    "\n",
    "    source_folder = \"Z:/giocomo/esay/Stx3/VRData\"\n",
    "    source_stem = os.path.join(source_folder, mouse, f['date'], f['scene'], scan_str)\n",
    "\n",
    "    f['mouse']=mouse\n",
    "    f.update({'vr_filename': os.path.join(\"Z:/giocomo/esay/Stx3/VRData\",f['mouse'],f['date'],\"%s_%d.sqlite\" %(f['scene'],f['session'])),\n",
    "              'scan_number': f['scan'],\n",
    "              'prompt_for_keys': False,\n",
    "              'VR_only': True,\n",
    "              'scanner': \"NLW\",\n",
    "             })\n",
    "    return f"
   ]
  },
  {
   "cell_type": "code",
   "execution_count": 22,
   "id": "outer-savage",
   "metadata": {},
   "outputs": [],
   "source": [
    "ko_sessions = stx.ymaze_sess_deets.KO_behavior_sessions\n",
    "ctrl_sessions = stx.ymaze_sess_deets.CTRL_behavior_sessions\n",
    "sparse_sessions = stx.ymaze_sess_deets.SparseKO_behavior_sessions"
   ]
  },
  {
   "cell_type": "code",
   "execution_count": 4,
   "id": "c212eadf-a1fe-4083-88c6-f9fc8bbd1d8c",
   "metadata": {},
   "outputs": [],
   "source": [
    "def run_and_save(fdict,comb_frames=0):\n",
    "\n",
    "            \n",
    "    sess = stx.session.YMazeSession(**fdict)\n",
    "    sess.align_VR_to_2P()\n",
    "    sess.get_trial_info()\n",
    "    \n",
    "    sess.add_timeseries(speed_raw=sess.vr_data['dz']._values)\n",
    "    sess.add_pos_binned_trial_matrix('speed_raw')\n",
    "    \n",
    "    sess.add_timeseries(speed=sess.vr_data['dz']._values)\n",
    "    sess.add_pos_binned_trial_matrix('speed')#, speed_thr=.01, speed = sess.timeseries['speed_raw'].ravel())\n",
    "\n",
    "    err_lick, err = correct_lick_sensor_error(sess.vr_data['lick'],sess.trial_start_inds, sess.teleport_inds, correction_thr=0.5) #correct for broken sensor\n",
    "    sess.add_timeseries(licks_rate = err_lick)\n",
    "    sess.add_pos_binned_trial_matrix('licks_rate')# ,speed_thr=.01, speed = sess.timeseries['speed_raw'].ravel())\n",
    "    sess.add_timeseries(licks=err_lick)\n",
    "    sess.timeseries['licks'][sess.timeseries['licks']>1]=1\n",
    "    sess.add_pos_binned_trial_matrix('licks')\n",
    "\n",
    "    # sess.add_timeseries(licks_rate=sess.vr_data['lick']._values)\n",
    "    # sess.add_pos_binned_trial_matrix('licks_rate')# ,speed_thr=.01, speed = sess.timeseries['speed_raw'].ravel())\n",
    "    \n",
    "    # sess.add_timeseries(licks=sess.vr_data['lick']._values)\n",
    "    # sess.timeseries['licks'][sess.timeseries['licks']>1]=1\n",
    "    # sess.add_pos_binned_trial_matrix('licks')\n",
    "    \n",
    "    licks = np.copy(sess.timeseries['licks'])\n",
    "    licks[licks>1]=1\n",
    "    time = sess.vr_data['time']\n",
    "\n",
    "    reward_inds = np.argwhere(sess.vr_data['reward']._values==1).ravel()\n",
    "    for r in reward_inds:\n",
    "        licks[0,((time-time[r])>=0)&((time-time[r])<2)] = 0\n",
    "\n",
    "    sess.add_timeseries(nonconsum_licks = licks)\n",
    "    sess.add_pos_binned_trial_matrix('nonconsum_licks')\n",
    "    \n",
    "    sess.add_timeseries(licks_sum=licks)\n",
    "    sess.add_pos_binned_trial_matrix('licks_sum',use_sum=True)\n",
    "    \n",
    "    # if fdict['mouse']=='4467975.4' and fdict['date']==\"28_09_2020\":\n",
    "    #     print(\"nan it\")\n",
    "    #     for key in ('licks_rate', 'licks', 'nonconsum_licks', 'licks_sum'):\n",
    "    #         print(sess.trial_matrices[key].shape)\n",
    "    #         sess.trial_matrices[key][34:68,:]=np.nan\n",
    "    #         fig,ax = plt.subplots()\n",
    "    #         ax.imshow(sess.trial_matrices[key])\n",
    "    #         print(np.isnan(sess.trial_matrices[key]).sum())\n",
    "    \n",
    "    for key in ('licks_rate', 'licks', 'nonconsum_licks', 'licks_sum'):\n",
    "        print(np.isnan(sess.trial_matrices[key]).sum())\n",
    "    \n",
    "    TwoPUtils.sess.save_session(sess,'C:/Users/esay/data/Stx3/YMaze_VR_Pkls/')\n",
    "    return comb_frames+sess.vr_data.shape[0]"
   ]
  },
  {
   "cell_type": "code",
   "execution_count": 29,
   "id": "noble-radar",
   "metadata": {},
   "outputs": [
    {
     "name": "stdout",
     "output_type": "stream",
     "text": [
      "{'date': '04_06_2025', 'scene': 'YMaze_LNovel_LongTimeout', 'session': 1, 'scan': 13, 'novel_arm': 1, 'exp_day': 7}\n",
      "SparseKO_11 {'date': '04_06_2025', 'scene': 'YMaze_LNovel_LongTimeout', 'session': 1, 'scan': 13, 'novel_arm': 1, 'exp_day': 7, 'mouse': 'SparseKO_11', 'vr_filename': 'Z:/giocomo/esay/Stx3/VRData\\\\SparseKO_11\\\\04_06_2025\\\\YMaze_LNovel_LongTimeout_1.sqlite', 'scan_number': 13, 'prompt_for_keys': False, 'VR_only': True, 'scanner': 'NLW'}\n",
      "Fixing teleports\n",
      "1\n",
      "2\n",
      "3\n",
      "4\n",
      "5\n",
      "6\n",
      "7\n",
      "0\n",
      "0\n",
      "0\n",
      "0\n"
     ]
    }
   ],
   "source": [
    "mouse = 'SparseKO_11'\n",
    "f = sparse_sessions[mouse][6]\n",
    "print(f)\n",
    "f_ = update_sess_dict(mouse,f)\n",
    "print(mouse, f_)\n",
    "_ = run_and_save(f_)"
   ]
  },
  {
   "cell_type": "code",
   "execution_count": 6,
   "id": "28459ac6-77df-499e-952b-6858ef14cd9b",
   "metadata": {},
   "outputs": [],
   "source": [
    "def correct_lick_sensor_error(licks_, trial_starts, trial_ends, correction_thr=0.5):\n",
    "    \"\"\"\n",
    "    Find samples where lick detector was putatively stuck at 1, and set to NaN\n",
    "\n",
    "    :param licks_:\n",
    "    :type licks_:\n",
    "    :param trial_starts:\n",
    "    :type trial_starts:\n",
    "    :param trial_ends:\n",
    "    :type trial_ends:\n",
    "    :param correction_thr:\n",
    "    :type correction_thr:\n",
    "    :return:\n",
    "    :rtype:\n",
    "    \"\"\"\n",
    "    licks = np.copy(licks_)\n",
    "    error_count = 0\n",
    "    for t_start, t_end in zip(trial_starts, trial_ends):\n",
    "        # if >50% of samples have a cumulative lick count of >2\n",
    "        # print(licks[t_start:t_end])\n",
    "        if sum(licks[t_start:t_end] > 0)/len(licks[t_start:t_end]) > correction_thr:\n",
    "            licks[t_start:t_end] = 0\n",
    "            # print(f'setting trial {np.where(trial_starts==t_start)[0]} to NaN')\n",
    "            error_count += 1\n",
    "\n",
    "    return licks, error_count"
   ]
  },
  {
   "cell_type": "code",
   "execution_count": 8,
   "id": "electrical-politics",
   "metadata": {},
   "outputs": [
    {
     "name": "stdout",
     "output_type": "stream",
     "text": [
      "{'date': '26_05_2025', 'scene': 'YMaze_LNovel', 'session': 4, 'scan': 7, 'novel_arm': 1, 'exp_day': 1, 'mouse': 'SparseKO_06', 'vr_filename': 'Z:/giocomo/esay/Stx3/VRData\\\\SparseKO_06\\\\26_05_2025\\\\YMaze_LNovel_4.sqlite', 'scan_number': 7, 'prompt_for_keys': False, 'VR_only': True, 'scanner': 'NLW'}\n"
     ]
    },
    {
     "data": {
      "text/plain": [
       "<matplotlib.image.AxesImage at 0x1fd042e5090>"
      ]
     },
     "execution_count": 8,
     "metadata": {},
     "output_type": "execute_result"
    },
    {
     "data": {
      "image/png": "[encoded data removed]",
      "text/plain": [
       "<Figure size 640x480 with 1 Axes>"
      ]
     },
     "metadata": {},
     "output_type": "display_data"
    }
   ],
   "source": [
    "sess = stx.utilities_ES.load_vr_day(mouse,0)\n",
    "fig,ax = plt.subplots()\n",
    "ax.imshow(sess.trial_matrices['licks'])"
   ]
  },
  {
   "cell_type": "code",
   "execution_count": 15,
   "id": "248e8c27-30ec-4f59-b92e-7146bc5e5982",
   "metadata": {},
   "outputs": [
    {
     "ename": "TypeError",
     "evalue": "'dict' object is not callable",
     "output_type": "error",
     "traceback": [
      "\u001b[1;31m---------------------------------------------------------------------------\u001b[0m",
      "\u001b[1;31mTypeError\u001b[0m                                 Traceback (most recent call last)",
      "Cell \u001b[1;32mIn[15], line 1\u001b[0m\n\u001b[1;32m----> 1\u001b[0m \u001b[43msparse_sessions\u001b[49m\u001b[43m(\u001b[49m\u001b[38;5;241;43m3\u001b[39;49m\u001b[43m)\u001b[49m\n",
      "\u001b[1;31mTypeError\u001b[0m: 'dict' object is not callable"
     ]
    }
   ],
   "source": [
    "sparse_sessions(3)"
   ]
  },
  {
   "cell_type": "code",
   "execution_count": 25,
   "id": "dc02e7be-8aab-4aab-b551-925d804733ae",
   "metadata": {},
   "outputs": [
    {
     "name": "stdout",
     "output_type": "stream",
     "text": [
      "SparseKO_11\n",
      "SparseKO_11 {'date': '29_05_2025', 'scene': 'YMaze_LNovel', 'session': 1, 'scan': 23, 'novel_arm': 1, 'exp_day': 1, 'mouse': 'SparseKO_11', 'vr_filename': 'Z:/giocomo/esay/Stx3/VRData\\\\SparseKO_11\\\\29_05_2025\\\\YMaze_LNovel_1.sqlite', 'scan_number': 23, 'prompt_for_keys': False, 'VR_only': True, 'scanner': 'NLW'}\n",
      "Fixing teleports\n",
      "1\n",
      "2\n",
      "3\n",
      "4\n",
      "5\n",
      "0\n",
      "0\n",
      "0\n",
      "0\n",
      "SparseKO_11 {'date': '30_05_2025', 'scene': 'YMaze_LNovel', 'session': 1, 'scan': 12, 'novel_arm': 1, 'exp_day': 2, 'mouse': 'SparseKO_11', 'vr_filename': 'Z:/giocomo/esay/Stx3/VRData\\\\SparseKO_11\\\\30_05_2025\\\\YMaze_LNovel_1.sqlite', 'scan_number': 12, 'prompt_for_keys': False, 'VR_only': True, 'scanner': 'NLW'}\n",
      "Fixing teleports\n",
      "1\n",
      "2\n",
      "3\n",
      "4\n",
      "5\n",
      "0\n",
      "0\n",
      "0\n",
      "0\n",
      "SparseKO_11 {'date': '31_05_2025', 'scene': 'YMaze_LNovel', 'session': 1, 'scan': 9, 'novel_arm': 1, 'exp_day': 3, 'mouse': 'SparseKO_11', 'vr_filename': 'Z:/giocomo/esay/Stx3/VRData\\\\SparseKO_11\\\\31_05_2025\\\\YMaze_LNovel_1.sqlite', 'scan_number': 9, 'prompt_for_keys': False, 'VR_only': True, 'scanner': 'NLW'}\n",
      "Fixing teleports\n",
      "1\n",
      "2\n",
      "3\n",
      "4\n",
      "5\n",
      "0\n",
      "0\n",
      "0\n",
      "0\n",
      "SparseKO_11 {'date': '01_06_2025', 'scene': 'YMaze_LNovel', 'session': 1, 'scan': 31, 'novel_arm': 1, 'exp_day': 4, 'mouse': 'SparseKO_11', 'vr_filename': 'Z:/giocomo/esay/Stx3/VRData\\\\SparseKO_11\\\\01_06_2025\\\\YMaze_LNovel_1.sqlite', 'scan_number': 31, 'prompt_for_keys': False, 'VR_only': True, 'scanner': 'NLW'}\n"
     ]
    },
    {
     "ename": "DatabaseError",
     "evalue": "database disk image is malformed",
     "output_type": "error",
     "traceback": [
      "\u001b[1;31m---------------------------------------------------------------------------\u001b[0m",
      "\u001b[1;31mDatabaseError\u001b[0m                             Traceback (most recent call last)",
      "Cell \u001b[1;32mIn[25], line 13\u001b[0m\n\u001b[0;32m     11\u001b[0m     f_ \u001b[38;5;241m=\u001b[39m update_sess_dict(mouse,f)\n\u001b[0;32m     12\u001b[0m     \u001b[38;5;28mprint\u001b[39m(mouse, f_)\n\u001b[1;32m---> 13\u001b[0m     _ \u001b[38;5;241m=\u001b[39m \u001b[43mrun_and_save\u001b[49m\u001b[43m(\u001b[49m\u001b[43mf_\u001b[49m\u001b[43m)\u001b[49m\n\u001b[0;32m     14\u001b[0m \u001b[38;5;28;01melif\u001b[39;00m \u001b[38;5;28misinstance\u001b[39m(f, \u001b[38;5;28mtuple\u001b[39m) \u001b[38;5;129;01mor\u001b[39;00m \u001b[38;5;28misinstance\u001b[39m(f, \u001b[38;5;28mlist\u001b[39m):\n\u001b[0;32m     15\u001b[0m     comb_frames \u001b[38;5;241m=\u001b[39m \u001b[38;5;241m0\u001b[39m\n",
      "Cell \u001b[1;32mIn[4], line 5\u001b[0m, in \u001b[0;36mrun_and_save\u001b[1;34m(fdict, comb_frames)\u001b[0m\n\u001b[0;32m      1\u001b[0m \u001b[38;5;28;01mdef\u001b[39;00m \u001b[38;5;21mrun_and_save\u001b[39m(fdict,comb_frames\u001b[38;5;241m=\u001b[39m\u001b[38;5;241m0\u001b[39m):\n\u001b[0;32m      4\u001b[0m     sess \u001b[38;5;241m=\u001b[39m stx\u001b[38;5;241m.\u001b[39msession\u001b[38;5;241m.\u001b[39mYMazeSession(\u001b[38;5;241m*\u001b[39m\u001b[38;5;241m*\u001b[39mfdict)\n\u001b[1;32m----> 5\u001b[0m     \u001b[43msess\u001b[49m\u001b[38;5;241;43m.\u001b[39;49m\u001b[43malign_VR_to_2P\u001b[49m\u001b[43m(\u001b[49m\u001b[43m)\u001b[49m\n\u001b[0;32m      6\u001b[0m     sess\u001b[38;5;241m.\u001b[39mget_trial_info()\n\u001b[0;32m      8\u001b[0m     sess\u001b[38;5;241m.\u001b[39madd_timeseries(speed_raw\u001b[38;5;241m=\u001b[39msess\u001b[38;5;241m.\u001b[39mvr_data[\u001b[38;5;124m'\u001b[39m\u001b[38;5;124mdz\u001b[39m\u001b[38;5;124m'\u001b[39m]\u001b[38;5;241m.\u001b[39m_values)\n",
      "File \u001b[1;32mc:\\users\\esay\\repos\\twoputils\\TwoPUtils\\sess.py:351\u001b[0m, in \u001b[0;36mSession.align_VR_to_2P\u001b[1;34m(self, overwrite, run_ttl_check, mux)\u001b[0m\n\u001b[0;32m    347\u001b[0m \u001b[38;5;28;01mdef\u001b[39;00m \u001b[38;5;21malign_VR_to_2P\u001b[39m(\u001b[38;5;28mself\u001b[39m, overwrite\u001b[38;5;241m=\u001b[39m\u001b[38;5;28;01mTrue\u001b[39;00m, run_ttl_check \u001b[38;5;241m=\u001b[39m \u001b[38;5;28;01mFalse\u001b[39;00m, mux \u001b[38;5;241m=\u001b[39m \u001b[38;5;28;01mFalse\u001b[39;00m):\n\u001b[0;32m    349\u001b[0m     \u001b[38;5;28;01mif\u001b[39;00m \u001b[38;5;28mself\u001b[39m\u001b[38;5;241m.\u001b[39mvr_data \u001b[38;5;129;01mis\u001b[39;00m \u001b[38;5;28;01mNone\u001b[39;00m \u001b[38;5;129;01mor\u001b[39;00m overwrite:\n\u001b[0;32m    350\u001b[0m         \u001b[38;5;66;03m# load sqlite file as pandas array\u001b[39;00m\n\u001b[1;32m--> 351\u001b[0m         df \u001b[38;5;241m=\u001b[39m \u001b[43mpp\u001b[49m\u001b[38;5;241;43m.\u001b[39;49m\u001b[43mload_sqlite\u001b[49m\u001b[43m(\u001b[49m\u001b[38;5;28;43mself\u001b[39;49m\u001b[38;5;241;43m.\u001b[39;49m\u001b[43mvr_filename\u001b[49m\u001b[43m,\u001b[49m\u001b[43mfix_teleports\u001b[49m\u001b[38;5;241;43m=\u001b[39;49m\u001b[38;5;28;43;01mTrue\u001b[39;49;00m\u001b[43m)\u001b[49m\n\u001b[0;32m    352\u001b[0m         \u001b[38;5;28;01mif\u001b[39;00m \u001b[38;5;129;01mnot\u001b[39;00m \u001b[38;5;28mself\u001b[39m\u001b[38;5;241m.\u001b[39mVR_only:\n\u001b[0;32m    353\u001b[0m             \u001b[38;5;66;03m# feed pandas array and scene name to alignment function\u001b[39;00m\n\u001b[0;32m    354\u001b[0m             \u001b[38;5;28;01mif\u001b[39;00m \u001b[38;5;28mself\u001b[39m\u001b[38;5;241m.\u001b[39mscanner \u001b[38;5;241m==\u001b[39m \u001b[38;5;124m\"\u001b[39m\u001b[38;5;124mNLW\u001b[39m\u001b[38;5;124m\"\u001b[39m:\n",
      "File \u001b[1;32mc:\\users\\esay\\repos\\twoputils\\TwoPUtils\\preprocessing.py:21\u001b[0m, in \u001b[0;36mload_sqlite\u001b[1;34m(sqlite_filename, fix_teleports)\u001b[0m\n\u001b[0;32m     18\u001b[0m sess_conn \u001b[38;5;241m=\u001b[39m sql\u001b[38;5;241m.\u001b[39mconnect(sqlite_filename)\n\u001b[0;32m     20\u001b[0m \u001b[38;5;66;03m# load all columns\u001b[39;00m\n\u001b[1;32m---> 21\u001b[0m df \u001b[38;5;241m=\u001b[39m \u001b[43mpd\u001b[49m\u001b[38;5;241;43m.\u001b[39;49m\u001b[43mread_sql\u001b[49m\u001b[43m(\u001b[49m\u001b[38;5;124;43m'''\u001b[39;49m\u001b[38;5;124;43mSELECT * FROM data\u001b[39;49m\u001b[38;5;124;43m'''\u001b[39;49m\u001b[43m,\u001b[49m\u001b[43msess_conn\u001b[49m\u001b[43m)\u001b[49m\n\u001b[0;32m     23\u001b[0m \u001b[38;5;28;01mif\u001b[39;00m fix_teleports:\n\u001b[0;32m     24\u001b[0m     _fix_teleports(df)\n",
      "File \u001b[1;32m~\\.conda\\envs\\s2p_analysis\\lib\\site-packages\\pandas\\io\\sql.py:564\u001b[0m, in \u001b[0;36mread_sql\u001b[1;34m(sql, con, index_col, coerce_float, params, parse_dates, columns, chunksize)\u001b[0m\n\u001b[0;32m    561\u001b[0m pandas_sql \u001b[38;5;241m=\u001b[39m pandasSQL_builder(con)\n\u001b[0;32m    563\u001b[0m \u001b[38;5;28;01mif\u001b[39;00m \u001b[38;5;28misinstance\u001b[39m(pandas_sql, SQLiteDatabase):\n\u001b[1;32m--> 564\u001b[0m     \u001b[38;5;28;01mreturn\u001b[39;00m \u001b[43mpandas_sql\u001b[49m\u001b[38;5;241;43m.\u001b[39;49m\u001b[43mread_query\u001b[49m\u001b[43m(\u001b[49m\n\u001b[0;32m    565\u001b[0m \u001b[43m        \u001b[49m\u001b[43msql\u001b[49m\u001b[43m,\u001b[49m\n\u001b[0;32m    566\u001b[0m \u001b[43m        \u001b[49m\u001b[43mindex_col\u001b[49m\u001b[38;5;241;43m=\u001b[39;49m\u001b[43mindex_col\u001b[49m\u001b[43m,\u001b[49m\n\u001b[0;32m    567\u001b[0m \u001b[43m        \u001b[49m\u001b[43mparams\u001b[49m\u001b[38;5;241;43m=\u001b[39;49m\u001b[43mparams\u001b[49m\u001b[43m,\u001b[49m\n\u001b[0;32m    568\u001b[0m \u001b[43m        \u001b[49m\u001b[43mcoerce_float\u001b[49m\u001b[38;5;241;43m=\u001b[39;49m\u001b[43mcoerce_float\u001b[49m\u001b[43m,\u001b[49m\n\u001b[0;32m    569\u001b[0m \u001b[43m        \u001b[49m\u001b[43mparse_dates\u001b[49m\u001b[38;5;241;43m=\u001b[39;49m\u001b[43mparse_dates\u001b[49m\u001b[43m,\u001b[49m\n\u001b[0;32m    570\u001b[0m \u001b[43m        \u001b[49m\u001b[43mchunksize\u001b[49m\u001b[38;5;241;43m=\u001b[39;49m\u001b[43mchunksize\u001b[49m\u001b[43m,\u001b[49m\n\u001b[0;32m    571\u001b[0m \u001b[43m    \u001b[49m\u001b[43m)\u001b[49m\n\u001b[0;32m    573\u001b[0m \u001b[38;5;28;01mtry\u001b[39;00m:\n\u001b[0;32m    574\u001b[0m     _is_table_name \u001b[38;5;241m=\u001b[39m pandas_sql\u001b[38;5;241m.\u001b[39mhas_table(sql)\n",
      "File \u001b[1;32m~\\.conda\\envs\\s2p_analysis\\lib\\site-packages\\pandas\\io\\sql.py:2092\u001b[0m, in \u001b[0;36mSQLiteDatabase.read_query\u001b[1;34m(self, sql, index_col, coerce_float, params, parse_dates, chunksize, dtype)\u001b[0m\n\u001b[0;32m   2082\u001b[0m     \u001b[38;5;28;01mreturn\u001b[39;00m \u001b[38;5;28mself\u001b[39m\u001b[38;5;241m.\u001b[39m_query_iterator(\n\u001b[0;32m   2083\u001b[0m         cursor,\n\u001b[0;32m   2084\u001b[0m         chunksize,\n\u001b[1;32m   (...)\u001b[0m\n\u001b[0;32m   2089\u001b[0m         dtype\u001b[38;5;241m=\u001b[39mdtype,\n\u001b[0;32m   2090\u001b[0m     )\n\u001b[0;32m   2091\u001b[0m \u001b[38;5;28;01melse\u001b[39;00m:\n\u001b[1;32m-> 2092\u001b[0m     data \u001b[38;5;241m=\u001b[39m \u001b[38;5;28;43mself\u001b[39;49m\u001b[38;5;241;43m.\u001b[39;49m\u001b[43m_fetchall_as_list\u001b[49m\u001b[43m(\u001b[49m\u001b[43mcursor\u001b[49m\u001b[43m)\u001b[49m\n\u001b[0;32m   2093\u001b[0m     cursor\u001b[38;5;241m.\u001b[39mclose()\n\u001b[0;32m   2095\u001b[0m     frame \u001b[38;5;241m=\u001b[39m _wrap_result(\n\u001b[0;32m   2096\u001b[0m         data,\n\u001b[0;32m   2097\u001b[0m         columns,\n\u001b[1;32m   (...)\u001b[0m\n\u001b[0;32m   2101\u001b[0m         dtype\u001b[38;5;241m=\u001b[39mdtype,\n\u001b[0;32m   2102\u001b[0m     )\n",
      "File \u001b[1;32m~\\.conda\\envs\\s2p_analysis\\lib\\site-packages\\pandas\\io\\sql.py:2106\u001b[0m, in \u001b[0;36mSQLiteDatabase._fetchall_as_list\u001b[1;34m(self, cur)\u001b[0m\n\u001b[0;32m   2105\u001b[0m \u001b[38;5;28;01mdef\u001b[39;00m \u001b[38;5;21m_fetchall_as_list\u001b[39m(\u001b[38;5;28mself\u001b[39m, cur):\n\u001b[1;32m-> 2106\u001b[0m     result \u001b[38;5;241m=\u001b[39m \u001b[43mcur\u001b[49m\u001b[38;5;241;43m.\u001b[39;49m\u001b[43mfetchall\u001b[49m\u001b[43m(\u001b[49m\u001b[43m)\u001b[49m\n\u001b[0;32m   2107\u001b[0m     \u001b[38;5;28;01mif\u001b[39;00m \u001b[38;5;129;01mnot\u001b[39;00m \u001b[38;5;28misinstance\u001b[39m(result, \u001b[38;5;28mlist\u001b[39m):\n\u001b[0;32m   2108\u001b[0m         result \u001b[38;5;241m=\u001b[39m \u001b[38;5;28mlist\u001b[39m(result)\n",
      "\u001b[1;31mDatabaseError\u001b[0m: database disk image is malformed"
     ]
    }
   ],
   "source": [
    "d = sparse_sessions;\n",
    "\n",
    "for mouse, sess_list in d.items():\n",
    "    if mouse in ['SparseKO_02','SparseKO_03','SparseKO_05','SparseKO_06','SparseKO_08','SparseKO_09','SparseKO_10','SparseKO_13']:\n",
    "        continue\n",
    "        \n",
    "    else:\n",
    "        print(mouse)\n",
    "        for f in sess_list:\n",
    "            if isinstance(f,dict):\n",
    "                f_ = update_sess_dict(mouse,f)\n",
    "                print(mouse, f_)\n",
    "                _ = run_and_save(f_)\n",
    "            elif isinstance(f, tuple) or isinstance(f, list):\n",
    "                comb_frames = 0\n",
    "                for _f in f:\n",
    "                    \n",
    "                    f_ = update_sess_dict(mouse,_f)\n",
    "                    print(mouse, f_)\n",
    "                    comb_frames = run_and_save(f_,comb_frames=comb_frames)"
   ]
  },
  {
   "cell_type": "code",
   "execution_count": 46,
   "id": "bigger-highland",
   "metadata": {
    "scrolled": true
   },
   "outputs": [
    {
     "ename": "AttributeError",
     "evalue": "'str' object has no attribute 'items'",
     "output_type": "error",
     "traceback": [
      "\u001b[1;31m---------------------------------------------------------------------------\u001b[0m",
      "\u001b[1;31mAttributeError\u001b[0m                            Traceback (most recent call last)",
      "Cell \u001b[1;32mIn[46], line 3\u001b[0m\n\u001b[0;32m      1\u001b[0m \u001b[38;5;28;01mfor\u001b[39;00m d \u001b[38;5;129;01min\u001b[39;00m (sparse_sessions):\n\u001b[1;32m----> 3\u001b[0m     \u001b[38;5;28;01mfor\u001b[39;00m mouse, sess_list \u001b[38;5;129;01min\u001b[39;00m \u001b[43md\u001b[49m\u001b[38;5;241;43m.\u001b[39;49m\u001b[43mitems\u001b[49m():\n\u001b[0;32m      4\u001b[0m         \u001b[38;5;28mprint\u001b[39m(mouse)\n\u001b[0;32m      5\u001b[0m         \u001b[38;5;28;01mfor\u001b[39;00m f \u001b[38;5;129;01min\u001b[39;00m sess_list:\n",
      "\u001b[1;31mAttributeError\u001b[0m: 'str' object has no attribute 'items'"
     ]
    }
   ],
   "source": [
    "for d in (ko_sessions, ctrl_sessions):\n",
    "    \n",
    "    for mouse, sess_list in d.items():\n",
    "        print(mouse)\n",
    "        for f in sess_list:\n",
    "            if isinstance(f,dict):\n",
    "                f_ = update_sess_dict(mouse,f)\n",
    "                print(mouse, f_)\n",
    "                _ = run_and_save(f_)\n",
    "            elif isinstance(f, tuple) or isinstance(f, list):\n",
    "                comb_frames = 0\n",
    "                for _f in f:\n",
    "                    \n",
    "                    f_ = update_sess_dict(mouse,_f)\n",
    "                    print(mouse, f_)\n",
    "                    comb_frames = run_and_save(f_,comb_frames=comb_frames)\n"
   ]
  },
  {
   "cell_type": "code",
   "execution_count": 65,
   "id": "prescribed-essay",
   "metadata": {},
   "outputs": [
    {
     "name": "stdout",
     "output_type": "stream",
     "text": [
      "({'date': '16_11_2024', 'scene': 'YMaze_LNovel', 'session': 4, 'scan': 14, 'novel_arm': -1, 'exp_day': 1, 'mouse': 'SparseKO_02', 'vr_filename': 'Z:/giocomo/esay/Stx3/VRData\\\\SparseKO_02\\\\16_11_2024\\\\YMaze_LNovel_4.sqlite', 'scan_number': 14, 'prompt_for_keys': False, 'VR_only': True, 'scanner': 'NLW'}, {'date': '17_11_2024', 'scene': 'YMaze_LNovel', 'session': 1, 'scan': 25, 'novel_arm': -1, 'exp_day': 2, 'mouse': 'SparseKO_02', 'vr_filename': 'Z:/giocomo/esay/Stx3/VRData\\\\SparseKO_02\\\\17_11_2024\\\\YMaze_LNovel_1.sqlite', 'scan_number': 25, 'prompt_for_keys': False, 'VR_only': True, 'scanner': 'NLW'}, {'date': '18_11_2024', 'scene': 'YMaze_LNovel', 'session': 1, 'scan': 18, 'novel_arm': -1, 'exp_day': 3, 'mouse': 'SparseKO_02', 'vr_filename': 'Z:/giocomo/esay/Stx3/VRData\\\\SparseKO_02\\\\18_11_2024\\\\YMaze_LNovel_1.sqlite', 'scan_number': 18, 'prompt_for_keys': False, 'VR_only': True, 'scanner': 'NLW'}, {'date': '19_11_2024', 'scene': 'YMaze_LNovel', 'session': 1, 'scan': 4, 'novel_arm': -1, 'exp_day': 4, 'mouse': 'SparseKO_02', 'vr_filename': 'Z:/giocomo/esay/Stx3/VRData\\\\SparseKO_02\\\\19_11_2024\\\\YMaze_LNovel_1.sqlite', 'scan_number': 4, 'prompt_for_keys': False, 'VR_only': True, 'scanner': 'NLW'}, {'date': '20_11_2024', 'scene': 'YMaze_LNovel', 'session': 1, 'scan': 12, 'novel_arm': -1, 'exp_day': 5, 'mouse': 'SparseKO_02', 'vr_filename': 'Z:/giocomo/esay/Stx3/VRData\\\\SparseKO_02\\\\20_11_2024\\\\YMaze_LNovel_1.sqlite', 'scan_number': 12, 'prompt_for_keys': False, 'VR_only': True, 'scanner': 'NLW'}, {'date': '21_11_2024', 'scene': 'YMaze_LNovel', 'session': 2, 'scan': 8, 'novel_arm': -1, 'exp_day': 6, 'mouse': 'SparseKO_02', 'vr_filename': 'Z:/giocomo/esay/Stx3/VRData\\\\SparseKO_02\\\\21_11_2024\\\\YMaze_LNovel_2.sqlite', 'scan_number': 8, 'prompt_for_keys': False, 'VR_only': True, 'scanner': 'NLW'}, {'date': '22_11_2024', 'scene': 'YMaze_LNovel_LongTimeout', 'session': 2, 'scan': 15, 'novel_arm': -1, 'exp_day': 7, 'mouse': 'SparseKO_02', 'vr_filename': 'Z:/giocomo/esay/Stx3/VRData\\\\SparseKO_02\\\\22_11_2024\\\\YMaze_LNovel_LongTimeout_2.sqlite', 'scan_number': 15, 'prompt_for_keys': False, 'VR_only': True, 'scanner': 'NLW'})\n"
     ]
    }
   ],
   "source": [
    "basedir = \"C:/Users/esay/data/Stx3/YMaze_VR_Pkls\"\n",
    "\n",
    "mouse = 'SparseKO_02'\n",
    "f_dict = sparse_sessions[mouse]\n",
    "print(f_dict)\n",
    "f = f_dict[1]\n",
    "\n",
    "file = os.path.join(basedir, mouse, f['date'], \"%s_%d.pkl\" % (f['scene'], f['session']))\n",
    "sess = stx.session.YMazeSession.from_file(file)"
   ]
  },
  {
   "cell_type": "code",
   "execution_count": 66,
   "id": "urban-digit",
   "metadata": {},
   "outputs": [
    {
     "data": {
      "text/plain": [
       "dict_keys(['speed_raw', 'bin_edges', 'bin_centers', 'speed', 'licks_rate', 'licks', 'nonconsum_licks', 'licks_sum'])"
      ]
     },
     "execution_count": 66,
     "metadata": {},
     "output_type": "execute_result"
    }
   ],
   "source": [
    "sess.trial_matrices.keys()"
   ]
  },
  {
   "cell_type": "code",
   "execution_count": 67,
   "id": "subtle-fiber",
   "metadata": {},
   "outputs": [
    {
     "data": {
      "text/plain": [
       "array([ 1.,  1.,  1.,  1.,  1.,  1.,  1.,  1.,  1.,  1.,  1.,  1.,  1.,\n",
       "        1.,  1.,  1.,  1.,  1.,  1.,  1.,  1.,  1.,  1.,  1.,  1.,  1.,\n",
       "        1.,  1.,  1.,  1.,  1.,  1.,  1.,  1.,  1.,  1.,  1.,  1.,  1.,\n",
       "        1.,  1.,  1.,  1.,  1.,  1.,  1.,  1.,  1.,  1.,  1.,  1.,  1.,\n",
       "        1.,  1.,  1.,  1.,  1.,  1.,  1.,  1.,  1.,  1.,  1.,  1.,  1.,\n",
       "        1.,  1.,  1.,  1., -1., -1.,  1.,  1.,  1., -1., -1.,  1.,  1.,\n",
       "        1., -1., -1.,  1., -1., -1.,  1.,  1.,  1., -1., -1., -1., -1.,\n",
       "       -1., -1.])"
      ]
     },
     "execution_count": 67,
     "metadata": {},
     "output_type": "execute_result"
    }
   ],
   "source": [
    "sess.trial_info['LR']"
   ]
  },
  {
   "cell_type": "code",
   "execution_count": 68,
   "id": "wicked-saint",
   "metadata": {},
   "outputs": [
    {
     "data": {
      "text/plain": [
       "<matplotlib.image.AxesImage at 0x1ae05ca92d0>"
      ]
     },
     "execution_count": 68,
     "metadata": {},
     "output_type": "execute_result"
    },
    {
     "data": {
      "image/png": "[encoded data removed]",
      "text/plain": [
       "<Figure size 640x480 with 1 Axes>"
      ]
     },
     "metadata": {},
     "output_type": "display_data"
    }
   ],
   "source": [
    "fig, ax = plt.subplots()\n",
    "ax.imshow(sess.trial_matrices['licks'][sess.trial_info['LR']==-1])"
   ]
  },
  {
   "cell_type": "code",
   "execution_count": null,
   "id": "automatic-dictionary",
   "metadata": {},
   "outputs": [],
   "source": []
  }
 ],
 "metadata": {
  "kernelspec": {
   "display_name": "Python 3 (ipykernel)",
   "language": "python",
   "name": "python3"
  },
  "language_info": {
   "codemirror_mode": {
    "name": "ipython",
    "version": 3
   },
   "file_extension": ".py",
   "mimetype": "text/x-python",
   "name": "python",
   "nbconvert_exporter": "python",
   "pygments_lexer": "ipython3",
   "version": "3.10.14"
  }
 },
 "nbformat": 4,
 "nbformat_minor": 5
}
