{
 "cells": [
  {
   "cell_type": "code",
   "execution_count": 134,
   "id": "7bb9343d-e5a9-4876-ac26-b08f4b8a7bd1",
   "metadata": {},
   "outputs": [
    {
     "name": "stdout",
     "output_type": "stream",
     "text": [
      "The autoreload extension is already loaded. To reload it, use:\n",
      "  %reload_ext autoreload\n"
     ]
    }
   ],
   "source": [
    "import os\n",
    "import joblib\n",
    "import pickle\n",
    "\n",
    "import numpy as np\n",
    "import scipy as sp\n",
    "from matplotlib import pyplot as plt\n",
    "from matplotlib import gridspec\n",
    "\n",
    "import pandas as pd\n",
    "from pingouin import mixed_anova, anova, pairwise_tukey, pairwise_tests\n",
    "import pingouin as pg\n",
    "from statsmodels.regression.mixed_linear_model import MixedLM\n",
    "import statsmodels.formula.api as smf\n",
    "\n",
    "import TwoPUtils as tpu\n",
    "import STX3KO_analyses as stx\n",
    "from STX3KO_analyses import utilities as u\n",
    "\n",
    "\n",
    "\n",
    "plt.rcParams['pdf.fonttype']=42\n",
    "%matplotlib inline\n",
    "\n",
    "%load_ext autoreload\n",
    "%autoreload 2"
   ]
  },
  {
   "cell_type": "code",
   "execution_count": null,
   "id": "3522e251-73bf-46d3-809f-f7b3bb75f254",
   "metadata": {},
   "outputs": [],
   "source": []
  },
  {
   "cell_type": "code",
   "execution_count": 142,
   "id": "d8abc4f6-ec9d-4c01-a416-92517de5a5df",
   "metadata": {},
   "outputs": [],
   "source": [
    "# load session\n",
    "sparse_sessions = stx.ymaze_sess_deets.SparseKO_sessions\n",
    "mouse = 'SparseKO_06'\n",
    "d = sparse_sessions[mouse][-1]\n",
    "date, scene, session, scan = d['date'], d['scene'], d['session'], d['scan']\n",
    "\n",
    "\n",
    "pkldir = os.path.join('C://Users/esay/data/Stx3/YMazeSessPkls', mouse,  date, f'{scene}_{session}.pkl')\n",
    "sess = stx.session.YMazeSession.from_file(pkldir, verbose=False)\n"
   ]
  },
  {
   "cell_type": "code",
   "execution_count": 75,
   "id": "11071842-5996-4c1e-881f-65148effbd59",
   "metadata": {},
   "outputs": [
    {
     "data": {
      "text/plain": [
       "'31_05_2025'"
      ]
     },
     "execution_count": 75,
     "metadata": {},
     "output_type": "execute_result"
    }
   ],
   "source": [
    "date"
   ]
  },
  {
   "cell_type": "code",
   "execution_count": 143,
   "id": "651f72c7-4cf5-4749-b6df-912808fef64b",
   "metadata": {},
   "outputs": [
    {
     "name": "stdout",
     "output_type": "stream",
     "text": [
      "[-1.  1.  1. -1.  1. -1.  1. -1.  1. -1.  1.  1.  1. -1.  1. -1.  1. -1.\n",
      "  1.  1.  1. -1. -1. -1.  1.  1.  1. -1.  1.  1. -1.  1. -1.  1. -1. -1.\n",
      " -1.  1.  1. -1.  1. -1.  1.  1. -1. -1. -1.  1.  1. -1. -1.  1.  1. -1.\n",
      " -1.  1.  1.  1. -1. -1. -1. -1.  1.  1. -1. -1.  1.  1. -1. -1.  1. -1.\n",
      "  1. -1.  1.  1.  1. -1.  1.  1. -1.  1. -1.  1. -1.  1.  1. -1. -1. -1.\n",
      " -1.  1. -1. -1. -1. -1.  1. -1.  1. -1.  1.  1. -1.  1. -1.  1.  1. -1.\n",
      " -1. -1.  1.  1.  1. -1.  1. -1. -1.  1. -1. -1. -1. -1.  1.  1.  1. -1.\n",
      " -1.  1. -1.  1.  1.  1. -1. -1.  1. -1. -1. -1.  1.  1. -1. -1. -1. -1.\n",
      "  1. -1.  1. -1.  1. -1.  1.  1. -1.  1. -1.  1. -1. -1.  1.  1.] [ True False False  True False  True False  True False  True False False\n",
      " False  True False  True False  True False False False  True  True  True\n",
      " False False False  True False False  True False  True False  True  True\n",
      "  True False False  True False  True False False  True  True  True False\n",
      " False  True  True False False  True  True False False False  True  True\n",
      "  True  True False False  True  True False False  True  True False  True\n",
      " False  True False False False  True False False  True False  True False\n",
      "  True False False  True  True  True  True False  True  True  True  True\n",
      " False  True False  True False False  True False  True False False  True\n",
      "  True  True False False False  True False  True  True False  True  True\n",
      "  True  True False False False  True  True False  True False False False\n",
      "  True  True False  True  True  True False False  True  True  True  True\n",
      " False  True False  True False  True False False  True False  True False\n",
      "  True  True False False]\n"
     ]
    }
   ],
   "source": [
    "trial_masks = {'channel_0_left': None,\n",
    "               'channel_0_right': None,\n",
    "               'channel_1_left': None,\n",
    "               'channel_1_right': None}\n",
    "\n",
    "'''\n",
    "comment out if analyzing muxed days\n",
    "'''\n",
    "channel_0_mask = sess.trial_info['block_number']%2==0\n",
    "\n",
    "'''\n",
    "keep for all sessions\n",
    "'''\n",
    "left_mask = sess.trial_info['LR']==-1\n",
    "print(sess.trial_info['LR'],left_mask)\n",
    "\n",
    "\n",
    "trial_masks['channel_0_left'] = channel_0_mask*left_mask\n",
    "trial_masks['channel_0_right'] = channel_0_mask*(~left_mask)\n",
    "trial_masks['channel_1_left'] = (~channel_0_mask)*left_mask\n",
    "trial_masks['channel_1_right'] = (~channel_0_mask)*(~left_mask)\n",
    "\n",
    "# trial_masks['channel_0_left'] = left_mask\n",
    "# trial_masks['channel_0_right'] = (~left_mask)\n",
    "# trial_masks['channel_1_left'] = left_mask\n",
    "# trial_masks['channel_1_right'] = (~left_mask)"
   ]
  },
  {
   "cell_type": "code",
   "execution_count": 144,
   "id": "15c83f77-b34b-4f34-9ac9-10c92648fb14",
   "metadata": {},
   "outputs": [],
   "source": [
    "def run_shuffle(F, trial_starts, teleports, t, rng):\n",
    "    \n",
    "    F_shuff = np.zeros_like(F)\n",
    "    \n",
    "    for trial, (start, stop) in enumerate(zip(trial_starts, teleports)):\n",
    "        _F = 1*F[:,start:stop]    \n",
    "        _F = np.roll(_F,rng.integers(0,stop-start),axis=-1)\n",
    "        F_shuff[:,start:stop] = 1*_F\n",
    "        \n",
    "    tmat = tpu.spatial_analyses.trial_matrix(F_shuff.T,t, trial_starts,\n",
    "                                            teleports, min_pos=13, max_pos=43, bin_size=1, mat_only=True)\n",
    "    \n",
    "    return np.nanmean(tmat,axis=0)\n",
    "\n",
    "\n"
   ]
  },
  {
   "cell_type": "code",
   "execution_count": 145,
   "id": "b7db57ce-4952-4ddf-8b94-a26997cba84f",
   "metadata": {},
   "outputs": [
    {
     "name": "stdout",
     "output_type": "stream",
     "text": [
      "(1000, 30, 205)\n",
      "(1000, 30, 205)\n",
      "(1000, 30, 81)\n",
      "(1000, 30, 81)\n"
     ]
    }
   ],
   "source": [
    "rng = np.random.default_rng()\n",
    "nperms = 1000\n",
    "\n",
    "shuff_thresh = {'channel_0_left': None,\n",
    "               'channel_0_right': None,\n",
    "               'channel_1_left': None,\n",
    "               'channel_1_right': None}\n",
    "\n",
    "# F = sess.timeseries['channel_0_F_dff_speed_filt']\n",
    "F = sess.timeseries['channel_0_spks_speed_filt']\n",
    "starts, stops = sess.trial_start_inds[trial_masks['channel_0_left']], sess.teleport_inds[trial_masks['channel_0_left']]\n",
    "shuff_trial_mat = np.array(joblib.Parallel(n_jobs=-1)(joblib.delayed(run_shuffle)(F, starts, stops, sess.vr_data['t'], rng) for i in range(nperms)))\n",
    "print(shuff_trial_mat.shape)\n",
    "shuff_thresh['channel_0_left'] = np.nanpercentile(shuff_trial_mat[:, :, :], 90, axis=0)\n",
    "\n",
    "# F = sess.timeseries['channel_0_F_dff_speed_filt']\n",
    "F = sess.timeseries['channel_0_spks_speed_filt']\n",
    "starts, stops = sess.trial_start_inds[trial_masks['channel_0_right']], sess.teleport_inds[trial_masks['channel_0_right']]\n",
    "shuff_trial_mat = np.array(joblib.Parallel(n_jobs=-1)(joblib.delayed(run_shuffle)(F, starts, stops, sess.vr_data['t'], rng) for i in range(nperms)))\n",
    "print(shuff_trial_mat.shape)\n",
    "shuff_thresh['channel_0_right'] = np.nanpercentile(shuff_trial_mat[:, :, :], 90, axis=0)\n",
    "\n",
    "\n",
    "# F = sess.timeseries['channel_1_F_dff_speed_filt']\n",
    "F = sess.timeseries['channel_1_spks_speed_filt']\n",
    "starts, stops = sess.trial_start_inds[trial_masks['channel_1_left']], sess.teleport_inds[trial_masks['channel_1_left']]\n",
    "shuff_trial_mat = np.array(joblib.Parallel(n_jobs=-1)(joblib.delayed(run_shuffle)(F, starts, stops, sess.vr_data['t'], rng) for i in range(nperms)))\n",
    "print(shuff_trial_mat.shape)\n",
    "shuff_thresh['channel_1_left'] = np.nanpercentile(shuff_trial_mat[:, :, :], 70, axis=0)\n",
    "\n",
    "# F = sess.timeseries['channel_1_F_dff_speed_filt']\n",
    "F = sess.timeseries['channel_1_spks_speed_filt']\n",
    "starts, stops = sess.trial_start_inds[trial_masks['channel_1_right']], sess.teleport_inds[trial_masks['channel_1_right']]\n",
    "shuff_trial_mat = np.array(joblib.Parallel(n_jobs=-1)(joblib.delayed(run_shuffle)(F, starts, stops, sess.vr_data['t'], rng) for i in range(nperms)))\n",
    "print(shuff_trial_mat.shape)\n",
    "shuff_thresh['channel_1_right'] = np.nanpercentile(shuff_trial_mat[:, :, :], 70, axis=0)\n",
    "\n",
    "\n"
   ]
  },
  {
   "cell_type": "code",
   "execution_count": null,
   "id": "876316e4-9b64-4a1d-9119-61e56c1a1724",
   "metadata": {},
   "outputs": [],
   "source": [
    "import pickle\n",
    "\n",
    "with open('C://Users/esay/data/Stx3/YMazeSessPkls/place_field_shuff_SparseKO_03.pkl','wb') as file:\n",
    "    pickle.dump(shuff_thresh,file)"
   ]
  },
  {
   "cell_type": "code",
   "execution_count": 146,
   "id": "bf4246c2-21bb-48d8-830f-ee2f02a9d0eb",
   "metadata": {},
   "outputs": [],
   "source": [
    "# trial_means = {'channel_0_left': np.nanmean(sess.trial_matrices['channel_0_F_dff'][trial_masks['channel_0_left'], : , :],axis=0),\n",
    "#                'channel_0_right': np.nanmean(sess.trial_matrices['channel_0_F_dff'][trial_masks['channel_0_right'], : , :], axis=0),\n",
    "#                'channel_1_left': np.nanmean(sess.trial_matrices['channel_1_F_dff'][trial_masks['channel_1_left'], : , :],axis=0),\n",
    "#                'channel_1_right': np.nanmean(sess.trial_matrices['channel_1_F_dff'][trial_masks['channel_1_right'], : , :],axis=0),\n",
    "#               }\n",
    "\n",
    "trial_means = {'channel_0_left': np.nanmean(sess.trial_matrices['channel_0_spks_speed_filt'][trial_masks['channel_0_left'], : , :],axis=0),\n",
    "               'channel_0_right': np.nanmean(sess.trial_matrices['channel_0_spks_speed_filt'][trial_masks['channel_0_right'], : , :], axis=0),\n",
    "               'channel_1_left': np.nanmean(sess.trial_matrices['channel_1_spks_speed_filt'][trial_masks['channel_1_left'], : , :],axis=0),\n",
    "               'channel_1_right': np.nanmean(sess.trial_matrices['channel_1_spks_speed_filt'][trial_masks['channel_1_right'], : , :],axis=0),\n",
    "              }"
   ]
  },
  {
   "cell_type": "code",
   "execution_count": 147,
   "id": "5ecad41e-fe4e-4d89-92c8-223227d32aac",
   "metadata": {},
   "outputs": [
    {
     "name": "stdout",
     "output_type": "stream",
     "text": [
      "channel_0_left (30, 205)\n",
      "channel_0_right (30, 205)\n",
      "channel_1_left (30, 81)\n",
      "channel_1_right (30, 81)\n"
     ]
    }
   ],
   "source": [
    "field_info = {'channel_0_left': [],\n",
    "               'channel_0_right': [],\n",
    "               'channel_1_left': [],\n",
    "               'channel_1_right': []}\n",
    "\n",
    "for k, thresh in shuff_thresh.items():\n",
    "    print(k, thresh.shape)\n",
    "    sig_bins = trial_means[k]>thresh\n",
    "\n",
    "    # eliminate fields that start at first bin of track or end at last bin of track\n",
    "    \n",
    "\n",
    "    ledges = np.argwhere(sig_bins[1:,:]>sig_bins[:-1,:])\n",
    "    \n",
    "    for _ledge in ledges:\n",
    "\n",
    "        rem_trial = sig_bins[_ledge[0]:,_ledge[1]]\n",
    "        _redge = np.argwhere(rem_trial[1:]<rem_trial[:-1])\n",
    "        # print(_redge.size)\n",
    "        if (_redge.shape[0]>0) and (_redge[0][0]>2) and (_redge[0][0]<15) and (_ledge[0]>0) and ((_redge[0][0]+_ledge[0])<29):\n",
    "        # if (_redge.shape[0]>0):\n",
    "        # if (_redge.shape[0]>0):\n",
    "            field_info[k].append([_ledge[1], _ledge[0], _redge[0][0]])\n",
    "        \n",
    "\n",
    "            # fig, ax = plt.subplots()\n",
    "            # ax.plot(trial_means[k][:,_ledge[1]\n",
    "            # if 'channel_0' in k:\n",
    "            #     ax.imshow(sess.trial_matrices['channel_0_F_dff'][trial_masks[k],:, _ledge[1]])\n",
    "            #     ax.plot(_ledge[0]*np.ones([2,]), [0, trial_masks[k].sum()], color='red')\n",
    "            #     ax.plot((_ledge[0]+_redge[0][0])*np.ones([2,]), [0, trial_masks[k].sum()], color='red')\n",
    "            # else:\n",
    "            #     ax.imshow(sess.trial_matrices['channel_1_F_dff'][trial_masks[k],:, _ledge[1]])\n",
    "            #     ax.plot(_ledge[0]*np.ones([2,]), [0, trial_masks[k].sum()], color='red')\n",
    "            #     ax.plot((_ledge[0]+_redge[0][0])*np.ones([2,]), [0, trial_masks[k].sum()], color='red')\n",
    "            # print(trial_means[k].shape)\n",
    "        # ax.imshow(trial_means[k][:,_ledge[1]])\n",
    "\n",
    "for k,v in field_info.items():\n",
    "    field_info[k]=np.array(v)"
   ]
  },
  {
   "cell_type": "code",
   "execution_count": 148,
   "id": "081af379-1945-4ff3-ab45-57dc2c897b7f",
   "metadata": {},
   "outputs": [
    {
     "data": {
      "image/png": "[encoded data removed]",
      "text/plain": [
       "<Figure size 640x480 with 4 Axes>"
      ]
     },
     "metadata": {},
     "output_type": "display_data"
    }
   ],
   "source": [
    "import matplotlib.patches as mpatches\n",
    "\n",
    "fig, ax = plt.subplots(2,2)\n",
    "\n",
    "width_bins = np.arange(2,15)\n",
    "field_bins = np.arange(1,6)\n",
    "##\n",
    "fi = field_info['channel_0_left']\n",
    "ax[0,0].hist(fi[:,2], bins=width_bins, color='red', alpha=.4, density=True)\n",
    "\n",
    "cell_list = np.unique(fi[:,0])\n",
    "nfields = np.array([np.count_nonzero(fi[:,0]==cell) for cell in cell_list])\n",
    "ax[1,0].hist(nfields, bins=field_bins, color='red', alpha=.4, density=True)\n",
    "\n",
    "##\n",
    "fi = field_info['channel_1_left']\n",
    "ax[0,0].hist(fi[:,2], bins=width_bins, color='black', alpha=.4, density=True)\n",
    "\n",
    "cell_list = np.unique(fi[:,0])\n",
    "nfields = np.array([np.count_nonzero(fi[:,0]==cell) for cell in cell_list])\n",
    "ax[1,0].hist(nfields, bins=field_bins, color='black', alpha=.4, density=True)\n",
    "\n",
    "##\n",
    "fi = field_info['channel_0_right']\n",
    "ax[0,1].hist(fi[:,2], bins=width_bins, color='red', alpha=.4, density=True)\n",
    "\n",
    "cell_list = np.unique(fi[:,0])\n",
    "nfields = np.array([np.count_nonzero(fi[:,0]==cell) for cell in cell_list])\n",
    "ax[1,1].hist(nfields, bins=field_bins, color='red', alpha=.4, density=True)\n",
    "\n",
    "\n",
    "# ##\n",
    "fi = field_info['channel_1_right']\n",
    "ax[0,1].hist(fi[:,2], bins=width_bins, color='black', alpha=.4, density=True)\n",
    "\n",
    "cell_list = np.unique(fi[:,0])\n",
    "nfields = np.array([np.count_nonzero(fi[:,0]==cell) for cell in cell_list])\n",
    "ax[1,1].hist(nfields, bins=field_bins, color='black', alpha=.4, density=True)\n",
    "\n",
    "# add axes and legend \n",
    "\n",
    "ax[0,0].set_title(\"Left Arm\")\n",
    "ax[0,1].set_title(\"Right Arm\")\n",
    "\n",
    "ax[0, 0].set_ylabel(\"Field Width\")\n",
    "ax[1, 0].set_ylabel(\"Number of Fields\")\n",
    "\n",
    "ko_patch = mpatches.Patch(color = 'red', alpha = .4, label = 'KO')\n",
    "ctrl_patch = mpatches.Patch(color = 'black', alpha = .4, label = 'ctrl')\n",
    "ax[0,0].legend(handles = [ko_patch, ctrl_patch],loc = \"upper right\")\n",
    "\n",
    "plt.tight_layout(rect=[0,0,.85,1])\n",
    "plt.show()"
   ]
  },
  {
   "cell_type": "code",
   "execution_count": null,
   "id": "451b8f7f-6310-4ec8-92ae-078472060a60",
   "metadata": {},
   "outputs": [],
   "source": [
    "\n",
    "\n",
    "\n"
   ]
  },
  {
   "cell_type": "code",
   "execution_count": null,
   "id": "49fb3a24-9b6f-4dac-a933-6ca083018ae7",
   "metadata": {},
   "outputs": [],
   "source": []
  }
 ],
 "metadata": {
  "kernelspec": {
   "display_name": "Python 3 (ipykernel)",
   "language": "python",
   "name": "python3"
  },
  "language_info": {
   "codemirror_mode": {
    "name": "ipython",
    "version": 3
   },
   "file_extension": ".py",
   "mimetype": "text/x-python",
   "name": "python",
   "nbconvert_exporter": "python",
   "pygments_lexer": "ipython3",
   "version": "3.10.14"
  }
 },
 "nbformat": 4,
 "nbformat_minor": 5
}
