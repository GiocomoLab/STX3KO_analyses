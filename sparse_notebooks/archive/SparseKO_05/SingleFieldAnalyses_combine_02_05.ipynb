{
 "cells": [
  {
   "cell_type": "code",
   "execution_count": 1,
   "id": "7bb9343d-e5a9-4876-ac26-b08f4b8a7bd1",
   "metadata": {},
   "outputs": [],
   "source": [
    "import os\n",
    "import joblib\n",
    "import pickle\n",
    "\n",
    "import numpy as np\n",
    "import scipy as sp\n",
    "from matplotlib import pyplot as plt\n",
    "from matplotlib import gridspec\n",
    "\n",
    "import pandas as pd\n",
    "from pingouin import mixed_anova, anova, pairwise_tukey, pairwise_tests\n",
    "import pingouin as pg\n",
    "from statsmodels.regression.mixed_linear_model import MixedLM\n",
    "import statsmodels.formula.api as smf\n",
    "\n",
    "import TwoPUtils as tpu\n",
    "import STX3KO_analyses as stx\n",
    "from STX3KO_analyses import utilities as u\n",
    "\n",
    "\n",
    "\n",
    "plt.rcParams['pdf.fonttype']=42\n",
    "%matplotlib inline\n",
    "\n",
    "%load_ext autoreload\n",
    "%autoreload 2"
   ]
  },
  {
   "cell_type": "code",
   "execution_count": null,
   "id": "3522e251-73bf-46d3-809f-f7b3bb75f254",
   "metadata": {},
   "outputs": [],
   "source": []
  },
  {
   "cell_type": "code",
   "execution_count": 17,
   "id": "d8abc4f6-ec9d-4c01-a416-92517de5a5df",
   "metadata": {},
   "outputs": [],
   "source": [
    "# load session\n",
    "sparse_sessions = stx.ymaze_sess_deets.SparseKO_sessions\n",
    "mouse1 = 'SparseKO_02'\n",
    "mouse2 = 'SparseKO_05'\n",
    "\n",
    "d1 = sparse_sessions[mouse1][-1]\n",
    "date1, scene1, session1, scan1 = d1['date'], d1['scene'], d1['session'], d1['scan']\n",
    "d2 = sparse_sessions[mouse2][-1]\n",
    "date2, scene2, session2, scan2 = d2['date'], d2['scene'], d2['session'], d2['scan']\n",
    "\n",
    "\n",
    "pkldir1 = os.path.join('C:/Users/esay/data/Stx3/YMazeSessPkls', mouse1,  date1, f'{scene1}_{session1}.pkl')\n",
    "pkldir2 = os.path.join('C:/Users/esay/data/Stx3/YMazeSessPkls', mouse2,  date2, f'{scene2}_{session2}.pkl')\n",
    "sess1 = stx.session.YMazeSession.from_file(pkldir1, verbose=False)\n",
    "sess2 = stx.session.YMazeSession.from_file(pkldir2, verbose=False)\n"
   ]
  },
  {
   "cell_type": "code",
   "execution_count": 22,
   "id": "651f72c7-4cf5-4749-b6df-912808fef64b",
   "metadata": {},
   "outputs": [
    {
     "name": "stdout",
     "output_type": "stream",
     "text": [
      "[ 1. -1.  1.  1. -1.  1. -1. -1. -1. -1.  1.  1. -1.  1. -1. -1.  1.  1.\n",
      "  1.  1. -1. -1. -1. -1.  1.  1. -1. -1.  1.  1.  1. -1.  1. -1. -1.  1.\n",
      "  1. -1. -1. -1.  1. -1. -1.  1. -1.  1.  1.  1. -1. -1.  1. -1. -1. -1.\n",
      " -1.  1. -1. -1.  1. -1. -1. -1.  1.  1. -1. -1.  1.  1.  1.  1.  1. -1.\n",
      " -1.  1. -1.  1.  1.  1.  1. -1. -1. -1.  1. -1. -1.  1.  1.  1. -1. -1.\n",
      " -1.  1. -1.  1.  1.  1. -1.  1.  1.  1.  1.  1.  1.  1. -1.  1.  1.  1.\n",
      "  1.  1. -1. -1. -1. -1. -1. -1.  1. -1. -1. -1.  1.  1. -1.  1. -1. -1.\n",
      " -1.  1.  1. -1.  1.  1.  1. -1.  1. -1. -1. -1. -1. -1.  1. -1. -1. -1.\n",
      "  1. -1.  1. -1. -1. -1. -1.  1. -1. -1.  1.  1.  1. -1. -1.  1.] [False  True False False  True False  True  True  True  True False False\n",
      "  True False  True  True False False False False  True  True  True  True\n",
      " False False  True  True False False False  True False  True  True False\n",
      " False  True  True  True False  True  True False  True False False False\n",
      "  True  True False  True  True  True  True False  True  True False  True\n",
      "  True  True False False  True  True False False False False False  True\n",
      "  True False  True False False False False  True  True  True False  True\n",
      "  True False False False  True  True  True False  True False False False\n",
      "  True False False False False False False False  True False False False\n",
      " False False  True  True  True  True  True  True False  True  True  True\n",
      " False False  True False  True  True  True False False  True False False\n",
      " False  True False  True  True  True  True  True False  True  True  True\n",
      " False  True False  True  True  True  True False  True  True False False\n",
      " False  True  True False]\n"
     ]
    }
   ],
   "source": [
    "trial_masks1 = {'channel_0_left': None,\n",
    "               'channel_0_right': None,\n",
    "               'channel_1_left': None,\n",
    "               'channel_1_right': None}\n",
    "\n",
    "trial_masks2 = {'channel_0_left': None,\n",
    "               'channel_0_right': None,\n",
    "               'channel_1_left': None,\n",
    "               'channel_1_right': None}\n",
    "channel_0_mask = sess1.trial_info['block_number']%2==0\n",
    "left_mask1 = sess1.trial_info['LR']==-1\n",
    "left_mask2 = sess2.trial_info['LR']==-1\n",
    "\n",
    "\n",
    "trial_masks1['channel_0_left'] = channel_0_mask*left_mask1\n",
    "trial_masks1['channel_0_right'] = channel_0_mask*(~left_mask1)\n",
    "trial_masks1['channel_1_left'] = (~channel_0_mask)*left_mask1\n",
    "trial_masks1['channel_1_right'] = (~channel_0_mask)*(~left_mask1)\n",
    "\n",
    "trial_masks2['channel_0_left'] = channel_0_mask*left_mask2\n",
    "trial_masks2['channel_0_right'] = channel_0_mask*(~left_mask2)\n",
    "trial_masks2['channel_1_left'] = (~channel_0_mask)*left_mask2\n",
    "trial_masks2['channel_1_right'] = (~channel_0_mask)*(~left_mask2)\n",
    "\n",
    "print(sess1.trial_info['LR'],left_mask)\n"
   ]
  },
  {
   "cell_type": "code",
   "execution_count": 4,
   "id": "15c83f77-b34b-4f34-9ac9-10c92648fb14",
   "metadata": {},
   "outputs": [],
   "source": [
    "def run_shuffle(F, trial_starts, teleports, t, rng):\n",
    "    \n",
    "    F_shuff = np.zeros_like(F)\n",
    "    \n",
    "    for trial, (start, stop) in enumerate(zip(trial_starts, teleports)):\n",
    "        _F = 1*F[:,start:stop]    \n",
    "        _F = np.roll(_F,rng.integers(0,stop-start),axis=-1)\n",
    "        F_shuff[:,start:stop] = 1*_F\n",
    "        \n",
    "    tmat = tpu.spatial_analyses.trial_matrix(F_shuff.T,t, trial_starts,\n",
    "                                            teleports, min_pos=13, max_pos=43, bin_size=1, mat_only=True)\n",
    "    \n",
    "    return np.nanmean(tmat,axis=0)\n",
    "\n",
    "\n"
   ]
  },
  {
   "cell_type": "code",
   "execution_count": 6,
   "id": "b7db57ce-4952-4ddf-8b94-a26997cba84f",
   "metadata": {},
   "outputs": [
    {
     "name": "stdout",
     "output_type": "stream",
     "text": [
      "(1000, 30, 336)\n",
      "(1000, 30, 336)\n",
      "(1000, 30, 211)\n",
      "(1000, 30, 211)\n"
     ]
    }
   ],
   "source": [
    "rng = np.random.default_rng()\n",
    "nperms = 1000\n",
    "\n",
    "shuff_thresh = {'channel_0_left': None,\n",
    "               'channel_0_right': None,\n",
    "               'channel_1_left': None,\n",
    "               'channel_1_right': None}\n",
    "\n",
    "F = sess.timeseries['channel_0_F_dff']\n",
    "starts, stops = sess.trial_start_inds[trial_masks['channel_0_left']], sess.teleport_inds[trial_masks['channel_0_left']]\n",
    "shuff_trial_mat = np.array(joblib.Parallel(n_jobs=-1)(joblib.delayed(run_shuffle)(F, starts, stops, sess.vr_data['t'], rng) for i in range(nperms)))\n",
    "print(shuff_trial_mat.shape)\n",
    "shuff_thresh['channel_0_left'] = np.nanpercentile(shuff_trial_mat[:, :, :], 95, axis=0)\n",
    "\n",
    "F = sess.timeseries['channel_0_F_dff']\n",
    "starts, stops = sess.trial_start_inds[trial_masks['channel_0_right']], sess.teleport_inds[trial_masks['channel_0_right']]\n",
    "shuff_trial_mat = np.array(joblib.Parallel(n_jobs=-1)(joblib.delayed(run_shuffle)(F, starts, stops, sess.vr_data['t'], rng) for i in range(nperms)))\n",
    "print(shuff_trial_mat.shape)\n",
    "shuff_thresh['channel_0_right'] = np.nanpercentile(shuff_trial_mat[:, :, :], 95, axis=0)\n",
    "\n",
    "\n",
    "F = sess.timeseries['channel_1_F_dff']\n",
    "starts, stops = sess.trial_start_inds[trial_masks['channel_1_left']], sess.teleport_inds[trial_masks['channel_1_left']]\n",
    "shuff_trial_mat = np.array(joblib.Parallel(n_jobs=-1)(joblib.delayed(run_shuffle)(F, starts, stops, sess.vr_data['t'], rng) for i in range(nperms)))\n",
    "print(shuff_trial_mat.shape)\n",
    "shuff_thresh['channel_1_left'] = np.nanpercentile(shuff_trial_mat[:, :, :], 95, axis=0)\n",
    "\n",
    "F = sess.timeseries['channel_1_F_dff']\n",
    "starts, stops = sess.trial_start_inds[trial_masks['channel_1_right']], sess.teleport_inds[trial_masks['channel_1_right']]\n",
    "shuff_trial_mat = np.array(joblib.Parallel(n_jobs=-1)(joblib.delayed(run_shuffle)(F, starts, stops, sess.vr_data['t'], rng) for i in range(nperms)))\n",
    "print(shuff_trial_mat.shape)\n",
    "shuff_thresh['channel_1_right'] = np.nanpercentile(shuff_trial_mat[:, :, :], 95, axis=0)\n",
    "\n",
    "\n"
   ]
  },
  {
   "cell_type": "code",
   "execution_count": 9,
   "id": "1ff70a2f-f258-4a20-8987-39f6ff936bd8",
   "metadata": {},
   "outputs": [],
   "source": [
    "import pickle\n",
    "\n",
    "with open('C://Users/esay/data/Stx3/YMazeSessPkls/place_field_shuff_SparseKO_02.pkl','wb') as file:\n",
    "    pickle.dump(shuff_thresh,file)"
   ]
  },
  {
   "cell_type": "code",
   "execution_count": 101,
   "id": "06c39fa1-f6dc-4e3d-9981-7b890e5a9083",
   "metadata": {},
   "outputs": [],
   "source": [
    "shuff_02 = pd.read_pickle(r'C://Users/esay/data/Stx3/YMazeSessPkls/place_field_shuff_SparseKO_02.pkl')\n",
    "shuff_05 = pd.read_pickle(r'C://Users/esay/data/Stx3/YMazeSessPkls/place_field_shuff_SparseKO_05.pkl')"
   ]
  },
  {
   "cell_type": "code",
   "execution_count": 102,
   "id": "bf4246c2-21bb-48d8-830f-ee2f02a9d0eb",
   "metadata": {
    "scrolled": true
   },
   "outputs": [],
   "source": [
    "trial_means1 = {'channel_0_left': np.nanmean(sess1.trial_matrices['channel_0_F_dff'][trial_masks1['channel_0_left'], : , :],axis=0),\n",
    "               'channel_0_right': np.nanmean(sess1.trial_matrices['channel_0_F_dff'][trial_masks1['channel_0_right'], : , :], axis=0),\n",
    "               'channel_1_left': np.nanmean(sess1.trial_matrices['channel_1_F_dff'][trial_masks1['channel_1_left'], : , :],axis=0),\n",
    "               'channel_1_right': np.nanmean(sess1.trial_matrices['channel_1_F_dff'][trial_masks1['channel_1_right'], : , :],axis=0),\n",
    "              }\n",
    "\n",
    "trial_means2 = {'channel_0_left': np.nanmean(sess2.trial_matrices['channel_0_F_dff'][trial_masks2['channel_0_left'], : , :],axis=0),\n",
    "               'channel_0_right': np.nanmean(sess2.trial_matrices['channel_0_F_dff'][trial_masks2['channel_0_right'], : , :], axis=0),\n",
    "               'channel_1_left': np.nanmean(sess2.trial_matrices['channel_1_F_dff'][trial_masks2['channel_1_left'], : , :],axis=0),\n",
    "               'channel_1_right': np.nanmean(sess2.trial_matrices['channel_1_F_dff'][trial_masks2['channel_1_right'], : , :],axis=0),\n",
    "              }"
   ]
  },
  {
   "cell_type": "code",
   "execution_count": 91,
   "id": "be4d7a77-4476-4eef-9082-3d136c52ef0d",
   "metadata": {},
   "outputs": [],
   "source": [
    "# ds = [shuff_02, shuff_05]\n",
    "\n",
    "# concat_shuff = {}\n",
    "\n",
    "# for k in shuff_02.keys():\n",
    "#     concat_shuff[k] = np.column_stack(list(concat_shuff[k] for concat_shuff in ds))"
   ]
  },
  {
   "cell_type": "code",
   "execution_count": 82,
   "id": "d01d9e76-a94c-4ed5-b41e-2d1dfd8a29cf",
   "metadata": {},
   "outputs": [
    {
     "data": {
      "text/plain": [
       "(30, 586)"
      ]
     },
     "execution_count": 82,
     "metadata": {},
     "output_type": "execute_result"
    }
   ],
   "source": [
    "concat_shuff['channel_0_left'].shape"
   ]
  },
  {
   "cell_type": "code",
   "execution_count": 95,
   "id": "4fea4c74-a634-4c46-9656-05ab44570c97",
   "metadata": {},
   "outputs": [],
   "source": [
    "# means = [trial_means1, trial_means2]\n",
    "# trial_means = {}\n",
    "\n",
    "# for k in trial_means1.keys():\n",
    "#     trial_means[k] = np.column_stack(list(trial_means[k] for trial_means in means))\n",
    "\n"
   ]
  },
  {
   "cell_type": "code",
   "execution_count": 103,
   "id": "5ecad41e-fe4e-4d89-92c8-223227d32aac",
   "metadata": {
    "scrolled": true
   },
   "outputs": [],
   "source": [
    "field_info1 = {'channel_0_left': [],\n",
    "               'channel_0_right': [],\n",
    "               'channel_1_left': [],\n",
    "               'channel_1_right': []}\n",
    "\n",
    "for k, thresh in shuff_02.items():\n",
    "    # print(k, thresh.shape)\n",
    "    sig_bins = trial_means1[k]>thresh\n",
    "\n",
    "    # eliminate fields that start at first bin of track or end at last bin of track\n",
    "    \n",
    "\n",
    "    ledges = np.argwhere(sig_bins[1:,:]>sig_bins[:-1,:])\n",
    "    \n",
    "    for _ledge in ledges:\n",
    "\n",
    "        rem_trial = sig_bins[_ledge[0]:,_ledge[1]]\n",
    "        _redge = np.argwhere(rem_trial[1:]<rem_trial[:-1])\n",
    "        # print(_redge.size)\n",
    "        if (_redge.shape[0]>0) and (_redge[0][0]>2) and (_redge[0][0]<15) and (_ledge[0]>0) and ((_redge[0][0]+_ledge[0])<29):\n",
    "        # if (_redge.shape[0]>0):\n",
    "        # if (_redge.shape[0]>0):\n",
    "            field_info1[k].append([_ledge[1], _ledge[0], _redge[0][0]])\n",
    "        \n",
    "\n",
    "            # fig, ax = plt.subplots()\n",
    "            # ax.plot(trial_means[k][:,_ledge[1]\n",
    "            # if 'channel_0' in k:\n",
    "            #     ax.imshow(sess.trial_matrices['channel_0_F_dff'][trial_masks[k],:, _ledge[1]])\n",
    "            #     ax.plot(_ledge[0]*np.ones([2,]), [0, trial_masks[k].sum()], color='red')\n",
    "            #     ax.plot((_ledge[0]+_redge[0][0])*np.ones([2,]), [0, trial_masks[k].sum()], color='red')\n",
    "            # else:\n",
    "            #     ax.imshow(sess.trial_matrices['channel_1_F_dff'][trial_masks[k],:, _ledge[1]])\n",
    "            #     ax.plot(_ledge[0]*np.ones([2,]), [0, trial_masks[k].sum()], color='red')\n",
    "            #     ax.plot((_ledge[0]+_redge[0][0])*np.ones([2,]), [0, trial_masks[k].sum()], color='red')\n",
    "            # print(trial_means[k].shape)\n",
    "        # ax.imshow(trial_means[k][:,_ledge[1]])\n",
    "\n",
    "for k,v in field_info1.items():\n",
    "    field_info1[k]=np.array(v)"
   ]
  },
  {
   "cell_type": "code",
   "execution_count": 105,
   "id": "3f393ce3-0baa-4164-be5b-5c325cd77d8a",
   "metadata": {},
   "outputs": [],
   "source": [
    "field_info2 = {'channel_0_left': [],\n",
    "               'channel_0_right': [],\n",
    "               'channel_1_left': [],\n",
    "               'channel_1_right': []}\n",
    "\n",
    "for k, thresh in shuff_05.items():\n",
    "    # print(k, thresh.shape)\n",
    "    sig_bins = trial_means2[k]>thresh\n",
    "\n",
    "    # eliminate fields that start at first bin of track or end at last bin of track\n",
    "    \n",
    "\n",
    "    ledges = np.argwhere(sig_bins[1:,:]>sig_bins[:-1,:])\n",
    "    \n",
    "    for _ledge in ledges:\n",
    "\n",
    "        rem_trial = sig_bins[_ledge[0]:,_ledge[1]]\n",
    "        _redge = np.argwhere(rem_trial[1:]<rem_trial[:-1])\n",
    "        # print(_redge.size)\n",
    "        if (_redge.shape[0]>0) and (_redge[0][0]>2) and (_redge[0][0]<15) and (_ledge[0]>0) and ((_redge[0][0]+_ledge[0])<29):\n",
    "        # if (_redge.shape[0]>0):\n",
    "        # if (_redge.shape[0]>0):\n",
    "            field_info2[k].append([_ledge[1], _ledge[0], _redge[0][0]])\n",
    "        \n",
    "\n",
    "            # fig, ax = plt.subplots()\n",
    "            # ax.plot(trial_means[k][:,_ledge[1]\n",
    "            # if 'channel_0' in k:\n",
    "            #     ax.imshow(sess.trial_matrices['channel_0_F_dff'][trial_masks[k],:, _ledge[1]])\n",
    "            #     ax.plot(_ledge[0]*np.ones([2,]), [0, trial_masks[k].sum()], color='red')\n",
    "            #     ax.plot((_ledge[0]+_redge[0][0])*np.ones([2,]), [0, trial_masks[k].sum()], color='red')\n",
    "            # else:\n",
    "            #     ax.imshow(sess.trial_matrices['channel_1_F_dff'][trial_masks[k],:, _ledge[1]])\n",
    "            #     ax.plot(_ledge[0]*np.ones([2,]), [0, trial_masks[k].sum()], color='red')\n",
    "            #     ax.plot((_ledge[0]+_redge[0][0])*np.ones([2,]), [0, trial_masks[k].sum()], color='red')\n",
    "            # print(trial_means[k].shape)\n",
    "        # ax.imshow(trial_means[k][:,_ledge[1]])\n",
    "\n",
    "for k,v in field_info2.items():\n",
    "    field_info2[k]=np.array(v)"
   ]
  },
  {
   "cell_type": "code",
   "execution_count": 106,
   "id": "fdf21971-b588-4ecf-a715-f698e959add8",
   "metadata": {},
   "outputs": [],
   "source": [
    "field_info = {key: np.concatenate([field_info1.get(key, np.empty((0, 3))), field_info2.get(key, np.empty((0, 3)))], axis=0) for key in field_info1.keys()}"
   ]
  },
  {
   "cell_type": "code",
   "execution_count": 107,
   "id": "081af379-1945-4ff3-ab45-57dc2c897b7f",
   "metadata": {},
   "outputs": [
    {
     "data": {
      "text/plain": [
       "(array([0.4375    , 0.38020833, 0.15104167, 0.03125   ]),\n",
       " array([1., 2., 3., 4., 5.]),\n",
       " <BarContainer object of 4 artists>)"
      ]
     },
     "execution_count": 107,
     "metadata": {},
     "output_type": "execute_result"
    },
    {
     "data": {
      "image/png": "[encoded data removed]",
      "text/plain": [
       "<Figure size 640x480 with 4 Axes>"
      ]
     },
     "metadata": {},
     "output_type": "display_data"
    }
   ],
   "source": [
    "fig, ax = plt.subplots(2,2)\n",
    "\n",
    "width_bins = np.arange(2,15)\n",
    "field_bins = np.arange(1,6)\n",
    "##\n",
    "fi = field_info['channel_0_left']\n",
    "ax[0,0].hist(fi[:,2], bins=width_bins, color='red', alpha=.4, density=True)\n",
    "\n",
    "cell_list = np.unique(fi[:,0])\n",
    "nfields = np.array([np.count_nonzero(fi[:,0]==cell) for cell in cell_list])\n",
    "ax[1,0].hist(nfields, bins=field_bins, color='red', alpha=.4, density=True)\n",
    "\n",
    "##\n",
    "fi = field_info['channel_1_left']\n",
    "ax[0,0].hist(fi[:,2], bins=width_bins, color='black', alpha=.4, density=True)\n",
    "\n",
    "cell_list = np.unique(fi[:,0])\n",
    "nfields = np.array([np.count_nonzero(fi[:,0]==cell) for cell in cell_list])\n",
    "ax[1,0].hist(nfields, bins=field_bins, color='black', alpha=.4, density=True)\n",
    "\n",
    "##\n",
    "fi = field_info['channel_0_right']\n",
    "ax[0,1].hist(fi[:,2], bins=width_bins, color='red', alpha=.4, density=True)\n",
    "\n",
    "cell_list = np.unique(fi[:,0])\n",
    "nfields = np.array([np.count_nonzero(fi[:,0]==cell) for cell in cell_list])\n",
    "ax[1,1].hist(nfields, bins=field_bins, color='red', alpha=.4, density=True)\n",
    "\n",
    "\n",
    "##\n",
    "fi = field_info['channel_1_right']\n",
    "ax[0,1].hist(fi[:,2], bins=width_bins, color='black', alpha=.4, density=True)\n",
    "\n",
    "cell_list = np.unique(fi[:,0])\n",
    "nfields = np.array([np.count_nonzero(fi[:,0]==cell) for cell in cell_list])\n",
    "ax[1,1].hist(nfields, bins=field_bins, color='black', alpha=.4, density=True)\n",
    "\n",
    "\n",
    "    "
   ]
  },
  {
   "cell_type": "code",
   "execution_count": null,
   "id": "451b8f7f-6310-4ec8-92ae-078472060a60",
   "metadata": {},
   "outputs": [],
   "source": [
    "\n",
    "\n",
    "\n"
   ]
  },
  {
   "cell_type": "code",
   "execution_count": null,
   "id": "49fb3a24-9b6f-4dac-a933-6ca083018ae7",
   "metadata": {},
   "outputs": [],
   "source": []
  }
 ],
 "metadata": {
  "kernelspec": {
   "display_name": "Python 3 (ipykernel)",
   "language": "python",
   "name": "python3"
  },
  "language_info": {
   "codemirror_mode": {
    "name": "ipython",
    "version": 3
   },
   "file_extension": ".py",
   "mimetype": "text/x-python",
   "name": "python",
   "nbconvert_exporter": "python",
   "pygments_lexer": "ipython3",
   "version": "3.10.14"
  }
 },
 "nbformat": 4,
 "nbformat_minor": 5
}
