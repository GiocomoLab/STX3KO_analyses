{
 "cells": [
  {
   "cell_type": "code",
   "execution_count": 2,
   "id": "choice-parallel",
   "metadata": {},
   "outputs": [],
   "source": [
    "# import\n",
    "import os\n",
    "import dill\n",
    "\n",
    "import TwoPUtils\n",
    "from TwoPUtils.roi_matching import ROIAligner\n",
    "\n",
    "import STX3KO_analyses as stx\n",
    "\n",
    "%matplotlib inline\n",
    "\n",
    "%load_ext autoreload\n",
    "%autoreload 2"
   ]
  },
  {
   "cell_type": "code",
   "execution_count": 32,
   "id": "smaller-sight",
   "metadata": {},
   "outputs": [],
   "source": [
    "def single_mouse_aligner(mouse, sessions):\n",
    "    sess_dir = os.path.join('C:/Users/esay/data/Stx3/YMazeSessPkls',mouse)\n",
    "    sess_list = []\n",
    "    \n",
    "    '''\n",
    "    ES modification:\n",
    "    - append chan0 and chan 1 seperately to sess_list\n",
    "    '''\n",
    "    \n",
    "    for sess_deets in sessions:     \n",
    "        if isinstance(sess_deets,(list,tuple)):\n",
    "            for _sess_deets in sess_deets:\n",
    "                with open(os.path.join(sess_dir,_sess_deets['date'],\"%s_%d.pkl\" % (_sess_deets['scene'], _sess_deets['session'])),'rb') as file:\n",
    "                    # data = dill.load(file)\n",
    "                    # if 'channel_0' in data:\n",
    "                    #     sess_list.append(data['channel_0'])\n",
    "                    # if 'channel_1' in data:\n",
    "                    #     sess_list.append(data['channel_1'])\n",
    "                    sess_list.append(dill.load(file))\n",
    "        else:\n",
    "            with open(os.path.join(sess_dir,sess_deets['date'],\"%s_%d.pkl\" % (sess_deets['scene'], sess_deets['session'])),'rb') as file:\n",
    "                    sess_list.append(dill.load(file))\n",
    "\n",
    "    sa = ROIAligner(sess_list)\n",
    "    sa.run_pairwise_matches()\n",
    "\n",
    "    with open(os.path.join(sess_dir,'roi_aligner_results.pkl'), 'wb') as file:\n",
    "        dill.dump(sa.match_inds,file)\n",
    "\n",
    "\n",
    "\n",
    "def run_aligner(sess_dict):\n",
    "    for mouse, sessions in sess_dict.items():\n",
    "        \n",
    "#         sessions = stx.ymaze_sess_deets.KO_sessions[mouse]\n",
    "        sess_dir = os.path.join('C:/Users/esay/data/Stx3/YMazeSessPkls',mouse)\n",
    "        print(mouse)\n",
    "        single_mouse_aligner(mouse, sessions)\n",
    "#         if True: #not os.path.exists(os.path.join(sess_dir,'roi_aligner_results.pkl')) :\n",
    "#             sess_list = []\n",
    "#             for sess_deets in sessions:     \n",
    "#                 if isinstance(sess_deets,(list,tuple)):\n",
    "#                     for _sess_deets in sess_deets:\n",
    "#                         with open(os.path.join(sess_dir,_sess_deets['date'],\"%s_%d.pkl\" % (_sess_deets['scene'], _sess_deets['session'])),'rb') as file:\n",
    "#                             sess_list.append(dill.load(file))\n",
    "#                 else:\n",
    "#                     with open(os.path.join(sess_dir,sess_deets['date'],\"%s_%d.pkl\" % (sess_deets['scene'], sess_deets['session'])),'rb') as file:\n",
    "#                             sess_list.append(dill.load(file))\n",
    "\n",
    "#             sa = ROIAligner(sess_list)\n",
    "#             sa.run_pairwise_matches()\n",
    "\n",
    "#             with open(os.path.join(sess_dir,'roi_aligner_results.pkl'), 'wb') as file:\n",
    "#                 dill.dump(sa.match_inds,file)"
   ]
  },
  {
   "cell_type": "code",
   "execution_count": null,
   "id": "confirmed-outreach",
   "metadata": {
    "scrolled": true
   },
   "outputs": [],
   "source": [
    "mouse = '4467975.5'\n",
    "sessions = stx.ymaze_sess_deets.KO_sessions[mouse]\n",
    "single_mouse_aligner(mouse,sessions)"
   ]
  },
  {
   "cell_type": "code",
   "execution_count": 15,
   "id": "13916029-ea50-47a0-a258-33dd17a6716e",
   "metadata": {
    "scrolled": true
   },
   "outputs": [
    {
     "ename": "AttributeError",
     "evalue": "'dict' object has no attribute 'shape'",
     "output_type": "error",
     "traceback": [
      "\u001b[1;31m---------------------------------------------------------------------------\u001b[0m",
      "\u001b[1;31mAttributeError\u001b[0m                            Traceback (most recent call last)",
      "Cell \u001b[1;32mIn[15], line 3\u001b[0m\n\u001b[0;32m      1\u001b[0m mouse \u001b[38;5;241m=\u001b[39m \u001b[38;5;124m'\u001b[39m\u001b[38;5;124mSparseKO_02\u001b[39m\u001b[38;5;124m'\u001b[39m\n\u001b[0;32m      2\u001b[0m sessions \u001b[38;5;241m=\u001b[39m stx\u001b[38;5;241m.\u001b[39mymaze_sess_deets\u001b[38;5;241m.\u001b[39mSparseKO_sessions[mouse]\n\u001b[1;32m----> 3\u001b[0m \u001b[43msingle_mouse_aligner\u001b[49m\u001b[43m(\u001b[49m\u001b[43mmouse\u001b[49m\u001b[43m,\u001b[49m\u001b[43msessions\u001b[49m\u001b[43m)\u001b[49m\n",
      "Cell \u001b[1;32mIn[14], line 25\u001b[0m, in \u001b[0;36msingle_mouse_aligner\u001b[1;34m(mouse, sessions)\u001b[0m\n\u001b[0;32m     22\u001b[0m                 sess_list\u001b[38;5;241m.\u001b[39mappend(dill\u001b[38;5;241m.\u001b[39mload(file))\n\u001b[0;32m     24\u001b[0m sa \u001b[38;5;241m=\u001b[39m ROIAligner(sess_list)\n\u001b[1;32m---> 25\u001b[0m \u001b[43msa\u001b[49m\u001b[38;5;241;43m.\u001b[39;49m\u001b[43mrun_pairwise_matches\u001b[49m\u001b[43m(\u001b[49m\u001b[43m)\u001b[49m\n\u001b[0;32m     27\u001b[0m \u001b[38;5;28;01mwith\u001b[39;00m \u001b[38;5;28mopen\u001b[39m(os\u001b[38;5;241m.\u001b[39mpath\u001b[38;5;241m.\u001b[39mjoin(sess_dir,\u001b[38;5;124m'\u001b[39m\u001b[38;5;124mroi_aligner_results.pkl\u001b[39m\u001b[38;5;124m'\u001b[39m), \u001b[38;5;124m'\u001b[39m\u001b[38;5;124mwb\u001b[39m\u001b[38;5;124m'\u001b[39m) \u001b[38;5;28;01mas\u001b[39;00m file:\n\u001b[0;32m     28\u001b[0m     dill\u001b[38;5;241m.\u001b[39mdump(sa\u001b[38;5;241m.\u001b[39mmatch_inds,file)\n",
      "File \u001b[1;32mc:\\users\\esay\\repos\\twoputils\\TwoPUtils\\roi_matching.py:45\u001b[0m, in \u001b[0;36mROIAligner.run_pairwise_matches\u001b[1;34m(self, thresh, dist_thresh)\u001b[0m\n\u001b[0;32m     39\u001b[0m \u001b[38;5;250m\u001b[39m\u001b[38;5;124;03m\"\"\"\u001b[39;00m\n\u001b[0;32m     40\u001b[0m \u001b[38;5;124;03mcalculate matched ROIs for ref_sess vs each targ_sess\u001b[39;00m\n\u001b[0;32m     41\u001b[0m \u001b[38;5;124;03m:return:\u001b[39;00m\n\u001b[0;32m     42\u001b[0m \u001b[38;5;124;03m\"\"\"\u001b[39;00m\n\u001b[0;32m     43\u001b[0m \u001b[38;5;28;01mfor\u001b[39;00m ref_ind \u001b[38;5;129;01min\u001b[39;00m \u001b[38;5;28mrange\u001b[39m(\u001b[38;5;28mlen\u001b[39m(\u001b[38;5;28mself\u001b[39m\u001b[38;5;241m.\u001b[39msess_list)):\n\u001b[1;32m---> 45\u001b[0m     \u001b[38;5;28mself\u001b[39m\u001b[38;5;241m.\u001b[39mref_roistack \u001b[38;5;241m=\u001b[39m \u001b[43mmake_roistack\u001b[49m\u001b[43m(\u001b[49m\u001b[38;5;28;43mself\u001b[39;49m\u001b[38;5;241;43m.\u001b[39;49m\u001b[43msess_list\u001b[49m\u001b[43m[\u001b[49m\u001b[43mref_ind\u001b[49m\u001b[43m]\u001b[49m\u001b[38;5;241;43m.\u001b[39;49m\u001b[43ms2p_stats\u001b[49m\u001b[43m,\u001b[49m\u001b[43m \u001b[49m\u001b[38;5;28;43mself\u001b[39;49m\u001b[38;5;241;43m.\u001b[39;49m\u001b[43msess_list\u001b[49m\u001b[43m[\u001b[49m\u001b[43mref_ind\u001b[49m\u001b[43m]\u001b[49m\u001b[38;5;241;43m.\u001b[39;49m\u001b[43ms2p_ops\u001b[49m\u001b[43m)\u001b[49m\n\u001b[0;32m     46\u001b[0m     \u001b[38;5;66;03m# align targ_sess mean images to ref_sess mean image\u001b[39;00m\n\u001b[0;32m     47\u001b[0m     \u001b[38;5;28mself\u001b[39m\u001b[38;5;241m.\u001b[39mreg_ops \u001b[38;5;241m=\u001b[39m \u001b[38;5;28mself\u001b[39m\u001b[38;5;241m.\u001b[39msess_list[ref_ind]\u001b[38;5;241m.\u001b[39ms2p_ops\n",
      "File \u001b[1;32mc:\\users\\esay\\repos\\twoputils\\TwoPUtils\\roi_matching.py:357\u001b[0m, in \u001b[0;36mmake_roistack\u001b[1;34m(stats, ops)\u001b[0m\n\u001b[0;32m    349\u001b[0m \u001b[38;5;28;01mdef\u001b[39;00m \u001b[38;5;21mmake_roistack\u001b[39m(stats, ops):\n\u001b[0;32m    350\u001b[0m \u001b[38;5;250m    \u001b[39m\u001b[38;5;124;03m\"\"\"\u001b[39;00m\n\u001b[0;32m    351\u001b[0m \u001b[38;5;124;03m    create rois x Ly x Lx array of roi masks\u001b[39;00m\n\u001b[0;32m    352\u001b[0m \u001b[38;5;124;03m    :param stats: suite2p stats array (iscell filter applied)\u001b[39;00m\n\u001b[0;32m    353\u001b[0m \u001b[38;5;124;03m    :param ops: suite2p ops dictionary\u001b[39;00m\n\u001b[0;32m    354\u001b[0m \u001b[38;5;124;03m    :return: roistack: np.array\u001b[39;00m\n\u001b[0;32m    355\u001b[0m \u001b[38;5;124;03m    \"\"\"\u001b[39;00m\n\u001b[1;32m--> 357\u001b[0m     roistack \u001b[38;5;241m=\u001b[39m np\u001b[38;5;241m.\u001b[39mzeros([\u001b[43mstats\u001b[49m\u001b[38;5;241;43m.\u001b[39;49m\u001b[43mshape\u001b[49m[\u001b[38;5;241m0\u001b[39m], ops[\u001b[38;5;124m'\u001b[39m\u001b[38;5;124mLy\u001b[39m\u001b[38;5;124m'\u001b[39m], ops[\u001b[38;5;124m'\u001b[39m\u001b[38;5;124mLx\u001b[39m\u001b[38;5;124m'\u001b[39m]])\u001b[38;5;241m.\u001b[39mastype(np\u001b[38;5;241m.\u001b[39mfloat32)\n\u001b[0;32m    358\u001b[0m     \u001b[38;5;28;01mfor\u001b[39;00m i, roi \u001b[38;5;129;01min\u001b[39;00m \u001b[38;5;28menumerate\u001b[39m(stats):\n\u001b[0;32m    359\u001b[0m         roistack[i, roi[\u001b[38;5;124m'\u001b[39m\u001b[38;5;124mypix\u001b[39m\u001b[38;5;124m'\u001b[39m], roi[\u001b[38;5;124m'\u001b[39m\u001b[38;5;124mxpix\u001b[39m\u001b[38;5;124m'\u001b[39m]] \u001b[38;5;241m=\u001b[39m \u001b[38;5;241m1\u001b[39m\n",
      "\u001b[1;31mAttributeError\u001b[0m: 'dict' object has no attribute 'shape'"
     ]
    }
   ],
   "source": [
    "mouse = 'SparseKO_02'\n",
    "sessions = stx.ymaze_sess_deets.SparseKO_sessions[mouse]\n",
    "single_mouse_aligner(mouse,sessions)"
   ]
  },
  {
   "cell_type": "code",
   "execution_count": 5,
   "id": "1f761f81-356b-47c0-b303-8a874bab55ee",
   "metadata": {},
   "outputs": [
    {
     "data": {
      "text/plain": [
       "({'date': '24_05_2025',\n",
       "  'scene': 'YMaze_LNovel',\n",
       "  'session': 4,\n",
       "  'scan': 27,\n",
       "  'novel_arm': 1,\n",
       "  'exp_day': 1},\n",
       " {'date': '25_05_2025',\n",
       "  'scene': 'YMaze_LNovel',\n",
       "  'session': 2,\n",
       "  'scan': 8,\n",
       "  'novel_arm': 1,\n",
       "  'exp_day': 2},\n",
       " {'date': '26_05_2025',\n",
       "  'scene': 'YMaze_LNovel',\n",
       "  'session': 1,\n",
       "  'scan': 20,\n",
       "  'novel_arm': 1,\n",
       "  'exp_day': 3},\n",
       " {'date': '27_05_2025',\n",
       "  'scene': 'YMaze_LNovel',\n",
       "  'session': 1,\n",
       "  'scan': 22,\n",
       "  'novel_arm': 1,\n",
       "  'exp_day': 4},\n",
       " {'date': '28_05_2025',\n",
       "  'scene': 'YMaze_LNovel',\n",
       "  'session': 2,\n",
       "  'scan': 16,\n",
       "  'novel_arm': 1,\n",
       "  'exp_day': 5},\n",
       " {'date': '29_05_2025',\n",
       "  'scene': 'YMaze_LNovel',\n",
       "  'session': 1,\n",
       "  'scan': 20,\n",
       "  'novel_arm': 1,\n",
       "  'exp_day': 6},\n",
       " {'date': '30_05_2025',\n",
       "  'scene': 'YMaze_LNovel_LongTimeout',\n",
       "  'session': 1,\n",
       "  'scan': 8,\n",
       "  'novel_arm': 1,\n",
       "  'exp_day': 7})"
      ]
     },
     "execution_count": 5,
     "metadata": {},
     "output_type": "execute_result"
    }
   ],
   "source": [
    "sessions[4:]"
   ]
  },
  {
   "cell_type": "code",
   "execution_count": 6,
   "id": "41994f4a-bb82-4abd-9650-c5369b9410dc",
   "metadata": {},
   "outputs": [],
   "source": [
    "mouse = \"SparseKO_13\"\n",
    "sess_dir = os.path.join('C:/Users/esay/data/Stx3/YMazeSessPkls',mouse)\n",
    "sess_list = []\n",
    "sess_list0 = []\n",
    "sess_list1 = []\n",
    "sessions = stx.ymaze_sess_deets.SparseKO_sessions[mouse][4:]\n",
    "\n",
    "for sess_deets in sessions:     \n",
    "    if isinstance(sess_deets,(list,tuple)):\n",
    "        t_1 = []\n",
    "        t_0 = []\n",
    "        t = []\n",
    "        for _sess_deets in sess_deets:\n",
    "            with open(os.path.join(sess_dir,_sess_deets['date'],\"%s_%d.pkl\" % (_sess_deets['scene'], _sess_deets['session'])),'rb') as file:\n",
    "                # sess_list.append(dill.load(file))\n",
    "                data = dill.load(file)\n",
    "                sess_list.append(data)\n",
    "                data0 = dill.loads(dill.dumps(data)) if 'channel_0' in data.s2p_stats else None\n",
    "                data1 = dill.loads(dill.dumps(data)) if 'channel_1' in data.s2p_stats else None\n",
    "    \n",
    "                if data0:\n",
    "                    data0.s2p_stats = data.s2p_stats['channel_0']\n",
    "                    sess_list0.append(data0)\n",
    "    \n",
    "    \n",
    "                if data1:\n",
    "                    data1.s2p_stats =data.s2p_stats['channel_1']\n",
    "                    sess_list1.append(data1)\n",
    "    else:\n",
    "        with open(os.path.join(sess_dir,sess_deets['date'],\"%s_%d.pkl\" % (sess_deets['scene'], sess_deets['session'])),'rb') as file:\n",
    "            data = dill.load(file)\n",
    "            sess_list.append(data)\n",
    "            data0 = dill.loads(dill.dumps(data)) if 'channel_0' in data.s2p_stats else None\n",
    "            data1 = dill.loads(dill.dumps(data)) if 'channel_1' in data.s2p_stats else None\n",
    "\n",
    "            if data0:\n",
    "                data0.s2p_stats = data.s2p_stats['channel_0']\n",
    "                data0.s2p_ops = data.s2p_ops['channel_0']\n",
    "                sess_list0.append(data0)\n",
    "\n",
    "\n",
    "            if data1:\n",
    "                data1.s2p_stats =data.s2p_stats['channel_1']\n",
    "                data1.s2p_ops =data.s2p_ops['channel_1']\n",
    "                sess_list1.append(data1)\n",
    "            # if 'channel_0' in data.s2p_stats:\n",
    "            #     sess_list0.s2p_stats.append(data.s2p_stats['channel_0'])\n",
    "            # if 'channel_1' in data.s2p_stats:\n",
    "            #     sess_list1.s2p_stats.append(data.s2p_stats['channel_1'])    \n",
    "            # sess_list.append(dill.load(file))"
   ]
  },
  {
   "cell_type": "code",
   "execution_count": 7,
   "id": "b65f29ea-8b46-4fa6-ae7b-1e4cb176491d",
   "metadata": {},
   "outputs": [
    {
     "data": {
      "text/plain": [
       "(512, 796)"
      ]
     },
     "execution_count": 7,
     "metadata": {},
     "output_type": "execute_result"
    }
   ],
   "source": [
    "import numpy as np\n",
    "sess_list0[0].s2p_ops['meanImg'].shape"
   ]
  },
  {
   "cell_type": "code",
   "execution_count": 8,
   "id": "bbaa7d9d-da76-4d7a-a82a-60ada64fdea8",
   "metadata": {},
   "outputs": [
    {
     "data": {
      "text/plain": [
       "[<STX3KO_analyses.session.YMazeSession at 0x29e1b40fb80>,\n",
       " <STX3KO_analyses.session.YMazeSession at 0x29e1b319840>,\n",
       " <STX3KO_analyses.session.YMazeSession at 0x29df5c65150>,\n",
       " <STX3KO_analyses.session.YMazeSession at 0x29df5dbaa40>,\n",
       " <STX3KO_analyses.session.YMazeSession at 0x29df5dbab60>,\n",
       " <STX3KO_analyses.session.YMazeSession at 0x29df5db1960>,\n",
       " <STX3KO_analyses.session.YMazeSession at 0x29e1b041b10>]"
      ]
     },
     "execution_count": 8,
     "metadata": {},
     "output_type": "execute_result"
    }
   ],
   "source": [
    "sess_list0[0:7]"
   ]
  },
  {
   "cell_type": "code",
   "execution_count": 9,
   "id": "a7513a8b-a46b-4b1d-80cc-fe6ffe062c50",
   "metadata": {},
   "outputs": [
    {
     "name": "stdout",
     "output_type": "stream",
     "text": [
      "thresh 0.28110326623916626\n",
      "skipping roi\n",
      "thresh 0.30920518732070923\n",
      "thresh 0.30939967727661133\n",
      "thresh 0.25751833415031433\n",
      "skipping roi\n",
      "thresh 0.26964320039749146\n",
      "skipping roi\n",
      "thresh 0.33563969826698303\n",
      "thresh 0.2093645910024643\n",
      "thresh 0.3155688474178314\n",
      "thresh 0.18929406797885895\n",
      "thresh 0.1997420916557312\n",
      "thresh 0.35598812794685364\n",
      "thresh 0.2606551775932312\n",
      "thresh 0.2101304063796997\n",
      "thresh 0.16147853231430054\n",
      "thresh 0.26415516233444214\n",
      "thresh 0.3465379605293274\n",
      "thresh 0.2774020264148712\n",
      "thresh 0.28330157494544983\n",
      "thresh 0.125515101313591\n",
      "thresh 0.20789615607261658\n",
      "thresh 0.36498598551750183\n",
      "thresh 0.1470014134645462\n",
      "thresh 0.2813584039211273\n",
      "thresh 0.3418302664756775\n",
      "thresh 0.20867927169799805\n",
      "thresh 0.3545616099834442\n",
      "thresh 0.20841906762123108\n",
      "thresh 0.2672077248096466\n",
      "thresh 0.31147168374061585\n",
      "thresh 0.1410461196899414\n"
     ]
    }
   ],
   "source": [
    "sa = ROIAligner(sess_list0[0:6])\n",
    "sa.run_pairwise_matches()\n",
    "\n"
   ]
  },
  {
   "cell_type": "code",
   "execution_count": 11,
   "id": "be74eda7-ae35-4c2f-8493-ba2159825e64",
   "metadata": {},
   "outputs": [],
   "source": [
    "with open(os.path.join(sess_dir,'roi_aligner_results.pkl'), 'wb') as file:\n",
    "    dill.dump(sa.match_inds,file)"
   ]
  },
  {
   "cell_type": "code",
   "execution_count": null,
   "id": "athletic-complaint",
   "metadata": {},
   "outputs": [],
   "source": [
    "run_aligner(stx.ymaze_sess_deets.KO_sessions)"
   ]
  },
  {
   "cell_type": "code",
   "execution_count": null,
   "id": "generous-segment",
   "metadata": {},
   "outputs": [],
   "source": [
    "run_aligner(stx.ymaze_sess_deets.CTRL_sessions)"
   ]
  },
  {
   "cell_type": "code",
   "execution_count": null,
   "id": "average-jewel",
   "metadata": {},
   "outputs": [],
   "source": []
  }
 ],
 "metadata": {
  "kernelspec": {
   "display_name": "Python 3 (ipykernel)",
   "language": "python",
   "name": "python3"
  },
  "language_info": {
   "codemirror_mode": {
    "name": "ipython",
    "version": 3
   },
   "file_extension": ".py",
   "mimetype": "text/x-python",
   "name": "python",
   "nbconvert_exporter": "python",
   "pygments_lexer": "ipython3",
   "version": "3.10.14"
  }
 },
 "nbformat": 4,
 "nbformat_minor": 5
}
