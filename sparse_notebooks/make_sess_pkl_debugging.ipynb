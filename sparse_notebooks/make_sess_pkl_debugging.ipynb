{
 "cells": [
  {
   "cell_type": "code",
   "execution_count": 1,
   "id": "6716c23e-72b1-4a50-b333-ab6d169f1591",
   "metadata": {},
   "outputs": [
    {
     "name": "stderr",
     "output_type": "stream",
     "text": [
      "/home/mplitt/mambaforge/envs/STX3/lib/python3.8/site-packages/outdated/utils.py:14: OutdatedPackageWarning: The package pingouin is out of date. Your version is 0.5.3, the latest is 0.5.5.\n",
      "Set the environment variable OUTDATED_IGNORE=1 to disable these warnings.\n",
      "  return warn(\n"
     ]
    }
   ],
   "source": [
    "import os\n",
    "\n",
    "import numpy as np\n",
    "import scipy as sp\n",
    "from matplotlib import pyplot as plt\n",
    "from matplotlib.gridspec import GridSpec as gridspec\n",
    "import dill\n",
    "\n",
    "import suite2p as s2p\n",
    "\n",
    "import TwoPUtils as tpu\n",
    "import STX3KO_analyses as stx\n",
    "from STX3KO_analyses import utilities as u\n",
    "\n",
    "ko_mice = stx.ymaze_sess_deets.ko_mice\n",
    "ctrl_mice = stx.ymaze_sess_deets.ctrl_mice\n",
    "\n",
    "\n",
    "%matplotlib inline\n",
    "\n",
    "%load_ext autoreload\n",
    "%autoreload 2"
   ]
  },
  {
   "cell_type": "code",
   "execution_count": 2,
   "id": "ccef8388-439e-42ae-999c-635ac9862524",
   "metadata": {},
   "outputs": [],
   "source": [
    "sparse_sessions = stx.ymaze_sess_deets.SparseKO_sessions"
   ]
  },
  {
   "cell_type": "code",
   "execution_count": 3,
   "id": "b5da4014-53c8-48ea-9d30-92e8347a49ec",
   "metadata": {},
   "outputs": [
    {
     "data": {
      "text/plain": [
       "dict_keys(['SparseKO_05', 'SparseKO_02', 'SparseKO_03'])"
      ]
     },
     "execution_count": 3,
     "metadata": {},
     "output_type": "execute_result"
    }
   ],
   "source": [
    "sparse_sessions.keys()"
   ]
  },
  {
   "cell_type": "code",
   "execution_count": 4,
   "id": "e08c0728-a5fc-40ea-8dde-63d2f3b5c39a",
   "metadata": {},
   "outputs": [
    {
     "name": "stdout",
     "output_type": "stream",
     "text": [
      "{'date': '22_11_2024', 'scene': 'YMaze_LNovel_LongTimeout', 'session': 2, 'scan': 15, 'novel_arm': -1, 'exp_day': 7}\n"
     ]
    }
   ],
   "source": [
    "mouse = 'SparseKO_02'\n",
    "d = sparse_sessions[mouse][-1]\n",
    "print(d)"
   ]
  },
  {
   "cell_type": "code",
   "execution_count": 5,
   "id": "20e475a6-acb7-48eb-aca2-4d408009bfbe",
   "metadata": {},
   "outputs": [
    {
     "name": "stdout",
     "output_type": "stream",
     "text": [
      "YMaze_LNovel_LongTimeout\n"
     ]
    }
   ],
   "source": [
    "date, scene, sess, scan = d['date'], d['scene'], d['session'], d['scan']\n",
    "print(scene)\n",
    "basedir = f'/mnt/BigDisk/2P_scratch/{mouse}/{date}/{scene}'\n",
    "stem =  os.path.join(basedir, f'{scene}_{sess:03}_{scan:03}')\n",
    "\n",
    "d.update({'mouse': mouse ,\n",
    "          'scan_file':stem + '.sbx',\n",
    "          'scanheader_file': stem + '.mat',\n",
    "          'vr_filename': os.path.join(\"/mnt/BigDisk/VR_scratch\",mouse,date,\"%s_%d.sqlite\" %(scene,sess)),\n",
    "          'scan_number': scan,\n",
    "          'prompt_for_keys': False,\n",
    "          'VR_only': False,\n",
    "          'scanner': \"NLW\",\n",
    "          'n_channels':2,\n",
    "             })"
   ]
  },
  {
   "cell_type": "code",
   "execution_count": 6,
   "id": "6c195e27-45bb-4ef7-bdeb-9ed32d079d48",
   "metadata": {},
   "outputs": [
    {
     "name": "stdout",
     "output_type": "stream",
     "text": [
      "Fixing teleports\n",
      "frame rate 15.625\n",
      "(297154,) ttl times,(64134,) ca2+ frame times\n",
      "last time: VR 4104.64675, ca2+ 4104.512\n"
     ]
    },
    {
     "name": "stderr",
     "output_type": "stream",
     "text": [
      "/home/mplitt/repos/TwoPUtils/TwoPUtils/preprocessing.py:210: FutureWarning: In a future version, `df.iloc[:, i] = newvals` will attempt to set the values inplace instead of always setting a new array. To retain the old behavior, use either `df[df.columns[i]] = newvals` or, if columns are non-unique, `df.isetitem(i, newvals)`\n",
      "  ca_df.loc[:, 'time'] = ca_time\n",
      "/home/mplitt/repos/TwoPUtils/TwoPUtils/preprocessing.py:259: UserWarning: Number of teleports and trial starts don't match\n",
      "  warnings.warn(\"Number of teleports and trial starts don't match\")\n",
      "/home/mplitt/repos/TwoPUtils/TwoPUtils/preprocessing.py:265: UserWarning: One more trial start than teleport, assuming the final teleport got chopped\n",
      "  warnings.warn(('One more trial start than teleport, assuming the final teleport got chopped'))\n"
     ]
    },
    {
     "name": "stdout",
     "output_type": "stream",
     "text": [
      "/mnt/BigDisk/2P_scratch/SparseKO_02/22_11_2024/YMaze_LNovel_LongTimeout/YMaze_LNovel_LongTimeout_002_015/suite2p\n",
      "194 7868\n",
      "8966 15579\n",
      "16674 24296\n",
      "25397 33097\n",
      "34195 40977\n",
      "42077 49606\n",
      "50701 57026\n",
      "58118 64133\n"
     ]
    }
   ],
   "source": [
    "sess = stx.session.YMazeSession(**d)\n",
    "sess.load_scan_info(sbx_version=3)\n",
    "sess.align_VR_to_2P()\n",
    "sess.load_suite2p_data(which_ts=('F', 'Fneu','spks'))\n",
    "sess.get_trial_info()\n",
    "sess.neuropil_corrected_dff()"
   ]
  },
  {
   "cell_type": "code",
   "execution_count": 7,
   "id": "398513f3-5a79-4cf9-9f34-1c96f0c39f32",
   "metadata": {},
   "outputs": [
    {
     "data": {
      "text/plain": [
       "dict_keys(['F', 'Fneu', 'spks', 'F_dff'])"
      ]
     },
     "execution_count": 7,
     "metadata": {},
     "output_type": "execute_result"
    }
   ],
   "source": [
    "sess.timeseries.keys()"
   ]
  },
  {
   "cell_type": "code",
   "execution_count": 12,
   "id": "60a16ea3-f4a0-4bf6-94d0-1c40ba7deeb9",
   "metadata": {},
   "outputs": [
    {
     "data": {
      "text/plain": [
       "[<matplotlib.lines.Line2D at 0x7f0dbb12ba60>]"
      ]
     },
     "execution_count": 12,
     "metadata": {},
     "output_type": "execute_result"
    },
    {
     "data": {
      "image/png": "[encoded data removed]",
      "text/plain": [
       "<Figure size 640x480 with 1 Axes>"
      ]
     },
     "metadata": {},
     "output_type": "display_data"
    }
   ],
   "source": [
    "fig, ax = plt.subplots()\n",
    "# ax.imshow(sess.timeseries['spks'],aspect='auto')\n",
    "ax.plot(sess.timeseries['spks'][0,:])"
   ]
  },
  {
   "cell_type": "code",
   "execution_count": null,
   "id": "2cf5785f-84ed-4b1b-9df7-2cd5d014fbd3",
   "metadata": {},
   "outputs": [],
   "source": []
  }
 ],
 "metadata": {
  "kernelspec": {
   "display_name": "Python 3 (ipykernel)",
   "language": "python",
   "name": "python3"
  },
  "language_info": {
   "codemirror_mode": {
    "name": "ipython",
    "version": 3
   },
   "file_extension": ".py",
   "mimetype": "text/x-python",
   "name": "python",
   "nbconvert_exporter": "python",
   "pygments_lexer": "ipython3",
   "version": "3.8.15"
  }
 },
 "nbformat": 4,
 "nbformat_minor": 5
}
