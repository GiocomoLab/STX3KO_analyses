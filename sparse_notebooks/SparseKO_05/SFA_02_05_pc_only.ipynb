{
 "cells": [
  {
   "cell_type": "code",
   "execution_count": 1,
   "id": "7bb9343d-e5a9-4876-ac26-b08f4b8a7bd1",
   "metadata": {},
   "outputs": [],
   "source": [
    "import os\n",
    "import joblib\n",
    "import pickle\n",
    "\n",
    "import numpy as np\n",
    "import scipy as sp\n",
    "from matplotlib import pyplot as plt\n",
    "from matplotlib import gridspec\n",
    "\n",
    "import pandas as pd\n",
    "from pingouin import mixed_anova, anova, pairwise_tukey, pairwise_tests\n",
    "import pingouin as pg\n",
    "from statsmodels.regression.mixed_linear_model import MixedLM\n",
    "import statsmodels.formula.api as smf\n",
    "\n",
    "import TwoPUtils as tpu\n",
    "import STX3KO_analyses as stx\n",
    "from STX3KO_analyses import utilities as u\n",
    "\n",
    "\n",
    "\n",
    "plt.rcParams['pdf.fonttype']=42\n",
    "%matplotlib inline\n",
    "\n",
    "%load_ext autoreload\n",
    "%autoreload 2"
   ]
  },
  {
   "cell_type": "code",
   "execution_count": null,
   "id": "3522e251-73bf-46d3-809f-f7b3bb75f254",
   "metadata": {},
   "outputs": [],
   "source": []
  },
  {
   "cell_type": "code",
   "execution_count": 2,
   "id": "d8abc4f6-ec9d-4c01-a416-92517de5a5df",
   "metadata": {},
   "outputs": [],
   "source": [
    "# load session\n",
    "sparse_sessions = stx.ymaze_sess_deets.SparseKO_sessions\n",
    "mouse1 = 'SparseKO_02'\n",
    "mouse2 = 'SparseKO_05'\n",
    "\n",
    "d1 = sparse_sessions[mouse1][-1]\n",
    "date1, scene1, session1, scan1 = d1['date'], d1['scene'], d1['session'], d1['scan']\n",
    "d2 = sparse_sessions[mouse2][-1]\n",
    "date2, scene2, session2, scan2 = d2['date'], d2['scene'], d2['session'], d2['scan']\n",
    "\n",
    "\n",
    "pkldir1 = os.path.join('C:/Users/esay/data/Stx3/YMazeSessPkls', mouse1,  date1, f'{scene1}_{session1}.pkl')\n",
    "pkldir2 = os.path.join('C:/Users/esay/data/Stx3/YMazeSessPkls', mouse2,  date2, f'{scene2}_{session2}.pkl')\n",
    "sess1 = stx.session.YMazeSession.from_file(pkldir1, verbose=False)\n",
    "sess2 = stx.session.YMazeSession.from_file(pkldir2, verbose=False)\n"
   ]
  },
  {
   "cell_type": "code",
   "execution_count": 3,
   "id": "651f72c7-4cf5-4749-b6df-912808fef64b",
   "metadata": {},
   "outputs": [],
   "source": [
    "trial_masks1 = {'channel_0_left': None,\n",
    "               'channel_0_right': None,\n",
    "               'channel_1_left': None,\n",
    "               'channel_1_right': None}\n",
    "\n",
    "trial_masks2 = {'channel_0_left': None,\n",
    "               'channel_0_right': None,\n",
    "               'channel_1_left': None,\n",
    "               'channel_1_right': None}\n",
    "channel_0_mask = sess1.trial_info['block_number']%2==0\n",
    "left_mask1 = sess1.trial_info['LR']==-1\n",
    "left_mask2 = sess2.trial_info['LR']==-1\n",
    "\n",
    "\n",
    "trial_masks1['channel_0_left'] = channel_0_mask*left_mask1\n",
    "trial_masks1['channel_0_right'] = channel_0_mask*(~left_mask1)\n",
    "trial_masks1['channel_1_left'] = (~channel_0_mask)*left_mask1\n",
    "trial_masks1['channel_1_right'] = (~channel_0_mask)*(~left_mask1)\n",
    "\n",
    "trial_masks2['channel_0_left'] = channel_0_mask*left_mask2\n",
    "trial_masks2['channel_0_right'] = channel_0_mask*(~left_mask2)\n",
    "trial_masks2['channel_1_left'] = (~channel_0_mask)*left_mask2\n",
    "trial_masks2['channel_1_right'] = (~channel_0_mask)*(~left_mask2)\n",
    "\n",
    "# print(sess1.trial_info['LR'],left_mask)\n"
   ]
  },
  {
   "cell_type": "code",
   "execution_count": 4,
   "id": "5617078a-7569-4f29-933c-99b0546fc5b3",
   "metadata": {},
   "outputs": [],
   "source": [
    "# pc mask\n",
    "\n",
    "chan0_mask_pf_left1 = sess1.place_cell_info['channel_0_F_dff']['left']['masks']\n",
    "chan0_mask_pf_right1 = sess1.place_cell_info['channel_0_F_dff']['right']['masks']\n",
    "chan1_mask_pf_left1 = sess1.place_cell_info['channel_1_F_dff']['left']['masks']\n",
    "chan1_mask_pf_right1 = sess1.place_cell_info['channel_1_F_dff']['right']['masks']\n",
    "\n",
    "chan1_mask1 = chan1_mask_pf_left1 | chan1_mask_pf_right1\n",
    "chan0_mask1 = chan0_mask_pf_left1 | chan0_mask_pf_right1\n",
    "\n",
    "# pc mask2\n",
    "\n",
    "chan0_mask_pf_left2 = sess2.place_cell_info['channel_0_F_dff']['left']['masks']\n",
    "chan0_mask_pf_right2 = sess2.place_cell_info['channel_0_F_dff']['right']['masks']\n",
    "chan1_mask_pf_left2 = sess2.place_cell_info['channel_1_F_dff']['left']['masks']\n",
    "chan1_mask_pf_right2 = sess2.place_cell_info['channel_1_F_dff']['right']['masks']\n",
    "\n",
    "chan1_mask2 = chan1_mask_pf_left2 | chan1_mask_pf_right2\n",
    "chan0_mask2 = chan0_mask_pf_left2 | chan0_mask_pf_right2"
   ]
  },
  {
   "cell_type": "code",
   "execution_count": 5,
   "id": "a7328161-6166-4a09-a5a7-40bc2eb6eb3b",
   "metadata": {},
   "outputs": [],
   "source": [
    "F = sess1.timeseries['channel_1_spks']\n",
    "F_chan1_mask1 = F[chan1_mask1] \n",
    "\n",
    "F = sess1.timeseries['channel_0_spks']\n",
    "F_chan0_mask1 = F[chan0_mask1]\n",
    "\n",
    "F = sess2.timeseries['channel_1_spks']\n",
    "F_chan1_mask2 = F[chan1_mask2] \n",
    "\n",
    "F = sess2.timeseries['channel_0_spks']\n",
    "F_chan0_mask2 = F[chan0_mask2]"
   ]
  },
  {
   "cell_type": "code",
   "execution_count": 6,
   "id": "15c83f77-b34b-4f34-9ac9-10c92648fb14",
   "metadata": {},
   "outputs": [],
   "source": [
    "def run_shuffle(F, trial_starts, teleports, t, rng):\n",
    "    \n",
    "    F_shuff = np.zeros_like(F)\n",
    "    \n",
    "    for trial, (start, stop) in enumerate(zip(trial_starts, teleports)):\n",
    "        _F = 1*F[:,start:stop]    \n",
    "        _F = np.roll(_F,rng.integers(0,stop-start),axis=-1)\n",
    "        F_shuff[:,start:stop] = 1*_F\n",
    "        \n",
    "    tmat = tpu.spatial_analyses.trial_matrix(F_shuff.T,t, trial_starts,\n",
    "                                            teleports, min_pos=13, max_pos=43, bin_size=1, mat_only=True)\n",
    "    \n",
    "    return np.nanmean(tmat,axis=0)\n",
    "\n",
    "\n"
   ]
  },
  {
   "cell_type": "code",
   "execution_count": 8,
   "id": "690eea1f-9cdb-464e-a503-fd2ae602ba99",
   "metadata": {},
   "outputs": [],
   "source": [
    "# shuffle1 pc only\n",
    "\n",
    "rng = np.random.default_rng()\n",
    "\n",
    "shuff_thresh = {'channel_0_left': None,\n",
    "               'channel_0_right': None,\n",
    "               'channel_1_left': None,\n",
    "               'channel_1_right': None}\n",
    "\n",
    "\n",
    "F = F_chan0_mask1\n",
    "starts, stops = sess1.trial_start_inds[trial_masks1['channel_0_left']], sess1.teleport_inds[trial_masks1['channel_0_left']]\n",
    "shuff_trial_mat = np.array(joblib.Parallel(n_jobs=-1)(joblib.delayed(run_shuffle)(F, starts, stops, sess1.vr_data['t'], rng) for i in range(1000)))\n",
    "shuff_thresh['channel_0_left'] = np.nanpercentile(shuff_trial_mat[:, :, :], 99, axis=0)\n",
    "\n",
    "F = F_chan0_mask1\n",
    "starts, stops = sess1.trial_start_inds[trial_masks1['channel_0_right']], sess1.teleport_inds[trial_masks1['channel_0_right']]\n",
    "shuff_trial_mat = np.array(joblib.Parallel(n_jobs=-1)(joblib.delayed(run_shuffle)(F, starts, stops, sess1.vr_data['t'], rng) for i in range(1000)))\n",
    "shuff_thresh['channel_0_right'] = np.nanpercentile(shuff_trial_mat[:, :, :], 99, axis=0)\n",
    "\n",
    "\n",
    "F = F_chan1_mask1\n",
    "starts, stops = sess1.trial_start_inds[trial_masks1['channel_1_left']], sess1.teleport_inds[trial_masks1['channel_1_left']]\n",
    "shuff_trial_mat = np.array(joblib.Parallel(n_jobs=-1)(joblib.delayed(run_shuffle)(F, starts, stops, sess1.vr_data['t'], rng) for i in range(1000)))\n",
    "shuff_thresh['channel_1_left'] = np.nanpercentile(shuff_trial_mat[:, :, :], 99, axis=0)\n",
    "\n",
    "F = F_chan1_mask1\n",
    "starts, stops = sess1.trial_start_inds[trial_masks1['channel_1_right']], sess1.teleport_inds[trial_masks1['channel_1_right']]\n",
    "shuff_trial_mat = np.array(joblib.Parallel(n_jobs=-1)(joblib.delayed(run_shuffle)(F, starts, stops, sess1.vr_data['t'], rng) for i in range(1000)))\n",
    "shuff_thresh['channel_1_right'] = np.nanpercentile(shuff_trial_mat[:, :, :], 99, axis=0)"
   ]
  },
  {
   "cell_type": "code",
   "execution_count": 9,
   "id": "65f7816e-81c8-4776-8187-ac7c14c342a6",
   "metadata": {},
   "outputs": [],
   "source": [
    "# save shuffle1 pc only\n",
    "with open('C://Users/esay/data/Stx3/YMazeSessPkls/pf_shuff_pc_only_SparseKO_02.pkl','wb') as file:\n",
    "    pickle.dump(shuff_thresh,file)"
   ]
  },
  {
   "cell_type": "code",
   "execution_count": 12,
   "id": "e5150780-a2bb-484b-9837-429a44ed61c2",
   "metadata": {},
   "outputs": [],
   "source": [
    "# shuffle2 pc only \n",
    "rng = np.random.default_rng()\n",
    "\n",
    "shuff_thresh = {'channel_0_left': None,\n",
    "               'channel_0_right': None,\n",
    "               'channel_1_left': None,\n",
    "               'channel_1_right': None}\n",
    "\n",
    "\n",
    "F = F_chan0_mask2\n",
    "starts, stops = sess2.trial_start_inds[trial_masks2['channel_0_left']], sess2.teleport_inds[trial_masks2['channel_0_left']]\n",
    "shuff_trial_mat = np.array(joblib.Parallel(n_jobs=-1)(joblib.delayed(run_shuffle)(F, starts, stops, sess2.vr_data['t'], rng) for i in range(1000)))\n",
    "shuff_thresh['channel_0_left'] = np.nanpercentile(shuff_trial_mat[:, :, :], 99, axis=0)\n",
    "\n",
    "F = F_chan0_mask2\n",
    "starts, stops = sess2.trial_start_inds[trial_masks2['channel_0_right']], sess2.teleport_inds[trial_masks2['channel_0_right']]\n",
    "shuff_trial_mat = np.array(joblib.Parallel(n_jobs=-1)(joblib.delayed(run_shuffle)(F, starts, stops, sess2.vr_data['t'], rng) for i in range(1000)))\n",
    "shuff_thresh['channel_0_right'] = np.nanpercentile(shuff_trial_mat[:, :, :], 99, axis=0)\n",
    "\n",
    "\n",
    "F = F_chan1_mask2\n",
    "starts, stops = sess2.trial_start_inds[trial_masks2['channel_1_left']], sess2.teleport_inds[trial_masks2['channel_1_left']]\n",
    "shuff_trial_mat = np.array(joblib.Parallel(n_jobs=-1)(joblib.delayed(run_shuffle)(F, starts, stops, sess2.vr_data['t'], rng) for i in range(1000)))\n",
    "shuff_thresh['channel_1_left'] = np.nanpercentile(shuff_trial_mat[:, :, :], 99, axis=0)\n",
    "\n",
    "F = F_chan1_mask2\n",
    "starts, stops = sess2.trial_start_inds[trial_masks2['channel_1_right']], sess2.teleport_inds[trial_masks2['channel_1_right']]\n",
    "shuff_trial_mat = np.array(joblib.Parallel(n_jobs=-1)(joblib.delayed(run_shuffle)(F, starts, stops, sess2.vr_data['t'], rng) for i in range(1000)))\n",
    "shuff_thresh['channel_1_right'] = np.nanpercentile(shuff_trial_mat[:, :, :], 99, axis=0)"
   ]
  },
  {
   "cell_type": "code",
   "execution_count": 13,
   "id": "915cc4de-7ed7-4be1-b7ef-c8a4f54ed6b6",
   "metadata": {},
   "outputs": [],
   "source": [
    "# save shuffle2 pc only\n",
    "with open('C://Users/esay/data/Stx3/YMazeSessPkls/pf_shuff_pc_only_SparseKO_05.pkl','wb') as file:\n",
    "    pickle.dump(shuff_thresh,file)"
   ]
  },
  {
   "cell_type": "code",
   "execution_count": 14,
   "id": "5f74a838-a543-4987-a22b-000b73796f34",
   "metadata": {},
   "outputs": [],
   "source": [
    "#pc only \n",
    "\n",
    "shuff_02 = pd.read_pickle(r'C://Users/esay/data/Stx3/YMazeSessPkls/pf_shuff_pc_only_SparseKO_02.pkl')\n",
    "shuff_05 = pd.read_pickle(r'C://Users/esay/data/Stx3/YMazeSessPkls/pf_shuff_pc_only_SparseKO_05.pkl')"
   ]
  },
  {
   "cell_type": "code",
   "execution_count": 6,
   "id": "b7db57ce-4952-4ddf-8b94-a26997cba84f",
   "metadata": {},
   "outputs": [
    {
     "name": "stdout",
     "output_type": "stream",
     "text": [
      "(1000, 30, 336)\n",
      "(1000, 30, 336)\n",
      "(1000, 30, 211)\n",
      "(1000, 30, 211)\n"
     ]
    }
   ],
   "source": [
    "rng = np.random.default_rng()\n",
    "nperms = 1000\n",
    "\n",
    "shuff_thresh = {'channel_0_left': None,\n",
    "               'channel_0_right': None,\n",
    "               'channel_1_left': None,\n",
    "               'channel_1_right': None}\n",
    "\n",
    "F = sess.timeseries['channel_0_F_dff']\n",
    "starts, stops = sess.trial_start_inds[trial_masks['channel_0_left']], sess.teleport_inds[trial_masks['channel_0_left']]\n",
    "shuff_trial_mat = np.array(joblib.Parallel(n_jobs=-1)(joblib.delayed(run_shuffle)(F, starts, stops, sess.vr_data['t'], rng) for i in range(nperms)))\n",
    "print(shuff_trial_mat.shape)\n",
    "shuff_thresh['channel_0_left'] = np.nanpercentile(shuff_trial_mat[:, :, :], 95, axis=0)\n",
    "\n",
    "F = sess.timeseries['channel_0_F_dff']\n",
    "starts, stops = sess.trial_start_inds[trial_masks['channel_0_right']], sess.teleport_inds[trial_masks['channel_0_right']]\n",
    "shuff_trial_mat = np.array(joblib.Parallel(n_jobs=-1)(joblib.delayed(run_shuffle)(F, starts, stops, sess.vr_data['t'], rng) for i in range(nperms)))\n",
    "print(shuff_trial_mat.shape)\n",
    "shuff_thresh['channel_0_right'] = np.nanpercentile(shuff_trial_mat[:, :, :], 95, axis=0)\n",
    "\n",
    "\n",
    "F = sess.timeseries['channel_1_F_dff']\n",
    "starts, stops = sess.trial_start_inds[trial_masks['channel_1_left']], sess.teleport_inds[trial_masks['channel_1_left']]\n",
    "shuff_trial_mat = np.array(joblib.Parallel(n_jobs=-1)(joblib.delayed(run_shuffle)(F, starts, stops, sess.vr_data['t'], rng) for i in range(nperms)))\n",
    "print(shuff_trial_mat.shape)\n",
    "shuff_thresh['channel_1_left'] = np.nanpercentile(shuff_trial_mat[:, :, :], 95, axis=0)\n",
    "\n",
    "F = sess.timeseries['channel_1_F_dff']\n",
    "starts, stops = sess.trial_start_inds[trial_masks['channel_1_right']], sess.teleport_inds[trial_masks['channel_1_right']]\n",
    "shuff_trial_mat = np.array(joblib.Parallel(n_jobs=-1)(joblib.delayed(run_shuffle)(F, starts, stops, sess.vr_data['t'], rng) for i in range(nperms)))\n",
    "print(shuff_trial_mat.shape)\n",
    "shuff_thresh['channel_1_right'] = np.nanpercentile(shuff_trial_mat[:, :, :], 95, axis=0)\n",
    "\n",
    "\n"
   ]
  },
  {
   "cell_type": "code",
   "execution_count": 9,
   "id": "1ff70a2f-f258-4a20-8987-39f6ff936bd8",
   "metadata": {},
   "outputs": [],
   "source": [
    "import pickle\n",
    "\n",
    "with open('C://Users/esay/data/Stx3/YMazeSessPkls/place_field_shuff_SparseKO_02.pkl','wb') as file:\n",
    "    pickle.dump(shuff_thresh,file)"
   ]
  },
  {
   "cell_type": "code",
   "execution_count": 25,
   "id": "06c39fa1-f6dc-4e3d-9981-7b890e5a9083",
   "metadata": {},
   "outputs": [],
   "source": [
    "shuff_02 = pd.read_pickle(r'C://Users/esay/data/Stx3/YMazeSessPkls/place_field_shuff_SparseKO_02.pkl')\n",
    "shuff_05 = pd.read_pickle(r'C://Users/esay/data/Stx3/YMazeSessPkls/place_field_shuff_SparseKO_05.pkl')"
   ]
  },
  {
   "cell_type": "code",
   "execution_count": 15,
   "id": "bf4246c2-21bb-48d8-830f-ee2f02a9d0eb",
   "metadata": {
    "scrolled": true
   },
   "outputs": [],
   "source": [
    "\n",
    "# pc only \n",
    "\n",
    "trial_means1 = {'channel_0_left': np.nanmean(sess1.trial_matrices['channel_0_spks'][trial_masks1['channel_0_left'], : , :][...,chan0_mask_pf_left1]),\n",
    "               'channel_0_right': np.nanmean(sess1.trial_matrices['channel_0_spks'][trial_masks1['channel_0_right'], : , :][...,chan0_mask_pf_right1]),\n",
    "               'channel_1_left': np.nanmean(sess1.trial_matrices['channel_1_spks'][trial_masks1['channel_1_left'], : , :][...,chan1_mask_pf_left1]),\n",
    "               'channel_1_right': np.nanmean(sess1.trial_matrices['channel_1_spks'][trial_masks1['channel_1_right'], : , :][...,chan1_mask_pf_right1]),\n",
    "              }\n",
    "\n",
    "trial_means2 = {'channel_0_left': np.nanmean(sess2.trial_matrices['channel_0_spks'][trial_masks2['channel_0_left'], : , :][...,chan0_mask_pf_left2]),\n",
    "               'channel_0_right': np.nanmean(sess2.trial_matrices['channel_0_spks'][trial_masks2['channel_0_right'], : , :][...,chan0_mask_pf_right2]),\n",
    "               'channel_1_left': np.nanmean(sess2.trial_matrices['channel_1_spks'][trial_masks2['channel_1_left'], : , :][...,chan1_mask_pf_left2]),\n",
    "               'channel_1_right': np.nanmean(sess2.trial_matrices['channel_1_spks'][trial_masks2['channel_1_right'], : , :][...,chan1_mask_pf_right2]),\n",
    "              }"
   ]
  },
  {
   "cell_type": "code",
   "execution_count": 46,
   "id": "03edd0b9-8e11-4ce1-b7ea-5ca8f57f9074",
   "metadata": {},
   "outputs": [
    {
     "data": {
      "text/plain": [
       "[{'channel_0_left': 0.012915725372238727,\n",
       "  'channel_0_right': 0.010448308075009845,\n",
       "  'channel_1_left': 0.017466739648411604,\n",
       "  'channel_1_right': 0.01692106387509861},\n",
       " {'channel_0_left': 0.01303914633569101,\n",
       "  'channel_0_right': 0.01408179479521016,\n",
       "  'channel_1_left': 0.018547970595522247,\n",
       "  'channel_1_right': 0.019829901742896002}]"
      ]
     },
     "execution_count": 46,
     "metadata": {},
     "output_type": "execute_result"
    }
   ],
   "source": [
    "means"
   ]
  },
  {
   "cell_type": "code",
   "execution_count": 16,
   "id": "be4d7a77-4476-4eef-9082-3d136c52ef0d",
   "metadata": {},
   "outputs": [],
   "source": [
    "ds = [shuff_02, shuff_05]\n",
    "\n",
    "concat_shuff = {}\n",
    "\n",
    "for k in shuff_02.keys():\n",
    "    concat_shuff[k] = np.column_stack(list(concat_shuff[k] for concat_shuff in ds))"
   ]
  },
  {
   "cell_type": "code",
   "execution_count": 23,
   "id": "d01d9e76-a94c-4ed5-b41e-2d1dfd8a29cf",
   "metadata": {},
   "outputs": [
    {
     "data": {
      "text/plain": [
       "(30, 519)"
      ]
     },
     "execution_count": 23,
     "metadata": {},
     "output_type": "execute_result"
    }
   ],
   "source": [
    "concat_shuff['channel_0_left'].shape"
   ]
  },
  {
   "cell_type": "code",
   "execution_count": 52,
   "id": "4fea4c74-a634-4c46-9656-05ab44570c97",
   "metadata": {},
   "outputs": [],
   "source": [
    "means = [trial_means1, trial_means2]\n",
    "trial_means = {}\n",
    "\n",
    "for k in trial_means1.keys():\n",
    "    trial_means[k] = np.column_stack(list(trial_means1[k] for trial_means1 in means))\n",
    "\n"
   ]
  },
  {
   "cell_type": "code",
   "execution_count": 53,
   "id": "2a2060ae-a47a-4025-9bf9-a0a862e4632d",
   "metadata": {},
   "outputs": [
    {
     "data": {
      "text/plain": [
       "{'channel_0_left': array([[0.01291573, 0.01303915]]),\n",
       " 'channel_0_right': array([[0.01044831, 0.01408179]]),\n",
       " 'channel_1_left': array([[0.01746674, 0.01854797]]),\n",
       " 'channel_1_right': array([[0.01692106, 0.0198299 ]])}"
      ]
     },
     "execution_count": 53,
     "metadata": {},
     "output_type": "execute_result"
    }
   ],
   "source": [
    "trial_means"
   ]
  },
  {
   "cell_type": "code",
   "execution_count": 65,
   "id": "5ecad41e-fe4e-4d89-92c8-223227d32aac",
   "metadata": {
    "scrolled": true
   },
   "outputs": [],
   "source": [
    "field_info1 = {'channel_0_left': [],\n",
    "               'channel_0_right': [],\n",
    "               'channel_1_left': [],\n",
    "               'channel_1_right': []}\n",
    "\n",
    "for k, thresh in shuff_02.items():\n",
    "    \n",
    "    sig_bins = trial_means1[k]>thresh\n",
    "\n",
    "    # eliminate fields that start at first bin of track or end at last bin of track\n",
    "    \n",
    "\n",
    "    ledges = np.argwhere(sig_bins[1:,:]>sig_bins[:-1,:])\n",
    "    \n",
    "    for _ledge in ledges:\n",
    "\n",
    "        rem_trial = sig_bins[_ledge[0]:,_ledge[1]]\n",
    "        _redge = np.argwhere(rem_trial[1:]<rem_trial[:-1])\n",
    "        # print(_redge.size)\n",
    "        if (_redge.shape[0]>0) and (_redge[0][0]>2) and (_redge[0][0]<15) and (_ledge[0]>0):\n",
    "            field_info1[k].append([_ledge[1], _ledge[0], _redge[0][0]])\n",
    "\n",
    "\n",
    "for k,v in field_info1.items():\n",
    "    field_info1[k]=np.array(v)"
   ]
  },
  {
   "cell_type": "code",
   "execution_count": 66,
   "id": "a45ccb05-69c8-40e3-b872-1aec684669ba",
   "metadata": {},
   "outputs": [],
   "source": [
    "field_info2 = {'channel_0_left': [],\n",
    "               'channel_0_right': [],\n",
    "               'channel_1_left': [],\n",
    "               'channel_1_right': []}\n",
    "\n",
    "for k, thresh in shuff_05.items():\n",
    "    \n",
    "    sig_bins = trial_means2[k]>thresh\n",
    "\n",
    "    # eliminate fields that start at first bin of track or end at last bin of track\n",
    "    \n",
    "\n",
    "    ledges = np.argwhere(sig_bins[1:,:]>sig_bins[:-1,:])\n",
    "    \n",
    "    for _ledge in ledges:\n",
    "\n",
    "        rem_trial = sig_bins[_ledge[0]:,_ledge[1]]\n",
    "        _redge = np.argwhere(rem_trial[1:]<rem_trial[:-1])\n",
    "        # print(_redge.size)\n",
    "        if (_redge.shape[0]>0) and (_redge[0][0]>2) and (_redge[0][0]<15) and (_ledge[0]>0):\n",
    "            field_info2[k].append([_ledge[1], _ledge[0], _redge[0][0]])\n",
    "\n",
    "\n",
    "for k,v in field_info2.items():\n",
    "    field_info2[k]=np.array(v)"
   ]
  },
  {
   "cell_type": "code",
   "execution_count": 76,
   "id": "5741ff80-f6ae-49d1-ba74-19b7ac3a723b",
   "metadata": {},
   "outputs": [
    {
     "data": {
      "text/plain": [
       "(140, 3)"
      ]
     },
     "execution_count": 76,
     "metadata": {},
     "output_type": "execute_result"
    }
   ],
   "source": [
    "field_info1['channel_0_left'].shape"
   ]
  },
  {
   "cell_type": "code",
   "execution_count": 81,
   "id": "7b9c300e-34d9-45d4-855f-4f4c8fb939cd",
   "metadata": {},
   "outputs": [
    {
     "data": {
      "text/plain": [
       "(106, 3)"
      ]
     },
     "execution_count": 81,
     "metadata": {},
     "output_type": "execute_result"
    }
   ],
   "source": [
    "field_info2['channel_0_left'].shape"
   ]
  },
  {
   "cell_type": "code",
   "execution_count": 77,
   "id": "8221dad9-a3c8-4139-85fb-99319192ad71",
   "metadata": {},
   "outputs": [],
   "source": [
    "field_info = {key: np.concatenate([field_info1.get(key, np.empty((0, 3))), field_info2.get(key, np.empty((0, 3)))], axis=0) for key in field_info1.keys()}"
   ]
  },
  {
   "cell_type": "code",
   "execution_count": 79,
   "id": "71f33678-8339-4b23-99cd-797085a41c92",
   "metadata": {},
   "outputs": [
    {
     "data": {
      "text/plain": [
       "(246, 3)"
      ]
     },
     "execution_count": 79,
     "metadata": {},
     "output_type": "execute_result"
    }
   ],
   "source": [
    "field_info['channel_0_left'].shape"
   ]
  },
  {
   "cell_type": "code",
   "execution_count": 82,
   "id": "081af379-1945-4ff3-ab45-57dc2c897b7f",
   "metadata": {},
   "outputs": [
    {
     "data": {
      "text/plain": [
       "(array([0.40217391, 0.40217391, 0.11956522, 0.07608696]),\n",
       " array([1., 2., 3., 4., 5.]),\n",
       " <BarContainer object of 4 artists>)"
      ]
     },
     "execution_count": 82,
     "metadata": {},
     "output_type": "execute_result"
    },
    {
     "data": {
      "image/png": "[encoded data removed]",
      "text/plain": [
       "<Figure size 640x480 with 4 Axes>"
      ]
     },
     "metadata": {},
     "output_type": "display_data"
    }
   ],
   "source": [
    "fig, ax = plt.subplots(2,2)\n",
    "\n",
    "width_bins = np.arange(2,15)\n",
    "field_bins = np.arange(1,6)\n",
    "##\n",
    "fi = field_info['channel_0_left']\n",
    "ax[0,0].hist(fi[:,2], bins=width_bins, color='red', alpha=.4, density=True)\n",
    "\n",
    "cell_list = np.unique(fi[:,0])\n",
    "nfields = np.array([np.count_nonzero(fi[:,0]==cell) for cell in cell_list])\n",
    "ax[1,0].hist(nfields, bins=field_bins, color='red', alpha=.4, density=True)\n",
    "\n",
    "##\n",
    "fi = field_info['channel_1_left']\n",
    "ax[0,0].hist(fi[:,2], bins=width_bins, color='black', alpha=.4, density=True)\n",
    "\n",
    "cell_list = np.unique(fi[:,0])\n",
    "nfields = np.array([np.count_nonzero(fi[:,0]==cell) for cell in cell_list])\n",
    "ax[1,0].hist(nfields, bins=field_bins, color='black', alpha=.4, density=True)\n",
    "\n",
    "##\n",
    "fi = field_info['channel_0_right']\n",
    "ax[0,1].hist(fi[:,2], bins=width_bins, color='red', alpha=.4, density=True)\n",
    "\n",
    "cell_list = np.unique(fi[:,0])\n",
    "nfields = np.array([np.count_nonzero(fi[:,0]==cell) for cell in cell_list])\n",
    "ax[1,1].hist(nfields, bins=field_bins, color='red', alpha=.4, density=True)\n",
    "\n",
    "\n",
    "##\n",
    "fi = field_info['channel_1_right']\n",
    "ax[0,1].hist(fi[:,2], bins=width_bins, color='black', alpha=.4, density=True)\n",
    "\n",
    "cell_list = np.unique(fi[:,0])\n",
    "nfields = np.array([np.count_nonzero(fi[:,0]==cell) for cell in cell_list])\n",
    "ax[1,1].hist(nfields, bins=field_bins, color='black', alpha=.4, density=True)\n",
    "\n",
    "\n",
    "    "
   ]
  },
  {
   "cell_type": "code",
   "execution_count": null,
   "id": "451b8f7f-6310-4ec8-92ae-078472060a60",
   "metadata": {},
   "outputs": [],
   "source": [
    "\n",
    "\n",
    "\n"
   ]
  },
  {
   "cell_type": "code",
   "execution_count": null,
   "id": "49fb3a24-9b6f-4dac-a933-6ca083018ae7",
   "metadata": {},
   "outputs": [],
   "source": []
  }
 ],
 "metadata": {
  "kernelspec": {
   "display_name": "Python 3 (ipykernel)",
   "language": "python",
   "name": "python3"
  },
  "language_info": {
   "codemirror_mode": {
    "name": "ipython",
    "version": 3
   },
   "file_extension": ".py",
   "mimetype": "text/x-python",
   "name": "python",
   "nbconvert_exporter": "python",
   "pygments_lexer": "ipython3",
   "version": "3.10.14"
  }
 },
 "nbformat": 4,
 "nbformat_minor": 5
}
