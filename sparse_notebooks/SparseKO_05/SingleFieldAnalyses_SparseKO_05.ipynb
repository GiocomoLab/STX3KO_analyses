{
 "cells": [
  {
   "cell_type": "code",
   "execution_count": 1,
   "id": "7bb9343d-e5a9-4876-ac26-b08f4b8a7bd1",
   "metadata": {},
   "outputs": [],
   "source": [
    "import os\n",
    "import joblib\n",
    "import pickle\n",
    "\n",
    "import numpy as np\n",
    "import scipy as sp\n",
    "from matplotlib import pyplot as plt\n",
    "from matplotlib import gridspec\n",
    "\n",
    "import pandas as pd\n",
    "from pingouin import mixed_anova, anova, pairwise_tukey, pairwise_tests\n",
    "import pingouin as pg\n",
    "from statsmodels.regression.mixed_linear_model import MixedLM\n",
    "import statsmodels.formula.api as smf\n",
    "\n",
    "import TwoPUtils as tpu\n",
    "import STX3KO_analyses as stx\n",
    "from STX3KO_analyses import utilities as u\n",
    "\n",
    "\n",
    "\n",
    "plt.rcParams['pdf.fonttype']=42\n",
    "%matplotlib inline\n",
    "\n",
    "%load_ext autoreload\n",
    "%autoreload 2"
   ]
  },
  {
   "cell_type": "code",
   "execution_count": 97,
   "id": "3522e251-73bf-46d3-809f-f7b3bb75f254",
   "metadata": {},
   "outputs": [],
   "source": [
    "day = 5"
   ]
  },
  {
   "cell_type": "code",
   "execution_count": 98,
   "id": "d8abc4f6-ec9d-4c01-a416-92517de5a5df",
   "metadata": {},
   "outputs": [],
   "source": [
    "# load session\n",
    "sparse_sessions = stx.ymaze_sess_deets.SparseKO_sessions\n",
    "mouse = 'SparseKO_05'\n",
    "d = sparse_sessions[mouse][day]\n",
    "date, scene, session, scan = d['date'], d['scene'], d['session'], d['scan']\n",
    "\n",
    "\n",
    "pkldir = os.path.join('C://Users/esay/data/Stx3/YMazeSessPkls/', mouse,  date, f'{scene}_{session}.pkl')\n",
    "sess = stx.session.YMazeSession.from_file(pkldir, verbose=False)\n"
   ]
  },
  {
   "cell_type": "code",
   "execution_count": 9,
   "id": "651f72c7-4cf5-4749-b6df-912808fef64b",
   "metadata": {},
   "outputs": [],
   "source": [
    "# blocked days\n",
    "trial_masks = {'channel_0_left': None,\n",
    "               'channel_0_right': None,\n",
    "               'channel_1_left': None,\n",
    "               'channel_1_right': None}\n",
    "channel_0_mask = sess.trial_info['block_number']%2==0\n",
    "left_mask = sess.trial_info['LR']==-1\n",
    "\n",
    "\n",
    "trial_masks['channel_0_left'] = channel_0_mask*left_mask\n",
    "trial_masks['channel_0_right'] = channel_0_mask*~left_mask\n",
    "trial_masks['channel_1_left'] = ~channel_0_mask*left_mask\n",
    "trial_masks['channel_1_right'] = ~channel_0_mask*~left_mask\n"
   ]
  },
  {
   "cell_type": "code",
   "execution_count": 99,
   "id": "31e49ce5-7d97-4ce6-9183-f279153051c1",
   "metadata": {},
   "outputs": [],
   "source": [
    "# non-blocked days\n",
    "trial_masks = {'channel_0_left': None,\n",
    "               'channel_0_right': None,\n",
    "               'channel_1_left': None,\n",
    "               'channel_1_right': None}\n",
    "left_mask = sess.trial_info['LR']==-1\n",
    "\n",
    "trial_masks['channel_0_left'] = left_mask\n",
    "trial_masks['channel_0_right'] = ~left_mask\n",
    "trial_masks['channel_1_left'] = left_mask\n",
    "trial_masks['channel_1_right'] = ~left_mask"
   ]
  },
  {
   "cell_type": "code",
   "execution_count": 23,
   "id": "0df756b8-e0d5-49f1-90cc-70cdee7d959a",
   "metadata": {},
   "outputs": [],
   "source": [
    "# # pc mask\n",
    "\n",
    "# chan0_mask_pf_left = sess.place_cell_info['channel_0_F_dff']['left']['masks']\n",
    "# chan0_mask_pf_right = sess.place_cell_info['channel_0_F_dff']['right']['masks']\n",
    "# chan1_mask_pf_left = sess.place_cell_info['channel_1_F_dff']['left']['masks']\n",
    "# chan1_mask_pf_right = sess.place_cell_info['channel_1_F_dff']['right']['masks']\n",
    "\n",
    "# chan1_mask = chan1_mask_pf_left | chan1_mask_pf_right\n",
    "# chan0_mask = chan0_mask_pf_left | chan0_mask_pf_right"
   ]
  },
  {
   "cell_type": "code",
   "execution_count": 24,
   "id": "e4160e12-a469-4f50-877e-7abae81ada32",
   "metadata": {},
   "outputs": [],
   "source": [
    "# F1 = sess.timeseries['channel_1_spks']\n",
    "# F_chan1_mask = F1[chan1_mask] \n",
    "\n",
    "# F0 = sess.timeseries['channel_0_spks']\n",
    "# F_chan0_mask = F0[chan0_mask]"
   ]
  },
  {
   "cell_type": "code",
   "execution_count": 29,
   "id": "15c83f77-b34b-4f34-9ac9-10c92648fb14",
   "metadata": {},
   "outputs": [],
   "source": [
    "def run_shuffle(F, trial_starts, teleports, t, rng):\n",
    "    \n",
    "    F_shuff = np.zeros_like(F)\n",
    "    \n",
    "    for trial, (start, stop) in enumerate(zip(trial_starts, teleports)):\n",
    "        _F = 1*F[:,start:stop]    \n",
    "        _F = np.roll(_F,rng.integers(0,stop-start),axis=-1)\n",
    "        F_shuff[:,start:stop] = 1*_F\n",
    "        \n",
    "    tmat = tpu.spatial_analyses.trial_matrix(F_shuff.T,t, trial_starts,\n",
    "                                            teleports, min_pos=13, max_pos=43, bin_size=1, mat_only=True)\n",
    "    \n",
    "    return np.nanmean(tmat,axis=0)\n",
    "\n",
    "\n"
   ]
  },
  {
   "cell_type": "code",
   "execution_count": 68,
   "id": "48295673-59e6-40fe-82ce-3430d9c00bb1",
   "metadata": {},
   "outputs": [
    {
     "data": {
      "text/plain": [
       "126"
      ]
     },
     "execution_count": 68,
     "metadata": {},
     "output_type": "execute_result"
    }
   ],
   "source": [
    "len(sess.timeseries['channel_1_spks'])"
   ]
  },
  {
   "cell_type": "code",
   "execution_count": 26,
   "id": "f71ba4b7-e310-49af-92a4-45c9d3bd4023",
   "metadata": {},
   "outputs": [],
   "source": [
    "# # shuffle pc only \n",
    "\n",
    "# rng = np.random.default_rng()\n",
    "\n",
    "# shuff_thresh = {'channel_0_left': None,\n",
    "#                'channel_0_right': None,\n",
    "#                'channel_1_left': None,\n",
    "#                'channel_1_right': None}\n",
    "\n",
    "\n",
    "# F = F_chan0_mask\n",
    "# starts, stops = sess.trial_start_inds[trial_masks['channel_0_left']], sess.teleport_inds[trial_masks['channel_0_left']]\n",
    "# shuff_trial_mat = np.array(joblib.Parallel(n_jobs=-1)(joblib.delayed(run_shuffle)(F, starts, stops, sess.vr_data['t'], rng) for i in range(1000)))\n",
    "# shuff_thresh['channel_0_left'] = np.nanpercentile(shuff_trial_mat[:, :, :], 99, axis=0)\n",
    "\n",
    "# F = F_chan0_mask\n",
    "# starts, stops = sess.trial_start_inds[trial_masks['channel_0_right']], sess.teleport_inds[trial_masks['channel_0_right']]\n",
    "# shuff_trial_mat = np.array(joblib.Parallel(n_jobs=-1)(joblib.delayed(run_shuffle)(F, starts, stops, sess.vr_data['t'], rng) for i in range(1000)))\n",
    "# shuff_thresh['channel_0_right'] = np.nanpercentile(shuff_trial_mat[:, :, :], 99, axis=0)\n",
    "\n",
    "\n",
    "# F = F_chan1_mask\n",
    "# starts, stops = sess.trial_start_inds[trial_masks['channel_1_left']], sess.teleport_inds[trial_masks['channel_1_left']]\n",
    "# shuff_trial_mat = np.array(joblib.Parallel(n_jobs=-1)(joblib.delayed(run_shuffle)(F, starts, stops, sess.vr_data['t'], rng) for i in range(1000)))\n",
    "# shuff_thresh['channel_1_left'] = np.nanpercentile(shuff_trial_mat[:, :, :], 99, axis=0)\n",
    "\n",
    "# F = F_chan1_mask\n",
    "# starts, stops = sess.trial_start_inds[trial_masks['channel_1_right']], sess.teleport_inds[trial_masks['channel_1_right']]\n",
    "# shuff_trial_mat = np.array(joblib.Parallel(n_jobs=-1)(joblib.delayed(run_shuffle)(F, starts, stops, sess.vr_data['t'], rng) for i in range(1000)))\n",
    "# shuff_thresh['channel_1_right'] = np.nanpercentile(shuff_trial_mat[:, :, :], 99, axis=0)\n",
    "\n",
    "\n"
   ]
  },
  {
   "cell_type": "code",
   "execution_count": 36,
   "id": "2fcf7410-82ae-4d1c-ab9a-6e3311a3e3c3",
   "metadata": {},
   "outputs": [
    {
     "data": {
      "text/plain": [
       "(1000, 30, 270)"
      ]
     },
     "execution_count": 36,
     "metadata": {},
     "output_type": "execute_result"
    }
   ],
   "source": [
    "shuff_trial_mat.shape"
   ]
  },
  {
   "cell_type": "code",
   "execution_count": 100,
   "id": "b7db57ce-4952-4ddf-8b94-a26997cba84f",
   "metadata": {
    "scrolled": true
   },
   "outputs": [],
   "source": [
    "rng = np.random.default_rng()\n",
    "\n",
    "shuff_thresh = {'channel_0_left': None,\n",
    "               'channel_0_right': None,\n",
    "               'channel_1_left': None,\n",
    "               'channel_1_right': None}\n",
    "\n",
    "F = sess.timeseries['channel_0_spks']\n",
    "starts, stops = sess.trial_start_inds[trial_masks['channel_0_left']], sess.teleport_inds[trial_masks['channel_0_left']]\n",
    "shuff_trial_mat = np.array(joblib.Parallel(n_jobs=-1)(joblib.delayed(run_shuffle)(F, starts, stops, sess.vr_data['t'], rng) for i in range(1000)))\n",
    "shuff_thresh['channel_0_left'] = np.nanpercentile(shuff_trial_mat[:, :, :], 99, axis=0)\n",
    "\n",
    "F = sess.timeseries['channel_0_spks']\n",
    "starts, stops = sess.trial_start_inds[trial_masks['channel_0_right']], sess.teleport_inds[trial_masks['channel_0_right']]\n",
    "shuff_trial_mat = np.array(joblib.Parallel(n_jobs=-1)(joblib.delayed(run_shuffle)(F, starts, stops, sess.vr_data['t'], rng) for i in range(1000)))\n",
    "shuff_thresh['channel_0_right'] = np.nanpercentile(shuff_trial_mat[:, :, :], 99, axis=0)\n",
    "\n",
    "\n",
    "F = sess.timeseries['channel_1_spks']\n",
    "starts, stops = sess.trial_start_inds[trial_masks['channel_1_left']], sess.teleport_inds[trial_masks['channel_1_left']]\n",
    "shuff_trial_mat = np.array(joblib.Parallel(n_jobs=-1)(joblib.delayed(run_shuffle)(F, starts, stops, sess.vr_data['t'], rng) for i in range(1000)))\n",
    "shuff_thresh['channel_1_left'] = np.nanpercentile(shuff_trial_mat[:, :, :], 99, axis=0)\n",
    "\n",
    "F = sess.timeseries['channel_1_spks']\n",
    "starts, stops = sess.trial_start_inds[trial_masks['channel_1_right']], sess.teleport_inds[trial_masks['channel_1_right']]\n",
    "shuff_trial_mat = np.array(joblib.Parallel(n_jobs=-1)(joblib.delayed(run_shuffle)(F, starts, stops, sess.vr_data['t'], rng) for i in range(1000)))\n",
    "shuff_thresh['channel_1_right'] = np.nanpercentile(shuff_trial_mat[:, :, :], 99, axis=0)\n",
    "\n",
    "\n"
   ]
  },
  {
   "cell_type": "code",
   "execution_count": 38,
   "id": "bf4246c2-21bb-48d8-830f-ee2f02a9d0eb",
   "metadata": {},
   "outputs": [],
   "source": [
    "# pc only \n",
    "\n",
    "trial_means = {'channel_0_left': np.nanmean(sess.trial_matrices['channel_0_spks'][trial_masks['channel_0_left'], : , :][...,chan0_mask_pf_left],axis=0),\n",
    "               'channel_0_right': np.nanmean(sess.trial_matrices['channel_0_spks'][trial_masks['channel_0_right'], : , :][...,chan0_mask_pf_right],axis=0),\n",
    "               'channel_1_left': np.nanmean(sess.trial_matrices['channel_1_spks'][trial_masks['channel_1_left'], : , :][...,chan1_mask_pf_left],axis=0),\n",
    "               'channel_1_right': np.nanmean(sess.trial_matrices['channel_1_spks'][trial_masks['channel_1_right'], : , :][...,chan1_mask_pf_right],axis=0),\n",
    "              }"
   ]
  },
  {
   "cell_type": "code",
   "execution_count": 43,
   "id": "bac0bdd8-fb13-46ae-8808-c8878c25c27c",
   "metadata": {},
   "outputs": [
    {
     "data": {
      "text/plain": [
       "(140, 30, 270)"
      ]
     },
     "execution_count": 43,
     "metadata": {},
     "output_type": "execute_result"
    }
   ],
   "source": [
    "sess.trial_matrices['channel_0_spks'].shape"
   ]
  },
  {
   "cell_type": "code",
   "execution_count": 101,
   "id": "fa1654d4-f761-4ec6-80db-4d710719614d",
   "metadata": {},
   "outputs": [],
   "source": [
    "trial_means = {'channel_0_left': np.nanmean(sess.trial_matrices['channel_0_spks'][trial_masks['channel_0_left'], : , :],axis=0),\n",
    "               'channel_0_right': np.nanmean(sess.trial_matrices['channel_0_spks'][trial_masks['channel_0_right'], : , :],axis=0),\n",
    "               'channel_1_left': np.nanmean(sess.trial_matrices['channel_1_spks'][trial_masks['channel_1_left'], : , :],axis=0),\n",
    "               'channel_1_right': np.nanmean(sess.trial_matrices['channel_1_spks'][trial_masks['channel_1_right'], : , :],axis=0),\n",
    "              }"
   ]
  },
  {
   "cell_type": "code",
   "execution_count": 6,
   "id": "1fefd3fb-6246-4571-b7a1-17308078e048",
   "metadata": {},
   "outputs": [],
   "source": [
    "import pickle\n",
    "\n",
    "with open('C://Users/esay/data/Stx3/YMazeSessPkls/place_field_shuff_SparseKO_05.pkl','wb') as file:\n",
    "    pickle.dump(shuff_thresh,file)"
   ]
  },
  {
   "cell_type": "code",
   "execution_count": 24,
   "id": "da6c9784-041b-42f7-b2d6-7f7fe5b4cdf6",
   "metadata": {},
   "outputs": [],
   "source": [
    "# import pickle \n",
    "# with open('place_field_shuff_SparseKO_02.pkl','rb') as file:\n",
    "#     shuff_thresh = pickle.load(file)"
   ]
  },
  {
   "cell_type": "code",
   "execution_count": 102,
   "id": "dbb4d6c6-071c-49bb-bd4a-aa686d4e523a",
   "metadata": {},
   "outputs": [
    {
     "data": {
      "text/plain": [
       "(30, 156)"
      ]
     },
     "execution_count": 102,
     "metadata": {},
     "output_type": "execute_result"
    }
   ],
   "source": [
    "shuff_thresh['channel_0_right'].shape"
   ]
  },
  {
   "cell_type": "code",
   "execution_count": 103,
   "id": "6150c157-e437-4661-9c94-3362886bbacf",
   "metadata": {},
   "outputs": [
    {
     "data": {
      "text/plain": [
       "(30, 156)"
      ]
     },
     "execution_count": 103,
     "metadata": {},
     "output_type": "execute_result"
    }
   ],
   "source": [
    "trial_means['channel_0_right'].shape"
   ]
  },
  {
   "cell_type": "code",
   "execution_count": 104,
   "id": "5ecad41e-fe4e-4d89-92c8-223227d32aac",
   "metadata": {
    "scrolled": true
   },
   "outputs": [],
   "source": [
    "field_info = {'channel_0_left': [],\n",
    "               'channel_0_right': [],\n",
    "               'channel_1_left': [],\n",
    "               'channel_1_right': []}\n",
    "\n",
    "for k, thresh in shuff_thresh.items():\n",
    "    \n",
    "    sig_bins = trial_means[k]>thresh\n",
    "\n",
    "    # eliminate fields that start at first bin of track or end at last bin of track\n",
    "    \n",
    "\n",
    "    ledges = np.argwhere(sig_bins[1:,:]>sig_bins[:-1,:])\n",
    "    \n",
    "    for _ledge in ledges:\n",
    "\n",
    "        rem_trial = sig_bins[_ledge[0]:,_ledge[1]]\n",
    "        _redge = np.argwhere(rem_trial[1:]<rem_trial[:-1])\n",
    "        # print(_redge.size)\n",
    "        if (_redge.shape[0]>0) and (_redge[0][0]>2) and (_redge[0][0]<15) and (_ledge[0]>0):\n",
    "            field_info[k].append([_ledge[1], _ledge[0], _redge[0][0]])\n",
    "\n",
    "\n",
    "for k,v in field_info.items():\n",
    "    field_info[k]=np.array(v)"
   ]
  },
  {
   "cell_type": "code",
   "execution_count": 95,
   "id": "2c8aca1b-a595-4d7a-9e1c-7c65a35be819",
   "metadata": {
    "scrolled": true
   },
   "outputs": [
    {
     "data": {
      "text/plain": [
       "(214, 3)"
      ]
     },
     "execution_count": 95,
     "metadata": {},
     "output_type": "execute_result"
    }
   ],
   "source": [
    "field_info['channel_0_left'].shape"
   ]
  },
  {
   "cell_type": "code",
   "execution_count": 105,
   "id": "081af379-1945-4ff3-ab45-57dc2c897b7f",
   "metadata": {},
   "outputs": [
    {
     "data": {
      "text/plain": [
       "(array([0.68085106, 0.23404255, 0.08510638, 0.        ]),\n",
       " array([1., 2., 3., 4., 5.]),\n",
       " <BarContainer object of 4 artists>)"
      ]
     },
     "execution_count": 105,
     "metadata": {},
     "output_type": "execute_result"
    },
    {
     "data": {
      "image/png": "[encoded data removed]",
      "text/plain": [
       "<Figure size 640x480 with 4 Axes>"
      ]
     },
     "metadata": {},
     "output_type": "display_data"
    }
   ],
   "source": [
    "fig, ax = plt.subplots(2,2)\n",
    "\n",
    "width_bins = np.arange(2,15)\n",
    "field_bins = np.arange(1,6)\n",
    "##\n",
    "fi = field_info['channel_0_left']\n",
    "ax[0,0].hist(fi[:,2], bins=width_bins, color='red', alpha=.4, density=True)\n",
    "\n",
    "cell_list = np.unique(fi[:,0])\n",
    "nfields = np.array([np.count_nonzero(fi[:,0]==cell) for cell in cell_list])\n",
    "ax[1,0].hist(nfields, bins=field_bins, color='red', alpha=.4, density=True)\n",
    "\n",
    "##\n",
    "fi = field_info['channel_1_left']\n",
    "ax[0,0].hist(fi[:,2], bins=width_bins, color='black', alpha=.4, density=True)\n",
    "\n",
    "cell_list = np.unique(fi[:,0])\n",
    "nfields = np.array([np.count_nonzero(fi[:,0]==cell) for cell in cell_list])\n",
    "ax[1,0].hist(nfields, bins=field_bins, color='black', alpha=.4, density=True)\n",
    "\n",
    "##\n",
    "fi = field_info['channel_0_right']\n",
    "ax[0,1].hist(fi[:,2], bins=width_bins, color='red', alpha=.4, density=True)\n",
    "\n",
    "cell_list = np.unique(fi[:,0])\n",
    "nfields = np.array([np.count_nonzero(fi[:,0]==cell) for cell in cell_list])\n",
    "ax[1,1].hist(nfields, bins=field_bins, color='red', alpha=.4, density=True)\n",
    "\n",
    "\n",
    "##\n",
    "fi = field_info['channel_1_right']\n",
    "ax[0,1].hist(fi[:,2], bins=width_bins, color='black', alpha=.4, density=True)\n",
    "\n",
    "cell_list = np.unique(fi[:,0])\n",
    "nfields = np.array([np.count_nonzero(fi[:,0]==cell) for cell in cell_list])\n",
    "ax[1,1].hist(nfields, bins=field_bins, color='black', alpha=.4, density=True)\n",
    "\n",
    "\n",
    "    "
   ]
  },
  {
   "cell_type": "code",
   "execution_count": 106,
   "id": "451b8f7f-6310-4ec8-92ae-078472060a60",
   "metadata": {},
   "outputs": [
    {
     "data": {
      "text/plain": [
       "dict_keys([0, 1, 2, 3, 5])"
      ]
     },
     "execution_count": 106,
     "metadata": {},
     "output_type": "execute_result"
    }
   ],
   "source": [
    "# shuff_results = {}\n",
    "\n",
    "# shuff_results[mouse] = {}\n",
    "shuff_results[mouse][day] = {}\n",
    "shuff_results[mouse][day] = shuff_thresh\n",
    "\n",
    "shuff_results[mouse].keys()"
   ]
  },
  {
   "cell_type": "code",
   "execution_count": 109,
   "id": "96c4c213-cf05-4a4c-8d7d-2139c72d5617",
   "metadata": {},
   "outputs": [],
   "source": [
    "sparse_mice = stx.ymaze_sess_deets.sparse_mice"
   ]
  },
  {
   "cell_type": "code",
   "execution_count": null,
   "id": "1261c813-b5b5-4b86-b757-f43f66b8ea47",
   "metadata": {},
   "outputs": [],
   "source": [
    "trial_means = {}\n",
    "\n",
    "for mouse in sparse_mice[0:1]:\n",
    "    trial_means[mouse] = {}\n",
    "    for day in range(6):\n",
    "        \n",
    "        \n",
    "        temp_trial_means= {'channel_0_left': np.nanmean(sess.trial_matrices['channel_0_spks'][trial_masks['channel_0_left'], : , :],axis=0),\n",
    "               'channel_0_right': np.nanmean(sess.trial_matrices['channel_0_spks'][trial_masks['channel_0_right'], : , :],axis=0),\n",
    "               'channel_1_left': np.nanmean(sess.trial_matrices['channel_1_spks'][trial_masks['channel_1_left'], : , :],axis=0),\n",
    "               'channel_1_right': np.nanmean(sess.trial_matrices['channel_1_spks'][trial_masks['channel_1_right'], : , :],axis=0),\n",
    "              }\n",
    "\n",
    "        trial_means[mouse][day] = temp_trial_means"
   ]
  },
  {
   "cell_type": "code",
   "execution_count": 110,
   "id": "aa3b71aa-1f3d-497f-9bf3-a8834392be46",
   "metadata": {},
   "outputs": [
    {
     "ename": "KeyError",
     "evalue": "'SparseKO_05'",
     "output_type": "error",
     "traceback": [
      "\u001b[1;31m---------------------------------------------------------------------------\u001b[0m",
      "\u001b[1;31mKeyError\u001b[0m                                  Traceback (most recent call last)",
      "Cell \u001b[1;32mIn[110], line 15\u001b[0m\n\u001b[0;32m      9\u001b[0m field_info[mouse][day] \u001b[38;5;241m=\u001b[39m {\u001b[38;5;124m'\u001b[39m\u001b[38;5;124mchannel_0_left\u001b[39m\u001b[38;5;124m'\u001b[39m: [],\n\u001b[0;32m     10\u001b[0m        \u001b[38;5;124m'\u001b[39m\u001b[38;5;124mchannel_0_right\u001b[39m\u001b[38;5;124m'\u001b[39m: [],\n\u001b[0;32m     11\u001b[0m        \u001b[38;5;124m'\u001b[39m\u001b[38;5;124mchannel_1_left\u001b[39m\u001b[38;5;124m'\u001b[39m: [],\n\u001b[0;32m     12\u001b[0m        \u001b[38;5;124m'\u001b[39m\u001b[38;5;124mchannel_1_right\u001b[39m\u001b[38;5;124m'\u001b[39m: []}\n\u001b[0;32m     13\u001b[0m \u001b[38;5;28;01mfor\u001b[39;00m k, thresh \u001b[38;5;129;01min\u001b[39;00m shuff_results[mouse][day]\u001b[38;5;241m.\u001b[39mitems():\n\u001b[0;32m     14\u001b[0m     \u001b[38;5;66;03m# print(k, thresh.shape)\u001b[39;00m\n\u001b[1;32m---> 15\u001b[0m     sig_bins \u001b[38;5;241m=\u001b[39m \u001b[43mtrial_means\u001b[49m\u001b[43m[\u001b[49m\u001b[43mmouse\u001b[49m\u001b[43m]\u001b[49m[day][k]\u001b[38;5;241m>\u001b[39mthresh\n\u001b[0;32m     17\u001b[0m     \u001b[38;5;66;03m# eliminate fields that start at first bin of track or end at last bin of track\u001b[39;00m\n\u001b[0;32m     20\u001b[0m     ledges \u001b[38;5;241m=\u001b[39m np\u001b[38;5;241m.\u001b[39margwhere(sig_bins[\u001b[38;5;241m1\u001b[39m:,:]\u001b[38;5;241m>\u001b[39msig_bins[:\u001b[38;5;241m-\u001b[39m\u001b[38;5;241m1\u001b[39m,:])\n",
      "\u001b[1;31mKeyError\u001b[0m: 'SparseKO_05'"
     ]
    }
   ],
   "source": [
    "# field_info = {'channel_0_left': [],\n",
    "#                'channel_0_right': [],\n",
    "#                'channel_1_left': [],\n",
    "#                'channel_1_right': []}\n",
    "field_info = {}\n",
    "for mouse in sparse_mice:\n",
    "    field_info[mouse] = {}\n",
    "    for day in range(6):\n",
    "        field_info[mouse][day] = {'channel_0_left': [],\n",
    "               'channel_0_right': [],\n",
    "               'channel_1_left': [],\n",
    "               'channel_1_right': []}\n",
    "        for k, thresh in shuff_results[mouse][day].items():\n",
    "            # print(k, thresh.shape)\n",
    "            sig_bins = trial_means[mouse][day][k]>thresh\n",
    "        \n",
    "            # eliminate fields that start at first bin of track or end at last bin of track\n",
    "            \n",
    "        \n",
    "            ledges = np.argwhere(sig_bins[1:,:]>sig_bins[:-1,:])\n",
    "            \n",
    "            for _ledge in ledges:\n",
    "        \n",
    "                rem_trial = sig_bins[_ledge[0]:,_ledge[1]]\n",
    "                _redge = np.argwhere(rem_trial[1:]<rem_trial[:-1])\n",
    "                # print(_redge.size)\n",
    "                if (_redge.shape[0]>0) and (_redge[0][0]>2) and (_redge[0][0]<15) and (_ledge[0]>0) and ((_redge[0][0]+_ledge[0])<29):\n",
    "                # if (_redge.shape[0]>0):\n",
    "                # if (_redge.shape[0]>0):\n",
    "                    field_info[mouse][day][k].append([_ledge[1], _ledge[0], _redge[0][0]])\n",
    "\n",
    "\n",
    "        for k,v in field_info[mouse][day].items():\n",
    "            field_info[mouse][day][k]=np.array(v)"
   ]
  },
  {
   "cell_type": "code",
   "execution_count": null,
   "id": "1ed64b49-b170-44eb-8f3d-0d4df8cfe268",
   "metadata": {},
   "outputs": [],
   "source": [
    "df = {'mouse': [],\n",
    "      'cond':[],\n",
    "      'ttype':[],\n",
    "      'day':[],\n",
    "      'field_width':[],\n",
    "      'n_fields':[]}\n",
    "\n",
    "for mouse in sparse_mice:\n",
    "    for day in range(6):\n",
    "        for ttype in ('channel_0_left','channel_0_right', 'channel_1_left', 'channel_1_right'):\n",
    "            df['mouse'].append(mouse)\n",
    "\n",
    "            if ttype.find('channel_0'):\n",
    "                df['cond'].append('cre') # seperate channel0 from left and right\n",
    "            elif ttype.find('channel_0'):\n",
    "                df['cond'].append('ctrl')\n",
    "\n",
    "            if ttype.find('left'):\n",
    "                df['ttype'].append('nov')\n",
    "            elif ttype.find('right'):\n",
    "                df['ttype'].append('fam')\n",
    "\n",
    "            df['day'].append(day)\n",
    "\n",
    "            f_info = np.array(field_info[mouse][day][ttype])\n",
    "            df['field_width'].append(f_info[:,2].mean())\n",
    "            \n",
    "            cell_list = np.unique(f_info[:,0])\n",
    "            df['n_fields'].append(np.array([np.count_nonzero(f_info[:,0]==cell) for cell in cell_list]).mean())\n",
    "\n",
    "            \n",
    "df = pd.Dataframe(df)\n",
    "            "
   ]
  }
 ],
 "metadata": {
  "kernelspec": {
   "display_name": "Python 3 (ipykernel)",
   "language": "python",
   "name": "python3"
  },
  "language_info": {
   "codemirror_mode": {
    "name": "ipython",
    "version": 3
   },
   "file_extension": ".py",
   "mimetype": "text/x-python",
   "name": "python",
   "nbconvert_exporter": "python",
   "pygments_lexer": "ipython3",
   "version": "3.10.14"
  }
 },
 "nbformat": 4,
 "nbformat_minor": 5
}
