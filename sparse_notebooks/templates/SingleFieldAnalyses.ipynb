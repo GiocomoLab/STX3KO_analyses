{
 "cells": [
  {
   "cell_type": "code",
   "execution_count": 1,
   "id": "7bb9343d-e5a9-4876-ac26-b08f4b8a7bd1",
   "metadata": {},
   "outputs": [],
   "source": [
    "import os\n",
    "import joblib\n",
    "import pickle\n",
    "\n",
    "import numpy as np\n",
    "import scipy as sp\n",
    "from matplotlib import pyplot as plt\n",
    "from matplotlib import gridspec\n",
    "\n",
    "import pandas as pd\n",
    "from pingouin import mixed_anova, anova, pairwise_tukey, pairwise_tests\n",
    "import pingouin as pg\n",
    "from statsmodels.regression.mixed_linear_model import MixedLM\n",
    "import statsmodels.formula.api as smf\n",
    "\n",
    "import TwoPUtils as tpu\n",
    "import STX3KO_analyses as stx\n",
    "from STX3KO_analyses import utilities as u\n",
    "\n",
    "\n",
    "\n",
    "plt.rcParams['pdf.fonttype']=42\n",
    "%matplotlib inline\n",
    "\n",
    "%load_ext autoreload\n",
    "%autoreload 2"
   ]
  },
  {
   "cell_type": "code",
   "execution_count": null,
   "id": "3522e251-73bf-46d3-809f-f7b3bb75f254",
   "metadata": {},
   "outputs": [],
   "source": []
  },
  {
   "cell_type": "code",
   "execution_count": 2,
   "id": "d8abc4f6-ec9d-4c01-a416-92517de5a5df",
   "metadata": {},
   "outputs": [],
   "source": [
    "# load session\n",
    "sparse_sessions = stx.ymaze_sess_deets.SparseKO_sessions\n",
    "mouse = 'SparseKO_02'\n",
    "d = sparse_sessions[mouse][-1]\n",
    "date, scene, session, scan = d['date'], d['scene'], d['session'], d['scan']\n",
    "\n",
    "\n",
    "pkldir = os.path.join('C://Users/esay/data/Stx3/YMazeSessPkls', mouse,  date, f'{scene}_{session}.pkl')\n",
    "sess = stx.session.YMazeSession.from_file(pkldir, verbose=False)\n"
   ]
  },
  {
   "cell_type": "code",
   "execution_count": 3,
   "id": "651f72c7-4cf5-4749-b6df-912808fef64b",
   "metadata": {},
   "outputs": [
    {
     "name": "stdout",
     "output_type": "stream",
     "text": [
      "[ 1. -1.  1.  1. -1.  1. -1. -1. -1. -1.  1.  1. -1.  1. -1. -1.  1.  1.\n",
      "  1.  1. -1. -1. -1. -1.  1.  1. -1. -1.  1.  1.  1. -1.  1. -1. -1.  1.\n",
      "  1. -1. -1. -1.  1. -1. -1.  1. -1.  1.  1.  1. -1. -1.  1. -1. -1. -1.\n",
      " -1.  1. -1. -1.  1. -1. -1. -1.  1.  1. -1. -1.  1.  1.  1.  1.  1. -1.\n",
      " -1.  1. -1.  1.  1.  1.  1. -1. -1. -1.  1. -1. -1.  1.  1.  1. -1. -1.\n",
      " -1.  1. -1.  1.  1.  1. -1.  1.  1.  1.  1.  1.  1.  1. -1.  1.  1.  1.\n",
      "  1.  1. -1. -1. -1. -1. -1. -1.  1. -1. -1. -1.  1.  1. -1.  1. -1. -1.\n",
      " -1.  1.  1. -1.  1.  1.  1. -1.  1. -1. -1. -1. -1. -1.  1. -1. -1. -1.\n",
      "  1. -1.  1. -1. -1. -1. -1.  1. -1. -1.  1.  1.  1. -1. -1.  1.] [False  True False False  True False  True  True  True  True False False\n",
      "  True False  True  True False False False False  True  True  True  True\n",
      " False False  True  True False False False  True False  True  True False\n",
      " False  True  True  True False  True  True False  True False False False\n",
      "  True  True False  True  True  True  True False  True  True False  True\n",
      "  True  True False False  True  True False False False False False  True\n",
      "  True False  True False False False False  True  True  True False  True\n",
      "  True False False False  True  True  True False  True False False False\n",
      "  True False False False False False False False  True False False False\n",
      " False False  True  True  True  True  True  True False  True  True  True\n",
      " False False  True False  True  True  True False False  True False False\n",
      " False  True False  True  True  True  True  True False  True  True  True\n",
      " False  True False  True  True  True  True False  True  True False False\n",
      " False  True  True False]\n"
     ]
    }
   ],
   "source": [
    "trial_masks = {'channel_0_left': None,\n",
    "               'channel_0_right': None,\n",
    "               'channel_1_left': None,\n",
    "               'channel_1_right': None}\n",
    "channel_0_mask = sess.trial_info['block_number']%2==0\n",
    "left_mask = sess.trial_info['LR']==-1\n",
    "print(sess.trial_info['LR'],left_mask)\n",
    "\n",
    "\n",
    "trial_masks['channel_0_left'] = channel_0_mask*left_mask\n",
    "trial_masks['channel_0_right'] = channel_0_mask*(~left_mask)\n",
    "trial_masks['channel_1_left'] = (~channel_0_mask)*left_mask\n",
    "trial_masks['channel_1_right'] = (~channel_0_mask)*(~left_mask)\n"
   ]
  },
  {
   "cell_type": "code",
   "execution_count": 4,
   "id": "15c83f77-b34b-4f34-9ac9-10c92648fb14",
   "metadata": {},
   "outputs": [],
   "source": [
    "def run_shuffle(F, trial_starts, teleports, t, rng):\n",
    "    \n",
    "    F_shuff = np.zeros_like(F)\n",
    "    \n",
    "    for trial, (start, stop) in enumerate(zip(trial_starts, teleports)):\n",
    "        _F = 1*F[:,start:stop]    \n",
    "        _F = np.roll(_F,rng.integers(0,stop-start),axis=-1)\n",
    "        F_shuff[:,start:stop] = 1*_F\n",
    "        \n",
    "    tmat = tpu.spatial_analyses.trial_matrix(F_shuff.T,t, trial_starts,\n",
    "                                            teleports, min_pos=13, max_pos=43, bin_size=1, mat_only=True)\n",
    "    \n",
    "    return np.nanmean(tmat,axis=0)\n",
    "\n",
    "\n"
   ]
  },
  {
   "cell_type": "code",
   "execution_count": 5,
   "id": "b7db57ce-4952-4ddf-8b94-a26997cba84f",
   "metadata": {},
   "outputs": [
    {
     "name": "stdout",
     "output_type": "stream",
     "text": [
      "(1000, 30, 331)\n",
      "(1000, 30, 331)\n",
      "(1000, 30, 234)\n",
      "(1000, 30, 234)\n"
     ]
    }
   ],
   "source": [
    "rng = np.random.default_rng()\n",
    "nperms = 1000\n",
    "\n",
    "shuff_thresh = {'channel_0_left': None,\n",
    "               'channel_0_right': None,\n",
    "               'channel_1_left': None,\n",
    "               'channel_1_right': None}\n",
    "\n",
    "F = sess.timeseries['channel_0_F_dff_speed_filt']\n",
    "starts, stops = sess.trial_start_inds[trial_masks['channel_0_left']], sess.teleport_inds[trial_masks['channel_0_left']]\n",
    "shuff_trial_mat = np.array(joblib.Parallel(n_jobs=-1)(joblib.delayed(run_shuffle)(F, starts, stops, sess.vr_data['t'], rng) for i in range(nperms)))\n",
    "print(shuff_trial_mat.shape)\n",
    "shuff_thresh['channel_0_left'] = np.nanpercentile(shuff_trial_mat[:, :, :], 95, axis=0)\n",
    "\n",
    "F = sess.timeseries['channel_0_F_dff_speed_filt']\n",
    "starts, stops = sess.trial_start_inds[trial_masks['channel_0_right']], sess.teleport_inds[trial_masks['channel_0_right']]\n",
    "shuff_trial_mat = np.array(joblib.Parallel(n_jobs=-1)(joblib.delayed(run_shuffle)(F, starts, stops, sess.vr_data['t'], rng) for i in range(nperms)))\n",
    "print(shuff_trial_mat.shape)\n",
    "shuff_thresh['channel_0_right'] = np.nanpercentile(shuff_trial_mat[:, :, :], 95, axis=0)\n",
    "\n",
    "\n",
    "F = sess.timeseries['channel_1_F_dff_speed_filt']\n",
    "starts, stops = sess.trial_start_inds[trial_masks['channel_1_left']], sess.teleport_inds[trial_masks['channel_1_left']]\n",
    "shuff_trial_mat = np.array(joblib.Parallel(n_jobs=-1)(joblib.delayed(run_shuffle)(F, starts, stops, sess.vr_data['t'], rng) for i in range(nperms)))\n",
    "print(shuff_trial_mat.shape)\n",
    "shuff_thresh['channel_1_left'] = np.nanpercentile(shuff_trial_mat[:, :, :], 95, axis=0)\n",
    "\n",
    "F = sess.timeseries['channel_1_F_dff_speed_filt']\n",
    "starts, stops = sess.trial_start_inds[trial_masks['channel_1_right']], sess.teleport_inds[trial_masks['channel_1_right']]\n",
    "shuff_trial_mat = np.array(joblib.Parallel(n_jobs=-1)(joblib.delayed(run_shuffle)(F, starts, stops, sess.vr_data['t'], rng) for i in range(nperms)))\n",
    "print(shuff_trial_mat.shape)\n",
    "shuff_thresh['channel_1_right'] = np.nanpercentile(shuff_trial_mat[:, :, :], 95, axis=0)\n",
    "\n",
    "\n"
   ]
  },
  {
   "cell_type": "code",
   "execution_count": null,
   "id": "876316e4-9b64-4a1d-9119-61e56c1a1724",
   "metadata": {},
   "outputs": [],
   "source": [
    "import pickle\n",
    "\n",
    "with open('C://Users/esay/data/Stx3/YMazeSessPkls/place_field_shuff_SparseKO_02.pkl','wb') as file:\n",
    "    pickle.dump(shuff_thresh,file)"
   ]
  },
  {
   "cell_type": "code",
   "execution_count": 6,
   "id": "bf4246c2-21bb-48d8-830f-ee2f02a9d0eb",
   "metadata": {},
   "outputs": [],
   "source": [
    "trial_means = {'channel_0_left': np.nanmean(sess.trial_matrices['channel_0_F_dff'][trial_masks['channel_0_left'], : , :],axis=0),\n",
    "               'channel_0_right': np.nanmean(sess.trial_matrices['channel_0_F_dff'][trial_masks['channel_0_right'], : , :], axis=0),\n",
    "               'channel_1_left': np.nanmean(sess.trial_matrices['channel_0_F_dff'][trial_masks['channel_1_left'], : , :],axis=0),\n",
    "               'channel_1_right': np.nanmean(sess.trial_matrices['channel_0_F_dff'][trial_masks['channel_1_right'], : , :],axis=0),\n",
    "              }"
   ]
  },
  {
   "cell_type": "code",
   "execution_count": 7,
   "id": "3971d5a9-3c7a-454f-a54e-e5509a9eef5a",
   "metadata": {},
   "outputs": [
    {
     "data": {
      "text/plain": [
       "{'channel_0_left': array([[0.05895727, 0.02713876, 0.01516355, ..., 0.04654908, 0.0244968 ,\n",
       "         0.03290126],\n",
       "        [0.09027454, 0.02586427, 0.02441699, ..., 0.03576738, 0.02753543,\n",
       "         0.03119113],\n",
       "        [0.1302681 , 0.02542327, 0.02411949, ..., 0.02929373, 0.01822475,\n",
       "         0.02110288],\n",
       "        ...,\n",
       "        [0.04477879, 0.03099264, 0.04131224, ..., 0.04973866, 0.03770928,\n",
       "         0.15505968],\n",
       "        [0.04871993, 0.02800577, 0.04267294, ..., 0.06146047, 0.03763146,\n",
       "         0.11053289],\n",
       "        [0.04168222, 0.02394818, 0.03162088, ..., 0.06839726, 0.0400015 ,\n",
       "         0.09867432]]),\n",
       " 'channel_0_right': array([[0.05687147, 0.03677471, 0.02571051, ..., 0.03085737, 0.03686876,\n",
       "         0.02010403],\n",
       "        [0.07498406, 0.02269981, 0.04590943, ..., 0.03314604, 0.0341363 ,\n",
       "         0.02180603],\n",
       "        [0.14522014, 0.02139351, 0.04663346, ..., 0.03869856, 0.02219779,\n",
       "         0.03652873],\n",
       "        ...,\n",
       "        [0.08112424, 0.01767751, 0.04344185, ..., 0.03192113, 0.03397171,\n",
       "         0.03789446],\n",
       "        [0.07982529, 0.01802739, 0.03871475, ..., 0.04846191, 0.02830295,\n",
       "         0.02809235],\n",
       "        [0.0748373 , 0.02940671, 0.04216629, ..., 0.05993818, 0.03743446,\n",
       "         0.03097092]]),\n",
       " 'channel_1_left': array([[0.04523155, 0.04096489, 0.0231852 , ..., 0.03600788, 0.02082049,\n",
       "         0.01925985],\n",
       "        [0.04483371, 0.03607724, 0.02501901, ..., 0.03067061, 0.01432308,\n",
       "         0.01506885],\n",
       "        [0.04655267, 0.02773371, 0.03353803, ..., 0.02792648, 0.00875604,\n",
       "         0.01268458],\n",
       "        ...,\n",
       "        [0.05608481, 0.02799563, 0.03319176, ..., 0.05116023, 0.0315028 ,\n",
       "         0.03652106],\n",
       "        [0.04994382, 0.02411539, 0.02398238, ..., 0.04946643, 0.04028874,\n",
       "         0.03460451],\n",
       "        [0.03490402, 0.02333583, 0.01448326, ..., 0.04945107, 0.04986242,\n",
       "         0.03372516]]),\n",
       " 'channel_1_right': array([[0.04978989, 0.0373578 , 0.03714947, ..., 0.03798694, 0.03588998,\n",
       "         0.02542651],\n",
       "        [0.07507447, 0.03264075, 0.02872966, ..., 0.03672643, 0.0319559 ,\n",
       "         0.01172107],\n",
       "        [0.09604198, 0.03307516, 0.02666679, ..., 0.04206874, 0.02358778,\n",
       "         0.01806738],\n",
       "        ...,\n",
       "        [0.04933602, 0.04099142, 0.03464027, ..., 0.03794938, 0.04380592,\n",
       "         0.02736896],\n",
       "        [0.04817865, 0.02972526, 0.03489601, ..., 0.03817995, 0.03229454,\n",
       "         0.0147024 ],\n",
       "        [0.05033192, 0.03276927, 0.02878381, ..., 0.03548761, 0.02947446,\n",
       "         0.02091786]])}"
      ]
     },
     "execution_count": 7,
     "metadata": {},
     "output_type": "execute_result"
    }
   ],
   "source": [
    "trial_means\n"
   ]
  },
  {
   "cell_type": "code",
   "execution_count": 7,
   "id": "5ecad41e-fe4e-4d89-92c8-223227d32aac",
   "metadata": {
    "scrolled": true
   },
   "outputs": [
    {
     "name": "stdout",
     "output_type": "stream",
     "text": [
      "channel_0_left (30, 331)\n",
      "channel_0_right (30, 331)\n",
      "channel_1_left (30, 234)\n",
      "channel_1_right (30, 234)\n"
     ]
    }
   ],
   "source": [
    "field_info = {'channel_0_left': [],\n",
    "               'channel_0_right': [],\n",
    "               'channel_1_left': [],\n",
    "               'channel_1_right': []}\n",
    "\n",
    "for k, thresh in shuff_thresh.items():\n",
    "    print(k, thresh.shape)\n",
    "    sig_bins = trial_means[k]>thresh\n",
    "\n",
    "    # eliminate fields that start at first bin of track or end at last bin of track\n",
    "    \n",
    "\n",
    "    ledges = np.argwhere(sig_bins[1:,:]>sig_bins[:-1,:])\n",
    "    \n",
    "    for _ledge in ledges:\n",
    "\n",
    "        rem_trial = sig_bins[_ledge[0]:,_ledge[1]]\n",
    "        _redge = np.argwhere(rem_trial[1:]<rem_trial[:-1])\n",
    "        # print(_redge.size)\n",
    "        if (_redge.shape[0]>0) and (_redge[0][0]>2) and (_redge[0][0]<15) and (_ledge[0]>0) and ((_redge[0][0]+_ledge[0])<29):\n",
    "        # if (_redge.shape[0]>0):\n",
    "        # if (_redge.shape[0]>0):\n",
    "            field_info[k].append([_ledge[1], _ledge[0], _redge[0][0]])\n",
    "        \n",
    "\n",
    "            # fig, ax = plt.subplots()\n",
    "            # ax.plot(trial_means[k][:,_ledge[1]\n",
    "            # if 'channel_0' in k:\n",
    "            #     ax.imshow(sess.trial_matrices['channel_0_F_dff'][trial_masks[k],:, _ledge[1]])\n",
    "            #     ax.plot(_ledge[0]*np.ones([2,]), [0, trial_masks[k].sum()], color='red')\n",
    "            #     ax.plot((_ledge[0]+_redge[0][0])*np.ones([2,]), [0, trial_masks[k].sum()], color='red')\n",
    "            # else:\n",
    "            #     ax.imshow(sess.trial_matrices['channel_1_F_dff'][trial_masks[k],:, _ledge[1]])\n",
    "            #     ax.plot(_ledge[0]*np.ones([2,]), [0, trial_masks[k].sum()], color='red')\n",
    "            #     ax.plot((_ledge[0]+_redge[0][0])*np.ones([2,]), [0, trial_masks[k].sum()], color='red')\n",
    "            # print(trial_means[k].shape)\n",
    "        # ax.imshow(trial_means[k][:,_ledge[1]])\n",
    "\n",
    "for k,v in field_info.items():\n",
    "    field_info[k]=np.array(v)"
   ]
  },
  {
   "cell_type": "code",
   "execution_count": 8,
   "id": "081af379-1945-4ff3-ab45-57dc2c897b7f",
   "metadata": {},
   "outputs": [
    {
     "data": {
      "text/plain": [
       "(array([0.67804878, 0.25365854, 0.06829268, 0.        ]),\n",
       " array([1., 2., 3., 4., 5.]),\n",
       " <BarContainer object of 4 artists>)"
      ]
     },
     "execution_count": 8,
     "metadata": {},
     "output_type": "execute_result"
    },
    {
     "data": {
      "image/png": "[encoded data removed]",
      "text/plain": [
       "<Figure size 640x480 with 4 Axes>"
      ]
     },
     "metadata": {},
     "output_type": "display_data"
    },
    {
     "name": "stderr",
     "output_type": "stream",
     "text": [
      "/home/mplitt/repos/TwoPUtils/TwoPUtils/spatial_analyses.py:73: RuntimeWarning: Mean of empty slice\n",
      "  trial_mat[trial, b] = np.nanmean(arr_t[(pos_t > edge1) & (pos_t <= edge2), :], axis=0)\n",
      "/home/mplitt/repos/TwoPUtils/TwoPUtils/spatial_analyses.py:73: RuntimeWarning: Mean of empty slice\n",
      "  trial_mat[trial, b] = np.nanmean(arr_t[(pos_t > edge1) & (pos_t <= edge2), :], axis=0)\n",
      "/home/mplitt/repos/TwoPUtils/TwoPUtils/spatial_analyses.py:73: RuntimeWarning: Mean of empty slice\n",
      "  trial_mat[trial, b] = np.nanmean(arr_t[(pos_t > edge1) & (pos_t <= edge2), :], axis=0)\n",
      "/home/mplitt/repos/TwoPUtils/TwoPUtils/spatial_analyses.py:73: RuntimeWarning: Mean of empty slice\n",
      "  trial_mat[trial, b] = np.nanmean(arr_t[(pos_t > edge1) & (pos_t <= edge2), :], axis=0)\n",
      "/home/mplitt/repos/TwoPUtils/TwoPUtils/spatial_analyses.py:73: RuntimeWarning: Mean of empty slice\n",
      "  trial_mat[trial, b] = np.nanmean(arr_t[(pos_t > edge1) & (pos_t <= edge2), :], axis=0)\n",
      "/home/mplitt/repos/TwoPUtils/TwoPUtils/spatial_analyses.py:73: RuntimeWarning: Mean of empty slice\n",
      "  trial_mat[trial, b] = np.nanmean(arr_t[(pos_t > edge1) & (pos_t <= edge2), :], axis=0)\n",
      "/home/mplitt/repos/TwoPUtils/TwoPUtils/spatial_analyses.py:73: RuntimeWarning: Mean of empty slice\n",
      "  trial_mat[trial, b] = np.nanmean(arr_t[(pos_t > edge1) & (pos_t <= edge2), :], axis=0)\n",
      "/home/mplitt/repos/TwoPUtils/TwoPUtils/spatial_analyses.py:73: RuntimeWarning: Mean of empty slice\n",
      "  trial_mat[trial, b] = np.nanmean(arr_t[(pos_t > edge1) & (pos_t <= edge2), :], axis=0)\n",
      "/home/mplitt/repos/TwoPUtils/TwoPUtils/spatial_analyses.py:73: RuntimeWarning: Mean of empty slice\n",
      "  trial_mat[trial, b] = np.nanmean(arr_t[(pos_t > edge1) & (pos_t <= edge2), :], axis=0)\n",
      "/home/mplitt/repos/TwoPUtils/TwoPUtils/spatial_analyses.py:73: RuntimeWarning: Mean of empty slice\n",
      "  trial_mat[trial, b] = np.nanmean(arr_t[(pos_t > edge1) & (pos_t <= edge2), :], axis=0)\n",
      "/home/mplitt/repos/TwoPUtils/TwoPUtils/spatial_analyses.py:73: RuntimeWarning: Mean of empty slice\n",
      "  trial_mat[trial, b] = np.nanmean(arr_t[(pos_t > edge1) & (pos_t <= edge2), :], axis=0)\n",
      "/home/mplitt/repos/TwoPUtils/TwoPUtils/spatial_analyses.py:73: RuntimeWarning: Mean of empty slice\n",
      "  trial_mat[trial, b] = np.nanmean(arr_t[(pos_t > edge1) & (pos_t <= edge2), :], axis=0)\n",
      "/home/mplitt/repos/TwoPUtils/TwoPUtils/spatial_analyses.py:73: RuntimeWarning: Mean of empty slice\n",
      "  trial_mat[trial, b] = np.nanmean(arr_t[(pos_t > edge1) & (pos_t <= edge2), :], axis=0)\n",
      "/home/mplitt/repos/TwoPUtils/TwoPUtils/spatial_analyses.py:73: RuntimeWarning: Mean of empty slice\n",
      "  trial_mat[trial, b] = np.nanmean(arr_t[(pos_t > edge1) & (pos_t <= edge2), :], axis=0)\n",
      "/home/mplitt/repos/TwoPUtils/TwoPUtils/spatial_analyses.py:73: RuntimeWarning: Mean of empty slice\n",
      "  trial_mat[trial, b] = np.nanmean(arr_t[(pos_t > edge1) & (pos_t <= edge2), :], axis=0)\n",
      "/home/mplitt/repos/TwoPUtils/TwoPUtils/spatial_analyses.py:73: RuntimeWarning: Mean of empty slice\n",
      "  trial_mat[trial, b] = np.nanmean(arr_t[(pos_t > edge1) & (pos_t <= edge2), :], axis=0)\n",
      "/home/mplitt/repos/TwoPUtils/TwoPUtils/spatial_analyses.py:73: RuntimeWarning: Mean of empty slice\n",
      "  trial_mat[trial, b] = np.nanmean(arr_t[(pos_t > edge1) & (pos_t <= edge2), :], axis=0)\n",
      "/home/mplitt/repos/TwoPUtils/TwoPUtils/spatial_analyses.py:73: RuntimeWarning: Mean of empty slice\n",
      "  trial_mat[trial, b] = np.nanmean(arr_t[(pos_t > edge1) & (pos_t <= edge2), :], axis=0)\n",
      "/home/mplitt/repos/TwoPUtils/TwoPUtils/spatial_analyses.py:73: RuntimeWarning: Mean of empty slice\n",
      "  trial_mat[trial, b] = np.nanmean(arr_t[(pos_t > edge1) & (pos_t <= edge2), :], axis=0)\n",
      "/home/mplitt/repos/TwoPUtils/TwoPUtils/spatial_analyses.py:73: RuntimeWarning: Mean of empty slice\n",
      "  trial_mat[trial, b] = np.nanmean(arr_t[(pos_t > edge1) & (pos_t <= edge2), :], axis=0)\n"
     ]
    }
   ],
   "source": [
    "fig, ax = plt.subplots(2,2)\n",
    "\n",
    "width_bins = np.arange(2,15)\n",
    "field_bins = np.arange(1,6)\n",
    "##\n",
    "fi = field_info['channel_0_left']\n",
    "ax[0,0].hist(fi[:,2], bins=width_bins, color='red', alpha=.4, density=True)\n",
    "\n",
    "cell_list = np.unique(fi[:,0])\n",
    "nfields = np.array([np.count_nonzero(fi[:,0]==cell) for cell in cell_list])\n",
    "ax[1,0].hist(nfields, bins=field_bins, color='red', alpha=.4, density=True)\n",
    "\n",
    "##\n",
    "fi = field_info['channel_1_left']\n",
    "ax[0,0].hist(fi[:,2], bins=width_bins, color='black', alpha=.4, density=True)\n",
    "\n",
    "cell_list = np.unique(fi[:,0])\n",
    "nfields = np.array([np.count_nonzero(fi[:,0]==cell) for cell in cell_list])\n",
    "ax[1,0].hist(nfields, bins=field_bins, color='black', alpha=.4, density=True)\n",
    "\n",
    "##\n",
    "fi = field_info['channel_0_right']\n",
    "ax[0,1].hist(fi[:,2], bins=width_bins, color='red', alpha=.4, density=True)\n",
    "\n",
    "cell_list = np.unique(fi[:,0])\n",
    "nfields = np.array([np.count_nonzero(fi[:,0]==cell) for cell in cell_list])\n",
    "ax[1,1].hist(nfields, bins=field_bins, color='red', alpha=.4, density=True)\n",
    "\n",
    "\n",
    "##\n",
    "fi = field_info['channel_1_right']\n",
    "ax[0,1].hist(fi[:,2], bins=width_bins, color='black', alpha=.4, density=True)\n",
    "\n",
    "cell_list = np.unique(fi[:,0])\n",
    "nfields = np.array([np.count_nonzero(fi[:,0]==cell) for cell in cell_list])\n",
    "ax[1,1].hist(nfields, bins=field_bins, color='black', alpha=.4, density=True)\n",
    "\n",
    "\n",
    "    "
   ]
  },
  {
   "cell_type": "code",
   "execution_count": null,
   "id": "451b8f7f-6310-4ec8-92ae-078472060a60",
   "metadata": {},
   "outputs": [],
   "source": [
    "\n",
    "\n",
    "\n"
   ]
  },
  {
   "cell_type": "code",
   "execution_count": null,
   "id": "49fb3a24-9b6f-4dac-a933-6ca083018ae7",
   "metadata": {},
   "outputs": [],
   "source": []
  }
 ],
 "metadata": {
  "kernelspec": {
   "display_name": "Python 3 (ipykernel)",
   "language": "python",
   "name": "python3"
  },
  "language_info": {
   "codemirror_mode": {
    "name": "ipython",
    "version": 3
   },
   "file_extension": ".py",
   "mimetype": "text/x-python",
   "name": "python",
   "nbconvert_exporter": "python",
   "pygments_lexer": "ipython3",
   "version": "3.10.14"
  }
 },
 "nbformat": 4,
 "nbformat_minor": 5
}
