{
 "cells": [
  {
   "cell_type": "code",
   "execution_count": 1,
   "id": "seventh-missile",
   "metadata": {},
   "outputs": [],
   "source": [
    "# imports\n",
    "import os\n",
    "import math\n",
    "import dill\n",
    "from itertools import permutations\n",
    "\n",
    "import numpy as np\n",
    "import scipy as sp\n",
    "from matplotlib import pyplot as plt\n",
    "from matplotlib import gridspec\n",
    "from sklearn.linear_model import LogisticRegression as logreg\n",
    "\n",
    "\n",
    "import TwoPUtils\n",
    "import STX3KO_analyses as stx\n",
    "\n",
    "\n",
    "\n",
    "%matplotlib inline\n",
    "\n",
    "%load_ext autoreload\n",
    "%autoreload 2"
   ]
  },
  {
   "cell_type": "code",
   "execution_count": 2,
   "id": "improved-transmission",
   "metadata": {},
   "outputs": [],
   "source": [
    "def common_rois(roi_matches,inds):\n",
    "    \n",
    "    \n",
    "    ref =  roi_matches[inds[0]]\n",
    "    ref_common_rois = []\n",
    "    \n",
    "    \n",
    "    for i, targ_ind in enumerate(inds[1:]):\n",
    "        \n",
    "#         targ = roi_matches[targ_ind][inds[0]]\n",
    "        if i==0:\n",
    "            \n",
    "            ref_common_rois = set(ref[targ_ind]['ref_inds']) \n",
    "        else: \n",
    "            ref_common_rois = ref_common_rois & set(ref[targ_ind]['ref_inds'])\n",
    "        \n",
    "        # find cells that are in reference match list each time\n",
    "    ref_common_rois = list(ref_common_rois)\n",
    "\n",
    "    # find matching indices\n",
    "    common_roi_mapping = np.zeros([len(inds), len(ref_common_rois)])*np.nan\n",
    "    common_roi_mapping[0,:]=ref_common_rois\n",
    "    for i, roi in enumerate(ref_common_rois):\n",
    "        for j, targ_ind in enumerate(inds[1:]):\n",
    "#             print(j)\n",
    "            ind = np.argwhere(ref[targ_ind]['ref_inds']==roi)[0][0]\n",
    "#             print(j,roi,ind)\n",
    "            common_roi_mapping[j+1,i] = ref[targ_ind]['targ_inds'][ind]\n",
    "\n",
    "    return common_roi_mapping.astype(np.int)\n",
    "\n",
    "def load_single_day(mouse, day = 0):\n",
    "\n",
    "#     mouse = '4467331.2'\n",
    "    pkldir = os.path.join('/home/mplitt/YMazeSessPkls/',mouse)\n",
    "    if mouse in stx.ymaze_sess_deets.KO_sessions.keys():\n",
    "        \n",
    "        deets = stx.ymaze_sess_deets.KO_sessions[mouse][day]\n",
    "    elif mouse in stx.ymaze_sess_deets.CTRL_sessions.keys():\n",
    "        deets = stx.ymaze_sess_deets.CTRL_sessions[mouse][day]\n",
    "    else:\n",
    "        raise Exception(\"invalid mouse name\")\n",
    "\n",
    "\n",
    "    print(deets)\n",
    "    if isinstance(deets,tuple):\n",
    "        with open(os.path.join(pkldir,\"roi_aligner_results.pkl\"),'rb') as file:\n",
    "            match_inds = dill.load(file)\n",
    "        \n",
    "        \n",
    "        common_roi_mapping = common_rois(match_inds, [d['ravel_ind'] for d in deets])\n",
    "        sess_list = []\n",
    "        for _deets in deets:\n",
    "            _sess = stx.session.YMazeSession.from_file(\n",
    "                                os.path.join(pkldir, _deets['date'], \"%s_%d.pkl\" % (_deets['scene'], _deets['session'])),\n",
    "                                verbose=False)\n",
    "            _sess.add_timeseries(licks=_sess.vr_data['lick']._values)\n",
    "            _sess.add_pos_binned_trial_matrix('licks')\n",
    "            _sess.novel_arm = _deets['novel']\n",
    "    #             _sess_list.append(sess)\n",
    "            print(_deets['date'],_deets['scene'])\n",
    "            sess_list.append(_sess)\n",
    "\n",
    "\n",
    "        sess = Concat_Session(sess_list,common_roi_mapping, day_inds = [0 for i in range(len(deets))], trial_mat_keys= ['F_dff', 'spks', 'F_dff_norm', 'spks_norm'])\n",
    "        if mouse in ['4467332.2'] and day ==0:\n",
    "            mask = sess.trial_info['sess_num_ravel']>0\n",
    "            sess.trial_info['block_number'][mask] -= 1\n",
    "    else:\n",
    "        sess = stx.session.YMazeSession.from_file(\n",
    "                                os.path.join(pkldir, deets['date'], \"%s_%d.pkl\" % (deets['scene'], deets['session'])),\n",
    "                                verbose=False)\n",
    "        sess.add_timeseries(licks=sess.vr_data['lick']._values)\n",
    "        sess.add_pos_binned_trial_matrix('licks')\n",
    "        sess.novel_arm = deets['novel']\n",
    "    return sess\n",
    "\n",
    "class Concat_Session():\n",
    "    \n",
    "    def __init__(self,sess_list, common_roi_mapping, trial_info_keys = ['LR', 'block_number'], trial_mat_keys = ['F_dff'], \n",
    "                 timeseries_keys = [], run_place_cells = True, day_inds = None):\n",
    "        attrs = self.concat(sess_list, common_roi_mapping, trial_info_keys, trial_mat_keys, \n",
    "                 timeseries_keys, run_place_cells,  day_inds)\n",
    "        \n",
    "        self.__dict__.update(attrs)\n",
    "        trial_info_keys = []\n",
    "    @staticmethod    \n",
    "    def concat(_sess_list, common_roi_mapping, t_info_keys, t_mat_keys, \n",
    "                 timeseries_keys, run_place_cells,  day_inds):\n",
    "        attrs = {}\n",
    "        # same info\n",
    "#         same_attrs = ['mouse', 'novel_arm','rzone_early', 'rzone_late']\n",
    "        attrs.update({ 'mouse': _sess_list[0].mouse,\n",
    "                      'novel_arm': _sess_list[0].novel_arm,\n",
    "                      'rzone_early': _sess_list[0].rzone_early,\n",
    "                      'rzone_late': _sess_list[0].rzone_late\n",
    "                    })\n",
    "        print(t_info_keys)\n",
    "        \n",
    "        # concat basic info \n",
    "        basic_info_attrs = ['date', 'scan', 'scan_info', 'scene', 'session', 'teleport_inds', 'trial_start_inds']\n",
    "        attrs.update({k:[] for k in basic_info_attrs})\n",
    "\n",
    "        if 'sess_num_ravel' not in t_info_keys:\n",
    "            t_info_keys.append('sess_num_ravel')\n",
    "        if 'sess_num' not in t_info_keys and day_inds is not None:\n",
    "            t_info_keys.append('sess_num')\n",
    "            \n",
    "        trial_info = {k:[] for k in t_info_keys}\n",
    "\n",
    "        trial_mat = {k:[] for k in t_mat_keys}\n",
    "        trial_mat['bin_edges']=_sess_list[0].trial_matrices['bin_edges']\n",
    "        trial_mat['bin_centers']=_sess_list[0].trial_matrices['bin_centers']\n",
    "\n",
    "        timeseries = {k:[] for k in timeseries_keys}\n",
    "\n",
    "        if run_place_cells:\n",
    "            place_cells = {-1:{'masks':[], 'SI': [], 'p':[]}, 1: {'masks':[], 'SI': [], 'p':[]}}\n",
    "\n",
    "        last_block = 0\n",
    "        for ind, _sess in enumerate(_sess_list):\n",
    "\n",
    "            for k in basic_info_attrs:\n",
    "                attrs[k].append(getattr(_sess,k))\n",
    "\n",
    "            for k in t_info_keys:\n",
    "\n",
    "                if k == 'sess_num_ravel' :\n",
    "                    trial_info[k].append(np.zeros([_sess.trial_info['LR'].shape[0],])+ind)\n",
    "                elif k == 'sess_num' and day_inds is not None:\n",
    "                    trial_info[k].append(np.zeros([_sess.trial_info['LR'].shape[0],])+day_inds[ind])\n",
    "            \n",
    "                elif k == 'block_number' and day_inds is not None and ind>0:\n",
    "                    if _sess.trial_info[k][0]==0 and day_inds[ind-1]==day_inds[ind]:\n",
    "                        trial_info[k].append(_sess.trial_info[k] + _sess_list[ind-1].trial_info[k][-1] +1)\n",
    "                    else:\n",
    "                        trial_info[k].append(_sess.trial_info[k])\n",
    "                else:\n",
    "                    trial_info[k].append(_sess.trial_info[k])\n",
    "\n",
    "            for k in t_mat_keys:\n",
    "                trial_mat[k].append(_sess.trial_matrices[k][:,:,common_roi_mapping[ind,:]])\n",
    "\n",
    "            for k in timeseries_keys:\n",
    "                timeseries[k].append(_sess.timeseries[k][:,:,common_roi_mapping[ind,:]])\n",
    "\n",
    "\n",
    "            if run_place_cells:\n",
    "                for lr, _lr in [[-1,'left'], [1, 'right']]:\n",
    "                    for k in ['masks', 'SI', 'p']:\n",
    "                        place_cells[lr][k].append(_sess.place_cell_info[_lr][k][common_roi_mapping[ind,:]])\n",
    "\n",
    "        print(t_info_keys)\n",
    "        for k in t_info_keys:\n",
    "            print(k)\n",
    "            trial_info[k]= np.concatenate(trial_info[k])\n",
    "        attrs['trial_info']=trial_info\n",
    "\n",
    "        for k in t_mat_keys:\n",
    "            trial_mat[k] = np.concatenate(trial_mat[k],axis=0)\n",
    "        attrs['trial_matrices']=trial_mat\n",
    "        \n",
    "        if run_place_cells:\n",
    "            for lr in [-1, 1]:\n",
    "                    for k in ['masks', 'SI', 'p']:\n",
    "                        place_cells[lr][k] = np.array(place_cells[lr][k])\n",
    "        attrs['place_cell_info'] = place_cells\n",
    "        \n",
    "        return attrs\n",
    "        "
   ]
  },
  {
   "cell_type": "markdown",
   "id": "diagnostic-criticism",
   "metadata": {},
   "source": [
    "$$P(X \\vec Y) \\propto P(\\vec Y | X) P(X)  = P(X) \\prod_{i=0}^{M} P(Y_i| X) \\\\\n",
    "P(Y_i|X) \\sim Gamma(Y_i; k_{i,x}) \\\\\n",
    "Gamma(y; k) = \\frac{1}{\\Gamma(k)} y^{k-1} e ^{-x} $$\n",
    "\n",
    "$k$ is the mean dF/F at that position\n",
    "assume "
   ]
  },
  {
   "cell_type": "code",
   "execution_count": 3,
   "id": "angry-montreal",
   "metadata": {},
   "outputs": [
    {
     "name": "stdout",
     "output_type": "stream",
     "text": [
      "{'date': '28_09_2020', 'scene': 'YMaze_LNovel', 'session': 3, 'scan': 8, 'novel': 1, 'ravel_ind': 0}\n"
     ]
    }
   ],
   "source": [
    "mouse = '4467975.2'\n",
    "sess = load_single_day(mouse,day=0)"
   ]
  },
  {
   "cell_type": "code",
   "execution_count": 4,
   "id": "systematic-retreat",
   "metadata": {},
   "outputs": [
    {
     "data": {
      "text/plain": [
       "dict_keys(['spks', 'bin_edges', 'bin_centers', 'F_dff_norm', 'spks_norm', 'F_dff', 'licks'])"
      ]
     },
     "execution_count": 4,
     "metadata": {},
     "output_type": "execute_result"
    }
   ],
   "source": [
    "sess.trial_matrices.keys()"
   ]
  },
  {
   "cell_type": "code",
   "execution_count": 5,
   "id": "brazilian-conference",
   "metadata": {},
   "outputs": [
    {
     "name": "stdout",
     "output_type": "stream",
     "text": [
      "(30, 332)\n",
      "[[3.12318846 0.29132051 1.82992214 ... 0.62886031 0.40729233 0.54909279]\n",
      " [2.94731535 0.26694509 2.11853855 ... 0.56431167 0.41412232 0.55519003]\n",
      " [2.64694218 0.23505768 2.59939107 ... 0.47740119 0.42773653 0.55606925]\n",
      " ...\n",
      " [0.99555629 0.42579086 0.92508635 ... 0.55685    0.32573443 0.44955747]\n",
      " [1.16379384 0.40119053 1.11768499 ... 0.70330522 0.33320556 0.4653957 ]\n",
      " [1.25073844 0.38495001 1.22813056 ... 0.80726405 0.34763564 0.48632553]]\n"
     ]
    }
   ],
   "source": [
    "trial_mat = sess.trial_matrices['F_dff']\n",
    "trial_mat_mean = np.nanmean(sess.trial_matrices['F_dff'], axis=0)*10\n",
    "trial_mat_mean = sp.ndimage.filters.gaussian_filter1d(trial_mat_mean,1,axis=0)\n",
    "print(trial_mat_mean.shape)\n",
    "print(trial_mat_mean)\n",
    "\n",
    "# gamma = lambda y,kappa:  1/sp.special.gamma(kappa)* np.exp(-y)*np.power(kappa,y)\n",
    "gamma = lambda y,kappa:  1/sp.special.gamma(kappa)* np.exp(-kappa)*np.power(kappa,y)"
   ]
  },
  {
   "cell_type": "code",
   "execution_count": 6,
   "id": "studied-warehouse",
   "metadata": {},
   "outputs": [
    {
     "data": {
      "text/plain": [
       "0.8608916593317348"
      ]
     },
     "execution_count": 6,
     "metadata": {},
     "output_type": "execute_result"
    }
   ],
   "source": [
    ".05**.05"
   ]
  },
  {
   "cell_type": "code",
   "execution_count": 7,
   "id": "weighted-processor",
   "metadata": {},
   "outputs": [
    {
     "name": "stdout",
     "output_type": "stream",
     "text": [
      "(60, 30, 30)\n",
      "(30, 30)\n"
     ]
    },
    {
     "data": {
      "text/plain": [
       "<matplotlib.image.AxesImage at 0x7f5280d74f10>"
      ]
     },
     "execution_count": 7,
     "metadata": {},
     "output_type": "execute_result"
    },
    {
     "data": {
      "image/png": "[encoded data removed]",
      "text/plain": [
       "<Figure size 432x288 with 1 Axes>"
      ]
     },
     "metadata": {
      "needs_background": "light"
     },
     "output_type": "display_data"
    }
   ],
   "source": [
    "ll = []\n",
    "for trial in range(60):\n",
    "    y = trial_mat[trial,:,:]\n",
    "    y[np.isnan(y)]=1E-3\n",
    "    y*=10\n",
    "#     print(y.shape)\n",
    "    \n",
    "    _log_likelihood = 0\n",
    "    for cell in range(y.shape[-1]):\n",
    "#         print(y[:,cell:cell+1].shape)\n",
    "        _log_likelihood += np.log(gamma(y[:,cell:cell+1], trial_mat_mean[:,cell:cell+1].T))\n",
    "    \n",
    "#     fig,ax = plt.subplots()\n",
    "#     ax.imshow()\n",
    "    \n",
    "    ll.append(_log_likelihood)\n",
    "print(np.array(ll).shape)\n",
    "fig,ax = plt.subplots()\n",
    "print(_log_likelihood.shape)\n",
    "ax.imshow(np.array(ll).sum(axis=0))\n",
    "    "
   ]
  },
  {
   "cell_type": "code",
   "execution_count": 17,
   "id": "appointed-harvard",
   "metadata": {},
   "outputs": [
    {
     "data": {
      "text/plain": [
       "[<matplotlib.lines.Line2D at 0x7fa1dfbf0a90>]"
      ]
     },
     "execution_count": 17,
     "metadata": {},
     "output_type": "execute_result"
    },
    {
     "data": {
      "image/png": "[encoded data removed]",
      "text/plain": [
       "<Figure size 432x288 with 1 Axes>"
      ]
     },
     "metadata": {
      "needs_background": "light"
     },
     "output_type": "display_data"
    }
   ],
   "source": [
    "fig,ax = plt.subplots()\n",
    "ax.plot(ll[0,:])"
   ]
  },
  {
   "cell_type": "code",
   "execution_count": null,
   "id": "heard-photographer",
   "metadata": {},
   "outputs": [],
   "source": []
  }
 ],
 "metadata": {
  "kernelspec": {
   "display_name": "Python 3",
   "language": "python",
   "name": "python3"
  },
  "language_info": {
   "codemirror_mode": {
    "name": "ipython",
    "version": 3
   },
   "file_extension": ".py",
   "mimetype": "text/x-python",
   "name": "python",
   "nbconvert_exporter": "python",
   "pygments_lexer": "ipython3",
   "version": "3.8.8"
  }
 },
 "nbformat": 4,
 "nbformat_minor": 5
}
