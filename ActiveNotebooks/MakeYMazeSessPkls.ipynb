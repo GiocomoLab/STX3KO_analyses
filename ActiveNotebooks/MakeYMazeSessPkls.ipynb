{
 "cells": [
  {
   "cell_type": "code",
   "execution_count": 1,
   "id": "aboriginal-forestry",
   "metadata": {},
   "outputs": [],
   "source": [
    "import os\n",
    "import dill\n",
    "\n",
    "import numpy as np\n",
    "\n",
    "import TwoPUtils\n",
    "import STX3KO_analyses as stx\n",
    "\n",
    "\n",
    "\n",
    "%matplotlib inline\n",
    "\n",
    "%load_ext autoreload\n",
    "%autoreload 2"
   ]
  },
  {
   "cell_type": "code",
   "execution_count": 2,
   "id": "mediterranean-cooperation",
   "metadata": {},
   "outputs": [],
   "source": [
    "def update_sess_dict(mouse, f, KO = True):\n",
    "    scan_str = \"%s_%03d_%03d\" % (f['scene'],f['session'],f['scan'])\n",
    "    if KO:\n",
    "        try:\n",
    "            source_folder  =os.path.join('/media','mplitt','Backup Plus','2P_Data')\n",
    "            source_stem = os.path.join(source_folder,mouse,f['date'],f['scene'],scan_str)\n",
    "            info = TwoPUtils.scanner_tools.sbx_utils.loadmat(source_stem+'.mat')\n",
    "        except:\n",
    "            source_folder  = os.path.join('/media','mplitt','Backup Plus2','2P_Data')\n",
    "            source_stem = os.path.join(source_folder,mouse,f['date'],f['scene'],scan_str)\n",
    "            info = TwoPUtils.scanner_tools.sbx_utils.loadmat(source_stem+'.mat')\n",
    "    else:\n",
    "        try:\n",
    "            source_folder  =os.path.join('/media','mplitt','Backup Plus3')\n",
    "            source_stem = os.path.join(source_folder,mouse,f['date'],f['scene'],scan_str)\n",
    "            info = TwoPUtils.scanner_tools.sbx_utils.loadmat(source_stem+'.mat')\n",
    "        except:\n",
    "            source_folder  = os.path.join('/media','mplitt','Backup Plus5','2P_Data')\n",
    "            source_stem = os.path.join(source_folder,mouse,f['date'],f['scene'],scan_str)\n",
    "            info = TwoPUtils.scanner_tools.sbx_utils.loadmat(source_stem+'.mat')\n",
    "\n",
    "    f['mouse']=mouse\n",
    "    f.update({'scan_file': source_stem + '.sbx',\n",
    "              'scanheader_file': source_stem + '.mat',\n",
    "              'vr_filename': os.path.join(\"/home/mplitt/VR_scratch\",f['mouse'],f['date'],\"%s_%d.sqlite\" %(f['scene'],f['session'])),\n",
    "              'scan_number': f['scan'],\n",
    "              'prompt_for_keys': False,\n",
    "              'VR_only': False,\n",
    "              'scanner': \"NLW\",\n",
    "             })\n",
    "    return f"
   ]
  },
  {
   "cell_type": "code",
   "execution_count": 3,
   "id": "temporal-selection",
   "metadata": {},
   "outputs": [],
   "source": [
    "def run_all_sessions(sess_dict,KO=True):\n",
    "    failed_sessions = []\n",
    "    for mouse, file_list in sess_dict.items():\n",
    "        for f in file_list:\n",
    "            if isinstance(f, dict):\n",
    "                f = update_sess_dict(mouse,f,KO=KO)\n",
    "                scan_str = \"%s_%03d_%03d\" % (f['scene'],f['session'],f['scan'])\n",
    "                if mouse in ['4467975.5', '4467333.1']:\n",
    "                    f['s2p_path']=os.path.join(\"/home/mplitt/2P_scratch\",f['mouse'],f['date'],f['scene'],scan_str,'suite2p')\n",
    "                else:\n",
    "                    f['s2p_path']=os.path.join(\"/mnt/BigDisk/2P_scratch\",f['mouse'],f['date'],f['scene'],scan_str,'suite2p')\n",
    "\n",
    "                try:\n",
    "                    sess = stx.session.YMazeSession(**f)\n",
    "                    sess.load_scan_info()\n",
    "                    sess.align_VR_to_2P()\n",
    "                    sess.load_suite2p_data(which_ts=('F', 'Fneu'))\n",
    "                    sess.get_trial_info()\n",
    "                    sess.neuropil_corrected_dff()\n",
    "                    sess.place_cells_calc()\n",
    "                    TwoPUtils.sess.save_session(sess,'/home/mplitt/YMazeSessPkls')\n",
    "                except:\n",
    "                    failed_sessions.append(f)\n",
    "\n",
    "            elif isinstance(f, tuple) or isinstance(f, list):\n",
    "                if mouse in ['4467975.5', '4467333.1']:\n",
    "                    s2p_path=os.path.join(\"/home/mplitt/2P_scratch\",mouse,f[0]['date'],'combined','suite2p')\n",
    "                else:\n",
    "                    print(f)\n",
    "                    s2p_path=os.path.join(\"/mnt/BigDisk/2P_scratch\",mouse,f[0]['date'],'combined','suite2p')\n",
    "\n",
    "                \n",
    "                ops = np.load(os.path.join(s2p_path,\"plane0\",\"ops.npy\"),allow_pickle=True).all()\n",
    "                comb_frames = 0\n",
    "                for _f in f:\n",
    "\n",
    "                    _f = update_sess_dict(mouse, _f,KO=KO)\n",
    "                    if mouse in ['4467975.5', '4467333.1']:\n",
    "                        _f['s2p_path']=os.path.join(\"/home/mplitt/2P_scratch\",f[0]['mouse'],f[0]['date'],'combined','suite2p')\n",
    "                    else:\n",
    "                        _f['s2p_path']=os.path.join(\"/mnt/BigDisk/2P_scratch\",f[0]['mouse'],f[0]['date'],'combined','suite2p')\n",
    "\n",
    "                    try:\n",
    "                        sess = stx.session.YMazeSession(**_f)\n",
    "                        sess.load_scan_info()\n",
    "                        sess.align_VR_to_2P()\n",
    "                        print(slice(comb_frames,comb_frames+sess.scan_info['max_idx']))\n",
    "                        sess.load_suite2p_data(which_ts=('F', 'Fneu'), frames = slice(comb_frames,comb_frames+sess.scan_info['max_idx']))\n",
    "\n",
    "                        sess.get_trial_info()\n",
    "                        sess.neuropil_corrected_dff()\n",
    "                        sess.place_cells_calc()\n",
    "                        TwoPUtils.sess.save_session(sess,'/home/mplitt/YMazeSessPkls')\n",
    "\n",
    "                        comb_frames += sess.scan_info['max_idx']\n",
    "\n",
    "                    except:\n",
    "                        failed_sessions.append(_f)\n",
    "                print(\"ops max idx %d, combined sbx max idx %d\" % (ops['nframes'], comb_frames))\n",
    "\n",
    "\n",
    "\n",
    "            else:\n",
    "                failed_sessions.append(['wrong type',f])\n",
    "\n",
    "    return failed_sessions"
   ]
  },
  {
   "cell_type": "code",
   "execution_count": 4,
   "id": "functional-nightlife",
   "metadata": {},
   "outputs": [],
   "source": [
    "def check_for_pickle(sess_dict):\n",
    "    for mouse, file_list in sess_dict.items():\n",
    "        for f in file_list:\n",
    "            if isinstance(f,list) or isinstance(f,tuple):\n",
    "                for _f in f:\n",
    "                    if not os.path.exists(os.path.join(\"/home/mplitt/YMazeSessPkls\",mouse,_f['date'],\"%s_%d.pkl\" % (_f['scene'],_f['session']))):\n",
    "                        print('failed',_f)\n",
    "            else:\n",
    "                if not os.path.exists(os.path.join(\"/home/mplitt/YMazeSessPkls\",mouse,f['date'],\"%s_%d.pkl\" % (f['scene'],f['session']))):\n",
    "                    print('failed',_f)\n",
    "                                                    \n",
    "        "
   ]
  },
  {
   "cell_type": "code",
   "execution_count": 5,
   "id": "further-mattress",
   "metadata": {},
   "outputs": [
    {
     "name": "stdout",
     "output_type": "stream",
     "text": [
      "failed {'date': '28_09_2020', 'scene': 'YMaze_LNovel', 'session': 1, 'scan': 3, 'novel': -1}\n"
     ]
    }
   ],
   "source": [
    "check_for_pickle(stx.ymaze_sess_deets.KO_sessions)"
   ]
  },
  {
   "cell_type": "code",
   "execution_count": 28,
   "id": "homeless-request",
   "metadata": {},
   "outputs": [],
   "source": [
    "check_for_pickle(stx.ymaze_sess_deets.CTRL_sessions)"
   ]
  },
  {
   "cell_type": "code",
   "execution_count": 6,
   "id": "intensive-translation",
   "metadata": {
    "collapsed": true,
    "jupyter": {
     "outputs_hidden": true
    }
   },
   "outputs": [
    {
     "name": "stdout",
     "output_type": "stream",
     "text": [
      "({'date': '28_09_2020', 'scene': 'YMaze_LNovel', 'session': 1, 'scan': 3, 'novel': -1}, {'date': '28_09_2020', 'scene': 'YMaze_LNovel', 'session': 6, 'scan': 14, 'novel': -1})\n"
     ]
    },
    {
     "name": "stderr",
     "output_type": "stream",
     "text": [
      "/home/mplitt/repos/TwoPUtils/TwoPUtils/sess.py:95: UserWarning: skipping checking keys, remaining initialization not guaranteed to work\n",
      "  warnings.warn(\"skipping checking keys, remaining initialization not guaranteed to work\")\n"
     ]
    },
    {
     "name": "stdout",
     "output_type": "stream",
     "text": [
      "Fixing teleports\n",
      "(10496,) (4245,)\n",
      "274.5914603335018 274.49823143001515\n",
      "slice(0, 4245, None)\n",
      "227 3938\n"
     ]
    },
    {
     "name": "stderr",
     "output_type": "stream",
     "text": [
      "/home/mplitt/repos/TwoPUtils/TwoPUtils/spatial_analyses.py:146: RuntimeWarning: Mean of empty slice\n",
      "  SI = spatial_info(np.nanmean(C_trial_mat,axis=0),occ)\n",
      "/home/mplitt/repos/TwoPUtils/TwoPUtils/spatial_analyses.py:106: RuntimeWarning: Mean of empty slice\n",
      "  P_map = P_map/np.nanmean(P_map, axis=0,keepdims=True)\n",
      "/home/mplitt/repos/TwoPUtils/TwoPUtils/spatial_analyses.py:157: RuntimeWarning: Mean of empty slice\n",
      "  _SI_perm =  spatial_info(np.nanmean(C_trial_mat,axis=0),occ)\n"
     ]
    },
    {
     "name": "stdout",
     "output_type": "stream",
     "text": [
      "perm 0\n",
      "perm 0\n"
     ]
    },
    {
     "name": "stderr",
     "output_type": "stream",
     "text": [
      "/home/mplitt/repos/TwoPUtils/TwoPUtils/sess.py:95: UserWarning: skipping checking keys, remaining initialization not guaranteed to work\n",
      "  warnings.warn(\"skipping checking keys, remaining initialization not guaranteed to work\")\n"
     ]
    },
    {
     "name": "stdout",
     "output_type": "stream",
     "text": [
      "Fixing teleports\n",
      "(75905,) (29954,)\n",
      "1937.4089186457807 1937.3340070742802\n",
      "slice(4245, 34199, None)\n",
      "164 4456\n",
      "5396 9745\n",
      "10682 15385\n",
      "16326 20668\n",
      "21606 29952\n",
      "perm 0\n",
      "perm 0\n",
      "ops max idx 34199, combined sbx max idx 34199\n"
     ]
    },
    {
     "name": "stderr",
     "output_type": "stream",
     "text": [
      "/home/mplitt/repos/TwoPUtils/TwoPUtils/sess.py:95: UserWarning: skipping checking keys, remaining initialization not guaranteed to work\n",
      "  warnings.warn(\"skipping checking keys, remaining initialization not guaranteed to work\")\n"
     ]
    },
    {
     "name": "stdout",
     "output_type": "stream",
     "text": [
      "Fixing teleports\n",
      "(98684,) (38344,)\n",
      "2480.1160939868623 2479.991915108641\n"
     ]
    },
    {
     "name": "stderr",
     "output_type": "stream",
     "text": [
      "/home/mplitt/repos/TwoPUtils/TwoPUtils/sess.py:95: UserWarning: skipping checking keys, remaining initialization not guaranteed to work\n",
      "  warnings.warn(\"skipping checking keys, remaining initialization not guaranteed to work\")\n"
     ]
    },
    {
     "name": "stdout",
     "output_type": "stream",
     "text": [
      "Fixing teleports\n",
      "(92401,) (36648,)\n",
      "2370.3731682668013 2370.2961091460334\n"
     ]
    },
    {
     "name": "stderr",
     "output_type": "stream",
     "text": [
      "/home/mplitt/repos/TwoPUtils/TwoPUtils/sess.py:95: UserWarning: skipping checking keys, remaining initialization not guaranteed to work\n",
      "  warnings.warn(\"skipping checking keys, remaining initialization not guaranteed to work\")\n"
     ]
    },
    {
     "name": "stdout",
     "output_type": "stream",
     "text": [
      "Fixing teleports\n",
      "(95536,) (37853,)\n",
      "2448.3401970692266 2448.234461849419\n"
     ]
    },
    {
     "ename": "FileNotFoundError",
     "evalue": "[Errno 2] No such file or directory: '/media/mplitt/Backup Plus2/2P_Data/4467975.1/02_10_2020/YMaze_LNovel/YMaze_LNovel_001_003.mat'",
     "output_type": "error",
     "traceback": [
      "\u001b[0;31m---------------------------------------------------------------------------\u001b[0m",
      "\u001b[0;31mFileNotFoundError\u001b[0m                         Traceback (most recent call last)",
      "\u001b[0;32m~/anaconda3/envs/STX3_test/lib/python3.8/site-packages/scipy/io/matlab/mio.py\u001b[0m in \u001b[0;36m_open_file\u001b[0;34m(file_like, appendmat, mode)\u001b[0m\n\u001b[1;32m     38\u001b[0m     \u001b[0;32mtry\u001b[0m\u001b[0;34m:\u001b[0m\u001b[0;34m\u001b[0m\u001b[0;34m\u001b[0m\u001b[0m\n\u001b[0;32m---> 39\u001b[0;31m         \u001b[0;32mreturn\u001b[0m \u001b[0mopen\u001b[0m\u001b[0;34m(\u001b[0m\u001b[0mfile_like\u001b[0m\u001b[0;34m,\u001b[0m \u001b[0mmode\u001b[0m\u001b[0;34m)\u001b[0m\u001b[0;34m,\u001b[0m \u001b[0;32mTrue\u001b[0m\u001b[0;34m\u001b[0m\u001b[0;34m\u001b[0m\u001b[0m\n\u001b[0m\u001b[1;32m     40\u001b[0m     \u001b[0;32mexcept\u001b[0m \u001b[0mIOError\u001b[0m \u001b[0;32mas\u001b[0m \u001b[0me\u001b[0m\u001b[0;34m:\u001b[0m\u001b[0;34m\u001b[0m\u001b[0;34m\u001b[0m\u001b[0m\n",
      "\u001b[0;31mFileNotFoundError\u001b[0m: [Errno 2] No such file or directory: '/media/mplitt/Backup Plus/2P_Data/4467975.1/02_10_2020/YMaze_LNovel/YMaze_LNovel_001_003.mat'",
      "\nDuring handling of the above exception, another exception occurred:\n",
      "\u001b[0;31mFileNotFoundError\u001b[0m                         Traceback (most recent call last)",
      "\u001b[0;32m<ipython-input-2-6531d00aadf3>\u001b[0m in \u001b[0;36mupdate_sess_dict\u001b[0;34m(mouse, f, KO)\u001b[0m\n\u001b[1;32m      6\u001b[0m             \u001b[0msource_stem\u001b[0m \u001b[0;34m=\u001b[0m \u001b[0mos\u001b[0m\u001b[0;34m.\u001b[0m\u001b[0mpath\u001b[0m\u001b[0;34m.\u001b[0m\u001b[0mjoin\u001b[0m\u001b[0;34m(\u001b[0m\u001b[0msource_folder\u001b[0m\u001b[0;34m,\u001b[0m\u001b[0mmouse\u001b[0m\u001b[0;34m,\u001b[0m\u001b[0mf\u001b[0m\u001b[0;34m[\u001b[0m\u001b[0;34m'date'\u001b[0m\u001b[0;34m]\u001b[0m\u001b[0;34m,\u001b[0m\u001b[0mf\u001b[0m\u001b[0;34m[\u001b[0m\u001b[0;34m'scene'\u001b[0m\u001b[0;34m]\u001b[0m\u001b[0;34m,\u001b[0m\u001b[0mscan_str\u001b[0m\u001b[0;34m)\u001b[0m\u001b[0;34m\u001b[0m\u001b[0;34m\u001b[0m\u001b[0m\n\u001b[0;32m----> 7\u001b[0;31m             \u001b[0minfo\u001b[0m \u001b[0;34m=\u001b[0m \u001b[0mTwoPUtils\u001b[0m\u001b[0;34m.\u001b[0m\u001b[0mscanner_tools\u001b[0m\u001b[0;34m.\u001b[0m\u001b[0msbx_utils\u001b[0m\u001b[0;34m.\u001b[0m\u001b[0mloadmat\u001b[0m\u001b[0;34m(\u001b[0m\u001b[0msource_stem\u001b[0m\u001b[0;34m+\u001b[0m\u001b[0;34m'.mat'\u001b[0m\u001b[0;34m)\u001b[0m\u001b[0;34m\u001b[0m\u001b[0;34m\u001b[0m\u001b[0m\n\u001b[0m\u001b[1;32m      8\u001b[0m         \u001b[0;32mexcept\u001b[0m\u001b[0;34m:\u001b[0m\u001b[0;34m\u001b[0m\u001b[0;34m\u001b[0m\u001b[0m\n",
      "\u001b[0;32m~/repos/TwoPUtils/TwoPUtils/scanner_tools/sbx_utils.py\u001b[0m in \u001b[0;36mloadmat\u001b[0;34m(filename)\u001b[0m\n\u001b[1;32m     14\u001b[0m     '''\n\u001b[0;32m---> 15\u001b[0;31m     \u001b[0mdata\u001b[0m \u001b[0;34m=\u001b[0m \u001b[0mspio\u001b[0m\u001b[0;34m.\u001b[0m\u001b[0mloadmat\u001b[0m\u001b[0;34m(\u001b[0m\u001b[0mfilename\u001b[0m\u001b[0;34m,\u001b[0m \u001b[0mstruct_as_record\u001b[0m\u001b[0;34m=\u001b[0m\u001b[0;32mFalse\u001b[0m\u001b[0;34m,\u001b[0m \u001b[0msqueeze_me\u001b[0m\u001b[0;34m=\u001b[0m\u001b[0;32mTrue\u001b[0m\u001b[0;34m)\u001b[0m\u001b[0;34m\u001b[0m\u001b[0;34m\u001b[0m\u001b[0m\n\u001b[0m\u001b[1;32m     16\u001b[0m     \u001b[0minfo\u001b[0m \u001b[0;34m=\u001b[0m \u001b[0m_check_keys\u001b[0m\u001b[0;34m(\u001b[0m\u001b[0mdata\u001b[0m\u001b[0;34m)\u001b[0m\u001b[0;34m[\u001b[0m\u001b[0;34m'info'\u001b[0m\u001b[0;34m]\u001b[0m\u001b[0;34m\u001b[0m\u001b[0;34m\u001b[0m\u001b[0m\n",
      "\u001b[0;32m~/anaconda3/envs/STX3_test/lib/python3.8/site-packages/scipy/io/matlab/mio.py\u001b[0m in \u001b[0;36mloadmat\u001b[0;34m(file_name, mdict, appendmat, **kwargs)\u001b[0m\n\u001b[1;32m    223\u001b[0m     \u001b[0mvariable_names\u001b[0m \u001b[0;34m=\u001b[0m \u001b[0mkwargs\u001b[0m\u001b[0;34m.\u001b[0m\u001b[0mpop\u001b[0m\u001b[0;34m(\u001b[0m\u001b[0;34m'variable_names'\u001b[0m\u001b[0;34m,\u001b[0m \u001b[0;32mNone\u001b[0m\u001b[0;34m)\u001b[0m\u001b[0;34m\u001b[0m\u001b[0;34m\u001b[0m\u001b[0m\n\u001b[0;32m--> 224\u001b[0;31m     \u001b[0;32mwith\u001b[0m \u001b[0m_open_file_context\u001b[0m\u001b[0;34m(\u001b[0m\u001b[0mfile_name\u001b[0m\u001b[0;34m,\u001b[0m \u001b[0mappendmat\u001b[0m\u001b[0;34m)\u001b[0m \u001b[0;32mas\u001b[0m \u001b[0mf\u001b[0m\u001b[0;34m:\u001b[0m\u001b[0;34m\u001b[0m\u001b[0;34m\u001b[0m\u001b[0m\n\u001b[0m\u001b[1;32m    225\u001b[0m         \u001b[0mMR\u001b[0m\u001b[0;34m,\u001b[0m \u001b[0m_\u001b[0m \u001b[0;34m=\u001b[0m \u001b[0mmat_reader_factory\u001b[0m\u001b[0;34m(\u001b[0m\u001b[0mf\u001b[0m\u001b[0;34m,\u001b[0m \u001b[0;34m**\u001b[0m\u001b[0mkwargs\u001b[0m\u001b[0;34m)\u001b[0m\u001b[0;34m\u001b[0m\u001b[0;34m\u001b[0m\u001b[0m\n",
      "\u001b[0;32m~/anaconda3/envs/STX3_test/lib/python3.8/contextlib.py\u001b[0m in \u001b[0;36m__enter__\u001b[0;34m(self)\u001b[0m\n\u001b[1;32m    112\u001b[0m         \u001b[0;32mtry\u001b[0m\u001b[0;34m:\u001b[0m\u001b[0;34m\u001b[0m\u001b[0;34m\u001b[0m\u001b[0m\n\u001b[0;32m--> 113\u001b[0;31m             \u001b[0;32mreturn\u001b[0m \u001b[0mnext\u001b[0m\u001b[0;34m(\u001b[0m\u001b[0mself\u001b[0m\u001b[0;34m.\u001b[0m\u001b[0mgen\u001b[0m\u001b[0;34m)\u001b[0m\u001b[0;34m\u001b[0m\u001b[0;34m\u001b[0m\u001b[0m\n\u001b[0m\u001b[1;32m    114\u001b[0m         \u001b[0;32mexcept\u001b[0m \u001b[0mStopIteration\u001b[0m\u001b[0;34m:\u001b[0m\u001b[0;34m\u001b[0m\u001b[0;34m\u001b[0m\u001b[0m\n",
      "\u001b[0;32m~/anaconda3/envs/STX3_test/lib/python3.8/site-packages/scipy/io/matlab/mio.py\u001b[0m in \u001b[0;36m_open_file_context\u001b[0;34m(file_like, appendmat, mode)\u001b[0m\n\u001b[1;32m     16\u001b[0m \u001b[0;32mdef\u001b[0m \u001b[0m_open_file_context\u001b[0m\u001b[0;34m(\u001b[0m\u001b[0mfile_like\u001b[0m\u001b[0;34m,\u001b[0m \u001b[0mappendmat\u001b[0m\u001b[0;34m,\u001b[0m \u001b[0mmode\u001b[0m\u001b[0;34m=\u001b[0m\u001b[0;34m'rb'\u001b[0m\u001b[0;34m)\u001b[0m\u001b[0;34m:\u001b[0m\u001b[0;34m\u001b[0m\u001b[0;34m\u001b[0m\u001b[0m\n\u001b[0;32m---> 17\u001b[0;31m     \u001b[0mf\u001b[0m\u001b[0;34m,\u001b[0m \u001b[0mopened\u001b[0m \u001b[0;34m=\u001b[0m \u001b[0m_open_file\u001b[0m\u001b[0;34m(\u001b[0m\u001b[0mfile_like\u001b[0m\u001b[0;34m,\u001b[0m \u001b[0mappendmat\u001b[0m\u001b[0;34m,\u001b[0m \u001b[0mmode\u001b[0m\u001b[0;34m)\u001b[0m\u001b[0;34m\u001b[0m\u001b[0;34m\u001b[0m\u001b[0m\n\u001b[0m\u001b[1;32m     18\u001b[0m     \u001b[0;32mtry\u001b[0m\u001b[0;34m:\u001b[0m\u001b[0;34m\u001b[0m\u001b[0;34m\u001b[0m\u001b[0m\n",
      "\u001b[0;32m~/anaconda3/envs/STX3_test/lib/python3.8/site-packages/scipy/io/matlab/mio.py\u001b[0m in \u001b[0;36m_open_file\u001b[0;34m(file_like, appendmat, mode)\u001b[0m\n\u001b[1;32m     44\u001b[0m                 \u001b[0mfile_like\u001b[0m \u001b[0;34m+=\u001b[0m \u001b[0;34m'.mat'\u001b[0m\u001b[0;34m\u001b[0m\u001b[0;34m\u001b[0m\u001b[0m\n\u001b[0;32m---> 45\u001b[0;31m             \u001b[0;32mreturn\u001b[0m \u001b[0mopen\u001b[0m\u001b[0;34m(\u001b[0m\u001b[0mfile_like\u001b[0m\u001b[0;34m,\u001b[0m \u001b[0mmode\u001b[0m\u001b[0;34m)\u001b[0m\u001b[0;34m,\u001b[0m \u001b[0;32mTrue\u001b[0m\u001b[0;34m\u001b[0m\u001b[0;34m\u001b[0m\u001b[0m\n\u001b[0m\u001b[1;32m     46\u001b[0m         \u001b[0;32melse\u001b[0m\u001b[0;34m:\u001b[0m\u001b[0;34m\u001b[0m\u001b[0;34m\u001b[0m\u001b[0m\n",
      "\u001b[0;31mFileNotFoundError\u001b[0m: [Errno 2] No such file or directory: '/media/mplitt/Backup Plus/2P_Data/4467975.1/02_10_2020/YMaze_LNovel/YMaze_LNovel_001_003.mat'",
      "\nDuring handling of the above exception, another exception occurred:\n",
      "\u001b[0;31mFileNotFoundError\u001b[0m                         Traceback (most recent call last)",
      "\u001b[0;32m~/anaconda3/envs/STX3_test/lib/python3.8/site-packages/scipy/io/matlab/mio.py\u001b[0m in \u001b[0;36m_open_file\u001b[0;34m(file_like, appendmat, mode)\u001b[0m\n\u001b[1;32m     38\u001b[0m     \u001b[0;32mtry\u001b[0m\u001b[0;34m:\u001b[0m\u001b[0;34m\u001b[0m\u001b[0;34m\u001b[0m\u001b[0m\n\u001b[0;32m---> 39\u001b[0;31m         \u001b[0;32mreturn\u001b[0m \u001b[0mopen\u001b[0m\u001b[0;34m(\u001b[0m\u001b[0mfile_like\u001b[0m\u001b[0;34m,\u001b[0m \u001b[0mmode\u001b[0m\u001b[0;34m)\u001b[0m\u001b[0;34m,\u001b[0m \u001b[0;32mTrue\u001b[0m\u001b[0;34m\u001b[0m\u001b[0;34m\u001b[0m\u001b[0m\n\u001b[0m\u001b[1;32m     40\u001b[0m     \u001b[0;32mexcept\u001b[0m \u001b[0mIOError\u001b[0m \u001b[0;32mas\u001b[0m \u001b[0me\u001b[0m\u001b[0;34m:\u001b[0m\u001b[0;34m\u001b[0m\u001b[0;34m\u001b[0m\u001b[0m\n",
      "\u001b[0;31mFileNotFoundError\u001b[0m: [Errno 2] No such file or directory: '/media/mplitt/Backup Plus2/2P_Data/4467975.1/02_10_2020/YMaze_LNovel/YMaze_LNovel_001_003.mat'",
      "\nDuring handling of the above exception, another exception occurred:\n",
      "\u001b[0;31mFileNotFoundError\u001b[0m                         Traceback (most recent call last)",
      "\u001b[0;32m<ipython-input-6-0456d0dafb57>\u001b[0m in \u001b[0;36m<module>\u001b[0;34m\u001b[0m\n\u001b[0;32m----> 1\u001b[0;31m \u001b[0mKO_failed_sessions\u001b[0m \u001b[0;34m=\u001b[0m \u001b[0mrun_all_sessions\u001b[0m\u001b[0;34m(\u001b[0m\u001b[0mstx\u001b[0m\u001b[0;34m.\u001b[0m\u001b[0mymaze_sess_deets\u001b[0m\u001b[0;34m.\u001b[0m\u001b[0mKO_sessions\u001b[0m\u001b[0;34m)\u001b[0m\u001b[0;34m\u001b[0m\u001b[0;34m\u001b[0m\u001b[0m\n\u001b[0m",
      "\u001b[0;32m<ipython-input-3-0dc404580042>\u001b[0m in \u001b[0;36mrun_all_sessions\u001b[0;34m(sess_dict, KO)\u001b[0m\n\u001b[1;32m      4\u001b[0m         \u001b[0;32mfor\u001b[0m \u001b[0mf\u001b[0m \u001b[0;32min\u001b[0m \u001b[0mfile_list\u001b[0m\u001b[0;34m:\u001b[0m\u001b[0;34m\u001b[0m\u001b[0;34m\u001b[0m\u001b[0m\n\u001b[1;32m      5\u001b[0m             \u001b[0;32mif\u001b[0m \u001b[0misinstance\u001b[0m\u001b[0;34m(\u001b[0m\u001b[0mf\u001b[0m\u001b[0;34m,\u001b[0m \u001b[0mdict\u001b[0m\u001b[0;34m)\u001b[0m\u001b[0;34m:\u001b[0m\u001b[0;34m\u001b[0m\u001b[0;34m\u001b[0m\u001b[0m\n\u001b[0;32m----> 6\u001b[0;31m                 \u001b[0mf\u001b[0m \u001b[0;34m=\u001b[0m \u001b[0mupdate_sess_dict\u001b[0m\u001b[0;34m(\u001b[0m\u001b[0mmouse\u001b[0m\u001b[0;34m,\u001b[0m\u001b[0mf\u001b[0m\u001b[0;34m,\u001b[0m\u001b[0mKO\u001b[0m\u001b[0;34m=\u001b[0m\u001b[0mKO\u001b[0m\u001b[0;34m)\u001b[0m\u001b[0;34m\u001b[0m\u001b[0;34m\u001b[0m\u001b[0m\n\u001b[0m\u001b[1;32m      7\u001b[0m                 \u001b[0mscan_str\u001b[0m \u001b[0;34m=\u001b[0m \u001b[0;34m\"%s_%03d_%03d\"\u001b[0m \u001b[0;34m%\u001b[0m \u001b[0;34m(\u001b[0m\u001b[0mf\u001b[0m\u001b[0;34m[\u001b[0m\u001b[0;34m'scene'\u001b[0m\u001b[0;34m]\u001b[0m\u001b[0;34m,\u001b[0m\u001b[0mf\u001b[0m\u001b[0;34m[\u001b[0m\u001b[0;34m'session'\u001b[0m\u001b[0;34m]\u001b[0m\u001b[0;34m,\u001b[0m\u001b[0mf\u001b[0m\u001b[0;34m[\u001b[0m\u001b[0;34m'scan'\u001b[0m\u001b[0;34m]\u001b[0m\u001b[0;34m)\u001b[0m\u001b[0;34m\u001b[0m\u001b[0;34m\u001b[0m\u001b[0m\n\u001b[1;32m      8\u001b[0m                 \u001b[0;32mif\u001b[0m \u001b[0mmouse\u001b[0m \u001b[0;32min\u001b[0m \u001b[0;34m[\u001b[0m\u001b[0;34m'4467975.5'\u001b[0m\u001b[0;34m,\u001b[0m \u001b[0;34m'4467333.1'\u001b[0m\u001b[0;34m]\u001b[0m\u001b[0;34m:\u001b[0m\u001b[0;34m\u001b[0m\u001b[0;34m\u001b[0m\u001b[0m\n",
      "\u001b[0;32m<ipython-input-2-6531d00aadf3>\u001b[0m in \u001b[0;36mupdate_sess_dict\u001b[0;34m(mouse, f, KO)\u001b[0m\n\u001b[1;32m      9\u001b[0m             \u001b[0msource_folder\u001b[0m  \u001b[0;34m=\u001b[0m \u001b[0mos\u001b[0m\u001b[0;34m.\u001b[0m\u001b[0mpath\u001b[0m\u001b[0;34m.\u001b[0m\u001b[0mjoin\u001b[0m\u001b[0;34m(\u001b[0m\u001b[0;34m'/media'\u001b[0m\u001b[0;34m,\u001b[0m\u001b[0;34m'mplitt'\u001b[0m\u001b[0;34m,\u001b[0m\u001b[0;34m'Backup Plus2'\u001b[0m\u001b[0;34m,\u001b[0m\u001b[0;34m'2P_Data'\u001b[0m\u001b[0;34m)\u001b[0m\u001b[0;34m\u001b[0m\u001b[0;34m\u001b[0m\u001b[0m\n\u001b[1;32m     10\u001b[0m             \u001b[0msource_stem\u001b[0m \u001b[0;34m=\u001b[0m \u001b[0mos\u001b[0m\u001b[0;34m.\u001b[0m\u001b[0mpath\u001b[0m\u001b[0;34m.\u001b[0m\u001b[0mjoin\u001b[0m\u001b[0;34m(\u001b[0m\u001b[0msource_folder\u001b[0m\u001b[0;34m,\u001b[0m\u001b[0mmouse\u001b[0m\u001b[0;34m,\u001b[0m\u001b[0mf\u001b[0m\u001b[0;34m[\u001b[0m\u001b[0;34m'date'\u001b[0m\u001b[0;34m]\u001b[0m\u001b[0;34m,\u001b[0m\u001b[0mf\u001b[0m\u001b[0;34m[\u001b[0m\u001b[0;34m'scene'\u001b[0m\u001b[0;34m]\u001b[0m\u001b[0;34m,\u001b[0m\u001b[0mscan_str\u001b[0m\u001b[0;34m)\u001b[0m\u001b[0;34m\u001b[0m\u001b[0;34m\u001b[0m\u001b[0m\n\u001b[0;32m---> 11\u001b[0;31m             \u001b[0minfo\u001b[0m \u001b[0;34m=\u001b[0m \u001b[0mTwoPUtils\u001b[0m\u001b[0;34m.\u001b[0m\u001b[0mscanner_tools\u001b[0m\u001b[0;34m.\u001b[0m\u001b[0msbx_utils\u001b[0m\u001b[0;34m.\u001b[0m\u001b[0mloadmat\u001b[0m\u001b[0;34m(\u001b[0m\u001b[0msource_stem\u001b[0m\u001b[0;34m+\u001b[0m\u001b[0;34m'.mat'\u001b[0m\u001b[0;34m)\u001b[0m\u001b[0;34m\u001b[0m\u001b[0;34m\u001b[0m\u001b[0m\n\u001b[0m\u001b[1;32m     12\u001b[0m     \u001b[0;32melse\u001b[0m\u001b[0;34m:\u001b[0m\u001b[0;34m\u001b[0m\u001b[0;34m\u001b[0m\u001b[0m\n\u001b[1;32m     13\u001b[0m         \u001b[0;32mtry\u001b[0m\u001b[0;34m:\u001b[0m\u001b[0;34m\u001b[0m\u001b[0;34m\u001b[0m\u001b[0m\n",
      "\u001b[0;32m~/repos/TwoPUtils/TwoPUtils/scanner_tools/sbx_utils.py\u001b[0m in \u001b[0;36mloadmat\u001b[0;34m(filename)\u001b[0m\n\u001b[1;32m     13\u001b[0m     \u001b[0mwhich\u001b[0m \u001b[0mare\u001b[0m \u001b[0mstill\u001b[0m \u001b[0mmat\u001b[0m\u001b[0;34m-\u001b[0m\u001b[0mobjects\u001b[0m\u001b[0;34m\u001b[0m\u001b[0;34m\u001b[0m\u001b[0m\n\u001b[1;32m     14\u001b[0m     '''\n\u001b[0;32m---> 15\u001b[0;31m     \u001b[0mdata\u001b[0m \u001b[0;34m=\u001b[0m \u001b[0mspio\u001b[0m\u001b[0;34m.\u001b[0m\u001b[0mloadmat\u001b[0m\u001b[0;34m(\u001b[0m\u001b[0mfilename\u001b[0m\u001b[0;34m,\u001b[0m \u001b[0mstruct_as_record\u001b[0m\u001b[0;34m=\u001b[0m\u001b[0;32mFalse\u001b[0m\u001b[0;34m,\u001b[0m \u001b[0msqueeze_me\u001b[0m\u001b[0;34m=\u001b[0m\u001b[0;32mTrue\u001b[0m\u001b[0;34m)\u001b[0m\u001b[0;34m\u001b[0m\u001b[0;34m\u001b[0m\u001b[0m\n\u001b[0m\u001b[1;32m     16\u001b[0m     \u001b[0minfo\u001b[0m \u001b[0;34m=\u001b[0m \u001b[0m_check_keys\u001b[0m\u001b[0;34m(\u001b[0m\u001b[0mdata\u001b[0m\u001b[0;34m)\u001b[0m\u001b[0;34m[\u001b[0m\u001b[0;34m'info'\u001b[0m\u001b[0;34m]\u001b[0m\u001b[0;34m\u001b[0m\u001b[0;34m\u001b[0m\u001b[0m\n\u001b[1;32m     17\u001b[0m     \u001b[0;31m# Defining number of channels/size factor\u001b[0m\u001b[0;34m\u001b[0m\u001b[0;34m\u001b[0m\u001b[0;34m\u001b[0m\u001b[0m\n",
      "\u001b[0;32m~/anaconda3/envs/STX3_test/lib/python3.8/site-packages/scipy/io/matlab/mio.py\u001b[0m in \u001b[0;36mloadmat\u001b[0;34m(file_name, mdict, appendmat, **kwargs)\u001b[0m\n\u001b[1;32m    222\u001b[0m     \"\"\"\n\u001b[1;32m    223\u001b[0m     \u001b[0mvariable_names\u001b[0m \u001b[0;34m=\u001b[0m \u001b[0mkwargs\u001b[0m\u001b[0;34m.\u001b[0m\u001b[0mpop\u001b[0m\u001b[0;34m(\u001b[0m\u001b[0;34m'variable_names'\u001b[0m\u001b[0;34m,\u001b[0m \u001b[0;32mNone\u001b[0m\u001b[0;34m)\u001b[0m\u001b[0;34m\u001b[0m\u001b[0;34m\u001b[0m\u001b[0m\n\u001b[0;32m--> 224\u001b[0;31m     \u001b[0;32mwith\u001b[0m \u001b[0m_open_file_context\u001b[0m\u001b[0;34m(\u001b[0m\u001b[0mfile_name\u001b[0m\u001b[0;34m,\u001b[0m \u001b[0mappendmat\u001b[0m\u001b[0;34m)\u001b[0m \u001b[0;32mas\u001b[0m \u001b[0mf\u001b[0m\u001b[0;34m:\u001b[0m\u001b[0;34m\u001b[0m\u001b[0;34m\u001b[0m\u001b[0m\n\u001b[0m\u001b[1;32m    225\u001b[0m         \u001b[0mMR\u001b[0m\u001b[0;34m,\u001b[0m \u001b[0m_\u001b[0m \u001b[0;34m=\u001b[0m \u001b[0mmat_reader_factory\u001b[0m\u001b[0;34m(\u001b[0m\u001b[0mf\u001b[0m\u001b[0;34m,\u001b[0m \u001b[0;34m**\u001b[0m\u001b[0mkwargs\u001b[0m\u001b[0;34m)\u001b[0m\u001b[0;34m\u001b[0m\u001b[0;34m\u001b[0m\u001b[0m\n\u001b[1;32m    226\u001b[0m         \u001b[0mmatfile_dict\u001b[0m \u001b[0;34m=\u001b[0m \u001b[0mMR\u001b[0m\u001b[0;34m.\u001b[0m\u001b[0mget_variables\u001b[0m\u001b[0;34m(\u001b[0m\u001b[0mvariable_names\u001b[0m\u001b[0;34m)\u001b[0m\u001b[0;34m\u001b[0m\u001b[0;34m\u001b[0m\u001b[0m\n",
      "\u001b[0;32m~/anaconda3/envs/STX3_test/lib/python3.8/contextlib.py\u001b[0m in \u001b[0;36m__enter__\u001b[0;34m(self)\u001b[0m\n\u001b[1;32m    111\u001b[0m         \u001b[0;32mdel\u001b[0m \u001b[0mself\u001b[0m\u001b[0;34m.\u001b[0m\u001b[0margs\u001b[0m\u001b[0;34m,\u001b[0m \u001b[0mself\u001b[0m\u001b[0;34m.\u001b[0m\u001b[0mkwds\u001b[0m\u001b[0;34m,\u001b[0m \u001b[0mself\u001b[0m\u001b[0;34m.\u001b[0m\u001b[0mfunc\u001b[0m\u001b[0;34m\u001b[0m\u001b[0;34m\u001b[0m\u001b[0m\n\u001b[1;32m    112\u001b[0m         \u001b[0;32mtry\u001b[0m\u001b[0;34m:\u001b[0m\u001b[0;34m\u001b[0m\u001b[0;34m\u001b[0m\u001b[0m\n\u001b[0;32m--> 113\u001b[0;31m             \u001b[0;32mreturn\u001b[0m \u001b[0mnext\u001b[0m\u001b[0;34m(\u001b[0m\u001b[0mself\u001b[0m\u001b[0;34m.\u001b[0m\u001b[0mgen\u001b[0m\u001b[0;34m)\u001b[0m\u001b[0;34m\u001b[0m\u001b[0;34m\u001b[0m\u001b[0m\n\u001b[0m\u001b[1;32m    114\u001b[0m         \u001b[0;32mexcept\u001b[0m \u001b[0mStopIteration\u001b[0m\u001b[0;34m:\u001b[0m\u001b[0;34m\u001b[0m\u001b[0;34m\u001b[0m\u001b[0m\n\u001b[1;32m    115\u001b[0m             \u001b[0;32mraise\u001b[0m \u001b[0mRuntimeError\u001b[0m\u001b[0;34m(\u001b[0m\u001b[0;34m\"generator didn't yield\"\u001b[0m\u001b[0;34m)\u001b[0m \u001b[0;32mfrom\u001b[0m \u001b[0;32mNone\u001b[0m\u001b[0;34m\u001b[0m\u001b[0;34m\u001b[0m\u001b[0m\n",
      "\u001b[0;32m~/anaconda3/envs/STX3_test/lib/python3.8/site-packages/scipy/io/matlab/mio.py\u001b[0m in \u001b[0;36m_open_file_context\u001b[0;34m(file_like, appendmat, mode)\u001b[0m\n\u001b[1;32m     15\u001b[0m \u001b[0;34m@\u001b[0m\u001b[0mcontextmanager\u001b[0m\u001b[0;34m\u001b[0m\u001b[0;34m\u001b[0m\u001b[0m\n\u001b[1;32m     16\u001b[0m \u001b[0;32mdef\u001b[0m \u001b[0m_open_file_context\u001b[0m\u001b[0;34m(\u001b[0m\u001b[0mfile_like\u001b[0m\u001b[0;34m,\u001b[0m \u001b[0mappendmat\u001b[0m\u001b[0;34m,\u001b[0m \u001b[0mmode\u001b[0m\u001b[0;34m=\u001b[0m\u001b[0;34m'rb'\u001b[0m\u001b[0;34m)\u001b[0m\u001b[0;34m:\u001b[0m\u001b[0;34m\u001b[0m\u001b[0;34m\u001b[0m\u001b[0m\n\u001b[0;32m---> 17\u001b[0;31m     \u001b[0mf\u001b[0m\u001b[0;34m,\u001b[0m \u001b[0mopened\u001b[0m \u001b[0;34m=\u001b[0m \u001b[0m_open_file\u001b[0m\u001b[0;34m(\u001b[0m\u001b[0mfile_like\u001b[0m\u001b[0;34m,\u001b[0m \u001b[0mappendmat\u001b[0m\u001b[0;34m,\u001b[0m \u001b[0mmode\u001b[0m\u001b[0;34m)\u001b[0m\u001b[0;34m\u001b[0m\u001b[0;34m\u001b[0m\u001b[0m\n\u001b[0m\u001b[1;32m     18\u001b[0m     \u001b[0;32mtry\u001b[0m\u001b[0;34m:\u001b[0m\u001b[0;34m\u001b[0m\u001b[0;34m\u001b[0m\u001b[0m\n\u001b[1;32m     19\u001b[0m         \u001b[0;32myield\u001b[0m \u001b[0mf\u001b[0m\u001b[0;34m\u001b[0m\u001b[0;34m\u001b[0m\u001b[0m\n",
      "\u001b[0;32m~/anaconda3/envs/STX3_test/lib/python3.8/site-packages/scipy/io/matlab/mio.py\u001b[0m in \u001b[0;36m_open_file\u001b[0;34m(file_like, appendmat, mode)\u001b[0m\n\u001b[1;32m     43\u001b[0m             \u001b[0;32mif\u001b[0m \u001b[0mappendmat\u001b[0m \u001b[0;32mand\u001b[0m \u001b[0;32mnot\u001b[0m \u001b[0mfile_like\u001b[0m\u001b[0;34m.\u001b[0m\u001b[0mendswith\u001b[0m\u001b[0;34m(\u001b[0m\u001b[0;34m'.mat'\u001b[0m\u001b[0;34m)\u001b[0m\u001b[0;34m:\u001b[0m\u001b[0;34m\u001b[0m\u001b[0;34m\u001b[0m\u001b[0m\n\u001b[1;32m     44\u001b[0m                 \u001b[0mfile_like\u001b[0m \u001b[0;34m+=\u001b[0m \u001b[0;34m'.mat'\u001b[0m\u001b[0;34m\u001b[0m\u001b[0;34m\u001b[0m\u001b[0m\n\u001b[0;32m---> 45\u001b[0;31m             \u001b[0;32mreturn\u001b[0m \u001b[0mopen\u001b[0m\u001b[0;34m(\u001b[0m\u001b[0mfile_like\u001b[0m\u001b[0;34m,\u001b[0m \u001b[0mmode\u001b[0m\u001b[0;34m)\u001b[0m\u001b[0;34m,\u001b[0m \u001b[0;32mTrue\u001b[0m\u001b[0;34m\u001b[0m\u001b[0;34m\u001b[0m\u001b[0m\n\u001b[0m\u001b[1;32m     46\u001b[0m         \u001b[0;32melse\u001b[0m\u001b[0;34m:\u001b[0m\u001b[0;34m\u001b[0m\u001b[0;34m\u001b[0m\u001b[0m\n\u001b[1;32m     47\u001b[0m             raise IOError(\n",
      "\u001b[0;31mFileNotFoundError\u001b[0m: [Errno 2] No such file or directory: '/media/mplitt/Backup Plus2/2P_Data/4467975.1/02_10_2020/YMaze_LNovel/YMaze_LNovel_001_003.mat'"
     ]
    }
   ],
   "source": [
    "KO_failed_sessions = run_all_sessions(stx.ymaze_sess_deets.KO_sessions)"
   ]
  },
  {
   "cell_type": "code",
   "execution_count": 15,
   "id": "approved-resident",
   "metadata": {
    "collapsed": true,
    "jupyter": {
     "outputs_hidden": true
    }
   },
   "outputs": [
    {
     "name": "stderr",
     "output_type": "stream",
     "text": [
      "/home/mplitt/repos/TwoPUtils/TwoPUtils/sess.py:93: UserWarning: skipping checking keys, remaining initialization not guaranteed to work\n",
      "  warnings.warn(\"skipping checking keys, remaining initialization not guaranteed to work\")\n",
      "/home/mplitt/repos/TwoPUtils/TwoPUtils/sess.py:256: UserWarning: Looking for coaligned suite2p sessions is not implemented yet\n",
      "  warnings.warn(\"Looking for coaligned suite2p sessions is not implemented yet\")\n"
     ]
    },
    {
     "name": "stdout",
     "output_type": "stream",
     "text": [
      "Fixing teleports\n",
      "(97861,) (34310,)\n",
      "2219.147296614452 2219.0763011622034\n",
      "174 4674\n",
      "5614 9802\n",
      "10740 14950\n",
      "15888 19974\n",
      "20911 25580\n",
      "26520 34308\n"
     ]
    },
    {
     "name": "stderr",
     "output_type": "stream",
     "text": [
      "/home/mplitt/repos/TwoPUtils/TwoPUtils/spatial_analyses.py:139: RuntimeWarning: Mean of empty slice\n",
      "  SI = spatial_info(np.nanmean(C_trial_mat,axis=0),occ)\n",
      "/home/mplitt/repos/TwoPUtils/TwoPUtils/spatial_analyses.py:150: RuntimeWarning: Mean of empty slice\n",
      "  _SI_perm =  spatial_info(np.nanmean(C_trial_mat,axis=0),occ)\n"
     ]
    },
    {
     "name": "stdout",
     "output_type": "stream",
     "text": [
      "perm 0\n"
     ]
    },
    {
     "name": "stderr",
     "output_type": "stream",
     "text": [
      "/home/mplitt/repos/TwoPUtils/TwoPUtils/spatial_analyses.py:139: RuntimeWarning: Mean of empty slice\n",
      "  SI = spatial_info(np.nanmean(C_trial_mat,axis=0),occ)\n"
     ]
    },
    {
     "name": "stdout",
     "output_type": "stream",
     "text": [
      "perm 0\n"
     ]
    },
    {
     "name": "stderr",
     "output_type": "stream",
     "text": [
      "/home/mplitt/repos/TwoPUtils/TwoPUtils/spatial_analyses.py:150: RuntimeWarning: Mean of empty slice\n",
      "  _SI_perm =  spatial_info(np.nanmean(C_trial_mat,axis=0),occ)\n",
      "/home/mplitt/repos/TwoPUtils/TwoPUtils/sess.py:93: UserWarning: skipping checking keys, remaining initialization not guaranteed to work\n",
      "  warnings.warn(\"skipping checking keys, remaining initialization not guaranteed to work\")\n",
      "/home/mplitt/repos/TwoPUtils/TwoPUtils/sess.py:256: UserWarning: Looking for coaligned suite2p sessions is not implemented yet\n",
      "  warnings.warn(\"Looking for coaligned suite2p sessions is not implemented yet\")\n"
     ]
    },
    {
     "name": "stdout",
     "output_type": "stream",
     "text": [
      "Fixing teleports\n",
      "(85181,) (30330,)\n",
      "1961.7962354724607 1961.6533602829713\n",
      "168 3874\n",
      "4808 8854\n",
      "9790 13245\n",
      "14180 17753\n",
      "18688 22117\n",
      "23051 30329\n"
     ]
    },
    {
     "name": "stderr",
     "output_type": "stream",
     "text": [
      "/home/mplitt/repos/TwoPUtils/TwoPUtils/spatial_analyses.py:139: RuntimeWarning: Mean of empty slice\n",
      "  SI = spatial_info(np.nanmean(C_trial_mat,axis=0),occ)\n",
      "/home/mplitt/repos/TwoPUtils/TwoPUtils/spatial_analyses.py:150: RuntimeWarning: Mean of empty slice\n",
      "  _SI_perm =  spatial_info(np.nanmean(C_trial_mat,axis=0),occ)\n"
     ]
    },
    {
     "name": "stdout",
     "output_type": "stream",
     "text": [
      "perm 0\n"
     ]
    },
    {
     "name": "stderr",
     "output_type": "stream",
     "text": [
      "/home/mplitt/repos/TwoPUtils/TwoPUtils/spatial_analyses.py:139: RuntimeWarning: Mean of empty slice\n",
      "  SI = spatial_info(np.nanmean(C_trial_mat,axis=0),occ)\n"
     ]
    },
    {
     "name": "stdout",
     "output_type": "stream",
     "text": [
      "perm 0\n"
     ]
    },
    {
     "name": "stderr",
     "output_type": "stream",
     "text": [
      "/home/mplitt/repos/TwoPUtils/TwoPUtils/spatial_analyses.py:150: RuntimeWarning: Mean of empty slice\n",
      "  _SI_perm =  spatial_info(np.nanmean(C_trial_mat,axis=0),occ)\n",
      "/home/mplitt/repos/TwoPUtils/TwoPUtils/sess.py:93: UserWarning: skipping checking keys, remaining initialization not guaranteed to work\n",
      "  warnings.warn(\"skipping checking keys, remaining initialization not guaranteed to work\")\n",
      "/home/mplitt/repos/TwoPUtils/TwoPUtils/sess.py:256: UserWarning: Looking for coaligned suite2p sessions is not implemented yet\n",
      "  warnings.warn(\"Looking for coaligned suite2p sessions is not implemented yet\")\n"
     ]
    },
    {
     "name": "stdout",
     "output_type": "stream",
     "text": [
      "Fixing teleports\n",
      "(90977,) (31880,)\n",
      "2062.023749368368 2061.906013137949\n",
      "169 4795\n",
      "5738 9798\n",
      "10738 14812\n",
      "15753 19354\n",
      "20295 23985\n",
      "24927 31879\n"
     ]
    },
    {
     "name": "stderr",
     "output_type": "stream",
     "text": [
      "/home/mplitt/repos/TwoPUtils/TwoPUtils/spatial_analyses.py:139: RuntimeWarning: Mean of empty slice\n",
      "  SI = spatial_info(np.nanmean(C_trial_mat,axis=0),occ)\n",
      "/home/mplitt/repos/TwoPUtils/TwoPUtils/spatial_analyses.py:150: RuntimeWarning: Mean of empty slice\n",
      "  _SI_perm =  spatial_info(np.nanmean(C_trial_mat,axis=0),occ)\n"
     ]
    },
    {
     "name": "stdout",
     "output_type": "stream",
     "text": [
      "perm 0\n"
     ]
    },
    {
     "name": "stderr",
     "output_type": "stream",
     "text": [
      "/home/mplitt/repos/TwoPUtils/TwoPUtils/spatial_analyses.py:139: RuntimeWarning: Mean of empty slice\n",
      "  SI = spatial_info(np.nanmean(C_trial_mat,axis=0),occ)\n"
     ]
    },
    {
     "name": "stdout",
     "output_type": "stream",
     "text": [
      "perm 0\n"
     ]
    },
    {
     "name": "stderr",
     "output_type": "stream",
     "text": [
      "/home/mplitt/repos/TwoPUtils/TwoPUtils/spatial_analyses.py:150: RuntimeWarning: Mean of empty slice\n",
      "  _SI_perm =  spatial_info(np.nanmean(C_trial_mat,axis=0),occ)\n",
      "/home/mplitt/repos/TwoPUtils/TwoPUtils/sess.py:93: UserWarning: skipping checking keys, remaining initialization not guaranteed to work\n",
      "  warnings.warn(\"skipping checking keys, remaining initialization not guaranteed to work\")\n",
      "/home/mplitt/repos/TwoPUtils/TwoPUtils/sess.py:256: UserWarning: Looking for coaligned suite2p sessions is not implemented yet\n",
      "  warnings.warn(\"Looking for coaligned suite2p sessions is not implemented yet\")\n"
     ]
    },
    {
     "name": "stdout",
     "output_type": "stream",
     "text": [
      "Fixing teleports\n",
      "(87666,) (30523,)\n",
      "1974.236862051541 1974.1364325416878\n",
      "184 3925\n",
      "4867 8958\n",
      "9906 13654\n",
      "14607 18744\n",
      "19681 23000\n",
      "23938 30513\n"
     ]
    },
    {
     "name": "stderr",
     "output_type": "stream",
     "text": [
      "/home/mplitt/repos/TwoPUtils/TwoPUtils/spatial_analyses.py:139: RuntimeWarning: Mean of empty slice\n",
      "  SI = spatial_info(np.nanmean(C_trial_mat,axis=0),occ)\n",
      "/home/mplitt/repos/TwoPUtils/TwoPUtils/spatial_analyses.py:150: RuntimeWarning: Mean of empty slice\n",
      "  _SI_perm =  spatial_info(np.nanmean(C_trial_mat,axis=0),occ)\n"
     ]
    },
    {
     "name": "stdout",
     "output_type": "stream",
     "text": [
      "perm 0\n"
     ]
    },
    {
     "name": "stderr",
     "output_type": "stream",
     "text": [
      "/home/mplitt/repos/TwoPUtils/TwoPUtils/spatial_analyses.py:139: RuntimeWarning: Mean of empty slice\n",
      "  SI = spatial_info(np.nanmean(C_trial_mat,axis=0),occ)\n"
     ]
    },
    {
     "name": "stdout",
     "output_type": "stream",
     "text": [
      "perm 0\n"
     ]
    },
    {
     "name": "stderr",
     "output_type": "stream",
     "text": [
      "/home/mplitt/repos/TwoPUtils/TwoPUtils/spatial_analyses.py:150: RuntimeWarning: Mean of empty slice\n",
      "  _SI_perm =  spatial_info(np.nanmean(C_trial_mat,axis=0),occ)\n",
      "/home/mplitt/repos/TwoPUtils/TwoPUtils/sess.py:93: UserWarning: skipping checking keys, remaining initialization not guaranteed to work\n",
      "  warnings.warn(\"skipping checking keys, remaining initialization not guaranteed to work\")\n",
      "/home/mplitt/repos/TwoPUtils/TwoPUtils/sess.py:256: UserWarning: Looking for coaligned suite2p sessions is not implemented yet\n",
      "  warnings.warn(\"Looking for coaligned suite2p sessions is not implemented yet\")\n"
     ]
    },
    {
     "name": "stdout",
     "output_type": "stream",
     "text": [
      "Fixing teleports\n",
      "(99103,) (34327,)\n",
      "2220.2891611925215 2220.175846387064\n",
      "167 3719\n",
      "4660 8678\n",
      "9619 14061\n",
      "14997 19849\n",
      "20786 25064\n",
      "26002 34326\n"
     ]
    },
    {
     "name": "stderr",
     "output_type": "stream",
     "text": [
      "/home/mplitt/repos/TwoPUtils/TwoPUtils/spatial_analyses.py:139: RuntimeWarning: Mean of empty slice\n",
      "  SI = spatial_info(np.nanmean(C_trial_mat,axis=0),occ)\n",
      "/home/mplitt/repos/TwoPUtils/TwoPUtils/spatial_analyses.py:150: RuntimeWarning: Mean of empty slice\n",
      "  _SI_perm =  spatial_info(np.nanmean(C_trial_mat,axis=0),occ)\n"
     ]
    },
    {
     "name": "stdout",
     "output_type": "stream",
     "text": [
      "perm 0\n"
     ]
    },
    {
     "name": "stderr",
     "output_type": "stream",
     "text": [
      "/home/mplitt/repos/TwoPUtils/TwoPUtils/spatial_analyses.py:139: RuntimeWarning: Mean of empty slice\n",
      "  SI = spatial_info(np.nanmean(C_trial_mat,axis=0),occ)\n"
     ]
    },
    {
     "name": "stdout",
     "output_type": "stream",
     "text": [
      "perm 0\n"
     ]
    },
    {
     "name": "stderr",
     "output_type": "stream",
     "text": [
      "/home/mplitt/repos/TwoPUtils/TwoPUtils/spatial_analyses.py:150: RuntimeWarning: Mean of empty slice\n",
      "  _SI_perm =  spatial_info(np.nanmean(C_trial_mat,axis=0),occ)\n",
      "/home/mplitt/repos/TwoPUtils/TwoPUtils/sess.py:93: UserWarning: skipping checking keys, remaining initialization not guaranteed to work\n",
      "  warnings.warn(\"skipping checking keys, remaining initialization not guaranteed to work\")\n",
      "/home/mplitt/repos/TwoPUtils/TwoPUtils/sess.py:256: UserWarning: Looking for coaligned suite2p sessions is not implemented yet\n",
      "  warnings.warn(\"Looking for coaligned suite2p sessions is not implemented yet\")\n"
     ]
    },
    {
     "name": "stdout",
     "output_type": "stream",
     "text": [
      "Fixing teleports\n",
      "(95169,) (33797,)\n",
      "2185.9758716523493 2185.8959070237497\n",
      "168 4434\n",
      "5371 9526\n",
      "10463 14824\n",
      "15763 19658\n",
      "20599 24589\n",
      "25528 33788\n"
     ]
    },
    {
     "name": "stderr",
     "output_type": "stream",
     "text": [
      "/home/mplitt/repos/TwoPUtils/TwoPUtils/spatial_analyses.py:139: RuntimeWarning: Mean of empty slice\n",
      "  SI = spatial_info(np.nanmean(C_trial_mat,axis=0),occ)\n"
     ]
    },
    {
     "name": "stdout",
     "output_type": "stream",
     "text": [
      "perm 0\n"
     ]
    },
    {
     "name": "stderr",
     "output_type": "stream",
     "text": [
      "/home/mplitt/repos/TwoPUtils/TwoPUtils/spatial_analyses.py:150: RuntimeWarning: Mean of empty slice\n",
      "  _SI_perm =  spatial_info(np.nanmean(C_trial_mat,axis=0),occ)\n",
      "/home/mplitt/repos/TwoPUtils/TwoPUtils/spatial_analyses.py:139: RuntimeWarning: Mean of empty slice\n",
      "  SI = spatial_info(np.nanmean(C_trial_mat,axis=0),occ)\n"
     ]
    },
    {
     "name": "stdout",
     "output_type": "stream",
     "text": [
      "perm 0\n"
     ]
    },
    {
     "name": "stderr",
     "output_type": "stream",
     "text": [
      "/home/mplitt/repos/TwoPUtils/TwoPUtils/spatial_analyses.py:150: RuntimeWarning: Mean of empty slice\n",
      "  _SI_perm =  spatial_info(np.nanmean(C_trial_mat,axis=0),occ)\n",
      "/home/mplitt/repos/TwoPUtils/TwoPUtils/sess.py:93: UserWarning: skipping checking keys, remaining initialization not guaranteed to work\n",
      "  warnings.warn(\"skipping checking keys, remaining initialization not guaranteed to work\")\n",
      "/home/mplitt/repos/TwoPUtils/TwoPUtils/sess.py:256: UserWarning: Looking for coaligned suite2p sessions is not implemented yet\n",
      "  warnings.warn(\"Looking for coaligned suite2p sessions is not implemented yet\")\n"
     ]
    },
    {
     "name": "stdout",
     "output_type": "stream",
     "text": [
      "Fixing teleports\n",
      "(25010,) (9340,)\n",
      "604.1639717028802 604.0384032339566\n",
      "slice(0, 9340, None)\n"
     ]
    },
    {
     "name": "stderr",
     "output_type": "stream",
     "text": [
      "/home/mplitt/repos/TwoPUtils/TwoPUtils/preprocessing.py:215: UserWarning: Number of teleports and trial starts don't match\n",
      "  warnings.warn(\"Number of teleports and trial starts don't match\")\n",
      "/home/mplitt/repos/TwoPUtils/TwoPUtils/sess.py:93: UserWarning: skipping checking keys, remaining initialization not guaranteed to work\n",
      "  warnings.warn(\"skipping checking keys, remaining initialization not guaranteed to work\")\n",
      "/home/mplitt/repos/TwoPUtils/TwoPUtils/sess.py:256: UserWarning: Looking for coaligned suite2p sessions is not implemented yet\n",
      "  warnings.warn(\"Looking for coaligned suite2p sessions is not implemented yet\")\n"
     ]
    },
    {
     "name": "stdout",
     "output_type": "stream",
     "text": [
      "Fixing teleports\n",
      "(61423,) (21431,)\n",
      "1386.1687721071248 1386.0737746336536\n",
      "slice(0, 21431, None)\n",
      "189 4145\n",
      "5082 8759\n",
      "9697 13234\n",
      "14168 21430\n"
     ]
    },
    {
     "name": "stderr",
     "output_type": "stream",
     "text": [
      "/home/mplitt/repos/TwoPUtils/TwoPUtils/spatial_analyses.py:139: RuntimeWarning: Mean of empty slice\n",
      "  SI = spatial_info(np.nanmean(C_trial_mat,axis=0),occ)\n",
      "/home/mplitt/repos/TwoPUtils/TwoPUtils/spatial_analyses.py:150: RuntimeWarning: Mean of empty slice\n",
      "  _SI_perm =  spatial_info(np.nanmean(C_trial_mat,axis=0),occ)\n"
     ]
    },
    {
     "name": "stdout",
     "output_type": "stream",
     "text": [
      "perm 0\n"
     ]
    },
    {
     "name": "stderr",
     "output_type": "stream",
     "text": [
      "/home/mplitt/repos/TwoPUtils/TwoPUtils/spatial_analyses.py:139: RuntimeWarning: Mean of empty slice\n",
      "  SI = spatial_info(np.nanmean(C_trial_mat,axis=0),occ)\n",
      "/home/mplitt/repos/TwoPUtils/TwoPUtils/spatial_analyses.py:150: RuntimeWarning: Mean of empty slice\n",
      "  _SI_perm =  spatial_info(np.nanmean(C_trial_mat,axis=0),occ)\n"
     ]
    },
    {
     "name": "stdout",
     "output_type": "stream",
     "text": [
      "perm 0\n",
      "ops max idx 30771, combined sbx max idx 0\n"
     ]
    },
    {
     "name": "stderr",
     "output_type": "stream",
     "text": [
      "/home/mplitt/repos/TwoPUtils/TwoPUtils/sess.py:93: UserWarning: skipping checking keys, remaining initialization not guaranteed to work\n",
      "  warnings.warn(\"skipping checking keys, remaining initialization not guaranteed to work\")\n",
      "/home/mplitt/repos/TwoPUtils/TwoPUtils/sess.py:256: UserWarning: Looking for coaligned suite2p sessions is not implemented yet\n",
      "  warnings.warn(\"Looking for coaligned suite2p sessions is not implemented yet\")\n"
     ]
    },
    {
     "name": "stdout",
     "output_type": "stream",
     "text": [
      "Fixing teleports\n",
      "(90476,) (32127,)\n",
      "2077.9163719050025 2077.881758463871\n"
     ]
    },
    {
     "name": "stderr",
     "output_type": "stream",
     "text": [
      "/home/mplitt/repos/TwoPUtils/TwoPUtils/preprocessing.py:171: UserWarning: one frame correction\n",
      "  warnings.warn('one frame correction')\n"
     ]
    },
    {
     "name": "stdout",
     "output_type": "stream",
     "text": [
      "171 4298\n",
      "5233 9282\n",
      "10216 13987\n",
      "14924 19211\n",
      "20146 24185\n",
      "25120 32124\n"
     ]
    },
    {
     "name": "stderr",
     "output_type": "stream",
     "text": [
      "/home/mplitt/repos/TwoPUtils/TwoPUtils/spatial_analyses.py:139: RuntimeWarning: Mean of empty slice\n",
      "  SI = spatial_info(np.nanmean(C_trial_mat,axis=0),occ)\n",
      "/home/mplitt/repos/TwoPUtils/TwoPUtils/spatial_analyses.py:150: RuntimeWarning: Mean of empty slice\n",
      "  _SI_perm =  spatial_info(np.nanmean(C_trial_mat,axis=0),occ)\n"
     ]
    },
    {
     "name": "stdout",
     "output_type": "stream",
     "text": [
      "perm 0\n"
     ]
    },
    {
     "name": "stderr",
     "output_type": "stream",
     "text": [
      "/home/mplitt/repos/TwoPUtils/TwoPUtils/spatial_analyses.py:139: RuntimeWarning: Mean of empty slice\n",
      "  SI = spatial_info(np.nanmean(C_trial_mat,axis=0),occ)\n",
      "/home/mplitt/repos/TwoPUtils/TwoPUtils/spatial_analyses.py:150: RuntimeWarning: Mean of empty slice\n",
      "  _SI_perm =  spatial_info(np.nanmean(C_trial_mat,axis=0),occ)\n"
     ]
    },
    {
     "name": "stdout",
     "output_type": "stream",
     "text": [
      "perm 0\n"
     ]
    },
    {
     "name": "stderr",
     "output_type": "stream",
     "text": [
      "/home/mplitt/repos/TwoPUtils/TwoPUtils/sess.py:93: UserWarning: skipping checking keys, remaining initialization not guaranteed to work\n",
      "  warnings.warn(\"skipping checking keys, remaining initialization not guaranteed to work\")\n",
      "/home/mplitt/repos/TwoPUtils/TwoPUtils/sess.py:256: UserWarning: Looking for coaligned suite2p sessions is not implemented yet\n",
      "  warnings.warn(\"Looking for coaligned suite2p sessions is not implemented yet\")\n"
     ]
    },
    {
     "name": "stdout",
     "output_type": "stream",
     "text": [
      "Fixing teleports\n",
      "(25751,) (9450,)\n",
      "611.2909297625064 611.1531076301163\n",
      "slice(0, 9450, None)\n",
      "172 4530\n",
      "5467 9449\n"
     ]
    },
    {
     "name": "stderr",
     "output_type": "stream",
     "text": [
      "/home/mplitt/repos/TwoPUtils/TwoPUtils/spatial_analyses.py:139: RuntimeWarning: Mean of empty slice\n",
      "  SI = spatial_info(np.nanmean(C_trial_mat,axis=0),occ)\n",
      "/home/mplitt/repos/TwoPUtils/TwoPUtils/spatial_analyses.py:150: RuntimeWarning: Mean of empty slice\n",
      "  _SI_perm =  spatial_info(np.nanmean(C_trial_mat,axis=0),occ)\n"
     ]
    },
    {
     "name": "stdout",
     "output_type": "stream",
     "text": [
      "perm 0\n"
     ]
    },
    {
     "name": "stderr",
     "output_type": "stream",
     "text": [
      "/home/mplitt/repos/TwoPUtils/TwoPUtils/spatial_analyses.py:139: RuntimeWarning: Mean of empty slice\n",
      "  SI = spatial_info(np.nanmean(C_trial_mat,axis=0),occ)\n",
      "/home/mplitt/repos/TwoPUtils/TwoPUtils/spatial_analyses.py:150: RuntimeWarning: Mean of empty slice\n",
      "  _SI_perm =  spatial_info(np.nanmean(C_trial_mat,axis=0),occ)\n"
     ]
    },
    {
     "name": "stdout",
     "output_type": "stream",
     "text": [
      "perm 0\n"
     ]
    },
    {
     "name": "stderr",
     "output_type": "stream",
     "text": [
      "/home/mplitt/repos/TwoPUtils/TwoPUtils/sess.py:93: UserWarning: skipping checking keys, remaining initialization not guaranteed to work\n",
      "  warnings.warn(\"skipping checking keys, remaining initialization not guaranteed to work\")\n",
      "/home/mplitt/repos/TwoPUtils/TwoPUtils/sess.py:256: UserWarning: Looking for coaligned suite2p sessions is not implemented yet\n",
      "  warnings.warn(\"Looking for coaligned suite2p sessions is not implemented yet\")\n"
     ]
    },
    {
     "name": "stdout",
     "output_type": "stream",
     "text": [
      "Fixing teleports\n",
      "(59250,) (20759,)\n",
      "1342.6901212733703 1342.6093986862052\n",
      "slice(0, 20759, None)\n",
      "171 3980\n",
      "4915 8605\n",
      "9539 13054\n",
      "13990 20758\n"
     ]
    },
    {
     "name": "stderr",
     "output_type": "stream",
     "text": [
      "/home/mplitt/repos/TwoPUtils/TwoPUtils/spatial_analyses.py:139: RuntimeWarning: Mean of empty slice\n",
      "  SI = spatial_info(np.nanmean(C_trial_mat,axis=0),occ)\n",
      "/home/mplitt/repos/TwoPUtils/TwoPUtils/spatial_analyses.py:150: RuntimeWarning: Mean of empty slice\n",
      "  _SI_perm =  spatial_info(np.nanmean(C_trial_mat,axis=0),occ)\n"
     ]
    },
    {
     "name": "stdout",
     "output_type": "stream",
     "text": [
      "perm 0\n"
     ]
    },
    {
     "name": "stderr",
     "output_type": "stream",
     "text": [
      "/home/mplitt/repos/TwoPUtils/TwoPUtils/spatial_analyses.py:139: RuntimeWarning: Mean of empty slice\n",
      "  SI = spatial_info(np.nanmean(C_trial_mat,axis=0),occ)\n",
      "/home/mplitt/repos/TwoPUtils/TwoPUtils/spatial_analyses.py:150: RuntimeWarning: Mean of empty slice\n",
      "  _SI_perm =  spatial_info(np.nanmean(C_trial_mat,axis=0),occ)\n"
     ]
    },
    {
     "name": "stdout",
     "output_type": "stream",
     "text": [
      "perm 0\n",
      "ops max idx 30209, combined sbx max idx 0\n"
     ]
    },
    {
     "name": "stderr",
     "output_type": "stream",
     "text": [
      "/home/mplitt/repos/TwoPUtils/TwoPUtils/sess.py:93: UserWarning: skipping checking keys, remaining initialization not guaranteed to work\n",
      "  warnings.warn(\"skipping checking keys, remaining initialization not guaranteed to work\")\n",
      "/home/mplitt/repos/TwoPUtils/TwoPUtils/sess.py:256: UserWarning: Looking for coaligned suite2p sessions is not implemented yet\n",
      "  warnings.warn(\"Looking for coaligned suite2p sessions is not implemented yet\")\n"
     ]
    },
    {
     "name": "stdout",
     "output_type": "stream",
     "text": [
      "Fixing teleports\n",
      "(88542,) (30682,)\n",
      "1984.5334765032844 1984.4204143506822\n",
      "163 4117\n",
      "5054 9186\n",
      "10129 13755\n",
      "14692 18298\n",
      "19240 22709\n",
      "23644 30680\n"
     ]
    },
    {
     "name": "stderr",
     "output_type": "stream",
     "text": [
      "/home/mplitt/repos/TwoPUtils/TwoPUtils/spatial_analyses.py:139: RuntimeWarning: Mean of empty slice\n",
      "  SI = spatial_info(np.nanmean(C_trial_mat,axis=0),occ)\n"
     ]
    },
    {
     "name": "stdout",
     "output_type": "stream",
     "text": [
      "perm 0\n"
     ]
    },
    {
     "name": "stderr",
     "output_type": "stream",
     "text": [
      "/home/mplitt/repos/TwoPUtils/TwoPUtils/spatial_analyses.py:150: RuntimeWarning: Mean of empty slice\n",
      "  _SI_perm =  spatial_info(np.nanmean(C_trial_mat,axis=0),occ)\n",
      "/home/mplitt/repos/TwoPUtils/TwoPUtils/spatial_analyses.py:139: RuntimeWarning: Mean of empty slice\n",
      "  SI = spatial_info(np.nanmean(C_trial_mat,axis=0),occ)\n",
      "/home/mplitt/repos/TwoPUtils/TwoPUtils/spatial_analyses.py:150: RuntimeWarning: Mean of empty slice\n",
      "  _SI_perm =  spatial_info(np.nanmean(C_trial_mat,axis=0),occ)\n"
     ]
    },
    {
     "name": "stdout",
     "output_type": "stream",
     "text": [
      "perm 0\n"
     ]
    },
    {
     "name": "stderr",
     "output_type": "stream",
     "text": [
      "/home/mplitt/repos/TwoPUtils/TwoPUtils/sess.py:93: UserWarning: skipping checking keys, remaining initialization not guaranteed to work\n",
      "  warnings.warn(\"skipping checking keys, remaining initialization not guaranteed to work\")\n",
      "/home/mplitt/repos/TwoPUtils/TwoPUtils/sess.py:256: UserWarning: Looking for coaligned suite2p sessions is not implemented yet\n",
      "  warnings.warn(\"Looking for coaligned suite2p sessions is not implemented yet\")\n"
     ]
    },
    {
     "name": "stdout",
     "output_type": "stream",
     "text": [
      "Fixing teleports\n",
      "(82095,) (29270,)\n",
      "1893.2323143001518 1893.0934815563417\n",
      "172 3596\n",
      "4531 7986\n",
      "8923 12422\n",
      "13358 16893\n",
      "17830 21333\n",
      "22270 29269\n"
     ]
    },
    {
     "name": "stderr",
     "output_type": "stream",
     "text": [
      "/home/mplitt/repos/TwoPUtils/TwoPUtils/spatial_analyses.py:139: RuntimeWarning: Mean of empty slice\n",
      "  SI = spatial_info(np.nanmean(C_trial_mat,axis=0),occ)\n"
     ]
    },
    {
     "name": "stdout",
     "output_type": "stream",
     "text": [
      "perm 0\n"
     ]
    },
    {
     "name": "stderr",
     "output_type": "stream",
     "text": [
      "/home/mplitt/repos/TwoPUtils/TwoPUtils/spatial_analyses.py:150: RuntimeWarning: Mean of empty slice\n",
      "  _SI_perm =  spatial_info(np.nanmean(C_trial_mat,axis=0),occ)\n",
      "/home/mplitt/repos/TwoPUtils/TwoPUtils/spatial_analyses.py:139: RuntimeWarning: Mean of empty slice\n",
      "  SI = spatial_info(np.nanmean(C_trial_mat,axis=0),occ)\n",
      "/home/mplitt/repos/TwoPUtils/TwoPUtils/spatial_analyses.py:150: RuntimeWarning: Mean of empty slice\n",
      "  _SI_perm =  spatial_info(np.nanmean(C_trial_mat,axis=0),occ)\n"
     ]
    },
    {
     "name": "stdout",
     "output_type": "stream",
     "text": [
      "perm 0\n"
     ]
    },
    {
     "name": "stderr",
     "output_type": "stream",
     "text": [
      "/home/mplitt/repos/TwoPUtils/TwoPUtils/sess.py:93: UserWarning: skipping checking keys, remaining initialization not guaranteed to work\n",
      "  warnings.warn(\"skipping checking keys, remaining initialization not guaranteed to work\")\n",
      "/home/mplitt/repos/TwoPUtils/TwoPUtils/sess.py:256: UserWarning: Looking for coaligned suite2p sessions is not implemented yet\n",
      "  warnings.warn(\"Looking for coaligned suite2p sessions is not implemented yet\")\n"
     ]
    },
    {
     "name": "stdout",
     "output_type": "stream",
     "text": [
      "Fixing teleports\n",
      "(81729,) (28582,)\n",
      "1848.6839312784234 1848.5942395149066\n",
      "162 4208\n",
      "5143 8766\n",
      "9702 13069\n",
      "14006 17229\n",
      "18163 21593\n",
      "22527 28580\n"
     ]
    },
    {
     "name": "stderr",
     "output_type": "stream",
     "text": [
      "/home/mplitt/repos/TwoPUtils/TwoPUtils/spatial_analyses.py:139: RuntimeWarning: Mean of empty slice\n",
      "  SI = spatial_info(np.nanmean(C_trial_mat,axis=0),occ)\n"
     ]
    },
    {
     "name": "stdout",
     "output_type": "stream",
     "text": [
      "perm 0\n"
     ]
    },
    {
     "name": "stderr",
     "output_type": "stream",
     "text": [
      "/home/mplitt/repos/TwoPUtils/TwoPUtils/spatial_analyses.py:150: RuntimeWarning: Mean of empty slice\n",
      "  _SI_perm =  spatial_info(np.nanmean(C_trial_mat,axis=0),occ)\n",
      "/home/mplitt/repos/TwoPUtils/TwoPUtils/spatial_analyses.py:139: RuntimeWarning: Mean of empty slice\n",
      "  SI = spatial_info(np.nanmean(C_trial_mat,axis=0),occ)\n",
      "/home/mplitt/repos/TwoPUtils/TwoPUtils/spatial_analyses.py:150: RuntimeWarning: Mean of empty slice\n",
      "  _SI_perm =  spatial_info(np.nanmean(C_trial_mat,axis=0),occ)\n"
     ]
    },
    {
     "name": "stdout",
     "output_type": "stream",
     "text": [
      "perm 0\n"
     ]
    },
    {
     "name": "stderr",
     "output_type": "stream",
     "text": [
      "/home/mplitt/repos/TwoPUtils/TwoPUtils/sess.py:93: UserWarning: skipping checking keys, remaining initialization not guaranteed to work\n",
      "  warnings.warn(\"skipping checking keys, remaining initialization not guaranteed to work\")\n",
      "/home/mplitt/repos/TwoPUtils/TwoPUtils/sess.py:256: UserWarning: Looking for coaligned suite2p sessions is not implemented yet\n",
      "  warnings.warn(\"Looking for coaligned suite2p sessions is not implemented yet\")\n"
     ]
    },
    {
     "name": "stdout",
     "output_type": "stream",
     "text": [
      "Fixing teleports\n",
      "(9606,) (3633,)\n",
      "235.00618999494694 234.91460333501772\n",
      "slice(0, 3633, None)\n",
      "163 3616\n"
     ]
    },
    {
     "name": "stderr",
     "output_type": "stream",
     "text": [
      "/home/mplitt/repos/TwoPUtils/TwoPUtils/spatial_analyses.py:139: RuntimeWarning: Mean of empty slice\n",
      "  SI = spatial_info(np.nanmean(C_trial_mat,axis=0),occ)\n",
      "/home/mplitt/repos/TwoPUtils/TwoPUtils/spatial_analyses.py:150: RuntimeWarning: Mean of empty slice\n",
      "  _SI_perm =  spatial_info(np.nanmean(C_trial_mat,axis=0),occ)\n"
     ]
    },
    {
     "name": "stdout",
     "output_type": "stream",
     "text": [
      "perm 0\n",
      "perm 0\n"
     ]
    },
    {
     "name": "stderr",
     "output_type": "stream",
     "text": [
      "/home/mplitt/repos/TwoPUtils/TwoPUtils/sess.py:93: UserWarning: skipping checking keys, remaining initialization not guaranteed to work\n",
      "  warnings.warn(\"skipping checking keys, remaining initialization not guaranteed to work\")\n",
      "/home/mplitt/repos/TwoPUtils/TwoPUtils/sess.py:256: UserWarning: Looking for coaligned suite2p sessions is not implemented yet\n",
      "  warnings.warn(\"Looking for coaligned suite2p sessions is not implemented yet\")\n"
     ]
    },
    {
     "name": "stdout",
     "output_type": "stream",
     "text": [
      "Fixing teleports\n",
      "(67654,) (23862,)\n",
      "1543.4153612935827 1543.3087417887823\n",
      "slice(0, 23862, None)\n",
      "163 3167\n",
      "4106 7480\n",
      "8413 12188\n",
      "13122 16729\n",
      "17664 23860\n"
     ]
    },
    {
     "name": "stderr",
     "output_type": "stream",
     "text": [
      "/home/mplitt/repos/TwoPUtils/TwoPUtils/spatial_analyses.py:139: RuntimeWarning: Mean of empty slice\n",
      "  SI = spatial_info(np.nanmean(C_trial_mat,axis=0),occ)\n"
     ]
    },
    {
     "name": "stdout",
     "output_type": "stream",
     "text": [
      "perm 0\n"
     ]
    },
    {
     "name": "stderr",
     "output_type": "stream",
     "text": [
      "/home/mplitt/repos/TwoPUtils/TwoPUtils/spatial_analyses.py:150: RuntimeWarning: Mean of empty slice\n",
      "  _SI_perm =  spatial_info(np.nanmean(C_trial_mat,axis=0),occ)\n",
      "/home/mplitt/repos/TwoPUtils/TwoPUtils/spatial_analyses.py:139: RuntimeWarning: Mean of empty slice\n",
      "  SI = spatial_info(np.nanmean(C_trial_mat,axis=0),occ)\n",
      "/home/mplitt/repos/TwoPUtils/TwoPUtils/spatial_analyses.py:150: RuntimeWarning: Mean of empty slice\n",
      "  _SI_perm =  spatial_info(np.nanmean(C_trial_mat,axis=0),occ)\n"
     ]
    },
    {
     "name": "stdout",
     "output_type": "stream",
     "text": [
      "perm 0\n",
      "ops max idx 27495, combined sbx max idx 0\n"
     ]
    },
    {
     "name": "stderr",
     "output_type": "stream",
     "text": [
      "/home/mplitt/repos/TwoPUtils/TwoPUtils/sess.py:93: UserWarning: skipping checking keys, remaining initialization not guaranteed to work\n",
      "  warnings.warn(\"skipping checking keys, remaining initialization not guaranteed to work\")\n",
      "/home/mplitt/repos/TwoPUtils/TwoPUtils/sess.py:256: UserWarning: Looking for coaligned suite2p sessions is not implemented yet\n",
      "  warnings.warn(\"Looking for coaligned suite2p sessions is not implemented yet\")\n"
     ]
    },
    {
     "name": "stdout",
     "output_type": "stream",
     "text": [
      "Fixing teleports\n",
      "(99249,) (35167,)\n",
      "2274.595755432036 2274.5063163213745\n",
      "162 4658\n",
      "5592 9951\n",
      "10889 14885\n",
      "15820 19817\n",
      "20751 25070\n",
      "26006 35166\n"
     ]
    },
    {
     "name": "stderr",
     "output_type": "stream",
     "text": [
      "/home/mplitt/repos/TwoPUtils/TwoPUtils/spatial_analyses.py:139: RuntimeWarning: Mean of empty slice\n",
      "  SI = spatial_info(np.nanmean(C_trial_mat,axis=0),occ)\n"
     ]
    },
    {
     "name": "stdout",
     "output_type": "stream",
     "text": [
      "perm 0\n"
     ]
    },
    {
     "name": "stderr",
     "output_type": "stream",
     "text": [
      "/home/mplitt/repos/TwoPUtils/TwoPUtils/spatial_analyses.py:150: RuntimeWarning: Mean of empty slice\n",
      "  _SI_perm =  spatial_info(np.nanmean(C_trial_mat,axis=0),occ)\n",
      "/home/mplitt/repos/TwoPUtils/TwoPUtils/spatial_analyses.py:139: RuntimeWarning: Mean of empty slice\n",
      "  SI = spatial_info(np.nanmean(C_trial_mat,axis=0),occ)\n",
      "/home/mplitt/repos/TwoPUtils/TwoPUtils/spatial_analyses.py:150: RuntimeWarning: Mean of empty slice\n",
      "  _SI_perm =  spatial_info(np.nanmean(C_trial_mat,axis=0),occ)\n"
     ]
    },
    {
     "name": "stdout",
     "output_type": "stream",
     "text": [
      "perm 0\n"
     ]
    },
    {
     "name": "stderr",
     "output_type": "stream",
     "text": [
      "/home/mplitt/repos/TwoPUtils/TwoPUtils/sess.py:93: UserWarning: skipping checking keys, remaining initialization not guaranteed to work\n",
      "  warnings.warn(\"skipping checking keys, remaining initialization not guaranteed to work\")\n",
      "/home/mplitt/repos/TwoPUtils/TwoPUtils/sess.py:256: UserWarning: Looking for coaligned suite2p sessions is not implemented yet\n",
      "  warnings.warn(\"Looking for coaligned suite2p sessions is not implemented yet\")\n"
     ]
    },
    {
     "name": "stdout",
     "output_type": "stream",
     "text": [
      "Fixing teleports\n",
      "(76509,) (26724,)\n",
      "1728.5203385548257 1728.4204143506822\n",
      "160 3555\n",
      "4489 7480\n",
      "8414 11705\n",
      "12639 15621\n",
      "16555 19549\n",
      "20482 26723\n"
     ]
    },
    {
     "name": "stderr",
     "output_type": "stream",
     "text": [
      "/home/mplitt/repos/TwoPUtils/TwoPUtils/spatial_analyses.py:139: RuntimeWarning: Mean of empty slice\n",
      "  SI = spatial_info(np.nanmean(C_trial_mat,axis=0),occ)\n",
      "/home/mplitt/repos/TwoPUtils/TwoPUtils/spatial_analyses.py:150: RuntimeWarning: Mean of empty slice\n",
      "  _SI_perm =  spatial_info(np.nanmean(C_trial_mat,axis=0),occ)\n"
     ]
    },
    {
     "name": "stdout",
     "output_type": "stream",
     "text": [
      "perm 0\n"
     ]
    },
    {
     "name": "stderr",
     "output_type": "stream",
     "text": [
      "/home/mplitt/repos/TwoPUtils/TwoPUtils/spatial_analyses.py:139: RuntimeWarning: Mean of empty slice\n",
      "  SI = spatial_info(np.nanmean(C_trial_mat,axis=0),occ)\n",
      "/home/mplitt/repos/TwoPUtils/TwoPUtils/spatial_analyses.py:150: RuntimeWarning: Mean of empty slice\n",
      "  _SI_perm =  spatial_info(np.nanmean(C_trial_mat,axis=0),occ)\n"
     ]
    },
    {
     "name": "stdout",
     "output_type": "stream",
     "text": [
      "perm 0\n"
     ]
    },
    {
     "name": "stderr",
     "output_type": "stream",
     "text": [
      "/home/mplitt/repos/TwoPUtils/TwoPUtils/sess.py:93: UserWarning: skipping checking keys, remaining initialization not guaranteed to work\n",
      "  warnings.warn(\"skipping checking keys, remaining initialization not guaranteed to work\")\n",
      "/home/mplitt/repos/TwoPUtils/TwoPUtils/sess.py:256: UserWarning: Looking for coaligned suite2p sessions is not implemented yet\n",
      "  warnings.warn(\"Looking for coaligned suite2p sessions is not implemented yet\")\n"
     ]
    },
    {
     "name": "stdout",
     "output_type": "stream",
     "text": [
      "Fixing teleports\n",
      "(22131,) (7436,)\n",
      "481.03082364830726 480.88933804952\n",
      "slice(0, 7436, None)\n"
     ]
    },
    {
     "name": "stderr",
     "output_type": "stream",
     "text": [
      "/home/mplitt/repos/TwoPUtils/TwoPUtils/preprocessing.py:215: UserWarning: Number of teleports and trial starts don't match\n",
      "  warnings.warn(\"Number of teleports and trial starts don't match\")\n",
      "/home/mplitt/repos/TwoPUtils/TwoPUtils/sess.py:93: UserWarning: skipping checking keys, remaining initialization not guaranteed to work\n",
      "  warnings.warn(\"skipping checking keys, remaining initialization not guaranteed to work\")\n",
      "/home/mplitt/repos/TwoPUtils/TwoPUtils/sess.py:256: UserWarning: Looking for coaligned suite2p sessions is not implemented yet\n",
      "  warnings.warn(\"Looking for coaligned suite2p sessions is not implemented yet\")\n"
     ]
    },
    {
     "name": "stdout",
     "output_type": "stream",
     "text": [
      "Fixing teleports\n",
      "(55906,) (20335,)\n",
      "1315.266043456291 1315.1854471955535\n",
      "slice(0, 20335, None)\n",
      "167 3755\n",
      "4689 8439\n",
      "9373 12711\n",
      "13644 20334\n"
     ]
    },
    {
     "name": "stderr",
     "output_type": "stream",
     "text": [
      "/home/mplitt/repos/TwoPUtils/TwoPUtils/spatial_analyses.py:139: RuntimeWarning: Mean of empty slice\n",
      "  SI = spatial_info(np.nanmean(C_trial_mat,axis=0),occ)\n",
      "/home/mplitt/repos/TwoPUtils/TwoPUtils/spatial_analyses.py:150: RuntimeWarning: Mean of empty slice\n",
      "  _SI_perm =  spatial_info(np.nanmean(C_trial_mat,axis=0),occ)\n"
     ]
    },
    {
     "name": "stdout",
     "output_type": "stream",
     "text": [
      "perm 0\n"
     ]
    },
    {
     "name": "stderr",
     "output_type": "stream",
     "text": [
      "/home/mplitt/repos/TwoPUtils/TwoPUtils/spatial_analyses.py:139: RuntimeWarning: Mean of empty slice\n",
      "  SI = spatial_info(np.nanmean(C_trial_mat,axis=0),occ)\n",
      "/home/mplitt/repos/TwoPUtils/TwoPUtils/spatial_analyses.py:150: RuntimeWarning: Mean of empty slice\n",
      "  _SI_perm =  spatial_info(np.nanmean(C_trial_mat,axis=0),occ)\n"
     ]
    },
    {
     "name": "stdout",
     "output_type": "stream",
     "text": [
      "perm 0\n",
      "ops max idx 27771, combined sbx max idx 0\n"
     ]
    },
    {
     "name": "stderr",
     "output_type": "stream",
     "text": [
      "/home/mplitt/repos/TwoPUtils/TwoPUtils/sess.py:93: UserWarning: skipping checking keys, remaining initialization not guaranteed to work\n",
      "  warnings.warn(\"skipping checking keys, remaining initialization not guaranteed to work\")\n",
      "/home/mplitt/repos/TwoPUtils/TwoPUtils/sess.py:256: UserWarning: Looking for coaligned suite2p sessions is not implemented yet\n",
      "  warnings.warn(\"Looking for coaligned suite2p sessions is not implemented yet\")\n"
     ]
    },
    {
     "name": "stdout",
     "output_type": "stream",
     "text": [
      "Fixing teleports\n",
      "(82848,) (29375,)\n",
      "1900.0075795856492 1899.8847902981306\n",
      "161 3472\n",
      "4406 7620\n",
      "8554 11968\n",
      "12902 16414\n",
      "17348 20967\n",
      "21901 29374\n"
     ]
    },
    {
     "name": "stderr",
     "output_type": "stream",
     "text": [
      "/home/mplitt/repos/TwoPUtils/TwoPUtils/spatial_analyses.py:139: RuntimeWarning: Mean of empty slice\n",
      "  SI = spatial_info(np.nanmean(C_trial_mat,axis=0),occ)\n",
      "/home/mplitt/repos/TwoPUtils/TwoPUtils/spatial_analyses.py:150: RuntimeWarning: Mean of empty slice\n",
      "  _SI_perm =  spatial_info(np.nanmean(C_trial_mat,axis=0),occ)\n"
     ]
    },
    {
     "name": "stdout",
     "output_type": "stream",
     "text": [
      "perm 0\n"
     ]
    },
    {
     "name": "stderr",
     "output_type": "stream",
     "text": [
      "/home/mplitt/repos/TwoPUtils/TwoPUtils/spatial_analyses.py:139: RuntimeWarning: Mean of empty slice\n",
      "  SI = spatial_info(np.nanmean(C_trial_mat,axis=0),occ)\n",
      "/home/mplitt/repos/TwoPUtils/TwoPUtils/spatial_analyses.py:150: RuntimeWarning: Mean of empty slice\n",
      "  _SI_perm =  spatial_info(np.nanmean(C_trial_mat,axis=0),occ)\n"
     ]
    },
    {
     "name": "stdout",
     "output_type": "stream",
     "text": [
      "perm 0\n"
     ]
    },
    {
     "name": "stderr",
     "output_type": "stream",
     "text": [
      "/home/mplitt/repos/TwoPUtils/TwoPUtils/sess.py:93: UserWarning: skipping checking keys, remaining initialization not guaranteed to work\n",
      "  warnings.warn(\"skipping checking keys, remaining initialization not guaranteed to work\")\n",
      "/home/mplitt/repos/TwoPUtils/TwoPUtils/sess.py:256: UserWarning: Looking for coaligned suite2p sessions is not implemented yet\n",
      "  warnings.warn(\"Looking for coaligned suite2p sessions is not implemented yet\")\n"
     ]
    },
    {
     "name": "stdout",
     "output_type": "stream",
     "text": [
      "Fixing teleports\n",
      "(21835,) (8395,)\n",
      "543.0042950985346 542.9166245578575\n",
      "slice(0, 8395, None)\n",
      "168 3823\n",
      "4758 8394\n"
     ]
    },
    {
     "name": "stderr",
     "output_type": "stream",
     "text": [
      "/home/mplitt/repos/TwoPUtils/TwoPUtils/spatial_analyses.py:139: RuntimeWarning: Mean of empty slice\n",
      "  SI = spatial_info(np.nanmean(C_trial_mat,axis=0),occ)\n",
      "/home/mplitt/repos/TwoPUtils/TwoPUtils/spatial_analyses.py:150: RuntimeWarning: Mean of empty slice\n",
      "  _SI_perm =  spatial_info(np.nanmean(C_trial_mat,axis=0),occ)\n"
     ]
    },
    {
     "name": "stdout",
     "output_type": "stream",
     "text": [
      "perm 0\n"
     ]
    },
    {
     "name": "stderr",
     "output_type": "stream",
     "text": [
      "/home/mplitt/repos/TwoPUtils/TwoPUtils/spatial_analyses.py:139: RuntimeWarning: Mean of empty slice\n",
      "  SI = spatial_info(np.nanmean(C_trial_mat,axis=0),occ)\n",
      "/home/mplitt/repos/TwoPUtils/TwoPUtils/spatial_analyses.py:150: RuntimeWarning: Mean of empty slice\n",
      "  _SI_perm =  spatial_info(np.nanmean(C_trial_mat,axis=0),occ)\n"
     ]
    },
    {
     "name": "stdout",
     "output_type": "stream",
     "text": [
      "perm 0\n"
     ]
    },
    {
     "name": "stderr",
     "output_type": "stream",
     "text": [
      "/home/mplitt/repos/TwoPUtils/TwoPUtils/sess.py:93: UserWarning: skipping checking keys, remaining initialization not guaranteed to work\n",
      "  warnings.warn(\"skipping checking keys, remaining initialization not guaranteed to work\")\n",
      "/home/mplitt/repos/TwoPUtils/TwoPUtils/sess.py:256: UserWarning: Looking for coaligned suite2p sessions is not implemented yet\n",
      "  warnings.warn(\"Looking for coaligned suite2p sessions is not implemented yet\")\n"
     ]
    },
    {
     "name": "stdout",
     "output_type": "stream",
     "text": [
      "Fixing teleports\n",
      "(56993,) (20082,)\n",
      "1298.9341839312783 1298.8216270843861\n",
      "slice(0, 20082, None)\n",
      "165 3575\n",
      "4509 7988\n",
      "8923 12572\n",
      "13506 20065\n"
     ]
    },
    {
     "name": "stderr",
     "output_type": "stream",
     "text": [
      "/home/mplitt/repos/TwoPUtils/TwoPUtils/spatial_analyses.py:139: RuntimeWarning: Mean of empty slice\n",
      "  SI = spatial_info(np.nanmean(C_trial_mat,axis=0),occ)\n",
      "/home/mplitt/repos/TwoPUtils/TwoPUtils/spatial_analyses.py:150: RuntimeWarning: Mean of empty slice\n",
      "  _SI_perm =  spatial_info(np.nanmean(C_trial_mat,axis=0),occ)\n"
     ]
    },
    {
     "name": "stdout",
     "output_type": "stream",
     "text": [
      "perm 0\n"
     ]
    },
    {
     "name": "stderr",
     "output_type": "stream",
     "text": [
      "/home/mplitt/repos/TwoPUtils/TwoPUtils/spatial_analyses.py:139: RuntimeWarning: Mean of empty slice\n",
      "  SI = spatial_info(np.nanmean(C_trial_mat,axis=0),occ)\n",
      "/home/mplitt/repos/TwoPUtils/TwoPUtils/spatial_analyses.py:150: RuntimeWarning: Mean of empty slice\n",
      "  _SI_perm =  spatial_info(np.nanmean(C_trial_mat,axis=0),occ)\n"
     ]
    },
    {
     "name": "stdout",
     "output_type": "stream",
     "text": [
      "perm 0\n",
      "ops max idx 28477, combined sbx max idx 0\n"
     ]
    },
    {
     "name": "stderr",
     "output_type": "stream",
     "text": [
      "/home/mplitt/repos/TwoPUtils/TwoPUtils/sess.py:93: UserWarning: skipping checking keys, remaining initialization not guaranteed to work\n",
      "  warnings.warn(\"skipping checking keys, remaining initialization not guaranteed to work\")\n",
      "/home/mplitt/repos/TwoPUtils/TwoPUtils/sess.py:256: UserWarning: Looking for coaligned suite2p sessions is not implemented yet\n",
      "  warnings.warn(\"Looking for coaligned suite2p sessions is not implemented yet\")\n"
     ]
    },
    {
     "name": "stdout",
     "output_type": "stream",
     "text": [
      "Fixing teleports\n",
      "(98606,) (34154,)\n",
      "2209.131884790298 2208.9863567458315\n",
      "175 4192\n",
      "5128 8947\n",
      "9887 14440\n",
      "15377 19821\n",
      "20764 25481\n",
      "26419 34153\n"
     ]
    },
    {
     "name": "stderr",
     "output_type": "stream",
     "text": [
      "/home/mplitt/repos/TwoPUtils/TwoPUtils/spatial_analyses.py:139: RuntimeWarning: Mean of empty slice\n",
      "  SI = spatial_info(np.nanmean(C_trial_mat,axis=0),occ)\n",
      "/home/mplitt/repos/TwoPUtils/TwoPUtils/spatial_analyses.py:150: RuntimeWarning: Mean of empty slice\n",
      "  _SI_perm =  spatial_info(np.nanmean(C_trial_mat,axis=0),occ)\n"
     ]
    },
    {
     "name": "stdout",
     "output_type": "stream",
     "text": [
      "perm 0\n"
     ]
    },
    {
     "name": "stderr",
     "output_type": "stream",
     "text": [
      "/home/mplitt/repos/TwoPUtils/TwoPUtils/spatial_analyses.py:139: RuntimeWarning: Mean of empty slice\n",
      "  SI = spatial_info(np.nanmean(C_trial_mat,axis=0),occ)\n"
     ]
    },
    {
     "name": "stdout",
     "output_type": "stream",
     "text": [
      "perm 0\n"
     ]
    },
    {
     "name": "stderr",
     "output_type": "stream",
     "text": [
      "/home/mplitt/repos/TwoPUtils/TwoPUtils/spatial_analyses.py:150: RuntimeWarning: Mean of empty slice\n",
      "  _SI_perm =  spatial_info(np.nanmean(C_trial_mat,axis=0),occ)\n",
      "/home/mplitt/repos/TwoPUtils/TwoPUtils/sess.py:93: UserWarning: skipping checking keys, remaining initialization not guaranteed to work\n",
      "  warnings.warn(\"skipping checking keys, remaining initialization not guaranteed to work\")\n",
      "/home/mplitt/repos/TwoPUtils/TwoPUtils/sess.py:256: UserWarning: Looking for coaligned suite2p sessions is not implemented yet\n",
      "  warnings.warn(\"Looking for coaligned suite2p sessions is not implemented yet\")\n"
     ]
    },
    {
     "name": "stdout",
     "output_type": "stream",
     "text": [
      "Fixing teleports\n",
      "(108404,) (37689,)\n",
      "2437.7573269327945 2437.627084386054\n",
      "176 4723\n",
      "5663 10347\n",
      "11285 16018\n",
      "16957 21819\n",
      "22762 27395\n",
      "28342 37687\n"
     ]
    },
    {
     "name": "stderr",
     "output_type": "stream",
     "text": [
      "/home/mplitt/repos/TwoPUtils/TwoPUtils/spatial_analyses.py:139: RuntimeWarning: Mean of empty slice\n",
      "  SI = spatial_info(np.nanmean(C_trial_mat,axis=0),occ)\n",
      "/home/mplitt/repos/TwoPUtils/TwoPUtils/spatial_analyses.py:150: RuntimeWarning: Mean of empty slice\n",
      "  _SI_perm =  spatial_info(np.nanmean(C_trial_mat,axis=0),occ)\n"
     ]
    },
    {
     "name": "stdout",
     "output_type": "stream",
     "text": [
      "perm 0\n"
     ]
    },
    {
     "name": "stderr",
     "output_type": "stream",
     "text": [
      "/home/mplitt/repos/TwoPUtils/TwoPUtils/spatial_analyses.py:139: RuntimeWarning: Mean of empty slice\n",
      "  SI = spatial_info(np.nanmean(C_trial_mat,axis=0),occ)\n"
     ]
    },
    {
     "name": "stdout",
     "output_type": "stream",
     "text": [
      "perm 0\n"
     ]
    },
    {
     "name": "stderr",
     "output_type": "stream",
     "text": [
      "/home/mplitt/repos/TwoPUtils/TwoPUtils/spatial_analyses.py:150: RuntimeWarning: Mean of empty slice\n",
      "  _SI_perm =  spatial_info(np.nanmean(C_trial_mat,axis=0),occ)\n",
      "/home/mplitt/repos/TwoPUtils/TwoPUtils/sess.py:93: UserWarning: skipping checking keys, remaining initialization not guaranteed to work\n",
      "  warnings.warn(\"skipping checking keys, remaining initialization not guaranteed to work\")\n",
      "/home/mplitt/repos/TwoPUtils/TwoPUtils/sess.py:256: UserWarning: Looking for coaligned suite2p sessions is not implemented yet\n",
      "  warnings.warn(\"Looking for coaligned suite2p sessions is not implemented yet\")\n"
     ]
    },
    {
     "name": "stdout",
     "output_type": "stream",
     "text": [
      "Fixing teleports\n",
      "(102312,) (35533,)\n",
      "2298.2886558868113 2298.178878221324\n",
      "187 4636\n",
      "5570 9804\n",
      "10742 14792\n",
      "15728 19850\n",
      "20796 25431\n",
      "26367 35523\n"
     ]
    },
    {
     "name": "stderr",
     "output_type": "stream",
     "text": [
      "/home/mplitt/repos/TwoPUtils/TwoPUtils/spatial_analyses.py:139: RuntimeWarning: Mean of empty slice\n",
      "  SI = spatial_info(np.nanmean(C_trial_mat,axis=0),occ)\n",
      "/home/mplitt/repos/TwoPUtils/TwoPUtils/spatial_analyses.py:150: RuntimeWarning: Mean of empty slice\n",
      "  _SI_perm =  spatial_info(np.nanmean(C_trial_mat,axis=0),occ)\n"
     ]
    },
    {
     "name": "stdout",
     "output_type": "stream",
     "text": [
      "perm 0\n"
     ]
    },
    {
     "name": "stderr",
     "output_type": "stream",
     "text": [
      "/home/mplitt/repos/TwoPUtils/TwoPUtils/spatial_analyses.py:139: RuntimeWarning: Mean of empty slice\n",
      "  SI = spatial_info(np.nanmean(C_trial_mat,axis=0),occ)\n"
     ]
    },
    {
     "name": "stdout",
     "output_type": "stream",
     "text": [
      "perm 0\n"
     ]
    },
    {
     "name": "stderr",
     "output_type": "stream",
     "text": [
      "/home/mplitt/repos/TwoPUtils/TwoPUtils/spatial_analyses.py:150: RuntimeWarning: Mean of empty slice\n",
      "  _SI_perm =  spatial_info(np.nanmean(C_trial_mat,axis=0),occ)\n",
      "/home/mplitt/repos/TwoPUtils/TwoPUtils/sess.py:93: UserWarning: skipping checking keys, remaining initialization not guaranteed to work\n",
      "  warnings.warn(\"skipping checking keys, remaining initialization not guaranteed to work\")\n",
      "/home/mplitt/repos/TwoPUtils/TwoPUtils/sess.py:256: UserWarning: Looking for coaligned suite2p sessions is not implemented yet\n",
      "  warnings.warn(\"Looking for coaligned suite2p sessions is not implemented yet\")\n"
     ]
    },
    {
     "name": "stdout",
     "output_type": "stream",
     "text": [
      "Fixing teleports\n",
      "(104817,) (32240,)\n",
      "2085.256568974229 2085.1905002526532\n"
     ]
    },
    {
     "name": "stderr",
     "output_type": "stream",
     "text": [
      "/home/mplitt/repos/TwoPUtils/TwoPUtils/preprocessing.py:171: UserWarning: one frame correction\n",
      "  warnings.warn('one frame correction')\n"
     ]
    },
    {
     "name": "stdout",
     "output_type": "stream",
     "text": [
      "176 4407\n",
      "5349 9163\n",
      "10099 14043\n",
      "14981 18563\n",
      "19498 23514\n",
      "24450 32237\n"
     ]
    },
    {
     "name": "stderr",
     "output_type": "stream",
     "text": [
      "/home/mplitt/repos/TwoPUtils/TwoPUtils/spatial_analyses.py:139: RuntimeWarning: Mean of empty slice\n",
      "  SI = spatial_info(np.nanmean(C_trial_mat,axis=0),occ)\n",
      "/home/mplitt/repos/TwoPUtils/TwoPUtils/spatial_analyses.py:150: RuntimeWarning: Mean of empty slice\n",
      "  _SI_perm =  spatial_info(np.nanmean(C_trial_mat,axis=0),occ)\n"
     ]
    },
    {
     "name": "stdout",
     "output_type": "stream",
     "text": [
      "perm 0\n"
     ]
    },
    {
     "name": "stderr",
     "output_type": "stream",
     "text": [
      "/home/mplitt/repos/TwoPUtils/TwoPUtils/spatial_analyses.py:139: RuntimeWarning: Mean of empty slice\n",
      "  SI = spatial_info(np.nanmean(C_trial_mat,axis=0),occ)\n"
     ]
    },
    {
     "name": "stdout",
     "output_type": "stream",
     "text": [
      "perm 0\n"
     ]
    },
    {
     "name": "stderr",
     "output_type": "stream",
     "text": [
      "/home/mplitt/repos/TwoPUtils/TwoPUtils/spatial_analyses.py:150: RuntimeWarning: Mean of empty slice\n",
      "  _SI_perm =  spatial_info(np.nanmean(C_trial_mat,axis=0),occ)\n",
      "/home/mplitt/repos/TwoPUtils/TwoPUtils/sess.py:93: UserWarning: skipping checking keys, remaining initialization not guaranteed to work\n",
      "  warnings.warn(\"skipping checking keys, remaining initialization not guaranteed to work\")\n",
      "/home/mplitt/repos/TwoPUtils/TwoPUtils/sess.py:256: UserWarning: Looking for coaligned suite2p sessions is not implemented yet\n",
      "  warnings.warn(\"Looking for coaligned suite2p sessions is not implemented yet\")\n"
     ]
    },
    {
     "name": "stdout",
     "output_type": "stream",
     "text": [
      "Fixing teleports\n",
      "(87472,) (30325,)\n",
      "1961.441258211218 1961.3299646286005\n",
      "168 4299\n",
      "5234 8914\n",
      "9858 13549\n",
      "14483 18236\n",
      "19173 22722\n",
      "23659 30324\n"
     ]
    },
    {
     "name": "stderr",
     "output_type": "stream",
     "text": [
      "/home/mplitt/repos/TwoPUtils/TwoPUtils/spatial_analyses.py:139: RuntimeWarning: Mean of empty slice\n",
      "  SI = spatial_info(np.nanmean(C_trial_mat,axis=0),occ)\n",
      "/home/mplitt/repos/TwoPUtils/TwoPUtils/spatial_analyses.py:150: RuntimeWarning: Mean of empty slice\n",
      "  _SI_perm =  spatial_info(np.nanmean(C_trial_mat,axis=0),occ)\n"
     ]
    },
    {
     "name": "stdout",
     "output_type": "stream",
     "text": [
      "perm 0\n"
     ]
    },
    {
     "name": "stderr",
     "output_type": "stream",
     "text": [
      "/home/mplitt/repos/TwoPUtils/TwoPUtils/spatial_analyses.py:139: RuntimeWarning: Mean of empty slice\n",
      "  SI = spatial_info(np.nanmean(C_trial_mat,axis=0),occ)\n"
     ]
    },
    {
     "name": "stdout",
     "output_type": "stream",
     "text": [
      "perm 0\n"
     ]
    },
    {
     "name": "stderr",
     "output_type": "stream",
     "text": [
      "/home/mplitt/repos/TwoPUtils/TwoPUtils/spatial_analyses.py:150: RuntimeWarning: Mean of empty slice\n",
      "  _SI_perm =  spatial_info(np.nanmean(C_trial_mat,axis=0),occ)\n",
      "/home/mplitt/repos/TwoPUtils/TwoPUtils/sess.py:93: UserWarning: skipping checking keys, remaining initialization not guaranteed to work\n",
      "  warnings.warn(\"skipping checking keys, remaining initialization not guaranteed to work\")\n",
      "/home/mplitt/repos/TwoPUtils/TwoPUtils/sess.py:256: UserWarning: Looking for coaligned suite2p sessions is not implemented yet\n",
      "  warnings.warn(\"Looking for coaligned suite2p sessions is not implemented yet\")\n"
     ]
    },
    {
     "name": "stdout",
     "output_type": "stream",
     "text": [
      "Fixing teleports\n",
      "(82177,) (29019,)\n",
      "1876.9399949469428 1876.859019706923\n",
      "173 3248\n",
      "4184 7653\n",
      "8591 11896\n",
      "12831 16381\n",
      "17315 21012\n",
      "21947 29017\n"
     ]
    },
    {
     "name": "stderr",
     "output_type": "stream",
     "text": [
      "/home/mplitt/repos/TwoPUtils/TwoPUtils/spatial_analyses.py:139: RuntimeWarning: Mean of empty slice\n",
      "  SI = spatial_info(np.nanmean(C_trial_mat,axis=0),occ)\n"
     ]
    },
    {
     "name": "stdout",
     "output_type": "stream",
     "text": [
      "perm 0\n"
     ]
    },
    {
     "name": "stderr",
     "output_type": "stream",
     "text": [
      "/home/mplitt/repos/TwoPUtils/TwoPUtils/spatial_analyses.py:150: RuntimeWarning: Mean of empty slice\n",
      "  _SI_perm =  spatial_info(np.nanmean(C_trial_mat,axis=0),occ)\n",
      "/home/mplitt/repos/TwoPUtils/TwoPUtils/spatial_analyses.py:139: RuntimeWarning: Mean of empty slice\n",
      "  SI = spatial_info(np.nanmean(C_trial_mat,axis=0),occ)\n",
      "/home/mplitt/repos/TwoPUtils/TwoPUtils/spatial_analyses.py:150: RuntimeWarning: Mean of empty slice\n",
      "  _SI_perm =  spatial_info(np.nanmean(C_trial_mat,axis=0),occ)\n"
     ]
    },
    {
     "name": "stdout",
     "output_type": "stream",
     "text": [
      "perm 0\n"
     ]
    },
    {
     "name": "stderr",
     "output_type": "stream",
     "text": [
      "/home/mplitt/repos/TwoPUtils/TwoPUtils/sess.py:93: UserWarning: skipping checking keys, remaining initialization not guaranteed to work\n",
      "  warnings.warn(\"skipping checking keys, remaining initialization not guaranteed to work\")\n",
      "/home/mplitt/repos/TwoPUtils/TwoPUtils/sess.py:256: UserWarning: Looking for coaligned suite2p sessions is not implemented yet\n",
      "  warnings.warn(\"Looking for coaligned suite2p sessions is not implemented yet\")\n"
     ]
    },
    {
     "name": "stdout",
     "output_type": "stream",
     "text": [
      "Fixing teleports\n",
      "(28532,) (9371,)\n",
      "606.1431278423446 606.0434562910561\n",
      "slice(0, 9371, None)\n",
      "165 4175\n",
      "5113 9370\n"
     ]
    },
    {
     "name": "stderr",
     "output_type": "stream",
     "text": [
      "/home/mplitt/repos/TwoPUtils/TwoPUtils/spatial_analyses.py:139: RuntimeWarning: Mean of empty slice\n",
      "  SI = spatial_info(np.nanmean(C_trial_mat,axis=0),occ)\n",
      "/home/mplitt/repos/TwoPUtils/TwoPUtils/spatial_analyses.py:150: RuntimeWarning: Mean of empty slice\n",
      "  _SI_perm =  spatial_info(np.nanmean(C_trial_mat,axis=0),occ)\n"
     ]
    },
    {
     "name": "stdout",
     "output_type": "stream",
     "text": [
      "perm 0\n"
     ]
    },
    {
     "name": "stderr",
     "output_type": "stream",
     "text": [
      "/home/mplitt/repos/TwoPUtils/TwoPUtils/spatial_analyses.py:139: RuntimeWarning: Mean of empty slice\n",
      "  SI = spatial_info(np.nanmean(C_trial_mat,axis=0),occ)\n",
      "/home/mplitt/repos/TwoPUtils/TwoPUtils/spatial_analyses.py:150: RuntimeWarning: Mean of empty slice\n",
      "  _SI_perm =  spatial_info(np.nanmean(C_trial_mat,axis=0),occ)\n"
     ]
    },
    {
     "name": "stdout",
     "output_type": "stream",
     "text": [
      "perm 0\n"
     ]
    },
    {
     "name": "stderr",
     "output_type": "stream",
     "text": [
      "/home/mplitt/repos/TwoPUtils/TwoPUtils/sess.py:93: UserWarning: skipping checking keys, remaining initialization not guaranteed to work\n",
      "  warnings.warn(\"skipping checking keys, remaining initialization not guaranteed to work\")\n",
      "/home/mplitt/repos/TwoPUtils/TwoPUtils/sess.py:256: UserWarning: Looking for coaligned suite2p sessions is not implemented yet\n",
      "  warnings.warn(\"Looking for coaligned suite2p sessions is not implemented yet\")\n"
     ]
    },
    {
     "name": "stdout",
     "output_type": "stream",
     "text": [
      "Fixing teleports\n",
      "(73021,) (26275,)\n",
      "1699.4924204143506 1699.379484588176\n",
      "slice(0, 26275, None)\n",
      "170 4578\n",
      "5512 10285\n",
      "11221 16002\n",
      "16938 26274\n"
     ]
    },
    {
     "name": "stderr",
     "output_type": "stream",
     "text": [
      "/home/mplitt/repos/TwoPUtils/TwoPUtils/spatial_analyses.py:139: RuntimeWarning: Mean of empty slice\n",
      "  SI = spatial_info(np.nanmean(C_trial_mat,axis=0),occ)\n",
      "/home/mplitt/repos/TwoPUtils/TwoPUtils/spatial_analyses.py:150: RuntimeWarning: Mean of empty slice\n",
      "  _SI_perm =  spatial_info(np.nanmean(C_trial_mat,axis=0),occ)\n"
     ]
    },
    {
     "name": "stdout",
     "output_type": "stream",
     "text": [
      "perm 0\n"
     ]
    },
    {
     "name": "stderr",
     "output_type": "stream",
     "text": [
      "/home/mplitt/repos/TwoPUtils/TwoPUtils/spatial_analyses.py:139: RuntimeWarning: Mean of empty slice\n",
      "  SI = spatial_info(np.nanmean(C_trial_mat,axis=0),occ)\n",
      "/home/mplitt/repos/TwoPUtils/TwoPUtils/spatial_analyses.py:150: RuntimeWarning: Mean of empty slice\n",
      "  _SI_perm =  spatial_info(np.nanmean(C_trial_mat,axis=0),occ)\n"
     ]
    },
    {
     "name": "stdout",
     "output_type": "stream",
     "text": [
      "perm 0\n",
      "ops max idx 35646, combined sbx max idx 0\n"
     ]
    },
    {
     "name": "stderr",
     "output_type": "stream",
     "text": [
      "/home/mplitt/repos/TwoPUtils/TwoPUtils/sess.py:93: UserWarning: skipping checking keys, remaining initialization not guaranteed to work\n",
      "  warnings.warn(\"skipping checking keys, remaining initialization not guaranteed to work\")\n",
      "/home/mplitt/repos/TwoPUtils/TwoPUtils/sess.py:256: UserWarning: Looking for coaligned suite2p sessions is not implemented yet\n",
      "  warnings.warn(\"Looking for coaligned suite2p sessions is not implemented yet\")\n"
     ]
    },
    {
     "name": "stdout",
     "output_type": "stream",
     "text": [
      "Fixing teleports\n",
      "(82767,) (29458,)\n",
      "1905.3241536129358 1905.2531581606875\n",
      "167 4200\n",
      "5135 9084\n",
      "10019 13711\n",
      "14647 18030\n",
      "18965 22424\n",
      "23359 29456\n"
     ]
    },
    {
     "name": "stderr",
     "output_type": "stream",
     "text": [
      "/home/mplitt/repos/TwoPUtils/TwoPUtils/spatial_analyses.py:139: RuntimeWarning: Mean of empty slice\n",
      "  SI = spatial_info(np.nanmean(C_trial_mat,axis=0),occ)\n"
     ]
    },
    {
     "name": "stdout",
     "output_type": "stream",
     "text": [
      "perm 0\n"
     ]
    },
    {
     "name": "stderr",
     "output_type": "stream",
     "text": [
      "/home/mplitt/repos/TwoPUtils/TwoPUtils/spatial_analyses.py:150: RuntimeWarning: Mean of empty slice\n",
      "  _SI_perm =  spatial_info(np.nanmean(C_trial_mat,axis=0),occ)\n",
      "/home/mplitt/repos/TwoPUtils/TwoPUtils/spatial_analyses.py:139: RuntimeWarning: Mean of empty slice\n",
      "  SI = spatial_info(np.nanmean(C_trial_mat,axis=0),occ)\n",
      "/home/mplitt/repos/TwoPUtils/TwoPUtils/spatial_analyses.py:150: RuntimeWarning: Mean of empty slice\n",
      "  _SI_perm =  spatial_info(np.nanmean(C_trial_mat,axis=0),occ)\n"
     ]
    },
    {
     "name": "stdout",
     "output_type": "stream",
     "text": [
      "perm 0\n"
     ]
    },
    {
     "name": "stderr",
     "output_type": "stream",
     "text": [
      "/home/mplitt/repos/TwoPUtils/TwoPUtils/sess.py:93: UserWarning: skipping checking keys, remaining initialization not guaranteed to work\n",
      "  warnings.warn(\"skipping checking keys, remaining initialization not guaranteed to work\")\n",
      "/home/mplitt/repos/TwoPUtils/TwoPUtils/sess.py:256: UserWarning: Looking for coaligned suite2p sessions is not implemented yet\n",
      "  warnings.warn(\"Looking for coaligned suite2p sessions is not implemented yet\")\n"
     ]
    },
    {
     "name": "stdout",
     "output_type": "stream",
     "text": [
      "Fixing teleports\n",
      "(23966,) (8931,)\n",
      "577.6676351692773 577.5846387064174\n",
      "slice(0, 8931, None)\n",
      "166 4189\n",
      "5125 8930\n"
     ]
    },
    {
     "name": "stderr",
     "output_type": "stream",
     "text": [
      "/home/mplitt/repos/TwoPUtils/TwoPUtils/spatial_analyses.py:139: RuntimeWarning: Mean of empty slice\n",
      "  SI = spatial_info(np.nanmean(C_trial_mat,axis=0),occ)\n",
      "/home/mplitt/repos/TwoPUtils/TwoPUtils/spatial_analyses.py:150: RuntimeWarning: Mean of empty slice\n",
      "  _SI_perm =  spatial_info(np.nanmean(C_trial_mat,axis=0),occ)\n"
     ]
    },
    {
     "name": "stdout",
     "output_type": "stream",
     "text": [
      "perm 0\n"
     ]
    },
    {
     "name": "stderr",
     "output_type": "stream",
     "text": [
      "/home/mplitt/repos/TwoPUtils/TwoPUtils/spatial_analyses.py:139: RuntimeWarning: Mean of empty slice\n",
      "  SI = spatial_info(np.nanmean(C_trial_mat,axis=0),occ)\n",
      "/home/mplitt/repos/TwoPUtils/TwoPUtils/spatial_analyses.py:150: RuntimeWarning: Mean of empty slice\n",
      "  _SI_perm =  spatial_info(np.nanmean(C_trial_mat,axis=0),occ)\n"
     ]
    },
    {
     "name": "stdout",
     "output_type": "stream",
     "text": [
      "perm 0\n"
     ]
    },
    {
     "name": "stderr",
     "output_type": "stream",
     "text": [
      "/home/mplitt/repos/TwoPUtils/TwoPUtils/sess.py:93: UserWarning: skipping checking keys, remaining initialization not guaranteed to work\n",
      "  warnings.warn(\"skipping checking keys, remaining initialization not guaranteed to work\")\n",
      "/home/mplitt/repos/TwoPUtils/TwoPUtils/sess.py:256: UserWarning: Looking for coaligned suite2p sessions is not implemented yet\n",
      "  warnings.warn(\"Looking for coaligned suite2p sessions is not implemented yet\")\n"
     ]
    },
    {
     "name": "stdout",
     "output_type": "stream",
     "text": [
      "Fixing teleports\n",
      "(73705,) (25823,)\n",
      "1670.2732440626578 1670.1445174330472\n",
      "slice(0, 25823, None)\n",
      "169 4287\n",
      "5225 9837\n",
      "10772 15531\n",
      "16467 25822\n"
     ]
    },
    {
     "name": "stderr",
     "output_type": "stream",
     "text": [
      "/home/mplitt/repos/TwoPUtils/TwoPUtils/spatial_analyses.py:139: RuntimeWarning: Mean of empty slice\n",
      "  SI = spatial_info(np.nanmean(C_trial_mat,axis=0),occ)\n",
      "/home/mplitt/repos/TwoPUtils/TwoPUtils/spatial_analyses.py:150: RuntimeWarning: Mean of empty slice\n",
      "  _SI_perm =  spatial_info(np.nanmean(C_trial_mat,axis=0),occ)\n"
     ]
    },
    {
     "name": "stdout",
     "output_type": "stream",
     "text": [
      "perm 0\n"
     ]
    },
    {
     "name": "stderr",
     "output_type": "stream",
     "text": [
      "/home/mplitt/repos/TwoPUtils/TwoPUtils/spatial_analyses.py:139: RuntimeWarning: Mean of empty slice\n",
      "  SI = spatial_info(np.nanmean(C_trial_mat,axis=0),occ)\n",
      "/home/mplitt/repos/TwoPUtils/TwoPUtils/spatial_analyses.py:150: RuntimeWarning: Mean of empty slice\n",
      "  _SI_perm =  spatial_info(np.nanmean(C_trial_mat,axis=0),occ)\n"
     ]
    },
    {
     "name": "stdout",
     "output_type": "stream",
     "text": [
      "perm 0\n",
      "ops max idx 34754, combined sbx max idx 0\n"
     ]
    },
    {
     "name": "stderr",
     "output_type": "stream",
     "text": [
      "/home/mplitt/repos/TwoPUtils/TwoPUtils/sess.py:93: UserWarning: skipping checking keys, remaining initialization not guaranteed to work\n",
      "  warnings.warn(\"skipping checking keys, remaining initialization not guaranteed to work\")\n",
      "/home/mplitt/repos/TwoPUtils/TwoPUtils/sess.py:256: UserWarning: Looking for coaligned suite2p sessions is not implemented yet\n",
      "  warnings.warn(\"Looking for coaligned suite2p sessions is not implemented yet\")\n"
     ]
    },
    {
     "name": "stdout",
     "output_type": "stream",
     "text": [
      "Fixing teleports\n",
      "(36907,) (12725,)\n",
      "823.1215260232441 822.9772612430521\n"
     ]
    },
    {
     "name": "stderr",
     "output_type": "stream",
     "text": [
      "/home/mplitt/repos/TwoPUtils/TwoPUtils/preprocessing.py:215: UserWarning: Number of teleports and trial starts don't match\n",
      "  warnings.warn(\"Number of teleports and trial starts don't match\")\n",
      "/home/mplitt/repos/TwoPUtils/TwoPUtils/preprocessing.py:217: UserWarning: One more teleport and than trial start, Assuming the first trial start got clipped during \n",
      "  warnings.warn((\"One more teleport and than trial start, Assuming the first trial start got clipped during \"))\n"
     ]
    },
    {
     "name": "stdout",
     "output_type": "stream",
     "text": [
      "0 4338\n",
      "5278 9187\n",
      "10129 12721\n"
     ]
    },
    {
     "name": "stderr",
     "output_type": "stream",
     "text": [
      "/home/mplitt/repos/TwoPUtils/TwoPUtils/spatial_analyses.py:139: RuntimeWarning: Mean of empty slice\n",
      "  SI = spatial_info(np.nanmean(C_trial_mat,axis=0),occ)\n"
     ]
    },
    {
     "name": "stdout",
     "output_type": "stream",
     "text": [
      "perm 0\n"
     ]
    },
    {
     "name": "stderr",
     "output_type": "stream",
     "text": [
      "/home/mplitt/repos/TwoPUtils/TwoPUtils/spatial_analyses.py:150: RuntimeWarning: Mean of empty slice\n",
      "  _SI_perm =  spatial_info(np.nanmean(C_trial_mat,axis=0),occ)\n"
     ]
    },
    {
     "name": "stdout",
     "output_type": "stream",
     "text": [
      "perm 0\n"
     ]
    },
    {
     "name": "stderr",
     "output_type": "stream",
     "text": [
      "/home/mplitt/repos/TwoPUtils/TwoPUtils/sess.py:93: UserWarning: skipping checking keys, remaining initialization not guaranteed to work\n",
      "  warnings.warn(\"skipping checking keys, remaining initialization not guaranteed to work\")\n",
      "/home/mplitt/repos/TwoPUtils/TwoPUtils/sess.py:256: UserWarning: Looking for coaligned suite2p sessions is not implemented yet\n",
      "  warnings.warn(\"Looking for coaligned suite2p sessions is not implemented yet\")\n"
     ]
    },
    {
     "name": "stdout",
     "output_type": "stream",
     "text": [
      "Fixing teleports\n",
      "(61481,) (22651,)\n",
      "1465.11066195048 1464.9823143001518\n",
      "184 4092\n",
      "5029 9134\n",
      "10070 13530\n",
      "14469 22650\n"
     ]
    },
    {
     "name": "stderr",
     "output_type": "stream",
     "text": [
      "/home/mplitt/repos/TwoPUtils/TwoPUtils/spatial_analyses.py:139: RuntimeWarning: Mean of empty slice\n",
      "  SI = spatial_info(np.nanmean(C_trial_mat,axis=0),occ)\n"
     ]
    },
    {
     "name": "stdout",
     "output_type": "stream",
     "text": [
      "perm 0\n"
     ]
    },
    {
     "name": "stderr",
     "output_type": "stream",
     "text": [
      "/home/mplitt/repos/TwoPUtils/TwoPUtils/spatial_analyses.py:150: RuntimeWarning: Mean of empty slice\n",
      "  _SI_perm =  spatial_info(np.nanmean(C_trial_mat,axis=0),occ)\n",
      "/home/mplitt/repos/TwoPUtils/TwoPUtils/spatial_analyses.py:139: RuntimeWarning: Mean of empty slice\n",
      "  SI = spatial_info(np.nanmean(C_trial_mat,axis=0),occ)\n",
      "/home/mplitt/repos/TwoPUtils/TwoPUtils/spatial_analyses.py:150: RuntimeWarning: Mean of empty slice\n",
      "  _SI_perm =  spatial_info(np.nanmean(C_trial_mat,axis=0),occ)\n"
     ]
    },
    {
     "name": "stdout",
     "output_type": "stream",
     "text": [
      "perm 0\n"
     ]
    },
    {
     "name": "stderr",
     "output_type": "stream",
     "text": [
      "/home/mplitt/repos/TwoPUtils/TwoPUtils/sess.py:93: UserWarning: skipping checking keys, remaining initialization not guaranteed to work\n",
      "  warnings.warn(\"skipping checking keys, remaining initialization not guaranteed to work\")\n",
      "/home/mplitt/repos/TwoPUtils/TwoPUtils/sess.py:256: UserWarning: Looking for coaligned suite2p sessions is not implemented yet\n",
      "  warnings.warn(\"Looking for coaligned suite2p sessions is not implemented yet\")\n"
     ]
    },
    {
     "name": "stdout",
     "output_type": "stream",
     "text": [
      "Fixing teleports\n",
      "(27247,) (10164,)\n",
      "657.4391106619505 657.33400707428\n",
      "214 4949\n",
      "5884 9555\n"
     ]
    },
    {
     "name": "stderr",
     "output_type": "stream",
     "text": [
      "/home/mplitt/repos/TwoPUtils/TwoPUtils/spatial_analyses.py:139: RuntimeWarning: Mean of empty slice\n",
      "  SI = spatial_info(np.nanmean(C_trial_mat,axis=0),occ)\n",
      "/home/mplitt/repos/TwoPUtils/TwoPUtils/spatial_analyses.py:150: RuntimeWarning: Mean of empty slice\n",
      "  _SI_perm =  spatial_info(np.nanmean(C_trial_mat,axis=0),occ)\n"
     ]
    },
    {
     "name": "stdout",
     "output_type": "stream",
     "text": [
      "perm 0\n",
      "perm 0\n"
     ]
    },
    {
     "name": "stderr",
     "output_type": "stream",
     "text": [
      "/home/mplitt/repos/TwoPUtils/TwoPUtils/sess.py:93: UserWarning: skipping checking keys, remaining initialization not guaranteed to work\n",
      "  warnings.warn(\"skipping checking keys, remaining initialization not guaranteed to work\")\n",
      "/home/mplitt/repos/TwoPUtils/TwoPUtils/sess.py:256: UserWarning: Looking for coaligned suite2p sessions is not implemented yet\n",
      "  warnings.warn(\"Looking for coaligned suite2p sessions is not implemented yet\")\n"
     ]
    },
    {
     "name": "stdout",
     "output_type": "stream",
     "text": [
      "Fixing teleports\n",
      "(65534,) (23026,)\n",
      "1489.3173319858515 1489.2369883779688\n",
      "213 4918\n",
      "5862 9924\n",
      "10866 14835\n",
      "15771 23024\n"
     ]
    },
    {
     "name": "stderr",
     "output_type": "stream",
     "text": [
      "/home/mplitt/repos/TwoPUtils/TwoPUtils/spatial_analyses.py:139: RuntimeWarning: Mean of empty slice\n",
      "  SI = spatial_info(np.nanmean(C_trial_mat,axis=0),occ)\n"
     ]
    },
    {
     "name": "stdout",
     "output_type": "stream",
     "text": [
      "perm 0\n"
     ]
    },
    {
     "name": "stderr",
     "output_type": "stream",
     "text": [
      "/home/mplitt/repos/TwoPUtils/TwoPUtils/spatial_analyses.py:150: RuntimeWarning: Mean of empty slice\n",
      "  _SI_perm =  spatial_info(np.nanmean(C_trial_mat,axis=0),occ)\n",
      "/home/mplitt/repos/TwoPUtils/TwoPUtils/spatial_analyses.py:139: RuntimeWarning: Mean of empty slice\n",
      "  SI = spatial_info(np.nanmean(C_trial_mat,axis=0),occ)\n",
      "/home/mplitt/repos/TwoPUtils/TwoPUtils/spatial_analyses.py:150: RuntimeWarning: Mean of empty slice\n",
      "  _SI_perm =  spatial_info(np.nanmean(C_trial_mat,axis=0),occ)\n"
     ]
    },
    {
     "name": "stdout",
     "output_type": "stream",
     "text": [
      "perm 0\n"
     ]
    },
    {
     "name": "stderr",
     "output_type": "stream",
     "text": [
      "/home/mplitt/repos/TwoPUtils/TwoPUtils/sess.py:93: UserWarning: skipping checking keys, remaining initialization not guaranteed to work\n",
      "  warnings.warn(\"skipping checking keys, remaining initialization not guaranteed to work\")\n",
      "/home/mplitt/repos/TwoPUtils/TwoPUtils/sess.py:256: UserWarning: Looking for coaligned suite2p sessions is not implemented yet\n",
      "  warnings.warn(\"Looking for coaligned suite2p sessions is not implemented yet\")\n"
     ]
    },
    {
     "name": "stdout",
     "output_type": "stream",
     "text": [
      "Fixing teleports\n",
      "(90720,) (31511,)\n",
      "2038.146033350177 2038.0394138453767\n",
      "180 4304\n",
      "5240 9010\n",
      "10048 13993\n",
      "14928 18798\n",
      "19734 23278\n",
      "24217 31510\n"
     ]
    },
    {
     "name": "stderr",
     "output_type": "stream",
     "text": [
      "/home/mplitt/repos/TwoPUtils/TwoPUtils/spatial_analyses.py:139: RuntimeWarning: Mean of empty slice\n",
      "  SI = spatial_info(np.nanmean(C_trial_mat,axis=0),occ)\n"
     ]
    },
    {
     "name": "stdout",
     "output_type": "stream",
     "text": [
      "perm 0\n"
     ]
    },
    {
     "name": "stderr",
     "output_type": "stream",
     "text": [
      "/home/mplitt/repos/TwoPUtils/TwoPUtils/spatial_analyses.py:150: RuntimeWarning: Mean of empty slice\n",
      "  _SI_perm =  spatial_info(np.nanmean(C_trial_mat,axis=0),occ)\n",
      "/home/mplitt/repos/TwoPUtils/TwoPUtils/spatial_analyses.py:139: RuntimeWarning: Mean of empty slice\n",
      "  SI = spatial_info(np.nanmean(C_trial_mat,axis=0),occ)\n",
      "/home/mplitt/repos/TwoPUtils/TwoPUtils/spatial_analyses.py:150: RuntimeWarning: Mean of empty slice\n",
      "  _SI_perm =  spatial_info(np.nanmean(C_trial_mat,axis=0),occ)\n"
     ]
    },
    {
     "name": "stdout",
     "output_type": "stream",
     "text": [
      "perm 0\n"
     ]
    },
    {
     "name": "stderr",
     "output_type": "stream",
     "text": [
      "/home/mplitt/repos/TwoPUtils/TwoPUtils/sess.py:93: UserWarning: skipping checking keys, remaining initialization not guaranteed to work\n",
      "  warnings.warn(\"skipping checking keys, remaining initialization not guaranteed to work\")\n",
      "/home/mplitt/repos/TwoPUtils/TwoPUtils/sess.py:256: UserWarning: Looking for coaligned suite2p sessions is not implemented yet\n",
      "  warnings.warn(\"Looking for coaligned suite2p sessions is not implemented yet\")\n"
     ]
    },
    {
     "name": "stdout",
     "output_type": "stream",
     "text": [
      "Fixing teleports\n",
      "(90206,) (31538,)\n",
      "2039.911066195048 2039.7857503789794\n",
      "190 4274\n",
      "5211 9104\n",
      "10056 13792\n",
      "14726 18627\n",
      "19563 23947\n",
      "24883 31537\n"
     ]
    },
    {
     "name": "stderr",
     "output_type": "stream",
     "text": [
      "/home/mplitt/repos/TwoPUtils/TwoPUtils/spatial_analyses.py:139: RuntimeWarning: Mean of empty slice\n",
      "  SI = spatial_info(np.nanmean(C_trial_mat,axis=0),occ)\n"
     ]
    },
    {
     "name": "stdout",
     "output_type": "stream",
     "text": [
      "perm 0\n"
     ]
    },
    {
     "name": "stderr",
     "output_type": "stream",
     "text": [
      "/home/mplitt/repos/TwoPUtils/TwoPUtils/spatial_analyses.py:150: RuntimeWarning: Mean of empty slice\n",
      "  _SI_perm =  spatial_info(np.nanmean(C_trial_mat,axis=0),occ)\n",
      "/home/mplitt/repos/TwoPUtils/TwoPUtils/spatial_analyses.py:139: RuntimeWarning: Mean of empty slice\n",
      "  SI = spatial_info(np.nanmean(C_trial_mat,axis=0),occ)\n",
      "/home/mplitt/repos/TwoPUtils/TwoPUtils/spatial_analyses.py:150: RuntimeWarning: Mean of empty slice\n",
      "  _SI_perm =  spatial_info(np.nanmean(C_trial_mat,axis=0),occ)\n"
     ]
    },
    {
     "name": "stdout",
     "output_type": "stream",
     "text": [
      "perm 0\n"
     ]
    },
    {
     "name": "stderr",
     "output_type": "stream",
     "text": [
      "/home/mplitt/repos/TwoPUtils/TwoPUtils/sess.py:93: UserWarning: skipping checking keys, remaining initialization not guaranteed to work\n",
      "  warnings.warn(\"skipping checking keys, remaining initialization not guaranteed to work\")\n",
      "/home/mplitt/repos/TwoPUtils/TwoPUtils/sess.py:256: UserWarning: Looking for coaligned suite2p sessions is not implemented yet\n",
      "  warnings.warn(\"Looking for coaligned suite2p sessions is not implemented yet\")\n"
     ]
    },
    {
     "name": "stdout",
     "output_type": "stream",
     "text": [
      "Fixing teleports\n",
      "(94829,) (33460,)\n",
      "2164.212481051036 2164.0990399191514\n",
      "191 4970\n",
      "5915 10667\n",
      "11603 15902\n",
      "16841 20693\n",
      "21641 25441\n",
      "26486 33458\n"
     ]
    },
    {
     "name": "stderr",
     "output_type": "stream",
     "text": [
      "/home/mplitt/repos/TwoPUtils/TwoPUtils/spatial_analyses.py:139: RuntimeWarning: Mean of empty slice\n",
      "  SI = spatial_info(np.nanmean(C_trial_mat,axis=0),occ)\n"
     ]
    },
    {
     "name": "stdout",
     "output_type": "stream",
     "text": [
      "perm 0\n"
     ]
    },
    {
     "name": "stderr",
     "output_type": "stream",
     "text": [
      "/home/mplitt/repos/TwoPUtils/TwoPUtils/spatial_analyses.py:150: RuntimeWarning: Mean of empty slice\n",
      "  _SI_perm =  spatial_info(np.nanmean(C_trial_mat,axis=0),occ)\n",
      "/home/mplitt/repos/TwoPUtils/TwoPUtils/spatial_analyses.py:139: RuntimeWarning: Mean of empty slice\n",
      "  SI = spatial_info(np.nanmean(C_trial_mat,axis=0),occ)\n",
      "/home/mplitt/repos/TwoPUtils/TwoPUtils/spatial_analyses.py:150: RuntimeWarning: Mean of empty slice\n",
      "  _SI_perm =  spatial_info(np.nanmean(C_trial_mat,axis=0),occ)\n"
     ]
    },
    {
     "name": "stdout",
     "output_type": "stream",
     "text": [
      "perm 0\n"
     ]
    },
    {
     "name": "stderr",
     "output_type": "stream",
     "text": [
      "/home/mplitt/repos/TwoPUtils/TwoPUtils/sess.py:93: UserWarning: skipping checking keys, remaining initialization not guaranteed to work\n",
      "  warnings.warn(\"skipping checking keys, remaining initialization not guaranteed to work\")\n",
      "/home/mplitt/repos/TwoPUtils/TwoPUtils/sess.py:256: UserWarning: Looking for coaligned suite2p sessions is not implemented yet\n",
      "  warnings.warn(\"Looking for coaligned suite2p sessions is not implemented yet\")\n"
     ]
    },
    {
     "name": "stdout",
     "output_type": "stream",
     "text": [
      "Fixing teleports\n",
      "(103701,) (35784,)\n",
      "2314.523244062658 2314.413340070743\n",
      "178 4805\n",
      "5741 10456\n",
      "11391 16002\n",
      "16939 21486\n",
      "22432 26768\n",
      "27703 35783\n"
     ]
    },
    {
     "name": "stderr",
     "output_type": "stream",
     "text": [
      "/home/mplitt/repos/TwoPUtils/TwoPUtils/spatial_analyses.py:139: RuntimeWarning: Mean of empty slice\n",
      "  SI = spatial_info(np.nanmean(C_trial_mat,axis=0),occ)\n"
     ]
    },
    {
     "name": "stdout",
     "output_type": "stream",
     "text": [
      "perm 0\n"
     ]
    },
    {
     "name": "stderr",
     "output_type": "stream",
     "text": [
      "/home/mplitt/repos/TwoPUtils/TwoPUtils/spatial_analyses.py:150: RuntimeWarning: Mean of empty slice\n",
      "  _SI_perm =  spatial_info(np.nanmean(C_trial_mat,axis=0),occ)\n",
      "/home/mplitt/repos/TwoPUtils/TwoPUtils/spatial_analyses.py:139: RuntimeWarning: Mean of empty slice\n",
      "  SI = spatial_info(np.nanmean(C_trial_mat,axis=0),occ)\n"
     ]
    },
    {
     "name": "stdout",
     "output_type": "stream",
     "text": [
      "perm 0\n"
     ]
    },
    {
     "name": "stderr",
     "output_type": "stream",
     "text": [
      "/home/mplitt/repos/TwoPUtils/TwoPUtils/spatial_analyses.py:150: RuntimeWarning: Mean of empty slice\n",
      "  _SI_perm =  spatial_info(np.nanmean(C_trial_mat,axis=0),occ)\n",
      "/home/mplitt/repos/TwoPUtils/TwoPUtils/sess.py:93: UserWarning: skipping checking keys, remaining initialization not guaranteed to work\n",
      "  warnings.warn(\"skipping checking keys, remaining initialization not guaranteed to work\")\n",
      "/home/mplitt/repos/TwoPUtils/TwoPUtils/sess.py:256: UserWarning: Looking for coaligned suite2p sessions is not implemented yet\n",
      "  warnings.warn(\"Looking for coaligned suite2p sessions is not implemented yet\")\n"
     ]
    },
    {
     "name": "stdout",
     "output_type": "stream",
     "text": [
      "Fixing teleports\n",
      "(27204,) (10151,)\n",
      "656.5822385042951 656.4931783729156\n",
      "slice(0, 10151, None)\n",
      "169 4994\n",
      "5933 10150\n"
     ]
    },
    {
     "name": "stderr",
     "output_type": "stream",
     "text": [
      "/home/mplitt/repos/TwoPUtils/TwoPUtils/spatial_analyses.py:139: RuntimeWarning: Mean of empty slice\n",
      "  SI = spatial_info(np.nanmean(C_trial_mat,axis=0),occ)\n",
      "/home/mplitt/repos/TwoPUtils/TwoPUtils/spatial_analyses.py:150: RuntimeWarning: Mean of empty slice\n",
      "  _SI_perm =  spatial_info(np.nanmean(C_trial_mat,axis=0),occ)\n"
     ]
    },
    {
     "name": "stdout",
     "output_type": "stream",
     "text": [
      "perm 0\n"
     ]
    },
    {
     "name": "stderr",
     "output_type": "stream",
     "text": [
      "/home/mplitt/repos/TwoPUtils/TwoPUtils/spatial_analyses.py:139: RuntimeWarning: Mean of empty slice\n",
      "  SI = spatial_info(np.nanmean(C_trial_mat,axis=0),occ)\n",
      "/home/mplitt/repos/TwoPUtils/TwoPUtils/spatial_analyses.py:150: RuntimeWarning: Mean of empty slice\n",
      "  _SI_perm =  spatial_info(np.nanmean(C_trial_mat,axis=0),occ)\n"
     ]
    },
    {
     "name": "stdout",
     "output_type": "stream",
     "text": [
      "perm 0\n"
     ]
    },
    {
     "name": "stderr",
     "output_type": "stream",
     "text": [
      "/home/mplitt/repos/TwoPUtils/TwoPUtils/sess.py:93: UserWarning: skipping checking keys, remaining initialization not guaranteed to work\n",
      "  warnings.warn(\"skipping checking keys, remaining initialization not guaranteed to work\")\n",
      "/home/mplitt/repos/TwoPUtils/TwoPUtils/sess.py:256: UserWarning: Looking for coaligned suite2p sessions is not implemented yet\n",
      "  warnings.warn(\"Looking for coaligned suite2p sessions is not implemented yet\")\n"
     ]
    },
    {
     "name": "stdout",
     "output_type": "stream",
     "text": [
      "Fixing teleports\n",
      "(69171,) (24407,)\n",
      "1578.6592976250631 1578.5588681152099\n",
      "slice(0, 24407, None)\n",
      "167 4869\n",
      "5815 10148\n",
      "11083 15135\n",
      "16070 24406\n"
     ]
    },
    {
     "name": "stderr",
     "output_type": "stream",
     "text": [
      "/home/mplitt/repos/TwoPUtils/TwoPUtils/spatial_analyses.py:139: RuntimeWarning: Mean of empty slice\n",
      "  SI = spatial_info(np.nanmean(C_trial_mat,axis=0),occ)\n"
     ]
    },
    {
     "name": "stdout",
     "output_type": "stream",
     "text": [
      "perm 0\n"
     ]
    },
    {
     "name": "stderr",
     "output_type": "stream",
     "text": [
      "/home/mplitt/repos/TwoPUtils/TwoPUtils/spatial_analyses.py:150: RuntimeWarning: Mean of empty slice\n",
      "  _SI_perm =  spatial_info(np.nanmean(C_trial_mat,axis=0),occ)\n",
      "/home/mplitt/repos/TwoPUtils/TwoPUtils/spatial_analyses.py:139: RuntimeWarning: Mean of empty slice\n",
      "  SI = spatial_info(np.nanmean(C_trial_mat,axis=0),occ)\n",
      "/home/mplitt/repos/TwoPUtils/TwoPUtils/spatial_analyses.py:150: RuntimeWarning: Mean of empty slice\n",
      "  _SI_perm =  spatial_info(np.nanmean(C_trial_mat,axis=0),occ)\n"
     ]
    },
    {
     "name": "stdout",
     "output_type": "stream",
     "text": [
      "perm 0\n",
      "ops max idx 34558, combined sbx max idx 0\n"
     ]
    },
    {
     "name": "stderr",
     "output_type": "stream",
     "text": [
      "/home/mplitt/repos/TwoPUtils/TwoPUtils/sess.py:93: UserWarning: skipping checking keys, remaining initialization not guaranteed to work\n",
      "  warnings.warn(\"skipping checking keys, remaining initialization not guaranteed to work\")\n",
      "/home/mplitt/repos/TwoPUtils/TwoPUtils/sess.py:256: UserWarning: Looking for coaligned suite2p sessions is not implemented yet\n",
      "  warnings.warn(\"Looking for coaligned suite2p sessions is not implemented yet\")\n"
     ]
    },
    {
     "name": "stdout",
     "output_type": "stream",
     "text": [
      "Fixing teleports\n",
      "(107537,) (37538,)\n",
      "2427.963112683173 2427.8605356240528\n",
      "197 4970\n",
      "5905 10641\n",
      "11577 16257\n",
      "17196 21899\n",
      "22833 27210\n",
      "28144 37537\n"
     ]
    },
    {
     "name": "stderr",
     "output_type": "stream",
     "text": [
      "/home/mplitt/repos/TwoPUtils/TwoPUtils/spatial_analyses.py:139: RuntimeWarning: Mean of empty slice\n",
      "  SI = spatial_info(np.nanmean(C_trial_mat,axis=0),occ)\n"
     ]
    },
    {
     "name": "stdout",
     "output_type": "stream",
     "text": [
      "perm 0\n"
     ]
    },
    {
     "name": "stderr",
     "output_type": "stream",
     "text": [
      "/home/mplitt/repos/TwoPUtils/TwoPUtils/spatial_analyses.py:150: RuntimeWarning: Mean of empty slice\n",
      "  _SI_perm =  spatial_info(np.nanmean(C_trial_mat,axis=0),occ)\n",
      "/home/mplitt/repos/TwoPUtils/TwoPUtils/spatial_analyses.py:139: RuntimeWarning: Mean of empty slice\n",
      "  SI = spatial_info(np.nanmean(C_trial_mat,axis=0),occ)\n"
     ]
    },
    {
     "name": "stdout",
     "output_type": "stream",
     "text": [
      "perm 0\n"
     ]
    },
    {
     "name": "stderr",
     "output_type": "stream",
     "text": [
      "/home/mplitt/repos/TwoPUtils/TwoPUtils/spatial_analyses.py:150: RuntimeWarning: Mean of empty slice\n",
      "  _SI_perm =  spatial_info(np.nanmean(C_trial_mat,axis=0),occ)\n",
      "/home/mplitt/repos/TwoPUtils/TwoPUtils/sess.py:93: UserWarning: skipping checking keys, remaining initialization not guaranteed to work\n",
      "  warnings.warn(\"skipping checking keys, remaining initialization not guaranteed to work\")\n",
      "/home/mplitt/repos/TwoPUtils/TwoPUtils/sess.py:256: UserWarning: Looking for coaligned suite2p sessions is not implemented yet\n",
      "  warnings.warn(\"Looking for coaligned suite2p sessions is not implemented yet\")\n"
     ]
    },
    {
     "name": "stdout",
     "output_type": "stream",
     "text": [
      "Fixing teleports\n",
      "(30947,) (10643,)\n",
      "688.3880747852451 688.3153107630117\n",
      "slice(0, 10643, None)\n",
      "188 4870\n",
      "5806 10641\n"
     ]
    },
    {
     "name": "stderr",
     "output_type": "stream",
     "text": [
      "/home/mplitt/repos/TwoPUtils/TwoPUtils/spatial_analyses.py:139: RuntimeWarning: Mean of empty slice\n",
      "  SI = spatial_info(np.nanmean(C_trial_mat,axis=0),occ)\n",
      "/home/mplitt/repos/TwoPUtils/TwoPUtils/spatial_analyses.py:150: RuntimeWarning: Mean of empty slice\n",
      "  _SI_perm =  spatial_info(np.nanmean(C_trial_mat,axis=0),occ)\n"
     ]
    },
    {
     "name": "stdout",
     "output_type": "stream",
     "text": [
      "perm 0\n"
     ]
    },
    {
     "name": "stderr",
     "output_type": "stream",
     "text": [
      "/home/mplitt/repos/TwoPUtils/TwoPUtils/spatial_analyses.py:139: RuntimeWarning: Mean of empty slice\n",
      "  SI = spatial_info(np.nanmean(C_trial_mat,axis=0),occ)\n",
      "/home/mplitt/repos/TwoPUtils/TwoPUtils/spatial_analyses.py:150: RuntimeWarning: Mean of empty slice\n",
      "  _SI_perm =  spatial_info(np.nanmean(C_trial_mat,axis=0),occ)\n"
     ]
    },
    {
     "name": "stdout",
     "output_type": "stream",
     "text": [
      "perm 0\n"
     ]
    },
    {
     "name": "stderr",
     "output_type": "stream",
     "text": [
      "/home/mplitt/repos/TwoPUtils/TwoPUtils/sess.py:93: UserWarning: skipping checking keys, remaining initialization not guaranteed to work\n",
      "  warnings.warn(\"skipping checking keys, remaining initialization not guaranteed to work\")\n",
      "/home/mplitt/repos/TwoPUtils/TwoPUtils/sess.py:256: UserWarning: Looking for coaligned suite2p sessions is not implemented yet\n",
      "  warnings.warn(\"Looking for coaligned suite2p sessions is not implemented yet\")\n"
     ]
    },
    {
     "name": "stdout",
     "output_type": "stream",
     "text": [
      "Fixing teleports\n",
      "(73869,) (26609,)\n",
      "1721.0698585144012 1720.9823143001518\n",
      "slice(0, 26609, None)\n",
      "174 4971\n",
      "5911 10587\n",
      "11524 16320\n",
      "17257 26608\n"
     ]
    },
    {
     "name": "stderr",
     "output_type": "stream",
     "text": [
      "/home/mplitt/repos/TwoPUtils/TwoPUtils/spatial_analyses.py:139: RuntimeWarning: Mean of empty slice\n",
      "  SI = spatial_info(np.nanmean(C_trial_mat,axis=0),occ)\n"
     ]
    },
    {
     "name": "stdout",
     "output_type": "stream",
     "text": [
      "perm 0\n"
     ]
    },
    {
     "name": "stderr",
     "output_type": "stream",
     "text": [
      "/home/mplitt/repos/TwoPUtils/TwoPUtils/spatial_analyses.py:150: RuntimeWarning: Mean of empty slice\n",
      "  _SI_perm =  spatial_info(np.nanmean(C_trial_mat,axis=0),occ)\n",
      "/home/mplitt/repos/TwoPUtils/TwoPUtils/spatial_analyses.py:139: RuntimeWarning: Mean of empty slice\n",
      "  SI = spatial_info(np.nanmean(C_trial_mat,axis=0),occ)\n"
     ]
    },
    {
     "name": "stdout",
     "output_type": "stream",
     "text": [
      "perm 0\n"
     ]
    },
    {
     "name": "stderr",
     "output_type": "stream",
     "text": [
      "/home/mplitt/repos/TwoPUtils/TwoPUtils/spatial_analyses.py:150: RuntimeWarning: Mean of empty slice\n",
      "  _SI_perm =  spatial_info(np.nanmean(C_trial_mat,axis=0),occ)\n"
     ]
    },
    {
     "name": "stdout",
     "output_type": "stream",
     "text": [
      "ops max idx 37252, combined sbx max idx 0\n"
     ]
    },
    {
     "name": "stderr",
     "output_type": "stream",
     "text": [
      "/home/mplitt/repos/TwoPUtils/TwoPUtils/sess.py:93: UserWarning: skipping checking keys, remaining initialization not guaranteed to work\n",
      "  warnings.warn(\"skipping checking keys, remaining initialization not guaranteed to work\")\n",
      "/home/mplitt/repos/TwoPUtils/TwoPUtils/sess.py:256: UserWarning: Looking for coaligned suite2p sessions is not implemented yet\n",
      "  warnings.warn(\"Looking for coaligned suite2p sessions is not implemented yet\")\n"
     ]
    },
    {
     "name": "stdout",
     "output_type": "stream",
     "text": [
      "Fixing teleports\n",
      "(95956,) (33681,)\n",
      "2178.4796614451743 2178.3931278423447\n",
      "170 3869\n",
      "4804 9044\n",
      "9979 13936\n",
      "14873 19197\n",
      "20134 24140\n",
      "25077 33680\n"
     ]
    },
    {
     "name": "stderr",
     "output_type": "stream",
     "text": [
      "/home/mplitt/repos/TwoPUtils/TwoPUtils/spatial_analyses.py:139: RuntimeWarning: Mean of empty slice\n",
      "  SI = spatial_info(np.nanmean(C_trial_mat,axis=0),occ)\n",
      "/home/mplitt/repos/TwoPUtils/TwoPUtils/spatial_analyses.py:150: RuntimeWarning: Mean of empty slice\n",
      "  _SI_perm =  spatial_info(np.nanmean(C_trial_mat,axis=0),occ)\n"
     ]
    },
    {
     "name": "stdout",
     "output_type": "stream",
     "text": [
      "perm 0\n"
     ]
    },
    {
     "name": "stderr",
     "output_type": "stream",
     "text": [
      "/home/mplitt/repos/TwoPUtils/TwoPUtils/spatial_analyses.py:139: RuntimeWarning: Mean of empty slice\n",
      "  SI = spatial_info(np.nanmean(C_trial_mat,axis=0),occ)\n"
     ]
    },
    {
     "name": "stdout",
     "output_type": "stream",
     "text": [
      "perm 0\n"
     ]
    },
    {
     "name": "stderr",
     "output_type": "stream",
     "text": [
      "/home/mplitt/repos/TwoPUtils/TwoPUtils/spatial_analyses.py:150: RuntimeWarning: Mean of empty slice\n",
      "  _SI_perm =  spatial_info(np.nanmean(C_trial_mat,axis=0),occ)\n",
      "/home/mplitt/repos/TwoPUtils/TwoPUtils/sess.py:93: UserWarning: skipping checking keys, remaining initialization not guaranteed to work\n",
      "  warnings.warn(\"skipping checking keys, remaining initialization not guaranteed to work\")\n",
      "/home/mplitt/repos/TwoPUtils/TwoPUtils/sess.py:256: UserWarning: Looking for coaligned suite2p sessions is not implemented yet\n",
      "  warnings.warn(\"Looking for coaligned suite2p sessions is not implemented yet\")\n"
     ]
    },
    {
     "name": "stdout",
     "output_type": "stream",
     "text": [
      "Fixing teleports\n",
      "(84228,) (29796,)\n",
      "1927.2147549267306 1927.1147043961598\n",
      "169 3778\n",
      "4715 7879\n",
      "8814 12197\n",
      "13137 17648\n",
      "18589 22241\n",
      "23178 29795\n"
     ]
    },
    {
     "name": "stderr",
     "output_type": "stream",
     "text": [
      "/home/mplitt/repos/TwoPUtils/TwoPUtils/spatial_analyses.py:139: RuntimeWarning: Mean of empty slice\n",
      "  SI = spatial_info(np.nanmean(C_trial_mat,axis=0),occ)\n",
      "/home/mplitt/repos/TwoPUtils/TwoPUtils/spatial_analyses.py:150: RuntimeWarning: Mean of empty slice\n",
      "  _SI_perm =  spatial_info(np.nanmean(C_trial_mat,axis=0),occ)\n"
     ]
    },
    {
     "name": "stdout",
     "output_type": "stream",
     "text": [
      "perm 0\n"
     ]
    },
    {
     "name": "stderr",
     "output_type": "stream",
     "text": [
      "/home/mplitt/repos/TwoPUtils/TwoPUtils/spatial_analyses.py:139: RuntimeWarning: Mean of empty slice\n",
      "  SI = spatial_info(np.nanmean(C_trial_mat,axis=0),occ)\n"
     ]
    },
    {
     "name": "stdout",
     "output_type": "stream",
     "text": [
      "perm 0\n"
     ]
    },
    {
     "name": "stderr",
     "output_type": "stream",
     "text": [
      "/home/mplitt/repos/TwoPUtils/TwoPUtils/spatial_analyses.py:150: RuntimeWarning: Mean of empty slice\n",
      "  _SI_perm =  spatial_info(np.nanmean(C_trial_mat,axis=0),occ)\n",
      "/home/mplitt/repos/TwoPUtils/TwoPUtils/sess.py:93: UserWarning: skipping checking keys, remaining initialization not guaranteed to work\n",
      "  warnings.warn(\"skipping checking keys, remaining initialization not guaranteed to work\")\n",
      "/home/mplitt/repos/TwoPUtils/TwoPUtils/sess.py:256: UserWarning: Looking for coaligned suite2p sessions is not implemented yet\n",
      "  warnings.warn(\"Looking for coaligned suite2p sessions is not implemented yet\")\n"
     ]
    },
    {
     "name": "stdout",
     "output_type": "stream",
     "text": [
      "Fixing teleports\n",
      "(84419,) (29936,)\n",
      "1936.2513895907025 1936.1697827185449\n",
      "164 3849\n",
      "4786 8475\n",
      "9411 13004\n",
      "13941 17149\n",
      "18086 21280\n",
      "22216 29934\n"
     ]
    },
    {
     "name": "stderr",
     "output_type": "stream",
     "text": [
      "/home/mplitt/repos/TwoPUtils/TwoPUtils/spatial_analyses.py:139: RuntimeWarning: Mean of empty slice\n",
      "  SI = spatial_info(np.nanmean(C_trial_mat,axis=0),occ)\n",
      "/home/mplitt/repos/TwoPUtils/TwoPUtils/spatial_analyses.py:150: RuntimeWarning: Mean of empty slice\n",
      "  _SI_perm =  spatial_info(np.nanmean(C_trial_mat,axis=0),occ)\n"
     ]
    },
    {
     "name": "stdout",
     "output_type": "stream",
     "text": [
      "perm 0\n"
     ]
    },
    {
     "name": "stderr",
     "output_type": "stream",
     "text": [
      "/home/mplitt/repos/TwoPUtils/TwoPUtils/spatial_analyses.py:139: RuntimeWarning: Mean of empty slice\n",
      "  SI = spatial_info(np.nanmean(C_trial_mat,axis=0),occ)\n"
     ]
    },
    {
     "name": "stdout",
     "output_type": "stream",
     "text": [
      "perm 0\n"
     ]
    },
    {
     "name": "stderr",
     "output_type": "stream",
     "text": [
      "/home/mplitt/repos/TwoPUtils/TwoPUtils/spatial_analyses.py:150: RuntimeWarning: Mean of empty slice\n",
      "  _SI_perm =  spatial_info(np.nanmean(C_trial_mat,axis=0),occ)\n",
      "/home/mplitt/repos/TwoPUtils/TwoPUtils/sess.py:93: UserWarning: skipping checking keys, remaining initialization not guaranteed to work\n",
      "  warnings.warn(\"skipping checking keys, remaining initialization not guaranteed to work\")\n",
      "/home/mplitt/repos/TwoPUtils/TwoPUtils/sess.py:256: UserWarning: Looking for coaligned suite2p sessions is not implemented yet\n",
      "  warnings.warn(\"Looking for coaligned suite2p sessions is not implemented yet\")\n"
     ]
    },
    {
     "name": "stdout",
     "output_type": "stream",
     "text": [
      "Fixing teleports\n",
      "(87012,) (29451,)\n",
      "1904.9437847397676 1904.8004042445682\n",
      "164 3883\n",
      "4819 8198\n",
      "9135 13174\n",
      "14111 17756\n",
      "18694 21764\n",
      "22702 29450\n"
     ]
    },
    {
     "name": "stderr",
     "output_type": "stream",
     "text": [
      "/home/mplitt/repos/TwoPUtils/TwoPUtils/spatial_analyses.py:139: RuntimeWarning: Mean of empty slice\n",
      "  SI = spatial_info(np.nanmean(C_trial_mat,axis=0),occ)\n",
      "/home/mplitt/repos/TwoPUtils/TwoPUtils/spatial_analyses.py:150: RuntimeWarning: Mean of empty slice\n",
      "  _SI_perm =  spatial_info(np.nanmean(C_trial_mat,axis=0),occ)\n"
     ]
    },
    {
     "name": "stdout",
     "output_type": "stream",
     "text": [
      "perm 0\n"
     ]
    },
    {
     "name": "stderr",
     "output_type": "stream",
     "text": [
      "/home/mplitt/repos/TwoPUtils/TwoPUtils/spatial_analyses.py:139: RuntimeWarning: Mean of empty slice\n",
      "  SI = spatial_info(np.nanmean(C_trial_mat,axis=0),occ)\n"
     ]
    },
    {
     "name": "stdout",
     "output_type": "stream",
     "text": [
      "perm 0\n"
     ]
    },
    {
     "name": "stderr",
     "output_type": "stream",
     "text": [
      "/home/mplitt/repos/TwoPUtils/TwoPUtils/spatial_analyses.py:150: RuntimeWarning: Mean of empty slice\n",
      "  _SI_perm =  spatial_info(np.nanmean(C_trial_mat,axis=0),occ)\n",
      "/home/mplitt/repos/TwoPUtils/TwoPUtils/sess.py:93: UserWarning: skipping checking keys, remaining initialization not guaranteed to work\n",
      "  warnings.warn(\"skipping checking keys, remaining initialization not guaranteed to work\")\n",
      "/home/mplitt/repos/TwoPUtils/TwoPUtils/sess.py:256: UserWarning: Looking for coaligned suite2p sessions is not implemented yet\n",
      "  warnings.warn(\"Looking for coaligned suite2p sessions is not implemented yet\")\n"
     ]
    },
    {
     "name": "stdout",
     "output_type": "stream",
     "text": [
      "Fixing teleports\n",
      "(81112,) (28380,)\n",
      "1835.6019454269833 1835.5290550783225\n",
      "174 4241\n",
      "5177 8674\n",
      "9611 12809\n",
      "13746 17162\n",
      "18097 21263\n",
      "22201 28378\n"
     ]
    },
    {
     "name": "stderr",
     "output_type": "stream",
     "text": [
      "/home/mplitt/repos/TwoPUtils/TwoPUtils/spatial_analyses.py:139: RuntimeWarning: Mean of empty slice\n",
      "  SI = spatial_info(np.nanmean(C_trial_mat,axis=0),occ)\n",
      "/home/mplitt/repos/TwoPUtils/TwoPUtils/spatial_analyses.py:150: RuntimeWarning: Mean of empty slice\n",
      "  _SI_perm =  spatial_info(np.nanmean(C_trial_mat,axis=0),occ)\n"
     ]
    },
    {
     "name": "stdout",
     "output_type": "stream",
     "text": [
      "perm 0\n"
     ]
    },
    {
     "name": "stderr",
     "output_type": "stream",
     "text": [
      "/home/mplitt/repos/TwoPUtils/TwoPUtils/spatial_analyses.py:139: RuntimeWarning: Mean of empty slice\n",
      "  SI = spatial_info(np.nanmean(C_trial_mat,axis=0),occ)\n"
     ]
    },
    {
     "name": "stdout",
     "output_type": "stream",
     "text": [
      "perm 0\n"
     ]
    },
    {
     "name": "stderr",
     "output_type": "stream",
     "text": [
      "/home/mplitt/repos/TwoPUtils/TwoPUtils/spatial_analyses.py:150: RuntimeWarning: Mean of empty slice\n",
      "  _SI_perm =  spatial_info(np.nanmean(C_trial_mat,axis=0),occ)\n",
      "/home/mplitt/repos/TwoPUtils/TwoPUtils/sess.py:93: UserWarning: skipping checking keys, remaining initialization not guaranteed to work\n",
      "  warnings.warn(\"skipping checking keys, remaining initialization not guaranteed to work\")\n",
      "/home/mplitt/repos/TwoPUtils/TwoPUtils/sess.py:256: UserWarning: Looking for coaligned suite2p sessions is not implemented yet\n",
      "  warnings.warn(\"Looking for coaligned suite2p sessions is not implemented yet\")\n"
     ]
    },
    {
     "name": "stdout",
     "output_type": "stream",
     "text": [
      "Fixing teleports\n",
      "(84124,) (29194,)\n",
      "1888.276907529055 1888.177867609904\n",
      "171 3658\n",
      "4595 8434\n",
      "9369 13141\n",
      "14079 17210\n",
      "18144 21807\n",
      "22743 29193\n"
     ]
    },
    {
     "name": "stderr",
     "output_type": "stream",
     "text": [
      "/home/mplitt/repos/TwoPUtils/TwoPUtils/spatial_analyses.py:139: RuntimeWarning: Mean of empty slice\n",
      "  SI = spatial_info(np.nanmean(C_trial_mat,axis=0),occ)\n"
     ]
    },
    {
     "name": "stdout",
     "output_type": "stream",
     "text": [
      "perm 0\n"
     ]
    },
    {
     "name": "stderr",
     "output_type": "stream",
     "text": [
      "/home/mplitt/repos/TwoPUtils/TwoPUtils/spatial_analyses.py:150: RuntimeWarning: Mean of empty slice\n",
      "  _SI_perm =  spatial_info(np.nanmean(C_trial_mat,axis=0),occ)\n",
      "/home/mplitt/repos/TwoPUtils/TwoPUtils/spatial_analyses.py:139: RuntimeWarning: Mean of empty slice\n",
      "  SI = spatial_info(np.nanmean(C_trial_mat,axis=0),occ)\n"
     ]
    },
    {
     "name": "stdout",
     "output_type": "stream",
     "text": [
      "perm 0\n"
     ]
    },
    {
     "name": "stderr",
     "output_type": "stream",
     "text": [
      "/home/mplitt/repos/TwoPUtils/TwoPUtils/spatial_analyses.py:150: RuntimeWarning: Mean of empty slice\n",
      "  _SI_perm =  spatial_info(np.nanmean(C_trial_mat,axis=0),occ)\n"
     ]
    },
    {
     "ename": "FileNotFoundError",
     "evalue": "[Errno 2] No such file or directory: '/mnt/BigDisk/2P_scratch/4467333.1/06_12_2020/combined/suite2p/plane0/ops.npy'",
     "output_type": "error",
     "traceback": [
      "\u001b[0;31m---------------------------------------------------------------------------\u001b[0m",
      "\u001b[0;31mFileNotFoundError\u001b[0m                         Traceback (most recent call last)",
      "\u001b[0;32m<ipython-input-15-23913b669f8b>\u001b[0m in \u001b[0;36m<module>\u001b[0;34m\u001b[0m\n\u001b[0;32m----> 1\u001b[0;31m \u001b[0mCTRL_failed_sessions\u001b[0m \u001b[0;34m=\u001b[0m \u001b[0mrun_all_sessions\u001b[0m\u001b[0;34m(\u001b[0m\u001b[0mstx\u001b[0m\u001b[0;34m.\u001b[0m\u001b[0mymaze_sess_deets\u001b[0m\u001b[0;34m.\u001b[0m\u001b[0mCTRL_sessions\u001b[0m\u001b[0;34m,\u001b[0m\u001b[0mKO\u001b[0m\u001b[0;34m=\u001b[0m\u001b[0;32mFalse\u001b[0m\u001b[0;34m)\u001b[0m\u001b[0;34m\u001b[0m\u001b[0;34m\u001b[0m\u001b[0m\n\u001b[0m",
      "\u001b[0;32m<ipython-input-14-a0ad94269c20>\u001b[0m in \u001b[0;36mrun_all_sessions\u001b[0;34m(sess_dict, KO)\u001b[0m\n\u001b[1;32m     26\u001b[0m                 \u001b[0mtotal_frames\u001b[0m \u001b[0;34m=\u001b[0m \u001b[0;36m0\u001b[0m\u001b[0;34m\u001b[0m\u001b[0;34m\u001b[0m\u001b[0m\n\u001b[1;32m     27\u001b[0m                 \u001b[0ms2p_path\u001b[0m\u001b[0;34m=\u001b[0m\u001b[0mos\u001b[0m\u001b[0;34m.\u001b[0m\u001b[0mpath\u001b[0m\u001b[0;34m.\u001b[0m\u001b[0mjoin\u001b[0m\u001b[0;34m(\u001b[0m\u001b[0;34m\"/mnt/BigDisk/2P_scratch\"\u001b[0m\u001b[0;34m,\u001b[0m\u001b[0mmouse\u001b[0m\u001b[0;34m,\u001b[0m\u001b[0mf\u001b[0m\u001b[0;34m[\u001b[0m\u001b[0;36m0\u001b[0m\u001b[0;34m]\u001b[0m\u001b[0;34m[\u001b[0m\u001b[0;34m'date'\u001b[0m\u001b[0;34m]\u001b[0m\u001b[0;34m,\u001b[0m\u001b[0;34m'combined'\u001b[0m\u001b[0;34m,\u001b[0m\u001b[0;34m'suite2p'\u001b[0m\u001b[0;34m)\u001b[0m\u001b[0;34m\u001b[0m\u001b[0;34m\u001b[0m\u001b[0m\n\u001b[0;32m---> 28\u001b[0;31m                 \u001b[0mops\u001b[0m \u001b[0;34m=\u001b[0m \u001b[0mnp\u001b[0m\u001b[0;34m.\u001b[0m\u001b[0mload\u001b[0m\u001b[0;34m(\u001b[0m\u001b[0mos\u001b[0m\u001b[0;34m.\u001b[0m\u001b[0mpath\u001b[0m\u001b[0;34m.\u001b[0m\u001b[0mjoin\u001b[0m\u001b[0;34m(\u001b[0m\u001b[0ms2p_path\u001b[0m\u001b[0;34m,\u001b[0m\u001b[0;34m\"plane0\"\u001b[0m\u001b[0;34m,\u001b[0m\u001b[0;34m\"ops.npy\"\u001b[0m\u001b[0;34m)\u001b[0m\u001b[0;34m,\u001b[0m\u001b[0mallow_pickle\u001b[0m\u001b[0;34m=\u001b[0m\u001b[0;32mTrue\u001b[0m\u001b[0;34m)\u001b[0m\u001b[0;34m.\u001b[0m\u001b[0mall\u001b[0m\u001b[0;34m(\u001b[0m\u001b[0;34m)\u001b[0m\u001b[0;34m\u001b[0m\u001b[0;34m\u001b[0m\u001b[0m\n\u001b[0m\u001b[1;32m     29\u001b[0m                 \u001b[0mcomb_frames\u001b[0m \u001b[0;34m=\u001b[0m \u001b[0;36m0\u001b[0m\u001b[0;34m\u001b[0m\u001b[0;34m\u001b[0m\u001b[0m\n\u001b[1;32m     30\u001b[0m                 \u001b[0;32mfor\u001b[0m \u001b[0m_f\u001b[0m \u001b[0;32min\u001b[0m \u001b[0mf\u001b[0m\u001b[0;34m:\u001b[0m\u001b[0;34m\u001b[0m\u001b[0;34m\u001b[0m\u001b[0m\n",
      "\u001b[0;32m~/anaconda3/envs/STX3_test/lib/python3.8/site-packages/numpy/lib/npyio.py\u001b[0m in \u001b[0;36mload\u001b[0;34m(file, mmap_mode, allow_pickle, fix_imports, encoding)\u001b[0m\n\u001b[1;32m    414\u001b[0m             \u001b[0mown_fid\u001b[0m \u001b[0;34m=\u001b[0m \u001b[0;32mFalse\u001b[0m\u001b[0;34m\u001b[0m\u001b[0;34m\u001b[0m\u001b[0m\n\u001b[1;32m    415\u001b[0m         \u001b[0;32melse\u001b[0m\u001b[0;34m:\u001b[0m\u001b[0;34m\u001b[0m\u001b[0;34m\u001b[0m\u001b[0m\n\u001b[0;32m--> 416\u001b[0;31m             \u001b[0mfid\u001b[0m \u001b[0;34m=\u001b[0m \u001b[0mstack\u001b[0m\u001b[0;34m.\u001b[0m\u001b[0menter_context\u001b[0m\u001b[0;34m(\u001b[0m\u001b[0mopen\u001b[0m\u001b[0;34m(\u001b[0m\u001b[0mos_fspath\u001b[0m\u001b[0;34m(\u001b[0m\u001b[0mfile\u001b[0m\u001b[0;34m)\u001b[0m\u001b[0;34m,\u001b[0m \u001b[0;34m\"rb\"\u001b[0m\u001b[0;34m)\u001b[0m\u001b[0;34m)\u001b[0m\u001b[0;34m\u001b[0m\u001b[0;34m\u001b[0m\u001b[0m\n\u001b[0m\u001b[1;32m    417\u001b[0m             \u001b[0mown_fid\u001b[0m \u001b[0;34m=\u001b[0m \u001b[0;32mTrue\u001b[0m\u001b[0;34m\u001b[0m\u001b[0;34m\u001b[0m\u001b[0m\n\u001b[1;32m    418\u001b[0m \u001b[0;34m\u001b[0m\u001b[0m\n",
      "\u001b[0;31mFileNotFoundError\u001b[0m: [Errno 2] No such file or directory: '/mnt/BigDisk/2P_scratch/4467333.1/06_12_2020/combined/suite2p/plane0/ops.npy'"
     ]
    }
   ],
   "source": [
    "CTRL_failed_sessions = run_all_sessions(stx.ymaze_sess_deets.CTRL_sessions,KO=False)"
   ]
  },
  {
   "cell_type": "code",
   "execution_count": null,
   "id": "comparative-ideal",
   "metadata": {},
   "outputs": [],
   "source": [
    "print(KO_failed_sessions)"
   ]
  },
  {
   "cell_type": "code",
   "execution_count": 16,
   "id": "voluntary-leader",
   "metadata": {},
   "outputs": [
    {
     "ename": "NameError",
     "evalue": "name 'CTRL_failed_sessions' is not defined",
     "output_type": "error",
     "traceback": [
      "\u001b[0;31m---------------------------------------------------------------------------\u001b[0m",
      "\u001b[0;31mNameError\u001b[0m                                 Traceback (most recent call last)",
      "\u001b[0;32m<ipython-input-16-16d0135d6a04>\u001b[0m in \u001b[0;36m<module>\u001b[0;34m\u001b[0m\n\u001b[0;32m----> 1\u001b[0;31m \u001b[0mprint\u001b[0m\u001b[0;34m(\u001b[0m\u001b[0mCTRL_failed_sessions\u001b[0m\u001b[0;34m)\u001b[0m\u001b[0;34m\u001b[0m\u001b[0;34m\u001b[0m\u001b[0m\n\u001b[0m",
      "\u001b[0;31mNameError\u001b[0m: name 'CTRL_failed_sessions' is not defined"
     ]
    }
   ],
   "source": [
    "from numpy.random import default_rng\n",
    "rng = default_rng()print(CTRL_failed_sessions)"
   ]
  },
  {
   "cell_type": "code",
   "execution_count": 5,
   "id": "frozen-yugoslavia",
   "metadata": {},
   "outputs": [],
   "source": [
    "def update_session(sess):\n",
    "    sess.rm_timeseries('F_dFF')\n",
    "    sess.neuropil_corrected_dff()\n",
    "    sess.rm_pos_binned_trial_matrix('F_dff')\n",
    "    sess.add_pos_binned_trial_matrix('F_dff')\n",
    "    # add normalized timeseries. \n",
    "    # divide dff by 99th percentile for that cell on that session\n",
    "    sess.add_timeseries(F_dff_norm=sess.timeseries['F_dff']/np.nanpercentile(sess.timeseries['F_dff'],99,axis=1,keepdims=True))\n",
    "    sess.add_pos_binned_trial_matrix('F_dff_norm')\n",
    "    sess.add_pos_binned_trial_matrix('spks')\n",
    "    sess.add_timeseries(spks_norm = sess.timeseries['spks']/np.nanpercentile(sess.timeseries['spks'],99,axis=1,keepdims=True))\n",
    "    sess.add_pos_binned_trial_matrix('spks_norm')\n",
    "#     sess.place_cells_calc(impute_nans=False,bin_size=1)\n",
    "    TwoPUtils.sess.save_session(sess,'/home/mplitt/YMazeSessPkls')"
   ]
  },
  {
   "cell_type": "code",
   "execution_count": 8,
   "id": "leading-lotus",
   "metadata": {
    "collapsed": true,
    "jupyter": {
     "outputs_hidden": true
    }
   },
   "outputs": [
    {
     "name": "stdout",
     "output_type": "stream",
     "text": [
      "4467975.1\n",
      "0\n",
      "227 3938\n",
      "1\n",
      "164 4456\n",
      "5396 9745\n",
      "10682 15385\n",
      "16326 20668\n",
      "21606 29952\n",
      "2\n",
      "260 5104\n",
      "6041 10792\n",
      "11744 16594\n",
      "17535 22195\n",
      "23133 28008\n",
      "28944 38342\n",
      "3\n",
      "193 4874\n",
      "5811 10585\n",
      "11525 16163\n",
      "17099 21584\n",
      "22519 27422\n",
      "28362 36636\n",
      "4\n",
      "172 4877\n",
      "5815 10445\n",
      "11386 16106\n",
      "17044 21907\n",
      "22846 27555\n",
      "28494 37841\n",
      "5\n",
      "192 4676\n",
      "5613 9931\n",
      "10868 15135\n",
      "16072 20287\n",
      "21227 25146\n",
      "26083 34898\n",
      "6\n",
      "171 4733\n",
      "5671 10336\n",
      "11275 15933\n",
      "16873 21527\n",
      "22466 27346\n",
      "28287 37648\n",
      "7\n",
      "166 4944\n",
      "5879 10759\n",
      "8\n",
      "167 4862\n",
      "5801 10613\n",
      "11552 16380\n",
      "17316 26724\n",
      "9\n",
      "186 4936\n",
      "5871 10575\n",
      "11514 16296\n",
      "17238 22028\n",
      "22966 27285\n",
      "28225 36957\n",
      "10\n",
      "171 4871\n",
      "5810 10524\n",
      "11\n",
      "168 5028\n",
      "5969 10637\n",
      "11577 16465\n",
      "17406 26821\n",
      "4467975.2\n",
      "0\n",
      "181 4249\n",
      "5183 9010\n",
      "9945 13818\n",
      "14753 18464\n",
      "19417 24005\n",
      "24942 33471\n",
      "1\n",
      "184 4815\n",
      "5905 10492\n",
      "11427 16238\n",
      "17246 22013\n",
      "23065 27691\n",
      "28631 38186\n",
      "2\n",
      "185 4816\n",
      "5751 10444\n",
      "11386 16064\n",
      "17001 21970\n",
      "22915 27763\n",
      "28710 38179\n",
      "3\n",
      "164 5081\n",
      "6027 10686\n",
      "11628 16276\n",
      "17242 22192\n",
      "23134 27837\n",
      "28791 38136\n",
      "4\n",
      "185 4967\n",
      "5910 10599\n",
      "11547 16265\n",
      "17207 22194\n",
      "23136 27948\n",
      "28889 38404\n",
      "5\n",
      "185 4882\n",
      "5824 10456\n",
      "11401 16101\n",
      "17201 21711\n",
      "22653 27308\n",
      "28253 37675\n",
      "6\n",
      "190 4497\n",
      "5435 9761\n",
      "7\n",
      "183 5025\n",
      "5969 11142\n",
      "12097 16826\n",
      "17769 27235\n",
      "8\n",
      "174 4899\n",
      "5839 10554\n",
      "11496 16206\n",
      "17151 22043\n",
      "22990 27804\n",
      "28756 38384\n",
      "9\n",
      "179 5127\n",
      "6404 10831\n",
      "10\n",
      "509 5113\n",
      "6061 10972\n",
      "12142 16779\n",
      "17728 27214\n",
      "4467975.3\n",
      "0\n",
      "222 4847\n",
      "5784 10751\n",
      "11694 16639\n",
      "17585 22630\n",
      "23572 28548\n",
      "29489 38800\n",
      "1\n",
      "240 4982\n",
      "5927 10889\n",
      "11835 16762\n",
      "17702 22342\n",
      "23281 28137\n",
      "29075 38590\n",
      "2\n",
      "177 4917\n",
      "5855 10706\n",
      "11643 16421\n",
      "17366 22172\n",
      "23116 27966\n",
      "28912 38621\n",
      "3\n",
      "204 5085\n",
      "6032 10665\n",
      "11612 16797\n",
      "17739 22449\n",
      "23396 28163\n",
      "29109 38674\n",
      "4\n",
      "189 4899\n",
      "5840 10709\n",
      "11651 16384\n",
      "17325 22216\n",
      "23162 27949\n",
      "28894 38299\n",
      "5\n",
      "185 5076\n",
      "6021 10883\n",
      "11825 16633\n",
      "17575 22615\n",
      "23555 28575\n",
      "29523 38914\n",
      "6\n",
      "191 4819\n",
      "5756 10531\n",
      "7\n",
      "184 4999\n",
      "5949 10868\n",
      "11817 16812\n",
      "17755 27313\n",
      "8\n",
      "186 5122\n",
      "6066 10850\n",
      "11796 16607\n",
      "17585 22657\n",
      "23602 28310\n",
      "29252 39025\n",
      "9\n",
      "242 4943\n",
      "5890 10637\n",
      "10\n",
      "238 5431\n",
      "6378 11715\n",
      "12656 17828\n",
      "18771 28340\n",
      "4467975.4\n",
      "0\n",
      "184 5029\n",
      "5984 10756\n",
      "11697 16543\n",
      "17483 22648\n",
      "23599 28367\n",
      "29319 38706\n",
      "1\n",
      "191 4890\n",
      "5833 10688\n",
      "11634 16356\n",
      "17293 22187\n",
      "23125 27776\n",
      "28719 38079\n",
      "2\n",
      "193 5226\n",
      "6177 10804\n",
      "11755 16513\n",
      "17455 22259\n",
      "23204 28034\n",
      "28978 38318\n",
      "3\n",
      "180 4951\n",
      "5892 10545\n",
      "11489 16257\n",
      "17196 21834\n",
      "22774 26961\n",
      "27903 37214\n",
      "4\n",
      "173 4808\n",
      "6022 10527\n",
      "11470 16195\n",
      "17136 21803\n",
      "22743 27441\n",
      "28380 37694\n",
      "5\n",
      "193 5128\n",
      "6067 10755\n",
      "11698 16414\n",
      "17367 21985\n",
      "22994 27596\n",
      "28543 37864\n",
      "6\n",
      "168 4987\n",
      "5928 10676\n",
      "7\n",
      "170 4983\n",
      "5926 10595\n",
      "11633 16263\n",
      "17203 26635\n",
      "8\n",
      "166 4823\n",
      "5801 10595\n",
      "11537 16286\n",
      "17229 21889\n",
      "22832 26984\n",
      "27924 36916\n",
      "9\n",
      "170 4456\n",
      "5396 9281\n",
      "10\n",
      "171 4686\n",
      "5630 10452\n",
      "11397 15787\n",
      "16740 25112\n",
      "4467975.5\n",
      "0\n",
      "204 4906\n",
      "5854 11086\n",
      "12134 16713\n",
      "17727 22519\n",
      "23521 28622\n",
      "29654 39202\n",
      "1\n",
      "190 5189\n",
      "6134 11045\n",
      "11987 17492\n",
      "18791 23106\n",
      "24074 29418\n",
      "30524 39639\n",
      "2\n",
      "221 5938\n",
      "6883 11595\n",
      "12538 17368\n",
      "18311 23355\n",
      "24305 29190\n",
      "30136 40722\n",
      "3\n",
      "191 5183\n",
      "6127 11129\n",
      "12072 17258\n",
      "18199 22945\n",
      "23885 29084\n",
      "30028 39455\n",
      "4\n",
      "235 5041\n",
      "6454 11023\n",
      "12074 18350\n",
      "19310 25459\n",
      "26407 31563\n",
      "32622 42195\n",
      "5\n",
      "183 4986\n",
      "5928 10911\n",
      "11851 16724\n",
      "17666 22973\n",
      "23911 28772\n",
      "29712 39410\n",
      "6\n",
      "183 5102\n",
      "6040 10896\n",
      "7\n",
      "191 5440\n",
      "6388 11239\n",
      "12180 17469\n",
      "18408 28138\n",
      "8\n",
      "178 5019\n",
      "5961 10914\n",
      "11856 16707\n",
      "17648 22673\n",
      "23610 28490\n",
      "29431 39302\n",
      "9\n",
      "184 5017\n",
      "5956 10894\n",
      "10\n",
      "183 4915\n",
      "5854 10989\n",
      "11931 16761\n",
      "17705 27111\n",
      "4467331.1\n",
      "0\n",
      "174 4674\n",
      "5614 9802\n",
      "10740 14950\n",
      "15888 19974\n",
      "20911 25580\n",
      "26520 34308\n",
      "1\n",
      "168 3874\n",
      "4808 8854\n",
      "9790 13245\n",
      "14180 17753\n",
      "18688 22117\n",
      "23051 30329\n",
      "2\n",
      "169 4795\n",
      "5738 9798\n",
      "10738 14812\n",
      "15753 19354\n",
      "20295 23985\n",
      "24927 31879\n",
      "3\n",
      "184 3925\n",
      "4867 8958\n",
      "9906 13654\n",
      "14607 18744\n",
      "19681 23000\n",
      "23938 30513\n",
      "4\n",
      "167 3719\n",
      "4660 8678\n",
      "9619 14061\n",
      "14997 19849\n",
      "20786 25064\n",
      "26002 34326\n",
      "5\n",
      "168 4434\n",
      "5371 9526\n",
      "10463 14824\n",
      "15763 19658\n",
      "20599 24589\n",
      "25528 33788\n",
      "6\n",
      "226 4482\n",
      "5421 9339\n",
      "7\n",
      "189 4145\n",
      "5082 8759\n",
      "9697 13234\n",
      "14168 21430\n",
      "8\n",
      "171 4298\n",
      "5233 9282\n",
      "10216 13987\n",
      "14924 19211\n",
      "20146 24185\n",
      "25120 32124\n",
      "9\n",
      "172 4530\n",
      "5467 9449\n",
      "10\n",
      "171 3980\n",
      "4915 8605\n",
      "9539 13054\n",
      "13990 20758\n",
      "4467331.2\n",
      "0\n",
      "163 4117\n",
      "5054 9186\n",
      "10129 13755\n",
      "14692 18298\n",
      "19240 22709\n",
      "23644 30680\n",
      "1\n",
      "172 3596\n",
      "4531 7986\n",
      "8923 12422\n",
      "13358 16893\n",
      "17830 21333\n",
      "22270 29269\n",
      "2\n",
      "162 4208\n",
      "5143 8766\n",
      "9702 13069\n",
      "14006 17229\n",
      "18163 21593\n",
      "22527 28580\n",
      "3\n",
      "163 3616\n",
      "4\n",
      "163 3167\n",
      "4106 7480\n",
      "8413 12188\n",
      "13122 16729\n",
      "17664 23860\n",
      "5\n",
      "162 4658\n",
      "5592 9951\n",
      "10889 14885\n",
      "15820 19817\n",
      "20751 25070\n",
      "26006 35166\n",
      "6\n",
      "160 3555\n",
      "4489 7480\n",
      "8414 11705\n",
      "12639 15621\n",
      "16555 19549\n",
      "20482 26723\n",
      "7\n",
      "157 3176\n",
      "4110 7435\n",
      "8\n",
      "167 3755\n",
      "4689 8439\n",
      "9373 12711\n",
      "13644 20334\n",
      "9\n",
      "161 3472\n",
      "4406 7620\n",
      "8554 11968\n",
      "12902 16414\n",
      "17348 20967\n",
      "21901 29374\n",
      "10\n",
      "168 3823\n",
      "4758 8394\n",
      "11\n",
      "165 3575\n",
      "4509 7988\n",
      "8923 12572\n",
      "13506 20065\n",
      "4467332.1\n",
      "0\n",
      "175 4192\n",
      "5128 8947\n",
      "9887 14440\n",
      "15377 19821\n",
      "20764 25481\n",
      "26419 34153\n",
      "1\n",
      "176 4723\n",
      "5663 10347\n",
      "11285 16018\n",
      "16957 21819\n",
      "22762 27395\n",
      "28342 37687\n",
      "2\n",
      "187 4636\n",
      "5570 9804\n",
      "10742 14792\n",
      "15728 19850\n",
      "20796 25431\n",
      "26367 35523\n",
      "3\n",
      "176 4407\n",
      "5349 9163\n",
      "10099 14043\n",
      "14981 18563\n",
      "19498 23514\n",
      "24450 32237\n",
      "4\n",
      "168 4299\n",
      "5234 8914\n",
      "9858 13549\n",
      "14483 18236\n",
      "19173 22722\n",
      "23659 30324\n",
      "5\n",
      "173 3248\n",
      "4184 7653\n",
      "8591 11896\n",
      "12831 16381\n",
      "17315 21012\n",
      "21947 29017\n",
      "6\n",
      "165 4175\n",
      "5113 9370\n",
      "7\n",
      "170 4578\n",
      "5512 10285\n",
      "11221 16002\n",
      "16938 26274\n",
      "8\n",
      "167 4200\n",
      "5135 9084\n",
      "10019 13711\n",
      "14647 18030\n",
      "18965 22424\n",
      "23359 29456\n",
      "9\n",
      "166 4189\n",
      "5125 8930\n",
      "10\n",
      "169 4287\n",
      "5225 9837\n",
      "10772 15531\n",
      "16467 25822\n",
      "4467332.2\n",
      "0\n",
      "0 4338\n",
      "5278 9187\n",
      "10129 12721\n",
      "1\n",
      "184 4092\n",
      "5029 9134\n",
      "10070 13530\n",
      "14469 22650\n",
      "2\n",
      "214 4949\n",
      "5884 9555\n",
      "3\n",
      "213 4918\n",
      "5862 9924\n",
      "10866 14835\n",
      "15771 23024\n",
      "4\n",
      "180 4304\n",
      "5240 9010\n",
      "10048 13993\n",
      "14928 18798\n",
      "19734 23278\n",
      "24217 31510\n",
      "5\n",
      "190 4274\n",
      "5211 9104\n",
      "10056 13792\n",
      "14726 18627\n",
      "19563 23947\n",
      "24883 31537\n",
      "6\n",
      "191 4970\n",
      "5915 10667\n",
      "11603 15902\n",
      "16841 20693\n",
      "21641 25441\n",
      "26486 33458\n",
      "7\n",
      "178 4805\n",
      "5741 10456\n",
      "11391 16002\n",
      "16939 21486\n",
      "22432 26768\n",
      "27703 35783\n",
      "8\n",
      "169 4994\n",
      "5933 10150\n",
      "9\n",
      "167 4869\n",
      "5815 10148\n",
      "11083 15135\n",
      "16070 24406\n",
      "10\n",
      "197 4970\n",
      "5905 10641\n",
      "11577 16257\n",
      "17196 21899\n",
      "22833 27210\n",
      "28144 37537\n",
      "11\n",
      "188 4870\n",
      "5806 10641\n",
      "12\n",
      "174 4971\n",
      "5911 10587\n",
      "11524 16320\n",
      "17257 26608\n",
      "4467333.1\n",
      "0\n",
      "170 3869\n",
      "4804 9044\n",
      "9979 13936\n",
      "14873 19197\n",
      "20134 24140\n",
      "25077 33680\n",
      "1\n",
      "169 3778\n",
      "4715 7879\n",
      "8814 12197\n",
      "13137 17648\n",
      "18589 22241\n",
      "23178 29795\n",
      "2\n",
      "164 3849\n",
      "4786 8475\n",
      "9411 13004\n",
      "13941 17149\n",
      "18086 21280\n",
      "22216 29934\n",
      "3\n",
      "164 3883\n",
      "4819 8198\n",
      "9135 13174\n",
      "14111 17756\n",
      "18694 21764\n",
      "22702 29450\n",
      "4\n",
      "174 4241\n",
      "5177 8674\n",
      "9611 12809\n",
      "13746 17162\n",
      "18097 21263\n",
      "22201 28378\n",
      "5\n",
      "171 3658\n",
      "4595 8434\n",
      "9369 13141\n",
      "14079 17210\n",
      "18144 21807\n",
      "22743 29193\n",
      "6\n",
      "169 3318\n",
      "4254 7872\n",
      "7\n",
      "158 3698\n",
      "4635 8361\n",
      "9297 12877\n",
      "13812 21519\n",
      "8\n",
      "169 3804\n",
      "4738 8066\n",
      "9002 12113\n",
      "13049 16165\n",
      "17102 20703\n",
      "21640 28955\n",
      "9\n",
      "147 3752\n",
      "4696 8047\n",
      "10\n",
      "159 3506\n",
      "4440 7677\n",
      "8614 12194\n",
      "13131 19235\n"
     ]
    }
   ],
   "source": [
    "for sess_dict in [stx.ymaze_sess_deets.KO_sessions_ravel, stx.ymaze_sess_deets.CTRL_sessions_ravel]:\n",
    "    for mouse, sessions in sess_dict.items():\n",
    "        print(mouse)\n",
    "        for i, deets in enumerate(sessions):\n",
    "            print(i)\n",
    "            with open(os.path.join('/home/mplitt/YMazeSessPkls',mouse,deets['date'], \"%s_%d.pkl\" % (deets['scene'],deets['session'])),'rb') as file:\n",
    "                sess = dill.load(file)\n",
    "            update_session(sess)\n",
    "\n"
   ]
  },
  {
   "cell_type": "code",
   "execution_count": 7,
   "id": "funded-progress",
   "metadata": {},
   "outputs": [
    {
     "name": "stdout",
     "output_type": "stream",
     "text": [
      "0\n",
      "0 4338\n",
      "5278 9187\n",
      "10129 12721\n",
      "1\n",
      "184 4092\n",
      "5029 9134\n",
      "10070 13530\n",
      "14469 22650\n",
      "2\n",
      "214 4949\n",
      "5884 9555\n",
      "3\n",
      "213 4918\n",
      "5862 9924\n",
      "10866 14835\n",
      "15771 23024\n",
      "4\n",
      "180 4304\n",
      "5240 9010\n",
      "10048 13993\n",
      "14928 18798\n",
      "19734 23278\n",
      "24217 31510\n",
      "5\n",
      "190 4274\n",
      "5211 9104\n",
      "10056 13792\n",
      "14726 18627\n",
      "19563 23947\n",
      "24883 31537\n",
      "6\n",
      "191 4970\n",
      "5915 10667\n",
      "11603 15902\n",
      "16841 20693\n",
      "21641 25441\n",
      "26486 33458\n",
      "7\n",
      "178 4805\n",
      "5741 10456\n",
      "11391 16002\n",
      "16939 21486\n",
      "22432 26768\n",
      "27703 35783\n",
      "8\n",
      "169 4994\n",
      "5933 10150\n",
      "9\n",
      "167 4869\n",
      "5815 10148\n",
      "11083 15135\n",
      "16070 24406\n",
      "10\n",
      "197 4970\n",
      "5905 10641\n",
      "11577 16257\n",
      "17196 21899\n",
      "22833 27210\n",
      "28144 37537\n",
      "11\n",
      "188 4870\n",
      "5806 10641\n",
      "12\n",
      "174 4971\n",
      "5911 10587\n",
      "11524 16320\n",
      "17257 26608\n"
     ]
    }
   ],
   "source": [
    "mouse = '4467332.2'\n",
    "for i, deets in enumerate(stx.ymaze_sess_deets.CTRL_sessions_ravel[mouse]):\n",
    "    print(i)\n",
    "    with open(os.path.join('/home/mplitt/YMazeSessPkls',mouse,deets['date'], \"%s_%d.pkl\" % (deets['scene'],deets['session'])),'rb') as file:\n",
    "        sess = dill.load(file)\n",
    "    update_session(sess)"
   ]
  },
  {
   "cell_type": "code",
   "execution_count": null,
   "id": "active-coating",
   "metadata": {},
   "outputs": [],
   "source": []
  }
 ],
 "metadata": {
  "kernelspec": {
   "display_name": "Python 3",
   "language": "python",
   "name": "python3"
  },
  "language_info": {
   "codemirror_mode": {
    "name": "ipython",
    "version": 3
   },
   "file_extension": ".py",
   "mimetype": "text/x-python",
   "name": "python",
   "nbconvert_exporter": "python",
   "pygments_lexer": "ipython3",
   "version": "3.8.8"
  }
 },
 "nbformat": 4,
 "nbformat_minor": 5
}
