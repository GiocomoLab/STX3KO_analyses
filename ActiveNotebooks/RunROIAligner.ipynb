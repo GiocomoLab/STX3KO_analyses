{
 "cells": [
  {
   "cell_type": "code",
   "execution_count": 1,
   "id": "widespread-international",
   "metadata": {},
   "outputs": [],
   "source": [
    "# import\n",
    "import os\n",
    "import dill\n",
    "\n",
    "import TwoPUtils\n",
    "from TwoPUtils.roi_matching import ROIAligner\n",
    "\n",
    "import STX3KO_analyses as stx\n",
    "\n",
    "%matplotlib inline\n",
    "\n",
    "%load_ext autoreload\n",
    "%autoreload 2"
   ]
  },
  {
   "cell_type": "code",
   "execution_count": 2,
   "id": "attractive-rolling",
   "metadata": {},
   "outputs": [],
   "source": [
    "def run_aligner(sess_dict):\n",
    "    for mouse, sessions in sess_dict.items():\n",
    "        \n",
    "#         sessions = stx.ymaze_sess_deets.KO_sessions[mouse]\n",
    "        sess_dir = os.path.join('/home/mplitt/YMazeSessPkls',mouse)\n",
    "        print(mouse)\n",
    "        if not os.path.exists(os.path.join(sess_dir,'roi_aligner_results.pkl')) :\n",
    "            sess_list = []\n",
    "            for sess_deets in sessions:     \n",
    "                if isinstance(sess_deets,(list,tuple)):\n",
    "                    for _sess_deets in sess_deets:\n",
    "                        with open(os.path.join(sess_dir,_sess_deets['date'],\"%s_%d.pkl\" % (_sess_deets['scene'], _sess_deets['session'])),'rb') as file:\n",
    "                            sess_list.append(dill.load(file))\n",
    "                else:\n",
    "                    with open(os.path.join(sess_dir,sess_deets['date'],\"%s_%d.pkl\" % (sess_deets['scene'], sess_deets['session'])),'rb') as file:\n",
    "                            sess_list.append(dill.load(file))\n",
    "\n",
    "            sa = ROIAligner(sess_list)\n",
    "            sa.run_pairwise_matches()\n",
    "\n",
    "            with open(os.path.join(sess_dir,'roi_aligner_results.pkl'), 'wb') as file:\n",
    "                dill.dump(sa.match_inds,file)"
   ]
  },
  {
   "cell_type": "code",
   "execution_count": 3,
   "id": "appropriate-flooring",
   "metadata": {},
   "outputs": [
    {
     "name": "stdout",
     "output_type": "stream",
     "text": [
      "4467975.1\n",
      "4467975.2\n",
      "4467975.3\n",
      "4467975.4\n",
      "4467975.5\n"
     ]
    }
   ],
   "source": [
    "run_aligner(stx.ymaze_sess_deets.KO_sessions)"
   ]
  },
  {
   "cell_type": "code",
   "execution_count": 4,
   "id": "governmental-tribute",
   "metadata": {},
   "outputs": [
    {
     "name": "stdout",
     "output_type": "stream",
     "text": [
      "4467331.1\n",
      "4467331.2\n",
      "4467332.1\n",
      "4467332.2\n",
      "4467333.1\n"
     ]
    }
   ],
   "source": [
    "run_aligner(stx.ymaze_sess_deets.CTRL_sessions)"
   ]
  },
  {
   "cell_type": "code",
   "execution_count": null,
   "id": "orange-impression",
   "metadata": {},
   "outputs": [],
   "source": []
  }
 ],
 "metadata": {
  "kernelspec": {
   "display_name": "Python 3",
   "language": "python",
   "name": "python3"
  },
  "language_info": {
   "codemirror_mode": {
    "name": "ipython",
    "version": 3
   },
   "file_extension": ".py",
   "mimetype": "text/x-python",
   "name": "python",
   "nbconvert_exporter": "python",
   "pygments_lexer": "ipython3",
   "version": "3.8.8"
  }
 },
 "nbformat": 4,
 "nbformat_minor": 5
}
