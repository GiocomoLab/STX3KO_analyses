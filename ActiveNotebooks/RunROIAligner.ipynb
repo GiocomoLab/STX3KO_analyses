{
 "cells": [
  {
   "cell_type": "code",
   "execution_count": 1,
   "id": "representative-encoding",
   "metadata": {},
   "outputs": [],
   "source": [
    "# import\n",
    "import os\n",
    "import dill\n",
    "\n",
    "import TwoPUtils\n",
    "from TwoPUtils.roi_matching import ROIAligner\n",
    "\n",
    "import STX3KO_analyses as stx\n",
    "\n",
    "%matplotlib inline\n",
    "\n",
    "%load_ext autoreload\n",
    "%autoreload 2"
   ]
  },
  {
   "cell_type": "code",
   "execution_count": 3,
   "id": "practical-creator",
   "metadata": {},
   "outputs": [],
   "source": [
    "def run_aligner(sess_dict):\n",
    "    for mouse, sessions in sess_dict.items():\n",
    "        \n",
    "#         sessions = stx.ymaze_sess_deets.KO_sessions[mouse]\n",
    "        sess_dir = os.path.join('/home/mplitt/YMazeSessPkls',mouse)\n",
    "        print(mouse)\n",
    "        if True: #not os.path.exists(os.path.join(sess_dir,'roi_aligner_results.pkl')) :\n",
    "            sess_list = []\n",
    "            for sess_deets in sessions:     \n",
    "                if isinstance(sess_deets,(list,tuple)):\n",
    "                    for _sess_deets in sess_deets:\n",
    "                        with open(os.path.join(sess_dir,_sess_deets['date'],\"%s_%d.pkl\" % (_sess_deets['scene'], _sess_deets['session'])),'rb') as file:\n",
    "                            sess_list.append(dill.load(file))\n",
    "                else:\n",
    "                    with open(os.path.join(sess_dir,sess_deets['date'],\"%s_%d.pkl\" % (sess_deets['scene'], sess_deets['session'])),'rb') as file:\n",
    "                            sess_list.append(dill.load(file))\n",
    "\n",
    "            sa = ROIAligner(sess_list)\n",
    "            sa.run_pairwise_matches()\n",
    "\n",
    "            with open(os.path.join(sess_dir,'roi_aligner_results.pkl'), 'wb') as file:\n",
    "                dill.dump(sa.match_inds,file)"
   ]
  },
  {
   "cell_type": "code",
   "execution_count": 4,
   "id": "editorial-recognition",
   "metadata": {},
   "outputs": [
    {
     "name": "stdout",
     "output_type": "stream",
     "text": [
      "4467975.1\n",
      "thresh 0.001\n",
      "thresh 0.3329282531738281\n",
      "thresh 0.40264950489997864\n",
      "thresh 0.35284696316719055\n",
      "thresh 0.3021460304260254\n",
      "thresh 0.3257610926628113\n",
      "thresh 0.30907602405548096\n",
      "thresh 0.30907602405548096\n",
      "thresh 0.3163519332408905\n",
      "thresh 0.35937167501449585\n",
      "thresh 0.35937167501449585\n",
      "thresh 0.001\n",
      "thresh 0.3329282531738281\n",
      "thresh 0.40264950489997864\n",
      "thresh 0.35284696316719055\n",
      "thresh 0.3021460304260254\n",
      "thresh 0.3257610926628113\n",
      "thresh 0.30907602405548096\n",
      "thresh 0.30907602405548096\n",
      "thresh 0.3163519332408905\n",
      "thresh 0.35937167501449585\n",
      "thresh 0.35937167501449585\n",
      "thresh 0.3732679913043976\n",
      "thresh 0.3732679913043976\n",
      "thresh 0.3933823833465576\n",
      "thresh 0.3351977894306183\n",
      "thresh 0.3396020064353943\n",
      "thresh 0.3151205906867981\n",
      "thresh 0.3135768303871155\n",
      "thresh 0.3135768303871155\n",
      "thresh 0.3558811078071594\n",
      "thresh 0.35723741149902344\n",
      "thresh 0.35723741149902344\n",
      "thresh 0.3141255507469177\n",
      "thresh 0.3141255507469177\n",
      "thresh 0.3294085690975189\n",
      "thresh 0.29436032271385193\n",
      "thresh 0.3360614905357361\n",
      "thresh 0.3590242991447449\n",
      "thresh 0.3427600989341736\n",
      "thresh 0.3427600989341736\n",
      "thresh 0.3552988896369934\n",
      "thresh 0.2983029315471649\n",
      "thresh 0.2983029315471649\n",
      "thresh 0.3576754162311554\n",
      "thresh 0.3576754162311554\n",
      "thresh 0.3579093644618988\n",
      "thresh 0.40653295612335205\n",
      "thresh 0.3228844532966614\n",
      "thresh 0.318437618970871\n",
      "thresh 0.32411418652534485\n",
      "thresh 0.32411418652534485\n",
      "thresh 0.3329368064403534\n",
      "thresh 0.30528746342658997\n",
      "thresh 0.30528746342658997\n",
      "thresh 0.3226473460197449\n",
      "thresh 0.3226473460197449\n",
      "thresh 0.3301943073272705\n",
      "thresh 0.37727434730529785\n",
      "thresh 0.28534619307518005\n",
      "thresh 0.3105933496952057\n",
      "thresh 0.32115904784202576\n",
      "thresh 0.32115904784202576\n",
      "thresh 0.2952042946815491\n",
      "thresh 0.310890478849411\n",
      "thresh 0.310890478849411\n",
      "thresh 0.3610195348262787\n",
      "thresh 0.3610195348262787\n",
      "thresh 0.25620822405815125\n",
      "thresh 0.298905296087265\n",
      "thresh 0.25886852836608887\n"
     ]
    },
    {
     "ename": "KeyboardInterrupt",
     "evalue": "",
     "output_type": "error",
     "traceback": [
      "\u001b[0;31m---------------------------------------------------------------------------\u001b[0m",
      "\u001b[0;31mKeyboardInterrupt\u001b[0m                         Traceback (most recent call last)",
      "\u001b[0;32m<ipython-input-4-16e960f9498e>\u001b[0m in \u001b[0;36m<module>\u001b[0;34m\u001b[0m\n\u001b[0;32m----> 1\u001b[0;31m \u001b[0mrun_aligner\u001b[0m\u001b[0;34m(\u001b[0m\u001b[0mstx\u001b[0m\u001b[0;34m.\u001b[0m\u001b[0mymaze_sess_deets\u001b[0m\u001b[0;34m.\u001b[0m\u001b[0mKO_sessions\u001b[0m\u001b[0;34m)\u001b[0m\u001b[0;34m\u001b[0m\u001b[0;34m\u001b[0m\u001b[0m\n\u001b[0m",
      "\u001b[0;32m<ipython-input-3-4b89f173b47c>\u001b[0m in \u001b[0;36mrun_aligner\u001b[0;34m(sess_dict)\u001b[0m\n\u001b[1;32m     17\u001b[0m \u001b[0;34m\u001b[0m\u001b[0m\n\u001b[1;32m     18\u001b[0m             \u001b[0msa\u001b[0m \u001b[0;34m=\u001b[0m \u001b[0mROIAligner\u001b[0m\u001b[0;34m(\u001b[0m\u001b[0msess_list\u001b[0m\u001b[0;34m)\u001b[0m\u001b[0;34m\u001b[0m\u001b[0;34m\u001b[0m\u001b[0m\n\u001b[0;32m---> 19\u001b[0;31m             \u001b[0msa\u001b[0m\u001b[0;34m.\u001b[0m\u001b[0mrun_pairwise_matches\u001b[0m\u001b[0;34m(\u001b[0m\u001b[0;34m)\u001b[0m\u001b[0;34m\u001b[0m\u001b[0;34m\u001b[0m\u001b[0m\n\u001b[0m\u001b[1;32m     20\u001b[0m \u001b[0;34m\u001b[0m\u001b[0m\n\u001b[1;32m     21\u001b[0m             \u001b[0;32mwith\u001b[0m \u001b[0mopen\u001b[0m\u001b[0;34m(\u001b[0m\u001b[0mos\u001b[0m\u001b[0;34m.\u001b[0m\u001b[0mpath\u001b[0m\u001b[0;34m.\u001b[0m\u001b[0mjoin\u001b[0m\u001b[0;34m(\u001b[0m\u001b[0msess_dir\u001b[0m\u001b[0;34m,\u001b[0m\u001b[0;34m'roi_aligner_results.pkl'\u001b[0m\u001b[0;34m)\u001b[0m\u001b[0;34m,\u001b[0m \u001b[0;34m'wb'\u001b[0m\u001b[0;34m)\u001b[0m \u001b[0;32mas\u001b[0m \u001b[0mfile\u001b[0m\u001b[0;34m:\u001b[0m\u001b[0;34m\u001b[0m\u001b[0;34m\u001b[0m\u001b[0m\n",
      "\u001b[0;32m~/repos/TwoPUtils/TwoPUtils/roi_matching.py\u001b[0m in \u001b[0;36mrun_pairwise_matches\u001b[0;34m(self, thresh)\u001b[0m\n\u001b[1;32m     65\u001b[0m             \u001b[0mself\u001b[0m\u001b[0;34m.\u001b[0m\u001b[0mmatch_inds\u001b[0m\u001b[0;34m[\u001b[0m\u001b[0mref_ind\u001b[0m\u001b[0;34m]\u001b[0m \u001b[0;34m=\u001b[0m \u001b[0;34m{\u001b[0m\u001b[0;34m}\u001b[0m\u001b[0;34m\u001b[0m\u001b[0;34m\u001b[0m\u001b[0m\n\u001b[1;32m     66\u001b[0m             \u001b[0;32mfor\u001b[0m \u001b[0mtarg_ind\u001b[0m \u001b[0;32min\u001b[0m \u001b[0mtarg_inds\u001b[0m\u001b[0;34m:\u001b[0m\u001b[0;34m\u001b[0m\u001b[0;34m\u001b[0m\u001b[0m\n\u001b[0;32m---> 67\u001b[0;31m                 \u001b[0mref_match_inds\u001b[0m\u001b[0;34m,\u001b[0m \u001b[0mtarg_match_inds\u001b[0m\u001b[0;34m,\u001b[0m \u001b[0miou_match\u001b[0m \u001b[0;34m=\u001b[0m \u001b[0mself\u001b[0m\u001b[0;34m.\u001b[0m\u001b[0mmatch_session_pair\u001b[0m\u001b[0;34m(\u001b[0m\u001b[0mtarg_ind\u001b[0m\u001b[0;34m,\u001b[0m\u001b[0mthresh\u001b[0m\u001b[0;34m=\u001b[0m\u001b[0mthresh\u001b[0m\u001b[0;34m)\u001b[0m\u001b[0;34m\u001b[0m\u001b[0;34m\u001b[0m\u001b[0m\n\u001b[0m\u001b[1;32m     68\u001b[0m                 \u001b[0mself\u001b[0m\u001b[0;34m.\u001b[0m\u001b[0mmatch_inds\u001b[0m\u001b[0;34m[\u001b[0m\u001b[0mref_ind\u001b[0m\u001b[0;34m]\u001b[0m\u001b[0;34m[\u001b[0m\u001b[0mtarg_ind\u001b[0m\u001b[0;34m]\u001b[0m \u001b[0;34m=\u001b[0m \u001b[0;34m{\u001b[0m\u001b[0;34m'ref_inds'\u001b[0m\u001b[0;34m:\u001b[0m \u001b[0mref_match_inds\u001b[0m\u001b[0;34m,\u001b[0m \u001b[0;34m'targ_inds'\u001b[0m\u001b[0;34m:\u001b[0m \u001b[0mtarg_match_inds\u001b[0m\u001b[0;34m,\u001b[0m \u001b[0;34m'iou'\u001b[0m\u001b[0;34m:\u001b[0m \u001b[0miou_match\u001b[0m\u001b[0;34m}\u001b[0m\u001b[0;34m\u001b[0m\u001b[0;34m\u001b[0m\u001b[0m\n\u001b[1;32m     69\u001b[0m \u001b[0;34m\u001b[0m\u001b[0m\n",
      "\u001b[0;32m~/repos/TwoPUtils/TwoPUtils/roi_matching.py\u001b[0m in \u001b[0;36mmatch_session_pair\u001b[0;34m(self, index, thresh)\u001b[0m\n\u001b[1;32m    119\u001b[0m \u001b[0;34m\u001b[0m\u001b[0m\n\u001b[1;32m    120\u001b[0m         \u001b[0;31m# get matched rois\u001b[0m\u001b[0;34m\u001b[0m\u001b[0;34m\u001b[0m\u001b[0;34m\u001b[0m\u001b[0m\n\u001b[0;32m--> 121\u001b[0;31m         \u001b[0mref_match_inds\u001b[0m\u001b[0;34m,\u001b[0m \u001b[0mtarg_match_inds\u001b[0m\u001b[0;34m,\u001b[0m \u001b[0miou_match\u001b[0m \u001b[0;34m=\u001b[0m \u001b[0mself\u001b[0m\u001b[0;34m.\u001b[0m\u001b[0mget_matches\u001b[0m\u001b[0;34m(\u001b[0m\u001b[0miou\u001b[0m\u001b[0;34m,\u001b[0m \u001b[0mthresh\u001b[0m\u001b[0;34m)\u001b[0m\u001b[0;34m\u001b[0m\u001b[0;34m\u001b[0m\u001b[0m\n\u001b[0m\u001b[1;32m    122\u001b[0m         \u001b[0;32mreturn\u001b[0m \u001b[0mref_match_inds\u001b[0m\u001b[0;34m,\u001b[0m \u001b[0mtarg_match_inds\u001b[0m\u001b[0;34m,\u001b[0m \u001b[0miou_match\u001b[0m\u001b[0;34m\u001b[0m\u001b[0;34m\u001b[0m\u001b[0m\n\u001b[1;32m    123\u001b[0m         \u001b[0;31m# self.ref_match_inds[index], self.targ_match_inds[index], self.mat_ious[index] = ref_match_inds, targ_match_inds, iou_match\u001b[0m\u001b[0;34m\u001b[0m\u001b[0;34m\u001b[0m\u001b[0;34m\u001b[0m\u001b[0m\n",
      "\u001b[0;32m~/repos/TwoPUtils/TwoPUtils/roi_matching.py\u001b[0m in \u001b[0;36mget_matches\u001b[0;34m(iou, thresh)\u001b[0m\n\u001b[1;32m    231\u001b[0m         \u001b[0;32mfor\u001b[0m \u001b[0mi\u001b[0m\u001b[0;34m,\u001b[0m \u001b[0mj\u001b[0m \u001b[0;32min\u001b[0m \u001b[0mzip\u001b[0m\u001b[0;34m(\u001b[0m\u001b[0mrow_sort\u001b[0m\u001b[0;34m[\u001b[0m\u001b[0;34m:\u001b[0m\u001b[0;34m:\u001b[0m\u001b[0;34m-\u001b[0m\u001b[0;36m1\u001b[0m\u001b[0;34m]\u001b[0m\u001b[0;34m,\u001b[0m \u001b[0mcol_sort\u001b[0m\u001b[0;34m[\u001b[0m\u001b[0;34m:\u001b[0m\u001b[0;34m:\u001b[0m\u001b[0;34m-\u001b[0m\u001b[0;36m1\u001b[0m\u001b[0;34m]\u001b[0m\u001b[0;34m)\u001b[0m\u001b[0;34m:\u001b[0m\u001b[0;34m\u001b[0m\u001b[0;34m\u001b[0m\u001b[0m\n\u001b[1;32m    232\u001b[0m             \u001b[0;31m# if not previously matched and iou>thresh\u001b[0m\u001b[0;34m\u001b[0m\u001b[0;34m\u001b[0m\u001b[0;34m\u001b[0m\u001b[0m\n\u001b[0;32m--> 233\u001b[0;31m             \u001b[0;32mif\u001b[0m \u001b[0;34m(\u001b[0m\u001b[0mi\u001b[0m \u001b[0;32mnot\u001b[0m \u001b[0;32min\u001b[0m \u001b[0mmatched_ref\u001b[0m\u001b[0;34m)\u001b[0m \u001b[0;32mand\u001b[0m \u001b[0;34m(\u001b[0m\u001b[0mj\u001b[0m \u001b[0;32mnot\u001b[0m \u001b[0;32min\u001b[0m \u001b[0mmatched_targ\u001b[0m\u001b[0;34m)\u001b[0m \u001b[0;32mand\u001b[0m \u001b[0;34m(\u001b[0m\u001b[0miou\u001b[0m\u001b[0;34m[\u001b[0m\u001b[0mi\u001b[0m\u001b[0;34m,\u001b[0m \u001b[0mj\u001b[0m\u001b[0;34m]\u001b[0m \u001b[0;34m>\u001b[0m \u001b[0mthresh\u001b[0m\u001b[0;34m)\u001b[0m\u001b[0;34m:\u001b[0m\u001b[0;34m\u001b[0m\u001b[0;34m\u001b[0m\u001b[0m\n\u001b[0m\u001b[1;32m    234\u001b[0m                 \u001b[0;32mif\u001b[0m \u001b[0mnp\u001b[0m\u001b[0;34m.\u001b[0m\u001b[0margmax\u001b[0m\u001b[0;34m(\u001b[0m\u001b[0miou\u001b[0m\u001b[0;34m[\u001b[0m\u001b[0mi\u001b[0m\u001b[0;34m,\u001b[0m \u001b[0;34m:\u001b[0m\u001b[0;34m]\u001b[0m\u001b[0;34m)\u001b[0m \u001b[0;34m==\u001b[0m \u001b[0mj\u001b[0m\u001b[0;34m:\u001b[0m\u001b[0;34m\u001b[0m\u001b[0;34m\u001b[0m\u001b[0m\n\u001b[1;32m    235\u001b[0m                     \u001b[0mmatched_ref\u001b[0m\u001b[0;34m.\u001b[0m\u001b[0mappend\u001b[0m\u001b[0;34m(\u001b[0m\u001b[0mi\u001b[0m\u001b[0;34m)\u001b[0m\u001b[0;34m\u001b[0m\u001b[0;34m\u001b[0m\u001b[0m\n",
      "\u001b[0;31mKeyboardInterrupt\u001b[0m: "
     ]
    }
   ],
   "source": [
    "run_aligner(stx.ymaze_sess_deets.KO_sessions)"
   ]
  },
  {
   "cell_type": "code",
   "execution_count": null,
   "id": "southern-carpet",
   "metadata": {},
   "outputs": [],
   "source": [
    "run_aligner(stx.ymaze_sess_deets.CTRL_sessions)"
   ]
  },
  {
   "cell_type": "code",
   "execution_count": null,
   "id": "herbal-portland",
   "metadata": {},
   "outputs": [],
   "source": []
  }
 ],
 "metadata": {
  "kernelspec": {
   "display_name": "Python 3",
   "language": "python",
   "name": "python3"
  },
  "language_info": {
   "codemirror_mode": {
    "name": "ipython",
    "version": 3
   },
   "file_extension": ".py",
   "mimetype": "text/x-python",
   "name": "python",
   "nbconvert_exporter": "python",
   "pygments_lexer": "ipython3",
   "version": "3.8.8"
  }
 },
 "nbformat": 4,
 "nbformat_minor": 5
}
