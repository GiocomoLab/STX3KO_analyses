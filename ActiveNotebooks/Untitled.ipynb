{
 "cells": [
  {
   "cell_type": "code",
   "execution_count": 2,
   "id": "specific-metallic",
   "metadata": {},
   "outputs": [],
   "source": [
    "# imports\n",
    "import os\n",
    "import math\n",
    "import dill\n",
    "from itertools import permutations\n",
    "\n",
    "import numpy as np\n",
    "import scipy as sp\n",
    "from matplotlib import pyplot as plt\n",
    "from matplotlib import gridspec\n",
    "from sklearn.linear_model import LinearRegression as linreg\n",
    "\n",
    "import suite2p as s2p\n",
    "\n",
    "import TwoPUtils\n",
    "import STX3KO_analyses as stx\n",
    "\n",
    "\n",
    "\n",
    "%matplotlib inline\n",
    "\n",
    "%load_ext autoreload\n",
    "%autoreload 2"
   ]
  },
  {
   "cell_type": "code",
   "execution_count": 10,
   "id": "considered-straight",
   "metadata": {},
   "outputs": [
    {
     "name": "stdout",
     "output_type": "stream",
     "text": [
      "50j (10+5j)\n"
     ]
    }
   ],
   "source": [
    "a = complex(0,5)\n",
    "print(10*a, 10+a)"
   ]
  },
  {
   "cell_type": "code",
   "execution_count": null,
   "id": "sixth-export",
   "metadata": {},
   "outputs": [],
   "source": []
  },
  {
   "cell_type": "code",
   "execution_count": null,
   "id": "seasonal-steps",
   "metadata": {},
   "outputs": [],
   "source": [
    "# example mouse\n",
    "\n",
    "# get sessions and common_rois\n"
   ]
  },
  {
   "cell_type": "code",
   "execution_count": null,
   "id": "alert-poetry",
   "metadata": {},
   "outputs": [],
   "source": [
    "# define single session function \n",
    "\n",
    "\n",
    "    \n",
    "    # split by blocks\n",
    "    \n",
    "    # correlation within blocks\n",
    "    \n",
    "    # left vs right correlation in last block\n",
    "    \n",
    "    # calculate "
   ]
  }
 ],
 "metadata": {
  "kernelspec": {
   "display_name": "Python 3",
   "language": "python",
   "name": "python3"
  },
  "language_info": {
   "codemirror_mode": {
    "name": "ipython",
    "version": 3
   },
   "file_extension": ".py",
   "mimetype": "text/x-python",
   "name": "python",
   "nbconvert_exporter": "python",
   "pygments_lexer": "ipython3",
   "version": "3.8.8"
  }
 },
 "nbformat": 4,
 "nbformat_minor": 5
}
