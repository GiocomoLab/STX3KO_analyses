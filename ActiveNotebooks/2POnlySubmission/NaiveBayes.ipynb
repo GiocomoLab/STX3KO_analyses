{
 "cells": [
  {
   "cell_type": "code",
   "execution_count": 1,
   "id": "acf215c5-b605-4b58-9c06-fb7aabf97e6b",
   "metadata": {},
   "outputs": [],
   "source": [
    "import os\n",
    "import math\n",
    "import dill\n",
    "from itertools import permutations\n",
    "\n",
    "\n",
    "\n",
    "\n",
    "import numpy as np\n",
    "import scipy as sp\n",
    "import pandas as pd\n",
    "from matplotlib import pyplot as plt\n",
    "from matplotlib import gridspec\n",
    "from sklearn.linear_model import LogisticRegression as logreg\n",
    "from statsmodels.regression.mixed_linear_model import MixedLM\n",
    "\n",
    "\n",
    "import TwoPUtils\n",
    "import STX3KO_analyses as stx\n",
    "u = stx.utilities\n",
    "ko_mice = stx.ymaze_sess_deets.ko_mice\n",
    "ctrl_mice = stx.ymaze_sess_deets.ctrl_mice\n",
    "\n",
    "\n",
    "plt.rcParams['pdf.fonttype']=42\n",
    "plt.rcParams['font.family'] ='sans-serif'\n",
    "plt.rcParams['font.serif'] = 'Arial'\n",
    "\n",
    "%matplotlib inline\n",
    "\n",
    "%load_ext autoreload\n",
    "%autoreload 2"
   ]
  },
  {
   "cell_type": "code",
   "execution_count": 2,
   "id": "7609a2d4-f842-4d25-890e-4094e80bd4a8",
   "metadata": {},
   "outputs": [],
   "source": [
    "figdir = \"/mnt/BigDisk/YMazeResults/neural/naive_bayes\"\n",
    "os.makedirs(figdir,exist_ok=True)"
   ]
  },
  {
   "cell_type": "code",
   "execution_count": 3,
   "id": "ea01293a-a81d-45ae-aed8-de2e7105e9cd",
   "metadata": {},
   "outputs": [],
   "source": [
    "gamma = lambda x,kappa:  1/sp.special.gamma(kappa)* np.exp(-x)*np.power(x,kappa-1)\n",
    "poiss = lambda k,lam:  1/sp.special.gamma(k)* np.exp(-lam)*np.power(lam,k)\n",
    "\n",
    "def logsumexp(x,axis=-1):\n",
    "    c = x.max(axis = axis, keepdims=True) + 1E-5\n",
    "    return c + np.log(np.sum(np.exp(x - c ),axis=axis, keepdims=True))"
   ]
  },
  {
   "cell_type": "code",
   "execution_count": 5,
   "id": "46af8f9f-5071-442a-9750-ea4124850915",
   "metadata": {},
   "outputs": [
    {
     "name": "stdout",
     "output_type": "stream",
     "text": [
      "{'date': '03_12_2020', 'scene': 'YMaze_LNovel', 'session': 1, 'scan': 8, 'novel_arm': -1, 'ravel_ind': 4}\n"
     ]
    }
   ],
   "source": [
    "mouse = ctrl_mice[0]\n",
    "day = 4\n",
    "\n",
    "\n",
    "sess = u.load_single_day(mouse,day)\n",
    "fam_trial_mat = 1/sess.scan_info['frame_rate']*sess.trial_matrices['spks'][sess.trial_info['LR']==-1*sess.novel_arm, :, :]\n",
    "fam_trial_mat = np.nanmean(fam_trial_mat, axis=0)"
   ]
  },
  {
   "cell_type": "code",
   "execution_count": 12,
   "id": "e86ac4b4-0831-4317-9a53-1a72f605afe1",
   "metadata": {},
   "outputs": [],
   "source": [
    "x = 1*sess.trial_matrices['bin_edges'][:-1]\n",
    "x[-1]=sess.trial_matrices['bin_edges'][-1]\n",
    "\n",
    "act_spline = sp.interpolate.interp1d(x, fam_trial_mat.T, axis=1)"
   ]
  },
  {
   "cell_type": "code",
   "execution_count": 13,
   "id": "f95ad59c-146f-45f8-adf7-2c39661f4df1",
   "metadata": {},
   "outputs": [
    {
     "name": "stdout",
     "output_type": "stream",
     "text": [
      "(962, 233) (233,)\n",
      "(962, 233)\n"
     ]
    }
   ],
   "source": [
    "start, stop = sess.trial_start_inds[0], sess.teleport_inds[0]\n",
    "\n",
    "t = sess.timeseries['t'][0,start:stop]\n",
    "y = 1/sess.scan_info['frame_rate']*sess.timeseries['spks'][:,start:stop]\n",
    "print(y.shape, t.shape)\n",
    "\n",
    "y_lambda = act_spline(t)\n",
    "print(y_lambda.shape)\n",
    "\n",
    "xtest = 1*sess.timeseries['bin_centers']\n",
    "likelihood = poiss"
   ]
  },
  {
   "cell_type": "code",
   "execution_count": 4,
   "id": "eaf4599a-b7b6-4f41-b1ae-5fafc3b0a5a4",
   "metadata": {},
   "outputs": [],
   "source": [
    "# within day models\n",
    "\n",
    "def crossval(sess, n_cells = -1, poisson = True, nov = False):\n",
    "    \n",
    "    # assuming uniform prior over bins\n",
    "    if nov:\n",
    "        trial_mask = sess.trial_info['LR']==sess.novel_arm\n",
    "    else:\n",
    "        trial_mask = sess.trial_info['LR']==-1*sess.novel_arm\n",
    "        \n",
    "    trial_mat = sess.trial_matrices['spks'][trial_mask,:,:]*10\n",
    "    trial_mat -= np.amin(trial_mat,axis=-1,keepdims=True)\n",
    "    trial_mat += 1E-3\n",
    "\n",
    "    # select cells\n",
    "    if n_cells ==-1:\n",
    "#         print('all_cells')\n",
    "        pass\n",
    "    else:\n",
    "        rng = np.random.default_rng()\n",
    "        trial_mat = trial_mat[:,:,rng.permutation(trial_mat.shape[-1])[:n_cells]]\n",
    "    \n",
    "    posterior = np.zeros([trial_mat.shape[0], trial_mat.shape[1], trial_mat.shape[1]])\n",
    "    for trial in range(trial_mat.shape[0]):\n",
    "        \n",
    "        mask = np.zeros((trial_mat.shape[0],))<1\n",
    "        mask[trial] = False\n",
    "        \n",
    "        trial_mat_mean = np.nanmean(trial_mat[mask,:,:],axis=0)\n",
    "        \n",
    "        y = np.copy(trial_mat[trial,:,:])\n",
    "        y[np.isnan(y)]=1E-3\n",
    "        log_likelihood = 0\n",
    "        for cell in range(trial_mat.shape[-1]):\n",
    "            if poiss:\n",
    "                log_likelihood += np.log(poiss(y[:,cell:cell+1], trial_mat_mean[:,cell:cell+1].T)+1E-3)\n",
    "            else:\n",
    "                log_likelihood += np.log(gamma(y[:,cell:cell+1], trial_mat_mean[:,cell:cell+1].T)+1E-3)\n",
    "        \n",
    "        posterior[trial,:,:] = np.exp(log_likelihood - logsumexp(log_likelihood))\n",
    "        \n",
    "\n",
    "    \n",
    "    return posterior\n",
    "\n",
    "\n",
    "def test(_y, trial_mat_mean, poisson=False):\n",
    "    log_likelihood = 0\n",
    "    for cell in range(trial_mat_mean.shape[-1]):\n",
    "        yc, tmm = _y[:,cell], trial_mat_mean[:,cell]\n",
    "        if poisson:\n",
    "            log_likelihood += np.log(poiss(yc[:,np.newaxis], tmm[np.newaxis,:])+1E-3)\n",
    "        else:\n",
    "            log_likelihood += np.log(gamma(yc[:,np.newaxis], tmm[np.newaxis,:])+1E-3)\n",
    "    return np.exp(log_likelihood - logsumexp(log_likelihood))"
   ]
  },
  {
   "cell_type": "code",
   "execution_count": null,
   "id": "7cffd7f7-9170-4718-858c-cf36cb025807",
   "metadata": {},
   "outputs": [],
   "source": []
  }
 ],
 "metadata": {
  "kernelspec": {
   "display_name": "Python 3 (ipykernel)",
   "language": "python",
   "name": "python3"
  },
  "language_info": {
   "codemirror_mode": {
    "name": "ipython",
    "version": 3
   },
   "file_extension": ".py",
   "mimetype": "text/x-python",
   "name": "python",
   "nbconvert_exporter": "python",
   "pygments_lexer": "ipython3",
   "version": "3.8.15"
  }
 },
 "nbformat": 4,
 "nbformat_minor": 5
}
