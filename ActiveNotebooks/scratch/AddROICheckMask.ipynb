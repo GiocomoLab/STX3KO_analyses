{
 "cells": [
  {
   "cell_type": "code",
   "execution_count": 60,
   "id": "dc6677bc-3d08-4202-8179-7265a00ccf3d",
   "metadata": {},
   "outputs": [
    {
     "name": "stdout",
     "output_type": "stream",
     "text": [
      "The autoreload extension is already loaded. To reload it, use:\n",
      "  %reload_ext autoreload\n"
     ]
    }
   ],
   "source": [
    "import os\n",
    "import subprocess\n",
    "\n",
    "\n",
    "import numpy as np\n",
    "import scipy as sp\n",
    "from matplotlib import pyplot as plt\n",
    "from matplotlib import gridspec\n",
    "from sklearn.linear_model import LinearRegression as LR\n",
    "\n",
    "import pandas as pd\n",
    "from pingouin import mixed_anova, anova, pairwise_tukey, pairwise_tests, rm_anova\n",
    "from statsmodels.regression.mixed_linear_model import MixedLM\n",
    "\n",
    "import TwoPUtils as tpu\n",
    "import STX3KO_analyses as stx\n",
    "from STX3KO_analyses import utilities as u\n",
    "\n",
    "ko_mice = stx.ymaze_sess_deets.ko_mice\n",
    "ctrl_mice = stx.ymaze_sess_deets.ctrl_mice\n",
    "\n",
    "plt.rcParams['pdf.fonttype']=42\n",
    "%matplotlib inline\n",
    "\n",
    "%load_ext autoreload\n",
    "%autoreload 2"
   ]
  },
  {
   "cell_type": "code",
   "execution_count": 61,
   "id": "2636a4f6-5c4f-40da-9cc4-9a8f5e150dc7",
   "metadata": {},
   "outputs": [
    {
     "name": "stdout",
     "output_type": "stream",
     "text": [
      "{'date': '28_09_2020', 'scene': 'YMaze_LNovel', 'session': 1, 'scan': 4, 'novel_arm': -1, 'ravel_ind': 0}\n"
     ]
    }
   ],
   "source": [
    "sess = u.load_single_day('4467975.5',0)"
   ]
  },
  {
   "cell_type": "code",
   "execution_count": 62,
   "id": "f7142ebb-4339-471e-846f-5f6b3e3fb271",
   "metadata": {},
   "outputs": [
    {
     "name": "stdout",
     "output_type": "stream",
     "text": [
      "(2259, 2)\n",
      "[1578.         1998.22651012]\n"
     ]
    },
    {
     "data": {
      "text/plain": [
       "(55, 30, 1578)"
      ]
     },
     "execution_count": 62,
     "metadata": {},
     "output_type": "execute_result"
    }
   ],
   "source": [
    "print(sess.iscell.shape)\n",
    "print(sess.iscell.sum(axis=0))\n",
    "sess.trial_matrices['spks'].shape"
   ]
  },
  {
   "cell_type": "code",
   "execution_count": 63,
   "id": "e649e692-937a-4002-8183-d7c41b3663e4",
   "metadata": {},
   "outputs": [
    {
     "name": "stdout",
     "output_type": "stream",
     "text": [
      "{'date': '28_09_2020', 'scene': 'YMaze_LNovel', 'session': 1, 'scan': 4, 'novel_arm': -1, 'ravel_ind': 0}\n",
      "/home/mplitt/YMazeSessPkls_HandCurated/4467975.5/28_09_2020/YMaze_LNovel_1_roi_check.csv\n"
     ]
    }
   ],
   "source": [
    "mouse = '4467975.5'\n",
    "sessions = stx.ymaze_sess_deets.KO_sessions[mouse]\n",
    "base_oak_dir = '/home/mplitt/roi_checks'\n",
    "base_local_dir = '/home/mplitt/YMazeSessPkls_HandCurated'\n",
    "for sess in sessions[:1]:\n",
    "    print(sess)\n",
    "    csv_oak_path = f\"{base_oak_dir}/{mouse}/{sess['date']}/{sess['scene']}/{sess['scene']}_{sess['session']:>03}_{sess['scan']:>03}/suite2p/plane0/roi_check.csv\"\n",
    "    csv_local_path = f\"{base_local_dir}/{mouse}/{sess['date']}/{sess['scene']}_{sess['session']}_roi_check.csv\"\n",
    "    print(csv_local_path)\n",
    "    subprocess.run(['cp', csv_oak_path,  csv_local_path])"
   ]
  },
  {
   "cell_type": "code",
   "execution_count": 64,
   "id": "6e7e5bc5-ff6e-48ae-93c2-93279f260f62",
   "metadata": {},
   "outputs": [
    {
     "name": "stdout",
     "output_type": "stream",
     "text": [
      "{'date': '28_09_2020', 'scene': 'YMaze_LNovel', 'session': 1, 'scan': 4, 'novel_arm': -1, 'ravel_ind': 0}\n"
     ]
    }
   ],
   "source": [
    "for i, sess_deets in enumerate(sessions[:1]):\n",
    "    sess = u.load_single_day(mouse,i)\n",
    "\n",
    "    csv_local_path = f\"{base_local_dir}/{mouse}/{sess_deets['date']}/{sess_deets['scene']}_{sess_deets['session']}_roi_check.csv\"\n",
    "    roi_check = pd.read_csv(csv_local_path)\n",
    "\n",
    "    roi_check_filt = roi_check.loc[ sess.iscell[:,0]>0,:]\n",
    "    red_mask = roi_check_filt['Cre']>0\n",
    "\n",
    "    for k,v in sess.timeseries.items():\n",
    "        if v.shape[0]>1:\n",
    "            sess.timeseries[k] = v[red_mask,:]\n",
    "\n",
    "    for k,v in sess.trial_matrices.items():\n",
    "        if len(v.shape)==3:\n",
    "            sess.trial_matrices[k] = v[:,:, red_mask]\n",
    "\n",
    "    for lr in sess.place_cell_info.keys():\n",
    "        for k, v in sess.place_cell_info[lr].items():\n",
    "            sess.place_cell_info[lr][k] = v[red_mask]\n",
    "        \n",
    "\n",
    "    tpu.sess.save_session(sess,'/home/mplitt/YMazeSessPkls_HandCurated')"
   ]
  },
  {
   "cell_type": "code",
   "execution_count": 53,
   "id": "d2231956-efef-4485-b035-398920392499",
   "metadata": {},
   "outputs": [
    {
     "name": "stdout",
     "output_type": "stream",
     "text": [
      "894.0 542 (542, 38161)\n"
     ]
    }
   ],
   "source": [
    "print(sess.iscell[:,0].sum(), red_mask.sum(), sess.timeseries['spks'].shape)"
   ]
  },
  {
   "cell_type": "code",
   "execution_count": 56,
   "id": "1572501c-a0ca-479b-89ca-0f5bf3dc6256",
   "metadata": {},
   "outputs": [
    {
     "data": {
      "text/plain": [
       "dict_keys(['left', 'right'])"
      ]
     },
     "execution_count": 56,
     "metadata": {},
     "output_type": "execute_result"
    }
   ],
   "source": [
    "sess.place_cell_info.keys()"
   ]
  },
  {
   "cell_type": "code",
   "execution_count": 36,
   "id": "7e7b787c-66c2-413d-a07d-36b831f51542",
   "metadata": {},
   "outputs": [],
   "source": [
    "roi_check_filt = roi_check.loc[ sess.iscell[:,0]>0,:]"
   ]
  },
  {
   "cell_type": "code",
   "execution_count": 37,
   "id": "5e5612a9-ae31-47cd-a36d-6d787dc0957d",
   "metadata": {},
   "outputs": [
    {
     "data": {
      "text/plain": [
       "(973, 5)"
      ]
     },
     "execution_count": 37,
     "metadata": {},
     "output_type": "execute_result"
    }
   ],
   "source": [
    "roi_check_filt.shape"
   ]
  },
  {
   "cell_type": "code",
   "execution_count": 38,
   "id": "886c6db1-ab1f-4160-8a56-c47b2761d813",
   "metadata": {},
   "outputs": [
    {
     "data": {
      "text/plain": [
       "(973, 35052)"
      ]
     },
     "execution_count": 38,
     "metadata": {},
     "output_type": "execute_result"
    }
   ],
   "source": [
    "sess.timeseries['spks'].shape"
   ]
  },
  {
   "cell_type": "code",
   "execution_count": 39,
   "id": "a4305cf2-4a59-4778-82d8-a045a6b0d12a",
   "metadata": {},
   "outputs": [],
   "source": [
    "red_mask = roi_check_filt['Cre']>0"
   ]
  },
  {
   "cell_type": "code",
   "execution_count": 40,
   "id": "e6ea59ce-f833-4d29-baa3-2f2fe97f8bb0",
   "metadata": {},
   "outputs": [
    {
     "data": {
      "text/plain": [
       "480"
      ]
     },
     "execution_count": 40,
     "metadata": {},
     "output_type": "execute_result"
    }
   ],
   "source": [
    "red_mask.sum()"
   ]
  },
  {
   "cell_type": "code",
   "execution_count": 43,
   "id": "800c5b43-c92f-4ed6-a6a0-c219dd35b565",
   "metadata": {},
   "outputs": [
    {
     "name": "stdout",
     "output_type": "stream",
     "text": [
      "F (973, 35052)\n",
      "Fneu (973, 35052)\n",
      "spks (973, 35052)\n",
      "F_dff (973, 35052)\n",
      "F_dff_norm (973, 35052)\n",
      "spks_norm (973, 35052)\n",
      "licks (1, 35052)\n",
      "speed (1, 35052)\n",
      "spks_norm_fast (973, 35052)\n",
      "t (1, 35052)\n",
      "spks_th (973, 35052)\n",
      "LR (1, 35052)\n",
      "reward (1, 35052)\n",
      "block_number (1, 35052)\n",
      "spks_nostop (973, 35052)\n"
     ]
    }
   ],
   "source": [
    "for k,v in sess.timeseries.items():\n",
    "    print(k,v.shape)"
   ]
  },
  {
   "cell_type": "code",
   "execution_count": 46,
   "id": "f80d3e85-37db-4a9a-80d7-7d5202099245",
   "metadata": {},
   "outputs": [
    {
     "name": "stdout",
     "output_type": "stream",
     "text": [
      "F_dff 3\n",
      "bin_edges 1\n",
      "bin_centers 1\n",
      "spks 3\n",
      "F_dff_norm 3\n",
      "spks_norm 3\n",
      "licks 2\n",
      "speed 2\n",
      "spks_norm_fast 3\n",
      "t 2\n",
      "spks_th 3\n",
      "spks_nostop 3\n"
     ]
    }
   ],
   "source": [
    "for k,v in sess.trial_matrices.items():\n",
    "    print(k,len(v.shape))"
   ]
  },
  {
   "cell_type": "code",
   "execution_count": null,
   "id": "51e62469-3013-4561-a7eb-569541da70af",
   "metadata": {},
   "outputs": [],
   "source": []
  }
 ],
 "metadata": {
  "kernelspec": {
   "display_name": "Python 3 (ipykernel)",
   "language": "python",
   "name": "python3"
  },
  "language_info": {
   "codemirror_mode": {
    "name": "ipython",
    "version": 3
   },
   "file_extension": ".py",
   "mimetype": "text/x-python",
   "name": "python",
   "nbconvert_exporter": "python",
   "pygments_lexer": "ipython3",
   "version": "3.8.15"
  }
 },
 "nbformat": 4,
 "nbformat_minor": 5
}
