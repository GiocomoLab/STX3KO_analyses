{
 "cells": [
  {
   "cell_type": "code",
   "execution_count": 1,
   "id": "92e51ec5",
   "metadata": {},
   "outputs": [
    {
     "name": "stderr",
     "output_type": "stream",
     "text": [
      "/home/mplitt/anaconda3/envs/STX3_test/lib/python3.8/site-packages/outdated/utils.py:14: OutdatedPackageWarning: The package pingouin is out of date. Your version is 0.5.0, the latest is 0.5.1.\n",
      "Set the environment variable OUTDATED_IGNORE=1 to disable these warnings.\n",
      "  return warn(\n"
     ]
    }
   ],
   "source": [
    "import os\n",
    "import dill\n",
    "\n",
    "import numpy as np\n",
    "from matplotlib import pyplot as plt\n",
    "\n",
    "import TwoPUtils as tpu\n",
    "import STX3KO_analyses as stx\n",
    "\n",
    "\n",
    "\n",
    "\n",
    "%load_ext autoreload\n",
    "%autoreload 2"
   ]
  },
  {
   "cell_type": "code",
   "execution_count": 2,
   "id": "f9c429bd",
   "metadata": {},
   "outputs": [
    {
     "name": "stdout",
     "output_type": "stream",
     "text": [
      "{'date': '18_10_2021', 'scene': 'YMaze_LNovel', 'session': 1, 'scan': 3, 'novel_arm': -1, 'ravel_ind': 0, 'mouse': 'Cre7'}\n"
     ]
    }
   ],
   "source": [
    "mouse = 'Cre7'\n",
    "f = stx.ymaze_sess_deets.KO_sessions[mouse][0]\n",
    "f['mouse']=mouse\n",
    "print(f)"
   ]
  },
  {
   "cell_type": "code",
   "execution_count": 3,
   "id": "5f1894ea",
   "metadata": {},
   "outputs": [],
   "source": [
    "twop_stem = os.path.join(\"/mnt/BigDisk/2P_scratch\",mouse,f['date'],f['scene'],\n",
    "                         \"%s_%03d_%03d\" % (f['scene'], f['session'], f['scan']))\n",
    "vr_stem = os.path.join(\"/home/mplitt/VR_scratch\", f[\"mouse\"], f['date'])\n",
    "\n",
    "f.update({\n",
    "    'scan_file': twop_stem+'.sbx',\n",
    "    'scanheader_file': twop_stem + '.mat',\n",
    "    'vr_filename': os.path.join(vr_stem,\"%s_%d.sqlite\" % (f['scene'], f['session'])),\n",
    "    'scan_number': f['scan'],\n",
    "    'prompt_for_keys': False,\n",
    "    'VR_only': False,\n",
    "    'scanner': \"NLW\",\n",
    "})\n"
   ]
  },
  {
   "cell_type": "code",
   "execution_count": 4,
   "id": "7ffdd4df",
   "metadata": {},
   "outputs": [
    {
     "name": "stdout",
     "output_type": "stream",
     "text": [
      "{'date': '18_10_2021', 'scene': 'YMaze_LNovel', 'session': 1, 'scan': 3, 'novel_arm': -1, 'ravel_ind': 0, 'mouse': 'Cre7', 'scan_file': '/mnt/BigDisk/2P_scratch/Cre7/18_10_2021/YMaze_LNovel/YMaze_LNovel_001_003.sbx', 'scanheader_file': '/mnt/BigDisk/2P_scratch/Cre7/18_10_2021/YMaze_LNovel/YMaze_LNovel_001_003.mat', 'vr_filename': '/home/mplitt/VR_scratch/Cre7/18_10_2021/YMaze_LNovel_1.sqlite', 'scan_number': 3, 'prompt_for_keys': False, 'VR_only': False, 'scanner': 'NLW'}\n"
     ]
    }
   ],
   "source": [
    "print(f)"
   ]
  },
  {
   "cell_type": "code",
   "execution_count": 5,
   "id": "df2fb857",
   "metadata": {},
   "outputs": [
    {
     "name": "stdout",
     "output_type": "stream",
     "text": [
      "Fixing teleports\n",
      "(168524,) (35052,)\n",
      "2260.2979848866503 2260.2156171284632\n"
     ]
    },
    {
     "name": "stderr",
     "output_type": "stream",
     "text": [
      "/home/mplitt/repos/TwoPUtils/TwoPUtils/preprocessing.py:233: UserWarning: Number of teleports and trial starts don't match\n",
      "  warnings.warn(\"Number of teleports and trial starts don't match\")\n",
      "/home/mplitt/repos/TwoPUtils/TwoPUtils/preprocessing.py:239: UserWarning: One more trial start than teleport, assuming the final teleport got chopped\n",
      "  warnings.warn(('One more trial start than teleport, assuming the final teleport got chopped'))\n"
     ]
    },
    {
     "name": "stdout",
     "output_type": "stream",
     "text": [
      "/mnt/BigDisk/2P_scratch/Cre7/18_10_2021/YMaze_LNovel/YMaze_LNovel_001_003/suite2p\n",
      "189 4478\n",
      "5418 9416\n",
      "10353 14647\n",
      "15584 20077\n",
      "21013 25777\n",
      "26715 35051\n",
      "perm 0\n",
      "perm 100\n",
      "perm 200\n",
      "perm 300\n",
      "perm 400\n",
      "perm 500\n",
      "perm 600\n",
      "perm 700\n",
      "perm 800\n",
      "perm 900\n",
      "perm 0\n",
      "perm 100\n",
      "perm 200\n",
      "perm 300\n",
      "perm 400\n",
      "perm 500\n",
      "perm 600\n",
      "perm 700\n",
      "perm 800\n",
      "perm 900\n"
     ]
    }
   ],
   "source": [
    "sess = stx.session.YMazeSession(**f)\n",
    "sess.load_scan_info()\n",
    "sess.align_VR_to_2P()\n",
    "sess.load_suite2p_data(which_ts=('F', 'Fneu','spks'), \n",
    "                       custom_iscell='roi_check.csv', use_iscell=False)\n",
    "sess.get_trial_info()\n",
    "sess.neuropil_corrected_dff()\n",
    "\n",
    "\n",
    "sess.place_cells_calc(nperms=1000)\n",
    "\n",
    "sess.add_pos_binned_trial_matrix('F_dff')\n",
    "sess.add_timeseries(F_dff_norm = sess.timeseries['F_dff']/np.nanpercentile(sess.timeseries['F_dff'],99,axis=1,keepdims=True))\n",
    "sess.rm_pos_binned_trial_matrix('F_dff_norm')\n",
    "sess.add_pos_binned_trial_matrix('F_dff_norm')\n",
    "\n",
    "sess.add_pos_binned_trial_matrix('spks') #,speed=sess.vr_data['dz']._values, speed_thr = .05)  \n",
    "sess.add_timeseries(spks_norm = sess.timeseries['spks']/np.nanpercentile(sess.timeseries['spks'],99,axis=1,keepdims=True))\n",
    "sess.add_pos_binned_trial_matrix('spks_norm') \n",
    "\n",
    "sess.add_timeseries(licks=sess.vr_data['lick']._values)\n",
    "sess.add_pos_binned_trial_matrix('licks')\n",
    "sess.add_timeseries(speed=sess.vr_data['dz']._values)\n",
    "sess.add_pos_binned_trial_matrix('speed')\n"
   ]
  },
  {
   "cell_type": "code",
   "execution_count": 6,
   "id": "8db22566",
   "metadata": {},
   "outputs": [],
   "source": [
    "tpu.sess.save_session(sess,'/home/mplitt/YMazeSessPkls/HandCurated')"
   ]
  },
  {
   "cell_type": "code",
   "execution_count": 7,
   "id": "ff23457a",
   "metadata": {},
   "outputs": [
    {
     "data": {
      "text/plain": [
       "Index(['roi_index', 'Cre', 'NotCre', 'Unsure', 'NotCell'], dtype='object')"
      ]
     },
     "execution_count": 7,
     "metadata": {},
     "output_type": "execute_result"
    }
   ],
   "source": [
    "sess.iscell.columns"
   ]
  },
  {
   "cell_type": "code",
   "execution_count": 25,
   "id": "e1153f91",
   "metadata": {},
   "outputs": [],
   "source": [
    "sess.iscell.drop('Unnamed: 0.1', axis=1, inplace=True)"
   ]
  },
  {
   "cell_type": "code",
   "execution_count": 31,
   "id": "fc9a3aca",
   "metadata": {},
   "outputs": [
    {
     "data": {
      "text/plain": [
       "array([False, False, False, ..., False, False,  True])"
      ]
     },
     "execution_count": 31,
     "metadata": {},
     "output_type": "execute_result"
    }
   ],
   "source": [
    "sess.iscell.loc[:,'Cre'].to_numpy()>0"
   ]
  },
  {
   "cell_type": "code",
   "execution_count": 38,
   "id": "e160a6b0",
   "metadata": {},
   "outputs": [
    {
     "name": "stdout",
     "output_type": "stream",
     "text": [
      "Fixing teleports\n",
      "(75905,) (29954,)\n",
      "1937.4089186457807 1937.3340070742802\n",
      "/mnt/BigDisk/2P_scratch/4467975.1/28_09_2020/combined/suite2p\n",
      "164 4456\n",
      "5396 9745\n",
      "10682 15385\n",
      "16326 20668\n",
      "21606 29952\n",
      "perm 0\n",
      "perm 100\n",
      "perm 200\n",
      "perm 300\n",
      "perm 400\n",
      "perm 500\n",
      "perm 600\n",
      "perm 700\n",
      "perm 800\n",
      "perm 900\n",
      "perm 0\n",
      "perm 100\n",
      "perm 200\n",
      "perm 300\n",
      "perm 400\n",
      "perm 500\n",
      "perm 600\n",
      "perm 700\n",
      "perm 800\n",
      "perm 900\n"
     ]
    }
   ],
   "source": [
    "mouse = '4467975.1'\n",
    "f = stx.ymaze_sess_deets.KO_sessions[mouse][0]\n",
    "f['mouse']=mouse\n",
    "\n",
    "twop_stem = os.path.join(\"/mnt/BigDisk/2P_scratch\",mouse,f['date'],f['scene'],\n",
    "                         \"%s_%03d_%03d\" % (f['scene'], f['session'], f['scan']))\n",
    "vr_stem = os.path.join(\"/home/mplitt/VR_scratch\", f[\"mouse\"], f['date'])\n",
    "\n",
    "f.update({\n",
    "    'scan_file': twop_stem+'.sbx',\n",
    "    'scanheader_file': twop_stem + '.mat',\n",
    "    'vr_filename': os.path.join(vr_stem,\"%s_%d.sqlite\" % (f['scene'], f['session'])),\n",
    "    'scan_number': f['scan'],\n",
    "    'prompt_for_keys': False,\n",
    "    'VR_only': False,\n",
    "    's2p_path': os.path.normpath(\"/mnt/BigDisk/2P_scratch/4467975.1/28_09_2020/combined/suite2p\"),\n",
    "    'scanner': \"NLW\",\n",
    "})\n",
    "\n",
    "sess = stx.session.YMazeSession(**f)\n",
    "sess.load_scan_info()\n",
    "sess.align_VR_to_2P()\n",
    "\n",
    "first_frame = tpu.scanner_tools.sbx_utils.loadmat(os.path.join(\"/mnt/BigDisk/2P_scratch\",\n",
    "                                                                     mouse, f[\"date\"], f[\"scene\"],\n",
    "                                                                     \"YMaze_LNovel_001_003.mat\"))['max_idx']\n",
    "frames = slice(first_frame, first_frame+sess.scan_info['max_idx'])\n",
    "sess.load_suite2p_data(which_ts=('F', 'Fneu','spks'), \n",
    "                       custom_iscell='roi_check.csv', use_iscell=False, frames=frames)\n",
    "sess.get_trial_info()\n",
    "sess.neuropil_corrected_dff()\n",
    "\n",
    "\n",
    "sess.place_cells_calc(nperms=1000)\n",
    "\n",
    "sess.add_pos_binned_trial_matrix('F_dff')\n",
    "sess.add_timeseries(F_dff_norm = sess.timeseries['F_dff']/np.nanpercentile(sess.timeseries['F_dff'],99,axis=1,keepdims=True))\n",
    "sess.rm_pos_binned_trial_matrix('F_dff_norm')\n",
    "sess.add_pos_binned_trial_matrix('F_dff_norm')\n",
    "\n",
    "sess.add_pos_binned_trial_matrix('spks') #,speed=sess.vr_data['dz']._values, speed_thr = .05)  \n",
    "sess.add_timeseries(spks_norm = sess.timeseries['spks']/np.nanpercentile(sess.timeseries['spks'],99,axis=1,keepdims=True))\n",
    "sess.add_pos_binned_trial_matrix('spks_norm') \n",
    "\n",
    "sess.add_timeseries(licks=sess.vr_data['lick']._values)\n",
    "sess.add_pos_binned_trial_matrix('licks')\n",
    "sess.add_timeseries(speed=sess.vr_data['dz']._values)\n",
    "sess.add_pos_binned_trial_matrix('speed')\n"
   ]
  },
  {
   "cell_type": "code",
   "execution_count": null,
   "id": "20134184",
   "metadata": {},
   "outputs": [],
   "source": []
  }
 ],
 "metadata": {
  "kernelspec": {
   "display_name": "Python 3 (ipykernel)",
   "language": "python",
   "name": "python3"
  },
  "language_info": {
   "codemirror_mode": {
    "name": "ipython",
    "version": 3
   },
   "file_extension": ".py",
   "mimetype": "text/x-python",
   "name": "python",
   "nbconvert_exporter": "python",
   "pygments_lexer": "ipython3",
   "version": "3.8.8"
  }
 },
 "nbformat": 4,
 "nbformat_minor": 5
}
