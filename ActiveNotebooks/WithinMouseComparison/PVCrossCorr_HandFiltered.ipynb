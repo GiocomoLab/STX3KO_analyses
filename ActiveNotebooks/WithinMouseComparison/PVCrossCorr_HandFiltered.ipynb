{
 "cells": [
  {
   "cell_type": "code",
   "execution_count": 11,
   "id": "3fd7e293",
   "metadata": {},
   "outputs": [
    {
     "name": "stdout",
     "output_type": "stream",
     "text": [
      "The autoreload extension is already loaded. To reload it, use:\n",
      "  %reload_ext autoreload\n"
     ]
    }
   ],
   "source": [
    "import os\n",
    "from itertools import product\n",
    "\n",
    "import numpy as np\n",
    "import scipy as sp\n",
    "from matplotlib import pyplot as plt\n",
    "from matplotlib import gridspec\n",
    "\n",
    "import pandas as pd\n",
    "from pingouin import mixed_anova, anova, pairwise_tukey, pairwise_ttests\n",
    "import pingouin as pg\n",
    "from statsmodels.regression.mixed_linear_model import MixedLM\n",
    "\n",
    "import TwoPUtils as tpu\n",
    "import STX3KO_analyses as stx\n",
    "from STX3KO_analyses import utilities as u\n",
    "\n",
    "\n",
    "plt.rcParams['pdf.fonttype']=42\n",
    "ko_mice = stx.ymaze_sess_deets.ko_mice\n",
    "\n",
    "ctrl_mice = stx.ymaze_sess_deets.ctrl_mice\n",
    "# ctrl_mice = [m for m in ctrl_mice if m not in ('mCherry6')]\n",
    "\n",
    "%matplotlib inline\n",
    "\n",
    "%load_ext autoreload\n",
    "%autoreload 2"
   ]
  },
  {
   "cell_type": "code",
   "execution_count": 2,
   "id": "0108e91a",
   "metadata": {},
   "outputs": [],
   "source": [
    "def crosscorr_mat(trial_mat, inds = np.arange(-29,29)):\n",
    "    inds = np.arange(-29,30)\n",
    "    cc_mat = np.nan*np.zeros([trial_mat.shape[0], trial_mat.shape[0], inds.shape[0]])\n",
    "    for cell in range(trial_mat.shape[-1]):\n",
    "        for trial0 in range(trial_mat.shape[0]):\n",
    "            for trial1 in range(trial_mat.shape[0]):\n",
    "                tmp = np.correlate(trial_mat[trial0,:,cell],trial_mat[trial1,:,cell],mode='full')\n",
    "#                 if np.amax(tmp)>.2:\n",
    "                cc_mat[trial0,trial1,:] += tmp\n",
    "    \n",
    "    return cc_mat/trial_mat.shape[-1], inds\n",
    "\n",
    "def pv_crosscorr(trial_mat):\n",
    "    \n",
    "    tm_z = sp.stats.zscore(trial_mat, axis=-1)\n",
    "\n",
    "    n_trials, n_pos, n_cells = trial_mat.shape[0], trial_mat.shape[1], trial_mat.shape[-1]  \n",
    "    cc_mat = np.zeros((n_trials, n_trials, 2*n_pos-1))\n",
    "    for t,tp in product(range(n_trials), range(n_trials)):\n",
    "\n",
    "        _z_t, _z_tp = tm_z[t,:,:], tm_z[tp,:,:]\n",
    "        z_t, z_tp = np.zeros((n_pos*3-2,n_cells)), _z_tp[:,:]\n",
    "        z_t[n_pos-1:2*n_pos-1,:] = _z_t\n",
    "        for shift in range(0, 2*n_pos-1):\n",
    "            cc_mat[t,tp,shift] = np.nanmean(np.nanmean(z_tp*z_t[shift:shift+n_pos,:], axis=-1), axis=0)\n",
    "\n",
    "    return cc_mat\n",
    "\n",
    "# def crosscorr_res(sess):\n",
    "#     trial_mat = sp.ndimage.filters.gaussian_filter1d(sess.trial_matrices['spks_norm'][:,:,:],1,axis=1)\n",
    "#     trial_mat[np.isnan(trial_mat)]=1E-5\n",
    "    \n",
    "#     cc_mat = pv_crosscorr(trial_mat)\n",
    "    \n",
    "#     return {'cc_mat': cc_mat,\n",
    "#             'trial_info': sess.trial_info,\n",
    "#             'speed': np.nanmean(sess.trial_matrices['speed'], axis=1)\n",
    "#            }    \n",
    "\n",
    "def cc_com(cc_mat, inds = np.arange(-29,30)):\n",
    "    return np.nansum(cc_mat*inds[np.newaxis,np.newaxis,:], axis=-1)/(np.nansum(cc_mat,axis=-1)+1E-3)\n",
    "\n",
    "shift = lambda com: com*(np.tril(-1*np.ones(com.shape),k=-1) + np.triu(np.ones(com.shape), k=1))\n",
    "\n",
    "def run_crosscorr(sess, nov=True, max_trial = 5, arm_only = False, smooth = 0, keyname = 'spks_norm', cre=True):\n",
    "    if nov:\n",
    "        trial_mask = sess.trial_info['LR']==sess.novel_arm\n",
    "    else:\n",
    "        trial_mask = (-1*sess.trial_info['LR']==sess.novel_arm) & (sess.trial_info['block_number']==5)\n",
    "                  \n",
    "    com = np.nan*np.zeros([max_trial,max_trial])\n",
    "    if arm_only:\n",
    "#         trial_mat = sess.trial_matrices['spks_norm'][trial_mask,:,:][:max_trial,12:,:]\n",
    "        if cre:\n",
    "            trial_mat = sess.mcherry_pos_trialmatrix(keyname)[trial_mask,:,:][:max_trial,12:,:]\n",
    "        else:\n",
    "            trial_mat = sess.mcherry_neg_trialmatrix(keyname)[trial_mask,:,:][:max_trial,12:,:]\n",
    "    else:\n",
    "        if cre:\n",
    "            trial_mat = sess.mcherry_pos_trialmatrix(keyname)[trial_mask,:,:][:max_trial,:,:]\n",
    "        else:\n",
    "            trial_mat = sess.mcherry_neg_trialmatrix(keyname)[trial_mask,:,:][:max_trial,:,:]\n",
    "        \n",
    "    trial_mat[np.isnan(trial_mat)]=1E-3\n",
    "        \n",
    "    if smooth>0:\n",
    "        if arm_only:\n",
    "            trial_mat = sp.ndimage.filters.gaussian_filter1d(trial_mat, smooth, axis=1)[:max_trial,12:,:]\n",
    "        else:\n",
    "            trial_mat = sp.ndimage.filters.gaussian_filter1d(trial_mat, smooth, axis=1)[:max_trial,:,:]\n",
    "        \n",
    "    \n",
    "    speed = np.nanmean(sess.trial_matrices['speed'][trial_mask,:,][:max_trial,:])\n",
    "    cc_mat = pv_crosscorr(trial_mat)\n",
    "    \n",
    "    \n",
    "    \n",
    "    com[:trial_mat.shape[0], :trial_mat.shape[0]] = cc_com(cc_mat, inds = np.arange(-trial_mat.shape[1]+1,trial_mat.shape[1]))\n",
    "    return {'cc_mat': cc_mat,\n",
    "           'com': com,\n",
    "           'shift': np.nanmean(shift(com)),\n",
    "           'speed': speed}"
   ]
  },
  {
   "cell_type": "code",
   "execution_count": 12,
   "id": "4d40e121",
   "metadata": {},
   "outputs": [
    {
     "name": "stdout",
     "output_type": "stream",
     "text": [
      "{'date': '18_10_2021', 'scene': 'YMaze_LNovel', 'session': 1, 'scan': 3, 'novel_arm': -1, 'ravel_ind': 0}\n"
     ]
    }
   ],
   "source": [
    "sess = u.load_single_day('Cre7',0,pkl_basedir=\"/home/mplitt/YMazeSessPkls/HandCurated\")"
   ]
  },
  {
   "cell_type": "code",
   "execution_count": 13,
   "id": "fb5826ee",
   "metadata": {},
   "outputs": [
    {
     "name": "stderr",
     "output_type": "stream",
     "text": [
      "/tmp/ipykernel_2190293/2655061286.py:25: RuntimeWarning: Mean of empty slice\n",
      "  cc_mat[t,tp,shift] = np.nanmean(np.nanmean(z_tp*z_t[shift:shift+n_pos,:], axis=-1), axis=0)\n"
     ]
    }
   ],
   "source": [
    "cre_res = run_crosscorr(sess,nov=True,cre=True,max_trial=20,keyname='F_dff')"
   ]
  },
  {
   "cell_type": "code",
   "execution_count": 14,
   "id": "215a0743",
   "metadata": {},
   "outputs": [
    {
     "name": "stderr",
     "output_type": "stream",
     "text": [
      "/tmp/ipykernel_2190293/2655061286.py:25: RuntimeWarning: Mean of empty slice\n",
      "  cc_mat[t,tp,shift] = np.nanmean(np.nanmean(z_tp*z_t[shift:shift+n_pos,:], axis=-1), axis=0)\n"
     ]
    }
   ],
   "source": [
    "notcre_res = run_crosscorr(sess,nov=True,cre=False,max_trial=20,keyname='spks_norm')"
   ]
  },
  {
   "cell_type": "code",
   "execution_count": 15,
   "id": "07f06675",
   "metadata": {},
   "outputs": [
    {
     "data": {
      "text/plain": [
       "<matplotlib.image.AxesImage at 0x7f7e24103490>"
      ]
     },
     "execution_count": 15,
     "metadata": {},
     "output_type": "execute_result"
    },
    {
     "data": {
      "image/png": "[encoded data removed]",
      "text/plain": [
       "<Figure size 1080x360 with 3 Axes>"
      ]
     },
     "metadata": {
      "needs_background": "light"
     },
     "output_type": "display_data"
    }
   ],
   "source": [
    "fig, ax = plt.subplots(1,3, figsize=[15,5])\n",
    "ax[0].imshow(cre_res['com'])\n",
    "ax[1].imshow(notcre_res['com'])\n",
    "ax[2].imshow(notcre_res['com']-cre_res['com'], cmap='seismic', vmin=-10,vmax=10)"
   ]
  },
  {
   "cell_type": "code",
   "execution_count": null,
   "id": "2597bee0",
   "metadata": {},
   "outputs": [],
   "source": []
  },
  {
   "cell_type": "code",
   "execution_count": null,
   "id": "45287b05",
   "metadata": {},
   "outputs": [],
   "source": []
  }
 ],
 "metadata": {
  "kernelspec": {
   "display_name": "Python 3 (ipykernel)",
   "language": "python",
   "name": "python3"
  },
  "language_info": {
   "codemirror_mode": {
    "name": "ipython",
    "version": 3
   },
   "file_extension": ".py",
   "mimetype": "text/x-python",
   "name": "python",
   "nbconvert_exporter": "python",
   "pygments_lexer": "ipython3",
   "version": "3.8.8"
  }
 },
 "nbformat": 4,
 "nbformat_minor": 5
}
