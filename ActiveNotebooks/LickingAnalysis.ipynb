{
 "cells": [
  {
   "cell_type": "code",
   "execution_count": 1,
   "id": "billion-worcester",
   "metadata": {},
   "outputs": [],
   "source": [
    "import os\n",
    "import math\n",
    "import dill\n",
    "from itertools import permutations\n",
    "\n",
    "import numpy as np\n",
    "import scipy as sp\n",
    "from matplotlib import pyplot as plt\n",
    "from matplotlib import gridspec\n",
    "from sklearn.linear_model import HuberRegressor as hubreg\n",
    "\n",
    "import suite2p as s2p\n",
    "\n",
    "import TwoPUtils\n",
    "import STX3KO_analyses as stx\n",
    "from STX3KO_analyses import utilities as u\n",
    "\n",
    "ko_mice = stx.ymaze_sess_deets.ko_mice\n",
    "ctrl_mice = stx.ymaze_sess_deets.ctrl_mice\n",
    "\n",
    "\n",
    "%matplotlib inline\n",
    "\n",
    "%load_ext autoreload\n",
    "%autoreload 2"
   ]
  },
  {
   "cell_type": "code",
   "execution_count": 2,
   "id": "thrown-cedar",
   "metadata": {},
   "outputs": [],
   "source": [
    "basedir_VR = '/home/mplitt/VR_scratch'\n",
    "figdir_local = '/mnt/BigDisk/YMazeResults/behavior'\n",
    "figdir_remote = '/STX3_2P_results/scratch'"
   ]
  },
  {
   "cell_type": "code",
   "execution_count": 3,
   "id": "familiar-taylor",
   "metadata": {},
   "outputs": [
    {
     "name": "stderr",
     "output_type": "stream",
     "text": [
      "/home/mplitt/repos/TwoPUtils/TwoPUtils/sess.py:95: UserWarning: skipping checking keys, remaining initialization not guaranteed to work\n",
      "  warnings.warn(\"skipping checking keys, remaining initialization not guaranteed to work\")\n"
     ]
    },
    {
     "name": "stdout",
     "output_type": "stream",
     "text": [
      "28_09_2020 YMaze_LNovel\n",
      "29_09_2020 YMaze_LNovel\n",
      "30_09_2020 YMaze_LNovel\n",
      "01_10_2020 YMaze_LNovel\n",
      "02_10_2020 YMaze_LNovel\n",
      "03_10_2020 YMaze_LNovel\n",
      "['LR', 'block_number']\n",
      "['LR', 'block_number', 'sess_num_ravel', 'sess_num']\n",
      "LR\n",
      "block_number\n",
      "sess_num_ravel\n",
      "sess_num\n"
     ]
    }
   ],
   "source": [
    "concat_sess = u.single_mouse_concat_sessions(ko_mice[0],date_inds=np.arange(0,6))"
   ]
  },
  {
   "cell_type": "code",
   "execution_count": 4,
   "id": "younger-nepal",
   "metadata": {},
   "outputs": [
    {
     "data": {
      "text/plain": [
       "array([[0.        , 0.        , 0.        , ..., 1.08695652, 0.        ,\n",
       "               nan],\n",
       "       [0.        , 0.        , 0.        , ..., 1.18518519, 0.        ,\n",
       "        0.        ],\n",
       "       [0.        , 0.        , 0.        , ..., 0.        , 0.27777778,\n",
       "        0.        ],\n",
       "       ...,\n",
       "       [0.        , 0.        , 0.        , ..., 0.        , 0.        ,\n",
       "        0.        ],\n",
       "       [0.        , 0.        , 0.        , ..., 0.56666667, 0.        ,\n",
       "        0.        ],\n",
       "       [0.        , 0.        , 0.        , ..., 0.87234043, 0.        ,\n",
       "        0.        ]])"
      ]
     },
     "execution_count": 4,
     "metadata": {},
     "output_type": "execute_result"
    }
   ],
   "source": [
    "concat_sess.trial_matrices['licks']"
   ]
  },
  {
   "cell_type": "code",
   "execution_count": 6,
   "id": "stupid-procedure",
   "metadata": {},
   "outputs": [
    {
     "ename": "AttributeError",
     "evalue": "'list' object has no attribute 'shape'",
     "output_type": "error",
     "traceback": [
      "\u001b[0;31m---------------------------------------------------------------------------\u001b[0m",
      "\u001b[0;31mAttributeError\u001b[0m                            Traceback (most recent call last)",
      "\u001b[0;32m<ipython-input-6-2f3589896479>\u001b[0m in \u001b[0;36m<module>\u001b[0;34m\u001b[0m\n\u001b[0;32m----> 1\u001b[0;31m \u001b[0mstx\u001b[0m\u001b[0;34m.\u001b[0m\u001b[0mbehavior\u001b[0m\u001b[0;34m.\u001b[0m\u001b[0mtrial_metrics\u001b[0m\u001b[0;34m.\u001b[0m\u001b[0mget_probes_and_omissions\u001b[0m\u001b[0;34m(\u001b[0m\u001b[0mconcat_sess\u001b[0m\u001b[0;34m)\u001b[0m\u001b[0;34m\u001b[0m\u001b[0;34m\u001b[0m\u001b[0m\n\u001b[0m\u001b[1;32m      2\u001b[0m \u001b[0mstx\u001b[0m\u001b[0;34m.\u001b[0m\u001b[0mbehavior\u001b[0m\u001b[0;34m.\u001b[0m\u001b[0mtrial_metrics\u001b[0m\u001b[0;34m.\u001b[0m\u001b[0mantic_consum_licks\u001b[0m\u001b[0;34m(\u001b[0m\u001b[0mconcat_sess\u001b[0m\u001b[0;34m)\u001b[0m\u001b[0;34m\u001b[0m\u001b[0;34m\u001b[0m\u001b[0m\n\u001b[1;32m      3\u001b[0m \u001b[0mstx\u001b[0m\u001b[0;34m.\u001b[0m\u001b[0mbehavior\u001b[0m\u001b[0;34m.\u001b[0m\u001b[0mtrial_metrics\u001b[0m\u001b[0;34m.\u001b[0m\u001b[0msingle_trial_lick_metrics\u001b[0m\u001b[0;34m(\u001b[0m\u001b[0mconcat_sess\u001b[0m\u001b[0;34m)\u001b[0m\u001b[0;34m\u001b[0m\u001b[0;34m\u001b[0m\u001b[0m\n",
      "\u001b[0;32m~/repos/STX3KO_analyses/STX3KO_analyses/behavior/trial_metrics.py\u001b[0m in \u001b[0;36mget_probes_and_omissions\u001b[0;34m(sess)\u001b[0m\n\u001b[1;32m     40\u001b[0m     \u001b[0;34m:\u001b[0m\u001b[0;32mreturn\u001b[0m\u001b[0;34m:\u001b[0m\u001b[0;34m\u001b[0m\u001b[0;34m\u001b[0m\u001b[0m\n\u001b[1;32m     41\u001b[0m     '''\n\u001b[0;32m---> 42\u001b[0;31m     \u001b[0mprobes\u001b[0m \u001b[0;34m=\u001b[0m \u001b[0mnp\u001b[0m\u001b[0;34m.\u001b[0m\u001b[0mzeros\u001b[0m\u001b[0;34m(\u001b[0m\u001b[0;34m[\u001b[0m\u001b[0msess\u001b[0m\u001b[0;34m.\u001b[0m\u001b[0mtrial_start_inds\u001b[0m\u001b[0;34m.\u001b[0m\u001b[0mshape\u001b[0m\u001b[0;34m[\u001b[0m\u001b[0;36m0\u001b[0m\u001b[0;34m]\u001b[0m\u001b[0;34m,\u001b[0m \u001b[0;34m]\u001b[0m\u001b[0;34m)\u001b[0m\u001b[0;34m\u001b[0m\u001b[0;34m\u001b[0m\u001b[0m\n\u001b[0m\u001b[1;32m     43\u001b[0m     \u001b[0momissions\u001b[0m \u001b[0;34m=\u001b[0m \u001b[0mnp\u001b[0m\u001b[0;34m.\u001b[0m\u001b[0mzeros\u001b[0m\u001b[0;34m(\u001b[0m\u001b[0;34m[\u001b[0m\u001b[0msess\u001b[0m\u001b[0;34m.\u001b[0m\u001b[0mtrial_start_inds\u001b[0m\u001b[0;34m.\u001b[0m\u001b[0mshape\u001b[0m\u001b[0;34m[\u001b[0m\u001b[0;36m0\u001b[0m\u001b[0;34m]\u001b[0m\u001b[0;34m,\u001b[0m \u001b[0;34m]\u001b[0m\u001b[0;34m)\u001b[0m\u001b[0;34m\u001b[0m\u001b[0;34m\u001b[0m\u001b[0m\n\u001b[1;32m     44\u001b[0m \u001b[0;34m\u001b[0m\u001b[0m\n",
      "\u001b[0;31mAttributeError\u001b[0m: 'list' object has no attribute 'shape'"
     ]
    }
   ],
   "source": [
    "stx.behavior.trial_metrics.get_probes_and_omissions(concat_sess)\n",
    "stx.behavior.trial_metrics.antic_consum_licks(concat_sess)\n",
    "stx.behavior.trial_metrics.single_trial_lick_metrics(concat_sess)"
   ]
  },
  {
   "cell_type": "code",
   "execution_count": 16,
   "id": "posted-elevation",
   "metadata": {},
   "outputs": [
    {
     "data": {
      "text/plain": [
       "array([0.28749641, 0.99985716, 0.5999925 , 0.        , 0.74993751,\n",
       "       0.99996667, 0.        , 0.09734427, 0.1190462 , 0.51349964,\n",
       "       0.81815703, 0.45832378, 0.28332861, 0.83329861, 0.82976958,\n",
       "       0.9998889 , 0.80700339, 0.99992308, 0.6599934 , 0.64149733,\n",
       "       0.22221728, 0.99994445, 0.99975006, 0.99987502, 0.99983336,\n",
       "       0.99992308, 0.99998462, 0.86663778, 0.9354537 , 0.99995455,\n",
       "       0.99980004, 0.99991667, 0.99991667, 0.99983336, 0.7272595 ,\n",
       "       0.99997059, 0.99996296, 0.99994445, 0.99992308, 0.9629273 ,\n",
       "       0.99990001, 0.99993334, 0.99994737, 0.50806042, 0.99975006,\n",
       "       0.99995455, 0.99993334, 0.65514982, 0.99995238, 0.99992858,\n",
       "       0.9999091 , 0.999975  , 0.99996875, 0.90475113, 0.99950025,\n",
       "       0.99996875, 0.99996429, 0.99997222, 0.99995455, 0.99995455,\n",
       "       0.99987502, 0.99993334, 0.99997143, 0.99995652, 0.99992858,\n",
       "       0.99997727, 0.99993334, 0.80644294, 0.9999091 , 0.99996429,\n",
       "       0.99993334, 0.99995652, 0.599992  , 0.9998889 , 0.99990001,\n",
       "       0.99994737, 0.99995   , 0.99985716, 0.86300188, 0.99987502,\n",
       "       0.99994737, 0.99997561, 0.99997436, 0.99998039, 0.99997143,\n",
       "       0.90597903, 0.6399744 , 0.9999091 , 0.99993334, 0.99993334,\n",
       "       0.9999091 , 0.9998889 , 0.99992308, 0.99985716, 0.83131529,\n",
       "       0.9998889 , 0.99992308, 0.9999375 , 0.99983336, 0.81478464,\n",
       "       0.62120742, 0.8199836 , 0.99985716, 0.80595812, 0.99997826,\n",
       "       0.26581942, 0.58330903, 0.99985716, 0.8199836 , 0.99998182,\n",
       "       0.47726188, 0.9999697 , 0.99996667, 0.99983336, 0.99994445,\n",
       "       0.9998889 , 0.9999697 , 0.99997619, 0.44926885, 0.82049178,\n",
       "       0.99987502, 0.99987502, 0.99997297, 0.9998889 , 0.96968228,\n",
       "       0.99985716, 0.99994445, 0.99993334, 0.99997872, 0.54284939,\n",
       "       0.99990001, 0.99996296, 0.56249121, 0.99994737, 0.97870258,\n",
       "       0.99997297, 0.999975  , 0.99975006, 0.99997727])"
      ]
     },
     "execution_count": 16,
     "metadata": {},
     "output_type": "execute_result"
    }
   ],
   "source": [
    "sess.trial_info['lick_acc']"
   ]
  },
  {
   "cell_type": "code",
   "execution_count": 17,
   "id": "textile-costa",
   "metadata": {},
   "outputs": [
    {
     "data": {
      "text/plain": [
       "<matplotlib.collections.PathCollection at 0x7f6b3ca99190>"
      ]
     },
     "execution_count": 17,
     "metadata": {},
     "output_type": "execute_result"
    },
    {
     "data": {
      "image/png": "[encoded data removed]",
      "text/plain": [
       "<Figure size 432x288 with 1 Axes>"
      ]
     },
     "metadata": {
      "needs_background": "light"
     },
     "output_type": "display_data"
    }
   ],
   "source": [
    "fig, ax = plt.subplots()\n",
    "ax.scatter(np.arange(sess.trial_info['lick_acc'].shape[0]),sess.trial_info['lick_acc'])"
   ]
  },
  {
   "cell_type": "code",
   "execution_count": null,
   "id": "enabling-theater",
   "metadata": {},
   "outputs": [],
   "source": []
  }
 ],
 "metadata": {
  "kernelspec": {
   "display_name": "Python 3",
   "language": "python",
   "name": "python3"
  },
  "language_info": {
   "codemirror_mode": {
    "name": "ipython",
    "version": 3
   },
   "file_extension": ".py",
   "mimetype": "text/x-python",
   "name": "python",
   "nbconvert_exporter": "python",
   "pygments_lexer": "ipython3",
   "version": "3.8.8"
  }
 },
 "nbformat": 4,
 "nbformat_minor": 5
}
