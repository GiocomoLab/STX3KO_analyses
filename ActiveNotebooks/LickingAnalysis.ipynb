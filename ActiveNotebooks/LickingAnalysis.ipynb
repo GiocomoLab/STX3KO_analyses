{
 "cells": [
  {
   "cell_type": "code",
   "execution_count": 2,
   "id": "occasional-thesaurus",
   "metadata": {},
   "outputs": [],
   "source": [
    "import os\n",
    "import math\n",
    "import dill\n",
    "from itertools import permutations\n",
    "\n",
    "import numpy as np\n",
    "import scipy as sp\n",
    "from matplotlib import pyplot as plt\n",
    "from matplotlib import gridspec\n",
    "from sklearn.linear_model import HuberRegressor as hubreg\n",
    "\n",
    "import suite2p as s2p\n",
    "\n",
    "import TwoPUtils\n",
    "import STX3KO_analyses as stx\n",
    "from STX3KO_analyses import utilities as u\n",
    "\n",
    "ko_mice = stx.ymaze_sess_deets.ko_mice\n",
    "ctrl_mice = stx.ymaze_sess_deets.ctrl_mice\n",
    "\n",
    "\n",
    "%matplotlib inline\n",
    "\n",
    "%load_ext autoreload\n",
    "%autoreload 2"
   ]
  },
  {
   "cell_type": "code",
   "execution_count": 3,
   "id": "pacific-continent",
   "metadata": {},
   "outputs": [],
   "source": [
    "figdir = \"/mnt/BigDisk/YMazeResults/neural\""
   ]
  },
  {
   "cell_type": "code",
   "execution_count": 4,
   "id": "blond-physiology",
   "metadata": {},
   "outputs": [
    {
     "name": "stdout",
     "output_type": "stream",
     "text": [
      "{'date': '28_09_2020', 'scene': 'YMaze_LNovel', 'session': 6, 'scan': 14, 'novel': -1, 'ravel_ind': 1}\n"
     ]
    },
    {
     "name": "stderr",
     "output_type": "stream",
     "text": [
      "/home/mplitt/repos/TwoPUtils/TwoPUtils/sess.py:95: UserWarning: skipping checking keys, remaining initialization not guaranteed to work\n",
      "  warnings.warn(\"skipping checking keys, remaining initialization not guaranteed to work\")\n",
      "/home/mplitt/repos/TwoPUtils/TwoPUtils/sess.py:227: UserWarning: Could not find sbxmat file at /media/mplitt/Backup Plus2/2P_Data/4467975.1/28_09_2020/YMaze_LNovel/YMaze_LNovel_006_014.mat\n",
      "  warnings.warn(\"Could not find sbxmat file at %s\" % self.scanheader_file)\n",
      "/home/mplitt/repos/TwoPUtils/TwoPUtils/sess.py:236: UserWarning: Could not find sbx file at /media/mplitt/Backup Plus2/2P_Data/4467975.1/28_09_2020/YMaze_LNovel/YMaze_LNovel_006_014.sbx\n",
      "  warnings.warn(\"Could not find sbx file at %s\" % self.scan_file)\n"
     ]
    },
    {
     "name": "stdout",
     "output_type": "stream",
     "text": [
      "0.11001807657812257\n",
      "0.10904625799328695\n",
      "{'date': '28_09_2020', 'scene': 'YMaze_LNovel', 'session': 3, 'scan': 8, 'novel': 1, 'ravel_ind': 0}\n",
      "0.1100692616471082\n",
      "0.16736622393861975\n",
      "{'date': '28_09_2020', 'scene': 'YMaze_LNovel', 'session': 1, 'scan': 4, 'novel': -1, 'ravel_ind': 0}\n",
      "0.06032445223871624\n",
      "0.11761779819386359\n",
      "{'date': '28_09_2020', 'scene': 'YMaze_LNovel', 'session': 1, 'scan': 5, 'novel': 1, 'ravel_ind': 0}\n",
      "0.5986160337525217\n",
      "0.1284017130366221\n",
      "{'date': '28_09_2020', 'scene': 'YMaze_LNovel', 'session': 1, 'scan': 4, 'novel': -1, 'ravel_ind': 0}\n",
      "0.04977265940030089\n",
      "0.06784264128951935\n",
      "{'date': '29_11_2020', 'scene': 'YMaze_LNovel', 'session': 1, 'scan': 3, 'novel': -1, 'ravel_ind': 0}\n",
      "0.09556160932095294\n",
      "0.11449060078059704\n",
      "{'date': '29_11_2020', 'scene': 'YMaze_LNovel', 'session': 1, 'scan': 4, 'novel': 1, 'ravel_ind': 0}\n",
      "0.30208560688972996\n",
      "0.5298903020411834\n",
      "{'date': '29_11_2020', 'scene': 'YMaze_LNovel', 'session': 1, 'scan': 8, 'novel': -1, 'ravel_ind': 0}\n",
      "0.2815490926532458\n",
      "0.28627437193222127\n",
      "{'date': '29_11_2020', 'scene': 'YMaze_LNovel', 'session': 2, 'scan': 18, 'novel': 1, 'ravel_ind': 1}\n",
      "0.09538482551033799\n",
      "0.13479597571404267\n",
      "{'date': '29_11_2020', 'scene': 'YMaze_LNovel', 'session': 1, 'scan': 4, 'novel': -1, 'ravel_ind': 0}\n",
      "0.1976574458443143\n",
      "0.29125700617933264\n"
     ]
    },
    {
     "data": {
      "image/png": "[encoded data removed]",
      "text/plain": [
       "<Figure size 720x360 with 2 Axes>"
      ]
     },
     "metadata": {
      "needs_background": "light"
     },
     "output_type": "display_data"
    }
   ],
   "source": [
    "fig,ax = plt.subplots(1,2, figsize = [10,5])\n",
    "\n",
    "ko_mu = {-1:[],1:[]}\n",
    "for mouse in ko_mice:\n",
    "    sess = u.load_single_day(mouse,day=0)\n",
    "    for ax_ind, lr in enumerate([-1, 1]):\n",
    "        trial_mask = sess.trial_info['LR']== lr\n",
    "        lick_mean = np.nanmean(sess.trial_matrices['licks'][trial_mask,:].ravel())\n",
    "        \n",
    "        print(lick_mean)\n",
    "        mu, sem = np.nanmean(sess.trial_matrices['licks'][trial_mask,:]/lick_mean, axis=0), sp.stats.sem(sess.trial_matrices['licks'][trial_mask,:]/lick_mean, axis=0, nan_policy='omit')\n",
    "        ko_mu[lr].append(mu)\n",
    "#         ax[ax_ind].fill_between(sess.trial_matrices['bin_centers'], mu-sem, mu+sem, color='red', alpha = .3)\n",
    "for ax_ind, lr in enumerate([-1,1]):\n",
    "    arr = np.array(ko_mu[lr])\n",
    "    mu, sem = np.nanmean(arr,axis=0), sp.stats.sem(arr, axis=0, nan_policy='omit')\n",
    "    ax[ax_ind].fill_between(sess.trial_matrices['bin_centers'],mu- sem, mu+sem,color='red', alpha = .3)\n",
    "\n",
    "ctrl_mu = {-1:[],1:[]}\n",
    "for mouse in ctrl_mice:\n",
    "    sess = u.load_single_day(mouse,day=0)\n",
    "    for ax_ind, lr in enumerate([-1, 1]):\n",
    "        trial_mask = sess.trial_info['LR']== lr\n",
    "        lick_mean = np.nanmean(sess.trial_matrices['licks'][trial_mask,:].ravel())\n",
    "        \n",
    "        print(lick_mean)\n",
    "        mu, sem = np.nanmean(sess.trial_matrices['licks'][trial_mask,:]/lick_mean, axis=0), sp.stats.sem(sess.trial_matrices['licks'][trial_mask,:]/lick_mean, axis=0, nan_policy='omit')\n",
    "        ctrl_mu[lr].append(mu)\n",
    "#         ax[ax_ind].fill_between(sess.trial_matrices['bin_centers'], mu-sem, mu+sem, color='red', alpha = .3)\n",
    "for ax_ind, lr in enumerate([-1,1]):\n",
    "    arr = np.array(ctrl_mu[lr])\n",
    "    mu, sem = np.nanmean(arr,axis=0), sp.stats.sem(arr, axis=0, nan_policy='omit')\n",
    "    ax[ax_ind].fill_between(sess.trial_matrices['bin_centers'],mu- sem, mu+sem,color='black', alpha = .3)\n",
    "    \n",
    "    \n",
    "ax[1].fill_betweenx([0,15], sess.rzone_late['tfront'], sess.rzone_late['tback'],zorder=0, color='green',alpha=.3)\n",
    "ax[0].fill_betweenx([0,15],sess.rzone_early['tfront'], sess.rzone_early['tback'],zorder=0, color='blue',alpha=.3)\n",
    "\n",
    "ax[0].set_xlabel('Position')\n",
    "ax[1].set_xlabel('Position')\n",
    "ax[0].set_ylabel('Norm. Lick Rate')\n",
    "ax[0].spines['top'].set_visible(False)\n",
    "ax[1].spines['top'].set_visible(False)\n",
    "ax[0].spines['right'].set_visible(False)\n",
    "ax[1].spines['right'].set_visible(False)\n",
    "\n",
    "fig.savefig(os.path.join(figdir, 'LR_norm_lickrate_day1.pdf'))"
   ]
  },
  {
   "cell_type": "code",
   "execution_count": 5,
   "id": "distributed-rhythm",
   "metadata": {},
   "outputs": [
    {
     "name": "stdout",
     "output_type": "stream",
     "text": [
      "{'date': '03_10_2020', 'scene': 'YMaze_LNovel', 'session': 1, 'scan': 3, 'novel': -1, 'ravel_ind': 6}\n",
      "{'date': '03_10_2020', 'scene': 'YMaze_LNovel', 'session': 1, 'scan': 8, 'novel': 1, 'ravel_ind': 5}\n",
      "{'date': '03_10_2020', 'scene': 'YMaze_LNovel', 'session': 1, 'scan': 6, 'novel': -1, 'ravel_ind': 5}\n",
      "{'date': '03_10_2020', 'scene': 'YMaze_LNovel', 'session': 1, 'scan': 4, 'novel': 1, 'ravel_ind': 5}\n",
      "{'date': '03_10_2020', 'scene': 'YMaze_LNovel', 'session': 1, 'scan': 5, 'novel': -1, 'ravel_ind': 5}\n",
      "{'date': '04_12_2020', 'scene': 'YMaze_LNovel', 'session': 1, 'scan': 2, 'novel': -1, 'ravel_ind': 5}\n",
      "{'date': '04_12_2020', 'scene': 'YMaze_LNovel', 'session': 1, 'scan': 3, 'novel': 1, 'ravel_ind': 6}\n",
      "{'date': '04_12_2020', 'scene': 'YMaze_LNovel', 'session': 1, 'scan': 2, 'novel': -1, 'ravel_ind': 5}\n",
      "{'date': '04_12_2020', 'scene': 'YMaze_LNovel', 'session': 1, 'scan': 3, 'novel': 1, 'ravel_ind': 7}\n",
      "{'date': '05_12_2020', 'scene': 'YMaze_LNovel', 'session': 1, 'scan': 2, 'novel': -1, 'ravel_ind': 5}\n"
     ]
    },
    {
     "name": "stderr",
     "output_type": "stream",
     "text": [
      "/home/mplitt/repos/TwoPUtils/TwoPUtils/sess.py:95: UserWarning: skipping checking keys, remaining initialization not guaranteed to work\n",
      "  warnings.warn(\"skipping checking keys, remaining initialization not guaranteed to work\")\n",
      "/home/mplitt/repos/TwoPUtils/TwoPUtils/sess.py:227: UserWarning: Could not find sbxmat file at /media/mplitt/Backup Plus3/2P_Data/4467333.1/05_12_2020/YMaze_LNovel/YMaze_LNovel_001_002.mat\n",
      "  warnings.warn(\"Could not find sbxmat file at %s\" % self.scanheader_file)\n",
      "/home/mplitt/repos/TwoPUtils/TwoPUtils/sess.py:236: UserWarning: Could not find sbx file at /media/mplitt/Backup Plus3/2P_Data/4467333.1/05_12_2020/YMaze_LNovel/YMaze_LNovel_001_002.sbx\n",
      "  warnings.warn(\"Could not find sbx file at %s\" % self.scan_file)\n"
     ]
    },
    {
     "data": {
      "image/png": "[encoded data removed]",
      "text/plain": [
       "<Figure size 720x360 with 2 Axes>"
      ]
     },
     "metadata": {
      "needs_background": "light"
     },
     "output_type": "display_data"
    }
   ],
   "source": [
    "fig,ax = plt.subplots(1,2, figsize = [10,5])\n",
    "\n",
    "ko_mu = {-1:[],1:[]}\n",
    "for mouse in ko_mice:\n",
    "    sess = u.load_single_day(mouse,day=5)\n",
    "    for ax_ind, lr in enumerate([-1, 1]):\n",
    "        trial_mask = sess.trial_info['LR']== lr\n",
    "        lick_mean = np.nanmean(sess.trial_matrices['licks'][trial_mask,:].ravel())\n",
    "        \n",
    "        \n",
    "        mu, sem = np.nanmean(sess.trial_matrices['licks'][trial_mask,:]/lick_mean, axis=0), sp.stats.sem(sess.trial_matrices['licks'][trial_mask,:]/lick_mean, axis=0, nan_policy='omit')\n",
    "        \n",
    "#         mu = sp.stats.zscore(np.nanmean(sess.trial_matrices['licks'][trial_mask,:], axis=0))\n",
    "        ko_mu[lr].append(mu)\n",
    "\n",
    "        \n",
    "for ax_ind, lr in enumerate([-1,1]):\n",
    "    arr = np.array(ko_mu[lr])\n",
    "    mu, sem = np.nanmean(arr,axis=0), sp.stats.sem(arr, axis=0, nan_policy='omit')\n",
    "    ax[ax_ind].fill_between(sess.trial_matrices['bin_centers'],mu- sem, mu+sem,color='red', alpha = .3)\n",
    "#     ax[ax_ind].plot(sess.trial_matrices['bin_centers'],arr.T)\n",
    "\n",
    "ctrl_mu = {-1:[],1:[]}\n",
    "for mouse in ctrl_mice:\n",
    "    sess = u.load_single_day(mouse,day=5)\n",
    "    for ax_ind, lr in enumerate([-1, 1]):\n",
    "        trial_mask = sess.trial_info['LR']== lr\n",
    "        lick_mean = np.nanmean(sess.trial_matrices['licks'][trial_mask,:].ravel())\n",
    "        \n",
    "#         print(lick_mean)\n",
    "        mu, sem = np.nanmean(sess.trial_matrices['licks'][trial_mask,:]/lick_mean, axis=0), sp.stats.sem(sess.trial_matrices['licks'][trial_mask,:]/lick_mean, axis=0, nan_policy='omit')\n",
    "#         mu = sp.stats.zscore(np.nanmean(sess.trial_matrices['licks'][trial_mask,:], axis=0))\n",
    "        ctrl_mu[lr].append(mu)\n",
    "#         ax[ax_ind].fill_between(sess.trial_matrices['bin_centers'], mu-sem, mu+sem, color='red', alpha = .3)\n",
    "for ax_ind, lr in enumerate([-1,1]):\n",
    "    arr = np.array(ctrl_mu[lr])\n",
    "    mu, sem = np.nanmean(arr,axis=0), sp.stats.sem(arr, axis=0, nan_policy='omit')\n",
    "    ax[ax_ind].fill_between(sess.trial_matrices['bin_centers'],mu- sem, mu+sem,color='black', alpha = .3)\n",
    "    \n",
    "    \n",
    "ax[1].fill_betweenx([0,15], sess.rzone_late['tfront'], sess.rzone_late['tback'],zorder=0, color='green',alpha=.3)\n",
    "ax[0].fill_betweenx([0,15],sess.rzone_early['tfront'], sess.rzone_early['tback'],zorder=0, color='blue',alpha=.3)\n",
    "\n",
    "ax[0].set_xlabel('Position')\n",
    "ax[1].set_xlabel('Position')\n",
    "ax[0].set_ylabel('Norm. Lick Rate')\n",
    "ax[0].spines['top'].set_visible(False)\n",
    "ax[1].spines['top'].set_visible(False)\n",
    "ax[0].spines['right'].set_visible(False)\n",
    "ax[1].spines['right'].set_visible(False)\n",
    "\n",
    "fig.savefig(os.path.join(figdir, 'LR_norm_lickrate_day6.pdf'))"
   ]
  },
  {
   "cell_type": "code",
   "execution_count": 6,
   "id": "hazardous-moscow",
   "metadata": {},
   "outputs": [
    {
     "name": "stdout",
     "output_type": "stream",
     "text": [
      "{'date': '28_09_2020', 'scene': 'YMaze_LNovel', 'session': 6, 'scan': 14, 'novel': -1, 'ravel_ind': 1}\n"
     ]
    },
    {
     "name": "stderr",
     "output_type": "stream",
     "text": [
      "/home/mplitt/repos/TwoPUtils/TwoPUtils/sess.py:95: UserWarning: skipping checking keys, remaining initialization not guaranteed to work\n",
      "  warnings.warn(\"skipping checking keys, remaining initialization not guaranteed to work\")\n",
      "/home/mplitt/repos/TwoPUtils/TwoPUtils/sess.py:227: UserWarning: Could not find sbxmat file at /media/mplitt/Backup Plus2/2P_Data/4467975.1/28_09_2020/YMaze_LNovel/YMaze_LNovel_006_014.mat\n",
      "  warnings.warn(\"Could not find sbxmat file at %s\" % self.scanheader_file)\n",
      "/home/mplitt/repos/TwoPUtils/TwoPUtils/sess.py:236: UserWarning: Could not find sbx file at /media/mplitt/Backup Plus2/2P_Data/4467975.1/28_09_2020/YMaze_LNovel/YMaze_LNovel_006_014.sbx\n",
      "  warnings.warn(\"Could not find sbx file at %s\" % self.scan_file)\n"
     ]
    },
    {
     "name": "stdout",
     "output_type": "stream",
     "text": [
      "0.11001807657812257\n",
      "0.10904625799328695\n",
      "{'date': '28_09_2020', 'scene': 'YMaze_LNovel', 'session': 3, 'scan': 8, 'novel': 1, 'ravel_ind': 0}\n",
      "0.1100692616471082\n",
      "0.16736622393861975\n",
      "{'date': '28_09_2020', 'scene': 'YMaze_LNovel', 'session': 1, 'scan': 4, 'novel': -1, 'ravel_ind': 0}\n",
      "0.06032445223871624\n",
      "0.11761779819386359\n",
      "{'date': '28_09_2020', 'scene': 'YMaze_LNovel', 'session': 1, 'scan': 5, 'novel': 1, 'ravel_ind': 0}\n",
      "0.5986160337525217\n",
      "0.1284017130366221\n",
      "{'date': '28_09_2020', 'scene': 'YMaze_LNovel', 'session': 1, 'scan': 4, 'novel': -1, 'ravel_ind': 0}\n",
      "0.04977265940030089\n",
      "0.06784264128951935\n",
      "{'date': '29_11_2020', 'scene': 'YMaze_LNovel', 'session': 1, 'scan': 3, 'novel': -1, 'ravel_ind': 0}\n",
      "0.09556160932095294\n",
      "0.11449060078059704\n",
      "{'date': '29_11_2020', 'scene': 'YMaze_LNovel', 'session': 1, 'scan': 4, 'novel': 1, 'ravel_ind': 0}\n",
      "0.30208560688972996\n",
      "0.5298903020411834\n",
      "{'date': '29_11_2020', 'scene': 'YMaze_LNovel', 'session': 1, 'scan': 8, 'novel': -1, 'ravel_ind': 0}\n",
      "0.2815490926532458\n",
      "0.28627437193222127\n",
      "{'date': '29_11_2020', 'scene': 'YMaze_LNovel', 'session': 2, 'scan': 18, 'novel': 1, 'ravel_ind': 1}\n",
      "0.09538482551033799\n",
      "0.13479597571404267\n",
      "{'date': '29_11_2020', 'scene': 'YMaze_LNovel', 'session': 1, 'scan': 4, 'novel': -1, 'ravel_ind': 0}\n",
      "0.1976574458443143\n",
      "0.29125700617933264\n"
     ]
    },
    {
     "data": {
      "image/png": "[encoded data removed]",
      "text/plain": [
       "<Figure size 720x360 with 2 Axes>"
      ]
     },
     "metadata": {
      "needs_background": "light"
     },
     "output_type": "display_data"
    }
   ],
   "source": [
    "fig,ax = plt.subplots(1,2, figsize = [10,5])\n",
    "\n",
    "ko_mu = {'fam':[],'nov':[]}\n",
    "x = np.arange(-10,3)\n",
    "for mouse in ko_mice:\n",
    "    sess = u.load_single_day(mouse,day=0)\n",
    "    bin_edges = sess.trial_matrices['bin_edges']\n",
    "    for ax_ind, lr in enumerate([-1, 1]):\n",
    "        trial_mask = sess.trial_info['LR']== lr\n",
    "        lick_mean = np.nanmean(sess.trial_matrices['licks'][trial_mask,:].ravel())\n",
    "        \n",
    "        print(lick_mean)\n",
    "        mu = np.nanmean(sess.trial_matrices['licks'][trial_mask,:]/lick_mean, axis=0)\n",
    "        \n",
    "        if sess.novel_arm ==-1:\n",
    "            \n",
    "            fam_rzone_front = np.argwhere((sess.rzone_late['tfront']<=bin_edges[1:])*(sess.rzone_late['tfront']>=bin_edges[:-1]))[0][0]\n",
    "            nov_rzone_front = np.argwhere((sess.rzone_early['tfront']<=bin_edges[1:])*(sess.rzone_early['tfront']>=bin_edges[:-1]))[0][0]\n",
    "\n",
    "        elif sess.novel_arm == 1:\n",
    "            fam_rzone_front = np.argwhere((sess.rzone_early['tfront']<=bin_edges[1:])*(sess.rzone_early['tfront']>=bin_edges[:-1]))[0][0]\n",
    "            nov_rzone_front = np.argwhere((sess.rzone_late['tfront']<=bin_edges[1:])*(sess.rzone_late['tfront']>=bin_edges[:-1]))[0][0]\n",
    "        \n",
    "        if lr == sess.novel_arm:\n",
    "            ko_mu['nov'].append(mu[nov_rzone_front-10:nov_rzone_front+3])\n",
    "        else:\n",
    "            ko_mu['fam'].append(mu[fam_rzone_front-10:fam_rzone_front+3])\n",
    "            \n",
    "ctrl_mu = {'fam':[],'nov':[]}\n",
    "x = np.arange(-10,3)\n",
    "for mouse in ctrl_mice:\n",
    "    sess = u.load_single_day(mouse,day=0)\n",
    "    bin_edges = sess.trial_matrices['bin_edges']\n",
    "    for ax_ind, lr in enumerate([-1, 1]):\n",
    "        trial_mask = sess.trial_info['LR']== lr\n",
    "        lick_mean = np.nanmean(sess.trial_matrices['licks'][trial_mask,:].ravel())\n",
    "        \n",
    "        print(lick_mean)\n",
    "        mu = np.nanmean(sess.trial_matrices['licks'][trial_mask,:]/lick_mean, axis=0)\n",
    "        \n",
    "        if sess.novel_arm ==-1:\n",
    "            \n",
    "            fam_rzone_front = np.argwhere((sess.rzone_late['tfront']<=bin_edges[1:])*(sess.rzone_late['tfront']>=bin_edges[:-1]))[0][0]\n",
    "            nov_rzone_front = np.argwhere((sess.rzone_early['tfront']<=bin_edges[1:])*(sess.rzone_early['tfront']>=bin_edges[:-1]))[0][0]\n",
    "\n",
    "        elif sess.novel_arm == 1:\n",
    "            fam_rzone_front = np.argwhere((sess.rzone_early['tfront']<=bin_edges[1:])*(sess.rzone_early['tfront']>=bin_edges[:-1]))[0][0]\n",
    "            nov_rzone_front = np.argwhere((sess.rzone_late['tfront']<=bin_edges[1:])*(sess.rzone_late['tfront']>=bin_edges[:-1]))[0][0]\n",
    "        \n",
    "        if lr == sess.novel_arm:\n",
    "            ctrl_mu['nov'].append(mu[nov_rzone_front-10:nov_rzone_front+3])\n",
    "        else:\n",
    "            ctrl_mu['fam'].append(mu[fam_rzone_front-10:fam_rzone_front+3])\n",
    "        \n",
    "    \n",
    "\n",
    "\n",
    "for ax_ind, lr in enumerate(['fam', 'nov']):\n",
    "    arr = np.array(ko_mu[lr])\n",
    "    mu, sem = np.nanmean(arr,axis=0), sp.stats.sem(arr, axis=0, nan_policy='omit')\n",
    "    ax[ax_ind].fill_between(x, mu- sem, mu+sem,color='red', alpha = .3)\n",
    "    \n",
    "    arr = np.array(ctrl_mu[lr])\n",
    "    mu, sem = np.nanmean(arr,axis=0), sp.stats.sem(arr, axis=0, nan_policy='omit')\n",
    "    ax[ax_ind].fill_between(x, mu- sem, mu+sem,color='black', alpha = .3)\n",
    "#     ax[ax_ind].plot(x, np.array(ko_mu[lr]).T,color='red', alpha = .3)\n",
    "\n",
    "\n",
    "    \n",
    "ax[0].fill_betweenx([0,15], 0, 2, zorder=0, color='purple',alpha=.3)\n",
    "ax[1].fill_betweenx([0,15],0, 2, zorder=0, color='purple',alpha=.3)\n",
    "\n",
    "ax[0].set_xlabel('Position')\n",
    "ax[1].set_xlabel('Position')\n",
    "ax[0].set_ylabel('Norm. Lick Rate')\n",
    "ax[0].spines['top'].set_visible(False)\n",
    "ax[1].spines['top'].set_visible(False)\n",
    "ax[0].spines['right'].set_visible(False)\n",
    "ax[1].spines['right'].set_visible(False)\n",
    "\n",
    "fig.savefig(os.path.join(figdir, 'famnov_norm_lickrate_day1.pdf'))"
   ]
  },
  {
   "cell_type": "code",
   "execution_count": 7,
   "id": "aggressive-prague",
   "metadata": {},
   "outputs": [
    {
     "name": "stdout",
     "output_type": "stream",
     "text": [
      "{'date': '03_10_2020', 'scene': 'YMaze_LNovel', 'session': 1, 'scan': 3, 'novel': -1, 'ravel_ind': 6}\n",
      "0.060054894931674326\n",
      "0.07121593049563117\n",
      "{'date': '03_10_2020', 'scene': 'YMaze_LNovel', 'session': 1, 'scan': 8, 'novel': 1, 'ravel_ind': 5}\n",
      "0.03676734009364598\n",
      "0.04995217805680697\n",
      "{'date': '03_10_2020', 'scene': 'YMaze_LNovel', 'session': 1, 'scan': 6, 'novel': -1, 'ravel_ind': 5}\n",
      "0.03981694341904314\n",
      "0.03767281701217867\n",
      "{'date': '03_10_2020', 'scene': 'YMaze_LNovel', 'session': 1, 'scan': 4, 'novel': 1, 'ravel_ind': 5}\n",
      "0.03586871894724765\n",
      "0.04141683373820595\n",
      "{'date': '03_10_2020', 'scene': 'YMaze_LNovel', 'session': 1, 'scan': 5, 'novel': -1, 'ravel_ind': 5}\n",
      "0.021589055587124907\n",
      "0.020803115907144464\n",
      "{'date': '04_12_2020', 'scene': 'YMaze_LNovel', 'session': 1, 'scan': 2, 'novel': -1, 'ravel_ind': 5}\n",
      "0.09974398653281691\n",
      "0.09627240513598094\n",
      "{'date': '04_12_2020', 'scene': 'YMaze_LNovel', 'session': 1, 'scan': 3, 'novel': 1, 'ravel_ind': 6}\n",
      "0.1287735153906072\n",
      "0.23219426191059286\n",
      "{'date': '04_12_2020', 'scene': 'YMaze_LNovel', 'session': 1, 'scan': 2, 'novel': -1, 'ravel_ind': 5}\n",
      "0.08552969765940971\n",
      "0.0731144394651672\n",
      "{'date': '04_12_2020', 'scene': 'YMaze_LNovel', 'session': 1, 'scan': 3, 'novel': 1, 'ravel_ind': 7}\n",
      "0.052712330169800266\n",
      "0.08081991518278762\n",
      "{'date': '05_12_2020', 'scene': 'YMaze_LNovel', 'session': 1, 'scan': 2, 'novel': -1, 'ravel_ind': 5}\n"
     ]
    },
    {
     "name": "stderr",
     "output_type": "stream",
     "text": [
      "/home/mplitt/repos/TwoPUtils/TwoPUtils/sess.py:95: UserWarning: skipping checking keys, remaining initialization not guaranteed to work\n",
      "  warnings.warn(\"skipping checking keys, remaining initialization not guaranteed to work\")\n",
      "/home/mplitt/repos/TwoPUtils/TwoPUtils/sess.py:227: UserWarning: Could not find sbxmat file at /media/mplitt/Backup Plus3/2P_Data/4467333.1/05_12_2020/YMaze_LNovel/YMaze_LNovel_001_002.mat\n",
      "  warnings.warn(\"Could not find sbxmat file at %s\" % self.scanheader_file)\n",
      "/home/mplitt/repos/TwoPUtils/TwoPUtils/sess.py:236: UserWarning: Could not find sbx file at /media/mplitt/Backup Plus3/2P_Data/4467333.1/05_12_2020/YMaze_LNovel/YMaze_LNovel_001_002.sbx\n",
      "  warnings.warn(\"Could not find sbx file at %s\" % self.scan_file)\n"
     ]
    },
    {
     "name": "stdout",
     "output_type": "stream",
     "text": [
      "0.12403511881251388\n",
      "0.12518638097135698\n"
     ]
    },
    {
     "data": {
      "image/png": "[encoded data removed]",
      "text/plain": [
       "<Figure size 720x360 with 2 Axes>"
      ]
     },
     "metadata": {
      "needs_background": "light"
     },
     "output_type": "display_data"
    }
   ],
   "source": [
    "fig,ax = plt.subplots(1,2, figsize = [10,5])\n",
    "\n",
    "ko_mu = {'fam':[],'nov':[]}\n",
    "x = np.arange(-10,3)\n",
    "for mouse in ko_mice:\n",
    "    sess = u.load_single_day(mouse,day=5)\n",
    "    bin_edges = sess.trial_matrices['bin_edges']\n",
    "    for ax_ind, lr in enumerate([-1, 1]):\n",
    "        trial_mask = sess.trial_info['LR']== lr\n",
    "        lick_mean = np.nanmean(sess.trial_matrices['licks'][trial_mask,:].ravel())\n",
    "        \n",
    "        print(lick_mean)\n",
    "        mu = np.nanmean(sess.trial_matrices['licks'][trial_mask,:]/lick_mean, axis=0)\n",
    "        \n",
    "        if sess.novel_arm ==-1:\n",
    "            \n",
    "            fam_rzone_front = np.argwhere((sess.rzone_late['tfront']<=bin_edges[1:])*(sess.rzone_late['tfront']>=bin_edges[:-1]))[0][0]\n",
    "            nov_rzone_front = np.argwhere((sess.rzone_early['tfront']<=bin_edges[1:])*(sess.rzone_early['tfront']>=bin_edges[:-1]))[0][0]\n",
    "\n",
    "        elif sess.novel_arm == 1:\n",
    "            fam_rzone_front = np.argwhere((sess.rzone_early['tfront']<=bin_edges[1:])*(sess.rzone_early['tfront']>=bin_edges[:-1]))[0][0]\n",
    "            nov_rzone_front = np.argwhere((sess.rzone_late['tfront']<=bin_edges[1:])*(sess.rzone_late['tfront']>=bin_edges[:-1]))[0][0]\n",
    "        \n",
    "        if lr == sess.novel_arm:\n",
    "            ko_mu['nov'].append(mu[nov_rzone_front-10:nov_rzone_front+3])\n",
    "        else:\n",
    "            ko_mu['fam'].append(mu[fam_rzone_front-10:fam_rzone_front+3])\n",
    "            \n",
    "ctrl_mu = {'fam':[],'nov':[]}\n",
    "x = np.arange(-10,3)\n",
    "for mouse in ctrl_mice:\n",
    "    sess = u.load_single_day(mouse,day=5)\n",
    "    bin_edges = sess.trial_matrices['bin_edges']\n",
    "    for ax_ind, lr in enumerate([-1, 1]):\n",
    "        trial_mask = sess.trial_info['LR']== lr\n",
    "        lick_mean = np.nanmean(sess.trial_matrices['licks'][trial_mask,:].ravel())\n",
    "        \n",
    "        print(lick_mean)\n",
    "        mu = np.nanmean(sess.trial_matrices['licks'][trial_mask,:]/lick_mean, axis=0)\n",
    "        \n",
    "        if sess.novel_arm ==-1:\n",
    "            \n",
    "            fam_rzone_front = np.argwhere((sess.rzone_late['tfront']<=bin_edges[1:])*(sess.rzone_late['tfront']>=bin_edges[:-1]))[0][0]\n",
    "            nov_rzone_front = np.argwhere((sess.rzone_early['tfront']<=bin_edges[1:])*(sess.rzone_early['tfront']>=bin_edges[:-1]))[0][0]\n",
    "\n",
    "        elif sess.novel_arm == 1:\n",
    "            fam_rzone_front = np.argwhere((sess.rzone_early['tfront']<=bin_edges[1:])*(sess.rzone_early['tfront']>=bin_edges[:-1]))[0][0]\n",
    "            nov_rzone_front = np.argwhere((sess.rzone_late['tfront']<=bin_edges[1:])*(sess.rzone_late['tfront']>=bin_edges[:-1]))[0][0]\n",
    "        \n",
    "        if lr == sess.novel_arm:\n",
    "            ctrl_mu['nov'].append(mu[nov_rzone_front-10:nov_rzone_front+3])\n",
    "        else:\n",
    "            ctrl_mu['fam'].append(mu[fam_rzone_front-10:fam_rzone_front+3])\n",
    "        \n",
    "    \n",
    "\n",
    "\n",
    "for ax_ind, lr in enumerate(['fam', 'nov']):\n",
    "    arr = np.array(ko_mu[lr])\n",
    "    mu, sem = np.nanmean(arr,axis=0), sp.stats.sem(arr, axis=0, nan_policy='omit')\n",
    "    ax[ax_ind].fill_between(x, mu- sem, mu+sem,color='red', alpha = .3)\n",
    "    \n",
    "    arr = np.array(ctrl_mu[lr])\n",
    "    mu, sem = np.nanmean(arr,axis=0), sp.stats.sem(arr, axis=0, nan_policy='omit')\n",
    "    ax[ax_ind].fill_between(x, mu- sem, mu+sem,color='black', alpha = .3)\n",
    "#     ax[ax_ind].plot(x, np.array(ko_mu[lr]).T,color='red', alpha = .3)\n",
    "\n",
    "\n",
    "    \n",
    "ax[0].fill_betweenx([0,15], 0, 2, zorder=0, color='purple',alpha=.3)\n",
    "ax[1].fill_betweenx([0,15],0, 2, zorder=0, color='purple',alpha=.3)\n",
    "\n",
    "ax[0].set_xlabel('Position')\n",
    "ax[1].set_xlabel('Position')\n",
    "ax[0].set_ylabel('Norm. Lick Rate')\n",
    "ax[0].spines['top'].set_visible(False)\n",
    "ax[1].spines['top'].set_visible(False)\n",
    "ax[0].spines['right'].set_visible(False)\n",
    "ax[1].spines['right'].set_visible(False)\n",
    "\n",
    "fig.savefig(os.path.join(figdir, 'famnov_norm_lickrate_day6.pdf'))"
   ]
  },
  {
   "cell_type": "code",
   "execution_count": 8,
   "id": "speaking-deployment",
   "metadata": {},
   "outputs": [],
   "source": [
    "# running speed\n",
    "\n",
    "\n",
    "# first_nov_trial = np.argwhere(sess.trial_info['LR'])\n"
   ]
  },
  {
   "cell_type": "code",
   "execution_count": 9,
   "id": "photographic-wagon",
   "metadata": {},
   "outputs": [
    {
     "name": "stdout",
     "output_type": "stream",
     "text": [
      "{'date': '29_11_2020', 'scene': 'YMaze_LNovel', 'session': 1, 'scan': 3, 'novel': -1, 'ravel_ind': 0}\n",
      "{'date': '29_11_2020', 'scene': 'YMaze_LNovel', 'session': 1, 'scan': 4, 'novel': 1, 'ravel_ind': 0}\n",
      "{'date': '29_11_2020', 'scene': 'YMaze_LNovel', 'session': 1, 'scan': 8, 'novel': -1, 'ravel_ind': 0}\n",
      "{'date': '29_11_2020', 'scene': 'YMaze_LNovel', 'session': 2, 'scan': 18, 'novel': 1, 'ravel_ind': 1}\n",
      "{'date': '29_11_2020', 'scene': 'YMaze_LNovel', 'session': 1, 'scan': 4, 'novel': -1, 'ravel_ind': 0}\n",
      "{'date': '28_09_2020', 'scene': 'YMaze_LNovel', 'session': 6, 'scan': 14, 'novel': -1, 'ravel_ind': 1}\n"
     ]
    },
    {
     "name": "stderr",
     "output_type": "stream",
     "text": [
      "/home/mplitt/repos/TwoPUtils/TwoPUtils/sess.py:95: UserWarning: skipping checking keys, remaining initialization not guaranteed to work\n",
      "  warnings.warn(\"skipping checking keys, remaining initialization not guaranteed to work\")\n",
      "/home/mplitt/repos/TwoPUtils/TwoPUtils/sess.py:227: UserWarning: Could not find sbxmat file at /media/mplitt/Backup Plus2/2P_Data/4467975.1/28_09_2020/YMaze_LNovel/YMaze_LNovel_006_014.mat\n",
      "  warnings.warn(\"Could not find sbxmat file at %s\" % self.scanheader_file)\n",
      "/home/mplitt/repos/TwoPUtils/TwoPUtils/sess.py:236: UserWarning: Could not find sbx file at /media/mplitt/Backup Plus2/2P_Data/4467975.1/28_09_2020/YMaze_LNovel/YMaze_LNovel_006_014.sbx\n",
      "  warnings.warn(\"Could not find sbx file at %s\" % self.scan_file)\n"
     ]
    },
    {
     "name": "stdout",
     "output_type": "stream",
     "text": [
      "{'date': '28_09_2020', 'scene': 'YMaze_LNovel', 'session': 3, 'scan': 8, 'novel': 1, 'ravel_ind': 0}\n",
      "{'date': '28_09_2020', 'scene': 'YMaze_LNovel', 'session': 1, 'scan': 4, 'novel': -1, 'ravel_ind': 0}\n",
      "{'date': '28_09_2020', 'scene': 'YMaze_LNovel', 'session': 1, 'scan': 5, 'novel': 1, 'ravel_ind': 0}\n",
      "{'date': '28_09_2020', 'scene': 'YMaze_LNovel', 'session': 1, 'scan': 4, 'novel': -1, 'ravel_ind': 0}\n"
     ]
    },
    {
     "data": {
      "text/plain": [
       "(-1.0, 40.0)"
      ]
     },
     "execution_count": 9,
     "metadata": {},
     "output_type": "execute_result"
    },
    {
     "data": {
      "image/png": "[encoded data removed]",
      "text/plain": [
       "<Figure size 432x288 with 2 Axes>"
      ]
     },
     "metadata": {
      "needs_background": "light"
     },
     "output_type": "display_data"
    }
   ],
   "source": [
    "fig,ax = plt.subplots(1,2,sharey=True)\n",
    "\n",
    "for mouse in ctrl_mice:\n",
    "    sess = sess = u.load_single_day(mouse,day=0)\n",
    "\n",
    "    sess.add_timeseries(speed=sess.vr_data['dz']._values)\n",
    "    sess.add_pos_binned_trial_matrix('speed')\n",
    "    \n",
    "\n",
    "    trials = np.arange(0,40) #sess.trial_matrices['speed'].shape[0])\n",
    "    stemspeed = np.nanmean(sess.trial_matrices['speed'][:,:11], axis=-1)\n",
    "    ax[0].scatter(trials,stemspeed[:40]/stemspeed.mean(), color= 'black')\n",
    "\n",
    "ax[0].set_xlim([-1,40])\n",
    "for mouse in ko_mice:\n",
    "    sess = sess = u.load_single_day(mouse,day=0)\n",
    "\n",
    "    sess.add_timeseries(speed=sess.vr_data['dz']._values)\n",
    "    sess.add_pos_binned_trial_matrix('speed')\n",
    "    \n",
    "\n",
    "    trials = np.arange(0,40) #sess.trial_matrices['speed'].shape[0])\n",
    "    stemspeed = np.nanmean(sess.trial_matrices['speed'][:,:11], axis=-1)\n",
    "    ax[1].scatter(trials,stemspeed[:40]/stemspeed.mean(), color= 'red')\n",
    "\n",
    "ax[1].set_xlim([-1,40])"
   ]
  },
  {
   "cell_type": "code",
   "execution_count": 11,
   "id": "effective-folder",
   "metadata": {},
   "outputs": [
    {
     "name": "stdout",
     "output_type": "stream",
     "text": [
      "{'date': '29_11_2020', 'scene': 'YMaze_LNovel', 'session': 1, 'scan': 3, 'novel': -1, 'ravel_ind': 0}\n",
      "{'date': '29_11_2020', 'scene': 'YMaze_LNovel', 'session': 1, 'scan': 4, 'novel': 1, 'ravel_ind': 0}\n",
      "{'date': '29_11_2020', 'scene': 'YMaze_LNovel', 'session': 1, 'scan': 8, 'novel': -1, 'ravel_ind': 0}\n",
      "{'date': '29_11_2020', 'scene': 'YMaze_LNovel', 'session': 2, 'scan': 18, 'novel': 1, 'ravel_ind': 1}\n",
      "{'date': '29_11_2020', 'scene': 'YMaze_LNovel', 'session': 1, 'scan': 4, 'novel': -1, 'ravel_ind': 0}\n",
      "{'date': '28_09_2020', 'scene': 'YMaze_LNovel', 'session': 6, 'scan': 14, 'novel': -1, 'ravel_ind': 1}\n",
      "{'date': '28_09_2020', 'scene': 'YMaze_LNovel', 'session': 3, 'scan': 8, 'novel': 1, 'ravel_ind': 0}\n",
      "{'date': '28_09_2020', 'scene': 'YMaze_LNovel', 'session': 1, 'scan': 4, 'novel': -1, 'ravel_ind': 0}\n",
      "{'date': '28_09_2020', 'scene': 'YMaze_LNovel', 'session': 1, 'scan': 5, 'novel': 1, 'ravel_ind': 0}\n",
      "{'date': '28_09_2020', 'scene': 'YMaze_LNovel', 'session': 1, 'scan': 4, 'novel': -1, 'ravel_ind': 0}\n"
     ]
    }
   ],
   "source": [
    "day = 0\n",
    "ctrl_speeds = {'stemspeed_pre':[], \n",
    "             'stemspeed_fam_post': [],\n",
    "             'stemspeed_post': [],\n",
    "             'stemspeed_novel': [],\n",
    "             'armspeed_pre': [],\n",
    "             'armspeed_post': [],\n",
    "             'armspeed_novel': []}\n",
    "\n",
    "fig, ax = plt.subplots(2,2)\n",
    "\n",
    "for mouse in ctrl_mice:\n",
    "    sess = sess = u.load_single_day(mouse,day=day)\n",
    "\n",
    "    last_block_ind = np.argwhere(sess.trial_info['block_number']==5)[0][0]\n",
    "    \n",
    "    last_block_fam = (sess.trial_info['LR']==-1*sess.novel_arm)*(sess.trial_info['block_number']==5)\n",
    "    early_block_fam = (sess.trial_info['LR']==-1*sess.novel_arm)*(sess.trial_info['block_number']<5)\n",
    "    last_block_nov = (sess.trial_info['LR']==sess.novel_arm)*(sess.trial_info['block_number']==5)\n",
    "    \n",
    "    stemspeed = np.nanmean(sess.trial_matrices['speed'][:,:15], axis=-1)\n",
    "    armspeed = np.nanmean(sess.trial_matrices['speed'][:,15:], axis=-1)\n",
    "    \n",
    "    ctrl_speeds['stemspeed_pre'].append(stemspeed[early_block_fam][-5:].mean())\n",
    "    ctrl_speeds['stemspeed_post'].append(stemspeed[last_block_ind:last_block_ind+5].mean())\n",
    "    ctrl_speeds['stemspeed_fam_post'].append(stemspeed[last_block_fam][:5].mean())\n",
    "    ctrl_speeds['stemspeed_novel'].append(stemspeed[last_block_nov][:5].mean())\n",
    "    \n",
    "    ctrl_speeds['armspeed_pre'].append(armspeed[early_block_fam][-5:].mean())\n",
    "    ctrl_speeds['armspeed_post'].append(armspeed[last_block_fam][:5].mean())\n",
    "    ctrl_speeds['armspeed_novel'].append(armspeed[last_block_nov][:5].mean())\n",
    "    \n",
    "    \n",
    "    \n",
    "#     armspeed= np.nanmean(sess.trial_matrices['speed'][last_block_ind-10:,15:], axis=-1)\n",
    "    \n",
    "    ax[0,0].plot(stemspeed) , c = sess.novel_arm*sess.trial_info['LR'][last_block_ind-10:])\n",
    "#     print(trials)\n",
    "#     ax[0,0].scatter(trials, armspeed/armspeed.mean() , c = sess.novel_arm*sess.trial_info['LR'][last_block_ind-10:])\n",
    "    \n",
    "#     stemspeed= np.nanmean(sess.trial_matrices['speed'][last_block_ind-10:,:15], axis=-1)\n",
    "#     ax[1,0].scatter(trials, armspeed/armspeed.mean() , c = sess.novel_arm*sess.trial_info['LR'][last_block_ind-10:])\n",
    "    \n",
    "ko_speeds = {'stemspeed_pre':[], \n",
    "             'stemspeed_fam_post': [],\n",
    "             'stemspeed_post': [],\n",
    "             'stemspeed_novel': [],\n",
    "             'armspeed_pre': [],\n",
    "             'armspeed_post': [],\n",
    "             'armspeed_novel': []}\n",
    " \n",
    "for mouse in ko_mice:\n",
    "    sess = sess = u.load_single_day(mouse,day=day)\n",
    "\n",
    "    sess.add_timeseries(speed=sess.vr_data['dz']._values)\n",
    "    sess.add_pos_binned_trial_matrix('speed')\n",
    "    \n",
    "    last_block_ind = np.argwhere(sess.trial_info['block_number']==5)[0][0]\n",
    "    \n",
    "    last_block_fam = (sess.trial_info['LR']==-1*sess.novel_arm)*(sess.trial_info['block_number']==5)\n",
    "    early_block_fam = (sess.trial_info['LR']==-1*sess.novel_arm)*(sess.trial_info['block_number']<5)\n",
    "    last_block_nov = (sess.trial_info['LR']==sess.novel_arm)*(sess.trial_info['block_number']==5)\n",
    "    \n",
    "    stemspeed = np.nanmean(sess.trial_matrices['speed'][:,:15], axis=-1)\n",
    "    armspeed = np.nanmean(sess.trial_matrices['speed'][:,15:], axis=-1)\n",
    "    \n",
    "    ko_speeds['stemspeed_pre'].append(stemspeed[early_block_fam][-5:].mean())\n",
    "    ko_speeds['stemspeed_post'].append(stemspeed[last_block_ind:last_block_ind+5].mean())\n",
    "    ko_speeds['stemspeed_fam_post'].append(stemspeed[last_block_fam][:5].mean())\n",
    "    ko_speeds['stemspeed_novel'].append(stemspeed[last_block_nov][:5].mean())\n",
    "    \n",
    "    \n",
    "    ko_speeds['armspeed_pre'].append(armspeed[early_block_fam][-5:].mean())\n",
    "    ko_speeds['armspeed_post'].append(armspeed[last_block_fam][:5].mean())\n",
    "    ko_speeds['armspeed_novel'].append(armspeed[last_block_nov][:5].mean())\n",
    "    \n",
    "#     armspeed= np.nanmean(sess.trial_matrices['speed'][last_block_ind-10:,15:], axis=-1)\n",
    "#     trials = np.arange(-10,armspeed.shape[0]-10)\n",
    "#     ax[0,1].scatter(trials, armspeed/armspeed.mean() , c = sess.novel_arm*sess.trial_info['LR'][last_block_ind-10:])\n",
    "    \n",
    "#     stemspeed= np.nanmean(sess.trial_matrices['speed'][last_block_ind-10:,:15], axis=-1)\n",
    "#     ax[1,1].scatter(trials, armspeed/armspeed.mean() , c = sess.novel_arm*sess.trial_info['LR'][last_block_ind-10:])"
   ]
  },
  {
   "cell_type": "code",
   "execution_count": 12,
   "id": "missing-hawaiian",
   "metadata": {},
   "outputs": [
    {
     "name": "stdout",
     "output_type": "stream",
     "text": [
      "4.4308746427982895 0.011414275001015852\n",
      "2.985025521876915 0.040536895909289335\n",
      "2.9453834264003844 0.04216254550170379\n",
      "2.6748698805822158 0.05552393489163538\n"
     ]
    }
   ],
   "source": [
    "t,p = sp.stats.ttest_rel(ctrl_speeds['stemspeed_pre'],ctrl_speeds['stemspeed_post'])\n",
    "print(t,p)\n",
    "\n",
    "t,p = sp.stats.ttest_rel(ctrl_speeds['stemspeed_pre'],ctrl_speeds['stemspeed_novel'])\n",
    "print(t,p)\n",
    "\n",
    "t,p = sp.stats.ttest_rel(ctrl_speeds['armspeed_pre'],ctrl_speeds['armspeed_post'])\n",
    "print(t,p)\n",
    "\n",
    "t,p = sp.stats.ttest_rel(ctrl_speeds['armspeed_pre'],ctrl_speeds['armspeed_novel'])\n",
    "print(t,p)"
   ]
  },
  {
   "cell_type": "code",
   "execution_count": 13,
   "id": "arctic-surge",
   "metadata": {},
   "outputs": [
    {
     "name": "stdout",
     "output_type": "stream",
     "text": [
      "6.501951203461055 0.002886790222874055\n",
      "3.1954094074739694 0.03304516358594851\n",
      "1.7991387096065876 0.14638501932732476\n",
      "1.905776430198398 0.12937419542039882\n"
     ]
    }
   ],
   "source": [
    "t,p = sp.stats.ttest_rel(ko_speeds['stemspeed_pre'],ko_speeds['stemspeed_post'])\n",
    "print(t,p)\n",
    "\n",
    "\n",
    "t,p = sp.stats.ttest_rel(ko_speeds['stemspeed_pre'],ko_speeds['stemspeed_novel'])\n",
    "\n",
    "print(t,p)\n",
    "\n",
    "t,p = sp.stats.ttest_rel(ko_speeds['armspeed_pre'],ko_speeds['armspeed_post'])\n",
    "print(t,p)\n",
    "\n",
    "t,p = sp.stats.ttest_rel(ko_speeds['armspeed_pre'],ko_speeds['armspeed_novel'])\n",
    "print(t,p)"
   ]
  },
  {
   "cell_type": "code",
   "execution_count": 14,
   "id": "south-orange",
   "metadata": {},
   "outputs": [
    {
     "name": "stdout",
     "output_type": "stream",
     "text": [
      "-1.9660241756368413 0.08486388803296072\n"
     ]
    }
   ],
   "source": [
    "t,p = sp.stats.ttest_ind(np.array(ko_speeds['stemspeed_pre'])-np.array(ko_speeds['stemspeed_fam_post']),np.array(ctrl_speeds['stemspeed_pre'])-np.array(ctrl_speeds['stemspeed_fam_post']))\n",
    "print(t,p)"
   ]
  },
  {
   "cell_type": "code",
   "execution_count": 15,
   "id": "danish-mirror",
   "metadata": {},
   "outputs": [
    {
     "name": "stdout",
     "output_type": "stream",
     "text": [
      "-2.133646866625813 0.06542043701212405\n"
     ]
    }
   ],
   "source": [
    "t,p = sp.stats.ttest_ind(np.array(ko_speeds['stemspeed_pre'])-np.array(ko_speeds['stemspeed_post']),np.array(ctrl_speeds['stemspeed_pre'])-np.array(ctrl_speeds['stemspeed_post']))\n",
    "print(t,p)"
   ]
  },
  {
   "cell_type": "code",
   "execution_count": null,
   "id": "isolated-vulnerability",
   "metadata": {},
   "outputs": [],
   "source": []
  },
  {
   "cell_type": "markdown",
   "id": "prime-brook",
   "metadata": {},
   "source": [
    "### reversal licking plots "
   ]
  },
  {
   "cell_type": "code",
   "execution_count": null,
   "id": "friendly-webcam",
   "metadata": {},
   "outputs": [],
   "source": []
  },
  {
   "cell_type": "code",
   "execution_count": null,
   "id": "graphic-messenger",
   "metadata": {},
   "outputs": [],
   "source": []
  },
  {
   "cell_type": "code",
   "execution_count": null,
   "id": "refined-chile",
   "metadata": {},
   "outputs": [],
   "source": []
  },
  {
   "cell_type": "code",
   "execution_count": null,
   "id": "scheduled-premium",
   "metadata": {},
   "outputs": [],
   "source": [
    "20, 27"
   ]
  }
 ],
 "metadata": {
  "kernelspec": {
   "display_name": "Python 3",
   "language": "python",
   "name": "python3"
  },
  "language_info": {
   "codemirror_mode": {
    "name": "ipython",
    "version": 3
   },
   "file_extension": ".py",
   "mimetype": "text/x-python",
   "name": "python",
   "nbconvert_exporter": "python",
   "pygments_lexer": "ipython3",
   "version": "3.8.8"
  }
 },
 "nbformat": 4,
 "nbformat_minor": 5
}
