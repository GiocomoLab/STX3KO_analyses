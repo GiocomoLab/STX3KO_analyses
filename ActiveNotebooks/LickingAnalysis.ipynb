{
 "cells": [
  {
   "cell_type": "code",
   "execution_count": 1,
   "id": "parental-injury",
   "metadata": {},
   "outputs": [],
   "source": [
    "import os\n",
    "import math\n",
    "import dill\n",
    "from itertools import permutations\n",
    "\n",
    "import numpy as np\n",
    "import scipy as sp\n",
    "from matplotlib import pyplot as plt\n",
    "from matplotlib import gridspec\n",
    "from sklearn.linear_model import HuberRegressor as hubreg\n",
    "\n",
    "import suite2p as s2p\n",
    "\n",
    "import TwoPUtils\n",
    "import STX3KO_analyses as stx\n",
    "from STX3KO_analyses import utilities as u\n",
    "\n",
    "ko_mice = stx.ymaze_sess_deets.ko_mice\n",
    "ctrl_mice = stx.ymaze_sess_deets.ctrl_mice\n",
    "\n",
    "\n",
    "%matplotlib inline\n",
    "\n",
    "%load_ext autoreload\n",
    "%autoreload 2"
   ]
  },
  {
   "cell_type": "code",
   "execution_count": 7,
   "id": "significant-delight",
   "metadata": {},
   "outputs": [],
   "source": [
    "figdir = \"/mnt/BigDisk/YMazeResults/neural\""
   ]
  },
  {
   "cell_type": "code",
   "execution_count": 6,
   "id": "educated-grace",
   "metadata": {},
   "outputs": [
    {
     "name": "stdout",
     "output_type": "stream",
     "text": [
      "{'date': '28_09_2020', 'scene': 'YMaze_LNovel', 'session': 6, 'scan': 14, 'novel': -1, 'ravel_ind': 1}\n",
      "0.11001807657812257\n",
      "0.10904625799328695\n",
      "{'date': '28_09_2020', 'scene': 'YMaze_LNovel', 'session': 3, 'scan': 8, 'novel': 1, 'ravel_ind': 0}\n",
      "0.1100692616471082\n",
      "0.16736622393861975\n",
      "{'date': '28_09_2020', 'scene': 'YMaze_LNovel', 'session': 1, 'scan': 4, 'novel': -1, 'ravel_ind': 0}\n",
      "0.06032445223871624\n",
      "0.11761779819386359\n",
      "{'date': '28_09_2020', 'scene': 'YMaze_LNovel', 'session': 1, 'scan': 5, 'novel': 1, 'ravel_ind': 0}\n",
      "0.5986160337525217\n",
      "0.1284017130366221\n",
      "{'date': '28_09_2020', 'scene': 'YMaze_LNovel', 'session': 1, 'scan': 4, 'novel': -1, 'ravel_ind': 0}\n",
      "0.04977265940030089\n",
      "0.06784264128951935\n",
      "{'date': '29_11_2020', 'scene': 'YMaze_LNovel', 'session': 1, 'scan': 3, 'novel': -1, 'ravel_ind': 0}\n",
      "0.09556160932095294\n",
      "0.11449060078059704\n",
      "{'date': '29_11_2020', 'scene': 'YMaze_LNovel', 'session': 1, 'scan': 4, 'novel': 1, 'ravel_ind': 0}\n",
      "0.30208560688972996\n",
      "0.5298903020411834\n",
      "{'date': '29_11_2020', 'scene': 'YMaze_LNovel', 'session': 1, 'scan': 8, 'novel': -1, 'ravel_ind': 0}\n",
      "0.2815490926532458\n",
      "0.28627437193222127\n",
      "{'date': '29_11_2020', 'scene': 'YMaze_LNovel', 'session': 2, 'scan': 18, 'novel': 1, 'ravel_ind': 1}\n",
      "0.09538482551033799\n",
      "0.13479597571404267\n",
      "{'date': '29_11_2020', 'scene': 'YMaze_LNovel', 'session': 1, 'scan': 4, 'novel': -1, 'ravel_ind': 0}\n",
      "0.1976574458443143\n",
      "0.29125700617933264\n"
     ]
    },
    {
     "data": {
      "image/png": "[encoded data removed]",
      "text/plain": [
       "<Figure size 720x360 with 2 Axes>"
      ]
     },
     "metadata": {
      "needs_background": "light"
     },
     "output_type": "display_data"
    }
   ],
   "source": [
    "fig,ax = plt.subplots(1,2, figsize = [10,5])\n",
    "\n",
    "ko_mu = {-1:[],1:[]}\n",
    "for mouse in ko_mice:\n",
    "    sess = u.load_single_day(mouse,day=0)\n",
    "    for ax_ind, lr in enumerate([-1, 1]):\n",
    "        trial_mask = sess.trial_info['LR']== lr\n",
    "        lick_mean = np.nanmean(sess.trial_matrices['licks'][trial_mask,:].ravel())\n",
    "        \n",
    "        print(lick_mean)\n",
    "        mu, sem = np.nanmean(sess.trial_matrices['licks'][trial_mask,:]/lick_mean, axis=0), sp.stats.sem(sess.trial_matrices['licks'][trial_mask,:]/lick_mean, axis=0, nan_policy='omit')\n",
    "        ko_mu[lr].append(mu)\n",
    "#         ax[ax_ind].fill_between(sess.trial_matrices['bin_centers'], mu-sem, mu+sem, color='red', alpha = .3)\n",
    "for ax_ind, lr in enumerate([-1,1]):\n",
    "    arr = np.array(ko_mu[lr])\n",
    "    mu, sem = np.nanmean(arr,axis=0), sp.stats.sem(arr, axis=0, nan_policy='omit')\n",
    "    ax[ax_ind].fill_between(sess.trial_matrices['bin_centers'],mu- sem, mu+sem,color='red', alpha = .3)\n",
    "\n",
    "ctrl_mu = {-1:[],1:[]}\n",
    "for mouse in ctrl_mice:\n",
    "    sess = u.load_single_day(mouse,day=0)\n",
    "    for ax_ind, lr in enumerate([-1, 1]):\n",
    "        trial_mask = sess.trial_info['LR']== lr\n",
    "        lick_mean = np.nanmean(sess.trial_matrices['licks'][trial_mask,:].ravel())\n",
    "        \n",
    "        print(lick_mean)\n",
    "        mu, sem = np.nanmean(sess.trial_matrices['licks'][trial_mask,:]/lick_mean, axis=0), sp.stats.sem(sess.trial_matrices['licks'][trial_mask,:]/lick_mean, axis=0, nan_policy='omit')\n",
    "        ctrl_mu[lr].append(mu)\n",
    "#         ax[ax_ind].fill_between(sess.trial_matrices['bin_centers'], mu-sem, mu+sem, color='red', alpha = .3)\n",
    "for ax_ind, lr in enumerate([-1,1]):\n",
    "    arr = np.array(ctrl_mu[lr])\n",
    "    mu, sem = np.nanmean(arr,axis=0), sp.stats.sem(arr, axis=0, nan_policy='omit')\n",
    "    ax[ax_ind].fill_between(sess.trial_matrices['bin_centers'],mu- sem, mu+sem,color='black', alpha = .3)\n",
    "    \n",
    "    \n",
    "ax[1].fill_betweenx([0,15], sess.rzone_late['tfront'], sess.rzone_late['tback'],zorder=0, color='green',alpha=.3)\n",
    "ax[0].fill_betweenx([0,15],sess.rzone_early['tfront'], sess.rzone_early['tback'],zorder=0, color='blue',alpha=.3)\n",
    "\n",
    "ax[0].set_xlabel('Position')\n",
    "ax[1].set_xlabel('Position')\n",
    "ax[0].set_ylabel('Norm. Lick Rate')\n",
    "ax[0].spines['top'].set_visible(False)\n",
    "ax[1].spines['top'].set_visible(False)\n",
    "ax[0].spines['right'].set_visible(False)\n",
    "ax[1].spines['right'].set_visible(False)"
   ]
  },
  {
   "cell_type": "code",
   "execution_count": 21,
   "id": "relevant-projection",
   "metadata": {},
   "outputs": [
    {
     "name": "stdout",
     "output_type": "stream",
     "text": [
      "{'date': '03_10_2020', 'scene': 'YMaze_LNovel', 'session': 1, 'scan': 3, 'novel': -1, 'ravel_ind': 6}\n",
      "{'date': '03_10_2020', 'scene': 'YMaze_LNovel', 'session': 1, 'scan': 8, 'novel': 1, 'ravel_ind': 5}\n",
      "{'date': '03_10_2020', 'scene': 'YMaze_LNovel', 'session': 1, 'scan': 6, 'novel': -1, 'ravel_ind': 5}\n",
      "{'date': '03_10_2020', 'scene': 'YMaze_LNovel', 'session': 1, 'scan': 4, 'novel': 1, 'ravel_ind': 5}\n",
      "{'date': '03_10_2020', 'scene': 'YMaze_LNovel', 'session': 1, 'scan': 5, 'novel': -1, 'ravel_ind': 5}\n",
      "{'date': '04_12_2020', 'scene': 'YMaze_LNovel', 'session': 1, 'scan': 2, 'novel': -1, 'ravel_ind': 5}\n",
      "{'date': '04_12_2020', 'scene': 'YMaze_LNovel', 'session': 1, 'scan': 3, 'novel': 1, 'ravel_ind': 6}\n",
      "{'date': '04_12_2020', 'scene': 'YMaze_LNovel', 'session': 1, 'scan': 2, 'novel': -1, 'ravel_ind': 5}\n",
      "{'date': '04_12_2020', 'scene': 'YMaze_LNovel', 'session': 1, 'scan': 3, 'novel': 1, 'ravel_ind': 7}\n",
      "{'date': '05_12_2020', 'scene': 'YMaze_LNovel', 'session': 1, 'scan': 2, 'novel': -1, 'ravel_ind': 5}\n"
     ]
    },
    {
     "data": {
      "image/png": "[encoded data removed]",
      "text/plain": [
       "<Figure size 720x360 with 2 Axes>"
      ]
     },
     "metadata": {
      "needs_background": "light"
     },
     "output_type": "display_data"
    }
   ],
   "source": [
    "fig,ax = plt.subplots(1,2, figsize = [10,5])\n",
    "\n",
    "ko_mu = {-1:[],1:[]}\n",
    "for mouse in ko_mice:\n",
    "    sess = u.load_single_day(mouse,day=5)\n",
    "    for ax_ind, lr in enumerate([-1, 1]):\n",
    "        trial_mask = sess.trial_info['LR']== lr\n",
    "        lick_mean = np.nanmean(sess.trial_matrices['licks'][trial_mask,:].ravel())\n",
    "        \n",
    "        \n",
    "        mu, sem = np.nanmean(sess.trial_matrices['licks'][trial_mask,:]/lick_mean, axis=0), sp.stats.sem(sess.trial_matrices['licks'][trial_mask,:]/lick_mean, axis=0, nan_policy='omit')\n",
    "        \n",
    "#         mu = sp.stats.zscore(np.nanmean(sess.trial_matrices['licks'][trial_mask,:], axis=0))\n",
    "        ko_mu[lr].append(mu)\n",
    "\n",
    "        \n",
    "for ax_ind, lr in enumerate([-1,1]):\n",
    "    arr = np.array(ko_mu[lr])\n",
    "    mu, sem = np.nanmean(arr,axis=0), sp.stats.sem(arr, axis=0, nan_policy='omit')\n",
    "    ax[ax_ind].fill_between(sess.trial_matrices['bin_centers'],mu- sem, mu+sem,color='red', alpha = .3)\n",
    "#     ax[ax_ind].plot(sess.trial_matrices['bin_centers'],arr.T)\n",
    "\n",
    "ctrl_mu = {-1:[],1:[]}\n",
    "for mouse in ctrl_mice:\n",
    "    sess = u.load_single_day(mouse,day=5)\n",
    "    for ax_ind, lr in enumerate([-1, 1]):\n",
    "        trial_mask = sess.trial_info['LR']== lr\n",
    "        lick_mean = np.nanmean(sess.trial_matrices['licks'][trial_mask,:].ravel())\n",
    "        \n",
    "#         print(lick_mean)\n",
    "        mu, sem = np.nanmean(sess.trial_matrices['licks'][trial_mask,:]/lick_mean, axis=0), sp.stats.sem(sess.trial_matrices['licks'][trial_mask,:]/lick_mean, axis=0, nan_policy='omit')\n",
    "#         mu = sp.stats.zscore(np.nanmean(sess.trial_matrices['licks'][trial_mask,:], axis=0))\n",
    "        ctrl_mu[lr].append(mu)\n",
    "#         ax[ax_ind].fill_between(sess.trial_matrices['bin_centers'], mu-sem, mu+sem, color='red', alpha = .3)\n",
    "for ax_ind, lr in enumerate([-1,1]):\n",
    "    arr = np.array(ctrl_mu[lr])\n",
    "    mu, sem = np.nanmean(arr,axis=0), sp.stats.sem(arr, axis=0, nan_policy='omit')\n",
    "    ax[ax_ind].fill_between(sess.trial_matrices['bin_centers'],mu- sem, mu+sem,color='black', alpha = .3)\n",
    "    \n",
    "    \n",
    "ax[1].fill_betweenx([0,15], sess.rzone_late['tfront'], sess.rzone_late['tback'],zorder=0, color='green',alpha=.3)\n",
    "ax[0].fill_betweenx([0,15],sess.rzone_early['tfront'], sess.rzone_early['tback'],zorder=0, color='blue',alpha=.3)\n",
    "\n",
    "ax[0].set_xlabel('Position')\n",
    "ax[1].set_xlabel('Position')\n",
    "ax[0].set_ylabel('Norm. Lick Rate')\n",
    "ax[0].spines['top'].set_visible(False)\n",
    "ax[1].spines['top'].set_visible(False)\n",
    "ax[0].spines['right'].set_visible(False)\n",
    "ax[1].spines['right'].set_visible(False)"
   ]
  },
  {
   "cell_type": "code",
   "execution_count": 102,
   "id": "sonic-turtle",
   "metadata": {},
   "outputs": [
    {
     "name": "stdout",
     "output_type": "stream",
     "text": [
      "{'date': '29_11_2020', 'scene': 'YMaze_LNovel', 'session': 1, 'scan': 3, 'novel': -1, 'ravel_ind': 0}\n"
     ]
    },
    {
     "data": {
      "text/plain": [
       "26.33365218636522"
      ]
     },
     "execution_count": 102,
     "metadata": {},
     "output_type": "execute_result"
    }
   ],
   "source": [
    "# running speed\n",
    "\n",
    "\n",
    "# first_nov_trial = np.argwhere(sess.trial_info['LR'])\n"
   ]
  },
  {
   "cell_type": "code",
   "execution_count": 23,
   "id": "challenging-maker",
   "metadata": {},
   "outputs": [
    {
     "name": "stdout",
     "output_type": "stream",
     "text": [
      "{'date': '29_11_2020', 'scene': 'YMaze_LNovel', 'session': 1, 'scan': 3, 'novel': -1, 'ravel_ind': 0}\n",
      "{'date': '29_11_2020', 'scene': 'YMaze_LNovel', 'session': 1, 'scan': 4, 'novel': 1, 'ravel_ind': 0}\n",
      "{'date': '29_11_2020', 'scene': 'YMaze_LNovel', 'session': 1, 'scan': 8, 'novel': -1, 'ravel_ind': 0}\n",
      "{'date': '29_11_2020', 'scene': 'YMaze_LNovel', 'session': 2, 'scan': 18, 'novel': 1, 'ravel_ind': 1}\n",
      "{'date': '29_11_2020', 'scene': 'YMaze_LNovel', 'session': 1, 'scan': 4, 'novel': -1, 'ravel_ind': 0}\n",
      "{'date': '28_09_2020', 'scene': 'YMaze_LNovel', 'session': 6, 'scan': 14, 'novel': -1, 'ravel_ind': 1}\n",
      "{'date': '28_09_2020', 'scene': 'YMaze_LNovel', 'session': 3, 'scan': 8, 'novel': 1, 'ravel_ind': 0}\n",
      "{'date': '28_09_2020', 'scene': 'YMaze_LNovel', 'session': 1, 'scan': 4, 'novel': -1, 'ravel_ind': 0}\n",
      "{'date': '28_09_2020', 'scene': 'YMaze_LNovel', 'session': 1, 'scan': 5, 'novel': 1, 'ravel_ind': 0}\n",
      "{'date': '28_09_2020', 'scene': 'YMaze_LNovel', 'session': 1, 'scan': 4, 'novel': -1, 'ravel_ind': 0}\n"
     ]
    },
    {
     "data": {
      "text/plain": [
       "(-1.0, 40.0)"
      ]
     },
     "execution_count": 23,
     "metadata": {},
     "output_type": "execute_result"
    },
    {
     "data": {
      "image/png": "[encoded data removed]",
      "text/plain": [
       "<Figure size 432x288 with 2 Axes>"
      ]
     },
     "metadata": {
      "needs_background": "light"
     },
     "output_type": "display_data"
    }
   ],
   "source": [
    "fig,ax = plt.subplots(1,2,sharey=True)\n",
    "\n",
    "for mouse in ctrl_mice:\n",
    "    sess = sess = u.load_single_day(mouse,day=0)\n",
    "\n",
    "    sess.add_timeseries(speed=sess.vr_data['dz']._values)\n",
    "    sess.add_pos_binned_trial_matrix('speed')\n",
    "    \n",
    "\n",
    "    trials = np.arange(0,40) #sess.trial_matrices['speed'].shape[0])\n",
    "    stemspeed = np.nanmean(sess.trial_matrices['speed'][:,:11], axis=-1)\n",
    "    ax[0].scatter(trials,stemspeed[:40]/stemspeed.mean(), color= 'black')\n",
    "\n",
    "ax[0].set_xlim([-1,40])\n",
    "for mouse in ko_mice:\n",
    "    sess = sess = u.load_single_day(mouse,day=0)\n",
    "\n",
    "    sess.add_timeseries(speed=sess.vr_data['dz']._values)\n",
    "    sess.add_pos_binned_trial_matrix('speed')\n",
    "    \n",
    "\n",
    "    trials = np.arange(0,40) #sess.trial_matrices['speed'].shape[0])\n",
    "    stemspeed = np.nanmean(sess.trial_matrices['speed'][:,:11], axis=-1)\n",
    "    ax[1].scatter(trials,stemspeed[:40]/stemspeed.mean(), color= 'red')\n",
    "\n",
    "ax[1].set_xlim([-1,40])"
   ]
  },
  {
   "cell_type": "code",
   "execution_count": 7,
   "id": "exact-schema",
   "metadata": {},
   "outputs": [
    {
     "name": "stdout",
     "output_type": "stream",
     "text": [
      "{'date': '29_11_2020', 'scene': 'YMaze_LNovel', 'session': 1, 'scan': 3, 'novel': -1, 'ravel_ind': 0}\n",
      "{'date': '29_11_2020', 'scene': 'YMaze_LNovel', 'session': 1, 'scan': 4, 'novel': 1, 'ravel_ind': 0}\n",
      "{'date': '29_11_2020', 'scene': 'YMaze_LNovel', 'session': 1, 'scan': 8, 'novel': -1, 'ravel_ind': 0}\n",
      "{'date': '29_11_2020', 'scene': 'YMaze_LNovel', 'session': 2, 'scan': 18, 'novel': 1, 'ravel_ind': 1}\n",
      "{'date': '29_11_2020', 'scene': 'YMaze_LNovel', 'session': 1, 'scan': 4, 'novel': -1, 'ravel_ind': 0}\n",
      "{'date': '28_09_2020', 'scene': 'YMaze_LNovel', 'session': 6, 'scan': 14, 'novel': -1, 'ravel_ind': 1}\n",
      "{'date': '28_09_2020', 'scene': 'YMaze_LNovel', 'session': 3, 'scan': 8, 'novel': 1, 'ravel_ind': 0}\n",
      "{'date': '28_09_2020', 'scene': 'YMaze_LNovel', 'session': 1, 'scan': 4, 'novel': -1, 'ravel_ind': 0}\n",
      "{'date': '28_09_2020', 'scene': 'YMaze_LNovel', 'session': 1, 'scan': 5, 'novel': 1, 'ravel_ind': 0}\n",
      "{'date': '28_09_2020', 'scene': 'YMaze_LNovel', 'session': 1, 'scan': 4, 'novel': -1, 'ravel_ind': 0}\n"
     ]
    },
    {
     "data": {
      "image/png": "[encoded data removed]",
      "text/plain": [
       "<Figure size 720x720 with 4 Axes>"
      ]
     },
     "metadata": {
      "needs_background": "light"
     },
     "output_type": "display_data"
    }
   ],
   "source": [
    "fig,ax = plt.subplots(2,2, figsize= [10,10])\n",
    "\n",
    "\n",
    "\n",
    "\n",
    "\n",
    "\n",
    "day = 0\n",
    "ctrl_speeds = {'stemspeed_pre':[], \n",
    "             'stemspeed_fam_post': [],\n",
    "             'stemspeed_post': [],\n",
    "             'stemspeed_novel': [],\n",
    "             'armspeed_pre': [],\n",
    "             'armspeed_post': [],\n",
    "             'armspeed_novel': []}\n",
    "\n",
    "for mouse in ctrl_mice:\n",
    "    sess = sess = u.load_single_day(mouse,day=day)\n",
    "\n",
    "    last_block_ind = np.argwhere(sess.trial_info['block_number']==5)[0][0]\n",
    "    \n",
    "    last_block_fam = (sess.trial_info['LR']==-1*sess.novel_arm)*(sess.trial_info['block_number']==5)\n",
    "    early_block_fam = (sess.trial_info['LR']==-1*sess.novel_arm)*(sess.trial_info['block_number']<5)\n",
    "    last_block_nov = (sess.trial_info['LR']==sess.novel_arm)*(sess.trial_info['block_number']==5)\n",
    "    \n",
    "    stemspeed = np.nanmean(sess.trial_matrices['speed'][:,:15], axis=-1)\n",
    "    armspeed = np.nanmean(sess.trial_matrices['speed'][:,15:], axis=-1)\n",
    "    \n",
    "    ctrl_speeds['stemspeed_pre'].append(stemspeed[early_block_fam][-5:].mean())\n",
    "    ctrl_speeds['stemspeed_post'].append(stemspeed[last_block_ind:last_block_ind+5].mean())\n",
    "    ctrl_speeds['stemspeed_fam_post'].append(stemspeed[last_block_fam][:5].mean())\n",
    "    ctrl_speeds['stemspeed_novel'].append(stemspeed[last_block_nov][:5].mean())\n",
    "    \n",
    "    ctrl_speeds['armspeed_pre'].append(armspeed[early_block_fam][-5:].mean())\n",
    "    ctrl_speeds['armspeed_post'].append(armspeed[last_block_fam][:5].mean())\n",
    "    ctrl_speeds['armspeed_novel'].append(armspeed[last_block_nov][:5].mean())\n",
    "    \n",
    "    \n",
    "    \n",
    "#     armspeed= np.nanmean(sess.trial_matrices['speed'][last_block_ind-10:,15:], axis=-1)\n",
    "    trials = np.arange(-10,armspeed.shape[0]-10)\n",
    "#     print(trials)\n",
    "    ax[0,0].scatter(trials, armspeed/armspeed.mean() , c = sess.novel_arm*sess.trial_info['LR'][last_block_ind-10:])\n",
    "    \n",
    "#     stemspeed= np.nanmean(sess.trial_matrices['speed'][last_block_ind-10:,:15], axis=-1)\n",
    "#     ax[1,0].scatter(trials, armspeed/armspeed.mean() , c = sess.novel_arm*sess.trial_info['LR'][last_block_ind-10:])\n",
    "    \n",
    "ko_speeds = {'stemspeed_pre':[], \n",
    "             'stemspeed_fam_post': [],\n",
    "             'stemspeed_post': [],\n",
    "             'stemspeed_novel': [],\n",
    "             'armspeed_pre': [],\n",
    "             'armspeed_post': [],\n",
    "             'armspeed_novel': []}\n",
    " \n",
    "for mouse in ko_mice:\n",
    "    sess = sess = u.load_single_day(mouse,day=day)\n",
    "\n",
    "    sess.add_timeseries(speed=sess.vr_data['dz']._values)\n",
    "    sess.add_pos_binned_trial_matrix('speed')\n",
    "    \n",
    "    last_block_ind = np.argwhere(sess.trial_info['block_number']==5)[0][0]\n",
    "    \n",
    "    last_block_fam = (sess.trial_info['LR']==-1*sess.novel_arm)*(sess.trial_info['block_number']==5)\n",
    "    early_block_fam = (sess.trial_info['LR']==-1*sess.novel_arm)*(sess.trial_info['block_number']<5)\n",
    "    last_block_nov = (sess.trial_info['LR']==sess.novel_arm)*(sess.trial_info['block_number']==5)\n",
    "    \n",
    "    stemspeed = np.nanmean(sess.trial_matrices['speed'][:,:15], axis=-1)\n",
    "    armspeed = np.nanmean(sess.trial_matrices['speed'][:,15:], axis=-1)\n",
    "    \n",
    "    ko_speeds['stemspeed_pre'].append(stemspeed[early_block_fam][-5:].mean())\n",
    "    ko_speeds['stemspeed_post'].append(stemspeed[last_block_ind:last_block_ind+5].mean())\n",
    "    ko_speeds['stemspeed_fam_post'].append(stemspeed[last_block_fam][:5].mean())\n",
    "    ko_speeds['stemspeed_novel'].append(stemspeed[last_block_nov][:5].mean())\n",
    "    \n",
    "    \n",
    "    ko_speeds['armspeed_pre'].append(armspeed[early_block_fam][-5:].mean())\n",
    "    ko_speeds['armspeed_post'].append(armspeed[last_block_fam][:5].mean())\n",
    "    ko_speeds['armspeed_novel'].append(armspeed[last_block_nov][:5].mean())\n",
    "    \n",
    "#     armspeed= np.nanmean(sess.trial_matrices['speed'][last_block_ind-10:,15:], axis=-1)\n",
    "#     trials = np.arange(-10,armspeed.shape[0]-10)\n",
    "#     ax[0,1].scatter(trials, armspeed/armspeed.mean() , c = sess.novel_arm*sess.trial_info['LR'][last_block_ind-10:])\n",
    "    \n",
    "#     stemspeed= np.nanmean(sess.trial_matrices['speed'][last_block_ind-10:,:15], axis=-1)\n",
    "#     ax[1,1].scatter(trials, armspeed/armspeed.mean() , c = sess.novel_arm*sess.trial_info['LR'][last_block_ind-10:])"
   ]
  },
  {
   "cell_type": "code",
   "execution_count": 8,
   "id": "moving-millennium",
   "metadata": {},
   "outputs": [
    {
     "name": "stdout",
     "output_type": "stream",
     "text": [
      "4.04443945680484 0.015546897309761444\n",
      "2.687548778331853 0.05479727630321897\n",
      "2.9453834264003844 0.04216254550170379\n",
      "2.6748698805822158 0.05552393489163538\n"
     ]
    }
   ],
   "source": [
    "t,p = sp.stats.ttest_rel(ctrl_speeds['stemspeed_pre'],ctrl_speeds['stemspeed_post'])\n",
    "print(t,p)\n",
    "\n",
    "t,p = sp.stats.ttest_rel(ctrl_speeds['stemspeed_pre'],ctrl_speeds['stemspeed_novel'])\n",
    "print(t,p)\n",
    "\n",
    "t,p = sp.stats.ttest_rel(ctrl_speeds['armspeed_pre'],ctrl_speeds['armspeed_post'])\n",
    "print(t,p)\n",
    "\n",
    "t,p = sp.stats.ttest_rel(ctrl_speeds['armspeed_pre'],ctrl_speeds['armspeed_novel'])\n",
    "print(t,p)"
   ]
  },
  {
   "cell_type": "code",
   "execution_count": 10,
   "id": "animal-sheriff",
   "metadata": {},
   "outputs": [
    {
     "name": "stdout",
     "output_type": "stream",
     "text": [
      "6.990121127881219 0.0022037616057241846\n",
      "3.751316004595502 0.019924316287325227\n",
      "1.7991387096065876 0.14638501932732476\n",
      "1.905776430198398 0.12937419542039882\n"
     ]
    }
   ],
   "source": [
    "t,p = sp.stats.ttest_rel(ko_speeds['stemspeed_pre'],ko_speeds['stemspeed_post'])\n",
    "print(t,p)\n",
    "\n",
    "\n",
    "t,p = sp.stats.ttest_rel(ko_speeds['stemspeed_pre'],ko_speeds['stemspeed_novel'])\n",
    "\n",
    "print(t,p)\n",
    "\n",
    "t,p = sp.stats.ttest_rel(ko_speeds['armspeed_pre'],ko_speeds['armspeed_post'])\n",
    "print(t,p)\n",
    "\n",
    "t,p = sp.stats.ttest_rel(ko_speeds['armspeed_pre'],ko_speeds['armspeed_novel'])\n",
    "print(t,p)"
   ]
  },
  {
   "cell_type": "code",
   "execution_count": 24,
   "id": "peripheral-console",
   "metadata": {},
   "outputs": [
    {
     "name": "stdout",
     "output_type": "stream",
     "text": [
      "-1.800791111359441 0.10942062033251712\n"
     ]
    }
   ],
   "source": [
    "t,p = sp.stats.ttest_ind(np.array(ko_speeds['stemspeed_pre'])-np.array(ko_speeds['stemspeed_fam_post']),np.array(ctrl_speeds['stemspeed_pre'])-np.array(ctrl_speeds['stemspeed_fam_post']))\n",
    "print(t,p)"
   ]
  },
  {
   "cell_type": "code",
   "execution_count": 159,
   "id": "alone-cyprus",
   "metadata": {},
   "outputs": [
    {
     "data": {
      "text/plain": [
       "13.5"
      ]
     },
     "execution_count": 159,
     "metadata": {},
     "output_type": "execute_result"
    }
   ],
   "source": [
    "12, 20"
   ]
  },
  {
   "cell_type": "code",
   "execution_count": null,
   "id": "entertaining-papua",
   "metadata": {},
   "outputs": [],
   "source": [
    "20, 27"
   ]
  }
 ],
 "metadata": {
  "kernelspec": {
   "display_name": "Python 3",
   "language": "python",
   "name": "python3"
  },
  "language_info": {
   "codemirror_mode": {
    "name": "ipython",
    "version": 3
   },
   "file_extension": ".py",
   "mimetype": "text/x-python",
   "name": "python",
   "nbconvert_exporter": "python",
   "pygments_lexer": "ipython3",
   "version": "3.8.8"
  }
 },
 "nbformat": 4,
 "nbformat_minor": 5
}
