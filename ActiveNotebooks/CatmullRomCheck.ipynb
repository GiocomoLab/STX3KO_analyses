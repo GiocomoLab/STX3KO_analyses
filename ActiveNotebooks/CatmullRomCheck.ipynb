{
 "cells": [
  {
   "cell_type": "code",
   "execution_count": 6,
   "id": "equivalent-millennium",
   "metadata": {},
   "outputs": [],
   "source": [
    "import numpy as np\n",
    "import matplotlib.pyplot as plt\n",
    "\n",
    "%matplotlib inline"
   ]
  },
  {
   "cell_type": "code",
   "execution_count": 39,
   "id": "developing-inspiration",
   "metadata": {},
   "outputs": [],
   "source": [
    "def get_t(t,p0,p1,alpha = .5):\n",
    "    a = (p0-p1)**2\n",
    "    b = a.sum()**(alpha*.5)\n",
    "#     a = np.linalg.norm(p1-p0,ord=2)\n",
    "    return b+t\n",
    "\n",
    "def catmulrom(t):\n",
    "    if t>=tvec[1] and t<tvec[2]:\n",
    "        ind=0\n",
    "    elif t>=tvec[2] and t<tvec[3]:\n",
    "        ind=1\n",
    "    elif t>= tvec[3] and t<tvec[4]:\n",
    "        ind=2\n",
    "    elif t>=tvec[4] and t<tvec[5]:\n",
    "        ind = 3\n",
    "    elif t>=tvec[5] and t<tvec[6]:\n",
    "        ind=4\n",
    "    else:\n",
    "        t = tvec[2]\n",
    "        ind = 1\n",
    "    print(ind)\n",
    "    p0 = control_points[ind,:]\n",
    "    p1 = control_points[ind+1,:]\n",
    "    p2 = control_points[ind +2,:]\n",
    "    p3 = control_points[ind+3,:]\n",
    "       \n",
    "    t0, t1, t2, t3 = tvec[ind], tvec[ind+1], tvec[ind+2], tvec[ind+3]\n",
    "    \n",
    "    a1 = (t1 - t) / (t1 - t0) * p0 + (t - t0) / (t1 - t0) * p1\n",
    "    a2 = (t2 - t) / (t2 - t1) * p1 + (t - t1) / (t2 - t1) * p2\n",
    "    a3 = (t3 - t) / (t3 - t2) * p2 + (t - t2) / (t3 - t2) * p3\n",
    "    \n",
    "    b1 = (t2 - t) / (t2 - t0) * a1 + (t - t0) / (t2 - t0) * a2\n",
    "    b2 = (t3 - t) / (t3 - t1) * a2 + (t - t1) / (t3 - t1) * a3;\n",
    "    \n",
    "    c = (t2 - t) / (t2 - t1) * b1 + (t - t1) / (t2 - t1) * b2;\n",
    "    return c\n",
    "        \n",
    "\n",
    "\n",
    "\n",
    "# list of control points for catmull rom spline\n",
    "control_points = np.array([[0., .5, -70],\n",
    "                          [0, .5, -25.],\n",
    "                          [0, .5, -5],\n",
    "                          [0, .5, 0],\n",
    "                          [0, .5, 110],\n",
    "                          [24.14, .5, 174.14],\n",
    "                          [110.6, .5, 259.6],\n",
    "                          [194.14, .5, 344.14]])\n",
    "\n",
    "tvec = np.zeros([8,])\n",
    "for ind in range(1,8):\n",
    "    tvec[ind] = get_t(tvec[ind-1], control_points[ind-1], control_points[ind])\n",
    "       \n",
    "\n",
    "\n",
    "t2dist = (tvec[6] - tvec[3]) / 300.\n",
    "t = tvec[1]\n",
    "t_old = tvec[1]"
   ]
  },
  {
   "cell_type": "code",
   "execution_count": 42,
   "id": "agreed-egyptian",
   "metadata": {},
   "outputs": [
    {
     "name": "stdout",
     "output_type": "stream",
     "text": [
      "[ 0.          6.70820393 11.18033989 13.41640786 23.90449635 32.18292146\n",
      " 43.2087028  54.11065727]\n",
      "2\n"
     ]
    }
   ],
   "source": [
    "print(tvec)\n",
    "trajectory = []\n",
    "\n",
    "t = np.linspace(7,44)\n",
    "target = catmulrom(15)\n",
    "\n",
    "            "
   ]
  },
  {
   "cell_type": "code",
   "execution_count": 43,
   "id": "fundamental-rotation",
   "metadata": {},
   "outputs": [
    {
     "name": "stdout",
     "output_type": "stream",
     "text": [
      "[-0.33083057  0.5         9.15553741]\n"
     ]
    }
   ],
   "source": [
    "print(target)"
   ]
  },
  {
   "cell_type": "code",
   "execution_count": 38,
   "id": "tired-portugal",
   "metadata": {},
   "outputs": [
    {
     "name": "stdout",
     "output_type": "stream",
     "text": [
      "[1 4 9]\n"
     ]
    }
   ],
   "source": [
    "import numpy as np\n",
    "a = np.array([1,2,3])\n",
    "print(a**2)"
   ]
  },
  {
   "cell_type": "code",
   "execution_count": null,
   "id": "thrown-receiver",
   "metadata": {},
   "outputs": [],
   "source": []
  }
 ],
 "metadata": {
  "kernelspec": {
   "display_name": "Python 3",
   "language": "python",
   "name": "python3"
  },
  "language_info": {
   "codemirror_mode": {
    "name": "ipython",
    "version": 3
   },
   "file_extension": ".py",
   "mimetype": "text/x-python",
   "name": "python",
   "nbconvert_exporter": "python",
   "pygments_lexer": "ipython3",
   "version": "3.8.8"
  }
 },
 "nbformat": 4,
 "nbformat_minor": 5
}
