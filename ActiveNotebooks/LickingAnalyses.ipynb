{
 "cells": [
  {
   "cell_type": "code",
   "execution_count": 1,
   "id": "thermal-decline",
   "metadata": {},
   "outputs": [],
   "source": [
    "# imports\n",
    "import os\n",
    "import math\n",
    "import dill\n",
    "from itertools import permutations\n",
    "\n",
    "import numpy as np\n",
    "import scipy as sp\n",
    "from matplotlib import pyplot as plt\n",
    "from matplotlib import gridspec\n",
    "from sklearn.linear_model import LinearRegression as linreg\n",
    "\n",
    "import suite2p as s2p\n",
    "\n",
    "import TwoPUtils\n",
    "import STX3KO_analyses as stx\n",
    "\n",
    "\n",
    "\n",
    "%matplotlib inline\n",
    "\n",
    "%load_ext autoreload\n",
    "%autoreload 2"
   ]
  },
  {
   "cell_type": "code",
   "execution_count": 2,
   "id": "radio-qualification",
   "metadata": {},
   "outputs": [],
   "source": [
    "basedir_VR = '/home/mplitt/VR_scratch'\n",
    "figdir_local = '/home/mplitt/Fig_scratch'\n",
    "figdir_remote = '/STX3_2P_results/scratch'"
   ]
  },
  {
   "cell_type": "code",
   "execution_count": 33,
   "id": "retired-asthma",
   "metadata": {},
   "outputs": [
    {
     "name": "stdout",
     "output_type": "stream",
     "text": [
      "28_09_2020 YMaze_LNovel\n",
      "28_09_2020 YMaze_LNovel\n",
      "29_09_2020 YMaze_LNovel\n",
      "30_09_2020 YMaze_LNovel\n",
      "01_10_2020 YMaze_LNovel\n",
      "02_10_2020 YMaze_LNovel\n",
      "03_10_2020 YMaze_LNovel\n",
      "04_10_2020 YMaze_LNovel\n",
      "04_10_2020 YMaze_RewardReversal\n",
      "05_10_2020 YMaze_RewardReversal\n",
      "06_10_2020 YMaze_RewardReversal\n",
      "06_10_2020 YMaze_LNovel\n"
     ]
    }
   ],
   "source": [
    "mouse = '4467975.1'\n",
    "pkldir = os.path.join('/home/mplitt/YMazeSessPkls/',mouse)\n",
    "\n",
    "    \n",
    "if mouse in stx.ymaze_sess_deets.KO_sessions.keys():  \n",
    "    sessions_deets = stx.ymaze_sess_deets.KO_sessions_ravel[mouse]\n",
    "elif mouse in stx.ymaze_sess_deets.CTRL_sessions.keys():\n",
    "    sessions_deets = stx.ymaze_sess_deets.CTRL_sessions_ravel[mouse]\n",
    "else:\n",
    "    print( \"mouse ID typo\")\n",
    "\n",
    "\n",
    "\n",
    "    \n",
    "sess_list = []\n",
    "for deets in sessions_deets:\n",
    "    print(deets['date'],deets['scene'])\n",
    "    \n",
    "    with open(os.path.join(pkldir,deets['date'], \"%s_%d.pkl\" % (deets['scene'],deets['session'])),'rb') as file:\n",
    "        sess_list.append(dill.load(file))\n",
    "        \n",
    "        "
   ]
  },
  {
   "cell_type": "code",
   "execution_count": 50,
   "id": "better-pricing",
   "metadata": {},
   "outputs": [],
   "source": [
    "for sess in sess_list:\n",
    "    reward_mask = sess.vr_data['reward']._values>0\n",
    "    reward_start = np.argwhere(reward_mask).ravel()\n",
    "    reward_end = (reward_start + int(2*sess.scan_info['frame_rate'])).astype(np.int)\n",
    "\n",
    "    consum_mask = np.zeros(reward_mask.shape)>0\n",
    "    for (start,end) in zip(reward_start,reward_end):\n",
    "#         print(start,end)\n",
    "        consum_mask[start:end]=True\n",
    "\n",
    "    antic_licks = np.copy(sess.vr_data['lick']._values)\n",
    "    antic_licks[consum_mask]=0\n",
    "    \n",
    "    sess.add_timeseries(antic_licks=antic_licks, speed = sess.vr_data['dz']._values,licks=sess.vr_data['lick']._values)\n",
    "    sess.add_pos_binned_trial_matrix(('antic_licks','licks','speed'),'t',min_pos=6,max_pos=43,bin_size=1,mat_only=True)\n",
    "    \n",
    "    \n",
    "    antic_lick_positions = np.zeros(sess.timeseries['licks'].shape)\n",
    "    antic_lick_mask = sess.timeseries['antic_licks']>0\n",
    "#     print(lick_mask.shape)\n",
    "    antic_lick_positions[antic_lick_mask] = sess.vr_data['t']._values[antic_lick_mask.ravel()]\n",
    "    sess.add_timeseries(antic_lick_positions=antic_lick_positions)\n",
    "    \n",
    "    # find probe trials (no reward delivered between trial start and stop and no licks in correct reward zone)"
   ]
  },
  {
   "cell_type": "code",
   "execution_count": null,
   "id": "cheap-chuck",
   "metadata": {},
   "outputs": [],
   "source": [
    "def get_probes_and_omissions(sess):\n",
    "    \n",
    "    \n",
    "    rzone_early = slice(25-6,32-6)\n",
    "    rzone_late = slice(35-6,42-6)"
   ]
  },
  {
   "cell_type": "code",
   "execution_count": 52,
   "id": "foster-binary",
   "metadata": {},
   "outputs": [
    {
     "data": {
      "text/plain": [
       "{'block_number': array([0., 0., 0., 0., 0., 0., 0., 0., 0., 0., 0., 0., 0., 0., 0., 0., 0.,\n",
       "        0., 0., 0.]),\n",
       " 'LR': array([1., 1., 1., 1., 1., 1., 1., 1., 1., 1., 1., 1., 1., 1., 1., 1., 1.,\n",
       "        1., 1., 1.])}"
      ]
     },
     "execution_count": 52,
     "metadata": {},
     "output_type": "execute_result"
    }
   ],
   "source": [
    "sess = sess_list[0]\n",
    "sess.trial_info"
   ]
  },
  {
   "cell_type": "code",
   "execution_count": null,
   "id": "regular-research",
   "metadata": {},
   "outputs": [],
   "source": [
    "def single_trial_lick_metrics(sess):\n",
    "    \n",
    "    if ~reversal:\n",
    "        rzone_left = {'xcenter': -31.6, 'zcenter': 181.6, 'scale': 25}\n",
    "        rzone_right = {'xcenter': 88.2, 'zcenter': 238.2, 'scale': 25}\n",
    "    else:\n",
    "        rzone_left = {'xcenter': -88.7, 'zcenter': 238.7, 'scale': 25}\n",
    "        rzone_right = {'xcenter': 31.6, 'zcenter': 181.6, 'scale': 25}\n",
    "    \n",
    "    \n",
    "    \n",
    "    \n",
    "    for trial, (start,stop, lr) in zip(sess.trial_start_inds,sess.teleport_inds, sess.trial_info['LR']):\n",
    "        \n",
    "       \n",
    "        # lick rate pre rzone 0\n",
    "        \n",
    "        # lick rate pre rzone 1\n",
    "    \n",
    "        # lick discrimination - (lr0-lr1)/(lr0+lr1)\n",
    "        \n",
    "        \n",
    "        # lick accuracy - fraction of licks in correct reward zone plust 50 cm prior\n",
    "        \n",
    "        # lick position variance\n",
    "        "
   ]
  },
  {
   "cell_type": "code",
   "execution_count": null,
   "id": "modified-cause",
   "metadata": {},
   "outputs": [],
   "source": [
    "def licking_vectorlength(SessDict):\n",
    "    \n",
    "    vl_dict ={}\n",
    "    for m,(mouse,days) in enumerate(SessDict.items()):\n",
    "        print(mouse)    \n",
    "#         LR, LICKS, SPEED = [],[],[]\n",
    "#         transition_trials = []\n",
    "        famarm_vl,novelarm_vl= [], []\n",
    "        \n",
    "        for i, day in enumerate(days):\n",
    "                  \n",
    "            for sess_ind,session in enumerate(day):\n",
    "                sess = TwoPUtils.sess.Session(basedir_VR=basedir_VR,mouse = mouse, date = session['date'], scene= session['scene'], \n",
    "                                              session = session['session'], VR_only=True, prompt_for_keys=False )\n",
    "                sess.align_VR_to_2P()\n",
    "\n",
    "                # get LR value for each trial\n",
    "                lr_trial = get_LR_trial(sess)\n",
    "\n",
    "                # make position binned lick rates and speed\n",
    "                sess.add_timeseries(licks=sess.vr_data['lick']._values,speed= sess.vr_data['dz']._values)\n",
    "                sess.add_pos_binned_trial_matrix(('licks','speed'),'t',min_pos=6,max_pos=43,bin_size=1,mat_only=True)\n",
    "                \n",
    "                licks = np.copy(sess.trial_matrices['licks'])\n",
    "                licks[np.isnan(licks)]=0.\n",
    "                licks = sp.ndimage.filters.gaussian_filter1d(licks,1,axis=-1)\n",
    "                licks+=1E-3\n",
    "                licks=licks/licks.sum(axis=-1,keepdims=True)\n",
    "                phase = np.linspace(0,1,num=licks.shape[1])[np.newaxis,:]\n",
    "                mean = np.sum(licks*phase,axis=-1,keepdims=True)\n",
    "                lick_vl = (licks*np.power(phase - mean,2)).sum(axis=-1)\n",
    "                \n",
    "#                 phase = np.linspace(0,2*np.pi,num=licks.shape[1])\n",
    "#                 phase = np.array([complex(0,p) for p in phase.tolist()])\n",
    "#                 lick_vl = np.linalg.norm(licks,axis=-1,ord=2)\n",
    "#                 lick_vl = 1-np.abs(np.sum(licks*np.exp(phase[np.newaxis,:]),axis=-1))\n",
    "#                 print(lick_vl)\n",
    "                if mouse=='4467975.4' and i==0 and sess_ind==0:\n",
    "                    lick_vl[24:68]=np.nan\n",
    "                \n",
    "\n",
    "                if lr_trial[0] == 1:\n",
    "                    famarm_vl.append(lick_vl[lr_trial==1])\n",
    "                    novelarm_vl.append(lick_vl[lr_trial==-1])\n",
    "                else:\n",
    "                    famarm_vl.append(lick_vl[lr_trial==-1])\n",
    "                    novelarm_vl.append(lick_vl[lr_trial==1])\n",
    "                    \n",
    "                \n",
    "            \n",
    "        vl_dict[mouse] = {'fam':famarm_vl,'novel':novelarm_vl}\n",
    "    return vl_dict\n",
    "    "
   ]
  },
  {
   "cell_type": "code",
   "execution_count": null,
   "id": "positive-surgeon",
   "metadata": {},
   "outputs": [],
   "source": [
    "# example mouse\n",
    "\n",
    "# get sessions \n",
    "\n",
    "# get licking behavior\n",
    "    # licking trial matrix and lick positions timeseries\n"
   ]
  },
  {
   "cell_type": "code",
   "execution_count": null,
   "id": "casual-august",
   "metadata": {},
   "outputs": [],
   "source": [
    "# define single session function \n",
    "\n",
    "\n",
    "    \n",
    "    # split by blocks\n",
    "    \n",
    "    # correlation within blocks\n",
    "    \n",
    "    \n",
    "    # left vs right correlation in last block\n",
    "    \n",
    "    # calculate "
   ]
  },
  {
   "cell_type": "code",
   "execution_count": null,
   "id": "eight-mozambique",
   "metadata": {},
   "outputs": [],
   "source": [
    "# licking accuracy effect on novel arm on day 1?\n",
    "\n",
    "# day to day changes in licking accuracy, last block to first block"
   ]
  }
 ],
 "metadata": {
  "kernelspec": {
   "display_name": "Python 3",
   "language": "python",
   "name": "python3"
  },
  "language_info": {
   "codemirror_mode": {
    "name": "ipython",
    "version": 3
   },
   "file_extension": ".py",
   "mimetype": "text/x-python",
   "name": "python",
   "nbconvert_exporter": "python",
   "pygments_lexer": "ipython3",
   "version": "3.8.8"
  }
 },
 "nbformat": 4,
 "nbformat_minor": 5
}
