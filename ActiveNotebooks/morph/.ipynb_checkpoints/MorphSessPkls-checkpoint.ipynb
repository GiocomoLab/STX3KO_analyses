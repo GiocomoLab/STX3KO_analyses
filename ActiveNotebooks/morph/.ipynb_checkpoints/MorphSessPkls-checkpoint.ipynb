{
 "cells": [
  {
   "cell_type": "code",
   "execution_count": 2,
   "id": "corporate-fetish",
   "metadata": {},
   "outputs": [],
   "source": [
    "import os\n",
    "import dill\n",
    "\n",
    "import numpy as np\n",
    "\n",
    "import TwoPUtils\n",
    "import STX3KO_analyses as stx\n",
    "\n",
    "\n",
    "\n",
    "%matplotlib inline\n",
    "\n",
    "%load_ext autoreload\n",
    "%autoreload 2"
   ]
  },
  {
   "cell_type": "code",
   "execution_count": 3,
   "id": "compatible-affiliation",
   "metadata": {},
   "outputs": [],
   "source": [
    "def update_sess_dict(mouse, f, KO = True):\n",
    "    scan_str = \"%s_%03d_%03d\" % (f['scene'],f['session'],f['scan'])\n",
    "#     if KO:\n",
    "#         try:\n",
    "#             source_folder  =os.path.join('/media','mplitt','Backup Plus','2P_Data')\n",
    "#             source_stem = os.path.join(source_folder,mouse,f['date'],f['scene'],scan_str)\n",
    "#             info = TwoPUtils.scanner_tools.sbx_utils.loadmat(source_stem+'.mat')\n",
    "#         except:\n",
    "#             source_folder  = os.path.join('/media','mplitt','Backup Plus2','2P_Data')\n",
    "#             source_stem = os.path.join(source_folder,mouse,f['date'],f['scene'],scan_str)\n",
    "#             info = TwoPUtils.scanner_tools.sbx_utils.loadmat(source_stem+'.mat')\n",
    "#     else:\n",
    "#         try:\n",
    "#             source_folder  =os.path.join('/media','mplitt','Backup Plus3')\n",
    "#             source_stem = os.path.join(source_folder,mouse,f['date'],f['scene'],scan_str)\n",
    "#             info = TwoPUtils.scanner_tools.sbx_utils.loadmat(source_stem+'.mat')\n",
    "#         except:\n",
    "#             source_folder  = os.path.join('/media','mplitt','Backup Plus5','2P_Data')\n",
    "#             source_stem = os.path.join(source_folder,mouse,f['date'],f['scene'],scan_str)\n",
    "#             info = TwoPUtils.scanner_tools.sbx_utils.loadmat(source_stem+'.mat')\n",
    "\n",
    "#     f['mouse']=mouse\n",
    "#     f.update({'scan_file': source_stem + '.sbx',\n",
    "#               'scanheader_file': source_stem + '.mat',\n",
    "#               'vr_filename': os.path.join(\"/home/mplitt/VR_scratch\",f['mouse'],f['date'],\"%s_%d.sqlite\" %(f['scene'],f['session'])),\n",
    "#               'scan_number': f['scan'],\n",
    "#               'prompt_for_keys': False,\n",
    "#               'VR_only': False,\n",
    "#               'scanner': \"NLW\",\n",
    "#              })\n",
    "    \n",
    "    source_folder = \"/mnt/BigDisk/2P_scratch\"\n",
    "    source_stem = os.path.join(source_folder, mouse, f['date'], f['scene'], scan_str)\n",
    "\n",
    "    f['mouse']=mouse\n",
    "    f.update({'scan_file': source_stem + '.sbx',\n",
    "              'scanheader_file': source_stem + '.mat',\n",
    "              'vr_filename': os.path.join(\"/home/mplitt/VR_scratch\",f['mouse'],f['date'],\"%s_%d.sqlite\" %(f['scene'],f['session'])),\n",
    "              'scan_number': f['scan'],\n",
    "              'prompt_for_keys': False,\n",
    "              'VR_only': False,\n",
    "              'scanner': \"NLW\",\n",
    "             })\n",
    "    return f\n",
    "    "
   ]
  },
  {
   "cell_type": "code",
   "execution_count": 9,
   "id": "smart-portland",
   "metadata": {},
   "outputs": [],
   "source": [
    "def run_and_save(fdict,comb_frames=0):\n",
    "#     with open(os.path.join('/home/mplitt/YMazeSessPkls',mouse,deets['date'], \"%s_%d.pkl\" % (deets['scene'],deets['session'])),'rb') as file:\n",
    "#         sess = dill.load(file)\n",
    "#     sess.novel_arm = fdict['novel']    \n",
    "            \n",
    "    sess = stx.session.MorphSession(**fdict)\n",
    "    sess.load_scan_info()\n",
    "    sess.align_VR_to_2P()\n",
    "    sess.load_suite2p_data(which_ts=('F', 'Fneu','spks'), frames = slice(comb_frames,comb_frames+sess.scan_info['max_idx']))\n",
    "    sess.get_trial_info()\n",
    "    sess.neuropil_corrected_dff()\n",
    "    \n",
    "    \n",
    "    sess.place_cells_calc(nperms=1000)\n",
    "    \n",
    "    sess.add_pos_binned_trial_matrix('F_dff')\n",
    "    sess.add_timeseries(F_dff_norm = sess.timeseries['F_dff']/np.nanpercentile(sess.timeseries['F_dff'],99,axis=1,keepdims=True))\n",
    "    sess.rm_pos_binned_trial_matrix('F_dff_norm')\n",
    "    sess.add_pos_binned_trial_matrix('F_dff_norm')\n",
    "    \n",
    "    sess.add_pos_binned_trial_matrix('spks') #,speed=sess.vr_data['dz']._values, speed_thr = .05)  \n",
    "    sess.add_timeseries(spks_norm = sess.timeseries['spks']/np.nanpercentile(sess.timeseries['spks'],99,axis=1,keepdims=True))\n",
    "    sess.add_pos_binned_trial_matrix('spks_norm') \n",
    "\n",
    "    sess.add_timeseries(licks=sess.vr_data['lick']._values)\n",
    "    sess.add_pos_binned_trial_matrix('licks')\n",
    "    sess.add_timeseries(speed=sess.vr_data['dz']._values)\n",
    "    sess.add_pos_binned_trial_matrix('speed')\n",
    "    \n",
    "    TwoPUtils.sess.save_session(sess,'/home/mplitt/MorphSessPkls')\n",
    "    return comb_frames+sess.scan_info['max_idx']"
   ]
  },
  {
   "cell_type": "code",
   "execution_count": 10,
   "id": "medium-return",
   "metadata": {},
   "outputs": [
    {
     "name": "stdout",
     "output_type": "stream",
     "text": [
      "{'date': '09_10_2020', 'scene': 'TwoTower_foraging', 'session': 4, 'scan': 11, 'mouse': '4467975.1', 'scan_file': '/mnt/BigDisk/2P_scratch/4467975.1/09_10_2020/TwoTower_foraging/TwoTower_foraging_004_011.sbx', 'scanheader_file': '/mnt/BigDisk/2P_scratch/4467975.1/09_10_2020/TwoTower_foraging/TwoTower_foraging_004_011.mat', 'vr_filename': '/home/mplitt/VR_scratch/4467975.1/09_10_2020/TwoTower_foraging_4.sqlite', 'scan_number': 11, 'prompt_for_keys': False, 'VR_only': False, 'scanner': 'NLW'}\n",
      "Fixing teleports\n",
      "(71626,) (29091,)\n",
      "1881.6069984840829 1881.5159171298637\n",
      "perm 0\n",
      "perm 100\n",
      "perm 200\n",
      "perm 300\n",
      "perm 400\n",
      "perm 500\n",
      "perm 600\n",
      "perm 700\n",
      "perm 800\n",
      "perm 900\n",
      "perm 0\n",
      "perm 100\n",
      "perm 200\n",
      "perm 300\n",
      "perm 400\n",
      "perm 500\n",
      "perm 600\n",
      "perm 700\n",
      "perm 800\n",
      "perm 900\n",
      "perm 0\n",
      "perm 100\n",
      "perm 200\n",
      "perm 300\n",
      "perm 400\n",
      "perm 500\n",
      "perm 600\n",
      "perm 700\n",
      "perm 800\n",
      "perm 900\n",
      "perm 0\n",
      "perm 100\n",
      "perm 200\n",
      "perm 300\n",
      "perm 400\n",
      "perm 500\n",
      "perm 600\n",
      "perm 700\n",
      "perm 800\n",
      "perm 900\n",
      "perm 0\n",
      "perm 100\n",
      "perm 200\n",
      "perm 300\n",
      "perm 400\n",
      "perm 500\n",
      "perm 600\n",
      "perm 700\n",
      "perm 800\n",
      "perm 900\n"
     ]
    },
    {
     "ename": "TypeError",
     "evalue": "add_pos_binned_trial_matrix() missing 1 required positional argument: 'pos_key'",
     "output_type": "error",
     "traceback": [
      "\u001b[0;31m---------------------------------------------------------------------------\u001b[0m",
      "\u001b[0;31mTypeError\u001b[0m                                 Traceback (most recent call last)",
      "\u001b[0;32m<ipython-input-10-aa5e6683f5a5>\u001b[0m in \u001b[0;36m<module>\u001b[0;34m\u001b[0m\n\u001b[1;32m      7\u001b[0m         \u001b[0mf_\u001b[0m \u001b[0;34m=\u001b[0m \u001b[0mupdate_sess_dict\u001b[0m\u001b[0;34m(\u001b[0m\u001b[0mmouse\u001b[0m\u001b[0;34m,\u001b[0m\u001b[0mf\u001b[0m\u001b[0;34m)\u001b[0m\u001b[0;34m\u001b[0m\u001b[0;34m\u001b[0m\u001b[0m\n\u001b[1;32m      8\u001b[0m         \u001b[0mprint\u001b[0m\u001b[0;34m(\u001b[0m\u001b[0mf_\u001b[0m\u001b[0;34m)\u001b[0m\u001b[0;34m\u001b[0m\u001b[0;34m\u001b[0m\u001b[0m\n\u001b[0;32m----> 9\u001b[0;31m         \u001b[0m_\u001b[0m \u001b[0;34m=\u001b[0m \u001b[0mrun_and_save\u001b[0m\u001b[0;34m(\u001b[0m\u001b[0mf_\u001b[0m\u001b[0;34m)\u001b[0m\u001b[0;34m\u001b[0m\u001b[0;34m\u001b[0m\u001b[0m\n\u001b[0m\u001b[1;32m     10\u001b[0m \u001b[0;31m#     elif isinstance(f, tuple) or isinstance(f, list):\u001b[0m\u001b[0;34m\u001b[0m\u001b[0;34m\u001b[0m\u001b[0;34m\u001b[0m\u001b[0m\n\u001b[1;32m     11\u001b[0m \u001b[0;31m#         comb_frames = 0\u001b[0m\u001b[0;34m\u001b[0m\u001b[0;34m\u001b[0m\u001b[0;34m\u001b[0m\u001b[0m\n",
      "\u001b[0;32m<ipython-input-9-d1afdc82504f>\u001b[0m in \u001b[0;36mrun_and_save\u001b[0;34m(fdict, comb_frames)\u001b[0m\n\u001b[1;32m     14\u001b[0m     \u001b[0msess\u001b[0m\u001b[0;34m.\u001b[0m\u001b[0mplace_cells_calc\u001b[0m\u001b[0;34m(\u001b[0m\u001b[0mnperms\u001b[0m\u001b[0;34m=\u001b[0m\u001b[0;36m1000\u001b[0m\u001b[0;34m)\u001b[0m\u001b[0;34m\u001b[0m\u001b[0;34m\u001b[0m\u001b[0m\n\u001b[1;32m     15\u001b[0m \u001b[0;34m\u001b[0m\u001b[0m\n\u001b[0;32m---> 16\u001b[0;31m     \u001b[0msess\u001b[0m\u001b[0;34m.\u001b[0m\u001b[0madd_pos_binned_trial_matrix\u001b[0m\u001b[0;34m(\u001b[0m\u001b[0;34m'F_dff'\u001b[0m\u001b[0;34m)\u001b[0m\u001b[0;34m\u001b[0m\u001b[0;34m\u001b[0m\u001b[0m\n\u001b[0m\u001b[1;32m     17\u001b[0m     \u001b[0msess\u001b[0m\u001b[0;34m.\u001b[0m\u001b[0madd_timeseries\u001b[0m\u001b[0;34m(\u001b[0m\u001b[0mF_dff_norm\u001b[0m \u001b[0;34m=\u001b[0m \u001b[0msess\u001b[0m\u001b[0;34m.\u001b[0m\u001b[0mtimeseries\u001b[0m\u001b[0;34m[\u001b[0m\u001b[0;34m'F_dff'\u001b[0m\u001b[0;34m]\u001b[0m\u001b[0;34m/\u001b[0m\u001b[0mnp\u001b[0m\u001b[0;34m.\u001b[0m\u001b[0mnanpercentile\u001b[0m\u001b[0;34m(\u001b[0m\u001b[0msess\u001b[0m\u001b[0;34m.\u001b[0m\u001b[0mtimeseries\u001b[0m\u001b[0;34m[\u001b[0m\u001b[0;34m'F_dff'\u001b[0m\u001b[0;34m]\u001b[0m\u001b[0;34m,\u001b[0m\u001b[0;36m99\u001b[0m\u001b[0;34m,\u001b[0m\u001b[0maxis\u001b[0m\u001b[0;34m=\u001b[0m\u001b[0;36m1\u001b[0m\u001b[0;34m,\u001b[0m\u001b[0mkeepdims\u001b[0m\u001b[0;34m=\u001b[0m\u001b[0;32mTrue\u001b[0m\u001b[0;34m)\u001b[0m\u001b[0;34m)\u001b[0m\u001b[0;34m\u001b[0m\u001b[0;34m\u001b[0m\u001b[0m\n\u001b[1;32m     18\u001b[0m     \u001b[0msess\u001b[0m\u001b[0;34m.\u001b[0m\u001b[0mrm_pos_binned_trial_matrix\u001b[0m\u001b[0;34m(\u001b[0m\u001b[0;34m'F_dff_norm'\u001b[0m\u001b[0;34m)\u001b[0m\u001b[0;34m\u001b[0m\u001b[0;34m\u001b[0m\u001b[0m\n",
      "\u001b[0;31mTypeError\u001b[0m: add_pos_binned_trial_matrix() missing 1 required positional argument: 'pos_key'"
     ]
    }
   ],
   "source": [
    "\n",
    "for mouse, sessions in stx.morph_sess_deets.KO_sessions.items():\n",
    "    for f in sessions:\n",
    "#     print(f)\n",
    "\n",
    "    \n",
    "#     if isinstance(f,dict):\n",
    "        f_ = update_sess_dict(mouse,f)\n",
    "        print(f_)\n",
    "        _ = run_and_save(f_)\n",
    "#     elif isinstance(f, tuple) or isinstance(f, list):\n",
    "#         comb_frames = 0\n",
    "        \n",
    "#         for _f in f:\n",
    "#             print(f)\n",
    "#             if mouse in ['4467975.5', '4467333.1']:\n",
    "#                 _f['s2p_path']=os.path.join(\"/home/mplitt/2P_scratch\",mouse,f[0]['date'],'combined','suite2p')\n",
    "#             else:\n",
    "#                 _f['s2p_path']=os.path.join(\"/mnt/BigDisk/2P_scratch\",mouse,f[0]['date'],'combined','suite2p')\n",
    "#             f_ = update_sess_dict(mouse,_f)\n",
    "#             print(f_)\n",
    "#             comb_frames = run_and_save(f_,comb_frames=comb_frames)\n",
    "        \n",
    "        \n",
    "        \n",
    "    "
   ]
  },
  {
   "cell_type": "code",
   "execution_count": 9,
   "id": "nasty-mortality",
   "metadata": {},
   "outputs": [],
   "source": [
    "def run_all_sessions(sess_dict,KO=True):\n",
    "    failed_sessions = []\n",
    "    for mouse, file_list in sess_dict.items():\n",
    "        for f in file_list:\n",
    "            if isinstance(f, dict):\n",
    "                f = update_sess_dict(mouse,f,KO=KO)\n",
    "                scan_str = \"%s_%03d_%03d\" % (f['scene'],f['session'],f['scan'])\n",
    "                if mouse in ['4467975.5', '4467333.1']:\n",
    "                    f['s2p_path']=os.path.join(\"/home/mplitt/2P_scratch\",f['mouse'],f['date'],f['scene'],scan_str,'suite2p')\n",
    "                else:\n",
    "                    f['s2p_path']=os.path.join(\"/mnt/BigDisk/2P_scratch\",f['mouse'],f['date'],f['scene'],scan_str,'suite2p')\n",
    "\n",
    "#                 try:\n",
    "                sess = stx.session.MorphSession(**f)\n",
    "                sess.load_scan_info()\n",
    "                sess.align_VR_to_2P()\n",
    "                sess.load_suite2p_data(which_ts=('F', 'Fneu','spks'))\n",
    "                sess.get_trial_info()\n",
    "                sess.neuropil_corrected_dff()\n",
    "                sess.place_cells_calc()\n",
    "                TwoPUtils.sess.save_session(sess,'/home/mplitt/MorphSessPkls')\n",
    "#                 except:\n",
    "#                     failed_sessions.append(f)\n",
    "\n",
    "            elif isinstance(f, tuple) or isinstance(f, list):\n",
    "                if mouse in ['4467975.5', '4467333.1']:\n",
    "                    s2p_path=os.path.join(\"/home/mplitt/2P_scratch\",mouse,f['date'],f[0]['date'],'combined','suite2p')\n",
    "                else:\n",
    "                    s2p_path=os.path.join(\"/mnt/BigDisk/2P_scratch\",mouose,f['date'],f[0]['date'],'combined','suite2p')\n",
    "\n",
    "                \n",
    "                ops = np.load(os.path.join(s2p_path,\"plane0\",\"ops.npy\"),allow_pickle=True).all()\n",
    "                comb_frames = 0\n",
    "                for _f in f:\n",
    "\n",
    "                    _f = update_sess_dict(mouse, _f,KO=KO)\n",
    "                    if mouse in ['4467975.5', '4467333.1']:\n",
    "                        _f['s2p_path']=os.path.join(\"/home/mplitt/2P_scratch\",f[0]['mouse'],f[0]['date'],'combined','suite2p')\n",
    "                    else:\n",
    "                        _f['s2p_path']=os.path.join(\"/mnt/BigDisk/2P_scratch\",f[0]['mouse'],f[0]['date'],'combined','suite2p')\n",
    "\n",
    "                    try:\n",
    "                        sess = stx.session.MorphSession(**_f)\n",
    "                        sess.load_scan_info()\n",
    "                        sess.align_VR_to_2P()\n",
    "                        print(slice(comb_frames,comb_frames+sess.scan_info['max_idx']))\n",
    "                        sess.load_suite2p_data(which_ts=('F', 'Fneu'), frames = slice(comb_frames,comb_frames+sess.scan_info['max_idx']))\n",
    "\n",
    "                        sess.get_trial_info()\n",
    "                        sess.neuropil_corrected_dff()\n",
    "                        sess.place_cells_calc()\n",
    "                        TwoPUtils.sess.save_session(sess,'/home/mplitt/MorphSessPkls')\n",
    "\n",
    "                        comb_frames += sess.scan_info['max_idx']\n",
    "\n",
    "                    except:\n",
    "                        failed_sessions.append(_f)\n",
    "                print(\"ops max idx %d, combined sbx max idx %d\" % (ops['nframes'], comb_frames))\n",
    "\n",
    "\n",
    "\n",
    "            else:\n",
    "                failed_sessions.append(['wrong type',f])\n",
    "\n",
    "    return failed_sessions"
   ]
  },
  {
   "cell_type": "code",
   "execution_count": 10,
   "id": "desirable-conviction",
   "metadata": {},
   "outputs": [
    {
     "name": "stderr",
     "output_type": "stream",
     "text": [
      "/home/mplitt/repos/TwoPUtils/TwoPUtils/sess.py:93: UserWarning: skipping checking keys, remaining initialization not guaranteed to work\n",
      "  warnings.warn(\"skipping checking keys, remaining initialization not guaranteed to work\")\n",
      "/home/mplitt/repos/TwoPUtils/TwoPUtils/sess.py:256: UserWarning: Looking for coaligned suite2p sessions is not implemented yet\n",
      "  warnings.warn(\"Looking for coaligned suite2p sessions is not implemented yet\")\n"
     ]
    },
    {
     "name": "stdout",
     "output_type": "stream",
     "text": [
      "Fixing teleports\n",
      "(71626,) (29091,)\n",
      "1881.6069984840829 1881.5159171298637\n"
     ]
    },
    {
     "name": "stderr",
     "output_type": "stream",
     "text": [
      "/home/mplitt/repos/TwoPUtils/TwoPUtils/sess.py:93: UserWarning: skipping checking keys, remaining initialization not guaranteed to work\n",
      "  warnings.warn(\"skipping checking keys, remaining initialization not guaranteed to work\")\n",
      "/home/mplitt/repos/TwoPUtils/TwoPUtils/sess.py:256: UserWarning: Looking for coaligned suite2p sessions is not implemented yet\n",
      "  warnings.warn(\"Looking for coaligned suite2p sessions is not implemented yet\")\n"
     ]
    },
    {
     "name": "stdout",
     "output_type": "stream",
     "text": [
      "Fixing teleports\n",
      "(32153,) (13716,)\n",
      "887.1888580090956 887.0742799393634\n"
     ]
    },
    {
     "name": "stderr",
     "output_type": "stream",
     "text": [
      "/home/mplitt/repos/TwoPUtils/TwoPUtils/sess.py:93: UserWarning: skipping checking keys, remaining initialization not guaranteed to work\n",
      "  warnings.warn(\"skipping checking keys, remaining initialization not guaranteed to work\")\n",
      "/home/mplitt/repos/TwoPUtils/TwoPUtils/sess.py:256: UserWarning: Looking for coaligned suite2p sessions is not implemented yet\n",
      "  warnings.warn(\"Looking for coaligned suite2p sessions is not implemented yet\")\n"
     ]
    },
    {
     "name": "stdout",
     "output_type": "stream",
     "text": [
      "Fixing teleports\n",
      "(52061,) (21163,)\n",
      "1368.8118999494695 1368.7397675593736\n"
     ]
    },
    {
     "name": "stderr",
     "output_type": "stream",
     "text": [
      "/home/mplitt/repos/TwoPUtils/TwoPUtils/sess.py:93: UserWarning: skipping checking keys, remaining initialization not guaranteed to work\n",
      "  warnings.warn(\"skipping checking keys, remaining initialization not guaranteed to work\")\n",
      "/home/mplitt/repos/TwoPUtils/TwoPUtils/sess.py:256: UserWarning: Looking for coaligned suite2p sessions is not implemented yet\n",
      "  warnings.warn(\"Looking for coaligned suite2p sessions is not implemented yet\")\n"
     ]
    },
    {
     "name": "stdout",
     "output_type": "stream",
     "text": [
      "Fixing teleports\n",
      "(63394,) (23406,)\n",
      "1513.9262253663467 1513.8150581101568\n"
     ]
    },
    {
     "name": "stderr",
     "output_type": "stream",
     "text": [
      "/home/mplitt/repos/TwoPUtils/TwoPUtils/sess.py:93: UserWarning: skipping checking keys, remaining initialization not guaranteed to work\n",
      "  warnings.warn(\"skipping checking keys, remaining initialization not guaranteed to work\")\n",
      "/home/mplitt/repos/TwoPUtils/TwoPUtils/sess.py:256: UserWarning: Looking for coaligned suite2p sessions is not implemented yet\n",
      "  warnings.warn(\"Looking for coaligned suite2p sessions is not implemented yet\")\n"
     ]
    },
    {
     "name": "stdout",
     "output_type": "stream",
     "text": [
      "Fixing teleports\n",
      "(78283,) (29613,)\n",
      "1915.3797372410309 1915.2784234461851\n"
     ]
    },
    {
     "name": "stderr",
     "output_type": "stream",
     "text": [
      "/home/mplitt/repos/TwoPUtils/TwoPUtils/sess.py:93: UserWarning: skipping checking keys, remaining initialization not guaranteed to work\n",
      "  warnings.warn(\"skipping checking keys, remaining initialization not guaranteed to work\")\n",
      "/home/mplitt/repos/TwoPUtils/TwoPUtils/sess.py:256: UserWarning: Looking for coaligned suite2p sessions is not implemented yet\n",
      "  warnings.warn(\"Looking for coaligned suite2p sessions is not implemented yet\")\n"
     ]
    },
    {
     "name": "stdout",
     "output_type": "stream",
     "text": [
      "Fixing teleports\n",
      "(58390,) (22160,)\n",
      "1433.3543456291056 1433.22486104093\n"
     ]
    },
    {
     "name": "stderr",
     "output_type": "stream",
     "text": [
      "/home/mplitt/repos/TwoPUtils/TwoPUtils/sess.py:93: UserWarning: skipping checking keys, remaining initialization not guaranteed to work\n",
      "  warnings.warn(\"skipping checking keys, remaining initialization not guaranteed to work\")\n",
      "/home/mplitt/repos/TwoPUtils/TwoPUtils/sess.py:256: UserWarning: Looking for coaligned suite2p sessions is not implemented yet\n",
      "  warnings.warn(\"Looking for coaligned suite2p sessions is not implemented yet\")\n"
     ]
    },
    {
     "name": "stdout",
     "output_type": "stream",
     "text": [
      "Fixing teleports\n",
      "(74709,) (27654,)\n",
      "1788.689489641233 1788.5720060636686\n"
     ]
    },
    {
     "name": "stderr",
     "output_type": "stream",
     "text": [
      "/home/mplitt/repos/TwoPUtils/TwoPUtils/sess.py:93: UserWarning: skipping checking keys, remaining initialization not guaranteed to work\n",
      "  warnings.warn(\"skipping checking keys, remaining initialization not guaranteed to work\")\n",
      "/home/mplitt/repos/TwoPUtils/TwoPUtils/sess.py:256: UserWarning: Looking for coaligned suite2p sessions is not implemented yet\n",
      "  warnings.warn(\"Looking for coaligned suite2p sessions is not implemented yet\")\n"
     ]
    },
    {
     "name": "stdout",
     "output_type": "stream",
     "text": [
      "Fixing teleports\n",
      "(73025,) (27824,)\n",
      "1799.6855735219808 1799.567458312279\n"
     ]
    },
    {
     "name": "stderr",
     "output_type": "stream",
     "text": [
      "/home/mplitt/repos/TwoPUtils/TwoPUtils/sess.py:93: UserWarning: skipping checking keys, remaining initialization not guaranteed to work\n",
      "  warnings.warn(\"skipping checking keys, remaining initialization not guaranteed to work\")\n",
      "/home/mplitt/repos/TwoPUtils/TwoPUtils/sess.py:256: UserWarning: Looking for coaligned suite2p sessions is not implemented yet\n",
      "  warnings.warn(\"Looking for coaligned suite2p sessions is not implemented yet\")\n"
     ]
    },
    {
     "name": "stdout",
     "output_type": "stream",
     "text": [
      "Fixing teleports\n",
      "(80630,) (32213,)\n",
      "2083.5298130368874 2083.4441637190503\n"
     ]
    },
    {
     "name": "stderr",
     "output_type": "stream",
     "text": [
      "/home/mplitt/repos/TwoPUtils/TwoPUtils/sess.py:93: UserWarning: skipping checking keys, remaining initialization not guaranteed to work\n",
      "  warnings.warn(\"skipping checking keys, remaining initialization not guaranteed to work\")\n",
      "/home/mplitt/repos/TwoPUtils/TwoPUtils/sess.py:256: UserWarning: Looking for coaligned suite2p sessions is not implemented yet\n",
      "  warnings.warn(\"Looking for coaligned suite2p sessions is not implemented yet\")\n"
     ]
    },
    {
     "name": "stdout",
     "output_type": "stream",
     "text": [
      "Fixing teleports\n",
      "(73117,) (29410,)\n",
      "1902.272738756948 1902.1485598787267\n"
     ]
    },
    {
     "name": "stderr",
     "output_type": "stream",
     "text": [
      "/home/mplitt/repos/TwoPUtils/TwoPUtils/sess.py:93: UserWarning: skipping checking keys, remaining initialization not guaranteed to work\n",
      "  warnings.warn(\"skipping checking keys, remaining initialization not guaranteed to work\")\n",
      "/home/mplitt/repos/TwoPUtils/TwoPUtils/sess.py:256: UserWarning: Looking for coaligned suite2p sessions is not implemented yet\n",
      "  warnings.warn(\"Looking for coaligned suite2p sessions is not implemented yet\")\n"
     ]
    },
    {
     "name": "stdout",
     "output_type": "stream",
     "text": [
      "Fixing teleports\n",
      "(41512,) (15566,)\n",
      "1006.8087417887822 1006.7306720565944\n"
     ]
    },
    {
     "name": "stderr",
     "output_type": "stream",
     "text": [
      "/home/mplitt/repos/TwoPUtils/TwoPUtils/sess.py:93: UserWarning: skipping checking keys, remaining initialization not guaranteed to work\n",
      "  warnings.warn(\"skipping checking keys, remaining initialization not guaranteed to work\")\n",
      "/home/mplitt/repos/TwoPUtils/TwoPUtils/sess.py:256: UserWarning: Looking for coaligned suite2p sessions is not implemented yet\n",
      "  warnings.warn(\"Looking for coaligned suite2p sessions is not implemented yet\")\n"
     ]
    },
    {
     "name": "stdout",
     "output_type": "stream",
     "text": [
      "Fixing teleports\n",
      "(80234,) (30349,)\n",
      "1963.0069479535118 1962.8822637695807\n"
     ]
    },
    {
     "name": "stderr",
     "output_type": "stream",
     "text": [
      "/home/mplitt/repos/TwoPUtils/TwoPUtils/sess.py:93: UserWarning: skipping checking keys, remaining initialization not guaranteed to work\n",
      "  warnings.warn(\"skipping checking keys, remaining initialization not guaranteed to work\")\n",
      "/home/mplitt/repos/TwoPUtils/TwoPUtils/sess.py:256: UserWarning: Looking for coaligned suite2p sessions is not implemented yet\n",
      "  warnings.warn(\"Looking for coaligned suite2p sessions is not implemented yet\")\n"
     ]
    },
    {
     "name": "stdout",
     "output_type": "stream",
     "text": [
      "Fixing teleports\n",
      "(61539,) (23121,)\n",
      "1495.473092470945 1495.3815058110158\n"
     ]
    },
    {
     "name": "stderr",
     "output_type": "stream",
     "text": [
      "/home/mplitt/repos/TwoPUtils/TwoPUtils/sess.py:93: UserWarning: skipping checking keys, remaining initialization not guaranteed to work\n",
      "  warnings.warn(\"skipping checking keys, remaining initialization not guaranteed to work\")\n",
      "/home/mplitt/repos/TwoPUtils/TwoPUtils/sess.py:256: UserWarning: Looking for coaligned suite2p sessions is not implemented yet\n",
      "  warnings.warn(\"Looking for coaligned suite2p sessions is not implemented yet\")\n"
     ]
    },
    {
     "name": "stdout",
     "output_type": "stream",
     "text": [
      "Fixing teleports\n",
      "(57981,) (21968,)\n",
      "1420.9128347650328 1420.8064679130875\n"
     ]
    },
    {
     "name": "stderr",
     "output_type": "stream",
     "text": [
      "/home/mplitt/repos/TwoPUtils/TwoPUtils/sess.py:93: UserWarning: skipping checking keys, remaining initialization not guaranteed to work\n",
      "  warnings.warn(\"skipping checking keys, remaining initialization not guaranteed to work\")\n",
      "/home/mplitt/repos/TwoPUtils/TwoPUtils/sess.py:256: UserWarning: Looking for coaligned suite2p sessions is not implemented yet\n",
      "  warnings.warn(\"Looking for coaligned suite2p sessions is not implemented yet\")\n"
     ]
    },
    {
     "name": "stdout",
     "output_type": "stream",
     "text": [
      "Fixing teleports\n",
      "(74504,) (28315,)\n",
      "1831.4029813036889 1831.324911571501\n"
     ]
    },
    {
     "name": "stderr",
     "output_type": "stream",
     "text": [
      "/home/mplitt/repos/TwoPUtils/TwoPUtils/sess.py:93: UserWarning: skipping checking keys, remaining initialization not guaranteed to work\n",
      "  warnings.warn(\"skipping checking keys, remaining initialization not guaranteed to work\")\n",
      "/home/mplitt/repos/TwoPUtils/TwoPUtils/sess.py:256: UserWarning: Looking for coaligned suite2p sessions is not implemented yet\n",
      "  warnings.warn(\"Looking for coaligned suite2p sessions is not implemented yet\")\n"
     ]
    },
    {
     "name": "stdout",
     "output_type": "stream",
     "text": [
      "Fixing teleports\n",
      "(75511,) (30789,)\n",
      "1991.410055583628 1991.3410813542196\n"
     ]
    },
    {
     "name": "stderr",
     "output_type": "stream",
     "text": [
      "/home/mplitt/repos/TwoPUtils/TwoPUtils/sess.py:93: UserWarning: skipping checking keys, remaining initialization not guaranteed to work\n",
      "  warnings.warn(\"skipping checking keys, remaining initialization not guaranteed to work\")\n",
      "/home/mplitt/repos/TwoPUtils/TwoPUtils/sess.py:256: UserWarning: Looking for coaligned suite2p sessions is not implemented yet\n",
      "  warnings.warn(\"Looking for coaligned suite2p sessions is not implemented yet\")\n"
     ]
    },
    {
     "name": "stdout",
     "output_type": "stream",
     "text": [
      "Fixing teleports\n",
      "(49185,) (20339,)\n",
      "1315.5704901465385 1315.44416371905\n"
     ]
    },
    {
     "name": "stderr",
     "output_type": "stream",
     "text": [
      "/home/mplitt/repos/TwoPUtils/TwoPUtils/sess.py:93: UserWarning: skipping checking keys, remaining initialization not guaranteed to work\n",
      "  warnings.warn(\"skipping checking keys, remaining initialization not guaranteed to work\")\n",
      "/home/mplitt/repos/TwoPUtils/TwoPUtils/sess.py:256: UserWarning: Looking for coaligned suite2p sessions is not implemented yet\n",
      "  warnings.warn(\"Looking for coaligned suite2p sessions is not implemented yet\")\n"
     ]
    },
    {
     "name": "stdout",
     "output_type": "stream",
     "text": [
      "Fixing teleports\n",
      "(54523,) (20430,)\n",
      "1321.38933804952 1321.3299646286005\n"
     ]
    },
    {
     "name": "stderr",
     "output_type": "stream",
     "text": [
      "/home/mplitt/repos/TwoPUtils/TwoPUtils/sess.py:93: UserWarning: skipping checking keys, remaining initialization not guaranteed to work\n",
      "  warnings.warn(\"skipping checking keys, remaining initialization not guaranteed to work\")\n",
      "/home/mplitt/repos/TwoPUtils/TwoPUtils/sess.py:256: UserWarning: Looking for coaligned suite2p sessions is not implemented yet\n",
      "  warnings.warn(\"Looking for coaligned suite2p sessions is not implemented yet\")\n"
     ]
    },
    {
     "name": "stdout",
     "output_type": "stream",
     "text": [
      "Fixing teleports\n",
      "(77183,) (28825,)\n",
      "1864.4288782213239 1864.3112683173322\n"
     ]
    },
    {
     "name": "stderr",
     "output_type": "stream",
     "text": [
      "/home/mplitt/repos/TwoPUtils/TwoPUtils/sess.py:93: UserWarning: skipping checking keys, remaining initialization not guaranteed to work\n",
      "  warnings.warn(\"skipping checking keys, remaining initialization not guaranteed to work\")\n",
      "/home/mplitt/repos/TwoPUtils/TwoPUtils/sess.py:256: UserWarning: Looking for coaligned suite2p sessions is not implemented yet\n",
      "  warnings.warn(\"Looking for coaligned suite2p sessions is not implemented yet\")\n"
     ]
    },
    {
     "name": "stdout",
     "output_type": "stream",
     "text": [
      "Fixing teleports\n",
      "(72621,) (26463,)\n",
      "1711.6256947953511 1711.5391611925215\n"
     ]
    },
    {
     "name": "stderr",
     "output_type": "stream",
     "text": [
      "/home/mplitt/repos/TwoPUtils/TwoPUtils/sess.py:93: UserWarning: skipping checking keys, remaining initialization not guaranteed to work\n",
      "  warnings.warn(\"skipping checking keys, remaining initialization not guaranteed to work\")\n",
      "/home/mplitt/repos/TwoPUtils/TwoPUtils/sess.py:256: UserWarning: Looking for coaligned suite2p sessions is not implemented yet\n",
      "  warnings.warn(\"Looking for coaligned suite2p sessions is not implemented yet\")\n"
     ]
    },
    {
     "name": "stdout",
     "output_type": "stream",
     "text": [
      "Fixing teleports\n",
      "(70477,) (26786,)\n",
      "1732.5578575037898 1732.4305204648813\n"
     ]
    },
    {
     "name": "stderr",
     "output_type": "stream",
     "text": [
      "/home/mplitt/repos/TwoPUtils/TwoPUtils/sess.py:93: UserWarning: skipping checking keys, remaining initialization not guaranteed to work\n",
      "  warnings.warn(\"skipping checking keys, remaining initialization not guaranteed to work\")\n",
      "/home/mplitt/repos/TwoPUtils/TwoPUtils/sess.py:256: UserWarning: Looking for coaligned suite2p sessions is not implemented yet\n",
      "  warnings.warn(\"Looking for coaligned suite2p sessions is not implemented yet\")\n"
     ]
    },
    {
     "name": "stdout",
     "output_type": "stream",
     "text": [
      "Fixing teleports\n",
      "(97601,) (35400,)\n",
      "2289.6411066195046 2289.576553815058\n"
     ]
    },
    {
     "name": "stderr",
     "output_type": "stream",
     "text": [
      "/home/mplitt/repos/TwoPUtils/TwoPUtils/sess.py:93: UserWarning: skipping checking keys, remaining initialization not guaranteed to work\n",
      "  warnings.warn(\"skipping checking keys, remaining initialization not guaranteed to work\")\n",
      "/home/mplitt/repos/TwoPUtils/TwoPUtils/sess.py:256: UserWarning: Looking for coaligned suite2p sessions is not implemented yet\n",
      "  warnings.warn(\"Looking for coaligned suite2p sessions is not implemented yet\")\n"
     ]
    },
    {
     "name": "stdout",
     "output_type": "stream",
     "text": [
      "Fixing teleports\n",
      "(50157,) (20710,)\n",
      "1339.5334765032846 1339.4401212733706\n"
     ]
    },
    {
     "name": "stderr",
     "output_type": "stream",
     "text": [
      "/home/mplitt/repos/TwoPUtils/TwoPUtils/sess.py:93: UserWarning: skipping checking keys, remaining initialization not guaranteed to work\n",
      "  warnings.warn(\"skipping checking keys, remaining initialization not guaranteed to work\")\n",
      "/home/mplitt/repos/TwoPUtils/TwoPUtils/sess.py:256: UserWarning: Looking for coaligned suite2p sessions is not implemented yet\n",
      "  warnings.warn(\"Looking for coaligned suite2p sessions is not implemented yet\")\n"
     ]
    },
    {
     "name": "stdout",
     "output_type": "stream",
     "text": [
      "Fixing teleports\n",
      "(42245,) (17667,)\n",
      "1142.6973218797373 1142.621526023244\n"
     ]
    },
    {
     "name": "stderr",
     "output_type": "stream",
     "text": [
      "/home/mplitt/repos/TwoPUtils/TwoPUtils/sess.py:93: UserWarning: skipping checking keys, remaining initialization not guaranteed to work\n",
      "  warnings.warn(\"skipping checking keys, remaining initialization not guaranteed to work\")\n",
      "/home/mplitt/repos/TwoPUtils/TwoPUtils/sess.py:256: UserWarning: Looking for coaligned suite2p sessions is not implemented yet\n",
      "  warnings.warn(\"Looking for coaligned suite2p sessions is not implemented yet\")\n"
     ]
    },
    {
     "name": "stdout",
     "output_type": "stream",
     "text": [
      "Fixing teleports\n",
      "(67111,) (25003,)\n",
      "1617.210965133906 1617.1076301162204\n"
     ]
    },
    {
     "name": "stderr",
     "output_type": "stream",
     "text": [
      "/home/mplitt/repos/TwoPUtils/TwoPUtils/sess.py:93: UserWarning: skipping checking keys, remaining initialization not guaranteed to work\n",
      "  warnings.warn(\"skipping checking keys, remaining initialization not guaranteed to work\")\n",
      "/home/mplitt/repos/TwoPUtils/TwoPUtils/sess.py:256: UserWarning: Looking for coaligned suite2p sessions is not implemented yet\n",
      "  warnings.warn(\"Looking for coaligned suite2p sessions is not implemented yet\")\n"
     ]
    },
    {
     "name": "stdout",
     "output_type": "stream",
     "text": [
      "Fixing teleports\n",
      "(99391,) (36843,)\n",
      "2382.9729661445176 2382.908539666498\n"
     ]
    },
    {
     "name": "stderr",
     "output_type": "stream",
     "text": [
      "/home/mplitt/repos/TwoPUtils/TwoPUtils/sess.py:93: UserWarning: skipping checking keys, remaining initialization not guaranteed to work\n",
      "  warnings.warn(\"skipping checking keys, remaining initialization not guaranteed to work\")\n",
      "/home/mplitt/repos/TwoPUtils/TwoPUtils/sess.py:256: UserWarning: Looking for coaligned suite2p sessions is not implemented yet\n",
      "  warnings.warn(\"Looking for coaligned suite2p sessions is not implemented yet\")\n"
     ]
    },
    {
     "name": "stdout",
     "output_type": "stream",
     "text": [
      "Fixing teleports\n",
      "(66550,) (24872,)\n",
      "1608.7638959070239 1608.634663971703\n"
     ]
    },
    {
     "name": "stderr",
     "output_type": "stream",
     "text": [
      "/home/mplitt/repos/TwoPUtils/TwoPUtils/sess.py:93: UserWarning: skipping checking keys, remaining initialization not guaranteed to work\n",
      "  warnings.warn(\"skipping checking keys, remaining initialization not guaranteed to work\")\n",
      "/home/mplitt/repos/TwoPUtils/TwoPUtils/sess.py:256: UserWarning: Looking for coaligned suite2p sessions is not implemented yet\n",
      "  warnings.warn(\"Looking for coaligned suite2p sessions is not implemented yet\")\n"
     ]
    },
    {
     "name": "stdout",
     "output_type": "stream",
     "text": [
      "Fixing teleports\n",
      "(71094,) (26702,)\n",
      "1727.0656897422941 1726.9974734714503\n"
     ]
    },
    {
     "name": "stderr",
     "output_type": "stream",
     "text": [
      "/home/mplitt/repos/TwoPUtils/TwoPUtils/sess.py:93: UserWarning: skipping checking keys, remaining initialization not guaranteed to work\n",
      "  warnings.warn(\"skipping checking keys, remaining initialization not guaranteed to work\")\n",
      "/home/mplitt/repos/TwoPUtils/TwoPUtils/sess.py:256: UserWarning: Looking for coaligned suite2p sessions is not implemented yet\n",
      "  warnings.warn(\"Looking for coaligned suite2p sessions is not implemented yet\")\n"
     ]
    },
    {
     "name": "stdout",
     "output_type": "stream",
     "text": [
      "Fixing teleports\n",
      "(93560,) (34961,)\n",
      "2261.2602324406266 2261.182415361294\n"
     ]
    }
   ],
   "source": [
    "KO_failed_sessions = run_all_sessions(stx.morph_sess_deets.KO_sessions)"
   ]
  },
  {
   "cell_type": "code",
   "execution_count": 6,
   "id": "competitive-composition",
   "metadata": {},
   "outputs": [
    {
     "ename": "NameError",
     "evalue": "name 'sess' is not defined",
     "output_type": "error",
     "traceback": [
      "\u001b[0;31m---------------------------------------------------------------------------\u001b[0m",
      "\u001b[0;31mNameError\u001b[0m                                 Traceback (most recent call last)",
      "\u001b[0;32m<ipython-input-6-2ef330b47db0>\u001b[0m in \u001b[0;36m<module>\u001b[0;34m\u001b[0m\n\u001b[0;32m----> 1\u001b[0;31m \u001b[0msess\u001b[0m\u001b[0;34m.\u001b[0m\u001b[0mvr_data\u001b[0m\u001b[0;34m\u001b[0m\u001b[0;34m\u001b[0m\u001b[0m\n\u001b[0m",
      "\u001b[0;31mNameError\u001b[0m: name 'sess' is not defined"
     ]
    }
   ],
   "source": [
    "sess.vr_data"
   ]
  },
  {
   "cell_type": "code",
   "execution_count": null,
   "id": "bigger-poland",
   "metadata": {},
   "outputs": [],
   "source": []
  }
 ],
 "metadata": {
  "kernelspec": {
   "display_name": "Python 3",
   "language": "python",
   "name": "python3"
  },
  "language_info": {
   "codemirror_mode": {
    "name": "ipython",
    "version": 3
   },
   "file_extension": ".py",
   "mimetype": "text/x-python",
   "name": "python",
   "nbconvert_exporter": "python",
   "pygments_lexer": "ipython3",
   "version": "3.8.8"
  }
 },
 "nbformat": 4,
 "nbformat_minor": 5
}
