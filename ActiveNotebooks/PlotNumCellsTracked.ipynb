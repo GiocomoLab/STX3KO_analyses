{
 "cells": [
  {
   "cell_type": "code",
   "execution_count": 1,
   "id": "premier-ready",
   "metadata": {},
   "outputs": [
    {
     "name": "stderr",
     "output_type": "stream",
     "text": [
      "/home/mplitt/anaconda3/envs/STX3_test/lib/python3.8/site-packages/outdated/utils.py:14: OutdatedPackageWarning: The package pingouin is out of date. Your version is 0.3.12, the latest is 0.4.0.\n",
      "Set the environment variable OUTDATED_IGNORE=1 to disable these warnings.\n",
      "  return warn(\n"
     ]
    }
   ],
   "source": [
    "import os\n",
    "import math\n",
    "\n",
    "import numpy as np\n",
    "import scipy as sp\n",
    "from matplotlib import pyplot as plt\n",
    "from matplotlib import gridspec\n",
    "\n",
    "import suite2p as s2p\n",
    "\n",
    "import TwoPUtils as tpu\n",
    "import STX3KO_analyses as stx\n",
    "from STX3KO_analyses import utilities as u\n",
    "\n",
    "ko_mice = stx.ymaze_sess_deets.ko_mice\n",
    "ctrl_mice = stx.ymaze_sess_deets.ctrl_mice\n",
    "\n",
    "\n",
    "%matplotlib inline\n",
    "\n",
    "%load_ext autoreload\n",
    "%autoreload 2"
   ]
  },
  {
   "cell_type": "code",
   "execution_count": 11,
   "id": "shared-edmonton",
   "metadata": {},
   "outputs": [],
   "source": [
    "figdir = \"/mnt/BigDisk/YMazeResults/neural/\"\n",
    "os.makedirs(figdir, exist_ok=True)"
   ]
  },
  {
   "cell_type": "code",
   "execution_count": 2,
   "id": "deluxe-baltimore",
   "metadata": {},
   "outputs": [],
   "source": [
    "\n",
    "\n",
    "def get_cell_numbers(mice):\n",
    "    ncells_across = np.zeros([5,8])\n",
    "    ncells_within = np.zeros([5,8])\n",
    "    for m, mouse in enumerate(mice):\n",
    "        sess = u.load_single_day(mouse,0)\n",
    "        ncells_across[m,0] = sess.timeseries['spks'].shape[0]\n",
    "        ncells_within[m,0] = sess.timeseries['spks'].shape[0]\n",
    "        for max_day in range(1,8):\n",
    "            concat_sess = u.single_mouse_concat_sessions(mouse, np.arange(max_day+1))\n",
    "            ncells_across[m,max_day] = concat_sess.timeseries['spks'].shape[0]\n",
    "            \n",
    "            sess = u.load_single_day(mouse,max_day)\n",
    "            ncells_within[m, max_day] = sess.timeseries['spks'].shape[0]\n",
    "    return ncells_across, ncells_within"
   ]
  },
  {
   "cell_type": "code",
   "execution_count": 3,
   "id": "secret-enforcement",
   "metadata": {
    "collapsed": true,
    "jupyter": {
     "outputs_hidden": true
    }
   },
   "outputs": [
    {
     "name": "stdout",
     "output_type": "stream",
     "text": [
      "{'date': '29_11_2020', 'scene': 'YMaze_LNovel', 'session': 1, 'scan': 3, 'novel_arm': -1, 'ravel_ind': 0}\n",
      "29_11_2020 YMaze_LNovel\n",
      "30_11_2020 YMaze_LNovel\n",
      "['LR', 'block_number']\n",
      "['LR', 'block_number', 'sess_num_ravel', 'sess_num']\n",
      "{'date': '30_11_2020', 'scene': 'YMaze_LNovel', 'session': 1, 'scan': 7, 'novel_arm': -1, 'ravel_ind': 1}\n",
      "29_11_2020 YMaze_LNovel\n",
      "30_11_2020 YMaze_LNovel\n",
      "01_12_2020 YMaze_LNovel\n",
      "['LR', 'block_number', 'sess_num_ravel', 'sess_num']\n",
      "['LR', 'block_number', 'sess_num_ravel', 'sess_num']\n",
      "{'date': '01_12_2020', 'scene': 'YMaze_LNovel', 'session': 1, 'scan': 4, 'novel_arm': -1, 'ravel_ind': 2}\n",
      "29_11_2020 YMaze_LNovel\n",
      "30_11_2020 YMaze_LNovel\n",
      "01_12_2020 YMaze_LNovel\n",
      "02_12_2020 YMaze_LNovel\n",
      "['LR', 'block_number', 'sess_num_ravel', 'sess_num']\n",
      "['LR', 'block_number', 'sess_num_ravel', 'sess_num']\n",
      "{'date': '02_12_2020', 'scene': 'YMaze_LNovel', 'session': 1, 'scan': 3, 'novel_arm': -1, 'ravel_ind': 3}\n",
      "29_11_2020 YMaze_LNovel\n",
      "30_11_2020 YMaze_LNovel\n",
      "01_12_2020 YMaze_LNovel\n",
      "02_12_2020 YMaze_LNovel\n",
      "03_12_2020 YMaze_LNovel\n",
      "['LR', 'block_number', 'sess_num_ravel', 'sess_num']\n",
      "['LR', 'block_number', 'sess_num_ravel', 'sess_num']\n",
      "{'date': '03_12_2020', 'scene': 'YMaze_LNovel', 'session': 1, 'scan': 8, 'novel_arm': -1, 'ravel_ind': 4}\n",
      "29_11_2020 YMaze_LNovel\n",
      "30_11_2020 YMaze_LNovel\n",
      "01_12_2020 YMaze_LNovel\n",
      "02_12_2020 YMaze_LNovel\n",
      "03_12_2020 YMaze_LNovel\n",
      "04_12_2020 YMaze_LNovel\n",
      "['LR', 'block_number', 'sess_num_ravel', 'sess_num']\n",
      "['LR', 'block_number', 'sess_num_ravel', 'sess_num']\n",
      "{'date': '04_12_2020', 'scene': 'YMaze_LNovel', 'session': 1, 'scan': 2, 'novel_arm': -1, 'ravel_ind': 5}\n",
      "29_11_2020 YMaze_LNovel\n",
      "30_11_2020 YMaze_LNovel\n",
      "01_12_2020 YMaze_LNovel\n",
      "02_12_2020 YMaze_LNovel\n",
      "03_12_2020 YMaze_LNovel\n",
      "04_12_2020 YMaze_LNovel\n",
      "05_12_2020 YMaze_LNovel\n",
      "05_12_2020 YMaze_RewardReversal\n",
      "['LR', 'block_number', 'sess_num_ravel', 'sess_num']\n",
      "['LR', 'block_number', 'sess_num_ravel', 'sess_num']\n",
      "({'date': '05_12_2020', 'scene': 'YMaze_LNovel', 'session': 1, 'scan': 2, 'novel_arm': -1, 'ravel_ind': 6}, {'date': '05_12_2020', 'scene': 'YMaze_RewardReversal', 'session': 1, 'scan': 4, 'novel_arm': -1, 'ravel_ind': 7})\n",
      "05_12_2020 YMaze_LNovel\n",
      "05_12_2020 YMaze_RewardReversal\n",
      "['LR', 'block_number', 'sess_num_ravel', 'sess_num']\n",
      "['LR', 'block_number', 'sess_num_ravel', 'sess_num']\n",
      "29_11_2020 YMaze_LNovel\n",
      "30_11_2020 YMaze_LNovel\n",
      "01_12_2020 YMaze_LNovel\n",
      "02_12_2020 YMaze_LNovel\n",
      "03_12_2020 YMaze_LNovel\n",
      "04_12_2020 YMaze_LNovel\n",
      "05_12_2020 YMaze_LNovel\n",
      "05_12_2020 YMaze_RewardReversal\n",
      "06_12_2020 YMaze_RewardReversal\n",
      "['LR', 'block_number', 'sess_num_ravel', 'sess_num']\n",
      "['LR', 'block_number', 'sess_num_ravel', 'sess_num']\n",
      "{'date': '06_12_2020', 'scene': 'YMaze_RewardReversal', 'session': 2, 'scan': 1, 'novel_arm': -1, 'ravel_ind': 8}\n",
      "{'date': '29_11_2020', 'scene': 'YMaze_LNovel', 'session': 1, 'scan': 4, 'novel_arm': 1, 'ravel_ind': 0}\n",
      "29_11_2020 YMaze_LNovel\n",
      "30_11_2020 YMaze_LNovel\n",
      "['LR', 'block_number', 'sess_num_ravel', 'sess_num']\n",
      "['LR', 'block_number', 'sess_num_ravel', 'sess_num']\n",
      "{'date': '30_11_2020', 'scene': 'YMaze_LNovel', 'session': 1, 'scan': 4, 'novel_arm': 1, 'ravel_ind': 1}\n",
      "29_11_2020 YMaze_LNovel\n",
      "30_11_2020 YMaze_LNovel\n",
      "01_12_2020 YMaze_LNovel\n",
      "['LR', 'block_number', 'sess_num_ravel', 'sess_num']\n",
      "['LR', 'block_number', 'sess_num_ravel', 'sess_num']\n",
      "{'date': '01_12_2020', 'scene': 'YMaze_LNovel', 'session': 1, 'scan': 4, 'novel_arm': 1, 'ravel_ind': 2}\n",
      "29_11_2020 YMaze_LNovel\n",
      "30_11_2020 YMaze_LNovel\n",
      "01_12_2020 YMaze_LNovel\n",
      "02_12_2020 YMaze_LNovel\n",
      "02_12_2020 YMaze_LNovel\n",
      "['LR', 'block_number', 'sess_num_ravel', 'sess_num']\n",
      "['LR', 'block_number', 'sess_num_ravel', 'sess_num']\n",
      "({'date': '02_12_2020', 'scene': 'YMaze_LNovel', 'session': 1, 'scan': 6, 'novel_arm': 1, 'ravel_ind': 3}, {'date': '02_12_2020', 'scene': 'YMaze_LNovel', 'session': 2, 'scan': 12, 'novel_arm': 1, 'ravel_ind': 4})\n",
      "02_12_2020 YMaze_LNovel\n",
      "02_12_2020 YMaze_LNovel\n",
      "['LR', 'block_number', 'sess_num_ravel', 'sess_num']\n",
      "['LR', 'block_number', 'sess_num_ravel', 'sess_num']\n",
      "29_11_2020 YMaze_LNovel\n",
      "30_11_2020 YMaze_LNovel\n",
      "01_12_2020 YMaze_LNovel\n",
      "02_12_2020 YMaze_LNovel\n",
      "02_12_2020 YMaze_LNovel\n",
      "03_12_2020 YMaze_LNovel\n",
      "['LR', 'block_number', 'sess_num_ravel', 'sess_num']\n",
      "['LR', 'block_number', 'sess_num_ravel', 'sess_num']\n",
      "{'date': '03_12_2020', 'scene': 'YMaze_LNovel', 'session': 1, 'scan': 3, 'novel_arm': 1, 'ravel_ind': 5}\n",
      "29_11_2020 YMaze_LNovel\n",
      "30_11_2020 YMaze_LNovel\n",
      "01_12_2020 YMaze_LNovel\n",
      "02_12_2020 YMaze_LNovel\n",
      "02_12_2020 YMaze_LNovel\n",
      "03_12_2020 YMaze_LNovel\n",
      "04_12_2020 YMaze_LNovel\n",
      "['LR', 'block_number', 'sess_num_ravel', 'sess_num']\n",
      "['LR', 'block_number', 'sess_num_ravel', 'sess_num']\n",
      "{'date': '04_12_2020', 'scene': 'YMaze_LNovel', 'session': 1, 'scan': 3, 'novel_arm': 1, 'ravel_ind': 6}\n",
      "29_11_2020 YMaze_LNovel\n",
      "30_11_2020 YMaze_LNovel\n",
      "01_12_2020 YMaze_LNovel\n",
      "02_12_2020 YMaze_LNovel\n",
      "02_12_2020 YMaze_LNovel\n",
      "03_12_2020 YMaze_LNovel\n",
      "04_12_2020 YMaze_LNovel\n",
      "05_12_2020 YMaze_LNovel\n",
      "05_12_2020 YMaze_RewardReversal\n",
      "['LR', 'block_number', 'sess_num_ravel', 'sess_num']\n",
      "['LR', 'block_number', 'sess_num_ravel', 'sess_num']\n",
      "({'date': '05_12_2020', 'scene': 'YMaze_LNovel', 'session': 1, 'scan': 2, 'novel_arm': 1, 'ravel_ind': 7}, {'date': '05_12_2020', 'scene': 'YMaze_RewardReversal', 'session': 1, 'scan': 4, 'novel_arm': 1, 'ravel_ind': 8})\n",
      "05_12_2020 YMaze_LNovel\n",
      "05_12_2020 YMaze_RewardReversal\n",
      "['LR', 'block_number', 'sess_num_ravel', 'sess_num']\n",
      "['LR', 'block_number', 'sess_num_ravel', 'sess_num']\n",
      "29_11_2020 YMaze_LNovel\n",
      "30_11_2020 YMaze_LNovel\n",
      "01_12_2020 YMaze_LNovel\n",
      "02_12_2020 YMaze_LNovel\n",
      "02_12_2020 YMaze_LNovel\n",
      "03_12_2020 YMaze_LNovel\n",
      "04_12_2020 YMaze_LNovel\n",
      "05_12_2020 YMaze_LNovel\n",
      "05_12_2020 YMaze_RewardReversal\n",
      "06_12_2020 YMaze_RewardReversal\n",
      "['LR', 'block_number', 'sess_num_ravel', 'sess_num']\n",
      "['LR', 'block_number', 'sess_num_ravel', 'sess_num']\n",
      "{'date': '06_12_2020', 'scene': 'YMaze_RewardReversal', 'session': 1, 'scan': 4, 'novel_arm': 1, 'ravel_ind': 9}\n",
      "{'date': '29_11_2020', 'scene': 'YMaze_LNovel', 'session': 1, 'scan': 8, 'novel_arm': -1, 'ravel_ind': 0}\n",
      "29_11_2020 YMaze_LNovel\n",
      "30_11_2020 YMaze_LNovel\n",
      "['LR', 'block_number', 'sess_num_ravel', 'sess_num']\n",
      "['LR', 'block_number', 'sess_num_ravel', 'sess_num']\n",
      "{'date': '30_11_2020', 'scene': 'YMaze_LNovel', 'session': 1, 'scan': 4, 'novel_arm': -1, 'ravel_ind': 1}\n",
      "29_11_2020 YMaze_LNovel\n",
      "30_11_2020 YMaze_LNovel\n",
      "01_12_2020 YMaze_LNovel\n",
      "['LR', 'block_number', 'sess_num_ravel', 'sess_num']\n",
      "['LR', 'block_number', 'sess_num_ravel', 'sess_num']\n",
      "{'date': '01_12_2020', 'scene': 'YMaze_LNovel', 'session': 1, 'scan': 5, 'novel_arm': -1, 'ravel_ind': 2}\n",
      "29_11_2020 YMaze_LNovel\n",
      "30_11_2020 YMaze_LNovel\n",
      "01_12_2020 YMaze_LNovel\n",
      "02_12_2020 YMaze_LNovel\n",
      "['LR', 'block_number', 'sess_num_ravel', 'sess_num']\n",
      "['LR', 'block_number', 'sess_num_ravel', 'sess_num']\n",
      "{'date': '02_12_2020', 'scene': 'YMaze_LNovel', 'session': 1, 'scan': 6, 'novel_arm': -1, 'ravel_ind': 3}\n",
      "29_11_2020 YMaze_LNovel\n",
      "30_11_2020 YMaze_LNovel\n",
      "01_12_2020 YMaze_LNovel\n",
      "02_12_2020 YMaze_LNovel\n",
      "03_12_2020 YMaze_LNovel\n",
      "['LR', 'block_number', 'sess_num_ravel', 'sess_num']\n",
      "['LR', 'block_number', 'sess_num_ravel', 'sess_num']\n",
      "{'date': '03_12_2020', 'scene': 'YMaze_LNovel', 'session': 1, 'scan': 3, 'novel_arm': -1, 'ravel_ind': 4}\n",
      "29_11_2020 YMaze_LNovel\n",
      "30_11_2020 YMaze_LNovel\n",
      "01_12_2020 YMaze_LNovel\n",
      "02_12_2020 YMaze_LNovel\n",
      "03_12_2020 YMaze_LNovel\n",
      "04_12_2020 YMaze_LNovel\n",
      "['LR', 'block_number', 'sess_num_ravel', 'sess_num']\n",
      "['LR', 'block_number', 'sess_num_ravel', 'sess_num']\n",
      "{'date': '04_12_2020', 'scene': 'YMaze_LNovel', 'session': 1, 'scan': 2, 'novel_arm': -1, 'ravel_ind': 5}\n",
      "29_11_2020 YMaze_LNovel\n",
      "30_11_2020 YMaze_LNovel\n",
      "01_12_2020 YMaze_LNovel\n",
      "02_12_2020 YMaze_LNovel\n",
      "03_12_2020 YMaze_LNovel\n",
      "04_12_2020 YMaze_LNovel\n",
      "05_12_2020 YMaze_LNovel\n",
      "05_12_2020 YMaze_RewardReversal\n",
      "['LR', 'block_number', 'sess_num_ravel', 'sess_num']\n",
      "['LR', 'block_number', 'sess_num_ravel', 'sess_num']\n",
      "({'date': '05_12_2020', 'scene': 'YMaze_LNovel', 'session': 1, 'scan': 3, 'novel_arm': -1, 'ravel_ind': 6}, {'date': '05_12_2020', 'scene': 'YMaze_RewardReversal', 'session': 1, 'scan': 5, 'novel_arm': -1, 'ravel_ind': 7})\n",
      "05_12_2020 YMaze_LNovel\n",
      "05_12_2020 YMaze_RewardReversal\n",
      "['LR', 'block_number', 'sess_num_ravel', 'sess_num']\n",
      "['LR', 'block_number', 'sess_num_ravel', 'sess_num']\n",
      "29_11_2020 YMaze_LNovel\n",
      "30_11_2020 YMaze_LNovel\n",
      "01_12_2020 YMaze_LNovel\n",
      "02_12_2020 YMaze_LNovel\n",
      "03_12_2020 YMaze_LNovel\n",
      "04_12_2020 YMaze_LNovel\n",
      "05_12_2020 YMaze_LNovel\n",
      "05_12_2020 YMaze_RewardReversal\n",
      "06_12_2020 YMaze_RewardReversal\n",
      "['LR', 'block_number', 'sess_num_ravel', 'sess_num']\n",
      "['LR', 'block_number', 'sess_num_ravel', 'sess_num']\n",
      "{'date': '06_12_2020', 'scene': 'YMaze_RewardReversal', 'session': 1, 'scan': 1, 'novel_arm': -1, 'ravel_ind': 8}\n",
      "{'date': '29_11_2020', 'scene': 'YMaze_LNovel', 'session': 2, 'scan': 18, 'novel_arm': 1, 'ravel_ind': 1}\n",
      "29_11_2020 YMaze_LNovel\n",
      "30_11_2020 YMaze_LNovel\n",
      "30_11_2020 YMaze_LNovel\n",
      "['LR', 'block_number', 'sess_num_ravel', 'sess_num']\n",
      "['LR', 'block_number', 'sess_num_ravel', 'sess_num']\n",
      "({'date': '30_11_2020', 'scene': 'YMaze_LNovel', 'session': 1, 'scan': 4, 'novel_arm': 1, 'ravel_ind': 2}, {'date': '30_11_2020', 'scene': 'YMaze_LNovel', 'session': 3, 'scan': 9, 'novel_arm': 1, 'ravel_ind': 3})\n",
      "30_11_2020 YMaze_LNovel\n",
      "30_11_2020 YMaze_LNovel\n",
      "['LR', 'block_number', 'sess_num_ravel', 'sess_num']\n",
      "['LR', 'block_number', 'sess_num_ravel', 'sess_num']\n",
      "29_11_2020 YMaze_LNovel\n",
      "30_11_2020 YMaze_LNovel\n",
      "30_11_2020 YMaze_LNovel\n",
      "01_12_2020 YMaze_LNovel\n",
      "['LR', 'block_number', 'sess_num_ravel', 'sess_num']\n",
      "['LR', 'block_number', 'sess_num_ravel', 'sess_num']\n",
      "{'date': '01_12_2020', 'scene': 'YMaze_LNovel', 'session': 1, 'scan': 4, 'novel_arm': 1, 'ravel_ind': 4}\n",
      "29_11_2020 YMaze_LNovel\n",
      "30_11_2020 YMaze_LNovel\n",
      "30_11_2020 YMaze_LNovel\n",
      "01_12_2020 YMaze_LNovel\n",
      "02_12_2020 YMaze_LNovel\n",
      "['LR', 'block_number', 'sess_num_ravel', 'sess_num']\n",
      "['LR', 'block_number', 'sess_num_ravel', 'sess_num']\n",
      "{'date': '02_12_2020', 'scene': 'YMaze_LNovel', 'session': 1, 'scan': 4, 'novel_arm': 1, 'ravel_ind': 5}\n",
      "29_11_2020 YMaze_LNovel\n",
      "30_11_2020 YMaze_LNovel\n",
      "30_11_2020 YMaze_LNovel\n",
      "01_12_2020 YMaze_LNovel\n",
      "02_12_2020 YMaze_LNovel\n",
      "03_12_2020 YMaze_LNovel\n",
      "['LR', 'block_number', 'sess_num_ravel', 'sess_num']\n",
      "['LR', 'block_number', 'sess_num_ravel', 'sess_num']\n",
      "{'date': '03_12_2020', 'scene': 'YMaze_LNovel', 'session': 1, 'scan': 3, 'novel_arm': 1, 'ravel_ind': 6}\n",
      "29_11_2020 YMaze_LNovel\n",
      "30_11_2020 YMaze_LNovel\n",
      "30_11_2020 YMaze_LNovel\n",
      "01_12_2020 YMaze_LNovel\n",
      "02_12_2020 YMaze_LNovel\n",
      "03_12_2020 YMaze_LNovel\n",
      "04_12_2020 YMaze_LNovel\n",
      "['LR', 'block_number', 'sess_num_ravel', 'sess_num']\n",
      "['LR', 'block_number', 'sess_num_ravel', 'sess_num']\n",
      "{'date': '04_12_2020', 'scene': 'YMaze_LNovel', 'session': 1, 'scan': 3, 'novel_arm': 1, 'ravel_ind': 7}\n",
      "29_11_2020 YMaze_LNovel\n",
      "30_11_2020 YMaze_LNovel\n",
      "30_11_2020 YMaze_LNovel\n",
      "01_12_2020 YMaze_LNovel\n",
      "02_12_2020 YMaze_LNovel\n",
      "03_12_2020 YMaze_LNovel\n",
      "04_12_2020 YMaze_LNovel\n",
      "06_12_2020 YMaze_LNovel\n",
      "06_12_2020 YMaze_RewardReversal\n",
      "['LR', 'block_number', 'sess_num_ravel', 'sess_num']\n",
      "['LR', 'block_number', 'sess_num_ravel', 'sess_num']\n",
      "({'date': '06_12_2020', 'scene': 'YMaze_LNovel', 'session': 1, 'scan': 3, 'novel_arm': 1, 'ravel_ind': 8}, {'date': '06_12_2020', 'scene': 'YMaze_RewardReversal', 'session': 1, 'scan': 6, 'novel_arm': 1, 'ravel_ind': 9})\n",
      "06_12_2020 YMaze_LNovel\n",
      "06_12_2020 YMaze_RewardReversal\n",
      "['LR', 'block_number', 'sess_num_ravel', 'sess_num']\n",
      "['LR', 'block_number', 'sess_num_ravel', 'sess_num']\n",
      "29_11_2020 YMaze_LNovel\n",
      "30_11_2020 YMaze_LNovel\n",
      "30_11_2020 YMaze_LNovel\n",
      "01_12_2020 YMaze_LNovel\n",
      "02_12_2020 YMaze_LNovel\n",
      "03_12_2020 YMaze_LNovel\n",
      "04_12_2020 YMaze_LNovel\n",
      "06_12_2020 YMaze_LNovel\n",
      "06_12_2020 YMaze_RewardReversal\n",
      "06_12_2020 YMaze_RewardReversal\n",
      "['LR', 'block_number', 'sess_num_ravel', 'sess_num']\n",
      "['LR', 'block_number', 'sess_num_ravel', 'sess_num']\n",
      "{'date': '06_12_2020', 'scene': 'YMaze_RewardReversal', 'session': 2, 'scan': 2, 'novel_arm': 1, 'ravel_ind': 10}\n",
      "{'date': '29_11_2020', 'scene': 'YMaze_LNovel', 'session': 1, 'scan': 4, 'novel_arm': -1, 'ravel_ind': 0}\n",
      "29_11_2020 YMaze_LNovel\n",
      "30_11_2020 YMaze_LNovel\n",
      "['LR', 'block_number', 'sess_num_ravel', 'sess_num']\n",
      "['LR', 'block_number', 'sess_num_ravel', 'sess_num']\n",
      "{'date': '30_11_2020', 'scene': 'YMaze_LNovel', 'session': 1, 'scan': 6, 'novel_arm': -1, 'ravel_ind': 1}\n",
      "29_11_2020 YMaze_LNovel\n",
      "30_11_2020 YMaze_LNovel\n",
      "01_12_2020 YMaze_LNovel\n",
      "['LR', 'block_number', 'sess_num_ravel', 'sess_num']\n",
      "['LR', 'block_number', 'sess_num_ravel', 'sess_num']\n",
      "{'date': '01_12_2020', 'scene': 'YMaze_LNovel', 'session': 1, 'scan': 4, 'novel_arm': -1, 'ravel_ind': 2}\n",
      "29_11_2020 YMaze_LNovel\n",
      "30_11_2020 YMaze_LNovel\n",
      "01_12_2020 YMaze_LNovel\n",
      "02_12_2020 YMaze_LNovel\n",
      "['LR', 'block_number', 'sess_num_ravel', 'sess_num']\n",
      "['LR', 'block_number', 'sess_num_ravel', 'sess_num']\n",
      "{'date': '02_12_2020', 'scene': 'YMaze_LNovel', 'session': 1, 'scan': 4, 'novel_arm': -1, 'ravel_ind': 3}\n",
      "29_11_2020 YMaze_LNovel\n",
      "30_11_2020 YMaze_LNovel\n",
      "01_12_2020 YMaze_LNovel\n",
      "02_12_2020 YMaze_LNovel\n",
      "03_12_2020 YMaze_LNovel\n",
      "['LR', 'block_number', 'sess_num_ravel', 'sess_num']\n",
      "['LR', 'block_number', 'sess_num_ravel', 'sess_num']\n",
      "{'date': '03_12_2020', 'scene': 'YMaze_LNovel', 'session': 2, 'scan': 4, 'novel_arm': -1, 'ravel_ind': 4}\n",
      "29_11_2020 YMaze_LNovel\n",
      "30_11_2020 YMaze_LNovel\n",
      "01_12_2020 YMaze_LNovel\n",
      "02_12_2020 YMaze_LNovel\n",
      "03_12_2020 YMaze_LNovel\n"
     ]
    },
    {
     "name": "stderr",
     "output_type": "stream",
     "text": [
      "/home/mplitt/repos/TwoPUtils/TwoPUtils/sess.py:95: UserWarning: skipping checking keys, remaining initialization not guaranteed to work\n",
      "  warnings.warn(\"skipping checking keys, remaining initialization not guaranteed to work\")\n",
      "/home/mplitt/repos/TwoPUtils/TwoPUtils/sess.py:227: UserWarning: Could not find sbxmat file at /media/mplitt/Backup Plus3/2P_Data/4467333.1/05_12_2020/YMaze_LNovel/YMaze_LNovel_001_002.mat\n",
      "  warnings.warn(\"Could not find sbxmat file at %s\" % self.scanheader_file)\n",
      "/home/mplitt/repos/TwoPUtils/TwoPUtils/sess.py:236: UserWarning: Could not find sbx file at /media/mplitt/Backup Plus3/2P_Data/4467333.1/05_12_2020/YMaze_LNovel/YMaze_LNovel_001_002.sbx\n",
      "  warnings.warn(\"Could not find sbx file at %s\" % self.scan_file)\n"
     ]
    },
    {
     "name": "stdout",
     "output_type": "stream",
     "text": [
      "05_12_2020 YMaze_LNovel\n",
      "['LR', 'block_number', 'sess_num_ravel', 'sess_num']\n",
      "['LR', 'block_number', 'sess_num_ravel', 'sess_num']\n",
      "{'date': '05_12_2020', 'scene': 'YMaze_LNovel', 'session': 1, 'scan': 2, 'novel_arm': -1, 'ravel_ind': 5}\n",
      "29_11_2020 YMaze_LNovel\n",
      "30_11_2020 YMaze_LNovel\n",
      "01_12_2020 YMaze_LNovel\n",
      "02_12_2020 YMaze_LNovel\n",
      "03_12_2020 YMaze_LNovel\n",
      "05_12_2020 YMaze_LNovel\n",
      "06_12_2020 YMaze_LNovel\n",
      "06_12_2020 YMaze_RewardReversal\n",
      "['LR', 'block_number', 'sess_num_ravel', 'sess_num']\n",
      "['LR', 'block_number', 'sess_num_ravel', 'sess_num']\n",
      "({'date': '06_12_2020', 'scene': 'YMaze_LNovel', 'session': 1, 'scan': 2, 'novel_arm': -1, 'ravel_ind': 6}, {'date': '06_12_2020', 'scene': 'YMaze_RewardReversal', 'session': 1, 'scan': 5, 'novel_arm': -1, 'ravel_ind': 7})\n",
      "06_12_2020 YMaze_LNovel\n",
      "06_12_2020 YMaze_RewardReversal\n",
      "['LR', 'block_number', 'sess_num_ravel', 'sess_num']\n",
      "['LR', 'block_number', 'sess_num_ravel', 'sess_num']\n",
      "29_11_2020 YMaze_LNovel\n",
      "30_11_2020 YMaze_LNovel\n",
      "01_12_2020 YMaze_LNovel\n",
      "02_12_2020 YMaze_LNovel\n",
      "03_12_2020 YMaze_LNovel\n",
      "05_12_2020 YMaze_LNovel\n",
      "06_12_2020 YMaze_LNovel\n",
      "06_12_2020 YMaze_RewardReversal\n",
      "07_12_2020 YMaze_RewardReversal\n",
      "['LR', 'block_number', 'sess_num_ravel', 'sess_num']\n",
      "['LR', 'block_number', 'sess_num_ravel', 'sess_num']\n",
      "{'date': '07_12_2020', 'scene': 'YMaze_RewardReversal', 'session': 1, 'scan': 2, 'novel_arm': -1, 'ravel_ind': 8}\n"
     ]
    }
   ],
   "source": [
    "ctrl_ncells_across, ctrl_ncells_within = get_cell_numbers(ctrl_mice)"
   ]
  },
  {
   "cell_type": "code",
   "execution_count": 4,
   "id": "integrated-title",
   "metadata": {},
   "outputs": [
    {
     "data": {
      "text/plain": [
       "[<matplotlib.lines.Line2D at 0x7f6ffa53d6d0>,\n",
       " <matplotlib.lines.Line2D at 0x7f6ffa53dc10>,\n",
       " <matplotlib.lines.Line2D at 0x7f6ffa53d640>,\n",
       " <matplotlib.lines.Line2D at 0x7f6ffa53dbe0>,\n",
       " <matplotlib.lines.Line2D at 0x7f6ffa53ddc0>]"
      ]
     },
     "execution_count": 4,
     "metadata": {},
     "output_type": "execute_result"
    },
    {
     "data": {
      "image/png": "[encoded data removed]",
      "text/plain": [
       "<Figure size 432x288 with 1 Axes>"
      ]
     },
     "metadata": {
      "needs_background": "light"
     },
     "output_type": "display_data"
    }
   ],
   "source": [
    "fig,ax = plt.subplots()\n",
    "ax.plot(ctrl_ncells_across.T)"
   ]
  },
  {
   "cell_type": "code",
   "execution_count": 5,
   "id": "detailed-extent",
   "metadata": {
    "collapsed": true,
    "jupyter": {
     "outputs_hidden": true
    }
   },
   "outputs": [
    {
     "name": "stdout",
     "output_type": "stream",
     "text": [
      "{'date': '28_09_2020', 'scene': 'YMaze_LNovel', 'session': 6, 'scan': 14, 'novel_arm': -1, 'ravel_ind': 1}\n"
     ]
    },
    {
     "name": "stderr",
     "output_type": "stream",
     "text": [
      "/home/mplitt/repos/TwoPUtils/TwoPUtils/sess.py:95: UserWarning: skipping checking keys, remaining initialization not guaranteed to work\n",
      "  warnings.warn(\"skipping checking keys, remaining initialization not guaranteed to work\")\n",
      "/home/mplitt/repos/TwoPUtils/TwoPUtils/sess.py:227: UserWarning: Could not find sbxmat file at /mnt/BigDisk/2P_scratch/4467975.1/28_09_2020/YMaze_LNovel/YMaze_LNovel_006_014.mat\n",
      "  warnings.warn(\"Could not find sbxmat file at %s\" % self.scanheader_file)\n",
      "/home/mplitt/repos/TwoPUtils/TwoPUtils/sess.py:236: UserWarning: Could not find sbx file at /mnt/BigDisk/2P_scratch/4467975.1/28_09_2020/YMaze_LNovel/YMaze_LNovel_006_014.sbx\n",
      "  warnings.warn(\"Could not find sbx file at %s\" % self.scan_file)\n"
     ]
    },
    {
     "name": "stdout",
     "output_type": "stream",
     "text": [
      "28_09_2020 YMaze_LNovel\n"
     ]
    },
    {
     "name": "stderr",
     "output_type": "stream",
     "text": [
      "/home/mplitt/repos/TwoPUtils/TwoPUtils/sess.py:227: UserWarning: Could not find sbxmat file at /mnt/BigDisk/2P_scratch/4467975.1/29_09_2020/YMaze_LNovel/YMaze_LNovel_001_003.mat\n",
      "  warnings.warn(\"Could not find sbxmat file at %s\" % self.scanheader_file)\n",
      "/home/mplitt/repos/TwoPUtils/TwoPUtils/sess.py:236: UserWarning: Could not find sbx file at /mnt/BigDisk/2P_scratch/4467975.1/29_09_2020/YMaze_LNovel/YMaze_LNovel_001_003.sbx\n",
      "  warnings.warn(\"Could not find sbx file at %s\" % self.scan_file)\n"
     ]
    },
    {
     "name": "stdout",
     "output_type": "stream",
     "text": [
      "29_09_2020 YMaze_LNovel\n",
      "['LR', 'block_number', 'sess_num_ravel', 'sess_num']\n",
      "['LR', 'block_number', 'sess_num_ravel', 'sess_num']\n",
      "{'date': '29_09_2020', 'scene': 'YMaze_LNovel', 'session': 1, 'scan': 3, 'novel_arm': -1, 'ravel_ind': 2}\n",
      "28_09_2020 YMaze_LNovel\n",
      "29_09_2020 YMaze_LNovel\n"
     ]
    },
    {
     "name": "stderr",
     "output_type": "stream",
     "text": [
      "/home/mplitt/repos/TwoPUtils/TwoPUtils/sess.py:227: UserWarning: Could not find sbxmat file at /mnt/BigDisk/2P_scratch/4467975.1/30_09_2020/YMaze_LNovel/YMaze_LNovel_001_004.mat\n",
      "  warnings.warn(\"Could not find sbxmat file at %s\" % self.scanheader_file)\n",
      "/home/mplitt/repos/TwoPUtils/TwoPUtils/sess.py:236: UserWarning: Could not find sbx file at /mnt/BigDisk/2P_scratch/4467975.1/30_09_2020/YMaze_LNovel/YMaze_LNovel_001_004.sbx\n",
      "  warnings.warn(\"Could not find sbx file at %s\" % self.scan_file)\n"
     ]
    },
    {
     "name": "stdout",
     "output_type": "stream",
     "text": [
      "30_09_2020 YMaze_LNovel\n",
      "['LR', 'block_number', 'sess_num_ravel', 'sess_num']\n",
      "['LR', 'block_number', 'sess_num_ravel', 'sess_num']\n",
      "{'date': '30_09_2020', 'scene': 'YMaze_LNovel', 'session': 1, 'scan': 4, 'novel_arm': -1, 'ravel_ind': 3}\n",
      "28_09_2020 YMaze_LNovel\n",
      "29_09_2020 YMaze_LNovel\n",
      "30_09_2020 YMaze_LNovel\n"
     ]
    },
    {
     "name": "stderr",
     "output_type": "stream",
     "text": [
      "/home/mplitt/repos/TwoPUtils/TwoPUtils/sess.py:227: UserWarning: Could not find sbxmat file at /mnt/BigDisk/2P_scratch/4467975.1/01_10_2020/YMaze_LNovel/YMaze_LNovel_001_002.mat\n",
      "  warnings.warn(\"Could not find sbxmat file at %s\" % self.scanheader_file)\n",
      "/home/mplitt/repos/TwoPUtils/TwoPUtils/sess.py:236: UserWarning: Could not find sbx file at /mnt/BigDisk/2P_scratch/4467975.1/01_10_2020/YMaze_LNovel/YMaze_LNovel_001_002.sbx\n",
      "  warnings.warn(\"Could not find sbx file at %s\" % self.scan_file)\n"
     ]
    },
    {
     "name": "stdout",
     "output_type": "stream",
     "text": [
      "01_10_2020 YMaze_LNovel\n",
      "['LR', 'block_number', 'sess_num_ravel', 'sess_num']\n",
      "['LR', 'block_number', 'sess_num_ravel', 'sess_num']\n",
      "{'date': '01_10_2020', 'scene': 'YMaze_LNovel', 'session': 1, 'scan': 2, 'novel_arm': -1, 'ravel_ind': 4}\n",
      "28_09_2020 YMaze_LNovel\n",
      "29_09_2020 YMaze_LNovel\n",
      "30_09_2020 YMaze_LNovel\n",
      "01_10_2020 YMaze_LNovel\n"
     ]
    },
    {
     "name": "stderr",
     "output_type": "stream",
     "text": [
      "/home/mplitt/repos/TwoPUtils/TwoPUtils/sess.py:227: UserWarning: Could not find sbxmat file at /mnt/BigDisk/2P_scratch/4467975.1/02_10_2020/YMaze_LNovel/YMaze_LNovel_001_003.mat\n",
      "  warnings.warn(\"Could not find sbxmat file at %s\" % self.scanheader_file)\n",
      "/home/mplitt/repos/TwoPUtils/TwoPUtils/sess.py:236: UserWarning: Could not find sbx file at /mnt/BigDisk/2P_scratch/4467975.1/02_10_2020/YMaze_LNovel/YMaze_LNovel_001_003.sbx\n",
      "  warnings.warn(\"Could not find sbx file at %s\" % self.scan_file)\n"
     ]
    },
    {
     "name": "stdout",
     "output_type": "stream",
     "text": [
      "02_10_2020 YMaze_LNovel\n",
      "['LR', 'block_number', 'sess_num_ravel', 'sess_num']\n",
      "['LR', 'block_number', 'sess_num_ravel', 'sess_num']\n",
      "{'date': '02_10_2020', 'scene': 'YMaze_LNovel', 'session': 1, 'scan': 3, 'novel_arm': -1, 'ravel_ind': 5}\n",
      "28_09_2020 YMaze_LNovel\n",
      "29_09_2020 YMaze_LNovel\n",
      "30_09_2020 YMaze_LNovel\n",
      "01_10_2020 YMaze_LNovel\n",
      "02_10_2020 YMaze_LNovel\n"
     ]
    },
    {
     "name": "stderr",
     "output_type": "stream",
     "text": [
      "/home/mplitt/repos/TwoPUtils/TwoPUtils/sess.py:227: UserWarning: Could not find sbxmat file at /mnt/BigDisk/2P_scratch/4467975.1/03_10_2020/YMaze_LNovel/YMaze_LNovel_001_003.mat\n",
      "  warnings.warn(\"Could not find sbxmat file at %s\" % self.scanheader_file)\n",
      "/home/mplitt/repos/TwoPUtils/TwoPUtils/sess.py:236: UserWarning: Could not find sbx file at /mnt/BigDisk/2P_scratch/4467975.1/03_10_2020/YMaze_LNovel/YMaze_LNovel_001_003.sbx\n",
      "  warnings.warn(\"Could not find sbx file at %s\" % self.scan_file)\n"
     ]
    },
    {
     "name": "stdout",
     "output_type": "stream",
     "text": [
      "03_10_2020 YMaze_LNovel\n",
      "['LR', 'block_number', 'sess_num_ravel', 'sess_num']\n",
      "['LR', 'block_number', 'sess_num_ravel', 'sess_num']\n",
      "{'date': '03_10_2020', 'scene': 'YMaze_LNovel', 'session': 1, 'scan': 3, 'novel_arm': -1, 'ravel_ind': 6}\n",
      "28_09_2020 YMaze_LNovel\n",
      "29_09_2020 YMaze_LNovel\n",
      "30_09_2020 YMaze_LNovel\n",
      "01_10_2020 YMaze_LNovel\n",
      "02_10_2020 YMaze_LNovel\n",
      "03_10_2020 YMaze_LNovel\n"
     ]
    },
    {
     "name": "stderr",
     "output_type": "stream",
     "text": [
      "/home/mplitt/repos/TwoPUtils/TwoPUtils/sess.py:227: UserWarning: Could not find sbxmat file at /mnt/BigDisk/2P_scratch/4467975.1/05_10_2020/YMaze_RewardReversal/YMaze_RewardReversal_001_003.mat\n",
      "  warnings.warn(\"Could not find sbxmat file at %s\" % self.scanheader_file)\n",
      "/home/mplitt/repos/TwoPUtils/TwoPUtils/sess.py:236: UserWarning: Could not find sbx file at /mnt/BigDisk/2P_scratch/4467975.1/05_10_2020/YMaze_RewardReversal/YMaze_RewardReversal_001_003.sbx\n",
      "  warnings.warn(\"Could not find sbx file at %s\" % self.scan_file)\n"
     ]
    },
    {
     "name": "stdout",
     "output_type": "stream",
     "text": [
      "05_10_2020 YMaze_RewardReversal\n",
      "['LR', 'block_number', 'sess_num_ravel', 'sess_num']\n",
      "['LR', 'block_number', 'sess_num_ravel', 'sess_num']\n",
      "{'date': '05_10_2020', 'scene': 'YMaze_RewardReversal', 'session': 1, 'scan': 3, 'novel_arm': -1, 'ravel_ind': 9}\n",
      "28_09_2020 YMaze_LNovel\n",
      "29_09_2020 YMaze_LNovel\n",
      "30_09_2020 YMaze_LNovel\n",
      "01_10_2020 YMaze_LNovel\n",
      "02_10_2020 YMaze_LNovel\n",
      "03_10_2020 YMaze_LNovel\n",
      "05_10_2020 YMaze_RewardReversal\n"
     ]
    },
    {
     "name": "stderr",
     "output_type": "stream",
     "text": [
      "/home/mplitt/repos/TwoPUtils/TwoPUtils/sess.py:227: UserWarning: Could not find sbxmat file at /mnt/BigDisk/2P_scratch/4467975.1/06_10_2020/YMaze_RewardReversal/YMaze_RewardReversal_001_002.mat\n",
      "  warnings.warn(\"Could not find sbxmat file at %s\" % self.scanheader_file)\n",
      "/home/mplitt/repos/TwoPUtils/TwoPUtils/sess.py:236: UserWarning: Could not find sbx file at /mnt/BigDisk/2P_scratch/4467975.1/06_10_2020/YMaze_RewardReversal/YMaze_RewardReversal_001_002.sbx\n",
      "  warnings.warn(\"Could not find sbx file at %s\" % self.scan_file)\n"
     ]
    },
    {
     "name": "stdout",
     "output_type": "stream",
     "text": [
      "06_10_2020 YMaze_RewardReversal\n"
     ]
    },
    {
     "name": "stderr",
     "output_type": "stream",
     "text": [
      "/home/mplitt/repos/TwoPUtils/TwoPUtils/sess.py:227: UserWarning: Could not find sbxmat file at /mnt/BigDisk/2P_scratch/4467975.1/06_10_2020/YMaze_LNovel/YMaze_LNovel_001_005.mat\n",
      "  warnings.warn(\"Could not find sbxmat file at %s\" % self.scanheader_file)\n",
      "/home/mplitt/repos/TwoPUtils/TwoPUtils/sess.py:236: UserWarning: Could not find sbx file at /mnt/BigDisk/2P_scratch/4467975.1/06_10_2020/YMaze_LNovel/YMaze_LNovel_001_005.sbx\n",
      "  warnings.warn(\"Could not find sbx file at %s\" % self.scan_file)\n"
     ]
    },
    {
     "name": "stdout",
     "output_type": "stream",
     "text": [
      "06_10_2020 YMaze_LNovel\n",
      "['LR', 'block_number', 'sess_num_ravel', 'sess_num']\n",
      "['LR', 'block_number', 'sess_num_ravel', 'sess_num']\n",
      "({'date': '06_10_2020', 'scene': 'YMaze_RewardReversal', 'session': 1, 'scan': 2, 'novel_arm': -1, 'ravel_ind': 10}, {'date': '06_10_2020', 'scene': 'YMaze_LNovel', 'session': 1, 'scan': 5, 'novel_arm': -1, 'ravel_ind': 11})\n",
      "06_10_2020 YMaze_RewardReversal\n",
      "06_10_2020 YMaze_LNovel\n",
      "['LR', 'block_number', 'sess_num_ravel', 'sess_num']\n",
      "['LR', 'block_number', 'sess_num_ravel', 'sess_num']\n",
      "{'date': '28_09_2020', 'scene': 'YMaze_LNovel', 'session': 3, 'scan': 8, 'novel_arm': 1, 'ravel_ind': 0}\n"
     ]
    },
    {
     "name": "stderr",
     "output_type": "stream",
     "text": [
      "/home/mplitt/repos/TwoPUtils/TwoPUtils/sess.py:227: UserWarning: Could not find sbxmat file at /mnt/BigDisk/2P_scratch/4467975.2/28_09_2020/YMaze_LNovel/YMaze_LNovel_003_008.mat\n",
      "  warnings.warn(\"Could not find sbxmat file at %s\" % self.scanheader_file)\n",
      "/home/mplitt/repos/TwoPUtils/TwoPUtils/sess.py:236: UserWarning: Could not find sbx file at /mnt/BigDisk/2P_scratch/4467975.2/28_09_2020/YMaze_LNovel/YMaze_LNovel_003_008.sbx\n",
      "  warnings.warn(\"Could not find sbx file at %s\" % self.scan_file)\n"
     ]
    },
    {
     "name": "stdout",
     "output_type": "stream",
     "text": [
      "28_09_2020 YMaze_LNovel\n"
     ]
    },
    {
     "name": "stderr",
     "output_type": "stream",
     "text": [
      "/home/mplitt/repos/TwoPUtils/TwoPUtils/sess.py:227: UserWarning: Could not find sbxmat file at /mnt/BigDisk/2P_scratch/4467975.2/29_09_2020/YMaze_LNovel/YMaze_LNovel_001_003.mat\n",
      "  warnings.warn(\"Could not find sbxmat file at %s\" % self.scanheader_file)\n",
      "/home/mplitt/repos/TwoPUtils/TwoPUtils/sess.py:236: UserWarning: Could not find sbx file at /mnt/BigDisk/2P_scratch/4467975.2/29_09_2020/YMaze_LNovel/YMaze_LNovel_001_003.sbx\n",
      "  warnings.warn(\"Could not find sbx file at %s\" % self.scan_file)\n"
     ]
    },
    {
     "name": "stdout",
     "output_type": "stream",
     "text": [
      "29_09_2020 YMaze_LNovel\n",
      "['LR', 'block_number', 'sess_num_ravel', 'sess_num']\n",
      "['LR', 'block_number', 'sess_num_ravel', 'sess_num']\n",
      "{'date': '29_09_2020', 'scene': 'YMaze_LNovel', 'session': 1, 'scan': 3, 'novel_arm': 1, 'ravel_ind': 1}\n",
      "28_09_2020 YMaze_LNovel\n",
      "29_09_2020 YMaze_LNovel\n"
     ]
    },
    {
     "name": "stderr",
     "output_type": "stream",
     "text": [
      "/home/mplitt/repos/TwoPUtils/TwoPUtils/sess.py:227: UserWarning: Could not find sbxmat file at /mnt/BigDisk/2P_scratch/4467975.2/30_09_2020/YMaze_LNovel/YMaze_LNovel_001_004.mat\n",
      "  warnings.warn(\"Could not find sbxmat file at %s\" % self.scanheader_file)\n",
      "/home/mplitt/repos/TwoPUtils/TwoPUtils/sess.py:236: UserWarning: Could not find sbx file at /mnt/BigDisk/2P_scratch/4467975.2/30_09_2020/YMaze_LNovel/YMaze_LNovel_001_004.sbx\n",
      "  warnings.warn(\"Could not find sbx file at %s\" % self.scan_file)\n"
     ]
    },
    {
     "name": "stdout",
     "output_type": "stream",
     "text": [
      "30_09_2020 YMaze_LNovel\n",
      "['LR', 'block_number', 'sess_num_ravel', 'sess_num']\n",
      "['LR', 'block_number', 'sess_num_ravel', 'sess_num']\n",
      "{'date': '30_09_2020', 'scene': 'YMaze_LNovel', 'session': 1, 'scan': 4, 'novel_arm': 1, 'ravel_ind': 2}\n",
      "28_09_2020 YMaze_LNovel\n",
      "29_09_2020 YMaze_LNovel\n",
      "30_09_2020 YMaze_LNovel\n"
     ]
    },
    {
     "name": "stderr",
     "output_type": "stream",
     "text": [
      "/home/mplitt/repos/TwoPUtils/TwoPUtils/sess.py:227: UserWarning: Could not find sbxmat file at /mnt/BigDisk/2P_scratch/4467975.2/01_10_2020/YMaze_LNovel/YMaze_LNovel_001_004.mat\n",
      "  warnings.warn(\"Could not find sbxmat file at %s\" % self.scanheader_file)\n",
      "/home/mplitt/repos/TwoPUtils/TwoPUtils/sess.py:236: UserWarning: Could not find sbx file at /mnt/BigDisk/2P_scratch/4467975.2/01_10_2020/YMaze_LNovel/YMaze_LNovel_001_004.sbx\n",
      "  warnings.warn(\"Could not find sbx file at %s\" % self.scan_file)\n"
     ]
    },
    {
     "name": "stdout",
     "output_type": "stream",
     "text": [
      "01_10_2020 YMaze_LNovel\n",
      "['LR', 'block_number', 'sess_num_ravel', 'sess_num']\n",
      "['LR', 'block_number', 'sess_num_ravel', 'sess_num']\n",
      "{'date': '01_10_2020', 'scene': 'YMaze_LNovel', 'session': 1, 'scan': 4, 'novel_arm': 1, 'ravel_ind': 3}\n",
      "28_09_2020 YMaze_LNovel\n",
      "29_09_2020 YMaze_LNovel\n",
      "30_09_2020 YMaze_LNovel\n",
      "01_10_2020 YMaze_LNovel\n"
     ]
    },
    {
     "name": "stderr",
     "output_type": "stream",
     "text": [
      "/home/mplitt/repos/TwoPUtils/TwoPUtils/sess.py:227: UserWarning: Could not find sbxmat file at /mnt/BigDisk/2P_scratch/4467975.2/02_10_2020/YMaze_LNovel/YMaze_LNovel_001_009.mat\n",
      "  warnings.warn(\"Could not find sbxmat file at %s\" % self.scanheader_file)\n",
      "/home/mplitt/repos/TwoPUtils/TwoPUtils/sess.py:236: UserWarning: Could not find sbx file at /mnt/BigDisk/2P_scratch/4467975.2/02_10_2020/YMaze_LNovel/YMaze_LNovel_001_009.sbx\n",
      "  warnings.warn(\"Could not find sbx file at %s\" % self.scan_file)\n"
     ]
    },
    {
     "name": "stdout",
     "output_type": "stream",
     "text": [
      "02_10_2020 YMaze_LNovel\n",
      "['LR', 'block_number', 'sess_num_ravel', 'sess_num']\n",
      "['LR', 'block_number', 'sess_num_ravel', 'sess_num']\n",
      "{'date': '02_10_2020', 'scene': 'YMaze_LNovel', 'session': 1, 'scan': 9, 'novel_arm': 1, 'ravel_ind': 4}\n",
      "28_09_2020 YMaze_LNovel\n",
      "29_09_2020 YMaze_LNovel\n",
      "30_09_2020 YMaze_LNovel\n",
      "01_10_2020 YMaze_LNovel\n",
      "02_10_2020 YMaze_LNovel\n"
     ]
    },
    {
     "name": "stderr",
     "output_type": "stream",
     "text": [
      "/home/mplitt/repos/TwoPUtils/TwoPUtils/sess.py:227: UserWarning: Could not find sbxmat file at /mnt/BigDisk/2P_scratch/4467975.2/03_10_2020/YMaze_LNovel/YMaze_LNovel_001_008.mat\n",
      "  warnings.warn(\"Could not find sbxmat file at %s\" % self.scanheader_file)\n",
      "/home/mplitt/repos/TwoPUtils/TwoPUtils/sess.py:236: UserWarning: Could not find sbx file at /mnt/BigDisk/2P_scratch/4467975.2/03_10_2020/YMaze_LNovel/YMaze_LNovel_001_008.sbx\n",
      "  warnings.warn(\"Could not find sbx file at %s\" % self.scan_file)\n"
     ]
    },
    {
     "name": "stdout",
     "output_type": "stream",
     "text": [
      "03_10_2020 YMaze_LNovel\n",
      "['LR', 'block_number', 'sess_num_ravel', 'sess_num']\n",
      "['LR', 'block_number', 'sess_num_ravel', 'sess_num']\n",
      "{'date': '03_10_2020', 'scene': 'YMaze_LNovel', 'session': 1, 'scan': 8, 'novel_arm': 1, 'ravel_ind': 5}\n",
      "28_09_2020 YMaze_LNovel\n",
      "29_09_2020 YMaze_LNovel\n",
      "30_09_2020 YMaze_LNovel\n",
      "01_10_2020 YMaze_LNovel\n",
      "02_10_2020 YMaze_LNovel\n",
      "03_10_2020 YMaze_LNovel\n",
      "04_10_2020 YMaze_LNovel\n"
     ]
    },
    {
     "name": "stderr",
     "output_type": "stream",
     "text": [
      "/home/mplitt/repos/TwoPUtils/TwoPUtils/sess.py:227: UserWarning: Could not find sbxmat file at /mnt/BigDisk/2P_scratch/4467975.2/04_10_2020/YMaze_LNovel/YMaze_LNovel_001_002.mat\n",
      "  warnings.warn(\"Could not find sbxmat file at %s\" % self.scanheader_file)\n",
      "/home/mplitt/repos/TwoPUtils/TwoPUtils/sess.py:236: UserWarning: Could not find sbx file at /mnt/BigDisk/2P_scratch/4467975.2/04_10_2020/YMaze_LNovel/YMaze_LNovel_001_002.sbx\n",
      "  warnings.warn(\"Could not find sbx file at %s\" % self.scan_file)\n",
      "/home/mplitt/repos/TwoPUtils/TwoPUtils/sess.py:227: UserWarning: Could not find sbxmat file at /mnt/BigDisk/2P_scratch/4467975.2/04_10_2020/YMaze_RewardReversal/YMaze_RewardReversal_001_005.mat\n",
      "  warnings.warn(\"Could not find sbxmat file at %s\" % self.scanheader_file)\n",
      "/home/mplitt/repos/TwoPUtils/TwoPUtils/sess.py:236: UserWarning: Could not find sbx file at /mnt/BigDisk/2P_scratch/4467975.2/04_10_2020/YMaze_RewardReversal/YMaze_RewardReversal_001_005.sbx\n",
      "  warnings.warn(\"Could not find sbx file at %s\" % self.scan_file)\n"
     ]
    },
    {
     "name": "stdout",
     "output_type": "stream",
     "text": [
      "04_10_2020 YMaze_RewardReversal\n",
      "['LR', 'block_number', 'sess_num_ravel', 'sess_num']\n",
      "['LR', 'block_number', 'sess_num_ravel', 'sess_num']\n",
      "({'date': '04_10_2020', 'scene': 'YMaze_LNovel', 'session': 1, 'scan': 2, 'novel_arm': 1, 'ravel_ind': 6}, {'date': '04_10_2020', 'scene': 'YMaze_RewardReversal', 'session': 1, 'scan': 5, 'novel_arm': 1, 'ravel_ind': 7})\n",
      "04_10_2020 YMaze_LNovel\n",
      "04_10_2020 YMaze_RewardReversal\n",
      "['LR', 'block_number', 'sess_num_ravel', 'sess_num']\n",
      "['LR', 'block_number', 'sess_num_ravel', 'sess_num']\n",
      "28_09_2020 YMaze_LNovel\n",
      "29_09_2020 YMaze_LNovel\n",
      "30_09_2020 YMaze_LNovel\n",
      "01_10_2020 YMaze_LNovel\n",
      "02_10_2020 YMaze_LNovel\n",
      "03_10_2020 YMaze_LNovel\n",
      "04_10_2020 YMaze_LNovel\n",
      "04_10_2020 YMaze_RewardReversal\n"
     ]
    },
    {
     "name": "stderr",
     "output_type": "stream",
     "text": [
      "/home/mplitt/repos/TwoPUtils/TwoPUtils/sess.py:227: UserWarning: Could not find sbxmat file at /mnt/BigDisk/2P_scratch/4467975.2/05_10_2020/YMaze_RewardReversal/YMaze_RewardReversal_001_003.mat\n",
      "  warnings.warn(\"Could not find sbxmat file at %s\" % self.scanheader_file)\n",
      "/home/mplitt/repos/TwoPUtils/TwoPUtils/sess.py:236: UserWarning: Could not find sbx file at /mnt/BigDisk/2P_scratch/4467975.2/05_10_2020/YMaze_RewardReversal/YMaze_RewardReversal_001_003.sbx\n",
      "  warnings.warn(\"Could not find sbx file at %s\" % self.scan_file)\n"
     ]
    },
    {
     "name": "stdout",
     "output_type": "stream",
     "text": [
      "05_10_2020 YMaze_RewardReversal\n",
      "['LR', 'block_number', 'sess_num_ravel', 'sess_num']\n",
      "['LR', 'block_number', 'sess_num_ravel', 'sess_num']\n",
      "{'date': '05_10_2020', 'scene': 'YMaze_RewardReversal', 'session': 1, 'scan': 3, 'novel_arm': 1, 'ravel_ind': 8}\n",
      "{'date': '28_09_2020', 'scene': 'YMaze_LNovel', 'session': 1, 'scan': 4, 'novel_arm': -1, 'ravel_ind': 0}\n"
     ]
    },
    {
     "name": "stderr",
     "output_type": "stream",
     "text": [
      "/home/mplitt/repos/TwoPUtils/TwoPUtils/sess.py:227: UserWarning: Could not find sbxmat file at /mnt/BigDisk/2P_scratch/4467975.3/28_09_2020/YMaze_LNovel/YMaze_LNovel_001_004.mat\n",
      "  warnings.warn(\"Could not find sbxmat file at %s\" % self.scanheader_file)\n",
      "/home/mplitt/repos/TwoPUtils/TwoPUtils/sess.py:236: UserWarning: Could not find sbx file at /mnt/BigDisk/2P_scratch/4467975.3/28_09_2020/YMaze_LNovel/YMaze_LNovel_001_004.sbx\n",
      "  warnings.warn(\"Could not find sbx file at %s\" % self.scan_file)\n"
     ]
    },
    {
     "name": "stdout",
     "output_type": "stream",
     "text": [
      "28_09_2020 YMaze_LNovel\n"
     ]
    },
    {
     "name": "stderr",
     "output_type": "stream",
     "text": [
      "/home/mplitt/repos/TwoPUtils/TwoPUtils/sess.py:227: UserWarning: Could not find sbxmat file at /mnt/BigDisk/2P_scratch/4467975.3/29_09_2020/YMaze_LNovel/YMaze_LNovel_001_004.mat\n",
      "  warnings.warn(\"Could not find sbxmat file at %s\" % self.scanheader_file)\n",
      "/home/mplitt/repos/TwoPUtils/TwoPUtils/sess.py:236: UserWarning: Could not find sbx file at /mnt/BigDisk/2P_scratch/4467975.3/29_09_2020/YMaze_LNovel/YMaze_LNovel_001_004.sbx\n",
      "  warnings.warn(\"Could not find sbx file at %s\" % self.scan_file)\n"
     ]
    },
    {
     "name": "stdout",
     "output_type": "stream",
     "text": [
      "29_09_2020 YMaze_LNovel\n",
      "['LR', 'block_number', 'sess_num_ravel', 'sess_num']\n",
      "['LR', 'block_number', 'sess_num_ravel', 'sess_num']\n",
      "{'date': '29_09_2020', 'scene': 'YMaze_LNovel', 'session': 1, 'scan': 4, 'novel_arm': -1, 'ravel_ind': 1}\n",
      "28_09_2020 YMaze_LNovel\n",
      "29_09_2020 YMaze_LNovel\n"
     ]
    },
    {
     "name": "stderr",
     "output_type": "stream",
     "text": [
      "/home/mplitt/repos/TwoPUtils/TwoPUtils/sess.py:227: UserWarning: Could not find sbxmat file at /mnt/BigDisk/2P_scratch/4467975.3/30_09_2020/YMaze_LNovel/YMaze_LNovel_002_007.mat\n",
      "  warnings.warn(\"Could not find sbxmat file at %s\" % self.scanheader_file)\n",
      "/home/mplitt/repos/TwoPUtils/TwoPUtils/sess.py:236: UserWarning: Could not find sbx file at /mnt/BigDisk/2P_scratch/4467975.3/30_09_2020/YMaze_LNovel/YMaze_LNovel_002_007.sbx\n",
      "  warnings.warn(\"Could not find sbx file at %s\" % self.scan_file)\n"
     ]
    },
    {
     "name": "stdout",
     "output_type": "stream",
     "text": [
      "30_09_2020 YMaze_LNovel\n",
      "['LR', 'block_number', 'sess_num_ravel', 'sess_num']\n",
      "['LR', 'block_number', 'sess_num_ravel', 'sess_num']\n",
      "{'date': '30_09_2020', 'scene': 'YMaze_LNovel', 'session': 2, 'scan': 7, 'novel_arm': -1, 'ravel_ind': 2}\n",
      "28_09_2020 YMaze_LNovel\n",
      "29_09_2020 YMaze_LNovel\n",
      "30_09_2020 YMaze_LNovel\n"
     ]
    },
    {
     "name": "stderr",
     "output_type": "stream",
     "text": [
      "/home/mplitt/repos/TwoPUtils/TwoPUtils/sess.py:227: UserWarning: Could not find sbxmat file at /mnt/BigDisk/2P_scratch/4467975.3/01_10_2020/YMaze_LNovel/YMaze_LNovel_001_007.mat\n",
      "  warnings.warn(\"Could not find sbxmat file at %s\" % self.scanheader_file)\n",
      "/home/mplitt/repos/TwoPUtils/TwoPUtils/sess.py:236: UserWarning: Could not find sbx file at /mnt/BigDisk/2P_scratch/4467975.3/01_10_2020/YMaze_LNovel/YMaze_LNovel_001_007.sbx\n",
      "  warnings.warn(\"Could not find sbx file at %s\" % self.scan_file)\n"
     ]
    },
    {
     "name": "stdout",
     "output_type": "stream",
     "text": [
      "01_10_2020 YMaze_LNovel\n",
      "['LR', 'block_number', 'sess_num_ravel', 'sess_num']\n",
      "['LR', 'block_number', 'sess_num_ravel', 'sess_num']\n",
      "{'date': '01_10_2020', 'scene': 'YMaze_LNovel', 'session': 1, 'scan': 7, 'novel_arm': -1, 'ravel_ind': 3}\n",
      "28_09_2020 YMaze_LNovel\n",
      "29_09_2020 YMaze_LNovel\n",
      "30_09_2020 YMaze_LNovel\n",
      "01_10_2020 YMaze_LNovel\n"
     ]
    },
    {
     "name": "stderr",
     "output_type": "stream",
     "text": [
      "/home/mplitt/repos/TwoPUtils/TwoPUtils/sess.py:227: UserWarning: Could not find sbxmat file at /mnt/BigDisk/2P_scratch/4467975.3/02_10_2020/YMaze_LNovel/YMaze_LNovel_001_003.mat\n",
      "  warnings.warn(\"Could not find sbxmat file at %s\" % self.scanheader_file)\n",
      "/home/mplitt/repos/TwoPUtils/TwoPUtils/sess.py:236: UserWarning: Could not find sbx file at /mnt/BigDisk/2P_scratch/4467975.3/02_10_2020/YMaze_LNovel/YMaze_LNovel_001_003.sbx\n",
      "  warnings.warn(\"Could not find sbx file at %s\" % self.scan_file)\n"
     ]
    },
    {
     "name": "stdout",
     "output_type": "stream",
     "text": [
      "02_10_2020 YMaze_LNovel\n",
      "['LR', 'block_number', 'sess_num_ravel', 'sess_num']\n",
      "['LR', 'block_number', 'sess_num_ravel', 'sess_num']\n",
      "{'date': '02_10_2020', 'scene': 'YMaze_LNovel', 'session': 1, 'scan': 3, 'novel_arm': -1, 'ravel_ind': 4}\n",
      "28_09_2020 YMaze_LNovel\n",
      "29_09_2020 YMaze_LNovel\n",
      "30_09_2020 YMaze_LNovel\n",
      "01_10_2020 YMaze_LNovel\n",
      "02_10_2020 YMaze_LNovel\n"
     ]
    },
    {
     "name": "stderr",
     "output_type": "stream",
     "text": [
      "/home/mplitt/repos/TwoPUtils/TwoPUtils/sess.py:227: UserWarning: Could not find sbxmat file at /mnt/BigDisk/2P_scratch/4467975.3/03_10_2020/YMaze_LNovel/YMaze_LNovel_001_006.mat\n",
      "  warnings.warn(\"Could not find sbxmat file at %s\" % self.scanheader_file)\n",
      "/home/mplitt/repos/TwoPUtils/TwoPUtils/sess.py:236: UserWarning: Could not find sbx file at /mnt/BigDisk/2P_scratch/4467975.3/03_10_2020/YMaze_LNovel/YMaze_LNovel_001_006.sbx\n",
      "  warnings.warn(\"Could not find sbx file at %s\" % self.scan_file)\n"
     ]
    },
    {
     "name": "stdout",
     "output_type": "stream",
     "text": [
      "03_10_2020 YMaze_LNovel\n",
      "['LR', 'block_number', 'sess_num_ravel', 'sess_num']\n",
      "['LR', 'block_number', 'sess_num_ravel', 'sess_num']\n",
      "{'date': '03_10_2020', 'scene': 'YMaze_LNovel', 'session': 1, 'scan': 6, 'novel_arm': -1, 'ravel_ind': 5}\n",
      "28_09_2020 YMaze_LNovel\n",
      "29_09_2020 YMaze_LNovel\n",
      "30_09_2020 YMaze_LNovel\n",
      "01_10_2020 YMaze_LNovel\n",
      "02_10_2020 YMaze_LNovel\n",
      "03_10_2020 YMaze_LNovel\n"
     ]
    },
    {
     "name": "stderr",
     "output_type": "stream",
     "text": [
      "/home/mplitt/repos/TwoPUtils/TwoPUtils/sess.py:227: UserWarning: Could not find sbxmat file at /mnt/BigDisk/2P_scratch/4467975.3/04_10_2020/YMaze_LNovel/YMaze_LNovel_001_003.mat\n",
      "  warnings.warn(\"Could not find sbxmat file at %s\" % self.scanheader_file)\n",
      "/home/mplitt/repos/TwoPUtils/TwoPUtils/sess.py:236: UserWarning: Could not find sbx file at /mnt/BigDisk/2P_scratch/4467975.3/04_10_2020/YMaze_LNovel/YMaze_LNovel_001_003.sbx\n",
      "  warnings.warn(\"Could not find sbx file at %s\" % self.scan_file)\n"
     ]
    },
    {
     "name": "stdout",
     "output_type": "stream",
     "text": [
      "04_10_2020 YMaze_LNovel\n"
     ]
    },
    {
     "name": "stderr",
     "output_type": "stream",
     "text": [
      "/home/mplitt/repos/TwoPUtils/TwoPUtils/sess.py:227: UserWarning: Could not find sbxmat file at /mnt/BigDisk/2P_scratch/4467975.3/04_10_2020/YMaze_RewardReversal/YMaze_RewardReversal_001_006.mat\n",
      "  warnings.warn(\"Could not find sbxmat file at %s\" % self.scanheader_file)\n",
      "/home/mplitt/repos/TwoPUtils/TwoPUtils/sess.py:236: UserWarning: Could not find sbx file at /mnt/BigDisk/2P_scratch/4467975.3/04_10_2020/YMaze_RewardReversal/YMaze_RewardReversal_001_006.sbx\n",
      "  warnings.warn(\"Could not find sbx file at %s\" % self.scan_file)\n"
     ]
    },
    {
     "name": "stdout",
     "output_type": "stream",
     "text": [
      "04_10_2020 YMaze_RewardReversal\n",
      "['LR', 'block_number', 'sess_num_ravel', 'sess_num']\n",
      "['LR', 'block_number', 'sess_num_ravel', 'sess_num']\n",
      "({'date': '04_10_2020', 'scene': 'YMaze_LNovel', 'session': 1, 'scan': 3, 'novel_arm': -1, 'ravel_ind': 6}, {'date': '04_10_2020', 'scene': 'YMaze_RewardReversal', 'session': 1, 'scan': 6, 'novel_arm': -1, 'ravel_ind': 7})\n",
      "04_10_2020 YMaze_LNovel\n",
      "04_10_2020 YMaze_RewardReversal\n",
      "['LR', 'block_number', 'sess_num_ravel', 'sess_num']\n",
      "['LR', 'block_number', 'sess_num_ravel', 'sess_num']\n",
      "28_09_2020 YMaze_LNovel\n",
      "29_09_2020 YMaze_LNovel\n",
      "30_09_2020 YMaze_LNovel\n",
      "01_10_2020 YMaze_LNovel\n",
      "02_10_2020 YMaze_LNovel\n",
      "03_10_2020 YMaze_LNovel\n",
      "04_10_2020 YMaze_LNovel\n",
      "04_10_2020 YMaze_RewardReversal\n"
     ]
    },
    {
     "name": "stderr",
     "output_type": "stream",
     "text": [
      "/home/mplitt/repos/TwoPUtils/TwoPUtils/sess.py:227: UserWarning: Could not find sbxmat file at /mnt/BigDisk/2P_scratch/4467975.3/05_10_2020/YMaze_RewardReversal/YMaze_RewardReversal_001_003.mat\n",
      "  warnings.warn(\"Could not find sbxmat file at %s\" % self.scanheader_file)\n",
      "/home/mplitt/repos/TwoPUtils/TwoPUtils/sess.py:236: UserWarning: Could not find sbx file at /mnt/BigDisk/2P_scratch/4467975.3/05_10_2020/YMaze_RewardReversal/YMaze_RewardReversal_001_003.sbx\n",
      "  warnings.warn(\"Could not find sbx file at %s\" % self.scan_file)\n"
     ]
    },
    {
     "name": "stdout",
     "output_type": "stream",
     "text": [
      "05_10_2020 YMaze_RewardReversal\n",
      "['LR', 'block_number', 'sess_num_ravel', 'sess_num']\n",
      "['LR', 'block_number', 'sess_num_ravel', 'sess_num']\n",
      "{'date': '05_10_2020', 'scene': 'YMaze_RewardReversal', 'session': 1, 'scan': 3, 'novel_arm': -1, 'ravel_ind': 8}\n",
      "{'date': '28_09_2020', 'scene': 'YMaze_LNovel', 'session': 1, 'scan': 5, 'novel_arm': 1, 'ravel_ind': 0}\n",
      "28_09_2020 YMaze_LNovel\n",
      "29_09_2020 YMaze_LNovel\n",
      "['LR', 'block_number', 'sess_num_ravel', 'sess_num']\n",
      "['LR', 'block_number', 'sess_num_ravel', 'sess_num']\n",
      "{'date': '29_09_2020', 'scene': 'YMaze_LNovel', 'session': 1, 'scan': 3, 'novel_arm': 1, 'ravel_ind': 1}\n",
      "28_09_2020 YMaze_LNovel\n",
      "29_09_2020 YMaze_LNovel\n",
      "30_09_2020 YMaze_LNovel\n",
      "['LR', 'block_number', 'sess_num_ravel', 'sess_num']\n",
      "['LR', 'block_number', 'sess_num_ravel', 'sess_num']\n",
      "{'date': '30_09_2020', 'scene': 'YMaze_LNovel', 'session': 1, 'scan': 3, 'novel_arm': 1, 'ravel_ind': 2}\n",
      "28_09_2020 YMaze_LNovel\n",
      "29_09_2020 YMaze_LNovel\n",
      "30_09_2020 YMaze_LNovel\n",
      "01_10_2020 YMaze_LNovel\n",
      "['LR', 'block_number', 'sess_num_ravel', 'sess_num']\n",
      "['LR', 'block_number', 'sess_num_ravel', 'sess_num']\n",
      "{'date': '01_10_2020', 'scene': 'YMaze_LNovel', 'session': 1, 'scan': 2, 'novel_arm': 1, 'ravel_ind': 3}\n",
      "28_09_2020 YMaze_LNovel\n",
      "29_09_2020 YMaze_LNovel\n",
      "30_09_2020 YMaze_LNovel\n",
      "01_10_2020 YMaze_LNovel\n",
      "02_10_2020 YMaze_LNovel\n",
      "['LR', 'block_number', 'sess_num_ravel', 'sess_num']\n",
      "['LR', 'block_number', 'sess_num_ravel', 'sess_num']\n",
      "{'date': '02_10_2020', 'scene': 'YMaze_LNovel', 'session': 1, 'scan': 4, 'novel_arm': 1, 'ravel_ind': 4}\n",
      "28_09_2020 YMaze_LNovel\n",
      "29_09_2020 YMaze_LNovel\n",
      "30_09_2020 YMaze_LNovel\n",
      "01_10_2020 YMaze_LNovel\n",
      "02_10_2020 YMaze_LNovel\n",
      "03_10_2020 YMaze_LNovel\n",
      "['LR', 'block_number', 'sess_num_ravel', 'sess_num']\n",
      "['LR', 'block_number', 'sess_num_ravel', 'sess_num']\n",
      "{'date': '03_10_2020', 'scene': 'YMaze_LNovel', 'session': 1, 'scan': 4, 'novel_arm': 1, 'ravel_ind': 5}\n",
      "28_09_2020 YMaze_LNovel\n",
      "29_09_2020 YMaze_LNovel\n",
      "30_09_2020 YMaze_LNovel\n",
      "01_10_2020 YMaze_LNovel\n",
      "02_10_2020 YMaze_LNovel\n",
      "03_10_2020 YMaze_LNovel\n",
      "04_10_2020 YMaze_LNovel\n",
      "04_10_2020 YMaze_RewardReversal\n",
      "['LR', 'block_number', 'sess_num_ravel', 'sess_num']\n",
      "['LR', 'block_number', 'sess_num_ravel', 'sess_num']\n",
      "({'date': '04_10_2020', 'scene': 'YMaze_LNovel', 'session': 1, 'scan': 2, 'novel_arm': 1, 'ravel_ind': 6}, {'date': '04_10_2020', 'scene': 'YMaze_RewardReversal', 'session': 1, 'scan': 5, 'novel_arm': 1, 'ravel_ind': 7})\n",
      "04_10_2020 YMaze_LNovel\n",
      "04_10_2020 YMaze_RewardReversal\n",
      "['LR', 'block_number', 'sess_num_ravel', 'sess_num']\n",
      "['LR', 'block_number', 'sess_num_ravel', 'sess_num']\n",
      "28_09_2020 YMaze_LNovel\n",
      "29_09_2020 YMaze_LNovel\n",
      "30_09_2020 YMaze_LNovel\n",
      "01_10_2020 YMaze_LNovel\n",
      "02_10_2020 YMaze_LNovel\n",
      "03_10_2020 YMaze_LNovel\n",
      "04_10_2020 YMaze_LNovel\n",
      "04_10_2020 YMaze_RewardReversal\n",
      "05_10_2020 YMaze_RewardReversal\n",
      "['LR', 'block_number', 'sess_num_ravel', 'sess_num']\n",
      "['LR', 'block_number', 'sess_num_ravel', 'sess_num']\n",
      "{'date': '05_10_2020', 'scene': 'YMaze_RewardReversal', 'session': 1, 'scan': 3, 'novel_arm': 1, 'ravel_ind': 8}\n",
      "{'date': '28_09_2020', 'scene': 'YMaze_LNovel', 'session': 1, 'scan': 4, 'novel_arm': -1, 'ravel_ind': 0}\n",
      "28_09_2020 YMaze_LNovel\n",
      "29_09_2020 YMaze_LNovel\n",
      "['LR', 'block_number', 'sess_num_ravel', 'sess_num']\n",
      "['LR', 'block_number', 'sess_num_ravel', 'sess_num']\n",
      "{'date': '29_09_2020', 'scene': 'YMaze_LNovel', 'session': 1, 'scan': 3, 'novel_arm': -1, 'ravel_ind': 1}\n",
      "28_09_2020 YMaze_LNovel\n",
      "29_09_2020 YMaze_LNovel\n",
      "30_09_2020 YMaze_LNovel\n",
      "['LR', 'block_number', 'sess_num_ravel', 'sess_num']\n",
      "['LR', 'block_number', 'sess_num_ravel', 'sess_num']\n",
      "{'date': '30_09_2020', 'scene': 'YMaze_LNovel', 'session': 1, 'scan': 5, 'novel_arm': -1, 'ravel_ind': 2}\n",
      "28_09_2020 YMaze_LNovel\n",
      "29_09_2020 YMaze_LNovel\n",
      "30_09_2020 YMaze_LNovel\n",
      "01_10_2020 YMaze_LNovel\n",
      "['LR', 'block_number', 'sess_num_ravel', 'sess_num']\n",
      "['LR', 'block_number', 'sess_num_ravel', 'sess_num']\n",
      "{'date': '01_10_2020', 'scene': 'YMaze_LNovel', 'session': 1, 'scan': 7, 'novel_arm': -1, 'ravel_ind': 3}\n",
      "28_09_2020 YMaze_LNovel\n",
      "29_09_2020 YMaze_LNovel\n",
      "30_09_2020 YMaze_LNovel\n",
      "01_10_2020 YMaze_LNovel\n",
      "02_10_2020 YMaze_LNovel\n",
      "['LR', 'block_number', 'sess_num_ravel', 'sess_num']\n",
      "['LR', 'block_number', 'sess_num_ravel', 'sess_num']\n",
      "{'date': '02_10_2020', 'scene': 'YMaze_LNovel', 'session': 1, 'scan': 3, 'novel_arm': -1, 'ravel_ind': 4}\n",
      "28_09_2020 YMaze_LNovel\n",
      "29_09_2020 YMaze_LNovel\n",
      "30_09_2020 YMaze_LNovel\n",
      "01_10_2020 YMaze_LNovel\n",
      "02_10_2020 YMaze_LNovel\n",
      "03_10_2020 YMaze_LNovel\n",
      "['LR', 'block_number', 'sess_num_ravel', 'sess_num']\n",
      "['LR', 'block_number', 'sess_num_ravel', 'sess_num']\n",
      "{'date': '03_10_2020', 'scene': 'YMaze_LNovel', 'session': 1, 'scan': 5, 'novel_arm': -1, 'ravel_ind': 5}\n",
      "28_09_2020 YMaze_LNovel\n",
      "29_09_2020 YMaze_LNovel\n",
      "30_09_2020 YMaze_LNovel\n",
      "01_10_2020 YMaze_LNovel\n",
      "02_10_2020 YMaze_LNovel\n",
      "03_10_2020 YMaze_LNovel\n",
      "04_10_2020 YMaze_LNovel\n",
      "04_10_2020 YMaze_RewardReversal\n",
      "['LR', 'block_number', 'sess_num_ravel', 'sess_num']\n",
      "['LR', 'block_number', 'sess_num_ravel', 'sess_num']\n",
      "({'date': '04_10_2020', 'scene': 'YMaze_LNovel', 'session': 1, 'scan': 4, 'novel_arm': -1, 'ravel_ind': 6}, {'date': '04_10_2020', 'scene': 'YMaze_RewardReversal', 'session': 1, 'scan': 8, 'novel_arm': -1, 'ravel_ind': 7})\n",
      "04_10_2020 YMaze_LNovel\n",
      "04_10_2020 YMaze_RewardReversal\n",
      "['LR', 'block_number', 'sess_num_ravel', 'sess_num']\n",
      "['LR', 'block_number', 'sess_num_ravel', 'sess_num']\n",
      "28_09_2020 YMaze_LNovel\n",
      "29_09_2020 YMaze_LNovel\n",
      "30_09_2020 YMaze_LNovel\n",
      "01_10_2020 YMaze_LNovel\n",
      "02_10_2020 YMaze_LNovel\n",
      "03_10_2020 YMaze_LNovel\n",
      "04_10_2020 YMaze_LNovel\n",
      "04_10_2020 YMaze_RewardReversal\n",
      "05_10_2020 YMaze_RewardReversal\n",
      "['LR', 'block_number', 'sess_num_ravel', 'sess_num']\n",
      "['LR', 'block_number', 'sess_num_ravel', 'sess_num']\n",
      "{'date': '05_10_2020', 'scene': 'YMaze_RewardReversal', 'session': 1, 'scan': 3, 'novel_arm': -1, 'ravel_ind': 8}\n"
     ]
    }
   ],
   "source": [
    "ko_ncells_across, ko_ncells_within = get_cell_numbers(ko_mice)"
   ]
  },
  {
   "cell_type": "code",
   "execution_count": 13,
   "id": "completed-penetration",
   "metadata": {},
   "outputs": [
    {
     "data": {
      "image/png": "[encoded data removed]",
      "text/plain": [
       "<Figure size 720x360 with 2 Axes>"
      ]
     },
     "metadata": {
      "needs_background": "light"
     },
     "output_type": "display_data"
    }
   ],
   "source": [
    "fig, ax = plt.subplots(1,2, figsize = [10,5], sharey=True)\n",
    "\n",
    "x = np.arange(1,9)\n",
    "ax[1].plot(x,ctrl_ncells_across.T, color='black')\n",
    "ax[1].plot(x,ko_ncells_across.T, color='red')\n",
    "\n",
    "ax[0].plot(x,ctrl_ncells_within.T, color='black')\n",
    "ax[0].plot(x,ko_ncells_within.T, color='red')\n",
    "\n",
    "for a in range(2):\n",
    "    ax[a].spines['top'].set_visible(False)\n",
    "    ax[a].spines['right'].set_visible(False)\n",
    "    ax[a].set_ylabel('Cells')\n",
    "    ax[a].set_xlabel('Days')\n",
    "\n",
    "ax[1].set_title('Across Days')\n",
    "ax[0].set_title('Within Days')\n",
    "\n",
    "fig.savefig(os.path.join(figdir,\"ncells_recorded.pdf\"))"
   ]
  },
  {
   "cell_type": "code",
   "execution_count": null,
   "id": "immune-hotel",
   "metadata": {},
   "outputs": [],
   "source": []
  },
  {
   "cell_type": "code",
   "execution_count": null,
   "id": "adequate-burns",
   "metadata": {},
   "outputs": [],
   "source": []
  },
  {
   "cell_type": "code",
   "execution_count": null,
   "id": "complex-shanghai",
   "metadata": {},
   "outputs": [],
   "source": []
  },
  {
   "cell_type": "code",
   "execution_count": null,
   "id": "focal-sympathy",
   "metadata": {},
   "outputs": [],
   "source": []
  },
  {
   "cell_type": "code",
   "execution_count": null,
   "id": "secondary-memorabilia",
   "metadata": {},
   "outputs": [],
   "source": []
  },
  {
   "cell_type": "code",
   "execution_count": null,
   "id": "crude-vinyl",
   "metadata": {},
   "outputs": [],
   "source": []
  },
  {
   "cell_type": "code",
   "execution_count": null,
   "id": "greatest-attitude",
   "metadata": {},
   "outputs": [],
   "source": []
  },
  {
   "cell_type": "code",
   "execution_count": null,
   "id": "agreed-cedar",
   "metadata": {},
   "outputs": [],
   "source": []
  },
  {
   "cell_type": "code",
   "execution_count": null,
   "id": "negative-russia",
   "metadata": {},
   "outputs": [],
   "source": []
  },
  {
   "cell_type": "code",
   "execution_count": null,
   "id": "absolute-visit",
   "metadata": {},
   "outputs": [],
   "source": []
  },
  {
   "cell_type": "code",
   "execution_count": null,
   "id": "egyptian-instruction",
   "metadata": {},
   "outputs": [],
   "source": []
  }
 ],
 "metadata": {
  "kernelspec": {
   "display_name": "Python 3",
   "language": "python",
   "name": "python3"
  },
  "language_info": {
   "codemirror_mode": {
    "name": "ipython",
    "version": 3
   },
   "file_extension": ".py",
   "mimetype": "text/x-python",
   "name": "python",
   "nbconvert_exporter": "python",
   "pygments_lexer": "ipython3",
   "version": "3.8.8"
  }
 },
 "nbformat": 4,
 "nbformat_minor": 5
}
