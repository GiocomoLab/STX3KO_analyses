{
 "cells": [
  {
   "cell_type": "code",
   "execution_count": 1,
   "id": "dietary-airplane",
   "metadata": {},
   "outputs": [],
   "source": [
    "import os\n",
    "from itertools import product\n",
    "\n",
    "import numpy as np\n",
    "import scipy as sp\n",
    "from matplotlib import pyplot as plt\n",
    "from matplotlib import gridspec\n",
    "\n",
    "import pandas as pd\n",
    "from pingouin import mixed_anova, anova, pairwise_tukey, pairwise_ttests\n",
    "from statsmodels.regression.mixed_linear_model import MixedLM\n",
    "\n",
    "import TwoPUtils as tpu\n",
    "import STX3KO_analyses as stx\n",
    "from STX3KO_analyses import utilities as u\n",
    "\n",
    "import sklearn\n",
    "from sklearn.mixture import BayesianGaussianMixture as BGM\n",
    "\n",
    "\n",
    "ko_mice = stx.ymaze_sess_deets.ko_mice\n",
    "ctrl_mice = stx.ymaze_sess_deets.ctrl_mice\n",
    "\n",
    "\n",
    "%matplotlib inline\n",
    "\n",
    "%load_ext autoreload\n",
    "%autoreload 2\n",
    "\n",
    "rng = np.random.default_rng()"
   ]
  },
  {
   "cell_type": "code",
   "execution_count": 2,
   "id": "tested-theology",
   "metadata": {},
   "outputs": [],
   "source": [
    "figdir = \"/mnt/BigDisk/YMazeResults/neural/field_shifts\"\n",
    "os.makedirs(figdir,exist_ok=True)"
   ]
  },
  {
   "cell_type": "code",
   "execution_count": 3,
   "id": "approximate-backup",
   "metadata": {},
   "outputs": [],
   "source": [
    "# replication of Losconczy preprint\n",
    "\n",
    "# https://www.biorxiv.org/content/10.1101/2021.07.02.450956v1.full.pdf\n",
    "\n",
    "# and sheffield \n",
    "\n",
    "# https://www-nature-com.stanford.idm.oclc.org/articles/s41467-021-23260-3#Sec8"
   ]
  },
  {
   "cell_type": "code",
   "execution_count": 3,
   "id": "leading-shore",
   "metadata": {},
   "outputs": [],
   "source": [
    "\n",
    "\n",
    "def get_field_stats(field_mask):\n",
    "#     sigfield_cells = field_mask.sum(axis=0)>0\n",
    "    _field_mask = np.zeros([field_mask.shape[0]+2, field_mask.shape[1]])\n",
    "    _field_mask[1:-1,:]=field_mask\n",
    "#     _field_mask = 1.*field_mask\n",
    "#     _field_mask = _field_mask[:,sigfield_cells]\n",
    "    \n",
    "    rising_edges, falling_edges = np.argwhere((_field_mask[1:,:]>_field_mask[:-1,:]).T), np.argwhere((_field_mask[:-1,:]>_field_mask[1:,:]).T)\n",
    "    field_widths = falling_edges[:,1]-rising_edges[:,1]\n",
    "    \n",
    "#     mask = field_widths>2\n",
    "#     rising_edges, falling_edges, field_widths = rising_edges[mask,:], falling_edges[mask,:], field_widths[mask]\n",
    "    \n",
    "    num_fields = np.bincount(rising_edges[:,0])\n",
    "    \n",
    "#     num_fields = (_field_mask[1:, :]>_field_mask[:-1, :]).sum(axis=0)\n",
    "    \n",
    "    return rising_edges, falling_edges, field_widths, num_fields\n",
    "    \n",
    "    \n",
    "\n",
    "def field_masks(sess, n_perms = 1000, pcnt = 99):\n",
    "    \n",
    "    \n",
    "    \n",
    "    def _run_fields(nov):\n",
    "        if nov:\n",
    "            trial_mask = sess.trial_info['LR']==sess.novel_arm\n",
    "        else:\n",
    "            trial_mask = sess.trial_info['LR']== -1*sess.novel_arm\n",
    "        shuff_mat = np.zeros([1000, *sess.trial_matrices['spks'].shape[1:]])\n",
    "        trial_mat = sess.trial_matrices['spks'][trial_mask,:,:]\n",
    "        n_trials = trial_mat.shape[0]\n",
    "        \n",
    "        shuffs = rng.integers(trial_mat.shape[1], size = [n_perms, trial_mat.shape[0]])\n",
    "        \n",
    "        # calculate shuffles\n",
    "        _tmat = 0*trial_mat\n",
    "        for perm in range(n_perms):\n",
    "            for trial in range(n_trials):\n",
    "                _tmat[trial,:,:] = np.roll(trial_mat[trial,:,:], shuffs[perm, trial])\n",
    "            shuff_mat[perm,:,:] = np.nanmean(_tmat, axis=0)\n",
    "            \n",
    "        thresh = np.nanpercentile(shuff_mat,pcnt, axis=0)\n",
    "        field_mask = 1*(np.nanmean(trial_mat,axis=0)>thresh)\n",
    "        rising_edges, falling_edges, field_widths, num_fields = get_field_stats(field_mask)\n",
    "        return {'field_mask': field_mask, \n",
    "                'rising_edges': rising_edges, \n",
    "                'falling_edges': falling_edges, \n",
    "                'field_widths': field_widths,\n",
    "                'num_fields': num_fields}\n",
    "    \n",
    "    return {'fam': _run_fields(False), 'nov': _run_fields(True)}\n",
    "\n",
    "\n"
   ]
  },
  {
   "cell_type": "code",
   "execution_count": 34,
   "id": "empty-gibson",
   "metadata": {
    "collapsed": true,
    "jupyter": {
     "outputs_hidden": true
    }
   },
   "outputs": [
    {
     "name": "stdout",
     "output_type": "stream",
     "text": [
      "{'date': '28_09_2020', 'scene': 'YMaze_LNovel', 'session': 6, 'scan': 14, 'novel_arm': -1, 'ravel_ind': 1}\n"
     ]
    },
    {
     "name": "stderr",
     "output_type": "stream",
     "text": [
      "/home/mplitt/repos/TwoPUtils/TwoPUtils/sess.py:95: UserWarning: skipping checking keys, remaining initialization not guaranteed to work\n",
      "  warnings.warn(\"skipping checking keys, remaining initialization not guaranteed to work\")\n",
      "/home/mplitt/repos/TwoPUtils/TwoPUtils/sess.py:227: UserWarning: Could not find sbxmat file at /mnt/BigDisk/2P_scratch/4467975.1/28_09_2020/YMaze_LNovel/YMaze_LNovel_006_014.mat\n",
      "  warnings.warn(\"Could not find sbxmat file at %s\" % self.scanheader_file)\n",
      "/home/mplitt/repos/TwoPUtils/TwoPUtils/sess.py:236: UserWarning: Could not find sbx file at /mnt/BigDisk/2P_scratch/4467975.1/28_09_2020/YMaze_LNovel/YMaze_LNovel_006_014.sbx\n",
      "  warnings.warn(\"Could not find sbx file at %s\" % self.scan_file)\n"
     ]
    },
    {
     "name": "stdout",
     "output_type": "stream",
     "text": [
      "{'date': '29_09_2020', 'scene': 'YMaze_LNovel', 'session': 1, 'scan': 3, 'novel_arm': -1, 'ravel_ind': 2}\n"
     ]
    },
    {
     "name": "stderr",
     "output_type": "stream",
     "text": [
      "/home/mplitt/repos/TwoPUtils/TwoPUtils/sess.py:227: UserWarning: Could not find sbxmat file at /mnt/BigDisk/2P_scratch/4467975.1/29_09_2020/YMaze_LNovel/YMaze_LNovel_001_003.mat\n",
      "  warnings.warn(\"Could not find sbxmat file at %s\" % self.scanheader_file)\n",
      "/home/mplitt/repos/TwoPUtils/TwoPUtils/sess.py:236: UserWarning: Could not find sbx file at /mnt/BigDisk/2P_scratch/4467975.1/29_09_2020/YMaze_LNovel/YMaze_LNovel_001_003.sbx\n",
      "  warnings.warn(\"Could not find sbx file at %s\" % self.scan_file)\n"
     ]
    },
    {
     "name": "stdout",
     "output_type": "stream",
     "text": [
      "{'date': '30_09_2020', 'scene': 'YMaze_LNovel', 'session': 1, 'scan': 4, 'novel_arm': -1, 'ravel_ind': 3}\n"
     ]
    },
    {
     "name": "stderr",
     "output_type": "stream",
     "text": [
      "/home/mplitt/repos/TwoPUtils/TwoPUtils/sess.py:227: UserWarning: Could not find sbxmat file at /mnt/BigDisk/2P_scratch/4467975.1/30_09_2020/YMaze_LNovel/YMaze_LNovel_001_004.mat\n",
      "  warnings.warn(\"Could not find sbxmat file at %s\" % self.scanheader_file)\n",
      "/home/mplitt/repos/TwoPUtils/TwoPUtils/sess.py:236: UserWarning: Could not find sbx file at /mnt/BigDisk/2P_scratch/4467975.1/30_09_2020/YMaze_LNovel/YMaze_LNovel_001_004.sbx\n",
      "  warnings.warn(\"Could not find sbx file at %s\" % self.scan_file)\n"
     ]
    },
    {
     "name": "stdout",
     "output_type": "stream",
     "text": [
      "{'date': '01_10_2020', 'scene': 'YMaze_LNovel', 'session': 1, 'scan': 2, 'novel_arm': -1, 'ravel_ind': 4}\n"
     ]
    },
    {
     "name": "stderr",
     "output_type": "stream",
     "text": [
      "/home/mplitt/repos/TwoPUtils/TwoPUtils/sess.py:227: UserWarning: Could not find sbxmat file at /mnt/BigDisk/2P_scratch/4467975.1/01_10_2020/YMaze_LNovel/YMaze_LNovel_001_002.mat\n",
      "  warnings.warn(\"Could not find sbxmat file at %s\" % self.scanheader_file)\n",
      "/home/mplitt/repos/TwoPUtils/TwoPUtils/sess.py:236: UserWarning: Could not find sbx file at /mnt/BigDisk/2P_scratch/4467975.1/01_10_2020/YMaze_LNovel/YMaze_LNovel_001_002.sbx\n",
      "  warnings.warn(\"Could not find sbx file at %s\" % self.scan_file)\n"
     ]
    },
    {
     "name": "stdout",
     "output_type": "stream",
     "text": [
      "{'date': '02_10_2020', 'scene': 'YMaze_LNovel', 'session': 1, 'scan': 3, 'novel_arm': -1, 'ravel_ind': 5}\n"
     ]
    },
    {
     "name": "stderr",
     "output_type": "stream",
     "text": [
      "/home/mplitt/repos/TwoPUtils/TwoPUtils/sess.py:227: UserWarning: Could not find sbxmat file at /mnt/BigDisk/2P_scratch/4467975.1/02_10_2020/YMaze_LNovel/YMaze_LNovel_001_003.mat\n",
      "  warnings.warn(\"Could not find sbxmat file at %s\" % self.scanheader_file)\n",
      "/home/mplitt/repos/TwoPUtils/TwoPUtils/sess.py:236: UserWarning: Could not find sbx file at /mnt/BigDisk/2P_scratch/4467975.1/02_10_2020/YMaze_LNovel/YMaze_LNovel_001_003.sbx\n",
      "  warnings.warn(\"Could not find sbx file at %s\" % self.scan_file)\n"
     ]
    },
    {
     "name": "stdout",
     "output_type": "stream",
     "text": [
      "{'date': '03_10_2020', 'scene': 'YMaze_LNovel', 'session': 1, 'scan': 3, 'novel_arm': -1, 'ravel_ind': 6}\n"
     ]
    },
    {
     "name": "stderr",
     "output_type": "stream",
     "text": [
      "/home/mplitt/repos/TwoPUtils/TwoPUtils/sess.py:227: UserWarning: Could not find sbxmat file at /mnt/BigDisk/2P_scratch/4467975.1/03_10_2020/YMaze_LNovel/YMaze_LNovel_001_003.mat\n",
      "  warnings.warn(\"Could not find sbxmat file at %s\" % self.scanheader_file)\n",
      "/home/mplitt/repos/TwoPUtils/TwoPUtils/sess.py:236: UserWarning: Could not find sbx file at /mnt/BigDisk/2P_scratch/4467975.1/03_10_2020/YMaze_LNovel/YMaze_LNovel_001_003.sbx\n",
      "  warnings.warn(\"Could not find sbx file at %s\" % self.scan_file)\n"
     ]
    },
    {
     "name": "stdout",
     "output_type": "stream",
     "text": [
      "{'date': '28_09_2020', 'scene': 'YMaze_LNovel', 'session': 3, 'scan': 8, 'novel_arm': 1, 'ravel_ind': 0}\n"
     ]
    },
    {
     "name": "stderr",
     "output_type": "stream",
     "text": [
      "/home/mplitt/repos/TwoPUtils/TwoPUtils/sess.py:227: UserWarning: Could not find sbxmat file at /mnt/BigDisk/2P_scratch/4467975.2/28_09_2020/YMaze_LNovel/YMaze_LNovel_003_008.mat\n",
      "  warnings.warn(\"Could not find sbxmat file at %s\" % self.scanheader_file)\n",
      "/home/mplitt/repos/TwoPUtils/TwoPUtils/sess.py:236: UserWarning: Could not find sbx file at /mnt/BigDisk/2P_scratch/4467975.2/28_09_2020/YMaze_LNovel/YMaze_LNovel_003_008.sbx\n",
      "  warnings.warn(\"Could not find sbx file at %s\" % self.scan_file)\n"
     ]
    },
    {
     "name": "stdout",
     "output_type": "stream",
     "text": [
      "{'date': '29_09_2020', 'scene': 'YMaze_LNovel', 'session': 1, 'scan': 3, 'novel_arm': 1, 'ravel_ind': 1}\n"
     ]
    },
    {
     "name": "stderr",
     "output_type": "stream",
     "text": [
      "/home/mplitt/repos/TwoPUtils/TwoPUtils/sess.py:227: UserWarning: Could not find sbxmat file at /mnt/BigDisk/2P_scratch/4467975.2/29_09_2020/YMaze_LNovel/YMaze_LNovel_001_003.mat\n",
      "  warnings.warn(\"Could not find sbxmat file at %s\" % self.scanheader_file)\n",
      "/home/mplitt/repos/TwoPUtils/TwoPUtils/sess.py:236: UserWarning: Could not find sbx file at /mnt/BigDisk/2P_scratch/4467975.2/29_09_2020/YMaze_LNovel/YMaze_LNovel_001_003.sbx\n",
      "  warnings.warn(\"Could not find sbx file at %s\" % self.scan_file)\n"
     ]
    },
    {
     "name": "stdout",
     "output_type": "stream",
     "text": [
      "{'date': '30_09_2020', 'scene': 'YMaze_LNovel', 'session': 1, 'scan': 4, 'novel_arm': 1, 'ravel_ind': 2}\n"
     ]
    },
    {
     "name": "stderr",
     "output_type": "stream",
     "text": [
      "/home/mplitt/repos/TwoPUtils/TwoPUtils/sess.py:227: UserWarning: Could not find sbxmat file at /mnt/BigDisk/2P_scratch/4467975.2/30_09_2020/YMaze_LNovel/YMaze_LNovel_001_004.mat\n",
      "  warnings.warn(\"Could not find sbxmat file at %s\" % self.scanheader_file)\n",
      "/home/mplitt/repos/TwoPUtils/TwoPUtils/sess.py:236: UserWarning: Could not find sbx file at /mnt/BigDisk/2P_scratch/4467975.2/30_09_2020/YMaze_LNovel/YMaze_LNovel_001_004.sbx\n",
      "  warnings.warn(\"Could not find sbx file at %s\" % self.scan_file)\n"
     ]
    },
    {
     "name": "stdout",
     "output_type": "stream",
     "text": [
      "{'date': '01_10_2020', 'scene': 'YMaze_LNovel', 'session': 1, 'scan': 4, 'novel_arm': 1, 'ravel_ind': 3}\n"
     ]
    },
    {
     "name": "stderr",
     "output_type": "stream",
     "text": [
      "/home/mplitt/repos/TwoPUtils/TwoPUtils/sess.py:227: UserWarning: Could not find sbxmat file at /mnt/BigDisk/2P_scratch/4467975.2/01_10_2020/YMaze_LNovel/YMaze_LNovel_001_004.mat\n",
      "  warnings.warn(\"Could not find sbxmat file at %s\" % self.scanheader_file)\n",
      "/home/mplitt/repos/TwoPUtils/TwoPUtils/sess.py:236: UserWarning: Could not find sbx file at /mnt/BigDisk/2P_scratch/4467975.2/01_10_2020/YMaze_LNovel/YMaze_LNovel_001_004.sbx\n",
      "  warnings.warn(\"Could not find sbx file at %s\" % self.scan_file)\n"
     ]
    },
    {
     "name": "stdout",
     "output_type": "stream",
     "text": [
      "{'date': '02_10_2020', 'scene': 'YMaze_LNovel', 'session': 1, 'scan': 9, 'novel_arm': 1, 'ravel_ind': 4}\n"
     ]
    },
    {
     "name": "stderr",
     "output_type": "stream",
     "text": [
      "/home/mplitt/repos/TwoPUtils/TwoPUtils/sess.py:227: UserWarning: Could not find sbxmat file at /mnt/BigDisk/2P_scratch/4467975.2/02_10_2020/YMaze_LNovel/YMaze_LNovel_001_009.mat\n",
      "  warnings.warn(\"Could not find sbxmat file at %s\" % self.scanheader_file)\n",
      "/home/mplitt/repos/TwoPUtils/TwoPUtils/sess.py:236: UserWarning: Could not find sbx file at /mnt/BigDisk/2P_scratch/4467975.2/02_10_2020/YMaze_LNovel/YMaze_LNovel_001_009.sbx\n",
      "  warnings.warn(\"Could not find sbx file at %s\" % self.scan_file)\n"
     ]
    },
    {
     "name": "stdout",
     "output_type": "stream",
     "text": [
      "{'date': '03_10_2020', 'scene': 'YMaze_LNovel', 'session': 1, 'scan': 8, 'novel_arm': 1, 'ravel_ind': 5}\n"
     ]
    },
    {
     "name": "stderr",
     "output_type": "stream",
     "text": [
      "/home/mplitt/repos/TwoPUtils/TwoPUtils/sess.py:227: UserWarning: Could not find sbxmat file at /mnt/BigDisk/2P_scratch/4467975.2/03_10_2020/YMaze_LNovel/YMaze_LNovel_001_008.mat\n",
      "  warnings.warn(\"Could not find sbxmat file at %s\" % self.scanheader_file)\n",
      "/home/mplitt/repos/TwoPUtils/TwoPUtils/sess.py:236: UserWarning: Could not find sbx file at /mnt/BigDisk/2P_scratch/4467975.2/03_10_2020/YMaze_LNovel/YMaze_LNovel_001_008.sbx\n",
      "  warnings.warn(\"Could not find sbx file at %s\" % self.scan_file)\n"
     ]
    },
    {
     "name": "stdout",
     "output_type": "stream",
     "text": [
      "{'date': '28_09_2020', 'scene': 'YMaze_LNovel', 'session': 1, 'scan': 4, 'novel_arm': -1, 'ravel_ind': 0}\n",
      "{'date': '29_09_2020', 'scene': 'YMaze_LNovel', 'session': 1, 'scan': 4, 'novel_arm': -1, 'ravel_ind': 1}\n",
      "{'date': '30_09_2020', 'scene': 'YMaze_LNovel', 'session': 2, 'scan': 7, 'novel_arm': -1, 'ravel_ind': 2}\n",
      "{'date': '01_10_2020', 'scene': 'YMaze_LNovel', 'session': 1, 'scan': 7, 'novel_arm': -1, 'ravel_ind': 3}\n",
      "{'date': '02_10_2020', 'scene': 'YMaze_LNovel', 'session': 1, 'scan': 3, 'novel_arm': -1, 'ravel_ind': 4}\n",
      "{'date': '03_10_2020', 'scene': 'YMaze_LNovel', 'session': 1, 'scan': 6, 'novel_arm': -1, 'ravel_ind': 5}\n",
      "{'date': '28_09_2020', 'scene': 'YMaze_LNovel', 'session': 1, 'scan': 5, 'novel_arm': 1, 'ravel_ind': 0}\n",
      "{'date': '29_09_2020', 'scene': 'YMaze_LNovel', 'session': 1, 'scan': 3, 'novel_arm': 1, 'ravel_ind': 1}\n",
      "{'date': '30_09_2020', 'scene': 'YMaze_LNovel', 'session': 1, 'scan': 3, 'novel_arm': 1, 'ravel_ind': 2}\n",
      "{'date': '01_10_2020', 'scene': 'YMaze_LNovel', 'session': 1, 'scan': 2, 'novel_arm': 1, 'ravel_ind': 3}\n",
      "{'date': '02_10_2020', 'scene': 'YMaze_LNovel', 'session': 1, 'scan': 4, 'novel_arm': 1, 'ravel_ind': 4}\n",
      "{'date': '03_10_2020', 'scene': 'YMaze_LNovel', 'session': 1, 'scan': 4, 'novel_arm': 1, 'ravel_ind': 5}\n",
      "{'date': '28_09_2020', 'scene': 'YMaze_LNovel', 'session': 1, 'scan': 4, 'novel_arm': -1, 'ravel_ind': 0}\n",
      "{'date': '29_09_2020', 'scene': 'YMaze_LNovel', 'session': 1, 'scan': 3, 'novel_arm': -1, 'ravel_ind': 1}\n",
      "{'date': '30_09_2020', 'scene': 'YMaze_LNovel', 'session': 1, 'scan': 5, 'novel_arm': -1, 'ravel_ind': 2}\n",
      "{'date': '01_10_2020', 'scene': 'YMaze_LNovel', 'session': 1, 'scan': 7, 'novel_arm': -1, 'ravel_ind': 3}\n",
      "{'date': '02_10_2020', 'scene': 'YMaze_LNovel', 'session': 1, 'scan': 3, 'novel_arm': -1, 'ravel_ind': 4}\n",
      "{'date': '03_10_2020', 'scene': 'YMaze_LNovel', 'session': 1, 'scan': 5, 'novel_arm': -1, 'ravel_ind': 5}\n",
      "{'date': '29_11_2020', 'scene': 'YMaze_LNovel', 'session': 1, 'scan': 3, 'novel_arm': -1, 'ravel_ind': 0}\n",
      "{'date': '30_11_2020', 'scene': 'YMaze_LNovel', 'session': 1, 'scan': 7, 'novel_arm': -1, 'ravel_ind': 1}\n",
      "{'date': '01_12_2020', 'scene': 'YMaze_LNovel', 'session': 1, 'scan': 4, 'novel_arm': -1, 'ravel_ind': 2}\n",
      "{'date': '02_12_2020', 'scene': 'YMaze_LNovel', 'session': 1, 'scan': 3, 'novel_arm': -1, 'ravel_ind': 3}\n",
      "{'date': '03_12_2020', 'scene': 'YMaze_LNovel', 'session': 1, 'scan': 8, 'novel_arm': -1, 'ravel_ind': 4}\n",
      "{'date': '04_12_2020', 'scene': 'YMaze_LNovel', 'session': 1, 'scan': 2, 'novel_arm': -1, 'ravel_ind': 5}\n",
      "{'date': '29_11_2020', 'scene': 'YMaze_LNovel', 'session': 1, 'scan': 4, 'novel_arm': 1, 'ravel_ind': 0}\n",
      "{'date': '30_11_2020', 'scene': 'YMaze_LNovel', 'session': 1, 'scan': 4, 'novel_arm': 1, 'ravel_ind': 1}\n",
      "{'date': '01_12_2020', 'scene': 'YMaze_LNovel', 'session': 1, 'scan': 4, 'novel_arm': 1, 'ravel_ind': 2}\n",
      "({'date': '02_12_2020', 'scene': 'YMaze_LNovel', 'session': 1, 'scan': 6, 'novel_arm': 1, 'ravel_ind': 3}, {'date': '02_12_2020', 'scene': 'YMaze_LNovel', 'session': 2, 'scan': 12, 'novel_arm': 1, 'ravel_ind': 4})\n",
      "02_12_2020 YMaze_LNovel\n",
      "02_12_2020 YMaze_LNovel\n",
      "['LR', 'block_number', 'sess_num_ravel', 'sess_num']\n",
      "['LR', 'block_number', 'sess_num_ravel', 'sess_num']\n",
      "{'date': '03_12_2020', 'scene': 'YMaze_LNovel', 'session': 1, 'scan': 3, 'novel_arm': 1, 'ravel_ind': 5}\n",
      "{'date': '04_12_2020', 'scene': 'YMaze_LNovel', 'session': 1, 'scan': 3, 'novel_arm': 1, 'ravel_ind': 6}\n",
      "{'date': '29_11_2020', 'scene': 'YMaze_LNovel', 'session': 1, 'scan': 8, 'novel_arm': -1, 'ravel_ind': 0}\n",
      "{'date': '30_11_2020', 'scene': 'YMaze_LNovel', 'session': 1, 'scan': 4, 'novel_arm': -1, 'ravel_ind': 1}\n",
      "{'date': '01_12_2020', 'scene': 'YMaze_LNovel', 'session': 1, 'scan': 5, 'novel_arm': -1, 'ravel_ind': 2}\n",
      "{'date': '02_12_2020', 'scene': 'YMaze_LNovel', 'session': 1, 'scan': 6, 'novel_arm': -1, 'ravel_ind': 3}\n",
      "{'date': '03_12_2020', 'scene': 'YMaze_LNovel', 'session': 1, 'scan': 3, 'novel_arm': -1, 'ravel_ind': 4}\n",
      "{'date': '04_12_2020', 'scene': 'YMaze_LNovel', 'session': 1, 'scan': 2, 'novel_arm': -1, 'ravel_ind': 5}\n",
      "{'date': '29_11_2020', 'scene': 'YMaze_LNovel', 'session': 2, 'scan': 18, 'novel_arm': 1, 'ravel_ind': 1}\n",
      "({'date': '30_11_2020', 'scene': 'YMaze_LNovel', 'session': 1, 'scan': 4, 'novel_arm': 1, 'ravel_ind': 2}, {'date': '30_11_2020', 'scene': 'YMaze_LNovel', 'session': 3, 'scan': 9, 'novel_arm': 1, 'ravel_ind': 3})\n",
      "30_11_2020 YMaze_LNovel\n",
      "30_11_2020 YMaze_LNovel\n",
      "['LR', 'block_number', 'sess_num_ravel', 'sess_num']\n",
      "['LR', 'block_number', 'sess_num_ravel', 'sess_num']\n",
      "{'date': '01_12_2020', 'scene': 'YMaze_LNovel', 'session': 1, 'scan': 4, 'novel_arm': 1, 'ravel_ind': 4}\n",
      "{'date': '02_12_2020', 'scene': 'YMaze_LNovel', 'session': 1, 'scan': 4, 'novel_arm': 1, 'ravel_ind': 5}\n",
      "{'date': '03_12_2020', 'scene': 'YMaze_LNovel', 'session': 1, 'scan': 3, 'novel_arm': 1, 'ravel_ind': 6}\n",
      "{'date': '04_12_2020', 'scene': 'YMaze_LNovel', 'session': 1, 'scan': 3, 'novel_arm': 1, 'ravel_ind': 7}\n",
      "{'date': '29_11_2020', 'scene': 'YMaze_LNovel', 'session': 1, 'scan': 4, 'novel_arm': -1, 'ravel_ind': 0}\n",
      "{'date': '30_11_2020', 'scene': 'YMaze_LNovel', 'session': 1, 'scan': 6, 'novel_arm': -1, 'ravel_ind': 1}\n",
      "{'date': '01_12_2020', 'scene': 'YMaze_LNovel', 'session': 1, 'scan': 4, 'novel_arm': -1, 'ravel_ind': 2}\n",
      "{'date': '02_12_2020', 'scene': 'YMaze_LNovel', 'session': 1, 'scan': 4, 'novel_arm': -1, 'ravel_ind': 3}\n",
      "{'date': '03_12_2020', 'scene': 'YMaze_LNovel', 'session': 2, 'scan': 4, 'novel_arm': -1, 'ravel_ind': 4}\n",
      "{'date': '05_12_2020', 'scene': 'YMaze_LNovel', 'session': 1, 'scan': 2, 'novel_arm': -1, 'ravel_ind': 5}\n"
     ]
    },
    {
     "name": "stderr",
     "output_type": "stream",
     "text": [
      "/home/mplitt/repos/TwoPUtils/TwoPUtils/sess.py:227: UserWarning: Could not find sbxmat file at /media/mplitt/Backup Plus3/2P_Data/4467333.1/05_12_2020/YMaze_LNovel/YMaze_LNovel_001_002.mat\n",
      "  warnings.warn(\"Could not find sbxmat file at %s\" % self.scanheader_file)\n",
      "/home/mplitt/repos/TwoPUtils/TwoPUtils/sess.py:236: UserWarning: Could not find sbx file at /media/mplitt/Backup Plus3/2P_Data/4467333.1/05_12_2020/YMaze_LNovel/YMaze_LNovel_001_002.sbx\n",
      "  warnings.warn(\"Could not find sbx file at %s\" % self.scan_file)\n"
     ]
    }
   ],
   "source": [
    "field_masks_loop = u.loop_func_over_days(field_masks, np.arange(6))\n",
    "ko_field_mask_res = {mouse:field_masks_loop(mouse) for mouse in ko_mice}\n",
    "ctrl_field_mask_res = {mouse:field_masks_loop(mouse) for mouse in ctrl_mice}"
   ]
  },
  {
   "cell_type": "code",
   "execution_count": 6,
   "id": "important-philip",
   "metadata": {},
   "outputs": [],
   "source": [
    "np.save('place_field_stats.npy', {'ctrl': ctrl_field_mask_res, 'ko': ko_field_mask_res})"
   ]
  },
  {
   "cell_type": "code",
   "execution_count": 4,
   "id": "editorial-second",
   "metadata": {},
   "outputs": [],
   "source": [
    "_res = np.load(\"./place_field_stats.npy\", allow_pickle=True).all()\n",
    "ko_field_mask_res, ctrl_field_mask_res = _res['ko'], _res['ctrl']"
   ]
  },
  {
   "cell_type": "code",
   "execution_count": 5,
   "id": "abstract-sustainability",
   "metadata": {},
   "outputs": [
    {
     "data": {
      "text/plain": [
       "(array([0.        , 0.28265825, 0.22321585, 0.17008592, 0.10625986,\n",
       "        0.07417149, 0.04541469, 0.03051026, 0.02454848, 0.01367701,\n",
       "        0.0117482 , 0.00859197, 0.00333158, 0.00578643]),\n",
       " array([ 0,  1,  2,  3,  4,  5,  6,  7,  8,  9, 10, 11, 12, 13, 14]),\n",
       " <BarContainer object of 14 artists>)"
      ]
     },
     "execution_count": 5,
     "metadata": {},
     "output_type": "execute_result"
    },
    {
     "data": {
      "image/png": "[encoded data removed]",
      "text/plain": [
       "<Figure size 432x288 with 1 Axes>"
      ]
     },
     "metadata": {
      "needs_background": "light"
     },
     "output_type": "display_data"
    }
   ],
   "source": [
    "fig, ax = plt.subplots()\n",
    "day = 0\n",
    "\n",
    "ctrl_fw = []\n",
    "for mouse in ctrl_mice:\n",
    "    ctrl_fw.append(ctrl_field_mask_res[mouse][day]['fam']['field_widths'])\n",
    "ctrl_fw = np.concatenate(ctrl_fw)\n",
    "\n",
    "ax.hist(ctrl_fw, bins = np.arange(15), color='black', alpha = .3, density=True)\n",
    "\n",
    "ko_fw = []\n",
    "for mouse in ko_mice:\n",
    "    ko_fw.append(ko_field_mask_res[mouse][day]['fam']['field_widths'])\n",
    "ko_fw = np.concatenate(ko_fw)\n",
    "\n",
    "ax.hist(ko_fw, bins = np.arange(15), color = 'red', alpha = .3,density=True)"
   ]
  },
  {
   "cell_type": "code",
   "execution_count": 6,
   "id": "municipal-encyclopedia",
   "metadata": {},
   "outputs": [
    {
     "data": {
      "text/plain": [
       "(array([0.        , 0.59437312, 0.28817263, 0.11745425]),\n",
       " array([0, 1, 2, 3, 4]),\n",
       " <BarContainer object of 4 artists>)"
      ]
     },
     "execution_count": 6,
     "metadata": {},
     "output_type": "execute_result"
    },
    {
     "data": {
      "image/png": "[encoded data removed]",
      "text/plain": [
       "<Figure size 432x288 with 1 Axes>"
      ]
     },
     "metadata": {
      "needs_background": "light"
     },
     "output_type": "display_data"
    }
   ],
   "source": [
    "fig, ax = plt.subplots()\n",
    "day = 0\n",
    "\n",
    "ctrl_fw = []\n",
    "for mouse in ctrl_mice:\n",
    "    ctrl_fw.append(ctrl_field_mask_res[mouse][day]['fam']['num_fields'])\n",
    "ctrl_fw = np.concatenate(ctrl_fw)\n",
    "\n",
    "ax.hist(ctrl_fw[ctrl_fw>0], bins = np.arange(5), color='black', alpha = .3, density=True)\n",
    "\n",
    "ko_fw = []\n",
    "for mouse in ko_mice:\n",
    "    ko_fw.append(ko_field_mask_res[mouse][day]['fam']['num_fields'])\n",
    "ko_fw = np.concatenate(ko_fw)\n",
    "\n",
    "ax.hist(ko_fw[ko_fw>0], bins = np.arange(5), color = 'red', alpha = .3,density=True)"
   ]
  },
  {
   "cell_type": "code",
   "execution_count": 7,
   "id": "future-parameter",
   "metadata": {},
   "outputs": [
    {
     "data": {
      "image/png": "[encoded data removed]",
      "text/plain": [
       "<Figure size 2160x720 with 12 Axes>"
      ]
     },
     "metadata": {
      "needs_background": "light"
     },
     "output_type": "display_data"
    },
    {
     "data": {
      "image/png": "[encoded data removed]",
      "text/plain": [
       "<Figure size 432x288 with 1 Axes>"
      ]
     },
     "metadata": {
      "needs_background": "light"
     },
     "output_type": "display_data"
    }
   ],
   "source": [
    "fig, ax = plt.subplots(2,6, figsize=[30,10])\n",
    "\n",
    "fig_scat, ax_scat = plt.subplots()\n",
    "df = pd.DataFrame({'ko': [],\n",
    "                   'day': [],\n",
    "                   'nov': [],\n",
    "                   'num_fields' : [],\n",
    "                   'mouse': [], \n",
    "                   'intercept': []})\n",
    "days_z = sp.stats.zscore(np.arange(6))\n",
    "for row, novkey in enumerate([ 'fam', 'nov']):\n",
    "    for day in range(6):\n",
    "\n",
    "        ctrl_fw = []\n",
    "        ctrl_mu = []\n",
    "        for mouse in ctrl_mice:\n",
    "#             dat = ctrl_field_mask_res[mouse][day][novkey]['num_fields']\n",
    "            fm = ctrl_field_mask_res[mouse][day][novkey]['field_mask'] \n",
    "            rising, falling = (fm[1:, :]>fm[:-1, :]).sum(axis=0), (fm[:-1, :]>fm[1:, :]).sum(axis=0)\n",
    "            dat = np.minimum(rising, falling)\n",
    "            ctrl_fw.append(dat[dat>0])\n",
    "            df = df.append({'ko': 0, \n",
    "                            'day': days_z[day], \n",
    "                            'nov': row, \n",
    "                            'num_fields': dat[dat>0].mean(), \n",
    "                            'mouse': mouse,\n",
    "                            'intercept': 1}, ignore_index=True)\n",
    "            ctrl_mu.append(dat[dat>0].mean())\n",
    "        ctrl_fw = np.concatenate(ctrl_fw)\n",
    "\n",
    "        ax[row,day].hist(ctrl_fw, bins = np.arange(1,6), color='black', alpha = .3, density=True)\n",
    "        ctrl_mu = np.array(ctrl_mu)\n",
    "        if novkey in ['fam']:\n",
    "            ax_scat.scatter(6*day + np.linspace(-1,-.8, num=ctrl_mu.shape[0]), ctrl_mu, color='black', s=15)\n",
    "        else:\n",
    "            ax_scat.scatter(6*day + np.linspace(-.5,-.3, num=ctrl_mu.shape[0]), ctrl_mu, color='black', alpha = .3, s=15)\n",
    "\n",
    "        ko_fw = []\n",
    "        ko_mu = []\n",
    "        for mouse in ko_mice:\n",
    "#             dat = ko_field_mask_res[mouse][day][novkey]['num_fields']\n",
    "            fm = ko_field_mask_res[mouse][day][novkey]['field_mask'] \n",
    "            rising, falling = (fm[1:, :]>fm[:-1, :]).sum(axis=0), (fm[:-1, :]>fm[1:, :]).sum(axis=0)\n",
    "            dat = np.minimum(rising, falling)\n",
    "#             dat = (fm[1:, :]>fm[:-1, :]).sum(axis=0)\n",
    "            ko_fw.append(dat[dat>0])\n",
    "            df = df.append({'ko': 1, \n",
    "                            'day': days_z[day], \n",
    "                            'nov': row, \n",
    "                            'num_fields': dat[dat>0].mean(), \n",
    "                            'mouse': mouse,\n",
    "                            'intercept': 1}, ignore_index=True)\n",
    "            ko_mu.append(dat[dat>0].mean())\n",
    "        ko_fw = np.concatenate(ko_fw)\n",
    "        ko_mu = np.array(ko_mu)\n",
    "        if novkey in ['fam']:\n",
    "            ax_scat.scatter(6*day + np.linspace(.3,.5, num=ko_mu.shape[0]), ko_mu, color='red', s=15)\n",
    "        else:\n",
    "            ax_scat.scatter(6*day + np.linspace(.8,1, num=ko_mu.shape[0]), ko_mu, color='red', alpha = .3, s=15)\n",
    "        \n",
    "\n",
    "        ax[row,day].hist(ko_fw, bins = np.arange(1,6), color = 'red', alpha = .3,density=True)"
   ]
  },
  {
   "cell_type": "code",
   "execution_count": 8,
   "id": "married-heritage",
   "metadata": {},
   "outputs": [
    {
     "name": "stdout",
     "output_type": "stream",
     "text": [
      "         Mixed Linear Model Regression Results\n",
      "========================================================\n",
      "Model:            MixedLM Dependent Variable: num_fields\n",
      "No. Observations: 120     Method:             REML      \n",
      "No. Groups:       10      Scale:              0.0026    \n",
      "Min. group size:  12      Log-Likelihood:     165.4821  \n",
      "Max. group size:  12      Converged:          Yes       \n",
      "Mean group size:  12.0                                  \n",
      "--------------------------------------------------------\n",
      "              Coef.  Std.Err.   z    P>|z| [0.025 0.975]\n",
      "--------------------------------------------------------\n",
      "ko             0.117    0.024  4.880 0.000  0.070  0.163\n",
      "day           -0.011    0.005 -2.462 0.014 -0.020 -0.002\n",
      "nov           -0.066    0.009 -7.148 0.000 -0.084 -0.048\n",
      "intercept      1.275    0.018 72.837 0.000  1.241  1.309\n",
      "Group Var      0.001    0.015                           \n",
      "========================================================\n",
      "\n"
     ]
    },
    {
     "name": "stderr",
     "output_type": "stream",
     "text": [
      "/home/mplitt/anaconda3/envs/STX3_test/lib/python3.8/site-packages/statsmodels/regression/mixed_linear_model.py:2237: ConvergenceWarning: The MLE may be on the boundary of the parameter space.\n",
      "  warnings.warn(msg, ConvergenceWarning)\n"
     ]
    }
   ],
   "source": [
    "lmm_res = MixedLM(df['num_fields'], df[['ko', 'day', 'nov', 'intercept']], df['mouse'])\n",
    "lmm_resf = lmm_res.fit()\n",
    "print(lmm_resf.summary())"
   ]
  },
  {
   "cell_type": "code",
   "execution_count": 9,
   "id": "balanced-decline",
   "metadata": {},
   "outputs": [
    {
     "data": {
      "image/png": "[encoded data removed]",
      "text/plain": [
       "<Figure size 2160x720 with 12 Axes>"
      ]
     },
     "metadata": {
      "needs_background": "light"
     },
     "output_type": "display_data"
    },
    {
     "data": {
      "image/png": "[encoded data removed]",
      "text/plain": [
       "<Figure size 432x288 with 1 Axes>"
      ]
     },
     "metadata": {
      "needs_background": "light"
     },
     "output_type": "display_data"
    }
   ],
   "source": [
    "fig, ax = plt.subplots(2,6, figsize=[30,10])\n",
    "\n",
    "fig_scat, ax_scat = plt.subplots()\n",
    "df = pd.DataFrame({'ko': [],\n",
    "                   'day': [],\n",
    "                   'nov': [],\n",
    "                   'fw' : [],\n",
    "                   'mouse': [],\n",
    "                   'intercept': []})\n",
    "days_z = sp.stats.zscore(np.arange(6))\n",
    "for row, novkey in enumerate([ 'fam', 'nov']):\n",
    "    for day in range(6):\n",
    "\n",
    "        ctrl_fw = []\n",
    "        ctrl_mu = []\n",
    "        for mouse in ctrl_mice:\n",
    "            r,f  = ctrl_field_mask_res[mouse][day][novkey]['rising_edges'], ctrl_field_mask_res[mouse][day][novkey]['falling_edges']\n",
    "            border_cells = (r[:,1]==0) + (f[:,1]==29) > 0\n",
    "#             r, f = r[~border_cells,:], f[~border_cells,:]\n",
    "            \n",
    "            dat = f[:,1]-r[:,1]\n",
    "#             print(dat)\n",
    "            ctrl_fw.append(dat[dat>0])\n",
    "            df = df.append({'ko': 0, 'day': days_z[day], 'nov': row, \n",
    "                            'fw': dat[dat>0].mean(), 'mouse': mouse, 'intercept': 1}, ignore_index=True)\n",
    "            ctrl_mu.append(dat[dat>0].mean())\n",
    "        ctrl_fw = np.concatenate(ctrl_fw)\n",
    "\n",
    "        ax[row,day].hist(ctrl_fw, bins = np.arange(1,20), color='black', alpha = .3, density=True)\n",
    "        ctrl_mu = np.array(ctrl_mu)\n",
    "        if novkey in ['fam']:\n",
    "            ax_scat.scatter(6*day + np.linspace(-1,-.8, num=ctrl_mu.shape[0]), ctrl_mu, color='black', s=15)\n",
    "        else:\n",
    "            ax_scat.scatter(6*day + np.linspace(-.5,-.3, num=ctrl_mu.shape[0]), ctrl_mu, color='black', alpha = .3, s=15)\n",
    "\n",
    "        ko_fw = []\n",
    "        ko_mu = []\n",
    "        for mouse in ko_mice:\n",
    "            r,f  = ko_field_mask_res[mouse][day][novkey]['rising_edges'], ko_field_mask_res[mouse][day][novkey]['falling_edges']\n",
    "#             border_cells = (r[:,1]==0) + (f[:,1]==29) > 0\n",
    "#             r, f = r[~border_cells,:], f[~border_cells,:]\n",
    "            \n",
    "            dat = f[:,1]-r[:,1]\n",
    "#             dat = ko_field_mask_res[mouse][day][novkey]['field_widths']\n",
    "            ko_fw.append(dat[dat>0])\n",
    "            df = df.append({'ko': 1, 'day': days_z[day], 'nov': row, \n",
    "                            'fw': dat[dat>0].mean(), 'mouse': mouse, 'intercept': 1}, ignore_index=True)\n",
    "            ko_mu.append(dat[dat>0].mean())\n",
    "        ko_fw = np.concatenate(ko_fw)\n",
    "        ko_mu = np.array(ko_mu)\n",
    "        if novkey in ['fam']:\n",
    "            ax_scat.scatter(6*day + np.linspace(.3,.5, num=ko_mu.shape[0]), ko_mu, color='red', s=15)\n",
    "        else:\n",
    "            ax_scat.scatter(6*day + np.linspace(.8,1, num=ko_mu.shape[0]), ko_mu, color='red', alpha = .3, s=15)\n",
    "        \n",
    "\n",
    "        ax[row,day].hist(ko_fw, bins = np.arange(1,20), color = 'red', alpha = .3,density=True)\n",
    "        "
   ]
  },
  {
   "cell_type": "code",
   "execution_count": 10,
   "id": "incorporated-officer",
   "metadata": {},
   "outputs": [
    {
     "name": "stdout",
     "output_type": "stream",
     "text": [
      "        Mixed Linear Model Regression Results\n",
      "======================================================\n",
      "Model:            MixedLM Dependent Variable: fw      \n",
      "No. Observations: 120     Method:             REML    \n",
      "No. Groups:       10      Scale:              0.0814  \n",
      "Min. group size:  12      Log-Likelihood:     -40.3435\n",
      "Max. group size:  12      Converged:          Yes     \n",
      "Mean group size:  12.0                                \n",
      "------------------------------------------------------\n",
      "           Coef.  Std.Err.    z    P>|z| [0.025 0.975]\n",
      "------------------------------------------------------\n",
      "ko         -0.799    0.266  -3.001 0.003 -1.320 -0.277\n",
      "day         0.194    0.026   7.438 0.000  0.143  0.245\n",
      "nov        -0.646    0.052 -12.405 0.000 -0.748 -0.544\n",
      "intercept   4.530    0.190  23.848 0.000  4.158  4.902\n",
      "Group Var   0.170    0.322                            \n",
      "======================================================\n",
      "\n"
     ]
    }
   ],
   "source": [
    "lmm_res = MixedLM(df['fw'], df[['ko', 'day', 'nov', 'intercept']], df['mouse'])\n",
    "lmm_resf = lmm_res.fit()\n",
    "print(lmm_resf.summary())"
   ]
  },
  {
   "cell_type": "markdown",
   "id": "tribal-elizabeth",
   "metadata": {},
   "source": [
    "### Field edge analysis"
   ]
  },
  {
   "cell_type": "code",
   "execution_count": 66,
   "id": "considerable-style",
   "metadata": {},
   "outputs": [],
   "source": [
    "def field_shifts(mouse, day, fm_res, novkey, pcnt_th = .25, act_th = .25, plot = False):\n",
    "    sess = u.load_single_day(mouse,day)\n",
    "    \n",
    "    ledge, redge = fm_res[mouse][day][novkey]['rising_edges'], fm_res[mouse][day][novkey]['falling_edges']\n",
    "\n",
    "    border_cells = (ledge[:,1]==0) #+ (redge[:,1]>=28) > 0\n",
    "    ledge, redge = ledge[~border_cells,:], redge[~border_cells,:]\n",
    "    ledge[:,1], redge[:,1] = np.maximum(ledge[:,1]-1,0), np.minimum(redge[:,1]+1,29)\n",
    "\n",
    "    if novkey in ['fam']:\n",
    "        trial_mask = sess.trial_info['LR']==-1*sess.novel_arm\n",
    "    else:\n",
    "        trial_mask = sess.trial_info['LR']==sess.novel_arm\n",
    "        \n",
    "        \n",
    "    shift = []\n",
    "    form_lap_vel = []\n",
    "    field_width = []\n",
    "    form_lap = []\n",
    "    field_var = []\n",
    "    for field in range(ledge.shape[0]):\n",
    "        fieldmat = sess.trial_matrices['spks'][trial_mask,:,:][:,np.maximum(ledge[field,1],0):redge[field,1],ledge[field,0]]\n",
    "        speed = np.nanmean(sess.trial_matrices['speed'][trial_mask,:][:,np.maximum(ledge[field,1],0):redge[field,1]],axis=1)\n",
    "        fieldmat[np.isnan(fieldmat)]=1E-5\n",
    "        activity_th = act_th*np.amax(fieldmat.ravel())\n",
    "        fieldmat_th = np.amax(1*(fieldmat>activity_th), axis=1)\n",
    "        formation_laps = fieldmat_th * (sp.ndimage.convolve1d(fieldmat_th, np.ones([5,]), mode='constant', cval = 0)>=1)\n",
    "        formation_lap = np.nonzero(formation_laps)[0][0]\n",
    "        \n",
    "\n",
    "        if fieldmat_th[formation_lap:].mean()>pcnt_th and redge[field,1]-ledge[field,1]>=3 and formation_laps.sum()>0:\n",
    "            \n",
    "            \n",
    "#             form_lap_vel.append(np.nanmean(speed[np.maximum(formation_lap-1,0):formation_lap+2]))\n",
    "            form_lap_vel.append(speed[formation_lap])\n",
    "            form_lap.append(formation_lap)\n",
    "            field_width.append(redge[field,1]-ledge[field,1])\n",
    "            \n",
    "            form_argmax = sp.ndimage.center_of_mass(fieldmat[formation_lap,:])[0] \n",
    "#             form_argmax = sp.ndimage.center_of_mass(np.nanmean(fieldmat[np.maximum(formation_lap-1,0):formation_lap+2,:],axis=0))[0] \n",
    "#             print(form_argmax, sp.ndimage.center_of_mass(fieldmat[formation_lap,:]))\n",
    "            field_argmax = sp.ndimage.center_of_mass(np.nanmean(fieldmat[formation_lap+1:,:], axis=0))[0]\n",
    "#             field_argmax = sp.ndimage.center_of_mass(np.nanmean(fieldmat[formation_lap+2:,:], axis=0))[0] \n",
    "    \n",
    "            shift.append(field_argmax-form_argmax)\n",
    "        \n",
    "            avg_act = np.nanmean(fieldmat[formation_lap:, :], axis=1)\n",
    "            avg_act_norm = avg_act/np.nanmax(avg_act)\n",
    "            field_var.append(np.nanvar(avg_act_norm))\n",
    "            \n",
    "            if plot:\n",
    "                fig, ax = plt.subplots(1,2, figsize= [10,5])\n",
    "                ax[0].imshow(sess.trial_matrices['spks'][trial_mask,:,:][:,:-1,ledge[field,0]], cmap ='magma')\n",
    "                ax[0].vlines([ledge[field,1], redge[field,1]], 0, trial_mask.sum(), color= 'blue')\n",
    "                ax[0].hlines(formation_lap, 0,30)\n",
    "                ax[0].scatter(form_argmax+ ledge[field,1],formation_lap,color='green')\n",
    "                ax[0].vlines(field_argmax + ledge[field,1], 0 , trial_mask.sum(), color='red')\n",
    "                ax[0].set_title(\"%d\" % field)\n",
    "                \n",
    "                ax[1].imshow(sess.trial_matrices['spks'][trial_mask,:,:][:,:-1,ledge[field,0]], cmap ='magma')\n",
    "                \n",
    "                mousedir = os.path.join(figdir, sess.mouse) \n",
    "                os.makedirs(mousedir, exist_ok = True)\n",
    "                fig.savefig(os.path.join(mousedir, \"field_%d.pdf\" % field))\n",
    "                \n",
    "    return {'shift': np.array(shift), 'formation_lap': np.array(form_lap), 'width': np.array(field_width), 'init_speed': np.array(form_lap_vel), 'field_var': np.array(field_var)}"
   ]
  },
  {
   "cell_type": "code",
   "execution_count": 59,
   "id": "black-march",
   "metadata": {},
   "outputs": [
    {
     "name": "stdout",
     "output_type": "stream",
     "text": [
      "{'date': '29_11_2020', 'scene': 'YMaze_LNovel', 'session': 1, 'scan': 3, 'novel_arm': -1, 'ravel_ind': 0}\n"
     ]
    }
   ],
   "source": [
    "_ = field_shifts(ctrl_mice[0], 0, ctrl_field_mask_res, 'nov', plot=False)"
   ]
  },
  {
   "cell_type": "code",
   "execution_count": 60,
   "id": "buried-rainbow",
   "metadata": {},
   "outputs": [
    {
     "name": "stdout",
     "output_type": "stream",
     "text": [
      "{'date': '28_09_2020', 'scene': 'YMaze_LNovel', 'session': 1, 'scan': 4, 'novel_arm': -1, 'ravel_ind': 0}\n"
     ]
    },
    {
     "name": "stderr",
     "output_type": "stream",
     "text": [
      "/home/mplitt/repos/TwoPUtils/TwoPUtils/sess.py:95: UserWarning: skipping checking keys, remaining initialization not guaranteed to work\n",
      "  warnings.warn(\"skipping checking keys, remaining initialization not guaranteed to work\")\n"
     ]
    }
   ],
   "source": [
    "_ = field_shifts(ko_mice[2], 0, ko_field_mask_res, 'nov', plot=False)"
   ]
  },
  {
   "cell_type": "code",
   "execution_count": 67,
   "id": "polished-memory",
   "metadata": {},
   "outputs": [
    {
     "name": "stdout",
     "output_type": "stream",
     "text": [
      "{'date': '29_11_2020', 'scene': 'YMaze_LNovel', 'session': 1, 'scan': 3, 'novel_arm': -1, 'ravel_ind': 0}\n",
      "{'date': '30_11_2020', 'scene': 'YMaze_LNovel', 'session': 1, 'scan': 7, 'novel_arm': -1, 'ravel_ind': 1}\n"
     ]
    },
    {
     "name": "stderr",
     "output_type": "stream",
     "text": [
      "<ipython-input-66-25e5f9316e9a>:42: RuntimeWarning: Mean of empty slice\n",
      "  field_argmax = sp.ndimage.center_of_mass(np.nanmean(fieldmat[formation_lap+1:,:], axis=0))[0]\n"
     ]
    },
    {
     "name": "stdout",
     "output_type": "stream",
     "text": [
      "{'date': '01_12_2020', 'scene': 'YMaze_LNovel', 'session': 1, 'scan': 4, 'novel_arm': -1, 'ravel_ind': 2}\n",
      "{'date': '02_12_2020', 'scene': 'YMaze_LNovel', 'session': 1, 'scan': 3, 'novel_arm': -1, 'ravel_ind': 3}\n",
      "{'date': '03_12_2020', 'scene': 'YMaze_LNovel', 'session': 1, 'scan': 8, 'novel_arm': -1, 'ravel_ind': 4}\n",
      "{'date': '04_12_2020', 'scene': 'YMaze_LNovel', 'session': 1, 'scan': 2, 'novel_arm': -1, 'ravel_ind': 5}\n",
      "{'date': '29_11_2020', 'scene': 'YMaze_LNovel', 'session': 1, 'scan': 4, 'novel_arm': 1, 'ravel_ind': 0}\n",
      "{'date': '30_11_2020', 'scene': 'YMaze_LNovel', 'session': 1, 'scan': 4, 'novel_arm': 1, 'ravel_ind': 1}\n"
     ]
    },
    {
     "name": "stderr",
     "output_type": "stream",
     "text": [
      "/home/mplitt/anaconda3/envs/STX3_test/lib/python3.8/site-packages/scipy/ndimage/measurements.py:1406: RuntimeWarning: invalid value encountered in double_scalars\n",
      "  results = [sum(input * grids[dir].astype(float), labels, index) / normalizer\n"
     ]
    },
    {
     "name": "stdout",
     "output_type": "stream",
     "text": [
      "{'date': '01_12_2020', 'scene': 'YMaze_LNovel', 'session': 1, 'scan': 4, 'novel_arm': 1, 'ravel_ind': 2}\n",
      "({'date': '02_12_2020', 'scene': 'YMaze_LNovel', 'session': 1, 'scan': 6, 'novel_arm': 1, 'ravel_ind': 3}, {'date': '02_12_2020', 'scene': 'YMaze_LNovel', 'session': 2, 'scan': 12, 'novel_arm': 1, 'ravel_ind': 4})\n",
      "02_12_2020 YMaze_LNovel\n",
      "02_12_2020 YMaze_LNovel\n",
      "['LR', 'block_number', 'sess_num_ravel', 'sess_num']\n",
      "['LR', 'block_number', 'sess_num_ravel', 'sess_num']\n",
      "{'date': '03_12_2020', 'scene': 'YMaze_LNovel', 'session': 1, 'scan': 3, 'novel_arm': 1, 'ravel_ind': 5}\n",
      "{'date': '04_12_2020', 'scene': 'YMaze_LNovel', 'session': 1, 'scan': 3, 'novel_arm': 1, 'ravel_ind': 6}\n",
      "{'date': '29_11_2020', 'scene': 'YMaze_LNovel', 'session': 1, 'scan': 8, 'novel_arm': -1, 'ravel_ind': 0}\n",
      "{'date': '30_11_2020', 'scene': 'YMaze_LNovel', 'session': 1, 'scan': 4, 'novel_arm': -1, 'ravel_ind': 1}\n",
      "{'date': '01_12_2020', 'scene': 'YMaze_LNovel', 'session': 1, 'scan': 5, 'novel_arm': -1, 'ravel_ind': 2}\n",
      "{'date': '02_12_2020', 'scene': 'YMaze_LNovel', 'session': 1, 'scan': 6, 'novel_arm': -1, 'ravel_ind': 3}\n"
     ]
    },
    {
     "name": "stderr",
     "output_type": "stream",
     "text": [
      "<ipython-input-66-25e5f9316e9a>:23: RuntimeWarning: Mean of empty slice\n",
      "  speed = np.nanmean(sess.trial_matrices['speed'][trial_mask,:][:,np.maximum(ledge[field,1],0):redge[field,1]],axis=1)\n"
     ]
    },
    {
     "name": "stdout",
     "output_type": "stream",
     "text": [
      "{'date': '03_12_2020', 'scene': 'YMaze_LNovel', 'session': 1, 'scan': 3, 'novel_arm': -1, 'ravel_ind': 4}\n",
      "{'date': '04_12_2020', 'scene': 'YMaze_LNovel', 'session': 1, 'scan': 2, 'novel_arm': -1, 'ravel_ind': 5}\n",
      "{'date': '29_11_2020', 'scene': 'YMaze_LNovel', 'session': 2, 'scan': 18, 'novel_arm': 1, 'ravel_ind': 1}\n",
      "({'date': '30_11_2020', 'scene': 'YMaze_LNovel', 'session': 1, 'scan': 4, 'novel_arm': 1, 'ravel_ind': 2}, {'date': '30_11_2020', 'scene': 'YMaze_LNovel', 'session': 3, 'scan': 9, 'novel_arm': 1, 'ravel_ind': 3})\n",
      "30_11_2020 YMaze_LNovel\n",
      "30_11_2020 YMaze_LNovel\n",
      "['LR', 'block_number', 'sess_num_ravel', 'sess_num']\n",
      "['LR', 'block_number', 'sess_num_ravel', 'sess_num']\n",
      "{'date': '01_12_2020', 'scene': 'YMaze_LNovel', 'session': 1, 'scan': 4, 'novel_arm': 1, 'ravel_ind': 4}\n",
      "{'date': '02_12_2020', 'scene': 'YMaze_LNovel', 'session': 1, 'scan': 4, 'novel_arm': 1, 'ravel_ind': 5}\n",
      "{'date': '03_12_2020', 'scene': 'YMaze_LNovel', 'session': 1, 'scan': 3, 'novel_arm': 1, 'ravel_ind': 6}\n",
      "{'date': '04_12_2020', 'scene': 'YMaze_LNovel', 'session': 1, 'scan': 3, 'novel_arm': 1, 'ravel_ind': 7}\n",
      "{'date': '29_11_2020', 'scene': 'YMaze_LNovel', 'session': 1, 'scan': 4, 'novel_arm': -1, 'ravel_ind': 0}\n",
      "{'date': '30_11_2020', 'scene': 'YMaze_LNovel', 'session': 1, 'scan': 6, 'novel_arm': -1, 'ravel_ind': 1}\n",
      "{'date': '01_12_2020', 'scene': 'YMaze_LNovel', 'session': 1, 'scan': 4, 'novel_arm': -1, 'ravel_ind': 2}\n",
      "{'date': '02_12_2020', 'scene': 'YMaze_LNovel', 'session': 1, 'scan': 4, 'novel_arm': -1, 'ravel_ind': 3}\n",
      "{'date': '03_12_2020', 'scene': 'YMaze_LNovel', 'session': 2, 'scan': 4, 'novel_arm': -1, 'ravel_ind': 4}\n",
      "{'date': '05_12_2020', 'scene': 'YMaze_LNovel', 'session': 1, 'scan': 2, 'novel_arm': -1, 'ravel_ind': 5}\n"
     ]
    },
    {
     "name": "stderr",
     "output_type": "stream",
     "text": [
      "/home/mplitt/repos/TwoPUtils/TwoPUtils/sess.py:95: UserWarning: skipping checking keys, remaining initialization not guaranteed to work\n",
      "  warnings.warn(\"skipping checking keys, remaining initialization not guaranteed to work\")\n",
      "/home/mplitt/repos/TwoPUtils/TwoPUtils/sess.py:227: UserWarning: Could not find sbxmat file at /media/mplitt/Backup Plus3/2P_Data/4467333.1/05_12_2020/YMaze_LNovel/YMaze_LNovel_001_002.mat\n",
      "  warnings.warn(\"Could not find sbxmat file at %s\" % self.scanheader_file)\n",
      "/home/mplitt/repos/TwoPUtils/TwoPUtils/sess.py:236: UserWarning: Could not find sbx file at /media/mplitt/Backup Plus3/2P_Data/4467333.1/05_12_2020/YMaze_LNovel/YMaze_LNovel_001_002.sbx\n",
      "  warnings.warn(\"Could not find sbx file at %s\" % self.scan_file)\n"
     ]
    }
   ],
   "source": [
    "ctrl_nov_shifts = {mouse: [field_shifts(mouse, day, ctrl_field_mask_res, 'nov') for day in range(6)] for mouse in ctrl_mice}"
   ]
  },
  {
   "cell_type": "code",
   "execution_count": 68,
   "id": "southern-produce",
   "metadata": {},
   "outputs": [
    {
     "name": "stdout",
     "output_type": "stream",
     "text": [
      "{'date': '28_09_2020', 'scene': 'YMaze_LNovel', 'session': 6, 'scan': 14, 'novel_arm': -1, 'ravel_ind': 1}\n"
     ]
    },
    {
     "name": "stderr",
     "output_type": "stream",
     "text": [
      "/home/mplitt/repos/TwoPUtils/TwoPUtils/sess.py:227: UserWarning: Could not find sbxmat file at /mnt/BigDisk/2P_scratch/4467975.1/28_09_2020/YMaze_LNovel/YMaze_LNovel_006_014.mat\n",
      "  warnings.warn(\"Could not find sbxmat file at %s\" % self.scanheader_file)\n",
      "/home/mplitt/repos/TwoPUtils/TwoPUtils/sess.py:236: UserWarning: Could not find sbx file at /mnt/BigDisk/2P_scratch/4467975.1/28_09_2020/YMaze_LNovel/YMaze_LNovel_006_014.sbx\n",
      "  warnings.warn(\"Could not find sbx file at %s\" % self.scan_file)\n",
      "<ipython-input-66-25e5f9316e9a>:42: RuntimeWarning: Mean of empty slice\n",
      "  field_argmax = sp.ndimage.center_of_mass(np.nanmean(fieldmat[formation_lap+1:,:], axis=0))[0]\n"
     ]
    },
    {
     "name": "stdout",
     "output_type": "stream",
     "text": [
      "{'date': '29_09_2020', 'scene': 'YMaze_LNovel', 'session': 1, 'scan': 3, 'novel_arm': -1, 'ravel_ind': 2}\n"
     ]
    },
    {
     "name": "stderr",
     "output_type": "stream",
     "text": [
      "/home/mplitt/repos/TwoPUtils/TwoPUtils/sess.py:227: UserWarning: Could not find sbxmat file at /mnt/BigDisk/2P_scratch/4467975.1/29_09_2020/YMaze_LNovel/YMaze_LNovel_001_003.mat\n",
      "  warnings.warn(\"Could not find sbxmat file at %s\" % self.scanheader_file)\n",
      "/home/mplitt/repos/TwoPUtils/TwoPUtils/sess.py:236: UserWarning: Could not find sbx file at /mnt/BigDisk/2P_scratch/4467975.1/29_09_2020/YMaze_LNovel/YMaze_LNovel_001_003.sbx\n",
      "  warnings.warn(\"Could not find sbx file at %s\" % self.scan_file)\n"
     ]
    },
    {
     "name": "stdout",
     "output_type": "stream",
     "text": [
      "{'date': '30_09_2020', 'scene': 'YMaze_LNovel', 'session': 1, 'scan': 4, 'novel_arm': -1, 'ravel_ind': 3}\n"
     ]
    },
    {
     "name": "stderr",
     "output_type": "stream",
     "text": [
      "/home/mplitt/repos/TwoPUtils/TwoPUtils/sess.py:227: UserWarning: Could not find sbxmat file at /mnt/BigDisk/2P_scratch/4467975.1/30_09_2020/YMaze_LNovel/YMaze_LNovel_001_004.mat\n",
      "  warnings.warn(\"Could not find sbxmat file at %s\" % self.scanheader_file)\n",
      "/home/mplitt/repos/TwoPUtils/TwoPUtils/sess.py:236: UserWarning: Could not find sbx file at /mnt/BigDisk/2P_scratch/4467975.1/30_09_2020/YMaze_LNovel/YMaze_LNovel_001_004.sbx\n",
      "  warnings.warn(\"Could not find sbx file at %s\" % self.scan_file)\n"
     ]
    },
    {
     "name": "stdout",
     "output_type": "stream",
     "text": [
      "{'date': '01_10_2020', 'scene': 'YMaze_LNovel', 'session': 1, 'scan': 2, 'novel_arm': -1, 'ravel_ind': 4}\n"
     ]
    },
    {
     "name": "stderr",
     "output_type": "stream",
     "text": [
      "/home/mplitt/repos/TwoPUtils/TwoPUtils/sess.py:227: UserWarning: Could not find sbxmat file at /mnt/BigDisk/2P_scratch/4467975.1/01_10_2020/YMaze_LNovel/YMaze_LNovel_001_002.mat\n",
      "  warnings.warn(\"Could not find sbxmat file at %s\" % self.scanheader_file)\n",
      "/home/mplitt/repos/TwoPUtils/TwoPUtils/sess.py:236: UserWarning: Could not find sbx file at /mnt/BigDisk/2P_scratch/4467975.1/01_10_2020/YMaze_LNovel/YMaze_LNovel_001_002.sbx\n",
      "  warnings.warn(\"Could not find sbx file at %s\" % self.scan_file)\n"
     ]
    },
    {
     "name": "stdout",
     "output_type": "stream",
     "text": [
      "{'date': '02_10_2020', 'scene': 'YMaze_LNovel', 'session': 1, 'scan': 3, 'novel_arm': -1, 'ravel_ind': 5}\n"
     ]
    },
    {
     "name": "stderr",
     "output_type": "stream",
     "text": [
      "/home/mplitt/repos/TwoPUtils/TwoPUtils/sess.py:227: UserWarning: Could not find sbxmat file at /mnt/BigDisk/2P_scratch/4467975.1/02_10_2020/YMaze_LNovel/YMaze_LNovel_001_003.mat\n",
      "  warnings.warn(\"Could not find sbxmat file at %s\" % self.scanheader_file)\n",
      "/home/mplitt/repos/TwoPUtils/TwoPUtils/sess.py:236: UserWarning: Could not find sbx file at /mnt/BigDisk/2P_scratch/4467975.1/02_10_2020/YMaze_LNovel/YMaze_LNovel_001_003.sbx\n",
      "  warnings.warn(\"Could not find sbx file at %s\" % self.scan_file)\n"
     ]
    },
    {
     "name": "stdout",
     "output_type": "stream",
     "text": [
      "{'date': '03_10_2020', 'scene': 'YMaze_LNovel', 'session': 1, 'scan': 3, 'novel_arm': -1, 'ravel_ind': 6}\n"
     ]
    },
    {
     "name": "stderr",
     "output_type": "stream",
     "text": [
      "/home/mplitt/repos/TwoPUtils/TwoPUtils/sess.py:227: UserWarning: Could not find sbxmat file at /mnt/BigDisk/2P_scratch/4467975.1/03_10_2020/YMaze_LNovel/YMaze_LNovel_001_003.mat\n",
      "  warnings.warn(\"Could not find sbxmat file at %s\" % self.scanheader_file)\n",
      "/home/mplitt/repos/TwoPUtils/TwoPUtils/sess.py:236: UserWarning: Could not find sbx file at /mnt/BigDisk/2P_scratch/4467975.1/03_10_2020/YMaze_LNovel/YMaze_LNovel_001_003.sbx\n",
      "  warnings.warn(\"Could not find sbx file at %s\" % self.scan_file)\n"
     ]
    },
    {
     "name": "stdout",
     "output_type": "stream",
     "text": [
      "{'date': '28_09_2020', 'scene': 'YMaze_LNovel', 'session': 3, 'scan': 8, 'novel_arm': 1, 'ravel_ind': 0}\n"
     ]
    },
    {
     "name": "stderr",
     "output_type": "stream",
     "text": [
      "/home/mplitt/repos/TwoPUtils/TwoPUtils/sess.py:227: UserWarning: Could not find sbxmat file at /mnt/BigDisk/2P_scratch/4467975.2/28_09_2020/YMaze_LNovel/YMaze_LNovel_003_008.mat\n",
      "  warnings.warn(\"Could not find sbxmat file at %s\" % self.scanheader_file)\n",
      "/home/mplitt/repos/TwoPUtils/TwoPUtils/sess.py:236: UserWarning: Could not find sbx file at /mnt/BigDisk/2P_scratch/4467975.2/28_09_2020/YMaze_LNovel/YMaze_LNovel_003_008.sbx\n",
      "  warnings.warn(\"Could not find sbx file at %s\" % self.scan_file)\n"
     ]
    },
    {
     "name": "stdout",
     "output_type": "stream",
     "text": [
      "{'date': '29_09_2020', 'scene': 'YMaze_LNovel', 'session': 1, 'scan': 3, 'novel_arm': 1, 'ravel_ind': 1}\n"
     ]
    },
    {
     "name": "stderr",
     "output_type": "stream",
     "text": [
      "/home/mplitt/repos/TwoPUtils/TwoPUtils/sess.py:227: UserWarning: Could not find sbxmat file at /mnt/BigDisk/2P_scratch/4467975.2/29_09_2020/YMaze_LNovel/YMaze_LNovel_001_003.mat\n",
      "  warnings.warn(\"Could not find sbxmat file at %s\" % self.scanheader_file)\n",
      "/home/mplitt/repos/TwoPUtils/TwoPUtils/sess.py:236: UserWarning: Could not find sbx file at /mnt/BigDisk/2P_scratch/4467975.2/29_09_2020/YMaze_LNovel/YMaze_LNovel_001_003.sbx\n",
      "  warnings.warn(\"Could not find sbx file at %s\" % self.scan_file)\n"
     ]
    },
    {
     "name": "stdout",
     "output_type": "stream",
     "text": [
      "{'date': '30_09_2020', 'scene': 'YMaze_LNovel', 'session': 1, 'scan': 4, 'novel_arm': 1, 'ravel_ind': 2}\n"
     ]
    },
    {
     "name": "stderr",
     "output_type": "stream",
     "text": [
      "/home/mplitt/repos/TwoPUtils/TwoPUtils/sess.py:227: UserWarning: Could not find sbxmat file at /mnt/BigDisk/2P_scratch/4467975.2/30_09_2020/YMaze_LNovel/YMaze_LNovel_001_004.mat\n",
      "  warnings.warn(\"Could not find sbxmat file at %s\" % self.scanheader_file)\n",
      "/home/mplitt/repos/TwoPUtils/TwoPUtils/sess.py:236: UserWarning: Could not find sbx file at /mnt/BigDisk/2P_scratch/4467975.2/30_09_2020/YMaze_LNovel/YMaze_LNovel_001_004.sbx\n",
      "  warnings.warn(\"Could not find sbx file at %s\" % self.scan_file)\n"
     ]
    },
    {
     "name": "stdout",
     "output_type": "stream",
     "text": [
      "{'date': '01_10_2020', 'scene': 'YMaze_LNovel', 'session': 1, 'scan': 4, 'novel_arm': 1, 'ravel_ind': 3}\n"
     ]
    },
    {
     "name": "stderr",
     "output_type": "stream",
     "text": [
      "/home/mplitt/repos/TwoPUtils/TwoPUtils/sess.py:227: UserWarning: Could not find sbxmat file at /mnt/BigDisk/2P_scratch/4467975.2/01_10_2020/YMaze_LNovel/YMaze_LNovel_001_004.mat\n",
      "  warnings.warn(\"Could not find sbxmat file at %s\" % self.scanheader_file)\n",
      "/home/mplitt/repos/TwoPUtils/TwoPUtils/sess.py:236: UserWarning: Could not find sbx file at /mnt/BigDisk/2P_scratch/4467975.2/01_10_2020/YMaze_LNovel/YMaze_LNovel_001_004.sbx\n",
      "  warnings.warn(\"Could not find sbx file at %s\" % self.scan_file)\n"
     ]
    },
    {
     "name": "stdout",
     "output_type": "stream",
     "text": [
      "{'date': '02_10_2020', 'scene': 'YMaze_LNovel', 'session': 1, 'scan': 9, 'novel_arm': 1, 'ravel_ind': 4}\n"
     ]
    },
    {
     "name": "stderr",
     "output_type": "stream",
     "text": [
      "/home/mplitt/repos/TwoPUtils/TwoPUtils/sess.py:227: UserWarning: Could not find sbxmat file at /mnt/BigDisk/2P_scratch/4467975.2/02_10_2020/YMaze_LNovel/YMaze_LNovel_001_009.mat\n",
      "  warnings.warn(\"Could not find sbxmat file at %s\" % self.scanheader_file)\n",
      "/home/mplitt/repos/TwoPUtils/TwoPUtils/sess.py:236: UserWarning: Could not find sbx file at /mnt/BigDisk/2P_scratch/4467975.2/02_10_2020/YMaze_LNovel/YMaze_LNovel_001_009.sbx\n",
      "  warnings.warn(\"Could not find sbx file at %s\" % self.scan_file)\n"
     ]
    },
    {
     "name": "stdout",
     "output_type": "stream",
     "text": [
      "{'date': '03_10_2020', 'scene': 'YMaze_LNovel', 'session': 1, 'scan': 8, 'novel_arm': 1, 'ravel_ind': 5}\n"
     ]
    },
    {
     "name": "stderr",
     "output_type": "stream",
     "text": [
      "/home/mplitt/repos/TwoPUtils/TwoPUtils/sess.py:227: UserWarning: Could not find sbxmat file at /mnt/BigDisk/2P_scratch/4467975.2/03_10_2020/YMaze_LNovel/YMaze_LNovel_001_008.mat\n",
      "  warnings.warn(\"Could not find sbxmat file at %s\" % self.scanheader_file)\n",
      "/home/mplitt/repos/TwoPUtils/TwoPUtils/sess.py:236: UserWarning: Could not find sbx file at /mnt/BigDisk/2P_scratch/4467975.2/03_10_2020/YMaze_LNovel/YMaze_LNovel_001_008.sbx\n",
      "  warnings.warn(\"Could not find sbx file at %s\" % self.scan_file)\n"
     ]
    },
    {
     "name": "stdout",
     "output_type": "stream",
     "text": [
      "{'date': '28_09_2020', 'scene': 'YMaze_LNovel', 'session': 1, 'scan': 4, 'novel_arm': -1, 'ravel_ind': 0}\n",
      "{'date': '29_09_2020', 'scene': 'YMaze_LNovel', 'session': 1, 'scan': 4, 'novel_arm': -1, 'ravel_ind': 1}\n",
      "{'date': '30_09_2020', 'scene': 'YMaze_LNovel', 'session': 2, 'scan': 7, 'novel_arm': -1, 'ravel_ind': 2}\n",
      "{'date': '01_10_2020', 'scene': 'YMaze_LNovel', 'session': 1, 'scan': 7, 'novel_arm': -1, 'ravel_ind': 3}\n",
      "{'date': '02_10_2020', 'scene': 'YMaze_LNovel', 'session': 1, 'scan': 3, 'novel_arm': -1, 'ravel_ind': 4}\n",
      "{'date': '03_10_2020', 'scene': 'YMaze_LNovel', 'session': 1, 'scan': 6, 'novel_arm': -1, 'ravel_ind': 5}\n",
      "{'date': '28_09_2020', 'scene': 'YMaze_LNovel', 'session': 1, 'scan': 5, 'novel_arm': 1, 'ravel_ind': 0}\n",
      "{'date': '29_09_2020', 'scene': 'YMaze_LNovel', 'session': 1, 'scan': 3, 'novel_arm': 1, 'ravel_ind': 1}\n",
      "{'date': '30_09_2020', 'scene': 'YMaze_LNovel', 'session': 1, 'scan': 3, 'novel_arm': 1, 'ravel_ind': 2}\n",
      "{'date': '01_10_2020', 'scene': 'YMaze_LNovel', 'session': 1, 'scan': 2, 'novel_arm': 1, 'ravel_ind': 3}\n",
      "{'date': '02_10_2020', 'scene': 'YMaze_LNovel', 'session': 1, 'scan': 4, 'novel_arm': 1, 'ravel_ind': 4}\n",
      "{'date': '03_10_2020', 'scene': 'YMaze_LNovel', 'session': 1, 'scan': 4, 'novel_arm': 1, 'ravel_ind': 5}\n",
      "{'date': '28_09_2020', 'scene': 'YMaze_LNovel', 'session': 1, 'scan': 4, 'novel_arm': -1, 'ravel_ind': 0}\n",
      "{'date': '29_09_2020', 'scene': 'YMaze_LNovel', 'session': 1, 'scan': 3, 'novel_arm': -1, 'ravel_ind': 1}\n",
      "{'date': '30_09_2020', 'scene': 'YMaze_LNovel', 'session': 1, 'scan': 5, 'novel_arm': -1, 'ravel_ind': 2}\n",
      "{'date': '01_10_2020', 'scene': 'YMaze_LNovel', 'session': 1, 'scan': 7, 'novel_arm': -1, 'ravel_ind': 3}\n",
      "{'date': '02_10_2020', 'scene': 'YMaze_LNovel', 'session': 1, 'scan': 3, 'novel_arm': -1, 'ravel_ind': 4}\n",
      "{'date': '03_10_2020', 'scene': 'YMaze_LNovel', 'session': 1, 'scan': 5, 'novel_arm': -1, 'ravel_ind': 5}\n"
     ]
    }
   ],
   "source": [
    "ko_nov_shifts = {mouse: [field_shifts(mouse, day, ko_field_mask_res, 'nov') for day in range(6)] for mouse in ko_mice}"
   ]
  },
  {
   "cell_type": "code",
   "execution_count": 69,
   "id": "scientific-seeker",
   "metadata": {},
   "outputs": [
    {
     "name": "stdout",
     "output_type": "stream",
     "text": [
      "{'date': '29_11_2020', 'scene': 'YMaze_LNovel', 'session': 1, 'scan': 3, 'novel_arm': -1, 'ravel_ind': 0}\n",
      "{'date': '30_11_2020', 'scene': 'YMaze_LNovel', 'session': 1, 'scan': 7, 'novel_arm': -1, 'ravel_ind': 1}\n",
      "{'date': '01_12_2020', 'scene': 'YMaze_LNovel', 'session': 1, 'scan': 4, 'novel_arm': -1, 'ravel_ind': 2}\n",
      "{'date': '02_12_2020', 'scene': 'YMaze_LNovel', 'session': 1, 'scan': 3, 'novel_arm': -1, 'ravel_ind': 3}\n",
      "{'date': '03_12_2020', 'scene': 'YMaze_LNovel', 'session': 1, 'scan': 8, 'novel_arm': -1, 'ravel_ind': 4}\n",
      "{'date': '04_12_2020', 'scene': 'YMaze_LNovel', 'session': 1, 'scan': 2, 'novel_arm': -1, 'ravel_ind': 5}\n",
      "{'date': '29_11_2020', 'scene': 'YMaze_LNovel', 'session': 1, 'scan': 4, 'novel_arm': 1, 'ravel_ind': 0}\n",
      "{'date': '30_11_2020', 'scene': 'YMaze_LNovel', 'session': 1, 'scan': 4, 'novel_arm': 1, 'ravel_ind': 1}\n",
      "{'date': '01_12_2020', 'scene': 'YMaze_LNovel', 'session': 1, 'scan': 4, 'novel_arm': 1, 'ravel_ind': 2}\n"
     ]
    },
    {
     "name": "stderr",
     "output_type": "stream",
     "text": [
      "<ipython-input-66-25e5f9316e9a>:42: RuntimeWarning: Mean of empty slice\n",
      "  field_argmax = sp.ndimage.center_of_mass(np.nanmean(fieldmat[formation_lap+1:,:], axis=0))[0]\n"
     ]
    },
    {
     "name": "stdout",
     "output_type": "stream",
     "text": [
      "({'date': '02_12_2020', 'scene': 'YMaze_LNovel', 'session': 1, 'scan': 6, 'novel_arm': 1, 'ravel_ind': 3}, {'date': '02_12_2020', 'scene': 'YMaze_LNovel', 'session': 2, 'scan': 12, 'novel_arm': 1, 'ravel_ind': 4})\n",
      "02_12_2020 YMaze_LNovel\n",
      "02_12_2020 YMaze_LNovel\n",
      "['LR', 'block_number', 'sess_num_ravel', 'sess_num']\n",
      "['LR', 'block_number', 'sess_num_ravel', 'sess_num']\n",
      "{'date': '03_12_2020', 'scene': 'YMaze_LNovel', 'session': 1, 'scan': 3, 'novel_arm': 1, 'ravel_ind': 5}\n",
      "{'date': '04_12_2020', 'scene': 'YMaze_LNovel', 'session': 1, 'scan': 3, 'novel_arm': 1, 'ravel_ind': 6}\n",
      "{'date': '29_11_2020', 'scene': 'YMaze_LNovel', 'session': 1, 'scan': 8, 'novel_arm': -1, 'ravel_ind': 0}\n",
      "{'date': '30_11_2020', 'scene': 'YMaze_LNovel', 'session': 1, 'scan': 4, 'novel_arm': -1, 'ravel_ind': 1}\n",
      "{'date': '01_12_2020', 'scene': 'YMaze_LNovel', 'session': 1, 'scan': 5, 'novel_arm': -1, 'ravel_ind': 2}\n",
      "{'date': '02_12_2020', 'scene': 'YMaze_LNovel', 'session': 1, 'scan': 6, 'novel_arm': -1, 'ravel_ind': 3}\n",
      "{'date': '03_12_2020', 'scene': 'YMaze_LNovel', 'session': 1, 'scan': 3, 'novel_arm': -1, 'ravel_ind': 4}\n",
      "{'date': '04_12_2020', 'scene': 'YMaze_LNovel', 'session': 1, 'scan': 2, 'novel_arm': -1, 'ravel_ind': 5}\n",
      "{'date': '29_11_2020', 'scene': 'YMaze_LNovel', 'session': 2, 'scan': 18, 'novel_arm': 1, 'ravel_ind': 1}\n",
      "({'date': '30_11_2020', 'scene': 'YMaze_LNovel', 'session': 1, 'scan': 4, 'novel_arm': 1, 'ravel_ind': 2}, {'date': '30_11_2020', 'scene': 'YMaze_LNovel', 'session': 3, 'scan': 9, 'novel_arm': 1, 'ravel_ind': 3})\n",
      "30_11_2020 YMaze_LNovel\n",
      "30_11_2020 YMaze_LNovel\n",
      "['LR', 'block_number', 'sess_num_ravel', 'sess_num']\n",
      "['LR', 'block_number', 'sess_num_ravel', 'sess_num']\n",
      "{'date': '01_12_2020', 'scene': 'YMaze_LNovel', 'session': 1, 'scan': 4, 'novel_arm': 1, 'ravel_ind': 4}\n",
      "{'date': '02_12_2020', 'scene': 'YMaze_LNovel', 'session': 1, 'scan': 4, 'novel_arm': 1, 'ravel_ind': 5}\n",
      "{'date': '03_12_2020', 'scene': 'YMaze_LNovel', 'session': 1, 'scan': 3, 'novel_arm': 1, 'ravel_ind': 6}\n",
      "{'date': '04_12_2020', 'scene': 'YMaze_LNovel', 'session': 1, 'scan': 3, 'novel_arm': 1, 'ravel_ind': 7}\n",
      "{'date': '29_11_2020', 'scene': 'YMaze_LNovel', 'session': 1, 'scan': 4, 'novel_arm': -1, 'ravel_ind': 0}\n",
      "{'date': '30_11_2020', 'scene': 'YMaze_LNovel', 'session': 1, 'scan': 6, 'novel_arm': -1, 'ravel_ind': 1}\n",
      "{'date': '01_12_2020', 'scene': 'YMaze_LNovel', 'session': 1, 'scan': 4, 'novel_arm': -1, 'ravel_ind': 2}\n",
      "{'date': '02_12_2020', 'scene': 'YMaze_LNovel', 'session': 1, 'scan': 4, 'novel_arm': -1, 'ravel_ind': 3}\n",
      "{'date': '03_12_2020', 'scene': 'YMaze_LNovel', 'session': 2, 'scan': 4, 'novel_arm': -1, 'ravel_ind': 4}\n",
      "{'date': '05_12_2020', 'scene': 'YMaze_LNovel', 'session': 1, 'scan': 2, 'novel_arm': -1, 'ravel_ind': 5}\n",
      "{'date': '28_09_2020', 'scene': 'YMaze_LNovel', 'session': 6, 'scan': 14, 'novel_arm': -1, 'ravel_ind': 1}\n",
      "{'date': '29_09_2020', 'scene': 'YMaze_LNovel', 'session': 1, 'scan': 3, 'novel_arm': -1, 'ravel_ind': 2}\n",
      "{'date': '30_09_2020', 'scene': 'YMaze_LNovel', 'session': 1, 'scan': 4, 'novel_arm': -1, 'ravel_ind': 3}\n",
      "{'date': '01_10_2020', 'scene': 'YMaze_LNovel', 'session': 1, 'scan': 2, 'novel_arm': -1, 'ravel_ind': 4}\n",
      "{'date': '02_10_2020', 'scene': 'YMaze_LNovel', 'session': 1, 'scan': 3, 'novel_arm': -1, 'ravel_ind': 5}\n",
      "{'date': '03_10_2020', 'scene': 'YMaze_LNovel', 'session': 1, 'scan': 3, 'novel_arm': -1, 'ravel_ind': 6}\n",
      "{'date': '28_09_2020', 'scene': 'YMaze_LNovel', 'session': 3, 'scan': 8, 'novel_arm': 1, 'ravel_ind': 0}\n",
      "{'date': '29_09_2020', 'scene': 'YMaze_LNovel', 'session': 1, 'scan': 3, 'novel_arm': 1, 'ravel_ind': 1}\n",
      "{'date': '30_09_2020', 'scene': 'YMaze_LNovel', 'session': 1, 'scan': 4, 'novel_arm': 1, 'ravel_ind': 2}\n",
      "{'date': '01_10_2020', 'scene': 'YMaze_LNovel', 'session': 1, 'scan': 4, 'novel_arm': 1, 'ravel_ind': 3}\n",
      "{'date': '02_10_2020', 'scene': 'YMaze_LNovel', 'session': 1, 'scan': 9, 'novel_arm': 1, 'ravel_ind': 4}\n",
      "{'date': '03_10_2020', 'scene': 'YMaze_LNovel', 'session': 1, 'scan': 8, 'novel_arm': 1, 'ravel_ind': 5}\n",
      "{'date': '28_09_2020', 'scene': 'YMaze_LNovel', 'session': 1, 'scan': 4, 'novel_arm': -1, 'ravel_ind': 0}\n",
      "{'date': '29_09_2020', 'scene': 'YMaze_LNovel', 'session': 1, 'scan': 4, 'novel_arm': -1, 'ravel_ind': 1}\n",
      "{'date': '30_09_2020', 'scene': 'YMaze_LNovel', 'session': 2, 'scan': 7, 'novel_arm': -1, 'ravel_ind': 2}\n",
      "{'date': '01_10_2020', 'scene': 'YMaze_LNovel', 'session': 1, 'scan': 7, 'novel_arm': -1, 'ravel_ind': 3}\n",
      "{'date': '02_10_2020', 'scene': 'YMaze_LNovel', 'session': 1, 'scan': 3, 'novel_arm': -1, 'ravel_ind': 4}\n",
      "{'date': '03_10_2020', 'scene': 'YMaze_LNovel', 'session': 1, 'scan': 6, 'novel_arm': -1, 'ravel_ind': 5}\n",
      "{'date': '28_09_2020', 'scene': 'YMaze_LNovel', 'session': 1, 'scan': 5, 'novel_arm': 1, 'ravel_ind': 0}\n",
      "{'date': '29_09_2020', 'scene': 'YMaze_LNovel', 'session': 1, 'scan': 3, 'novel_arm': 1, 'ravel_ind': 1}\n",
      "{'date': '30_09_2020', 'scene': 'YMaze_LNovel', 'session': 1, 'scan': 3, 'novel_arm': 1, 'ravel_ind': 2}\n",
      "{'date': '01_10_2020', 'scene': 'YMaze_LNovel', 'session': 1, 'scan': 2, 'novel_arm': 1, 'ravel_ind': 3}\n",
      "{'date': '02_10_2020', 'scene': 'YMaze_LNovel', 'session': 1, 'scan': 4, 'novel_arm': 1, 'ravel_ind': 4}\n",
      "{'date': '03_10_2020', 'scene': 'YMaze_LNovel', 'session': 1, 'scan': 4, 'novel_arm': 1, 'ravel_ind': 5}\n",
      "{'date': '28_09_2020', 'scene': 'YMaze_LNovel', 'session': 1, 'scan': 4, 'novel_arm': -1, 'ravel_ind': 0}\n",
      "{'date': '29_09_2020', 'scene': 'YMaze_LNovel', 'session': 1, 'scan': 3, 'novel_arm': -1, 'ravel_ind': 1}\n",
      "{'date': '30_09_2020', 'scene': 'YMaze_LNovel', 'session': 1, 'scan': 5, 'novel_arm': -1, 'ravel_ind': 2}\n",
      "{'date': '01_10_2020', 'scene': 'YMaze_LNovel', 'session': 1, 'scan': 7, 'novel_arm': -1, 'ravel_ind': 3}\n",
      "{'date': '02_10_2020', 'scene': 'YMaze_LNovel', 'session': 1, 'scan': 3, 'novel_arm': -1, 'ravel_ind': 4}\n",
      "{'date': '03_10_2020', 'scene': 'YMaze_LNovel', 'session': 1, 'scan': 5, 'novel_arm': -1, 'ravel_ind': 5}\n"
     ]
    }
   ],
   "source": [
    "ctrl_fam_shifts = {mouse: [field_shifts(mouse, day, ctrl_field_mask_res, 'fam') for day in range(6)] for mouse in ctrl_mice}\n",
    "ko_fam_shifts = {mouse: [field_shifts(mouse, day, ko_field_mask_res, 'fam') for day in range(6)] for mouse in ko_mice}"
   ]
  },
  {
   "cell_type": "code",
   "execution_count": 70,
   "id": "regulation-overall",
   "metadata": {},
   "outputs": [
    {
     "name": "stdout",
     "output_type": "stream",
     "text": [
      "0\n",
      "-6.387361083770924 1.8312537373599871e-10\n",
      "0\n",
      "-6.345412879533735 2.3908513283725263e-10\n",
      "0\n",
      "-1.751075147352792 0.07998415792828824\n",
      "0\n",
      "-0.5252097001012106 0.5994568290534991\n",
      "0\n",
      "-4.532742856016532 5.94186813758216e-06\n",
      "0\n",
      "-4.320479243833373 1.5772104802866405e-05\n"
     ]
    },
    {
     "data": {
      "image/png": "[encoded data removed]",
      "text/plain": [
       "<Figure size 2160x720 with 12 Axes>"
      ]
     },
     "metadata": {
      "needs_background": "light"
     },
     "output_type": "display_data"
    }
   ],
   "source": [
    "df_shifts = pd.DataFrame({'mouse': [],\n",
    "                          'm': [],\n",
    "                          'day': [],\n",
    "                         'dz': [],\n",
    "                         'ko': [],\n",
    "                         'nov': [],\n",
    "                         'nov_x_dz': [],\n",
    "                         'ko_x_dz': [],\n",
    "                         'ko_x_nov_x_dz':[],\n",
    "                         'shifts': [],\n",
    "                         'width': [],\n",
    "                         'formation_lap': [],\n",
    "                         'init_speed': [],\n",
    "                         'init_speed_x_ko': [],\n",
    "                         'field_var': [],\n",
    "                         'ko_x_speed': [], \n",
    "                         'intercept': []})\n",
    "\n",
    "fig,ax = plt.subplots(2,6, figsize= [30,10])\n",
    "days_z = sp.stats.zscore(np.arange(6))\n",
    "for day, dz in enumerate(days_z):\n",
    "    ctrl_shifts = []\n",
    "    ctrl_mu = []\n",
    "    \n",
    "    for m, mouse in enumerate(ctrl_mice):\n",
    "        ctrl_shifts.append(ctrl_nov_shifts[mouse][day]['shift'])\n",
    "        ctrl_mu.append(ctrl_nov_shifts[mouse][day]['shift'].mean())\n",
    "        for _fn, (shift, width, speed, formlap, fvar) in enumerate(zip(ctrl_nov_shifts[mouse][day]['shift'], \n",
    "                                                        ctrl_nov_shifts[mouse][day]['width'], \n",
    "                                                        ctrl_nov_shifts[mouse][day]['init_speed'],\n",
    "                                                        ctrl_nov_shifts[mouse][day]['formation_lap'],\n",
    "                                                        ctrl_nov_shifts[mouse][day]['field_var'],)):\n",
    "            if np.isnan(shift)==0:\n",
    "                df_shifts = df_shifts.append({'mouse': mouse,\n",
    "                                              'm': m,\n",
    "                                              'day': day,\n",
    "                                              'dz': dz,\n",
    "                                              'ko': 0,\n",
    "                                              'nov': 1,\n",
    "                                              'ko_x_dz': 0,\n",
    "                                              'nov_x_dz': dz,\n",
    "                                              'ko_x_nov_x_dz': 0,\n",
    "                                              'shifts': shift,\n",
    "                                              'width': width,\n",
    "                                              'formation_lap': formlap,\n",
    "                                              'init_speed': speed,\n",
    "                                              'init_speed_x_ko': 0,\n",
    "                                              'field_var': fvar,\n",
    "                                              'ko_x_speed': 0,\n",
    "                                              'intercept': 1}, ignore_index=True)\n",
    "                \n",
    "        for _fn, (shift, width, speed, formlap, fvar) in enumerate(zip(ctrl_fam_shifts[mouse][day]['shift'], \n",
    "                                                        ctrl_fam_shifts[mouse][day]['width'], \n",
    "                                                        ctrl_fam_shifts[mouse][day]['init_speed'],\n",
    "                                                        ctrl_fam_shifts[mouse][day]['formation_lap'],\n",
    "                                                        ctrl_fam_shifts[mouse][day]['field_var'],)):\n",
    "            if np.isnan(shift)==0:\n",
    "                df_shifts = df_shifts.append({'mouse': mouse,\n",
    "                                              'm': m,\n",
    "                                              'day': day,\n",
    "                                              'dz': dz,\n",
    "                                              'ko': 0,\n",
    "                                              'nov': 0,\n",
    "                                              'ko_x_dz': 0,\n",
    "                                              'nov_x_dz': 0,\n",
    "                                              'ko_x_nov_x_dz': 0,\n",
    "                                              'shifts': shift,\n",
    "                                              'width': width,\n",
    "                                              'formation_lap': formlap,\n",
    "                                              'init_speed': speed,\n",
    "                                              'init_speed_x_ko': 0,\n",
    "                                              'field_var': fvar,\n",
    "                                              'ko_x_speed': 0,\n",
    "                                              'intercept': 1}, ignore_index=True)\n",
    "    ctrl_shifts = np.concatenate(ctrl_shifts)\n",
    "    ctrl_shifts = ctrl_shifts[~np.isnan(ctrl_shifts)]\n",
    "    print(np.isnan(ctrl_shifts).sum())\n",
    "    \n",
    "        \n",
    "    ko_shifts = []\n",
    "    ko_mu = []\n",
    "    for m, mouse in enumerate(ko_mice):\n",
    "        ko_shifts.append(ko_nov_shifts[mouse][day]['shift'])\n",
    "        ko_mu.append(ko_nov_shifts[mouse][day]['shift'].mean())\n",
    "        for _fn, (shift, width, speed, formlap, fvar) in enumerate(zip(ko_nov_shifts[mouse][day]['shift'], \n",
    "                                                        ko_nov_shifts[mouse][day]['width'], \n",
    "                                                        ko_nov_shifts[mouse][day]['init_speed'],\n",
    "                                                        ko_nov_shifts[mouse][day]['formation_lap'],\n",
    "                                                        ko_nov_shifts[mouse][day]['field_var'],)):\n",
    "            if np.isnan(shift)==0:\n",
    "                df_shifts = df_shifts.append({'mouse': mouse,\n",
    "                                              'm': m + len(ctrl_mice),\n",
    "                                              'day': day,\n",
    "                                              'dz': dz,\n",
    "                                              'ko': 1,\n",
    "                                              'nov': 1,\n",
    "                                              'ko_x_dz': dz,\n",
    "                                              'nov_x_dz': dz,\n",
    "                                              'ko_x_nov_x_dz': 1,\n",
    "                                              'shifts': shift,\n",
    "                                              'width': width,\n",
    "                                              'formation_lap': formlap,\n",
    "                                              'init_speed': speed,\n",
    "                                              'init_speed_x_ko': speed,\n",
    "                                              'field_var': fvar,\n",
    "                                              'ko_x_speed': speed,\n",
    "                                              'intercept': 1}, ignore_index=True)\n",
    "                \n",
    "        for _fn, (shift, width, speed, formlap, fvar) in enumerate(zip(ko_fam_shifts[mouse][day]['shift'], \n",
    "                                                        ko_fam_shifts[mouse][day]['width'], \n",
    "                                                        ko_fam_shifts[mouse][day]['init_speed'],\n",
    "                                                        ko_fam_shifts[mouse][day]['formation_lap'],\n",
    "                                                        ko_fam_shifts[mouse][day]['field_var'],)):\n",
    "            if np.isnan(shift)==0:\n",
    "                df_shifts = df_shifts.append({'mouse': mouse,\n",
    "                                              'm': m + len(ctrl_mice),\n",
    "                                              'day': day,\n",
    "                                              'dz': dz,\n",
    "                                              'ko': 1,\n",
    "                                              'nov': 0,\n",
    "                                              'ko_x_dz': dz,\n",
    "                                              'nov_x_dz': 0,\n",
    "                                              'ko_x_nov_x_dz': 0,\n",
    "                                              'shifts': shift,\n",
    "                                              'width': width,\n",
    "                                              'formation_lap': formlap,\n",
    "                                              'init_speed': speed,\n",
    "                                              'init_speed_x_ko': speed,\n",
    "                                              'field_var': fvar,\n",
    "                                              'ko_x_speed': speed, \n",
    "                                              'intercept': 1}, ignore_index=True)\n",
    "    ko_shifts = np.concatenate(ko_shifts)\n",
    "    ko_shifts = ko_shifts[~np.isnan(ko_shifts)]\n",
    "\n",
    "    _x = np.linspace(-5,5)\n",
    "    _ctrl_hist = tpu.utilities.gaussian(ctrl_shifts[np.newaxis,:],.3, _x[:,np.newaxis]).mean(axis=1)\n",
    "    _ctrl_hist /= _ctrl_hist.sum()\n",
    "    ax[0,day].plot(_x,_ctrl_hist, color='black')\n",
    "    ax[1,day].plot(_x,np.cumsum(_ctrl_hist), color='black')\n",
    "    _ko_hist = tpu.utilities.gaussian(ko_shifts[np.newaxis,:],.3, _x[:,np.newaxis]).mean(axis=1)\n",
    "    _ko_hist /= _ko_hist.sum()\n",
    "    ax[0,day].plot(_x,_ko_hist, color='red')\n",
    "    ax[1,day].plot(_x,np.cumsum(_ko_hist), color='red')\n",
    "\n",
    "#     ax[0,day].vlines(ctrl_shifts.mean(),0,.09, color='black')\n",
    "\n",
    "#     ax[0,day].vlines(ko_shifts.mean(),0,.09, color='red')\n",
    "\n",
    "    \n",
    "    ax[0,day].set_xlabel(\"COM shift\")\n",
    "    ax[0,day].set_ylabel('prob')\n",
    "    ax[0,day].spines['top'].set_visible(False)\n",
    "    ax[0,day].spines['right'].set_visible(False)\n",
    "\n",
    "    \n",
    "    ax[1,day].set_xlabel(\"COM shift\")\n",
    "    ax[1,day].set_ylabel('cum prob')\n",
    "    ax[1,day].spines['top'].set_visible(False)\n",
    "    ax[1,day].spines['right'].set_visible(False)\n",
    "\n",
    "    t,p = sp.stats.ttest_ind(ctrl_shifts,ko_shifts)\n",
    "    print(t,p)\n",
    "\n",
    "fig.savefig(os.path.join(figdir, \"com_shift_by_day.pdf\"), format = 'pdf')"
   ]
  },
  {
   "cell_type": "code",
   "execution_count": 71,
   "id": "killing-victoria",
   "metadata": {},
   "outputs": [
    {
     "name": "stdout",
     "output_type": "stream",
     "text": [
      "        Source        SS  DF1  DF2        MS         F     p-unc       np2  \\\n",
      "0           ko  0.064647    1    8  0.064647  2.358296  0.163168  0.227672   \n",
      "1          day  0.005644    1    8  0.005644  0.547025  0.480673  0.064002   \n",
      "2  Interaction  0.000008    1    8  0.000008  0.000758  0.978716  0.000095   \n",
      "\n",
      "   eps  \n",
      "0  NaN  \n",
      "1  1.0  \n",
      "2  NaN  \n"
     ]
    }
   ],
   "source": [
    "aov = mixed_anova(data=df_shifts[df_shifts['day']<2], dv='shifts', between='ko', within='day', subject='m')\n",
    "print(aov)"
   ]
  },
  {
   "cell_type": "code",
   "execution_count": 72,
   "id": "innocent-brief",
   "metadata": {},
   "outputs": [
    {
     "name": "stdout",
     "output_type": "stream",
     "text": [
      "           Mixed Linear Model Regression Results\n",
      "===========================================================\n",
      "Model:             MixedLM Dependent Variable: shifts      \n",
      "No. Observations:  77588   Method:             REML        \n",
      "No. Groups:        10      Scale:              0.8637      \n",
      "Min. group size:   2945    Log-Likelihood:     -104448.5534\n",
      "Max. group size:   13705   Converged:          Yes         \n",
      "Mean group size:   7758.8                                  \n",
      "-----------------------------------------------------------\n",
      "                Coef.  Std.Err.    z    P>|z| [0.025 0.975]\n",
      "-----------------------------------------------------------\n",
      "ko               0.017    0.050   0.330 0.741 -0.082  0.115\n",
      "dz               0.095    0.006  16.471 0.000  0.084  0.107\n",
      "nov             -0.003    0.007  -0.402 0.688 -0.016  0.010\n",
      "nov_x_dz        -0.042    0.007  -6.192 0.000 -0.055 -0.028\n",
      "ko_x_dz         -0.023    0.007  -3.334 0.001 -0.036 -0.009\n",
      "init_speed      -0.776    0.045 -17.240 0.000 -0.864 -0.688\n",
      "init_speed_x_ko  0.192    0.074   2.591 0.010  0.047  0.337\n",
      "intercept       -0.127    0.035  -3.579 0.000 -0.196 -0.057\n",
      "Group Var        0.006    0.003                            \n",
      "===========================================================\n",
      "\n"
     ]
    },
    {
     "name": "stderr",
     "output_type": "stream",
     "text": [
      "/home/mplitt/anaconda3/envs/STX3_test/lib/python3.8/site-packages/statsmodels/regression/mixed_linear_model.py:2237: ConvergenceWarning: The MLE may be on the boundary of the parameter space.\n",
      "  warnings.warn(msg, ConvergenceWarning)\n"
     ]
    }
   ],
   "source": [
    "\n",
    "df_nov = df_shifts#[df_shifts['nov']==1]\n",
    "lmm_res = MixedLM(df_nov['shifts'], df_nov[['ko', 'dz', 'nov','nov_x_dz', 'ko_x_dz',  'init_speed',  'init_speed_x_ko', 'intercept']], df_nov['mouse'])\n",
    "lmm_resf = lmm_res.fit()\n",
    "print(lmm_resf.summary())"
   ]
  },
  {
   "cell_type": "code",
   "execution_count": 73,
   "id": "identical-official",
   "metadata": {},
   "outputs": [
    {
     "name": "stdout",
     "output_type": "stream",
     "text": [
      "          Mixed Linear Model Regression Results\n",
      "==========================================================\n",
      "Model:            MixedLM Dependent Variable: shifts      \n",
      "No. Observations: 77588   Method:             REML        \n",
      "No. Groups:       10      Scale:              0.8637      \n",
      "Min. group size:  2945    Log-Likelihood:     -104450.2231\n",
      "Max. group size:  13705   Converged:          Yes         \n",
      "Mean group size:  7758.8                                  \n",
      "----------------------------------------------------------\n",
      "               Coef.  Std.Err.    z    P>|z| [0.025 0.975]\n",
      "----------------------------------------------------------\n",
      "ko              0.056    0.049   1.143 0.253 -0.040  0.151\n",
      "dz              0.094    0.006  16.321 0.000  0.083  0.106\n",
      "nov            -0.004    0.007  -0.525 0.600 -0.017  0.010\n",
      "nov_x_dz       -0.041    0.007  -6.149 0.000 -0.054 -0.028\n",
      "ko_x_dz        -0.020    0.007  -2.968 0.003 -0.033 -0.007\n",
      "init_speed     -0.705    0.036 -19.747 0.000 -0.775 -0.635\n",
      "intercept      -0.143    0.035  -4.040 0.000 -0.213 -0.074\n",
      "Group Var       0.006    0.003                            \n",
      "==========================================================\n",
      "\n"
     ]
    },
    {
     "name": "stderr",
     "output_type": "stream",
     "text": [
      "/home/mplitt/anaconda3/envs/STX3_test/lib/python3.8/site-packages/statsmodels/regression/mixed_linear_model.py:2237: ConvergenceWarning: The MLE may be on the boundary of the parameter space.\n",
      "  warnings.warn(msg, ConvergenceWarning)\n"
     ]
    }
   ],
   "source": [
    "\n",
    "df_nov = df_shifts#[df_shifts['nov']==1]\n",
    "lmm_res = MixedLM(df_nov['shifts'], df_nov[['ko', 'dz', 'nov','nov_x_dz', 'ko_x_dz', 'init_speed',  'intercept']], df_nov['mouse'])\n",
    "lmm_resf = lmm_res.fit()\n",
    "print(lmm_resf.summary())"
   ]
  },
  {
   "cell_type": "code",
   "execution_count": 74,
   "id": "located-victoria",
   "metadata": {},
   "outputs": [
    {
     "name": "stderr",
     "output_type": "stream",
     "text": [
      "/home/mplitt/anaconda3/envs/STX3_test/lib/python3.8/site-packages/statsmodels/base/model.py:566: ConvergenceWarning: Maximum Likelihood optimization failed to converge. Check mle_retvals\n",
      "  warnings.warn(\"Maximum Likelihood optimization failed to \"\n",
      "/home/mplitt/anaconda3/envs/STX3_test/lib/python3.8/site-packages/statsmodels/regression/mixed_linear_model.py:2200: ConvergenceWarning: Retrying MixedLM optimization with lbfgs\n",
      "  warnings.warn(\n"
     ]
    },
    {
     "name": "stdout",
     "output_type": "stream",
     "text": [
      "          Mixed Linear Model Regression Results\n",
      "=========================================================\n",
      "Model:            MixedLM Dependent Variable: shifts     \n",
      "No. Observations: 36061   Method:             REML       \n",
      "No. Groups:       10      Scale:              0.6844     \n",
      "Min. group size:  1271    Log-Likelihood:     -44367.5334\n",
      "Max. group size:  5943    Converged:          Yes        \n",
      "Mean group size:  3606.1                                 \n",
      "---------------------------------------------------------\n",
      "               Coef.  Std.Err.   z    P>|z| [0.025 0.975]\n",
      "---------------------------------------------------------\n",
      "ko              0.092    0.118  0.781 0.435 -0.139  0.324\n",
      "dz              0.047    0.006  7.769 0.000  0.035  0.059\n",
      "ko_x_dz        -0.016    0.009 -1.835 0.066 -0.033  0.001\n",
      "init_speed     -0.259    0.047 -5.455 0.000 -0.352 -0.166\n",
      "intercept      -0.250    0.084 -2.968 0.003 -0.415 -0.085\n",
      "Group Var       0.035                                    \n",
      "=========================================================\n",
      "\n"
     ]
    },
    {
     "name": "stderr",
     "output_type": "stream",
     "text": [
      "/home/mplitt/anaconda3/envs/STX3_test/lib/python3.8/site-packages/statsmodels/regression/mixed_linear_model.py:2261: ConvergenceWarning: The Hessian matrix at the estimated parameter values is not positive definite.\n",
      "  warnings.warn(msg, ConvergenceWarning)\n"
     ]
    }
   ],
   "source": [
    "df_nov = df_shifts[df_shifts['nov']==1]\n",
    "lmm_res = MixedLM(df_nov['shifts'], df_nov[['ko', 'dz', 'ko_x_dz', 'init_speed',  'intercept']], df_nov['mouse'])\n",
    "lmm_resf = lmm_res.fit()\n",
    "print(lmm_resf.summary())"
   ]
  },
  {
   "cell_type": "code",
   "execution_count": 75,
   "id": "considerable-serve",
   "metadata": {},
   "outputs": [
    {
     "data": {
      "image/png": "[encoded data removed]",
      "text/plain": [
       "<Figure size 432x288 with 1 Axes>"
      ]
     },
     "metadata": {
      "needs_background": "light"
     },
     "output_type": "display_data"
    }
   ],
   "source": [
    "fig, ax = plt.subplots()\n",
    "\n",
    "plot_arr = np.zeros([2, 2, 5, 6 ])\n",
    "for m, mouse in enumerate(ctrl_mice):\n",
    "    for day in range(6):\n",
    "        mask = (df_shifts['ko']==0) & (df_shifts['mouse'] == mouse) & (df_shifts['day']==day) & (df_shifts['nov']==0)\n",
    "    \n",
    "        shifts = df_shifts['shifts'].loc[mask ]\n",
    "        plot_arr[0,0,m,day]=np.nanmean(shifts)\n",
    "        ax.scatter(10*day+.1*m, np.nanmean(shifts), color='black', s=20)\n",
    "\n",
    "for m, mouse in enumerate(ko_mice):\n",
    "    for day in range(6):\n",
    "        mask = (df_shifts['ko']==1) & (df_shifts['mouse'] == mouse) & (df_shifts['day']==day) & (df_shifts['nov']==0)\n",
    "    \n",
    "        shifts = df_shifts['shifts'].loc[mask ]\n",
    "        plot_arr[1,0,m,day]=np.nanmean(shifts)\n",
    "        ax.scatter(10*day+.1*m + 3, np.nanmean(shifts), color='red', s=20)\n",
    "\n",
    "        \n",
    "for m, mouse in enumerate(ctrl_mice):\n",
    "    for day in range(6):\n",
    "        mask = (df_shifts['ko']==0) & (df_shifts['mouse'] == mouse) & (df_shifts['day']==day) & (df_shifts['nov']==1)\n",
    "    \n",
    "        shifts = df_shifts['shifts'].loc[mask ]\n",
    "        plot_arr[0,1,m,day]=np.nanmean(shifts)\n",
    "        ax.scatter(10*day+.1*m + 1, np.nanmean(shifts), color='black', s=20, alpha = .3)\n",
    "\n",
    "for m, mouse in enumerate(ko_mice):\n",
    "    for day in range(6):\n",
    "        mask = (df_shifts['ko']==1) & (df_shifts['mouse'] == mouse) & (df_shifts['day']==day) & (df_shifts['nov']==1)\n",
    "    \n",
    "        shifts = df_shifts['shifts'].loc[mask ]\n",
    "        plot_arr[1,1,m,day]=np.nanmean(shifts)\n",
    "        ax.scatter(10*day+.1*m + 4, np.nanmean(shifts), color='red', s=20, alpha=.3)\n",
    "        \n",
    "\n",
    "ax.set_xticks(10*np.arange(6)+5)\n",
    "ax.set_xticklabels(np.arange(6))\n",
    "ax.set_xlabel('Day')\n",
    "ax.set_ylabel('Place Field Shift')\n",
    "ax.spines['top'].set_visible(False)\n",
    "ax.spines['right'].set_visible(False)\n",
    "fig.savefig(os.path.join(figdir, \"field_shift_summary.pdf\"))"
   ]
  },
  {
   "cell_type": "code",
   "execution_count": 57,
   "id": "solid-technical",
   "metadata": {},
   "outputs": [
    {
     "name": "stdout",
     "output_type": "stream",
     "text": [
      "-1.0080506263388878 0.3429434828154274\n"
     ]
    }
   ],
   "source": [
    "t,p = sp.stats.ttest_ind(plot_arr[0,0,:,1],plot_arr[1,0,:,1])\n",
    "print(t,p)"
   ]
  },
  {
   "cell_type": "code",
   "execution_count": 71,
   "id": "spare-access",
   "metadata": {},
   "outputs": [
    {
     "name": "stdout",
     "output_type": "stream",
     "text": [
      "-0.09389328308608423 0.9251971930505488\n",
      "4.889753581562016 1.0330599173335153e-06\n",
      "-9.299029167721006 1.8299665836586803e-20\n",
      "-4.00275191315821 6.322838547952424e-05\n",
      "-10.16244429845107 4.3378150071341944e-24\n",
      "-12.644876503435315 2.795077433456213e-36\n"
     ]
    },
    {
     "data": {
      "image/png": "[encoded data removed]",
      "text/plain": [
       "<Figure size 2160x360 with 6 Axes>"
      ]
     },
     "metadata": {
      "needs_background": "light"
     },
     "output_type": "display_data"
    }
   ],
   "source": [
    "fig,ax = plt.subplots(1,6, figsize = [30,5])\n",
    "\n",
    "bins = np.linspace(0,.2, num=20)\n",
    "for day in range(6):\n",
    "    ax[day].hist(df_shifts['field_var'].loc[(df_shifts['ko']==0) & (df_shifts['day']==day) & (df_shifts['nov']==0)],\n",
    "                 bins = bins, color = 'black', alpha = .3, density=True)\n",
    "    ax[day].hist(df_shifts['field_var'].loc[(df_shifts['ko']==1) & (df_shifts['day']==day) & (df_shifts['nov']==0)],\n",
    "                 bins = bins, color = 'red', alpha = .3, density=True)\n",
    "    t,p = sp.stats.ttest_ind(df_shifts['field_var'].loc[(df_shifts['ko']==0) & (df_shifts['day']==day) & (df_shifts['nov']==0)],\n",
    "                             df_shifts['field_var'].loc[(df_shifts['ko']==1) & (df_shifts['day']==day) & (df_shifts['nov']==0)])\n",
    "    print(t,p)"
   ]
  },
  {
   "cell_type": "code",
   "execution_count": 72,
   "id": "latin-metallic",
   "metadata": {},
   "outputs": [
    {
     "data": {
      "image/png": "[encoded data removed]",
      "text/plain": [
       "<Figure size 432x288 with 1 Axes>"
      ]
     },
     "metadata": {
      "needs_background": "light"
     },
     "output_type": "display_data"
    }
   ],
   "source": [
    "fig, ax = plt.subplots()\n",
    "\n",
    "for m, mouse in enumerate(ctrl_mice):\n",
    "    for day in range(6):\n",
    "        mask = (df_shifts['ko']==0) & (df_shifts['mouse'] == mouse) & (df_shifts['day']==day) & (df_shifts['nov']==1)\n",
    "    \n",
    "        shifts = df_shifts['field_var'].loc[mask ]\n",
    "        ax.scatter(5*day+.1*m, np.nanmean(shifts), color='black', s=20)\n",
    "\n",
    "for m, mouse in enumerate(ko_mice):\n",
    "    for day in range(6):\n",
    "        mask = (df_shifts['ko']==1) & (df_shifts['mouse'] == mouse) & (df_shifts['day']==day) & (df_shifts['nov']==1)\n",
    "    \n",
    "        shifts = df_shifts['field_var'].loc[mask ]\n",
    "        ax.scatter(5*day+.1*m + 1, np.nanmean(shifts), color='red', s=20)\n",
    "    "
   ]
  },
  {
   "cell_type": "code",
   "execution_count": 73,
   "id": "changed-argentina",
   "metadata": {},
   "outputs": [
    {
     "name": "stdout",
     "output_type": "stream",
     "text": [
      "          Mixed Linear Model Regression Results\n",
      "=========================================================\n",
      "Model:            MixedLM Dependent Variable: field_var  \n",
      "No. Observations: 77588   Method:             REML       \n",
      "No. Groups:       10      Scale:              0.0004     \n",
      "Min. group size:  2945    Log-Likelihood:     191672.1239\n",
      "Max. group size:  13705   Converged:          Yes        \n",
      "Mean group size:  7758.8                                 \n",
      "---------------------------------------------------------\n",
      "              Coef.  Std.Err.    z    P>|z| [0.025 0.975]\n",
      "---------------------------------------------------------\n",
      "ko             0.046    0.015   3.135 0.002  0.017  0.075\n",
      "dz            -0.004    0.000 -43.100 0.000 -0.005 -0.004\n",
      "ko_x_dz        0.001    0.000   8.266 0.000  0.001  0.002\n",
      "nov            0.021    0.000 139.565 0.000  0.020  0.021\n",
      "Group Var      0.001    0.024                            \n",
      "=========================================================\n",
      "\n"
     ]
    },
    {
     "name": "stderr",
     "output_type": "stream",
     "text": [
      "/home/mplitt/anaconda3/envs/STX3_test/lib/python3.8/site-packages/statsmodels/regression/mixed_linear_model.py:2237: ConvergenceWarning: The MLE may be on the boundary of the parameter space.\n",
      "  warnings.warn(msg, ConvergenceWarning)\n"
     ]
    }
   ],
   "source": [
    "lmm_res = MixedLM(df_shifts['field_var'], df_shifts[['ko', 'dz', 'ko_x_dz','nov']], df_shifts['mouse'])\n",
    "lmm_resf = lmm_res.fit()\n",
    "print(lmm_resf.summary())"
   ]
  },
  {
   "cell_type": "code",
   "execution_count": 26,
   "id": "marine-natural",
   "metadata": {},
   "outputs": [
    {
     "name": "stdout",
     "output_type": "stream",
     "text": [
      "0.17336662155817864 2.6570617326069377e-165\n",
      "0.19495241401729893 1.9516247710786806e-174\n"
     ]
    },
    {
     "data": {
      "image/png": "[encoded data removed]",
      "text/plain": [
       "<Figure size 432x288 with 1 Axes>"
      ]
     },
     "metadata": {
      "needs_background": "light"
     },
     "output_type": "display_data"
    },
    {
     "data": {
      "image/png": "[encoded data removed]",
      "text/plain": [
       "<Figure size 432x288 with 1 Axes>"
      ]
     },
     "metadata": {
      "needs_background": "light"
     },
     "output_type": "display_data"
    }
   ],
   "source": [
    "fig, ax = plt.subplots()\n",
    "ctrl_df = df_shifts[df_shifts['ko']==0]\n",
    "ax.scatter(ctrl_df['init_speed'],ctrl_df['width'], color='black')\n",
    "r,p = sp.stats.pearsonr(ctrl_df['init_speed'],ctrl_df['width'])\n",
    "print(r,p)\n",
    "\n",
    "fig, ax = plt.subplots()\n",
    "ko_df = df_shifts[df_shifts['ko']==1]\n",
    "ax.scatter(ko_df['init_speed'],ko_df['width'], color='red')\n",
    "r,p = sp.stats.pearsonr(ko_df['init_speed'],ko_df['width'])\n",
    "print(r,p)"
   ]
  },
  {
   "cell_type": "code",
   "execution_count": 71,
   "id": "after-glass",
   "metadata": {},
   "outputs": [
    {
     "name": "stdout",
     "output_type": "stream",
     "text": [
      "          Mixed Linear Model Regression Results\n",
      "=========================================================\n",
      "Model:            MixedLM Dependent Variable: width      \n",
      "No. Observations: 14313   Method:             REML       \n",
      "No. Groups:       10      Scale:              5.5196     \n",
      "Min. group size:  484     Log-Likelihood:     -32586.2064\n",
      "Max. group size:  2073    Converged:          Yes        \n",
      "Mean group size:  1431.3                                 \n",
      "---------------------------------------------------------\n",
      "               Coef.  Std.Err.   z    P>|z| [0.025 0.975]\n",
      "---------------------------------------------------------\n",
      "ko              7.829    2.741  2.856 0.004  2.457 13.201\n",
      "dz              0.218    0.024  8.925 0.000  0.170  0.266\n",
      "ko_x_dz        -0.118    0.041 -2.888 0.004 -0.197 -0.038\n",
      "init_speed      0.471    0.027 17.759 0.000  0.419  0.523\n",
      "ko_x_speed     -0.079    0.048 -1.632 0.103 -0.174  0.016\n",
      "Group Var      37.558    7.268                           \n",
      "=========================================================\n",
      "\n"
     ]
    }
   ],
   "source": [
    "speed_z = sp.stats.zscore(df_shifts['init_speed']._values)\n",
    "df_shifts['init_speed'] = speed_z\n",
    "df_shifts['ko_x_speed'] = speed_z*df_shifts['ko']._values\n",
    "lmm_res = MixedLM(df_shifts['width'], df_shifts[['ko', 'dz', 'ko_x_dz','init_speed', 'ko_x_speed']], df_shifts['mouse'])\n",
    "lmm_resf = lmm_res.fit()\n",
    "print(lmm_resf.summary())\n",
    "\n"
   ]
  },
  {
   "cell_type": "code",
   "execution_count": 74,
   "id": "caring-bargain",
   "metadata": {},
   "outputs": [
    {
     "name": "stdout",
     "output_type": "stream",
     "text": [
      "5.773612624611505 9.079796606599732e-09\n",
      "4.888152400451535 1.095548468597884e-06\n",
      "5.270232628479259 1.4956091386874433e-07\n",
      "5.9048277000737786 4.049025830261659e-09\n",
      "3.509481656130859 0.00045783820864629904\n",
      "1.3679174231110098 0.17142311390123907\n"
     ]
    },
    {
     "data": {
      "image/png": "[encoded data removed]",
      "text/plain": [
       "<Figure size 2160x360 with 6 Axes>"
      ]
     },
     "metadata": {
      "needs_background": "light"
     },
     "output_type": "display_data"
    }
   ],
   "source": [
    "fig,ax = plt.subplots(1,6, figsize = [30,5])\n",
    "\n",
    "bins = np.arange(20)\n",
    "for day in range(6):\n",
    "    ax[day].hist(df_shifts['formation_lap'].loc[(df_shifts['ko']==0) & (df_shifts['day']==day) ],\n",
    "                 bins = bins, color = 'black', alpha = .3, density=True)\n",
    "    ax[day].hist(df_shifts['formation_lap'].loc[(df_shifts['ko']==1) & (df_shifts['day']==day)],\n",
    "                 bins = bins, color = 'red', alpha = .3, density=True)\n",
    "    t,p = sp.stats.ttest_ind(df_shifts['formation_lap'].loc[(df_shifts['ko']==0) & (df_shifts['day']==day)],\n",
    "                             df_shifts['formation_lap'].loc[(df_shifts['ko']==1) & (df_shifts['day']==day)])\n",
    "    print(t,p)"
   ]
  },
  {
   "cell_type": "code",
   "execution_count": 75,
   "id": "fresh-cincinnati",
   "metadata": {},
   "outputs": [
    {
     "name": "stdout",
     "output_type": "stream",
     "text": [
      "           Mixed Linear Model Regression Results\n",
      "===========================================================\n",
      "Model:            MixedLM Dependent Variable: formation_lap\n",
      "No. Observations: 14313   Method:             REML         \n",
      "No. Groups:       10      Scale:              24.8484      \n",
      "Min. group size:  484     Log-Likelihood:     -43328.0547  \n",
      "Max. group size:  2073    Converged:          Yes          \n",
      "Mean group size:  1431.3                                   \n",
      "------------------------------------------------------------\n",
      "              Coef.  Std.Err.    z     P>|z|  [0.025  0.975]\n",
      "------------------------------------------------------------\n",
      "ko            1.501     0.727   2.064  0.039   0.076   2.926\n",
      "dz            0.693     0.051  13.459  0.000   0.592   0.794\n",
      "ko_x_dz       0.225     0.085   2.648  0.008   0.059   0.392\n",
      "Group Var     2.615     0.249                               \n",
      "===========================================================\n",
      "\n"
     ]
    }
   ],
   "source": [
    "lmm_res = MixedLM(df_shifts['formation_lap'], df_shifts[['ko', 'dz', 'ko_x_dz']], df_shifts['mouse'])\n",
    "lmm_resf = lmm_res.fit()\n",
    "print(lmm_resf.summary())"
   ]
  },
  {
   "cell_type": "code",
   "execution_count": null,
   "id": "demographic-absolute",
   "metadata": {},
   "outputs": [],
   "source": []
  }
 ],
 "metadata": {
  "kernelspec": {
   "display_name": "Python 3",
   "language": "python",
   "name": "python3"
  },
  "language_info": {
   "codemirror_mode": {
    "name": "ipython",
    "version": 3
   },
   "file_extension": ".py",
   "mimetype": "text/x-python",
   "name": "python",
   "nbconvert_exporter": "python",
   "pygments_lexer": "ipython3",
   "version": "3.8.8"
  }
 },
 "nbformat": 4,
 "nbformat_minor": 5
}
