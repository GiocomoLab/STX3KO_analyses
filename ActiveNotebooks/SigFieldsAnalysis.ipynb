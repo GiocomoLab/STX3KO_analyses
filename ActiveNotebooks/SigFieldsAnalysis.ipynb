{
 "cells": [
  {
   "cell_type": "code",
   "execution_count": 1,
   "id": "removed-eugene",
   "metadata": {},
   "outputs": [
    {
     "name": "stderr",
     "output_type": "stream",
     "text": [
      "/home/mplitt/anaconda3/envs/STX3_test/lib/python3.8/site-packages/outdated/utils.py:14: OutdatedPackageWarning: The package pingouin is out of date. Your version is 0.3.12, the latest is 0.4.0.\n",
      "Set the environment variable OUTDATED_IGNORE=1 to disable these warnings.\n",
      "  return warn(\n"
     ]
    }
   ],
   "source": [
    "import os\n",
    "from itertools import product\n",
    "\n",
    "import numpy as np\n",
    "import scipy as sp\n",
    "from matplotlib import pyplot as plt\n",
    "from matplotlib import gridspec\n",
    "\n",
    "import pandas as pd\n",
    "from pingouin import mixed_anova, anova, pairwise_tukey, pairwise_ttests\n",
    "from statsmodels.regression.mixed_linear_model import MixedLM\n",
    "\n",
    "import TwoPUtils as tpu\n",
    "import STX3KO_analyses as stx\n",
    "from STX3KO_analyses import utilities as u\n",
    "\n",
    "import sklearn\n",
    "from sklearn.mixture import BayesianGaussianMixture as BGM\n",
    "\n",
    "\n",
    "ko_mice = stx.ymaze_sess_deets.ko_mice\n",
    "ctrl_mice = stx.ymaze_sess_deets.ctrl_mice\n",
    "\n",
    "\n",
    "%matplotlib inline\n",
    "\n",
    "%load_ext autoreload\n",
    "%autoreload 2\n",
    "\n",
    "rng = np.random.default_rng()"
   ]
  },
  {
   "cell_type": "code",
   "execution_count": 2,
   "id": "lasting-blast",
   "metadata": {},
   "outputs": [],
   "source": [
    "\n",
    "figdir = \"/mnt/BigDisk/YMazeResults/neural/field_shifts\"\n",
    "os.makedirs(figdir,exist_ok=True)"
   ]
  },
  {
   "cell_type": "code",
   "execution_count": 3,
   "id": "super-corps",
   "metadata": {},
   "outputs": [],
   "source": [
    "# replication of Losconczy preprint\n",
    "\n",
    "# https://www.biorxiv.org/content/10.1101/2021.07.02.450956v1.full.pdf\n",
    "\n",
    "# and sheffield \n",
    "\n",
    "# https://www-nature-com.stanford.idm.oclc.org/articles/s41467-021-23260-3#Sec8"
   ]
  },
  {
   "cell_type": "code",
   "execution_count": 4,
   "id": "grand-livestock",
   "metadata": {},
   "outputs": [],
   "source": [
    "\n",
    "\n",
    "def get_field_stats(field_mask):\n",
    "#     sigfield_cells = field_mask.sum(axis=0)>0\n",
    "    _field_mask = np.zeros([field_mask.shape[0]+2, field_mask.shape[1]])\n",
    "    _field_mask[1:-1,:]=field_mask\n",
    "#     _field_mask = 1.*field_mask\n",
    "#     _field_mask = _field_mask[:,sigfield_cells]\n",
    "    \n",
    "    rising_edges, falling_edges = np.argwhere((_field_mask[1:,:]>_field_mask[:-1,:]).T), np.argwhere((_field_mask[:-1,:]>_field_mask[1:,:]).T)\n",
    "    field_widths = falling_edges[:,1]-rising_edges[:,1]\n",
    "    \n",
    "#     mask = field_widths>2\n",
    "#     rising_edges, falling_edges, field_widths = rising_edges[mask,:], falling_edges[mask,:], field_widths[mask]\n",
    "    \n",
    "    num_fields = np.bincount(rising_edges[:,0])\n",
    "    \n",
    "#     num_fields = (_field_mask[1:, :]>_field_mask[:-1, :]).sum(axis=0)\n",
    "    \n",
    "    return rising_edges, falling_edges, field_widths, num_fields\n",
    "    \n",
    "    \n",
    "\n",
    "def field_masks(sess, n_perms = 1000, pcnt = 99):\n",
    "    \n",
    "    \n",
    "    \n",
    "    def _run_fields(nov):\n",
    "        if nov:\n",
    "            trial_mask = sess.trial_info['LR']==sess.novel_arm\n",
    "        else:\n",
    "            trial_mask = sess.trial_info['LR']== -1*sess.novel_arm\n",
    "        shuff_mat = np.zeros([1000, *sess.trial_matrices['spks'].shape[1:]])\n",
    "        trial_mat = sess.trial_matrices['spks'][trial_mask,:,:]\n",
    "        n_trials = trial_mat.shape[0]\n",
    "        \n",
    "        shuffs = rng.integers(trial_mat.shape[1], size = [n_perms, trial_mat.shape[0]])\n",
    "        \n",
    "        # calculate shuffles\n",
    "        _tmat = 0*trial_mat\n",
    "        for perm in range(n_perms):\n",
    "            for trial in range(n_trials):\n",
    "                _tmat[trial,:,:] = np.roll(trial_mat[trial,:,:], shuffs[perm, trial])\n",
    "            shuff_mat[perm,:,:] = np.nanmean(_tmat, axis=0)\n",
    "            \n",
    "        thresh = np.nanpercentile(shuff_mat,pcnt, axis=0)\n",
    "        field_mask = 1*(np.nanmean(trial_mat,axis=0)>thresh)\n",
    "        rising_edges, falling_edges, field_widths, num_fields = get_field_stats(field_mask)\n",
    "        return {'field_mask': field_mask, \n",
    "                'rising_edges': rising_edges, \n",
    "                'falling_edges': falling_edges, \n",
    "                'field_widths': field_widths,\n",
    "                'num_fields': num_fields}\n",
    "    \n",
    "    return {'fam': _run_fields(False), 'nov': _run_fields(True)}\n",
    "\n",
    "\n"
   ]
  },
  {
   "cell_type": "code",
   "execution_count": 5,
   "id": "small-absence",
   "metadata": {
    "collapsed": true,
    "jupyter": {
     "outputs_hidden": true
    }
   },
   "outputs": [
    {
     "name": "stdout",
     "output_type": "stream",
     "text": [
      "{'date': '28_09_2020', 'scene': 'YMaze_LNovel', 'session': 6, 'scan': 14, 'novel_arm': -1, 'ravel_ind': 1}\n"
     ]
    },
    {
     "name": "stderr",
     "output_type": "stream",
     "text": [
      "/home/mplitt/repos/TwoPUtils/TwoPUtils/sess.py:95: UserWarning: skipping checking keys, remaining initialization not guaranteed to work\n",
      "  warnings.warn(\"skipping checking keys, remaining initialization not guaranteed to work\")\n",
      "/home/mplitt/repos/TwoPUtils/TwoPUtils/sess.py:227: UserWarning: Could not find sbxmat file at /mnt/BigDisk/2P_scratch/4467975.1/28_09_2020/YMaze_LNovel/YMaze_LNovel_006_014.mat\n",
      "  warnings.warn(\"Could not find sbxmat file at %s\" % self.scanheader_file)\n",
      "/home/mplitt/repos/TwoPUtils/TwoPUtils/sess.py:236: UserWarning: Could not find sbx file at /mnt/BigDisk/2P_scratch/4467975.1/28_09_2020/YMaze_LNovel/YMaze_LNovel_006_014.sbx\n",
      "  warnings.warn(\"Could not find sbx file at %s\" % self.scan_file)\n"
     ]
    },
    {
     "ename": "KeyboardInterrupt",
     "evalue": "",
     "output_type": "error",
     "traceback": [
      "\u001b[0;31m---------------------------------------------------------------------------\u001b[0m",
      "\u001b[0;31mKeyboardInterrupt\u001b[0m                         Traceback (most recent call last)",
      "\u001b[0;32m<ipython-input-5-ca7f004d9e3e>\u001b[0m in \u001b[0;36m<module>\u001b[0;34m\u001b[0m\n\u001b[1;32m      1\u001b[0m \u001b[0mfield_masks_loop\u001b[0m \u001b[0;34m=\u001b[0m \u001b[0mu\u001b[0m\u001b[0;34m.\u001b[0m\u001b[0mloop_func_over_days\u001b[0m\u001b[0;34m(\u001b[0m\u001b[0mfield_masks\u001b[0m\u001b[0;34m,\u001b[0m \u001b[0mnp\u001b[0m\u001b[0;34m.\u001b[0m\u001b[0marange\u001b[0m\u001b[0;34m(\u001b[0m\u001b[0;36m6\u001b[0m\u001b[0;34m)\u001b[0m\u001b[0;34m)\u001b[0m\u001b[0;34m\u001b[0m\u001b[0;34m\u001b[0m\u001b[0m\n\u001b[0;32m----> 2\u001b[0;31m \u001b[0mko_field_mask_res\u001b[0m \u001b[0;34m=\u001b[0m \u001b[0;34m{\u001b[0m\u001b[0mmouse\u001b[0m\u001b[0;34m:\u001b[0m\u001b[0mfield_masks_loop\u001b[0m\u001b[0;34m(\u001b[0m\u001b[0mmouse\u001b[0m\u001b[0;34m)\u001b[0m \u001b[0;32mfor\u001b[0m \u001b[0mmouse\u001b[0m \u001b[0;32min\u001b[0m \u001b[0mko_mice\u001b[0m\u001b[0;34m}\u001b[0m\u001b[0;34m\u001b[0m\u001b[0;34m\u001b[0m\u001b[0m\n\u001b[0m\u001b[1;32m      3\u001b[0m \u001b[0mctrl_field_mask_res\u001b[0m \u001b[0;34m=\u001b[0m \u001b[0;34m{\u001b[0m\u001b[0mmouse\u001b[0m\u001b[0;34m:\u001b[0m\u001b[0mfield_masks_loop\u001b[0m\u001b[0;34m(\u001b[0m\u001b[0mmouse\u001b[0m\u001b[0;34m)\u001b[0m \u001b[0;32mfor\u001b[0m \u001b[0mmouse\u001b[0m \u001b[0;32min\u001b[0m \u001b[0mctrl_mice\u001b[0m\u001b[0;34m}\u001b[0m\u001b[0;34m\u001b[0m\u001b[0;34m\u001b[0m\u001b[0m\n",
      "\u001b[0;32m<ipython-input-5-ca7f004d9e3e>\u001b[0m in \u001b[0;36m<dictcomp>\u001b[0;34m(.0)\u001b[0m\n\u001b[1;32m      1\u001b[0m \u001b[0mfield_masks_loop\u001b[0m \u001b[0;34m=\u001b[0m \u001b[0mu\u001b[0m\u001b[0;34m.\u001b[0m\u001b[0mloop_func_over_days\u001b[0m\u001b[0;34m(\u001b[0m\u001b[0mfield_masks\u001b[0m\u001b[0;34m,\u001b[0m \u001b[0mnp\u001b[0m\u001b[0;34m.\u001b[0m\u001b[0marange\u001b[0m\u001b[0;34m(\u001b[0m\u001b[0;36m6\u001b[0m\u001b[0;34m)\u001b[0m\u001b[0;34m)\u001b[0m\u001b[0;34m\u001b[0m\u001b[0;34m\u001b[0m\u001b[0m\n\u001b[0;32m----> 2\u001b[0;31m \u001b[0mko_field_mask_res\u001b[0m \u001b[0;34m=\u001b[0m \u001b[0;34m{\u001b[0m\u001b[0mmouse\u001b[0m\u001b[0;34m:\u001b[0m\u001b[0mfield_masks_loop\u001b[0m\u001b[0;34m(\u001b[0m\u001b[0mmouse\u001b[0m\u001b[0;34m)\u001b[0m \u001b[0;32mfor\u001b[0m \u001b[0mmouse\u001b[0m \u001b[0;32min\u001b[0m \u001b[0mko_mice\u001b[0m\u001b[0;34m}\u001b[0m\u001b[0;34m\u001b[0m\u001b[0;34m\u001b[0m\u001b[0m\n\u001b[0m\u001b[1;32m      3\u001b[0m \u001b[0mctrl_field_mask_res\u001b[0m \u001b[0;34m=\u001b[0m \u001b[0;34m{\u001b[0m\u001b[0mmouse\u001b[0m\u001b[0;34m:\u001b[0m\u001b[0mfield_masks_loop\u001b[0m\u001b[0;34m(\u001b[0m\u001b[0mmouse\u001b[0m\u001b[0;34m)\u001b[0m \u001b[0;32mfor\u001b[0m \u001b[0mmouse\u001b[0m \u001b[0;32min\u001b[0m \u001b[0mctrl_mice\u001b[0m\u001b[0;34m}\u001b[0m\u001b[0;34m\u001b[0m\u001b[0;34m\u001b[0m\u001b[0m\n",
      "\u001b[0;32m~/repos/STX3KO_analyses/STX3KO_analyses/utilities.py\u001b[0m in \u001b[0;36m<lambda>\u001b[0;34m(mouse)\u001b[0m\n\u001b[1;32m     10\u001b[0m \u001b[0;34m\u001b[0m\u001b[0m\n\u001b[1;32m     11\u001b[0m \u001b[0;32mdef\u001b[0m \u001b[0mloop_func_over_days\u001b[0m\u001b[0;34m(\u001b[0m\u001b[0mfunc\u001b[0m\u001b[0;34m,\u001b[0m \u001b[0mdays\u001b[0m\u001b[0;34m,\u001b[0m \u001b[0;34m**\u001b[0m\u001b[0mkwargs\u001b[0m\u001b[0;34m)\u001b[0m\u001b[0;34m:\u001b[0m\u001b[0;34m\u001b[0m\u001b[0;34m\u001b[0m\u001b[0m\n\u001b[0;32m---> 12\u001b[0;31m     \u001b[0;32mreturn\u001b[0m \u001b[0;32mlambda\u001b[0m \u001b[0mmouse\u001b[0m\u001b[0;34m:\u001b[0m \u001b[0;34m[\u001b[0m\u001b[0mfunc\u001b[0m\u001b[0;34m(\u001b[0m\u001b[0mload_single_day\u001b[0m\u001b[0;34m(\u001b[0m\u001b[0mmouse\u001b[0m\u001b[0;34m,\u001b[0m \u001b[0mday\u001b[0m\u001b[0;34m)\u001b[0m\u001b[0;34m,\u001b[0m \u001b[0;34m**\u001b[0m\u001b[0mkwargs\u001b[0m\u001b[0;34m)\u001b[0m \u001b[0;32mfor\u001b[0m \u001b[0mday\u001b[0m \u001b[0;32min\u001b[0m \u001b[0mdays\u001b[0m\u001b[0;34m]\u001b[0m\u001b[0;34m\u001b[0m\u001b[0;34m\u001b[0m\u001b[0m\n\u001b[0m\u001b[1;32m     13\u001b[0m \u001b[0;34m\u001b[0m\u001b[0m\n\u001b[1;32m     14\u001b[0m \u001b[0;34m\u001b[0m\u001b[0m\n",
      "\u001b[0;32m~/repos/STX3KO_analyses/STX3KO_analyses/utilities.py\u001b[0m in \u001b[0;36m<listcomp>\u001b[0;34m(.0)\u001b[0m\n\u001b[1;32m     10\u001b[0m \u001b[0;34m\u001b[0m\u001b[0m\n\u001b[1;32m     11\u001b[0m \u001b[0;32mdef\u001b[0m \u001b[0mloop_func_over_days\u001b[0m\u001b[0;34m(\u001b[0m\u001b[0mfunc\u001b[0m\u001b[0;34m,\u001b[0m \u001b[0mdays\u001b[0m\u001b[0;34m,\u001b[0m \u001b[0;34m**\u001b[0m\u001b[0mkwargs\u001b[0m\u001b[0;34m)\u001b[0m\u001b[0;34m:\u001b[0m\u001b[0;34m\u001b[0m\u001b[0;34m\u001b[0m\u001b[0m\n\u001b[0;32m---> 12\u001b[0;31m     \u001b[0;32mreturn\u001b[0m \u001b[0;32mlambda\u001b[0m \u001b[0mmouse\u001b[0m\u001b[0;34m:\u001b[0m \u001b[0;34m[\u001b[0m\u001b[0mfunc\u001b[0m\u001b[0;34m(\u001b[0m\u001b[0mload_single_day\u001b[0m\u001b[0;34m(\u001b[0m\u001b[0mmouse\u001b[0m\u001b[0;34m,\u001b[0m \u001b[0mday\u001b[0m\u001b[0;34m)\u001b[0m\u001b[0;34m,\u001b[0m \u001b[0;34m**\u001b[0m\u001b[0mkwargs\u001b[0m\u001b[0;34m)\u001b[0m \u001b[0;32mfor\u001b[0m \u001b[0mday\u001b[0m \u001b[0;32min\u001b[0m \u001b[0mdays\u001b[0m\u001b[0;34m]\u001b[0m\u001b[0;34m\u001b[0m\u001b[0;34m\u001b[0m\u001b[0m\n\u001b[0m\u001b[1;32m     13\u001b[0m \u001b[0;34m\u001b[0m\u001b[0m\n\u001b[1;32m     14\u001b[0m \u001b[0;34m\u001b[0m\u001b[0m\n",
      "\u001b[0;32m<ipython-input-4-7cf55189130c>\u001b[0m in \u001b[0;36mfield_masks\u001b[0;34m(sess, n_perms, pcnt)\u001b[0m\n\u001b[1;32m     51\u001b[0m                 'num_fields': num_fields}\n\u001b[1;32m     52\u001b[0m \u001b[0;34m\u001b[0m\u001b[0m\n\u001b[0;32m---> 53\u001b[0;31m     \u001b[0;32mreturn\u001b[0m \u001b[0;34m{\u001b[0m\u001b[0;34m'fam'\u001b[0m\u001b[0;34m:\u001b[0m \u001b[0m_run_fields\u001b[0m\u001b[0;34m(\u001b[0m\u001b[0;32mFalse\u001b[0m\u001b[0;34m)\u001b[0m\u001b[0;34m,\u001b[0m \u001b[0;34m'nov'\u001b[0m\u001b[0;34m:\u001b[0m \u001b[0m_run_fields\u001b[0m\u001b[0;34m(\u001b[0m\u001b[0;32mTrue\u001b[0m\u001b[0;34m)\u001b[0m\u001b[0;34m}\u001b[0m\u001b[0;34m\u001b[0m\u001b[0;34m\u001b[0m\u001b[0m\n\u001b[0m\u001b[1;32m     54\u001b[0m \u001b[0;34m\u001b[0m\u001b[0m\n\u001b[1;32m     55\u001b[0m \u001b[0;34m\u001b[0m\u001b[0m\n",
      "\u001b[0;32m<ipython-input-4-7cf55189130c>\u001b[0m in \u001b[0;36m_run_fields\u001b[0;34m(nov)\u001b[0m\n\u001b[1;32m     40\u001b[0m             \u001b[0;32mfor\u001b[0m \u001b[0mtrial\u001b[0m \u001b[0;32min\u001b[0m \u001b[0mrange\u001b[0m\u001b[0;34m(\u001b[0m\u001b[0mn_trials\u001b[0m\u001b[0;34m)\u001b[0m\u001b[0;34m:\u001b[0m\u001b[0;34m\u001b[0m\u001b[0;34m\u001b[0m\u001b[0m\n\u001b[1;32m     41\u001b[0m                 \u001b[0m_tmat\u001b[0m\u001b[0;34m[\u001b[0m\u001b[0mtrial\u001b[0m\u001b[0;34m,\u001b[0m\u001b[0;34m:\u001b[0m\u001b[0;34m,\u001b[0m\u001b[0;34m:\u001b[0m\u001b[0;34m]\u001b[0m \u001b[0;34m=\u001b[0m \u001b[0mnp\u001b[0m\u001b[0;34m.\u001b[0m\u001b[0mroll\u001b[0m\u001b[0;34m(\u001b[0m\u001b[0mtrial_mat\u001b[0m\u001b[0;34m[\u001b[0m\u001b[0mtrial\u001b[0m\u001b[0;34m,\u001b[0m\u001b[0;34m:\u001b[0m\u001b[0;34m,\u001b[0m\u001b[0;34m:\u001b[0m\u001b[0;34m]\u001b[0m\u001b[0;34m,\u001b[0m \u001b[0mshuffs\u001b[0m\u001b[0;34m[\u001b[0m\u001b[0mperm\u001b[0m\u001b[0;34m,\u001b[0m \u001b[0mtrial\u001b[0m\u001b[0;34m]\u001b[0m\u001b[0;34m)\u001b[0m\u001b[0;34m\u001b[0m\u001b[0;34m\u001b[0m\u001b[0m\n\u001b[0;32m---> 42\u001b[0;31m             \u001b[0mshuff_mat\u001b[0m\u001b[0;34m[\u001b[0m\u001b[0mperm\u001b[0m\u001b[0;34m,\u001b[0m\u001b[0;34m:\u001b[0m\u001b[0;34m,\u001b[0m\u001b[0;34m:\u001b[0m\u001b[0;34m]\u001b[0m \u001b[0;34m=\u001b[0m \u001b[0mnp\u001b[0m\u001b[0;34m.\u001b[0m\u001b[0mnanmean\u001b[0m\u001b[0;34m(\u001b[0m\u001b[0m_tmat\u001b[0m\u001b[0;34m,\u001b[0m \u001b[0maxis\u001b[0m\u001b[0;34m=\u001b[0m\u001b[0;36m0\u001b[0m\u001b[0;34m)\u001b[0m\u001b[0;34m\u001b[0m\u001b[0;34m\u001b[0m\u001b[0m\n\u001b[0m\u001b[1;32m     43\u001b[0m \u001b[0;34m\u001b[0m\u001b[0m\n\u001b[1;32m     44\u001b[0m         \u001b[0mthresh\u001b[0m \u001b[0;34m=\u001b[0m \u001b[0mnp\u001b[0m\u001b[0;34m.\u001b[0m\u001b[0mnanpercentile\u001b[0m\u001b[0;34m(\u001b[0m\u001b[0mshuff_mat\u001b[0m\u001b[0;34m,\u001b[0m\u001b[0mpcnt\u001b[0m\u001b[0;34m,\u001b[0m \u001b[0maxis\u001b[0m\u001b[0;34m=\u001b[0m\u001b[0;36m0\u001b[0m\u001b[0;34m)\u001b[0m\u001b[0;34m\u001b[0m\u001b[0;34m\u001b[0m\u001b[0m\n",
      "\u001b[0;32m<__array_function__ internals>\u001b[0m in \u001b[0;36mnanmean\u001b[0;34m(*args, **kwargs)\u001b[0m\n",
      "\u001b[0;32m~/anaconda3/envs/STX3_test/lib/python3.8/site-packages/numpy/lib/nanfunctions.py\u001b[0m in \u001b[0;36mnanmean\u001b[0;34m(a, axis, dtype, out, keepdims)\u001b[0m\n\u001b[1;32m    947\u001b[0m \u001b[0;34m\u001b[0m\u001b[0m\n\u001b[1;32m    948\u001b[0m     \u001b[0mcnt\u001b[0m \u001b[0;34m=\u001b[0m \u001b[0mnp\u001b[0m\u001b[0;34m.\u001b[0m\u001b[0msum\u001b[0m\u001b[0;34m(\u001b[0m\u001b[0;34m~\u001b[0m\u001b[0mmask\u001b[0m\u001b[0;34m,\u001b[0m \u001b[0maxis\u001b[0m\u001b[0;34m=\u001b[0m\u001b[0maxis\u001b[0m\u001b[0;34m,\u001b[0m \u001b[0mdtype\u001b[0m\u001b[0;34m=\u001b[0m\u001b[0mnp\u001b[0m\u001b[0;34m.\u001b[0m\u001b[0mintp\u001b[0m\u001b[0;34m,\u001b[0m \u001b[0mkeepdims\u001b[0m\u001b[0;34m=\u001b[0m\u001b[0mkeepdims\u001b[0m\u001b[0;34m)\u001b[0m\u001b[0;34m\u001b[0m\u001b[0;34m\u001b[0m\u001b[0m\n\u001b[0;32m--> 949\u001b[0;31m     \u001b[0mtot\u001b[0m \u001b[0;34m=\u001b[0m \u001b[0mnp\u001b[0m\u001b[0;34m.\u001b[0m\u001b[0msum\u001b[0m\u001b[0;34m(\u001b[0m\u001b[0marr\u001b[0m\u001b[0;34m,\u001b[0m \u001b[0maxis\u001b[0m\u001b[0;34m=\u001b[0m\u001b[0maxis\u001b[0m\u001b[0;34m,\u001b[0m \u001b[0mdtype\u001b[0m\u001b[0;34m=\u001b[0m\u001b[0mdtype\u001b[0m\u001b[0;34m,\u001b[0m \u001b[0mout\u001b[0m\u001b[0;34m=\u001b[0m\u001b[0mout\u001b[0m\u001b[0;34m,\u001b[0m \u001b[0mkeepdims\u001b[0m\u001b[0;34m=\u001b[0m\u001b[0mkeepdims\u001b[0m\u001b[0;34m)\u001b[0m\u001b[0;34m\u001b[0m\u001b[0;34m\u001b[0m\u001b[0m\n\u001b[0m\u001b[1;32m    950\u001b[0m     \u001b[0mavg\u001b[0m \u001b[0;34m=\u001b[0m \u001b[0m_divide_by_count\u001b[0m\u001b[0;34m(\u001b[0m\u001b[0mtot\u001b[0m\u001b[0;34m,\u001b[0m \u001b[0mcnt\u001b[0m\u001b[0;34m,\u001b[0m \u001b[0mout\u001b[0m\u001b[0;34m=\u001b[0m\u001b[0mout\u001b[0m\u001b[0;34m)\u001b[0m\u001b[0;34m\u001b[0m\u001b[0;34m\u001b[0m\u001b[0m\n\u001b[1;32m    951\u001b[0m \u001b[0;34m\u001b[0m\u001b[0m\n",
      "\u001b[0;32m<__array_function__ internals>\u001b[0m in \u001b[0;36msum\u001b[0;34m(*args, **kwargs)\u001b[0m\n",
      "\u001b[0;32m~/anaconda3/envs/STX3_test/lib/python3.8/site-packages/numpy/core/fromnumeric.py\u001b[0m in \u001b[0;36msum\u001b[0;34m(a, axis, dtype, out, keepdims, initial, where)\u001b[0m\n\u001b[1;32m   2239\u001b[0m         \u001b[0;32mreturn\u001b[0m \u001b[0mres\u001b[0m\u001b[0;34m\u001b[0m\u001b[0;34m\u001b[0m\u001b[0m\n\u001b[1;32m   2240\u001b[0m \u001b[0;34m\u001b[0m\u001b[0m\n\u001b[0;32m-> 2241\u001b[0;31m     return _wrapreduction(a, np.add, 'sum', axis, dtype, out, keepdims=keepdims,\n\u001b[0m\u001b[1;32m   2242\u001b[0m                           initial=initial, where=where)\n\u001b[1;32m   2243\u001b[0m \u001b[0;34m\u001b[0m\u001b[0m\n",
      "\u001b[0;32m~/anaconda3/envs/STX3_test/lib/python3.8/site-packages/numpy/core/fromnumeric.py\u001b[0m in \u001b[0;36m_wrapreduction\u001b[0;34m(obj, ufunc, method, axis, dtype, out, **kwargs)\u001b[0m\n\u001b[1;32m     85\u001b[0m                 \u001b[0;32mreturn\u001b[0m \u001b[0mreduction\u001b[0m\u001b[0;34m(\u001b[0m\u001b[0maxis\u001b[0m\u001b[0;34m=\u001b[0m\u001b[0maxis\u001b[0m\u001b[0;34m,\u001b[0m \u001b[0mout\u001b[0m\u001b[0;34m=\u001b[0m\u001b[0mout\u001b[0m\u001b[0;34m,\u001b[0m \u001b[0;34m**\u001b[0m\u001b[0mpasskwargs\u001b[0m\u001b[0;34m)\u001b[0m\u001b[0;34m\u001b[0m\u001b[0;34m\u001b[0m\u001b[0m\n\u001b[1;32m     86\u001b[0m \u001b[0;34m\u001b[0m\u001b[0m\n\u001b[0;32m---> 87\u001b[0;31m     \u001b[0;32mreturn\u001b[0m \u001b[0mufunc\u001b[0m\u001b[0;34m.\u001b[0m\u001b[0mreduce\u001b[0m\u001b[0;34m(\u001b[0m\u001b[0mobj\u001b[0m\u001b[0;34m,\u001b[0m \u001b[0maxis\u001b[0m\u001b[0;34m,\u001b[0m \u001b[0mdtype\u001b[0m\u001b[0;34m,\u001b[0m \u001b[0mout\u001b[0m\u001b[0;34m,\u001b[0m \u001b[0;34m**\u001b[0m\u001b[0mpasskwargs\u001b[0m\u001b[0;34m)\u001b[0m\u001b[0;34m\u001b[0m\u001b[0;34m\u001b[0m\u001b[0m\n\u001b[0m\u001b[1;32m     88\u001b[0m \u001b[0;34m\u001b[0m\u001b[0m\n\u001b[1;32m     89\u001b[0m \u001b[0;34m\u001b[0m\u001b[0m\n",
      "\u001b[0;31mKeyboardInterrupt\u001b[0m: "
     ]
    }
   ],
   "source": [
    "field_masks_loop = u.loop_func_over_days(field_masks, np.arange(6))\n",
    "ko_field_mask_res = {mouse:field_masks_loop(mouse) for mouse in ko_mice}\n",
    "ctrl_field_mask_res = {mouse:field_masks_loop(mouse) for mouse in ctrl_mice}"
   ]
  },
  {
   "cell_type": "code",
   "execution_count": 6,
   "id": "cordless-hybrid",
   "metadata": {},
   "outputs": [],
   "source": [
    "np.save('place_field_stats.npy', {'ctrl': ctrl_field_mask_res, 'ko': ko_field_mask_res})"
   ]
  },
  {
   "cell_type": "code",
   "execution_count": 5,
   "id": "funded-partner",
   "metadata": {},
   "outputs": [],
   "source": [
    "_res = np.load(\"./place_field_stats.npy\", allow_pickle=True).all()\n",
    "ko_field_mask_res, ctrl_field_mask_res = _res['ko'], _res['ctrl']"
   ]
  },
  {
   "cell_type": "code",
   "execution_count": 6,
   "id": "sporting-hollow",
   "metadata": {},
   "outputs": [
    {
     "name": "stdout",
     "output_type": "stream",
     "text": [
      "[0.         0.28265825 0.22321585 0.17008592 0.10625986 0.07417149\n",
      " 0.04541469 0.03051026 0.02454848 0.01367701 0.0117482  0.00859197\n",
      " 0.00333158 0.00578643]\n"
     ]
    },
    {
     "data": {
      "text/plain": [
       "[<matplotlib.lines.Line2D at 0x7fd0aa0d6130>]"
      ]
     },
     "execution_count": 6,
     "metadata": {},
     "output_type": "execute_result"
    },
    {
     "data": {
      "image/png": "[encoded data removed]",
      "text/plain": [
       "<Figure size 432x288 with 1 Axes>"
      ]
     },
     "metadata": {
      "needs_background": "light"
     },
     "output_type": "display_data"
    },
    {
     "data": {
      "image/png": "[encoded data removed]",
      "text/plain": [
       "<Figure size 432x288 with 1 Axes>"
      ]
     },
     "metadata": {
      "needs_background": "light"
     },
     "output_type": "display_data"
    }
   ],
   "source": [
    "fig, ax = plt.subplots()\n",
    "fig_cum, ax_cum = plt.subplots()\n",
    "day = 0\n",
    "\n",
    "ctrl_fw = []\n",
    "for mouse in ctrl_mice:\n",
    "    ctrl_fw.append(ctrl_field_mask_res[mouse][day]['fam']['field_widths'])\n",
    "ctrl_fw = np.concatenate(ctrl_fw)\n",
    "\n",
    "hist, bins, _ = ax.hist(ctrl_fw, bins = np.arange(15), color='black', alpha = .3, density=True)\n",
    "ax_cum.plot(bins[1:], np.cumsum(hist), color= 'black')\n",
    "\n",
    "ko_fw = []\n",
    "for mouse in ko_mice:\n",
    "    ko_fw.append(ko_field_mask_res[mouse][day]['fam']['field_widths'])\n",
    "ko_fw = np.concatenate(ko_fw)\n",
    "\n",
    "hist, bins, _ = ax.hist(ko_fw, bins = np.arange(15), color = 'red', alpha = .3,density=True)\n",
    "print(hist)\n",
    "\n",
    "\n",
    "ax_cum.plot(bins[1:], np.cumsum(hist), color='red')"
   ]
  },
  {
   "cell_type": "code",
   "execution_count": 7,
   "id": "disturbed-heath",
   "metadata": {},
   "outputs": [
    {
     "data": {
      "text/plain": [
       "[<matplotlib.lines.Line2D at 0x7fd0a9f334f0>]"
      ]
     },
     "execution_count": 7,
     "metadata": {},
     "output_type": "execute_result"
    },
    {
     "data": {
      "image/png": "[encoded data removed]",
      "text/plain": [
       "<Figure size 432x288 with 1 Axes>"
      ]
     },
     "metadata": {
      "needs_background": "light"
     },
     "output_type": "display_data"
    },
    {
     "data": {
      "image/png": "[encoded data removed]",
      "text/plain": [
       "<Figure size 432x288 with 1 Axes>"
      ]
     },
     "metadata": {
      "needs_background": "light"
     },
     "output_type": "display_data"
    }
   ],
   "source": [
    "fig, ax = plt.subplots()\n",
    "fig_cum, ax_cum = plt.subplots()\n",
    "day = 0\n",
    "\n",
    "ctrl_fw = []\n",
    "for mouse in ctrl_mice:\n",
    "    ctrl_fw.append(ctrl_field_mask_res[mouse][day]['fam']['num_fields'])\n",
    "ctrl_fw = np.concatenate(ctrl_fw)\n",
    "\n",
    "hist, bins, _ = ax.hist(ctrl_fw[ctrl_fw>0], bins = np.arange(5), color='black', alpha = .3, density=True)\n",
    "ax_cum.plot(bins[1:], np.cumsum(hist), color='black')\n",
    "\n",
    "ko_fw = []\n",
    "for mouse in ko_mice:\n",
    "    ko_fw.append(ko_field_mask_res[mouse][day]['fam']['num_fields'])\n",
    "ko_fw = np.concatenate(ko_fw)\n",
    "\n",
    "hist, bins, _ = ax.hist(ko_fw[ko_fw>0], bins = np.arange(5), color = 'red', alpha = .3,density=True)\n",
    "ax_cum.plot(bins[1:], np.cumsum(hist), color='red')"
   ]
  },
  {
   "cell_type": "code",
   "execution_count": 8,
   "id": "formal-charleston",
   "metadata": {},
   "outputs": [
    {
     "name": "stdout",
     "output_type": "stream",
     "text": [
      "{'date': '29_11_2020', 'scene': 'YMaze_LNovel', 'session': 1, 'scan': 3, 'novel_arm': -1, 'ravel_ind': 0}\n",
      "{'date': '29_11_2020', 'scene': 'YMaze_LNovel', 'session': 1, 'scan': 4, 'novel_arm': 1, 'ravel_ind': 0}\n",
      "{'date': '29_11_2020', 'scene': 'YMaze_LNovel', 'session': 1, 'scan': 8, 'novel_arm': -1, 'ravel_ind': 0}\n",
      "{'date': '29_11_2020', 'scene': 'YMaze_LNovel', 'session': 2, 'scan': 18, 'novel_arm': 1, 'ravel_ind': 1}\n",
      "{'date': '29_11_2020', 'scene': 'YMaze_LNovel', 'session': 1, 'scan': 4, 'novel_arm': -1, 'ravel_ind': 0}\n",
      "{'date': '28_09_2020', 'scene': 'YMaze_LNovel', 'session': 6, 'scan': 14, 'novel_arm': -1, 'ravel_ind': 1}\n"
     ]
    },
    {
     "name": "stderr",
     "output_type": "stream",
     "text": [
      "/home/mplitt/repos/TwoPUtils/TwoPUtils/sess.py:95: UserWarning: skipping checking keys, remaining initialization not guaranteed to work\n",
      "  warnings.warn(\"skipping checking keys, remaining initialization not guaranteed to work\")\n",
      "/home/mplitt/repos/TwoPUtils/TwoPUtils/sess.py:227: UserWarning: Could not find sbxmat file at /mnt/BigDisk/2P_scratch/4467975.1/28_09_2020/YMaze_LNovel/YMaze_LNovel_006_014.mat\n",
      "  warnings.warn(\"Could not find sbxmat file at %s\" % self.scanheader_file)\n",
      "/home/mplitt/repos/TwoPUtils/TwoPUtils/sess.py:236: UserWarning: Could not find sbx file at /mnt/BigDisk/2P_scratch/4467975.1/28_09_2020/YMaze_LNovel/YMaze_LNovel_006_014.sbx\n",
      "  warnings.warn(\"Could not find sbx file at %s\" % self.scan_file)\n"
     ]
    },
    {
     "name": "stdout",
     "output_type": "stream",
     "text": [
      "{'date': '28_09_2020', 'scene': 'YMaze_LNovel', 'session': 3, 'scan': 8, 'novel_arm': 1, 'ravel_ind': 0}\n"
     ]
    },
    {
     "name": "stderr",
     "output_type": "stream",
     "text": [
      "/home/mplitt/repos/TwoPUtils/TwoPUtils/sess.py:227: UserWarning: Could not find sbxmat file at /mnt/BigDisk/2P_scratch/4467975.2/28_09_2020/YMaze_LNovel/YMaze_LNovel_003_008.mat\n",
      "  warnings.warn(\"Could not find sbxmat file at %s\" % self.scanheader_file)\n",
      "/home/mplitt/repos/TwoPUtils/TwoPUtils/sess.py:236: UserWarning: Could not find sbx file at /mnt/BigDisk/2P_scratch/4467975.2/28_09_2020/YMaze_LNovel/YMaze_LNovel_003_008.sbx\n",
      "  warnings.warn(\"Could not find sbx file at %s\" % self.scan_file)\n"
     ]
    },
    {
     "name": "stdout",
     "output_type": "stream",
     "text": [
      "{'date': '28_09_2020', 'scene': 'YMaze_LNovel', 'session': 1, 'scan': 4, 'novel_arm': -1, 'ravel_ind': 0}\n"
     ]
    },
    {
     "name": "stderr",
     "output_type": "stream",
     "text": [
      "/home/mplitt/repos/TwoPUtils/TwoPUtils/sess.py:227: UserWarning: Could not find sbxmat file at /mnt/BigDisk/2P_scratch/4467975.3/28_09_2020/YMaze_LNovel/YMaze_LNovel_001_004.mat\n",
      "  warnings.warn(\"Could not find sbxmat file at %s\" % self.scanheader_file)\n",
      "/home/mplitt/repos/TwoPUtils/TwoPUtils/sess.py:236: UserWarning: Could not find sbx file at /mnt/BigDisk/2P_scratch/4467975.3/28_09_2020/YMaze_LNovel/YMaze_LNovel_001_004.sbx\n",
      "  warnings.warn(\"Could not find sbx file at %s\" % self.scan_file)\n"
     ]
    },
    {
     "name": "stdout",
     "output_type": "stream",
     "text": [
      "{'date': '28_09_2020', 'scene': 'YMaze_LNovel', 'session': 1, 'scan': 5, 'novel_arm': 1, 'ravel_ind': 0}\n",
      "{'date': '28_09_2020', 'scene': 'YMaze_LNovel', 'session': 1, 'scan': 4, 'novel_arm': -1, 'ravel_ind': 0}\n",
      "{'date': '30_11_2020', 'scene': 'YMaze_LNovel', 'session': 1, 'scan': 7, 'novel_arm': -1, 'ravel_ind': 1}\n",
      "{'date': '30_11_2020', 'scene': 'YMaze_LNovel', 'session': 1, 'scan': 4, 'novel_arm': 1, 'ravel_ind': 1}\n",
      "{'date': '30_11_2020', 'scene': 'YMaze_LNovel', 'session': 1, 'scan': 4, 'novel_arm': -1, 'ravel_ind': 1}\n",
      "({'date': '30_11_2020', 'scene': 'YMaze_LNovel', 'session': 1, 'scan': 4, 'novel_arm': 1, 'ravel_ind': 2}, {'date': '30_11_2020', 'scene': 'YMaze_LNovel', 'session': 3, 'scan': 9, 'novel_arm': 1, 'ravel_ind': 3})\n",
      "30_11_2020 YMaze_LNovel\n",
      "30_11_2020 YMaze_LNovel\n",
      "['LR', 'block_number', 'sess_num_ravel', 'sess_num']\n",
      "['LR', 'block_number', 'sess_num_ravel', 'sess_num']\n",
      "{'date': '30_11_2020', 'scene': 'YMaze_LNovel', 'session': 1, 'scan': 6, 'novel_arm': -1, 'ravel_ind': 1}\n",
      "{'date': '29_09_2020', 'scene': 'YMaze_LNovel', 'session': 1, 'scan': 3, 'novel_arm': -1, 'ravel_ind': 2}\n"
     ]
    },
    {
     "name": "stderr",
     "output_type": "stream",
     "text": [
      "/home/mplitt/repos/TwoPUtils/TwoPUtils/sess.py:95: UserWarning: skipping checking keys, remaining initialization not guaranteed to work\n",
      "  warnings.warn(\"skipping checking keys, remaining initialization not guaranteed to work\")\n",
      "/home/mplitt/repos/TwoPUtils/TwoPUtils/sess.py:227: UserWarning: Could not find sbxmat file at /mnt/BigDisk/2P_scratch/4467975.1/29_09_2020/YMaze_LNovel/YMaze_LNovel_001_003.mat\n",
      "  warnings.warn(\"Could not find sbxmat file at %s\" % self.scanheader_file)\n",
      "/home/mplitt/repos/TwoPUtils/TwoPUtils/sess.py:236: UserWarning: Could not find sbx file at /mnt/BigDisk/2P_scratch/4467975.1/29_09_2020/YMaze_LNovel/YMaze_LNovel_001_003.sbx\n",
      "  warnings.warn(\"Could not find sbx file at %s\" % self.scan_file)\n"
     ]
    },
    {
     "name": "stdout",
     "output_type": "stream",
     "text": [
      "{'date': '29_09_2020', 'scene': 'YMaze_LNovel', 'session': 1, 'scan': 3, 'novel_arm': 1, 'ravel_ind': 1}\n"
     ]
    },
    {
     "name": "stderr",
     "output_type": "stream",
     "text": [
      "/home/mplitt/repos/TwoPUtils/TwoPUtils/sess.py:227: UserWarning: Could not find sbxmat file at /mnt/BigDisk/2P_scratch/4467975.2/29_09_2020/YMaze_LNovel/YMaze_LNovel_001_003.mat\n",
      "  warnings.warn(\"Could not find sbxmat file at %s\" % self.scanheader_file)\n",
      "/home/mplitt/repos/TwoPUtils/TwoPUtils/sess.py:236: UserWarning: Could not find sbx file at /mnt/BigDisk/2P_scratch/4467975.2/29_09_2020/YMaze_LNovel/YMaze_LNovel_001_003.sbx\n",
      "  warnings.warn(\"Could not find sbx file at %s\" % self.scan_file)\n"
     ]
    },
    {
     "name": "stdout",
     "output_type": "stream",
     "text": [
      "{'date': '29_09_2020', 'scene': 'YMaze_LNovel', 'session': 1, 'scan': 4, 'novel_arm': -1, 'ravel_ind': 1}\n"
     ]
    },
    {
     "name": "stderr",
     "output_type": "stream",
     "text": [
      "/home/mplitt/repos/TwoPUtils/TwoPUtils/sess.py:227: UserWarning: Could not find sbxmat file at /mnt/BigDisk/2P_scratch/4467975.3/29_09_2020/YMaze_LNovel/YMaze_LNovel_001_004.mat\n",
      "  warnings.warn(\"Could not find sbxmat file at %s\" % self.scanheader_file)\n",
      "/home/mplitt/repos/TwoPUtils/TwoPUtils/sess.py:236: UserWarning: Could not find sbx file at /mnt/BigDisk/2P_scratch/4467975.3/29_09_2020/YMaze_LNovel/YMaze_LNovel_001_004.sbx\n",
      "  warnings.warn(\"Could not find sbx file at %s\" % self.scan_file)\n"
     ]
    },
    {
     "name": "stdout",
     "output_type": "stream",
     "text": [
      "{'date': '29_09_2020', 'scene': 'YMaze_LNovel', 'session': 1, 'scan': 3, 'novel_arm': 1, 'ravel_ind': 1}\n",
      "{'date': '29_09_2020', 'scene': 'YMaze_LNovel', 'session': 1, 'scan': 3, 'novel_arm': -1, 'ravel_ind': 1}\n",
      "{'date': '01_12_2020', 'scene': 'YMaze_LNovel', 'session': 1, 'scan': 4, 'novel_arm': -1, 'ravel_ind': 2}\n",
      "{'date': '01_12_2020', 'scene': 'YMaze_LNovel', 'session': 1, 'scan': 4, 'novel_arm': 1, 'ravel_ind': 2}\n",
      "{'date': '01_12_2020', 'scene': 'YMaze_LNovel', 'session': 1, 'scan': 5, 'novel_arm': -1, 'ravel_ind': 2}\n",
      "{'date': '01_12_2020', 'scene': 'YMaze_LNovel', 'session': 1, 'scan': 4, 'novel_arm': 1, 'ravel_ind': 4}\n",
      "{'date': '01_12_2020', 'scene': 'YMaze_LNovel', 'session': 1, 'scan': 4, 'novel_arm': -1, 'ravel_ind': 2}\n",
      "{'date': '30_09_2020', 'scene': 'YMaze_LNovel', 'session': 1, 'scan': 4, 'novel_arm': -1, 'ravel_ind': 3}\n"
     ]
    },
    {
     "name": "stderr",
     "output_type": "stream",
     "text": [
      "/home/mplitt/repos/TwoPUtils/TwoPUtils/sess.py:95: UserWarning: skipping checking keys, remaining initialization not guaranteed to work\n",
      "  warnings.warn(\"skipping checking keys, remaining initialization not guaranteed to work\")\n",
      "/home/mplitt/repos/TwoPUtils/TwoPUtils/sess.py:227: UserWarning: Could not find sbxmat file at /mnt/BigDisk/2P_scratch/4467975.1/30_09_2020/YMaze_LNovel/YMaze_LNovel_001_004.mat\n",
      "  warnings.warn(\"Could not find sbxmat file at %s\" % self.scanheader_file)\n",
      "/home/mplitt/repos/TwoPUtils/TwoPUtils/sess.py:236: UserWarning: Could not find sbx file at /mnt/BigDisk/2P_scratch/4467975.1/30_09_2020/YMaze_LNovel/YMaze_LNovel_001_004.sbx\n",
      "  warnings.warn(\"Could not find sbx file at %s\" % self.scan_file)\n"
     ]
    },
    {
     "name": "stdout",
     "output_type": "stream",
     "text": [
      "{'date': '30_09_2020', 'scene': 'YMaze_LNovel', 'session': 1, 'scan': 4, 'novel_arm': 1, 'ravel_ind': 2}\n"
     ]
    },
    {
     "name": "stderr",
     "output_type": "stream",
     "text": [
      "/home/mplitt/repos/TwoPUtils/TwoPUtils/sess.py:227: UserWarning: Could not find sbxmat file at /mnt/BigDisk/2P_scratch/4467975.2/30_09_2020/YMaze_LNovel/YMaze_LNovel_001_004.mat\n",
      "  warnings.warn(\"Could not find sbxmat file at %s\" % self.scanheader_file)\n",
      "/home/mplitt/repos/TwoPUtils/TwoPUtils/sess.py:236: UserWarning: Could not find sbx file at /mnt/BigDisk/2P_scratch/4467975.2/30_09_2020/YMaze_LNovel/YMaze_LNovel_001_004.sbx\n",
      "  warnings.warn(\"Could not find sbx file at %s\" % self.scan_file)\n"
     ]
    },
    {
     "name": "stdout",
     "output_type": "stream",
     "text": [
      "{'date': '30_09_2020', 'scene': 'YMaze_LNovel', 'session': 2, 'scan': 7, 'novel_arm': -1, 'ravel_ind': 2}\n"
     ]
    },
    {
     "name": "stderr",
     "output_type": "stream",
     "text": [
      "/home/mplitt/repos/TwoPUtils/TwoPUtils/sess.py:227: UserWarning: Could not find sbxmat file at /mnt/BigDisk/2P_scratch/4467975.3/30_09_2020/YMaze_LNovel/YMaze_LNovel_002_007.mat\n",
      "  warnings.warn(\"Could not find sbxmat file at %s\" % self.scanheader_file)\n",
      "/home/mplitt/repos/TwoPUtils/TwoPUtils/sess.py:236: UserWarning: Could not find sbx file at /mnt/BigDisk/2P_scratch/4467975.3/30_09_2020/YMaze_LNovel/YMaze_LNovel_002_007.sbx\n",
      "  warnings.warn(\"Could not find sbx file at %s\" % self.scan_file)\n"
     ]
    },
    {
     "name": "stdout",
     "output_type": "stream",
     "text": [
      "{'date': '30_09_2020', 'scene': 'YMaze_LNovel', 'session': 1, 'scan': 3, 'novel_arm': 1, 'ravel_ind': 2}\n",
      "{'date': '30_09_2020', 'scene': 'YMaze_LNovel', 'session': 1, 'scan': 5, 'novel_arm': -1, 'ravel_ind': 2}\n",
      "{'date': '02_12_2020', 'scene': 'YMaze_LNovel', 'session': 1, 'scan': 3, 'novel_arm': -1, 'ravel_ind': 3}\n",
      "({'date': '02_12_2020', 'scene': 'YMaze_LNovel', 'session': 1, 'scan': 6, 'novel_arm': 1, 'ravel_ind': 3}, {'date': '02_12_2020', 'scene': 'YMaze_LNovel', 'session': 2, 'scan': 12, 'novel_arm': 1, 'ravel_ind': 4})\n",
      "02_12_2020 YMaze_LNovel\n",
      "02_12_2020 YMaze_LNovel\n",
      "['LR', 'block_number', 'sess_num_ravel', 'sess_num']\n",
      "['LR', 'block_number', 'sess_num_ravel', 'sess_num']\n",
      "{'date': '02_12_2020', 'scene': 'YMaze_LNovel', 'session': 1, 'scan': 6, 'novel_arm': -1, 'ravel_ind': 3}\n",
      "{'date': '02_12_2020', 'scene': 'YMaze_LNovel', 'session': 1, 'scan': 4, 'novel_arm': 1, 'ravel_ind': 5}\n",
      "{'date': '02_12_2020', 'scene': 'YMaze_LNovel', 'session': 1, 'scan': 4, 'novel_arm': -1, 'ravel_ind': 3}\n",
      "{'date': '01_10_2020', 'scene': 'YMaze_LNovel', 'session': 1, 'scan': 2, 'novel_arm': -1, 'ravel_ind': 4}\n"
     ]
    },
    {
     "name": "stderr",
     "output_type": "stream",
     "text": [
      "/home/mplitt/repos/TwoPUtils/TwoPUtils/sess.py:95: UserWarning: skipping checking keys, remaining initialization not guaranteed to work\n",
      "  warnings.warn(\"skipping checking keys, remaining initialization not guaranteed to work\")\n",
      "/home/mplitt/repos/TwoPUtils/TwoPUtils/sess.py:227: UserWarning: Could not find sbxmat file at /mnt/BigDisk/2P_scratch/4467975.1/01_10_2020/YMaze_LNovel/YMaze_LNovel_001_002.mat\n",
      "  warnings.warn(\"Could not find sbxmat file at %s\" % self.scanheader_file)\n",
      "/home/mplitt/repos/TwoPUtils/TwoPUtils/sess.py:236: UserWarning: Could not find sbx file at /mnt/BigDisk/2P_scratch/4467975.1/01_10_2020/YMaze_LNovel/YMaze_LNovel_001_002.sbx\n",
      "  warnings.warn(\"Could not find sbx file at %s\" % self.scan_file)\n"
     ]
    },
    {
     "name": "stdout",
     "output_type": "stream",
     "text": [
      "{'date': '01_10_2020', 'scene': 'YMaze_LNovel', 'session': 1, 'scan': 4, 'novel_arm': 1, 'ravel_ind': 3}\n"
     ]
    },
    {
     "name": "stderr",
     "output_type": "stream",
     "text": [
      "/home/mplitt/repos/TwoPUtils/TwoPUtils/sess.py:227: UserWarning: Could not find sbxmat file at /mnt/BigDisk/2P_scratch/4467975.2/01_10_2020/YMaze_LNovel/YMaze_LNovel_001_004.mat\n",
      "  warnings.warn(\"Could not find sbxmat file at %s\" % self.scanheader_file)\n",
      "/home/mplitt/repos/TwoPUtils/TwoPUtils/sess.py:236: UserWarning: Could not find sbx file at /mnt/BigDisk/2P_scratch/4467975.2/01_10_2020/YMaze_LNovel/YMaze_LNovel_001_004.sbx\n",
      "  warnings.warn(\"Could not find sbx file at %s\" % self.scan_file)\n"
     ]
    },
    {
     "name": "stdout",
     "output_type": "stream",
     "text": [
      "{'date': '01_10_2020', 'scene': 'YMaze_LNovel', 'session': 1, 'scan': 7, 'novel_arm': -1, 'ravel_ind': 3}\n"
     ]
    },
    {
     "name": "stderr",
     "output_type": "stream",
     "text": [
      "/home/mplitt/repos/TwoPUtils/TwoPUtils/sess.py:227: UserWarning: Could not find sbxmat file at /mnt/BigDisk/2P_scratch/4467975.3/01_10_2020/YMaze_LNovel/YMaze_LNovel_001_007.mat\n",
      "  warnings.warn(\"Could not find sbxmat file at %s\" % self.scanheader_file)\n",
      "/home/mplitt/repos/TwoPUtils/TwoPUtils/sess.py:236: UserWarning: Could not find sbx file at /mnt/BigDisk/2P_scratch/4467975.3/01_10_2020/YMaze_LNovel/YMaze_LNovel_001_007.sbx\n",
      "  warnings.warn(\"Could not find sbx file at %s\" % self.scan_file)\n"
     ]
    },
    {
     "name": "stdout",
     "output_type": "stream",
     "text": [
      "{'date': '01_10_2020', 'scene': 'YMaze_LNovel', 'session': 1, 'scan': 2, 'novel_arm': 1, 'ravel_ind': 3}\n",
      "{'date': '01_10_2020', 'scene': 'YMaze_LNovel', 'session': 1, 'scan': 7, 'novel_arm': -1, 'ravel_ind': 3}\n",
      "{'date': '03_12_2020', 'scene': 'YMaze_LNovel', 'session': 1, 'scan': 8, 'novel_arm': -1, 'ravel_ind': 4}\n",
      "{'date': '03_12_2020', 'scene': 'YMaze_LNovel', 'session': 1, 'scan': 3, 'novel_arm': 1, 'ravel_ind': 5}\n",
      "{'date': '03_12_2020', 'scene': 'YMaze_LNovel', 'session': 1, 'scan': 3, 'novel_arm': -1, 'ravel_ind': 4}\n",
      "{'date': '03_12_2020', 'scene': 'YMaze_LNovel', 'session': 1, 'scan': 3, 'novel_arm': 1, 'ravel_ind': 6}\n",
      "{'date': '03_12_2020', 'scene': 'YMaze_LNovel', 'session': 2, 'scan': 4, 'novel_arm': -1, 'ravel_ind': 4}\n",
      "{'date': '02_10_2020', 'scene': 'YMaze_LNovel', 'session': 1, 'scan': 3, 'novel_arm': -1, 'ravel_ind': 5}\n"
     ]
    },
    {
     "name": "stderr",
     "output_type": "stream",
     "text": [
      "/home/mplitt/repos/TwoPUtils/TwoPUtils/sess.py:95: UserWarning: skipping checking keys, remaining initialization not guaranteed to work\n",
      "  warnings.warn(\"skipping checking keys, remaining initialization not guaranteed to work\")\n",
      "/home/mplitt/repos/TwoPUtils/TwoPUtils/sess.py:227: UserWarning: Could not find sbxmat file at /mnt/BigDisk/2P_scratch/4467975.1/02_10_2020/YMaze_LNovel/YMaze_LNovel_001_003.mat\n",
      "  warnings.warn(\"Could not find sbxmat file at %s\" % self.scanheader_file)\n",
      "/home/mplitt/repos/TwoPUtils/TwoPUtils/sess.py:236: UserWarning: Could not find sbx file at /mnt/BigDisk/2P_scratch/4467975.1/02_10_2020/YMaze_LNovel/YMaze_LNovel_001_003.sbx\n",
      "  warnings.warn(\"Could not find sbx file at %s\" % self.scan_file)\n"
     ]
    },
    {
     "name": "stdout",
     "output_type": "stream",
     "text": [
      "{'date': '02_10_2020', 'scene': 'YMaze_LNovel', 'session': 1, 'scan': 9, 'novel_arm': 1, 'ravel_ind': 4}\n"
     ]
    },
    {
     "name": "stderr",
     "output_type": "stream",
     "text": [
      "/home/mplitt/repos/TwoPUtils/TwoPUtils/sess.py:227: UserWarning: Could not find sbxmat file at /mnt/BigDisk/2P_scratch/4467975.2/02_10_2020/YMaze_LNovel/YMaze_LNovel_001_009.mat\n",
      "  warnings.warn(\"Could not find sbxmat file at %s\" % self.scanheader_file)\n",
      "/home/mplitt/repos/TwoPUtils/TwoPUtils/sess.py:236: UserWarning: Could not find sbx file at /mnt/BigDisk/2P_scratch/4467975.2/02_10_2020/YMaze_LNovel/YMaze_LNovel_001_009.sbx\n",
      "  warnings.warn(\"Could not find sbx file at %s\" % self.scan_file)\n"
     ]
    },
    {
     "name": "stdout",
     "output_type": "stream",
     "text": [
      "{'date': '02_10_2020', 'scene': 'YMaze_LNovel', 'session': 1, 'scan': 3, 'novel_arm': -1, 'ravel_ind': 4}\n"
     ]
    },
    {
     "name": "stderr",
     "output_type": "stream",
     "text": [
      "/home/mplitt/repos/TwoPUtils/TwoPUtils/sess.py:227: UserWarning: Could not find sbxmat file at /mnt/BigDisk/2P_scratch/4467975.3/02_10_2020/YMaze_LNovel/YMaze_LNovel_001_003.mat\n",
      "  warnings.warn(\"Could not find sbxmat file at %s\" % self.scanheader_file)\n",
      "/home/mplitt/repos/TwoPUtils/TwoPUtils/sess.py:236: UserWarning: Could not find sbx file at /mnt/BigDisk/2P_scratch/4467975.3/02_10_2020/YMaze_LNovel/YMaze_LNovel_001_003.sbx\n",
      "  warnings.warn(\"Could not find sbx file at %s\" % self.scan_file)\n"
     ]
    },
    {
     "name": "stdout",
     "output_type": "stream",
     "text": [
      "{'date': '02_10_2020', 'scene': 'YMaze_LNovel', 'session': 1, 'scan': 4, 'novel_arm': 1, 'ravel_ind': 4}\n",
      "{'date': '02_10_2020', 'scene': 'YMaze_LNovel', 'session': 1, 'scan': 3, 'novel_arm': -1, 'ravel_ind': 4}\n",
      "{'date': '04_12_2020', 'scene': 'YMaze_LNovel', 'session': 1, 'scan': 2, 'novel_arm': -1, 'ravel_ind': 5}\n",
      "{'date': '04_12_2020', 'scene': 'YMaze_LNovel', 'session': 1, 'scan': 3, 'novel_arm': 1, 'ravel_ind': 6}\n",
      "{'date': '04_12_2020', 'scene': 'YMaze_LNovel', 'session': 1, 'scan': 2, 'novel_arm': -1, 'ravel_ind': 5}\n",
      "{'date': '04_12_2020', 'scene': 'YMaze_LNovel', 'session': 1, 'scan': 3, 'novel_arm': 1, 'ravel_ind': 7}\n",
      "{'date': '05_12_2020', 'scene': 'YMaze_LNovel', 'session': 1, 'scan': 2, 'novel_arm': -1, 'ravel_ind': 5}\n"
     ]
    },
    {
     "name": "stderr",
     "output_type": "stream",
     "text": [
      "/home/mplitt/repos/TwoPUtils/TwoPUtils/sess.py:95: UserWarning: skipping checking keys, remaining initialization not guaranteed to work\n",
      "  warnings.warn(\"skipping checking keys, remaining initialization not guaranteed to work\")\n",
      "/home/mplitt/repos/TwoPUtils/TwoPUtils/sess.py:227: UserWarning: Could not find sbxmat file at /media/mplitt/Backup Plus3/2P_Data/4467333.1/05_12_2020/YMaze_LNovel/YMaze_LNovel_001_002.mat\n",
      "  warnings.warn(\"Could not find sbxmat file at %s\" % self.scanheader_file)\n",
      "/home/mplitt/repos/TwoPUtils/TwoPUtils/sess.py:236: UserWarning: Could not find sbx file at /media/mplitt/Backup Plus3/2P_Data/4467333.1/05_12_2020/YMaze_LNovel/YMaze_LNovel_001_002.sbx\n",
      "  warnings.warn(\"Could not find sbx file at %s\" % self.scan_file)\n"
     ]
    },
    {
     "name": "stdout",
     "output_type": "stream",
     "text": [
      "{'date': '03_10_2020', 'scene': 'YMaze_LNovel', 'session': 1, 'scan': 3, 'novel_arm': -1, 'ravel_ind': 6}\n"
     ]
    },
    {
     "name": "stderr",
     "output_type": "stream",
     "text": [
      "/home/mplitt/repos/TwoPUtils/TwoPUtils/sess.py:95: UserWarning: skipping checking keys, remaining initialization not guaranteed to work\n",
      "  warnings.warn(\"skipping checking keys, remaining initialization not guaranteed to work\")\n",
      "/home/mplitt/repos/TwoPUtils/TwoPUtils/sess.py:227: UserWarning: Could not find sbxmat file at /mnt/BigDisk/2P_scratch/4467975.1/03_10_2020/YMaze_LNovel/YMaze_LNovel_001_003.mat\n",
      "  warnings.warn(\"Could not find sbxmat file at %s\" % self.scanheader_file)\n",
      "/home/mplitt/repos/TwoPUtils/TwoPUtils/sess.py:236: UserWarning: Could not find sbx file at /mnt/BigDisk/2P_scratch/4467975.1/03_10_2020/YMaze_LNovel/YMaze_LNovel_001_003.sbx\n",
      "  warnings.warn(\"Could not find sbx file at %s\" % self.scan_file)\n"
     ]
    },
    {
     "name": "stdout",
     "output_type": "stream",
     "text": [
      "{'date': '03_10_2020', 'scene': 'YMaze_LNovel', 'session': 1, 'scan': 8, 'novel_arm': 1, 'ravel_ind': 5}\n"
     ]
    },
    {
     "name": "stderr",
     "output_type": "stream",
     "text": [
      "/home/mplitt/repos/TwoPUtils/TwoPUtils/sess.py:227: UserWarning: Could not find sbxmat file at /mnt/BigDisk/2P_scratch/4467975.2/03_10_2020/YMaze_LNovel/YMaze_LNovel_001_008.mat\n",
      "  warnings.warn(\"Could not find sbxmat file at %s\" % self.scanheader_file)\n",
      "/home/mplitt/repos/TwoPUtils/TwoPUtils/sess.py:236: UserWarning: Could not find sbx file at /mnt/BigDisk/2P_scratch/4467975.2/03_10_2020/YMaze_LNovel/YMaze_LNovel_001_008.sbx\n",
      "  warnings.warn(\"Could not find sbx file at %s\" % self.scan_file)\n"
     ]
    },
    {
     "name": "stdout",
     "output_type": "stream",
     "text": [
      "{'date': '03_10_2020', 'scene': 'YMaze_LNovel', 'session': 1, 'scan': 6, 'novel_arm': -1, 'ravel_ind': 5}\n"
     ]
    },
    {
     "name": "stderr",
     "output_type": "stream",
     "text": [
      "/home/mplitt/repos/TwoPUtils/TwoPUtils/sess.py:227: UserWarning: Could not find sbxmat file at /mnt/BigDisk/2P_scratch/4467975.3/03_10_2020/YMaze_LNovel/YMaze_LNovel_001_006.mat\n",
      "  warnings.warn(\"Could not find sbxmat file at %s\" % self.scanheader_file)\n",
      "/home/mplitt/repos/TwoPUtils/TwoPUtils/sess.py:236: UserWarning: Could not find sbx file at /mnt/BigDisk/2P_scratch/4467975.3/03_10_2020/YMaze_LNovel/YMaze_LNovel_001_006.sbx\n",
      "  warnings.warn(\"Could not find sbx file at %s\" % self.scan_file)\n"
     ]
    },
    {
     "name": "stdout",
     "output_type": "stream",
     "text": [
      "{'date': '03_10_2020', 'scene': 'YMaze_LNovel', 'session': 1, 'scan': 4, 'novel_arm': 1, 'ravel_ind': 5}\n",
      "{'date': '03_10_2020', 'scene': 'YMaze_LNovel', 'session': 1, 'scan': 5, 'novel_arm': -1, 'ravel_ind': 5}\n",
      "{'date': '29_11_2020', 'scene': 'YMaze_LNovel', 'session': 1, 'scan': 3, 'novel_arm': -1, 'ravel_ind': 0}\n",
      "{'date': '29_11_2020', 'scene': 'YMaze_LNovel', 'session': 1, 'scan': 4, 'novel_arm': 1, 'ravel_ind': 0}\n",
      "{'date': '29_11_2020', 'scene': 'YMaze_LNovel', 'session': 1, 'scan': 8, 'novel_arm': -1, 'ravel_ind': 0}\n",
      "{'date': '29_11_2020', 'scene': 'YMaze_LNovel', 'session': 2, 'scan': 18, 'novel_arm': 1, 'ravel_ind': 1}\n",
      "{'date': '29_11_2020', 'scene': 'YMaze_LNovel', 'session': 1, 'scan': 4, 'novel_arm': -1, 'ravel_ind': 0}\n",
      "{'date': '28_09_2020', 'scene': 'YMaze_LNovel', 'session': 6, 'scan': 14, 'novel_arm': -1, 'ravel_ind': 1}\n"
     ]
    },
    {
     "name": "stderr",
     "output_type": "stream",
     "text": [
      "/home/mplitt/repos/TwoPUtils/TwoPUtils/sess.py:95: UserWarning: skipping checking keys, remaining initialization not guaranteed to work\n",
      "  warnings.warn(\"skipping checking keys, remaining initialization not guaranteed to work\")\n",
      "/home/mplitt/repos/TwoPUtils/TwoPUtils/sess.py:227: UserWarning: Could not find sbxmat file at /mnt/BigDisk/2P_scratch/4467975.1/28_09_2020/YMaze_LNovel/YMaze_LNovel_006_014.mat\n",
      "  warnings.warn(\"Could not find sbxmat file at %s\" % self.scanheader_file)\n",
      "/home/mplitt/repos/TwoPUtils/TwoPUtils/sess.py:236: UserWarning: Could not find sbx file at /mnt/BigDisk/2P_scratch/4467975.1/28_09_2020/YMaze_LNovel/YMaze_LNovel_006_014.sbx\n",
      "  warnings.warn(\"Could not find sbx file at %s\" % self.scan_file)\n"
     ]
    },
    {
     "name": "stdout",
     "output_type": "stream",
     "text": [
      "{'date': '28_09_2020', 'scene': 'YMaze_LNovel', 'session': 3, 'scan': 8, 'novel_arm': 1, 'ravel_ind': 0}\n"
     ]
    },
    {
     "name": "stderr",
     "output_type": "stream",
     "text": [
      "/home/mplitt/repos/TwoPUtils/TwoPUtils/sess.py:227: UserWarning: Could not find sbxmat file at /mnt/BigDisk/2P_scratch/4467975.2/28_09_2020/YMaze_LNovel/YMaze_LNovel_003_008.mat\n",
      "  warnings.warn(\"Could not find sbxmat file at %s\" % self.scanheader_file)\n",
      "/home/mplitt/repos/TwoPUtils/TwoPUtils/sess.py:236: UserWarning: Could not find sbx file at /mnt/BigDisk/2P_scratch/4467975.2/28_09_2020/YMaze_LNovel/YMaze_LNovel_003_008.sbx\n",
      "  warnings.warn(\"Could not find sbx file at %s\" % self.scan_file)\n"
     ]
    },
    {
     "name": "stdout",
     "output_type": "stream",
     "text": [
      "{'date': '28_09_2020', 'scene': 'YMaze_LNovel', 'session': 1, 'scan': 4, 'novel_arm': -1, 'ravel_ind': 0}\n"
     ]
    },
    {
     "name": "stderr",
     "output_type": "stream",
     "text": [
      "/home/mplitt/repos/TwoPUtils/TwoPUtils/sess.py:227: UserWarning: Could not find sbxmat file at /mnt/BigDisk/2P_scratch/4467975.3/28_09_2020/YMaze_LNovel/YMaze_LNovel_001_004.mat\n",
      "  warnings.warn(\"Could not find sbxmat file at %s\" % self.scanheader_file)\n",
      "/home/mplitt/repos/TwoPUtils/TwoPUtils/sess.py:236: UserWarning: Could not find sbx file at /mnt/BigDisk/2P_scratch/4467975.3/28_09_2020/YMaze_LNovel/YMaze_LNovel_001_004.sbx\n",
      "  warnings.warn(\"Could not find sbx file at %s\" % self.scan_file)\n"
     ]
    },
    {
     "name": "stdout",
     "output_type": "stream",
     "text": [
      "{'date': '28_09_2020', 'scene': 'YMaze_LNovel', 'session': 1, 'scan': 5, 'novel_arm': 1, 'ravel_ind': 0}\n",
      "{'date': '28_09_2020', 'scene': 'YMaze_LNovel', 'session': 1, 'scan': 4, 'novel_arm': -1, 'ravel_ind': 0}\n",
      "{'date': '30_11_2020', 'scene': 'YMaze_LNovel', 'session': 1, 'scan': 7, 'novel_arm': -1, 'ravel_ind': 1}\n",
      "{'date': '30_11_2020', 'scene': 'YMaze_LNovel', 'session': 1, 'scan': 4, 'novel_arm': 1, 'ravel_ind': 1}\n",
      "{'date': '30_11_2020', 'scene': 'YMaze_LNovel', 'session': 1, 'scan': 4, 'novel_arm': -1, 'ravel_ind': 1}\n",
      "({'date': '30_11_2020', 'scene': 'YMaze_LNovel', 'session': 1, 'scan': 4, 'novel_arm': 1, 'ravel_ind': 2}, {'date': '30_11_2020', 'scene': 'YMaze_LNovel', 'session': 3, 'scan': 9, 'novel_arm': 1, 'ravel_ind': 3})\n",
      "30_11_2020 YMaze_LNovel\n",
      "30_11_2020 YMaze_LNovel\n",
      "['LR', 'block_number', 'sess_num_ravel', 'sess_num']\n",
      "['LR', 'block_number', 'sess_num_ravel', 'sess_num']\n",
      "{'date': '30_11_2020', 'scene': 'YMaze_LNovel', 'session': 1, 'scan': 6, 'novel_arm': -1, 'ravel_ind': 1}\n",
      "{'date': '29_09_2020', 'scene': 'YMaze_LNovel', 'session': 1, 'scan': 3, 'novel_arm': -1, 'ravel_ind': 2}\n"
     ]
    },
    {
     "name": "stderr",
     "output_type": "stream",
     "text": [
      "/home/mplitt/repos/TwoPUtils/TwoPUtils/sess.py:95: UserWarning: skipping checking keys, remaining initialization not guaranteed to work\n",
      "  warnings.warn(\"skipping checking keys, remaining initialization not guaranteed to work\")\n",
      "/home/mplitt/repos/TwoPUtils/TwoPUtils/sess.py:227: UserWarning: Could not find sbxmat file at /mnt/BigDisk/2P_scratch/4467975.1/29_09_2020/YMaze_LNovel/YMaze_LNovel_001_003.mat\n",
      "  warnings.warn(\"Could not find sbxmat file at %s\" % self.scanheader_file)\n",
      "/home/mplitt/repos/TwoPUtils/TwoPUtils/sess.py:236: UserWarning: Could not find sbx file at /mnt/BigDisk/2P_scratch/4467975.1/29_09_2020/YMaze_LNovel/YMaze_LNovel_001_003.sbx\n",
      "  warnings.warn(\"Could not find sbx file at %s\" % self.scan_file)\n"
     ]
    },
    {
     "name": "stdout",
     "output_type": "stream",
     "text": [
      "{'date': '29_09_2020', 'scene': 'YMaze_LNovel', 'session': 1, 'scan': 3, 'novel_arm': 1, 'ravel_ind': 1}\n"
     ]
    },
    {
     "name": "stderr",
     "output_type": "stream",
     "text": [
      "/home/mplitt/repos/TwoPUtils/TwoPUtils/sess.py:227: UserWarning: Could not find sbxmat file at /mnt/BigDisk/2P_scratch/4467975.2/29_09_2020/YMaze_LNovel/YMaze_LNovel_001_003.mat\n",
      "  warnings.warn(\"Could not find sbxmat file at %s\" % self.scanheader_file)\n",
      "/home/mplitt/repos/TwoPUtils/TwoPUtils/sess.py:236: UserWarning: Could not find sbx file at /mnt/BigDisk/2P_scratch/4467975.2/29_09_2020/YMaze_LNovel/YMaze_LNovel_001_003.sbx\n",
      "  warnings.warn(\"Could not find sbx file at %s\" % self.scan_file)\n"
     ]
    },
    {
     "name": "stdout",
     "output_type": "stream",
     "text": [
      "{'date': '29_09_2020', 'scene': 'YMaze_LNovel', 'session': 1, 'scan': 4, 'novel_arm': -1, 'ravel_ind': 1}\n"
     ]
    },
    {
     "name": "stderr",
     "output_type": "stream",
     "text": [
      "/home/mplitt/repos/TwoPUtils/TwoPUtils/sess.py:227: UserWarning: Could not find sbxmat file at /mnt/BigDisk/2P_scratch/4467975.3/29_09_2020/YMaze_LNovel/YMaze_LNovel_001_004.mat\n",
      "  warnings.warn(\"Could not find sbxmat file at %s\" % self.scanheader_file)\n",
      "/home/mplitt/repos/TwoPUtils/TwoPUtils/sess.py:236: UserWarning: Could not find sbx file at /mnt/BigDisk/2P_scratch/4467975.3/29_09_2020/YMaze_LNovel/YMaze_LNovel_001_004.sbx\n",
      "  warnings.warn(\"Could not find sbx file at %s\" % self.scan_file)\n"
     ]
    },
    {
     "name": "stdout",
     "output_type": "stream",
     "text": [
      "{'date': '29_09_2020', 'scene': 'YMaze_LNovel', 'session': 1, 'scan': 3, 'novel_arm': 1, 'ravel_ind': 1}\n",
      "{'date': '29_09_2020', 'scene': 'YMaze_LNovel', 'session': 1, 'scan': 3, 'novel_arm': -1, 'ravel_ind': 1}\n",
      "{'date': '01_12_2020', 'scene': 'YMaze_LNovel', 'session': 1, 'scan': 4, 'novel_arm': -1, 'ravel_ind': 2}\n",
      "{'date': '01_12_2020', 'scene': 'YMaze_LNovel', 'session': 1, 'scan': 4, 'novel_arm': 1, 'ravel_ind': 2}\n",
      "{'date': '01_12_2020', 'scene': 'YMaze_LNovel', 'session': 1, 'scan': 5, 'novel_arm': -1, 'ravel_ind': 2}\n",
      "{'date': '01_12_2020', 'scene': 'YMaze_LNovel', 'session': 1, 'scan': 4, 'novel_arm': 1, 'ravel_ind': 4}\n",
      "{'date': '01_12_2020', 'scene': 'YMaze_LNovel', 'session': 1, 'scan': 4, 'novel_arm': -1, 'ravel_ind': 2}\n",
      "{'date': '30_09_2020', 'scene': 'YMaze_LNovel', 'session': 1, 'scan': 4, 'novel_arm': -1, 'ravel_ind': 3}\n"
     ]
    },
    {
     "name": "stderr",
     "output_type": "stream",
     "text": [
      "/home/mplitt/repos/TwoPUtils/TwoPUtils/sess.py:95: UserWarning: skipping checking keys, remaining initialization not guaranteed to work\n",
      "  warnings.warn(\"skipping checking keys, remaining initialization not guaranteed to work\")\n",
      "/home/mplitt/repos/TwoPUtils/TwoPUtils/sess.py:227: UserWarning: Could not find sbxmat file at /mnt/BigDisk/2P_scratch/4467975.1/30_09_2020/YMaze_LNovel/YMaze_LNovel_001_004.mat\n",
      "  warnings.warn(\"Could not find sbxmat file at %s\" % self.scanheader_file)\n",
      "/home/mplitt/repos/TwoPUtils/TwoPUtils/sess.py:236: UserWarning: Could not find sbx file at /mnt/BigDisk/2P_scratch/4467975.1/30_09_2020/YMaze_LNovel/YMaze_LNovel_001_004.sbx\n",
      "  warnings.warn(\"Could not find sbx file at %s\" % self.scan_file)\n"
     ]
    },
    {
     "name": "stdout",
     "output_type": "stream",
     "text": [
      "{'date': '30_09_2020', 'scene': 'YMaze_LNovel', 'session': 1, 'scan': 4, 'novel_arm': 1, 'ravel_ind': 2}\n"
     ]
    },
    {
     "name": "stderr",
     "output_type": "stream",
     "text": [
      "/home/mplitt/repos/TwoPUtils/TwoPUtils/sess.py:227: UserWarning: Could not find sbxmat file at /mnt/BigDisk/2P_scratch/4467975.2/30_09_2020/YMaze_LNovel/YMaze_LNovel_001_004.mat\n",
      "  warnings.warn(\"Could not find sbxmat file at %s\" % self.scanheader_file)\n",
      "/home/mplitt/repos/TwoPUtils/TwoPUtils/sess.py:236: UserWarning: Could not find sbx file at /mnt/BigDisk/2P_scratch/4467975.2/30_09_2020/YMaze_LNovel/YMaze_LNovel_001_004.sbx\n",
      "  warnings.warn(\"Could not find sbx file at %s\" % self.scan_file)\n"
     ]
    },
    {
     "name": "stdout",
     "output_type": "stream",
     "text": [
      "{'date': '30_09_2020', 'scene': 'YMaze_LNovel', 'session': 2, 'scan': 7, 'novel_arm': -1, 'ravel_ind': 2}\n"
     ]
    },
    {
     "name": "stderr",
     "output_type": "stream",
     "text": [
      "/home/mplitt/repos/TwoPUtils/TwoPUtils/sess.py:227: UserWarning: Could not find sbxmat file at /mnt/BigDisk/2P_scratch/4467975.3/30_09_2020/YMaze_LNovel/YMaze_LNovel_002_007.mat\n",
      "  warnings.warn(\"Could not find sbxmat file at %s\" % self.scanheader_file)\n",
      "/home/mplitt/repos/TwoPUtils/TwoPUtils/sess.py:236: UserWarning: Could not find sbx file at /mnt/BigDisk/2P_scratch/4467975.3/30_09_2020/YMaze_LNovel/YMaze_LNovel_002_007.sbx\n",
      "  warnings.warn(\"Could not find sbx file at %s\" % self.scan_file)\n"
     ]
    },
    {
     "name": "stdout",
     "output_type": "stream",
     "text": [
      "{'date': '30_09_2020', 'scene': 'YMaze_LNovel', 'session': 1, 'scan': 3, 'novel_arm': 1, 'ravel_ind': 2}\n",
      "{'date': '30_09_2020', 'scene': 'YMaze_LNovel', 'session': 1, 'scan': 5, 'novel_arm': -1, 'ravel_ind': 2}\n",
      "{'date': '02_12_2020', 'scene': 'YMaze_LNovel', 'session': 1, 'scan': 3, 'novel_arm': -1, 'ravel_ind': 3}\n",
      "({'date': '02_12_2020', 'scene': 'YMaze_LNovel', 'session': 1, 'scan': 6, 'novel_arm': 1, 'ravel_ind': 3}, {'date': '02_12_2020', 'scene': 'YMaze_LNovel', 'session': 2, 'scan': 12, 'novel_arm': 1, 'ravel_ind': 4})\n",
      "02_12_2020 YMaze_LNovel\n",
      "02_12_2020 YMaze_LNovel\n",
      "['LR', 'block_number', 'sess_num_ravel', 'sess_num']\n",
      "['LR', 'block_number', 'sess_num_ravel', 'sess_num']\n",
      "{'date': '02_12_2020', 'scene': 'YMaze_LNovel', 'session': 1, 'scan': 6, 'novel_arm': -1, 'ravel_ind': 3}\n",
      "{'date': '02_12_2020', 'scene': 'YMaze_LNovel', 'session': 1, 'scan': 4, 'novel_arm': 1, 'ravel_ind': 5}\n",
      "{'date': '02_12_2020', 'scene': 'YMaze_LNovel', 'session': 1, 'scan': 4, 'novel_arm': -1, 'ravel_ind': 3}\n",
      "{'date': '01_10_2020', 'scene': 'YMaze_LNovel', 'session': 1, 'scan': 2, 'novel_arm': -1, 'ravel_ind': 4}\n"
     ]
    },
    {
     "name": "stderr",
     "output_type": "stream",
     "text": [
      "/home/mplitt/repos/TwoPUtils/TwoPUtils/sess.py:95: UserWarning: skipping checking keys, remaining initialization not guaranteed to work\n",
      "  warnings.warn(\"skipping checking keys, remaining initialization not guaranteed to work\")\n",
      "/home/mplitt/repos/TwoPUtils/TwoPUtils/sess.py:227: UserWarning: Could not find sbxmat file at /mnt/BigDisk/2P_scratch/4467975.1/01_10_2020/YMaze_LNovel/YMaze_LNovel_001_002.mat\n",
      "  warnings.warn(\"Could not find sbxmat file at %s\" % self.scanheader_file)\n",
      "/home/mplitt/repos/TwoPUtils/TwoPUtils/sess.py:236: UserWarning: Could not find sbx file at /mnt/BigDisk/2P_scratch/4467975.1/01_10_2020/YMaze_LNovel/YMaze_LNovel_001_002.sbx\n",
      "  warnings.warn(\"Could not find sbx file at %s\" % self.scan_file)\n"
     ]
    },
    {
     "name": "stdout",
     "output_type": "stream",
     "text": [
      "{'date': '01_10_2020', 'scene': 'YMaze_LNovel', 'session': 1, 'scan': 4, 'novel_arm': 1, 'ravel_ind': 3}\n"
     ]
    },
    {
     "name": "stderr",
     "output_type": "stream",
     "text": [
      "/home/mplitt/repos/TwoPUtils/TwoPUtils/sess.py:227: UserWarning: Could not find sbxmat file at /mnt/BigDisk/2P_scratch/4467975.2/01_10_2020/YMaze_LNovel/YMaze_LNovel_001_004.mat\n",
      "  warnings.warn(\"Could not find sbxmat file at %s\" % self.scanheader_file)\n",
      "/home/mplitt/repos/TwoPUtils/TwoPUtils/sess.py:236: UserWarning: Could not find sbx file at /mnt/BigDisk/2P_scratch/4467975.2/01_10_2020/YMaze_LNovel/YMaze_LNovel_001_004.sbx\n",
      "  warnings.warn(\"Could not find sbx file at %s\" % self.scan_file)\n"
     ]
    },
    {
     "name": "stdout",
     "output_type": "stream",
     "text": [
      "{'date': '01_10_2020', 'scene': 'YMaze_LNovel', 'session': 1, 'scan': 7, 'novel_arm': -1, 'ravel_ind': 3}\n"
     ]
    },
    {
     "name": "stderr",
     "output_type": "stream",
     "text": [
      "/home/mplitt/repos/TwoPUtils/TwoPUtils/sess.py:227: UserWarning: Could not find sbxmat file at /mnt/BigDisk/2P_scratch/4467975.3/01_10_2020/YMaze_LNovel/YMaze_LNovel_001_007.mat\n",
      "  warnings.warn(\"Could not find sbxmat file at %s\" % self.scanheader_file)\n",
      "/home/mplitt/repos/TwoPUtils/TwoPUtils/sess.py:236: UserWarning: Could not find sbx file at /mnt/BigDisk/2P_scratch/4467975.3/01_10_2020/YMaze_LNovel/YMaze_LNovel_001_007.sbx\n",
      "  warnings.warn(\"Could not find sbx file at %s\" % self.scan_file)\n"
     ]
    },
    {
     "name": "stdout",
     "output_type": "stream",
     "text": [
      "{'date': '01_10_2020', 'scene': 'YMaze_LNovel', 'session': 1, 'scan': 2, 'novel_arm': 1, 'ravel_ind': 3}\n",
      "{'date': '01_10_2020', 'scene': 'YMaze_LNovel', 'session': 1, 'scan': 7, 'novel_arm': -1, 'ravel_ind': 3}\n",
      "{'date': '03_12_2020', 'scene': 'YMaze_LNovel', 'session': 1, 'scan': 8, 'novel_arm': -1, 'ravel_ind': 4}\n",
      "{'date': '03_12_2020', 'scene': 'YMaze_LNovel', 'session': 1, 'scan': 3, 'novel_arm': 1, 'ravel_ind': 5}\n",
      "{'date': '03_12_2020', 'scene': 'YMaze_LNovel', 'session': 1, 'scan': 3, 'novel_arm': -1, 'ravel_ind': 4}\n",
      "{'date': '03_12_2020', 'scene': 'YMaze_LNovel', 'session': 1, 'scan': 3, 'novel_arm': 1, 'ravel_ind': 6}\n",
      "{'date': '03_12_2020', 'scene': 'YMaze_LNovel', 'session': 2, 'scan': 4, 'novel_arm': -1, 'ravel_ind': 4}\n",
      "{'date': '02_10_2020', 'scene': 'YMaze_LNovel', 'session': 1, 'scan': 3, 'novel_arm': -1, 'ravel_ind': 5}\n"
     ]
    },
    {
     "name": "stderr",
     "output_type": "stream",
     "text": [
      "/home/mplitt/repos/TwoPUtils/TwoPUtils/sess.py:95: UserWarning: skipping checking keys, remaining initialization not guaranteed to work\n",
      "  warnings.warn(\"skipping checking keys, remaining initialization not guaranteed to work\")\n",
      "/home/mplitt/repos/TwoPUtils/TwoPUtils/sess.py:227: UserWarning: Could not find sbxmat file at /mnt/BigDisk/2P_scratch/4467975.1/02_10_2020/YMaze_LNovel/YMaze_LNovel_001_003.mat\n",
      "  warnings.warn(\"Could not find sbxmat file at %s\" % self.scanheader_file)\n",
      "/home/mplitt/repos/TwoPUtils/TwoPUtils/sess.py:236: UserWarning: Could not find sbx file at /mnt/BigDisk/2P_scratch/4467975.1/02_10_2020/YMaze_LNovel/YMaze_LNovel_001_003.sbx\n",
      "  warnings.warn(\"Could not find sbx file at %s\" % self.scan_file)\n"
     ]
    },
    {
     "name": "stdout",
     "output_type": "stream",
     "text": [
      "{'date': '02_10_2020', 'scene': 'YMaze_LNovel', 'session': 1, 'scan': 9, 'novel_arm': 1, 'ravel_ind': 4}\n"
     ]
    },
    {
     "name": "stderr",
     "output_type": "stream",
     "text": [
      "/home/mplitt/repos/TwoPUtils/TwoPUtils/sess.py:227: UserWarning: Could not find sbxmat file at /mnt/BigDisk/2P_scratch/4467975.2/02_10_2020/YMaze_LNovel/YMaze_LNovel_001_009.mat\n",
      "  warnings.warn(\"Could not find sbxmat file at %s\" % self.scanheader_file)\n",
      "/home/mplitt/repos/TwoPUtils/TwoPUtils/sess.py:236: UserWarning: Could not find sbx file at /mnt/BigDisk/2P_scratch/4467975.2/02_10_2020/YMaze_LNovel/YMaze_LNovel_001_009.sbx\n",
      "  warnings.warn(\"Could not find sbx file at %s\" % self.scan_file)\n"
     ]
    },
    {
     "name": "stdout",
     "output_type": "stream",
     "text": [
      "{'date': '02_10_2020', 'scene': 'YMaze_LNovel', 'session': 1, 'scan': 3, 'novel_arm': -1, 'ravel_ind': 4}\n"
     ]
    },
    {
     "name": "stderr",
     "output_type": "stream",
     "text": [
      "/home/mplitt/repos/TwoPUtils/TwoPUtils/sess.py:227: UserWarning: Could not find sbxmat file at /mnt/BigDisk/2P_scratch/4467975.3/02_10_2020/YMaze_LNovel/YMaze_LNovel_001_003.mat\n",
      "  warnings.warn(\"Could not find sbxmat file at %s\" % self.scanheader_file)\n",
      "/home/mplitt/repos/TwoPUtils/TwoPUtils/sess.py:236: UserWarning: Could not find sbx file at /mnt/BigDisk/2P_scratch/4467975.3/02_10_2020/YMaze_LNovel/YMaze_LNovel_001_003.sbx\n",
      "  warnings.warn(\"Could not find sbx file at %s\" % self.scan_file)\n"
     ]
    },
    {
     "name": "stdout",
     "output_type": "stream",
     "text": [
      "{'date': '02_10_2020', 'scene': 'YMaze_LNovel', 'session': 1, 'scan': 4, 'novel_arm': 1, 'ravel_ind': 4}\n",
      "{'date': '02_10_2020', 'scene': 'YMaze_LNovel', 'session': 1, 'scan': 3, 'novel_arm': -1, 'ravel_ind': 4}\n",
      "{'date': '04_12_2020', 'scene': 'YMaze_LNovel', 'session': 1, 'scan': 2, 'novel_arm': -1, 'ravel_ind': 5}\n",
      "{'date': '04_12_2020', 'scene': 'YMaze_LNovel', 'session': 1, 'scan': 3, 'novel_arm': 1, 'ravel_ind': 6}\n",
      "{'date': '04_12_2020', 'scene': 'YMaze_LNovel', 'session': 1, 'scan': 2, 'novel_arm': -1, 'ravel_ind': 5}\n",
      "{'date': '04_12_2020', 'scene': 'YMaze_LNovel', 'session': 1, 'scan': 3, 'novel_arm': 1, 'ravel_ind': 7}\n",
      "{'date': '05_12_2020', 'scene': 'YMaze_LNovel', 'session': 1, 'scan': 2, 'novel_arm': -1, 'ravel_ind': 5}\n"
     ]
    },
    {
     "name": "stderr",
     "output_type": "stream",
     "text": [
      "/home/mplitt/repos/TwoPUtils/TwoPUtils/sess.py:95: UserWarning: skipping checking keys, remaining initialization not guaranteed to work\n",
      "  warnings.warn(\"skipping checking keys, remaining initialization not guaranteed to work\")\n",
      "/home/mplitt/repos/TwoPUtils/TwoPUtils/sess.py:227: UserWarning: Could not find sbxmat file at /media/mplitt/Backup Plus3/2P_Data/4467333.1/05_12_2020/YMaze_LNovel/YMaze_LNovel_001_002.mat\n",
      "  warnings.warn(\"Could not find sbxmat file at %s\" % self.scanheader_file)\n",
      "/home/mplitt/repos/TwoPUtils/TwoPUtils/sess.py:236: UserWarning: Could not find sbx file at /media/mplitt/Backup Plus3/2P_Data/4467333.1/05_12_2020/YMaze_LNovel/YMaze_LNovel_001_002.sbx\n",
      "  warnings.warn(\"Could not find sbx file at %s\" % self.scan_file)\n"
     ]
    },
    {
     "name": "stdout",
     "output_type": "stream",
     "text": [
      "{'date': '03_10_2020', 'scene': 'YMaze_LNovel', 'session': 1, 'scan': 3, 'novel_arm': -1, 'ravel_ind': 6}\n"
     ]
    },
    {
     "name": "stderr",
     "output_type": "stream",
     "text": [
      "/home/mplitt/repos/TwoPUtils/TwoPUtils/sess.py:95: UserWarning: skipping checking keys, remaining initialization not guaranteed to work\n",
      "  warnings.warn(\"skipping checking keys, remaining initialization not guaranteed to work\")\n",
      "/home/mplitt/repos/TwoPUtils/TwoPUtils/sess.py:227: UserWarning: Could not find sbxmat file at /mnt/BigDisk/2P_scratch/4467975.1/03_10_2020/YMaze_LNovel/YMaze_LNovel_001_003.mat\n",
      "  warnings.warn(\"Could not find sbxmat file at %s\" % self.scanheader_file)\n",
      "/home/mplitt/repos/TwoPUtils/TwoPUtils/sess.py:236: UserWarning: Could not find sbx file at /mnt/BigDisk/2P_scratch/4467975.1/03_10_2020/YMaze_LNovel/YMaze_LNovel_001_003.sbx\n",
      "  warnings.warn(\"Could not find sbx file at %s\" % self.scan_file)\n"
     ]
    },
    {
     "name": "stdout",
     "output_type": "stream",
     "text": [
      "{'date': '03_10_2020', 'scene': 'YMaze_LNovel', 'session': 1, 'scan': 8, 'novel_arm': 1, 'ravel_ind': 5}\n"
     ]
    },
    {
     "name": "stderr",
     "output_type": "stream",
     "text": [
      "/home/mplitt/repos/TwoPUtils/TwoPUtils/sess.py:227: UserWarning: Could not find sbxmat file at /mnt/BigDisk/2P_scratch/4467975.2/03_10_2020/YMaze_LNovel/YMaze_LNovel_001_008.mat\n",
      "  warnings.warn(\"Could not find sbxmat file at %s\" % self.scanheader_file)\n",
      "/home/mplitt/repos/TwoPUtils/TwoPUtils/sess.py:236: UserWarning: Could not find sbx file at /mnt/BigDisk/2P_scratch/4467975.2/03_10_2020/YMaze_LNovel/YMaze_LNovel_001_008.sbx\n",
      "  warnings.warn(\"Could not find sbx file at %s\" % self.scan_file)\n"
     ]
    },
    {
     "name": "stdout",
     "output_type": "stream",
     "text": [
      "{'date': '03_10_2020', 'scene': 'YMaze_LNovel', 'session': 1, 'scan': 6, 'novel_arm': -1, 'ravel_ind': 5}\n"
     ]
    },
    {
     "name": "stderr",
     "output_type": "stream",
     "text": [
      "/home/mplitt/repos/TwoPUtils/TwoPUtils/sess.py:227: UserWarning: Could not find sbxmat file at /mnt/BigDisk/2P_scratch/4467975.3/03_10_2020/YMaze_LNovel/YMaze_LNovel_001_006.mat\n",
      "  warnings.warn(\"Could not find sbxmat file at %s\" % self.scanheader_file)\n",
      "/home/mplitt/repos/TwoPUtils/TwoPUtils/sess.py:236: UserWarning: Could not find sbx file at /mnt/BigDisk/2P_scratch/4467975.3/03_10_2020/YMaze_LNovel/YMaze_LNovel_001_006.sbx\n",
      "  warnings.warn(\"Could not find sbx file at %s\" % self.scan_file)\n"
     ]
    },
    {
     "name": "stdout",
     "output_type": "stream",
     "text": [
      "{'date': '03_10_2020', 'scene': 'YMaze_LNovel', 'session': 1, 'scan': 4, 'novel_arm': 1, 'ravel_ind': 5}\n",
      "{'date': '03_10_2020', 'scene': 'YMaze_LNovel', 'session': 1, 'scan': 5, 'novel_arm': -1, 'ravel_ind': 5}\n"
     ]
    },
    {
     "data": {
      "image/png": "[encoded data removed]",
      "text/plain": [
       "<Figure size 2160x720 with 12 Axes>"
      ]
     },
     "metadata": {
      "needs_background": "light"
     },
     "output_type": "display_data"
    },
    {
     "data": {
      "image/png": "[encoded data removed]",
      "text/plain": [
       "<Figure size 2160x720 with 12 Axes>"
      ]
     },
     "metadata": {
      "needs_background": "light"
     },
     "output_type": "display_data"
    },
    {
     "data": {
      "image/png": "[encoded data removed]",
      "text/plain": [
       "<Figure size 432x288 with 1 Axes>"
      ]
     },
     "metadata": {
      "needs_background": "light"
     },
     "output_type": "display_data"
    }
   ],
   "source": [
    "fig, ax = plt.subplots(2,6, figsize=[30,10])\n",
    "fig_cum, ax_cum = plt.subplots(2,6, figsize=[30,10],sharey=True)\n",
    "\n",
    "fig_scat, ax_scat = plt.subplots()\n",
    "df = pd.DataFrame({'ko': [],\n",
    "                   'day': [],\n",
    "                   'nov': [],\n",
    "                   'num_fields' : [],\n",
    "                   'mouse': [], \n",
    "                   'ko_x_day': [],\n",
    "                   'ko_x_nov': [],\n",
    "                   'nov_x_day': [],\n",
    "                   'speed': [],\n",
    "                   'intercept': []})\n",
    "\n",
    "days_z = sp.stats.zscore(np.arange(6))\n",
    "for row, novkey in enumerate([ 'fam', 'nov']):\n",
    "    for day in range(6):\n",
    "\n",
    "        ctrl_fw = []\n",
    "        ctrl_mu = []\n",
    "        for mouse in ctrl_mice:\n",
    "            sess = u.load_single_day(mouse,day)\n",
    "            if novkey in ['fam']:\n",
    "                trial_mask = sess.trial_info['LR']==-1*sess.novel_arm\n",
    "            else:\n",
    "                trial_mask = sess.trial_info['LR']==sess.novel_arm\n",
    "            \n",
    "#             dat = ctrl_field_mask_res[mouse][day][novkey]['num_fields']\n",
    "            fm = ctrl_field_mask_res[mouse][day][novkey]['field_mask'] \n",
    "            rising_mask, falling_mask = fm[1:, :]>fm[:-1, :], fm[:-1, :]>fm[1:, :]\n",
    "            rising_mask[0,:]= False\n",
    "            falling_mask[-1,:] = False\n",
    "            rising, falling = rising_mask.sum(axis=0), falling_mask.sum(axis=0)\n",
    "#             rising, falling = (fm[1:, :]>fm[:-1, :]).sum(axis=0), (fm[:-1, :]>fm[1:, :]).sum(axis=0)\n",
    "            dat = np.minimum(rising, falling)\n",
    "            \n",
    "#             r,f  = ctrl_field_mask_res[mouse][day][novkey]['rising_edges'], ctrl_field_mask_res[mouse][day][novkey]['falling_edges']\n",
    "#             border_cells = (r[:,1]==0) + (f[:,1]==29) > 0\n",
    "#             r, f = r[~border_cells,:], f[~border_cells,:]\n",
    "#             dat = np.minimum(r, f)\n",
    "            \n",
    "# #             dat = f[:,1]-r[:,1]\n",
    "            \n",
    "            \n",
    "            ctrl_fw.append(dat[dat>0])\n",
    "            df = df.append({'ko': 0, \n",
    "                            'day': (day + 1)/6., #days_z[day], \n",
    "                            'nov': row, \n",
    "                            'num_fields': dat[dat>0].mean(), \n",
    "                            'mouse': mouse,\n",
    "                            'ko_x_day': 0,\n",
    "                            'ko_x_nov': 0,\n",
    "                            'nov_x_day': row*(day+1)/6.,\n",
    "                            'speed': np.nanmean(np.nanmean(sess.trial_matrices['speed'][trial_mask,:],axis=0)),\n",
    "                            'intercept': 1}, ignore_index=True)\n",
    "            ctrl_mu.append(dat[dat>0].mean())\n",
    "        ctrl_fw = np.concatenate(ctrl_fw)\n",
    "\n",
    "        hist, bins, _ = ax[row,day].hist(ctrl_fw, bins = np.arange(6), color='black', alpha = .3, density=True)\n",
    "        ax_cum[row,day].plot(bins[:-1], np.cumsum(hist), color='black')\n",
    "       \n",
    "        ax[row,day].set_title(novkey)\n",
    "        ax_cum[row,day].set_title(novkey)\n",
    "        ax[row,day].spines['top'].set_visible(False)\n",
    "        ax[row,day].spines['right'].set_visible(False)\n",
    "        ax[row,day].set_xlim([.5,5.5])\n",
    "        ax_cum[row,day].spines['top'].set_visible(False)\n",
    "        ax_cum[row,day].spines['right'].set_visible(False)\n",
    "        \n",
    "        \n",
    "        ctrl_mu = np.array(ctrl_mu)\n",
    "        if novkey in ['fam']:\n",
    "            ax_scat.scatter(6*day + np.linspace(-1,-.8, num=ctrl_mu.shape[0]), ctrl_mu, color='black', s=15)\n",
    "        else:\n",
    "            ax_scat.scatter(6*day + np.linspace(-.5,-.3, num=ctrl_mu.shape[0]), ctrl_mu, color='black', alpha = .3, s=15)\n",
    "\n",
    "        ko_fw = []\n",
    "        ko_mu = []\n",
    "        for mouse in ko_mice:\n",
    "            sess = u.load_single_day(mouse,day)\n",
    "            if novkey in ['fam']:\n",
    "                trial_mask = sess.trial_info['LR']==-1*sess.novel_arm\n",
    "            else:\n",
    "                trial_mask = sess.trial_info['LR']==sess.novel_arm\n",
    "            \n",
    "#             dat = ko_field_mask_res[mouse][day][novkey]['num_fields']\n",
    "            fm = ko_field_mask_res[mouse][day][novkey]['field_mask'] \n",
    "            rising_mask, falling_mask = fm[1:, :]>fm[:-1, :], fm[:-1, :]>fm[1:, :]\n",
    "            rising_mask[0,:]= False\n",
    "            falling_mask[-1,:] = False\n",
    "            rising, falling = rising_mask.sum(axis=0), falling_mask.sum(axis=0)\n",
    "#             rising, falling = (fm[1:, :]>fm[:-1, :]).sum(axis=0), (fm[:-1, :]>fm[1:, :]).sum(axis=0)\n",
    "            dat = np.minimum(rising, falling)\n",
    "            \n",
    "#             r,f  = ko_field_mask_res[mouse][day][novkey]['rising_edges'], ko_field_mask_res[mouse][day][novkey]['falling_edges']\n",
    "#             border_cells = (r[:,1]==0) + (f[:,1]==29) > 0\n",
    "#             r, f = r[~border_cells,:], f[~border_cells,:]\n",
    "#             dat = np.minimum(r, f)\n",
    "            \n",
    "#             dat = (fm[1:, :]>fm[:-1, :]).sum(axis=0)\n",
    "            ko_fw.append(dat[dat>0])\n",
    "            df = df.append({'ko': 1, \n",
    "                            'day': (day+1)/6., \n",
    "                            'nov': row, \n",
    "                            'num_fields': dat[dat>0].mean(), \n",
    "                            'mouse': mouse,\n",
    "                            'ko_x_day': (day+1)/6.,\n",
    "                            'ko_x_nov': row,\n",
    "                            'nov_x_day': row*(day+1)/6.,\n",
    "                            'speed': np.nanmean(np.nanmean(sess.trial_matrices['speed'][trial_mask,:],axis=0)),\n",
    "                            'intercept': 1}, ignore_index=True)\n",
    "            ko_mu.append(dat[dat>0].mean())\n",
    "        ko_fw = np.concatenate(ko_fw)\n",
    "        ko_mu = np.array(ko_mu)\n",
    "        if novkey in ['fam']:\n",
    "            ax_scat.scatter(6*day + np.linspace(.3,.5, num=ko_mu.shape[0]), ko_mu, color='red', s=15)\n",
    "        else:\n",
    "            ax_scat.scatter(6*day + np.linspace(.8,1, num=ko_mu.shape[0]), ko_mu, color='red', alpha = .3, s=15)\n",
    "        \n",
    "\n",
    "        hist, bins, _ = ax[row,day].hist(ko_fw, bins = np.arange(6), color = 'red', alpha = .3,density=True)\n",
    "        ax_cum[row,day].plot(bins[:-1], np.cumsum(hist), color='red')\n",
    "        \n",
    "fig.suptitle(\"Num Fields\")\n",
    "fig_cum.suptitle(\"Num Fields\")\n",
    "\n",
    "ax_scat.set_ylabel('Avg. Num. Fields')\n",
    "ax_scat.set_xlabel('Day')\n",
    "ax_scat.set_xticks([6*day for day in range(6)])\n",
    "ax_scat.set_xticklabels(np.arange(1,7))\n",
    "ax_scat.spines['top'].set_visible(False)\n",
    "ax_scat.spines['right'].set_visible(False)\n",
    "\n",
    "fig.savefig(os.path.join(figdir,\"num_sig_fields_hist.pdf\"))\n",
    "fig_cum.savefig(os.path.join(figdir,\"num_sig_fields_cumhist.pdf\"))\n",
    "fig_scat.savefig(os.path.join(figdir,\"num_sig_fields_summary.pdf\"))"
   ]
  },
  {
   "cell_type": "code",
   "execution_count": 11,
   "id": "treated-mountain",
   "metadata": {},
   "outputs": [
    {
     "name": "stdout",
     "output_type": "stream",
     "text": [
      "         Mixed Linear Model Regression Results\n",
      "========================================================\n",
      "Model:            MixedLM Dependent Variable: num_fields\n",
      "No. Observations: 120     Method:             REML      \n",
      "No. Groups:       10      Scale:              0.0023    \n",
      "Min. group size:  12      Log-Likelihood:     167.1275  \n",
      "Max. group size:  12      Converged:          Yes       \n",
      "Mean group size:  12.0                                  \n",
      "--------------------------------------------------------\n",
      "              Coef.  Std.Err.   z    P>|z| [0.025 0.975]\n",
      "--------------------------------------------------------\n",
      "ko             0.076    0.022  3.448 0.001  0.033  0.118\n",
      "day           -0.114    0.033 -3.460 0.001 -0.178 -0.049\n",
      "nov           -0.111    0.022 -5.049 0.000 -0.154 -0.068\n",
      "ko_x_nov      -0.001    0.018 -0.055 0.956 -0.035  0.034\n",
      "ko_x_day       0.064    0.041  1.576 0.115 -0.016  0.145\n",
      "nov_x_day      0.090    0.031  2.924 0.003  0.030  0.151\n",
      "intercept      1.313    0.018 73.225 0.000  1.278  1.348\n",
      "day Var        0.002    0.024                           \n",
      "========================================================\n",
      "\n",
      "ko           0.021912\n",
      "day          0.032805\n",
      "nov          0.021912\n",
      "ko_x_nov     0.017600\n",
      "ko_x_day     0.040919\n",
      "nov_x_day    0.030917\n",
      "intercept    0.017927\n",
      "dtype: float64\n",
      "ko           5.650137e-04\n",
      "day          5.393418e-04\n",
      "nov          4.438352e-07\n",
      "ko_x_nov     9.564990e-01\n",
      "ko_x_day     1.150289e-01\n",
      "nov_x_day    3.457172e-03\n",
      "intercept    0.000000e+00\n",
      "day Var      1.247943e-01\n",
      "dtype: float64\n"
     ]
    },
    {
     "name": "stderr",
     "output_type": "stream",
     "text": [
      "/home/mplitt/anaconda3/envs/STX3_test/lib/python3.8/site-packages/statsmodels/regression/mixed_linear_model.py:2237: ConvergenceWarning: The MLE may be on the boundary of the parameter space.\n",
      "  warnings.warn(msg, ConvergenceWarning)\n"
     ]
    }
   ],
   "source": [
    "lmm_res = MixedLM(df['num_fields'], df[['ko', \n",
    "                                        'day', \n",
    "                                        'nov', \n",
    "                                        'ko_x_nov', \n",
    "                                        'ko_x_day',\n",
    "                                        'nov_x_day',\n",
    "#                                         'speed',\n",
    "                                        'intercept']], df['mouse'], exog_re = df['day'])\n",
    "lmm_resf = lmm_res.fit()\n",
    "print(lmm_resf.summary())\n",
    "print(lmm_resf.bse_fe)\n",
    "print(lmm_resf.pvalues)"
   ]
  },
  {
   "cell_type": "code",
   "execution_count": 14,
   "id": "cutting-portsmouth",
   "metadata": {},
   "outputs": [
    {
     "name": "stdout",
     "output_type": "stream",
     "text": [
      "{'date': '29_11_2020', 'scene': 'YMaze_LNovel', 'session': 1, 'scan': 3, 'novel_arm': -1, 'ravel_ind': 0}\n",
      "{'date': '29_11_2020', 'scene': 'YMaze_LNovel', 'session': 1, 'scan': 4, 'novel_arm': 1, 'ravel_ind': 0}\n",
      "{'date': '29_11_2020', 'scene': 'YMaze_LNovel', 'session': 1, 'scan': 8, 'novel_arm': -1, 'ravel_ind': 0}\n",
      "{'date': '29_11_2020', 'scene': 'YMaze_LNovel', 'session': 2, 'scan': 18, 'novel_arm': 1, 'ravel_ind': 1}\n",
      "{'date': '29_11_2020', 'scene': 'YMaze_LNovel', 'session': 1, 'scan': 4, 'novel_arm': -1, 'ravel_ind': 0}\n",
      "{'date': '28_09_2020', 'scene': 'YMaze_LNovel', 'session': 6, 'scan': 14, 'novel_arm': -1, 'ravel_ind': 1}\n"
     ]
    },
    {
     "name": "stderr",
     "output_type": "stream",
     "text": [
      "/home/mplitt/repos/TwoPUtils/TwoPUtils/sess.py:95: UserWarning: skipping checking keys, remaining initialization not guaranteed to work\n",
      "  warnings.warn(\"skipping checking keys, remaining initialization not guaranteed to work\")\n",
      "/home/mplitt/repos/TwoPUtils/TwoPUtils/sess.py:227: UserWarning: Could not find sbxmat file at /mnt/BigDisk/2P_scratch/4467975.1/28_09_2020/YMaze_LNovel/YMaze_LNovel_006_014.mat\n",
      "  warnings.warn(\"Could not find sbxmat file at %s\" % self.scanheader_file)\n",
      "/home/mplitt/repos/TwoPUtils/TwoPUtils/sess.py:236: UserWarning: Could not find sbx file at /mnt/BigDisk/2P_scratch/4467975.1/28_09_2020/YMaze_LNovel/YMaze_LNovel_006_014.sbx\n",
      "  warnings.warn(\"Could not find sbx file at %s\" % self.scan_file)\n"
     ]
    },
    {
     "name": "stdout",
     "output_type": "stream",
     "text": [
      "{'date': '28_09_2020', 'scene': 'YMaze_LNovel', 'session': 3, 'scan': 8, 'novel_arm': 1, 'ravel_ind': 0}\n"
     ]
    },
    {
     "name": "stderr",
     "output_type": "stream",
     "text": [
      "/home/mplitt/repos/TwoPUtils/TwoPUtils/sess.py:227: UserWarning: Could not find sbxmat file at /mnt/BigDisk/2P_scratch/4467975.2/28_09_2020/YMaze_LNovel/YMaze_LNovel_003_008.mat\n",
      "  warnings.warn(\"Could not find sbxmat file at %s\" % self.scanheader_file)\n",
      "/home/mplitt/repos/TwoPUtils/TwoPUtils/sess.py:236: UserWarning: Could not find sbx file at /mnt/BigDisk/2P_scratch/4467975.2/28_09_2020/YMaze_LNovel/YMaze_LNovel_003_008.sbx\n",
      "  warnings.warn(\"Could not find sbx file at %s\" % self.scan_file)\n"
     ]
    },
    {
     "name": "stdout",
     "output_type": "stream",
     "text": [
      "{'date': '28_09_2020', 'scene': 'YMaze_LNovel', 'session': 1, 'scan': 4, 'novel_arm': -1, 'ravel_ind': 0}\n"
     ]
    },
    {
     "name": "stderr",
     "output_type": "stream",
     "text": [
      "/home/mplitt/repos/TwoPUtils/TwoPUtils/sess.py:227: UserWarning: Could not find sbxmat file at /mnt/BigDisk/2P_scratch/4467975.3/28_09_2020/YMaze_LNovel/YMaze_LNovel_001_004.mat\n",
      "  warnings.warn(\"Could not find sbxmat file at %s\" % self.scanheader_file)\n",
      "/home/mplitt/repos/TwoPUtils/TwoPUtils/sess.py:236: UserWarning: Could not find sbx file at /mnt/BigDisk/2P_scratch/4467975.3/28_09_2020/YMaze_LNovel/YMaze_LNovel_001_004.sbx\n",
      "  warnings.warn(\"Could not find sbx file at %s\" % self.scan_file)\n"
     ]
    },
    {
     "name": "stdout",
     "output_type": "stream",
     "text": [
      "{'date': '28_09_2020', 'scene': 'YMaze_LNovel', 'session': 1, 'scan': 5, 'novel_arm': 1, 'ravel_ind': 0}\n",
      "{'date': '28_09_2020', 'scene': 'YMaze_LNovel', 'session': 1, 'scan': 4, 'novel_arm': -1, 'ravel_ind': 0}\n",
      "{'date': '30_11_2020', 'scene': 'YMaze_LNovel', 'session': 1, 'scan': 7, 'novel_arm': -1, 'ravel_ind': 1}\n",
      "{'date': '30_11_2020', 'scene': 'YMaze_LNovel', 'session': 1, 'scan': 4, 'novel_arm': 1, 'ravel_ind': 1}\n",
      "{'date': '30_11_2020', 'scene': 'YMaze_LNovel', 'session': 1, 'scan': 4, 'novel_arm': -1, 'ravel_ind': 1}\n",
      "({'date': '30_11_2020', 'scene': 'YMaze_LNovel', 'session': 1, 'scan': 4, 'novel_arm': 1, 'ravel_ind': 2}, {'date': '30_11_2020', 'scene': 'YMaze_LNovel', 'session': 3, 'scan': 9, 'novel_arm': 1, 'ravel_ind': 3})\n",
      "30_11_2020 YMaze_LNovel\n",
      "30_11_2020 YMaze_LNovel\n",
      "['LR', 'block_number', 'sess_num_ravel', 'sess_num']\n",
      "['LR', 'block_number', 'sess_num_ravel', 'sess_num']\n",
      "{'date': '30_11_2020', 'scene': 'YMaze_LNovel', 'session': 1, 'scan': 6, 'novel_arm': -1, 'ravel_ind': 1}\n",
      "{'date': '29_09_2020', 'scene': 'YMaze_LNovel', 'session': 1, 'scan': 3, 'novel_arm': -1, 'ravel_ind': 2}\n"
     ]
    },
    {
     "name": "stderr",
     "output_type": "stream",
     "text": [
      "/home/mplitt/repos/TwoPUtils/TwoPUtils/sess.py:95: UserWarning: skipping checking keys, remaining initialization not guaranteed to work\n",
      "  warnings.warn(\"skipping checking keys, remaining initialization not guaranteed to work\")\n",
      "/home/mplitt/repos/TwoPUtils/TwoPUtils/sess.py:227: UserWarning: Could not find sbxmat file at /mnt/BigDisk/2P_scratch/4467975.1/29_09_2020/YMaze_LNovel/YMaze_LNovel_001_003.mat\n",
      "  warnings.warn(\"Could not find sbxmat file at %s\" % self.scanheader_file)\n",
      "/home/mplitt/repos/TwoPUtils/TwoPUtils/sess.py:236: UserWarning: Could not find sbx file at /mnt/BigDisk/2P_scratch/4467975.1/29_09_2020/YMaze_LNovel/YMaze_LNovel_001_003.sbx\n",
      "  warnings.warn(\"Could not find sbx file at %s\" % self.scan_file)\n"
     ]
    },
    {
     "name": "stdout",
     "output_type": "stream",
     "text": [
      "{'date': '29_09_2020', 'scene': 'YMaze_LNovel', 'session': 1, 'scan': 3, 'novel_arm': 1, 'ravel_ind': 1}\n"
     ]
    },
    {
     "name": "stderr",
     "output_type": "stream",
     "text": [
      "/home/mplitt/repos/TwoPUtils/TwoPUtils/sess.py:227: UserWarning: Could not find sbxmat file at /mnt/BigDisk/2P_scratch/4467975.2/29_09_2020/YMaze_LNovel/YMaze_LNovel_001_003.mat\n",
      "  warnings.warn(\"Could not find sbxmat file at %s\" % self.scanheader_file)\n",
      "/home/mplitt/repos/TwoPUtils/TwoPUtils/sess.py:236: UserWarning: Could not find sbx file at /mnt/BigDisk/2P_scratch/4467975.2/29_09_2020/YMaze_LNovel/YMaze_LNovel_001_003.sbx\n",
      "  warnings.warn(\"Could not find sbx file at %s\" % self.scan_file)\n"
     ]
    },
    {
     "name": "stdout",
     "output_type": "stream",
     "text": [
      "{'date': '29_09_2020', 'scene': 'YMaze_LNovel', 'session': 1, 'scan': 4, 'novel_arm': -1, 'ravel_ind': 1}\n"
     ]
    },
    {
     "name": "stderr",
     "output_type": "stream",
     "text": [
      "/home/mplitt/repos/TwoPUtils/TwoPUtils/sess.py:227: UserWarning: Could not find sbxmat file at /mnt/BigDisk/2P_scratch/4467975.3/29_09_2020/YMaze_LNovel/YMaze_LNovel_001_004.mat\n",
      "  warnings.warn(\"Could not find sbxmat file at %s\" % self.scanheader_file)\n",
      "/home/mplitt/repos/TwoPUtils/TwoPUtils/sess.py:236: UserWarning: Could not find sbx file at /mnt/BigDisk/2P_scratch/4467975.3/29_09_2020/YMaze_LNovel/YMaze_LNovel_001_004.sbx\n",
      "  warnings.warn(\"Could not find sbx file at %s\" % self.scan_file)\n"
     ]
    },
    {
     "name": "stdout",
     "output_type": "stream",
     "text": [
      "{'date': '29_09_2020', 'scene': 'YMaze_LNovel', 'session': 1, 'scan': 3, 'novel_arm': 1, 'ravel_ind': 1}\n",
      "{'date': '29_09_2020', 'scene': 'YMaze_LNovel', 'session': 1, 'scan': 3, 'novel_arm': -1, 'ravel_ind': 1}\n",
      "{'date': '01_12_2020', 'scene': 'YMaze_LNovel', 'session': 1, 'scan': 4, 'novel_arm': -1, 'ravel_ind': 2}\n",
      "{'date': '01_12_2020', 'scene': 'YMaze_LNovel', 'session': 1, 'scan': 4, 'novel_arm': 1, 'ravel_ind': 2}\n",
      "{'date': '01_12_2020', 'scene': 'YMaze_LNovel', 'session': 1, 'scan': 5, 'novel_arm': -1, 'ravel_ind': 2}\n",
      "{'date': '01_12_2020', 'scene': 'YMaze_LNovel', 'session': 1, 'scan': 4, 'novel_arm': 1, 'ravel_ind': 4}\n",
      "{'date': '01_12_2020', 'scene': 'YMaze_LNovel', 'session': 1, 'scan': 4, 'novel_arm': -1, 'ravel_ind': 2}\n",
      "{'date': '30_09_2020', 'scene': 'YMaze_LNovel', 'session': 1, 'scan': 4, 'novel_arm': -1, 'ravel_ind': 3}\n"
     ]
    },
    {
     "name": "stderr",
     "output_type": "stream",
     "text": [
      "/home/mplitt/repos/TwoPUtils/TwoPUtils/sess.py:95: UserWarning: skipping checking keys, remaining initialization not guaranteed to work\n",
      "  warnings.warn(\"skipping checking keys, remaining initialization not guaranteed to work\")\n",
      "/home/mplitt/repos/TwoPUtils/TwoPUtils/sess.py:227: UserWarning: Could not find sbxmat file at /mnt/BigDisk/2P_scratch/4467975.1/30_09_2020/YMaze_LNovel/YMaze_LNovel_001_004.mat\n",
      "  warnings.warn(\"Could not find sbxmat file at %s\" % self.scanheader_file)\n",
      "/home/mplitt/repos/TwoPUtils/TwoPUtils/sess.py:236: UserWarning: Could not find sbx file at /mnt/BigDisk/2P_scratch/4467975.1/30_09_2020/YMaze_LNovel/YMaze_LNovel_001_004.sbx\n",
      "  warnings.warn(\"Could not find sbx file at %s\" % self.scan_file)\n"
     ]
    },
    {
     "name": "stdout",
     "output_type": "stream",
     "text": [
      "{'date': '30_09_2020', 'scene': 'YMaze_LNovel', 'session': 1, 'scan': 4, 'novel_arm': 1, 'ravel_ind': 2}\n"
     ]
    },
    {
     "name": "stderr",
     "output_type": "stream",
     "text": [
      "/home/mplitt/repos/TwoPUtils/TwoPUtils/sess.py:227: UserWarning: Could not find sbxmat file at /mnt/BigDisk/2P_scratch/4467975.2/30_09_2020/YMaze_LNovel/YMaze_LNovel_001_004.mat\n",
      "  warnings.warn(\"Could not find sbxmat file at %s\" % self.scanheader_file)\n",
      "/home/mplitt/repos/TwoPUtils/TwoPUtils/sess.py:236: UserWarning: Could not find sbx file at /mnt/BigDisk/2P_scratch/4467975.2/30_09_2020/YMaze_LNovel/YMaze_LNovel_001_004.sbx\n",
      "  warnings.warn(\"Could not find sbx file at %s\" % self.scan_file)\n"
     ]
    },
    {
     "name": "stdout",
     "output_type": "stream",
     "text": [
      "{'date': '30_09_2020', 'scene': 'YMaze_LNovel', 'session': 2, 'scan': 7, 'novel_arm': -1, 'ravel_ind': 2}\n"
     ]
    },
    {
     "name": "stderr",
     "output_type": "stream",
     "text": [
      "/home/mplitt/repos/TwoPUtils/TwoPUtils/sess.py:227: UserWarning: Could not find sbxmat file at /mnt/BigDisk/2P_scratch/4467975.3/30_09_2020/YMaze_LNovel/YMaze_LNovel_002_007.mat\n",
      "  warnings.warn(\"Could not find sbxmat file at %s\" % self.scanheader_file)\n",
      "/home/mplitt/repos/TwoPUtils/TwoPUtils/sess.py:236: UserWarning: Could not find sbx file at /mnt/BigDisk/2P_scratch/4467975.3/30_09_2020/YMaze_LNovel/YMaze_LNovel_002_007.sbx\n",
      "  warnings.warn(\"Could not find sbx file at %s\" % self.scan_file)\n"
     ]
    },
    {
     "name": "stdout",
     "output_type": "stream",
     "text": [
      "{'date': '30_09_2020', 'scene': 'YMaze_LNovel', 'session': 1, 'scan': 3, 'novel_arm': 1, 'ravel_ind': 2}\n",
      "{'date': '30_09_2020', 'scene': 'YMaze_LNovel', 'session': 1, 'scan': 5, 'novel_arm': -1, 'ravel_ind': 2}\n",
      "{'date': '02_12_2020', 'scene': 'YMaze_LNovel', 'session': 1, 'scan': 3, 'novel_arm': -1, 'ravel_ind': 3}\n",
      "({'date': '02_12_2020', 'scene': 'YMaze_LNovel', 'session': 1, 'scan': 6, 'novel_arm': 1, 'ravel_ind': 3}, {'date': '02_12_2020', 'scene': 'YMaze_LNovel', 'session': 2, 'scan': 12, 'novel_arm': 1, 'ravel_ind': 4})\n",
      "02_12_2020 YMaze_LNovel\n",
      "02_12_2020 YMaze_LNovel\n",
      "['LR', 'block_number', 'sess_num_ravel', 'sess_num']\n",
      "['LR', 'block_number', 'sess_num_ravel', 'sess_num']\n",
      "{'date': '02_12_2020', 'scene': 'YMaze_LNovel', 'session': 1, 'scan': 6, 'novel_arm': -1, 'ravel_ind': 3}\n",
      "{'date': '02_12_2020', 'scene': 'YMaze_LNovel', 'session': 1, 'scan': 4, 'novel_arm': 1, 'ravel_ind': 5}\n",
      "{'date': '02_12_2020', 'scene': 'YMaze_LNovel', 'session': 1, 'scan': 4, 'novel_arm': -1, 'ravel_ind': 3}\n",
      "{'date': '01_10_2020', 'scene': 'YMaze_LNovel', 'session': 1, 'scan': 2, 'novel_arm': -1, 'ravel_ind': 4}\n"
     ]
    },
    {
     "name": "stderr",
     "output_type": "stream",
     "text": [
      "/home/mplitt/repos/TwoPUtils/TwoPUtils/sess.py:95: UserWarning: skipping checking keys, remaining initialization not guaranteed to work\n",
      "  warnings.warn(\"skipping checking keys, remaining initialization not guaranteed to work\")\n",
      "/home/mplitt/repos/TwoPUtils/TwoPUtils/sess.py:227: UserWarning: Could not find sbxmat file at /mnt/BigDisk/2P_scratch/4467975.1/01_10_2020/YMaze_LNovel/YMaze_LNovel_001_002.mat\n",
      "  warnings.warn(\"Could not find sbxmat file at %s\" % self.scanheader_file)\n",
      "/home/mplitt/repos/TwoPUtils/TwoPUtils/sess.py:236: UserWarning: Could not find sbx file at /mnt/BigDisk/2P_scratch/4467975.1/01_10_2020/YMaze_LNovel/YMaze_LNovel_001_002.sbx\n",
      "  warnings.warn(\"Could not find sbx file at %s\" % self.scan_file)\n"
     ]
    },
    {
     "name": "stdout",
     "output_type": "stream",
     "text": [
      "{'date': '01_10_2020', 'scene': 'YMaze_LNovel', 'session': 1, 'scan': 4, 'novel_arm': 1, 'ravel_ind': 3}\n"
     ]
    },
    {
     "name": "stderr",
     "output_type": "stream",
     "text": [
      "/home/mplitt/repos/TwoPUtils/TwoPUtils/sess.py:227: UserWarning: Could not find sbxmat file at /mnt/BigDisk/2P_scratch/4467975.2/01_10_2020/YMaze_LNovel/YMaze_LNovel_001_004.mat\n",
      "  warnings.warn(\"Could not find sbxmat file at %s\" % self.scanheader_file)\n",
      "/home/mplitt/repos/TwoPUtils/TwoPUtils/sess.py:236: UserWarning: Could not find sbx file at /mnt/BigDisk/2P_scratch/4467975.2/01_10_2020/YMaze_LNovel/YMaze_LNovel_001_004.sbx\n",
      "  warnings.warn(\"Could not find sbx file at %s\" % self.scan_file)\n"
     ]
    },
    {
     "name": "stdout",
     "output_type": "stream",
     "text": [
      "{'date': '01_10_2020', 'scene': 'YMaze_LNovel', 'session': 1, 'scan': 7, 'novel_arm': -1, 'ravel_ind': 3}\n"
     ]
    },
    {
     "name": "stderr",
     "output_type": "stream",
     "text": [
      "/home/mplitt/repos/TwoPUtils/TwoPUtils/sess.py:227: UserWarning: Could not find sbxmat file at /mnt/BigDisk/2P_scratch/4467975.3/01_10_2020/YMaze_LNovel/YMaze_LNovel_001_007.mat\n",
      "  warnings.warn(\"Could not find sbxmat file at %s\" % self.scanheader_file)\n",
      "/home/mplitt/repos/TwoPUtils/TwoPUtils/sess.py:236: UserWarning: Could not find sbx file at /mnt/BigDisk/2P_scratch/4467975.3/01_10_2020/YMaze_LNovel/YMaze_LNovel_001_007.sbx\n",
      "  warnings.warn(\"Could not find sbx file at %s\" % self.scan_file)\n"
     ]
    },
    {
     "name": "stdout",
     "output_type": "stream",
     "text": [
      "{'date': '01_10_2020', 'scene': 'YMaze_LNovel', 'session': 1, 'scan': 2, 'novel_arm': 1, 'ravel_ind': 3}\n",
      "{'date': '01_10_2020', 'scene': 'YMaze_LNovel', 'session': 1, 'scan': 7, 'novel_arm': -1, 'ravel_ind': 3}\n",
      "{'date': '03_12_2020', 'scene': 'YMaze_LNovel', 'session': 1, 'scan': 8, 'novel_arm': -1, 'ravel_ind': 4}\n",
      "{'date': '03_12_2020', 'scene': 'YMaze_LNovel', 'session': 1, 'scan': 3, 'novel_arm': 1, 'ravel_ind': 5}\n",
      "{'date': '03_12_2020', 'scene': 'YMaze_LNovel', 'session': 1, 'scan': 3, 'novel_arm': -1, 'ravel_ind': 4}\n",
      "{'date': '03_12_2020', 'scene': 'YMaze_LNovel', 'session': 1, 'scan': 3, 'novel_arm': 1, 'ravel_ind': 6}\n",
      "{'date': '03_12_2020', 'scene': 'YMaze_LNovel', 'session': 2, 'scan': 4, 'novel_arm': -1, 'ravel_ind': 4}\n",
      "{'date': '02_10_2020', 'scene': 'YMaze_LNovel', 'session': 1, 'scan': 3, 'novel_arm': -1, 'ravel_ind': 5}\n"
     ]
    },
    {
     "name": "stderr",
     "output_type": "stream",
     "text": [
      "/home/mplitt/repos/TwoPUtils/TwoPUtils/sess.py:95: UserWarning: skipping checking keys, remaining initialization not guaranteed to work\n",
      "  warnings.warn(\"skipping checking keys, remaining initialization not guaranteed to work\")\n",
      "/home/mplitt/repos/TwoPUtils/TwoPUtils/sess.py:227: UserWarning: Could not find sbxmat file at /mnt/BigDisk/2P_scratch/4467975.1/02_10_2020/YMaze_LNovel/YMaze_LNovel_001_003.mat\n",
      "  warnings.warn(\"Could not find sbxmat file at %s\" % self.scanheader_file)\n",
      "/home/mplitt/repos/TwoPUtils/TwoPUtils/sess.py:236: UserWarning: Could not find sbx file at /mnt/BigDisk/2P_scratch/4467975.1/02_10_2020/YMaze_LNovel/YMaze_LNovel_001_003.sbx\n",
      "  warnings.warn(\"Could not find sbx file at %s\" % self.scan_file)\n"
     ]
    },
    {
     "name": "stdout",
     "output_type": "stream",
     "text": [
      "{'date': '02_10_2020', 'scene': 'YMaze_LNovel', 'session': 1, 'scan': 9, 'novel_arm': 1, 'ravel_ind': 4}\n"
     ]
    },
    {
     "name": "stderr",
     "output_type": "stream",
     "text": [
      "/home/mplitt/repos/TwoPUtils/TwoPUtils/sess.py:227: UserWarning: Could not find sbxmat file at /mnt/BigDisk/2P_scratch/4467975.2/02_10_2020/YMaze_LNovel/YMaze_LNovel_001_009.mat\n",
      "  warnings.warn(\"Could not find sbxmat file at %s\" % self.scanheader_file)\n",
      "/home/mplitt/repos/TwoPUtils/TwoPUtils/sess.py:236: UserWarning: Could not find sbx file at /mnt/BigDisk/2P_scratch/4467975.2/02_10_2020/YMaze_LNovel/YMaze_LNovel_001_009.sbx\n",
      "  warnings.warn(\"Could not find sbx file at %s\" % self.scan_file)\n"
     ]
    },
    {
     "name": "stdout",
     "output_type": "stream",
     "text": [
      "{'date': '02_10_2020', 'scene': 'YMaze_LNovel', 'session': 1, 'scan': 3, 'novel_arm': -1, 'ravel_ind': 4}\n"
     ]
    },
    {
     "name": "stderr",
     "output_type": "stream",
     "text": [
      "/home/mplitt/repos/TwoPUtils/TwoPUtils/sess.py:227: UserWarning: Could not find sbxmat file at /mnt/BigDisk/2P_scratch/4467975.3/02_10_2020/YMaze_LNovel/YMaze_LNovel_001_003.mat\n",
      "  warnings.warn(\"Could not find sbxmat file at %s\" % self.scanheader_file)\n",
      "/home/mplitt/repos/TwoPUtils/TwoPUtils/sess.py:236: UserWarning: Could not find sbx file at /mnt/BigDisk/2P_scratch/4467975.3/02_10_2020/YMaze_LNovel/YMaze_LNovel_001_003.sbx\n",
      "  warnings.warn(\"Could not find sbx file at %s\" % self.scan_file)\n"
     ]
    },
    {
     "name": "stdout",
     "output_type": "stream",
     "text": [
      "{'date': '02_10_2020', 'scene': 'YMaze_LNovel', 'session': 1, 'scan': 4, 'novel_arm': 1, 'ravel_ind': 4}\n",
      "{'date': '02_10_2020', 'scene': 'YMaze_LNovel', 'session': 1, 'scan': 3, 'novel_arm': -1, 'ravel_ind': 4}\n",
      "{'date': '04_12_2020', 'scene': 'YMaze_LNovel', 'session': 1, 'scan': 2, 'novel_arm': -1, 'ravel_ind': 5}\n",
      "{'date': '04_12_2020', 'scene': 'YMaze_LNovel', 'session': 1, 'scan': 3, 'novel_arm': 1, 'ravel_ind': 6}\n",
      "{'date': '04_12_2020', 'scene': 'YMaze_LNovel', 'session': 1, 'scan': 2, 'novel_arm': -1, 'ravel_ind': 5}\n",
      "{'date': '04_12_2020', 'scene': 'YMaze_LNovel', 'session': 1, 'scan': 3, 'novel_arm': 1, 'ravel_ind': 7}\n",
      "{'date': '05_12_2020', 'scene': 'YMaze_LNovel', 'session': 1, 'scan': 2, 'novel_arm': -1, 'ravel_ind': 5}\n"
     ]
    },
    {
     "name": "stderr",
     "output_type": "stream",
     "text": [
      "/home/mplitt/repos/TwoPUtils/TwoPUtils/sess.py:95: UserWarning: skipping checking keys, remaining initialization not guaranteed to work\n",
      "  warnings.warn(\"skipping checking keys, remaining initialization not guaranteed to work\")\n",
      "/home/mplitt/repos/TwoPUtils/TwoPUtils/sess.py:227: UserWarning: Could not find sbxmat file at /media/mplitt/Backup Plus3/2P_Data/4467333.1/05_12_2020/YMaze_LNovel/YMaze_LNovel_001_002.mat\n",
      "  warnings.warn(\"Could not find sbxmat file at %s\" % self.scanheader_file)\n",
      "/home/mplitt/repos/TwoPUtils/TwoPUtils/sess.py:236: UserWarning: Could not find sbx file at /media/mplitt/Backup Plus3/2P_Data/4467333.1/05_12_2020/YMaze_LNovel/YMaze_LNovel_001_002.sbx\n",
      "  warnings.warn(\"Could not find sbx file at %s\" % self.scan_file)\n"
     ]
    },
    {
     "name": "stdout",
     "output_type": "stream",
     "text": [
      "{'date': '03_10_2020', 'scene': 'YMaze_LNovel', 'session': 1, 'scan': 3, 'novel_arm': -1, 'ravel_ind': 6}\n"
     ]
    },
    {
     "name": "stderr",
     "output_type": "stream",
     "text": [
      "/home/mplitt/repos/TwoPUtils/TwoPUtils/sess.py:95: UserWarning: skipping checking keys, remaining initialization not guaranteed to work\n",
      "  warnings.warn(\"skipping checking keys, remaining initialization not guaranteed to work\")\n",
      "/home/mplitt/repos/TwoPUtils/TwoPUtils/sess.py:227: UserWarning: Could not find sbxmat file at /mnt/BigDisk/2P_scratch/4467975.1/03_10_2020/YMaze_LNovel/YMaze_LNovel_001_003.mat\n",
      "  warnings.warn(\"Could not find sbxmat file at %s\" % self.scanheader_file)\n",
      "/home/mplitt/repos/TwoPUtils/TwoPUtils/sess.py:236: UserWarning: Could not find sbx file at /mnt/BigDisk/2P_scratch/4467975.1/03_10_2020/YMaze_LNovel/YMaze_LNovel_001_003.sbx\n",
      "  warnings.warn(\"Could not find sbx file at %s\" % self.scan_file)\n"
     ]
    },
    {
     "name": "stdout",
     "output_type": "stream",
     "text": [
      "{'date': '03_10_2020', 'scene': 'YMaze_LNovel', 'session': 1, 'scan': 8, 'novel_arm': 1, 'ravel_ind': 5}\n"
     ]
    },
    {
     "name": "stderr",
     "output_type": "stream",
     "text": [
      "/home/mplitt/repos/TwoPUtils/TwoPUtils/sess.py:227: UserWarning: Could not find sbxmat file at /mnt/BigDisk/2P_scratch/4467975.2/03_10_2020/YMaze_LNovel/YMaze_LNovel_001_008.mat\n",
      "  warnings.warn(\"Could not find sbxmat file at %s\" % self.scanheader_file)\n",
      "/home/mplitt/repos/TwoPUtils/TwoPUtils/sess.py:236: UserWarning: Could not find sbx file at /mnt/BigDisk/2P_scratch/4467975.2/03_10_2020/YMaze_LNovel/YMaze_LNovel_001_008.sbx\n",
      "  warnings.warn(\"Could not find sbx file at %s\" % self.scan_file)\n"
     ]
    },
    {
     "name": "stdout",
     "output_type": "stream",
     "text": [
      "{'date': '03_10_2020', 'scene': 'YMaze_LNovel', 'session': 1, 'scan': 6, 'novel_arm': -1, 'ravel_ind': 5}\n"
     ]
    },
    {
     "name": "stderr",
     "output_type": "stream",
     "text": [
      "/home/mplitt/repos/TwoPUtils/TwoPUtils/sess.py:227: UserWarning: Could not find sbxmat file at /mnt/BigDisk/2P_scratch/4467975.3/03_10_2020/YMaze_LNovel/YMaze_LNovel_001_006.mat\n",
      "  warnings.warn(\"Could not find sbxmat file at %s\" % self.scanheader_file)\n",
      "/home/mplitt/repos/TwoPUtils/TwoPUtils/sess.py:236: UserWarning: Could not find sbx file at /mnt/BigDisk/2P_scratch/4467975.3/03_10_2020/YMaze_LNovel/YMaze_LNovel_001_006.sbx\n",
      "  warnings.warn(\"Could not find sbx file at %s\" % self.scan_file)\n"
     ]
    },
    {
     "name": "stdout",
     "output_type": "stream",
     "text": [
      "{'date': '03_10_2020', 'scene': 'YMaze_LNovel', 'session': 1, 'scan': 4, 'novel_arm': 1, 'ravel_ind': 5}\n",
      "{'date': '03_10_2020', 'scene': 'YMaze_LNovel', 'session': 1, 'scan': 5, 'novel_arm': -1, 'ravel_ind': 5}\n",
      "{'date': '29_11_2020', 'scene': 'YMaze_LNovel', 'session': 1, 'scan': 3, 'novel_arm': -1, 'ravel_ind': 0}\n",
      "{'date': '29_11_2020', 'scene': 'YMaze_LNovel', 'session': 1, 'scan': 4, 'novel_arm': 1, 'ravel_ind': 0}\n",
      "{'date': '29_11_2020', 'scene': 'YMaze_LNovel', 'session': 1, 'scan': 8, 'novel_arm': -1, 'ravel_ind': 0}\n",
      "{'date': '29_11_2020', 'scene': 'YMaze_LNovel', 'session': 2, 'scan': 18, 'novel_arm': 1, 'ravel_ind': 1}\n",
      "{'date': '29_11_2020', 'scene': 'YMaze_LNovel', 'session': 1, 'scan': 4, 'novel_arm': -1, 'ravel_ind': 0}\n",
      "{'date': '28_09_2020', 'scene': 'YMaze_LNovel', 'session': 6, 'scan': 14, 'novel_arm': -1, 'ravel_ind': 1}\n"
     ]
    },
    {
     "name": "stderr",
     "output_type": "stream",
     "text": [
      "/home/mplitt/repos/TwoPUtils/TwoPUtils/sess.py:95: UserWarning: skipping checking keys, remaining initialization not guaranteed to work\n",
      "  warnings.warn(\"skipping checking keys, remaining initialization not guaranteed to work\")\n",
      "/home/mplitt/repos/TwoPUtils/TwoPUtils/sess.py:227: UserWarning: Could not find sbxmat file at /mnt/BigDisk/2P_scratch/4467975.1/28_09_2020/YMaze_LNovel/YMaze_LNovel_006_014.mat\n",
      "  warnings.warn(\"Could not find sbxmat file at %s\" % self.scanheader_file)\n",
      "/home/mplitt/repos/TwoPUtils/TwoPUtils/sess.py:236: UserWarning: Could not find sbx file at /mnt/BigDisk/2P_scratch/4467975.1/28_09_2020/YMaze_LNovel/YMaze_LNovel_006_014.sbx\n",
      "  warnings.warn(\"Could not find sbx file at %s\" % self.scan_file)\n"
     ]
    },
    {
     "name": "stdout",
     "output_type": "stream",
     "text": [
      "{'date': '28_09_2020', 'scene': 'YMaze_LNovel', 'session': 3, 'scan': 8, 'novel_arm': 1, 'ravel_ind': 0}\n"
     ]
    },
    {
     "name": "stderr",
     "output_type": "stream",
     "text": [
      "/home/mplitt/repos/TwoPUtils/TwoPUtils/sess.py:227: UserWarning: Could not find sbxmat file at /mnt/BigDisk/2P_scratch/4467975.2/28_09_2020/YMaze_LNovel/YMaze_LNovel_003_008.mat\n",
      "  warnings.warn(\"Could not find sbxmat file at %s\" % self.scanheader_file)\n",
      "/home/mplitt/repos/TwoPUtils/TwoPUtils/sess.py:236: UserWarning: Could not find sbx file at /mnt/BigDisk/2P_scratch/4467975.2/28_09_2020/YMaze_LNovel/YMaze_LNovel_003_008.sbx\n",
      "  warnings.warn(\"Could not find sbx file at %s\" % self.scan_file)\n"
     ]
    },
    {
     "name": "stdout",
     "output_type": "stream",
     "text": [
      "{'date': '28_09_2020', 'scene': 'YMaze_LNovel', 'session': 1, 'scan': 4, 'novel_arm': -1, 'ravel_ind': 0}\n"
     ]
    },
    {
     "name": "stderr",
     "output_type": "stream",
     "text": [
      "/home/mplitt/repos/TwoPUtils/TwoPUtils/sess.py:227: UserWarning: Could not find sbxmat file at /mnt/BigDisk/2P_scratch/4467975.3/28_09_2020/YMaze_LNovel/YMaze_LNovel_001_004.mat\n",
      "  warnings.warn(\"Could not find sbxmat file at %s\" % self.scanheader_file)\n",
      "/home/mplitt/repos/TwoPUtils/TwoPUtils/sess.py:236: UserWarning: Could not find sbx file at /mnt/BigDisk/2P_scratch/4467975.3/28_09_2020/YMaze_LNovel/YMaze_LNovel_001_004.sbx\n",
      "  warnings.warn(\"Could not find sbx file at %s\" % self.scan_file)\n"
     ]
    },
    {
     "name": "stdout",
     "output_type": "stream",
     "text": [
      "{'date': '28_09_2020', 'scene': 'YMaze_LNovel', 'session': 1, 'scan': 5, 'novel_arm': 1, 'ravel_ind': 0}\n",
      "{'date': '28_09_2020', 'scene': 'YMaze_LNovel', 'session': 1, 'scan': 4, 'novel_arm': -1, 'ravel_ind': 0}\n",
      "{'date': '30_11_2020', 'scene': 'YMaze_LNovel', 'session': 1, 'scan': 7, 'novel_arm': -1, 'ravel_ind': 1}\n",
      "{'date': '30_11_2020', 'scene': 'YMaze_LNovel', 'session': 1, 'scan': 4, 'novel_arm': 1, 'ravel_ind': 1}\n",
      "{'date': '30_11_2020', 'scene': 'YMaze_LNovel', 'session': 1, 'scan': 4, 'novel_arm': -1, 'ravel_ind': 1}\n",
      "({'date': '30_11_2020', 'scene': 'YMaze_LNovel', 'session': 1, 'scan': 4, 'novel_arm': 1, 'ravel_ind': 2}, {'date': '30_11_2020', 'scene': 'YMaze_LNovel', 'session': 3, 'scan': 9, 'novel_arm': 1, 'ravel_ind': 3})\n",
      "30_11_2020 YMaze_LNovel\n",
      "30_11_2020 YMaze_LNovel\n",
      "['LR', 'block_number', 'sess_num_ravel', 'sess_num']\n",
      "['LR', 'block_number', 'sess_num_ravel', 'sess_num']\n",
      "{'date': '30_11_2020', 'scene': 'YMaze_LNovel', 'session': 1, 'scan': 6, 'novel_arm': -1, 'ravel_ind': 1}\n",
      "{'date': '29_09_2020', 'scene': 'YMaze_LNovel', 'session': 1, 'scan': 3, 'novel_arm': -1, 'ravel_ind': 2}\n"
     ]
    },
    {
     "name": "stderr",
     "output_type": "stream",
     "text": [
      "/home/mplitt/repos/TwoPUtils/TwoPUtils/sess.py:95: UserWarning: skipping checking keys, remaining initialization not guaranteed to work\n",
      "  warnings.warn(\"skipping checking keys, remaining initialization not guaranteed to work\")\n",
      "/home/mplitt/repos/TwoPUtils/TwoPUtils/sess.py:227: UserWarning: Could not find sbxmat file at /mnt/BigDisk/2P_scratch/4467975.1/29_09_2020/YMaze_LNovel/YMaze_LNovel_001_003.mat\n",
      "  warnings.warn(\"Could not find sbxmat file at %s\" % self.scanheader_file)\n",
      "/home/mplitt/repos/TwoPUtils/TwoPUtils/sess.py:236: UserWarning: Could not find sbx file at /mnt/BigDisk/2P_scratch/4467975.1/29_09_2020/YMaze_LNovel/YMaze_LNovel_001_003.sbx\n",
      "  warnings.warn(\"Could not find sbx file at %s\" % self.scan_file)\n"
     ]
    },
    {
     "name": "stdout",
     "output_type": "stream",
     "text": [
      "{'date': '29_09_2020', 'scene': 'YMaze_LNovel', 'session': 1, 'scan': 3, 'novel_arm': 1, 'ravel_ind': 1}\n"
     ]
    },
    {
     "name": "stderr",
     "output_type": "stream",
     "text": [
      "/home/mplitt/repos/TwoPUtils/TwoPUtils/sess.py:227: UserWarning: Could not find sbxmat file at /mnt/BigDisk/2P_scratch/4467975.2/29_09_2020/YMaze_LNovel/YMaze_LNovel_001_003.mat\n",
      "  warnings.warn(\"Could not find sbxmat file at %s\" % self.scanheader_file)\n",
      "/home/mplitt/repos/TwoPUtils/TwoPUtils/sess.py:236: UserWarning: Could not find sbx file at /mnt/BigDisk/2P_scratch/4467975.2/29_09_2020/YMaze_LNovel/YMaze_LNovel_001_003.sbx\n",
      "  warnings.warn(\"Could not find sbx file at %s\" % self.scan_file)\n"
     ]
    },
    {
     "name": "stdout",
     "output_type": "stream",
     "text": [
      "{'date': '29_09_2020', 'scene': 'YMaze_LNovel', 'session': 1, 'scan': 4, 'novel_arm': -1, 'ravel_ind': 1}\n"
     ]
    },
    {
     "name": "stderr",
     "output_type": "stream",
     "text": [
      "/home/mplitt/repos/TwoPUtils/TwoPUtils/sess.py:227: UserWarning: Could not find sbxmat file at /mnt/BigDisk/2P_scratch/4467975.3/29_09_2020/YMaze_LNovel/YMaze_LNovel_001_004.mat\n",
      "  warnings.warn(\"Could not find sbxmat file at %s\" % self.scanheader_file)\n",
      "/home/mplitt/repos/TwoPUtils/TwoPUtils/sess.py:236: UserWarning: Could not find sbx file at /mnt/BigDisk/2P_scratch/4467975.3/29_09_2020/YMaze_LNovel/YMaze_LNovel_001_004.sbx\n",
      "  warnings.warn(\"Could not find sbx file at %s\" % self.scan_file)\n"
     ]
    },
    {
     "name": "stdout",
     "output_type": "stream",
     "text": [
      "{'date': '29_09_2020', 'scene': 'YMaze_LNovel', 'session': 1, 'scan': 3, 'novel_arm': 1, 'ravel_ind': 1}\n",
      "{'date': '29_09_2020', 'scene': 'YMaze_LNovel', 'session': 1, 'scan': 3, 'novel_arm': -1, 'ravel_ind': 1}\n",
      "{'date': '01_12_2020', 'scene': 'YMaze_LNovel', 'session': 1, 'scan': 4, 'novel_arm': -1, 'ravel_ind': 2}\n",
      "{'date': '01_12_2020', 'scene': 'YMaze_LNovel', 'session': 1, 'scan': 4, 'novel_arm': 1, 'ravel_ind': 2}\n",
      "{'date': '01_12_2020', 'scene': 'YMaze_LNovel', 'session': 1, 'scan': 5, 'novel_arm': -1, 'ravel_ind': 2}\n",
      "{'date': '01_12_2020', 'scene': 'YMaze_LNovel', 'session': 1, 'scan': 4, 'novel_arm': 1, 'ravel_ind': 4}\n",
      "{'date': '01_12_2020', 'scene': 'YMaze_LNovel', 'session': 1, 'scan': 4, 'novel_arm': -1, 'ravel_ind': 2}\n",
      "{'date': '30_09_2020', 'scene': 'YMaze_LNovel', 'session': 1, 'scan': 4, 'novel_arm': -1, 'ravel_ind': 3}\n"
     ]
    },
    {
     "name": "stderr",
     "output_type": "stream",
     "text": [
      "/home/mplitt/repos/TwoPUtils/TwoPUtils/sess.py:95: UserWarning: skipping checking keys, remaining initialization not guaranteed to work\n",
      "  warnings.warn(\"skipping checking keys, remaining initialization not guaranteed to work\")\n",
      "/home/mplitt/repos/TwoPUtils/TwoPUtils/sess.py:227: UserWarning: Could not find sbxmat file at /mnt/BigDisk/2P_scratch/4467975.1/30_09_2020/YMaze_LNovel/YMaze_LNovel_001_004.mat\n",
      "  warnings.warn(\"Could not find sbxmat file at %s\" % self.scanheader_file)\n",
      "/home/mplitt/repos/TwoPUtils/TwoPUtils/sess.py:236: UserWarning: Could not find sbx file at /mnt/BigDisk/2P_scratch/4467975.1/30_09_2020/YMaze_LNovel/YMaze_LNovel_001_004.sbx\n",
      "  warnings.warn(\"Could not find sbx file at %s\" % self.scan_file)\n"
     ]
    },
    {
     "name": "stdout",
     "output_type": "stream",
     "text": [
      "{'date': '30_09_2020', 'scene': 'YMaze_LNovel', 'session': 1, 'scan': 4, 'novel_arm': 1, 'ravel_ind': 2}\n"
     ]
    },
    {
     "name": "stderr",
     "output_type": "stream",
     "text": [
      "/home/mplitt/repos/TwoPUtils/TwoPUtils/sess.py:227: UserWarning: Could not find sbxmat file at /mnt/BigDisk/2P_scratch/4467975.2/30_09_2020/YMaze_LNovel/YMaze_LNovel_001_004.mat\n",
      "  warnings.warn(\"Could not find sbxmat file at %s\" % self.scanheader_file)\n",
      "/home/mplitt/repos/TwoPUtils/TwoPUtils/sess.py:236: UserWarning: Could not find sbx file at /mnt/BigDisk/2P_scratch/4467975.2/30_09_2020/YMaze_LNovel/YMaze_LNovel_001_004.sbx\n",
      "  warnings.warn(\"Could not find sbx file at %s\" % self.scan_file)\n"
     ]
    },
    {
     "name": "stdout",
     "output_type": "stream",
     "text": [
      "{'date': '30_09_2020', 'scene': 'YMaze_LNovel', 'session': 2, 'scan': 7, 'novel_arm': -1, 'ravel_ind': 2}\n"
     ]
    },
    {
     "name": "stderr",
     "output_type": "stream",
     "text": [
      "/home/mplitt/repos/TwoPUtils/TwoPUtils/sess.py:227: UserWarning: Could not find sbxmat file at /mnt/BigDisk/2P_scratch/4467975.3/30_09_2020/YMaze_LNovel/YMaze_LNovel_002_007.mat\n",
      "  warnings.warn(\"Could not find sbxmat file at %s\" % self.scanheader_file)\n",
      "/home/mplitt/repos/TwoPUtils/TwoPUtils/sess.py:236: UserWarning: Could not find sbx file at /mnt/BigDisk/2P_scratch/4467975.3/30_09_2020/YMaze_LNovel/YMaze_LNovel_002_007.sbx\n",
      "  warnings.warn(\"Could not find sbx file at %s\" % self.scan_file)\n"
     ]
    },
    {
     "name": "stdout",
     "output_type": "stream",
     "text": [
      "{'date': '30_09_2020', 'scene': 'YMaze_LNovel', 'session': 1, 'scan': 3, 'novel_arm': 1, 'ravel_ind': 2}\n",
      "{'date': '30_09_2020', 'scene': 'YMaze_LNovel', 'session': 1, 'scan': 5, 'novel_arm': -1, 'ravel_ind': 2}\n",
      "{'date': '02_12_2020', 'scene': 'YMaze_LNovel', 'session': 1, 'scan': 3, 'novel_arm': -1, 'ravel_ind': 3}\n",
      "({'date': '02_12_2020', 'scene': 'YMaze_LNovel', 'session': 1, 'scan': 6, 'novel_arm': 1, 'ravel_ind': 3}, {'date': '02_12_2020', 'scene': 'YMaze_LNovel', 'session': 2, 'scan': 12, 'novel_arm': 1, 'ravel_ind': 4})\n",
      "02_12_2020 YMaze_LNovel\n",
      "02_12_2020 YMaze_LNovel\n",
      "['LR', 'block_number', 'sess_num_ravel', 'sess_num']\n",
      "['LR', 'block_number', 'sess_num_ravel', 'sess_num']\n",
      "{'date': '02_12_2020', 'scene': 'YMaze_LNovel', 'session': 1, 'scan': 6, 'novel_arm': -1, 'ravel_ind': 3}\n",
      "{'date': '02_12_2020', 'scene': 'YMaze_LNovel', 'session': 1, 'scan': 4, 'novel_arm': 1, 'ravel_ind': 5}\n",
      "{'date': '02_12_2020', 'scene': 'YMaze_LNovel', 'session': 1, 'scan': 4, 'novel_arm': -1, 'ravel_ind': 3}\n",
      "{'date': '01_10_2020', 'scene': 'YMaze_LNovel', 'session': 1, 'scan': 2, 'novel_arm': -1, 'ravel_ind': 4}\n"
     ]
    },
    {
     "name": "stderr",
     "output_type": "stream",
     "text": [
      "/home/mplitt/repos/TwoPUtils/TwoPUtils/sess.py:95: UserWarning: skipping checking keys, remaining initialization not guaranteed to work\n",
      "  warnings.warn(\"skipping checking keys, remaining initialization not guaranteed to work\")\n",
      "/home/mplitt/repos/TwoPUtils/TwoPUtils/sess.py:227: UserWarning: Could not find sbxmat file at /mnt/BigDisk/2P_scratch/4467975.1/01_10_2020/YMaze_LNovel/YMaze_LNovel_001_002.mat\n",
      "  warnings.warn(\"Could not find sbxmat file at %s\" % self.scanheader_file)\n",
      "/home/mplitt/repos/TwoPUtils/TwoPUtils/sess.py:236: UserWarning: Could not find sbx file at /mnt/BigDisk/2P_scratch/4467975.1/01_10_2020/YMaze_LNovel/YMaze_LNovel_001_002.sbx\n",
      "  warnings.warn(\"Could not find sbx file at %s\" % self.scan_file)\n"
     ]
    },
    {
     "name": "stdout",
     "output_type": "stream",
     "text": [
      "{'date': '01_10_2020', 'scene': 'YMaze_LNovel', 'session': 1, 'scan': 4, 'novel_arm': 1, 'ravel_ind': 3}\n"
     ]
    },
    {
     "name": "stderr",
     "output_type": "stream",
     "text": [
      "/home/mplitt/repos/TwoPUtils/TwoPUtils/sess.py:227: UserWarning: Could not find sbxmat file at /mnt/BigDisk/2P_scratch/4467975.2/01_10_2020/YMaze_LNovel/YMaze_LNovel_001_004.mat\n",
      "  warnings.warn(\"Could not find sbxmat file at %s\" % self.scanheader_file)\n",
      "/home/mplitt/repos/TwoPUtils/TwoPUtils/sess.py:236: UserWarning: Could not find sbx file at /mnt/BigDisk/2P_scratch/4467975.2/01_10_2020/YMaze_LNovel/YMaze_LNovel_001_004.sbx\n",
      "  warnings.warn(\"Could not find sbx file at %s\" % self.scan_file)\n"
     ]
    },
    {
     "name": "stdout",
     "output_type": "stream",
     "text": [
      "{'date': '01_10_2020', 'scene': 'YMaze_LNovel', 'session': 1, 'scan': 7, 'novel_arm': -1, 'ravel_ind': 3}\n"
     ]
    },
    {
     "name": "stderr",
     "output_type": "stream",
     "text": [
      "/home/mplitt/repos/TwoPUtils/TwoPUtils/sess.py:227: UserWarning: Could not find sbxmat file at /mnt/BigDisk/2P_scratch/4467975.3/01_10_2020/YMaze_LNovel/YMaze_LNovel_001_007.mat\n",
      "  warnings.warn(\"Could not find sbxmat file at %s\" % self.scanheader_file)\n",
      "/home/mplitt/repos/TwoPUtils/TwoPUtils/sess.py:236: UserWarning: Could not find sbx file at /mnt/BigDisk/2P_scratch/4467975.3/01_10_2020/YMaze_LNovel/YMaze_LNovel_001_007.sbx\n",
      "  warnings.warn(\"Could not find sbx file at %s\" % self.scan_file)\n"
     ]
    },
    {
     "name": "stdout",
     "output_type": "stream",
     "text": [
      "{'date': '01_10_2020', 'scene': 'YMaze_LNovel', 'session': 1, 'scan': 2, 'novel_arm': 1, 'ravel_ind': 3}\n",
      "{'date': '01_10_2020', 'scene': 'YMaze_LNovel', 'session': 1, 'scan': 7, 'novel_arm': -1, 'ravel_ind': 3}\n",
      "{'date': '03_12_2020', 'scene': 'YMaze_LNovel', 'session': 1, 'scan': 8, 'novel_arm': -1, 'ravel_ind': 4}\n",
      "{'date': '03_12_2020', 'scene': 'YMaze_LNovel', 'session': 1, 'scan': 3, 'novel_arm': 1, 'ravel_ind': 5}\n",
      "{'date': '03_12_2020', 'scene': 'YMaze_LNovel', 'session': 1, 'scan': 3, 'novel_arm': -1, 'ravel_ind': 4}\n",
      "{'date': '03_12_2020', 'scene': 'YMaze_LNovel', 'session': 1, 'scan': 3, 'novel_arm': 1, 'ravel_ind': 6}\n",
      "{'date': '03_12_2020', 'scene': 'YMaze_LNovel', 'session': 2, 'scan': 4, 'novel_arm': -1, 'ravel_ind': 4}\n",
      "{'date': '02_10_2020', 'scene': 'YMaze_LNovel', 'session': 1, 'scan': 3, 'novel_arm': -1, 'ravel_ind': 5}\n"
     ]
    },
    {
     "name": "stderr",
     "output_type": "stream",
     "text": [
      "/home/mplitt/repos/TwoPUtils/TwoPUtils/sess.py:95: UserWarning: skipping checking keys, remaining initialization not guaranteed to work\n",
      "  warnings.warn(\"skipping checking keys, remaining initialization not guaranteed to work\")\n",
      "/home/mplitt/repos/TwoPUtils/TwoPUtils/sess.py:227: UserWarning: Could not find sbxmat file at /mnt/BigDisk/2P_scratch/4467975.1/02_10_2020/YMaze_LNovel/YMaze_LNovel_001_003.mat\n",
      "  warnings.warn(\"Could not find sbxmat file at %s\" % self.scanheader_file)\n",
      "/home/mplitt/repos/TwoPUtils/TwoPUtils/sess.py:236: UserWarning: Could not find sbx file at /mnt/BigDisk/2P_scratch/4467975.1/02_10_2020/YMaze_LNovel/YMaze_LNovel_001_003.sbx\n",
      "  warnings.warn(\"Could not find sbx file at %s\" % self.scan_file)\n"
     ]
    },
    {
     "name": "stdout",
     "output_type": "stream",
     "text": [
      "{'date': '02_10_2020', 'scene': 'YMaze_LNovel', 'session': 1, 'scan': 9, 'novel_arm': 1, 'ravel_ind': 4}\n"
     ]
    },
    {
     "name": "stderr",
     "output_type": "stream",
     "text": [
      "/home/mplitt/repos/TwoPUtils/TwoPUtils/sess.py:227: UserWarning: Could not find sbxmat file at /mnt/BigDisk/2P_scratch/4467975.2/02_10_2020/YMaze_LNovel/YMaze_LNovel_001_009.mat\n",
      "  warnings.warn(\"Could not find sbxmat file at %s\" % self.scanheader_file)\n",
      "/home/mplitt/repos/TwoPUtils/TwoPUtils/sess.py:236: UserWarning: Could not find sbx file at /mnt/BigDisk/2P_scratch/4467975.2/02_10_2020/YMaze_LNovel/YMaze_LNovel_001_009.sbx\n",
      "  warnings.warn(\"Could not find sbx file at %s\" % self.scan_file)\n"
     ]
    },
    {
     "name": "stdout",
     "output_type": "stream",
     "text": [
      "{'date': '02_10_2020', 'scene': 'YMaze_LNovel', 'session': 1, 'scan': 3, 'novel_arm': -1, 'ravel_ind': 4}\n"
     ]
    },
    {
     "name": "stderr",
     "output_type": "stream",
     "text": [
      "/home/mplitt/repos/TwoPUtils/TwoPUtils/sess.py:227: UserWarning: Could not find sbxmat file at /mnt/BigDisk/2P_scratch/4467975.3/02_10_2020/YMaze_LNovel/YMaze_LNovel_001_003.mat\n",
      "  warnings.warn(\"Could not find sbxmat file at %s\" % self.scanheader_file)\n",
      "/home/mplitt/repos/TwoPUtils/TwoPUtils/sess.py:236: UserWarning: Could not find sbx file at /mnt/BigDisk/2P_scratch/4467975.3/02_10_2020/YMaze_LNovel/YMaze_LNovel_001_003.sbx\n",
      "  warnings.warn(\"Could not find sbx file at %s\" % self.scan_file)\n"
     ]
    },
    {
     "name": "stdout",
     "output_type": "stream",
     "text": [
      "{'date': '02_10_2020', 'scene': 'YMaze_LNovel', 'session': 1, 'scan': 4, 'novel_arm': 1, 'ravel_ind': 4}\n",
      "{'date': '02_10_2020', 'scene': 'YMaze_LNovel', 'session': 1, 'scan': 3, 'novel_arm': -1, 'ravel_ind': 4}\n",
      "{'date': '04_12_2020', 'scene': 'YMaze_LNovel', 'session': 1, 'scan': 2, 'novel_arm': -1, 'ravel_ind': 5}\n",
      "{'date': '04_12_2020', 'scene': 'YMaze_LNovel', 'session': 1, 'scan': 3, 'novel_arm': 1, 'ravel_ind': 6}\n",
      "{'date': '04_12_2020', 'scene': 'YMaze_LNovel', 'session': 1, 'scan': 2, 'novel_arm': -1, 'ravel_ind': 5}\n",
      "{'date': '04_12_2020', 'scene': 'YMaze_LNovel', 'session': 1, 'scan': 3, 'novel_arm': 1, 'ravel_ind': 7}\n",
      "{'date': '05_12_2020', 'scene': 'YMaze_LNovel', 'session': 1, 'scan': 2, 'novel_arm': -1, 'ravel_ind': 5}\n"
     ]
    },
    {
     "name": "stderr",
     "output_type": "stream",
     "text": [
      "/home/mplitt/repos/TwoPUtils/TwoPUtils/sess.py:95: UserWarning: skipping checking keys, remaining initialization not guaranteed to work\n",
      "  warnings.warn(\"skipping checking keys, remaining initialization not guaranteed to work\")\n",
      "/home/mplitt/repos/TwoPUtils/TwoPUtils/sess.py:227: UserWarning: Could not find sbxmat file at /media/mplitt/Backup Plus3/2P_Data/4467333.1/05_12_2020/YMaze_LNovel/YMaze_LNovel_001_002.mat\n",
      "  warnings.warn(\"Could not find sbxmat file at %s\" % self.scanheader_file)\n",
      "/home/mplitt/repos/TwoPUtils/TwoPUtils/sess.py:236: UserWarning: Could not find sbx file at /media/mplitt/Backup Plus3/2P_Data/4467333.1/05_12_2020/YMaze_LNovel/YMaze_LNovel_001_002.sbx\n",
      "  warnings.warn(\"Could not find sbx file at %s\" % self.scan_file)\n"
     ]
    },
    {
     "name": "stdout",
     "output_type": "stream",
     "text": [
      "{'date': '03_10_2020', 'scene': 'YMaze_LNovel', 'session': 1, 'scan': 3, 'novel_arm': -1, 'ravel_ind': 6}\n"
     ]
    },
    {
     "name": "stderr",
     "output_type": "stream",
     "text": [
      "/home/mplitt/repos/TwoPUtils/TwoPUtils/sess.py:95: UserWarning: skipping checking keys, remaining initialization not guaranteed to work\n",
      "  warnings.warn(\"skipping checking keys, remaining initialization not guaranteed to work\")\n",
      "/home/mplitt/repos/TwoPUtils/TwoPUtils/sess.py:227: UserWarning: Could not find sbxmat file at /mnt/BigDisk/2P_scratch/4467975.1/03_10_2020/YMaze_LNovel/YMaze_LNovel_001_003.mat\n",
      "  warnings.warn(\"Could not find sbxmat file at %s\" % self.scanheader_file)\n",
      "/home/mplitt/repos/TwoPUtils/TwoPUtils/sess.py:236: UserWarning: Could not find sbx file at /mnt/BigDisk/2P_scratch/4467975.1/03_10_2020/YMaze_LNovel/YMaze_LNovel_001_003.sbx\n",
      "  warnings.warn(\"Could not find sbx file at %s\" % self.scan_file)\n"
     ]
    },
    {
     "name": "stdout",
     "output_type": "stream",
     "text": [
      "{'date': '03_10_2020', 'scene': 'YMaze_LNovel', 'session': 1, 'scan': 8, 'novel_arm': 1, 'ravel_ind': 5}\n"
     ]
    },
    {
     "name": "stderr",
     "output_type": "stream",
     "text": [
      "/home/mplitt/repos/TwoPUtils/TwoPUtils/sess.py:227: UserWarning: Could not find sbxmat file at /mnt/BigDisk/2P_scratch/4467975.2/03_10_2020/YMaze_LNovel/YMaze_LNovel_001_008.mat\n",
      "  warnings.warn(\"Could not find sbxmat file at %s\" % self.scanheader_file)\n",
      "/home/mplitt/repos/TwoPUtils/TwoPUtils/sess.py:236: UserWarning: Could not find sbx file at /mnt/BigDisk/2P_scratch/4467975.2/03_10_2020/YMaze_LNovel/YMaze_LNovel_001_008.sbx\n",
      "  warnings.warn(\"Could not find sbx file at %s\" % self.scan_file)\n"
     ]
    },
    {
     "name": "stdout",
     "output_type": "stream",
     "text": [
      "{'date': '03_10_2020', 'scene': 'YMaze_LNovel', 'session': 1, 'scan': 6, 'novel_arm': -1, 'ravel_ind': 5}\n"
     ]
    },
    {
     "name": "stderr",
     "output_type": "stream",
     "text": [
      "/home/mplitt/repos/TwoPUtils/TwoPUtils/sess.py:227: UserWarning: Could not find sbxmat file at /mnt/BigDisk/2P_scratch/4467975.3/03_10_2020/YMaze_LNovel/YMaze_LNovel_001_006.mat\n",
      "  warnings.warn(\"Could not find sbxmat file at %s\" % self.scanheader_file)\n",
      "/home/mplitt/repos/TwoPUtils/TwoPUtils/sess.py:236: UserWarning: Could not find sbx file at /mnt/BigDisk/2P_scratch/4467975.3/03_10_2020/YMaze_LNovel/YMaze_LNovel_001_006.sbx\n",
      "  warnings.warn(\"Could not find sbx file at %s\" % self.scan_file)\n"
     ]
    },
    {
     "name": "stdout",
     "output_type": "stream",
     "text": [
      "{'date': '03_10_2020', 'scene': 'YMaze_LNovel', 'session': 1, 'scan': 4, 'novel_arm': 1, 'ravel_ind': 5}\n",
      "{'date': '03_10_2020', 'scene': 'YMaze_LNovel', 'session': 1, 'scan': 5, 'novel_arm': -1, 'ravel_ind': 5}\n"
     ]
    },
    {
     "data": {
      "image/png": "[encoded data removed]",
      "text/plain": [
       "<Figure size 2160x720 with 12 Axes>"
      ]
     },
     "metadata": {
      "needs_background": "light"
     },
     "output_type": "display_data"
    },
    {
     "data": {
      "image/png": "[encoded data removed]",
      "text/plain": [
       "<Figure size 2160x720 with 12 Axes>"
      ]
     },
     "metadata": {
      "needs_background": "light"
     },
     "output_type": "display_data"
    },
    {
     "data": {
      "image/png": "[encoded data removed]",
      "text/plain": [
       "<Figure size 432x288 with 1 Axes>"
      ]
     },
     "metadata": {
      "needs_background": "light"
     },
     "output_type": "display_data"
    }
   ],
   "source": [
    "fig, ax = plt.subplots(2,6, figsize=[30,10])\n",
    "fig_cum, ax_cum = plt.subplots(2,6, figsize= [30,10])\n",
    "fig_scat, ax_scat = plt.subplots()\n",
    "df = pd.DataFrame({'ko': [],\n",
    "                   'day': [],\n",
    "                   'nov': [],\n",
    "                   'fw' : [],\n",
    "                   'mouse': [],\n",
    "                   'ko_x_day': [],\n",
    "                   'ko_x_nov': [],\n",
    "                   'nov_x_day': [],\n",
    "                   'speed': [],\n",
    "                   'intercept': []})\n",
    "days_z = sp.stats.zscore(np.arange(6))\n",
    "for row, novkey in enumerate([ 'fam', 'nov']):\n",
    "    for day in range(6):\n",
    "\n",
    "        ctrl_fw = []\n",
    "        ctrl_mu = []\n",
    "        for mouse in ctrl_mice:\n",
    "            sess = u.load_single_day(mouse,day)\n",
    "            if novkey in ['fam']:\n",
    "                trial_mask = sess.trial_info['LR']==-1*sess.novel_arm\n",
    "            else:\n",
    "                trial_mask = sess.trial_info['LR']==sess.novel_arm\n",
    "            \n",
    "            r,f  = ctrl_field_mask_res[mouse][day][novkey]['rising_edges'], ctrl_field_mask_res[mouse][day][novkey]['falling_edges']\n",
    "            border_cells = (r[:,1]==0) + (f[:,1]==29) > 0\n",
    "            r, f = r[~border_cells,:], f[~border_cells,:]\n",
    "            \n",
    "            dat = f[:,1]-r[:,1]\n",
    "#             print(dat)\n",
    "            ctrl_fw.append(dat[dat>0])\n",
    "            df = df.append({'ko': 0, \n",
    "                            'day': (day+1)/6.,\n",
    "                            'nov': row, \n",
    "                            'fw': dat[dat>0].mean(), \n",
    "                            'mouse': mouse, \n",
    "                            'ko_x_day': 0,\n",
    "                            'ko_x_nov': 0,\n",
    "                            'nov_x_day': row*(day+1)/6.,\n",
    "                            'speed': np.nanmean(np.nanmean(sess.trial_matrices['speed'][trial_mask,:],axis=0)),\n",
    "                            'intercept': 1}, ignore_index=True)\n",
    "            ctrl_mu.append(dat[dat>0].mean())\n",
    "        ctrl_fw = np.concatenate(ctrl_fw)\n",
    "\n",
    "        \n",
    "        hist, bins, _ = ax[row,day].hist(ctrl_fw, bins = np.arange(0,20), color='black', alpha = .3, density=True)\n",
    "        ax_cum[row,day].plot(bins[:-1], np.cumsum(hist), color='black')\n",
    "       \n",
    "        ax[row,day].set_title(novkey)\n",
    "        ax_cum[row,day].set_title(novkey)\n",
    "        ax[row,day].spines['top'].set_visible(False)\n",
    "        ax[row,day].spines['right'].set_visible(False)\n",
    "        ax_cum[row,day].spines['top'].set_visible(False)\n",
    "        ax_cum[row,day].spines['right'].set_visible(False)\n",
    "        \n",
    "        \n",
    "        ctrl_mu = np.array(ctrl_mu)\n",
    "        if novkey in ['fam']:\n",
    "            ax_scat.scatter(6*day + np.linspace(-1,-.8, num=ctrl_mu.shape[0]), ctrl_mu, color='black', s=15)\n",
    "        else:\n",
    "            ax_scat.scatter(6*day + np.linspace(-.5,-.3, num=ctrl_mu.shape[0]), ctrl_mu, color='black', alpha = .3, s=15)\n",
    "\n",
    "        ko_fw = []\n",
    "        ko_mu = []\n",
    "        for mouse in ko_mice:\n",
    "            sess = u.load_single_day(mouse,day)\n",
    "            if novkey in ['fam']:\n",
    "                trial_mask = sess.trial_info['LR']==-1*sess.novel_arm\n",
    "            else:\n",
    "                trial_mask = sess.trial_info['LR']==sess.novel_arm\n",
    "            \n",
    "            r,f  = ko_field_mask_res[mouse][day][novkey]['rising_edges'], ko_field_mask_res[mouse][day][novkey]['falling_edges']\n",
    "            border_cells = (r[:,1]==0) + (f[:,1]==29) > 0\n",
    "            r, f = r[~border_cells,:], f[~border_cells,:]\n",
    "            \n",
    "            dat = f[:,1]-r[:,1]\n",
    "#             dat = ko_field_mask_res[mouse][day][novkey]['field_widths']\n",
    "            ko_fw.append(dat[dat>0])\n",
    "            df = df.append({'ko': 1, \n",
    "                            'day': (day+1)/6., \n",
    "                            'nov': row, \n",
    "                            'fw': dat[dat>0].mean(), \n",
    "                            'mouse': mouse, \n",
    "                            'ko_x_day': (day+1)/6.,\n",
    "                            'ko_x_nov': row,\n",
    "                            'nov_x_day': row*(day+1)/6.,\n",
    "                            'speed': np.nanmean(np.nanmean(sess.trial_matrices['speed'][trial_mask,:],axis=0)),\n",
    "                            'intercept': 1}, ignore_index=True)\n",
    "            ko_mu.append(dat[dat>0].mean())\n",
    "        ko_fw = np.concatenate(ko_fw)\n",
    "        ko_mu = np.array(ko_mu)\n",
    "        if novkey in ['fam']:\n",
    "            ax_scat.scatter(6*day + np.linspace(.3,.5, num=ko_mu.shape[0]), ko_mu, color='red', s=15)\n",
    "        else:\n",
    "            ax_scat.scatter(6*day + np.linspace(.8,1, num=ko_mu.shape[0]), ko_mu, color='red', alpha = .3, s=15)\n",
    "        \n",
    "\n",
    "#         ax[row,day].hist(ko_fw, bins = np.arange(1,20), color = 'red', alpha = .3,density=True)\n",
    "        hist, bins, _ = ax[row,day].hist(ko_fw, bins = np.arange(0,20), color = 'red', alpha = .3,density=True)\n",
    "        ax_cum[row,day].plot(bins[:-1], np.cumsum(hist), color='red')\n",
    "        \n",
    "fig.suptitle(\"Field Width\")\n",
    "fig_cum.suptitle(\"Field Width\")\n",
    "\n",
    "ax_scat.set_ylabel('Avg. Field Width')\n",
    "ax_scat.set_xlabel('Day')\n",
    "ax_scat.set_xticks([6*day for day in range(6)])\n",
    "ax_scat.set_xticklabels(np.arange(1,7))\n",
    "ax_scat.spines['top'].set_visible(False)\n",
    "ax_scat.spines['right'].set_visible(False)\n",
    "\n",
    "fig.savefig(os.path.join(figdir,\"field_width_hist.pdf\"))\n",
    "fig_cum.savefig(os.path.join(figdir,\"field_width_cumhist.pdf\"))\n",
    "fig_scat.savefig(os.path.join(figdir,\"field_width_summary.pdf\"))\n",
    "        "
   ]
  },
  {
   "cell_type": "code",
   "execution_count": 17,
   "id": "central-bradford",
   "metadata": {},
   "outputs": [
    {
     "name": "stdout",
     "output_type": "stream",
     "text": [
      "        Mixed Linear Model Regression Results\n",
      "======================================================\n",
      "Model:            MixedLM Dependent Variable: fw      \n",
      "No. Observations: 120     Method:             REML    \n",
      "No. Groups:       10      Scale:              0.0752  \n",
      "Min. group size:  12      Log-Likelihood:     -33.8057\n",
      "Max. group size:  12      Converged:          Yes     \n",
      "Mean group size:  12.0                                \n",
      "------------------------------------------------------\n",
      "            Coef.  Std.Err.   z    P>|z| [0.025 0.975]\n",
      "------------------------------------------------------\n",
      "ko          -0.542    0.125 -4.347 0.000 -0.786 -0.298\n",
      "day          0.625    0.255  2.454 0.014  0.126  1.125\n",
      "nov         -0.780    0.125 -6.254 0.000 -1.024 -0.535\n",
      "ko_x_nov    -0.171    0.100 -1.711 0.087 -0.368  0.025\n",
      "ko_x_day    -0.403    0.338 -1.192 0.233 -1.066  0.260\n",
      "nov_x_day    0.538    0.176  3.059 0.002  0.193  0.883\n",
      "intercept    4.033    0.102 39.542 0.000  3.833  4.233\n",
      "day Var      0.209    0.423                           \n",
      "======================================================\n",
      "\n",
      "ko           0.124660\n",
      "day          0.254867\n",
      "nov          0.124660\n",
      "ko_x_nov     0.100129\n",
      "ko_x_day     0.338299\n",
      "nov_x_day    0.175889\n",
      "intercept    0.101989\n",
      "dtype: float64\n",
      "ko           1.378212e-05\n",
      "day          1.414124e-02\n",
      "nov          3.988799e-10\n",
      "ko_x_nov     8.700922e-02\n",
      "ko_x_day     2.332297e-01\n",
      "nov_x_day    2.217460e-03\n",
      "intercept    0.000000e+00\n",
      "day Var      7.188163e-02\n",
      "dtype: float64\n"
     ]
    }
   ],
   "source": [
    "lmm_res = MixedLM(df['fw'],  df[['ko', \n",
    "                                 'day', \n",
    "                                 'nov', \n",
    "                                 'ko_x_nov', \n",
    "                                 'ko_x_day',\n",
    "                                 'nov_x_day',\n",
    "#                                  'speed',\n",
    "                                 'intercept']], df['mouse'], exog_re = df['day'])\n",
    "lmm_resf = lmm_res.fit()\n",
    "print(lmm_resf.summary())\n",
    "print(lmm_resf.bse_fe)\n",
    "print(lmm_resf.pvalues)"
   ]
  },
  {
   "cell_type": "code",
   "execution_count": 12,
   "id": "conscious-teddy",
   "metadata": {},
   "outputs": [
    {
     "name": "stdout",
     "output_type": "stream",
     "text": [
      "{'date': '28_09_2020', 'scene': 'YMaze_LNovel', 'session': 1, 'scan': 4, 'novel_arm': -1, 'ravel_ind': 0}\n"
     ]
    }
   ],
   "source": [
    "sess = u.load_single_day(ko_mice[4],0)"
   ]
  },
  {
   "cell_type": "code",
   "execution_count": 13,
   "id": "ready-division",
   "metadata": {},
   "outputs": [
    {
     "data": {
      "text/plain": [
       "(array([181., 312., 317., 360., 259., 116.,  61.,  27.,  10.,   6.]),\n",
       " array([0.00171873, 0.02958184, 0.05744495, 0.08530805, 0.11317116,\n",
       "        0.14103427, 0.16889737, 0.19676048, 0.22462359, 0.2524867 ,\n",
       "        0.2803498 ]),\n",
       " <BarContainer object of 10 artists>)"
      ]
     },
     "execution_count": 13,
     "metadata": {},
     "output_type": "execute_result"
    },
    {
     "data": {
      "image/png": "[encoded data removed]",
      "text/plain": [
       "<Figure size 432x288 with 1 Axes>"
      ]
     },
     "metadata": {
      "needs_background": "light"
     },
     "output_type": "display_data"
    }
   ],
   "source": [
    "fig,ax = plt.subplots()\n",
    "ax.hist(sess.trial_matrices['speed'].ravel())"
   ]
  },
  {
   "cell_type": "markdown",
   "id": "equal-vietnamese",
   "metadata": {},
   "source": [
    "### Field edge analysis"
   ]
  },
  {
   "cell_type": "code",
   "execution_count": 8,
   "id": "handled-familiar",
   "metadata": {},
   "outputs": [],
   "source": [
    "def field_shifts(mouse, day, fm_res, novkey, pcnt_th = .25, act_th = .25, plot = False):\n",
    "    sess = u.load_single_day(mouse,day)\n",
    "    \n",
    "    ledge, redge = fm_res[mouse][day][novkey]['rising_edges'], fm_res[mouse][day][novkey]['falling_edges']\n",
    "\n",
    "    border_cells = (ledge[:,1]==0) #+ (redge[:,1]>=28) > 0\n",
    "    ledge, redge = ledge[~border_cells,:], redge[~border_cells,:]\n",
    "    ledge[:,1], redge[:,1] = np.maximum(ledge[:,1]-1,0), np.minimum(redge[:,1]+1,29)\n",
    "\n",
    "    if novkey in ['fam']:\n",
    "        trial_mask = sess.trial_info['LR']==-1*sess.novel_arm\n",
    "    else:\n",
    "        trial_mask = sess.trial_info['LR']==sess.novel_arm\n",
    "        \n",
    "        \n",
    "    shift = []\n",
    "    form_lap_vel = []\n",
    "    field_width = []\n",
    "    form_lap = []\n",
    "    field_var = []\n",
    "    for field in range(ledge.shape[0]):\n",
    "        fieldmat = sess.trial_matrices['spks'][trial_mask,:,:][:,np.maximum(ledge[field,1],0):redge[field,1],ledge[field,0]]\n",
    "        speed = np.nanmean(sess.trial_matrices['speed'][trial_mask,:][:,np.maximum(ledge[field,1],0):redge[field,1]],axis=1)\n",
    "        fieldmat[np.isnan(fieldmat)]=1E-5\n",
    "        activity_th = act_th*np.amax(fieldmat.ravel())\n",
    "        fieldmat_th = np.amax(1*(fieldmat>activity_th), axis=1)\n",
    "        formation_laps = fieldmat_th * (sp.ndimage.convolve1d(fieldmat_th, np.ones([5,]), mode='constant', cval = 0)>=1)\n",
    "        formation_lap = np.nonzero(formation_laps)[0][0]\n",
    "        \n",
    "\n",
    "        if fieldmat_th[formation_lap:].mean()>pcnt_th and redge[field,1]-ledge[field,1]>=3 and formation_laps.sum()>0:\n",
    "            \n",
    "            \n",
    "#             form_lap_vel.append(np.nanmean(speed[np.maximum(formation_lap-1,0):formation_lap+2]))\n",
    "            form_lap_vel.append(speed[formation_lap])\n",
    "            form_lap.append(formation_lap)\n",
    "            field_width.append(redge[field,1]-ledge[field,1])\n",
    "            \n",
    "            form_argmax = sp.ndimage.center_of_mass(fieldmat[formation_lap,:])[0] \n",
    "#             form_argmax = sp.ndimage.center_of_mass(np.nanmean(fieldmat[np.maximum(formation_lap-1,0):formation_lap+2,:],axis=0))[0] \n",
    "#             print(form_argmax, sp.ndimage.center_of_mass(fieldmat[formation_lap,:]))\n",
    "            field_argmax = sp.ndimage.center_of_mass(np.nanmean(fieldmat[formation_lap+1:,:], axis=0))[0]\n",
    "#             field_argmax = sp.ndimage.center_of_mass(np.nanmean(fieldmat[formation_lap+2:,:], axis=0))[0] \n",
    "    \n",
    "            shift.append(field_argmax-form_argmax)\n",
    "        \n",
    "            avg_act = np.nanmean(fieldmat[formation_lap:, :], axis=1)\n",
    "            avg_act_norm = avg_act/np.nanmax(avg_act)\n",
    "            field_var.append(np.nanvar(avg_act_norm))\n",
    "            \n",
    "            if plot:\n",
    "                fig, ax = plt.subplots(1,2, figsize= [10,5])\n",
    "                ax[0].imshow(sess.trial_matrices['spks'][trial_mask,:,:][:,:-1,ledge[field,0]], cmap ='magma')\n",
    "                ax[0].vlines([ledge[field,1], redge[field,1]], 0, trial_mask.sum(), color= 'blue')\n",
    "                ax[0].hlines(formation_lap, 0,30)\n",
    "                ax[0].scatter(form_argmax+ ledge[field,1],formation_lap,color='green')\n",
    "                ax[0].vlines(field_argmax + ledge[field,1], 0 , trial_mask.sum(), color='red')\n",
    "                ax[0].set_title(\"%d\" % field)\n",
    "                \n",
    "                ax[1].imshow(sess.trial_matrices['spks'][trial_mask,:,:][:,:-1,ledge[field,0]], cmap ='magma')\n",
    "                \n",
    "                mousedir = os.path.join(figdir, sess.mouse) \n",
    "                os.makedirs(mousedir, exist_ok = True)\n",
    "                fig.savefig(os.path.join(mousedir, \"field_%d.pdf\" % field))\n",
    "                \n",
    "    return {'shift': np.array(shift), 'formation_lap': np.array(form_lap), 'width': np.array(field_width), 'init_speed': np.array(form_lap_vel), 'field_var': np.array(field_var)}"
   ]
  },
  {
   "cell_type": "code",
   "execution_count": 15,
   "id": "classified-departure",
   "metadata": {},
   "outputs": [
    {
     "name": "stdout",
     "output_type": "stream",
     "text": [
      "{'date': '29_11_2020', 'scene': 'YMaze_LNovel', 'session': 1, 'scan': 3, 'novel_arm': -1, 'ravel_ind': 0}\n"
     ]
    }
   ],
   "source": [
    "\n",
    "_ = field_shifts(ctrl_mice[0], 0, ctrl_field_mask_res, 'nov', plot=False)"
   ]
  },
  {
   "cell_type": "code",
   "execution_count": 16,
   "id": "changing-composite",
   "metadata": {},
   "outputs": [
    {
     "name": "stdout",
     "output_type": "stream",
     "text": [
      "{'date': '28_09_2020', 'scene': 'YMaze_LNovel', 'session': 1, 'scan': 4, 'novel_arm': -1, 'ravel_ind': 0}\n"
     ]
    },
    {
     "name": "stderr",
     "output_type": "stream",
     "text": [
      "/home/mplitt/repos/TwoPUtils/TwoPUtils/sess.py:95: UserWarning: skipping checking keys, remaining initialization not guaranteed to work\n",
      "  warnings.warn(\"skipping checking keys, remaining initialization not guaranteed to work\")\n",
      "/home/mplitt/repos/TwoPUtils/TwoPUtils/sess.py:227: UserWarning: Could not find sbxmat file at /mnt/BigDisk/2P_scratch/4467975.3/28_09_2020/YMaze_LNovel/YMaze_LNovel_001_004.mat\n",
      "  warnings.warn(\"Could not find sbxmat file at %s\" % self.scanheader_file)\n",
      "/home/mplitt/repos/TwoPUtils/TwoPUtils/sess.py:236: UserWarning: Could not find sbx file at /mnt/BigDisk/2P_scratch/4467975.3/28_09_2020/YMaze_LNovel/YMaze_LNovel_001_004.sbx\n",
      "  warnings.warn(\"Could not find sbx file at %s\" % self.scan_file)\n"
     ]
    }
   ],
   "source": [
    "_ = field_shifts(ko_mice[2], 0, ko_field_mask_res, 'nov', plot=False)"
   ]
  },
  {
   "cell_type": "code",
   "execution_count": 9,
   "id": "raised-accident",
   "metadata": {},
   "outputs": [
    {
     "name": "stdout",
     "output_type": "stream",
     "text": [
      "{'date': '29_11_2020', 'scene': 'YMaze_LNovel', 'session': 1, 'scan': 3, 'novel_arm': -1, 'ravel_ind': 0}\n",
      "{'date': '30_11_2020', 'scene': 'YMaze_LNovel', 'session': 1, 'scan': 7, 'novel_arm': -1, 'ravel_ind': 1}\n"
     ]
    },
    {
     "name": "stderr",
     "output_type": "stream",
     "text": [
      "<ipython-input-8-25e5f9316e9a>:42: RuntimeWarning: Mean of empty slice\n",
      "  field_argmax = sp.ndimage.center_of_mass(np.nanmean(fieldmat[formation_lap+1:,:], axis=0))[0]\n"
     ]
    },
    {
     "name": "stdout",
     "output_type": "stream",
     "text": [
      "{'date': '01_12_2020', 'scene': 'YMaze_LNovel', 'session': 1, 'scan': 4, 'novel_arm': -1, 'ravel_ind': 2}\n",
      "{'date': '02_12_2020', 'scene': 'YMaze_LNovel', 'session': 1, 'scan': 3, 'novel_arm': -1, 'ravel_ind': 3}\n",
      "{'date': '03_12_2020', 'scene': 'YMaze_LNovel', 'session': 1, 'scan': 8, 'novel_arm': -1, 'ravel_ind': 4}\n",
      "{'date': '04_12_2020', 'scene': 'YMaze_LNovel', 'session': 1, 'scan': 2, 'novel_arm': -1, 'ravel_ind': 5}\n",
      "{'date': '29_11_2020', 'scene': 'YMaze_LNovel', 'session': 1, 'scan': 4, 'novel_arm': 1, 'ravel_ind': 0}\n",
      "{'date': '30_11_2020', 'scene': 'YMaze_LNovel', 'session': 1, 'scan': 4, 'novel_arm': 1, 'ravel_ind': 1}\n"
     ]
    },
    {
     "name": "stderr",
     "output_type": "stream",
     "text": [
      "/home/mplitt/anaconda3/envs/STX3_test/lib/python3.8/site-packages/scipy/ndimage/measurements.py:1406: RuntimeWarning: invalid value encountered in double_scalars\n",
      "  results = [sum(input * grids[dir].astype(float), labels, index) / normalizer\n"
     ]
    },
    {
     "name": "stdout",
     "output_type": "stream",
     "text": [
      "{'date': '01_12_2020', 'scene': 'YMaze_LNovel', 'session': 1, 'scan': 4, 'novel_arm': 1, 'ravel_ind': 2}\n",
      "({'date': '02_12_2020', 'scene': 'YMaze_LNovel', 'session': 1, 'scan': 6, 'novel_arm': 1, 'ravel_ind': 3}, {'date': '02_12_2020', 'scene': 'YMaze_LNovel', 'session': 2, 'scan': 12, 'novel_arm': 1, 'ravel_ind': 4})\n",
      "02_12_2020 YMaze_LNovel\n",
      "02_12_2020 YMaze_LNovel\n",
      "['LR', 'block_number']\n",
      "['LR', 'block_number', 'sess_num_ravel', 'sess_num']\n",
      "{'date': '03_12_2020', 'scene': 'YMaze_LNovel', 'session': 1, 'scan': 3, 'novel_arm': 1, 'ravel_ind': 5}\n",
      "{'date': '04_12_2020', 'scene': 'YMaze_LNovel', 'session': 1, 'scan': 3, 'novel_arm': 1, 'ravel_ind': 6}\n",
      "{'date': '29_11_2020', 'scene': 'YMaze_LNovel', 'session': 1, 'scan': 8, 'novel_arm': -1, 'ravel_ind': 0}\n",
      "{'date': '30_11_2020', 'scene': 'YMaze_LNovel', 'session': 1, 'scan': 4, 'novel_arm': -1, 'ravel_ind': 1}\n",
      "{'date': '01_12_2020', 'scene': 'YMaze_LNovel', 'session': 1, 'scan': 5, 'novel_arm': -1, 'ravel_ind': 2}\n",
      "{'date': '02_12_2020', 'scene': 'YMaze_LNovel', 'session': 1, 'scan': 6, 'novel_arm': -1, 'ravel_ind': 3}\n"
     ]
    },
    {
     "name": "stderr",
     "output_type": "stream",
     "text": [
      "<ipython-input-8-25e5f9316e9a>:23: RuntimeWarning: Mean of empty slice\n",
      "  speed = np.nanmean(sess.trial_matrices['speed'][trial_mask,:][:,np.maximum(ledge[field,1],0):redge[field,1]],axis=1)\n"
     ]
    },
    {
     "name": "stdout",
     "output_type": "stream",
     "text": [
      "{'date': '03_12_2020', 'scene': 'YMaze_LNovel', 'session': 1, 'scan': 3, 'novel_arm': -1, 'ravel_ind': 4}\n",
      "{'date': '04_12_2020', 'scene': 'YMaze_LNovel', 'session': 1, 'scan': 2, 'novel_arm': -1, 'ravel_ind': 5}\n",
      "{'date': '29_11_2020', 'scene': 'YMaze_LNovel', 'session': 2, 'scan': 18, 'novel_arm': 1, 'ravel_ind': 1}\n",
      "({'date': '30_11_2020', 'scene': 'YMaze_LNovel', 'session': 1, 'scan': 4, 'novel_arm': 1, 'ravel_ind': 2}, {'date': '30_11_2020', 'scene': 'YMaze_LNovel', 'session': 3, 'scan': 9, 'novel_arm': 1, 'ravel_ind': 3})\n",
      "30_11_2020 YMaze_LNovel\n",
      "30_11_2020 YMaze_LNovel\n",
      "['LR', 'block_number', 'sess_num_ravel', 'sess_num']\n",
      "['LR', 'block_number', 'sess_num_ravel', 'sess_num']\n",
      "{'date': '01_12_2020', 'scene': 'YMaze_LNovel', 'session': 1, 'scan': 4, 'novel_arm': 1, 'ravel_ind': 4}\n",
      "{'date': '02_12_2020', 'scene': 'YMaze_LNovel', 'session': 1, 'scan': 4, 'novel_arm': 1, 'ravel_ind': 5}\n",
      "{'date': '03_12_2020', 'scene': 'YMaze_LNovel', 'session': 1, 'scan': 3, 'novel_arm': 1, 'ravel_ind': 6}\n",
      "{'date': '04_12_2020', 'scene': 'YMaze_LNovel', 'session': 1, 'scan': 3, 'novel_arm': 1, 'ravel_ind': 7}\n",
      "{'date': '29_11_2020', 'scene': 'YMaze_LNovel', 'session': 1, 'scan': 4, 'novel_arm': -1, 'ravel_ind': 0}\n",
      "{'date': '30_11_2020', 'scene': 'YMaze_LNovel', 'session': 1, 'scan': 6, 'novel_arm': -1, 'ravel_ind': 1}\n",
      "{'date': '01_12_2020', 'scene': 'YMaze_LNovel', 'session': 1, 'scan': 4, 'novel_arm': -1, 'ravel_ind': 2}\n",
      "{'date': '02_12_2020', 'scene': 'YMaze_LNovel', 'session': 1, 'scan': 4, 'novel_arm': -1, 'ravel_ind': 3}\n",
      "{'date': '03_12_2020', 'scene': 'YMaze_LNovel', 'session': 2, 'scan': 4, 'novel_arm': -1, 'ravel_ind': 4}\n",
      "{'date': '05_12_2020', 'scene': 'YMaze_LNovel', 'session': 1, 'scan': 2, 'novel_arm': -1, 'ravel_ind': 5}\n"
     ]
    },
    {
     "name": "stderr",
     "output_type": "stream",
     "text": [
      "/home/mplitt/repos/TwoPUtils/TwoPUtils/sess.py:95: UserWarning: skipping checking keys, remaining initialization not guaranteed to work\n",
      "  warnings.warn(\"skipping checking keys, remaining initialization not guaranteed to work\")\n",
      "/home/mplitt/repos/TwoPUtils/TwoPUtils/sess.py:227: UserWarning: Could not find sbxmat file at /media/mplitt/Backup Plus3/2P_Data/4467333.1/05_12_2020/YMaze_LNovel/YMaze_LNovel_001_002.mat\n",
      "  warnings.warn(\"Could not find sbxmat file at %s\" % self.scanheader_file)\n",
      "/home/mplitt/repos/TwoPUtils/TwoPUtils/sess.py:236: UserWarning: Could not find sbx file at /media/mplitt/Backup Plus3/2P_Data/4467333.1/05_12_2020/YMaze_LNovel/YMaze_LNovel_001_002.sbx\n",
      "  warnings.warn(\"Could not find sbx file at %s\" % self.scan_file)\n"
     ]
    }
   ],
   "source": [
    "ctrl_nov_shifts = {mouse: [field_shifts(mouse, day, ctrl_field_mask_res, 'nov') for day in range(6)] for mouse in ctrl_mice}"
   ]
  },
  {
   "cell_type": "code",
   "execution_count": 10,
   "id": "toxic-russia",
   "metadata": {},
   "outputs": [
    {
     "name": "stdout",
     "output_type": "stream",
     "text": [
      "{'date': '28_09_2020', 'scene': 'YMaze_LNovel', 'session': 6, 'scan': 14, 'novel_arm': -1, 'ravel_ind': 1}\n"
     ]
    },
    {
     "name": "stderr",
     "output_type": "stream",
     "text": [
      "/home/mplitt/repos/TwoPUtils/TwoPUtils/sess.py:227: UserWarning: Could not find sbxmat file at /mnt/BigDisk/2P_scratch/4467975.1/28_09_2020/YMaze_LNovel/YMaze_LNovel_006_014.mat\n",
      "  warnings.warn(\"Could not find sbxmat file at %s\" % self.scanheader_file)\n",
      "/home/mplitt/repos/TwoPUtils/TwoPUtils/sess.py:236: UserWarning: Could not find sbx file at /mnt/BigDisk/2P_scratch/4467975.1/28_09_2020/YMaze_LNovel/YMaze_LNovel_006_014.sbx\n",
      "  warnings.warn(\"Could not find sbx file at %s\" % self.scan_file)\n",
      "<ipython-input-8-25e5f9316e9a>:42: RuntimeWarning: Mean of empty slice\n",
      "  field_argmax = sp.ndimage.center_of_mass(np.nanmean(fieldmat[formation_lap+1:,:], axis=0))[0]\n"
     ]
    },
    {
     "name": "stdout",
     "output_type": "stream",
     "text": [
      "{'date': '29_09_2020', 'scene': 'YMaze_LNovel', 'session': 1, 'scan': 3, 'novel_arm': -1, 'ravel_ind': 2}\n"
     ]
    },
    {
     "name": "stderr",
     "output_type": "stream",
     "text": [
      "/home/mplitt/repos/TwoPUtils/TwoPUtils/sess.py:227: UserWarning: Could not find sbxmat file at /mnt/BigDisk/2P_scratch/4467975.1/29_09_2020/YMaze_LNovel/YMaze_LNovel_001_003.mat\n",
      "  warnings.warn(\"Could not find sbxmat file at %s\" % self.scanheader_file)\n",
      "/home/mplitt/repos/TwoPUtils/TwoPUtils/sess.py:236: UserWarning: Could not find sbx file at /mnt/BigDisk/2P_scratch/4467975.1/29_09_2020/YMaze_LNovel/YMaze_LNovel_001_003.sbx\n",
      "  warnings.warn(\"Could not find sbx file at %s\" % self.scan_file)\n"
     ]
    },
    {
     "name": "stdout",
     "output_type": "stream",
     "text": [
      "{'date': '30_09_2020', 'scene': 'YMaze_LNovel', 'session': 1, 'scan': 4, 'novel_arm': -1, 'ravel_ind': 3}\n"
     ]
    },
    {
     "name": "stderr",
     "output_type": "stream",
     "text": [
      "/home/mplitt/repos/TwoPUtils/TwoPUtils/sess.py:227: UserWarning: Could not find sbxmat file at /mnt/BigDisk/2P_scratch/4467975.1/30_09_2020/YMaze_LNovel/YMaze_LNovel_001_004.mat\n",
      "  warnings.warn(\"Could not find sbxmat file at %s\" % self.scanheader_file)\n",
      "/home/mplitt/repos/TwoPUtils/TwoPUtils/sess.py:236: UserWarning: Could not find sbx file at /mnt/BigDisk/2P_scratch/4467975.1/30_09_2020/YMaze_LNovel/YMaze_LNovel_001_004.sbx\n",
      "  warnings.warn(\"Could not find sbx file at %s\" % self.scan_file)\n"
     ]
    },
    {
     "name": "stdout",
     "output_type": "stream",
     "text": [
      "{'date': '01_10_2020', 'scene': 'YMaze_LNovel', 'session': 1, 'scan': 2, 'novel_arm': -1, 'ravel_ind': 4}\n"
     ]
    },
    {
     "name": "stderr",
     "output_type": "stream",
     "text": [
      "/home/mplitt/repos/TwoPUtils/TwoPUtils/sess.py:227: UserWarning: Could not find sbxmat file at /mnt/BigDisk/2P_scratch/4467975.1/01_10_2020/YMaze_LNovel/YMaze_LNovel_001_002.mat\n",
      "  warnings.warn(\"Could not find sbxmat file at %s\" % self.scanheader_file)\n",
      "/home/mplitt/repos/TwoPUtils/TwoPUtils/sess.py:236: UserWarning: Could not find sbx file at /mnt/BigDisk/2P_scratch/4467975.1/01_10_2020/YMaze_LNovel/YMaze_LNovel_001_002.sbx\n",
      "  warnings.warn(\"Could not find sbx file at %s\" % self.scan_file)\n"
     ]
    },
    {
     "name": "stdout",
     "output_type": "stream",
     "text": [
      "{'date': '02_10_2020', 'scene': 'YMaze_LNovel', 'session': 1, 'scan': 3, 'novel_arm': -1, 'ravel_ind': 5}\n"
     ]
    },
    {
     "name": "stderr",
     "output_type": "stream",
     "text": [
      "/home/mplitt/repos/TwoPUtils/TwoPUtils/sess.py:227: UserWarning: Could not find sbxmat file at /mnt/BigDisk/2P_scratch/4467975.1/02_10_2020/YMaze_LNovel/YMaze_LNovel_001_003.mat\n",
      "  warnings.warn(\"Could not find sbxmat file at %s\" % self.scanheader_file)\n",
      "/home/mplitt/repos/TwoPUtils/TwoPUtils/sess.py:236: UserWarning: Could not find sbx file at /mnt/BigDisk/2P_scratch/4467975.1/02_10_2020/YMaze_LNovel/YMaze_LNovel_001_003.sbx\n",
      "  warnings.warn(\"Could not find sbx file at %s\" % self.scan_file)\n"
     ]
    },
    {
     "name": "stdout",
     "output_type": "stream",
     "text": [
      "{'date': '03_10_2020', 'scene': 'YMaze_LNovel', 'session': 1, 'scan': 3, 'novel_arm': -1, 'ravel_ind': 6}\n"
     ]
    },
    {
     "name": "stderr",
     "output_type": "stream",
     "text": [
      "/home/mplitt/repos/TwoPUtils/TwoPUtils/sess.py:227: UserWarning: Could not find sbxmat file at /mnt/BigDisk/2P_scratch/4467975.1/03_10_2020/YMaze_LNovel/YMaze_LNovel_001_003.mat\n",
      "  warnings.warn(\"Could not find sbxmat file at %s\" % self.scanheader_file)\n",
      "/home/mplitt/repos/TwoPUtils/TwoPUtils/sess.py:236: UserWarning: Could not find sbx file at /mnt/BigDisk/2P_scratch/4467975.1/03_10_2020/YMaze_LNovel/YMaze_LNovel_001_003.sbx\n",
      "  warnings.warn(\"Could not find sbx file at %s\" % self.scan_file)\n"
     ]
    },
    {
     "name": "stdout",
     "output_type": "stream",
     "text": [
      "{'date': '28_09_2020', 'scene': 'YMaze_LNovel', 'session': 3, 'scan': 8, 'novel_arm': 1, 'ravel_ind': 0}\n"
     ]
    },
    {
     "name": "stderr",
     "output_type": "stream",
     "text": [
      "/home/mplitt/repos/TwoPUtils/TwoPUtils/sess.py:227: UserWarning: Could not find sbxmat file at /mnt/BigDisk/2P_scratch/4467975.2/28_09_2020/YMaze_LNovel/YMaze_LNovel_003_008.mat\n",
      "  warnings.warn(\"Could not find sbxmat file at %s\" % self.scanheader_file)\n",
      "/home/mplitt/repos/TwoPUtils/TwoPUtils/sess.py:236: UserWarning: Could not find sbx file at /mnt/BigDisk/2P_scratch/4467975.2/28_09_2020/YMaze_LNovel/YMaze_LNovel_003_008.sbx\n",
      "  warnings.warn(\"Could not find sbx file at %s\" % self.scan_file)\n"
     ]
    },
    {
     "name": "stdout",
     "output_type": "stream",
     "text": [
      "{'date': '29_09_2020', 'scene': 'YMaze_LNovel', 'session': 1, 'scan': 3, 'novel_arm': 1, 'ravel_ind': 1}\n"
     ]
    },
    {
     "name": "stderr",
     "output_type": "stream",
     "text": [
      "/home/mplitt/repos/TwoPUtils/TwoPUtils/sess.py:227: UserWarning: Could not find sbxmat file at /mnt/BigDisk/2P_scratch/4467975.2/29_09_2020/YMaze_LNovel/YMaze_LNovel_001_003.mat\n",
      "  warnings.warn(\"Could not find sbxmat file at %s\" % self.scanheader_file)\n",
      "/home/mplitt/repos/TwoPUtils/TwoPUtils/sess.py:236: UserWarning: Could not find sbx file at /mnt/BigDisk/2P_scratch/4467975.2/29_09_2020/YMaze_LNovel/YMaze_LNovel_001_003.sbx\n",
      "  warnings.warn(\"Could not find sbx file at %s\" % self.scan_file)\n"
     ]
    },
    {
     "name": "stdout",
     "output_type": "stream",
     "text": [
      "{'date': '30_09_2020', 'scene': 'YMaze_LNovel', 'session': 1, 'scan': 4, 'novel_arm': 1, 'ravel_ind': 2}\n"
     ]
    },
    {
     "name": "stderr",
     "output_type": "stream",
     "text": [
      "/home/mplitt/repos/TwoPUtils/TwoPUtils/sess.py:227: UserWarning: Could not find sbxmat file at /mnt/BigDisk/2P_scratch/4467975.2/30_09_2020/YMaze_LNovel/YMaze_LNovel_001_004.mat\n",
      "  warnings.warn(\"Could not find sbxmat file at %s\" % self.scanheader_file)\n",
      "/home/mplitt/repos/TwoPUtils/TwoPUtils/sess.py:236: UserWarning: Could not find sbx file at /mnt/BigDisk/2P_scratch/4467975.2/30_09_2020/YMaze_LNovel/YMaze_LNovel_001_004.sbx\n",
      "  warnings.warn(\"Could not find sbx file at %s\" % self.scan_file)\n"
     ]
    },
    {
     "name": "stdout",
     "output_type": "stream",
     "text": [
      "{'date': '01_10_2020', 'scene': 'YMaze_LNovel', 'session': 1, 'scan': 4, 'novel_arm': 1, 'ravel_ind': 3}\n"
     ]
    },
    {
     "name": "stderr",
     "output_type": "stream",
     "text": [
      "/home/mplitt/repos/TwoPUtils/TwoPUtils/sess.py:227: UserWarning: Could not find sbxmat file at /mnt/BigDisk/2P_scratch/4467975.2/01_10_2020/YMaze_LNovel/YMaze_LNovel_001_004.mat\n",
      "  warnings.warn(\"Could not find sbxmat file at %s\" % self.scanheader_file)\n",
      "/home/mplitt/repos/TwoPUtils/TwoPUtils/sess.py:236: UserWarning: Could not find sbx file at /mnt/BigDisk/2P_scratch/4467975.2/01_10_2020/YMaze_LNovel/YMaze_LNovel_001_004.sbx\n",
      "  warnings.warn(\"Could not find sbx file at %s\" % self.scan_file)\n"
     ]
    },
    {
     "name": "stdout",
     "output_type": "stream",
     "text": [
      "{'date': '02_10_2020', 'scene': 'YMaze_LNovel', 'session': 1, 'scan': 9, 'novel_arm': 1, 'ravel_ind': 4}\n"
     ]
    },
    {
     "name": "stderr",
     "output_type": "stream",
     "text": [
      "/home/mplitt/repos/TwoPUtils/TwoPUtils/sess.py:227: UserWarning: Could not find sbxmat file at /mnt/BigDisk/2P_scratch/4467975.2/02_10_2020/YMaze_LNovel/YMaze_LNovel_001_009.mat\n",
      "  warnings.warn(\"Could not find sbxmat file at %s\" % self.scanheader_file)\n",
      "/home/mplitt/repos/TwoPUtils/TwoPUtils/sess.py:236: UserWarning: Could not find sbx file at /mnt/BigDisk/2P_scratch/4467975.2/02_10_2020/YMaze_LNovel/YMaze_LNovel_001_009.sbx\n",
      "  warnings.warn(\"Could not find sbx file at %s\" % self.scan_file)\n"
     ]
    },
    {
     "name": "stdout",
     "output_type": "stream",
     "text": [
      "{'date': '03_10_2020', 'scene': 'YMaze_LNovel', 'session': 1, 'scan': 8, 'novel_arm': 1, 'ravel_ind': 5}\n"
     ]
    },
    {
     "name": "stderr",
     "output_type": "stream",
     "text": [
      "/home/mplitt/repos/TwoPUtils/TwoPUtils/sess.py:227: UserWarning: Could not find sbxmat file at /mnt/BigDisk/2P_scratch/4467975.2/03_10_2020/YMaze_LNovel/YMaze_LNovel_001_008.mat\n",
      "  warnings.warn(\"Could not find sbxmat file at %s\" % self.scanheader_file)\n",
      "/home/mplitt/repos/TwoPUtils/TwoPUtils/sess.py:236: UserWarning: Could not find sbx file at /mnt/BigDisk/2P_scratch/4467975.2/03_10_2020/YMaze_LNovel/YMaze_LNovel_001_008.sbx\n",
      "  warnings.warn(\"Could not find sbx file at %s\" % self.scan_file)\n"
     ]
    },
    {
     "name": "stdout",
     "output_type": "stream",
     "text": [
      "{'date': '28_09_2020', 'scene': 'YMaze_LNovel', 'session': 1, 'scan': 4, 'novel_arm': -1, 'ravel_ind': 0}\n"
     ]
    },
    {
     "name": "stderr",
     "output_type": "stream",
     "text": [
      "/home/mplitt/repos/TwoPUtils/TwoPUtils/sess.py:227: UserWarning: Could not find sbxmat file at /mnt/BigDisk/2P_scratch/4467975.3/28_09_2020/YMaze_LNovel/YMaze_LNovel_001_004.mat\n",
      "  warnings.warn(\"Could not find sbxmat file at %s\" % self.scanheader_file)\n",
      "/home/mplitt/repos/TwoPUtils/TwoPUtils/sess.py:236: UserWarning: Could not find sbx file at /mnt/BigDisk/2P_scratch/4467975.3/28_09_2020/YMaze_LNovel/YMaze_LNovel_001_004.sbx\n",
      "  warnings.warn(\"Could not find sbx file at %s\" % self.scan_file)\n"
     ]
    },
    {
     "name": "stdout",
     "output_type": "stream",
     "text": [
      "{'date': '29_09_2020', 'scene': 'YMaze_LNovel', 'session': 1, 'scan': 4, 'novel_arm': -1, 'ravel_ind': 1}\n"
     ]
    },
    {
     "name": "stderr",
     "output_type": "stream",
     "text": [
      "/home/mplitt/repos/TwoPUtils/TwoPUtils/sess.py:227: UserWarning: Could not find sbxmat file at /mnt/BigDisk/2P_scratch/4467975.3/29_09_2020/YMaze_LNovel/YMaze_LNovel_001_004.mat\n",
      "  warnings.warn(\"Could not find sbxmat file at %s\" % self.scanheader_file)\n",
      "/home/mplitt/repos/TwoPUtils/TwoPUtils/sess.py:236: UserWarning: Could not find sbx file at /mnt/BigDisk/2P_scratch/4467975.3/29_09_2020/YMaze_LNovel/YMaze_LNovel_001_004.sbx\n",
      "  warnings.warn(\"Could not find sbx file at %s\" % self.scan_file)\n"
     ]
    },
    {
     "name": "stdout",
     "output_type": "stream",
     "text": [
      "{'date': '30_09_2020', 'scene': 'YMaze_LNovel', 'session': 2, 'scan': 7, 'novel_arm': -1, 'ravel_ind': 2}\n"
     ]
    },
    {
     "name": "stderr",
     "output_type": "stream",
     "text": [
      "/home/mplitt/repos/TwoPUtils/TwoPUtils/sess.py:227: UserWarning: Could not find sbxmat file at /mnt/BigDisk/2P_scratch/4467975.3/30_09_2020/YMaze_LNovel/YMaze_LNovel_002_007.mat\n",
      "  warnings.warn(\"Could not find sbxmat file at %s\" % self.scanheader_file)\n",
      "/home/mplitt/repos/TwoPUtils/TwoPUtils/sess.py:236: UserWarning: Could not find sbx file at /mnt/BigDisk/2P_scratch/4467975.3/30_09_2020/YMaze_LNovel/YMaze_LNovel_002_007.sbx\n",
      "  warnings.warn(\"Could not find sbx file at %s\" % self.scan_file)\n"
     ]
    },
    {
     "name": "stdout",
     "output_type": "stream",
     "text": [
      "{'date': '01_10_2020', 'scene': 'YMaze_LNovel', 'session': 1, 'scan': 7, 'novel_arm': -1, 'ravel_ind': 3}\n"
     ]
    },
    {
     "name": "stderr",
     "output_type": "stream",
     "text": [
      "/home/mplitt/repos/TwoPUtils/TwoPUtils/sess.py:227: UserWarning: Could not find sbxmat file at /mnt/BigDisk/2P_scratch/4467975.3/01_10_2020/YMaze_LNovel/YMaze_LNovel_001_007.mat\n",
      "  warnings.warn(\"Could not find sbxmat file at %s\" % self.scanheader_file)\n",
      "/home/mplitt/repos/TwoPUtils/TwoPUtils/sess.py:236: UserWarning: Could not find sbx file at /mnt/BigDisk/2P_scratch/4467975.3/01_10_2020/YMaze_LNovel/YMaze_LNovel_001_007.sbx\n",
      "  warnings.warn(\"Could not find sbx file at %s\" % self.scan_file)\n"
     ]
    },
    {
     "name": "stdout",
     "output_type": "stream",
     "text": [
      "{'date': '02_10_2020', 'scene': 'YMaze_LNovel', 'session': 1, 'scan': 3, 'novel_arm': -1, 'ravel_ind': 4}\n"
     ]
    },
    {
     "name": "stderr",
     "output_type": "stream",
     "text": [
      "/home/mplitt/repos/TwoPUtils/TwoPUtils/sess.py:227: UserWarning: Could not find sbxmat file at /mnt/BigDisk/2P_scratch/4467975.3/02_10_2020/YMaze_LNovel/YMaze_LNovel_001_003.mat\n",
      "  warnings.warn(\"Could not find sbxmat file at %s\" % self.scanheader_file)\n",
      "/home/mplitt/repos/TwoPUtils/TwoPUtils/sess.py:236: UserWarning: Could not find sbx file at /mnt/BigDisk/2P_scratch/4467975.3/02_10_2020/YMaze_LNovel/YMaze_LNovel_001_003.sbx\n",
      "  warnings.warn(\"Could not find sbx file at %s\" % self.scan_file)\n"
     ]
    },
    {
     "name": "stdout",
     "output_type": "stream",
     "text": [
      "{'date': '03_10_2020', 'scene': 'YMaze_LNovel', 'session': 1, 'scan': 6, 'novel_arm': -1, 'ravel_ind': 5}\n"
     ]
    },
    {
     "name": "stderr",
     "output_type": "stream",
     "text": [
      "/home/mplitt/repos/TwoPUtils/TwoPUtils/sess.py:227: UserWarning: Could not find sbxmat file at /mnt/BigDisk/2P_scratch/4467975.3/03_10_2020/YMaze_LNovel/YMaze_LNovel_001_006.mat\n",
      "  warnings.warn(\"Could not find sbxmat file at %s\" % self.scanheader_file)\n",
      "/home/mplitt/repos/TwoPUtils/TwoPUtils/sess.py:236: UserWarning: Could not find sbx file at /mnt/BigDisk/2P_scratch/4467975.3/03_10_2020/YMaze_LNovel/YMaze_LNovel_001_006.sbx\n",
      "  warnings.warn(\"Could not find sbx file at %s\" % self.scan_file)\n"
     ]
    },
    {
     "name": "stdout",
     "output_type": "stream",
     "text": [
      "{'date': '28_09_2020', 'scene': 'YMaze_LNovel', 'session': 1, 'scan': 5, 'novel_arm': 1, 'ravel_ind': 0}\n",
      "{'date': '29_09_2020', 'scene': 'YMaze_LNovel', 'session': 1, 'scan': 3, 'novel_arm': 1, 'ravel_ind': 1}\n",
      "{'date': '30_09_2020', 'scene': 'YMaze_LNovel', 'session': 1, 'scan': 3, 'novel_arm': 1, 'ravel_ind': 2}\n",
      "{'date': '01_10_2020', 'scene': 'YMaze_LNovel', 'session': 1, 'scan': 2, 'novel_arm': 1, 'ravel_ind': 3}\n",
      "{'date': '02_10_2020', 'scene': 'YMaze_LNovel', 'session': 1, 'scan': 4, 'novel_arm': 1, 'ravel_ind': 4}\n",
      "{'date': '03_10_2020', 'scene': 'YMaze_LNovel', 'session': 1, 'scan': 4, 'novel_arm': 1, 'ravel_ind': 5}\n",
      "{'date': '28_09_2020', 'scene': 'YMaze_LNovel', 'session': 1, 'scan': 4, 'novel_arm': -1, 'ravel_ind': 0}\n",
      "{'date': '29_09_2020', 'scene': 'YMaze_LNovel', 'session': 1, 'scan': 3, 'novel_arm': -1, 'ravel_ind': 1}\n",
      "{'date': '30_09_2020', 'scene': 'YMaze_LNovel', 'session': 1, 'scan': 5, 'novel_arm': -1, 'ravel_ind': 2}\n",
      "{'date': '01_10_2020', 'scene': 'YMaze_LNovel', 'session': 1, 'scan': 7, 'novel_arm': -1, 'ravel_ind': 3}\n",
      "{'date': '02_10_2020', 'scene': 'YMaze_LNovel', 'session': 1, 'scan': 3, 'novel_arm': -1, 'ravel_ind': 4}\n",
      "{'date': '03_10_2020', 'scene': 'YMaze_LNovel', 'session': 1, 'scan': 5, 'novel_arm': -1, 'ravel_ind': 5}\n"
     ]
    }
   ],
   "source": [
    "ko_nov_shifts = {mouse: [field_shifts(mouse, day, ko_field_mask_res, 'nov') for day in range(6)] for mouse in ko_mice}"
   ]
  },
  {
   "cell_type": "code",
   "execution_count": 11,
   "id": "selected-status",
   "metadata": {},
   "outputs": [
    {
     "name": "stdout",
     "output_type": "stream",
     "text": [
      "{'date': '29_11_2020', 'scene': 'YMaze_LNovel', 'session': 1, 'scan': 3, 'novel_arm': -1, 'ravel_ind': 0}\n",
      "{'date': '30_11_2020', 'scene': 'YMaze_LNovel', 'session': 1, 'scan': 7, 'novel_arm': -1, 'ravel_ind': 1}\n",
      "{'date': '01_12_2020', 'scene': 'YMaze_LNovel', 'session': 1, 'scan': 4, 'novel_arm': -1, 'ravel_ind': 2}\n",
      "{'date': '02_12_2020', 'scene': 'YMaze_LNovel', 'session': 1, 'scan': 3, 'novel_arm': -1, 'ravel_ind': 3}\n",
      "{'date': '03_12_2020', 'scene': 'YMaze_LNovel', 'session': 1, 'scan': 8, 'novel_arm': -1, 'ravel_ind': 4}\n",
      "{'date': '04_12_2020', 'scene': 'YMaze_LNovel', 'session': 1, 'scan': 2, 'novel_arm': -1, 'ravel_ind': 5}\n",
      "{'date': '29_11_2020', 'scene': 'YMaze_LNovel', 'session': 1, 'scan': 4, 'novel_arm': 1, 'ravel_ind': 0}\n",
      "{'date': '30_11_2020', 'scene': 'YMaze_LNovel', 'session': 1, 'scan': 4, 'novel_arm': 1, 'ravel_ind': 1}\n",
      "{'date': '01_12_2020', 'scene': 'YMaze_LNovel', 'session': 1, 'scan': 4, 'novel_arm': 1, 'ravel_ind': 2}\n"
     ]
    },
    {
     "name": "stderr",
     "output_type": "stream",
     "text": [
      "<ipython-input-8-25e5f9316e9a>:42: RuntimeWarning: Mean of empty slice\n",
      "  field_argmax = sp.ndimage.center_of_mass(np.nanmean(fieldmat[formation_lap+1:,:], axis=0))[0]\n"
     ]
    },
    {
     "name": "stdout",
     "output_type": "stream",
     "text": [
      "({'date': '02_12_2020', 'scene': 'YMaze_LNovel', 'session': 1, 'scan': 6, 'novel_arm': 1, 'ravel_ind': 3}, {'date': '02_12_2020', 'scene': 'YMaze_LNovel', 'session': 2, 'scan': 12, 'novel_arm': 1, 'ravel_ind': 4})\n",
      "02_12_2020 YMaze_LNovel\n",
      "02_12_2020 YMaze_LNovel\n",
      "['LR', 'block_number', 'sess_num_ravel', 'sess_num']\n",
      "['LR', 'block_number', 'sess_num_ravel', 'sess_num']\n",
      "{'date': '03_12_2020', 'scene': 'YMaze_LNovel', 'session': 1, 'scan': 3, 'novel_arm': 1, 'ravel_ind': 5}\n",
      "{'date': '04_12_2020', 'scene': 'YMaze_LNovel', 'session': 1, 'scan': 3, 'novel_arm': 1, 'ravel_ind': 6}\n",
      "{'date': '29_11_2020', 'scene': 'YMaze_LNovel', 'session': 1, 'scan': 8, 'novel_arm': -1, 'ravel_ind': 0}\n",
      "{'date': '30_11_2020', 'scene': 'YMaze_LNovel', 'session': 1, 'scan': 4, 'novel_arm': -1, 'ravel_ind': 1}\n",
      "{'date': '01_12_2020', 'scene': 'YMaze_LNovel', 'session': 1, 'scan': 5, 'novel_arm': -1, 'ravel_ind': 2}\n",
      "{'date': '02_12_2020', 'scene': 'YMaze_LNovel', 'session': 1, 'scan': 6, 'novel_arm': -1, 'ravel_ind': 3}\n",
      "{'date': '03_12_2020', 'scene': 'YMaze_LNovel', 'session': 1, 'scan': 3, 'novel_arm': -1, 'ravel_ind': 4}\n",
      "{'date': '04_12_2020', 'scene': 'YMaze_LNovel', 'session': 1, 'scan': 2, 'novel_arm': -1, 'ravel_ind': 5}\n",
      "{'date': '29_11_2020', 'scene': 'YMaze_LNovel', 'session': 2, 'scan': 18, 'novel_arm': 1, 'ravel_ind': 1}\n",
      "({'date': '30_11_2020', 'scene': 'YMaze_LNovel', 'session': 1, 'scan': 4, 'novel_arm': 1, 'ravel_ind': 2}, {'date': '30_11_2020', 'scene': 'YMaze_LNovel', 'session': 3, 'scan': 9, 'novel_arm': 1, 'ravel_ind': 3})\n",
      "30_11_2020 YMaze_LNovel\n",
      "30_11_2020 YMaze_LNovel\n",
      "['LR', 'block_number', 'sess_num_ravel', 'sess_num']\n",
      "['LR', 'block_number', 'sess_num_ravel', 'sess_num']\n",
      "{'date': '01_12_2020', 'scene': 'YMaze_LNovel', 'session': 1, 'scan': 4, 'novel_arm': 1, 'ravel_ind': 4}\n",
      "{'date': '02_12_2020', 'scene': 'YMaze_LNovel', 'session': 1, 'scan': 4, 'novel_arm': 1, 'ravel_ind': 5}\n",
      "{'date': '03_12_2020', 'scene': 'YMaze_LNovel', 'session': 1, 'scan': 3, 'novel_arm': 1, 'ravel_ind': 6}\n",
      "{'date': '04_12_2020', 'scene': 'YMaze_LNovel', 'session': 1, 'scan': 3, 'novel_arm': 1, 'ravel_ind': 7}\n",
      "{'date': '29_11_2020', 'scene': 'YMaze_LNovel', 'session': 1, 'scan': 4, 'novel_arm': -1, 'ravel_ind': 0}\n",
      "{'date': '30_11_2020', 'scene': 'YMaze_LNovel', 'session': 1, 'scan': 6, 'novel_arm': -1, 'ravel_ind': 1}\n",
      "{'date': '01_12_2020', 'scene': 'YMaze_LNovel', 'session': 1, 'scan': 4, 'novel_arm': -1, 'ravel_ind': 2}\n",
      "{'date': '02_12_2020', 'scene': 'YMaze_LNovel', 'session': 1, 'scan': 4, 'novel_arm': -1, 'ravel_ind': 3}\n",
      "{'date': '03_12_2020', 'scene': 'YMaze_LNovel', 'session': 2, 'scan': 4, 'novel_arm': -1, 'ravel_ind': 4}\n",
      "{'date': '05_12_2020', 'scene': 'YMaze_LNovel', 'session': 1, 'scan': 2, 'novel_arm': -1, 'ravel_ind': 5}\n",
      "{'date': '28_09_2020', 'scene': 'YMaze_LNovel', 'session': 6, 'scan': 14, 'novel_arm': -1, 'ravel_ind': 1}\n",
      "{'date': '29_09_2020', 'scene': 'YMaze_LNovel', 'session': 1, 'scan': 3, 'novel_arm': -1, 'ravel_ind': 2}\n",
      "{'date': '30_09_2020', 'scene': 'YMaze_LNovel', 'session': 1, 'scan': 4, 'novel_arm': -1, 'ravel_ind': 3}\n",
      "{'date': '01_10_2020', 'scene': 'YMaze_LNovel', 'session': 1, 'scan': 2, 'novel_arm': -1, 'ravel_ind': 4}\n",
      "{'date': '02_10_2020', 'scene': 'YMaze_LNovel', 'session': 1, 'scan': 3, 'novel_arm': -1, 'ravel_ind': 5}\n",
      "{'date': '03_10_2020', 'scene': 'YMaze_LNovel', 'session': 1, 'scan': 3, 'novel_arm': -1, 'ravel_ind': 6}\n",
      "{'date': '28_09_2020', 'scene': 'YMaze_LNovel', 'session': 3, 'scan': 8, 'novel_arm': 1, 'ravel_ind': 0}\n",
      "{'date': '29_09_2020', 'scene': 'YMaze_LNovel', 'session': 1, 'scan': 3, 'novel_arm': 1, 'ravel_ind': 1}\n",
      "{'date': '30_09_2020', 'scene': 'YMaze_LNovel', 'session': 1, 'scan': 4, 'novel_arm': 1, 'ravel_ind': 2}\n",
      "{'date': '01_10_2020', 'scene': 'YMaze_LNovel', 'session': 1, 'scan': 4, 'novel_arm': 1, 'ravel_ind': 3}\n",
      "{'date': '02_10_2020', 'scene': 'YMaze_LNovel', 'session': 1, 'scan': 9, 'novel_arm': 1, 'ravel_ind': 4}\n",
      "{'date': '03_10_2020', 'scene': 'YMaze_LNovel', 'session': 1, 'scan': 8, 'novel_arm': 1, 'ravel_ind': 5}\n",
      "{'date': '28_09_2020', 'scene': 'YMaze_LNovel', 'session': 1, 'scan': 4, 'novel_arm': -1, 'ravel_ind': 0}\n",
      "{'date': '29_09_2020', 'scene': 'YMaze_LNovel', 'session': 1, 'scan': 4, 'novel_arm': -1, 'ravel_ind': 1}\n",
      "{'date': '30_09_2020', 'scene': 'YMaze_LNovel', 'session': 2, 'scan': 7, 'novel_arm': -1, 'ravel_ind': 2}\n",
      "{'date': '01_10_2020', 'scene': 'YMaze_LNovel', 'session': 1, 'scan': 7, 'novel_arm': -1, 'ravel_ind': 3}\n",
      "{'date': '02_10_2020', 'scene': 'YMaze_LNovel', 'session': 1, 'scan': 3, 'novel_arm': -1, 'ravel_ind': 4}\n",
      "{'date': '03_10_2020', 'scene': 'YMaze_LNovel', 'session': 1, 'scan': 6, 'novel_arm': -1, 'ravel_ind': 5}\n",
      "{'date': '28_09_2020', 'scene': 'YMaze_LNovel', 'session': 1, 'scan': 5, 'novel_arm': 1, 'ravel_ind': 0}\n",
      "{'date': '29_09_2020', 'scene': 'YMaze_LNovel', 'session': 1, 'scan': 3, 'novel_arm': 1, 'ravel_ind': 1}\n",
      "{'date': '30_09_2020', 'scene': 'YMaze_LNovel', 'session': 1, 'scan': 3, 'novel_arm': 1, 'ravel_ind': 2}\n",
      "{'date': '01_10_2020', 'scene': 'YMaze_LNovel', 'session': 1, 'scan': 2, 'novel_arm': 1, 'ravel_ind': 3}\n",
      "{'date': '02_10_2020', 'scene': 'YMaze_LNovel', 'session': 1, 'scan': 4, 'novel_arm': 1, 'ravel_ind': 4}\n",
      "{'date': '03_10_2020', 'scene': 'YMaze_LNovel', 'session': 1, 'scan': 4, 'novel_arm': 1, 'ravel_ind': 5}\n",
      "{'date': '28_09_2020', 'scene': 'YMaze_LNovel', 'session': 1, 'scan': 4, 'novel_arm': -1, 'ravel_ind': 0}\n",
      "{'date': '29_09_2020', 'scene': 'YMaze_LNovel', 'session': 1, 'scan': 3, 'novel_arm': -1, 'ravel_ind': 1}\n",
      "{'date': '30_09_2020', 'scene': 'YMaze_LNovel', 'session': 1, 'scan': 5, 'novel_arm': -1, 'ravel_ind': 2}\n",
      "{'date': '01_10_2020', 'scene': 'YMaze_LNovel', 'session': 1, 'scan': 7, 'novel_arm': -1, 'ravel_ind': 3}\n",
      "{'date': '02_10_2020', 'scene': 'YMaze_LNovel', 'session': 1, 'scan': 3, 'novel_arm': -1, 'ravel_ind': 4}\n",
      "{'date': '03_10_2020', 'scene': 'YMaze_LNovel', 'session': 1, 'scan': 5, 'novel_arm': -1, 'ravel_ind': 5}\n"
     ]
    }
   ],
   "source": [
    "ctrl_fam_shifts = {mouse: [field_shifts(mouse, day, ctrl_field_mask_res, 'fam') for day in range(6)] for mouse in ctrl_mice}\n",
    "ko_fam_shifts = {mouse: [field_shifts(mouse, day, ko_field_mask_res, 'fam') for day in range(6)] for mouse in ko_mice}"
   ]
  },
  {
   "cell_type": "code",
   "execution_count": 24,
   "id": "norman-initial",
   "metadata": {},
   "outputs": [
    {
     "name": "stdout",
     "output_type": "stream",
     "text": [
      "0\n",
      "N control = 2796, N KO = 2525, t=-6.387361, p = 1.831254e-10\n",
      "0\n",
      "N control = 2811, N KO = 2841, t=-6.345413, p = 2.390851e-10\n",
      "0\n",
      "N control = 2911, N KO = 3080, t=-1.751075, p = 7.998416e-02\n",
      "0\n",
      "N control = 2807, N KO = 3195, t=-0.525210, p = 5.994568e-01\n",
      "0\n",
      "N control = 3095, N KO = 2580, t=-4.532743, p = 5.941868e-06\n",
      "0\n",
      "N control = 3730, N KO = 3690, t=-4.320479, p = 1.577210e-05\n"
     ]
    },
    {
     "data": {
      "image/png": "[encoded data removed]",
      "text/plain": [
       "<Figure size 2160x720 with 12 Axes>"
      ]
     },
     "metadata": {
      "needs_background": "light"
     },
     "output_type": "display_data"
    }
   ],
   "source": [
    "df_shifts = pd.DataFrame({'mouse': [],\n",
    "                          'm': [],\n",
    "                          'day': [],\n",
    "                         'dz': [],\n",
    "                         'ko': [],\n",
    "                         'nov': [],\n",
    "                         'nov_x_dz': [],\n",
    "                         'ko_x_dz': [],\n",
    "                         'ko_x_nov': [],\n",
    "                         'ko_x_nov_x_dz':[],\n",
    "                         'shifts': [],\n",
    "                         'width': [],\n",
    "                         'formation_lap': [],\n",
    "                         'init_speed': [],\n",
    "                         'init_speed_x_ko': [],\n",
    "                         'field_var': [],\n",
    "                         'ko_x_speed': [], \n",
    "                         'intercept': []})\n",
    "\n",
    "fig,ax = plt.subplots(2,6, figsize= [30,10])\n",
    "days_z = sp.stats.zscore(np.arange(6))\n",
    "for day, dz in enumerate(days_z):\n",
    "    ctrl_shifts = []\n",
    "    ctrl_mu = []\n",
    "    \n",
    "    for m, mouse in enumerate(ctrl_mice):\n",
    "        ctrl_shifts.append(ctrl_nov_shifts[mouse][day]['shift'])\n",
    "        ctrl_mu.append(ctrl_nov_shifts[mouse][day]['shift'].mean())\n",
    "        for _fn, (shift, width, speed, formlap, fvar) in enumerate(zip(ctrl_nov_shifts[mouse][day]['shift'], \n",
    "                                                        ctrl_nov_shifts[mouse][day]['width'], \n",
    "                                                        ctrl_nov_shifts[mouse][day]['init_speed'],\n",
    "                                                        ctrl_nov_shifts[mouse][day]['formation_lap'],\n",
    "                                                        ctrl_nov_shifts[mouse][day]['field_var'],)):\n",
    "            if np.isnan(shift)==0:\n",
    "                df_shifts = df_shifts.append({'mouse': mouse,\n",
    "                                              'm': m,\n",
    "                                              'day': day,\n",
    "                                              'dz': dz,\n",
    "                                              'ko': 0,\n",
    "                                              'nov': 1,\n",
    "                                              'ko_x_dz': 0,\n",
    "                                              'nov_x_dz': dz,\n",
    "                                              'ko_x_nov': 0,\n",
    "                                              'ko_x_nov_x_dz': 0,\n",
    "                                              'shifts': shift,\n",
    "                                              'width': width,\n",
    "                                              'formation_lap': formlap,\n",
    "                                              'init_speed': speed,\n",
    "                                              'init_speed_x_ko': 0,\n",
    "                                              'field_var': fvar,\n",
    "                                              'ko_x_speed': 0,\n",
    "                                              'intercept': 1}, ignore_index=True)\n",
    "                \n",
    "        for _fn, (shift, width, speed, formlap, fvar) in enumerate(zip(ctrl_fam_shifts[mouse][day]['shift'], \n",
    "                                                        ctrl_fam_shifts[mouse][day]['width'], \n",
    "                                                        ctrl_fam_shifts[mouse][day]['init_speed'],\n",
    "                                                        ctrl_fam_shifts[mouse][day]['formation_lap'],\n",
    "                                                        ctrl_fam_shifts[mouse][day]['field_var'],)):\n",
    "            if np.isnan(shift)==0:\n",
    "                df_shifts = df_shifts.append({'mouse': mouse,\n",
    "                                              'm': m,\n",
    "                                              'day': day,\n",
    "                                              'dz': dz,\n",
    "                                              'ko': 0,\n",
    "                                              'nov': 0,\n",
    "                                              'ko_x_dz': 0,\n",
    "                                              'nov_x_dz': 0,\n",
    "                                              'ko_x_nov': 0,\n",
    "                                              'ko_x_nov_x_dz': 0,\n",
    "                                              'shifts': shift,\n",
    "                                              'width': width,\n",
    "                                              'formation_lap': formlap,\n",
    "                                              'init_speed': speed,\n",
    "                                              'init_speed_x_ko': 0,\n",
    "                                              'field_var': fvar,\n",
    "                                              'ko_x_speed': 0,\n",
    "                                              'intercept': 1}, ignore_index=True)\n",
    "    ctrl_shifts = np.concatenate(ctrl_shifts)\n",
    "    ctrl_shifts = ctrl_shifts[~np.isnan(ctrl_shifts)]\n",
    "    print(np.isnan(ctrl_shifts).sum())\n",
    "    \n",
    "        \n",
    "    ko_shifts = []\n",
    "    ko_mu = []\n",
    "    for m, mouse in enumerate(ko_mice):\n",
    "        ko_shifts.append(ko_nov_shifts[mouse][day]['shift'])\n",
    "        ko_mu.append(ko_nov_shifts[mouse][day]['shift'].mean())\n",
    "        for _fn, (shift, width, speed, formlap, fvar) in enumerate(zip(ko_nov_shifts[mouse][day]['shift'], \n",
    "                                                        ko_nov_shifts[mouse][day]['width'], \n",
    "                                                        ko_nov_shifts[mouse][day]['init_speed'],\n",
    "                                                        ko_nov_shifts[mouse][day]['formation_lap'],\n",
    "                                                        ko_nov_shifts[mouse][day]['field_var'],)):\n",
    "            if np.isnan(shift)==0:\n",
    "                df_shifts = df_shifts.append({'mouse': mouse,\n",
    "                                              'm': m + len(ctrl_mice),\n",
    "                                              'day': day,\n",
    "                                              'dz': dz,\n",
    "                                              'ko': 1,\n",
    "                                              'nov': 1,\n",
    "                                              'ko_x_dz': dz,\n",
    "                                              'nov_x_dz': dz,\n",
    "                                              'ko_x_nov': 1,\n",
    "                                              'ko_x_nov_x_dz': 1,\n",
    "                                              'shifts': shift,\n",
    "                                              'width': width,\n",
    "                                              'formation_lap': formlap,\n",
    "                                              'init_speed': speed,\n",
    "                                              'init_speed_x_ko': speed,\n",
    "                                              'field_var': fvar,\n",
    "                                              'ko_x_speed': speed,\n",
    "                                              'intercept': 1}, ignore_index=True)\n",
    "                \n",
    "        for _fn, (shift, width, speed, formlap, fvar) in enumerate(zip(ko_fam_shifts[mouse][day]['shift'], \n",
    "                                                        ko_fam_shifts[mouse][day]['width'], \n",
    "                                                        ko_fam_shifts[mouse][day]['init_speed'],\n",
    "                                                        ko_fam_shifts[mouse][day]['formation_lap'],\n",
    "                                                        ko_fam_shifts[mouse][day]['field_var'],)):\n",
    "            if np.isnan(shift)==0:\n",
    "                df_shifts = df_shifts.append({'mouse': mouse,\n",
    "                                              'm': m + len(ctrl_mice),\n",
    "                                              'day': day,\n",
    "                                              'dz': dz,\n",
    "                                              'ko': 1,\n",
    "                                              'nov': 0,\n",
    "                                              'ko_x_dz': dz,\n",
    "                                              'nov_x_dz': 0,\n",
    "                                              'ko_x_nov': 0,\n",
    "                                              'ko_x_nov_x_dz': 0,\n",
    "                                              'shifts': shift,\n",
    "                                              'width': width,\n",
    "                                              'formation_lap': formlap,\n",
    "                                              'init_speed': speed,\n",
    "                                              'init_speed_x_ko': speed,\n",
    "                                              'field_var': fvar,\n",
    "                                              'ko_x_speed': speed, \n",
    "                                              'intercept': 1}, ignore_index=True)\n",
    "    ko_shifts = np.concatenate(ko_shifts)\n",
    "    ko_shifts = ko_shifts[~np.isnan(ko_shifts)]\n",
    "\n",
    "    _x = np.linspace(-5,5)\n",
    "    _ctrl_hist = tpu.utilities.gaussian(ctrl_shifts[np.newaxis,:],.3, _x[:,np.newaxis]).mean(axis=1)\n",
    "    _ctrl_hist /= _ctrl_hist.sum()\n",
    "    ax[0,day].plot(_x,_ctrl_hist, color='black')\n",
    "    ax[1,day].plot(_x,np.cumsum(_ctrl_hist), color='black')\n",
    "    _ko_hist = tpu.utilities.gaussian(ko_shifts[np.newaxis,:],.3, _x[:,np.newaxis]).mean(axis=1)\n",
    "    _ko_hist /= _ko_hist.sum()\n",
    "    ax[0,day].plot(_x,_ko_hist, color='red')\n",
    "    ax[1,day].plot(_x,np.cumsum(_ko_hist), color='red')\n",
    "\n",
    "#     ax[0,day].vlines(ctrl_shifts.mean(),0,.09, color='black')\n",
    "\n",
    "#     ax[0,day].vlines(ko_shifts.mean(),0,.09, color='red')\n",
    "\n",
    "    \n",
    "    ax[0,day].set_xlabel(\"COM shift\")\n",
    "    ax[0,day].set_ylabel('prob')\n",
    "    ax[0,day].spines['top'].set_visible(False)\n",
    "    ax[0,day].spines['right'].set_visible(False)\n",
    "\n",
    "    \n",
    "    ax[1,day].set_xlabel(\"COM shift\")\n",
    "    ax[1,day].set_ylabel('cum prob')\n",
    "    ax[1,day].spines['top'].set_visible(False)\n",
    "    ax[1,day].spines['right'].set_visible(False)\n",
    "\n",
    "    t,p = sp.stats.ttest_ind(ctrl_shifts,ko_shifts)\n",
    "    print(\"N control = %d, N KO = %d, t=%f, p = %e\" % (ctrl_shifts.shape[0], ko_shifts.shape[0],t,p))\n",
    "\n",
    "fig.savefig(os.path.join(figdir, \"com_shift_by_day.pdf\"), format = 'pdf')"
   ]
  },
  {
   "cell_type": "code",
   "execution_count": 13,
   "id": "modern-architect",
   "metadata": {},
   "outputs": [
    {
     "data": {
      "text/plain": [
       "(array([ 6130., 18047., 18658., 13785.,  9020.,  6211.,  3712.,  1417.,\n",
       "          515.,    93.]),\n",
       " array([0.01526326, 0.0761412 , 0.13701914, 0.19789709, 0.25877503,\n",
       "        0.31965297, 0.38053091, 0.44140885, 0.50228679, 0.56316474,\n",
       "        0.62404268]),\n",
       " <BarContainer object of 10 artists>)"
      ]
     },
     "execution_count": 13,
     "metadata": {},
     "output_type": "execute_result"
    },
    {
     "data": {
      "image/png": "[encoded data removed]",
      "text/plain": [
       "<Figure size 432x288 with 1 Axes>"
      ]
     },
     "metadata": {
      "needs_background": "light"
     },
     "output_type": "display_data"
    }
   ],
   "source": [
    "fig, ax = plt.subplots()\n",
    "ax.hist(df_shifts['init_speed'])"
   ]
  },
  {
   "cell_type": "code",
   "execution_count": 14,
   "id": "sensitive-pacific",
   "metadata": {},
   "outputs": [
    {
     "name": "stdout",
     "output_type": "stream",
     "text": [
      "        Source        SS  DF1  DF2        MS         F     p-unc       np2  \\\n",
      "0           ko  0.101444    1    8  0.101444  3.879664  0.084385  0.326580   \n",
      "1          day  0.277335    5   40  0.055467  5.904526  0.000354  0.424648   \n",
      "2  Interaction  0.009894    5   40  0.001979  0.210635  0.956041  0.025654   \n",
      "\n",
      "      eps  \n",
      "0     NaN  \n",
      "1  0.6216  \n",
      "2     NaN  \n"
     ]
    }
   ],
   "source": [
    "aov = mixed_anova(data=df_shifts, dv='shifts', between='ko', within='day', subject='m')\n",
    "print(aov)"
   ]
  },
  {
   "cell_type": "code",
   "execution_count": 22,
   "id": "instrumental-relative",
   "metadata": {},
   "outputs": [
    {
     "name": "stdout",
     "output_type": "stream",
     "text": [
      "(38170, 18)\n",
      "(39418, 18)\n"
     ]
    }
   ],
   "source": [
    "print(df_shifts[df_shifts['ko']==0].shape)\n",
    "print(df_shifts[df_shifts['ko']==1].shape)"
   ]
  },
  {
   "cell_type": "code",
   "execution_count": 15,
   "id": "ahead-syntax",
   "metadata": {},
   "outputs": [
    {
     "name": "stdout",
     "output_type": "stream",
     "text": [
      "           Mixed Linear Model Regression Results\n",
      "===========================================================\n",
      "Model:             MixedLM Dependent Variable: shifts      \n",
      "No. Observations:  77588   Method:             REML        \n",
      "No. Groups:        10      Scale:              0.8637      \n",
      "Min. group size:   2945    Log-Likelihood:     -104451.7838\n",
      "Max. group size:   13705   Converged:          Yes         \n",
      "Mean group size:   7758.8                                  \n",
      "-----------------------------------------------------------\n",
      "                Coef.  Std.Err.    z    P>|z| [0.025 0.975]\n",
      "-----------------------------------------------------------\n",
      "ko               0.013    0.050   0.258 0.796 -0.086  0.112\n",
      "dz               0.095    0.006  16.474 0.000  0.084  0.107\n",
      "nov             -0.007    0.010  -0.688 0.492 -0.025  0.012\n",
      "nov_x_dz        -0.042    0.007  -6.192 0.000 -0.055 -0.028\n",
      "ko_x_dz         -0.023    0.007  -3.340 0.001 -0.036 -0.009\n",
      "ko_x_nov         0.008    0.013   0.570 0.569 -0.019  0.034\n",
      "init_speed      -0.775    0.045 -17.205 0.000 -0.863 -0.687\n",
      "init_speed_x_ko  0.192    0.074   2.590 0.010  0.047  0.336\n",
      "intercept       -0.125    0.036  -3.523 0.000 -0.195 -0.056\n",
      "Group Var        0.006    0.003                            \n",
      "===========================================================\n",
      "\n"
     ]
    },
    {
     "name": "stderr",
     "output_type": "stream",
     "text": [
      "/home/mplitt/anaconda3/envs/STX3_test/lib/python3.8/site-packages/statsmodels/regression/mixed_linear_model.py:2237: ConvergenceWarning: The MLE may be on the boundary of the parameter space.\n",
      "  warnings.warn(msg, ConvergenceWarning)\n"
     ]
    }
   ],
   "source": [
    "\n",
    "lmm_res = MixedLM(df_shifts['shifts'], df_shifts[['ko', 'dz', 'nov','nov_x_dz', 'ko_x_dz', 'ko_x_nov', 'init_speed',  'init_speed_x_ko', 'intercept']], \n",
    "                  df_shifts['mouse'])\n",
    "lmm_resf = lmm_res.fit()\n",
    "print(lmm_resf.summary())"
   ]
  },
  {
   "cell_type": "code",
   "execution_count": 16,
   "id": "atmospheric-patch",
   "metadata": {},
   "outputs": [
    {
     "name": "stdout",
     "output_type": "stream",
     "text": [
      "ko                 7.961442e-01\n",
      "dz                 5.665670e-61\n",
      "nov                4.915963e-01\n",
      "nov_x_dz           5.929351e-10\n",
      "ko_x_dz            8.366353e-04\n",
      "ko_x_nov           5.687391e-01\n",
      "init_speed         2.456587e-66\n",
      "init_speed_x_ko    9.606420e-03\n",
      "intercept          4.264161e-04\n",
      "Group Var          5.117809e-02\n",
      "dtype: float64\n"
     ]
    }
   ],
   "source": [
    "print(lmm_resf.pvalues)"
   ]
  },
  {
   "cell_type": "code",
   "execution_count": 17,
   "id": "thorough-hampton",
   "metadata": {},
   "outputs": [
    {
     "name": "stdout",
     "output_type": "stream",
     "text": [
      "          Mixed Linear Model Regression Results\n",
      "==========================================================\n",
      "Model:            MixedLM Dependent Variable: shifts      \n",
      "No. Observations: 77588   Method:             REML        \n",
      "No. Groups:       10      Scale:              0.8637      \n",
      "Min. group size:  2945    Log-Likelihood:     -104450.2231\n",
      "Max. group size:  13705   Converged:          Yes         \n",
      "Mean group size:  7758.8                                  \n",
      "----------------------------------------------------------\n",
      "               Coef.  Std.Err.    z    P>|z| [0.025 0.975]\n",
      "----------------------------------------------------------\n",
      "ko              0.056    0.049   1.143 0.253 -0.040  0.151\n",
      "dz              0.094    0.006  16.321 0.000  0.083  0.106\n",
      "nov            -0.004    0.007  -0.525 0.600 -0.017  0.010\n",
      "nov_x_dz       -0.041    0.007  -6.149 0.000 -0.054 -0.028\n",
      "ko_x_dz        -0.020    0.007  -2.968 0.003 -0.033 -0.007\n",
      "init_speed     -0.705    0.036 -19.747 0.000 -0.775 -0.635\n",
      "intercept      -0.143    0.035  -4.040 0.000 -0.213 -0.074\n",
      "Group Var       0.006    0.003                            \n",
      "==========================================================\n",
      "\n"
     ]
    },
    {
     "name": "stderr",
     "output_type": "stream",
     "text": [
      "/home/mplitt/anaconda3/envs/STX3_test/lib/python3.8/site-packages/statsmodels/regression/mixed_linear_model.py:2237: ConvergenceWarning: The MLE may be on the boundary of the parameter space.\n",
      "  warnings.warn(msg, ConvergenceWarning)\n"
     ]
    }
   ],
   "source": [
    "\n",
    "df_nov = df_shifts#[df_shifts['nov']==1]\n",
    "lmm_res = MixedLM(df_nov['shifts'], df_nov[['ko', 'dz', 'nov','nov_x_dz', 'ko_x_dz', 'init_speed',  'intercept']], df_nov['mouse'])\n",
    "lmm_resf = lmm_res.fit()\n",
    "print(lmm_resf.summary())"
   ]
  },
  {
   "cell_type": "code",
   "execution_count": 18,
   "id": "hybrid-alliance",
   "metadata": {},
   "outputs": [
    {
     "name": "stdout",
     "output_type": "stream",
     "text": [
      "          Mixed Linear Model Regression Results\n",
      "=========================================================\n",
      "Model:            MixedLM Dependent Variable: shifts     \n",
      "No. Observations: 41527   Method:             REML       \n",
      "No. Groups:       10      Scale:              1.0136     \n",
      "Min. group size:  1674    Log-Likelihood:     -59235.9590\n",
      "Max. group size:  7762    Converged:          Yes        \n",
      "Mean group size:  4152.7                                 \n",
      "---------------------------------------------------------\n",
      "              Coef.  Std.Err.    z    P>|z| [0.025 0.975]\n",
      "---------------------------------------------------------\n",
      "ko             0.036    0.067   0.542 0.588 -0.095  0.168\n",
      "dz             0.102    0.007  14.202 0.000  0.088  0.117\n",
      "ko_x_dz       -0.026    0.010  -2.620 0.009 -0.046 -0.007\n",
      "init_speed    -1.035    0.053 -19.653 0.000 -1.138 -0.932\n",
      "intercept     -0.071    0.049  -1.443 0.149 -0.166  0.025\n",
      "Group Var      0.011    0.006                            \n",
      "=========================================================\n",
      "\n"
     ]
    }
   ],
   "source": [
    "df_nov = df_shifts[df_shifts['nov']==0]\n",
    "lmm_res = MixedLM(df_nov['shifts'], df_nov[['ko', 'dz', 'ko_x_dz', 'init_speed',  'intercept']], df_nov['mouse'])\n",
    "lmm_resf = lmm_res.fit()\n",
    "print(lmm_resf.summary())"
   ]
  },
  {
   "cell_type": "code",
   "execution_count": 19,
   "id": "approved-pacific",
   "metadata": {},
   "outputs": [
    {
     "data": {
      "image/png": "[encoded data removed]",
      "text/plain": [
       "<Figure size 432x288 with 1 Axes>"
      ]
     },
     "metadata": {
      "needs_background": "light"
     },
     "output_type": "display_data"
    }
   ],
   "source": [
    "fig, ax = plt.subplots()\n",
    "\n",
    "plot_arr = np.zeros([2, 2, 5, 6 ])\n",
    "for m, mouse in enumerate(ctrl_mice):\n",
    "    for day in range(6):\n",
    "        mask = (df_shifts['ko']==0) & (df_shifts['mouse'] == mouse) & (df_shifts['day']==day) & (df_shifts['nov']==0)\n",
    "    \n",
    "        shifts = df_shifts['shifts'].loc[mask ]\n",
    "        plot_arr[0,0,m,day]=np.nanmean(shifts)\n",
    "        ax.scatter(10*day+.1*m, np.nanmean(shifts), color='black', s=20)\n",
    "\n",
    "for m, mouse in enumerate(ko_mice):\n",
    "    for day in range(6):\n",
    "        mask = (df_shifts['ko']==1) & (df_shifts['mouse'] == mouse) & (df_shifts['day']==day) & (df_shifts['nov']==0)\n",
    "    \n",
    "        shifts = df_shifts['shifts'].loc[mask ]\n",
    "        plot_arr[1,0,m,day]=np.nanmean(shifts)\n",
    "        ax.scatter(10*day+.1*m + 3, np.nanmean(shifts), color='red', s=20)\n",
    "\n",
    "        \n",
    "for m, mouse in enumerate(ctrl_mice):\n",
    "    for day in range(6):\n",
    "        mask = (df_shifts['ko']==0) & (df_shifts['mouse'] == mouse) & (df_shifts['day']==day) & (df_shifts['nov']==1)\n",
    "    \n",
    "        shifts = df_shifts['shifts'].loc[mask ]\n",
    "        plot_arr[0,1,m,day]=np.nanmean(shifts)\n",
    "        ax.scatter(10*day+.1*m + 1, np.nanmean(shifts), color='black', s=20, alpha = .3)\n",
    "\n",
    "for m, mouse in enumerate(ko_mice):\n",
    "    for day in range(6):\n",
    "        mask = (df_shifts['ko']==1) & (df_shifts['mouse'] == mouse) & (df_shifts['day']==day) & (df_shifts['nov']==1)\n",
    "    \n",
    "        shifts = df_shifts['shifts'].loc[mask ]\n",
    "        plot_arr[1,1,m,day]=np.nanmean(shifts)\n",
    "        ax.scatter(10*day+.1*m + 4, np.nanmean(shifts), color='red', s=20, alpha=.3)\n",
    "        \n",
    "\n",
    "ax.set_xticks(10*np.arange(6)+2)\n",
    "ax.set_xticklabels(np.arange(6))\n",
    "ax.set_xlabel('Day')\n",
    "ax.set_ylabel('Place Field Shift')\n",
    "ax.spines['top'].set_visible(False)\n",
    "ax.spines['right'].set_visible(False)\n",
    "fig.savefig(os.path.join(figdir, \"field_shift_summary.pdf\"))"
   ]
  },
  {
   "cell_type": "code",
   "execution_count": 40,
   "id": "clinical-static",
   "metadata": {},
   "outputs": [
    {
     "name": "stdout",
     "output_type": "stream",
     "text": [
      "          Mixed Linear Model Regression Results\n",
      "=========================================================\n",
      "Model:            MixedLM Dependent Variable: field_var  \n",
      "No. Observations: 50207   Method:             REML       \n",
      "No. Groups:       10      Scale:              0.0004     \n",
      "Min. group size:  2020    Log-Likelihood:     123079.5229\n",
      "Max. group size:  8782    Converged:          Yes        \n",
      "Mean group size:  5020.7                                 \n",
      "---------------------------------------------------------\n",
      "              Coef.  Std.Err.    z    P>|z| [0.025 0.975]\n",
      "---------------------------------------------------------\n",
      "ko             0.000    0.003   0.082 0.935 -0.005  0.006\n",
      "dz            -0.004    0.000 -14.237 0.000 -0.004 -0.003\n",
      "nov            0.023    0.000  73.869 0.000  0.023  0.024\n",
      "nov_x_dz      -0.002    0.000  -7.035 0.000 -0.003 -0.001\n",
      "ko_x_dz        0.001    0.000   3.451 0.001  0.000  0.002\n",
      "ko_x_nov       0.002    0.000   5.948 0.000  0.001  0.003\n",
      "intercept      0.044    0.002  21.870 0.000  0.040  0.047\n",
      "Group Var      0.000    0.000                            \n",
      "=========================================================\n",
      "\n"
     ]
    },
    {
     "name": "stderr",
     "output_type": "stream",
     "text": [
      "/home/mplitt/anaconda3/envs/STX3_test/lib/python3.8/site-packages/statsmodels/regression/mixed_linear_model.py:2237: ConvergenceWarning: The MLE may be on the boundary of the parameter space.\n",
      "  warnings.warn(msg, ConvergenceWarning)\n"
     ]
    }
   ],
   "source": [
    "df_fv = df_shifts[df_shifts['day']<4]\n",
    "lmm_res = MixedLM(df_fv['field_var'], df_fv[['ko', 'dz', 'nov','nov_x_dz', 'ko_x_dz', 'ko_x_nov',  'intercept']], \n",
    "                  df_fv['mouse'])\n",
    "lmm_resf = lmm_res.fit()\n",
    "print(lmm_resf.summary())"
   ]
  },
  {
   "cell_type": "code",
   "execution_count": 44,
   "id": "whole-plane",
   "metadata": {},
   "outputs": [
    {
     "name": "stdout",
     "output_type": "stream",
     "text": [
      "        Source            SS  DF1  DF2            MS          F     p-unc  \\\n",
      "0           ko  6.789458e-08    1    8  6.789458e-08   0.001193  0.973296   \n",
      "1          day  1.769821e-04    3   24  5.899403e-05  11.064654  0.000094   \n",
      "2  Interaction  1.821263e-05    3   24  6.070877e-06   1.138626  0.353487   \n",
      "\n",
      "        np2       eps  \n",
      "0  0.000149       NaN  \n",
      "1  0.580375  0.800469  \n",
      "2  0.124595       NaN  \n"
     ]
    },
    {
     "name": "stderr",
     "output_type": "stream",
     "text": [
      "/home/mplitt/anaconda3/envs/STX3_test/lib/python3.8/site-packages/pingouin/distribution.py:950: RuntimeWarning: divide by zero encountered in double_scalars\n",
      "  W = np.product(eig) / (eig.sum() / d)**d\n"
     ]
    }
   ],
   "source": [
    "aov = mixed_anova(data = df_fv[df_fv['nov'] == 0], dv = 'field_var', between = 'ko', within= 'day', subject = 'm')\n",
    "print(aov)"
   ]
  },
  {
   "cell_type": "code",
   "execution_count": 33,
   "id": "reported-middle",
   "metadata": {},
   "outputs": [
    {
     "data": {
      "image/png": "[encoded data removed]",
      "text/plain": [
       "<Figure size 432x288 with 1 Axes>"
      ]
     },
     "metadata": {
      "needs_background": "light"
     },
     "output_type": "display_data"
    }
   ],
   "source": [
    "fig, ax = plt.subplots()\n",
    "\n",
    "plot_arr = np.zeros([2, 2, 5, 6 ])\n",
    "for m, mouse in enumerate(ctrl_mice):\n",
    "    for day in range(6):\n",
    "        mask = (df_shifts['ko']==0) & (df_shifts['mouse'] == mouse) & (df_shifts['day']==day) & (df_shifts['nov']==0)\n",
    "    \n",
    "        shifts = df_shifts['field_var'].loc[mask ]\n",
    "        plot_arr[0,0,m,day]=np.nanmean(shifts)\n",
    "        ax.scatter(10*day+.1*m, np.nanmean(shifts), color='black', s=20)\n",
    "\n",
    "for m, mouse in enumerate(ko_mice):\n",
    "    for day in range(6):\n",
    "        mask = (df_shifts['ko']==1) & (df_shifts['mouse'] == mouse) & (df_shifts['day']==day) & (df_shifts['nov']==0)\n",
    "    \n",
    "        shifts = df_shifts['field_var'].loc[mask ]\n",
    "        plot_arr[1,0,m,day]=np.nanmean(shifts)\n",
    "        ax.scatter(10*day+.1*m + 3, np.nanmean(shifts), color='red', s=20)\n",
    "\n",
    "        \n",
    "for m, mouse in enumerate(ctrl_mice):\n",
    "    for day in range(6):\n",
    "        mask = (df_shifts['ko']==0) & (df_shifts['mouse'] == mouse) & (df_shifts['day']==day) & (df_shifts['nov']==1)\n",
    "    \n",
    "        shifts = df_shifts['field_var'].loc[mask ]\n",
    "        plot_arr[0,1,m,day]=np.nanmean(shifts)\n",
    "        ax.scatter(10*day+.1*m + 1, np.nanmean(shifts), color='black', s=20, alpha = .3)\n",
    "\n",
    "for m, mouse in enumerate(ko_mice):\n",
    "    for day in range(6):\n",
    "        mask = (df_shifts['ko']==1) & (df_shifts['mouse'] == mouse) & (df_shifts['day']==day) & (df_shifts['nov']==1)\n",
    "    \n",
    "        shifts = df_shifts['field_var'].loc[mask ]\n",
    "        plot_arr[1,1,m,day]=np.nanmean(shifts)\n",
    "        ax.scatter(10*day+.1*m + 4, np.nanmean(shifts), color='red', s=20, alpha=.3)\n",
    "        \n",
    "\n",
    "ax.set_xticks(10*np.arange(6)+2)\n",
    "ax.set_xticklabels(np.arange(6))\n",
    "ax.set_xlabel('Day')\n",
    "ax.set_ylabel('Place Field Var')\n",
    "ax.spines['top'].set_visible(False)\n",
    "ax.spines['right'].set_visible(False)\n",
    "fig.savefig(os.path.join(figdir, \"field_var_summary.pdf\"))"
   ]
  },
  {
   "cell_type": "code",
   "execution_count": 38,
   "id": "bibliographic-reporter",
   "metadata": {},
   "outputs": [
    {
     "name": "stdout",
     "output_type": "stream",
     "text": [
      "           Mixed Linear Model Regression Results\n",
      "===========================================================\n",
      "Model:             MixedLM Dependent Variable: width       \n",
      "No. Observations:  77588   Method:             REML        \n",
      "No. Groups:        10      Scale:              7.9953      \n",
      "Min. group size:   2945    Log-Likelihood:     -190773.7984\n",
      "Max. group size:   13705   Converged:          Yes         \n",
      "Mean group size:   7758.8                                  \n",
      "-----------------------------------------------------------\n",
      "                Coef.  Std.Err.    z    P>|z| [0.025 0.975]\n",
      "-----------------------------------------------------------\n",
      "ko              -0.707    0.150  -4.716 0.000 -1.001 -0.413\n",
      "dz              -0.079    0.018  -4.508 0.000 -0.114 -0.045\n",
      "nov             -0.809    0.029 -27.836 0.000 -0.866 -0.752\n",
      "nov_x_dz         0.329    0.020  16.102 0.000  0.289  0.369\n",
      "ko_x_dz         -0.100    0.021  -4.821 0.000 -0.140 -0.059\n",
      "ko_x_nov         0.056    0.041   1.381 0.167 -0.024  0.136\n",
      "init_speed       7.849    0.137  57.262 0.000  7.580  8.117\n",
      "init_speed_x_ko  0.462    0.225   2.056 0.040  0.022  0.903\n",
      "intercept        4.991    0.106  47.241 0.000  4.784  5.198\n",
      "Group Var        0.049    0.009                            \n",
      "===========================================================\n",
      "\n"
     ]
    }
   ],
   "source": [
    "lmm_res = MixedLM(df_shifts['width'], df_shifts[['ko', 'dz', 'nov','nov_x_dz', 'ko_x_dz', 'ko_x_nov', 'init_speed',  'init_speed_x_ko', 'intercept']], \n",
    "                  df_shifts['mouse'])\n",
    "lmm_resf = lmm_res.fit()\n",
    "print(lmm_resf.summary())"
   ]
  },
  {
   "cell_type": "code",
   "execution_count": 39,
   "id": "manual-juice",
   "metadata": {},
   "outputs": [
    {
     "data": {
      "image/png": "[encoded data removed]",
      "text/plain": [
       "<Figure size 432x288 with 1 Axes>"
      ]
     },
     "metadata": {
      "needs_background": "light"
     },
     "output_type": "display_data"
    }
   ],
   "source": [
    "fig, ax = plt.subplots()\n",
    "\n",
    "plot_arr = np.zeros([2, 2, 5, 6 ])\n",
    "for m, mouse in enumerate(ctrl_mice):\n",
    "    for day in range(6):\n",
    "        mask = (df_shifts['ko']==0) & (df_shifts['mouse'] == mouse) & (df_shifts['day']==day) & (df_shifts['nov']==0)\n",
    "    \n",
    "        shifts = df_shifts['width'].loc[mask ]\n",
    "        plot_arr[0,0,m,day]=np.nanmean(shifts)\n",
    "        ax.scatter(10*day+.1*m, np.nanmean(shifts), color='black', s=20)\n",
    "\n",
    "for m, mouse in enumerate(ko_mice):\n",
    "    for day in range(6):\n",
    "        mask = (df_shifts['ko']==1) & (df_shifts['mouse'] == mouse) & (df_shifts['day']==day) & (df_shifts['nov']==0)\n",
    "    \n",
    "        shifts = df_shifts['width'].loc[mask ]\n",
    "        plot_arr[1,0,m,day]=np.nanmean(shifts)\n",
    "        ax.scatter(10*day+.1*m + 3, np.nanmean(shifts), color='red', s=20)\n",
    "\n",
    "        \n",
    "for m, mouse in enumerate(ctrl_mice):\n",
    "    for day in range(6):\n",
    "        mask = (df_shifts['ko']==0) & (df_shifts['mouse'] == mouse) & (df_shifts['day']==day) & (df_shifts['nov']==1)\n",
    "    \n",
    "        shifts = df_shifts['width'].loc[mask ]\n",
    "        plot_arr[0,1,m,day]=np.nanmean(shifts)\n",
    "        ax.scatter(10*day+.1*m + 1, np.nanmean(shifts), color='black', s=20, alpha = .3)\n",
    "\n",
    "for m, mouse in enumerate(ko_mice):\n",
    "    for day in range(6):\n",
    "        mask = (df_shifts['ko']==1) & (df_shifts['mouse'] == mouse) & (df_shifts['day']==day) & (df_shifts['nov']==1)\n",
    "    \n",
    "        shifts = df_shifts['width'].loc[mask ]\n",
    "        plot_arr[1,1,m,day]=np.nanmean(shifts)\n",
    "        ax.scatter(10*day+.1*m + 4, np.nanmean(shifts), color='red', s=20, alpha=.3)\n",
    "        \n",
    "\n",
    "ax.set_xticks(10*np.arange(6)+2)\n",
    "ax.set_xticklabels(np.arange(6))\n",
    "ax.set_xlabel('Day')\n",
    "ax.set_ylabel('Place Field Width')\n",
    "ax.spines['top'].set_visible(False)\n",
    "ax.spines['right'].set_visible(False)\n",
    "fig.savefig(os.path.join(figdir, \"field_width_summary.pdf\"))"
   ]
  },
  {
   "cell_type": "code",
   "execution_count": null,
   "id": "hydraulic-madness",
   "metadata": {},
   "outputs": [],
   "source": []
  },
  {
   "cell_type": "code",
   "execution_count": null,
   "id": "apart-slovenia",
   "metadata": {},
   "outputs": [],
   "source": []
  },
  {
   "cell_type": "code",
   "execution_count": null,
   "id": "expressed-possession",
   "metadata": {},
   "outputs": [],
   "source": []
  },
  {
   "cell_type": "code",
   "execution_count": null,
   "id": "removable-raising",
   "metadata": {},
   "outputs": [],
   "source": []
  },
  {
   "cell_type": "code",
   "execution_count": 28,
   "id": "breeding-tamil",
   "metadata": {},
   "outputs": [
    {
     "name": "stdout",
     "output_type": "stream",
     "text": [
      "-0.7041790275329918 0.5013014655161836\n"
     ]
    }
   ],
   "source": [
    "t,p = sp.stats.ttest_ind(plot_arr[0,0,:,0],plot_arr[1,0,:,0])\n",
    "print(t,p)"
   ]
  },
  {
   "cell_type": "code",
   "execution_count": 28,
   "id": "limited-study",
   "metadata": {},
   "outputs": [
    {
     "name": "stdout",
     "output_type": "stream",
     "text": [
      "-0.09389328308608423 0.9251971930505488\n",
      "4.889753581562016 1.0330599173335153e-06\n",
      "-9.299029167721006 1.8299665836586803e-20\n",
      "-4.00275191315821 6.322838547952424e-05\n",
      "-10.16244429845107 4.3378150071341944e-24\n",
      "-12.644876503435315 2.795077433456213e-36\n"
     ]
    },
    {
     "data": {
      "image/png": "[encoded data removed]",
      "text/plain": [
       "<Figure size 2160x360 with 6 Axes>"
      ]
     },
     "metadata": {
      "needs_background": "light"
     },
     "output_type": "display_data"
    }
   ],
   "source": [
    "fig,ax = plt.subplots(1,6, figsize = [30,5])\n",
    "\n",
    "bins = np.linspace(0,.2, num=20)\n",
    "for day in range(6):\n",
    "    ax[day].hist(df_shifts['field_var'].loc[(df_shifts['ko']==0) & (df_shifts['day']==day) & (df_shifts['nov']==0)],\n",
    "                 bins = bins, color = 'black', alpha = .3, density=True)\n",
    "    ax[day].hist(df_shifts['field_var'].loc[(df_shifts['ko']==1) & (df_shifts['day']==day) & (df_shifts['nov']==0)],\n",
    "                 bins = bins, color = 'red', alpha = .3, density=True)\n",
    "    t,p = sp.stats.ttest_ind(df_shifts['field_var'].loc[(df_shifts['ko']==0) & (df_shifts['day']==day) & (df_shifts['nov']==0)],\n",
    "                             df_shifts['field_var'].loc[(df_shifts['ko']==1) & (df_shifts['day']==day) & (df_shifts['nov']==0)])\n",
    "    print(t,p)"
   ]
  },
  {
   "cell_type": "code",
   "execution_count": 34,
   "id": "ranging-charity",
   "metadata": {},
   "outputs": [
    {
     "data": {
      "image/png": "[encoded data removed]",
      "text/plain": [
       "<Figure size 432x288 with 1 Axes>"
      ]
     },
     "metadata": {
      "needs_background": "light"
     },
     "output_type": "display_data"
    }
   ],
   "source": [
    "fig, ax = plt.subplots()\n",
    "\n",
    "for m, mouse in enumerate(ctrl_mice):\n",
    "    for day in range(6):\n",
    "        mask = (df_shifts['ko']==0) & (df_shifts['mouse'] == mouse) & (df_shifts['day']==day) & (df_shifts['nov']==1)\n",
    "    \n",
    "        shifts = df_shifts['field_var'].loc[mask ]\n",
    "        ax.scatter(5*day+.1*m, np.nanmean(shifts), color='black', s=20)\n",
    "\n",
    "for m, mouse in enumerate(ko_mice):\n",
    "    for day in range(6):\n",
    "        mask = (df_shifts['ko']==1) & (df_shifts['mouse'] == mouse) & (df_shifts['day']==day) & (df_shifts['nov']==1)\n",
    "    \n",
    "        shifts = df_shifts['field_var'].loc[mask ]\n",
    "        ax.scatter(5*day+.1*m + 1, np.nanmean(shifts), color='red', s=20)\n",
    "    "
   ]
  },
  {
   "cell_type": "code",
   "execution_count": 31,
   "id": "interim-current",
   "metadata": {},
   "outputs": [
    {
     "name": "stdout",
     "output_type": "stream",
     "text": [
      "          Mixed Linear Model Regression Results\n",
      "=========================================================\n",
      "Model:            MixedLM Dependent Variable: field_var  \n",
      "No. Observations: 77588   Method:             REML       \n",
      "No. Groups:       10      Scale:              0.0004     \n",
      "Min. group size:  2945    Log-Likelihood:     191685.6678\n",
      "Max. group size:  13705   Converged:          Yes        \n",
      "Mean group size:  7758.8                                 \n",
      "---------------------------------------------------------\n",
      "              Coef.  Std.Err.    z    P>|z| [0.025 0.975]\n",
      "---------------------------------------------------------\n",
      "ko             0.001    0.003   0.408 0.684 -0.004  0.007\n",
      "dz            -0.004    0.000 -43.101 0.000 -0.005 -0.004\n",
      "ko_x_dz        0.001    0.000   8.269 0.000  0.001  0.002\n",
      "nov            0.021    0.000 139.554 0.000  0.020  0.021\n",
      "intercept      0.045    0.002  22.828 0.000  0.041  0.049\n",
      "Group Var      0.000    0.000                            \n",
      "=========================================================\n",
      "\n"
     ]
    },
    {
     "name": "stderr",
     "output_type": "stream",
     "text": [
      "/home/mplitt/anaconda3/envs/STX3_test/lib/python3.8/site-packages/statsmodels/regression/mixed_linear_model.py:2237: ConvergenceWarning: The MLE may be on the boundary of the parameter space.\n",
      "  warnings.warn(msg, ConvergenceWarning)\n"
     ]
    }
   ],
   "source": [
    "lmm_res = MixedLM(df_shifts['field_var'], df_shifts[['ko', 'dz', 'ko_x_dz','nov', 'intercept']], df_shifts['mouse'])\n",
    "lmm_resf = lmm_res.fit()\n",
    "print(lmm_resf.summary())"
   ]
  },
  {
   "cell_type": "code",
   "execution_count": 23,
   "id": "single-accident",
   "metadata": {},
   "outputs": [
    {
     "name": "stdout",
     "output_type": "stream",
     "text": [
      "(5799, 18) -0.10236758202545217 5.528465131978188e-15\n",
      "(5288, 18) -0.011425044499839578 0.40617457511549915\n"
     ]
    },
    {
     "data": {
      "image/png": "[encoded data removed]",
      "text/plain": [
       "<Figure size 432x288 with 1 Axes>"
      ]
     },
     "metadata": {
      "needs_background": "light"
     },
     "output_type": "display_data"
    },
    {
     "data": {
      "image/png": "[encoded data removed]",
      "text/plain": [
       "<Figure size 720x360 with 2 Axes>"
      ]
     },
     "metadata": {
      "needs_background": "light"
     },
     "output_type": "display_data"
    }
   ],
   "source": [
    "fig, ax = plt.subplots()\n",
    "ax.hist(df_shifts['init_speed'])\n",
    "\n",
    "fig, ax = plt.subplots(1,2,figsize=[10,5], sharey=True, sharex=True)\n",
    "ctrl_df = df_shifts[(df_shifts['ko']==0) & (df_shifts['day']==0) ]\n",
    "ax[0].hist2d(ctrl_df['init_speed'], ctrl_df['shifts'], bins=(np.linspace(0,.6,num=20),np.linspace(-5,5,num=20)),density=True, vmax = 1, cmap = 'PuRd') #, color='black')\n",
    "\n",
    "res = sp.stats.linregress(ctrl_df['init_speed'],ctrl_df['shifts'])\n",
    "x = np.linspace(0,.6)\n",
    "ax[0].plot(x,res.slope*x + res.intercept, color='black')\n",
    "\n",
    "r,p = sp.stats.pearsonr(ctrl_df['init_speed'],ctrl_df['shifts'])\n",
    "r,p = sp.stats.spearmanr(ctrl_df['init_speed'],ctrl_df['shifts'])\n",
    "print(ctrl_df.shape,r,p)\n",
    "\n",
    "# fig, ax = plt.subplots()\n",
    "ko_df = df_shifts[(df_shifts['ko']==1) & (df_shifts['day']==0)]\n",
    "ax[1].hist2d(ko_df['init_speed'],ko_df['shifts'], bins=(np.linspace(0,.6,num=20),np.linspace(-5,5,num=20)), density=True, vmax=1, cmap = 'PuRd') #, color='red')\n",
    "r,p = sp.stats.pearsonr(ko_df['init_speed'],ko_df['shifts'])\n",
    "r,p = sp.stats.spearmanr(ko_df['init_speed'],ko_df['shifts'])\n",
    "\n",
    "res = sp.stats.linregress(ko_df['init_speed'], ko_df['shifts'])\n",
    "x = np.linspace(0,.6)\n",
    "ax[1].plot(x,res.slope*x + res.intercept, color='red')\n",
    "print(ko_df.shape,r,p)\n",
    "\n",
    "ax[0].set_title('Ctrl')\n",
    "ax[1].set_title('KO')\n",
    "ax[0].set_xlabel('Form Lap Speed')\n",
    "ax[0].set_ylabel('COM shift')\n",
    "fig.savefig(os.path.join(figdir,\"initspeed_vs_shifts.pdf\"))"
   ]
  },
  {
   "cell_type": "code",
   "execution_count": 37,
   "id": "nominated-traveler",
   "metadata": {},
   "outputs": [
    {
     "name": "stdout",
     "output_type": "stream",
     "text": [
      "0\n",
      "[0.         0.03157895 0.06315789 0.09473684 0.12631579 0.15789474\n",
      " 0.18947368 0.22105263 0.25263158 0.28421053 0.31578947 0.34736842\n",
      " 0.37894737 0.41052632 0.44210526 0.47368421 0.50526316 0.53684211\n",
      " 0.56842105 0.6       ] [ 3  4  5  6  7  8  9 10 11 12 13 14 15 16 17 18 19]\n",
      "0.17070607256206777 3.616673207250699e-39\n",
      "0.2271557281395265 7.439143070744868e-63\n"
     ]
    },
    {
     "data": {
      "image/png": "[encoded data removed]",
      "text/plain": [
       "<Figure size 720x360 with 2 Axes>"
      ]
     },
     "metadata": {
      "needs_background": "light"
     },
     "output_type": "display_data"
    }
   ],
   "source": [
    "\n",
    "fig, ax = plt.subplots(1,2,figsize=[10,5], sharey=True, sharex=True)\n",
    "ctrl_df = df_shifts[(df_shifts['ko']==0) & (df_shifts['day']==0) ]\n",
    "h, xedges, yedges, _ = ax[0].hist2d(ctrl_df['init_speed'], ctrl_df['width'], bins=(np.linspace(0,.6,num=20),np.arange(3,20)),density=True, vmax = 1, cmap = 'PuRd') #, color='black')\n",
    "print(np.isnan(h).sum())\n",
    "print(xedges, yedges)\n",
    "\n",
    "res = sp.stats.linregress(ctrl_df['init_speed'],ctrl_df['width'])\n",
    "x = np.linspace(0,.6)\n",
    "ax[0].plot(x,res.slope*x + res.intercept, color='black')\n",
    "\n",
    "r,p = sp.stats.pearsonr(ctrl_df['init_speed'],ctrl_df['width'])\n",
    "r,p = sp.stats.spearmanr(ctrl_df['init_speed'],ctrl_df['width'])\n",
    "print(r,p)\n",
    "\n",
    "# fig, ax = plt.subplots()\n",
    "ko_df = df_shifts[(df_shifts['ko']==1) & (df_shifts['day']==0)]\n",
    "ax[1].hist2d(ko_df['init_speed'],ko_df['width'], bins=(np.linspace(0,.6,num=20),np.arange(3,20)), density=True, vmax=1, cmap = 'PuRd') #, color='red')\n",
    "r,p = sp.stats.pearsonr(ko_df['init_speed'],ko_df['width'])\n",
    "r,p = sp.stats.spearmanr(ko_df['init_speed'],ko_df['width'])\n",
    "\n",
    "res = sp.stats.linregress(ko_df['init_speed'], ko_df['width'])\n",
    "x = np.linspace(0,.6)\n",
    "ax[1].plot(x,res.slope*x + res.intercept, color='red')\n",
    "print(r,p)\n",
    "\n",
    "ax[0].set_title('Ctrl')\n",
    "ax[1].set_title('KO')\n",
    "ax[0].set_xlabel('Form Lap Speed')\n",
    "ax[0].set_ylabel('width')\n",
    "fig.savefig(os.path.join(figdir,\"initspeed_vs_width.pdf\"))"
   ]
  },
  {
   "cell_type": "code",
   "execution_count": 66,
   "id": "handed-storage",
   "metadata": {},
   "outputs": [
    {
     "name": "stdout",
     "output_type": "stream",
     "text": [
      "          Mixed Linear Model Regression Results\n",
      "==========================================================\n",
      "Model:            MixedLM Dependent Variable: width       \n",
      "No. Observations: 77588   Method:             REML        \n",
      "No. Groups:       10      Scale:              8.1634      \n",
      "Min. group size:  2945    Log-Likelihood:     -191578.6760\n",
      "Max. group size:  13705   Converged:          Yes         \n",
      "Mean group size:  7758.8                                  \n",
      "-----------------------------------------------------------\n",
      "            Coef.   Std.Err.    z     P>|z|  [0.025  0.975]\n",
      "-----------------------------------------------------------\n",
      "ko          -0.580     0.142  -4.073  0.000  -0.859  -0.301\n",
      "dz           0.078     0.015   5.345  0.000   0.050   0.107\n",
      "ko_x_dz     -0.107     0.021  -5.131  0.000  -0.148  -0.066\n",
      "init_speed   0.795     0.015  54.755  0.000   0.767   0.824\n",
      "ko_x_speed   0.095     0.024   3.999  0.000   0.049   0.142\n",
      "intercept    6.217     0.101  61.845  0.000   6.020   6.414\n",
      "Group Var    0.049     0.009                               \n",
      "==========================================================\n",
      "\n"
     ]
    }
   ],
   "source": [
    "speed_z = sp.stats.zscore(df_shifts['init_speed']._values)\n",
    "df_shifts['init_speed'] = speed_z\n",
    "df_shifts['ko_x_speed'] = speed_z*df_shifts['ko']._values\n",
    "lmm_res = MixedLM(df_shifts['width'], df_shifts[['ko', 'dz', 'ko_x_dz','init_speed', 'init_speed_x_ko', 'intercept']], df_shifts['mouse'])\n",
    "lmm_resf = lmm_res.fit()\n",
    "print(lmm_resf.summary())\n",
    "\n"
   ]
  },
  {
   "cell_type": "code",
   "execution_count": 74,
   "id": "intensive-watts",
   "metadata": {},
   "outputs": [
    {
     "name": "stdout",
     "output_type": "stream",
     "text": [
      "5.773612624611505 9.079796606599732e-09\n",
      "4.888152400451535 1.095548468597884e-06\n",
      "5.270232628479259 1.4956091386874433e-07\n",
      "5.9048277000737786 4.049025830261659e-09\n",
      "3.509481656130859 0.00045783820864629904\n",
      "1.3679174231110098 0.17142311390123907\n"
     ]
    },
    {
     "data": {
      "image/png": "[encoded data removed]",
      "text/plain": [
       "<Figure size 2160x360 with 6 Axes>"
      ]
     },
     "metadata": {
      "needs_background": "light"
     },
     "output_type": "display_data"
    }
   ],
   "source": [
    "fig,ax = plt.subplots(1,6, figsize = [30,5])\n",
    "\n",
    "bins = np.arange(20)\n",
    "for day in range(6):\n",
    "    ax[day].hist(df_shifts['formation_lap'].loc[(df_shifts['ko']==0) & (df_shifts['day']==day) ],\n",
    "                 bins = bins, color = 'black', alpha = .3, density=True)\n",
    "    ax[day].hist(df_shifts['formation_lap'].loc[(df_shifts['ko']==1) & (df_shifts['day']==day)],\n",
    "                 bins = bins, color = 'red', alpha = .3, density=True)\n",
    "    t,p = sp.stats.ttest_ind(df_shifts['formation_lap'].loc[(df_shifts['ko']==0) & (df_shifts['day']==day)],\n",
    "                             df_shifts['formation_lap'].loc[(df_shifts['ko']==1) & (df_shifts['day']==day)])\n",
    "    print(t,p)"
   ]
  },
  {
   "cell_type": "code",
   "execution_count": 75,
   "id": "genuine-dependence",
   "metadata": {},
   "outputs": [
    {
     "name": "stdout",
     "output_type": "stream",
     "text": [
      "           Mixed Linear Model Regression Results\n",
      "===========================================================\n",
      "Model:            MixedLM Dependent Variable: formation_lap\n",
      "No. Observations: 14313   Method:             REML         \n",
      "No. Groups:       10      Scale:              24.8484      \n",
      "Min. group size:  484     Log-Likelihood:     -43328.0547  \n",
      "Max. group size:  2073    Converged:          Yes          \n",
      "Mean group size:  1431.3                                   \n",
      "------------------------------------------------------------\n",
      "              Coef.  Std.Err.    z     P>|z|  [0.025  0.975]\n",
      "------------------------------------------------------------\n",
      "ko            1.501     0.727   2.064  0.039   0.076   2.926\n",
      "dz            0.693     0.051  13.459  0.000   0.592   0.794\n",
      "ko_x_dz       0.225     0.085   2.648  0.008   0.059   0.392\n",
      "Group Var     2.615     0.249                               \n",
      "===========================================================\n",
      "\n"
     ]
    }
   ],
   "source": [
    "lmm_res = MixedLM(df_shifts['formation_lap'], df_shifts[['ko', 'dz', 'ko_x_dz']], df_shifts['mouse'])\n",
    "lmm_resf = lmm_res.fit()\n",
    "print(lmm_resf.summary())"
   ]
  },
  {
   "cell_type": "code",
   "execution_count": null,
   "id": "likely-circular",
   "metadata": {},
   "outputs": [],
   "source": []
  }
 ],
 "metadata": {
  "kernelspec": {
   "display_name": "Python 3",
   "language": "python",
   "name": "python3"
  },
  "language_info": {
   "codemirror_mode": {
    "name": "ipython",
    "version": 3
   },
   "file_extension": ".py",
   "mimetype": "text/x-python",
   "name": "python",
   "nbconvert_exporter": "python",
   "pygments_lexer": "ipython3",
   "version": "3.8.8"
  }
 },
 "nbformat": 4,
 "nbformat_minor": 5
}
