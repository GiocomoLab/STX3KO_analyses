{
 "cells": [
  {
   "cell_type": "markdown",
   "id": "3ea0627f",
   "metadata": {},
   "source": [
    "plot some example ROIs that are stable place cells throughout first 6 days of imaging\n",
    "plot cell footprint on day1 and day6 with cell highlighted and red green overlay as red and purple, union is white"
   ]
  },
  {
   "cell_type": "code",
   "execution_count": 1,
   "id": "630739f3",
   "metadata": {},
   "outputs": [],
   "source": [
    "import os\n",
    "import math\n",
    "\n",
    "import numpy as np\n",
    "import scipy as sp\n",
    "from matplotlib import pyplot as plt\n",
    "from matplotlib import gridspec\n",
    "import dill\n",
    "\n",
    "import suite2p as s2p\n",
    "\n",
    "import TwoPUtils as tpu\n",
    "import STX3KO_analyses as stx\n",
    "from STX3KO_analyses import utilities as u\n",
    "\n",
    "ko_mice = stx.ymaze_sess_deets.ko_mice\n",
    "ctrl_mice = stx.ymaze_sess_deets.ctrl_mice\n",
    "\n",
    "\n",
    "%matplotlib inline\n",
    "\n",
    "%load_ext autoreload\n",
    "%autoreload 2"
   ]
  },
  {
   "cell_type": "code",
   "execution_count": 2,
   "id": "31c5000e",
   "metadata": {},
   "outputs": [],
   "source": [
    "figdir = \"/mnt/BigDisk/YMazeResults/neural/example_place_cells\"\n",
    "os.makedirs(figdir, exist_ok=True)"
   ]
  },
  {
   "cell_type": "code",
   "execution_count": 3,
   "id": "c6e8ef5c",
   "metadata": {},
   "outputs": [
    {
     "name": "stdout",
     "output_type": "stream",
     "text": [
      "('4467331.1', '4467331.2', '4467332.1', '4467332.2', '4467333.1', 'mCherry6', 'mCherry7', 'mCherry8', 'mCherry9')\n"
     ]
    }
   ],
   "source": [
    "print(ctrl_mice)"
   ]
  },
  {
   "cell_type": "code",
   "execution_count": 4,
   "id": "fb334d0e",
   "metadata": {},
   "outputs": [
    {
     "name": "stderr",
     "output_type": "stream",
     "text": [
      "/home/mplitt/mambaforge/envs/STX3/lib/python3.8/site-packages/outdated/utils.py:14: OutdatedPackageWarning: The package pingouin is out of date. Your version is 0.5.3, the latest is 0.5.5.\n",
      "Set the environment variable OUTDATED_IGNORE=1 to disable these warnings.\n",
      "  return warn(\n"
     ]
    },
    {
     "name": "stdout",
     "output_type": "stream",
     "text": [
      "14_10_2021 YMaze_LNovel\n",
      "15_10_2021 YMaze_LNovel\n",
      "16_10_2021 YMaze_LNovel\n",
      "17_10_2021 YMaze_LNovel\n",
      "18_10_2021 YMaze_LNovel\n",
      "19_10_2021 YMaze_LNovel\n"
     ]
    }
   ],
   "source": [
    "sess = u.single_mouse_concat_sessions(ctrl_mice[6], date_inds = np.arange(6),load_stats=True, load_ops = True)"
   ]
  },
  {
   "cell_type": "code",
   "execution_count": null,
   "id": "21eda764",
   "metadata": {},
   "outputs": [],
   "source": []
  },
  {
   "cell_type": "code",
   "execution_count": 5,
   "id": "8cb6766e",
   "metadata": {},
   "outputs": [
    {
     "data": {
      "text/plain": [
       "6"
      ]
     },
     "execution_count": 5,
     "metadata": {},
     "output_type": "execute_result"
    }
   ],
   "source": [
    "len(sess.s2p_stats)"
   ]
  },
  {
   "cell_type": "code",
   "execution_count": 6,
   "id": "926c5b6a",
   "metadata": {},
   "outputs": [],
   "source": [
    "\n",
    "# pc_mask = sess.fam_place_cell_mask() + sess.nov_place_cell_mask() >0\n",
    "pc_mask =  sess.nov_place_cell_mask() >0\n",
    "pc_inds = np.argwhere(pc_mask)[:,0]"
   ]
  },
  {
   "cell_type": "code",
   "execution_count": 7,
   "id": "6e2e7451",
   "metadata": {},
   "outputs": [
    {
     "data": {
      "text/plain": [
       "-1"
      ]
     },
     "execution_count": 7,
     "metadata": {},
     "output_type": "execute_result"
    }
   ],
   "source": [
    "sess.novel_arm\n"
   ]
  },
  {
   "cell_type": "code",
   "execution_count": null,
   "id": "1847c582",
   "metadata": {},
   "outputs": [],
   "source": []
  },
  {
   "cell_type": "code",
   "execution_count": null,
   "id": "49b7cb38",
   "metadata": {
    "tags": []
   },
   "outputs": [
    {
     "name": "stderr",
     "output_type": "stream",
     "text": [
      "/tmp/ipykernel_132003/2890224693.py:4: RuntimeWarning: More than 20 figures have been opened. Figures created through the pyplot interface (`matplotlib.pyplot.figure`) are retained until explicitly closed and may consume too much memory. (To control this warning, see the rcParam `figure.max_open_warning`). Consider using `matplotlib.pyplot.close()`.\n",
      "  fig = plt.figure(figsize = [20, 5])\n"
     ]
    }
   ],
   "source": [
    "save =False\n",
    "plt.ioff()\n",
    "for cell in pc_inds:\n",
    "    fig = plt.figure(figsize = [20, 5])\n",
    "    gs = gridspec.GridSpec(6, 5, figure=fig)\n",
    "    mean = np.nanmean(sess.trial_matrices['spks'][:,:,cell].ravel())\n",
    "    for day in range(6):\n",
    "        fam_mask = (sess.trial_info['sess_num']==day) & (sess.trial_info['LR']==-1*sess.novel_arm)\n",
    "        nov_mask = (sess.trial_info['sess_num']==day) & (sess.trial_info['LR']==sess.novel_arm)\n",
    "        fam_trialmat = sess.trial_matrices['spks'][fam_mask,:,:][:,:,cell]\n",
    "        nov_trialmat = sess.trial_matrices['spks'][nov_mask,:,:][:,:,cell]\n",
    "        \n",
    "    \n",
    "        fam_trialmat[np.isnan(fam_trialmat)]=1E-3\n",
    "        nov_trialmat[np.isnan(nov_trialmat)]=1E-3\n",
    "        \n",
    "        day_inds = sess.trial_info['sess_num'][sess.trial_info['LR']==-1*sess.novel_arm]==day\n",
    "        fam_ax = fig.add_subplot(gs[day,0])\n",
    "        h = fam_ax.imshow(fam_trialmat/mean, cmap = 'magma', aspect='auto', vmin = 0, vmax=5)\n",
    "        \n",
    "        nov_ax = fig.add_subplot(gs[day,1])\n",
    "        nov_ax.imshow(nov_trialmat/mean, cmap = 'magma', aspect='auto', vmin = 0, vmax=5)\n",
    "        \n",
    "        if day<5:\n",
    "            fam_ax.set_xticks([])\n",
    "            nov_ax.set_xticks([])\n",
    "        else:\n",
    "            fam_ax.set_xticks((-.5, 9.5, 19.5, 29.5))\n",
    "            fam_ax.set_xticklabels((0,100,200,300))\n",
    "            \n",
    "            nov_ax.set_xticks((-.5, 9.5, 19.5, 29.5))\n",
    "            nov_ax.set_xticklabels((0,100,200,300))\n",
    "    \n",
    "    \n",
    "    cbar_ax = fig.add_subplot(gs[2:4,2])\n",
    "    plt.colorbar(h,ax=cbar_ax)\n",
    "    \n",
    "    day0_com = (sess.s2p_stats[0][cell]['xpix'].mean(), sess.s2p_stats[0][cell]['ypix'].mean())\n",
    "    day5_com = (sess.s2p_stats[len(sess.s2p_stats)-1][cell]['xpix'].mean(), sess.s2p_stats[len(sess.s2p_stats)-1][cell]['ypix'].mean())\n",
    "    \n",
    "    day0img = np.zeros([100,100,3])\n",
    "\n",
    "    x_edges = (int(day0_com[1]-50), int(day0_com[1]+50))\n",
    "    y_edges = ( int(day0_com[0]-50), int(day0_com[0]+50))\n",
    "    g_img = sess.s2p_ops[0]['meanImg'][x_edges[0]:x_edges[1], y_edges[0]:y_edges[1]]\n",
    "    r_img = sess.s2p_ops[0]['meanImg_chan2'][x_edges[0]:x_edges[1], y_edges[0]:y_edges[1]]\n",
    "    day0img[:,:,1] = g_img/np.amax(g_img)\n",
    "    day0img[:,:,0] = r_img/np.amax(r_img)\n",
    "    day0img[:,:,2] = r_img/np.amax(r_img)\n",
    "    \n",
    "    day0_ax = fig.add_subplot(gs[1:5,3])\n",
    "    day0_ax.imshow(day0img,cmap='Greys_r')\n",
    "    \n",
    "    circle = plt.Circle((50,50), 7, fill=False, color='blue',linewidth=3)\n",
    "    day0_ax.add_patch(circle)\n",
    "    \n",
    "    day5img = np.zeros([100,100,3])\n",
    "\n",
    "    x_edges = (int(day5_com[1]-50), int(day5_com[1]+50))\n",
    "    y_edges = ( int(day5_com[0]-50), int(day5_com[0]+50))\n",
    "    g_img = sess.s2p_ops[len(sess.s2p_stats)-1]['meanImg'][x_edges[0]:x_edges[1], y_edges[0]:y_edges[1]]\n",
    "    r_img = sess.s2p_ops[len(sess.s2p_stats)-1]['meanImg_chan2'][x_edges[0]:x_edges[1], y_edges[0]:y_edges[1]]\n",
    "    day5img[:,:,1] = g_img/np.amax(g_img)\n",
    "    day5img[:,:,0] = r_img/np.amax(r_img)\n",
    "    day5img[:,:,2] = r_img/np.amax(r_img)\n",
    "    \n",
    "    day5_ax = fig.add_subplot(gs[1:5,4])\n",
    "    day5_ax.imshow(day5img,cmap='Greys_r')\n",
    "    \n",
    "    \n",
    "    circle = plt.Circle((50,50), 7, fill=False, color='blue',linewidth=3)\n",
    "    day5_ax.add_patch(circle)\n",
    "    \n",
    "    fig.suptitle(\"cell %d\" % cell)\n",
    "    \n",
    "    if save:\n",
    "        mouse_dir = os.path.join(figdir, sess.mouse)\n",
    "        os.makedirs(mouse_dir,exist_ok = True)\n",
    "        fig.savefig(os.path.join(mouse_dir,\"cell%d.pdf\" % cell),format = 'pdf')\n",
    "    \n",
    "\n",
    "# #     ax[2].scatter(*day0_com)\n",
    "# #    "
   ]
  },
  {
   "cell_type": "code",
   "execution_count": 37,
   "id": "a1331fff",
   "metadata": {},
   "outputs": [
    {
     "name": "stdout",
     "output_type": "stream",
     "text": [
      "{'date': '29_11_2020', 'scene': 'YMaze_LNovel', 'session': 2, 'scan': 18, 'novel_arm': 1, 'ravel_ind': 1}\n"
     ]
    },
    {
     "name": "stderr",
     "output_type": "stream",
     "text": [
      "\n",
      "KeyboardInterrupt\n",
      "\n"
     ]
    }
   ],
   "source": [
    "sess = u.load_single_day(ctrl_mice[3],0)\n",
    "pc_mask = sess.fam_place_cell_mask() + sess.nov_place_cell_mask() >0\n",
    "pc_inds = np.argwhere(pc_mask)[:,0]"
   ]
  },
  {
   "cell_type": "code",
   "execution_count": null,
   "id": "58325a31",
   "metadata": {
    "tags": []
   },
   "outputs": [],
   "source": [
    "save = False\n",
    "for cell in pc_inds:\n",
    "    fig, ax = plt.subplots(1,2, figsize = [10, 3])\n",
    "    \n",
    "    fam_trialmat, nov_trialmat = sess.trial_matrices['spks'][sess.trial_info['LR']==-1*sess.novel_arm,:,:][:,:,cell], sess.trial_matrices['spks'][sess.trial_info['LR']==sess.novel_arm,:,:][:,:,cell]\n",
    "    mean = np.nanmean(sess.trial_matrices['spks'][:,:,cell].ravel())\n",
    "    fam_trialmat[np.isnan(fam_trialmat)]=1E-3\n",
    "    nov_trialmat[np.isnan(nov_trialmat)]=1E-3\n",
    "    h = ax[0].imshow(fam_trialmat/mean, cmap = 'magma', aspect='auto')#, vmin = 0, vmax=10)\n",
    "    plt.colorbar(h,ax=ax[0])\n",
    "    h = ax[1].imshow(nov_trialmat/mean, cmap = 'magma', aspect='auto')#, vmin = 0, vmax=10)\n",
    "    plt.colorbar(h,ax=ax[1])\n",
    "    ax[0].set_title(f\"{cell}\")\n",
    "    \n",
    "    \n",
    "    if save:\n",
    "        mouse_dir = os.path.join(figdir, sess.mouse)\n",
    "        os.makedirs(mouse_dir,exist_ok = True)\n",
    "        fig.savefig(os.path.join(mouse_dir,\"cell%d.pdf\" % cell),format = 'pdf')\n",
    "    \n",
    "\n",
    "#     ax[2].scatter(*day0_com)"
   ]
  },
  {
   "cell_type": "code",
   "execution_count": null,
   "id": "c7a3faff",
   "metadata": {},
   "outputs": [],
   "source": []
  }
 ],
 "metadata": {
  "kernelspec": {
   "display_name": "Python 3 (ipykernel)",
   "language": "python",
   "name": "python3"
  },
  "language_info": {
   "codemirror_mode": {
    "name": "ipython",
    "version": 3
   },
   "file_extension": ".py",
   "mimetype": "text/x-python",
   "name": "python",
   "nbconvert_exporter": "python",
   "pygments_lexer": "ipython3",
   "version": "3.8.15"
  }
 },
 "nbformat": 4,
 "nbformat_minor": 5
}
