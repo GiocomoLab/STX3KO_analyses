{
 "cells": [
  {
   "cell_type": "code",
   "execution_count": 1,
   "id": "e78a503b-53c8-45a9-b6a1-c2df4b8812c9",
   "metadata": {},
   "outputs": [],
   "source": [
    "import os\n",
    "import joblib\n",
    "import pickle\n",
    "\n",
    "import numpy as np\n",
    "import scipy as sp\n",
    "from matplotlib import pyplot as plt\n",
    "from matplotlib import gridspec\n",
    "\n",
    "import pandas as pd\n",
    "from pingouin import mixed_anova, anova, pairwise_tukey, pairwise_tests\n",
    "import pingouin as pg\n",
    "from statsmodels.regression.mixed_linear_model import MixedLM\n",
    "import statsmodels.formula.api as smf\n",
    "\n",
    "import TwoPUtils as tpu\n",
    "import STX3KO_analyses as stx\n",
    "from STX3KO_analyses import utilities_ES as u\n",
    "\n",
    "\n",
    "\n",
    "plt.rcParams['pdf.fonttype']=42\n",
    "ko_mice = stx.ymaze_sess_deets.ko_mice\n",
    "\n",
    "ctrl_mice = stx.ymaze_sess_deets.ctrl_mice\n",
    "# ctrl_mice = [m for m in ctrl_mice if m not in ('mCherry6')]\n",
    "\n",
    "%matplotlib inline\n",
    "\n",
    "%load_ext autoreload\n",
    "%autoreload 2"
   ]
  },
  {
   "cell_type": "code",
   "execution_count": 2,
   "id": "61d7231a-77de-4ea6-a0b4-f2a9ed9209d9",
   "metadata": {},
   "outputs": [],
   "source": [
    "figdir = \"C:/Users/esay/data/Stx3/fig_scratch/neural/\"\n",
    "os.makedirs(figdir,exist_ok=True)"
   ]
  },
  {
   "cell_type": "code",
   "execution_count": 64,
   "id": "c5752ca3-fcb2-4556-8b5b-7c79b13d2f4b",
   "metadata": {},
   "outputs": [
    {
     "data": {
      "text/plain": [
       "array([[0., 0., 0., ..., 0., 0., 0.],\n",
       "       [0., 0., 0., ..., 0., 0., 0.],\n",
       "       [0., 0., 0., ..., 0., 0., 0.],\n",
       "       ...,\n",
       "       [0., 0., 0., ..., 0., 0., 0.],\n",
       "       [0., 0., 0., ..., 0., 0., 0.],\n",
       "       [0., 0., 0., ..., 0., 0., 0.]])"
      ]
     },
     "execution_count": 64,
     "metadata": {},
     "output_type": "execute_result"
    }
   ],
   "source": [
    "spks = sess.timeseries['spks']\n",
    "np.zeros_like(spks)"
   ]
  },
  {
   "cell_type": "code",
   "execution_count": 138,
   "id": "62163f1d-3d59-4831-a49a-17b1d4cbd895",
   "metadata": {},
   "outputs": [],
   "source": [
    "def run_shuffle(sess, trial_starts, teleports,t, rng, trial_mask):\n",
    "    spks = sess.timeseries['spks']\n",
    "    spks_shuff = np.zeros(spks.shape)\n",
    "\n",
    "    \n",
    "    lr = sess.trial_info['LR'][trial_mask]\n",
    "    \n",
    "    # F_shuff = np.zeros_like(F)\n",
    "    \n",
    "    for trial, (start, stop) in enumerate(zip(trial_starts, teleports)):\n",
    "        _F = 1*spks[:,start:stop]    \n",
    "        _F = np.roll(_F,rng.integers(0,stop-start),axis=-1)\n",
    "        spks_shuff[:,start:stop] = 1*_F\n",
    "        \n",
    "    tmat = tpu.spatial_analyses.trial_matrix(spks_shuff.T,t, trial_starts,\n",
    "                                            teleports, min_pos=13, max_pos=43, bin_size=1, mat_only=True)\n",
    "    \n",
    "    # return np.nanmean(tmat,axis=0)\n",
    "    \n",
    "    nov_mean = np.nanmean(tmat[lr==sess.novel_arm, :, :], axis=0)\n",
    "    fam_mean = np.nanmean(tmat[lr==-1*sess.novel_arm, :, :], axis=0)\n",
    "\n",
    "    # left_mean = np.nanmean(tmat[lr==-1, :, :], axis=0)\n",
    "    # right_mean = np.nanmean(tmat[lr==1, :, :], axis=0)\n",
    "    return nov_mean, fam_mean\n",
    "    # return left_mean, right_mean"
   ]
  },
  {
   "cell_type": "code",
   "execution_count": 178,
   "id": "d927ffa2-f974-434f-b2d4-23a3dc6a3490",
   "metadata": {},
   "outputs": [
    {
     "data": {
      "text/plain": [
       "(20, 30, 1048)"
      ]
     },
     "execution_count": 178,
     "metadata": {},
     "output_type": "execute_result"
    }
   ],
   "source": [
    "tmat.shape"
   ]
  },
  {
   "cell_type": "code",
   "execution_count": 63,
   "id": "02ad3d0a-3772-4b61-9d35-fd9088fd2d2a",
   "metadata": {},
   "outputs": [
    {
     "name": "stdout",
     "output_type": "stream",
     "text": [
      "{'date': '28_09_2020', 'scene': 'YMaze_LNovel', 'session': 6, 'scan': 14, 'novel_arm': -1, 'ravel_ind': 1}\n"
     ]
    },
    {
     "name": "stderr",
     "output_type": "stream",
     "text": [
      "c:\\users\\esay\\repos\\twoputils\\TwoPUtils\\sess.py:107: UserWarning: skipping checking keys, remaining initialization not guaranteed to work\n",
      "  warnings.warn(\"skipping checking keys, remaining initialization not guaranteed to work\")\n",
      "c:\\users\\esay\\repos\\twoputils\\TwoPUtils\\sess.py:239: UserWarning: Could not find sbxmat file at /mnt/BigDisk/2P_scratch/4467975.1/28_09_2020/YMaze_LNovel/YMaze_LNovel_006_014.mat\n",
      "  warnings.warn(\"Could not find sbxmat file at %s\" % self.scanheader_file)\n",
      "c:\\users\\esay\\repos\\twoputils\\TwoPUtils\\sess.py:248: UserWarning: Could not find sbx file at /mnt/BigDisk/2P_scratch/4467975.1/28_09_2020/YMaze_LNovel/YMaze_LNovel_006_014.sbx\n",
      "  warnings.warn(\"Could not find sbx file at %s\" % self.scan_file)\n"
     ]
    }
   ],
   "source": [
    "sess = u.load_single_day(mouse, day)\n"
   ]
  },
  {
   "cell_type": "code",
   "execution_count": 66,
   "id": "c1f55361-1426-462e-a0e8-c79bd34a3b48",
   "metadata": {},
   "outputs": [],
   "source": [
    "trial_masks = sess.trial_matrices['downsample'][0:124]"
   ]
  },
  {
   "cell_type": "code",
   "execution_count": 67,
   "id": "e728253c-f4b7-478d-9793-8fc9327ba50d",
   "metadata": {},
   "outputs": [
    {
     "data": {
      "text/plain": [
       "((124,), (124,))"
      ]
     },
     "execution_count": 67,
     "metadata": {},
     "output_type": "execute_result"
    }
   ],
   "source": [
    "sess.trial_start_inds.shape, trial_masks.shape"
   ]
  },
  {
   "cell_type": "code",
   "execution_count": 68,
   "id": "6459d7c4-ea6b-4dcf-99aa-7aa4f8eb690d",
   "metadata": {},
   "outputs": [
    {
     "data": {
      "text/plain": [
       "(Int64Index([  367,  1065,  1595,  1993,  2440,  2627,  3597,  3796,  4022,\n",
       "              4239,  5396,  5597,  5961,  6215,  6723,  6927,  7141,  7376,\n",
       "              7805,  8008,  8188,  8380,  9148, 10682, 10968, 12157, 12366,\n",
       "             12569, 12722, 12931, 13093, 13559, 13794, 14062, 14344, 14776,\n",
       "             14981, 15209, 16326, 16791, 17044, 17472, 17652, 18324, 18490,\n",
       "             18714, 19184, 19365, 19548, 19876, 20108, 20289, 20515, 22023,\n",
       "             22215, 22415, 22598, 22771, 22992, 23371, 23546, 23904, 24120,\n",
       "             24306, 24514, 24688, 24954, 25157, 25343, 25563, 26156, 26371,\n",
       "             26750, 27247, 27421, 27794, 28675, 28853, 29311, 29540, 29725],\n",
       "            dtype='int64'),\n",
       " Int64Index([  511,  1255,  1765,  2161,  2595,  2791,  3775,  3936,  4193,\n",
       "              4456,  5575,  5757,  6148,  6404,  6902,  7081,  7295,  7533,\n",
       "              7949,  8160,  8330,  8521,  9316, 10912, 11112, 12322, 12540,\n",
       "             12703, 12886, 13081, 13269, 13735, 13960, 14256, 14504, 14925,\n",
       "             15149, 15385, 16522, 16972, 17209, 17621, 17816, 18469, 18672,\n",
       "             18903, 19321, 19495, 19677, 20023, 20248, 20435, 20668, 22161,\n",
       "             22365, 22557, 22747, 22921, 23178, 23520, 23694, 24071, 24280,\n",
       "             24475, 24662, 24883, 25147, 25302, 25482, 25712, 26332, 26535,\n",
       "             26918, 27390, 27591, 27986, 28825, 29014, 29491, 29697, 29952],\n",
       "            dtype='int64'))"
      ]
     },
     "execution_count": 68,
     "metadata": {},
     "output_type": "execute_result"
    }
   ],
   "source": [
    "trial_masks = sess.trial_matrices['downsample'][0:124]\n",
    "starts, stops = sess.trial_start_inds[trial_masks], sess.teleport_inds[trial_masks]\n",
    "starts, stops"
   ]
  },
  {
   "cell_type": "code",
   "execution_count": 69,
   "id": "ae713939-35ac-4e69-9dfb-d509619df889",
   "metadata": {},
   "outputs": [
    {
     "name": "stdout",
     "output_type": "stream",
     "text": [
      "(1000, 2, 30, 904)\n"
     ]
    }
   ],
   "source": [
    "shuff_trial_mat = np.array(joblib.Parallel(n_jobs=-1)(joblib.delayed(run_shuffle)(sess, starts, stops, sess.vr_data['t'], rng, trial_masks) for i in range(nperms)))\n",
    "print(shuff_trial_mat.shape)\n",
    "fam_shuff_thresh = np.nanpercentile(shuff_trial_mat[:, 1, :, :], 95, axis=0)\n",
    "nov_shuff_thresh = np.nanpercentile(shuff_trial_mat[:, 0, :, :], 95, axis=0)\n",
    "shuff_results[mouse][day]['fam']=fam_shuff_thresh\n",
    "shuff_results[mouse][day]['nov']=nov_shuff_thresh"
   ]
  },
  {
   "cell_type": "code",
   "execution_count": 72,
   "id": "2ef4518e-eb3a-4a1b-9410-7c48b35cad6a",
   "metadata": {},
   "outputs": [
    {
     "data": {
      "text/plain": [
       "array([[nan, nan, nan, ..., nan, nan, nan],\n",
       "       [nan, nan, nan, ..., nan, nan, nan],\n",
       "       [nan, nan, nan, ..., nan, nan, nan],\n",
       "       ...,\n",
       "       [nan, nan, nan, ..., nan, nan, nan],\n",
       "       [nan, nan, nan, ..., nan, nan, nan],\n",
       "       [nan, nan, nan, ..., nan, nan, nan]])"
      ]
     },
     "execution_count": 72,
     "metadata": {},
     "output_type": "execute_result"
    }
   ],
   "source": [
    "shuff_results[mouse][day]['fam']"
   ]
  },
  {
   "cell_type": "code",
   "execution_count": 137,
   "id": "8a0ac791-8080-4bef-8af8-29452fe4f7c9",
   "metadata": {
    "scrolled": true
   },
   "outputs": [
    {
     "name": "stdout",
     "output_type": "stream",
     "text": [
      "{'date': '29_11_2020', 'scene': 'YMaze_LNovel', 'session': 1, 'scan': 3, 'novel_arm': -1, 'ravel_ind': 0}\n"
     ]
    },
    {
     "ename": "KeyboardInterrupt",
     "evalue": "",
     "output_type": "error",
     "traceback": [
      "\u001b[1;31m---------------------------------------------------------------------------\u001b[0m",
      "\u001b[1;31mKeyboardInterrupt\u001b[0m                         Traceback (most recent call last)",
      "File \u001b[1;32m~\\.conda\\envs\\s2p_analysis\\lib\\site-packages\\joblib\\parallel.py:1650\u001b[0m, in \u001b[0;36mParallel._get_outputs\u001b[1;34m(self, iterator, pre_dispatch)\u001b[0m\n\u001b[0;32m   1649\u001b[0m     \u001b[38;5;28;01mwith\u001b[39;00m \u001b[38;5;28mself\u001b[39m\u001b[38;5;241m.\u001b[39m_backend\u001b[38;5;241m.\u001b[39mretrieval_context():\n\u001b[1;32m-> 1650\u001b[0m         \u001b[38;5;28;01myield from\u001b[39;00m \u001b[38;5;28mself\u001b[39m\u001b[38;5;241m.\u001b[39m_retrieve()\n\u001b[0;32m   1652\u001b[0m \u001b[38;5;28;01mexcept\u001b[39;00m \u001b[38;5;167;01mGeneratorExit\u001b[39;00m:\n\u001b[0;32m   1653\u001b[0m     \u001b[38;5;66;03m# The generator has been garbage collected before being fully\u001b[39;00m\n\u001b[0;32m   1654\u001b[0m     \u001b[38;5;66;03m# consumed. This aborts the remaining tasks if possible and warn\u001b[39;00m\n\u001b[0;32m   1655\u001b[0m     \u001b[38;5;66;03m# the user if necessary.\u001b[39;00m\n",
      "File \u001b[1;32m~\\.conda\\envs\\s2p_analysis\\lib\\site-packages\\joblib\\parallel.py:1762\u001b[0m, in \u001b[0;36mParallel._retrieve\u001b[1;34m(self)\u001b[0m\n\u001b[0;32m   1759\u001b[0m \u001b[38;5;28;01mif\u001b[39;00m ((\u001b[38;5;28mlen\u001b[39m(\u001b[38;5;28mself\u001b[39m\u001b[38;5;241m.\u001b[39m_jobs) \u001b[38;5;241m==\u001b[39m \u001b[38;5;241m0\u001b[39m) \u001b[38;5;129;01mor\u001b[39;00m\n\u001b[0;32m   1760\u001b[0m     (\u001b[38;5;28mself\u001b[39m\u001b[38;5;241m.\u001b[39m_jobs[\u001b[38;5;241m0\u001b[39m]\u001b[38;5;241m.\u001b[39mget_status(\n\u001b[0;32m   1761\u001b[0m         timeout\u001b[38;5;241m=\u001b[39m\u001b[38;5;28mself\u001b[39m\u001b[38;5;241m.\u001b[39mtimeout) \u001b[38;5;241m==\u001b[39m TASK_PENDING)):\n\u001b[1;32m-> 1762\u001b[0m     \u001b[43mtime\u001b[49m\u001b[38;5;241;43m.\u001b[39;49m\u001b[43msleep\u001b[49m\u001b[43m(\u001b[49m\u001b[38;5;241;43m0.01\u001b[39;49m\u001b[43m)\u001b[49m\n\u001b[0;32m   1763\u001b[0m     \u001b[38;5;28;01mcontinue\u001b[39;00m\n",
      "\u001b[1;31mKeyboardInterrupt\u001b[0m: ",
      "\nDuring handling of the above exception, another exception occurred:\n",
      "\u001b[1;31mKeyboardInterrupt\u001b[0m                         Traceback (most recent call last)",
      "Cell \u001b[1;32mIn[137], line 32\u001b[0m\n\u001b[0;32m     29\u001b[0m     \u001b[38;5;28mprint\u001b[39m(\u001b[38;5;124mf\u001b[39m\u001b[38;5;124m\"\u001b[39m\u001b[38;5;124mUnexpected error during trial masking for mouse \u001b[39m\u001b[38;5;132;01m{\u001b[39;00mmouse\u001b[38;5;132;01m}\u001b[39;00m\u001b[38;5;124m day \u001b[39m\u001b[38;5;132;01m{\u001b[39;00mday\u001b[38;5;132;01m}\u001b[39;00m\u001b[38;5;124m: \u001b[39m\u001b[38;5;132;01m{\u001b[39;00me\u001b[38;5;132;01m}\u001b[39;00m\u001b[38;5;124m\"\u001b[39m)\n\u001b[0;32m     30\u001b[0m     \u001b[38;5;28;01mcontinue\u001b[39;00m\n\u001b[1;32m---> 32\u001b[0m shuff_trial_mat \u001b[38;5;241m=\u001b[39m np\u001b[38;5;241m.\u001b[39marray(\u001b[43mjoblib\u001b[49m\u001b[38;5;241;43m.\u001b[39;49m\u001b[43mParallel\u001b[49m\u001b[43m(\u001b[49m\u001b[43mn_jobs\u001b[49m\u001b[38;5;241;43m=\u001b[39;49m\u001b[38;5;241;43m-\u001b[39;49m\u001b[38;5;241;43m1\u001b[39;49m\u001b[43m)\u001b[49m\u001b[43m(\u001b[49m\u001b[43mjoblib\u001b[49m\u001b[38;5;241;43m.\u001b[39;49m\u001b[43mdelayed\u001b[49m\u001b[43m(\u001b[49m\u001b[43mrun_shuffle\u001b[49m\u001b[43m)\u001b[49m\u001b[43m(\u001b[49m\u001b[43msess\u001b[49m\u001b[43m,\u001b[49m\u001b[43m \u001b[49m\u001b[43mstarts\u001b[49m\u001b[43m,\u001b[49m\u001b[43m \u001b[49m\u001b[43mstops\u001b[49m\u001b[43m,\u001b[49m\u001b[43m \u001b[49m\u001b[43msess\u001b[49m\u001b[38;5;241;43m.\u001b[39;49m\u001b[43mvr_data\u001b[49m\u001b[43m[\u001b[49m\u001b[38;5;124;43m'\u001b[39;49m\u001b[38;5;124;43mt\u001b[39;49m\u001b[38;5;124;43m'\u001b[39;49m\u001b[43m]\u001b[49m\u001b[43m,\u001b[49m\u001b[43m \u001b[49m\u001b[43mrng\u001b[49m\u001b[43m,\u001b[49m\u001b[43m \u001b[49m\u001b[43mtrial_masks\u001b[49m\u001b[43m)\u001b[49m\u001b[43m \u001b[49m\u001b[38;5;28;43;01mfor\u001b[39;49;00m\u001b[43m \u001b[49m\u001b[43mi\u001b[49m\u001b[43m \u001b[49m\u001b[38;5;129;43;01min\u001b[39;49;00m\u001b[43m \u001b[49m\u001b[38;5;28;43mrange\u001b[39;49m\u001b[43m(\u001b[49m\u001b[43mnperms\u001b[49m\u001b[43m)\u001b[49m\u001b[43m)\u001b[49m)\n\u001b[0;32m     33\u001b[0m \u001b[38;5;28mprint\u001b[39m(shuff_trial_mat\u001b[38;5;241m.\u001b[39mshape)\n\u001b[0;32m     34\u001b[0m \u001b[38;5;66;03m# fam_shuff_thresh = np.nanpercentile(shuff_trial_mat[:, 1, :, :], 95, axis=0)\u001b[39;00m\n\u001b[0;32m     35\u001b[0m \u001b[38;5;66;03m# nov_shuff_thresh = np.nanpercentile(shuff_trial_mat[:, 0, :, :], 95, axis=0)\u001b[39;00m\n\u001b[0;32m     36\u001b[0m \u001b[38;5;66;03m# shuff_results[mouse][day]['fam']=fam_shuff_thresh\u001b[39;00m\n\u001b[0;32m     37\u001b[0m \u001b[38;5;66;03m# shuff_results[mouse][day]['nov']=nov_shuff_thresh\u001b[39;00m\n",
      "File \u001b[1;32m~\\.conda\\envs\\s2p_analysis\\lib\\site-packages\\joblib\\parallel.py:2007\u001b[0m, in \u001b[0;36mParallel.__call__\u001b[1;34m(self, iterable)\u001b[0m\n\u001b[0;32m   2001\u001b[0m \u001b[38;5;66;03m# The first item from the output is blank, but it makes the interpreter\u001b[39;00m\n\u001b[0;32m   2002\u001b[0m \u001b[38;5;66;03m# progress until it enters the Try/Except block of the generator and\u001b[39;00m\n\u001b[0;32m   2003\u001b[0m \u001b[38;5;66;03m# reaches the first `yield` statement. This starts the asynchronous\u001b[39;00m\n\u001b[0;32m   2004\u001b[0m \u001b[38;5;66;03m# dispatch of the tasks to the workers.\u001b[39;00m\n\u001b[0;32m   2005\u001b[0m \u001b[38;5;28mnext\u001b[39m(output)\n\u001b[1;32m-> 2007\u001b[0m \u001b[38;5;28;01mreturn\u001b[39;00m output \u001b[38;5;28;01mif\u001b[39;00m \u001b[38;5;28mself\u001b[39m\u001b[38;5;241m.\u001b[39mreturn_generator \u001b[38;5;28;01melse\u001b[39;00m \u001b[38;5;28;43mlist\u001b[39;49m\u001b[43m(\u001b[49m\u001b[43moutput\u001b[49m\u001b[43m)\u001b[49m\n",
      "File \u001b[1;32m~\\.conda\\envs\\s2p_analysis\\lib\\site-packages\\joblib\\parallel.py:1703\u001b[0m, in \u001b[0;36mParallel._get_outputs\u001b[1;34m(self, iterator, pre_dispatch)\u001b[0m\n\u001b[0;32m   1701\u001b[0m \u001b[38;5;28;01mexcept\u001b[39;00m \u001b[38;5;167;01mBaseException\u001b[39;00m:\n\u001b[0;32m   1702\u001b[0m     \u001b[38;5;28mself\u001b[39m\u001b[38;5;241m.\u001b[39m_exception \u001b[38;5;241m=\u001b[39m \u001b[38;5;28;01mTrue\u001b[39;00m\n\u001b[1;32m-> 1703\u001b[0m     \u001b[38;5;28;43mself\u001b[39;49m\u001b[38;5;241;43m.\u001b[39;49m\u001b[43m_abort\u001b[49m\u001b[43m(\u001b[49m\u001b[43m)\u001b[49m\n\u001b[0;32m   1704\u001b[0m     \u001b[38;5;28;01mraise\u001b[39;00m\n\u001b[0;32m   1705\u001b[0m \u001b[38;5;28;01mfinally\u001b[39;00m:\n\u001b[0;32m   1706\u001b[0m     \u001b[38;5;66;03m# Store the unconsumed tasks and terminate the workers if necessary\u001b[39;00m\n",
      "File \u001b[1;32m~\\.conda\\envs\\s2p_analysis\\lib\\site-packages\\joblib\\parallel.py:1614\u001b[0m, in \u001b[0;36mParallel._abort\u001b[1;34m(self)\u001b[0m\n\u001b[0;32m   1609\u001b[0m \u001b[38;5;28;01mif\u001b[39;00m (\u001b[38;5;129;01mnot\u001b[39;00m \u001b[38;5;28mself\u001b[39m\u001b[38;5;241m.\u001b[39m_aborted \u001b[38;5;129;01mand\u001b[39;00m \u001b[38;5;28mhasattr\u001b[39m(backend, \u001b[38;5;124m'\u001b[39m\u001b[38;5;124mabort_everything\u001b[39m\u001b[38;5;124m'\u001b[39m)):\n\u001b[0;32m   1610\u001b[0m     \u001b[38;5;66;03m# If the backend is managed externally we need to make sure\u001b[39;00m\n\u001b[0;32m   1611\u001b[0m     \u001b[38;5;66;03m# to leave it in a working state to allow for future jobs\u001b[39;00m\n\u001b[0;32m   1612\u001b[0m     \u001b[38;5;66;03m# scheduling.\u001b[39;00m\n\u001b[0;32m   1613\u001b[0m     ensure_ready \u001b[38;5;241m=\u001b[39m \u001b[38;5;28mself\u001b[39m\u001b[38;5;241m.\u001b[39m_managed_backend\n\u001b[1;32m-> 1614\u001b[0m     \u001b[43mbackend\u001b[49m\u001b[38;5;241;43m.\u001b[39;49m\u001b[43mabort_everything\u001b[49m\u001b[43m(\u001b[49m\u001b[43mensure_ready\u001b[49m\u001b[38;5;241;43m=\u001b[39;49m\u001b[43mensure_ready\u001b[49m\u001b[43m)\u001b[49m\n\u001b[0;32m   1615\u001b[0m \u001b[38;5;28mself\u001b[39m\u001b[38;5;241m.\u001b[39m_aborted \u001b[38;5;241m=\u001b[39m \u001b[38;5;28;01mTrue\u001b[39;00m\n",
      "File \u001b[1;32m~\\.conda\\envs\\s2p_analysis\\lib\\site-packages\\joblib\\_parallel_backends.py:620\u001b[0m, in \u001b[0;36mLokyBackend.abort_everything\u001b[1;34m(self, ensure_ready)\u001b[0m\n\u001b[0;32m    617\u001b[0m \u001b[38;5;28;01mdef\u001b[39;00m \u001b[38;5;21mabort_everything\u001b[39m(\u001b[38;5;28mself\u001b[39m, ensure_ready\u001b[38;5;241m=\u001b[39m\u001b[38;5;28;01mTrue\u001b[39;00m):\n\u001b[0;32m    618\u001b[0m \u001b[38;5;250m    \u001b[39m\u001b[38;5;124;03m\"\"\"Shutdown the workers and restart a new one with the same parameters\u001b[39;00m\n\u001b[0;32m    619\u001b[0m \u001b[38;5;124;03m    \"\"\"\u001b[39;00m\n\u001b[1;32m--> 620\u001b[0m     \u001b[38;5;28;43mself\u001b[39;49m\u001b[38;5;241;43m.\u001b[39;49m\u001b[43m_workers\u001b[49m\u001b[38;5;241;43m.\u001b[39;49m\u001b[43mterminate\u001b[49m\u001b[43m(\u001b[49m\u001b[43mkill_workers\u001b[49m\u001b[38;5;241;43m=\u001b[39;49m\u001b[38;5;28;43;01mTrue\u001b[39;49;00m\u001b[43m)\u001b[49m\n\u001b[0;32m    621\u001b[0m     \u001b[38;5;28mself\u001b[39m\u001b[38;5;241m.\u001b[39m_workers \u001b[38;5;241m=\u001b[39m \u001b[38;5;28;01mNone\u001b[39;00m\n\u001b[0;32m    623\u001b[0m     \u001b[38;5;28;01mif\u001b[39;00m ensure_ready:\n",
      "File \u001b[1;32m~\\.conda\\envs\\s2p_analysis\\lib\\site-packages\\joblib\\executor.py:75\u001b[0m, in \u001b[0;36mMemmappingExecutor.terminate\u001b[1;34m(self, kill_workers)\u001b[0m\n\u001b[0;32m     73\u001b[0m \u001b[38;5;28;01mdef\u001b[39;00m \u001b[38;5;21mterminate\u001b[39m(\u001b[38;5;28mself\u001b[39m, kill_workers\u001b[38;5;241m=\u001b[39m\u001b[38;5;28;01mFalse\u001b[39;00m):\n\u001b[1;32m---> 75\u001b[0m     \u001b[38;5;28;43mself\u001b[39;49m\u001b[38;5;241;43m.\u001b[39;49m\u001b[43mshutdown\u001b[49m\u001b[43m(\u001b[49m\u001b[43mkill_workers\u001b[49m\u001b[38;5;241;43m=\u001b[39;49m\u001b[43mkill_workers\u001b[49m\u001b[43m)\u001b[49m\n\u001b[0;32m     77\u001b[0m     \u001b[38;5;66;03m# When workers are killed in a brutal manner, they cannot execute the\u001b[39;00m\n\u001b[0;32m     78\u001b[0m     \u001b[38;5;66;03m# finalizer of their shared memmaps. The refcount of those memmaps may\u001b[39;00m\n\u001b[0;32m     79\u001b[0m     \u001b[38;5;66;03m# be off by an unknown number, so instead of decref'ing them, we force\u001b[39;00m\n\u001b[1;32m   (...)\u001b[0m\n\u001b[0;32m     84\u001b[0m     \u001b[38;5;66;03m# with allow_non_empty=True but if we can't, it will be clean up later\u001b[39;00m\n\u001b[0;32m     85\u001b[0m     \u001b[38;5;66;03m# on by the resource_tracker.\u001b[39;00m\n\u001b[0;32m     86\u001b[0m     \u001b[38;5;28;01mwith\u001b[39;00m \u001b[38;5;28mself\u001b[39m\u001b[38;5;241m.\u001b[39m_submit_resize_lock:\n",
      "File \u001b[1;32m~\\.conda\\envs\\s2p_analysis\\lib\\site-packages\\joblib\\externals\\loky\\process_executor.py:1303\u001b[0m, in \u001b[0;36mProcessPoolExecutor.shutdown\u001b[1;34m(self, wait, kill_workers)\u001b[0m\n\u001b[0;32m   1299\u001b[0m \u001b[38;5;28;01mif\u001b[39;00m executor_manager_thread \u001b[38;5;129;01mis\u001b[39;00m \u001b[38;5;129;01mnot\u001b[39;00m \u001b[38;5;28;01mNone\u001b[39;00m \u001b[38;5;129;01mand\u001b[39;00m wait:\n\u001b[0;32m   1300\u001b[0m     \u001b[38;5;66;03m# This locks avoids concurrent join if the interpreter\u001b[39;00m\n\u001b[0;32m   1301\u001b[0m     \u001b[38;5;66;03m# is shutting down.\u001b[39;00m\n\u001b[0;32m   1302\u001b[0m     \u001b[38;5;28;01mwith\u001b[39;00m _global_shutdown_lock:\n\u001b[1;32m-> 1303\u001b[0m         \u001b[43mexecutor_manager_thread\u001b[49m\u001b[38;5;241;43m.\u001b[39;49m\u001b[43mjoin\u001b[49m\u001b[43m(\u001b[49m\u001b[43m)\u001b[49m\n\u001b[0;32m   1304\u001b[0m         _threads_wakeups\u001b[38;5;241m.\u001b[39mpop(executor_manager_thread, \u001b[38;5;28;01mNone\u001b[39;00m)\n\u001b[0;32m   1306\u001b[0m \u001b[38;5;66;03m# To reduce the risk of opening too many files, remove references to\u001b[39;00m\n\u001b[0;32m   1307\u001b[0m \u001b[38;5;66;03m# objects that use file descriptors.\u001b[39;00m\n",
      "File \u001b[1;32m~\\.conda\\envs\\s2p_analysis\\lib\\threading.py:1096\u001b[0m, in \u001b[0;36mThread.join\u001b[1;34m(self, timeout)\u001b[0m\n\u001b[0;32m   1093\u001b[0m     \u001b[38;5;28;01mraise\u001b[39;00m \u001b[38;5;167;01mRuntimeError\u001b[39;00m(\u001b[38;5;124m\"\u001b[39m\u001b[38;5;124mcannot join current thread\u001b[39m\u001b[38;5;124m\"\u001b[39m)\n\u001b[0;32m   1095\u001b[0m \u001b[38;5;28;01mif\u001b[39;00m timeout \u001b[38;5;129;01mis\u001b[39;00m \u001b[38;5;28;01mNone\u001b[39;00m:\n\u001b[1;32m-> 1096\u001b[0m     \u001b[38;5;28;43mself\u001b[39;49m\u001b[38;5;241;43m.\u001b[39;49m\u001b[43m_wait_for_tstate_lock\u001b[49m\u001b[43m(\u001b[49m\u001b[43m)\u001b[49m\n\u001b[0;32m   1097\u001b[0m \u001b[38;5;28;01melse\u001b[39;00m:\n\u001b[0;32m   1098\u001b[0m     \u001b[38;5;66;03m# the behavior of a negative timeout isn't documented, but\u001b[39;00m\n\u001b[0;32m   1099\u001b[0m     \u001b[38;5;66;03m# historically .join(timeout=x) for x<0 has acted as if timeout=0\u001b[39;00m\n\u001b[0;32m   1100\u001b[0m     \u001b[38;5;28mself\u001b[39m\u001b[38;5;241m.\u001b[39m_wait_for_tstate_lock(timeout\u001b[38;5;241m=\u001b[39m\u001b[38;5;28mmax\u001b[39m(timeout, \u001b[38;5;241m0\u001b[39m))\n",
      "File \u001b[1;32m~\\.conda\\envs\\s2p_analysis\\lib\\threading.py:1116\u001b[0m, in \u001b[0;36mThread._wait_for_tstate_lock\u001b[1;34m(self, block, timeout)\u001b[0m\n\u001b[0;32m   1113\u001b[0m     \u001b[38;5;28;01mreturn\u001b[39;00m\n\u001b[0;32m   1115\u001b[0m \u001b[38;5;28;01mtry\u001b[39;00m:\n\u001b[1;32m-> 1116\u001b[0m     \u001b[38;5;28;01mif\u001b[39;00m \u001b[43mlock\u001b[49m\u001b[38;5;241;43m.\u001b[39;49m\u001b[43macquire\u001b[49m\u001b[43m(\u001b[49m\u001b[43mblock\u001b[49m\u001b[43m,\u001b[49m\u001b[43m \u001b[49m\u001b[43mtimeout\u001b[49m\u001b[43m)\u001b[49m:\n\u001b[0;32m   1117\u001b[0m         lock\u001b[38;5;241m.\u001b[39mrelease()\n\u001b[0;32m   1118\u001b[0m         \u001b[38;5;28mself\u001b[39m\u001b[38;5;241m.\u001b[39m_stop()\n",
      "\u001b[1;31mKeyboardInterrupt\u001b[0m: "
     ]
    }
   ],
   "source": [
    "# find trial mask \n",
    "rng = np.random.default_rng()\n",
    "nperms = 1000\n",
    "\n",
    "shuff_results = {}\n",
    "for mice in (ctrl_mice, ko_mice):\n",
    "    for mouse in mice:\n",
    "        shuff_results[mouse]={}\n",
    "        for day in range(6):\n",
    "            try:\n",
    "                sess = u.load_single_day(mouse, day)\n",
    "            except FileNotFoundError:\n",
    "                print(f\"File not found for mouse {mouse}, day {day}. Skipping\")\n",
    "                continue\n",
    "            except Exception as e:\n",
    "                print(f\"Error loading session for mouse {mouse} day {day}: {e}\")\n",
    "                continue \n",
    "                \n",
    "            shuff_results[mouse][day] = {}\n",
    "            \n",
    "\n",
    "            trial_masks = sess.trial_matrices['downsample']\n",
    "            try:\n",
    "                starts, stops = sess.trial_start_inds[trial_masks], sess.teleport_inds[trial_masks]\n",
    "            except IndexError as e:\n",
    "                print(f'Indexing error for mouse {mouse}, day {day}: {e}. Skipping')\n",
    "                continue\n",
    "            except Exception as e:\n",
    "                print(f\"Unexpected error during trial masking for mouse {mouse} day {day}: {e}\")\n",
    "                continue\n",
    "            \n",
    "            shuff_trial_mat = np.array(joblib.Parallel(n_jobs=-1)(joblib.delayed(run_shuffle)(sess, starts, stops, sess.vr_data['t'], rng, trial_masks) for i in range(nperms)))\n",
    "            print(shuff_trial_mat.shape)\n",
    "            fam_shuff_thresh = np.nanpercentile(shuff_trial_mat[:, 1, :, :], 95, axis=0)\n",
    "            nov_shuff_thresh = np.nanpercentile(shuff_trial_mat[:, 0, :, :], 95, axis=0)\n",
    "            shuff_results[mouse][day]['fam']=fam_shuff_thresh\n",
    "            shuff_results[mouse][day]['nov']=nov_shuff_thresh\n",
    "\n",
    "            # left_shuff_thresh = np.nanpercentile(shuff_trial_mat[:, 1, :, :], 95, axis=0)\n",
    "            # right_shuff_thresh = np.nanpercentile(shuff_trial_mat[:, 0, :, :], 95, axis=0)\n",
    "            # shuff_results[mouse][day]['left']=left_shuff_thresh\n",
    "            # shuff_results[mouse][day]['right']=right_shuff_thresh"
   ]
  },
  {
   "cell_type": "code",
   "execution_count": 176,
   "id": "19460610-d372-47c4-b260-49eb8dcf03cf",
   "metadata": {},
   "outputs": [
    {
     "data": {
      "text/plain": [
       "(100, 2, 30, 1048)"
      ]
     },
     "execution_count": 176,
     "metadata": {},
     "output_type": "execute_result"
    }
   ],
   "source": [
    "shuff_trial_mat.shape"
   ]
  },
  {
   "cell_type": "code",
   "execution_count": 23,
   "id": "5d2cf653-d266-4632-a71c-4b007f21cc9e",
   "metadata": {},
   "outputs": [],
   "source": [
    "deets = stx.ymaze_sess_deets.CTRL_sessions[mouse][day]\n",
    "deets = deets[0]"
   ]
  },
  {
   "cell_type": "markdown",
   "id": "29b89239-2f29-4005-8485-20c102928a74",
   "metadata": {},
   "source": [
    "### manually run on concat sessions"
   ]
  },
  {
   "cell_type": "code",
   "execution_count": 329,
   "id": "b4646136-f8e2-47b1-a05b-59b5099e9cfb",
   "metadata": {},
   "outputs": [],
   "source": [
    "mouse = '4467975.1'\n",
    "day = 0\n",
    "\n",
    "deets = stx.ymaze_sess_deets.KO_sessions[mouse][day]\n",
    "# deets = deets[0]\n",
    "pkldir = os.path.join(\"C://Users/esay/data/Stx3/downsample_behavior_v4\", mouse)\n",
    "filename = os.path.join(pkldir, deets['date'], \"%s_%d.pkl\" % (deets['scene'], deets['session']))\n",
    "with open(filename, 'rb') as file:\n",
    "    sess = dill.load(file)"
   ]
  },
  {
   "cell_type": "code",
   "execution_count": 288,
   "id": "ce202e8b-b69c-4a73-ad51-12f84860f5d3",
   "metadata": {},
   "outputs": [
    {
     "data": {
      "text/plain": [
       "dict_keys(['F_dff', 'spks', 'F_dff_norm', 'spks_norm', 'licks', 'speed', 't', 'LR'])"
      ]
     },
     "execution_count": 288,
     "metadata": {},
     "output_type": "execute_result"
    }
   ],
   "source": [
    "sess.timeseries.keys()"
   ]
  },
  {
   "cell_type": "code",
   "execution_count": 320,
   "id": "cb8ad58c-6a7a-4a9a-989e-bf1bc859a65f",
   "metadata": {},
   "outputs": [],
   "source": [
    "timeseries_df = pd.DataFrame(sess.timeseries['t'].T)"
   ]
  },
  {
   "cell_type": "code",
   "execution_count": 321,
   "id": "c343da72-7d02-4099-b5fc-864d137adeee",
   "metadata": {},
   "outputs": [
    {
     "data": {
      "text/plain": [
       "0         0.000000\n",
       "1         0.000000\n",
       "2         0.000000\n",
       "3         0.000000\n",
       "4         0.000000\n",
       "           ...    \n",
       "33185    40.855019\n",
       "33186    41.295879\n",
       "33187    41.706099\n",
       "33188    31.454580\n",
       "33189    11.357900\n",
       "Name: 0, Length: 33190, dtype: float64"
      ]
     },
     "execution_count": 321,
     "metadata": {},
     "output_type": "execute_result"
    }
   ],
   "source": [
    "timeseries_df[0]"
   ]
  },
  {
   "cell_type": "code",
   "execution_count": 293,
   "id": "e62585fa-f144-4dd7-a4f1-a53c7da7e091",
   "metadata": {},
   "outputs": [
    {
     "data": {
      "text/plain": [
       "0         0.000000\n",
       "1         0.000000\n",
       "2         0.000000\n",
       "3         0.000000\n",
       "4         0.000000\n",
       "           ...    \n",
       "28577    41.296935\n",
       "28578    41.538979\n",
       "28579    41.824852\n",
       "28580    40.309170\n",
       "28581    11.282440\n",
       "Name: t, Length: 28582, dtype: float64"
      ]
     },
     "execution_count": 293,
     "metadata": {},
     "output_type": "execute_result"
    }
   ],
   "source": [
    "sess.vr_data['t']"
   ]
  },
  {
   "cell_type": "code",
   "execution_count": 335,
   "id": "9798fd07-e65f-4620-b387-237f65b9c77c",
   "metadata": {},
   "outputs": [],
   "source": [
    "trial_masks = trial_masks[0:124]\n",
    "trial_masks.shape\n",
    "\n",
    "sess.trial_matrices['downsample'] = trial_masks"
   ]
  },
  {
   "cell_type": "code",
   "execution_count": 336,
   "id": "0c198dec-bb59-45c8-885d-ad02bc24b809",
   "metadata": {},
   "outputs": [
    {
     "name": "stdout",
     "output_type": "stream",
     "text": [
      "(1000, 2, 30, 904)\n"
     ]
    }
   ],
   "source": [
    "nperms = 1000\n",
    "shuff_results[mouse][day] = {}\n",
    "            \n",
    "trial_masks = sess.trial_matrices['downsample']\n",
    "starts, stops = sess.trial_start_inds[trial_masks], sess.teleport_inds[trial_masks]\n",
    "t = sess.vr_data['t'] #timeseries_df[0] \n",
    "shuff_trial_mat = np.array(joblib.Parallel(n_jobs=-1)(joblib.delayed(run_shuffle)(sess, starts, stops, t, rng, trial_masks) for i in range(nperms)))\n",
    "print(shuff_trial_mat.shape)\n",
    "fam_shuff_thresh = np.nanpercentile(shuff_trial_mat[:, 1, :, :], 95, axis=0)\n",
    "nov_shuff_thresh = np.nanpercentile(shuff_trial_mat[:, 0, :, :], 95, axis=0)\n",
    "shuff_results[mouse][day]['fam']=fam_shuff_thresh\n",
    "shuff_results[mouse][day]['nov']=nov_shuff_thresh"
   ]
  },
  {
   "cell_type": "code",
   "execution_count": 375,
   "id": "9a2584ff-3670-44af-a1c3-4db6c4eb6302",
   "metadata": {},
   "outputs": [
    {
     "data": {
      "text/plain": [
       "array([[0.01319898, 0.0017702 , 0.02357369, ..., 0.00305604, 0.00362005,\n",
       "        0.00801215],\n",
       "       [0.01348492, 0.0025159 , 0.02484818, ..., 0.00185162, 0.00385794,\n",
       "        0.00520131],\n",
       "       [0.01597628, 0.00278725, 0.02762132, ..., 0.00238273, 0.00354741,\n",
       "        0.00546151],\n",
       "       ...,\n",
       "       [0.01487025, 0.00405541, 0.0191855 , ..., 0.00293368, 0.00429947,\n",
       "        0.0095442 ],\n",
       "       [0.01445816, 0.00241606, 0.02190872, ..., 0.0023034 , 0.00424297,\n",
       "        0.00807869],\n",
       "       [0.00955757, 0.00327901, 0.02996022, ..., 0.0030925 , 0.00201703,\n",
       "        0.00664721]])"
      ]
     },
     "execution_count": 375,
     "metadata": {},
     "output_type": "execute_result"
    }
   ],
   "source": [
    "shuff_results[mouse][2]['fam']"
   ]
  },
  {
   "cell_type": "code",
   "execution_count": 385,
   "id": "d77831ac-bfe8-43e0-bfe7-0e66e169a16a",
   "metadata": {},
   "outputs": [],
   "source": [
    "ttype = 'fam'\n",
    "mouse = '4467975.1'\n",
    "day = 0\n",
    "\n",
    "deets = stx.ymaze_sess_deets.KO_sessions[mouse][day]\n",
    "# deets = stx.ymaze_sess_deets.CTRL_sessions[mouse][day]\n",
    "# deets = deets[0]\n",
    "pkldir = os.path.join(\"C://Users/esay/data/Stx3/downsample_behavior_v4\", mouse)\n",
    "filename = os.path.join(pkldir, deets['date'], \"%s_%d.pkl\" % (deets['scene'], deets['session']))\n",
    "with open(filename, 'rb') as file:\n",
    "    sess = dill.load(file)\n",
    "\n",
    "    \n",
    "downsample_mask = sess.trial_matrices['downsample']\n",
    "\n",
    "    \n",
    "if ttype == 'fam':\n",
    "    trial_mask = (sess.trial_info['LR']==-1*sess.novel_arm) & downsample_mask # * (sess.trial_info['block_number']==5) \n",
    "elif ttype == 'nov':\n",
    "    trial_mask = sess.trial_info['LR'] == sess.novel_arm & downsample_mask\n",
    "else:\n",
    "    pass\n",
    "\n",
    "# sess.add_pos_binned_trial_matrix('speed')\n",
    "speed = np.nanmean(np.nanmean(sess.trial_matrices['speed'][trial_mask,:]))\n",
    "trial_avg = np.nanmean(sess.trial_matrices['spks'][trial_mask, :, :],axis=0)\n",
    "sig_bins = trial_avg>shuff_results[mouse][day][ttype]\n",
    "\n",
    "# eliminate fields that start at first bin of track or end at last bin of track\n",
    "field_info = []\n",
    "\n",
    "ledges = np.argwhere(sig_bins[1:,:]>sig_bins[:-1,:])\n",
    "for _ledge in ledges:\n",
    "\n",
    "    rem_trial = sig_bins[_ledge[0]:,_ledge[1]]\n",
    "    \n",
    "    _redge = np.argwhere(rem_trial[1:]<rem_trial[:-1])\n",
    "    if (_redge.shape[0]>0) and (_redge[0][0]>2) and (_redge[0][0]<15):\n",
    "        \n",
    "        place_field = sess.trial_matrices['spks'][trial_mask,  _ledge[0]:_ledge[0]+_redge[0][0], _ledge[1]]\n",
    "        \n",
    "        speed_field = sess.trial_matrices['speed'][trial_mask, _ledge[0]:_ledge[0]+_redge[0][0]]\n",
    "        \n",
    "        max_response = np.nanmax(place_field)\n",
    "        place_field_filt = np.copy(place_field)\n",
    "        place_field_filt[place_field<.2*max_response] = 0\n",
    "\n",
    "\n",
    "        place_field_bool = 1*(np.nansum(place_field_filt, axis=-1)>0)\n",
    "        place_field_bin_counts = sp.signal.convolve(place_field_bool,[1,1,1,1,1], mode='valid')\n",
    "\n",
    "\n",
    "\n",
    "        thresh_laps = np.zeros(place_field_bool.shape)\n",
    "        thresh_laps[:place_field_bin_counts.shape[0]] = 1*(place_field_bin_counts>=3)\n",
    "\n",
    "        thresh_active_laps = np.argwhere(thresh_laps*place_field_bool)\n",
    "\n",
    "        field_strength = np.nanmean(place_field,axis=-1)\n",
    "\n",
    "        if thresh_active_laps.shape[0]>0:\n",
    "\n",
    "\n",
    "            formation_lap = thresh_active_laps[0][0]\n",
    "            pcnt_trials_active = np.nanmean(place_field_bool[formation_lap:])\n",
    "            if pcnt_trials_active>.66:\n",
    "\n",
    "                # cell, left edge, right edge, formation lap, formation lap speed, avg speed\n",
    "                field_info.append([_ledge[1], _ledge[0], _redge[0][0], formation_lap, np.nanmean(speed_field[formation_lap,:]), np.nanmean(speed_field[formation_lap:,:])])\n",
    "                \n",
    "                \n",
    "\n",
    "com_mat = np.nan*np.zeros([trial_mask.sum(), len(field_info)])\n",
    "maxact_mat = np.nan*np.zeros([trial_mask.sum(), len(field_info)])\n",
    "fs_mat = np.nan*np.zeros([trial_mask.sum(), len(field_info)])\n",
    "fwhm = np.nan*np.zeros([len(field_info)])\n",
    "\n",
    "# df = {'mouse': [], 'cond':[], 'day':[], 'com':[], 'trial':[], 'cell': [], 'speed':[], 'ttype':[]}\n",
    "for c, (cell, l_edge, r_edge, formation_lap, _, _) in enumerate(field_info):\n",
    "    # print(cell, l_edge, r_edge, formation_lap)\n",
    "\n",
    "    place_field = sess.trial_matrices['spks'][trial_mask,  l_edge:l_edge+r_edge, cell]\n",
    "    \n",
    "    # pos = np.arange(place_field.shape[1])[np.newaxis,:]\n",
    "    # com = (pos*place_field).sum(axis=1)/(place_field.sum(axis=1)+1E-5)\n",
    "    # fig,ax = plt.subplots(1,2, sharey=True)\n",
    "#         # ax[0].imshow(place_field[formation_lap:,:])\n",
    "\n",
    "    com = []\n",
    "    # maxact = []\n",
    "    starts = sess.trial_start_inds[trial_mask]\n",
    "    stops = sess.teleport_inds[trial_mask]\n",
    "    for t, (start, stop) in enumerate(zip(starts[formation_lap:], stops[formation_lap:])):\n",
    "        \n",
    "        pos = sess.timeseries['t'][0,start:stop]\n",
    "        speed = sess.timeseries['speed'][0, start:stop]\n",
    "        spks = np.copy(sess.timeseries['spks'][cell,start:stop])\n",
    "        # spks[spks<.2*np.nanmax(sess.timeseries['spks'][cell,:])] = 0\n",
    "\n",
    "        mask = (pos>(l_edge + sess.trial_matrices['bin_edges'][0])) & (pos<(l_edge+r_edge + sess.trial_matrices['bin_edges'][0])) & (speed>2)\n",
    "        if mask.sum()>0:\n",
    "            pos = pos[mask]\n",
    "            spks = spks[mask]\n",
    "\n",
    "            com.append((pos*spks).sum()/(spks.sum()+1E-5))\n",
    "            # com.append(pos[np.argmax(spks)])\n",
    "            \n",
    "        else:\n",
    "            com.append(np.nan)\n",
    "            # maxact.append(np.nan)\n",
    "            \n",
    "        \n",
    "    com_mat[:len(com), c] = np.array(com)\n",
    "    # maxact_mat[:len(maxact),c] = np.array(maxact)\n",
    "    \n",
    "#         _com = np.nanmean(com[1:])\n",
    "    mu_field = np.nanmean(place_field[formation_lap:,:], axis=0)\n",
    "    field_max = np.amax(mu_field)\n",
    "    \n",
    "    cell_min = np.amin(np.nanmean(sess.trial_matrices['spks'][trial_mask,  :, cell][formation_lap:,:], axis=0))\n",
    "    \n",
    "    mu_field = (mu_field - cell_min)/(field_max - cell_min)\n",
    "    \n",
    "    l = 0\n",
    "    while mu_field[l]<.5:\n",
    "        l += 1\n",
    "    \n",
    "    \n",
    "    r = 1\n",
    "    while mu_field[-r]<.5:\n",
    "        r += 1\n",
    "    r -= 1\n",
    "        \n",
    "    fwhm[c] = r_edge -l - r"
   ]
  },
  {
   "cell_type": "code",
   "execution_count": 386,
   "id": "cde7317a-5452-460d-9700-5a3d176b59a5",
   "metadata": {},
   "outputs": [],
   "source": [
    "field_stats[mouse][day]={}\n",
    "field_stats[mouse][day][ttype]={}\n",
    "    \n",
    "# field_info, com_mat, fs_mat, _df  = get_field_info(mouse, day, ttype)\n",
    "# field_info, com_mat, fs_mat, fwhm, speed  = get_field_info(mouse, day, ttype)\n",
    "# df.append(_df)\n",
    "field_stats[mouse][day][ttype]['field_info'] = field_info\n",
    "field_stats[mouse][day][ttype]['com'] = com_mat\n",
    "field_stats[mouse][day][ttype]['field_strength'] = fs_mat\n",
    "# field_stats[mouse][day][ttype]['maxact'] = maxact_mat\n",
    "field_stats[mouse][day][ttype]['fwhm'] = fwhm\n",
    "field_stats[mouse][day][ttype]['speed'] = speed"
   ]
  },
  {
   "cell_type": "code",
   "execution_count": 387,
   "id": "94742537-dbbb-4ead-93f6-a9778366d57c",
   "metadata": {
    "scrolled": true
   },
   "outputs": [
    {
     "data": {
      "text/plain": [
       "{'field_info': [[49, 0, 10, 0, 45.04916085411903, 50.23657807247708],\n",
       "  [240, 0, 5, 0, 48.61988996393562, 47.540244897039685],\n",
       "  [307, 0, 5, 1, 43.06902287966044, 47.52363497293359],\n",
       "  [319, 0, 4, 1, 43.25957451243139, 47.5259321962687],\n",
       "  [325, 0, 4, 0, 50.08767196778887, 47.56474643523112],\n",
       "  [418, 0, 5, 10, 34.336646535302755, 46.78726460423828],\n",
       "  [439, 0, 6, 1, 43.26802310589354, 48.10587446540457],\n",
       "  [457, 0, 5, 1, 43.06902287966044, 47.52363497293359],\n",
       "  [461, 0, 9, 1, 44.24489400479801, 49.64419802628741],\n",
       "  [512, 0, 11, 1, 45.736408519572166, 51.03217358050889],\n",
       "  [545, 0, 7, 0, 46.89221588895848, 48.41922254983044],\n",
       "  [598, 0, 4, 1, 43.25957451243139, 47.5259321962687],\n",
       "  [626, 0, 6, 2, 40.334786645925334, 48.18146589289692],\n",
       "  [628, 0, 4, 1, 43.25957451243139, 47.5259321962687],\n",
       "  [675, 0, 12, 5, 56.60658683464516, 51.46892005349282],\n",
       "  [703, 0, 7, 0, 46.89221588895848, 48.41922254983044],\n",
       "  [731, 0, 5, 7, 59.51271662599851, 47.10447142016139],\n",
       "  [791, 0, 11, 9, 54.596540755442966, 50.56345307075684],\n",
       "  [813, 0, 6, 0, 48.616170164589825, 48.11360621842253],\n",
       "  [855, 0, 11, 2, 45.260038455486715, 51.11491990958602],\n",
       "  [235, 1, 10, 1, 44.08239623051691, 50.698095627743434],\n",
       "  [280, 1, 4, 2, 37.282289163788086, 45.92918293431492],\n",
       "  [318, 1, 5, 0, 46.67205437343124, 46.84972533740702],\n",
       "  [352, 1, 6, 28, 61.723044677736006, 47.603029537764094],\n",
       "  [484, 1, 8, 0, 44.003436963417144, 48.97659353987662],\n",
       "  [507, 1, 6, 1, 39.27417076873162, 47.45434193530342],\n",
       "  [523, 1, 6, 0, 44.9847936837211, 47.41692453755216],\n",
       "  [560, 1, 4, 3, 46.266178403841984, 46.06643521638678],\n",
       "  [599, 1, 5, 0, 46.67205437343124, 46.84972533740702],\n",
       "  [610, 1, 12, 0, 44.19423052178616, 51.490307921289755],\n",
       "  [623, 1, 6, 14, 54.34938830361673, 47.595433939471995],\n",
       "  [630, 1, 5, 1, 39.4663214450473, 46.8524587368528],\n",
       "  [646, 1, 5, 0, 46.67205437343124, 46.84972533740702],\n",
       "  [743, 1, 3, 0, 47.3379795835909, 45.2753250391415],\n",
       "  [757, 1, 6, 0, 44.9847936837211, 47.41692453755216],\n",
       "  [812, 1, 5, 1, 39.4663214450473, 46.8524587368528],\n",
       "  [863, 1, 13, 0, 45.544547984591915, 51.575973785632954],\n",
       "  [897, 1, 13, 0, 45.544547984591915, 51.575973785632954],\n",
       "  [903, 1, 10, 2, 44.76790886650197, 50.8014659308251],\n",
       "  [102, 2, 6, 1, 41.000483127695944, 48.14168972551298],\n",
       "  [171, 2, 8, 1, 43.27564607765281, 49.87409037299984],\n",
       "  [204, 2, 7, 1, 41.826595884465995, 48.946665758339286],\n",
       "  [321, 2, 8, 0, 42.212513220064366, 49.75800587068264],\n",
       "  [338, 2, 6, 1, 41.000483127695944, 48.14168972551298],\n",
       "  [494, 2, 8, 7, 58.04970636368153, 49.98138443895513],\n",
       "  [567, 2, 5, 1, 38.500736234118854, 46.985576558354424],\n",
       "  [607, 2, 3, 4, 52.41612300314034, 44.762714196554796],\n",
       "  [680, 2, 13, 0, 45.37695310789708, 51.77183087239102],\n",
       "  [701, 2, 12, 0, 44.802030844950195, 51.71824467311823],\n",
       "  [765, 2, 5, 9, 56.4234459022933, 47.11746999748749],\n",
       "  [803, 2, 6, 0, 42.06503014005106, 48.04961912573326],\n",
       "  [819, 2, 6, 1, 41.000483127695944, 48.14168972551298],\n",
       "  [830, 2, 8, 0, 42.212513220064366, 49.75800587068264],\n",
       "  [833, 2, 13, 0, 45.37695310789708, 51.77183087239102],\n",
       "  [188, 3, 7, 0, 40.47188761748653, 50.74281314970248],\n",
       "  [248, 3, 5, 6, 56.934592897160314, 49.70166521812839],\n",
       "  [274, 3, 8, 0, 39.61934894407659, 51.627245159399465],\n",
       "  [334, 3, 11, 1, 50.95196533192922, 52.65534948090973],\n",
       "  [414, 3, 4, 1, 39.304534883747905, 48.060237882097724],\n",
       "  [480, 3, 5, 0, 39.59865768043944, 49.08667196737115],\n",
       "  [497, 3, 7, 0, 40.47188761748653, 50.74281314970248],\n",
       "  [508, 3, 6, 0, 40.529308268155894, 49.846611710943264],\n",
       "  [514, 3, 7, 0, 40.47188761748653, 50.74281314970248],\n",
       "  [528, 3, 7, 1, 44.41708956937426, 50.90082738865965],\n",
       "  [557, 3, 6, 0, 40.529308268155894, 49.846611710943264],\n",
       "  [600, 3, 3, 17, 57.425961966449414, 47.49762115602349],\n",
       "  [670, 3, 9, 0, 40.70108875610158, 52.19010598515769],\n",
       "  [744, 3, 8, 1, 45.29963465347137, 51.81198202425059],\n",
       "  [779, 3, 10, 0, 42.14791201630321, 52.51506170021237],\n",
       "  [815, 3, 6, 0, 40.529308268155894, 49.846611710943264],\n",
       "  [818, 3, 7, 0, 40.47188761748653, 50.74281314970248],\n",
       "  [884, 3, 5, 0, 39.59865768043944, 49.08667196737115],\n",
       "  [887, 3, 8, 0, 39.61934894407659, 51.627245159399465],\n",
       "  [147, 4, 10, 0, 45.00651850489222, 53.4661684095804],\n",
       "  [251, 4, 4, 1, 44.595618892092574, 50.72938287405372],\n",
       "  [283, 4, 7, 6, 62.101197326468935, 53.22807566815352],\n",
       "  [323, 4, 6, 0, 41.69015344500581, 52.01779916397438],\n",
       "  [348, 4, 4, 0, 41.20774893745658, 50.58511569319618],\n",
       "  [367, 4, 9, 3, 49.9813327640411, 53.76578468013636],\n",
       "  [370, 4, 4, 0, 41.20774893745658, 50.58511569319618],\n",
       "  [387, 4, 6, 1, 46.43079090390285, 52.17668602118928],\n",
       "  [398, 4, 4, 1, 44.595618892092574, 50.72938287405372],\n",
       "  [466, 4, 4, 0, 41.20774893745658, 50.58511569319618],\n",
       "  [471, 4, 6, 0, 41.69015344500581, 52.01779916397438],\n",
       "  [565, 4, 4, 1, 44.595618892092574, 50.72938287405372],\n",
       "  [572, 4, 6, 0, 41.69015344500581, 52.01779916397438],\n",
       "  [627, 4, 5, 0, 42.0027113913129, 51.1973546403177],\n",
       "  [635, 4, 7, 0, 40.54178555717742, 52.84643774444639],\n",
       "  [689, 4, 5, 1, 45.033149598691324, 51.33881069030239],\n",
       "  [693, 4, 10, 31, 59.10067305534712, 55.116299700429956],\n",
       "  [710, 4, 6, 1, 46.43079090390285, 52.17668602118928],\n",
       "  [764, 4, 6, 0, 41.69015344500581, 52.01779916397438],\n",
       "  [869, 4, 6, 2, 45.6133129798069, 52.26646563239689],\n",
       "  [889, 4, 13, 0, 44.838022913431374, 53.31099272500503],\n",
       "  [85, 5, 4, 10, 34.8883896612067, 51.96893157176759],\n",
       "  [131, 5, 5, 1, 47.25558581496809, 53.109134009508516],\n",
       "  [266, 5, 4, 1, 45.71473291121999, 52.29490184297969],\n",
       "  [282, 5, 8, 1, 52.453570778669175, 54.498180179283175],\n",
       "  [332, 5, 3, 0, 40.69407793376789, 51.632741342836944],\n",
       "  [424, 5, 6, 1, 47.95922988616527, 53.9559557534883],\n",
       "  [438, 5, 3, 1, 45.358553073264545, 51.80102847220722],\n",
       "  [527, 5, 5, 0, 41.47843174430244, 52.93291124791448],\n",
       "  [558, 5, 5, 0, 41.47843174430244, 52.93291124791448],\n",
       "  [702, 5, 6, 1, 47.95922988616527, 53.9559557534883],\n",
       "  [730, 5, 7, 0, 41.48553488628868, 54.16797400829631],\n",
       "  [743, 5, 14, 2, 50.70349432960078, 52.92956752044922],\n",
       "  [760, 5, 7, 0, 41.48553488628868, 54.16797400829631],\n",
       "  [774, 5, 9, 8, 57.17458392774938, 54.017745528243026],\n",
       "  [801, 5, 10, 0, 45.95924433636594, 53.963431061519465],\n",
       "  [814, 5, 4, 3, 42.82189285422115, 52.54085813284784],\n",
       "  [840, 5, 4, 9, 61.23939089996809, 52.131571209104436],\n",
       "  [195, 6, 6, 5, 59.40257706520341, 54.86268268873783],\n",
       "  [247, 6, 7, 0, 42.42435634203969, 54.80500976692028],\n",
       "  [307, 6, 11, 0, 44.68617861438403, 54.05638671413225],\n",
       "  [373, 6, 4, 0, 39.69864688841284, 53.42103585355891],\n",
       "  [448, 6, 10, 0, 45.76136493257065, 54.230517461224835],\n",
       "  [459, 6, 3, 8, 61.03929998916772, 52.60081760329275],\n",
       "  [513, 6, 8, 0, 44.839856491567346, 54.52987906577416],\n",
       "  [601, 6, 14, 1, 52.45161914212808, 52.127223770849],\n",
       "  [694, 6, 7, 0, 42.42435634203969, 54.80500976692028],\n",
       "  [754, 6, 6, 0, 40.30019550602666, 54.69923420545625],\n",
       "  [759, 6, 7, 0, 42.42435634203969, 54.80500976692028],\n",
       "  [794, 6, 8, 10, 32.76362363307398, 54.334602940528946],\n",
       "  [893, 6, 11, 0, 44.68617861438403, 54.05638671413225],\n",
       "  [197, 7, 5, 14, 58.024131869961955, 55.97141666866692],\n",
       "  [318, 7, 4, 0, 38.974418887172, 55.31237302580903],\n",
       "  [351, 7, 6, 0, 43.40366735985123, 55.563691305027334],\n",
       "  [388, 7, 7, 7, 58.35316302908187, 54.93382766796558],\n",
       "  [395, 7, 7, 0, 46.024337385338335, 55.140873141130776],\n",
       "  [402, 7, 8, 0, 46.805797745078515, 54.80012215644749],\n",
       "  [433, 7, 6, 0, 43.40366735985123, 55.563691305027334],\n",
       "  [447, 7, 10, 6, 56.02848560185146, 54.5356077408713],\n",
       "  [486, 7, 5, 0, 41.050536560197905, 55.588496938891915],\n",
       "  [492, 7, 8, 3, 53.65158950103883, 54.851858496275796],\n",
       "  [521, 7, 5, 6, 57.545410853855664, 55.51334402562058],\n",
       "  [553, 7, 6, 1, 56.17535410085686, 55.75076859649159],\n",
       "  [561, 7, 8, 2, 57.145337943148945, 54.88769411263319],\n",
       "  [599, 7, 7, 0, 46.024337385338335, 55.140873141130776],\n",
       "  [658, 7, 3, 2, 49.55465285535371, 54.74225585960469],\n",
       "  [674, 7, 11, 0, 44.05165375320936, 53.870557327734694],\n",
       "  [708, 7, 8, 1, 57.18984137193172, 54.923111762776244],\n",
       "  [752, 7, 9, 13, 43.636533128576694, 55.192037671325856],\n",
       "  [816, 7, 7, 0, 46.024337385338335, 55.140873141130776],\n",
       "  [827, 7, 8, 0, 46.805797745078515, 54.80012215644749],\n",
       "  [890, 7, 3, 0, 40.74869910616031, 54.47707429198591],\n",
       "  [389, 8, 5, 0, 44.697166352166995, 55.943451433053575],\n",
       "  [498, 8, 5, 0, 44.697166352166995, 55.943451433053575],\n",
       "  [523, 8, 5, 1, 56.71058140191195, 56.11647120352875],\n",
       "  [573, 8, 5, 0, 44.697166352166995, 55.943451433053575],\n",
       "  [584, 8, 4, 0, 42.07912760067928, 56.06939850739086],\n",
       "  [643, 8, 6, 0, 47.53903154984932, 55.386870220503205],\n",
       "  [757, 8, 6, 0, 47.53903154984932, 55.386870220503205],\n",
       "  [799, 8, 11, 0, 43.037370507942676, 53.069110532091536],\n",
       "  [832, 8, 7, 4, 62.04595115848031, 54.95906941756716],\n",
       "  [875, 8, 5, 0, 44.697166352166995, 55.943451433053575],\n",
       "  [26, 9, 8, 1, 56.60990994339415, 54.75543074198354],\n",
       "  [97, 9, 6, 31, 67.60045034689101, 57.55459819594604],\n",
       "  [117, 9, 6, 54, 58.952252243891344, 53.51172228137336],\n",
       "  [398, 9, 8, 0, 46.61009261475542, 54.63201652793462],\n",
       "  [437, 9, 5, 0, 48.010325618471555, 55.7349821788431],\n",
       "  [441, 9, 7, 0, 48.42091792650364, 54.96300756861009],\n",
       "  [522, 9, 5, 0, 48.010325618471555, 55.7349821788431],\n",
       "  [534, 9, 5, 0, 48.010325618471555, 55.7349821788431],\n",
       "  [690, 9, 8, 0, 46.61009261475542, 54.63201652793462],\n",
       "  [712, 9, 6, 0, 48.72127472593625, 55.18162935964668],\n",
       "  [773, 9, 8, 0, 46.61009261475542, 54.63201652793462],\n",
       "  [789, 9, 6, 0, 48.72127472593625, 55.18162935964668],\n",
       "  [821, 9, 4, 0, 44.5758176385242, 56.517736684116024],\n",
       "  [871, 9, 11, 0, 41.25996068123953, 51.80312451115134],\n",
       "  [884, 9, 6, 60, 62.45755582663429, 53.67568000698097],\n",
       "  [209, 10, 10, 0, 41.373220378016434, 51.37143478404069],\n",
       "  [421, 10, 8, 0, 45.290261745852746, 53.64311346614047],\n",
       "  [747, 10, 7, 1, 57.06575458817038, 54.525340465749224],\n",
       "  [852, 10, 6, 1, 59.20084846692967, 54.846587172555864],\n",
       "  [867, 10, 11, 0, 41.98090769372094, 49.84173844951823],\n",
       "  [898, 10, 3, 14, 53.14663019328729, 56.95900272035886],\n",
       "  [234, 11, 5, 0, 53.033496708369626, 54.160552394146855],\n",
       "  [264, 11, 5, 0, 53.033496708369626, 54.160552394146855],\n",
       "  [321, 11, 12, 0, 45.536064939744826, 45.82978938588888],\n",
       "  [342, 11, 10, 0, 42.81384064007232, 49.04408537174221],\n",
       "  [475, 11, 8, 0, 44.306196554619234, 52.02195180183335],\n",
       "  [508, 11, 9, 54, 44.696546287441, 46.32585300801688],\n",
       "  [558, 11, 10, 0, 42.81384064007232, 49.04408537174221],\n",
       "  [617, 11, 3, 5, 52.77052646478754, 54.22742889020309],\n",
       "  [622, 11, 7, 0, 46.952930819516425, 53.046662643120776],\n",
       "  [660, 11, 9, 0, 42.23118061666192, 50.65511984590316],\n",
       "  [715, 11, 6, 0, 49.850299829060994, 53.8529735356568],\n",
       "  [733, 11, 5, 0, 53.033496708369626, 54.160552394146855],\n",
       "  [772, 11, 10, 0, 42.81384064007232, 49.04408537174221],\n",
       "  [797, 11, 8, 0, 44.306196554619234, 52.02195180183335],\n",
       "  [811, 11, 9, 0, 42.23118061666192, 50.65511984590316],\n",
       "  [67, 12, 11, 4, 49.441220350609406, 44.87321706618417],\n",
       "  [339, 12, 7, 2, 48.592523156106346, 51.44204164447156],\n",
       "  [352, 12, 5, 0, 49.949358344412886, 53.284969724543465],\n",
       "  [444, 12, 9, 0, 42.08704434982464, 48.19420679179985],\n",
       "  [520, 12, 6, 2, 50.10227244478534, 52.508745295545225],\n",
       "  [528, 12, 10, 0, 43.75605149800941, 46.50546420430167],\n",
       "  [564, 12, 5, 0, 49.949358344412886, 53.284969724543465],\n",
       "  [568, 12, 7, 0, 43.58493788352177, 51.35466026049192],\n",
       "  [607, 12, 7, 1, 53.531974062764185, 51.47419445090684],\n",
       "  [619, 12, 13, 0, 42.608250904595835, 41.379826094328045],\n",
       "  [724, 12, 4, 0, 53.95311907238664, 53.52744234487771],\n",
       "  [771, 12, 5, 0, 49.949358344412886, 53.284969724543465],\n",
       "  [781, 12, 6, 0, 46.552584747385566, 52.43894098510366],\n",
       "  [790, 12, 9, 0, 42.08704434982464, 48.19420679179985],\n",
       "  [850, 12, 8, 0, 41.34070228720697, 49.90038575273812],\n",
       "  [851, 12, 10, 0, 43.75605149800941, 46.50546420430167],\n",
       "  [862, 12, 5, 0, 49.949358344412886, 53.284969724543465],\n",
       "  [870, 12, 8, 10, 38.53714899353911, 49.970288708733825],\n",
       "  [903, 12, 3, 3, 49.03209616923548, 53.25252076682558],\n",
       "  [171, 13, 7, 0, 39.36518527707684, 49.10906041231437],\n",
       "  [263, 13, 5, 1, 51.97315358553219, 51.946635926210334],\n",
       "  [358, 13, 12, 0, 41.561495033469, 40.20817300754668],\n",
       "  [377, 13, 5, 4, 49.789907898198734, 52.1431420410414],\n",
       "  [411, 13, 10, 0, 44.19084506665185, 43.78248169037386],\n",
       "  [463, 13, 6, 0, 41.65420730442242, 50.67382644795648],\n",
       "  [482, 13, 5, 1, 51.97315358553219, 51.946635926210334],\n",
       "  [486, 13, 10, 0, 44.19084506665185, 43.78248169037386],\n",
       "  [521, 13, 4, 0, 48.64436759098665, 52.746296371753225],\n",
       "  [533, 13, 5, 0, 44.82923742523911, 51.8387965549835],\n",
       "  [538, 13, 5, 0, 44.82923742523911, 51.8387965549835],\n",
       "  [691, 13, 6, 0, 41.65420730442242, 50.67382644795648],\n",
       "  [786, 13, 5, 0, 44.82923742523911, 51.8387965549835],\n",
       "  [808, 13, 6, 6, 55.932040116006476, 50.95190411263854],\n",
       "  [815, 13, 7, 1, 51.279589428214116, 49.25896618362571],\n",
       "  [817, 13, 6, 1, 51.907109706606626, 50.81258981939548],\n",
       "  [886, 13, 6, 1, 51.907109706606626, 50.81258981939548],\n",
       "  [899, 13, 7, 4, 50.435356205439476, 49.3974440678589],\n",
       "  [215, 14, 3, 1, 49.96943015053039, 52.92477689695166],\n",
       "  [304, 14, 6, 30, 52.08775680531965, 47.58752363993395],\n",
       "  [343, 14, 4, 1, 48.41610335414309, 51.81747461209627],\n",
       "  [381, 14, 12, 0, 38.06494598015932, 37.17667061093838],\n",
       "  [401, 14, 3, 0, 44.27637094189521, 52.793740443087174],\n",
       "  [446, 14, 11, 0, 39.72632571485155, 39.081282902982615],\n",
       "  [610, 14, 8, 0, 40.08035451046441, 44.62637684369511],\n",
       "  [678, 14, 11, 0, 39.72632571485155, 39.081282902982615],\n",
       "  [696, 14, 6, 0, 35.63465656687949, 48.52657645474153],\n",
       "  [814, 14, 5, 3, 44.79120980380541, 50.65254240681176],\n",
       "  [822, 14, 6, 0, 35.63465656687949, 48.52657645474153],\n",
       "  [841, 14, 8, 0, 40.08035451046441, 44.62637684369511],\n",
       "  [877, 14, 11, 0, 39.72632571485155, 39.081282902982615],\n",
       "  [895, 14, 7, 6, 52.577672421519985, 46.74066241263411],\n",
       "  [80, 15, 3, 6, 60.59129880580102, 51.78222567552658],\n",
       "  [130, 15, 7, 3, 41.792996324603685, 43.658338398746636],\n",
       "  [259, 15, 6, 0, 34.93161666479719, 45.548228094846394],\n",
       "  [300, 15, 5, 0, 32.30638382760344, 47.74891869295693],\n",
       "  [539, 15, 10, 0, 38.47135626001072, 37.74792466691442],\n",
       "  [556, 15, 5, 1, 47.698103925437245, 47.986496152423896],\n",
       "  [628, 15, 10, 0, 38.47135626001072, 37.74792466691442],\n",
       "  [642, 15, 5, 1, 47.698103925437245, 47.986496152423896],\n",
       "  [648, 15, 4, 1, 47.74401296733179, 49.998814098278096],\n",
       "  [659, 15, 11, 0, 36.7730301362411, 35.79138018796327],\n",
       "  [668, 15, 5, 1, 47.698103925437245, 47.986496152423896],\n",
       "  [689, 15, 4, 0, 33.975216506253446, 49.75603231658076],\n",
       "  [761, 15, 9, 0, 39.81481271077213, 39.68182723444958],\n",
       "  [778, 15, 8, 0, 40.985509108124724, 41.60074843529034],\n",
       "  [807, 15, 10, 0, 38.47135626001072, 37.74792466691442],\n",
       "  [880, 15, 4, 1, 47.74401296733179, 49.998814098278096],\n",
       "  [898, 15, 5, 1, 47.698103925437245, 47.986496152423896],\n",
       "  [37, 16, 5, 0, 32.59418457177503, 43.927618349337564],\n",
       "  [92, 16, 9, 0, 37.56608727446658, 35.980885538528184],\n",
       "  [137, 16, 4, 0, 28.7282855020273, 46.273329160598536],\n",
       "  [185, 16, 8, 4, 46.90394794236059, 37.918542845829805],\n",
       "  [274, 16, 3, 1, 46.529401530858216, 48.74526242258688],\n",
       "  [288, 16, 5, 1, 46.428085700342805, 44.101978868992376],\n",
       "  [474, 16, 6, 0, 36.95800644842459, 41.824145443917644],\n",
       "  [530, 16, 3, 1, 46.529401530858216, 48.74526242258688],\n",
       "  [547, 16, 8, 0, 38.96431715838015, 37.93564603595696],\n",
       "  [652, 16, 4, 1, 46.77566808760842, 46.54325290919194],\n",
       "  [669, 16, 5, 0, 32.59418457177503, 43.927618349337564],\n",
       "  [701, 16, 5, 0, 32.59418457177503, 43.927618349337564],\n",
       "  [779, 16, 6, 0, 36.95800644842459, 41.824145443917644],\n",
       "  [821, 16, 4, 0, 28.7282855020273, 46.273329160598536],\n",
       "  [827, 16, 6, 0, 36.95800644842459, 41.824145443917644],\n",
       "  [872, 16, 9, 2, 34.70457105797219, 35.923073056667505],\n",
       "  [225, 17, 3, 0, 26.99294219186378, 44.25941246639588],\n",
       "  [229, 17, 8, 0, 38.02005875471018, 33.939111325443406],\n",
       "  [249, 17, 8, 0, 38.02005875471018, 33.939111325443406],\n",
       "  [353, 17, 3, 53, 35.268633343930865, 38.48966092555071],\n",
       "  [455, 17, 6, 0, 41.22183005042866, 37.806605236120966],\n",
       "  [611, 17, 5, 1, 43.889056046860155, 39.75923889994378],\n",
       "  [654, 17, 7, 0, 39.682888833503334, 35.881441292064174],\n",
       "  [713, 17, 5, 0, 37.56274465160593, 39.725958684059876],\n",
       "  [762, 17, 6, 0, 41.22183005042866, 37.806605236120966],\n",
       "  [794, 17, 6, 0, 41.22183005042866, 37.806605236120966],\n",
       "  [844, 17, 5, 0, 37.56274465160593, 39.725958684059876],\n",
       "  [26, 18, 7, 0, 39.227393325061776, 31.900584759377516],\n",
       "  [86, 18, 5, 0, 43.55245270806459, 35.72616682576423],\n",
       "  [101, 18, 4, 0, 39.561251623945175, 37.60524903309869],\n",
       "  [364, 18, 6, 0, 41.36858417871239, 33.82688195942409],\n",
       "  [373, 18, 4, 0, 39.561251623945175, 37.60524903309869],\n",
       "  [387, 18, 7, 3, 31.6794884545709, 31.72011300088771],\n",
       "  [484, 18, 5, 0, 43.55245270806459, 35.72616682576423],\n",
       "  [615, 18, 4, 6, 41.20945589649162, 37.25549095485614],\n",
       "  [643, 18, 6, 0, 41.36858417871239, 33.82688195942409],\n",
       "  [723, 18, 4, 0, 39.561251623945175, 37.60524903309869],\n",
       "  [829, 18, 3, 0, 33.15596355470277, 39.70473840519225],\n",
       "  [43, 19, 6, 0, 41.46878276251558, 29.742519567136867],\n",
       "  [97, 19, 4, 0, 47.995801709996, 33.445464553999926],\n",
       "  [215, 19, 7, 0, 38.371780781948324, 27.811578971610427],\n",
       "  [223, 19, 6, 0, 41.46878276251558, 29.742519567136867],\n",
       "  [224, 19, 6, 0, 41.46878276251558, 29.742519567136867],\n",
       "  [418, 19, 5, 0, 44.48648967438707, 31.622463168744627],\n",
       "  [443, 19, 3, 0, 44.155316598480574, 35.19067340652444],\n",
       "  [586, 19, 3, 1, 41.37075565244694, 35.05275581895589],\n",
       "  [893, 19, 3, 1, 41.37075565244694, 35.05275581895589],\n",
       "  [440, 20, 6, 1, 27.479284755019766, 25.60109598826902],\n",
       "  [497, 20, 5, 7, 36.24109081525717, 27.24981462163175],\n",
       "  [559, 20, 4, 0, 49.20034881473299, 29.59796291131539],\n",
       "  [646, 20, 3, 3, 29.75929423431194, 30.933271605353656],\n",
       "  [650, 20, 5, 4, 35.36249579339996, 27.395795875746966],\n",
       "  [687, 20, 3, 1, 34.17382738925715, 30.983076161182225],\n",
       "  [784, 20, 4, 0, 49.20034881473299, 29.59796291131539],\n",
       "  [889, 20, 5, 1, 31.151694284926247, 27.48709374777121],\n",
       "  [902, 20, 4, 2, 31.383802635343354, 29.235406060178015],\n",
       "  [143, 21, 4, 0, 43.780965652831036, 26.04746952501647],\n",
       "  [197, 21, 4, 3, 24.772865802343123, 25.713528528545837],\n",
       "  [211, 21, 4, 0, 43.780965652831036, 26.04746952501647],\n",
       "  [307, 21, 4, 0, 43.780965652831036, 26.04746952501647],\n",
       "  [330, 21, 4, 1, 27.680178818337716, 25.774646507665476],\n",
       "  [366, 21, 4, 2, 27.71954688153046, 25.744872565311223],\n",
       "  [475, 21, 4, 0, 43.780965652831036, 26.04746952501647],\n",
       "  [530, 21, 4, 0, 43.780965652831036, 26.04746952501647],\n",
       "  [553, 21, 3, 3, 26.02602698868689, 27.56141550088973],\n",
       "  [626, 21, 4, 0, 43.780965652831036, 26.04746952501647],\n",
       "  [704, 21, 3, 0, 49.581204802722006, 27.94902551365594],\n",
       "  [738, 21, 5, 0, 38.982726301973784, 24.083162699703532],\n",
       "  [758, 21, 4, 0, 43.780965652831036, 26.04746952501647],\n",
       "  [861, 21, 4, 0, 43.780965652831036, 26.04746952501647],\n",
       "  [886, 21, 4, 0, 43.780965652831036, 26.04746952501647],\n",
       "  [898, 21, 3, 0, 49.581204802722006, 27.94902551365594],\n",
       "  [46, 22, 3, 0, 38.782248926550594, 24.29436572774929],\n",
       "  [142, 22, 4, 0, 34.03412891954915, 22.277258145424916],\n",
       "  [238, 22, 6, 0, 26.740726672219836, 19.03836461811707],\n",
       "  [284, 22, 4, 2, 24.478296414168838, 22.09680361477869],\n",
       "  [449, 22, 3, 0, 38.782248926550594, 24.29436572774929],\n",
       "  [496, 22, 4, 0, 34.03412891954915, 22.277258145424916],\n",
       "  [544, 22, 3, 0, 38.782248926550594, 24.29436572774929],\n",
       "  [573, 22, 3, 0, 38.782248926550594, 24.29436572774929],\n",
       "  [666, 22, 4, 0, 34.03412891954915, 22.277258145424916],\n",
       "  [720, 22, 5, 60, 20.999106394890067, 17.482640516712554],\n",
       "  [728, 22, 4, 0, 34.03412891954915, 22.277258145424916],\n",
       "  [731, 22, 3, 2, 27.172087218242, 24.035296849424782],\n",
       "  [828, 22, 3, 2, 27.172087218242, 24.035296849424782],\n",
       "  [881, 22, 3, 2, 27.172087218242, 24.035296849424782],\n",
       "  [262, 23, 3, 1, 20.78474212078238, 20.21911581535581],\n",
       "  [491, 23, 3, 0, 25.53975287788477, 20.29973152842443],\n",
       "  [529, 23, 5, 0, 20.185420597755346, 17.204069942455202],\n",
       "  [548, 23, 5, 5, 16.388960186502782, 17.151453500040184],\n",
       "  [586, 23, 4, 0, 23.7200793135004, 16.8141416672763],\n",
       "  [625, 23, 3, 1, 20.78474212078238, 20.21911581535581],\n",
       "  [737, 23, 5, 0, 20.185420597755346, 17.204069942455202],\n",
       "  [826, 23, 5, 0, 20.185420597755346, 17.204069942455202],\n",
       "  [831, 23, 3, 0, 25.53975287788477, 20.29973152842443],\n",
       "  [899, 23, 4, 0, 23.7200793135004, 16.8141416672763],\n",
       "  [642, 24, 3, 4, 19.071448133702475, 14.26461769606647],\n",
       "  [653, 24, 3, 0, 21.477025240683407, 14.308703013793922],\n",
       "  [677, 24, 3, 0, 21.477025240683407, 14.308703013793922],\n",
       "  [587, 25, 3, 0, 14.699204417889076, 13.782363508484838]],\n",
       " 'com': array([[20.45800301, 13.79540703, 14.81592031, ..., 38.9403993 ,\n",
       "         38.9991617 , 39.97868321],\n",
       "        [20.7521366 , 16.1671662 , 15.8496122 , ..., 38.9004399 ,\n",
       "         37.81032461, 39.23818307],\n",
       "        [17.71820973, 16.31879143, 16.41465197, ..., 38.81847533,\n",
       "         38.85987351, 39.8674057 ],\n",
       "        ...,\n",
       "        [18.20184248,  0.        , 15.78379997, ..., 39.34890175,\n",
       "         38.87078691, 39.76101894],\n",
       "        [18.6025632 , 15.91074302, 13.72144355, ..., 38.35048171,\n",
       "         38.29993471, 39.61248858],\n",
       "        [15.6623791 , 17.25096319,         nan, ..., 39.82275378,\n",
       "         38.92560498, 39.8432765 ]]),\n",
       " 'field_strength': array([[nan, nan, nan, ..., nan, nan, nan],\n",
       "        [nan, nan, nan, ..., nan, nan, nan],\n",
       "        [nan, nan, nan, ..., nan, nan, nan],\n",
       "        ...,\n",
       "        [nan, nan, nan, ..., nan, nan, nan],\n",
       "        [nan, nan, nan, ..., nan, nan, nan],\n",
       "        [nan, nan, nan, ..., nan, nan, nan]]),\n",
       " 'fwhm': array([10.,  4.,  4.,  4.,  4.,  4.,  5.,  4.,  4.,  5.,  7.,  2.,  6.,\n",
       "         4.,  8.,  7.,  5.,  8.,  5.,  9., 10.,  2.,  3.,  4.,  6.,  6.,\n",
       "         6.,  4.,  5.,  6.,  5.,  3.,  5.,  3.,  6.,  5., 12., 12.,  6.,\n",
       "         5.,  8.,  6.,  7.,  5.,  7.,  4.,  3., 12., 10.,  5.,  6.,  5.,\n",
       "         8., 10.,  6.,  4.,  8.,  5.,  4.,  4.,  5.,  6.,  7.,  7.,  6.,\n",
       "         3.,  9.,  6.,  7.,  5.,  7.,  5.,  4., 10.,  2.,  7.,  6.,  4.,\n",
       "         6.,  4.,  5.,  4.,  3.,  3.,  4.,  6.,  4.,  5.,  4.,  5.,  5.,\n",
       "         4.,  6., 12.,  4.,  5.,  4.,  8.,  3.,  6.,  3.,  5.,  4.,  5.,\n",
       "         6.,  6.,  7.,  5., 10.,  4.,  4.,  4.,  7., 10.,  4.,  9.,  3.,\n",
       "         7., 11.,  6.,  4.,  5.,  7., 10.,  4.,  3.,  5.,  4.,  4.,  5.,\n",
       "         6.,  8.,  3.,  6.,  5.,  5.,  6.,  7.,  3.,  9.,  8.,  5.,  3.,\n",
       "         6.,  3.,  5.,  5.,  5.,  4.,  4.,  4.,  5.,  8.,  7.,  4.,  5.,\n",
       "         3.,  3.,  5.,  4.,  5.,  4.,  4.,  6.,  4.,  7.,  6.,  3., 10.,\n",
       "         4.,  7.,  8.,  4.,  5.,  7.,  3.,  5.,  3., 11.,  7.,  7.,  8.,\n",
       "         5.,  3.,  6.,  9.,  6.,  4.,  5.,  8.,  9.,  8.,  7.,  4.,  8.,\n",
       "         3.,  9.,  4.,  4.,  5., 11.,  3.,  5.,  6.,  4.,  4.,  2.,  5.,\n",
       "         6.,  3.,  6.,  5.,  8.,  5.,  7.,  4.,  5.,  8.,  4.,  4.,  5.,\n",
       "         5.,  5.,  5.,  6.,  5.,  4.,  6.,  3.,  3.,  3., 10.,  3.,  8.,\n",
       "         8., 11.,  5.,  4.,  5.,  8.,  9.,  4.,  3.,  5.,  6.,  4.,  9.,\n",
       "         5.,  8.,  5.,  4.,  9.,  5.,  4.,  5.,  4., 10.,  3.,  5.,  3.,\n",
       "         8.,  3.,  6.,  3.,  5.,  4.,  3.,  7.,  3.,  3.,  5.,  4.,  4.,\n",
       "         6.,  6.,  3.,  7.,  7.,  2.,  5.,  3.,  7.,  4.,  4.,  6.,  5.,\n",
       "         7.,  3.,  4.,  6.,  4.,  6.,  3.,  3.,  5.,  3.,  3.,  3.,  4.,\n",
       "         4.,  6.,  4.,  3.,  3.,  2.,  3.,  6.,  5.,  3.,  3.,  3.,  3.,\n",
       "         4.,  5.,  4.,  4.,  4.,  3.,  4.,  4.,  3.,  3.,  4.,  2.,  2.,\n",
       "         2.,  4.,  4.,  4.,  4.,  3.,  3.,  4.,  4.,  3.,  3.,  3.,  2.,\n",
       "         3.,  4.,  3.,  4.,  2.,  3.,  3.,  3.,  2.,  4.,  4.,  4.,  3.,\n",
       "         4.,  4.,  3.,  4.,  2.,  1.,  1.,  3.]),\n",
       " 'speed': array([ 4.31589446e+01,  2.48145012e+01,  5.81282852e+01,  4.86233528e+01,\n",
       "         3.76954851e+01,  1.28293433e+01,  2.53600385e+01,  1.74503796e+01,\n",
       "         1.23002682e+01,  1.12271299e+01,  1.11595694e+01, -2.05768133e+00,\n",
       "        -2.97909127e+00,  2.77065726e+00,  1.41343589e+01,  2.60042326e+01,\n",
       "         2.86959352e+01,  3.24806650e+01,  4.62688764e+01,  4.49241805e+01,\n",
       "         4.35900704e+01,  3.72711074e+01,  2.17384373e+01,  9.85813161e-02,\n",
       "        -7.29990543e+00, -1.22851949e+00,  5.68913514e+00,  1.35194758e+00,\n",
       "        -1.76216434e+00, -3.39825759e+00, -1.25627500e+00,  4.15452867e+00,\n",
       "         1.08387582e+01,  1.17501295e+01,  1.35854661e+01,  2.46652095e+01,\n",
       "         3.02981292e+01,  1.93710134e+01,  3.15209291e+01,  2.54117455e+01,\n",
       "         3.82775151e+01,  3.79967267e+01,  4.44284445e+01,  4.58947399e+01,\n",
       "         4.03718427e+01,  5.21952614e+01,  4.51351001e+01,  6.79209265e+01,\n",
       "         5.96084201e+01,  4.55712990e+01,  7.04315325e+01,  5.98352535e+01,\n",
       "         5.86309501e+01,  4.63763411e+01,  3.78597741e+01,  3.72554035e+01,\n",
       "         2.89189108e+01,  3.73850655e+01,  2.31024461e+01,  3.12275983e+01,\n",
       "         3.52109887e+01,  2.02341123e+01,  3.30853182e+01,  2.84277439e+01,\n",
       "         1.86903786e+01,  2.04644589e+01,  1.29653844e+01,  2.05755181e+01,\n",
       "         2.30722663e+01,  1.85211220e+01,  1.33677760e+01,  1.00848361e+01,\n",
       "         2.43299931e+01,  3.17049934e+01,  3.44679713e+01,  2.32091267e+01,\n",
       "         1.63863070e+01,  2.29039440e+01,  2.35883659e+01,  1.69006754e+01,\n",
       "         1.22591656e+01,  1.62470931e+01,  3.00369613e+01,  2.63464704e+01,\n",
       "         2.30556628e+01,  2.85568991e+01,  2.72420664e+01,  3.13408895e+01,\n",
       "         1.84554111e+01,  3.26828662e+01,  2.18588062e+01,  3.03311910e+01,\n",
       "         2.09660321e+01,  1.55648093e+01,  2.52084705e+01,  1.01458786e+01,\n",
       "         2.12681893e+01,  2.51993237e+01,  1.89044342e+01,  2.34099882e+01,\n",
       "         1.89111659e+01,  2.45814582e+01,  2.41875307e+01,  1.75504778e+01,\n",
       "         2.33607460e+01,  3.50735757e+01,  3.42710199e+01,  3.09951358e+01,\n",
       "         2.30770797e+01,  2.41893590e+01,  1.34358161e+01,  2.33643755e+01,\n",
       "         2.14040766e+01,  2.38220958e+01,  3.37544722e+01,  2.39831675e+01,\n",
       "         9.36208081e+00,  8.90538176e+00,  1.68708010e+01,  3.22588276e+01,\n",
       "         1.56480097e+01,  8.92032111e+00,  1.76421077e+01,  2.25691918e+01,\n",
       "         2.85693765e+01,  1.10316811e+01, -7.04783750e+00,  3.77774083e+00,\n",
       "         7.25625011e+00,  9.62163600e+00,  1.48691040e+01,  2.09871310e+01,\n",
       "         1.70951192e+01,  6.88778951e+00,  1.54985893e+01,  2.07965081e+01,\n",
       "         2.66055661e+01,  1.21338616e+01,  1.73243112e+01,  2.42191782e+01,\n",
       "         2.33906440e+01,  1.56412610e+01,  1.21966795e+01,  1.67869436e+01,\n",
       "         2.14276260e+01,  1.96004782e+01,  1.69770453e+01,  1.02136970e+01,\n",
       "         1.84889806e+01,  2.49363734e+01,  1.82883911e+01, -3.76632382e+00,\n",
       "        -1.18491957e+01,  5.85313774e+00,  1.20314335e+01,  1.45252949e+01,\n",
       "         2.56477293e+01,  2.48292085e+01,  3.17830514e+01,  1.17775964e+01,\n",
       "        -7.67120491e-02,  2.02890480e+01,  3.44632416e+01,  2.95326106e+01,\n",
       "         3.07574802e+01,  1.31674782e+01,  1.42128964e+01,  2.15333744e+01,\n",
       "         1.67353090e+01,  1.37490194e+01,  1.60301510e+01,  2.07600742e+01,\n",
       "         2.47515413e+01,  2.30858775e+01,  1.99319574e+01,  2.07972705e+01,\n",
       "         2.02891046e+01,  1.03917496e+01,  2.25626157e+01,  2.47122581e+01,\n",
       "         1.52425169e+01,  1.52678559e+01,  9.65657846e-01,  5.03997317e+00,\n",
       "         5.18928187e+00,  1.75430104e+00,  1.47952529e+00,  1.05592629e+00,\n",
       "         1.48895315e+00,  1.46732027e+00,  6.86465625e-01,  6.47609080e-01,\n",
       "         8.44207278e-01,  1.97265724e+00,  6.52774061e-01,  6.60561262e-01,\n",
       "         2.59043632e-02,  6.86465625e-01,  1.01797652e-01, -1.01797652e-01,\n",
       "        -6.86465625e-01,  1.37447734e+00, -2.19713137e-12,  1.37293125e+00,\n",
       "        -6.86465625e-01, -1.09856568e-12, -6.86465625e-01,  1.55823485e-01,\n",
       "         5.30642140e-01,  6.86465625e-01,  6.86465625e-01,  3.11646971e-01,\n",
       "         3.74818654e-01,  6.86465625e-01,  9.56820238e-01,  5.44440873e+00,\n",
       "         1.22097982e+01,  1.11074284e+01,  2.57908608e+01,  1.53517894e+01,\n",
       "         3.24294751e+01,  2.95031758e+01,  3.25817826e+01,  3.83202725e+01,\n",
       "         4.42555376e+01,  3.53273544e+01,  5.83845770e+01])}"
      ]
     },
     "execution_count": 387,
     "metadata": {},
     "output_type": "execute_result"
    }
   ],
   "source": [
    "field_stats[mouse][day][ttype]"
   ]
  },
  {
   "cell_type": "markdown",
   "id": "ad4531ef-93a1-4000-b272-f862d0e06954",
   "metadata": {},
   "source": [
    "### analysis"
   ]
  },
  {
   "cell_type": "code",
   "execution_count": 309,
   "id": "1679ff1d-0bcd-4615-8eab-4f2b3fd9428b",
   "metadata": {},
   "outputs": [
    {
     "data": {
      "text/plain": [
       "dict_keys(['4467331.1', '4467331.2', '4467332.1', '4467332.2', '4467333.1', 'mCherry6', 'mCherry7', 'mCherry8', 'mCherry9', '4467975.1', '4467975.2', '4467975.3', '4467975.4', '4467975.5', 'Cre7', 'Cre9'])"
      ]
     },
     "execution_count": 309,
     "metadata": {},
     "output_type": "execute_result"
    }
   ],
   "source": [
    "shuff_results.keys()"
   ]
  },
  {
   "cell_type": "code",
   "execution_count": 327,
   "id": "84aa48d5-fbdc-4bb6-b39e-d1ec2346b2b8",
   "metadata": {},
   "outputs": [],
   "source": [
    "import pickle\n",
    "with open('C:/Users/esay/data/Stx3/downsample_behavior_v4/place_field_shuff_results.pkl','wb') as file:\n",
    "    pickle.dump(shuff_results,file)"
   ]
  },
  {
   "cell_type": "code",
   "execution_count": 388,
   "id": "324f66db-7c36-4de2-b53a-23aaf3f5061c",
   "metadata": {},
   "outputs": [],
   "source": [
    "with open('C:/Users/esay/data/Stx3/downsample_behavior_v4/field_stats.pkl','wb') as file:\n",
    "    pickle.dump(field_stats,file)"
   ]
  },
  {
   "cell_type": "code",
   "execution_count": 365,
   "id": "7fef59d1-3154-4f5f-a4f9-9db56e0e7b07",
   "metadata": {},
   "outputs": [],
   "source": [
    "with open('C:/Users/esay/data/Stx3/downsample_behavior_v4/field_stats.pkl','rb') as file:\n",
    "    field_stats = pickle.load(file)"
   ]
  },
  {
   "cell_type": "code",
   "execution_count": 312,
   "id": "bd4d78fb-4a86-43cf-99c9-16fad68872ca",
   "metadata": {},
   "outputs": [],
   "source": [
    "import pickle \n",
    "with open('C:/Users/esay/data/Stx3/downsample_behavior_v4/place_field_shuff_results.pkl','rb') as file:\n",
    "    shuff_results = pickle.load(file)"
   ]
  },
  {
   "cell_type": "code",
   "execution_count": 311,
   "id": "b686f53b-8b7c-4ba3-85df-a86b34bd3cdf",
   "metadata": {},
   "outputs": [],
   "source": [
    "def get_field_info(mouse, day, ttype):\n",
    "    if mouse in ctrl_mice:\n",
    "        cond = 'ctrl'\n",
    "    else:\n",
    "        cond = 'cre'\n",
    "        \n",
    "    try:\n",
    "        sess = u.load_single_day(mouse, day)\n",
    "        downsample_mask = sess.trial_matrices['downsample']\n",
    "    except FileNotFoundError:\n",
    "        print(f\"File not found for mouse {mouse}, day {day}. Skipping.\")\n",
    "        return None, None, None, None, None\n",
    "    except Exception as e:\n",
    "        print(f\"Error loading session for mouse {mouse}, day {day}: {e}\")\n",
    "        return None, None, None, None, None\n",
    "        \n",
    "    if ttype == 'fam':\n",
    "        trial_mask = (sess.trial_info['LR']==-1*sess.novel_arm) & downsample_mask # * (sess.trial_info['block_number']==5) \n",
    "    elif ttype == 'nov':\n",
    "        trial_mask = sess.trial_info['LR'] == sess.novel_arm & downsample_mask\n",
    "    else:\n",
    "        pass\n",
    "\n",
    "    # sess.add_pos_binned_trial_matrix('speed')\n",
    "    speed = np.nanmean(np.nanmean(sess.trial_matrices['speed'][trial_mask,:]))\n",
    "    trial_avg = np.nanmean(sess.trial_matrices['spks'][trial_mask, :, :],axis=0)\n",
    "    sig_bins = trial_avg>shuff_results[mouse][day][ttype]\n",
    "\n",
    "    # eliminate fields that start at first bin of track or end at last bin of track\n",
    "    field_info = []\n",
    "\n",
    "    ledges = np.argwhere(sig_bins[1:,:]>sig_bins[:-1,:])\n",
    "    for _ledge in ledges:\n",
    "\n",
    "        rem_trial = sig_bins[_ledge[0]:,_ledge[1]]\n",
    "        \n",
    "        _redge = np.argwhere(rem_trial[1:]<rem_trial[:-1])\n",
    "        if (_redge.shape[0]>0) and (_redge[0][0]>2) and (_redge[0][0]<15):\n",
    "            \n",
    "            place_field = sess.trial_matrices['spks'][trial_mask,  _ledge[0]:_ledge[0]+_redge[0][0], _ledge[1]]\n",
    "            \n",
    "            speed_field = sess.trial_matrices['speed'][trial_mask, _ledge[0]:_ledge[0]+_redge[0][0]]\n",
    "            \n",
    "            max_response = np.nanmax(place_field)\n",
    "            place_field_filt = np.copy(place_field)\n",
    "            place_field_filt[place_field<.2*max_response] = 0\n",
    "\n",
    "\n",
    "            place_field_bool = 1*(np.nansum(place_field_filt, axis=-1)>0)\n",
    "            place_field_bin_counts = sp.signal.convolve(place_field_bool,[1,1,1,1,1], mode='valid')\n",
    "\n",
    "\n",
    "\n",
    "            thresh_laps = np.zeros(place_field_bool.shape)\n",
    "            thresh_laps[:place_field_bin_counts.shape[0]] = 1*(place_field_bin_counts>=3)\n",
    "\n",
    "            thresh_active_laps = np.argwhere(thresh_laps*place_field_bool)\n",
    "\n",
    "            field_strength = np.nanmean(place_field,axis=-1)\n",
    "\n",
    "            if thresh_active_laps.shape[0]>0:\n",
    "\n",
    "\n",
    "                formation_lap = thresh_active_laps[0][0]\n",
    "                pcnt_trials_active = np.nanmean(place_field_bool[formation_lap:])\n",
    "                if pcnt_trials_active>.66:\n",
    "\n",
    "                    # cell, left edge, right edge, formation lap, formation lap speed, avg speed\n",
    "                    field_info.append([_ledge[1], _ledge[0], _redge[0][0], formation_lap, np.nanmean(speed_field[formation_lap,:]), np.nanmean(speed_field[formation_lap:,:])])\n",
    "                    \n",
    "                    \n",
    "    \n",
    "    com_mat = np.nan*np.zeros([trial_mask.sum(), len(field_info)])\n",
    "    maxact_mat = np.nan*np.zeros([trial_mask.sum(), len(field_info)])\n",
    "    fs_mat = np.nan*np.zeros([trial_mask.sum(), len(field_info)])\n",
    "    fwhm = np.nan*np.zeros([len(field_info)])\n",
    "    \n",
    "    # df = {'mouse': [], 'cond':[], 'day':[], 'com':[], 'trial':[], 'cell': [], 'speed':[], 'ttype':[]}\n",
    "    for c, (cell, l_edge, r_edge, formation_lap, _, _) in enumerate(field_info):\n",
    "        # print(cell, l_edge, r_edge, formation_lap)\n",
    "\n",
    "        place_field = sess.trial_matrices['spks'][trial_mask,  l_edge:l_edge+r_edge, cell]\n",
    "        \n",
    "        # pos = np.arange(place_field.shape[1])[np.newaxis,:]\n",
    "        # com = (pos*place_field).sum(axis=1)/(place_field.sum(axis=1)+1E-5)\n",
    "        # fig,ax = plt.subplots(1,2, sharey=True)\n",
    "#         # ax[0].imshow(place_field[formation_lap:,:])\n",
    "\n",
    "        com = []\n",
    "        # maxact = []\n",
    "        starts = sess.trial_start_inds[trial_mask]\n",
    "        stops = sess.teleport_inds[trial_mask]\n",
    "        for t, (start, stop) in enumerate(zip(starts[formation_lap:], stops[formation_lap:])):\n",
    "            \n",
    "            pos = sess.timeseries['t'][0,start:stop]\n",
    "            speed = sess.timeseries['speed'][0, start:stop]\n",
    "            spks = np.copy(sess.timeseries['spks'][cell,start:stop])\n",
    "            # spks[spks<.2*np.nanmax(sess.timeseries['spks'][cell,:])] = 0\n",
    "\n",
    "            mask = (pos>(l_edge + sess.trial_matrices['bin_edges'][0])) & (pos<(l_edge+r_edge + sess.trial_matrices['bin_edges'][0])) & (speed>2)\n",
    "            if mask.sum()>0:\n",
    "                pos = pos[mask]\n",
    "                spks = spks[mask]\n",
    "\n",
    "                com.append((pos*spks).sum()/(spks.sum()+1E-5))\n",
    "                # com.append(pos[np.argmax(spks)])\n",
    "                \n",
    "            else:\n",
    "                com.append(np.nan)\n",
    "                # maxact.append(np.nan)\n",
    "                \n",
    "            \n",
    "        com_mat[:len(com), c] = np.array(com)\n",
    "        # maxact_mat[:len(maxact),c] = np.array(maxact)\n",
    "        \n",
    "#         _com = np.nanmean(com[1:])\n",
    "        mu_field = np.nanmean(place_field[formation_lap:,:], axis=0)\n",
    "        field_max = np.amax(mu_field)\n",
    "        \n",
    "        cell_min = np.amin(np.nanmean(sess.trial_matrices['spks'][trial_mask,  :, cell][formation_lap:,:], axis=0))\n",
    "        \n",
    "        mu_field = (mu_field - cell_min)/(field_max - cell_min)\n",
    "        \n",
    "        l = 0\n",
    "        while mu_field[l]<.5:\n",
    "            l += 1\n",
    "        \n",
    "        \n",
    "        r = 1\n",
    "        while mu_field[-r]<.5:\n",
    "            r += 1\n",
    "        r -= 1\n",
    "            \n",
    "        fwhm[c] = r_edge -l - r\n",
    "\n",
    "\n",
    "    return field_info, com_mat, fs_mat, fwhm, speed #maxact_mat#, pd.DataFrame(df)"
   ]
  },
  {
   "cell_type": "code",
   "execution_count": 143,
   "id": "7960b4ef-9182-4190-812e-b4eb03f15f20",
   "metadata": {
    "scrolled": true,
    "tags": []
   },
   "outputs": [
    {
     "name": "stdout",
     "output_type": "stream",
     "text": [
      "{'date': '29_11_2020', 'scene': 'YMaze_LNovel', 'session': 1, 'scan': 3, 'novel_arm': -1, 'ravel_ind': 0}\n",
      "{'date': '29_11_2020', 'scene': 'YMaze_LNovel', 'session': 1, 'scan': 3, 'novel_arm': -1, 'ravel_ind': 0}\n",
      "{'date': '30_11_2020', 'scene': 'YMaze_LNovel', 'session': 1, 'scan': 7, 'novel_arm': -1, 'ravel_ind': 1}\n",
      "{'date': '30_11_2020', 'scene': 'YMaze_LNovel', 'session': 1, 'scan': 7, 'novel_arm': -1, 'ravel_ind': 1}\n",
      "{'date': '01_12_2020', 'scene': 'YMaze_LNovel', 'session': 1, 'scan': 4, 'novel_arm': -1, 'ravel_ind': 2}\n",
      "{'date': '01_12_2020', 'scene': 'YMaze_LNovel', 'session': 1, 'scan': 4, 'novel_arm': -1, 'ravel_ind': 2}\n",
      "{'date': '02_12_2020', 'scene': 'YMaze_LNovel', 'session': 1, 'scan': 3, 'novel_arm': -1, 'ravel_ind': 3}\n",
      "{'date': '02_12_2020', 'scene': 'YMaze_LNovel', 'session': 1, 'scan': 3, 'novel_arm': -1, 'ravel_ind': 3}\n",
      "{'date': '03_12_2020', 'scene': 'YMaze_LNovel', 'session': 1, 'scan': 8, 'novel_arm': -1, 'ravel_ind': 4}\n",
      "{'date': '03_12_2020', 'scene': 'YMaze_LNovel', 'session': 1, 'scan': 8, 'novel_arm': -1, 'ravel_ind': 4}\n",
      "{'date': '04_12_2020', 'scene': 'YMaze_LNovel', 'session': 1, 'scan': 2, 'novel_arm': -1, 'ravel_ind': 5}\n",
      "{'date': '04_12_2020', 'scene': 'YMaze_LNovel', 'session': 1, 'scan': 2, 'novel_arm': -1, 'ravel_ind': 5}\n",
      "{'date': '29_11_2020', 'scene': 'YMaze_LNovel', 'session': 1, 'scan': 4, 'novel_arm': 1, 'ravel_ind': 0}\n",
      "{'date': '29_11_2020', 'scene': 'YMaze_LNovel', 'session': 1, 'scan': 4, 'novel_arm': 1, 'ravel_ind': 0}\n"
     ]
    },
    {
     "name": "stderr",
     "output_type": "stream",
     "text": [
      "C:\\Users\\esay\\AppData\\Local\\Temp\\ipykernel_56008\\1385194187.py:27: RuntimeWarning: Mean of empty slice\n",
      "  speed = np.nanmean(np.nanmean(sess.trial_matrices['speed'][trial_mask,:]))\n",
      "C:\\Users\\esay\\AppData\\Local\\Temp\\ipykernel_56008\\1385194187.py:28: RuntimeWarning: Mean of empty slice\n",
      "  trial_avg = np.nanmean(sess.trial_matrices['spks'][trial_mask, :, :],axis=0)\n"
     ]
    },
    {
     "name": "stdout",
     "output_type": "stream",
     "text": [
      "{'date': '30_11_2020', 'scene': 'YMaze_LNovel', 'session': 1, 'scan': 4, 'novel_arm': 1, 'ravel_ind': 1}\n",
      "{'date': '30_11_2020', 'scene': 'YMaze_LNovel', 'session': 1, 'scan': 4, 'novel_arm': 1, 'ravel_ind': 1}\n"
     ]
    },
    {
     "name": "stderr",
     "output_type": "stream",
     "text": [
      "C:\\Users\\esay\\AppData\\Local\\Temp\\ipykernel_56008\\1385194187.py:27: RuntimeWarning: Mean of empty slice\n",
      "  speed = np.nanmean(np.nanmean(sess.trial_matrices['speed'][trial_mask,:]))\n",
      "C:\\Users\\esay\\AppData\\Local\\Temp\\ipykernel_56008\\1385194187.py:28: RuntimeWarning: Mean of empty slice\n",
      "  trial_avg = np.nanmean(sess.trial_matrices['spks'][trial_mask, :, :],axis=0)\n"
     ]
    },
    {
     "name": "stdout",
     "output_type": "stream",
     "text": [
      "{'date': '01_12_2020', 'scene': 'YMaze_LNovel', 'session': 1, 'scan': 4, 'novel_arm': 1, 'ravel_ind': 2}\n",
      "{'date': '01_12_2020', 'scene': 'YMaze_LNovel', 'session': 1, 'scan': 4, 'novel_arm': 1, 'ravel_ind': 2}\n",
      "Error loading session for mouse 4467331.2, day 2: could not broadcast input array from shape (4,) into shape (2,)\n",
      "({'date': '02_12_2020', 'scene': 'YMaze_LNovel', 'session': 1, 'scan': 6, 'novel_arm': 1, 'ravel_ind': 3}, {'date': '02_12_2020', 'scene': 'YMaze_LNovel', 'session': 2, 'scan': 12, 'novel_arm': 1, 'ravel_ind': 4})\n",
      "Error loading session for mouse 4467331.2, day 3: expected str, bytes or os.PathLike object, not NoneType\n",
      "({'date': '02_12_2020', 'scene': 'YMaze_LNovel', 'session': 1, 'scan': 6, 'novel_arm': 1, 'ravel_ind': 3}, {'date': '02_12_2020', 'scene': 'YMaze_LNovel', 'session': 2, 'scan': 12, 'novel_arm': 1, 'ravel_ind': 4})\n",
      "Error loading session for mouse 4467331.2, day 3: expected str, bytes or os.PathLike object, not NoneType\n",
      "{'date': '03_12_2020', 'scene': 'YMaze_LNovel', 'session': 1, 'scan': 3, 'novel_arm': 1, 'ravel_ind': 5}\n"
     ]
    },
    {
     "name": "stderr",
     "output_type": "stream",
     "text": [
      "C:\\Users\\esay\\AppData\\Local\\Temp\\ipykernel_56008\\1385194187.py:122: RuntimeWarning: Mean of empty slice\n",
      "  cell_min = np.amin(np.nanmean(sess.trial_matrices['spks'][trial_mask,  :, cell][formation_lap:,:], axis=0))\n"
     ]
    },
    {
     "name": "stdout",
     "output_type": "stream",
     "text": [
      "{'date': '03_12_2020', 'scene': 'YMaze_LNovel', 'session': 1, 'scan': 3, 'novel_arm': 1, 'ravel_ind': 5}\n",
      "{'date': '04_12_2020', 'scene': 'YMaze_LNovel', 'session': 1, 'scan': 3, 'novel_arm': 1, 'ravel_ind': 6}\n",
      "{'date': '04_12_2020', 'scene': 'YMaze_LNovel', 'session': 1, 'scan': 3, 'novel_arm': 1, 'ravel_ind': 6}\n",
      "Error loading session for mouse 4467331.2, day 5: could not broadcast input array from shape (4,) into shape (2,)\n",
      "{'date': '29_11_2020', 'scene': 'YMaze_LNovel', 'session': 1, 'scan': 8, 'novel_arm': -1, 'ravel_ind': 0}\n",
      "{'date': '29_11_2020', 'scene': 'YMaze_LNovel', 'session': 1, 'scan': 8, 'novel_arm': -1, 'ravel_ind': 0}\n",
      "{'date': '30_11_2020', 'scene': 'YMaze_LNovel', 'session': 1, 'scan': 4, 'novel_arm': -1, 'ravel_ind': 1}\n",
      "{'date': '30_11_2020', 'scene': 'YMaze_LNovel', 'session': 1, 'scan': 4, 'novel_arm': -1, 'ravel_ind': 1}\n",
      "{'date': '01_12_2020', 'scene': 'YMaze_LNovel', 'session': 1, 'scan': 5, 'novel_arm': -1, 'ravel_ind': 2}\n",
      "{'date': '01_12_2020', 'scene': 'YMaze_LNovel', 'session': 1, 'scan': 5, 'novel_arm': -1, 'ravel_ind': 2}\n",
      "{'date': '02_12_2020', 'scene': 'YMaze_LNovel', 'session': 1, 'scan': 6, 'novel_arm': -1, 'ravel_ind': 3}\n",
      "{'date': '02_12_2020', 'scene': 'YMaze_LNovel', 'session': 1, 'scan': 6, 'novel_arm': -1, 'ravel_ind': 3}\n",
      "{'date': '03_12_2020', 'scene': 'YMaze_LNovel', 'session': 1, 'scan': 3, 'novel_arm': -1, 'ravel_ind': 4}\n",
      "{'date': '03_12_2020', 'scene': 'YMaze_LNovel', 'session': 1, 'scan': 3, 'novel_arm': -1, 'ravel_ind': 4}\n",
      "{'date': '04_12_2020', 'scene': 'YMaze_LNovel', 'session': 1, 'scan': 2, 'novel_arm': -1, 'ravel_ind': 5}\n",
      "{'date': '04_12_2020', 'scene': 'YMaze_LNovel', 'session': 1, 'scan': 2, 'novel_arm': -1, 'ravel_ind': 5}\n",
      "{'date': '29_11_2020', 'scene': 'YMaze_LNovel', 'session': 2, 'scan': 18, 'novel_arm': 1, 'ravel_ind': 1}\n",
      "{'date': '29_11_2020', 'scene': 'YMaze_LNovel', 'session': 2, 'scan': 18, 'novel_arm': 1, 'ravel_ind': 1}\n",
      "({'date': '30_11_2020', 'scene': 'YMaze_LNovel', 'session': 1, 'scan': 4, 'novel_arm': 1, 'ravel_ind': 2}, {'date': '30_11_2020', 'scene': 'YMaze_LNovel', 'session': 3, 'scan': 9, 'novel_arm': 1, 'ravel_ind': 3})\n",
      "Error loading session for mouse 4467332.2, day 1: expected str, bytes or os.PathLike object, not NoneType\n",
      "({'date': '30_11_2020', 'scene': 'YMaze_LNovel', 'session': 1, 'scan': 4, 'novel_arm': 1, 'ravel_ind': 2}, {'date': '30_11_2020', 'scene': 'YMaze_LNovel', 'session': 3, 'scan': 9, 'novel_arm': 1, 'ravel_ind': 3})\n",
      "Error loading session for mouse 4467332.2, day 1: expected str, bytes or os.PathLike object, not NoneType\n",
      "{'date': '01_12_2020', 'scene': 'YMaze_LNovel', 'session': 1, 'scan': 4, 'novel_arm': 1, 'ravel_ind': 4}\n",
      "{'date': '01_12_2020', 'scene': 'YMaze_LNovel', 'session': 1, 'scan': 4, 'novel_arm': 1, 'ravel_ind': 4}\n",
      "{'date': '02_12_2020', 'scene': 'YMaze_LNovel', 'session': 1, 'scan': 4, 'novel_arm': 1, 'ravel_ind': 5}\n",
      "{'date': '02_12_2020', 'scene': 'YMaze_LNovel', 'session': 1, 'scan': 4, 'novel_arm': 1, 'ravel_ind': 5}\n",
      "{'date': '03_12_2020', 'scene': 'YMaze_LNovel', 'session': 1, 'scan': 3, 'novel_arm': 1, 'ravel_ind': 6}\n",
      "{'date': '03_12_2020', 'scene': 'YMaze_LNovel', 'session': 1, 'scan': 3, 'novel_arm': 1, 'ravel_ind': 6}\n",
      "{'date': '04_12_2020', 'scene': 'YMaze_LNovel', 'session': 1, 'scan': 3, 'novel_arm': 1, 'ravel_ind': 7}\n",
      "{'date': '04_12_2020', 'scene': 'YMaze_LNovel', 'session': 1, 'scan': 3, 'novel_arm': 1, 'ravel_ind': 7}\n",
      "{'date': '29_11_2020', 'scene': 'YMaze_LNovel', 'session': 1, 'scan': 4, 'novel_arm': -1, 'ravel_ind': 0}\n",
      "{'date': '29_11_2020', 'scene': 'YMaze_LNovel', 'session': 1, 'scan': 4, 'novel_arm': -1, 'ravel_ind': 0}\n",
      "{'date': '30_11_2020', 'scene': 'YMaze_LNovel', 'session': 1, 'scan': 6, 'novel_arm': -1, 'ravel_ind': 1}\n",
      "{'date': '30_11_2020', 'scene': 'YMaze_LNovel', 'session': 1, 'scan': 6, 'novel_arm': -1, 'ravel_ind': 1}\n",
      "{'date': '01_12_2020', 'scene': 'YMaze_LNovel', 'session': 1, 'scan': 4, 'novel_arm': -1, 'ravel_ind': 2}\n",
      "{'date': '01_12_2020', 'scene': 'YMaze_LNovel', 'session': 1, 'scan': 4, 'novel_arm': -1, 'ravel_ind': 2}\n",
      "{'date': '02_12_2020', 'scene': 'YMaze_LNovel', 'session': 1, 'scan': 4, 'novel_arm': -1, 'ravel_ind': 3}\n",
      "{'date': '02_12_2020', 'scene': 'YMaze_LNovel', 'session': 1, 'scan': 4, 'novel_arm': -1, 'ravel_ind': 3}\n",
      "{'date': '03_12_2020', 'scene': 'YMaze_LNovel', 'session': 2, 'scan': 4, 'novel_arm': -1, 'ravel_ind': 4}\n",
      "{'date': '03_12_2020', 'scene': 'YMaze_LNovel', 'session': 2, 'scan': 4, 'novel_arm': -1, 'ravel_ind': 4}\n",
      "{'date': '05_12_2020', 'scene': 'YMaze_LNovel', 'session': 1, 'scan': 2, 'novel_arm': -1, 'ravel_ind': 5}\n"
     ]
    },
    {
     "name": "stderr",
     "output_type": "stream",
     "text": [
      "c:\\users\\esay\\repos\\twoputils\\TwoPUtils\\sess.py:107: UserWarning: skipping checking keys, remaining initialization not guaranteed to work\n",
      "  warnings.warn(\"skipping checking keys, remaining initialization not guaranteed to work\")\n",
      "c:\\users\\esay\\repos\\twoputils\\TwoPUtils\\sess.py:239: UserWarning: Could not find sbxmat file at /media/mplitt/Backup Plus3/2P_Data/4467333.1/05_12_2020/YMaze_LNovel/YMaze_LNovel_001_002.mat\n",
      "  warnings.warn(\"Could not find sbxmat file at %s\" % self.scanheader_file)\n",
      "c:\\users\\esay\\repos\\twoputils\\TwoPUtils\\sess.py:248: UserWarning: Could not find sbx file at /media/mplitt/Backup Plus3/2P_Data/4467333.1/05_12_2020/YMaze_LNovel/YMaze_LNovel_001_002.sbx\n",
      "  warnings.warn(\"Could not find sbx file at %s\" % self.scan_file)\n"
     ]
    },
    {
     "name": "stdout",
     "output_type": "stream",
     "text": [
      "{'date': '05_12_2020', 'scene': 'YMaze_LNovel', 'session': 1, 'scan': 2, 'novel_arm': -1, 'ravel_ind': 5}\n"
     ]
    },
    {
     "name": "stderr",
     "output_type": "stream",
     "text": [
      "c:\\users\\esay\\repos\\twoputils\\TwoPUtils\\sess.py:107: UserWarning: skipping checking keys, remaining initialization not guaranteed to work\n",
      "  warnings.warn(\"skipping checking keys, remaining initialization not guaranteed to work\")\n",
      "c:\\users\\esay\\repos\\twoputils\\TwoPUtils\\sess.py:239: UserWarning: Could not find sbxmat file at /media/mplitt/Backup Plus3/2P_Data/4467333.1/05_12_2020/YMaze_LNovel/YMaze_LNovel_001_002.mat\n",
      "  warnings.warn(\"Could not find sbxmat file at %s\" % self.scanheader_file)\n",
      "c:\\users\\esay\\repos\\twoputils\\TwoPUtils\\sess.py:248: UserWarning: Could not find sbx file at /media/mplitt/Backup Plus3/2P_Data/4467333.1/05_12_2020/YMaze_LNovel/YMaze_LNovel_001_002.sbx\n",
      "  warnings.warn(\"Could not find sbx file at %s\" % self.scan_file)\n"
     ]
    },
    {
     "name": "stdout",
     "output_type": "stream",
     "text": [
      "{'date': '14_10_2021', 'scene': 'YMaze_LNovel', 'session': 1, 'scan': 3, 'novel_arm': 1, 'ravel_ind': 0}\n",
      "{'date': '14_10_2021', 'scene': 'YMaze_LNovel', 'session': 1, 'scan': 3, 'novel_arm': 1, 'ravel_ind': 0}\n",
      "{'date': '15_10_2021', 'scene': 'YMaze_LNovel', 'session': 1, 'scan': 3, 'novel_arm': 1, 'ravel_ind': 1}\n",
      "{'date': '15_10_2021', 'scene': 'YMaze_LNovel', 'session': 1, 'scan': 3, 'novel_arm': 1, 'ravel_ind': 1}\n",
      "{'date': '16_10_2021', 'scene': 'YMaze_LNovel', 'session': 1, 'scan': 2, 'novel_arm': 1, 'ravel_ind': 2}\n",
      "{'date': '16_10_2021', 'scene': 'YMaze_LNovel', 'session': 1, 'scan': 2, 'novel_arm': 1, 'ravel_ind': 2}\n",
      "{'date': '17_10_2021', 'scene': 'YMaze_LNovel', 'session': 1, 'scan': 2, 'novel_arm': 1, 'ravel_ind': 3}\n",
      "{'date': '17_10_2021', 'scene': 'YMaze_LNovel', 'session': 1, 'scan': 2, 'novel_arm': 1, 'ravel_ind': 3}\n"
     ]
    },
    {
     "name": "stderr",
     "output_type": "stream",
     "text": [
      "C:\\Users\\esay\\AppData\\Local\\Temp\\ipykernel_56008\\1385194187.py:27: RuntimeWarning: Mean of empty slice\n",
      "  speed = np.nanmean(np.nanmean(sess.trial_matrices['speed'][trial_mask,:]))\n",
      "C:\\Users\\esay\\AppData\\Local\\Temp\\ipykernel_56008\\1385194187.py:28: RuntimeWarning: Mean of empty slice\n",
      "  trial_avg = np.nanmean(sess.trial_matrices['spks'][trial_mask, :, :],axis=0)\n"
     ]
    },
    {
     "name": "stdout",
     "output_type": "stream",
     "text": [
      "{'date': '18_10_2021', 'scene': 'YMaze_LNovel', 'session': 1, 'scan': 1, 'novel_arm': 1, 'ravel_ind': 4}\n",
      "{'date': '18_10_2021', 'scene': 'YMaze_LNovel', 'session': 1, 'scan': 1, 'novel_arm': 1, 'ravel_ind': 4}\n",
      "{'date': '19_10_2021', 'scene': 'YMaze_LNovel', 'session': 1, 'scan': 5, 'novel_arm': 1, 'ravel_ind': 5}\n",
      "{'date': '19_10_2021', 'scene': 'YMaze_LNovel', 'session': 1, 'scan': 5, 'novel_arm': 1, 'ravel_ind': 5}\n",
      "{'date': '14_10_2021', 'scene': 'YMaze_LNovel', 'session': 1, 'scan': 2, 'novel_arm': -1, 'ravel_ind': 0}\n",
      "{'date': '14_10_2021', 'scene': 'YMaze_LNovel', 'session': 1, 'scan': 2, 'novel_arm': -1, 'ravel_ind': 0}\n",
      "{'date': '15_10_2021', 'scene': 'YMaze_LNovel', 'session': 1, 'scan': 2, 'novel_arm': -1, 'ravel_ind': 1}\n",
      "{'date': '15_10_2021', 'scene': 'YMaze_LNovel', 'session': 1, 'scan': 2, 'novel_arm': -1, 'ravel_ind': 1}\n",
      "{'date': '16_10_2021', 'scene': 'YMaze_LNovel', 'session': 1, 'scan': 3, 'novel_arm': -1, 'ravel_ind': 2}\n",
      "{'date': '16_10_2021', 'scene': 'YMaze_LNovel', 'session': 1, 'scan': 3, 'novel_arm': -1, 'ravel_ind': 2}\n",
      "{'date': '17_10_2021', 'scene': 'YMaze_LNovel', 'session': 1, 'scan': 2, 'novel_arm': -1, 'ravel_ind': 3}\n",
      "{'date': '17_10_2021', 'scene': 'YMaze_LNovel', 'session': 1, 'scan': 2, 'novel_arm': -1, 'ravel_ind': 3}\n",
      "{'date': '18_10_2021', 'scene': 'YMaze_LNovel', 'session': 1, 'scan': 2, 'novel_arm': -1, 'ravel_ind': 4}\n",
      "{'date': '18_10_2021', 'scene': 'YMaze_LNovel', 'session': 1, 'scan': 2, 'novel_arm': -1, 'ravel_ind': 4}\n",
      "{'date': '19_10_2021', 'scene': 'YMaze_LNovel', 'session': 1, 'scan': 2, 'novel_arm': -1, 'ravel_ind': 5}\n"
     ]
    },
    {
     "name": "stderr",
     "output_type": "stream",
     "text": [
      "C:\\Users\\esay\\AppData\\Local\\Temp\\ipykernel_56008\\1385194187.py:61: RuntimeWarning: Mean of empty slice\n",
      "  field_strength = np.nanmean(place_field,axis=-1)\n"
     ]
    },
    {
     "name": "stdout",
     "output_type": "stream",
     "text": [
      "{'date': '19_10_2021', 'scene': 'YMaze_LNovel', 'session': 1, 'scan': 2, 'novel_arm': -1, 'ravel_ind': 5}\n"
     ]
    },
    {
     "name": "stderr",
     "output_type": "stream",
     "text": [
      "C:\\Users\\esay\\AppData\\Local\\Temp\\ipykernel_56008\\1385194187.py:61: RuntimeWarning: Mean of empty slice\n",
      "  field_strength = np.nanmean(place_field,axis=-1)\n"
     ]
    },
    {
     "name": "stdout",
     "output_type": "stream",
     "text": [
      "{'date': '14_10_2021', 'scene': 'YMaze_LNovel', 'session': 1, 'scan': 3, 'novel_arm': 1, 'ravel_ind': 0}\n",
      "{'date': '14_10_2021', 'scene': 'YMaze_LNovel', 'session': 1, 'scan': 3, 'novel_arm': 1, 'ravel_ind': 0}\n",
      "{'date': '15_10_2021', 'scene': 'YMaze_LNovel', 'session': 1, 'scan': 3, 'novel_arm': 1, 'ravel_ind': 1}\n",
      "{'date': '15_10_2021', 'scene': 'YMaze_LNovel', 'session': 1, 'scan': 3, 'novel_arm': 1, 'ravel_ind': 1}\n",
      "{'date': '16_10_2021', 'scene': 'YMaze_LNovel', 'session': 1, 'scan': 2, 'novel_arm': 1, 'ravel_ind': 2}\n",
      "{'date': '16_10_2021', 'scene': 'YMaze_LNovel', 'session': 1, 'scan': 2, 'novel_arm': 1, 'ravel_ind': 2}\n",
      "{'date': '17_10_2021', 'scene': 'YMaze_LNovel', 'session': 1, 'scan': 3, 'novel_arm': 1, 'ravel_ind': 3}\n",
      "{'date': '17_10_2021', 'scene': 'YMaze_LNovel', 'session': 1, 'scan': 3, 'novel_arm': 1, 'ravel_ind': 3}\n"
     ]
    },
    {
     "name": "stderr",
     "output_type": "stream",
     "text": [
      "C:\\Users\\esay\\AppData\\Local\\Temp\\ipykernel_56008\\1385194187.py:27: RuntimeWarning: Mean of empty slice\n",
      "  speed = np.nanmean(np.nanmean(sess.trial_matrices['speed'][trial_mask,:]))\n",
      "C:\\Users\\esay\\AppData\\Local\\Temp\\ipykernel_56008\\1385194187.py:28: RuntimeWarning: Mean of empty slice\n",
      "  trial_avg = np.nanmean(sess.trial_matrices['spks'][trial_mask, :, :],axis=0)\n"
     ]
    },
    {
     "name": "stdout",
     "output_type": "stream",
     "text": [
      "{'date': '18_10_2021', 'scene': 'YMaze_LNovel', 'session': 1, 'scan': 2, 'novel_arm': 1, 'ravel_ind': 4}\n",
      "{'date': '18_10_2021', 'scene': 'YMaze_LNovel', 'session': 1, 'scan': 2, 'novel_arm': 1, 'ravel_ind': 4}\n"
     ]
    },
    {
     "name": "stderr",
     "output_type": "stream",
     "text": [
      "C:\\Users\\esay\\AppData\\Local\\Temp\\ipykernel_56008\\1385194187.py:27: RuntimeWarning: Mean of empty slice\n",
      "  speed = np.nanmean(np.nanmean(sess.trial_matrices['speed'][trial_mask,:]))\n",
      "C:\\Users\\esay\\AppData\\Local\\Temp\\ipykernel_56008\\1385194187.py:28: RuntimeWarning: Mean of empty slice\n",
      "  trial_avg = np.nanmean(sess.trial_matrices['spks'][trial_mask, :, :],axis=0)\n"
     ]
    },
    {
     "name": "stdout",
     "output_type": "stream",
     "text": [
      "{'date': '20_10_2021', 'scene': 'YMaze_LNovel', 'session': 1, 'scan': 2, 'novel_arm': 1, 'ravel_ind': 5}\n",
      "{'date': '20_10_2021', 'scene': 'YMaze_LNovel', 'session': 1, 'scan': 2, 'novel_arm': 1, 'ravel_ind': 5}\n",
      "{'date': '15_10_2021', 'scene': 'YMaze_LNovel', 'session': 1, 'scan': 3, 'novel_arm': -1, 'ravel_ind': 0}\n",
      "{'date': '15_10_2021', 'scene': 'YMaze_LNovel', 'session': 1, 'scan': 3, 'novel_arm': -1, 'ravel_ind': 0}\n",
      "{'date': '16_10_2021', 'scene': 'YMaze_LNovel', 'session': 1, 'scan': 3, 'novel_arm': -1, 'ravel_ind': 1}\n",
      "{'date': '16_10_2021', 'scene': 'YMaze_LNovel', 'session': 1, 'scan': 3, 'novel_arm': -1, 'ravel_ind': 1}\n",
      "{'date': '17_10_2021', 'scene': 'YMaze_LNovel', 'session': 1, 'scan': 2, 'novel_arm': -1, 'ravel_ind': 2}\n",
      "{'date': '17_10_2021', 'scene': 'YMaze_LNovel', 'session': 1, 'scan': 2, 'novel_arm': -1, 'ravel_ind': 2}\n",
      "{'date': '19_10_2021', 'scene': 'YMaze_LNovel', 'session': 1, 'scan': 3, 'novel_arm': -1, 'ravel_ind': 3}\n",
      "{'date': '19_10_2021', 'scene': 'YMaze_LNovel', 'session': 1, 'scan': 3, 'novel_arm': -1, 'ravel_ind': 3}\n",
      "{'date': '20_10_2021', 'scene': 'YMaze_LNovel', 'session': 1, 'scan': 3, 'novel_arm': -1, 'ravel_ind': 4}\n",
      "{'date': '20_10_2021', 'scene': 'YMaze_LNovel', 'session': 1, 'scan': 3, 'novel_arm': -1, 'ravel_ind': 4}\n",
      "{'date': '21_10_2021', 'scene': 'YMaze_LNovel', 'session': 1, 'scan': 2, 'novel_arm': -1, 'ravel_ind': 5}\n",
      "{'date': '21_10_2021', 'scene': 'YMaze_LNovel', 'session': 1, 'scan': 2, 'novel_arm': -1, 'ravel_ind': 5}\n",
      "{'date': '28_09_2020', 'scene': 'YMaze_LNovel', 'session': 6, 'scan': 14, 'novel_arm': -1, 'ravel_ind': 1}\n"
     ]
    },
    {
     "name": "stderr",
     "output_type": "stream",
     "text": [
      "c:\\users\\esay\\repos\\twoputils\\TwoPUtils\\sess.py:107: UserWarning: skipping checking keys, remaining initialization not guaranteed to work\n",
      "  warnings.warn(\"skipping checking keys, remaining initialization not guaranteed to work\")\n",
      "c:\\users\\esay\\repos\\twoputils\\TwoPUtils\\sess.py:239: UserWarning: Could not find sbxmat file at /mnt/BigDisk/2P_scratch/4467975.1/28_09_2020/YMaze_LNovel/YMaze_LNovel_006_014.mat\n",
      "  warnings.warn(\"Could not find sbxmat file at %s\" % self.scanheader_file)\n",
      "c:\\users\\esay\\repos\\twoputils\\TwoPUtils\\sess.py:248: UserWarning: Could not find sbx file at /mnt/BigDisk/2P_scratch/4467975.1/28_09_2020/YMaze_LNovel/YMaze_LNovel_006_014.sbx\n",
      "  warnings.warn(\"Could not find sbx file at %s\" % self.scan_file)\n"
     ]
    },
    {
     "name": "stdout",
     "output_type": "stream",
     "text": [
      "Error loading session for mouse 4467975.1, day 0: operands could not be broadcast together with shapes (124,) (144,) \n",
      "{'date': '28_09_2020', 'scene': 'YMaze_LNovel', 'session': 6, 'scan': 14, 'novel_arm': -1, 'ravel_ind': 1}\n"
     ]
    },
    {
     "name": "stderr",
     "output_type": "stream",
     "text": [
      "c:\\users\\esay\\repos\\twoputils\\TwoPUtils\\sess.py:107: UserWarning: skipping checking keys, remaining initialization not guaranteed to work\n",
      "  warnings.warn(\"skipping checking keys, remaining initialization not guaranteed to work\")\n",
      "c:\\users\\esay\\repos\\twoputils\\TwoPUtils\\sess.py:239: UserWarning: Could not find sbxmat file at /mnt/BigDisk/2P_scratch/4467975.1/28_09_2020/YMaze_LNovel/YMaze_LNovel_006_014.mat\n",
      "  warnings.warn(\"Could not find sbxmat file at %s\" % self.scanheader_file)\n",
      "c:\\users\\esay\\repos\\twoputils\\TwoPUtils\\sess.py:248: UserWarning: Could not find sbx file at /mnt/BigDisk/2P_scratch/4467975.1/28_09_2020/YMaze_LNovel/YMaze_LNovel_006_014.sbx\n",
      "  warnings.warn(\"Could not find sbx file at %s\" % self.scan_file)\n"
     ]
    },
    {
     "name": "stdout",
     "output_type": "stream",
     "text": [
      "Error loading session for mouse 4467975.1, day 0: operands could not be broadcast together with shapes (124,) (144,) \n",
      "{'date': '29_09_2020', 'scene': 'YMaze_LNovel', 'session': 1, 'scan': 3, 'novel_arm': -1, 'ravel_ind': 2}\n"
     ]
    },
    {
     "name": "stderr",
     "output_type": "stream",
     "text": [
      "c:\\users\\esay\\repos\\twoputils\\TwoPUtils\\sess.py:107: UserWarning: skipping checking keys, remaining initialization not guaranteed to work\n",
      "  warnings.warn(\"skipping checking keys, remaining initialization not guaranteed to work\")\n",
      "c:\\users\\esay\\repos\\twoputils\\TwoPUtils\\sess.py:239: UserWarning: Could not find sbxmat file at /mnt/BigDisk/2P_scratch/4467975.1/29_09_2020/YMaze_LNovel/YMaze_LNovel_001_003.mat\n",
      "  warnings.warn(\"Could not find sbxmat file at %s\" % self.scanheader_file)\n",
      "c:\\users\\esay\\repos\\twoputils\\TwoPUtils\\sess.py:248: UserWarning: Could not find sbx file at /mnt/BigDisk/2P_scratch/4467975.1/29_09_2020/YMaze_LNovel/YMaze_LNovel_001_003.sbx\n",
      "  warnings.warn(\"Could not find sbx file at %s\" % self.scan_file)\n"
     ]
    },
    {
     "name": "stdout",
     "output_type": "stream",
     "text": [
      "{'date': '29_09_2020', 'scene': 'YMaze_LNovel', 'session': 1, 'scan': 3, 'novel_arm': -1, 'ravel_ind': 2}\n"
     ]
    },
    {
     "name": "stderr",
     "output_type": "stream",
     "text": [
      "c:\\users\\esay\\repos\\twoputils\\TwoPUtils\\sess.py:107: UserWarning: skipping checking keys, remaining initialization not guaranteed to work\n",
      "  warnings.warn(\"skipping checking keys, remaining initialization not guaranteed to work\")\n",
      "c:\\users\\esay\\repos\\twoputils\\TwoPUtils\\sess.py:239: UserWarning: Could not find sbxmat file at /mnt/BigDisk/2P_scratch/4467975.1/29_09_2020/YMaze_LNovel/YMaze_LNovel_001_003.mat\n",
      "  warnings.warn(\"Could not find sbxmat file at %s\" % self.scanheader_file)\n",
      "c:\\users\\esay\\repos\\twoputils\\TwoPUtils\\sess.py:248: UserWarning: Could not find sbx file at /mnt/BigDisk/2P_scratch/4467975.1/29_09_2020/YMaze_LNovel/YMaze_LNovel_001_003.sbx\n",
      "  warnings.warn(\"Could not find sbx file at %s\" % self.scan_file)\n"
     ]
    },
    {
     "name": "stdout",
     "output_type": "stream",
     "text": [
      "{'date': '30_09_2020', 'scene': 'YMaze_LNovel', 'session': 1, 'scan': 4, 'novel_arm': -1, 'ravel_ind': 3}\n"
     ]
    },
    {
     "name": "stderr",
     "output_type": "stream",
     "text": [
      "c:\\users\\esay\\repos\\twoputils\\TwoPUtils\\sess.py:107: UserWarning: skipping checking keys, remaining initialization not guaranteed to work\n",
      "  warnings.warn(\"skipping checking keys, remaining initialization not guaranteed to work\")\n",
      "c:\\users\\esay\\repos\\twoputils\\TwoPUtils\\sess.py:239: UserWarning: Could not find sbxmat file at /mnt/BigDisk/2P_scratch/4467975.1/30_09_2020/YMaze_LNovel/YMaze_LNovel_001_004.mat\n",
      "  warnings.warn(\"Could not find sbxmat file at %s\" % self.scanheader_file)\n",
      "c:\\users\\esay\\repos\\twoputils\\TwoPUtils\\sess.py:248: UserWarning: Could not find sbx file at /mnt/BigDisk/2P_scratch/4467975.1/30_09_2020/YMaze_LNovel/YMaze_LNovel_001_004.sbx\n",
      "  warnings.warn(\"Could not find sbx file at %s\" % self.scan_file)\n"
     ]
    },
    {
     "name": "stdout",
     "output_type": "stream",
     "text": [
      "{'date': '30_09_2020', 'scene': 'YMaze_LNovel', 'session': 1, 'scan': 4, 'novel_arm': -1, 'ravel_ind': 3}\n"
     ]
    },
    {
     "name": "stderr",
     "output_type": "stream",
     "text": [
      "c:\\users\\esay\\repos\\twoputils\\TwoPUtils\\sess.py:107: UserWarning: skipping checking keys, remaining initialization not guaranteed to work\n",
      "  warnings.warn(\"skipping checking keys, remaining initialization not guaranteed to work\")\n",
      "c:\\users\\esay\\repos\\twoputils\\TwoPUtils\\sess.py:239: UserWarning: Could not find sbxmat file at /mnt/BigDisk/2P_scratch/4467975.1/30_09_2020/YMaze_LNovel/YMaze_LNovel_001_004.mat\n",
      "  warnings.warn(\"Could not find sbxmat file at %s\" % self.scanheader_file)\n",
      "c:\\users\\esay\\repos\\twoputils\\TwoPUtils\\sess.py:248: UserWarning: Could not find sbx file at /mnt/BigDisk/2P_scratch/4467975.1/30_09_2020/YMaze_LNovel/YMaze_LNovel_001_004.sbx\n",
      "  warnings.warn(\"Could not find sbx file at %s\" % self.scan_file)\n"
     ]
    },
    {
     "name": "stdout",
     "output_type": "stream",
     "text": [
      "{'date': '01_10_2020', 'scene': 'YMaze_LNovel', 'session': 1, 'scan': 2, 'novel_arm': -1, 'ravel_ind': 4}\n"
     ]
    },
    {
     "name": "stderr",
     "output_type": "stream",
     "text": [
      "c:\\users\\esay\\repos\\twoputils\\TwoPUtils\\sess.py:107: UserWarning: skipping checking keys, remaining initialization not guaranteed to work\n",
      "  warnings.warn(\"skipping checking keys, remaining initialization not guaranteed to work\")\n",
      "c:\\users\\esay\\repos\\twoputils\\TwoPUtils\\sess.py:239: UserWarning: Could not find sbxmat file at /mnt/BigDisk/2P_scratch/4467975.1/01_10_2020/YMaze_LNovel/YMaze_LNovel_001_002.mat\n",
      "  warnings.warn(\"Could not find sbxmat file at %s\" % self.scanheader_file)\n",
      "c:\\users\\esay\\repos\\twoputils\\TwoPUtils\\sess.py:248: UserWarning: Could not find sbx file at /mnt/BigDisk/2P_scratch/4467975.1/01_10_2020/YMaze_LNovel/YMaze_LNovel_001_002.sbx\n",
      "  warnings.warn(\"Could not find sbx file at %s\" % self.scan_file)\n"
     ]
    },
    {
     "name": "stdout",
     "output_type": "stream",
     "text": [
      "{'date': '01_10_2020', 'scene': 'YMaze_LNovel', 'session': 1, 'scan': 2, 'novel_arm': -1, 'ravel_ind': 4}\n"
     ]
    },
    {
     "name": "stderr",
     "output_type": "stream",
     "text": [
      "c:\\users\\esay\\repos\\twoputils\\TwoPUtils\\sess.py:107: UserWarning: skipping checking keys, remaining initialization not guaranteed to work\n",
      "  warnings.warn(\"skipping checking keys, remaining initialization not guaranteed to work\")\n",
      "c:\\users\\esay\\repos\\twoputils\\TwoPUtils\\sess.py:239: UserWarning: Could not find sbxmat file at /mnt/BigDisk/2P_scratch/4467975.1/01_10_2020/YMaze_LNovel/YMaze_LNovel_001_002.mat\n",
      "  warnings.warn(\"Could not find sbxmat file at %s\" % self.scanheader_file)\n",
      "c:\\users\\esay\\repos\\twoputils\\TwoPUtils\\sess.py:248: UserWarning: Could not find sbx file at /mnt/BigDisk/2P_scratch/4467975.1/01_10_2020/YMaze_LNovel/YMaze_LNovel_001_002.sbx\n",
      "  warnings.warn(\"Could not find sbx file at %s\" % self.scan_file)\n"
     ]
    },
    {
     "name": "stdout",
     "output_type": "stream",
     "text": [
      "{'date': '02_10_2020', 'scene': 'YMaze_LNovel', 'session': 1, 'scan': 3, 'novel_arm': -1, 'ravel_ind': 5}\n"
     ]
    },
    {
     "name": "stderr",
     "output_type": "stream",
     "text": [
      "c:\\users\\esay\\repos\\twoputils\\TwoPUtils\\sess.py:107: UserWarning: skipping checking keys, remaining initialization not guaranteed to work\n",
      "  warnings.warn(\"skipping checking keys, remaining initialization not guaranteed to work\")\n",
      "c:\\users\\esay\\repos\\twoputils\\TwoPUtils\\sess.py:239: UserWarning: Could not find sbxmat file at /mnt/BigDisk/2P_scratch/4467975.1/02_10_2020/YMaze_LNovel/YMaze_LNovel_001_003.mat\n",
      "  warnings.warn(\"Could not find sbxmat file at %s\" % self.scanheader_file)\n",
      "c:\\users\\esay\\repos\\twoputils\\TwoPUtils\\sess.py:248: UserWarning: Could not find sbx file at /mnt/BigDisk/2P_scratch/4467975.1/02_10_2020/YMaze_LNovel/YMaze_LNovel_001_003.sbx\n",
      "  warnings.warn(\"Could not find sbx file at %s\" % self.scan_file)\n"
     ]
    },
    {
     "name": "stdout",
     "output_type": "stream",
     "text": [
      "{'date': '02_10_2020', 'scene': 'YMaze_LNovel', 'session': 1, 'scan': 3, 'novel_arm': -1, 'ravel_ind': 5}\n"
     ]
    },
    {
     "name": "stderr",
     "output_type": "stream",
     "text": [
      "c:\\users\\esay\\repos\\twoputils\\TwoPUtils\\sess.py:107: UserWarning: skipping checking keys, remaining initialization not guaranteed to work\n",
      "  warnings.warn(\"skipping checking keys, remaining initialization not guaranteed to work\")\n",
      "c:\\users\\esay\\repos\\twoputils\\TwoPUtils\\sess.py:239: UserWarning: Could not find sbxmat file at /mnt/BigDisk/2P_scratch/4467975.1/02_10_2020/YMaze_LNovel/YMaze_LNovel_001_003.mat\n",
      "  warnings.warn(\"Could not find sbxmat file at %s\" % self.scanheader_file)\n",
      "c:\\users\\esay\\repos\\twoputils\\TwoPUtils\\sess.py:248: UserWarning: Could not find sbx file at /mnt/BigDisk/2P_scratch/4467975.1/02_10_2020/YMaze_LNovel/YMaze_LNovel_001_003.sbx\n",
      "  warnings.warn(\"Could not find sbx file at %s\" % self.scan_file)\n"
     ]
    },
    {
     "name": "stdout",
     "output_type": "stream",
     "text": [
      "{'date': '03_10_2020', 'scene': 'YMaze_LNovel', 'session': 1, 'scan': 3, 'novel_arm': -1, 'ravel_ind': 6}\n"
     ]
    },
    {
     "name": "stderr",
     "output_type": "stream",
     "text": [
      "c:\\users\\esay\\repos\\twoputils\\TwoPUtils\\sess.py:107: UserWarning: skipping checking keys, remaining initialization not guaranteed to work\n",
      "  warnings.warn(\"skipping checking keys, remaining initialization not guaranteed to work\")\n",
      "c:\\users\\esay\\repos\\twoputils\\TwoPUtils\\sess.py:239: UserWarning: Could not find sbxmat file at /mnt/BigDisk/2P_scratch/4467975.1/03_10_2020/YMaze_LNovel/YMaze_LNovel_001_003.mat\n",
      "  warnings.warn(\"Could not find sbxmat file at %s\" % self.scanheader_file)\n",
      "c:\\users\\esay\\repos\\twoputils\\TwoPUtils\\sess.py:248: UserWarning: Could not find sbx file at /mnt/BigDisk/2P_scratch/4467975.1/03_10_2020/YMaze_LNovel/YMaze_LNovel_001_003.sbx\n",
      "  warnings.warn(\"Could not find sbx file at %s\" % self.scan_file)\n"
     ]
    },
    {
     "name": "stdout",
     "output_type": "stream",
     "text": [
      "{'date': '03_10_2020', 'scene': 'YMaze_LNovel', 'session': 1, 'scan': 3, 'novel_arm': -1, 'ravel_ind': 6}\n"
     ]
    },
    {
     "name": "stderr",
     "output_type": "stream",
     "text": [
      "c:\\users\\esay\\repos\\twoputils\\TwoPUtils\\sess.py:107: UserWarning: skipping checking keys, remaining initialization not guaranteed to work\n",
      "  warnings.warn(\"skipping checking keys, remaining initialization not guaranteed to work\")\n",
      "c:\\users\\esay\\repos\\twoputils\\TwoPUtils\\sess.py:239: UserWarning: Could not find sbxmat file at /mnt/BigDisk/2P_scratch/4467975.1/03_10_2020/YMaze_LNovel/YMaze_LNovel_001_003.mat\n",
      "  warnings.warn(\"Could not find sbxmat file at %s\" % self.scanheader_file)\n",
      "c:\\users\\esay\\repos\\twoputils\\TwoPUtils\\sess.py:248: UserWarning: Could not find sbx file at /mnt/BigDisk/2P_scratch/4467975.1/03_10_2020/YMaze_LNovel/YMaze_LNovel_001_003.sbx\n",
      "  warnings.warn(\"Could not find sbx file at %s\" % self.scan_file)\n"
     ]
    },
    {
     "name": "stdout",
     "output_type": "stream",
     "text": [
      "{'date': '28_09_2020', 'scene': 'YMaze_LNovel', 'session': 3, 'scan': 8, 'novel_arm': 1, 'ravel_ind': 0}\n"
     ]
    },
    {
     "name": "stderr",
     "output_type": "stream",
     "text": [
      "c:\\users\\esay\\repos\\twoputils\\TwoPUtils\\sess.py:107: UserWarning: skipping checking keys, remaining initialization not guaranteed to work\n",
      "  warnings.warn(\"skipping checking keys, remaining initialization not guaranteed to work\")\n",
      "c:\\users\\esay\\repos\\twoputils\\TwoPUtils\\sess.py:239: UserWarning: Could not find sbxmat file at /mnt/BigDisk/2P_scratch/4467975.2/28_09_2020/YMaze_LNovel/YMaze_LNovel_003_008.mat\n",
      "  warnings.warn(\"Could not find sbxmat file at %s\" % self.scanheader_file)\n",
      "c:\\users\\esay\\repos\\twoputils\\TwoPUtils\\sess.py:248: UserWarning: Could not find sbx file at /mnt/BigDisk/2P_scratch/4467975.2/28_09_2020/YMaze_LNovel/YMaze_LNovel_003_008.sbx\n",
      "  warnings.warn(\"Could not find sbx file at %s\" % self.scan_file)\n"
     ]
    },
    {
     "name": "stdout",
     "output_type": "stream",
     "text": [
      "{'date': '28_09_2020', 'scene': 'YMaze_LNovel', 'session': 3, 'scan': 8, 'novel_arm': 1, 'ravel_ind': 0}\n"
     ]
    },
    {
     "name": "stderr",
     "output_type": "stream",
     "text": [
      "c:\\users\\esay\\repos\\twoputils\\TwoPUtils\\sess.py:107: UserWarning: skipping checking keys, remaining initialization not guaranteed to work\n",
      "  warnings.warn(\"skipping checking keys, remaining initialization not guaranteed to work\")\n",
      "c:\\users\\esay\\repos\\twoputils\\TwoPUtils\\sess.py:239: UserWarning: Could not find sbxmat file at /mnt/BigDisk/2P_scratch/4467975.2/28_09_2020/YMaze_LNovel/YMaze_LNovel_003_008.mat\n",
      "  warnings.warn(\"Could not find sbxmat file at %s\" % self.scanheader_file)\n",
      "c:\\users\\esay\\repos\\twoputils\\TwoPUtils\\sess.py:248: UserWarning: Could not find sbx file at /mnt/BigDisk/2P_scratch/4467975.2/28_09_2020/YMaze_LNovel/YMaze_LNovel_003_008.sbx\n",
      "  warnings.warn(\"Could not find sbx file at %s\" % self.scan_file)\n"
     ]
    },
    {
     "name": "stdout",
     "output_type": "stream",
     "text": [
      "{'date': '29_09_2020', 'scene': 'YMaze_LNovel', 'session': 1, 'scan': 3, 'novel_arm': 1, 'ravel_ind': 1}\n"
     ]
    },
    {
     "name": "stderr",
     "output_type": "stream",
     "text": [
      "c:\\users\\esay\\repos\\twoputils\\TwoPUtils\\sess.py:107: UserWarning: skipping checking keys, remaining initialization not guaranteed to work\n",
      "  warnings.warn(\"skipping checking keys, remaining initialization not guaranteed to work\")\n",
      "c:\\users\\esay\\repos\\twoputils\\TwoPUtils\\sess.py:239: UserWarning: Could not find sbxmat file at /mnt/BigDisk/2P_scratch/4467975.2/29_09_2020/YMaze_LNovel/YMaze_LNovel_001_003.mat\n",
      "  warnings.warn(\"Could not find sbxmat file at %s\" % self.scanheader_file)\n",
      "c:\\users\\esay\\repos\\twoputils\\TwoPUtils\\sess.py:248: UserWarning: Could not find sbx file at /mnt/BigDisk/2P_scratch/4467975.2/29_09_2020/YMaze_LNovel/YMaze_LNovel_001_003.sbx\n",
      "  warnings.warn(\"Could not find sbx file at %s\" % self.scan_file)\n"
     ]
    },
    {
     "name": "stdout",
     "output_type": "stream",
     "text": [
      "{'date': '29_09_2020', 'scene': 'YMaze_LNovel', 'session': 1, 'scan': 3, 'novel_arm': 1, 'ravel_ind': 1}\n"
     ]
    },
    {
     "name": "stderr",
     "output_type": "stream",
     "text": [
      "c:\\users\\esay\\repos\\twoputils\\TwoPUtils\\sess.py:107: UserWarning: skipping checking keys, remaining initialization not guaranteed to work\n",
      "  warnings.warn(\"skipping checking keys, remaining initialization not guaranteed to work\")\n",
      "c:\\users\\esay\\repos\\twoputils\\TwoPUtils\\sess.py:239: UserWarning: Could not find sbxmat file at /mnt/BigDisk/2P_scratch/4467975.2/29_09_2020/YMaze_LNovel/YMaze_LNovel_001_003.mat\n",
      "  warnings.warn(\"Could not find sbxmat file at %s\" % self.scanheader_file)\n",
      "c:\\users\\esay\\repos\\twoputils\\TwoPUtils\\sess.py:248: UserWarning: Could not find sbx file at /mnt/BigDisk/2P_scratch/4467975.2/29_09_2020/YMaze_LNovel/YMaze_LNovel_001_003.sbx\n",
      "  warnings.warn(\"Could not find sbx file at %s\" % self.scan_file)\n"
     ]
    },
    {
     "name": "stdout",
     "output_type": "stream",
     "text": [
      "{'date': '30_09_2020', 'scene': 'YMaze_LNovel', 'session': 1, 'scan': 4, 'novel_arm': 1, 'ravel_ind': 2}\n"
     ]
    },
    {
     "name": "stderr",
     "output_type": "stream",
     "text": [
      "c:\\users\\esay\\repos\\twoputils\\TwoPUtils\\sess.py:107: UserWarning: skipping checking keys, remaining initialization not guaranteed to work\n",
      "  warnings.warn(\"skipping checking keys, remaining initialization not guaranteed to work\")\n",
      "c:\\users\\esay\\repos\\twoputils\\TwoPUtils\\sess.py:239: UserWarning: Could not find sbxmat file at /mnt/BigDisk/2P_scratch/4467975.2/30_09_2020/YMaze_LNovel/YMaze_LNovel_001_004.mat\n",
      "  warnings.warn(\"Could not find sbxmat file at %s\" % self.scanheader_file)\n",
      "c:\\users\\esay\\repos\\twoputils\\TwoPUtils\\sess.py:248: UserWarning: Could not find sbx file at /mnt/BigDisk/2P_scratch/4467975.2/30_09_2020/YMaze_LNovel/YMaze_LNovel_001_004.sbx\n",
      "  warnings.warn(\"Could not find sbx file at %s\" % self.scan_file)\n"
     ]
    },
    {
     "name": "stdout",
     "output_type": "stream",
     "text": [
      "{'date': '30_09_2020', 'scene': 'YMaze_LNovel', 'session': 1, 'scan': 4, 'novel_arm': 1, 'ravel_ind': 2}\n"
     ]
    },
    {
     "name": "stderr",
     "output_type": "stream",
     "text": [
      "c:\\users\\esay\\repos\\twoputils\\TwoPUtils\\sess.py:107: UserWarning: skipping checking keys, remaining initialization not guaranteed to work\n",
      "  warnings.warn(\"skipping checking keys, remaining initialization not guaranteed to work\")\n",
      "c:\\users\\esay\\repos\\twoputils\\TwoPUtils\\sess.py:239: UserWarning: Could not find sbxmat file at /mnt/BigDisk/2P_scratch/4467975.2/30_09_2020/YMaze_LNovel/YMaze_LNovel_001_004.mat\n",
      "  warnings.warn(\"Could not find sbxmat file at %s\" % self.scanheader_file)\n",
      "c:\\users\\esay\\repos\\twoputils\\TwoPUtils\\sess.py:248: UserWarning: Could not find sbx file at /mnt/BigDisk/2P_scratch/4467975.2/30_09_2020/YMaze_LNovel/YMaze_LNovel_001_004.sbx\n",
      "  warnings.warn(\"Could not find sbx file at %s\" % self.scan_file)\n"
     ]
    },
    {
     "name": "stdout",
     "output_type": "stream",
     "text": [
      "{'date': '01_10_2020', 'scene': 'YMaze_LNovel', 'session': 1, 'scan': 4, 'novel_arm': 1, 'ravel_ind': 3}\n"
     ]
    },
    {
     "name": "stderr",
     "output_type": "stream",
     "text": [
      "c:\\users\\esay\\repos\\twoputils\\TwoPUtils\\sess.py:107: UserWarning: skipping checking keys, remaining initialization not guaranteed to work\n",
      "  warnings.warn(\"skipping checking keys, remaining initialization not guaranteed to work\")\n",
      "c:\\users\\esay\\repos\\twoputils\\TwoPUtils\\sess.py:239: UserWarning: Could not find sbxmat file at /mnt/BigDisk/2P_scratch/4467975.2/01_10_2020/YMaze_LNovel/YMaze_LNovel_001_004.mat\n",
      "  warnings.warn(\"Could not find sbxmat file at %s\" % self.scanheader_file)\n",
      "c:\\users\\esay\\repos\\twoputils\\TwoPUtils\\sess.py:248: UserWarning: Could not find sbx file at /mnt/BigDisk/2P_scratch/4467975.2/01_10_2020/YMaze_LNovel/YMaze_LNovel_001_004.sbx\n",
      "  warnings.warn(\"Could not find sbx file at %s\" % self.scan_file)\n"
     ]
    },
    {
     "name": "stdout",
     "output_type": "stream",
     "text": [
      "{'date': '01_10_2020', 'scene': 'YMaze_LNovel', 'session': 1, 'scan': 4, 'novel_arm': 1, 'ravel_ind': 3}\n"
     ]
    },
    {
     "name": "stderr",
     "output_type": "stream",
     "text": [
      "c:\\users\\esay\\repos\\twoputils\\TwoPUtils\\sess.py:107: UserWarning: skipping checking keys, remaining initialization not guaranteed to work\n",
      "  warnings.warn(\"skipping checking keys, remaining initialization not guaranteed to work\")\n",
      "c:\\users\\esay\\repos\\twoputils\\TwoPUtils\\sess.py:239: UserWarning: Could not find sbxmat file at /mnt/BigDisk/2P_scratch/4467975.2/01_10_2020/YMaze_LNovel/YMaze_LNovel_001_004.mat\n",
      "  warnings.warn(\"Could not find sbxmat file at %s\" % self.scanheader_file)\n",
      "c:\\users\\esay\\repos\\twoputils\\TwoPUtils\\sess.py:248: UserWarning: Could not find sbx file at /mnt/BigDisk/2P_scratch/4467975.2/01_10_2020/YMaze_LNovel/YMaze_LNovel_001_004.sbx\n",
      "  warnings.warn(\"Could not find sbx file at %s\" % self.scan_file)\n"
     ]
    },
    {
     "name": "stdout",
     "output_type": "stream",
     "text": [
      "Error loading session for mouse 4467975.2, day 3: could not broadcast input array from shape (4,) into shape (2,)\n",
      "{'date': '02_10_2020', 'scene': 'YMaze_LNovel', 'session': 1, 'scan': 9, 'novel_arm': 1, 'ravel_ind': 4}\n"
     ]
    },
    {
     "name": "stderr",
     "output_type": "stream",
     "text": [
      "c:\\users\\esay\\repos\\twoputils\\TwoPUtils\\sess.py:107: UserWarning: skipping checking keys, remaining initialization not guaranteed to work\n",
      "  warnings.warn(\"skipping checking keys, remaining initialization not guaranteed to work\")\n",
      "c:\\users\\esay\\repos\\twoputils\\TwoPUtils\\sess.py:239: UserWarning: Could not find sbxmat file at /mnt/BigDisk/2P_scratch/4467975.2/02_10_2020/YMaze_LNovel/YMaze_LNovel_001_009.mat\n",
      "  warnings.warn(\"Could not find sbxmat file at %s\" % self.scanheader_file)\n",
      "c:\\users\\esay\\repos\\twoputils\\TwoPUtils\\sess.py:248: UserWarning: Could not find sbx file at /mnt/BigDisk/2P_scratch/4467975.2/02_10_2020/YMaze_LNovel/YMaze_LNovel_001_009.sbx\n",
      "  warnings.warn(\"Could not find sbx file at %s\" % self.scan_file)\n"
     ]
    },
    {
     "name": "stdout",
     "output_type": "stream",
     "text": [
      "{'date': '02_10_2020', 'scene': 'YMaze_LNovel', 'session': 1, 'scan': 9, 'novel_arm': 1, 'ravel_ind': 4}\n"
     ]
    },
    {
     "name": "stderr",
     "output_type": "stream",
     "text": [
      "c:\\users\\esay\\repos\\twoputils\\TwoPUtils\\sess.py:107: UserWarning: skipping checking keys, remaining initialization not guaranteed to work\n",
      "  warnings.warn(\"skipping checking keys, remaining initialization not guaranteed to work\")\n",
      "c:\\users\\esay\\repos\\twoputils\\TwoPUtils\\sess.py:239: UserWarning: Could not find sbxmat file at /mnt/BigDisk/2P_scratch/4467975.2/02_10_2020/YMaze_LNovel/YMaze_LNovel_001_009.mat\n",
      "  warnings.warn(\"Could not find sbxmat file at %s\" % self.scanheader_file)\n",
      "c:\\users\\esay\\repos\\twoputils\\TwoPUtils\\sess.py:248: UserWarning: Could not find sbx file at /mnt/BigDisk/2P_scratch/4467975.2/02_10_2020/YMaze_LNovel/YMaze_LNovel_001_009.sbx\n",
      "  warnings.warn(\"Could not find sbx file at %s\" % self.scan_file)\n"
     ]
    },
    {
     "name": "stdout",
     "output_type": "stream",
     "text": [
      "{'date': '03_10_2020', 'scene': 'YMaze_LNovel', 'session': 1, 'scan': 8, 'novel_arm': 1, 'ravel_ind': 5}\n"
     ]
    },
    {
     "name": "stderr",
     "output_type": "stream",
     "text": [
      "c:\\users\\esay\\repos\\twoputils\\TwoPUtils\\sess.py:107: UserWarning: skipping checking keys, remaining initialization not guaranteed to work\n",
      "  warnings.warn(\"skipping checking keys, remaining initialization not guaranteed to work\")\n",
      "c:\\users\\esay\\repos\\twoputils\\TwoPUtils\\sess.py:239: UserWarning: Could not find sbxmat file at /mnt/BigDisk/2P_scratch/4467975.2/03_10_2020/YMaze_LNovel/YMaze_LNovel_001_008.mat\n",
      "  warnings.warn(\"Could not find sbxmat file at %s\" % self.scanheader_file)\n",
      "c:\\users\\esay\\repos\\twoputils\\TwoPUtils\\sess.py:248: UserWarning: Could not find sbx file at /mnt/BigDisk/2P_scratch/4467975.2/03_10_2020/YMaze_LNovel/YMaze_LNovel_001_008.sbx\n",
      "  warnings.warn(\"Could not find sbx file at %s\" % self.scan_file)\n"
     ]
    },
    {
     "name": "stdout",
     "output_type": "stream",
     "text": [
      "{'date': '03_10_2020', 'scene': 'YMaze_LNovel', 'session': 1, 'scan': 8, 'novel_arm': 1, 'ravel_ind': 5}\n"
     ]
    },
    {
     "name": "stderr",
     "output_type": "stream",
     "text": [
      "c:\\users\\esay\\repos\\twoputils\\TwoPUtils\\sess.py:107: UserWarning: skipping checking keys, remaining initialization not guaranteed to work\n",
      "  warnings.warn(\"skipping checking keys, remaining initialization not guaranteed to work\")\n",
      "c:\\users\\esay\\repos\\twoputils\\TwoPUtils\\sess.py:239: UserWarning: Could not find sbxmat file at /mnt/BigDisk/2P_scratch/4467975.2/03_10_2020/YMaze_LNovel/YMaze_LNovel_001_008.mat\n",
      "  warnings.warn(\"Could not find sbxmat file at %s\" % self.scanheader_file)\n",
      "c:\\users\\esay\\repos\\twoputils\\TwoPUtils\\sess.py:248: UserWarning: Could not find sbx file at /mnt/BigDisk/2P_scratch/4467975.2/03_10_2020/YMaze_LNovel/YMaze_LNovel_001_008.sbx\n",
      "  warnings.warn(\"Could not find sbx file at %s\" % self.scan_file)\n"
     ]
    },
    {
     "name": "stdout",
     "output_type": "stream",
     "text": [
      "{'date': '28_09_2020', 'scene': 'YMaze_LNovel', 'session': 1, 'scan': 4, 'novel_arm': -1, 'ravel_ind': 0}\n"
     ]
    },
    {
     "name": "stderr",
     "output_type": "stream",
     "text": [
      "c:\\users\\esay\\repos\\twoputils\\TwoPUtils\\sess.py:107: UserWarning: skipping checking keys, remaining initialization not guaranteed to work\n",
      "  warnings.warn(\"skipping checking keys, remaining initialization not guaranteed to work\")\n",
      "c:\\users\\esay\\repos\\twoputils\\TwoPUtils\\sess.py:239: UserWarning: Could not find sbxmat file at /mnt/BigDisk/2P_scratch/4467975.3/28_09_2020/YMaze_LNovel/YMaze_LNovel_001_004.mat\n",
      "  warnings.warn(\"Could not find sbxmat file at %s\" % self.scanheader_file)\n",
      "c:\\users\\esay\\repos\\twoputils\\TwoPUtils\\sess.py:248: UserWarning: Could not find sbx file at /mnt/BigDisk/2P_scratch/4467975.3/28_09_2020/YMaze_LNovel/YMaze_LNovel_001_004.sbx\n",
      "  warnings.warn(\"Could not find sbx file at %s\" % self.scan_file)\n"
     ]
    },
    {
     "name": "stdout",
     "output_type": "stream",
     "text": [
      "{'date': '28_09_2020', 'scene': 'YMaze_LNovel', 'session': 1, 'scan': 4, 'novel_arm': -1, 'ravel_ind': 0}\n"
     ]
    },
    {
     "name": "stderr",
     "output_type": "stream",
     "text": [
      "c:\\users\\esay\\repos\\twoputils\\TwoPUtils\\sess.py:107: UserWarning: skipping checking keys, remaining initialization not guaranteed to work\n",
      "  warnings.warn(\"skipping checking keys, remaining initialization not guaranteed to work\")\n",
      "c:\\users\\esay\\repos\\twoputils\\TwoPUtils\\sess.py:239: UserWarning: Could not find sbxmat file at /mnt/BigDisk/2P_scratch/4467975.3/28_09_2020/YMaze_LNovel/YMaze_LNovel_001_004.mat\n",
      "  warnings.warn(\"Could not find sbxmat file at %s\" % self.scanheader_file)\n",
      "c:\\users\\esay\\repos\\twoputils\\TwoPUtils\\sess.py:248: UserWarning: Could not find sbx file at /mnt/BigDisk/2P_scratch/4467975.3/28_09_2020/YMaze_LNovel/YMaze_LNovel_001_004.sbx\n",
      "  warnings.warn(\"Could not find sbx file at %s\" % self.scan_file)\n"
     ]
    },
    {
     "name": "stdout",
     "output_type": "stream",
     "text": [
      "{'date': '29_09_2020', 'scene': 'YMaze_LNovel', 'session': 1, 'scan': 4, 'novel_arm': -1, 'ravel_ind': 1}\n"
     ]
    },
    {
     "name": "stderr",
     "output_type": "stream",
     "text": [
      "c:\\users\\esay\\repos\\twoputils\\TwoPUtils\\sess.py:107: UserWarning: skipping checking keys, remaining initialization not guaranteed to work\n",
      "  warnings.warn(\"skipping checking keys, remaining initialization not guaranteed to work\")\n",
      "c:\\users\\esay\\repos\\twoputils\\TwoPUtils\\sess.py:239: UserWarning: Could not find sbxmat file at /mnt/BigDisk/2P_scratch/4467975.3/29_09_2020/YMaze_LNovel/YMaze_LNovel_001_004.mat\n",
      "  warnings.warn(\"Could not find sbxmat file at %s\" % self.scanheader_file)\n",
      "c:\\users\\esay\\repos\\twoputils\\TwoPUtils\\sess.py:248: UserWarning: Could not find sbx file at /mnt/BigDisk/2P_scratch/4467975.3/29_09_2020/YMaze_LNovel/YMaze_LNovel_001_004.sbx\n",
      "  warnings.warn(\"Could not find sbx file at %s\" % self.scan_file)\n"
     ]
    },
    {
     "name": "stdout",
     "output_type": "stream",
     "text": [
      "{'date': '29_09_2020', 'scene': 'YMaze_LNovel', 'session': 1, 'scan': 4, 'novel_arm': -1, 'ravel_ind': 1}\n"
     ]
    },
    {
     "name": "stderr",
     "output_type": "stream",
     "text": [
      "c:\\users\\esay\\repos\\twoputils\\TwoPUtils\\sess.py:107: UserWarning: skipping checking keys, remaining initialization not guaranteed to work\n",
      "  warnings.warn(\"skipping checking keys, remaining initialization not guaranteed to work\")\n",
      "c:\\users\\esay\\repos\\twoputils\\TwoPUtils\\sess.py:239: UserWarning: Could not find sbxmat file at /mnt/BigDisk/2P_scratch/4467975.3/29_09_2020/YMaze_LNovel/YMaze_LNovel_001_004.mat\n",
      "  warnings.warn(\"Could not find sbxmat file at %s\" % self.scanheader_file)\n",
      "c:\\users\\esay\\repos\\twoputils\\TwoPUtils\\sess.py:248: UserWarning: Could not find sbx file at /mnt/BigDisk/2P_scratch/4467975.3/29_09_2020/YMaze_LNovel/YMaze_LNovel_001_004.sbx\n",
      "  warnings.warn(\"Could not find sbx file at %s\" % self.scan_file)\n"
     ]
    },
    {
     "name": "stdout",
     "output_type": "stream",
     "text": [
      "{'date': '30_09_2020', 'scene': 'YMaze_LNovel', 'session': 2, 'scan': 7, 'novel_arm': -1, 'ravel_ind': 2}\n"
     ]
    },
    {
     "name": "stderr",
     "output_type": "stream",
     "text": [
      "c:\\users\\esay\\repos\\twoputils\\TwoPUtils\\sess.py:107: UserWarning: skipping checking keys, remaining initialization not guaranteed to work\n",
      "  warnings.warn(\"skipping checking keys, remaining initialization not guaranteed to work\")\n",
      "c:\\users\\esay\\repos\\twoputils\\TwoPUtils\\sess.py:239: UserWarning: Could not find sbxmat file at /mnt/BigDisk/2P_scratch/4467975.3/30_09_2020/YMaze_LNovel/YMaze_LNovel_002_007.mat\n",
      "  warnings.warn(\"Could not find sbxmat file at %s\" % self.scanheader_file)\n",
      "c:\\users\\esay\\repos\\twoputils\\TwoPUtils\\sess.py:248: UserWarning: Could not find sbx file at /mnt/BigDisk/2P_scratch/4467975.3/30_09_2020/YMaze_LNovel/YMaze_LNovel_002_007.sbx\n",
      "  warnings.warn(\"Could not find sbx file at %s\" % self.scan_file)\n"
     ]
    },
    {
     "name": "stdout",
     "output_type": "stream",
     "text": [
      "{'date': '30_09_2020', 'scene': 'YMaze_LNovel', 'session': 2, 'scan': 7, 'novel_arm': -1, 'ravel_ind': 2}\n"
     ]
    },
    {
     "name": "stderr",
     "output_type": "stream",
     "text": [
      "c:\\users\\esay\\repos\\twoputils\\TwoPUtils\\sess.py:107: UserWarning: skipping checking keys, remaining initialization not guaranteed to work\n",
      "  warnings.warn(\"skipping checking keys, remaining initialization not guaranteed to work\")\n",
      "c:\\users\\esay\\repos\\twoputils\\TwoPUtils\\sess.py:239: UserWarning: Could not find sbxmat file at /mnt/BigDisk/2P_scratch/4467975.3/30_09_2020/YMaze_LNovel/YMaze_LNovel_002_007.mat\n",
      "  warnings.warn(\"Could not find sbxmat file at %s\" % self.scanheader_file)\n",
      "c:\\users\\esay\\repos\\twoputils\\TwoPUtils\\sess.py:248: UserWarning: Could not find sbx file at /mnt/BigDisk/2P_scratch/4467975.3/30_09_2020/YMaze_LNovel/YMaze_LNovel_002_007.sbx\n",
      "  warnings.warn(\"Could not find sbx file at %s\" % self.scan_file)\n"
     ]
    },
    {
     "name": "stdout",
     "output_type": "stream",
     "text": [
      "{'date': '01_10_2020', 'scene': 'YMaze_LNovel', 'session': 1, 'scan': 7, 'novel_arm': -1, 'ravel_ind': 3}\n"
     ]
    },
    {
     "name": "stderr",
     "output_type": "stream",
     "text": [
      "c:\\users\\esay\\repos\\twoputils\\TwoPUtils\\sess.py:107: UserWarning: skipping checking keys, remaining initialization not guaranteed to work\n",
      "  warnings.warn(\"skipping checking keys, remaining initialization not guaranteed to work\")\n",
      "c:\\users\\esay\\repos\\twoputils\\TwoPUtils\\sess.py:239: UserWarning: Could not find sbxmat file at /mnt/BigDisk/2P_scratch/4467975.3/01_10_2020/YMaze_LNovel/YMaze_LNovel_001_007.mat\n",
      "  warnings.warn(\"Could not find sbxmat file at %s\" % self.scanheader_file)\n",
      "c:\\users\\esay\\repos\\twoputils\\TwoPUtils\\sess.py:248: UserWarning: Could not find sbx file at /mnt/BigDisk/2P_scratch/4467975.3/01_10_2020/YMaze_LNovel/YMaze_LNovel_001_007.sbx\n",
      "  warnings.warn(\"Could not find sbx file at %s\" % self.scan_file)\n"
     ]
    },
    {
     "name": "stdout",
     "output_type": "stream",
     "text": [
      "{'date': '01_10_2020', 'scene': 'YMaze_LNovel', 'session': 1, 'scan': 7, 'novel_arm': -1, 'ravel_ind': 3}\n"
     ]
    },
    {
     "name": "stderr",
     "output_type": "stream",
     "text": [
      "c:\\users\\esay\\repos\\twoputils\\TwoPUtils\\sess.py:107: UserWarning: skipping checking keys, remaining initialization not guaranteed to work\n",
      "  warnings.warn(\"skipping checking keys, remaining initialization not guaranteed to work\")\n",
      "c:\\users\\esay\\repos\\twoputils\\TwoPUtils\\sess.py:239: UserWarning: Could not find sbxmat file at /mnt/BigDisk/2P_scratch/4467975.3/01_10_2020/YMaze_LNovel/YMaze_LNovel_001_007.mat\n",
      "  warnings.warn(\"Could not find sbxmat file at %s\" % self.scanheader_file)\n",
      "c:\\users\\esay\\repos\\twoputils\\TwoPUtils\\sess.py:248: UserWarning: Could not find sbx file at /mnt/BigDisk/2P_scratch/4467975.3/01_10_2020/YMaze_LNovel/YMaze_LNovel_001_007.sbx\n",
      "  warnings.warn(\"Could not find sbx file at %s\" % self.scan_file)\n"
     ]
    },
    {
     "name": "stdout",
     "output_type": "stream",
     "text": [
      "{'date': '02_10_2020', 'scene': 'YMaze_LNovel', 'session': 1, 'scan': 3, 'novel_arm': -1, 'ravel_ind': 4}\n"
     ]
    },
    {
     "name": "stderr",
     "output_type": "stream",
     "text": [
      "c:\\users\\esay\\repos\\twoputils\\TwoPUtils\\sess.py:107: UserWarning: skipping checking keys, remaining initialization not guaranteed to work\n",
      "  warnings.warn(\"skipping checking keys, remaining initialization not guaranteed to work\")\n",
      "c:\\users\\esay\\repos\\twoputils\\TwoPUtils\\sess.py:239: UserWarning: Could not find sbxmat file at /mnt/BigDisk/2P_scratch/4467975.3/02_10_2020/YMaze_LNovel/YMaze_LNovel_001_003.mat\n",
      "  warnings.warn(\"Could not find sbxmat file at %s\" % self.scanheader_file)\n",
      "c:\\users\\esay\\repos\\twoputils\\TwoPUtils\\sess.py:248: UserWarning: Could not find sbx file at /mnt/BigDisk/2P_scratch/4467975.3/02_10_2020/YMaze_LNovel/YMaze_LNovel_001_003.sbx\n",
      "  warnings.warn(\"Could not find sbx file at %s\" % self.scan_file)\n"
     ]
    },
    {
     "name": "stdout",
     "output_type": "stream",
     "text": [
      "{'date': '02_10_2020', 'scene': 'YMaze_LNovel', 'session': 1, 'scan': 3, 'novel_arm': -1, 'ravel_ind': 4}\n"
     ]
    },
    {
     "name": "stderr",
     "output_type": "stream",
     "text": [
      "c:\\users\\esay\\repos\\twoputils\\TwoPUtils\\sess.py:107: UserWarning: skipping checking keys, remaining initialization not guaranteed to work\n",
      "  warnings.warn(\"skipping checking keys, remaining initialization not guaranteed to work\")\n",
      "c:\\users\\esay\\repos\\twoputils\\TwoPUtils\\sess.py:239: UserWarning: Could not find sbxmat file at /mnt/BigDisk/2P_scratch/4467975.3/02_10_2020/YMaze_LNovel/YMaze_LNovel_001_003.mat\n",
      "  warnings.warn(\"Could not find sbxmat file at %s\" % self.scanheader_file)\n",
      "c:\\users\\esay\\repos\\twoputils\\TwoPUtils\\sess.py:248: UserWarning: Could not find sbx file at /mnt/BigDisk/2P_scratch/4467975.3/02_10_2020/YMaze_LNovel/YMaze_LNovel_001_003.sbx\n",
      "  warnings.warn(\"Could not find sbx file at %s\" % self.scan_file)\n"
     ]
    },
    {
     "name": "stdout",
     "output_type": "stream",
     "text": [
      "{'date': '03_10_2020', 'scene': 'YMaze_LNovel', 'session': 1, 'scan': 6, 'novel_arm': -1, 'ravel_ind': 5}\n"
     ]
    },
    {
     "name": "stderr",
     "output_type": "stream",
     "text": [
      "c:\\users\\esay\\repos\\twoputils\\TwoPUtils\\sess.py:107: UserWarning: skipping checking keys, remaining initialization not guaranteed to work\n",
      "  warnings.warn(\"skipping checking keys, remaining initialization not guaranteed to work\")\n",
      "c:\\users\\esay\\repos\\twoputils\\TwoPUtils\\sess.py:239: UserWarning: Could not find sbxmat file at /mnt/BigDisk/2P_scratch/4467975.3/03_10_2020/YMaze_LNovel/YMaze_LNovel_001_006.mat\n",
      "  warnings.warn(\"Could not find sbxmat file at %s\" % self.scanheader_file)\n",
      "c:\\users\\esay\\repos\\twoputils\\TwoPUtils\\sess.py:248: UserWarning: Could not find sbx file at /mnt/BigDisk/2P_scratch/4467975.3/03_10_2020/YMaze_LNovel/YMaze_LNovel_001_006.sbx\n",
      "  warnings.warn(\"Could not find sbx file at %s\" % self.scan_file)\n"
     ]
    },
    {
     "name": "stdout",
     "output_type": "stream",
     "text": [
      "{'date': '03_10_2020', 'scene': 'YMaze_LNovel', 'session': 1, 'scan': 6, 'novel_arm': -1, 'ravel_ind': 5}\n"
     ]
    },
    {
     "name": "stderr",
     "output_type": "stream",
     "text": [
      "c:\\users\\esay\\repos\\twoputils\\TwoPUtils\\sess.py:107: UserWarning: skipping checking keys, remaining initialization not guaranteed to work\n",
      "  warnings.warn(\"skipping checking keys, remaining initialization not guaranteed to work\")\n",
      "c:\\users\\esay\\repos\\twoputils\\TwoPUtils\\sess.py:239: UserWarning: Could not find sbxmat file at /mnt/BigDisk/2P_scratch/4467975.3/03_10_2020/YMaze_LNovel/YMaze_LNovel_001_006.mat\n",
      "  warnings.warn(\"Could not find sbxmat file at %s\" % self.scanheader_file)\n",
      "c:\\users\\esay\\repos\\twoputils\\TwoPUtils\\sess.py:248: UserWarning: Could not find sbx file at /mnt/BigDisk/2P_scratch/4467975.3/03_10_2020/YMaze_LNovel/YMaze_LNovel_001_006.sbx\n",
      "  warnings.warn(\"Could not find sbx file at %s\" % self.scan_file)\n"
     ]
    },
    {
     "name": "stdout",
     "output_type": "stream",
     "text": [
      "{'date': '28_09_2020', 'scene': 'YMaze_LNovel', 'session': 1, 'scan': 5, 'novel_arm': 1, 'ravel_ind': 0}\n",
      "{'date': '28_09_2020', 'scene': 'YMaze_LNovel', 'session': 1, 'scan': 5, 'novel_arm': 1, 'ravel_ind': 0}\n",
      "{'date': '29_09_2020', 'scene': 'YMaze_LNovel', 'session': 1, 'scan': 3, 'novel_arm': 1, 'ravel_ind': 1}\n",
      "{'date': '29_09_2020', 'scene': 'YMaze_LNovel', 'session': 1, 'scan': 3, 'novel_arm': 1, 'ravel_ind': 1}\n",
      "{'date': '30_09_2020', 'scene': 'YMaze_LNovel', 'session': 1, 'scan': 3, 'novel_arm': 1, 'ravel_ind': 2}\n",
      "{'date': '30_09_2020', 'scene': 'YMaze_LNovel', 'session': 1, 'scan': 3, 'novel_arm': 1, 'ravel_ind': 2}\n",
      "{'date': '01_10_2020', 'scene': 'YMaze_LNovel', 'session': 1, 'scan': 2, 'novel_arm': 1, 'ravel_ind': 3}\n",
      "{'date': '01_10_2020', 'scene': 'YMaze_LNovel', 'session': 1, 'scan': 2, 'novel_arm': 1, 'ravel_ind': 3}\n",
      "{'date': '02_10_2020', 'scene': 'YMaze_LNovel', 'session': 1, 'scan': 4, 'novel_arm': 1, 'ravel_ind': 4}\n",
      "{'date': '02_10_2020', 'scene': 'YMaze_LNovel', 'session': 1, 'scan': 4, 'novel_arm': 1, 'ravel_ind': 4}\n",
      "{'date': '03_10_2020', 'scene': 'YMaze_LNovel', 'session': 1, 'scan': 4, 'novel_arm': 1, 'ravel_ind': 5}\n",
      "{'date': '03_10_2020', 'scene': 'YMaze_LNovel', 'session': 1, 'scan': 4, 'novel_arm': 1, 'ravel_ind': 5}\n",
      "{'date': '28_09_2020', 'scene': 'YMaze_LNovel', 'session': 1, 'scan': 4, 'novel_arm': -1, 'ravel_ind': 0}\n",
      "{'date': '28_09_2020', 'scene': 'YMaze_LNovel', 'session': 1, 'scan': 4, 'novel_arm': -1, 'ravel_ind': 0}\n",
      "{'date': '29_09_2020', 'scene': 'YMaze_LNovel', 'session': 1, 'scan': 3, 'novel_arm': -1, 'ravel_ind': 1}\n",
      "{'date': '29_09_2020', 'scene': 'YMaze_LNovel', 'session': 1, 'scan': 3, 'novel_arm': -1, 'ravel_ind': 1}\n",
      "{'date': '30_09_2020', 'scene': 'YMaze_LNovel', 'session': 1, 'scan': 5, 'novel_arm': -1, 'ravel_ind': 2}\n",
      "{'date': '30_09_2020', 'scene': 'YMaze_LNovel', 'session': 1, 'scan': 5, 'novel_arm': -1, 'ravel_ind': 2}\n",
      "{'date': '01_10_2020', 'scene': 'YMaze_LNovel', 'session': 1, 'scan': 7, 'novel_arm': -1, 'ravel_ind': 3}\n",
      "{'date': '01_10_2020', 'scene': 'YMaze_LNovel', 'session': 1, 'scan': 7, 'novel_arm': -1, 'ravel_ind': 3}\n",
      "{'date': '02_10_2020', 'scene': 'YMaze_LNovel', 'session': 1, 'scan': 3, 'novel_arm': -1, 'ravel_ind': 4}\n",
      "{'date': '02_10_2020', 'scene': 'YMaze_LNovel', 'session': 1, 'scan': 3, 'novel_arm': -1, 'ravel_ind': 4}\n",
      "{'date': '03_10_2020', 'scene': 'YMaze_LNovel', 'session': 1, 'scan': 5, 'novel_arm': -1, 'ravel_ind': 5}\n",
      "{'date': '03_10_2020', 'scene': 'YMaze_LNovel', 'session': 1, 'scan': 5, 'novel_arm': -1, 'ravel_ind': 5}\n",
      "{'date': '18_10_2021', 'scene': 'YMaze_LNovel', 'session': 1, 'scan': 3, 'novel_arm': -1, 'ravel_ind': 0}\n",
      "{'date': '18_10_2021', 'scene': 'YMaze_LNovel', 'session': 1, 'scan': 3, 'novel_arm': -1, 'ravel_ind': 0}\n",
      "{'date': '19_10_2021', 'scene': 'YMaze_LNovel', 'session': 1, 'scan': 2, 'novel_arm': -1, 'ravel_ind': 1}\n",
      "{'date': '19_10_2021', 'scene': 'YMaze_LNovel', 'session': 1, 'scan': 2, 'novel_arm': -1, 'ravel_ind': 1}\n",
      "{'date': '20_10_2021', 'scene': 'YMaze_LNovel', 'session': 1, 'scan': 1, 'novel_arm': -1, 'ravel_ind': 2}\n",
      "{'date': '20_10_2021', 'scene': 'YMaze_LNovel', 'session': 1, 'scan': 1, 'novel_arm': -1, 'ravel_ind': 2}\n",
      "{'date': '21_10_2021', 'scene': 'YMaze_LNovel', 'session': 1, 'scan': 2, 'novel_arm': -1, 'ravel_ind': 3}\n",
      "{'date': '21_10_2021', 'scene': 'YMaze_LNovel', 'session': 1, 'scan': 2, 'novel_arm': -1, 'ravel_ind': 3}\n",
      "{'date': '22_10_2021', 'scene': 'YMaze_LNovel', 'session': 1, 'scan': 3, 'novel_arm': -1, 'ravel_ind': 4}\n",
      "{'date': '22_10_2021', 'scene': 'YMaze_LNovel', 'session': 1, 'scan': 3, 'novel_arm': -1, 'ravel_ind': 4}\n",
      "{'date': '23_10_2021', 'scene': 'YMaze_LNovel', 'session': 1, 'scan': 2, 'novel_arm': -1, 'ravel_ind': 5}\n",
      "{'date': '23_10_2021', 'scene': 'YMaze_LNovel', 'session': 1, 'scan': 2, 'novel_arm': -1, 'ravel_ind': 5}\n",
      "{'date': '18_10_2021', 'scene': 'YMaze_LNovel', 'session': 1, 'scan': 2, 'novel_arm': 1, 'ravel_ind': 0}\n",
      "{'date': '18_10_2021', 'scene': 'YMaze_LNovel', 'session': 1, 'scan': 2, 'novel_arm': 1, 'ravel_ind': 0}\n",
      "{'date': '19_10_2021', 'scene': 'YMaze_LNovel', 'session': 1, 'scan': 2, 'novel_arm': 1, 'ravel_ind': 1}\n",
      "{'date': '19_10_2021', 'scene': 'YMaze_LNovel', 'session': 1, 'scan': 2, 'novel_arm': 1, 'ravel_ind': 1}\n"
     ]
    },
    {
     "name": "stderr",
     "output_type": "stream",
     "text": [
      "C:\\Users\\esay\\AppData\\Local\\Temp\\ipykernel_56008\\1385194187.py:27: RuntimeWarning: Mean of empty slice\n",
      "  speed = np.nanmean(np.nanmean(sess.trial_matrices['speed'][trial_mask,:]))\n",
      "C:\\Users\\esay\\AppData\\Local\\Temp\\ipykernel_56008\\1385194187.py:28: RuntimeWarning: Mean of empty slice\n",
      "  trial_avg = np.nanmean(sess.trial_matrices['spks'][trial_mask, :, :],axis=0)\n"
     ]
    },
    {
     "name": "stdout",
     "output_type": "stream",
     "text": [
      "{'date': '20_10_2021', 'scene': 'YMaze_LNovel', 'session': 1, 'scan': 4, 'novel_arm': 1, 'ravel_ind': 2}\n",
      "{'date': '20_10_2021', 'scene': 'YMaze_LNovel', 'session': 1, 'scan': 4, 'novel_arm': 1, 'ravel_ind': 2}\n",
      "Error loading session for mouse Cre9, day 2: could not broadcast input array from shape (5,) into shape (1,)\n",
      "{'date': '21_10_2021', 'scene': 'YMaze_LNovel', 'session': 1, 'scan': 2, 'novel_arm': 1, 'ravel_ind': 3}\n",
      "{'date': '21_10_2021', 'scene': 'YMaze_LNovel', 'session': 1, 'scan': 2, 'novel_arm': 1, 'ravel_ind': 3}\n",
      "Error loading session for mouse Cre9, day 3: could not broadcast input array from shape (4,) into shape (2,)\n",
      "{'date': '23_10_2021', 'scene': 'YMaze_LNovel', 'session': 1, 'scan': 2, 'novel_arm': 1, 'ravel_ind': 4}\n",
      "{'date': '23_10_2021', 'scene': 'YMaze_LNovel', 'session': 1, 'scan': 2, 'novel_arm': 1, 'ravel_ind': 4}\n",
      "Error loading session for mouse Cre9, day 4: could not broadcast input array from shape (4,) into shape (2,)\n",
      "{'date': '23_10_2021', 'scene': 'YMaze_LNovel', 'session': 2, 'scan': 2, 'novel_arm': 1, 'ravel_ind': 5}\n",
      "{'date': '23_10_2021', 'scene': 'YMaze_LNovel', 'session': 2, 'scan': 2, 'novel_arm': 1, 'ravel_ind': 5}\n"
     ]
    }
   ],
   "source": [
    "# shuff_results[ctrl_mice[0]][0]['fam']\n",
    "\n",
    "\n",
    "field_stats = {}\n",
    "df = []\n",
    "for mouse in (ctrl_mice+ko_mice):\n",
    "    # if mouse == \"4467975.2\" or \"4467975.1\":\n",
    "    #     continue\n",
    "    field_stats[mouse] = {}\n",
    "    for day in range(6):\n",
    "        field_stats[mouse][day]={}\n",
    "        for ttype in ('fam', 'nov'):\n",
    "\n",
    "            try:\n",
    "                field_stats[mouse][day][ttype]={}\n",
    "                \n",
    "                # field_info, com_mat, fs_mat, _df  = get_field_info(mouse, day, ttype)\n",
    "                field_info, com_mat, fs_mat, fwhm, speed  = get_field_info(mouse, day, ttype)\n",
    "                # df.append(_df)\n",
    "                field_stats[mouse][day][ttype]['field_info'] = field_info\n",
    "                field_stats[mouse][day][ttype]['com'] = com_mat\n",
    "                field_stats[mouse][day][ttype]['field_strength'] = fs_mat\n",
    "                # field_stats[mouse][day][ttype]['maxact'] = maxact_mat\n",
    "                field_stats[mouse][day][ttype]['fwhm'] = fwhm\n",
    "                field_stats[mouse][day][ttype]['speed'] = speed\n",
    "            except Exception as e:\n",
    "                print(f\"Error loading session for mouse {mouse}, day {day}: {e}\")\n",
    "                continue\n",
    "            \n",
    "# df = pd.DataFrame(df)"
   ]
  },
  {
   "cell_type": "code",
   "execution_count": 128,
   "id": "3305cb3b-ebee-4b72-8aab-5a29428a4044",
   "metadata": {
    "scrolled": true
   },
   "outputs": [
    {
     "name": "stdout",
     "output_type": "stream",
     "text": [
      "{'date': '29_11_2020', 'scene': 'YMaze_LNovel', 'session': 1, 'scan': 3, 'novel_arm': -1, 'ravel_ind': 0}\n",
      "Error loading session for mouse 4467331.1, day 0: 'left'\n",
      "{'date': '29_11_2020', 'scene': 'YMaze_LNovel', 'session': 1, 'scan': 3, 'novel_arm': -1, 'ravel_ind': 0}\n",
      "Error loading session for mouse 4467331.1, day 0: local variable 'trial_mask' referenced before assignment\n",
      "{'date': '30_11_2020', 'scene': 'YMaze_LNovel', 'session': 1, 'scan': 7, 'novel_arm': -1, 'ravel_ind': 1}\n",
      "Error loading session for mouse 4467331.1, day 1: 'left'\n",
      "{'date': '30_11_2020', 'scene': 'YMaze_LNovel', 'session': 1, 'scan': 7, 'novel_arm': -1, 'ravel_ind': 1}\n",
      "Error loading session for mouse 4467331.1, day 1: local variable 'trial_mask' referenced before assignment\n",
      "{'date': '01_12_2020', 'scene': 'YMaze_LNovel', 'session': 1, 'scan': 4, 'novel_arm': -1, 'ravel_ind': 2}\n"
     ]
    },
    {
     "ename": "KeyboardInterrupt",
     "evalue": "",
     "output_type": "error",
     "traceback": [
      "\u001b[1;31m---------------------------------------------------------------------------\u001b[0m",
      "\u001b[1;31mKeyboardInterrupt\u001b[0m                         Traceback (most recent call last)",
      "Cell \u001b[1;32mIn[128], line 13\u001b[0m\n\u001b[0;32m     10\u001b[0m field_stats[mouse][day][ttype]\u001b[38;5;241m=\u001b[39m{}\n\u001b[0;32m     11\u001b[0m \u001b[38;5;28;01mtry\u001b[39;00m:\n\u001b[0;32m     12\u001b[0m     \u001b[38;5;66;03m# field_info, com_mat, fs_mat, _df  = get_field_info(mouse, day, ttype)\u001b[39;00m\n\u001b[1;32m---> 13\u001b[0m     field_info, com_mat, fs_mat, fwhm, speed  \u001b[38;5;241m=\u001b[39m \u001b[43mget_field_info\u001b[49m\u001b[43m(\u001b[49m\u001b[43mmouse\u001b[49m\u001b[43m,\u001b[49m\u001b[43m \u001b[49m\u001b[43mday\u001b[49m\u001b[43m,\u001b[49m\u001b[43m \u001b[49m\u001b[43mttype\u001b[49m\u001b[43m)\u001b[49m\n\u001b[0;32m     14\u001b[0m     \u001b[38;5;66;03m# df.append(_df)\u001b[39;00m\n\u001b[0;32m     15\u001b[0m     field_stats[mouse][day][ttype][\u001b[38;5;124m'\u001b[39m\u001b[38;5;124mfield_info\u001b[39m\u001b[38;5;124m'\u001b[39m] \u001b[38;5;241m=\u001b[39m field_info\n",
      "Cell \u001b[1;32mIn[127], line 8\u001b[0m, in \u001b[0;36mget_field_info\u001b[1;34m(mouse, day, ttype)\u001b[0m\n\u001b[0;32m      5\u001b[0m     cond \u001b[38;5;241m=\u001b[39m \u001b[38;5;124m'\u001b[39m\u001b[38;5;124mcre\u001b[39m\u001b[38;5;124m'\u001b[39m\n\u001b[0;32m      7\u001b[0m \u001b[38;5;28;01mtry\u001b[39;00m:\n\u001b[1;32m----> 8\u001b[0m     sess \u001b[38;5;241m=\u001b[39m \u001b[43mu\u001b[49m\u001b[38;5;241;43m.\u001b[39;49m\u001b[43mload_single_day\u001b[49m\u001b[43m(\u001b[49m\u001b[43mmouse\u001b[49m\u001b[43m,\u001b[49m\u001b[43m \u001b[49m\u001b[43mday\u001b[49m\u001b[43m)\u001b[49m\n\u001b[0;32m      9\u001b[0m     downsample_mask \u001b[38;5;241m=\u001b[39m sess\u001b[38;5;241m.\u001b[39mtrial_matrices[\u001b[38;5;124m'\u001b[39m\u001b[38;5;124mdownsample\u001b[39m\u001b[38;5;124m'\u001b[39m]\n\u001b[0;32m     10\u001b[0m \u001b[38;5;28;01mexcept\u001b[39;00m \u001b[38;5;167;01mFileNotFoundError\u001b[39;00m:\n",
      "File \u001b[1;32mc:\\users\\esay\\repos\\stx3ko_analyses\\STX3KO_analyses\\utilities_ES.py:187\u001b[0m, in \u001b[0;36mload_single_day\u001b[1;34m(mouse, day, pkl_basedir, verbose)\u001b[0m\n\u001b[0;32m    185\u001b[0m         sess\u001b[38;5;241m.\u001b[39mtrial_info[\u001b[38;5;124m'\u001b[39m\u001b[38;5;124mblock_number\u001b[39m\u001b[38;5;124m'\u001b[39m][mask] \u001b[38;5;241m-\u001b[39m\u001b[38;5;241m=\u001b[39m \u001b[38;5;241m1\u001b[39m\n\u001b[0;32m    186\u001b[0m \u001b[38;5;28;01melse\u001b[39;00m:\n\u001b[1;32m--> 187\u001b[0m     sess \u001b[38;5;241m=\u001b[39m \u001b[43msession\u001b[49m\u001b[38;5;241;43m.\u001b[39;49m\u001b[43mYMazeSession\u001b[49m\u001b[38;5;241;43m.\u001b[39;49m\u001b[43mfrom_file\u001b[49m\u001b[43m(\u001b[49m\n\u001b[0;32m    188\u001b[0m \u001b[43m        \u001b[49m\u001b[43mos\u001b[49m\u001b[38;5;241;43m.\u001b[39;49m\u001b[43mpath\u001b[49m\u001b[38;5;241;43m.\u001b[39;49m\u001b[43mjoin\u001b[49m\u001b[43m(\u001b[49m\u001b[43mpkldir\u001b[49m\u001b[43m,\u001b[49m\u001b[43m \u001b[49m\u001b[43mdeets\u001b[49m\u001b[43m[\u001b[49m\u001b[38;5;124;43m'\u001b[39;49m\u001b[38;5;124;43mdate\u001b[39;49m\u001b[38;5;124;43m'\u001b[39;49m\u001b[43m]\u001b[49m\u001b[43m,\u001b[49m\u001b[43m \u001b[49m\u001b[38;5;124;43m\"\u001b[39;49m\u001b[38;5;132;43;01m%s\u001b[39;49;00m\u001b[38;5;124;43m_\u001b[39;49m\u001b[38;5;132;43;01m%d\u001b[39;49;00m\u001b[38;5;124;43m.pkl\u001b[39;49m\u001b[38;5;124;43m\"\u001b[39;49m\u001b[43m \u001b[49m\u001b[38;5;241;43m%\u001b[39;49m\u001b[43m \u001b[49m\u001b[43m(\u001b[49m\u001b[43mdeets\u001b[49m\u001b[43m[\u001b[49m\u001b[38;5;124;43m'\u001b[39;49m\u001b[38;5;124;43mscene\u001b[39;49m\u001b[38;5;124;43m'\u001b[39;49m\u001b[43m]\u001b[49m\u001b[43m,\u001b[49m\u001b[43m \u001b[49m\u001b[43mdeets\u001b[49m\u001b[43m[\u001b[49m\u001b[38;5;124;43m'\u001b[39;49m\u001b[38;5;124;43msession\u001b[39;49m\u001b[38;5;124;43m'\u001b[39;49m\u001b[43m]\u001b[49m\u001b[43m)\u001b[49m\u001b[43m)\u001b[49m\u001b[43m,\u001b[49m\n\u001b[0;32m    189\u001b[0m \u001b[43m        \u001b[49m\u001b[43mverbose\u001b[49m\u001b[38;5;241;43m=\u001b[39;49m\u001b[38;5;28;43;01mFalse\u001b[39;49;00m\u001b[43m,\u001b[49m\u001b[43m \u001b[49m\u001b[43mnovel_arm\u001b[49m\u001b[38;5;241;43m=\u001b[39;49m\u001b[43mdeets\u001b[49m\u001b[43m[\u001b[49m\u001b[38;5;124;43m'\u001b[39;49m\u001b[38;5;124;43mnovel_arm\u001b[39;49m\u001b[38;5;124;43m'\u001b[39;49m\u001b[43m]\u001b[49m\u001b[43m)\u001b[49m\n\u001b[0;32m    190\u001b[0m     sess\u001b[38;5;241m.\u001b[39madd_timeseries(licks\u001b[38;5;241m=\u001b[39msess\u001b[38;5;241m.\u001b[39mvr_data[\u001b[38;5;124m'\u001b[39m\u001b[38;5;124mlick\u001b[39m\u001b[38;5;124m'\u001b[39m]\u001b[38;5;241m.\u001b[39m_values)\n\u001b[0;32m    191\u001b[0m     sess\u001b[38;5;241m.\u001b[39madd_pos_binned_trial_matrix(\u001b[38;5;124m'\u001b[39m\u001b[38;5;124mlicks\u001b[39m\u001b[38;5;124m'\u001b[39m)\n",
      "File \u001b[1;32mc:\\users\\esay\\repos\\stx3ko_analyses\\STX3KO_analyses\\session.py:83\u001b[0m, in \u001b[0;36mYMazeSession.from_file\u001b[1;34m(cls, filename, **kwargs)\u001b[0m\n\u001b[0;32m     76\u001b[0m \u001b[38;5;250m\u001b[39m\u001b[38;5;124;03m'''\u001b[39;00m\n\u001b[0;32m     77\u001b[0m \u001b[38;5;124;03minitialize class from previous instance\u001b[39;00m\n\u001b[0;32m     78\u001b[0m \n\u001b[0;32m     79\u001b[0m \u001b[38;5;124;03m:param filename:\u001b[39;00m\n\u001b[0;32m     80\u001b[0m \u001b[38;5;124;03m:return:\u001b[39;00m\n\u001b[0;32m     81\u001b[0m \u001b[38;5;124;03m'''\u001b[39;00m\n\u001b[0;32m     82\u001b[0m \u001b[38;5;28;01mwith\u001b[39;00m \u001b[38;5;28mopen\u001b[39m(filename, \u001b[38;5;124m'\u001b[39m\u001b[38;5;124mrb\u001b[39m\u001b[38;5;124m'\u001b[39m) \u001b[38;5;28;01mas\u001b[39;00m file:\n\u001b[1;32m---> 83\u001b[0m     \u001b[38;5;28;01mreturn\u001b[39;00m \u001b[38;5;28mcls\u001b[39m(prev_sess\u001b[38;5;241m=\u001b[39m\u001b[43mdill\u001b[49m\u001b[38;5;241;43m.\u001b[39;49m\u001b[43mload\u001b[49m\u001b[43m(\u001b[49m\u001b[43mfile\u001b[49m\u001b[43m)\u001b[49m, \u001b[38;5;241m*\u001b[39m\u001b[38;5;241m*\u001b[39mkwargs)\n",
      "File \u001b[1;32m~\\.conda\\envs\\s2p_analysis\\lib\\site-packages\\dill\\_dill.py:297\u001b[0m, in \u001b[0;36mload\u001b[1;34m(file, ignore, **kwds)\u001b[0m\n\u001b[0;32m    291\u001b[0m \u001b[38;5;28;01mdef\u001b[39;00m \u001b[38;5;21mload\u001b[39m(file, ignore\u001b[38;5;241m=\u001b[39m\u001b[38;5;28;01mNone\u001b[39;00m, \u001b[38;5;241m*\u001b[39m\u001b[38;5;241m*\u001b[39mkwds):\n\u001b[0;32m    292\u001b[0m \u001b[38;5;250m    \u001b[39m\u001b[38;5;124;03m\"\"\"\u001b[39;00m\n\u001b[0;32m    293\u001b[0m \u001b[38;5;124;03m    Unpickle an object from a file.\u001b[39;00m\n\u001b[0;32m    294\u001b[0m \n\u001b[0;32m    295\u001b[0m \u001b[38;5;124;03m    See :func:`loads` for keyword arguments.\u001b[39;00m\n\u001b[0;32m    296\u001b[0m \u001b[38;5;124;03m    \"\"\"\u001b[39;00m\n\u001b[1;32m--> 297\u001b[0m     \u001b[38;5;28;01mreturn\u001b[39;00m \u001b[43mUnpickler\u001b[49m\u001b[43m(\u001b[49m\u001b[43mfile\u001b[49m\u001b[43m,\u001b[49m\u001b[43m \u001b[49m\u001b[43mignore\u001b[49m\u001b[38;5;241;43m=\u001b[39;49m\u001b[43mignore\u001b[49m\u001b[43m,\u001b[49m\u001b[43m \u001b[49m\u001b[38;5;241;43m*\u001b[39;49m\u001b[38;5;241;43m*\u001b[39;49m\u001b[43mkwds\u001b[49m\u001b[43m)\u001b[49m\u001b[38;5;241;43m.\u001b[39;49m\u001b[43mload\u001b[49m\u001b[43m(\u001b[49m\u001b[43m)\u001b[49m\n",
      "File \u001b[1;32m~\\.conda\\envs\\s2p_analysis\\lib\\site-packages\\dill\\_dill.py:452\u001b[0m, in \u001b[0;36mUnpickler.load\u001b[1;34m(self)\u001b[0m\n\u001b[0;32m    451\u001b[0m \u001b[38;5;28;01mdef\u001b[39;00m \u001b[38;5;21mload\u001b[39m(\u001b[38;5;28mself\u001b[39m): \u001b[38;5;66;03m#NOTE: if settings change, need to update attributes\u001b[39;00m\n\u001b[1;32m--> 452\u001b[0m     obj \u001b[38;5;241m=\u001b[39m \u001b[43mStockUnpickler\u001b[49m\u001b[38;5;241;43m.\u001b[39;49m\u001b[43mload\u001b[49m\u001b[43m(\u001b[49m\u001b[38;5;28;43mself\u001b[39;49m\u001b[43m)\u001b[49m\n\u001b[0;32m    453\u001b[0m     \u001b[38;5;28;01mif\u001b[39;00m \u001b[38;5;28mtype\u001b[39m(obj)\u001b[38;5;241m.\u001b[39m\u001b[38;5;18m__module__\u001b[39m \u001b[38;5;241m==\u001b[39m \u001b[38;5;28mgetattr\u001b[39m(_main_module, \u001b[38;5;124m'\u001b[39m\u001b[38;5;124m__name__\u001b[39m\u001b[38;5;124m'\u001b[39m, \u001b[38;5;124m'\u001b[39m\u001b[38;5;124m__main__\u001b[39m\u001b[38;5;124m'\u001b[39m):\n\u001b[0;32m    454\u001b[0m         \u001b[38;5;28;01mif\u001b[39;00m \u001b[38;5;129;01mnot\u001b[39;00m \u001b[38;5;28mself\u001b[39m\u001b[38;5;241m.\u001b[39m_ignore:\n\u001b[0;32m    455\u001b[0m             \u001b[38;5;66;03m# point obj class to main\u001b[39;00m\n",
      "File \u001b[1;32m~\\.conda\\envs\\s2p_analysis\\lib\\site-packages\\dill\\_dill.py:964\u001b[0m, in \u001b[0;36m_create_array\u001b[1;34m(f, args, state, npdict)\u001b[0m\n\u001b[0;32m    961\u001b[0m \u001b[38;5;28;01mdef\u001b[39;00m \u001b[38;5;21m_eval_repr\u001b[39m(repr_str):\n\u001b[0;32m    962\u001b[0m     \u001b[38;5;28;01mreturn\u001b[39;00m \u001b[38;5;28meval\u001b[39m(repr_str)\n\u001b[1;32m--> 964\u001b[0m \u001b[38;5;28;01mdef\u001b[39;00m \u001b[38;5;21m_create_array\u001b[39m(f, args, state, npdict\u001b[38;5;241m=\u001b[39m\u001b[38;5;28;01mNone\u001b[39;00m):\n\u001b[0;32m    965\u001b[0m    \u001b[38;5;66;03m#array = numpy.core.multiarray._reconstruct(*args)\u001b[39;00m\n\u001b[0;32m    966\u001b[0m     array \u001b[38;5;241m=\u001b[39m f(\u001b[38;5;241m*\u001b[39margs)\n\u001b[0;32m    967\u001b[0m     array\u001b[38;5;241m.\u001b[39m__setstate__(state)\n",
      "\u001b[1;31mKeyboardInterrupt\u001b[0m: "
     ]
    }
   ],
   "source": [
    "field_stats = {}\n",
    "df = []\n",
    "for mouse in (ctrl_mice+ko_mice):\n",
    "    # if mouse == \"4467975.2\" or \"4467975.1\":\n",
    "    #     continue\n",
    "    field_stats[mouse] = {}\n",
    "    for day in range(6):\n",
    "        field_stats[mouse][day]={}\n",
    "        for ttype in ('left', 'right'):\n",
    "            field_stats[mouse][day][ttype]={}\n",
    "            try:\n",
    "                # field_info, com_mat, fs_mat, _df  = get_field_info(mouse, day, ttype)\n",
    "                field_info, com_mat, fs_mat, fwhm, speed  = get_field_info(mouse, day, ttype)\n",
    "                # df.append(_df)\n",
    "                field_stats[mouse][day][ttype]['field_info'] = field_info\n",
    "                field_stats[mouse][day][ttype]['com'] = com_mat\n",
    "                field_stats[mouse][day][ttype]['field_strength'] = fs_mat\n",
    "                # field_stats[mouse][day][ttype]['maxact'] = maxact_mat\n",
    "                field_stats[mouse][day][ttype]['fwhm'] = fwhm\n",
    "                field_stats[mouse][day][ttype]['speed'] = speed\n",
    "            except Exception as e:\n",
    "                print(f\"Error loading session for mouse {mouse}, day {day}: {e}\")\n",
    "                continue"
   ]
  },
  {
   "cell_type": "code",
   "execution_count": 146,
   "id": "a55ae6c0-20f8-4c20-b2f4-2b4b9a572bb4",
   "metadata": {
    "scrolled": true
   },
   "outputs": [
    {
     "name": "stdout",
     "output_type": "stream",
     "text": [
      "4467331.1 0\n",
      "4467331.1 1\n",
      "4467331.1 2\n",
      "4467331.1 3\n",
      "4467331.1 4\n",
      "4467331.1 5\n",
      "4467331.2 0\n",
      "Skipping mouse 4467331.2, day 0, type nov due to IndexError: too many indices for array: array is 1-dimensional, but 2 were indexed\n",
      "4467331.2 1\n",
      "Skipping mouse 4467331.2, day 1, type nov due to IndexError: too many indices for array: array is 1-dimensional, but 2 were indexed\n",
      "4467331.2 2\n",
      "Skipping mouse 4467331.2, day 2, type nov due to KeyError: 'field_info'\n",
      "4467331.2 3\n",
      "Skipping mouse 4467331.2, day 3, type fam due to IndexError: too many indices for array: array is 0-dimensional, but 2 were indexed\n",
      "Skipping mouse 4467331.2, day 3, type nov due to IndexError: too many indices for array: array is 0-dimensional, but 2 were indexed\n",
      "4467331.2 4\n",
      "4467331.2 5\n",
      "Skipping mouse 4467331.2, day 5, type nov due to KeyError: 'field_info'\n",
      "4467332.1 0\n",
      "4467332.1 1\n",
      "4467332.1 2\n",
      "4467332.1 3\n",
      "4467332.1 4\n",
      "Skipping mouse 4467332.1, day 4, type nov due to IndexError: too many indices for array: array is 1-dimensional, but 2 were indexed\n",
      "4467332.1 5\n",
      "4467332.2 0\n",
      "4467332.2 1\n",
      "Skipping mouse 4467332.2, day 1, type fam due to IndexError: too many indices for array: array is 0-dimensional, but 2 were indexed\n",
      "Skipping mouse 4467332.2, day 1, type nov due to IndexError: too many indices for array: array is 0-dimensional, but 2 were indexed\n",
      "4467332.2 2\n",
      "4467332.2 3\n",
      "4467332.2 4\n",
      "4467332.2 5\n",
      "4467333.1 0\n",
      "4467333.1 1\n",
      "4467333.1 2\n",
      "4467333.1 3\n",
      "4467333.1 4\n",
      "4467333.1 5\n",
      "mCherry6 0\n",
      "mCherry6 1\n",
      "mCherry6 2\n",
      "mCherry6 3\n",
      "Skipping mouse mCherry6, day 3, type nov due to IndexError: too many indices for array: array is 1-dimensional, but 2 were indexed\n",
      "mCherry6 4\n",
      "mCherry6 5\n",
      "mCherry7 0\n",
      "mCherry7 1\n",
      "mCherry7 2\n",
      "mCherry7 3\n",
      "mCherry7 4\n",
      "mCherry7 5\n",
      "mCherry8 0\n",
      "mCherry8 1\n",
      "mCherry8 2\n",
      "mCherry8 3\n",
      "Skipping mouse mCherry8, day 3, type nov due to IndexError: too many indices for array: array is 1-dimensional, but 2 were indexed\n",
      "mCherry8 4\n",
      "Skipping mouse mCherry8, day 4, type nov due to IndexError: too many indices for array: array is 1-dimensional, but 2 were indexed\n",
      "mCherry8 5\n",
      "mCherry9 0\n",
      "mCherry9 1\n",
      "mCherry9 2\n",
      "mCherry9 3\n",
      "mCherry9 4\n",
      "mCherry9 5\n",
      "4467975.1 0\n",
      "Skipping mouse 4467975.1, day 0, type fam due to KeyError: 'field_info'\n",
      "Skipping mouse 4467975.1, day 0, type nov due to KeyError: 'field_info'\n",
      "4467975.1 1\n",
      "4467975.1 2\n",
      "4467975.1 3\n",
      "4467975.1 4\n",
      "4467975.1 5\n",
      "4467975.2 0\n",
      "4467975.2 1\n",
      "4467975.2 2\n",
      "4467975.2 3\n",
      "Skipping mouse 4467975.2, day 3, type nov due to KeyError: 'field_info'\n",
      "4467975.2 4\n",
      "4467975.2 5\n",
      "4467975.3 0\n",
      "4467975.3 1\n",
      "4467975.3 2\n",
      "4467975.3 3\n",
      "4467975.3 4\n",
      "4467975.3 5\n",
      "4467975.4 0\n",
      "4467975.4 1\n",
      "4467975.4 2\n",
      "4467975.4 3\n",
      "4467975.4 4\n",
      "4467975.4 5\n",
      "4467975.5 0\n",
      "Skipping mouse 4467975.5, day 0, type nov due to IndexError: too many indices for array: array is 1-dimensional, but 2 were indexed\n",
      "4467975.5 1\n",
      "4467975.5 2\n",
      "4467975.5 3\n",
      "4467975.5 4\n",
      "4467975.5 5\n",
      "Cre7 0\n",
      "Cre7 1\n",
      "Cre7 2\n",
      "Cre7 3\n",
      "Cre7 4\n",
      "Cre7 5\n",
      "Cre9 0\n",
      "Cre9 1\n",
      "Skipping mouse Cre9, day 1, type nov due to IndexError: too many indices for array: array is 1-dimensional, but 2 were indexed\n",
      "Cre9 2\n",
      "Skipping mouse Cre9, day 2, type nov due to KeyError: 'field_info'\n",
      "Cre9 3\n",
      "Skipping mouse Cre9, day 3, type nov due to KeyError: 'field_info'\n",
      "Cre9 4\n",
      "Skipping mouse Cre9, day 4, type nov due to KeyError: 'field_info'\n",
      "Cre9 5\n"
     ]
    },
    {
     "ename": "ValueError",
     "evalue": "All arrays must be of the same length",
     "output_type": "error",
     "traceback": [
      "\u001b[1;31m---------------------------------------------------------------------------\u001b[0m",
      "\u001b[1;31mValueError\u001b[0m                                Traceback (most recent call last)",
      "Cell \u001b[1;32mIn[146], line 44\u001b[0m\n\u001b[0;32m     41\u001b[0m                     \u001b[38;5;28mprint\u001b[39m(\u001b[38;5;124mf\u001b[39m\u001b[38;5;124m\"\u001b[39m\u001b[38;5;124mSkipping mouse \u001b[39m\u001b[38;5;132;01m{\u001b[39;00mmouse\u001b[38;5;132;01m}\u001b[39;00m\u001b[38;5;124m, day \u001b[39m\u001b[38;5;132;01m{\u001b[39;00mday\u001b[38;5;132;01m}\u001b[39;00m\u001b[38;5;124m, type \u001b[39m\u001b[38;5;132;01m{\u001b[39;00mttype\u001b[38;5;132;01m}\u001b[39;00m\u001b[38;5;124m due to KeyError: \u001b[39m\u001b[38;5;132;01m{\u001b[39;00mk\u001b[38;5;132;01m}\u001b[39;00m\u001b[38;5;124m\"\u001b[39m)\n\u001b[0;32m     42\u001b[0m                     \u001b[38;5;28;01mcontinue\u001b[39;00m\n\u001b[1;32m---> 44\u001b[0m df \u001b[38;5;241m=\u001b[39m \u001b[43mpd\u001b[49m\u001b[38;5;241;43m.\u001b[39;49m\u001b[43mDataFrame\u001b[49m\u001b[43m(\u001b[49m\u001b[43mdf\u001b[49m\u001b[43m)\u001b[49m\n",
      "File \u001b[1;32m~\\.conda\\envs\\s2p_analysis\\lib\\site-packages\\pandas\\core\\frame.py:664\u001b[0m, in \u001b[0;36mDataFrame.__init__\u001b[1;34m(self, data, index, columns, dtype, copy)\u001b[0m\n\u001b[0;32m    658\u001b[0m     mgr \u001b[38;5;241m=\u001b[39m \u001b[38;5;28mself\u001b[39m\u001b[38;5;241m.\u001b[39m_init_mgr(\n\u001b[0;32m    659\u001b[0m         data, axes\u001b[38;5;241m=\u001b[39m{\u001b[38;5;124m\"\u001b[39m\u001b[38;5;124mindex\u001b[39m\u001b[38;5;124m\"\u001b[39m: index, \u001b[38;5;124m\"\u001b[39m\u001b[38;5;124mcolumns\u001b[39m\u001b[38;5;124m\"\u001b[39m: columns}, dtype\u001b[38;5;241m=\u001b[39mdtype, copy\u001b[38;5;241m=\u001b[39mcopy\n\u001b[0;32m    660\u001b[0m     )\n\u001b[0;32m    662\u001b[0m \u001b[38;5;28;01melif\u001b[39;00m \u001b[38;5;28misinstance\u001b[39m(data, \u001b[38;5;28mdict\u001b[39m):\n\u001b[0;32m    663\u001b[0m     \u001b[38;5;66;03m# GH#38939 de facto copy defaults to False only in non-dict cases\u001b[39;00m\n\u001b[1;32m--> 664\u001b[0m     mgr \u001b[38;5;241m=\u001b[39m \u001b[43mdict_to_mgr\u001b[49m\u001b[43m(\u001b[49m\u001b[43mdata\u001b[49m\u001b[43m,\u001b[49m\u001b[43m \u001b[49m\u001b[43mindex\u001b[49m\u001b[43m,\u001b[49m\u001b[43m \u001b[49m\u001b[43mcolumns\u001b[49m\u001b[43m,\u001b[49m\u001b[43m \u001b[49m\u001b[43mdtype\u001b[49m\u001b[38;5;241;43m=\u001b[39;49m\u001b[43mdtype\u001b[49m\u001b[43m,\u001b[49m\u001b[43m \u001b[49m\u001b[43mcopy\u001b[49m\u001b[38;5;241;43m=\u001b[39;49m\u001b[43mcopy\u001b[49m\u001b[43m,\u001b[49m\u001b[43m \u001b[49m\u001b[43mtyp\u001b[49m\u001b[38;5;241;43m=\u001b[39;49m\u001b[43mmanager\u001b[49m\u001b[43m)\u001b[49m\n\u001b[0;32m    665\u001b[0m \u001b[38;5;28;01melif\u001b[39;00m \u001b[38;5;28misinstance\u001b[39m(data, ma\u001b[38;5;241m.\u001b[39mMaskedArray):\n\u001b[0;32m    666\u001b[0m     \u001b[38;5;28;01mimport\u001b[39;00m \u001b[38;5;21;01mnumpy\u001b[39;00m\u001b[38;5;21;01m.\u001b[39;00m\u001b[38;5;21;01mma\u001b[39;00m\u001b[38;5;21;01m.\u001b[39;00m\u001b[38;5;21;01mmrecords\u001b[39;00m \u001b[38;5;28;01mas\u001b[39;00m \u001b[38;5;21;01mmrecords\u001b[39;00m\n",
      "File \u001b[1;32m~\\.conda\\envs\\s2p_analysis\\lib\\site-packages\\pandas\\core\\internals\\construction.py:493\u001b[0m, in \u001b[0;36mdict_to_mgr\u001b[1;34m(data, index, columns, dtype, typ, copy)\u001b[0m\n\u001b[0;32m    489\u001b[0m     \u001b[38;5;28;01melse\u001b[39;00m:\n\u001b[0;32m    490\u001b[0m         \u001b[38;5;66;03m# dtype check to exclude e.g. range objects, scalars\u001b[39;00m\n\u001b[0;32m    491\u001b[0m         arrays \u001b[38;5;241m=\u001b[39m [x\u001b[38;5;241m.\u001b[39mcopy() \u001b[38;5;28;01mif\u001b[39;00m \u001b[38;5;28mhasattr\u001b[39m(x, \u001b[38;5;124m\"\u001b[39m\u001b[38;5;124mdtype\u001b[39m\u001b[38;5;124m\"\u001b[39m) \u001b[38;5;28;01melse\u001b[39;00m x \u001b[38;5;28;01mfor\u001b[39;00m x \u001b[38;5;129;01min\u001b[39;00m arrays]\n\u001b[1;32m--> 493\u001b[0m \u001b[38;5;28;01mreturn\u001b[39;00m \u001b[43marrays_to_mgr\u001b[49m\u001b[43m(\u001b[49m\u001b[43marrays\u001b[49m\u001b[43m,\u001b[49m\u001b[43m \u001b[49m\u001b[43mcolumns\u001b[49m\u001b[43m,\u001b[49m\u001b[43m \u001b[49m\u001b[43mindex\u001b[49m\u001b[43m,\u001b[49m\u001b[43m \u001b[49m\u001b[43mdtype\u001b[49m\u001b[38;5;241;43m=\u001b[39;49m\u001b[43mdtype\u001b[49m\u001b[43m,\u001b[49m\u001b[43m \u001b[49m\u001b[43mtyp\u001b[49m\u001b[38;5;241;43m=\u001b[39;49m\u001b[43mtyp\u001b[49m\u001b[43m,\u001b[49m\u001b[43m \u001b[49m\u001b[43mconsolidate\u001b[49m\u001b[38;5;241;43m=\u001b[39;49m\u001b[43mcopy\u001b[49m\u001b[43m)\u001b[49m\n",
      "File \u001b[1;32m~\\.conda\\envs\\s2p_analysis\\lib\\site-packages\\pandas\\core\\internals\\construction.py:118\u001b[0m, in \u001b[0;36marrays_to_mgr\u001b[1;34m(arrays, columns, index, dtype, verify_integrity, typ, consolidate)\u001b[0m\n\u001b[0;32m    115\u001b[0m \u001b[38;5;28;01mif\u001b[39;00m verify_integrity:\n\u001b[0;32m    116\u001b[0m     \u001b[38;5;66;03m# figure out the index, if necessary\u001b[39;00m\n\u001b[0;32m    117\u001b[0m     \u001b[38;5;28;01mif\u001b[39;00m index \u001b[38;5;129;01mis\u001b[39;00m \u001b[38;5;28;01mNone\u001b[39;00m:\n\u001b[1;32m--> 118\u001b[0m         index \u001b[38;5;241m=\u001b[39m \u001b[43m_extract_index\u001b[49m\u001b[43m(\u001b[49m\u001b[43marrays\u001b[49m\u001b[43m)\u001b[49m\n\u001b[0;32m    119\u001b[0m     \u001b[38;5;28;01melse\u001b[39;00m:\n\u001b[0;32m    120\u001b[0m         index \u001b[38;5;241m=\u001b[39m ensure_index(index)\n",
      "File \u001b[1;32m~\\.conda\\envs\\s2p_analysis\\lib\\site-packages\\pandas\\core\\internals\\construction.py:666\u001b[0m, in \u001b[0;36m_extract_index\u001b[1;34m(data)\u001b[0m\n\u001b[0;32m    664\u001b[0m lengths \u001b[38;5;241m=\u001b[39m \u001b[38;5;28mlist\u001b[39m(\u001b[38;5;28mset\u001b[39m(raw_lengths))\n\u001b[0;32m    665\u001b[0m \u001b[38;5;28;01mif\u001b[39;00m \u001b[38;5;28mlen\u001b[39m(lengths) \u001b[38;5;241m>\u001b[39m \u001b[38;5;241m1\u001b[39m:\n\u001b[1;32m--> 666\u001b[0m     \u001b[38;5;28;01mraise\u001b[39;00m \u001b[38;5;167;01mValueError\u001b[39;00m(\u001b[38;5;124m\"\u001b[39m\u001b[38;5;124mAll arrays must be of the same length\u001b[39m\u001b[38;5;124m\"\u001b[39m)\n\u001b[0;32m    668\u001b[0m \u001b[38;5;28;01mif\u001b[39;00m have_dicts:\n\u001b[0;32m    669\u001b[0m     \u001b[38;5;28;01mraise\u001b[39;00m \u001b[38;5;167;01mValueError\u001b[39;00m(\n\u001b[0;32m    670\u001b[0m         \u001b[38;5;124m\"\u001b[39m\u001b[38;5;124mMixing dicts with non-Series may lead to ambiguous ordering.\u001b[39m\u001b[38;5;124m\"\u001b[39m\n\u001b[0;32m    671\u001b[0m     )\n",
      "\u001b[1;31mValueError\u001b[0m: All arrays must be of the same length"
     ]
    }
   ],
   "source": [
    "df = {'mouse': [],\n",
    "      'cond': [],\n",
    "      'ttype': [],\n",
    "      'day': [],\n",
    "      'field_width': [],\n",
    "      'fwhm': [],\n",
    "      'n_fields': [],\n",
    "      'speed': []}\n",
    "      \n",
    "\n",
    "lw = 5\n",
    "s = 10\n",
    "\n",
    "for cond, mice in zip(('ctrl', 'cre'), (ctrl_mice,ko_mice)):\n",
    "    for mouse in mice:\n",
    "        for day in range(6):\n",
    "            print(mouse, day)\n",
    "            for ttype in ('fam', 'nov'):\n",
    "\n",
    "                try: \n",
    "                    df['mouse'].append(mouse)\n",
    "                    df['cond'].append(cond)\n",
    "                    df['ttype'].append(ttype)\n",
    "                    df['day'].append(day)\n",
    "    \n",
    "                    f_info = np.array(field_stats[mouse][day][ttype]['field_info'])\n",
    "    \n",
    "                    df['field_width'].append(f_info[:,2].mean())\n",
    "                    df['fwhm'].append(field_stats[mouse][day][ttype]['fwhm'].mean())\n",
    "                    \n",
    "                    \n",
    "                    \n",
    "                    cell_list = np.unique(f_info[:,0])\n",
    "                    df['n_fields'].append(np.array([np.count_nonzero(f_info[:,0]==cell) for cell in cell_list]).mean())\n",
    "                    df['speed'].append(field_stats[mouse][day][ttype]['speed'].mean())\n",
    "\n",
    "                except IndexError as e:\n",
    "                    print(f\"Skipping mouse {mouse}, day {day}, type {ttype} due to IndexError: {e}\")\n",
    "                    continue\n",
    "                except KeyError as k:\n",
    "                    print(f\"Skipping mouse {mouse}, day {day}, type {ttype} due to KeyError: {k}\")\n",
    "                    continue\n",
    "                \n",
    "df = pd.DataFrame(df)"
   ]
  },
  {
   "cell_type": "code",
   "execution_count": 156,
   "id": "70437cf4-47dd-4446-abc1-48e751d11260",
   "metadata": {
    "scrolled": true
   },
   "outputs": [
    {
     "data": {
      "text/plain": [
       "[]"
      ]
     },
     "execution_count": 156,
     "metadata": {},
     "output_type": "execute_result"
    }
   ],
   "source": [
    "mouse = '4467331.2'\n",
    "day = 0\n",
    "ttype = 'nov'\n",
    "field_stats[mouse][day][ttype]['field_info']"
   ]
  },
  {
   "cell_type": "code",
   "execution_count": 372,
   "id": "33ff5b12-28de-410d-b64a-5aa6372689e8",
   "metadata": {},
   "outputs": [
    {
     "data": {
      "text/plain": [
       "2"
      ]
     },
     "execution_count": 372,
     "metadata": {},
     "output_type": "execute_result"
    }
   ],
   "source": [
    "field_stats\n"
   ]
  },
  {
   "cell_type": "code",
   "execution_count": 389,
   "id": "9ea1510f-27e7-4d6f-893f-30d30ef43859",
   "metadata": {},
   "outputs": [
    {
     "name": "stdout",
     "output_type": "stream",
     "text": [
      "Skipping mouse 4467331.2, day 0, type nov due to error: too many indices for array: array is 1-dimensional, but 2 were indexed\n",
      "Skipping mouse 4467331.2, day 1, type nov due to error: too many indices for array: array is 1-dimensional, but 2 were indexed\n",
      "Skipping mouse 4467331.2, day 2, type nov due to error: 'nov'\n",
      "Skipping mouse 4467331.2, day 3, type nov due to error: 'nov'\n",
      "Skipping mouse 4467331.2, day 5, type nov due to error: 'field_info'\n",
      "Skipping mouse 4467332.1, day 4, type nov due to error: too many indices for array: array is 1-dimensional, but 2 were indexed\n",
      "Skipping mouse 4467332.2, day 1, type nov due to error: 'nov'\n",
      "Skipping mouse mCherry6, day 3, type nov due to error: too many indices for array: array is 1-dimensional, but 2 were indexed\n",
      "Skipping mouse mCherry8, day 3, type nov due to error: too many indices for array: array is 1-dimensional, but 2 were indexed\n",
      "Skipping mouse mCherry8, day 4, type nov due to error: too many indices for array: array is 1-dimensional, but 2 were indexed\n",
      "Skipping mouse 4467975.1, day 0, type nov due to error: 'nov'\n",
      "Skipping mouse 4467975.2, day 3, type nov due to error: 'field_info'\n",
      "Skipping mouse 4467975.5, day 0, type nov due to error: too many indices for array: array is 1-dimensional, but 2 were indexed\n",
      "Skipping mouse Cre9, day 1, type nov due to error: too many indices for array: array is 1-dimensional, but 2 were indexed\n",
      "Skipping mouse Cre9, day 2, type nov due to error: 'field_info'\n",
      "Skipping mouse Cre9, day 3, type nov due to error: 'field_info'\n",
      "Skipping mouse Cre9, day 4, type nov due to error: 'field_info'\n"
     ]
    }
   ],
   "source": [
    "df = {'mouse': [],\n",
    "      'cond': [],\n",
    "      'ttype': [],\n",
    "      'day': [],\n",
    "      'field_width': [],\n",
    "      'fwhm': [],\n",
    "      'n_fields': [],\n",
    "      'speed': []}\n",
    "\n",
    "lw = 5\n",
    "s = 10\n",
    "\n",
    "for cond, mice in zip(('ctrl', 'cre'), (ctrl_mice, ko_mice)):\n",
    "    for mouse in mice:\n",
    "        for day in range(6):\n",
    "            for ttype in ('fam', 'nov'):\n",
    "                try:\n",
    "                    f_info = np.array(field_stats[mouse][day][ttype]['field_info'])\n",
    "\n",
    "                    field_width = f_info[:, 2].mean()\n",
    "                    fwhm = field_stats[mouse][day][ttype]['fwhm'].mean()\n",
    "\n",
    "                    cell_list = np.unique(f_info[:, 0])\n",
    "                    n_fields = np.array([np.count_nonzero(f_info[:, 0] == cell) for cell in cell_list]).mean()\n",
    "                    speed = field_stats[mouse][day][ttype]['speed'].mean()\n",
    "\n",
    "                    df['mouse'].append(mouse)\n",
    "                    df['cond'].append(cond)\n",
    "                    df['ttype'].append(ttype)\n",
    "                    df['day'].append(day)\n",
    "                    df['field_width'].append(field_width)\n",
    "                    df['fwhm'].append(fwhm)\n",
    "                    df['n_fields'].append(n_fields)\n",
    "                    df['speed'].append(speed)\n",
    "\n",
    "                except Exception as e:\n",
    "                    print(f\"Skipping mouse {mouse}, day {day}, type {ttype} due to error: {e}\")\n",
    "                    continue\n",
    "\n",
    "df = pd.DataFrame(df)\n"
   ]
  },
  {
   "cell_type": "code",
   "execution_count": 394,
   "id": "eaee6f5d-9bca-4491-b171-c7311a2da253",
   "metadata": {},
   "outputs": [
    {
     "data": {
      "text/plain": [
       "('4467331.1',\n",
       " '4467331.2',\n",
       " '4467332.1',\n",
       " '4467332.2',\n",
       " '4467333.1',\n",
       " 'mCherry6',\n",
       " 'mCherry7',\n",
       " 'mCherry8',\n",
       " 'mCherry9')"
      ]
     },
     "execution_count": 394,
     "metadata": {},
     "output_type": "execute_result"
    }
   ],
   "source": [
    "ctrl_mice"
   ]
  },
  {
   "cell_type": "code",
   "execution_count": 390,
   "id": "0c9c053e-ae3c-425c-8121-33d23f986cdf",
   "metadata": {},
   "outputs": [
    {
     "name": "stdout",
     "output_type": "stream",
     "text": [
      "[100.  50.  50. ...  40.  30.  40.]\n",
      "[80. 70. 90. ... 30. 30. 30.]\n",
      "[ 30. 120. 120. ...  40.  40.  40.]\n",
      "[120.  60. 110. ...  50.  40.  40.]\n",
      "[110. 100. 120. ...  30.  30.  30.]\n",
      "[100. 110. 110. ...  30.  30.  30.]\n",
      "Familiar ANOVA\n",
      "        Source        SS  DF1  DF2        MS         F     p-unc  p-GG-corr  \\\n",
      "0         cond  3.780549    1   14  3.780549  3.539781  0.080872        NaN   \n",
      "1          day  1.172242    4   56  0.293060  1.760767  0.149682   0.194829   \n",
      "2  Interaction  1.062726    4   56  0.265681  1.596269  0.188037        NaN   \n",
      "\n",
      "        np2       eps sphericity  W-spher   p-spher  \n",
      "0  0.201814       NaN        NaN      NaN       NaN  \n",
      "1  0.111718  0.582361      False  0.23472  0.022583  \n",
      "2  0.102349       NaN        NaN      NaN       NaN  \n",
      "      Contrast day    A     B Paired  Parametric         T        dof  \\\n",
      "0          day   -    0     1   True        True -1.714570  15.000000   \n",
      "1          day   -    0     2   True        True -1.221326  15.000000   \n",
      "2          day   -    0     3   True        True -1.557151  15.000000   \n",
      "3          day   -    0     4   True        True -1.803985  15.000000   \n",
      "4          day   -    0     5   True        True -1.469874  15.000000   \n",
      "5          day   -    1     2   True        True  0.150113  15.000000   \n",
      "6          day   -    1     3   True        True -0.181238  15.000000   \n",
      "7          day   -    1     4   True        True -0.648846  15.000000   \n",
      "8          day   -    1     5   True        True  0.068302  15.000000   \n",
      "9          day   -    2     3   True        True -0.432409  15.000000   \n",
      "10         day   -    2     4   True        True -0.729913  15.000000   \n",
      "11         day   -    2     5   True        True -0.019638  15.000000   \n",
      "12         day   -    3     4   True        True -0.573251  15.000000   \n",
      "13         day   -    3     5   True        True  0.217045  15.000000   \n",
      "14         day   -    4     5   True        True  0.714719  15.000000   \n",
      "15        cond   -  cre  ctrl  False        True -2.386620  11.954652   \n",
      "16  day * cond   0  cre  ctrl  False        True -1.056957  12.573714   \n",
      "17  day * cond   1  cre  ctrl  False        True -1.814020  11.021410   \n",
      "18  day * cond   2  cre  ctrl  False        True -0.822705  13.809925   \n",
      "19  day * cond   3  cre  ctrl  False        True -1.076465  12.223520   \n",
      "20  day * cond   4  cre  ctrl  False        True -3.331650  12.643205   \n",
      "21  day * cond   5  cre  ctrl  False        True -2.665785  10.844009   \n",
      "\n",
      "   alternative     p-unc    p-corr p-adjust   BF10    hedges  \n",
      "0    two-sided  0.107004  1.000000     holm  0.847 -0.418330  \n",
      "1    two-sided  0.240812  1.000000     holm  0.482 -0.407783  \n",
      "2    two-sided  0.140279  1.000000     holm  0.696 -0.468200  \n",
      "3    two-sided  0.091350  1.000000     holm  0.951 -0.516128  \n",
      "4    two-sided  0.162258  1.000000     holm  0.629 -0.389846  \n",
      "5    two-sided  0.882675  1.000000     holm  0.258  0.026411  \n",
      "6    two-sided  0.858607  1.000000     holm  0.259 -0.030940  \n",
      "7    two-sided  0.526248  1.000000     holm  0.307 -0.120832  \n",
      "8    two-sided  0.946447  1.000000     holm  0.256  0.019374  \n",
      "9    two-sided  0.671596  1.000000     holm  0.278 -0.059941  \n",
      "10   two-sided  0.476689  1.000000     holm  0.323 -0.149761  \n",
      "11   two-sided  0.984591  1.000000     holm  0.255 -0.005714  \n",
      "12   two-sided  0.574969  1.000000     holm  0.295 -0.096604  \n",
      "13   two-sided  0.831098  1.000000     holm  0.261  0.050417  \n",
      "14   two-sided  0.485758  1.000000     holm   0.32  0.136817  \n",
      "15   two-sided  0.034418       NaN      NaN  2.359 -1.044926  \n",
      "16   two-sided  0.310416  0.907521     holm  0.622 -0.466861  \n",
      "17   two-sided  0.096964  0.387856     holm   1.21 -0.784804  \n",
      "18   two-sided  0.424655  0.907521     holm  0.539 -0.372988  \n",
      "19   two-sided  0.302507  0.907521     holm  0.631 -0.473051  \n",
      "20   two-sided  0.005599  0.033592     holm  8.658 -1.473169  \n",
      "21   two-sided  0.022201  0.111007     holm  3.392 -1.150801  \n",
      "Novel ANOVA\n"
     ]
    },
    {
     "name": "stderr",
     "output_type": "stream",
     "text": [
      "C:\\Users\\esay\\.conda\\envs\\s2p_analysis\\lib\\site-packages\\pingouin\\parametric.py:1572: FutureWarning: In a future version, object-dtype columns with all-bool values will not be included in reductions with bool_only=True. Explicitly cast to bool dtype instead.\n",
      "  aov = pd.concat([aov_betw.drop(1), aov_with.drop(1)], axis=0, sort=False, ignore_index=True)\n",
      "C:\\Users\\esay\\.conda\\envs\\s2p_analysis\\lib\\site-packages\\pingouin\\parametric.py:1572: FutureWarning: In a future version, object-dtype columns with all-bool values will not be included in reductions with bool_only=True. Explicitly cast to bool dtype instead.\n",
      "  aov = pd.concat([aov_betw.drop(1), aov_with.drop(1)], axis=0, sort=False, ignore_index=True)\n"
     ]
    },
    {
     "name": "stdout",
     "output_type": "stream",
     "text": [
      "        Source        SS  DF1  DF2        MS         F     p-unc  p-GG-corr  \\\n",
      "0         cond  4.553969    1    5  4.553969  6.628730  0.049755        NaN   \n",
      "1          day  1.084119    4   20  0.271030  0.810998  0.532858   0.436162   \n",
      "2  Interaction  0.807437    4   20  0.201859  0.604021  0.664223        NaN   \n",
      "\n",
      "        np2       eps sphericity   W-spher  p-spher  \n",
      "0  0.570030       NaN        NaN       NaN      NaN  \n",
      "1  0.139563  0.450373      False  0.008113  0.01697  \n",
      "2  0.107783       NaN        NaN       NaN      NaN  \n",
      "      Contrast day    A     B Paired  Parametric         T       dof  \\\n",
      "0          day   -    0     1   True        True -0.904027  6.000000   \n",
      "1          day   -    0     2   True        True -1.379470  6.000000   \n",
      "2          day   -    0     3   True        True -0.912528  6.000000   \n",
      "3          day   -    0     4   True        True -0.697836  6.000000   \n",
      "4          day   -    0     5   True        True -1.388755  6.000000   \n",
      "5          day   -    1     2   True        True -1.201780  6.000000   \n",
      "6          day   -    1     3   True        True -0.236336  6.000000   \n",
      "7          day   -    1     4   True        True  0.253045  6.000000   \n",
      "8          day   -    1     5   True        True -0.231049  6.000000   \n",
      "9          day   -    2     3   True        True  1.098367  6.000000   \n",
      "10         day   -    2     4   True        True  0.868760  6.000000   \n",
      "11         day   -    2     5   True        True  0.180237  6.000000   \n",
      "12         day   -    3     4   True        True  0.526536  6.000000   \n",
      "13         day   -    3     5   True        True -0.186115  6.000000   \n",
      "14         day   -    4     5   True        True -0.521123  6.000000   \n",
      "15        cond   -  cre  ctrl  False        True -2.838849  4.987201   \n",
      "16  day * cond   0  cre  ctrl  False        True -0.283736  4.995000   \n",
      "17  day * cond   1  cre  ctrl  False        True -1.715111  4.967650   \n",
      "18  day * cond   2  cre  ctrl  False        True -1.405228  3.004614   \n",
      "19  day * cond   3  cre  ctrl  False        True -2.761161  4.530957   \n",
      "20  day * cond   4  cre  ctrl  False        True -3.126178  4.989073   \n",
      "21  day * cond   5  cre  ctrl  False        True -0.672959  4.770570   \n",
      "\n",
      "   alternative     p-unc    p-corr p-adjust   BF10    hedges  \n",
      "0    two-sided  0.400820  1.000000     holm  0.488 -0.441531  \n",
      "1    two-sided  0.216959  1.000000     holm  0.707 -0.667092  \n",
      "2    two-sided  0.396674  1.000000     holm  0.491 -0.466934  \n",
      "3    two-sided  0.511403  1.000000     holm  0.431 -0.353812  \n",
      "4    two-sided  0.214264  1.000000     holm  0.713 -0.529642  \n",
      "5    two-sided  0.274726  1.000000     holm  0.609 -0.247106  \n",
      "6    two-sided  0.821033  1.000000     holm  0.362 -0.037296  \n",
      "7    two-sided  0.808680  1.000000     holm  0.363  0.085964  \n",
      "8    two-sided  0.824954  1.000000     holm  0.361 -0.129588  \n",
      "9    two-sided  0.314154  1.000000     holm  0.561  0.202947  \n",
      "10   two-sided  0.418369  1.000000     holm  0.477  0.326583  \n",
      "11   two-sided  0.862900  1.000000     holm  0.358  0.093402  \n",
      "12   two-sided  0.617404  1.000000     holm  0.396  0.120278  \n",
      "13   two-sided  0.858488  1.000000     holm  0.358 -0.092715  \n",
      "14   two-sided  0.620948  1.000000     holm  0.395 -0.205358  \n",
      "15   two-sided  0.036401       NaN      NaN  2.339 -1.738813  \n",
      "16   two-sided  0.787997  1.000000     holm  0.557 -0.173278  \n",
      "17   two-sided  0.147367  0.589468     holm   1.09 -1.055458  \n",
      "18   two-sided  0.254474  0.763423     holm  0.896 -0.985809  \n",
      "19   two-sided  0.044270  0.221348     holm  2.218 -1.601049  \n",
      "20   two-sided  0.026147  0.156881     holm  2.841 -1.886427  \n",
      "21   two-sided  0.532185  1.000000     holm   0.62 -0.423446  \n"
     ]
    },
    {
     "data": {
      "image/png": "[encoded data removed]",
      "text/plain": [
       "<Figure size 1500x500 with 2 Axes>"
      ]
     },
     "metadata": {},
     "output_type": "display_data"
    },
    {
     "data": {
      "image/png": "[encoded data removed]",
      "text/plain": [
       "<Figure size 1000x300 with 2 Axes>"
      ]
     },
     "metadata": {},
     "output_type": "display_data"
    },
    {
     "data": {
      "image/png": "[encoded data removed]",
      "text/plain": [
       "<Figure size 1000x300 with 2 Axes>"
      ]
     },
     "metadata": {},
     "output_type": "display_data"
    },
    {
     "data": {
      "image/png": "[encoded data removed]",
      "text/plain": [
       "<Figure size 1000x300 with 2 Axes>"
      ]
     },
     "metadata": {},
     "output_type": "display_data"
    },
    {
     "data": {
      "image/png": "[encoded data removed]",
      "text/plain": [
       "<Figure size 1000x300 with 2 Axes>"
      ]
     },
     "metadata": {},
     "output_type": "display_data"
    },
    {
     "data": {
      "image/png": "[encoded data removed]",
      "text/plain": [
       "<Figure size 1000x300 with 2 Axes>"
      ]
     },
     "metadata": {},
     "output_type": "display_data"
    },
    {
     "data": {
      "image/png": "[encoded data removed]",
      "text/plain": [
       "<Figure size 1000x300 with 2 Axes>"
      ]
     },
     "metadata": {},
     "output_type": "display_data"
    }
   ],
   "source": [
    "fig, ax = plt.subplots(1,2, figsize=[15,5], sharey=True)\n",
    "\n",
    "# population plots\n",
    "for day in range(6):\n",
    "    \n",
    "    mask = (df['cond']=='ctrl') & (df['day']==day) & (df['ttype']=='fam')\n",
    "    fw = 10.*df['field_width'].loc[mask]._values\n",
    "    ax[0].scatter(5*day -1 + np.linspace(-0.05, 0.05, num=fw.shape[0]), fw, color='black', s=s)\n",
    "    ax[0].plot(5*day -1 + np.array([-0.2, .2]), fw.mean()*np.ones([2,]), color='black', linewidth=lw,alpha = .3)\n",
    "    \n",
    "    mask = (df['cond']=='ctrl') & (df['day']==day) & (df['ttype']=='nov')\n",
    "    fw = 10.*df['field_width'].loc[mask]._values\n",
    "    ax[1].scatter(5*day -1 + np.linspace(-0.05, 0.05, num=fw.shape[0]), fw, color='black', s=s, alpha = 1)\n",
    "    ax[1].plot(5*day -1 + np.array([-0.2, .2]), fw.mean()*np.ones([2,]), color='black', linewidth=lw,alpha = .3)\n",
    "    \n",
    "    mask = (df['cond']=='cre') & (df['day']==day) & (df['ttype']=='fam')\n",
    "    fw = 10.*df['field_width'].loc[mask]._values\n",
    "    ax[0].scatter(5*day +1 + np.linspace(-0.05, 0.05, num=fw.shape[0]), fw, color='red', s=s)\n",
    "    ax[0].plot(5*day + 1 + np.array([-0.2, .2]), fw.mean()*np.ones([2,]), color='red', linewidth=lw,alpha = .3)\n",
    "    \n",
    "    mask = (df['cond']=='cre') & (df['day']==day) & (df['ttype']=='nov')\n",
    "    fw = 10.*df['field_width'].loc[mask]._values\n",
    "    ax[1].scatter(5*day +1 + np.linspace(-0.05, 0.05, num=fw.shape[0]), fw, color='red', s=s, alpha=1)\n",
    "    ax[1].plot(5*day + 1 + np.array([-0.2, .2]), fw.mean()*np.ones([2,]), color='red', linewidth=lw,alpha = .3)\n",
    "    \n",
    "\n",
    "ax[0].set_title('Familiar')\n",
    "ax[1].set_title('Novel')\n",
    "    \n",
    "for a in range(2):\n",
    "\n",
    "    ax[a].set_xticks(np.arange(0,6*5,5))\n",
    "    ax[a].set_xticklabels([x for x in range(1,7)])\n",
    "\n",
    "    ax[a].spines['top'].set_visible(False)\n",
    "    ax[a].spines['right'].set_visible(False)\n",
    "\n",
    "    ax[a].set_ylabel('Field Width')\n",
    "    ax[a].set_xlabel('Day')\n",
    "# fig.savefig(os.path.join(figdir, \"field_width_across_mouse_summary.pdf\"))\n",
    "\n",
    "\n",
    "# single day, across mouse histograms\n",
    "bin_edges = np.arange(30,210, 10)\n",
    "for day in range(6):\n",
    "    \n",
    "    fig, ax = plt.subplots(1,2, figsize = [10,3])\n",
    "    fig.suptitle(f'Day {day}')\n",
    "    \n",
    "    for ax_ind, ttype in enumerate(('fam', 'nov')):\n",
    "        try: \n",
    "            ctrl_width = []\n",
    "            for mouse in ctrl_mice:\n",
    "                f_info = 10*np.array(field_stats[mouse][day][ttype]['field_info'])\n",
    "                ctrl_width.append(f_info[:,2].ravel())\n",
    "                # ctrl_width.append(10*field_stats[mouse][day][ttype]['field_width'].ravel())\n",
    "                \n",
    "            ctrl_width = np.concatenate(ctrl_width)\n",
    "            \n",
    "            ax[ax_ind].hist(ctrl_width, bins=bin_edges, color='black', alpha=.3, density=True)\n",
    "            \n",
    "            ko_width = []\n",
    "            for mouse in ko_mice:\n",
    "                f_info = 10*np.array(field_stats[mouse][day][ttype]['field_info'])\n",
    "                ko_width.append(f_info[:,2].ravel())\n",
    "                # ko_width.append(10*field_stats[mouse][day][ttype]['field_width'].ravel())\n",
    "                \n",
    "            ko_width = np.concatenate(ko_width)\n",
    "            print(ko_width)\n",
    "        except:\n",
    "            continue\n",
    "        ax[ax_ind].hist(ko_width, bins=bin_edges, color='red', alpha=.3, density=True)\n",
    "        \n",
    "\n",
    "        ax[ax_ind].spines['top'].set_visible(False)\n",
    "        ax[ax_ind].spines['right'].set_visible(False)\n",
    "    \n",
    "        ax[ax_ind].set_yticks([])\n",
    "        ax[ax_ind].set_ylabel('Probability')\n",
    "        ax[ax_ind].set_xlabel('Field Width')\n",
    "        ax[ax_ind].set_xlim(30,210)\n",
    "        \n",
    "        # fig.savefig(os.path.join(figdir, f\"day{day}_field_width_hist.pdf\"))\n",
    "\n",
    "\n",
    "print('Familiar ANOVA')\n",
    "aov = mixed_anova(data=df.loc[(df['ttype']=='fam') & (df['day']<5)], dv='field_width', between='cond', within='day', subject='mouse')\n",
    "print(aov)\n",
    "\n",
    "posthoc = pairwise_tests(data=df.loc[df['ttype']=='fam'], dv='field_width', between='cond', within='day', subject='mouse', padjust = 'holm')\n",
    "print(posthoc)\n",
    "\n",
    "print('Novel ANOVA')\n",
    "aov = mixed_anova(data=df.loc[(df['ttype']=='nov') & (df['day']<5)], dv='field_width', between='cond', within='day', subject='mouse')\n",
    "print(aov)\n",
    "\n",
    "posthoc = pairwise_tests(data=df.loc[df['ttype']=='nov'], dv='field_width', between='cond', within='day', subject='mouse', padjust = 'holm')\n",
    "print(posthoc)\n"
   ]
  },
  {
   "cell_type": "code",
   "execution_count": 391,
   "id": "83b6aad2-53d2-4c63-a8b4-966b5bf535e7",
   "metadata": {
    "scrolled": true
   },
   "outputs": [
    {
     "ename": "ValueError",
     "evalue": "setting an array element with a sequence. The requested array has an inhomogeneous shape after 1 dimensions. The detected shape was (2,) + inhomogeneous part.",
     "output_type": "error",
     "traceback": [
      "\u001b[1;31m---------------------------------------------------------------------------\u001b[0m",
      "\u001b[1;31mValueError\u001b[0m                                Traceback (most recent call last)",
      "Cell \u001b[1;32mIn[391], line 13\u001b[0m\n\u001b[0;32m     10\u001b[0m _df \u001b[38;5;241m=\u001b[39m df[_mask]\n\u001b[0;32m     11\u001b[0m lr \u001b[38;5;241m=\u001b[39m [_df[\u001b[38;5;124m'\u001b[39m\u001b[38;5;124mfield_width\u001b[39m\u001b[38;5;124m'\u001b[39m]\u001b[38;5;241m.\u001b[39mloc[_df[\u001b[38;5;124m'\u001b[39m\u001b[38;5;124mttype\u001b[39m\u001b[38;5;124m'\u001b[39m]\u001b[38;5;241m==\u001b[39m\u001b[38;5;124m'\u001b[39m\u001b[38;5;124mfam\u001b[39m\u001b[38;5;124m'\u001b[39m]\u001b[38;5;241m.\u001b[39m_values, _df[\u001b[38;5;124m'\u001b[39m\u001b[38;5;124mfield_width\u001b[39m\u001b[38;5;124m'\u001b[39m]\u001b[38;5;241m.\u001b[39mloc[_df[\u001b[38;5;124m'\u001b[39m\u001b[38;5;124mttype\u001b[39m\u001b[38;5;124m'\u001b[39m]\u001b[38;5;241m==\u001b[39m\u001b[38;5;124m'\u001b[39m\u001b[38;5;124mnov\u001b[39m\u001b[38;5;124m'\u001b[39m]\u001b[38;5;241m.\u001b[39m_values]\n\u001b[1;32m---> 13\u001b[0m \u001b[43max\u001b[49m\u001b[38;5;241;43m.\u001b[39;49m\u001b[43mplot\u001b[49m\u001b[43m(\u001b[49m\u001b[38;5;241;43m5\u001b[39;49m\u001b[38;5;241;43m*\u001b[39;49m\u001b[43mday\u001b[49m\u001b[43m \u001b[49m\u001b[38;5;241;43m+\u001b[39;49m\u001b[43m \u001b[49m\u001b[43mnp\u001b[49m\u001b[38;5;241;43m.\u001b[39;49m\u001b[43marray\u001b[49m\u001b[43m(\u001b[49m\u001b[43m[\u001b[49m\u001b[38;5;241;43m-\u001b[39;49m\u001b[38;5;241;43m1\u001b[39;49m\u001b[43m,\u001b[49m\u001b[38;5;241;43m-\u001b[39;49m\u001b[38;5;241;43m.3\u001b[39;49m\u001b[43m]\u001b[49m\u001b[43m)\u001b[49m\u001b[43m,\u001b[49m\u001b[43m \u001b[49m\u001b[43mlr\u001b[49m\u001b[43m,\u001b[49m\u001b[43m \u001b[49m\u001b[43mcolor\u001b[49m\u001b[38;5;241;43m=\u001b[39;49m\u001b[38;5;124;43m'\u001b[39;49m\u001b[38;5;124;43mblack\u001b[39;49m\u001b[38;5;124;43m'\u001b[39;49m\u001b[43m,\u001b[49m\u001b[43m \u001b[49m\u001b[43malpha\u001b[49m\u001b[43m \u001b[49m\u001b[38;5;241;43m=\u001b[39;49m\u001b[43m \u001b[49m\u001b[38;5;241;43m.3\u001b[39;49m\u001b[43m)\u001b[49m\n\u001b[0;32m     14\u001b[0m \u001b[38;5;66;03m# ax[0].scatter(5*day + np.array([-1,-.3]), lr, color='black', alpha = .3)\u001b[39;00m\n\u001b[0;32m     15\u001b[0m ax\u001b[38;5;241m.\u001b[39mscatter(\u001b[38;5;241m5\u001b[39m\u001b[38;5;241m*\u001b[39mday \u001b[38;5;241m-\u001b[39m \u001b[38;5;241m1\u001b[39m,lr[\u001b[38;5;241m0\u001b[39m], color\u001b[38;5;241m=\u001b[39m\u001b[38;5;124m'\u001b[39m\u001b[38;5;124mblack\u001b[39m\u001b[38;5;124m'\u001b[39m, alpha \u001b[38;5;241m=\u001b[39m \u001b[38;5;241m1\u001b[39m, marker\u001b[38;5;241m=\u001b[39m\u001b[38;5;124m'\u001b[39m\u001b[38;5;124mo\u001b[39m\u001b[38;5;124m'\u001b[39m)\n",
      "File \u001b[1;32m~\\.conda\\envs\\s2p_analysis\\lib\\site-packages\\matplotlib\\axes\\_axes.py:1779\u001b[0m, in \u001b[0;36mAxes.plot\u001b[1;34m(self, scalex, scaley, data, *args, **kwargs)\u001b[0m\n\u001b[0;32m   1536\u001b[0m \u001b[38;5;250m\u001b[39m\u001b[38;5;124;03m\"\"\"\u001b[39;00m\n\u001b[0;32m   1537\u001b[0m \u001b[38;5;124;03mPlot y versus x as lines and/or markers.\u001b[39;00m\n\u001b[0;32m   1538\u001b[0m \n\u001b[1;32m   (...)\u001b[0m\n\u001b[0;32m   1776\u001b[0m \u001b[38;5;124;03m(``'green'``) or hex strings (``'#008000'``).\u001b[39;00m\n\u001b[0;32m   1777\u001b[0m \u001b[38;5;124;03m\"\"\"\u001b[39;00m\n\u001b[0;32m   1778\u001b[0m kwargs \u001b[38;5;241m=\u001b[39m cbook\u001b[38;5;241m.\u001b[39mnormalize_kwargs(kwargs, mlines\u001b[38;5;241m.\u001b[39mLine2D)\n\u001b[1;32m-> 1779\u001b[0m lines \u001b[38;5;241m=\u001b[39m [\u001b[38;5;241m*\u001b[39m\u001b[38;5;28mself\u001b[39m\u001b[38;5;241m.\u001b[39m_get_lines(\u001b[38;5;28mself\u001b[39m, \u001b[38;5;241m*\u001b[39margs, data\u001b[38;5;241m=\u001b[39mdata, \u001b[38;5;241m*\u001b[39m\u001b[38;5;241m*\u001b[39mkwargs)]\n\u001b[0;32m   1780\u001b[0m \u001b[38;5;28;01mfor\u001b[39;00m line \u001b[38;5;129;01min\u001b[39;00m lines:\n\u001b[0;32m   1781\u001b[0m     \u001b[38;5;28mself\u001b[39m\u001b[38;5;241m.\u001b[39madd_line(line)\n",
      "File \u001b[1;32m~\\.conda\\envs\\s2p_analysis\\lib\\site-packages\\matplotlib\\axes\\_base.py:296\u001b[0m, in \u001b[0;36m_process_plot_var_args.__call__\u001b[1;34m(self, axes, data, *args, **kwargs)\u001b[0m\n\u001b[0;32m    294\u001b[0m     this \u001b[38;5;241m+\u001b[39m\u001b[38;5;241m=\u001b[39m args[\u001b[38;5;241m0\u001b[39m],\n\u001b[0;32m    295\u001b[0m     args \u001b[38;5;241m=\u001b[39m args[\u001b[38;5;241m1\u001b[39m:]\n\u001b[1;32m--> 296\u001b[0m \u001b[38;5;28;01myield from\u001b[39;00m \u001b[38;5;28;43mself\u001b[39;49m\u001b[38;5;241;43m.\u001b[39;49m\u001b[43m_plot_args\u001b[49m\u001b[43m(\u001b[49m\n\u001b[0;32m    297\u001b[0m \u001b[43m    \u001b[49m\u001b[43maxes\u001b[49m\u001b[43m,\u001b[49m\u001b[43m \u001b[49m\u001b[43mthis\u001b[49m\u001b[43m,\u001b[49m\u001b[43m \u001b[49m\u001b[43mkwargs\u001b[49m\u001b[43m,\u001b[49m\u001b[43m \u001b[49m\u001b[43mambiguous_fmt_datakey\u001b[49m\u001b[38;5;241;43m=\u001b[39;49m\u001b[43mambiguous_fmt_datakey\u001b[49m\u001b[43m)\u001b[49m\n",
      "File \u001b[1;32m~\\.conda\\envs\\s2p_analysis\\lib\\site-packages\\matplotlib\\axes\\_base.py:476\u001b[0m, in \u001b[0;36m_process_plot_var_args._plot_args\u001b[1;34m(self, axes, tup, kwargs, return_kwargs, ambiguous_fmt_datakey)\u001b[0m\n\u001b[0;32m    474\u001b[0m \u001b[38;5;28;01mif\u001b[39;00m \u001b[38;5;28mlen\u001b[39m(xy) \u001b[38;5;241m==\u001b[39m \u001b[38;5;241m2\u001b[39m:\n\u001b[0;32m    475\u001b[0m     x \u001b[38;5;241m=\u001b[39m _check_1d(xy[\u001b[38;5;241m0\u001b[39m])\n\u001b[1;32m--> 476\u001b[0m     y \u001b[38;5;241m=\u001b[39m \u001b[43m_check_1d\u001b[49m\u001b[43m(\u001b[49m\u001b[43mxy\u001b[49m\u001b[43m[\u001b[49m\u001b[38;5;241;43m1\u001b[39;49m\u001b[43m]\u001b[49m\u001b[43m)\u001b[49m\n\u001b[0;32m    477\u001b[0m \u001b[38;5;28;01melse\u001b[39;00m:\n\u001b[0;32m    478\u001b[0m     x, y \u001b[38;5;241m=\u001b[39m index_of(xy[\u001b[38;5;241m-\u001b[39m\u001b[38;5;241m1\u001b[39m])\n",
      "File \u001b[1;32m~\\.conda\\envs\\s2p_analysis\\lib\\site-packages\\matplotlib\\cbook.py:1411\u001b[0m, in \u001b[0;36m_check_1d\u001b[1;34m(x)\u001b[0m\n\u001b[0;32m   1405\u001b[0m \u001b[38;5;66;03m# plot requires `shape` and `ndim`.  If passed an\u001b[39;00m\n\u001b[0;32m   1406\u001b[0m \u001b[38;5;66;03m# object that doesn't provide them, then force to numpy array.\u001b[39;00m\n\u001b[0;32m   1407\u001b[0m \u001b[38;5;66;03m# Note this will strip unit information.\u001b[39;00m\n\u001b[0;32m   1408\u001b[0m \u001b[38;5;28;01mif\u001b[39;00m (\u001b[38;5;129;01mnot\u001b[39;00m \u001b[38;5;28mhasattr\u001b[39m(x, \u001b[38;5;124m'\u001b[39m\u001b[38;5;124mshape\u001b[39m\u001b[38;5;124m'\u001b[39m) \u001b[38;5;129;01mor\u001b[39;00m\n\u001b[0;32m   1409\u001b[0m         \u001b[38;5;129;01mnot\u001b[39;00m \u001b[38;5;28mhasattr\u001b[39m(x, \u001b[38;5;124m'\u001b[39m\u001b[38;5;124mndim\u001b[39m\u001b[38;5;124m'\u001b[39m) \u001b[38;5;129;01mor\u001b[39;00m\n\u001b[0;32m   1410\u001b[0m         \u001b[38;5;28mlen\u001b[39m(x\u001b[38;5;241m.\u001b[39mshape) \u001b[38;5;241m<\u001b[39m \u001b[38;5;241m1\u001b[39m):\n\u001b[1;32m-> 1411\u001b[0m     \u001b[38;5;28;01mreturn\u001b[39;00m \u001b[43mnp\u001b[49m\u001b[38;5;241;43m.\u001b[39;49m\u001b[43matleast_1d\u001b[49m\u001b[43m(\u001b[49m\u001b[43mx\u001b[49m\u001b[43m)\u001b[49m\n\u001b[0;32m   1412\u001b[0m \u001b[38;5;28;01melse\u001b[39;00m:\n\u001b[0;32m   1413\u001b[0m     \u001b[38;5;28;01mreturn\u001b[39;00m x\n",
      "File \u001b[1;32m~\\.conda\\envs\\s2p_analysis\\lib\\site-packages\\numpy\\core\\shape_base.py:65\u001b[0m, in \u001b[0;36matleast_1d\u001b[1;34m(*arys)\u001b[0m\n\u001b[0;32m     63\u001b[0m res \u001b[38;5;241m=\u001b[39m []\n\u001b[0;32m     64\u001b[0m \u001b[38;5;28;01mfor\u001b[39;00m ary \u001b[38;5;129;01min\u001b[39;00m arys:\n\u001b[1;32m---> 65\u001b[0m     ary \u001b[38;5;241m=\u001b[39m \u001b[43masanyarray\u001b[49m\u001b[43m(\u001b[49m\u001b[43mary\u001b[49m\u001b[43m)\u001b[49m\n\u001b[0;32m     66\u001b[0m     \u001b[38;5;28;01mif\u001b[39;00m ary\u001b[38;5;241m.\u001b[39mndim \u001b[38;5;241m==\u001b[39m \u001b[38;5;241m0\u001b[39m:\n\u001b[0;32m     67\u001b[0m         result \u001b[38;5;241m=\u001b[39m ary\u001b[38;5;241m.\u001b[39mreshape(\u001b[38;5;241m1\u001b[39m)\n",
      "\u001b[1;31mValueError\u001b[0m: setting an array element with a sequence. The requested array has an inhomogeneous shape after 1 dimensions. The detected shape was (2,) + inhomogeneous part."
     ]
    },
    {
     "data": {
      "image/png": "[encoded data removed]",
      "text/plain": [
       "<Figure size 700x500 with 1 Axes>"
      ]
     },
     "metadata": {},
     "output_type": "display_data"
    }
   ],
   "source": [
    "fig, ax = plt.subplots(figsize=[7,5], sharey=True)\n",
    "\n",
    "lw = 5\n",
    "s = 10\n",
    "for day in range(6):\n",
    "    \n",
    "    mask = (df['cond']=='ctrl') & (df['day']==day) #& (df['fam/nov']=='fam')\n",
    "    for mouse in ctrl_mice:\n",
    "        _mask = mask & (df['mouse']==mouse)\n",
    "        _df = df[_mask]\n",
    "        lr = [_df['field_width'].loc[_df['ttype']=='fam']._values, _df['field_width'].loc[_df['ttype']=='nov']._values]\n",
    "        \n",
    "        ax.plot(5*day + np.array([-1,-.3]), lr, color='black', alpha = .3)\n",
    "        # ax[0].scatter(5*day + np.array([-1,-.3]), lr, color='black', alpha = .3)\n",
    "        ax.scatter(5*day - 1,lr[0], color='black', alpha = 1, marker='o')\n",
    "        ax.scatter(5*day - .3, lr[1], color='black', alpha = 1, marker='x')\n",
    "        \n",
    "    mask = (df['cond']=='cre') & (df['day']==day) #& (df['fam/nov']=='fam')\n",
    "    for mouse in ko_mice:\n",
    "        _mask = mask & (df['mouse']==mouse)\n",
    "        _df = df[_mask]\n",
    "        lr = [_df['field_width'].loc[_df['ttype']=='fam']._values, _df['field_width'].loc[_df['ttype']=='nov']._values]\n",
    "        \n",
    "        ax.plot(5*day + np.array([.3,1]), lr, color='red', alpha = .3)\n",
    "        ax.scatter(5*day + .3,lr[0], color='red', alpha = 1, marker='o')\n",
    "        ax.scatter(5*day + 1, lr[1], color='red', alpha = 1, marker='x')\n",
    "\n",
    "# ax.plot([-2.3, 27.3], [0, 0], 'k--', zorder= -1, alpha=.5)\n",
    "\n",
    "    \n",
    "ax.set_title('Familiar v Nov')\n",
    "\n",
    "ax.set_xticks(np.arange(0,6*5,5))\n",
    "ax.set_xticklabels([x for x in range(1,7)])\n",
    "\n",
    "ax.spines['top'].set_visible(False)\n",
    "ax.spines['right'].set_visible(False)\n",
    "\n",
    "ax.set_ylabel('Field Width')\n",
    "ax.set_xlabel('Day')\n",
    "    \n",
    "# fig.savefig(os.path.join(figdir,\"log_activity_rate_summary_within_group.pdf\"),format='pdf')"
   ]
  },
  {
   "cell_type": "code",
   "execution_count": null,
   "id": "6935edc2-fe7f-4bb8-b314-0be3ee66423d",
   "metadata": {},
   "outputs": [],
   "source": []
  },
  {
   "cell_type": "code",
   "execution_count": 395,
   "id": "934e735a-40a8-42bd-93f0-06c313adde26",
   "metadata": {},
   "outputs": [
    {
     "ename": "IndexError",
     "evalue": "too many indices for array: array is 1-dimensional, but 2 were indexed",
     "output_type": "error",
     "traceback": [
      "\u001b[1;31m---------------------------------------------------------------------------\u001b[0m",
      "\u001b[1;31mIndexError\u001b[0m                                Traceback (most recent call last)",
      "Cell \u001b[1;32mIn[395], line 54\u001b[0m\n\u001b[0;32m     52\u001b[0m \u001b[38;5;28;01mfor\u001b[39;00m mouse \u001b[38;5;129;01min\u001b[39;00m ctrl_mice:\n\u001b[0;32m     53\u001b[0m     f_info \u001b[38;5;241m=\u001b[39m \u001b[38;5;241m10\u001b[39m\u001b[38;5;241m*\u001b[39mnp\u001b[38;5;241m.\u001b[39marray(field_stats[mouse][day][ttype][\u001b[38;5;124m'\u001b[39m\u001b[38;5;124mfield_info\u001b[39m\u001b[38;5;124m'\u001b[39m])\n\u001b[1;32m---> 54\u001b[0m     cell_list \u001b[38;5;241m=\u001b[39m np\u001b[38;5;241m.\u001b[39munique(\u001b[43mf_info\u001b[49m\u001b[43m[\u001b[49m\u001b[43m:\u001b[49m\u001b[43m,\u001b[49m\u001b[38;5;241;43m0\u001b[39;49m\u001b[43m]\u001b[49m)\n\u001b[0;32m     56\u001b[0m     ctrl_width\u001b[38;5;241m.\u001b[39mappend(np\u001b[38;5;241m.\u001b[39marray([np\u001b[38;5;241m.\u001b[39mcount_nonzero(f_info[:,\u001b[38;5;241m0\u001b[39m]\u001b[38;5;241m==\u001b[39mcell) \u001b[38;5;28;01mfor\u001b[39;00m cell \u001b[38;5;129;01min\u001b[39;00m cell_list])\u001b[38;5;241m.\u001b[39mravel())\n\u001b[0;32m     59\u001b[0m ctrl_width \u001b[38;5;241m=\u001b[39m np\u001b[38;5;241m.\u001b[39mconcatenate(ctrl_width)\n",
      "\u001b[1;31mIndexError\u001b[0m: too many indices for array: array is 1-dimensional, but 2 were indexed"
     ]
    },
    {
     "data": {
      "image/png": "[encoded data removed]",
      "text/plain": [
       "<Figure size 1500x500 with 2 Axes>"
      ]
     },
     "metadata": {},
     "output_type": "display_data"
    },
    {
     "data": {
      "image/png": "[encoded data removed]",
      "text/plain": [
       "<Figure size 1000x300 with 2 Axes>"
      ]
     },
     "metadata": {},
     "output_type": "display_data"
    }
   ],
   "source": [
    "fig, ax = plt.subplots(1,2, figsize=[15,5], sharey=True)\n",
    "\n",
    "# population plots\n",
    "for day in range(6):\n",
    "    \n",
    "    mask = (df['cond']=='ctrl') & (df['day']==day) & (df['ttype']=='fam')\n",
    "    nf = df['n_fields'].loc[mask]._values\n",
    "    ax[0].scatter(5*day -1 + np.linspace(-0.05, 0.05, num=nf.shape[0]), nf, color='black', s=s)\n",
    "    ax[0].plot(5*day -1 + np.array([-0.2, .2]), nf.mean()*np.ones([2,]), color='black', linewidth=lw,alpha = .3)\n",
    "    \n",
    "    mask = (df['cond']=='ctrl') & (df['day']==day) & (df['ttype']=='nov')\n",
    "    nf = df['n_fields'].loc[mask]._values\n",
    "    ax[1].scatter(5*day -1 + np.linspace(-0.05, 0.05, num=nf.shape[0]), nf, color='black', s=s, alpha = 1)\n",
    "    ax[1].plot(5*day -1 + np.array([-0.2, .2]), nf.mean()*np.ones([2,]), color='black', linewidth=lw,alpha = .3)\n",
    "    \n",
    "    mask = (df['cond']=='cre') & (df['day']==day) & (df['ttype']=='fam')\n",
    "    nf = df['n_fields'].loc[mask]._values\n",
    "    ax[0].scatter(5*day +1 + np.linspace(-0.05, 0.05, num=nf.shape[0]), nf, color='red', s=s)\n",
    "    ax[0].plot(5*day + 1 + np.array([-0.2, .2]), nf.mean()*np.ones([2,]), color='red', linewidth=lw,alpha = .3)\n",
    "    \n",
    "    mask = (df['cond']=='cre') & (df['day']==day) & (df['ttype']=='nov')\n",
    "    nf = df['n_fields'].loc[mask]._values\n",
    "    ax[1].scatter(5*day +1 + np.linspace(-0.05, 0.05, num=nf.shape[0]), nf, color='red', s=s, alpha=1)\n",
    "    ax[1].plot(5*day + 1 + np.array([-0.2, .2]), nf.mean()*np.ones([2,]), color='red', linewidth=lw,alpha = .3)\n",
    "    \n",
    "\n",
    "ax[0].set_title('Familiar')\n",
    "ax[1].set_title('Novel')\n",
    "    \n",
    "for a in range(2):\n",
    "\n",
    "    ax[a].set_xticks(np.arange(0,6*5,5))\n",
    "    ax[a].set_xticklabels([x for x in range(1,7)])\n",
    "\n",
    "    ax[a].spines['top'].set_visible(False)\n",
    "    ax[a].spines['right'].set_visible(False)\n",
    "\n",
    "    ax[a].set_ylabel('# of Fields')\n",
    "    ax[a].set_xlabel('Day')\n",
    "# fig.savefig(os.path.join(figdir, \"num_fields_across_mouse_summary.pdf\"))\n",
    "\n",
    "\n",
    "\n",
    "# single day, across mouse histograms\n",
    "bin_edges = np.arange(0,5, 1)\n",
    "for day in range(6):\n",
    "    fig, ax = plt.subplots(1,2, figsize = [10,3])\n",
    "    fig.suptitle(f'Day {day}')\n",
    "    for ax_ind, ttype in enumerate(('fam', 'nov')):\n",
    "        \n",
    "        ctrl_width = []\n",
    "        for mouse in ctrl_mice:\n",
    "            f_info = 10*np.array(field_stats[mouse][day][ttype]['field_info'])\n",
    "            cell_list = np.unique(f_info[:,0])\n",
    "            \n",
    "            ctrl_width.append(np.array([np.count_nonzero(f_info[:,0]==cell) for cell in cell_list]).ravel())\n",
    "            \n",
    "            \n",
    "        ctrl_width = np.concatenate(ctrl_width)\n",
    "        \n",
    "        ax[ax_ind].hist(ctrl_width, bins=bin_edges, color='black', alpha=.3, density=True)\n",
    "        \n",
    "        ko_width = []\n",
    "        for mouse in ko_mice:\n",
    "            f_info = 10*np.array(field_stats[mouse][day][ttype]['field_info'])\n",
    "            cell_list = np.unique(f_info[:,0])\n",
    "                \n",
    "            ko_width.append(np.array([np.count_nonzero(f_info[:,0]==cell) for cell in cell_list]).ravel())\n",
    "            \n",
    "        ko_width = np.concatenate(ko_width)\n",
    "        ax[ax_ind].hist(ko_width, bins=bin_edges, color='red', alpha=.3, density=True)\n",
    "        \n",
    "\n",
    "        ax[ax_ind].spines['top'].set_visible(False)\n",
    "        ax[ax_ind].spines['right'].set_visible(False)\n",
    "    \n",
    "        ax[ax_ind].set_yticks([])\n",
    "        ax[ax_ind].set_ylabel('Probability')\n",
    "        ax[ax_ind].set_xlabel('# of Fields')\n",
    "        ax[ax_ind].set_xlim(1,5)\n",
    "        \n",
    "        # fig.savefig(os.path.join(figdir, f\"day{day}_num_fields_hist.pdf\"))\n",
    "\n",
    "\n",
    "print('Familiar ANOVA')\n",
    "aov = mixed_anova(data=df.loc[(df['ttype']=='fam') & (df['day']<5)], dv='n_fields', between='cond', within='day', subject='mouse')\n",
    "print(aov)\n",
    "\n",
    "posthoc = pairwise_tests(data=df.loc[(df['ttype']=='fam')], dv='n_fields', between='cond', within='day', subject='mouse', padjust = 'holm')\n",
    "print(posthoc)\n",
    "\n",
    "print('Novel ANOVA')\n",
    "aov = mixed_anova(data=df.loc[(df['ttype']=='nov') & (df['day']<5)], dv='n_fields', between='cond', within='day', subject='mouse')\n",
    "print(aov)\n",
    "\n",
    "posthoc = pairwise_tests(data=df.loc[(df['ttype']=='nov')], dv='n_fields', between='cond', within='day', subject='mouse', padjust = 'holm')\n",
    "print(posthoc)\n",
    "\n"
   ]
  },
  {
   "cell_type": "code",
   "execution_count": 12,
   "id": "7bd15a14-4cd9-423e-addd-62f9f8dbed29",
   "metadata": {},
   "outputs": [
    {
     "data": {
      "text/plain": [
       "Text(0.5, 0, 'Day')"
      ]
     },
     "execution_count": 12,
     "metadata": {},
     "output_type": "execute_result"
    },
    {
     "data": {
      "image/png": "[encoded data removed]",
      "text/plain": [
       "<Figure size 700x500 with 1 Axes>"
      ]
     },
     "metadata": {},
     "output_type": "display_data"
    }
   ],
   "source": [
    "fig, ax = plt.subplots(figsize=[7,5], sharey=True)\n",
    "\n",
    "lw = 5\n",
    "s = 10\n",
    "for day in range(6):\n",
    "    \n",
    "    mask = (df['cond']=='ctrl') & (df['day']==day) #& (df['fam/nov']=='fam')\n",
    "    for mouse in ctrl_mice:\n",
    "        _mask = mask & (df['mouse']==mouse)\n",
    "        _df = df[_mask]\n",
    "        lr = [_df['n_fields'].loc[_df['ttype']=='fam']._values, _df['n_fields'].loc[_df['ttype']=='nov']._values]\n",
    "        \n",
    "        ax.plot(5*day + np.array([-1,-.3]), lr, color='black', alpha = .3)\n",
    "        # ax[0].scatter(5*day + np.array([-1,-.3]), lr, color='black', alpha = .3)\n",
    "        ax.scatter(5*day - 1,lr[0], color='black', alpha = 1, marker='o')\n",
    "        ax.scatter(5*day - .3, lr[1], color='black', alpha = 1, marker='x')\n",
    "        \n",
    "    mask = (df['cond']=='cre') & (df['day']==day) #& (df['fam/nov']=='fam')\n",
    "    for mouse in ko_mice:\n",
    "        _mask = mask & (df['mouse']==mouse)\n",
    "        _df = df[_mask]\n",
    "        lr = [_df['n_fields'].loc[_df['ttype']=='fam']._values, _df['n_fields'].loc[_df['ttype']=='nov']._values]\n",
    "        \n",
    "        ax.plot(5*day + np.array([.3,1]), lr, color='red', alpha = .3)\n",
    "        ax.scatter(5*day + .3,lr[0], color='red', alpha = 1, marker='o')\n",
    "        ax.scatter(5*day + 1, lr[1], color='red', alpha = 1, marker='x')\n",
    "\n",
    "# ax.plot([-2.3, 27.3], [0, 0], 'k--', zorder= -1, alpha=.5)\n",
    "\n",
    "    \n",
    "ax.set_title('Familiar v Nov')\n",
    "\n",
    "ax.set_xticks(np.arange(0,6*5,5))\n",
    "ax.set_xticklabels([x for x in range(1,7)])\n",
    "\n",
    "ax.spines['top'].set_visible(False)\n",
    "ax.spines['right'].set_visible(False)\n",
    "\n",
    "ax.set_ylabel('# of Fields per Cell')\n",
    "ax.set_xlabel('Day')"
   ]
  },
  {
   "cell_type": "code",
   "execution_count": null,
   "id": "ab7665c9-f1b8-44c1-a400-9a38ad090065",
   "metadata": {},
   "outputs": [],
   "source": []
  }
 ],
 "metadata": {
  "kernelspec": {
   "display_name": "Python 3 (ipykernel)",
   "language": "python",
   "name": "python3"
  },
  "language_info": {
   "codemirror_mode": {
    "name": "ipython",
    "version": 3
   },
   "file_extension": ".py",
   "mimetype": "text/x-python",
   "name": "python",
   "nbconvert_exporter": "python",
   "pygments_lexer": "ipython3",
   "version": "3.10.14"
  }
 },
 "nbformat": 4,
 "nbformat_minor": 5
}
