{
 "cells": [
  {
   "cell_type": "code",
   "execution_count": 30,
   "id": "ccb0342a",
   "metadata": {},
   "outputs": [
    {
     "name": "stdout",
     "output_type": "stream",
     "text": [
      "The autoreload extension is already loaded. To reload it, use:\n",
      "  %reload_ext autoreload\n"
     ]
    }
   ],
   "source": [
    "import numpy as np\n",
    "import scipy as sp\n",
    "import suite2p as s2p\n",
    "import TwoPUtils as tpu\n",
    "import InVivoDA_analyses as da\n",
    "import STX3KO_analyses as stx\n",
    "import os\n",
    "import shutil\n",
    "\n",
    "\n",
    "%matplotlib inline\n",
    "\n",
    "%load_ext autoreload\n",
    "%autoreload 2"
   ]
  },
  {
   "cell_type": "code",
   "execution_count": 31,
   "id": "a0393c80",
   "metadata": {},
   "outputs": [
    {
     "data": {
      "text/plain": [
       "{'preprocessed_root': 'C://Users\\\\esay\\\\data\\\\Stx3',\n",
       " 'pkl_root': 'C://Users\\\\esay\\\\data\\\\Stx3\\\\YMazeSessPkls',\n",
       " 'sbx_root': 'Z://giocomo\\\\InVivoDA\\\\2P_Data',\n",
       " 'VR_Data': 'C://Users\\\\esay\\\\data\\\\Stx3\\\\VR_Data',\n",
       " 'git_repo_root': 'C://repos',\n",
       " 'TwoPUtils': 'C://repos\\\\TwoPUtils',\n",
       " 'home': 'C://',\n",
       " 'fig_dir': 'C://Users\\\\esay\\\\data\\\\Stx3\\\\fig_scratch'}"
      ]
     },
     "execution_count": 31,
     "metadata": {},
     "output_type": "execute_result"
    }
   ],
   "source": [
    "from STX3KO_analyses.path_dicts.path_dict_esay import path_dictionary as path_dict\n",
    "# options: path_dict_josquin, path_dict_msosamac, etc.\n",
    "path_dict"
   ]
  },
  {
   "cell_type": "code",
   "execution_count": 32,
   "id": "1265ade8",
   "metadata": {},
   "outputs": [
    {
     "data": {
      "text/plain": [
       "('C://Users\\\\esay\\\\data\\\\Stx3\\\\SparseKO_03',\n",
       " 'Z://giocomo\\\\InVivoDA\\\\2P_Data\\\\SparseKO_03')"
      ]
     },
     "execution_count": 32,
     "metadata": {},
     "output_type": "execute_result"
    }
   ],
   "source": [
    "mouse = \"SparseKO_03\"\n",
    "basedir = os.path.join(path_dict['preprocessed_root'],mouse) #\"/mnt/BigDisk/2P_scratch/GRABDA15\"\n",
    "sbxdir = os.path.join(path_dict['sbx_root'],mouse) \n",
    "\n",
    "custom_nplanes = 1 # if needed to override empty optotune params\n",
    "\n",
    "basedir, sbxdir"
   ]
  },
  {
   "cell_type": "code",
   "execution_count": 51,
   "id": "ed5e8c0d",
   "metadata": {},
   "outputs": [
    {
     "data": {
      "text/plain": [
       "[({'date': '21_11_2024',\n",
       "   'scene': 'YMaze_LNovel',\n",
       "   'session': 1,\n",
       "   'scan': 12,\n",
       "   'novel_arm': 1,\n",
       "   'exp_day': 6},\n",
       "  {'date': '22_11_2024',\n",
       "   'scene': 'YMaze_LNovel_LongTimeout',\n",
       "   'session': 1,\n",
       "   'scan': 19,\n",
       "   'novel_arm': 1,\n",
       "   'exp_day': 7})]"
      ]
     },
     "execution_count": 51,
     "metadata": {},
     "output_type": "execute_result"
    }
   ],
   "source": [
    "\n",
    "file_list = stx.ymaze_sess_deets.SparseKO_sessions[mouse]\n",
    "# file_list = [ {'date': '22_11_2024', 'scene': 'YMaze_LNovel_LongTimeout', 'session': 1, 'scan': 19, 'exp_day': 7} ]\n",
    "# file_list = [ {'date': '16_11_2024', 'scene': 'YMaze_LNovel', 'session': 1, 'scan': 17, 'exp_day': 1} ]\n",
    "file_list = [file_list[5:7]]\n",
    "\n",
    "file_list"
   ]
  },
  {
   "cell_type": "code",
   "execution_count": 34,
   "id": "34537e21-e9bf-4a2d-8d20-02a8de78b0fb",
   "metadata": {},
   "outputs": [
    {
     "name": "stdout",
     "output_type": "stream",
     "text": [
      "\"etl_table\" was empty; hardcoding 1 planes\n",
      "nplanes= 1\n",
      "dset size <HDF5 dataset \"data\": shape (62390, 512, 796), type \"<f4\">\n",
      "0 1000\n",
      "1000 2000\n",
      "2000 3000\n",
      "3000 4000\n",
      "4000 5000\n",
      "5000 6000\n",
      "6000 7000\n",
      "7000 8000\n",
      "8000 9000\n",
      "9000 10000\n",
      "10000 11000\n",
      "11000 12000\n",
      "12000 13000\n",
      "13000 14000\n",
      "14000 15000\n",
      "15000 16000\n",
      "16000 17000\n",
      "17000 18000\n",
      "18000 19000\n",
      "19000 20000\n",
      "20000 21000\n",
      "21000 22000\n",
      "22000 23000\n",
      "23000 24000\n",
      "24000 25000\n",
      "25000 26000\n",
      "26000 27000\n",
      "27000 28000\n",
      "28000 29000\n",
      "29000 30000\n",
      "30000 31000\n",
      "31000 32000\n",
      "32000 33000\n",
      "33000 34000\n",
      "34000 35000\n",
      "35000 36000\n",
      "36000 37000\n",
      "37000 38000\n",
      "38000 39000\n",
      "39000 40000\n",
      "40000 41000\n",
      "41000 42000\n",
      "42000 43000\n",
      "43000 44000\n",
      "44000 45000\n",
      "45000 46000\n",
      "46000 47000\n",
      "47000 48000\n",
      "48000 49000\n",
      "49000 50000\n",
      "50000 51000\n",
      "51000 52000\n",
      "52000 53000\n",
      "53000 54000\n",
      "54000 55000\n",
      "55000 56000\n",
      "56000 57000\n",
      "57000 58000\n",
      "58000 59000\n",
      "59000 60000\n",
      "60000 61000\n",
      "61000 62000\n",
      "62000 62391\n",
      "trimming (195, 512, 796)\n",
      "{}\n",
      "h5\n",
      "OPS1 h5py: []\n",
      "** Found 1 h5 files - converting to binary **\n",
      "NOTE: using a list of h5 files:\n",
      "time 736.97 sec. Wrote 31195 frames per binary for 1 planes\n",
      ">>>>>>>>>>>>>>>>>>>>> PLANE 0 <<<<<<<<<<<<<<<<<<<<<<\n",
      "NOTE: not registered / registration forced with ops['do_registration']>1\n",
      "      (no previous offsets to delete)\n",
      "NOTE: applying default C:\\Users\\esay\\.suite2p\\classifiers\\classifier_user.npy\n",
      "----------- REGISTRATION\n",
      "registering two channels\n",
      "Reference frame, 3569.45 sec.\n",
      "Registered 500/31195 in 6134.48s\n",
      "Registered 1000/31195 in 12263.01s\n",
      "Registered 1500/31195 in 18369.59s\n",
      "Registered 2000/31195 in 24486.03s\n",
      "Registered 2500/31195 in 30595.58s\n",
      "Registered 3000/31195 in 36741.11s\n",
      "Registered 3500/31195 in 42881.52s\n",
      "Registered 4000/31195 in 48955.56s\n",
      "Registered 4500/31195 in 55035.27s\n",
      "Registered 5000/31195 in 61140.22s\n",
      "Registered 5500/31195 in 67243.72s\n",
      "Registered 6000/31195 in 73323.64s\n",
      "Registered 6500/31195 in 79416.59s\n",
      "Registered 7000/31195 in 85504.99s\n",
      "Registered 7500/31195 in 91573.54s\n",
      "Registered 8000/31195 in 97651.88s\n",
      "Registered 8500/31195 in 103743.83s\n",
      "Registered 9000/31195 in 109825.06s\n",
      "Registered 9500/31195 in 115937.08s\n",
      "Registered 10000/31195 in 122014.19s\n",
      "Registered 10500/31195 in 128086.82s\n",
      "Registered 11000/31195 in 134150.20s\n",
      "Registered 11500/31195 in 140268.67s\n",
      "Registered 12000/31195 in 146336.42s\n",
      "Registered 12500/31195 in 152434.84s\n",
      "Registered 13000/31195 in 158550.29s\n",
      "Registered 13500/31195 in 164636.88s\n",
      "Registered 14000/31195 in 170749.59s\n",
      "Registered 14500/31195 in 175276.92s\n",
      "Registered 15000/31195 in 177508.95s\n",
      "Registered 15500/31195 in 179524.16s\n",
      "Registered 16000/31195 in 181547.22s\n",
      "Registered 16500/31195 in 183577.85s\n",
      "Registered 17000/31195 in 185613.67s\n",
      "Registered 17500/31195 in 187621.21s\n",
      "Registered 18000/31195 in 189653.26s\n",
      "Registered 18500/31195 in 191717.73s\n",
      "Registered 19000/31195 in 193805.68s\n",
      "Registered 19500/31195 in 195886.94s\n",
      "Registered 20000/31195 in 198005.93s\n",
      "Registered 20500/31195 in 200100.40s\n",
      "Registered 21000/31195 in 202132.26s\n",
      "Registered 21500/31195 in 204189.39s\n",
      "Registered 22000/31195 in 206212.70s\n",
      "Registered 22500/31195 in 208300.50s\n",
      "Registered 23000/31195 in 210323.02s\n",
      "Registered 23500/31195 in 212336.83s\n",
      "Registered 24000/31195 in 214373.62s\n",
      "Registered 24500/31195 in 216398.67s\n",
      "Registered 25000/31195 in 218423.49s\n",
      "Registered 25500/31195 in 220453.97s\n",
      "Registered 26000/31195 in 222474.92s\n",
      "Registered 26500/31195 in 224489.03s\n",
      "Registered 27000/31195 in 226504.28s\n",
      "Registered 27500/31195 in 228534.56s\n",
      "Registered 28000/31195 in 230560.91s\n",
      "Registered 28500/31195 in 232581.91s\n",
      "Registered 29000/31195 in 234589.98s\n",
      "Registered 29500/31195 in 236604.55s\n",
      "Registered 30000/31195 in 238612.71s\n",
      "Registered 30500/31195 in 240647.33s\n",
      "Registered 31000/31195 in 242679.68s\n",
      "Registered 31195/31195 in 243475.60s\n",
      "Second channel, Registered 500/31195 in 3.46s\n",
      "Second channel, Registered 1000/31195 in 6.77s\n",
      "Second channel, Registered 1500/31195 in 10.45s\n",
      "Second channel, Registered 2000/31195 in 14.09s\n",
      "Second channel, Registered 2500/31195 in 17.76s\n",
      "Second channel, Registered 3000/31195 in 21.43s\n",
      "Second channel, Registered 3500/31195 in 25.09s\n",
      "Second channel, Registered 4000/31195 in 28.52s\n",
      "Second channel, Registered 4500/31195 in 31.98s\n",
      "Second channel, Registered 5000/31195 in 35.28s\n",
      "Second channel, Registered 5500/31195 in 38.72s\n",
      "Second channel, Registered 6000/31195 in 42.41s\n",
      "Second channel, Registered 6500/31195 in 46.38s\n",
      "Second channel, Registered 7000/31195 in 50.37s\n",
      "Second channel, Registered 7500/31195 in 54.36s\n",
      "Second channel, Registered 8000/31195 in 58.06s\n",
      "Second channel, Registered 8500/31195 in 61.49s\n",
      "Second channel, Registered 9000/31195 in 65.15s\n",
      "Second channel, Registered 9500/31195 in 68.79s\n",
      "Second channel, Registered 10000/31195 in 72.32s\n",
      "Second channel, Registered 10500/31195 in 75.85s\n",
      "Second channel, Registered 11000/31195 in 79.74s\n",
      "Second channel, Registered 11500/31195 in 83.84s\n",
      "Second channel, Registered 12000/31195 in 87.99s\n",
      "Second channel, Registered 12500/31195 in 92.19s\n",
      "Second channel, Registered 13000/31195 in 96.29s\n",
      "Second channel, Registered 13500/31195 in 100.47s\n",
      "Second channel, Registered 14000/31195 in 104.61s\n",
      "Second channel, Registered 14500/31195 in 108.63s\n",
      "Second channel, Registered 15000/31195 in 112.78s\n",
      "Second channel, Registered 15500/31195 in 116.87s\n",
      "Second channel, Registered 16000/31195 in 120.76s\n",
      "Second channel, Registered 16500/31195 in 124.80s\n",
      "Second channel, Registered 17000/31195 in 128.90s\n",
      "Second channel, Registered 17500/31195 in 132.99s\n",
      "Second channel, Registered 18000/31195 in 136.83s\n",
      "Second channel, Registered 18500/31195 in 140.66s\n",
      "Second channel, Registered 19000/31195 in 144.77s\n",
      "Second channel, Registered 19500/31195 in 148.67s\n",
      "Second channel, Registered 20000/31195 in 152.61s\n",
      "Second channel, Registered 20500/31195 in 156.75s\n",
      "Second channel, Registered 21000/31195 in 160.64s\n",
      "Second channel, Registered 21500/31195 in 164.42s\n",
      "Second channel, Registered 22000/31195 in 168.60s\n",
      "Second channel, Registered 22500/31195 in 172.74s\n",
      "Second channel, Registered 23000/31195 in 176.79s\n",
      "Second channel, Registered 23500/31195 in 180.58s\n",
      "Second channel, Registered 24000/31195 in 184.46s\n",
      "Second channel, Registered 24500/31195 in 188.65s\n",
      "Second channel, Registered 25000/31195 in 192.81s\n",
      "Second channel, Registered 25500/31195 in 196.92s\n",
      "Second channel, Registered 26000/31195 in 200.68s\n",
      "Second channel, Registered 26500/31195 in 204.61s\n",
      "Second channel, Registered 27000/31195 in 208.70s\n",
      "Second channel, Registered 27500/31195 in 212.80s\n",
      "Second channel, Registered 28000/31195 in 216.55s\n",
      "Second channel, Registered 28500/31195 in 220.48s\n",
      "Second channel, Registered 29000/31195 in 224.61s\n",
      "Second channel, Registered 29500/31195 in 228.49s\n",
      "Second channel, Registered 30000/31195 in 232.42s\n",
      "Second channel, Registered 30500/31195 in 236.58s\n",
      "Second channel, Registered 31000/31195 in 240.72s\n",
      "Second channel, Registered 31195/31195 in 242.25s\n",
      "----------- Total 247309.55 sec\n",
      "Registration metrics, 153.52 sec.\n",
      "----------- ROI DETECTION\n",
      "Binning movie in chunks of length 22\n",
      "Binned movie of size [1417,498,774] created in 34.05 sec.\n",
      "NOTE: estimated spatial scale ~12 pixels, time epochs 1.18, threshold 7.09 \n",
      "0 ROIs, score=333.34\n",
      "Detected 875 ROIs, 55.00 sec\n",
      "After removing overlaps, 681 ROIs remain\n",
      ">>>> CELLPOSE estimating masks in anatomical channel\n",
      "ERROR importing or running cellpose, continuing without anatomical estimates\n",
      "----------- Total 94.20 sec.\n",
      "----------- EXTRACTION\n",
      "Masks created, 1.44 sec.\n",
      "Extracted fluorescence from 681 ROIs in 31195 frames, 42.21 sec.\n",
      "Extracted fluorescence from 681 ROIs in 31195 frames, 41.85 sec.\n",
      "----------- Total 86.02 sec.\n",
      "----------- CLASSIFICATION\n",
      "['compact', 'npix_norm', 'skew']\n",
      "----------- SPIKE DECONVOLUTION\n",
      "----------- Total 0.86 sec.\n",
      "Plane 0 processed in 247644.62 sec (can open in GUI).\n",
      "total = 248385.19 sec.\n",
      "TOTAL RUNTIME 248385.19 sec\n"
     ]
    }
   ],
   "source": [
    "for fn,f in enumerate(file_list):\n",
    "\n",
    "    # Set data input and output paths\n",
    "    fullpath = os.path.join(basedir,f['date'],f['scene'],\"%s_%03d_%03d\" % (f['scene'], f['session'], f['scan']))\n",
    "    scanpath = os.path.join(sbxdir,f['date'],f['scene'],\"%s_%03d_%03d\" % (f['scene'], f['session'], f['scan']))\n",
    "    h5path = os.path.join(basedir,f['date'],f['scene'],\"%s_%03d_%03d.h5\" % (f['scene'], f['session'], f['scan']))\n",
    "\n",
    "    # load .mat header with metadata\n",
    "    scanmat, sbxfile = scanpath+'.mat', scanpath+'.sbx'\n",
    "    info = tpu.scanner_tools.sbx_utils.loadmat(scanmat, sbx_version=3)\n",
    "    if len(info['etl_table'])>0:\n",
    "        nplanes = info['etl_table'].shape[0]\n",
    "    else:\n",
    "        nplanes = custom_nplanes\n",
    "        print('\"etl_table\" was empty; hardcoding %d planes' % nplanes)\n",
    "\n",
    "    print('nplanes=',nplanes)\n",
    "\n",
    "    # convert .sbx file to .h5\n",
    "    h5name = tpu.scanner_tools.sbx_utils.sbx2h5(scanpath,output_name=h5path, sbx_version=3)\n",
    "    \n",
    "    # run suite2p to run motion registration AND extract ROIs on the first\n",
    "    # functional channel (channel 1, green, PMT0)\n",
    "    ops_orig = tpu.s2p.set_ops(d={'data_path': [os.path.split(fullpath)[0]],\n",
    "                           'save_path0': fullpath,\n",
    "                           'fast_disk':[],\n",
    "                           'move_bin':False,\n",
    "                           'two_step_registration':True,\n",
    "                           'maxregshiftNR':10,\n",
    "                           'nchannels':2,\n",
    "                           'tau': 0.7,\n",
    "                           'functional_chan':1,\n",
    "                           'nimg_init': 2000,\n",
    "                           'fs':info['frame_rate'],\n",
    "                           'roidetect':True,\n",
    "                           'input_format':\"h5\",\n",
    "                           'h5py_key':'data',\n",
    "                           'sparse_mode':True,\n",
    "                           'threshold_scaling':.6, #.6\n",
    "                            'nplanes':nplanes})\n",
    "\n",
    "    ops_orig=s2p.run_s2p(ops=ops_orig)\n",
    "\n",
    "    # !rm {h5name} "
   ]
  },
  {
   "cell_type": "markdown",
   "id": "15d6212a-b7c9-4d62-8259-1087235b7dd8",
   "metadata": {},
   "source": [
    "## Copy binary files so you don't have to re-register"
   ]
  },
  {
   "cell_type": "code",
   "execution_count": 45,
   "id": "534a172d-7f9d-44d6-a708-111fa13fd2d8",
   "metadata": {
    "scrolled": true
   },
   "outputs": [],
   "source": [
    "ops_orig = ops"
   ]
  },
  {
   "cell_type": "code",
   "execution_count": 48,
   "id": "b23781ed-7ba9-4152-ac5f-99f50f3e8dc5",
   "metadata": {},
   "outputs": [
    {
     "ename": "AttributeError",
     "evalue": "'numpy.ndarray' object has no attribute 'istype'",
     "output_type": "error",
     "traceback": [
      "\u001b[1;31m---------------------------------------------------------------------------\u001b[0m",
      "\u001b[1;31mAttributeError\u001b[0m                            Traceback (most recent call last)",
      "Cell \u001b[1;32mIn[48], line 1\u001b[0m\n\u001b[1;32m----> 1\u001b[0m \u001b[43mops\u001b[49m\u001b[38;5;241;43m.\u001b[39;49m\u001b[43mistype\u001b[49m\n",
      "\u001b[1;31mAttributeError\u001b[0m: 'numpy.ndarray' object has no attribute 'istype'"
     ]
    }
   ],
   "source": [
    "ops.istype"
   ]
  },
  {
   "cell_type": "code",
   "execution_count": 35,
   "id": "3d463f0f-16f5-4dca-8198-49b47bbe3f82",
   "metadata": {},
   "outputs": [],
   "source": [
    "for fn,f in enumerate(file_list):\n",
    "    ops_path = os.path.join(basedir,f['date'],f['scene'],\"%s_%03d_%03d\" % (f['scene'], f['session'], f['scan']),'suite2p','plane0')\n",
    "    ops_orig = np.load(ops_path + '/ops.npy', allow_pickle=True)\n"
   ]
  },
  {
   "cell_type": "code",
   "execution_count": 46,
   "id": "80b4601a-b382-4d42-b15f-6a3a8cab586f",
   "metadata": {},
   "outputs": [
    {
     "ename": "IndexError",
     "evalue": "only integers, slices (`:`), ellipsis (`...`), numpy.newaxis (`None`) and integer or boolean arrays are valid indices",
     "output_type": "error",
     "traceback": [
      "\u001b[1;31m---------------------------------------------------------------------------\u001b[0m",
      "\u001b[1;31mIndexError\u001b[0m                                Traceback (most recent call last)",
      "Cell \u001b[1;32mIn[46], line 7\u001b[0m\n\u001b[0;32m      3\u001b[0m ops \u001b[38;5;241m=\u001b[39m ops_orig\u001b[38;5;241m.\u001b[39mcopy()\n\u001b[0;32m      4\u001b[0m \u001b[38;5;66;03m# save_path_orig = ops_orig['save_path0']\u001b[39;00m\n\u001b[0;32m      5\u001b[0m \n\u001b[0;32m      6\u001b[0m \u001b[38;5;66;03m# Make new save path, destination for new ops, stat, and copied binaries\u001b[39;00m\n\u001b[1;32m----> 7\u001b[0m ops[\u001b[38;5;124m'\u001b[39m\u001b[38;5;124msave_path\u001b[39m\u001b[38;5;124m'\u001b[39m] \u001b[38;5;241m=\u001b[39m os\u001b[38;5;241m.\u001b[39mpath\u001b[38;5;241m.\u001b[39mjoin(basedir,f[\u001b[38;5;124m'\u001b[39m\u001b[38;5;124mdate\u001b[39m\u001b[38;5;124m'\u001b[39m],f[\u001b[38;5;124m'\u001b[39m\u001b[38;5;124mscene\u001b[39m\u001b[38;5;124m'\u001b[39m],\u001b[38;5;124m\"\u001b[39m\u001b[38;5;132;01m%s\u001b[39;00m\u001b[38;5;124m_\u001b[39m\u001b[38;5;132;01m%03d\u001b[39;00m\u001b[38;5;124m_\u001b[39m\u001b[38;5;132;01m%03d\u001b[39;00m\u001b[38;5;124m\"\u001b[39m \u001b[38;5;241m%\u001b[39m (f[\u001b[38;5;124m'\u001b[39m\u001b[38;5;124mscene\u001b[39m\u001b[38;5;124m'\u001b[39m], f[\u001b[38;5;124m'\u001b[39m\u001b[38;5;124msession\u001b[39m\u001b[38;5;124m'\u001b[39m], f[\u001b[38;5;124m'\u001b[39m\u001b[38;5;124mscan\u001b[39m\u001b[38;5;124m'\u001b[39m]), \u001b[38;5;124m'\u001b[39m\u001b[38;5;124mchan2\u001b[39m\u001b[38;5;124m'\u001b[39m,\u001b[38;5;124m'\u001b[39m\u001b[38;5;124msuite2p\u001b[39m\u001b[38;5;124m'\u001b[39m, \u001b[38;5;124m'\u001b[39m\u001b[38;5;124mplane0\u001b[39m\u001b[38;5;124m'\u001b[39m)\n\u001b[0;32m      8\u001b[0m os\u001b[38;5;241m.\u001b[39mmakedirs(ops[\u001b[38;5;124m'\u001b[39m\u001b[38;5;124msave_path\u001b[39m\u001b[38;5;124m'\u001b[39m], exist_ok\u001b[38;5;241m=\u001b[39m\u001b[38;5;28;01mTrue\u001b[39;00m)\n",
      "\u001b[1;31mIndexError\u001b[0m: only integers, slices (`:`), ellipsis (`...`), numpy.newaxis (`None`) and integer or boolean arrays are valid indices"
     ]
    }
   ],
   "source": [
    "## Use the existing motion-registered binary and\n",
    "# extract ROIs for functional channel 2 (red, PMT1)\n",
    "ops = ops_orig.copy()\n",
    "# save_path_orig = ops_orig['save_path0']\n",
    "\n",
    "# Make new save path, destination for new ops, stat, and copied binaries\n",
    "ops['save_path'] = os.path.join(basedir,f['date'],f['scene'],\"%s_%03d_%03d\" % (f['scene'], f['session'], f['scan']), 'chan2','suite2p', 'plane0')\n",
    "os.makedirs(ops['save_path'], exist_ok=True)\n"
   ]
  },
  {
   "cell_type": "code",
   "execution_count": 40,
   "id": "aea31134-5bfa-4565-be5e-3747bb3931f6",
   "metadata": {},
   "outputs": [
    {
     "ename": "IndexError",
     "evalue": "only integers, slices (`:`), ellipsis (`...`), numpy.newaxis (`None`) and integer or boolean arrays are valid indices",
     "output_type": "error",
     "traceback": [
      "\u001b[1;31m---------------------------------------------------------------------------\u001b[0m",
      "\u001b[1;31mIndexError\u001b[0m                                Traceback (most recent call last)",
      "Cell \u001b[1;32mIn[40], line 1\u001b[0m\n\u001b[1;32m----> 1\u001b[0m ops[\u001b[38;5;124m'\u001b[39m\u001b[38;5;124mfast_disk\u001b[39m\u001b[38;5;124m'\u001b[39m] \u001b[38;5;241m=\u001b[39m [] \u001b[38;5;66;03m# remove this so there's no confusion with save_path\u001b[39;00m\n\u001b[0;32m      3\u001b[0m orig_reg_file_1 \u001b[38;5;241m=\u001b[39m os\u001b[38;5;241m.\u001b[39mpath\u001b[38;5;241m.\u001b[39mjoin(save_path_orig,\u001b[38;5;124m'\u001b[39m\u001b[38;5;124msuite2p\u001b[39m\u001b[38;5;124m'\u001b[39m,\u001b[38;5;124m'\u001b[39m\u001b[38;5;124mplane0\u001b[39m\u001b[38;5;124m'\u001b[39m,\u001b[38;5;124m'\u001b[39m\u001b[38;5;124mdata.bin\u001b[39m\u001b[38;5;124m'\u001b[39m) \u001b[38;5;66;03m# the original data.nbin\u001b[39;00m\n\u001b[0;32m      4\u001b[0m orig_reg_file_2 \u001b[38;5;241m=\u001b[39m os\u001b[38;5;241m.\u001b[39mpath\u001b[38;5;241m.\u001b[39mjoin(save_path_orig,\u001b[38;5;124m'\u001b[39m\u001b[38;5;124msuite2p\u001b[39m\u001b[38;5;124m'\u001b[39m,\u001b[38;5;124m'\u001b[39m\u001b[38;5;124mplane0\u001b[39m\u001b[38;5;124m'\u001b[39m,\u001b[38;5;124m'\u001b[39m\u001b[38;5;124mdata_chan2.bin\u001b[39m\u001b[38;5;124m'\u001b[39m) \u001b[38;5;66;03m# the original data_chan2.nbin\u001b[39;00m\n",
      "\u001b[1;31mIndexError\u001b[0m: only integers, slices (`:`), ellipsis (`...`), numpy.newaxis (`None`) and integer or boolean arrays are valid indices"
     ]
    }
   ],
   "source": [
    "\n",
    "ops['fast_disk'] = [] # remove this so there's no confusion with save_path\n",
    "\n",
    "orig_reg_file_1 = os.path.join(save_path_orig,'suite2p','plane0','data.bin') # the original data.nbin\n",
    "orig_reg_file_2 = os.path.join(save_path_orig,'suite2p','plane0','data_chan2.bin') # the original data_chan2.nbin\n",
    "\n",
    "# switch meanImg <-> meanImg_chan2\n",
    "mimg = np.copy(ops_orig['meanImg'])\n",
    "ops['meanImg'] = np.copy(ops_orig['meanImg_chan2'])\n",
    "ops['meanImg_chan2'] = mimg\n",
    "\n",
    "# copy chan2 reg file (original data_chan2.bin) to new location as \"data.bin\"\n",
    "ops['reg_file'] = os.path.join(ops['save_path'], 'data.bin') # create a path for the new reg_file\n",
    "shutil.copyfile(orig_reg_file_2, ops['reg_file'])\n",
    "print('red reg_file_chan2 copied to %s'%(ops['reg_file']))\n",
    "\n",
    "# now copy original chan1 reg file to new \"data_chan2.bin\"\n",
    "ops['reg_file_chan2'] = os.path.join(ops['save_path'], 'data_chan2.bin') # create a path for the new chan2 reg_file\n",
    "shutil.copyfile(orig_reg_file_1, ops['reg_file_chan2'])\n",
    "print('green reg_file copied to %s'%(ops['reg_file_chan2']))\n"
   ]
  },
  {
   "cell_type": "code",
   "execution_count": 25,
   "id": "6f312e6b-36bf-4de6-8193-2f0353e511e4",
   "metadata": {},
   "outputs": [],
   "source": [
    "# save new ops file with paths\n",
    "ops['ops_path'] = os.path.join(ops['save_path'],'ops.npy')\n",
    "ops['save_path0'] = os.path.join(ops['save_path0'], 'chan2') # need it to look here + suite2p/plane0/ for binaries that we copied\n",
    "\n",
    "np.save(ops['ops_path'], ops)"
   ]
  },
  {
   "cell_type": "code",
   "execution_count": 26,
   "id": "aa647de9-65ed-4594-b245-424ef11eb248",
   "metadata": {},
   "outputs": [],
   "source": [
    "## Optional: update ROI threshold for the second channel\n",
    "ops['threshold_scaling'] = .85"
   ]
  },
  {
   "cell_type": "code",
   "execution_count": 27,
   "id": "8fbae292-d012-4930-8f2b-9a4336d431bd",
   "metadata": {},
   "outputs": [],
   "source": [
    "import matplotlib.pyplot as plt"
   ]
  },
  {
   "cell_type": "code",
   "execution_count": 28,
   "id": "8846ec43-798f-4e59-a190-6aaaf2866ce8",
   "metadata": {},
   "outputs": [
    {
     "data": {
      "text/plain": [
       "<matplotlib.image.AxesImage at 0x251a324d970>"
      ]
     },
     "execution_count": 28,
     "metadata": {},
     "output_type": "execute_result"
    },
    {
     "data": {
      "image/png": "[encoded data removed]",
      "text/plain": [
       "<Figure size 640x480 with 1 Axes>"
      ]
     },
     "metadata": {},
     "output_type": "display_data"
    },
    {
     "data": {
      "image/png": "[encoded data removed]",
      "text/plain": [
       "<Figure size 640x480 with 1 Axes>"
      ]
     },
     "metadata": {},
     "output_type": "display_data"
    }
   ],
   "source": [
    "plt.figure()\n",
    "plt.imshow(ops['meanImg_chan2'])\n",
    "\n",
    "plt.figure()\n",
    "plt.imshow(ops['meanImg'])"
   ]
  },
  {
   "cell_type": "code",
   "execution_count": 29,
   "id": "060e152f-39e3-428a-a047-8d75a34a0cc4",
   "metadata": {
    "tags": []
   },
   "outputs": [
    {
     "name": "stdout",
     "output_type": "stream",
     "text": [
      "{}\n",
      "FOUND BINARIES AND OPS IN ['C:\\\\Users\\\\esay\\\\data\\\\Stx3\\\\SparseKO_03\\\\16_11_2024\\\\YMaze_LNovel\\\\YMaze_LNovel_001_017\\\\chan2\\\\suite2p\\\\plane0\\\\ops.npy']\n",
      "removing previous detection and extraction files, if present\n",
      ">>>>>>>>>>>>>>>>>>>>> PLANE 0 <<<<<<<<<<<<<<<<<<<<<<\n",
      "NOTE: not running registration, plane already registered\n",
      "binary path: C:\\Users\\esay\\data\\Stx3\\SparseKO_03\\16_11_2024\\YMaze_LNovel\\YMaze_LNovel_001_017\\chan2\\suite2p\\plane0\\data.bin\n",
      "NOTE: applying default C:\\Users\\esay\\.suite2p\\classifiers\\classifier_user.npy\n",
      "----------- ROI DETECTION\n",
      "Binning movie in chunks of length 22\n",
      "Binned movie of size [1289,504,774] created in 21.23 sec.\n",
      "NOTE: estimated spatial scale ~6 pixels, time epochs 1.07, threshold 4.57 \n",
      "0 ROIs, score=169.31\n",
      "1000 ROIs, score=9.38\n",
      "2000 ROIs, score=7.62\n",
      "3000 ROIs, score=6.76\n",
      "4000 ROIs, score=6.49\n",
      "Detected 5000 ROIs, 43.92 sec\n",
      "After removing overlaps, 3734 ROIs remain\n",
      ">>>> CELLPOSE estimating masks in anatomical channel\n"
     ]
    },
    {
     "name": "stderr",
     "output_type": "stream",
     "text": [
      "C:\\Users\\esay\\.conda\\envs\\es_base\\lib\\site-packages\\cellpose\\resnet_torch.py:275: FutureWarning: You are using `torch.load` with `weights_only=False` (the current default value), which uses the default pickle module implicitly. It is possible to construct malicious pickle data which will execute arbitrary code during unpickling (See https://github.com/pytorch/pytorch/blob/main/SECURITY.md#untrusted-models for more details). In a future release, the default value for `weights_only` will be flipped to `True`. This limits the functions that could be executed during unpickling. Arbitrary objects will no longer be allowed to be loaded via this mode unless they are explicitly allowlisted by the user via `torch.serialization.add_safe_globals`. We recommend you start setting `weights_only=True` for any use case where you don't have full control of the loaded file. Please open an issue on GitHub for any issues related to this experimental feature.\n",
      "  state_dict = torch.load(filename, map_location=torch.device(\"cpu\"))\n"
     ]
    },
    {
     "name": "stdout",
     "output_type": "stream",
     "text": [
      ">>>> 328 masks detected, median diameter = 14.34 \n",
      "----------- Total 76.49 sec.\n",
      "----------- EXTRACTION\n",
      "Masks created, 3.00 sec.\n",
      "Extracted fluorescence from 3734 ROIs in 28374 frames, 87.30 sec.\n",
      "Extracted fluorescence from 3734 ROIs in 28374 frames, 90.58 sec.\n",
      "----------- Total 182.24 sec.\n",
      "----------- CLASSIFICATION\n",
      "['skew', 'compact', 'npix_norm']\n",
      "----------- SPIKE DECONVOLUTION\n",
      "----------- Total 2.41 sec.\n",
      "Plane 0 processed in 262.74 sec (can open in GUI).\n",
      "total = 266.36 sec.\n",
      "TOTAL RUNTIME 266.36 sec\n"
     ]
    }
   ],
   "source": [
    "## Run the ROI extraction for the second channel\n",
    "opsEnd=s2p.run_s2p(ops=ops)"
   ]
  },
  {
   "cell_type": "markdown",
   "id": "51c78b24-6879-4886-9c11-98d96b6809f1",
   "metadata": {},
   "source": [
    "### You can now open both channels in suite2p"
   ]
  },
  {
   "cell_type": "code",
   "execution_count": 39,
   "id": "edfb3f50-37a0-4554-98ae-a0ab5d1f722c",
   "metadata": {},
   "outputs": [],
   "source": [
    "## OPTIONAL delete copied binaries from the chan2 path to save disk space\n",
    "# rm in linux, del in windows!!!\n",
    "!del {ops['reg_file']}\n",
    "!del {ops['reg_file_chan2']} "
   ]
  },
  {
   "cell_type": "code",
   "execution_count": 41,
   "id": "ae1a2303-631f-49e4-9ac5-f97eeb3bff70",
   "metadata": {},
   "outputs": [],
   "source": [
    "## Remove enormous h5 file\n",
    "!del {h5name} "
   ]
  },
  {
   "cell_type": "markdown",
   "id": "a2d4bf03-9a3d-494f-8122-4b86037b6ac8",
   "metadata": {},
   "source": [
    "### Try copying putting binary creation in for loop"
   ]
  },
  {
   "cell_type": "code",
   "execution_count": 52,
   "id": "22c80537-05ce-46e0-b3f7-7714c6313544",
   "metadata": {},
   "outputs": [
    {
     "name": "stdout",
     "output_type": "stream",
     "text": [
      "({'date': '21_11_2024', 'scene': 'YMaze_LNovel', 'session': 1, 'scan': 12, 'novel_arm': 1, 'exp_day': 6}, {'date': '22_11_2024', 'scene': 'YMaze_LNovel_LongTimeout', 'session': 1, 'scan': 19, 'novel_arm': 1, 'exp_day': 7})\n",
      "\"etl_table\" was empty; hardcoding 1 planes\n",
      "nplanes= 1\n",
      "dset size <HDF5 dataset \"data\": shape (62390, 512, 796), type \"<f4\">\n",
      "0 1000\n",
      "1000 2000\n",
      "2000 3000\n",
      "3000 4000\n",
      "4000 5000\n",
      "5000 6000\n",
      "6000 7000\n",
      "7000 8000\n",
      "8000 9000\n",
      "9000 10000\n",
      "10000 11000\n",
      "11000 12000\n",
      "12000 13000\n",
      "13000 14000\n",
      "14000 15000\n",
      "15000 16000\n",
      "16000 17000\n",
      "17000 18000\n",
      "18000 19000\n",
      "19000 20000\n",
      "20000 21000\n",
      "21000 22000\n",
      "22000 23000\n",
      "23000 24000\n",
      "24000 25000\n",
      "25000 26000\n",
      "26000 27000\n",
      "27000 28000\n",
      "28000 29000\n",
      "29000 30000\n",
      "30000 31000\n",
      "31000 32000\n",
      "32000 33000\n",
      "33000 34000\n",
      "34000 35000\n",
      "35000 36000\n",
      "36000 37000\n",
      "37000 38000\n",
      "38000 39000\n",
      "39000 40000\n",
      "40000 41000\n",
      "41000 42000\n",
      "42000 43000\n",
      "43000 44000\n",
      "44000 45000\n",
      "45000 46000\n",
      "46000 47000\n",
      "47000 48000\n",
      "48000 49000\n",
      "49000 50000\n",
      "50000 51000\n",
      "51000 52000\n",
      "52000 53000\n",
      "53000 54000\n",
      "54000 55000\n",
      "55000 56000\n",
      "56000 57000\n",
      "57000 58000\n",
      "58000 59000\n",
      "59000 60000\n",
      "60000 61000\n",
      "61000 62000\n",
      "62000 62391\n",
      "trimming (195, 512, 796)\n",
      "{}\n",
      "FOUND BINARIES AND OPS IN ['C://Users\\\\esay\\\\data\\\\Stx3\\\\SparseKO_03\\\\21_11_2024\\\\YMaze_LNovel\\\\YMaze_LNovel_001_012\\\\suite2p\\\\plane0\\\\ops.npy']\n",
      "removing previous detection and extraction files, if present\n",
      ">>>>>>>>>>>>>>>>>>>>> PLANE 0 <<<<<<<<<<<<<<<<<<<<<<\n",
      "NOTE: not running registration, plane already registered\n",
      "binary path: C://Users\\esay\\data\\Stx3\\SparseKO_03\\21_11_2024\\YMaze_LNovel\\YMaze_LNovel_001_012\\suite2p\\plane0\\data.bin\n",
      "NOTE: applying default C:\\Users\\esay\\.suite2p\\classifiers\\classifier_user.npy\n",
      "----------- ROI DETECTION\n",
      "Binning movie in chunks of length 22\n",
      "Binned movie of size [1417,498,774] created in 195.15 sec.\n",
      "NOTE: estimated spatial scale ~12 pixels, time epochs 1.18, threshold 7.09 \n",
      "0 ROIs, score=333.34\n",
      "Detected 875 ROIs, 198.05 sec\n",
      "After removing overlaps, 681 ROIs remain\n",
      ">>>> CELLPOSE estimating masks in anatomical channel\n",
      "ERROR importing or running cellpose, continuing without anatomical estimates\n",
      "----------- Total 403.03 sec.\n",
      "----------- EXTRACTION\n",
      "Masks created, 2.86 sec.\n",
      "Extracted fluorescence from 681 ROIs in 31195 frames, 108.18 sec.\n",
      "Extracted fluorescence from 681 ROIs in 31195 frames, 201.27 sec.\n",
      "----------- Total 314.38 sec.\n",
      "----------- CLASSIFICATION\n",
      "['compact', 'npix_norm', 'skew']\n",
      "----------- SPIKE DECONVOLUTION\n",
      "----------- Total 3.75 sec.\n",
      "Plane 0 processed in 722.82 sec (can open in GUI).\n",
      "total = 739.36 sec.\n",
      "TOTAL RUNTIME 739.36 sec\n",
      "Copying binary\n",
      "red reg_file_chan2 copied to C://Users\\esay\\data\\Stx3\\SparseKO_03\\21_11_2024\\YMaze_LNovel\\YMaze_LNovel_001_012\\chan2\\suite2p\\plane0\\data.bin\n",
      "green reg_file copied to C://Users\\esay\\data\\Stx3\\SparseKO_03\\21_11_2024\\YMaze_LNovel\\YMaze_LNovel_001_012\\chan2\\suite2p\\plane0\\data_chan2.bin\n",
      "Updated threshold scaling to 0.85\n",
      "Running ROI extraction for second channel\n",
      "{}\n",
      "FOUND BINARIES AND OPS IN ['C://Users\\\\esay\\\\data\\\\Stx3\\\\SparseKO_03\\\\21_11_2024\\\\YMaze_LNovel\\\\YMaze_LNovel_001_012\\\\chan2\\\\suite2p\\\\plane0\\\\ops.npy']\n",
      "removing previous detection and extraction files, if present\n",
      ">>>>>>>>>>>>>>>>>>>>> PLANE 0 <<<<<<<<<<<<<<<<<<<<<<\n",
      "NOTE: not running registration, plane already registered\n",
      "binary path: C://Users\\esay\\data\\Stx3\\SparseKO_03\\21_11_2024\\YMaze_LNovel\\YMaze_LNovel_001_012\\chan2\\suite2p\\plane0\\data.bin\n",
      "NOTE: applying default C:\\Users\\esay\\.suite2p\\classifiers\\classifier_user.npy\n",
      "----------- ROI DETECTION\n",
      "Binning movie in chunks of length 22\n",
      "Binned movie of size [1417,498,774] created in 124.19 sec.\n"
     ]
    },
    {
     "name": "stderr",
     "output_type": "stream",
     "text": [
      "C:\\Users\\esay\\.conda\\envs\\s2p_analysis\\lib\\site-packages\\suite2p\\detection\\sparsedetect.py:286: UserWarning: Spatial scale estimation failed.  Setting spatial scale to 1 in order to continue.\n",
      "  warn(\n"
     ]
    },
    {
     "name": "stdout",
     "output_type": "stream",
     "text": [
      "NOTE: FORCED spatial scale ~6 pixels, time epochs 1.18, threshold 5.02 \n",
      "0 ROIs, score=143.66\n",
      "1000 ROIs, score=9.33\n",
      "2000 ROIs, score=7.24\n",
      "3000 ROIs, score=6.59\n",
      "4000 ROIs, score=6.32\n",
      "Detected 5000 ROIs, 367.70 sec\n",
      "After removing overlaps, 3773 ROIs remain\n",
      ">>>> CELLPOSE estimating masks in anatomical channel\n",
      "ERROR importing or running cellpose, continuing without anatomical estimates\n",
      "----------- Total 537.05 sec.\n",
      "----------- EXTRACTION\n",
      "Masks created, 25.20 sec.\n",
      "Extracted fluorescence from 3773 ROIs in 31195 frames, 303.02 sec.\n",
      "Extracted fluorescence from 3773 ROIs in 31195 frames, 340.26 sec.\n",
      "----------- Total 686.00 sec.\n",
      "----------- CLASSIFICATION\n",
      "['compact', 'npix_norm', 'skew']\n",
      "----------- SPIKE DECONVOLUTION\n",
      "----------- Total 27.53 sec.\n",
      "Plane 0 processed in 1258.21 sec (can open in GUI).\n",
      "total = 1290.55 sec.\n",
      "TOTAL RUNTIME 1290.58 sec\n"
     ]
    }
   ],
   "source": [
    "for fn,f in enumerate(file_list):\n",
    "\n",
    "    print(f)\n",
    "\n",
    "    # Set data input and output paths\n",
    "    fullpath = os.path.join(basedir,f[fn]['date'],f[fn]['scene'],\"%s_%03d_%03d\" % (f[fn]['scene'], f[fn]['session'], f[fn]['scan']))\n",
    "    scanpath = os.path.join(sbxdir,f[fn]['date'],f[fn]['scene'],\"%s_%03d_%03d\" % (f[fn]['scene'], f[fn]['session'], f[fn]['scan']))\n",
    "    h5path = os.path.join(basedir,f[fn]['date'],f[fn]['scene'],\"%s_%03d_%03d.h5\" % (f[fn]['scene'], f[fn]['session'], f[fn]['scan']))\n",
    "\n",
    "    # load .mat header with metadata\n",
    "    scanmat, sbxfile = scanpath+'.mat', scanpath+'.sbx'\n",
    "    info = tpu.scanner_tools.sbx_utils.loadmat(scanmat, sbx_version=3)\n",
    "    if len(info['etl_table'])>0:\n",
    "        nplanes = info['etl_table'].shape[0]\n",
    "    else:\n",
    "        nplanes = custom_nplanes\n",
    "        print('\"etl_table\" was empty; hardcoding %d planes' % nplanes)\n",
    "\n",
    "    print('nplanes=',nplanes)\n",
    "\n",
    "    # convert .sbx file to .h5\n",
    "    h5name = tpu.scanner_tools.sbx_utils.sbx2h5(scanpath,output_name=h5path, sbx_version=3)\n",
    "    \n",
    "    # run suite2p to run motion registration AND extract ROIs on the first\n",
    "    # functional channel (channel 1, green, PMT0)\n",
    "    ops_orig = tpu.s2p.set_ops(d={'data_path': [os.path.split(fullpath)[0]],\n",
    "                           'save_path0': fullpath,\n",
    "                           'fast_disk':[],\n",
    "                           'move_bin':False,\n",
    "                           'two_step_registration':True,\n",
    "                           'maxregshiftNR':10,\n",
    "                           'nchannels':2,\n",
    "                           'tau': 0.7,\n",
    "                           'functional_chan':1,\n",
    "                           'nimg_init': 2000,\n",
    "                           'fs':info['frame_rate'],\n",
    "                           'roidetect':True,\n",
    "                           'input_format':\"h5\",\n",
    "                           'h5py_key':'data',\n",
    "                           'sparse_mode':True,\n",
    "                           'threshold_scaling':.6, #.6\n",
    "                            'nplanes':nplanes})\n",
    "\n",
    "    ops_orig=s2p.run_s2p(ops=ops_orig)\n",
    "\n",
    "    # copy binary\n",
    "    print(\"Copying binary\")\n",
    "    ops = ops_orig.copy()\n",
    "    save_path_orig = ops_orig['save_path0']\n",
    "\n",
    "    # Make new save path, destination for new ops, stat, and copied binaries\n",
    "    ops['save_path'] = os.path.join(ops['save_path0'], 'chan2','suite2p', 'plane0')\n",
    "    os.makedirs(ops['save_path'], exist_ok=True)\n",
    "\n",
    "    \n",
    "    ops['fast_disk'] = [] # remove this so there's no confusion with save_path\n",
    "    \n",
    "    orig_reg_file_1 = os.path.join(save_path_orig,'suite2p','plane0','data.bin') # the original data.nbin\n",
    "    orig_reg_file_2 = os.path.join(save_path_orig,'suite2p','plane0','data_chan2.bin') # the original data_chan2.nbin\n",
    "    \n",
    "    # switch meanImg <-> meanImg_chan2\n",
    "    mimg = np.copy(ops_orig['meanImg'])\n",
    "    ops['meanImg'] = np.copy(ops_orig['meanImg_chan2'])\n",
    "    ops['meanImg_chan2'] = mimg\n",
    "    \n",
    "    # copy chan2 reg file (original data_chan2.bin) to new location as \"data.bin\"\n",
    "    ops['reg_file'] = os.path.join(ops['save_path'], 'data.bin') # create a path for the new reg_file\n",
    "    shutil.copyfile(orig_reg_file_2, ops['reg_file'])\n",
    "    print('red reg_file_chan2 copied to %s'%(ops['reg_file']))\n",
    "    \n",
    "    # now copy original chan1 reg file to new \"data_chan2.bin\"\n",
    "    ops['reg_file_chan2'] = os.path.join(ops['save_path'], 'data_chan2.bin') # create a path for the new chan2 reg_file\n",
    "    shutil.copyfile(orig_reg_file_1, ops['reg_file_chan2'])\n",
    "    print('green reg_file copied to %s'%(ops['reg_file_chan2']))\n",
    "\n",
    "    # save new ops file with paths\n",
    "    ops['ops_path'] = os.path.join(ops['save_path'],'ops.npy')\n",
    "    ops['save_path0'] = os.path.join(ops['save_path0'], 'chan2') # need it to look here + suite2p/plane0/ for binaries that we copied\n",
    "    \n",
    "    np.save(ops['ops_path'], ops)\n",
    "\n",
    "    ## Optional: update ROI threshold for the second channel\n",
    "    ops['threshold_scaling'] = .85\n",
    "    print(\"Updated threshold scaling to\",ops['threshold_scaling'])\n",
    "    \n",
    "    ## Run the ROI extraction for the second channel\n",
    "    print('Running ROI extraction for second channel')\n",
    "    opsEnd=s2p.run_s2p(ops=ops)\n",
    "    ## OPTIONAL delete copied binaries from the chan2 path to save disk space\n",
    "\n",
    "    # print('Deleting reg file')\n",
    "    # !del {ops['reg_file']}\n",
    "    # !del {ops['reg_file_chan2']} \n",
    "    # print('Deleting h file')\n",
    "    # !del {h5name} \n",
    "    "
   ]
  },
  {
   "cell_type": "code",
   "execution_count": null,
   "id": "e7a8433d-a91a-482b-9f28-152d2e8ab328",
   "metadata": {},
   "outputs": [],
   "source": []
  }
 ],
 "metadata": {
  "jupytext": {
   "formats": "ipynb,md"
  },
  "kernelspec": {
   "display_name": "Python 3 (ipykernel)",
   "language": "python",
   "name": "python3"
  },
  "language_info": {
   "codemirror_mode": {
    "name": "ipython",
    "version": 3
   },
   "file_extension": ".py",
   "mimetype": "text/x-python",
   "name": "python",
   "nbconvert_exporter": "python",
   "pygments_lexer": "ipython3",
   "version": "3.10.14"
  }
 },
 "nbformat": 4,
 "nbformat_minor": 5
}
