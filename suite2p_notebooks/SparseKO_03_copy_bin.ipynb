{
 "cells": [
  {
   "cell_type": "code",
   "execution_count": 3,
   "id": "ccb0342a",
   "metadata": {},
   "outputs": [],
   "source": [
    "import numpy as np\n",
    "import scipy as sp\n",
    "import suite2p as s2p\n",
    "import TwoPUtils as tpu\n",
    "import InVivoDA_analyses as da\n",
    "import os\n",
    "\n",
    "%matplotlib inline\n",
    "\n",
    "%load_ext autoreload\n",
    "%autoreload 2"
   ]
  },
  {
   "cell_type": "code",
   "execution_count": 4,
   "id": "a0393c80",
   "metadata": {},
   "outputs": [
    {
     "data": {
      "text/plain": [
       "{'preprocessed_root': '/data/2P',\n",
       " 'sbx_root': '/mnt/oak/InVivoDA/2P_Data',\n",
       " 'gdrive_root': '/mnt/gdrive/2P_Data',\n",
       " 'VR_Data': '/data/2P/VR_Data',\n",
       " 'git_repo_root': '/home/mari/local_repos/2p_repos',\n",
       " 'TwoPUtils': '/home/mari/local_repos/2p_repos/TwoPUtils',\n",
       " 'home': '/home/mari',\n",
       " 'fig_dir': '/data/2P/fig_scratch'}"
      ]
     },
     "execution_count": 4,
     "metadata": {},
     "output_type": "execute_result"
    }
   ],
   "source": [
    "from InVivoDA_analyses.path_dict_firebird import path_dictionary as path_dict\n",
    "# options: path_dict_josquin, path_dict_msosamac, etc.\n",
    "path_dict"
   ]
  },
  {
   "cell_type": "code",
   "execution_count": 5,
   "id": "1265ade8",
   "metadata": {},
   "outputs": [
    {
     "data": {
      "text/plain": [
       "('/data/2P/SparseKO_03', '/mnt/oak/InVivoDA/2P_Data/SparseKO_03')"
      ]
     },
     "execution_count": 5,
     "metadata": {},
     "output_type": "execute_result"
    }
   ],
   "source": [
    "mouse = \"SparseKO_03\"\n",
    "basedir = os.path.join(path_dict['preprocessed_root'],mouse) #\"/mnt/BigDisk/2P_scratch/GRABDA15\"\n",
    "sbxdir = os.path.join(path_dict['sbx_root'],mouse) \n",
    "\n",
    "custom_nplanes = 1 # if needed to override empty optotune params\n",
    "\n",
    "basedir, sbxdir"
   ]
  },
  {
   "cell_type": "code",
   "execution_count": 6,
   "id": "ed5e8c0d",
   "metadata": {},
   "outputs": [
    {
     "data": {
      "text/plain": [
       "[{'date': '16_11_2024',\n",
       "  'scene': 'YMaze_LNovel',\n",
       "  'session': 1,\n",
       "  'scan': 17,\n",
       "  'exp_day': 1}]"
      ]
     },
     "execution_count": 6,
     "metadata": {},
     "output_type": "execute_result"
    }
   ],
   "source": [
    "\n",
    "# file_list = stx3.ymaze_sess_deets.SparseKO_sessions[mouse]\n",
    "# file_list = [ {'date': '22_11_2024', 'scene': 'YMaze_LNovel_LongTimeout', 'session': 1, 'scan': 19, 'exp_day': 7} ]\n",
    "file_list = [ {'date': '16_11_2024', 'scene': 'YMaze_LNovel', 'session': 1, 'scan': 17, 'exp_day': 1} ]\n",
    "\n",
    "file_list"
   ]
  },
  {
   "cell_type": "code",
   "execution_count": 7,
   "id": "34537e21-e9bf-4a2d-8d20-02a8de78b0fb",
   "metadata": {},
   "outputs": [
    {
     "name": "stdout",
     "output_type": "stream",
     "text": [
      "\"etl_table\" was empty; hardcoding 1 planes\n",
      "nplanes= 1\n",
      "dset size <HDF5 dataset \"data\": shape (56748, 512, 796), type \"<f4\">\n",
      "0 1000\n",
      "1000 2000\n",
      "2000 3000\n",
      "3000 4000\n",
      "4000 5000\n",
      "5000 6000\n",
      "6000 7000\n",
      "7000 8000\n",
      "8000 9000\n",
      "9000 10000\n",
      "10000 11000\n",
      "11000 12000\n",
      "12000 13000\n",
      "13000 14000\n",
      "14000 15000\n",
      "15000 16000\n",
      "16000 17000\n",
      "17000 18000\n",
      "18000 19000\n",
      "19000 20000\n",
      "20000 21000\n",
      "21000 22000\n",
      "22000 23000\n",
      "23000 24000\n",
      "24000 25000\n",
      "25000 26000\n",
      "26000 27000\n",
      "27000 28000\n",
      "28000 29000\n",
      "29000 30000\n",
      "30000 31000\n",
      "31000 32000\n",
      "32000 33000\n",
      "33000 34000\n",
      "34000 35000\n",
      "35000 36000\n",
      "36000 37000\n",
      "37000 38000\n",
      "38000 39000\n",
      "39000 40000\n",
      "40000 41000\n",
      "41000 42000\n",
      "42000 43000\n",
      "43000 44000\n",
      "44000 45000\n",
      "45000 46000\n",
      "46000 47000\n",
      "47000 48000\n",
      "48000 49000\n",
      "49000 50000\n",
      "50000 51000\n",
      "51000 52000\n",
      "52000 53000\n",
      "53000 54000\n",
      "54000 55000\n",
      "55000 56000\n",
      "56000 56748\n",
      "{}\n",
      "h5\n",
      "** Found 1 h5 files - converting to binary **\n",
      "NOTE: using a list of h5 files:\n",
      "['/data/2P/SparseKO_03/16_11_2024/YMaze_LNovel/YMaze_LNovel_001_017.h5']\n",
      "time 298.06 sec. Wrote 28374 frames per binary for 1 planes\n",
      ">>>>>>>>>>>>>>>>>>>>> PLANE 0 <<<<<<<<<<<<<<<<<<<<<<\n",
      "NOTE: not registered / registration forced with ops['do_registration']>1\n",
      "      (no previous offsets to delete)\n",
      "----------- REGISTRATION\n",
      "registering 28374 frames\n",
      "Reference frame, 113.13 sec.\n",
      "Registered 2000/28374 in 74.33s\n",
      "Registered 4000/28374 in 148.00s\n",
      "Registered 6000/28374 in 221.66s\n",
      "Registered 8000/28374 in 294.92s\n",
      "Registered 10000/28374 in 368.10s\n",
      "Registered 12000/28374 in 440.93s\n",
      "Registered 14000/28374 in 513.53s\n",
      "Registered 16000/28374 in 586.67s\n",
      "Registered 18000/28374 in 659.16s\n",
      "Registered 20000/28374 in 730.81s\n",
      "Registered 22000/28374 in 802.70s\n",
      "Registered 24000/28374 in 873.19s\n",
      "Registered 26000/28374 in 943.61s\n",
      "Registered 28000/28374 in 1014.08s\n",
      "Registered second channel in 155.85 sec.\n",
      "added enhanced mean image\n",
      "----------- Total 1307.94 sec\n",
      "Registration metrics, 30.18 sec.\n",
      "NOTE: applying default /home/mari/.suite2p/classifiers/classifier_user.npy\n",
      "----------- ROI DETECTION\n",
      "Binning movie in chunks of length 22\n",
      "Binned movie [1232,504,774] in 29.43 sec.\n",
      "NOTE: estimated spatial scale ~12 pixels, time epochs 1.03, threshold 6.16 \n",
      "0 ROIs, score=250.14\n",
      "1000 ROIs, score=7.76\n",
      "Detected 1892 ROIs, 32.55 sec\n",
      "After removing overlaps, 1431 ROIs remain\n"
     ]
    },
    {
     "name": "stderr",
     "output_type": "stream",
     "text": [
      "cellprob_threshold and dist_threshold are being deprecated in a future release, use mask_threshold instead\n"
     ]
    },
    {
     "name": "stdout",
     "output_type": "stream",
     "text": [
      ">>>> CELLPOSE estimating masks in anatomical channel\n",
      ">>>> 14 masks detected, median diameter = 19.52 \n",
      "ERROR importing or running cellpose, continuing without anatomical estimates\n",
      "----------- Total 78.84 sec.\n",
      "----------- EXTRACTION\n",
      "Masks created, 1.69 sec.\n"
     ]
    },
    {
     "name": "stderr",
     "output_type": "stream",
     "text": [
      "/home/mari/local_repos/2p_repos/suite2p/suite2p/extraction/extract.py:112: NumbaTypeSafetyWarning: \u001b[1m\u001b[1m\u001b[1munsafe cast from uint64 to int64. Precision may be lost.\u001b[0m\u001b[0m\u001b[0m\n",
      "  Fi[n] = np.dot(data[:, cell_ipix[n]], cell_lam[n])\n"
     ]
    },
    {
     "name": "stdout",
     "output_type": "stream",
     "text": [
      "Extracted fluorescence from 1431 ROIs in 28374 frames, 38.39 sec.\n",
      "Extracted fluorescence from 1431 ROIs in 28374 frames, 37.83 sec.\n",
      "----------- Total 78.66 sec.\n",
      "----------- CLASSIFICATION\n",
      "['compact', 'skew', 'npix_norm']\n",
      "----------- Total 0.02 sec.\n",
      "----------- SPIKE DECONVOLUTION\n",
      "----------- Total 1.70 sec.\n",
      "Plane 0 processed in 1497.64 sec (can open in GUI).\n",
      "total = 1796.07 sec.\n",
      "TOTAL RUNTIME 1796.07 sec\n"
     ]
    }
   ],
   "source": [
    "for fn,f in enumerate(file_list):\n",
    "\n",
    "    # Set data input and output paths\n",
    "    fullpath = os.path.join(basedir,f['date'],f['scene'],\"%s_%03d_%03d\" % (f['scene'], f['session'], f['scan']))\n",
    "    scanpath = os.path.join(sbxdir,f['date'],f['scene'],\"%s_%03d_%03d\" % (f['scene'], f['session'], f['scan']))\n",
    "    h5path = os.path.join(basedir,f['date'],f['scene'],\"%s_%03d_%03d.h5\" % (f['scene'], f['session'], f['scan']))\n",
    "\n",
    "    # load .mat header with metadata\n",
    "    scanmat, sbxfile = scanpath+'.mat', scanpath+'.sbx'\n",
    "    info = tpu.scanner_tools.sbx_utils.loadmat(scanmat, sbx_version=3)\n",
    "    if len(info['etl_table'])>0:\n",
    "        nplanes = info['etl_table'].shape[0]\n",
    "    else:\n",
    "        nplanes = custom_nplanes\n",
    "        print('\"etl_table\" was empty; hardcoding %d planes' % nplanes)\n",
    "\n",
    "    print('nplanes=',nplanes)\n",
    "\n",
    "    # convert .sbx file to .h5\n",
    "    h5name = tpu.scanner_tools.sbx_utils.sbx2h5(scanpath,output_name=h5path, sbx_version=3)\n",
    "    \n",
    "    # run suite2p to run motion registration AND extract ROIs on the first\n",
    "    # functional channel (channel 1, green, PMT0)\n",
    "    ops_orig = tpu.s2p.set_ops(d={'data_path': [os.path.split(fullpath)[0]],\n",
    "                           'save_path0': fullpath,\n",
    "                           'fast_disk':[],\n",
    "                           'move_bin':False,\n",
    "                           'two_step_registration':True,\n",
    "                           'maxregshiftNR':10,\n",
    "                           'nchannels':2,\n",
    "                           'tau': 0.7,\n",
    "                           'functional_chan':1,\n",
    "                           'nimg_init': 2000,\n",
    "                           'fs':info['frame_rate'],\n",
    "                           'roidetect':True,\n",
    "                           'input_format':\"h5\",\n",
    "                           'h5py_key':'data',\n",
    "                           'sparse_mode':True,\n",
    "                           'threshold_scaling':.6, #.6\n",
    "                            'nplanes':nplanes})\n",
    "\n",
    "    ops_orig=s2p.run_s2p(ops=ops_orig)\n",
    "\n",
    "    # !rm {h5name} "
   ]
  },
  {
   "cell_type": "markdown",
   "id": "15d6212a-b7c9-4d62-8259-1087235b7dd8",
   "metadata": {},
   "source": [
    "## Copy binary files so you don't have to re-register"
   ]
  },
  {
   "cell_type": "code",
   "execution_count": 16,
   "id": "80b4601a-b382-4d42-b15f-6a3a8cab586f",
   "metadata": {},
   "outputs": [],
   "source": [
    "## Use the existing motion-registered binary and\n",
    "# extract ROIs for functional channel 2 (red, PMT1)\n",
    "\n",
    "ops = ops_orig.copy()\n",
    "save_path_orig = ops_orig['save_path0']\n",
    "\n",
    "# Make new save path, destination for new ops, stat, and copied binaries\n",
    "ops['save_path'] = os.path.join(ops['save_path0'], 'chan2','suite2p', 'plane0')\n",
    "os.makedirs(ops['save_path'], exist_ok=True)\n"
   ]
  },
  {
   "cell_type": "code",
   "execution_count": 19,
   "id": "aea31134-5bfa-4565-be5e-3747bb3931f6",
   "metadata": {},
   "outputs": [
    {
     "name": "stdout",
     "output_type": "stream",
     "text": [
      "red reg_file_chan2 copied to /data/2P/SparseKO_03/16_11_2024/YMaze_LNovel/YMaze_LNovel_001_017/chan2/suite2p/plane0/data.bin\n",
      "green reg_file copied to /data/2P/SparseKO_03/16_11_2024/YMaze_LNovel/YMaze_LNovel_001_017/chan2/suite2p/plane0/data_chan2.bin\n"
     ]
    }
   ],
   "source": [
    "import shutil\n",
    "\n",
    "ops['fast_disk'] = [] # remove this so there's no confusion with save_path\n",
    "\n",
    "orig_reg_file_1 = os.path.join(save_path_orig,'suite2p','plane0','data.bin') # the original data.nbin\n",
    "orig_reg_file_2 = os.path.join(save_path_orig,'suite2p','plane0','data_chan2.bin') # the original data_chan2.nbin\n",
    "\n",
    "# switch meanImg <-> meanImg_chan2\n",
    "mimg = np.copy(ops_orig['meanImg'])\n",
    "ops['meanImg'] = np.copy(ops_orig['meanImg_chan2'])\n",
    "ops['meanImg_chan2'] = mimg\n",
    "\n",
    "# copy chan2 reg file (original data_chan2.bin) to new location as \"data.bin\"\n",
    "ops['reg_file'] = os.path.join(ops['save_path'], 'data.bin') # create a path for the new reg_file\n",
    "shutil.copyfile(orig_reg_file_2, ops['reg_file'])\n",
    "print('red reg_file_chan2 copied to %s'%(ops['reg_file']))\n",
    "\n",
    "# now copy original chan1 reg file to new \"data_chan2.bin\"\n",
    "ops['reg_file_chan2'] = os.path.join(ops['save_path'], 'data_chan2.bin') # create a path for the new chan2 reg_file\n",
    "shutil.copyfile(orig_reg_file_1, ops['reg_file_chan2'])\n",
    "print('green reg_file copied to %s'%(ops['reg_file_chan2']))\n"
   ]
  },
  {
   "cell_type": "code",
   "execution_count": 20,
   "id": "6f312e6b-36bf-4de6-8193-2f0353e511e4",
   "metadata": {},
   "outputs": [],
   "source": [
    "# save new ops file with paths\n",
    "ops['ops_path'] = os.path.join(ops['save_path'],'ops.npy')\n",
    "ops['save_path0'] = os.path.join(ops['save_path0'], 'chan2') # need it to look here + suite2p/plane0/ for binaries that we copied\n",
    "\n",
    "np.save(ops['ops_path'], ops)"
   ]
  },
  {
   "cell_type": "code",
   "execution_count": 21,
   "id": "aa647de9-65ed-4594-b245-424ef11eb248",
   "metadata": {},
   "outputs": [],
   "source": [
    "## Optional: update ROI threshold for the second channel\n",
    "ops['threshold_scaling'] = .85"
   ]
  },
  {
   "cell_type": "code",
   "execution_count": 22,
   "id": "8fbae292-d012-4930-8f2b-9a4336d431bd",
   "metadata": {},
   "outputs": [],
   "source": [
    "import matplotlib.pyplot as plt"
   ]
  },
  {
   "cell_type": "code",
   "execution_count": 23,
   "id": "8846ec43-798f-4e59-a190-6aaaf2866ce8",
   "metadata": {},
   "outputs": [
    {
     "data": {
      "text/plain": [
       "<matplotlib.image.AxesImage at 0x7fde54213880>"
      ]
     },
     "execution_count": 23,
     "metadata": {},
     "output_type": "execute_result"
    },
    {
     "data": {
      "image/png": "[encoded data removed]",
      "text/plain": [
       "<Figure size 432x288 with 1 Axes>"
      ]
     },
     "metadata": {
      "needs_background": "light"
     },
     "output_type": "display_data"
    },
    {
     "data": {
      "image/png": "[encoded data removed]",
      "text/plain": [
       "<Figure size 432x288 with 1 Axes>"
      ]
     },
     "metadata": {
      "needs_background": "light"
     },
     "output_type": "display_data"
    }
   ],
   "source": [
    "plt.figure()\n",
    "plt.imshow(ops['meanImg_chan2'])\n",
    "\n",
    "plt.figure()\n",
    "plt.imshow(ops['meanImg'])"
   ]
  },
  {
   "cell_type": "code",
   "execution_count": 24,
   "id": "060e152f-39e3-428a-a047-8d75a34a0cc4",
   "metadata": {
    "tags": []
   },
   "outputs": [
    {
     "name": "stdout",
     "output_type": "stream",
     "text": [
      "{}\n",
      "FOUND BINARIES AND OPS IN ['/data/2P/SparseKO_03/16_11_2024/YMaze_LNovel/YMaze_LNovel_001_017/chan2/suite2p/plane0/ops.npy']\n",
      ">>>>>>>>>>>>>>>>>>>>> PLANE 0 <<<<<<<<<<<<<<<<<<<<<<\n",
      "NOTE: not running registration, plane already registered\n",
      "binary path: /data/2P/SparseKO_03/16_11_2024/YMaze_LNovel/YMaze_LNovel_001_017/chan2/suite2p/plane0/data.bin\n",
      "NOTE: applying default /home/mari/.suite2p/classifiers/classifier_user.npy\n",
      "----------- ROI DETECTION\n",
      "Binning movie in chunks of length 22\n",
      "Binned movie [1232,504,774] in 57.44 sec.\n",
      "NOTE: estimated spatial scale ~6 pixels, time epochs 1.03, threshold 4.36 \n",
      "0 ROIs, score=165.95\n",
      "1000 ROIs, score=8.73\n",
      "2000 ROIs, score=7.02\n",
      "3000 ROIs, score=6.54\n",
      "4000 ROIs, score=6.30\n",
      "Detected 5000 ROIs, 54.46 sec\n",
      "After removing overlaps, 3758 ROIs remain\n"
     ]
    },
    {
     "name": "stderr",
     "output_type": "stream",
     "text": [
      "cellprob_threshold and dist_threshold are being deprecated in a future release, use mask_threshold instead\n"
     ]
    },
    {
     "name": "stdout",
     "output_type": "stream",
     "text": [
      ">>>> CELLPOSE estimating masks in anatomical channel\n",
      ">>>> 27 masks detected, median diameter = 13.54 \n",
      "ERROR importing or running cellpose, continuing without anatomical estimates\n",
      "----------- Total 143.68 sec.\n",
      "----------- EXTRACTION\n",
      "Masks created, 3.61 sec.\n",
      "Extracted fluorescence from 3758 ROIs in 28374 frames, 64.24 sec.\n",
      "Extracted fluorescence from 3758 ROIs in 28374 frames, 70.62 sec.\n",
      "----------- Total 140.11 sec.\n",
      "----------- CLASSIFICATION\n",
      "['compact', 'skew', 'npix_norm']\n",
      "----------- Total 0.03 sec.\n",
      "----------- SPIKE DECONVOLUTION\n",
      "----------- Total 4.46 sec.\n",
      "Plane 0 processed in 288.43 sec (can open in GUI).\n",
      "total = 288.78 sec.\n",
      "TOTAL RUNTIME 288.78 sec\n"
     ]
    }
   ],
   "source": [
    "## Run the ROI extraction for the second channel\n",
    "opsEnd=s2p.run_s2p(ops=ops)"
   ]
  },
  {
   "cell_type": "markdown",
   "id": "51c78b24-6879-4886-9c11-98d96b6809f1",
   "metadata": {},
   "source": [
    "### You can now open both channels in suite2p"
   ]
  },
  {
   "cell_type": "code",
   "execution_count": 63,
   "id": "edfb3f50-37a0-4554-98ae-a0ab5d1f722c",
   "metadata": {},
   "outputs": [],
   "source": [
    "## OPTIONAL delete copied binaries from the chan2 path to save disk space\n",
    "!rm {ops['reg_file']}\n",
    "!rm {ops['reg_file_chan2']} "
   ]
  },
  {
   "cell_type": "code",
   "execution_count": null,
   "id": "ae1a2303-631f-49e4-9ac5-f97eeb3bff70",
   "metadata": {},
   "outputs": [],
   "source": [
    "## Remove enormous h5 file\n",
    "!rm {h5name} "
   ]
  }
 ],
 "metadata": {
  "jupytext": {
   "formats": "ipynb,md"
  },
  "kernelspec": {
   "display_name": "Python 3",
   "language": "python",
   "name": "python3"
  },
  "language_info": {
   "codemirror_mode": {
    "name": "ipython",
    "version": 3
   },
   "file_extension": ".py",
   "mimetype": "text/x-python",
   "name": "python",
   "nbconvert_exporter": "python",
   "pygments_lexer": "ipython3",
   "version": "3.8.5"
  }
 },
 "nbformat": 4,
 "nbformat_minor": 5
}
