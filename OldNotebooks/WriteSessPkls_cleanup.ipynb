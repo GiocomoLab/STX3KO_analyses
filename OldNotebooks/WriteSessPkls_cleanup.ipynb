{
 "cells": [
  {
   "cell_type": "code",
   "execution_count": 1,
   "id": "reported-chapel",
   "metadata": {},
   "outputs": [],
   "source": [
    "import os\n",
    "\n",
    "import numpy as np\n",
    "\n",
    "import TwoPUtils\n",
    "import STX3KO_analyses as stx\n",
    "\n",
    "\n",
    "\n",
    "%matplotlib inline\n",
    "\n",
    "%load_ext autoreload\n",
    "%autoreload 2"
   ]
  },
  {
   "cell_type": "code",
   "execution_count": 2,
   "id": "israeli-plastic",
   "metadata": {},
   "outputs": [],
   "source": [
    "def update_sess_dict(mouse, f, KO = True):\n",
    "    scan_str = \"%s_%03d_%03d\" % (f['scene'],f['session'],f['scan'])\n",
    "    if KO:\n",
    "        try:\n",
    "            source_folder  =os.path.join('/media','mplitt','Backup Plus','2P_Data')\n",
    "            source_stem = os.path.join(source_folder,mouse,f['date'],f['scene'],scan_str)\n",
    "            info = TwoPUtils.scanner_tools.sbx_utils.loadmat(source_stem+'.mat')\n",
    "        except:\n",
    "            source_folder  = os.path.join('/media','mplitt','Backup Plus2','2P_Data')\n",
    "            source_stem = os.path.join(source_folder,mouse,f['date'],f['scene'],scan_str)\n",
    "            info = TwoPUtils.scanner_tools.sbx_utils.loadmat(source_stem+'.mat')\n",
    "    else:\n",
    "        try:\n",
    "            source_folder  =os.path.join('/media','mplitt','Backup Plus3')\n",
    "            source_stem = os.path.join(source_folder,mouse,f['date'],f['scene'],scan_str)\n",
    "            info = TwoPUtils.scanner_tools.sbx_utils.loadmat(source_stem+'.mat')\n",
    "        except:\n",
    "            source_folder  = os.path.join('/media','mplitt','Backup Plus5','2P_Data')\n",
    "            source_stem = os.path.join(source_folder,mouse,f['date'],f['scene'],scan_str)\n",
    "            info = TwoPUtils.scanner_tools.sbx_utils.loadmat(source_stem+'.mat')\n",
    "\n",
    "    f['mouse']=mouse\n",
    "    f.update({'scan_file': source_stem + '.sbx',\n",
    "              'scanheader_file': source_stem + '.mat',\n",
    "              'vr_filename': os.path.join(\"/home/mplitt/VR_scratch\",f['mouse'],f['date'],\"%s_%d.sqlite\" %(f['scene'],f['session'])),\n",
    "              'scan_number': f['scan'],\n",
    "              'prompt_for_keys': False,\n",
    "              'VR_only': False,\n",
    "              'scanner': \"NLW\",\n",
    "             })\n",
    "    return f"
   ]
  },
  {
   "cell_type": "code",
   "execution_count": 12,
   "id": "stuffed-blood",
   "metadata": {},
   "outputs": [
    {
     "name": "stdout",
     "output_type": "stream",
     "text": [
      "({'date': '08_12_2020', 'scene': 'YMaze_RewardReversal', 'session': 1, 'scan': 2}, {'date': '08_12_2020', 'scene': 'YMaze_LNovel', 'session': 1, 'scan': 4})\n"
     ]
    }
   ],
   "source": [
    "\n",
    "mouse = '4467333.1'\n",
    "f = stx.ymaze_sess_deets.CTRL_sessions[mouse][8]\n",
    "print(f)"
   ]
  },
  {
   "cell_type": "code",
   "execution_count": 13,
   "id": "quantitative-longer",
   "metadata": {},
   "outputs": [
    {
     "name": "stderr",
     "output_type": "stream",
     "text": [
      "/home/mplitt/repos/TwoPUtils/TwoPUtils/sess.py:93: UserWarning: skipping checking keys, remaining initialization not guaranteed to work\n",
      "  warnings.warn(\"skipping checking keys, remaining initialization not guaranteed to work\")\n",
      "/home/mplitt/repos/TwoPUtils/TwoPUtils/sess.py:256: UserWarning: Looking for coaligned suite2p sessions is not implemented yet\n",
      "  warnings.warn(\"Looking for coaligned suite2p sessions is not implemented yet\")\n",
      "/home/mplitt/repos/TwoPUtils/TwoPUtils/preprocessing.py:171: UserWarning: one frame correction\n",
      "  warnings.warn('one frame correction')\n"
     ]
    },
    {
     "name": "stdout",
     "output_type": "stream",
     "text": [
      "Fixing teleports\n",
      "(22933,) (8049,)\n",
      "520.5797119757453 520.5376452753917\n",
      "slice(0, 8048, None)\n",
      "147 3752\n",
      "4696 8047\n"
     ]
    },
    {
     "name": "stderr",
     "output_type": "stream",
     "text": [
      "/home/mplitt/repos/TwoPUtils/TwoPUtils/spatial_analyses.py:139: RuntimeWarning: Mean of empty slice\n",
      "  SI = spatial_info(np.nanmean(C_trial_mat,axis=0),occ)\n",
      "/home/mplitt/repos/TwoPUtils/TwoPUtils/spatial_analyses.py:150: RuntimeWarning: Mean of empty slice\n",
      "  _SI_perm =  spatial_info(np.nanmean(C_trial_mat,axis=0),occ)\n"
     ]
    },
    {
     "name": "stdout",
     "output_type": "stream",
     "text": [
      "perm 0\n"
     ]
    },
    {
     "name": "stderr",
     "output_type": "stream",
     "text": [
      "/home/mplitt/repos/TwoPUtils/TwoPUtils/spatial_analyses.py:139: RuntimeWarning: Mean of empty slice\n",
      "  SI = spatial_info(np.nanmean(C_trial_mat,axis=0),occ)\n",
      "/home/mplitt/repos/TwoPUtils/TwoPUtils/spatial_analyses.py:150: RuntimeWarning: Mean of empty slice\n",
      "  _SI_perm =  spatial_info(np.nanmean(C_trial_mat,axis=0),occ)\n"
     ]
    },
    {
     "name": "stdout",
     "output_type": "stream",
     "text": [
      "perm 0\n"
     ]
    },
    {
     "name": "stderr",
     "output_type": "stream",
     "text": [
      "/home/mplitt/repos/TwoPUtils/TwoPUtils/sess.py:93: UserWarning: skipping checking keys, remaining initialization not guaranteed to work\n",
      "  warnings.warn(\"skipping checking keys, remaining initialization not guaranteed to work\")\n",
      "/home/mplitt/repos/TwoPUtils/TwoPUtils/sess.py:256: UserWarning: Looking for coaligned suite2p sessions is not implemented yet\n",
      "  warnings.warn(\"Looking for coaligned suite2p sessions is not implemented yet\")\n"
     ]
    },
    {
     "name": "stdout",
     "output_type": "stream",
     "text": [
      "Fixing teleports\n",
      "(52966,) (19236,)\n",
      "1244.2306720565944 1244.103082364831\n",
      "slice(8048, 27284, None)\n"
     ]
    },
    {
     "name": "stderr",
     "output_type": "stream",
     "text": [
      "/home/mplitt/repos/TwoPUtils/TwoPUtils/preprocessing.py:215: UserWarning: Number of teleports and trial starts don't match\n",
      "  warnings.warn(\"Number of teleports and trial starts don't match\")\n",
      "/home/mplitt/repos/TwoPUtils/TwoPUtils/preprocessing.py:221: UserWarning: One more trial start than teleport, assuming the final teleport got chopped\n",
      "  warnings.warn(('One more trial start than teleport, assuming the final teleport got chopped'))\n"
     ]
    },
    {
     "name": "stdout",
     "output_type": "stream",
     "text": [
      "159 3506\n",
      "4440 7677\n",
      "8614 12194\n",
      "13131 19235\n"
     ]
    },
    {
     "name": "stderr",
     "output_type": "stream",
     "text": [
      "/home/mplitt/repos/TwoPUtils/TwoPUtils/spatial_analyses.py:139: RuntimeWarning: Mean of empty slice\n",
      "  SI = spatial_info(np.nanmean(C_trial_mat,axis=0),occ)\n",
      "/home/mplitt/repos/TwoPUtils/TwoPUtils/spatial_analyses.py:150: RuntimeWarning: Mean of empty slice\n",
      "  _SI_perm =  spatial_info(np.nanmean(C_trial_mat,axis=0),occ)\n"
     ]
    },
    {
     "name": "stdout",
     "output_type": "stream",
     "text": [
      "perm 0\n"
     ]
    },
    {
     "name": "stderr",
     "output_type": "stream",
     "text": [
      "/home/mplitt/repos/TwoPUtils/TwoPUtils/spatial_analyses.py:139: RuntimeWarning: Mean of empty slice\n",
      "  SI = spatial_info(np.nanmean(C_trial_mat,axis=0),occ)\n",
      "/home/mplitt/repos/TwoPUtils/TwoPUtils/spatial_analyses.py:150: RuntimeWarning: Mean of empty slice\n",
      "  _SI_perm =  spatial_info(np.nanmean(C_trial_mat,axis=0),occ)\n"
     ]
    },
    {
     "name": "stdout",
     "output_type": "stream",
     "text": [
      "perm 0\n",
      "ops max idx 27284, combined sbx max idx 27284\n"
     ]
    }
   ],
   "source": [
    "\n",
    "if isinstance(f, dict):\n",
    "    f = update_sess_dict(mouse,f,KO=False)\n",
    "    scan_str = \"%s_%03d_%03d\" % (f['scene'],f['session'],f['scan'])\n",
    "    if mouse in ['4467975.5', '4467333.1']:\n",
    "        f['s2p_path']=os.path.join(\"/home/mplitt/2P_scratch\",f['mouse'],f['date'],f['scene'],scan_str,'suite2p')\n",
    "    else:\n",
    "        f['s2p_path']=os.path.join(\"/mnt/BigDisk/2P_scratch\",f['mouse'],f['date'],f['scene'],scan_str,'suite2p')\n",
    "\n",
    "    try:\n",
    "        sess = stx.session.YMazeSession(**f)\n",
    "        sess.load_scan_info()\n",
    "        sess.align_VR_to_2P()\n",
    "        sess.load_suite2p_data(which_ts=('F', 'Fneu'))\n",
    "        sess.get_trial_info()\n",
    "        sess.neuropil_corrected_dff()\n",
    "        sess.place_cells_calc()\n",
    "        TwoPUtils.sess.save_session(sess,'/home/mplitt/YMazeSessPkls')\n",
    "    except:\n",
    "        failed_sessions.append(f)\n",
    "\n",
    "elif isinstance(f, tuple) or isinstance(f, list):\n",
    "    total_frames = 0\n",
    "    if mouse in ['4467975.5', '4467333.1']:\n",
    "        s2p_path=os.path.join(\"/home/mplitt/2P_scratch\",mouse,f[0]['date'],'combined','suite2p')\n",
    "    else:\n",
    "        s2p_path=os.path.join(\"/mnt/BigDisk/2P_scratch\",mouse,f[0]['date'],'combined','suite2p')\n",
    "    ops = np.load(os.path.join(s2p_path,\"plane0\",\"ops.npy\"),allow_pickle=True).all()\n",
    "    comb_frames = 0\n",
    "    for _f in f:\n",
    "\n",
    "        _f = update_sess_dict(mouse, _f,KO=False)\n",
    "        if mouse in ['4467975.5', '4467333.1']:\n",
    "            _f['s2p_path']=os.path.join(\"/home/mplitt/2P_scratch\",f[0]['mouse'],f[0]['date'],'combined','suite2p')\n",
    "        else:\n",
    "            _f['s2p_path']=os.path.join(\"/mnt/BigDisk/2P_scratch\",f[0]['mouse'],f[0]['date'],'combined','suite2p')\n",
    "\n",
    "       \n",
    "        sess = stx.session.YMazeSession(**_f)\n",
    "        sess.load_scan_info()\n",
    "        sess.align_VR_to_2P()\n",
    "        print(slice(comb_frames,comb_frames+sess.scan_info['max_idx']))\n",
    "        sess.load_suite2p_data(which_ts=('F', 'Fneu'), frames = slice(comb_frames,comb_frames+sess.scan_info['max_idx']))\n",
    "\n",
    "        sess.get_trial_info()\n",
    "        sess.neuropil_corrected_dff()\n",
    "        sess.place_cells_calc()\n",
    "        TwoPUtils.sess.save_session(sess,'/home/mplitt/YMazeSessPkls')\n",
    "\n",
    "        comb_frames += sess.scan_info['max_idx']\n",
    "\n",
    "       \n",
    "    print(\"ops max idx %d, combined sbx max idx %d\" % (ops['nframes'], comb_frames))\n",
    "\n",
    "\n",
    "\n"
   ]
  },
  {
   "cell_type": "code",
   "execution_count": 3,
   "id": "available-death",
   "metadata": {},
   "outputs": [
    {
     "name": "stdout",
     "output_type": "stream",
     "text": [
      "({'date': '05_12_2020', 'scene': 'YMaze_LNovel', 'session': 1, 'scan': 2}, {'date': '05_12_2020', 'scene': 'YMaze_RewardReversal', 'session': 1, 'scan': 4})\n"
     ]
    }
   ],
   "source": [
    "mouse = '4467331.1'\n",
    "f = stx.ymaze_sess_deets.CTRL_sessions[mouse][6]\n",
    "print(f)"
   ]
  },
  {
   "cell_type": "code",
   "execution_count": 4,
   "id": "drawn-cabinet",
   "metadata": {},
   "outputs": [
    {
     "name": "stdout",
     "output_type": "stream",
     "text": [
      "Fixing teleports\n",
      "(25010,) (9340,)\n",
      "604.1639717028802 604.0384032339566\n"
     ]
    },
    {
     "name": "stderr",
     "output_type": "stream",
     "text": [
      "/home/mplitt/repos/TwoPUtils/TwoPUtils/sess.py:93: UserWarning: skipping checking keys, remaining initialization not guaranteed to work\n",
      "  warnings.warn(\"skipping checking keys, remaining initialization not guaranteed to work\")\n",
      "/home/mplitt/repos/TwoPUtils/TwoPUtils/sess.py:256: UserWarning: Looking for coaligned suite2p sessions is not implemented yet\n",
      "  warnings.warn(\"Looking for coaligned suite2p sessions is not implemented yet\")\n",
      "/home/mplitt/repos/TwoPUtils/TwoPUtils/preprocessing.py:215: UserWarning: Number of teleports and trial starts don't match\n",
      "  warnings.warn(\"Number of teleports and trial starts don't match\")\n",
      "/home/mplitt/repos/TwoPUtils/TwoPUtils/preprocessing.py:221: UserWarning: One more trial start than teleport, assuming the final teleport got chopped\n",
      "  warnings.warn(('One more trial start than teleport, assuming the final teleport got chopped'))\n"
     ]
    }
   ],
   "source": [
    "_f = update_sess_dict(mouse, f[0],KO=False)\n",
    "if mouse in ['4467975.5', '4467333.1']:\n",
    "    _f['s2p_path']=os.path.join(\"/home/mplitt/2P_scratch\",f[0]['mouse'],f[0]['date'],'combined','suite2p')\n",
    "else:\n",
    "    _f['s2p_path']=os.path.join(\"/mnt/BigDisk/2P_scratch\",f[0]['mouse'],f[0]['date'],'combined','suite2p')\n",
    "\n",
    "\n",
    "sess = stx.session.YMazeSession(**_f)\n",
    "sess.load_scan_info()\n",
    "sess.align_VR_to_2P()\n",
    "# print(slice(comb_frames,comb_frames+sess.scan_info['max_idx']))\n",
    "# sess.load_suite2p_data(which_ts=('F', 'Fneu'), frames = slice(comb_frames,comb_frames+sess.scan_info['max_idx']))\n",
    "\n",
    "sess.get_trial_info()\n",
    "# sess.neuropil_corrected_dff()\n",
    "# sess.place_cells_calc()\n",
    "# TwoPUtils.sess.save_session(sess,'/home/mplitt/YMazeSessPkls')\n"
   ]
  },
  {
   "cell_type": "code",
   "execution_count": 5,
   "id": "increased-mobile",
   "metadata": {},
   "outputs": [
    {
     "name": "stdout",
     "output_type": "stream",
     "text": [
      "Int64Index([ 226,  470,  719, 1074, 1234, 1414, 1593, 1770, 1957, 2208, 2452,\n",
      "            2641, 2843, 3093, 3306, 3559, 3753, 3918, 4137, 4342, 5421, 5613,\n",
      "            5792, 5975, 6151, 6381, 6607, 6789, 7024, 7225, 7431, 7626, 7782,\n",
      "            7944, 8159, 8343, 8524, 8851, 9002, 9210],\n",
      "           dtype='int64')\n",
      "Int64Index([ 397,  644, 1038, 1189, 1376, 1572, 1729, 1901, 2123, 2382, 2582,\n",
      "            2788, 3007, 3277, 3474, 3721, 3901, 4086, 4315, 4482, 5591, 5751,\n",
      "            5920, 6113, 6311, 6539, 6753, 6942, 7183, 7392, 7559, 7770, 7927,\n",
      "            8112, 8306, 8470, 8826, 8949, 9133, 9339],\n",
      "           dtype='int64')\n"
     ]
    }
   ],
   "source": [
    "print(sess.trial_start_inds)\n",
    "print(sess.teleport_inds)"
   ]
  },
  {
   "cell_type": "code",
   "execution_count": null,
   "id": "retired-ecology",
   "metadata": {},
   "outputs": [],
   "source": []
  }
 ],
 "metadata": {
  "kernelspec": {
   "display_name": "Python 3",
   "language": "python",
   "name": "python3"
  },
  "language_info": {
   "codemirror_mode": {
    "name": "ipython",
    "version": 3
   },
   "file_extension": ".py",
   "mimetype": "text/x-python",
   "name": "python",
   "nbconvert_exporter": "python",
   "pygments_lexer": "ipython3",
   "version": "3.8.8"
  }
 },
 "nbformat": 4,
 "nbformat_minor": 5
}
