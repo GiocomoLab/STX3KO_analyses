{
 "cells": [
  {
   "cell_type": "code",
   "execution_count": 29,
   "id": "substantial-account",
   "metadata": {},
   "outputs": [],
   "source": [
    "import numpy as np\n",
    "import matplotlib.pyplot as plt\n",
    "from scipy.interpolate import interp1d as spline\n",
    "\n",
    "%matplotlib inline"
   ]
  },
  {
   "cell_type": "code",
   "execution_count": 8,
   "id": "multiple-symbol",
   "metadata": {},
   "outputs": [],
   "source": [
    "def get_t(t,p0,p1,alpha = .5):\n",
    "    a = (p0-p1)**2\n",
    "    b = a.sum()**(alpha*.5)\n",
    "#     a = np.linalg.norm(p1-p0,ord=2)\n",
    "    return b+t\n",
    "\n",
    "def catmulrom(t):\n",
    "    if t>=tvec[1] and t<tvec[2]:\n",
    "        ind=0\n",
    "    elif t>=tvec[2] and t<tvec[3]:\n",
    "        ind=1\n",
    "    elif t>= tvec[3] and t<tvec[4]:\n",
    "        ind=2\n",
    "    elif t>=tvec[4] and t<tvec[5]:\n",
    "        ind = 3\n",
    "    elif t>=tvec[5] and t<tvec[6]:\n",
    "        ind=4\n",
    "    else:\n",
    "        t = tvec[2]\n",
    "        ind = 1\n",
    "#     print(ind)\n",
    "    p0 = control_points[ind,:]\n",
    "    p1 = control_points[ind+1,:]\n",
    "    p2 = control_points[ind +2,:]\n",
    "    p3 = control_points[ind+3,:]\n",
    "       \n",
    "    t0, t1, t2, t3 = tvec[ind], tvec[ind+1], tvec[ind+2], tvec[ind+3]\n",
    "    \n",
    "    a1 = (t1 - t) / (t1 - t0) * p0 + (t - t0) / (t1 - t0) * p1\n",
    "    a2 = (t2 - t) / (t2 - t1) * p1 + (t - t1) / (t2 - t1) * p2\n",
    "    a3 = (t3 - t) / (t3 - t2) * p2 + (t - t2) / (t3 - t2) * p3\n",
    "    \n",
    "    b1 = (t2 - t) / (t2 - t0) * a1 + (t - t0) / (t2 - t0) * a2\n",
    "    b2 = (t3 - t) / (t3 - t1) * a2 + (t - t1) / (t3 - t1) * a3;\n",
    "    \n",
    "    c = (t2 - t) / (t2 - t1) * b1 + (t - t1) / (t2 - t1) * b2;\n",
    "    return c\n",
    "        \n",
    "\n",
    "\n",
    "\n",
    "# list of control points for catmull rom spline\n",
    "control_points = np.array([[0., .5, -70],\n",
    "                          [0, .5, -25.],\n",
    "                          [0, .5, -5],\n",
    "                          [0, .5, 0],\n",
    "                          [0, .5, 110],\n",
    "                          [24.14, .5, 174.14],\n",
    "                          [110.6, .5, 259.6],\n",
    "                          [194.14, .5, 344.14]])\n",
    "\n",
    "tvec = np.zeros([8,])\n",
    "for ind in range(1,8):\n",
    "    tvec[ind] = get_t(tvec[ind-1], control_points[ind-1], control_points[ind])\n",
    "       \n",
    "\n",
    "\n",
    "t2dist = (tvec[6] - tvec[3]) / 300.\n",
    "t = tvec[1]\n",
    "t_old = tvec[1]"
   ]
  },
  {
   "cell_type": "code",
   "execution_count": 21,
   "id": "smart-alberta",
   "metadata": {},
   "outputs": [
    {
     "name": "stdout",
     "output_type": "stream",
     "text": [
      "[ 0.          6.70820393 11.18033989 13.41640786 23.90449635 32.18292146\n",
      " 43.2087028  54.11065727]\n"
     ]
    }
   ],
   "source": [
    "print(tvec)\n",
    "trajectory = []\n",
    "\n",
    "t = np.linspace(6.71,43.2,num=100)\n",
    "trajectory = np.array([catmulrom(_t) for _t in t])\n",
    "target = catmulrom(15)\n",
    "\n",
    "            "
   ]
  },
  {
   "cell_type": "code",
   "execution_count": 22,
   "id": "affected-focus",
   "metadata": {},
   "outputs": [
    {
     "name": "stdout",
     "output_type": "stream",
     "text": [
      "[-0.33083057  0.5         9.15553741]\n",
      "(100, 3)\n"
     ]
    }
   ],
   "source": [
    "print(target)\n",
    "print(trajectory.shape)"
   ]
  },
  {
   "cell_type": "code",
   "execution_count": 36,
   "id": "mathematical-charlotte",
   "metadata": {},
   "outputs": [
    {
     "data": {
      "text/plain": [
       "[<matplotlib.lines.Line2D at 0x7f4b3d0380d0>]"
      ]
     },
     "execution_count": 36,
     "metadata": {},
     "output_type": "execute_result"
    },
    {
     "data": {
      "image/png": "[encoded data removed]",
      "text/plain": [
       "<Figure size 432x288 with 3 Axes>"
      ]
     },
     "metadata": {
      "needs_background": "light"
     },
     "output_type": "display_data"
    }
   ],
   "source": [
    "fig,ax = plt.subplots(3,1)\n",
    "ax[0].plot(trajectory[:,0],trajectory[:,2])\n",
    "ax[0].set_xlim([-10,125])\n",
    "ax[0].set_ylim([-10,250])\n",
    "\n",
    "ax[1].plot(t,trajectory[:,2])\n",
    "ax[2].plot(t,trajectory[:,0])\n",
    "\n",
    "\n",
    "z2t_spl = spline(trajectory[:,2],t)\n",
    "\n",
    "t2x_spl = spline(t,trajectory[:,0])\n",
    "t2z_spl = spline(t,trajectory[:,2])\n",
    "\n",
    "ax[1].plot(z2t_spl(np.linspace(0,230)),np.linspace(0,230))\n",
    "ax[1].plot(t,t2z_spl(t))\n",
    "\n",
    "\n",
    "ax[2].plot(t,t2x_spl(t))"
   ]
  },
  {
   "cell_type": "code",
   "execution_count": 28,
   "id": "confidential-hungary",
   "metadata": {},
   "outputs": [
    {
     "data": {
      "text/plain": [
       "35.35533905932738"
      ]
     },
     "execution_count": 28,
     "metadata": {},
     "output_type": "execute_result"
    }
   ],
   "source": [
    "25*(2**.5)"
   ]
  },
  {
   "cell_type": "code",
   "execution_count": 47,
   "id": "twenty-turner",
   "metadata": {},
   "outputs": [
    {
     "name": "stdout",
     "output_type": "stream",
     "text": [
      "{'xcenter': -31.6, 'zcenter': 181.6, 'scale': 25, 'zfront': 177.968, 'zback': 195.64566952966368, 'tfront': array(32.67690446), 'tback': array(34.95799061), 't_antic': 27.67690445738824, 'z_antic': array(140.57648984)}\n",
      "{'xcenter': 88.2, 'zcenter': 238.2, 'scale': 25, 'zfront': 233.43599999999998, 'zback': 251.11366952966367, 'tfront': array(39.83365219), 'tback': array(42.11405525), 't_antic': 34.83365218636522}\n"
     ]
    }
   ],
   "source": [
    "rzone_left = {'xcenter': -31.6, 'zcenter': 181.6, 'scale': 25}\n",
    "rzone_left['zfront'] = rzone_left['zcenter'] - rzone_left['zcenter']/rzone_left['scale']/2\n",
    "rzone_left['zback'] = rzone_left['zfront']+25/2**.5\n",
    "rzone_left.update({'tfront':z2t_spl(rzone_left['zfront']),'tback':z2t_spl(rzone_left['zback'])})\n",
    "rzone_left['t_antic'] = rzone_left['tfront']-5\n",
    "rzone_left['z_antic'] = t2z_spl(rzone_left['t_antic'])\n",
    "print(rzone_left)\n",
    "\n",
    "\n",
    "rzone_right = {'xcenter': 88.2, 'zcenter': 238.2, 'scale': 25}\n",
    "rzone_right['zfront'] = rzone_right['zcenter'] - rzone_right['zcenter']/rzone_right['scale']/2\n",
    "rzone_right['zback'] = rzone_right['zfront']+25/2**.5\n",
    "rzone_right.update({'tfront':z2t_spl(rzone_right['zfront']),'tback':z2t_spl(rzone_right['zback'])})\n",
    "rzone_right['t_antic'] = rzone_right['tfront']-5\n",
    "print(rzone_right)\n",
    "\n",
    "\n",
    "\n",
    "#     else:\n",
    "#         rzone_left = {'xcenter': -88.7, 'zcenter': 238.7, 'scale': 25}\n",
    "#         rzone_right = {'xcenter': 31.6, 'zcenter': 181.6, 'scale': 25}\n",
    "    "
   ]
  },
  {
   "cell_type": "code",
   "execution_count": 39,
   "id": "thorough-manor",
   "metadata": {},
   "outputs": [
    {
     "name": "stdout",
     "output_type": "stream",
     "text": [
      "[1 4 9]\n"
     ]
    }
   ],
   "source": [
    "import numpy as np\n",
    "a = np.array([1,2,3])\n",
    "print(a**2)"
   ]
  }
 ],
 "metadata": {
  "kernelspec": {
   "display_name": "Python 3",
   "language": "python",
   "name": "python3"
  },
  "language_info": {
   "codemirror_mode": {
    "name": "ipython",
    "version": 3
   },
   "file_extension": ".py",
   "mimetype": "text/x-python",
   "name": "python",
   "nbconvert_exporter": "python",
   "pygments_lexer": "ipython3",
   "version": "3.8.8"
  }
 },
 "nbformat": 4,
 "nbformat_minor": 5
}
