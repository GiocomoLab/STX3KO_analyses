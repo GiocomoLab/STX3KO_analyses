{
 "cells": [
  {
   "cell_type": "code",
   "execution_count": 1,
   "id": "powerful-associate",
   "metadata": {},
   "outputs": [],
   "source": [
    "# imports "
   ]
  },
  {
   "cell_type": "code",
   "execution_count": 2,
   "id": "intermediate-theology",
   "metadata": {},
   "outputs": [],
   "source": [
    "\n",
    "# load up example session\n",
    "\n",
    "# get common rois (days 1-6)\n",
    "\n",
    "\n",
    "\n",
    "\n",
    "\n"
   ]
  },
  {
   "cell_type": "code",
   "execution_count": null,
   "id": "dense-management",
   "metadata": {},
   "outputs": [],
   "source": [
    "# for each day \n",
    " \n",
    "    # get place cells\n",
    "    \n",
    "    # get sort\n",
    "    \n",
    "    # plot population of place cells\n",
    "    \n",
    "        # split by familiar vs novel\n",
    "        \n",
    "        # LR\n",
    "    \n",
    "    # plot same cells on other days "
   ]
  },
  {
   "cell_type": "code",
   "execution_count": null,
   "id": "strategic-majority",
   "metadata": {},
   "outputs": [],
   "source": [
    "# get trial by trial population similarity matrix across all days\n",
    "\n",
    "# plot first off diagonal to look at remapping across days"
   ]
  }
 ],
 "metadata": {
  "kernelspec": {
   "display_name": "Python 3",
   "language": "python",
   "name": "python3"
  },
  "language_info": {
   "codemirror_mode": {
    "name": "ipython",
    "version": 3
   },
   "file_extension": ".py",
   "mimetype": "text/x-python",
   "name": "python",
   "nbconvert_exporter": "python",
   "pygments_lexer": "ipython3",
   "version": "3.8.8"
  }
 },
 "nbformat": 4,
 "nbformat_minor": 5
}
