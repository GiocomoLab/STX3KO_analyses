{
 "cells": [
  {
   "cell_type": "code",
   "execution_count": 1,
   "id": "distinguished-medication",
   "metadata": {},
   "outputs": [],
   "source": [
    "import numpy as np\n",
    "import scipy as sp\n",
    "import suite2p as s2p\n",
    "import TwoPUtils\n",
    "import os\n",
    "from matplotlib import pyplot as plt\n",
    "\n",
    "%matplotlib inline\n",
    "\n",
    "%load_ext autoreload\n",
    "%autoreload 2"
   ]
  },
  {
   "cell_type": "code",
   "execution_count": 5,
   "id": "utility-health",
   "metadata": {},
   "outputs": [],
   "source": [
    "basedir = os.path.join('/mnt','BigDisk','2P_scratch')\n",
    "\n",
    "mouse = '4467975.3'\n",
    "\n",
    "file_list = ({'date': '28_09_2020', 'scene':'YMaze_LNovel','session':1,'scan':4},\n",
    "             {'date': '29_09_2020', 'scene':'YMaze_LNovel','session':1,'scan':4},\n",
    "             {'date': '30_09_2020', 'scene':'YMaze_LNovel','session':2,'scan':7},\n",
    "             {'date': '01_10_2020', 'scene':'YMaze_LNovel','session':1,'scan':7},\n",
    "             {'date': '02_10_2020', 'scene':'YMaze_LNovel','session':1,'scan':3},\n",
    "             {'date': '03_10_2020', 'scene':'YMaze_LNovel','session':1,'scan':6},\n",
    "             {'date': '04_10_2020', 'scene':'combined'},\n",
    "             {'date': '05_10_2020', 'scene':'YMaze_RewardReversal','session':1,'scan':3},\n",
    "             {'date': '06_10_2020', 'scene':'combined'},\n",
    "             )"
   ]
  },
  {
   "cell_type": "code",
   "execution_count": 13,
   "id": "inside-landscape",
   "metadata": {},
   "outputs": [],
   "source": [
    "basedir = os.path.join('/mnt','BigDisk','2P_scratch')\n",
    "mouse = '4467975.2'\n",
    "\n",
    "file_list = ({'date': '28_09_2020', 'scene':'YMaze_LNovel','session':3,'scan':8},\n",
    "             {'date': '29_09_2020', 'scene':'YMaze_LNovel','session':1,'scan':3},\n",
    "             {'date': '30_09_2020', 'scene':'YMaze_LNovel','session':1,'scan':4},\n",
    "             {'date': '01_10_2020', 'scene':'YMaze_LNovel','session':1,'scan':4},\n",
    "             {'date': '02_10_2020', 'scene':'YMaze_LNovel','session':1,'scan':9},\n",
    "             {'date': '03_10_2020', 'scene':'YMaze_LNovel','session':1,'scan':8},\n",
    "             {'date': '04_10_2020', 'scene':'combined'},\n",
    "             {'date': '05_10_2020', 'scene':'YMaze_RewardReversal','session':1,'scan':3},\n",
    "             {'date': '06_10_2020', 'scene':'combined'},\n",
    "             )"
   ]
  },
  {
   "cell_type": "code",
   "execution_count": 15,
   "id": "elder-stupid",
   "metadata": {},
   "outputs": [],
   "source": [
    "basedir = os.path.join('/mnt','BigDisk','2P_scratch')\n",
    "mouse = '4467975.4'\n",
    "\n",
    "file_list = ({'date': '28_09_2020', 'scene':'YMaze_LNovel','session':1,'scan':5},\n",
    "             {'date': '29_09_2020', 'scene':'YMaze_LNovel','session':1,'scan':3},\n",
    "             {'date': '30_09_2020', 'scene':'YMaze_LNovel','session':1,'scan':3},\n",
    "             {'date': '01_10_2020', 'scene':'YMaze_LNovel','session':1,'scan':2},\n",
    "             {'date': '02_10_2020', 'scene':'YMaze_LNovel','session':1,'scan':4},\n",
    "             {'date': '03_10_2020', 'scene':'YMaze_LNovel','session':1,'scan':4},\n",
    "             {'date': '04_10_2020', 'scene':'combined'},\n",
    "             {'date': '05_10_2020', 'scene':'YMaze_RewardReversal','session':1,'scan':3},\n",
    "             {'date': '06_10_2020', 'scene':'combined'},\n",
    "             )"
   ]
  },
  {
   "cell_type": "code",
   "execution_count": 19,
   "id": "curious-business",
   "metadata": {},
   "outputs": [],
   "source": [
    "basedir = os.path.join('/home/mplitt/','2P_scratch')\n",
    "mouse = '4467975.5'\n",
    "\n",
    "file_list = ({'date': '28_09_2020', 'scene':'YMaze_LNovel','session':1,'scan':4},\n",
    "             {'date': '29_09_2020', 'scene':'YMaze_LNovel','session':1,'scan':3},\n",
    "             {'date': '30_09_2020', 'scene':'YMaze_LNovel','session':1,'scan':5},\n",
    "             {'date': '01_10_2020', 'scene':'YMaze_LNovel','session':1,'scan':7},\n",
    "             {'date': '02_10_2020', 'scene':'YMaze_LNovel','session':1,'scan':3},\n",
    "             {'date': '03_10_2020', 'scene':'YMaze_LNovel','session':1,'scan':5},\n",
    "             {'date': '04_10_2020', 'scene':'combined'},\n",
    "             {'date': '05_10_2020', 'scene':'YMaze_RewardReversal','session':1,'scan':3},\n",
    "             {'date': '06_10_2020', 'scene':'combined'},\n",
    "             )"
   ]
  },
  {
   "cell_type": "code",
   "execution_count": 21,
   "id": "lasting-aluminum",
   "metadata": {},
   "outputs": [],
   "source": [
    "basedir = os.path.join('/mnt','BigDisk','2P_scratch')\n",
    "\n",
    "mouse = '4467975.1'\n",
    "\n",
    "file_list = ({'date': '28_09_2020', 'scene':'combined'},\n",
    "             {'date': '29_09_2020', 'scene':'YMaze_LNovel','session':1,'scan':3},\n",
    "             {'date': '30_09_2020', 'scene':'YMaze_LNovel','session':1,'scan':4},\n",
    "             {'date': '01_10_2020', 'scene':'YMaze_LNovel','session':1,'scan':2},\n",
    "             {'date': '02_10_2020', 'scene':'YMaze_LNovel','session':1,'scan':3},\n",
    "             {'date': '03_10_2020', 'scene':'YMaze_LNovel','session':1,'scan':3},\n",
    "             {'date': '04_10_2020', 'scene':'combined'},\n",
    "             {'date': '05_10_2020', 'scene':'YMaze_RewardReversal','session':1,'scan':3},\n",
    "             {'date': '06_10_2020', 'scene':'combined'},\n",
    "             )"
   ]
  },
  {
   "cell_type": "code",
   "execution_count": 27,
   "id": "amended-correlation",
   "metadata": {},
   "outputs": [],
   "source": [
    "basedir = os.path.join('/mnt','BigDisk','2P_scratch')\n",
    "\n",
    "mouse = '4467331.2'\n",
    "\n",
    "file_list = ({'date': '29_11_2020', 'scene':'YMaze_LNovel','session':1,'scan':4},\n",
    "             {'date': '30_11_2020', 'scene':'YMaze_LNovel','session':1,'scan':4},\n",
    "             {'date': '01_12_2020', 'scene':'YMaze_LNovel','session':1,'scan':4},\n",
    "             {'date': '02_12_2020', 'scene':'combined'},\n",
    "             {'date': '03_12_2020', 'scene':'YMaze_LNovel','session':1,'scan':3},\n",
    "             {'date': '04_12_2020', 'scene':'YMaze_LNovel','session':1,'scan':3},\n",
    "             {'date': '05_12_2020', 'scene':'combined'}, \n",
    "             {'date': '06_12_2020', 'scene':'YMaze_RewardReversal','session':1,'scan':4},\n",
    "             {'date': '07_12_2020', 'scene':'combined'}, \n",
    "             )\n",
    "\n"
   ]
  },
  {
   "cell_type": "code",
   "execution_count": 28,
   "id": "wrong-spanish",
   "metadata": {},
   "outputs": [],
   "source": [
    "\n",
    "for file in file_list:\n",
    "    if file['scene'] in ('combined'):\n",
    "        s2p_folder = os.path.join(basedir, mouse, file['date'],'combined','suite2p','plane0')\n",
    "    else:\n",
    "        s2p_folder = os.path.join(basedir, mouse, file['date'],file['scene'], \"%s_%03d_%03d\" % (file['scene'], file['session'], file['scan']), 'suite2p','plane0')\n",
    "        \n",
    "    ops = np.load(os.path.join(s2p_folder,\"ops.npy\"),allow_pickle=True).all()\n",
    "    stats = np.load(os.path.join(s2p_folder,\"stat.npy\"),allow_pickle=True)\n",
    "    iscell = np.load(os.path.join(s2p_folder,\"iscell.npy\"),allow_pickle=True)\n",
    "    \n",
    "\n",
    "    redcorr = 1*(ops['meanImg_chan2_corrected']>0)\n",
    "    for i, roi in enumerate(stats):\n",
    "\n",
    "        prob = redcorr[roi['ypix'],roi['xpix']].mean()\n",
    "        if prob<0.5:\n",
    "        \n",
    "            iscell[i,:] = [0,0]\n",
    "        \n",
    "    \n",
    "    np.save(os.path.join(s2p_folder,\"iscell.npy\"),iscell)\n",
    "             "
   ]
  },
  {
   "cell_type": "code",
   "execution_count": null,
   "id": "moving-prague",
   "metadata": {},
   "outputs": [],
   "source": []
  }
 ],
 "metadata": {
  "kernelspec": {
   "display_name": "STX3",
   "language": "python",
   "name": "stx3"
  },
  "language_info": {
   "codemirror_mode": {
    "name": "ipython",
    "version": 3
   },
   "file_extension": ".py",
   "mimetype": "text/x-python",
   "name": "python",
   "nbconvert_exporter": "python",
   "pygments_lexer": "ipython3",
   "version": "3.7.9"
  }
 },
 "nbformat": 4,
 "nbformat_minor": 5
}
