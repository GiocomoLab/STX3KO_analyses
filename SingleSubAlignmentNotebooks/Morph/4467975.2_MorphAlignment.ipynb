{
 "cells": [
  {
   "cell_type": "code",
   "execution_count": 1,
   "id": "sealed-aruba",
   "metadata": {},
   "outputs": [],
   "source": [
    "import numpy as np\n",
    "import scipy as sp\n",
    "import suite2p as s2p\n",
    "import TwoPUtils\n",
    "import os\n",
    "from matplotlib import pyplot as plt\n",
    "\n",
    "%matplotlib inline\n",
    "\n",
    "%load_ext autoreload\n",
    "%autoreload 2"
   ]
  },
  {
   "cell_type": "code",
   "execution_count": 5,
   "id": "premium-actress",
   "metadata": {},
   "outputs": [],
   "source": [
    "write_folder = os.path.join('/mnt','BigDisk','2P_scratch')\n",
    "\n",
    "\n",
    "mouse = '4467975.2'\n",
    "\n",
    "file_list = (#{'date': '09_10_2020', 'scene':'TwoTower_foraging','session':2,'scan':2},\n",
    "             #{'date': '11_10_2020', 'scene':'TwoTower_foraging','session':2,'scan':3},\n",
    "             #{'date': '13_10_2020', 'scene':'TwoTower_foraging','session':2,'scan':3},\n",
    "             #{'date': '14_10_2020', 'scene':'TwoTower_foraging','session':2,'scan':6},\n",
    "             {'date': '15_10_2020', 'scene':'TwoTower_foraging','session':3,'scan':10},\n",
    "             #{'date': '16_10_2020', 'scene':'TwoTower_foraging','session':3,'scan':7},\n",
    "             #{'date': '17_10_2020', 'scene':'TwoTower_foraging','session':2,'scan':3},\n",
    "             #{'date': '17_10_2020', 'scene':'TwoTower_foraging','session':4,'scan':8}, # dendrites'\n",
    "             #{'date': '17_10_2020', 'scene':'TwoTower_foraging','session':6,'scan':12}, # dendrites\n",
    "             )"
   ]
  },
  {
   "cell_type": "code",
   "execution_count": 3,
   "id": "heated-reasoning",
   "metadata": {},
   "outputs": [],
   "source": [
    "def check_and_make_h5s(file_list,runh5=True):\n",
    "    h5list, framerates = [], []\n",
    "    for f in file_list:\n",
    "        print(f)\n",
    "        scan_str = \"%s_%03d_%03d\" % (f['scene'],f['session'],f['scan'])\n",
    "        try:\n",
    "            source_folder  = os.path.join('/media','mplitt','Backup Plus','2P_Data')\n",
    "            source_stem = os.path.join(source_folder,mouse,f['date'],f['scene'],scan_str)\n",
    "            info = TwoPUtils.scanner_tools.sbx_utils.loadmat(source_stem+'.mat')\n",
    "        except:\n",
    "            source_folder  = os.path.join('/media','mplitt','Backup Plus1','2P_Data')\n",
    "            source_stem = os.path.join(source_folder,mouse,f['date'],f['scene'],scan_str)\n",
    "            info = TwoPUtils.scanner_tools.sbx_utils.loadmat(source_stem+'.mat')\n",
    "        \n",
    "        file_stem = os.path.join(write_folder,mouse,f['date'],f['scene'],scan_str)\n",
    "        h5path = os.path.join(file_stem,scan_str+\".h5\")\n",
    "        if not os.path.exists(h5path) and runh5:\n",
    "            _ = TwoPUtils.scanner_tools.sbx_utils.sbx2h5(source_stem,output_name=h5path,force_2chan=True)\n",
    "\n",
    "        h5list.append(file_stem)\n",
    "        framerates.append(info['frame_rate'])\n",
    "    print(h5list)\n",
    "    return h5list, framerates"
   ]
  },
  {
   "cell_type": "code",
   "execution_count": 6,
   "id": "confident-sculpture",
   "metadata": {},
   "outputs": [
    {
     "name": "stdout",
     "output_type": "stream",
     "text": [
      "{'date': '15_10_2020', 'scene': 'TwoTower_foraging', 'session': 3, 'scan': 10}\n",
      "['/mnt/BigDisk/2P_scratch/4467975.2/15_10_2020/TwoTower_foraging/TwoTower_foraging_003_010']\n",
      "{}\n",
      "FOUND BINARIES AND OPS IN ['/mnt/BigDisk/2P_scratch/4467975.2/15_10_2020/TwoTower_foraging/TwoTower_foraging_003_010/suite2p/plane0/ops.npy']\n",
      ">>>>>>>>>>>>>>>>>>>>> PLANE 0 <<<<<<<<<<<<<<<<<<<<<<\n",
      "NOTE: not running registration, plane already registered\n",
      "NOTE: applying default /home/mplitt/.suite2p/classifiers/classifier_user.npy\n",
      "----------- ROI DETECTION\n",
      "Binning movie in chunks of length 11\n",
      "Binned movie [2070,416,694], 171.03 sec.\n",
      "NOTE: estimated spatial scale ~6 pixels, time epochs 1.73, threshold 17.25 \n",
      "0 ROIs, score=245.66\n",
      "1000 ROIs, score=17.73\n",
      "Found 1018 ROIs, 42.75 sec\n",
      "After removing overlaps, 986 ROIs remain\n",
      "Masks made in 13.49 sec.\n",
      ">>>> CELLPOSE estimating masks in anatomical channel\n",
      "ERROR importing or running cellpose, continuing without anatomical estimates\n",
      "----------- Total 245.57 sec.\n",
      "----------- EXTRACTION\n",
      "Extracted fluorescence from 986 ROIs in 23121 frames, 92.46 sec.\n",
      "Extracted fluorescence from 986 ROIs in 23121 frames, 183.93 sec.\n",
      "added enhanced mean image\n",
      "----------- Total 281.40 sec.\n",
      "----------- CLASSIFICATION\n",
      "['compact', 'npix_norm', 'skew']\n",
      "----------- Total 0.06 sec.\n",
      "----------- SPIKE DECONVOLUTION\n",
      "----------- Total 1.23 sec.\n",
      "Plane 0 processed in 529.35 sec (can open in GUI).\n",
      "total = 532.44 sec.\n",
      "TOTAL RUNTIME 532.45 sec\n",
      "rm: cannot remove '/mnt/BigDisk/2P_scratch/4467975.2/15_10_2020/TwoTower_foraging/TwoTower_foraging_003_010/*.h5': No such file or directory\n"
     ]
    }
   ],
   "source": [
    "for f in file_list:\n",
    "    _h5list,_frs = check_and_make_h5s([f,],runh5=False)\n",
    "    ops = TwoPUtils.s2p.set_ops(d={'data_path': _h5list,\n",
    "                                   'save_path0': _h5list[0],\n",
    "                                    'fast_disk':[],\n",
    "                                    'move_bin':True,\n",
    "                                    'two_step_registration':True,\n",
    "                                    'maxregshiftNR':10,\n",
    "                                    'nchannels':2,\n",
    "                                    'tau':.7,\n",
    "                                    'functional_chan':1,\n",
    "                                    'fs':_frs[0],\n",
    "                                    'roidetect':True,\n",
    "                                    'input_format':\"h5\",\n",
    "                                    'h5py_key':'data',\n",
    "                                    'nchannels':2,\n",
    "                                    'threshold_scaling':2.,\n",
    "                                    'chan2_thresh':.01})\n",
    "    ops=s2p.run_s2p(ops=ops)\n",
    "    !rm {_h5list[0]}/*.h5 \n",
    "    "
   ]
  },
  {
   "cell_type": "code",
   "execution_count": null,
   "id": "limited-childhood",
   "metadata": {},
   "outputs": [],
   "source": []
  }
 ],
 "metadata": {
  "kernelspec": {
   "display_name": "STX3",
   "language": "python",
   "name": "stx3"
  },
  "language_info": {
   "codemirror_mode": {
    "name": "ipython",
    "version": 3
   },
   "file_extension": ".py",
   "mimetype": "text/x-python",
   "name": "python",
   "nbconvert_exporter": "python",
   "pygments_lexer": "ipython3",
   "version": "3.7.9"
  }
 },
 "nbformat": 4,
 "nbformat_minor": 5
}
