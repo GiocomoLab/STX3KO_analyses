{
 "cells": [
  {
   "cell_type": "code",
   "execution_count": 3,
   "metadata": {},
   "outputs": [
    {
     "name": "stdout",
     "output_type": "stream",
     "text": [
      "The autoreload extension is already loaded. To reload it, use:\n",
      "  %reload_ext autoreload\n"
     ]
    }
   ],
   "source": [
    "import numpy as np\n",
    "import scipy as sp\n",
    "import suite2p as s2p\n",
    "import TwoPUtils\n",
    "import os\n",
    "from matplotlib import pyplot as plt\n",
    "\n",
    "%matplotlib inline\n",
    "\n",
    "%load_ext autoreload\n",
    "%autoreload 2"
   ]
  },
  {
   "cell_type": "code",
   "execution_count": 4,
   "metadata": {},
   "outputs": [],
   "source": [
    "\n",
    "write_folder = os.path.join('/mnt','mplittBigDisk','2P_scratch')\n",
    "\n",
    "\n",
    "mouse = '4467331.1'\n",
    "\n",
    "file_list = ({'date': '29_11_2020', 'scene':'YMaze_LNovel','session':1,'scan':3},\n",
    "             {'date': '30_11_2020', 'scene':'YMaze_LNovel','session':1,'scan':7},\n",
    "             {'date': '01_12_2020', 'scene':'YMaze_LNovel','session':1,'scan':4},\n",
    "             {'date': '02_12_2020', 'scene':'YMaze_LNovel','session':1,'scan':3},\n",
    "             {'date': '03_12_2020', 'scene':'YMaze_LNovel','session':1,'scan':8},\n",
    "             {'date': '04_12_2020', 'scene':'YMaze_LNovel','session':1,'scan':2},\n",
    "             {'date': '05_12_2020', 'scene':'YMaze_LNovel','session':1,'scan':2}, \n",
    "             {'date':'05_12_2020','scene':'YMaze_RewardReversal', 'session':1,'scan':4},\n",
    "             {'date': '06_12_2020', 'scene':'YMaze_RewardReversal','session':2,'scan':1},\n",
    "             {'date': '07_12_2020', 'scene':'YMaze_RewardReversal','session':1,'scan':3}, \n",
    "             {'date':'07_12_2020','scene':'YMaze_LNovel', 'session':1,'scan':5})\n",
    "\n"
   ]
  },
  {
   "cell_type": "code",
   "execution_count": 6,
   "metadata": {},
   "outputs": [],
   "source": [
    "def get_scan_lengths(file_list):\n",
    "    max_frame = []\n",
    "    for f in file_list:\n",
    "        print(f)\n",
    "        scan_str = \"%s_%03d_%03d\" % (f['scene'],f['session'],f['scan'])\n",
    "        try:\n",
    "            source_folder  = os.path.join('/media','mplitt','Backup Plus2','2P_Data')\n",
    "            source_stem = os.path.join(source_folder,mouse,f['date'],f['scene'],scan_str)\n",
    "            info = TwoPUtils.scanner_tools.sbx_utils.loadmat(source_stem+'.mat')\n",
    "        except:\n",
    "            source_folder  = os.path.join('/media','mplitt','Backup Plus5','2P_Data')\n",
    "            source_stem = os.path.join(source_folder,mouse,f['date'],f['scene'],scan_str)\n",
    "            info = TwoPUtils.scanner_tools.sbx_utils.loadmat(source_stem+'.mat')\n",
    "            \n",
    "        max_frame.append(info['max_idx'])\n",
    "        \n",
    "\n",
    "        \n",
    "    return max_frame"
   ]
  },
  {
   "cell_type": "code",
   "execution_count": 8,
   "metadata": {},
   "outputs": [
    {
     "name": "stdout",
     "output_type": "stream",
     "text": [
      "{'date': '29_11_2020', 'scene': 'YMaze_LNovel', 'session': 1, 'scan': 3}\n",
      "{'date': '30_11_2020', 'scene': 'YMaze_LNovel', 'session': 1, 'scan': 7}\n",
      "{'date': '01_12_2020', 'scene': 'YMaze_LNovel', 'session': 1, 'scan': 4}\n",
      "{'date': '02_12_2020', 'scene': 'YMaze_LNovel', 'session': 1, 'scan': 3}\n",
      "{'date': '03_12_2020', 'scene': 'YMaze_LNovel', 'session': 1, 'scan': 8}\n",
      "{'date': '04_12_2020', 'scene': 'YMaze_LNovel', 'session': 1, 'scan': 2}\n",
      "{'date': '05_12_2020', 'scene': 'YMaze_LNovel', 'session': 1, 'scan': 2}\n",
      "{'date': '05_12_2020', 'scene': 'YMaze_RewardReversal', 'session': 1, 'scan': 4}\n",
      "{'date': '06_12_2020', 'scene': 'YMaze_RewardReversal', 'session': 2, 'scan': 1}\n",
      "{'date': '07_12_2020', 'scene': 'YMaze_RewardReversal', 'session': 1, 'scan': 3}\n",
      "{'date': '07_12_2020', 'scene': 'YMaze_LNovel', 'session': 1, 'scan': 5}\n"
     ]
    }
   ],
   "source": [
    "max_frames = get_scan_lengths(file_list)"
   ]
  },
  {
   "cell_type": "code",
   "execution_count": 10,
   "metadata": {},
   "outputs": [
    {
     "name": "stdout",
     "output_type": "stream",
     "text": [
      "[34310, 30330, 31880, 30523, 34327, 33797, 9340, 21431, 32126, 9450, 20759]\n",
      "[ 34310  64640  96520 127043 161370 195167 204507 225938 258064 267514\n",
      " 288273]\n"
     ]
    }
   ],
   "source": [
    "print(max_frames)\n",
    "print(np.cumsum(max_frames))"
   ]
  },
  {
   "cell_type": "code",
   "execution_count": 14,
   "metadata": {},
   "outputs": [],
   "source": [
    "# load ops\n",
    "s2p_dir = os.path.join(\"/mnt/BigDisk/2P_scratch/\",mouse,\"YMazeAll\",\"suite2p\",\"plane0\")\n",
    "ops = np.load(os.path.join(\"/mnt/BigDisk/2P_scratch/\",mouse,\"YMazeAll\",\"suite2p\",\"plane0\",\"ops.npy\"),allow_pickle=True).all()\n",
    "\n",
    "\n",
    "# make sure total length is same as binary file\n",
    "assert np.cumsum(max_frames)[-1]==ops['nframes'], \"scan numbers not equal\""
   ]
  },
  {
   "cell_type": "code",
   "execution_count": 12,
   "metadata": {},
   "outputs": [
    {
     "data": {
      "text/plain": [
       "dict_keys(['suite2p_version', 'look_one_level_down', 'fast_disk', 'delete_bin', 'mesoscan', 'bruker', 'h5py', 'h5py_key', 'save_path0', 'save_folder', 'subfolders', 'move_bin', 'nplanes', 'nchannels', 'functional_chan', 'tau', 'fs', 'force_sktiff', 'frames_include', 'multiplane_parallel', 'preclassify', 'save_mat', 'save_NWB', 'combined', 'aspect', 'do_bidiphase', 'bidiphase', 'bidi_corrected', 'do_registration', 'two_step_registration', 'keep_movie_raw', 'nimg_init', 'batch_size', 'maxregshift', 'align_by_chan', 'reg_tif', 'reg_tif_chan2', 'subpixel', 'smooth_sigma_time', 'smooth_sigma', 'th_badframes', 'norm_frames', 'force_refImg', 'pad_fft', 'nonrigid', 'block_size', 'snr_thresh', 'maxregshiftNR', '1Preg', 'spatial_hp', 'spatial_hp_reg', 'spatial_hp_detect', 'pre_smooth', 'spatial_taper', 'roidetect', 'spikedetect', 'anatomical_only', 'sparse_mode', 'diameter', 'spatial_scale', 'connected', 'nbinned', 'max_iterations', 'threshold_scaling', 'max_overlap', 'high_pass', 'use_builtin_classifier', 'neuropil_extract', 'inner_neuropil_radius', 'min_neuropil_pixels', 'allow_overlap', 'chan2_thres', 'baseline', 'win_baseline', 'sig_baseline', 'prctile_baseline', 'neucoeff', 'data_path', 'sparsemode', 'xrange', 'yrange', 'input_format', 'sbx_ndeadcols', 'save_path', 'ops_path', 'reg_file', 'reg_file_chan2', 'first_tiffs', 'filelist', 'h5list', 'nframes_per_folder', 'meanImg', 'meanImg_chan2', 'nframes', 'Ly', 'Lx', 'date_proc', 'refImg', 'yblock', 'xblock', 'nblocks', 'NRsm', 'yoff', 'xoff', 'corrXY', 'yoff1', 'xoff1', 'corrXY1', 'badframes', 'tPC', 'regPC', 'regDX', 'Lyc', 'Lxc', 'max_proj', 'Vmax', 'ihop', 'Vsplit', 'Vcorr', 'Vmap', 'spatscale_pix', 'meanImg_chan2_corrected', 'meanImgE', 'timing'])"
      ]
     },
     "execution_count": 12,
     "metadata": {},
     "output_type": "execute_result"
    }
   ],
   "source": [
    "ops.keys()"
   ]
  },
  {
   "cell_type": "code",
   "execution_count": 15,
   "metadata": {},
   "outputs": [
    {
     "name": "stdout",
     "output_type": "stream",
     "text": [
      "/media/mplitt/BigDisk/2P_scratch/4467331.1/YMazeAll\n"
     ]
    }
   ],
   "source": [
    "# load suite2p results\n",
    "\n",
    "print(ops['save_path0'])\n",
    "\n",
    "# load aligned binary for combined data\n",
    "\n",
    "# for each session\n",
    "    # get mean image for both channels\n",
    "    \n",
    "    # get max projection for both channels\n",
    "    \n"
   ]
  },
  {
   "cell_type": "code",
   "execution_count": null,
   "metadata": {},
   "outputs": [],
   "source": [
    "# %matplotlib qt\n",
    "\n",
    "# for each roi\n",
    "\n",
    "        # display mean and max projection for both channels on each day\n",
    "    \n",
    "        # show timeseries for cell on that day\n",
    "        \n",
    "        # wait for input for cell/vs not cell\n",
    "        \n",
    "        # "
   ]
  }
 ],
 "metadata": {
  "kernelspec": {
   "display_name": "Python 3",
   "language": "python",
   "name": "python3"
  },
  "language_info": {
   "codemirror_mode": {
    "name": "ipython",
    "version": 3
   },
   "file_extension": ".py",
   "mimetype": "text/x-python",
   "name": "python",
   "nbconvert_exporter": "python",
   "pygments_lexer": "ipython3",
   "version": "3.7.9"
  }
 },
 "nbformat": 4,
 "nbformat_minor": 4
}
