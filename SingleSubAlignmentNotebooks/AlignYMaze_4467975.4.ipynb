{
 "cells": [
  {
   "cell_type": "code",
   "execution_count": 1,
   "metadata": {},
   "outputs": [],
   "source": [
    "import numpy as np\n",
    "import scipy as sp\n",
    "import suite2p as s2p\n",
    "import TwoPUtils\n",
    "import os\n",
    "from matplotlib import pyplot as plt\n",
    "\n",
    "%matplotlib inline\n",
    "\n",
    "%load_ext autoreload\n",
    "%autoreload 2"
   ]
  },
  {
   "cell_type": "code",
   "execution_count": 2,
   "metadata": {},
   "outputs": [],
   "source": [
    "write_folder = os.path.join('/mnt/BigDisk','2P_scratch')\n",
    "s2p_write_folder = os.path.join('/home/mplitt','2P_scratch')\n",
    "\n",
    "mouse = '4467975.4'\n",
    "\n",
    "file_list = ({'date': '28_09_2020', 'scene':'YMaze_LNovel','session':1,'scan':5},\n",
    "             {'date': '29_09_2020', 'scene':'YMaze_LNovel','session':1,'scan':3},\n",
    "             {'date': '30_09_2020', 'scene':'YMaze_LNovel','session':1,'scan':3},\n",
    "             {'date': '01_10_2020', 'scene':'YMaze_LNovel','session':1,'scan':2},\n",
    "             {'date': '02_10_2020', 'scene':'YMaze_LNovel','session':1,'scan':4},\n",
    "             {'date': '03_10_2020', 'scene':'YMaze_LNovel','session':1,'scan':4},\n",
    "             {'date': '04_10_2020', 'scene':'YMaze_LNovel','session':1,'scan':2},\n",
    "             {'date': '04_10_2020', 'scene':'YMaze_RewardReversal','session':1,'scan':5},\n",
    "             {'date': '05_10_2020', 'scene':'YMaze_RewardReversal','session':1,'scan':3},\n",
    "             {'date': '06_10_2020', 'scene':'YMaze_RewardReversal','session':1,'scan':4},\n",
    "             {'date': '06_10_2020', 'scene':'YMaze_LNovel','session':1,'scan':8},\n",
    "             )"
   ]
  },
  {
   "cell_type": "code",
   "execution_count": 5,
   "metadata": {},
   "outputs": [],
   "source": [
    "def check_and_make_h5s(file_list):\n",
    "    h5list, framerates = [], []\n",
    "    for f in file_list:\n",
    "        print(f)\n",
    "        scan_str = \"%s_%03d_%03d\" % (f['scene'],f['session'],f['scan'])\n",
    "        try:\n",
    "            source_folder  = os.path.join('/media','mplitt','Backup Plus3','2P_Data')\n",
    "            source_stem = os.path.join(source_folder,mouse,f['date'],f['scene'],scan_str)\n",
    "            info = TwoPUtils.scanner_tools.sbx_utils.loadmat(source_stem+'.mat')\n",
    "        except:\n",
    "            source_folder  = os.path.join('/media','mplitt','Backup Plus4','2P_Data')\n",
    "            source_stem = os.path.join(source_folder,mouse,f['date'],f['scene'],scan_str)\n",
    "            info = TwoPUtils.scanner_tools.sbx_utils.loadmat(source_stem+'.mat')\n",
    "        \n",
    "       \n",
    "        file_stem = os.path.join(write_folder,mouse,f['date'],f['scene'],scan_str)\n",
    "        h5path = os.path.join(file_stem,scan_str+\".h5\")\n",
    "#         if not os.path.exists(h5path):\n",
    "#             _ = TwoPUtils.scanner_tools.sbx_utils.sbx2h5(source_stem,output_name=h5path,force_2chan=True)\n",
    "        \n",
    "\n",
    "        h5list.append(file_stem)\n",
    "        framerates.append(info['frame_rate'])\n",
    "    print(h5list)\n",
    "    return h5list, framerates"
   ]
  },
  {
   "cell_type": "code",
   "execution_count": 6,
   "metadata": {},
   "outputs": [
    {
     "name": "stdout",
     "output_type": "stream",
     "text": [
      "{'date': '28_09_2020', 'scene': 'YMaze_LNovel', 'session': 1, 'scan': 5}\n",
      "{'date': '29_09_2020', 'scene': 'YMaze_LNovel', 'session': 1, 'scan': 3}\n",
      "{'date': '30_09_2020', 'scene': 'YMaze_LNovel', 'session': 1, 'scan': 3}\n",
      "{'date': '01_10_2020', 'scene': 'YMaze_LNovel', 'session': 1, 'scan': 2}\n",
      "{'date': '02_10_2020', 'scene': 'YMaze_LNovel', 'session': 1, 'scan': 4}\n",
      "{'date': '03_10_2020', 'scene': 'YMaze_LNovel', 'session': 1, 'scan': 4}\n",
      "{'date': '04_10_2020', 'scene': 'YMaze_LNovel', 'session': 1, 'scan': 2}\n",
      "{'date': '04_10_2020', 'scene': 'YMaze_RewardReversal', 'session': 1, 'scan': 5}\n",
      "{'date': '05_10_2020', 'scene': 'YMaze_RewardReversal', 'session': 1, 'scan': 3}\n",
      "{'date': '06_10_2020', 'scene': 'YMaze_RewardReversal', 'session': 1, 'scan': 4}\n",
      "{'date': '06_10_2020', 'scene': 'YMaze_LNovel', 'session': 1, 'scan': 8}\n",
      "['/mnt/BigDisk/2P_scratch/4467975.4/28_09_2020/YMaze_LNovel/YMaze_LNovel_001_005', '/mnt/BigDisk/2P_scratch/4467975.4/29_09_2020/YMaze_LNovel/YMaze_LNovel_001_003', '/mnt/BigDisk/2P_scratch/4467975.4/30_09_2020/YMaze_LNovel/YMaze_LNovel_001_003', '/mnt/BigDisk/2P_scratch/4467975.4/01_10_2020/YMaze_LNovel/YMaze_LNovel_001_002', '/mnt/BigDisk/2P_scratch/4467975.4/02_10_2020/YMaze_LNovel/YMaze_LNovel_001_004', '/mnt/BigDisk/2P_scratch/4467975.4/03_10_2020/YMaze_LNovel/YMaze_LNovel_001_004', '/mnt/BigDisk/2P_scratch/4467975.4/04_10_2020/YMaze_LNovel/YMaze_LNovel_001_002', '/mnt/BigDisk/2P_scratch/4467975.4/04_10_2020/YMaze_RewardReversal/YMaze_RewardReversal_001_005', '/mnt/BigDisk/2P_scratch/4467975.4/05_10_2020/YMaze_RewardReversal/YMaze_RewardReversal_001_003', '/mnt/BigDisk/2P_scratch/4467975.4/06_10_2020/YMaze_RewardReversal/YMaze_RewardReversal_001_004', '/mnt/BigDisk/2P_scratch/4467975.4/06_10_2020/YMaze_LNovel/YMaze_LNovel_001_008']\n",
      "{}\n",
      "FOUND BINARIES AND OPS IN ['/home/mplitt/2P_scratch/4467975.4/YMazeAll/suite2p/plane0/ops.npy']\n",
      ">>>>>>>>>>>>>>>>>>>>> PLANE 0 <<<<<<<<<<<<<<<<<<<<<<\n",
      "NOTE: not running registration, plane already registered\n",
      "NOTE: applying default /home/mplitt/.suite2p/classifiers/classifier_user.npy\n",
      "----------- ROI DETECTION\n",
      "Binning movie in chunks of length 67\n",
      "Binned movie [4709,416,694], 665.63 sec.\n",
      "NOTE: estimated spatial scale ~6 pixels, time epochs 3.92, threshold 17.66 \n",
      "0 ROIs, score=468.15\n",
      "1000 ROIs, score=114.45\n",
      "2000 ROIs, score=59.17\n",
      "3000 ROIs, score=33.59\n",
      "4000 ROIs, score=20.98\n",
      "Found 4433 ROIs, 240.25 sec\n",
      "After removing overlaps, 3228 ROIs remain\n",
      "Masks made in 205.30 sec.\n",
      ">>>> CELLPOSE estimating masks in anatomical channel\n",
      "ERROR importing or running cellpose, continuing without anatomical estimates\n",
      "----------- Total 1326.81 sec.\n",
      "----------- EXTRACTION\n",
      "Extracted fluorescence from 3228 ROIs in 336512 frames, 1802.64 sec.\n",
      "Extracted fluorescence from 3228 ROIs in 336512 frames, 1836.61 sec.\n",
      "added enhanced mean image\n",
      "----------- Total 3665.21 sec.\n",
      "----------- CLASSIFICATION\n",
      "['npix_norm', 'skew', 'compact']\n",
      "----------- Total 0.05 sec.\n",
      "----------- SPIKE DECONVOLUTION\n",
      "----------- Total 59.33 sec.\n",
      "Plane 0 processed in 5056.99 sec (can open in GUI).\n",
      "total = 5062.05 sec.\n",
      "TOTAL RUNTIME 5062.05 sec\n"
     ]
    }
   ],
   "source": [
    "h5list_all, frs_all = check_and_make_h5s(file_list)\n",
    "ops = TwoPUtils.s2p.set_ops(d={'data_path': h5list_all,\n",
    "                               'save_path0': os.path.join(s2p_write_folder,mouse,\"YMazeAll\"),\n",
    "                                'fast_disk':[],\n",
    "                                'move_bin':True,\n",
    "                                'two_step_registration':True,\n",
    "                                'maxregshiftNR':10,\n",
    "                                'nchannels':2,\n",
    "                                'tau':.7,\n",
    "                                'functional_chan':1,\n",
    "                                'fs':frs_all[0],\n",
    "                                'roidetect':True,\n",
    "                                'input_format':\"h5\",\n",
    "                                'h5py_key':'data',\n",
    "                                'nchannels':2,\n",
    "                                'saveNWB':True,\n",
    "                                'threshold_scaling':.9,\n",
    "                                'chan2_thresh':.01})\n",
    "ops=s2p.run_s2p(ops=ops)"
   ]
  },
  {
   "cell_type": "code",
   "execution_count": null,
   "metadata": {},
   "outputs": [],
   "source": [
    "for h5 in h5list_all:\n",
    "    !rm {h5}/*.h5 "
   ]
  },
  {
   "cell_type": "code",
   "execution_count": null,
   "metadata": {},
   "outputs": [],
   "source": []
  }
 ],
 "metadata": {
  "kernelspec": {
   "display_name": "Python 3",
   "language": "python",
   "name": "python3"
  },
  "language_info": {
   "codemirror_mode": {
    "name": "ipython",
    "version": 3
   },
   "file_extension": ".py",
   "mimetype": "text/x-python",
   "name": "python",
   "nbconvert_exporter": "python",
   "pygments_lexer": "ipython3",
   "version": "3.7.9"
  }
 },
 "nbformat": 4,
 "nbformat_minor": 4
}
