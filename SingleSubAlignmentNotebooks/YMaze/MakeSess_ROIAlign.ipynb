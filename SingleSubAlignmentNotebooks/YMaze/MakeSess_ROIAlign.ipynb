{
 "cells": [
  {
   "cell_type": "code",
   "execution_count": 1,
   "id": "scientific-lease",
   "metadata": {},
   "outputs": [],
   "source": [
    "import numpy as np\n",
    "import scipy as sp\n",
    "import suite2p as s2p\n",
    "import dill\n",
    "\n",
    "import TwoPUtils as tpu\n",
    "import STX3KO_analyses as stx\n",
    "import os\n",
    "from matplotlib import pyplot as plt\n",
    "\n",
    "\n",
    "%matplotlib inline\n",
    "\n",
    "%load_ext autoreload\n",
    "%autoreload 2"
   ]
  },
  {
   "cell_type": "code",
   "execution_count": 2,
   "id": "seven-protest",
   "metadata": {},
   "outputs": [],
   "source": [
    "def update_sess_dict(mouse, f):\n",
    "    scan_str = \"%s_%03d_%03d\" % (f['scene'],f['session'],f['scan'])\n",
    "\n",
    "            \n",
    "    source_folder = \"/mnt/BigDisk/2P_scratch\"\n",
    "    source_stem = os.path.join(source_folder, mouse, f['date'], f['scene'], scan_str)\n",
    "\n",
    "    f['mouse']=mouse\n",
    "    f.update({'scan_file': source_stem + '.sbx',\n",
    "              'scanheader_file': source_stem + '.mat',\n",
    "              'vr_filename': os.path.join(\"/home/mplitt/VR_scratch\",f['mouse'],f['date'],\"%s_%d.sqlite\" %(f['scene'],f['session'])),\n",
    "              'scan_number': f['scan'],\n",
    "              'prompt_for_keys': False,\n",
    "              'VR_only': False,\n",
    "              'scanner': \"NLW\",\n",
    "             })\n",
    "    return f\n",
    "\n",
    "def run_and_save(fdict,comb_frames=0):\n",
    "#     with open(os.path.join('/home/mplitt/YMazeSessPkls',mouse,deets['date'], \"%s_%d.pkl\" % (deets['scene'],deets['session'])),'rb') as file:\n",
    "#         sess = dill.load(file)\n",
    "#     sess.novel_arm = fdict['novel']    \n",
    "            \n",
    "    sess = stx.session.YMazeSession(**fdict)\n",
    "    sess.load_scan_info()\n",
    "    sess.align_VR_to_2P()\n",
    "    sess.load_suite2p_data(which_ts=('F', 'Fneu','spks'), frames = slice(comb_frames,comb_frames+sess.scan_info['max_idx']))\n",
    "    sess.get_trial_info()\n",
    "    sess.neuropil_corrected_dff()\n",
    "    \n",
    "    \n",
    "    sess.place_cells_calc(nperms=1000)\n",
    "    \n",
    "    sess.add_pos_binned_trial_matrix('F_dff')\n",
    "    sess.add_timeseries(F_dff_norm = sess.timeseries['F_dff']/np.nanpercentile(sess.timeseries['F_dff'],99,axis=1,keepdims=True))\n",
    "    sess.rm_pos_binned_trial_matrix('F_dff_norm')\n",
    "    sess.add_pos_binned_trial_matrix('F_dff_norm')\n",
    "    \n",
    "    sess.add_pos_binned_trial_matrix('spks') #,speed=sess.vr_data['dz']._values, speed_thr = .05)  \n",
    "    sess.add_timeseries(spks_norm = sess.timeseries['spks']/np.nanpercentile(sess.timeseries['spks'],99,axis=1,keepdims=True))\n",
    "    sess.add_pos_binned_trial_matrix('spks_norm') \n",
    "\n",
    "    sess.add_timeseries(licks=sess.vr_data['lick']._values)\n",
    "    sess.add_pos_binned_trial_matrix('licks')\n",
    "    sess.add_timeseries(speed=sess.vr_data['dz']._values)\n",
    "    sess.add_pos_binned_trial_matrix('speed')\n",
    "    \n",
    "    tpu.sess.save_session(sess,'/home/mplitt/YMazeSessPkls')\n",
    "    return comb_frames+sess.scan_info['max_idx']"
   ]
  },
  {
   "cell_type": "code",
   "execution_count": 10,
   "id": "stopped-carroll",
   "metadata": {},
   "outputs": [
    {
     "name": "stdout",
     "output_type": "stream",
     "text": [
      "{'date': '18_10_2021', 'scene': 'YMaze_LNovel', 'session': 1, 'scan': 2, 'novel_arm': 1, 'ravel_ind': 0}\n"
     ]
    }
   ],
   "source": [
    "mouse = 'Cre9'\n",
    "\n",
    "file_list = stx.ymaze_sess_deets.KO_sessions[mouse][:1]\n",
    "for f in file_list:\n",
    "    print(f)"
   ]
  },
  {
   "cell_type": "code",
   "execution_count": 3,
   "id": "gorgeous-columbus",
   "metadata": {},
   "outputs": [],
   "source": [
    "mouse = 'Cre7'\n",
    "file_list = [{'date': \"28_10_2021\",'scene': 'YMaze_LNovel', 'session': 2, 'scan': 2, 'novel_arm': -1,'region': 'DG'},\n",
    "                 {'date': \"28_10_2021\",'scene': 'YMaze_LNovel', 'session': 3, 'scan': 4, 'novel_arm': -1,'region': 'DG'},]\n",
    "     "
   ]
  },
  {
   "cell_type": "code",
   "execution_count": 4,
   "id": "forced-horizontal",
   "metadata": {},
   "outputs": [
    {
     "name": "stdout",
     "output_type": "stream",
     "text": [
      "{'date': '28_10_2021', 'scene': 'YMaze_LNovel', 'session': 2, 'scan': 2, 'novel_arm': -1, 'region': 'DG'}\n",
      "Fixing teleports\n",
      "(51544,) (10506,)\n",
      "677.5168765743074 677.4005037783376\n",
      "/mnt/BigDisk/2P_scratch/Cre7/28_10_2021/YMaze_LNovel/YMaze_LNovel_002_002/suite2p\n",
      "179 4907\n"
     ]
    },
    {
     "name": "stderr",
     "output_type": "stream",
     "text": [
      "/home/mplitt/repos/TwoPUtils/TwoPUtils/preprocessing.py:233: UserWarning: Number of teleports and trial starts don't match\n",
      "  warnings.warn(\"Number of teleports and trial starts don't match\")\n",
      "/home/mplitt/repos/TwoPUtils/TwoPUtils/preprocessing.py:239: UserWarning: One more trial start than teleport, assuming the final teleport got chopped\n",
      "  warnings.warn(('One more trial start than teleport, assuming the final teleport got chopped'))\n"
     ]
    },
    {
     "name": "stdout",
     "output_type": "stream",
     "text": [
      "5841 10505\n",
      "perm 0\n",
      "perm 100\n",
      "perm 200\n",
      "perm 300\n",
      "perm 400\n",
      "perm 500\n",
      "perm 600\n",
      "perm 700\n",
      "perm 800\n",
      "perm 900\n",
      "perm 0\n",
      "perm 100\n",
      "perm 200\n",
      "perm 300\n",
      "perm 400\n",
      "perm 500\n",
      "perm 600\n",
      "perm 700\n",
      "perm 800\n",
      "perm 900\n",
      "{'date': '28_10_2021', 'scene': 'YMaze_LNovel', 'session': 3, 'scan': 4, 'novel_arm': -1, 'region': 'DG'}\n",
      "Fixing teleports\n",
      "(127726,) (27066,)\n",
      "1745.3361460957178 1745.249370277078\n",
      "/mnt/BigDisk/2P_scratch/Cre7/28_10_2021/YMaze_LNovel/YMaze_LNovel_003_004/suite2p\n"
     ]
    },
    {
     "name": "stderr",
     "output_type": "stream",
     "text": [
      "/home/mplitt/repos/TwoPUtils/TwoPUtils/preprocessing.py:233: UserWarning: Number of teleports and trial starts don't match\n",
      "  warnings.warn(\"Number of teleports and trial starts don't match\")\n",
      "/home/mplitt/repos/TwoPUtils/TwoPUtils/preprocessing.py:239: UserWarning: One more trial start than teleport, assuming the final teleport got chopped\n",
      "  warnings.warn(('One more trial start than teleport, assuming the final teleport got chopped'))\n"
     ]
    },
    {
     "name": "stdout",
     "output_type": "stream",
     "text": [
      "173 4966\n",
      "5911 10606\n",
      "11545 16573\n",
      "17516 27065\n",
      "perm 0\n",
      "perm 100\n",
      "perm 200\n",
      "perm 300\n",
      "perm 400\n",
      "perm 500\n",
      "perm 600\n",
      "perm 700\n",
      "perm 800\n",
      "perm 900\n",
      "perm 0\n",
      "perm 100\n",
      "perm 200\n",
      "perm 300\n",
      "perm 400\n",
      "perm 500\n",
      "perm 600\n",
      "perm 700\n",
      "perm 800\n",
      "perm 900\n"
     ]
    }
   ],
   "source": [
    "for f in file_list:\n",
    "    print(f)\n",
    "    if isinstance(f,tuple):\n",
    "        for _f in f:\n",
    "            f_ = update_sess_dict(mouse,_f)\n",
    "            _ = run_and_save(f_)\n",
    "    else:\n",
    "        f_ = update_sess_dict(mouse,f) \n",
    "        _ = run_and_save(f_)"
   ]
  },
  {
   "cell_type": "code",
   "execution_count": 5,
   "id": "piano-vancouver",
   "metadata": {},
   "outputs": [],
   "source": [
    "def single_mouse_aligner(mouse, sessions):\n",
    "    sess_dir = os.path.join('/home/mplitt/YMazeSessPkls',mouse)\n",
    "    sess_list = []\n",
    "    for sess_deets in sessions:     \n",
    "        if isinstance(sess_deets,(list,tuple)):\n",
    "            for _sess_deets in sess_deets:\n",
    "                with open(os.path.join(sess_dir,_sess_deets['date'],\"%s_%d.pkl\" % (_sess_deets['scene'], _sess_deets['session'])),'rb') as file:\n",
    "                    sess_list.append(dill.load(file))\n",
    "        else:\n",
    "            with open(os.path.join(sess_dir,sess_deets['date'],\"%s_%d.pkl\" % (sess_deets['scene'], sess_deets['session'])),'rb') as file:\n",
    "                    sess_list.append(dill.load(file))\n",
    "\n",
    "    sa = tpu.roi_matching.ROIAligner(sess_list)\n",
    "    sa.run_pairwise_matches()\n",
    "\n",
    "    with open(os.path.join(sess_dir,'roi_aligner_results.pkl'), 'wb') as file:\n",
    "        dill.dump(sa.match_inds,file)"
   ]
  },
  {
   "cell_type": "code",
   "execution_count": 6,
   "id": "helpful-thursday",
   "metadata": {},
   "outputs": [
    {
     "name": "stdout",
     "output_type": "stream",
     "text": [
      "thresh 0.10794269090890884\n",
      "thresh 0.16789856350421906\n"
     ]
    }
   ],
   "source": [
    "mouse = 'Cre7'\n",
    "file_list = [{'date': \"28_10_2021\",'scene': 'YMaze_LNovel', 'session': 2, 'scan': 2, 'novel_arm': -1,'region': 'DG'},\n",
    "                 {'date': \"28_10_2021\",'scene': 'YMaze_LNovel', 'session': 3, 'scan': 4, 'novel_arm': -1,'region': 'DG'},]\n",
    "sess_dir = os.path.join('/home/mplitt/YMazeSessPkls',mouse)\n",
    "sess_list = []\n",
    "for sess_deets in file_list:\n",
    "    with open(os.path.join(sess_dir,sess_deets['date'],\"%s_%d.pkl\" % (sess_deets['scene'], sess_deets['session'])),'rb') as file:\n",
    "                    sess_list.append(dill.load(file))\n",
    "\n",
    "    sa = tpu.roi_matching.ROIAligner(sess_list)\n",
    "    sa.run_pairwise_matches()\n",
    "    \n",
    "with open(os.path.join(sess_dir,'DG_roi_aligner_results.pkl'), 'wb') as file:\n",
    "        dill.dump(sa.match_inds,file)"
   ]
  },
  {
   "cell_type": "code",
   "execution_count": 14,
   "id": "resistant-graham",
   "metadata": {},
   "outputs": [
    {
     "name": "stdout",
     "output_type": "stream",
     "text": [
      "thresh 0.40274227952957153\n",
      "thresh 0.2854863831996918\n",
      "thresh 0.3713005909919739\n",
      "thresh 0.3579388687610626\n",
      "thresh 0.35005508160591126\n",
      "thresh 0.37409175729751587\n",
      "thresh 0.35477585887908936\n",
      "thresh 0.2854708561897278\n",
      "thresh 0.36435358023643494\n",
      "thresh 0.35011006689071655\n",
      "thresh 0.36153040623664856\n",
      "thresh 0.3922547826766968\n",
      "thresh 0.2938355038166046\n",
      "thresh 0.34780765867233276\n",
      "thresh 0.34583247995376587\n",
      "thresh 0.3667519519329071\n",
      "thresh 0.3926524052619934\n",
      "thresh 0.3494143912792206\n",
      "thresh 0.36749712920188904\n",
      "thresh 0.3391042778491974\n",
      "thresh 0.32510532236099243\n",
      "thresh 0.37090612745285034\n",
      "thresh 0.39074979519844055\n",
      "thresh 0.3581469187736511\n",
      "thresh 0.3645154664516449\n",
      "thresh 0.30715168809890747\n",
      "thresh 0.3230139443874359\n",
      "thresh 0.3495540449619293\n",
      "thresh 0.33746807074546814\n",
      "thresh 0.31304792857170105\n"
     ]
    }
   ],
   "source": [
    "mouse = 'Cre7'\n",
    "sessions = stx.ymaze_sess_deets.KO_sessions[mouse][:6] # excluding reversals\n",
    "single_mouse_aligner(mouse,sessions)"
   ]
  },
  {
   "cell_type": "code",
   "execution_count": null,
   "id": "charming-journalism",
   "metadata": {},
   "outputs": [],
   "source": []
  }
 ],
 "metadata": {
  "kernelspec": {
   "display_name": "Python 3",
   "language": "python",
   "name": "python3"
  },
  "language_info": {
   "codemirror_mode": {
    "name": "ipython",
    "version": 3
   },
   "file_extension": ".py",
   "mimetype": "text/x-python",
   "name": "python",
   "nbconvert_exporter": "python",
   "pygments_lexer": "ipython3",
   "version": "3.8.8"
  }
 },
 "nbformat": 4,
 "nbformat_minor": 5
}
