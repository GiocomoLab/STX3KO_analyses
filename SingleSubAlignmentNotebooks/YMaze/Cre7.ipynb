{
 "cells": [
  {
   "cell_type": "code",
   "execution_count": 1,
   "id": "treated-employer",
   "metadata": {},
   "outputs": [
    {
     "name": "stderr",
     "output_type": "stream",
     "text": [
      "/home/mplitt/anaconda3/envs/STX3_test/lib/python3.8/site-packages/outdated/utils.py:14: OutdatedPackageWarning: The package pingouin is out of date. Your version is 0.4.0, the latest is 0.5.0.\n",
      "Set the environment variable OUTDATED_IGNORE=1 to disable these warnings.\n",
      "  return warn(\n"
     ]
    }
   ],
   "source": [
    "import numpy as np\n",
    "import scipy as sp\n",
    "import suite2p as s2p\n",
    "import dill\n",
    "\n",
    "import TwoPUtils as tpu\n",
    "import STX3KO_analyses as stx\n",
    "import os\n",
    "from matplotlib import pyplot as plt\n",
    "\n",
    "\n",
    "%matplotlib inline\n",
    "\n",
    "%load_ext autoreload\n",
    "%autoreload 2"
   ]
  },
  {
   "cell_type": "code",
   "execution_count": 2,
   "id": "italian-garden",
   "metadata": {},
   "outputs": [
    {
     "name": "stdout",
     "output_type": "stream",
     "text": [
      "{'date': '18_10_2021', 'scene': 'YMaze_LNovel', 'session': 1, 'scan': 3, 'novel_arm': 1, 'ravel_ind': 0}\n",
      "{'date': '19_10_2021', 'scene': 'YMaze_LNovel', 'session': 1, 'scan': 2, 'novel_arm': 1, 'ravel_ind': 1}\n",
      "{'date': '20_10_2021', 'scene': 'YMaze_LNovel', 'session': 1, 'scan': 1, 'novel_arm': 1, 'ravel_ind': 2}\n",
      "{'date': '21_10_2021', 'scene': 'YMaze_LNovel', 'session': 1, 'scan': 2, 'novel_arm': 1, 'ravel_ind': 3}\n",
      "{'date': '22_10_2021', 'scene': 'YMaze_LNovel', 'session': 1, 'scan': 3, 'novel_arm': 1, 'ravel_ind': 4}\n",
      "{'date': '23_10_2021', 'scene': 'YMaze_LNovel', 'session': 1, 'scan': 2, 'novel_arm': 1, 'ravel_ind': 5}\n",
      "({'date': '24_10_2021', 'scene': 'YMaze_LNovel', 'session': 1, 'scan': 2, 'novel_arm': 1, 'ravel_ind': 6}, {'date': '24_10_2021', 'scene': 'YMaze_RewardReversal', 'session': 2, 'scan': 6, 'novel_arm': 1, 'ravel_ind': 7})\n",
      "{'date': '25_10_2021', 'scene': 'YMaze_RewardReversal', 'session': 1, 'scan': 3, 'novel_arm': 1, 'ravel_ind': 8}\n",
      "({'date': '26_10_2021', 'scene': 'YMaze_RewardReversal', 'session': 1, 'scan': 2, 'novel_arm': 1, 'ravel_ind': 9}, {'date': '26_10_2021', 'scene': 'YMaze_LNovel', 'session': 1, 'scan': 4, 'novel_arm': 1, 'ravel_ind': 10})\n"
     ]
    }
   ],
   "source": [
    "write_folder = os.path.join('/mnt','BigDisk','2P_scratch')\n",
    "\n",
    "\n",
    "mouse = 'Cre7'\n",
    "\n",
    "file_list = stx.ymaze_sess_deets.KO_sessions[mouse]\n",
    "for f in file_list:\n",
    "    print(f)"
   ]
  },
  {
   "cell_type": "code",
   "execution_count": 3,
   "id": "middle-cutting",
   "metadata": {},
   "outputs": [],
   "source": [
    "def check_and_make_h5s(file_list, runh5=True):\n",
    "    h5list, framerates = [], []\n",
    "    for f in file_list:\n",
    "        print(f)\n",
    "        scan_str = \"%s_%03d_%03d\" % (f['scene'],f['session'],f['scan'])\n",
    "        source_folder  = os.path.join('/mnt','BigDisk','2P_scratch')\n",
    "        source_stem = os.path.join(source_folder,mouse,f['date'],f['scene'],scan_str)\n",
    "        info = tpu.scanner_tools.sbx_utils.loadmat(source_stem+'.mat')\n",
    "        \n",
    "        file_stem = os.path.join(write_folder,mouse,f['date'],f['scene'],scan_str)\n",
    "        h5path = os.path.join(file_stem,scan_str+\".h5\")\n",
    "        if not os.path.exists(h5path) and runh5:\n",
    "            _ =  tpu.scanner_tools.sbx_utils.sbx2h5(source_stem,output_name=h5path,force_2chan=False)\n",
    "\n",
    "        h5list.append(file_stem)\n",
    "        framerates.append(info['frame_rate'])\n",
    "    print(h5list)\n",
    "    return h5list, framerates"
   ]
  },
  {
   "cell_type": "code",
   "execution_count": null,
   "id": "mature-child",
   "metadata": {},
   "outputs": [
    {
     "name": "stdout",
     "output_type": "stream",
     "text": [
      "{'date': '18_10_2021', 'scene': 'YMaze_LNovel', 'session': 1, 'scan': 3, 'novel_arm': 1, 'ravel_ind': 0}\n",
      "0 1000\n",
      "1000 2000\n",
      "2000 3000\n",
      "3000 4000\n",
      "4000 5000\n",
      "5000 6000\n",
      "6000 7000\n",
      "7000 8000\n",
      "8000 9000\n",
      "9000 10000\n",
      "10000 11000\n",
      "11000 12000\n",
      "12000 13000\n"
     ]
    }
   ],
   "source": [
    "def run_session(fdict):\n",
    "    _h5list,_frs = check_and_make_h5s([fdict,],runh5=True)\n",
    "    ops_dir = os.path.join(_h5list[0],'suite2p','plane0','ops.npy')\n",
    "    s2p_dir = os.path.join(_h5list[0],'suite2p','plane0')\n",
    "\n",
    "    ops = tpu.s2p.set_ops(d={'data_path': _h5list,\n",
    "                                   'save_path0': _h5list[0],\n",
    "                                    'fast_disk':[],\n",
    "                                    'move_bin':True,\n",
    "                                    'two_step_registration':True,\n",
    "                                    'maxregshiftNR':10,\n",
    "                                    'tau':.7,\n",
    "                                    'functional_chan':1,\n",
    "                                    'fs':_frs[0],\n",
    "                                    'roidetect':True,\n",
    "                                    'input_format':\"h5\",\n",
    "                                    'h5py_key':'data',\n",
    "                                    'nchannels':2,\n",
    "                                    'threshold_scaling':1,\n",
    "                                    'chan2_thresh':.01})\n",
    "    ops=s2p.run_s2p(ops=ops)\n",
    "    !rm {_h5list[0]}/*.h5 \n",
    "\n",
    "\n",
    "for f in file_list: #file_list:\n",
    "    \n",
    "    if isinstance(f,tuple):\n",
    "        for _f in f:\n",
    "            run_session(_f)\n",
    "    else:\n",
    "        run_session(f)"
   ]
  },
  {
   "cell_type": "code",
   "execution_count": null,
   "id": "consecutive-oracle",
   "metadata": {},
   "outputs": [],
   "source": []
  }
 ],
 "metadata": {
  "kernelspec": {
   "display_name": "Python 3",
   "language": "python",
   "name": "python3"
  },
  "language_info": {
   "codemirror_mode": {
    "name": "ipython",
    "version": 3
   },
   "file_extension": ".py",
   "mimetype": "text/x-python",
   "name": "python",
   "nbconvert_exporter": "python",
   "pygments_lexer": "ipython3",
   "version": "3.8.8"
  }
 },
 "nbformat": 4,
 "nbformat_minor": 5
}
