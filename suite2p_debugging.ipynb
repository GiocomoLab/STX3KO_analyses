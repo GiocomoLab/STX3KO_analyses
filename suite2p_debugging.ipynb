{
 "cells": [
  {
   "cell_type": "code",
   "execution_count": 1,
   "metadata": {},
   "outputs": [],
   "source": [
    "import sys\n",
    "import os \n",
    "import numpy as np\n",
    "import scipy as sp\n",
    "import matplotlib.pyplot as plt\n",
    "sys.path.append(\"C:\\\\Users\\\\markp\\\\repos\\\\suite2p_processing\")\n",
    "import s2p_preprocessing as s2p_pp\n",
    "import suite2p as s2p\n",
    "from glob import glob\n",
    "\n",
    "\n",
    "\n",
    "\n",
    "%matplotlib inline\n",
    "%load_ext autoreload\n",
    "%autoreload 2"
   ]
  },
  {
   "cell_type": "code",
   "execution_count": 2,
   "metadata": {},
   "outputs": [],
   "source": [
    "mouse = '4343705.1'\n",
    "datadir = os.path.join(\"G:\\\\My Drive\\\\2p_Data\\\\Syt3KO\\\\\",mouse,\"baseline\")"
   ]
  },
  {
   "cell_type": "code",
   "execution_count": 3,
   "metadata": {},
   "outputs": [],
   "source": [
    "matfiles = glob(os.path.join(datadir,'*.mat'))"
   ]
  },
  {
   "cell_type": "code",
   "execution_count": 4,
   "metadata": {},
   "outputs": [
    {
     "name": "stdout",
     "output_type": "stream",
     "text": [
      "['G:\\\\My Drive\\\\2p_Data\\\\Syt3KO\\\\4343705.1\\\\baseline\\\\baseline_000_007.mat', 'G:\\\\My Drive\\\\2p_Data\\\\Syt3KO\\\\4343705.1\\\\baseline\\\\baseline_000_006.mat', 'G:\\\\My Drive\\\\2p_Data\\\\Syt3KO\\\\4343705.1\\\\baseline\\\\baseline_000_005.mat']\n"
     ]
    }
   ],
   "source": [
    "print(matfiles)"
   ]
  },
  {
   "cell_type": "code",
   "execution_count": 5,
   "metadata": {},
   "outputs": [],
   "source": [
    "info = s2p_pp.loadmat(matfiles[0])"
   ]
  },
  {
   "cell_type": "code",
   "execution_count": 6,
   "metadata": {},
   "outputs": [
    {
     "name": "stdout",
     "output_type": "stream",
     "text": [
      "resfreq 7916\n",
      "postTriggerSamples 9000\n",
      "recordsPerBuffer 256\n",
      "bytesPerBuffer 9216000\n",
      "channels 1\n",
      "ballmotion []\n",
      "abort_bit 0\n",
      "scanbox_version 2\n",
      "scanmode 0\n",
      "config {'wavelength': 920, 'frames': 7000, 'lines': 512, 'magnification': 1, 'magnification_list': array(['1.0', '1.2', '1.4', '1.7', '2.0', '2.4', '2.8', '3.4', '4.0',\n",
      "       '4.8', '5.7', '6.7', '8.0'], dtype='<U3'), 'pmt0_gain': 0.78, 'pmt1_gain': 0.79, 'knobby': {'pos': {'x': 313.92, 'y': 35.99, 'z': -1058.43, 'a': 10}, 'schedule': array([[  0,   0,  10,   0,  30],\n",
      "       [  0,   0,  10,   0,  60],\n",
      "       [  0,   0,  10,   0,  90],\n",
      "       [  0,   0,  10,   0, 120],\n",
      "       [  0,   0,  10,   0, 150],\n",
      "       [  0,   0,  10,   0, 180]], dtype=uint8)}}\n",
      "sz [512 796]\n",
      "otwave [ 376  390  405  419  433  447  461  474  488  501  514  527  541  554\n",
      "  566  579  592  605  617  630  642  654  666  678  690  702  714  725\n",
      "  737  748  760  771  782  794  805  827  838  849  860  870  881  892\n",
      "  903  913  924  934  944  955  965  975  986  996 1006 1016 1026 1036\n",
      " 1045 1055 1065 1075 1084 1094 1103 1113 1122 1132 1141 1151 1160 1169]\n",
      "otwave_um [22 23 24 25 26 27 28 29 30 31 32 33 34 35 36 37 38 39 40 41 42 43 44 45\n",
      " 46 47 48 49 50 51 52 53 54 55 56 58 59 60 61 62 63 64 65 66 67 68 69 70\n",
      " 71 72 73 74 75 76 77 78 79 80 81 82 83 84 85 86 87 88 89 90 91 92]\n",
      "otparam [22 92 70]\n",
      "otwavestyle 2\n",
      "volscan 0\n",
      "power_depth_link 0\n",
      "opto2pow []\n",
      "area_line 1\n",
      "calibration [<scipy.io.matlab.mio5_params.mat_struct object at 0x0000017F112AD6C8>\n",
      " <scipy.io.matlab.mio5_params.mat_struct object at 0x0000017F112AD688>\n",
      " <scipy.io.matlab.mio5_params.mat_struct object at 0x0000017F112AD7C8>\n",
      " <scipy.io.matlab.mio5_params.mat_struct object at 0x0000017F112AD588>\n",
      " <scipy.io.matlab.mio5_params.mat_struct object at 0x0000017F112ADE48>\n",
      " <scipy.io.matlab.mio5_params.mat_struct object at 0x0000017F112AD5C8>\n",
      " <scipy.io.matlab.mio5_params.mat_struct object at 0x0000017F112AD408>\n",
      " <scipy.io.matlab.mio5_params.mat_struct object at 0x0000017F112AD708>\n",
      " <scipy.io.matlab.mio5_params.mat_struct object at 0x0000017F112AD2C8>\n",
      " <scipy.io.matlab.mio5_params.mat_struct object at 0x0000017F112ADE88>\n",
      " <scipy.io.matlab.mio5_params.mat_struct object at 0x0000017F112AD648>\n",
      " <scipy.io.matlab.mio5_params.mat_struct object at 0x0000017F112AD1C8>\n",
      " <scipy.io.matlab.mio5_params.mat_struct object at 0x0000017F112AD308>]\n",
      "objective Nikon 16x/0.8w/WD3.0\n",
      "messages []\n",
      "usernotes []\n",
      "nChan 2\n",
      "max_idx 13999\n",
      "frame_rate 30.921875\n"
     ]
    }
   ],
   "source": [
    "\n",
    "for k,v in info.items():\n",
    "    print(k,v)"
   ]
  },
  {
   "cell_type": "code",
   "execution_count": 7,
   "metadata": {},
   "outputs": [],
   "source": [
    "ops = s2p_pp.set_ops(d={'nplanes':70,'fast_disk':[],'fs':info['frame_rate']/info['otparam'][-1],'roidetect':False})"
   ]
  },
  {
   "cell_type": "code",
   "execution_count": null,
   "metadata": {},
   "outputs": [
    {
     "name": "stdout",
     "output_type": "stream",
     "text": [
      "0\n",
      "0\n",
      "0 10\n",
      "10\n",
      "8151040\n",
      "10 20\n",
      "20\n",
      "16302080\n",
      "20 30\n",
      "30\n",
      "24453120\n",
      "30 40\n",
      "40\n",
      "32604160\n",
      "40 50\n",
      "50\n",
      "40755200\n",
      "50 60\n",
      "60\n",
      "48906240\n",
      "60 70\n",
      "70\n",
      "57057280\n",
      "70 80\n",
      "80\n",
      "65208320\n",
      "80 90\n",
      "90\n",
      "73359360\n",
      "90 100\n",
      "100\n",
      "81510400\n",
      "100 110\n",
      "110\n",
      "89661440\n",
      "110 120\n",
      "120\n",
      "97812480\n",
      "120 130\n",
      "130\n",
      "105963520\n",
      "130 140\n",
      "140\n",
      "114114560\n",
      "140 150\n",
      "150\n",
      "122265600\n",
      "150 160\n",
      "160\n",
      "130416640\n",
      "160 170\n",
      "170\n",
      "138567680\n",
      "170 180\n",
      "180\n",
      "146718720\n"
     ]
    }
   ],
   "source": [
    "h5fname = s2p_pp.sbx2h5(matfiles[0][:-4],channel_i=0,batch_size=10)"
   ]
  },
  {
   "cell_type": "code",
   "execution_count": null,
   "metadata": {},
   "outputs": [
    {
     "name": "stdout",
     "output_type": "stream",
     "text": [
      "0\n"
     ]
    }
   ],
   "source": [
    "data = s2p_pp.sbxread(matfiles[0][:-4],0,100)"
   ]
  },
  {
   "cell_type": "code",
   "execution_count": null,
   "metadata": {},
   "outputs": [],
   "source": [
    "print(data.shape)"
   ]
  },
  {
   "cell_type": "code",
   "execution_count": null,
   "metadata": {},
   "outputs": [],
   "source": []
  }
 ],
 "metadata": {
  "kernelspec": {
   "display_name": "Python 3",
   "language": "python",
   "name": "python3"
  },
  "language_info": {
   "codemirror_mode": {
    "name": "ipython",
    "version": 3
   },
   "file_extension": ".py",
   "mimetype": "text/x-python",
   "name": "python",
   "nbconvert_exporter": "python",
   "pygments_lexer": "ipython3",
   "version": "3.7.6"
  }
 },
 "nbformat": 4,
 "nbformat_minor": 4
}
